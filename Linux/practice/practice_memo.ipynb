{
 "cells": [
  {
   "cell_type": "markdown",
   "metadata": {},
   "source": [
    "# Linuxの操作をもっと練習する\n",
    "まっさらな状態でワンライナーやシェルスクリプトをがりがりかける状態を目指す。"
   ]
  },
  {
   "cell_type": "markdown",
   "metadata": {},
   "source": [
    "## 連番で空ファイルを作成する\n",
    "```\n",
    "for i in $(seq 3); do touch file_$i.txt ;done\n",
    "```"
   ]
  },
  {
   "cell_type": "markdown",
   "metadata": {},
   "source": [
    "## ディレクトリのみ表示する\n",
    "```\n",
    "ls -d */\n",
    "```"
   ]
  },
  {
   "cell_type": "code",
   "execution_count": 4,
   "metadata": {},
   "outputs": [
    {
     "name": "stdout",
     "output_type": "stream",
     "text": [
      "AA101  AA102  AA201  file_1.txt  file_2.txt  file_3.txt  practice_memo.ipynb\n"
     ]
    }
   ],
   "source": [
    "! ls"
   ]
  },
  {
   "cell_type": "code",
   "execution_count": 3,
   "metadata": {},
   "outputs": [
    {
     "name": "stdout",
     "output_type": "stream",
     "text": [
      "AA101/\tAA102/\tAA201/\n"
     ]
    }
   ],
   "source": [
    "! ls -d */"
   ]
  },
  {
   "cell_type": "markdown",
   "metadata": {},
   "source": [
    "## カレントディレクトリのディレクトリに空ファイルを作成する"
   ]
  },
  {
   "cell_type": "code",
   "execution_count": 5,
   "metadata": {},
   "outputs": [
    {
     "name": "stdout",
     "output_type": "stream",
     "text": [
      "#!/bin/sh\n",
      "\n",
      "dir_list=$(ls -d */ | cut -c 1-5)\n",
      "\n",
      "for dir in $dir_list;\n",
      "do\n",
      "\tfor i in $(seq 3);\n",
      "\tdo\n",
      "\t\ttouch ./$dir/file_$i.txt;\n",
      "\tdone;\n",
      "done;\n",
      "\n"
     ]
    }
   ],
   "source": [
    "! cat touch_file.sh"
   ]
  }
 ],
 "metadata": {
  "kernelspec": {
   "display_name": "Python 3",
   "language": "python",
   "name": "python3"
  },
  "language_info": {
   "codemirror_mode": {
    "name": "ipython",
    "version": 3
   },
   "file_extension": ".py",
   "mimetype": "text/x-python",
   "name": "python",
   "nbconvert_exporter": "python",
   "pygments_lexer": "ipython3",
   "version": "3.11.6"
  }
 },
 "nbformat": 4,
 "nbformat_minor": 2
}
