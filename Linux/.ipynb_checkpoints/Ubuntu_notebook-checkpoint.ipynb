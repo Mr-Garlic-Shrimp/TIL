{
 "cells": [
  {
   "cell_type": "markdown",
   "id": "5276db4c-a60b-4cdd-8f06-b2d2e84ac82f",
   "metadata": {},
   "source": [
    "# Ubuntu関係のメモ"
   ]
  },
  {
   "cell_type": "markdown",
   "id": "611e26e6-f86c-4e53-9e9c-bac0c6d195cc",
   "metadata": {},
   "source": [
    "## ○LVM を空き容量いっぱいまで拡張する\n",
    "下記参照：  \n",
    "https://www.ytyng.com/blog/lvm-partition-extend-full-remain-volume/"
   ]
  },
  {
   "cell_type": "markdown",
   "id": "63609b52-1944-4f41-b8d4-42e42368d8b1",
   "metadata": {},
   "source": [
    "## ○ bashのプロンプトのパス部分が長くなり過ぎて邪魔な時の対処法\n",
    "→.bashrcの変数PS1をいじる。  \n",
    "\n",
    "Ubuntu 22.04 LTSのデフォルトだと恐らく下記のようになっている。  \n",
    "```\n",
    "if [ \"$color_prompt\" = yes ]; then\n",
    "    PS1='${debian_chroot:+($debian_chroot)}\\[\\033[01;32m\\]\\u@\\h\\[\\033[00m\\]:\\[\\033[01;34m\\]\\w\\[\\033[00m\\]\\$ '\n",
    "else\n",
    "    PS1='${debian_chroot:+($debian_chroot)}\\u@\\h:\\w\\$ '\n",
    "fi\n",
    "```\n",
    "長くなるのは「:」以降の部分（\\wとかあるとこ。）なので、ここを削除する。＄マークは消さなくてもよい。  \n",
    "```\n",
    "if [ \"$color_prompt\" = yes ]; then\n",
    "    PS1='${debian_chroot:+($debian_chroot)}\\[\\033[01;32m\\]\\u@\\h\\[\\033[00m\\]\\$ '\n",
    "else\n",
    "    PS1='${debian_chroot:+($debian_chroot)}\\u@\\h:\\$ '\n",
    "fi\n",
    "```\n",
    "これでOK.  \n",
    "\n",
    "参考：https://www.softel.co.jp/blogs/tech/archives/2659\n"
   ]
  },
  {
   "cell_type": "code",
   "execution_count": null,
   "id": "b9675347-b008-48eb-8a16-9d917002ad2e",
   "metadata": {},
   "outputs": [],
   "source": []
  }
 ],
 "metadata": {
  "kernelspec": {
   "display_name": "Python 3 (ipykernel)",
   "language": "python",
   "name": "python3"
  },
  "language_info": {
   "codemirror_mode": {
    "name": "ipython",
    "version": 3
   },
   "file_extension": ".py",
   "mimetype": "text/x-python",
   "name": "python",
   "nbconvert_exporter": "python",
   "pygments_lexer": "ipython3",
   "version": "3.9.12"
  }
 },
 "nbformat": 4,
 "nbformat_minor": 5
}
