{
 "cells": [
  {
   "cell_type": "markdown",
   "metadata": {},
   "source": [
    "# Linuxの操作メモ\n",
    "忘れがちだけど時たま使う操作や苦手な操作をメモしておく。"
   ]
  },
  {
   "cell_type": "markdown",
   "metadata": {},
   "source": [
    "## 任意のディレクトリ配下の容量を表示\n",
    "duコマンドに-hオプションをつけることでSI単位で容量を表示する。\n",
    "\n",
    "```\n",
    " du -h 容量を調べたいディレクトリ\n",
    "```"
   ]
  },
  {
   "cell_type": "markdown",
   "metadata": {},
   "source": [
    "## 任意のディレクトリ配下のうち、大きいサイズのディレクトリを調べる\n",
    "sort -rnは-n:numericに比較、-r: 降順に並べるの意味。\n",
    "\n",
    "```\n",
    "du . | sort -rn | head -10\n",
    "```"
   ]
  },
  {
   "cell_type": "markdown",
   "metadata": {},
   "source": [
    "## 連番で空ファイルを作成する\n",
    "```\n",
    "for i in $(seq 3); do touch file_$i.txt ;done\n",
    "```"
   ]
  },
  {
   "cell_type": "markdown",
   "metadata": {},
   "source": [
    "## ディレクトリのみ表示する\n",
    "```\n",
    "ls -d */\n",
    "```"
   ]
  },
  {
   "cell_type": "code",
   "execution_count": 4,
   "metadata": {},
   "outputs": [
    {
     "name": "stdout",
     "output_type": "stream",
     "text": [
      "AA101  AA102  AA201  file_1.txt  file_2.txt  file_3.txt  practice_memo.ipynb\n"
     ]
    }
   ],
   "source": [
    "! ls"
   ]
  },
  {
   "cell_type": "code",
   "execution_count": 1,
   "metadata": {},
   "outputs": [
    {
     "name": "stdout",
     "output_type": "stream",
     "text": [
      "AA101/\tAA102/\tAA201/\n"
     ]
    }
   ],
   "source": [
    "! ls -d */"
   ]
  },
  {
   "cell_type": "markdown",
   "metadata": {},
   "source": [
    "## カレントディレクトリの全ディレクトリに空ファイルを作成する"
   ]
  },
  {
   "cell_type": "code",
   "execution_count": 5,
   "metadata": {},
   "outputs": [
    {
     "name": "stdout",
     "output_type": "stream",
     "text": [
      "#!/bin/sh\n",
      "\n",
      "dir_list=$(ls -d */ | cut -c 1-5)\n",
      "\n",
      "for dir in $dir_list;\n",
      "do\n",
      "\tfor i in $(seq 3);\n",
      "\tdo\n",
      "\t\ttouch ./$dir/file_$i.txt;\n",
      "\tdone;\n",
      "done;\n",
      "\n"
     ]
    }
   ],
   "source": [
    "! cat touch_file.sh"
   ]
  },
  {
   "cell_type": "markdown",
   "metadata": {},
   "source": [
    "## ファイルを1行ずつ処理する"
   ]
  },
  {
   "cell_type": "markdown",
   "metadata": {},
   "source": [
    "1行ずつファイルの中身をechoで標準出力する例。\n",
    "```\n",
    " cat ファイル名 | while read line; do echo $line; done\n",
    "```"
   ]
  },
  {
   "cell_type": "markdown",
   "metadata": {},
   "source": [
    "## ファイルの1行目に任意の文字列を入れる"
   ]
  },
  {
   "cell_type": "markdown",
   "metadata": {},
   "source": [
    "下記のように書けば良い。  \n",
    "1iで1行目に追記するの意。2iとすれば２行目に挿入される。    \n",
    "\n",
    "```\n",
    "sed -i '1i 入れたい文字列' 対象ファイル名\n",
    "```"
   ]
  },
  {
   "cell_type": "markdown",
   "metadata": {},
   "source": [
    "## xargsで複数ファイルをまとめて操作"
   ]
  },
  {
   "cell_type": "markdown",
   "metadata": {},
   "source": [
    "### ・例1：カレントディレクトリにある拡張子が.txtのファイルをtempディレクトリへコピー  \n",
    "\n",
    "```\n",
    "ls *.txt | xargs -I{} cp {} temp\n",
    "```\n",
    "-I{}で{}の位置にパイプからの引数を入れるという操作になる。"
   ]
  },
  {
   "cell_type": "markdown",
   "metadata": {},
   "source": [
    "### ・例2： findの結果にヒットしたファイルを削除\n",
    "\n",
    "```\n",
    "find temp -regex \".*file_[12].*\" | xargs -I{} rm {}\n",
    "```\n",
    "上記ではtemp配下のfile_1.txtまたはfile_2.txtを削除している。"
   ]
  },
  {
   "cell_type": "markdown",
   "metadata": {},
   "source": [
    "### ・例3： 削除したいファイルのリストを読み込んで削除\n",
    "```\n",
    "cat rm_files_list.txt | xargs -I{} rm {}\n",
    "```"
   ]
  },
  {
   "cell_type": "markdown",
   "metadata": {},
   "source": [
    "### ※補足\n",
    "-pオプションをつけることで、ドライランで実際に実行されるコマンドを確認できる\n",
    "\n",
    "```\n",
    "find temp -regex \".*file_[12].*\" | xargs -I{} -p rm {}\n",
    "```"
   ]
  },
  {
   "cell_type": "markdown",
   "metadata": {},
   "source": [
    "## 2つのディレクトリを同期する\n",
    "rsyncを使うことで、ディレクトリ内の各ファイルのタイムスタンプ、サイズを比較して  \n",
    "変更があった分だけ同期できる。\n",
    "\n",
    "```\n",
    "rsync -av 同期元/ 同期先/\n",
    "```\n",
    "-aはサブディレクトリも含めて再帰的に処理するオプション。  \n",
    "パーミッションやファイルのタイムスタンプも保持される。  \n",
    "-vはverbose。同期元と同期先の最後に/をつけないと、  \n",
    "同期元のフォルダ自体と等しいか否かを判定してしまい、まるごと同期されてしまう。"
   ]
  },
  {
   "cell_type": "markdown",
   "metadata": {},
   "source": [
    "## 既にファイルがあったら処理をしない\n",
    "例として、ディレクトリのリストがあり、これらのディレクトリをtar -cvzfでアーカイブ化＆圧縮したいが、  \n",
    "既に処理済みのものは処理をスキップしたい場合を考える。  \n",
    "以下のようにif文でtarファイルの存在有無を確認すればよい。"
   ]
  },
  {
   "cell_type": "code",
   "execution_count": 9,
   "metadata": {},
   "outputs": [
    {
     "name": "stdout",
     "output_type": "stream",
     "text": [
      "#!/bin/bash\n",
      "\n",
      "target_dirs=$(ls -d */)\n",
      "\n",
      "for dir in $target_dirs;\n",
      "do\n",
      "\tbase_dir=$(basename $dir) \n",
      "\tif [ -e ${base_dir}.tar ]; then\n",
      "\t\techo \"${base_dir}.tar already exists. skip tar.\"\n",
      "\telse\n",
      "\t\ttar -czvf ${base_dir}.tar $dir\n",
      "\tfi\n",
      "done\n"
     ]
    }
   ],
   "source": [
    "! cat practice-2_Hanling_list_of_files/execute_tar.sh"
   ]
  },
  {
   "cell_type": "markdown",
   "metadata": {},
   "source": [
    "## プロセスを特定の論理CPU上で動かす\n",
    "下記を実行すると、<コマンド>引数で指定したコマンドを-c <論理CPU番号>引数で指定した  \n",
    "CPU上で実行できる。特定のコアにバインドしてプログラムを動かしたいときに使える。\n",
    "```\n",
    "taskset -c <論理CPU番号> <コマンド>\n",
    "```"
   ]
  },
  {
   "cell_type": "markdown",
   "metadata": {},
   "source": [
    "## コマンドをバックグランドで実行する\n",
    "&を末尾につけて実行すればよい。  \n",
    "任意のコマンドを実行しつつターミナルで作業したいときに使える。  \n",
    "```\n",
    "<コマンド> &\n",
    "```"
   ]
  },
  {
   "cell_type": "markdown",
   "metadata": {},
   "source": [
    "## プロセスが発行するシステムコールを確認\n",
    "プロセスがどんなシステムコールを発行するかはstraceコマンドで確認できる。\n",
    "```\n",
    "strace -o 出力先 プログラムのパス\n",
    "```\n",
    "straceの出力は１行１行が１システムコールに対応している。  \n",
    "また、-Tオプションをつけることで各システムコールにかかった時間、  \n",
    "-ttでシステムコールの発行時刻をマイクロ秒単位で確認可能。"
   ]
  },
  {
   "cell_type": "markdown",
   "metadata": {},
   "source": [
    "## システムに存在する全プロセスを列挙する\n",
    "```\n",
    "ps aux\n",
    "```\n",
    "※auxの意味：\n",
    "* a: 端末操作のプロセス(自分 + 他ユーザー)を表示する\n",
    "* u: 各プロセスの実行ユーザーやCPU, Mem(メモリ)等の情報も表示する\n",
    "* x: 端末操作のないプロセス(daemon等)も表示する\n",
    "\n",
    "さらに f をつけて実行するとプロセス間の親子関係をtreeの形で表示できる。"
   ]
  }
 ],
 "metadata": {
  "kernelspec": {
   "display_name": "Python 3",
   "language": "python",
   "name": "python3"
  },
  "language_info": {
   "codemirror_mode": {
    "name": "ipython",
    "version": 3
   },
   "file_extension": ".py",
   "mimetype": "text/x-python",
   "name": "python",
   "nbconvert_exporter": "python",
   "pygments_lexer": "ipython3",
   "version": "3.11.6"
  }
 },
 "nbformat": 4,
 "nbformat_minor": 2
}
