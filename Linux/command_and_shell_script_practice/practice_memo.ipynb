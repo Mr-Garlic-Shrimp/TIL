{
 "cells": [
  {
   "cell_type": "markdown",
   "metadata": {},
   "source": [
    "# Linuxの操作メモ\n",
    "忘れがちだけど時たま使う操作や苦手な操作をメモしておく。"
   ]
  },
  {
   "cell_type": "markdown",
   "metadata": {},
   "source": [
    "## 任意のディレクトリ配下の容量を表示\n",
    "duコマンドに-hオプションをつけることでSI単位で容量を表示する。\n",
    "\n",
    "```\n",
    " du -h 容量を調べたいディレクトリ\n",
    "```"
   ]
  },
  {
   "cell_type": "markdown",
   "metadata": {},
   "source": [
    "## 任意のディレクトリ配下のうち、大きいサイズのディレクトリを調べる\n",
    "sort -rnは-n:numericに比較、-r: 降順に並べるの意味。\n",
    "\n",
    "```\n",
    "du . | sort -rn | head -10\n",
    "```"
   ]
  },
  {
   "cell_type": "markdown",
   "metadata": {},
   "source": [
    "## 連番で空ファイルを作成する\n",
    "```\n",
    "for i in $(seq 3); do touch file_$i.txt ;done\n",
    "```"
   ]
  },
  {
   "cell_type": "markdown",
   "metadata": {},
   "source": [
    "## ディレクトリのみ表示する\n",
    "```\n",
    "ls -d */\n",
    "```"
   ]
  },
  {
   "cell_type": "code",
   "execution_count": 4,
   "metadata": {},
   "outputs": [
    {
     "name": "stdout",
     "output_type": "stream",
     "text": [
      "AA101  AA102  AA201  file_1.txt  file_2.txt  file_3.txt  practice_memo.ipynb\n"
     ]
    }
   ],
   "source": [
    "! ls"
   ]
  },
  {
   "cell_type": "code",
   "execution_count": 1,
   "metadata": {},
   "outputs": [
    {
     "name": "stdout",
     "output_type": "stream",
     "text": [
      "AA101/\tAA102/\tAA201/\n"
     ]
    }
   ],
   "source": [
    "! ls -d */"
   ]
  },
  {
   "cell_type": "markdown",
   "metadata": {},
   "source": [
    "## カレントディレクトリの全ディレクトリに空ファイルを作成する"
   ]
  },
  {
   "cell_type": "code",
   "execution_count": 5,
   "metadata": {},
   "outputs": [
    {
     "name": "stdout",
     "output_type": "stream",
     "text": [
      "#!/bin/sh\n",
      "\n",
      "dir_list=$(ls -d */ | cut -c 1-5)\n",
      "\n",
      "for dir in $dir_list;\n",
      "do\n",
      "\tfor i in $(seq 3);\n",
      "\tdo\n",
      "\t\ttouch ./$dir/file_$i.txt;\n",
      "\tdone;\n",
      "done;\n",
      "\n"
     ]
    }
   ],
   "source": [
    "! cat touch_file.sh"
   ]
  },
  {
   "cell_type": "markdown",
   "metadata": {},
   "source": [
    "## xargsで複数ファイルをまとめて操作"
   ]
  },
  {
   "cell_type": "markdown",
   "metadata": {},
   "source": [
    "### ・例1：カレントディレクトリにある拡張子が.txtのファイルをtempディレクトリへコピー  \n",
    "\n",
    "```\n",
    "ls *.txt | xargs -I{} cp {} temp\n",
    "```\n",
    "-I{}で{}の位置にパイプからの引数を入れるという操作になる。"
   ]
  },
  {
   "cell_type": "markdown",
   "metadata": {},
   "source": [
    "### ・例2： findの結果にヒットしたファイルを削除\n",
    "\n",
    "```\n",
    "find temp -regex \".*file_[12].*\" | xargs -I{} rm {}\n",
    "```\n",
    "上記ではtemp配下のfile_1.txtまたはfile_2.txtを削除している。"
   ]
  },
  {
   "cell_type": "markdown",
   "metadata": {},
   "source": [
    "### ※補足\n",
    "-pオプションをつけることで、ドライランで実際に実行されるコマンドを確認できる\n",
    "\n",
    "```\n",
    "find temp -regex \".*file_[12].*\" | xargs -I{} -p rm {}\n",
    "```"
   ]
  },
  {
   "cell_type": "markdown",
   "metadata": {},
   "source": [
    "## 2つのディレクトリを同期する\n",
    "rsyncを使うことで、ディレクトリ内の各ファイルのタイムスタンプ、サイズを比較して  \n",
    "変更があった分だけ同期できる。\n",
    "\n",
    "```\n",
    "rsync -av 同期元/ 同期先/\n",
    "```\n",
    "-aはサブディレクトリも含めて再帰的に処理するオプション。  \n",
    "パーミッションやファイルのタイムスタンプも保持される。  \n",
    "-vはverbose。同期元と同期先の最後に/をつけないと、  \n",
    "同期元のフォルダ自体と等しいか否かを判定してしまい、まるごと同期されてしまう。"
   ]
  }
 ],
 "metadata": {
  "kernelspec": {
   "display_name": "Python 3",
   "language": "python",
   "name": "python3"
  },
  "language_info": {
   "codemirror_mode": {
    "name": "ipython",
    "version": 3
   },
   "file_extension": ".py",
   "mimetype": "text/x-python",
   "name": "python",
   "nbconvert_exporter": "python",
   "pygments_lexer": "ipython3",
   "version": "3.11.6"
  }
 },
 "nbformat": 4,
 "nbformat_minor": 2
}
