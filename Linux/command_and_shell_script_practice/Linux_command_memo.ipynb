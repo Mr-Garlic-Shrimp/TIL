{
 "cells": [
  {
   "cell_type": "markdown",
   "metadata": {},
   "source": [
    "# <a id='toc1_'></a>[Linuxの操作メモ](#toc0_)\n",
    "忘れがちだけど時たま使う操作や苦手な操作をメモしておく。  \n",
    "\n",
    "参考：  \n",
    "* [1日1問、半年以内に習得　シェル・ワンライナー160本ノック](https://www.amazon.co.jp/gp/product/B09GTV35VJ/ref=ppx_yo_dt_b_d_asin_title_351_o00?ie=UTF8&psc=1)"
   ]
  },
  {
   "cell_type": "markdown",
   "metadata": {},
   "source": [
    "**Table of contents**<a id='toc0_'></a>    \n",
    "- [Linuxの操作メモ](#toc1_)    \n",
    "- [■ 基本](#toc2_)    \n",
    "  - [任意のディレクトリ配下の容量を表示](#toc2_1_)    \n",
    "  - [複数ディレクトリ配下の容量をサマライズして表示](#toc2_2_)    \n",
    "  - [任意のディレクトリ配下のうち、大きいサイズのディレクトリを調べる](#toc2_3_)    \n",
    "  - [連番で空ファイルを作成する](#toc2_4_)    \n",
    "  - [ディレクトリのみ表示する](#toc2_5_)    \n",
    "  - [ファイルの更新日時でソートする](#toc2_6_)    \n",
    "  - [カレントディレクトリの全ディレクトリに空ファイルを作成する](#toc2_7_)    \n",
    "  - [ファイルを1行ずつ処理する](#toc2_8_)    \n",
    "  - [ファイルの1行目に任意の文字列を入れる](#toc2_9_)    \n",
    "  - [xargsで複数ファイルをまとめて操作](#toc2_10_)    \n",
    "    - [・例1：カレントディレクトリにある拡張子が.txtのファイルをtempディレクトリへコピー](#toc2_10_1_)    \n",
    "    - [・例2： findの結果にヒットしたファイルを削除](#toc2_10_2_)    \n",
    "    - [・例3： 削除したいファイルのリストを読み込んで削除](#toc2_10_3_)    \n",
    "    - [※補足](#toc2_10_4_)    \n",
    "  - [2つのディレクトリを同期する](#toc2_11_)    \n",
    "  - [既にファイルがあったら処理をしない](#toc2_12_)    \n",
    "  - [renameコマンドによるファイルのリネーム](#toc2_13_)    \n",
    "- [■ システム系](#toc3_)    \n",
    "  - [プロセスを特定の論理CPU上で動かす](#toc3_1_)    \n",
    "  - [コマンドをバックグランドで実行する](#toc3_2_)    \n",
    "  - [プロセスが発行するシステムコールを確認](#toc3_3_)    \n",
    "  - [システムに存在する全プロセスを列挙する](#toc3_4_)    \n",
    "- [■ テキスト処理テクニック系](#toc4_)    \n",
    "  - [改行コードの確認](#toc4_1_)    \n",
    "  - [項目ごとの件数を数える](#toc4_2_)    \n",
    "  - [パディング](#toc4_3_)    \n",
    "  - [awkのfor文](#toc4_4_)    \n",
    "  - [時刻のフィルタリング](#toc4_5_)    \n",
    "    - [例１）](#toc4_5_1_)    \n",
    "    - [解法1: grepで頑張る](#toc4_5_2_)    \n",
    "    - [解法2: sed -n '/正規表現1/,/正規表現2/p'を使う](#toc4_5_3_)    \n",
    "    - [解法3: awk '/正規表現1/,/正規表現2/p'を使う](#toc4_5_4_)    \n",
    "  - [正規表現にマッチした次の行に何か足す](#toc4_6_)    \n",
    "  - [bashの連想配列（辞書型）取り扱い](#toc4_7_)    \n",
    "  - [改行コードをいじる](#toc4_8_)    \n",
    "  - [数行ごとに分かれた内容を1行にまとめたい](#toc4_9_)    \n",
    "  - [sedでまとめて置換する](#toc4_10_)    \n",
    "  - [2つのファイルの共通カラムをキーとして結合する](#toc4_11_)    \n",
    "\n",
    "<!-- vscode-jupyter-toc-config\n",
    "\tnumbering=false\n",
    "\tanchor=true\n",
    "\tflat=false\n",
    "\tminLevel=1\n",
    "\tmaxLevel=6\n",
    "\t/vscode-jupyter-toc-config -->\n",
    "<!-- THIS CELL WILL BE REPLACED ON TOC UPDATE. DO NOT WRITE YOUR TEXT IN THIS CELL -->"
   ]
  },
  {
   "cell_type": "markdown",
   "metadata": {},
   "source": [
    "# <a id='toc2_'></a>[■ 基本](#toc0_)"
   ]
  },
  {
   "cell_type": "markdown",
   "metadata": {},
   "source": [
    "## <a id='toc2_1_'></a>[任意のディレクトリ配下の容量を表示](#toc0_)\n",
    "duコマンドに-hオプションをつけることでSI単位で容量を表示する。\n",
    "\n",
    "```\n",
    " du -h 容量を調べたいディレクトリ\n",
    "```"
   ]
  },
  {
   "cell_type": "markdown",
   "metadata": {},
   "source": [
    "## <a id='toc2_2_'></a>[複数ディレクトリ配下の容量をサマライズして表示](#toc0_)\n",
    "下記コマンドを実行するとカレントディレクトリにある全ディレクトリ配下の容量（SI単位）を昇順で表示してくれる。  \n",
    "\n",
    "```\n",
    " du -sh */ | sort -h\n",
    "```"
   ]
  },
  {
   "cell_type": "markdown",
   "metadata": {},
   "source": [
    "## <a id='toc2_3_'></a>[任意のディレクトリ配下のうち、大きいサイズのディレクトリを調べる](#toc0_)\n",
    "sort -rnは-n:numericに比較、-r: 降順に並べるの意味。\n",
    "\n",
    "```\n",
    "du . | sort -rn | head -10\n",
    "```"
   ]
  },
  {
   "cell_type": "markdown",
   "metadata": {},
   "source": [
    "## <a id='toc2_4_'></a>[再帰的にディレクトリを作成する](#toc0_)\n",
    "mkdirの-pオプションを使う\n",
    "```\n",
    "mkdir -p dirA/dirB/dirC\n",
    "```"
   ]
  },
  {
   "cell_type": "markdown",
   "metadata": {},
   "source": [
    "## <a id='toc2_4_'></a>[連番で空ファイルを作成する](#toc0_)\n",
    "```\n",
    "for i in $(seq 3); do touch file_$i.txt ;done\n",
    "```"
   ]
  },
  {
   "cell_type": "markdown",
   "metadata": {},
   "source": [
    "## <a id='toc2_5_'></a>[ディレクトリのみ表示する](#toc0_)\n",
    "```\n",
    "ls -d */\n",
    "```"
   ]
  },
  {
   "cell_type": "code",
   "execution_count": 4,
   "metadata": {},
   "outputs": [
    {
     "name": "stdout",
     "output_type": "stream",
     "text": [
      "AA101  AA102  AA201  file_1.txt  file_2.txt  file_3.txt  practice_memo.ipynb\n"
     ]
    }
   ],
   "source": [
    "! ls"
   ]
  },
  {
   "cell_type": "code",
   "execution_count": 1,
   "metadata": {},
   "outputs": [
    {
     "name": "stdout",
     "output_type": "stream",
     "text": [
      "AA101/\tAA102/\tAA201/\n"
     ]
    }
   ],
   "source": [
    "! ls -d */"
   ]
  },
  {
   "cell_type": "markdown",
   "metadata": {},
   "source": [
    "## <a id='toc2_6_'></a>[ファイルの更新日時でソートする](#toc0_)\n",
    "```\n",
    "ls -ltr\n",
    "```\n",
    "上記コマンドにより、カレントディレクトリにあるファイルを更新日時が下から新しい順に並び変える。  \n",
    "大量にあるログファイルから直近の時間帯に書き込まれたログファイルを見つけたいときなどに使える。  "
   ]
  },
  {
   "cell_type": "markdown",
   "metadata": {},
   "source": [
    "## ファイル名の拡張子を除いた形にする\n",
    "```\n",
    "basename sample.txt .txt\n",
    "```"
   ]
  },
  {
   "cell_type": "markdown",
   "metadata": {},
   "source": [
    "## <a id='toc2_7_'></a>[カレントディレクトリの全ディレクトリに空ファイルを作成する](#toc0_)"
   ]
  },
  {
   "cell_type": "code",
   "execution_count": 5,
   "metadata": {},
   "outputs": [
    {
     "name": "stdout",
     "output_type": "stream",
     "text": [
      "#!/bin/sh\n",
      "\n",
      "dir_list=$(ls -d */ | cut -c 1-5)\n",
      "\n",
      "for dir in $dir_list;\n",
      "do\n",
      "\tfor i in $(seq 3);\n",
      "\tdo\n",
      "\t\ttouch ./$dir/file_$i.txt;\n",
      "\tdone;\n",
      "done;\n",
      "\n"
     ]
    }
   ],
   "source": [
    "! cat touch_file.sh"
   ]
  },
  {
   "cell_type": "markdown",
   "metadata": {},
   "source": [
    "## <a id='toc2_8_'></a>[ファイルを1行ずつ処理する](#toc0_)"
   ]
  },
  {
   "cell_type": "markdown",
   "metadata": {},
   "source": [
    "1行ずつファイルの中身をechoで標準出力する例。\n",
    "```\n",
    " cat ファイル名 | while read line; do echo $line; done\n",
    "```"
   ]
  },
  {
   "cell_type": "markdown",
   "metadata": {},
   "source": [
    "## <a id='toc2_9_'></a>[ファイルの1行目に任意の文字列を入れる](#toc0_)"
   ]
  },
  {
   "cell_type": "markdown",
   "metadata": {},
   "source": [
    "下記のように書けば良い。  \n",
    "1iで1行目に追記するの意。2iとすれば２行目に挿入される。    \n",
    "CSVファイルのヘッダーを追記するのに便利。\n",
    "\n",
    "```\n",
    "sed -i '1i 入れたい文字列' 対象ファイル名\n",
    "```"
   ]
  },
  {
   "cell_type": "markdown",
   "metadata": {},
   "source": [
    "## <a id='toc2_10_'></a>[xargsで複数ファイルをまとめて操作](#toc0_)"
   ]
  },
  {
   "cell_type": "markdown",
   "metadata": {},
   "source": [
    "### <a id='toc2_10_1_'></a>[・例1：カレントディレクトリにある拡張子が.txtのファイルをtempディレクトリへコピー](#toc0_)\n",
    "\n",
    "```\n",
    "ls *.txt | xargs -I{} cp {} temp\n",
    "```\n",
    "-I{}で{}の位置にパイプからの引数を入れるという操作になる。"
   ]
  },
  {
   "cell_type": "markdown",
   "metadata": {},
   "source": [
    "### <a id='toc2_10_2_'></a>[・例2： findの結果にヒットしたファイルを削除](#toc0_)\n",
    "\n",
    "```\n",
    "find temp -regex \".*file_[12].*\" | xargs -I{} rm {}\n",
    "```\n",
    "上記ではtemp配下のfile_1.txtまたはfile_2.txtを削除している。"
   ]
  },
  {
   "cell_type": "markdown",
   "metadata": {},
   "source": [
    "### <a id='toc2_10_3_'></a>[・例3： 削除したいファイルのリストを読み込んで削除](#toc0_)\n",
    "```\n",
    "cat rm_files_list.txt | xargs -I{} rm {}\n",
    "```"
   ]
  },
  {
   "cell_type": "markdown",
   "metadata": {},
   "source": [
    "### <a id='toc2_10_4_'></a>[※補足](#toc0_)\n",
    "-pオプションをつけることで、ドライランで実際に実行されるコマンドを確認できる\n",
    "\n",
    "```\n",
    "find temp -regex \".*file_[12].*\" | xargs -I{} -p rm {}\n",
    "```"
   ]
  },
  {
   "cell_type": "markdown",
   "metadata": {},
   "source": [
    "## <a id='toc2_11_'></a>[2つのディレクトリを同期する](#toc0_)\n",
    "rsyncを使うことで、ディレクトリ内の各ファイルのタイムスタンプ、サイズを比較して  \n",
    "変更があった分だけ同期できる。\n",
    "\n",
    "```\n",
    "rsync -av 同期元/ 同期先/\n",
    "```\n",
    "-aはサブディレクトリも含めて再帰的に処理するオプション。  \n",
    "パーミッションやファイルのタイムスタンプも保持される。  \n",
    "-vはverbose。同期元と同期先の最後に/をつけないと、  \n",
    "同期元のフォルダ自体と等しいか否かを判定してしまい、まるごと同期されてしまう。"
   ]
  },
  {
   "cell_type": "markdown",
   "metadata": {},
   "source": [
    "## <a id='toc2_12_'></a>[既にファイルがあったら処理をしない](#toc0_)\n",
    "例として、ディレクトリのリストがあり、これらのディレクトリをtar -cvzfでアーカイブ化＆圧縮したいが、  \n",
    "既に処理済みのものは処理をスキップしたい場合を考える。  \n",
    "以下のようにif文でtarファイルの存在有無を確認すればよい。"
   ]
  },
  {
   "cell_type": "code",
   "execution_count": 9,
   "metadata": {},
   "outputs": [
    {
     "name": "stdout",
     "output_type": "stream",
     "text": [
      "#!/bin/bash\n",
      "\n",
      "target_dirs=$(ls -d */)\n",
      "\n",
      "for dir in $target_dirs;\n",
      "do\n",
      "\tbase_dir=$(basename $dir) \n",
      "\tif [ -e ${base_dir}.tar ]; then\n",
      "\t\techo \"${base_dir}.tar already exists. skip tar.\"\n",
      "\telse\n",
      "\t\ttar -czvf ${base_dir}.tar $dir\n",
      "\tfi\n",
      "done\n"
     ]
    }
   ],
   "source": [
    "! cat practice-2_Hanling_list_of_files/execute_tar.sh"
   ]
  },
  {
   "cell_type": "markdown",
   "metadata": {},
   "source": [
    "## <a id='toc2_13_'></a>[renameコマンドによるファイルのリネーム](#toc0_)\n",
    "mvコマンドではなくrenameコマンドを使うとsedっぽくファイル名を変更できる。  \n",
    "renameコマンドはデフォルトでインストールされていない場合があるので注意。  \n",
    "\n",
    "例）abc.txtのa or bが２回続く部分をxにrenameする。\n",
    "```\n",
    "rename 's/[ab]{2}/x/' abc.txt\n",
    "```"
   ]
  },
  {
   "cell_type": "markdown",
   "metadata": {},
   "source": [
    "# <a id='toc3_'></a>[■ システム系](#toc0_)"
   ]
  },
  {
   "cell_type": "markdown",
   "metadata": {},
   "source": [
    "## <a id='toc3_1_'></a>[プロセスを特定の論理CPU上で動かす](#toc0_)\n",
    "下記を実行すると、<コマンド>引数で指定したコマンドを-c <論理CPU番号>引数で指定した  \n",
    "CPU上で実行できる。特定のコアにバインドしてプログラムを動かしたいときに使える。\n",
    "```\n",
    "taskset -c <論理CPU番号> <コマンド>\n",
    "```"
   ]
  },
  {
   "cell_type": "markdown",
   "metadata": {},
   "source": [
    "## <a id='toc3_2_'></a>[コマンドをバックグランドで実行する](#toc0_)\n",
    "&を末尾につけて実行すればよい。  \n",
    "任意のコマンドを実行しつつターミナルで作業したいときに使える。  \n",
    "```\n",
    "<コマンド> &\n",
    "```"
   ]
  },
  {
   "cell_type": "markdown",
   "metadata": {},
   "source": [
    "## <a id='toc3_3_'></a>[プロセスが発行するシステムコールを確認](#toc0_)\n",
    "プロセスがどんなシステムコールを発行するかはstraceコマンドで確認できる。\n",
    "```\n",
    "strace -o 出力先 プログラムのパス\n",
    "```\n",
    "straceの出力は１行１行が１システムコールに対応している。  \n",
    "また、-Tオプションをつけることで各システムコールにかかった時間、  \n",
    "-ttでシステムコールの発行時刻をマイクロ秒単位で確認可能。"
   ]
  },
  {
   "cell_type": "markdown",
   "metadata": {},
   "source": [
    "## <a id='toc3_4_'></a>[システムに存在する全プロセスを列挙する](#toc0_)\n",
    "```\n",
    "ps aux\n",
    "```\n",
    "※auxの意味：\n",
    "* a: 端末操作のプロセス(自分 + 他ユーザー)を表示する\n",
    "* u: 各プロセスの実行ユーザーやCPU, Mem(メモリ)等の情報も表示する\n",
    "* x: 端末操作のないプロセス(daemon等)も表示する\n",
    "\n",
    "さらに f をつけて実行するとプロセス間の親子関係をtreeの形で表示できる。"
   ]
  },
  {
   "cell_type": "markdown",
   "metadata": {},
   "source": [
    "## <a id='toc2_4_'></a>[topコマンドの意味（備忘）](#toc0_)\n",
    "\n",
    "* https://milestone-of-se.nesuke.com/sv-basic/linux-basic/top-command/\n",
    "* https://qiita.com/miyuki_samitani/items/8016af0f6df7a296d303"
   ]
  },
  {
   "cell_type": "markdown",
   "metadata": {},
   "source": [
    "------------------------------------------------------------"
   ]
  },
  {
   "cell_type": "markdown",
   "metadata": {},
   "source": [
    "# <a id='toc4_'></a>[■ テキスト処理テクニック系](#toc0_)"
   ]
  },
  {
   "cell_type": "markdown",
   "metadata": {},
   "source": [
    "## <a id='toc4_1_'></a>[改行コードの確認](#toc0_)\n",
    "```\n",
    "file ファイル名\n",
    "\n",
    "# 上記で出力されなかった場合はodコマンドを使う\n",
    "od -c ファイル名\n",
    "\n",
    "0000000 343 201 231 343 201 232   :   :  \\n 343 201 202 343 201 260 343\n",
    "0000020 201 260 343 201 202 343 201 260 343 201 260   :   :  \\n   :   :\n",
    "\n",
    "→ 改行コードが\\nだと分かる。\n",
    "```\n",
    "\n",
    "※odコマンドはファイルを8進数や16進数で表示するコマンド。  \n",
    "https://developers-book.com/2020/11/22/407/"
   ]
  },
  {
   "cell_type": "markdown",
   "metadata": {},
   "source": [
    "## <a id='toc4_2_'></a>[項目ごとの件数を数える](#toc0_)\n",
    "pandaやpolarsのvalue_counts()的な操作はawk, sort ,uniqを使えばよい。  \n",
    "・例1）1～5までの数字の偶数と奇数を数える。\n",
    "```\n",
    "seq 5 | awk '{print $1%2 ? \"odd\":\"even\"}' | sort | uniq -c\n",
    "\n",
    "# 結果\n",
    "2 even\n",
    "3 odd\n",
    "```\n",
    "※ 上記はawkの三項演算子（条件 ? \"真の場合\":\"偽の場合\"）を用いている。\n",
    "\n",
    "uniqは重複行が連続していることを前提としているため、  \n",
    "uniqの前にsortでodd, evenを辞書順に並び変える必要があることに注意。  \n",
    "uniq -cは重複行を数えるオプション。  \n",
    "\n",
    "・例2）1～5までの数字の偶数と奇数を数えて、降順に並べる\n",
    "```\n",
    "seq 5 | awk '{print $1%2 ? \"odd\":\"even\"}' | sort | uniq -c | awk '{print $2 , $1}' | sort -k2,2 -nr\n",
    "\n",
    "# 結果\n",
    "odd 3\n",
    "even 2\n",
    "```\n",
    "-k2,2は2列目から2列目を基準にソートするという意味であり、ここでは数え上げ結果を基準にして、  \n",
    "-nで数字順に比較し、-rで降順に並べ手出力している。（デフォルトでは昇順）  \n",
    "\n",
    "※補足　awkだけで数える場合\n",
    "```\n",
    "seq 5 | awk '{print $1%2 ? \"odd\":\"even\"}' | awk '{a[$1]++} END{for (k in a) print k, a[k]}'\n",
    "```  \n",
    "上記ではoddかevenかをキーとした連想配列を作って、$1に出てきた回数分valueをカウントしている。\n",
    "\n"
   ]
  },
  {
   "cell_type": "markdown",
   "metadata": {},
   "source": [
    "## <a id='toc4_3_'></a>[パディング](#toc0_)\n",
    "・例1）連番のファイル名を3桁にパディングしてリネーム（大量ファイル想定）\n",
    "```\n",
    "find -type f | xargs -i basename {} | awk '{printf(\"%d %03d\\n\",$1,$1)}' | xargs -n2 mv\n",
    "```"
   ]
  },
  {
   "cell_type": "markdown",
   "metadata": {},
   "source": [
    "## <a id='toc4_4_'></a>[awkのfor文](#toc0_)\n",
    "・例1）階段上に文字を出力する例\n",
    "```\n",
    "$ seq 10 | awk '{for(i=10; $1<i; i--) {printf \" \"};  print \"x\"}'\n",
    "\n",
    "出力：\n",
    "         x\n",
    "        x\n",
    "       x\n",
    "      x\n",
    "     x\n",
    "    x\n",
    "   x\n",
    "  x\n",
    " x\n",
    "x\n",
    "```  \n",
    "\n",
    "printは改行あり、printfは改行なしであることに注意。"
   ]
  },
  {
   "cell_type": "markdown",
   "metadata": {},
   "source": [
    "## <a id='toc4_5_'></a>[時刻のフィルタリング](#toc0_)\n",
    "### <a id='toc4_5_1_'></a>[例１）](#toc0_)\n",
    "”[dd/m（英）/yyyy HH:MM:SS]”のような形式でタイムスタンプが記録されたログファイルがあり、  \n",
    "2016年12月(Dec)24日21時から2016年12月(Dec)25日3時までの時間帯だけ抽出したい場合。\n",
    "\n",
    "### <a id='toc4_5_2_'></a>[解法1: grepで頑張る](#toc0_)\n",
    "```\n",
    "grep -E \" \\[24/Dec/2016 2[1-3].*\\]|\\[25/Dec/2016 0[0-3].*\\] \" log_range.log\n",
    "```  \n",
    "時刻範囲が広くなければこれでもOKだが、広いとOR条件が増えるので面倒になる。  \n",
    "ただ、何らかの要因で時刻順にログが記録されていなくても、対象時間帯に該当するレコードだけ抜き出せるというメリットはある。  \n",
    "\n",
    "\n",
    "### <a id='toc4_5_3_'></a>[解法2: sed -n '/正規表現1/,/正規表現2/p'を使う](#toc0_)\n",
    "```\n",
    "cat log_range.log | sed -n '/24\\/Dec\\/2016 21.*/,/25\\/Dec\\/2016 03.*/p'\n",
    "```\n",
    "\n",
    "sed -n '/正規表現1/,/正規表現2/p'は正規表現1にマッチする行から正規表現2にマッチする行まで抜き出す操作になる。  \n",
    "マッチした2点の間を抜き出しているだけなので、ログが時刻順になっていない、かつ、関係ない時刻が途中に含まれている場合は  \n",
    "時刻をソートしてから実行する必要あり。  \n",
    "\n",
    "### <a id='toc4_5_4_'></a>[解法3: awk '/正規表現1/,/正規表現2/p'を使う](#toc0_)\n",
    "```\n",
    "awk '/24\\/Dec\\/2016 21.*/,/25\\/Dec\\/2016 03.*/' log_range.log  \n",
    "```\n",
    "解法2のような記法はawkのパターン部分でも出来る。  \n"
   ]
  },
  {
   "cell_type": "markdown",
   "metadata": {},
   "source": [
    "## <a id='toc4_6_'></a>[正規表現にマッチした次の行に何か足す](#toc0_)\n",
    "例）Atx形式のマークダウンの見出し(#等)をSetext形式(見出しの前に===など)に変換する例。\n",
    "```\n",
    "sed -E 's/^#{1} (.*)/\\1\\n====/g' headings.md | sed -E 's/^#{2} (.*)/\\1\\n---/g'\n",
    "```  \n",
    "\\1で後方参照を行い、\\nをつけて次の行に書き足す内容を記述している。  "
   ]
  },
  {
   "cell_type": "markdown",
   "metadata": {},
   "source": [
    "## <a id='toc4_7_'></a>[bashの連想配列（辞書型）取り扱い](#toc0_)\n",
    "\n",
    "```\n",
    "# 宣言\n",
    "declare -A names=([\"すず\"]=\"鈴木\" [\"さと\"]=\"佐藤\" [\"やま\"]=\"山田\")\n",
    "\n",
    "# value取り出し\n",
    "echo ${names[\"すず\"]}\n",
    "\n",
    "鈴木\n",
    "```  \n"
   ]
  },
  {
   "cell_type": "markdown",
   "metadata": {},
   "source": [
    "## <a id='toc4_8_'></a>[改行コードをいじる](#toc0_)\n",
    "\n",
    "・例１）改行コードLFを”：”に変更したい場合\n",
    "```\n",
    "sed -E -z 's/\\n/:/g' input.txt\n",
    "```\n",
    "sedは改行コード単位で分割された行の内容を置換するため、デフォルトでは改行コード自体は置換対象に含まれない。  \n",
    "含めるには-zオプションを使用する。 \n",
    "\n",
    "・例２）改行コードCRLFをLFに変更したい場合  \n",
    "Windows環境で作成したテキストファイルをLinux環境で問題なく使う場合などを想定。  \n",
    "```\n",
    "sed -z 's/\\r\\n/\\n/g' input.txt\n",
    "```\n",
    "\n",
    "参考: https://webbibouroku.com/Blog/Article/sed-crlf-lf"
   ]
  },
  {
   "cell_type": "markdown",
   "metadata": {},
   "source": [
    "## <a id='toc4_9_'></a>[数行ごとに分かれた内容を1行にまとめたい](#toc0_)\n",
    "例えば以下のようなファイルがあったとき、\n",
    "key1 value1  \n",
    "key2 value2  \n",
    "のように表示したいときを考える。\n",
    "```\n",
    "$ cat example.txt\n",
    "key1\n",
    "value1\n",
    "\n",
    "key2\n",
    "value2\n",
    "\n",
    "key3\n",
    "value3\n",
    "```  \n",
    "\n",
    "これは下記のようにxargsで読み込む引数に2を指定すればよい。  \n",
    "xargsは何もコマンドを指定しないとechoの動作になるため、このようになる。  \n",
    "3行の内容を1行にするのも-n3とすればよい。  \n",
    "\n",
    "```\n",
    "cat example.txt | xargs -n2\n",
    "\n",
    "# 出力結果\n",
    "key1 value1\n",
    "key2 value2\n",
    "key3 value3\n",
    "```\n",
    "\n"
   ]
  },
  {
   "cell_type": "markdown",
   "metadata": {},
   "source": [
    "## <a id='toc4_10_'></a>[sedでまとめて置換する](#toc0_)\n",
    "下記のように一つシングルクォーテーションの中をセミコロンで区切ればできる。\n",
    "\n",
    "```\n",
    "sed  's/^すず/鈴木/g; s/^さと/佐藤/g; s/^やま/山田/g'\n",
    "```  \n"
   ]
  },
  {
   "cell_type": "markdown",
   "metadata": {},
   "source": [
    "## <a id='toc4_11_'></a>[2つのファイルの共通カラムをキーとして結合する](#toc0_)\n",
    "joinコマンドやawk、素のPython(pandasを使わずに)を用いてinner joinやleft join的なことをする。"
   ]
  },
  {
   "cell_type": "code",
   "execution_count": 9,
   "metadata": {},
   "outputs": [
    {
     "name": "stdout",
     "output_type": "stream",
     "text": [
      "1,apple\n",
      "2,banana\n",
      "3,cherry\n"
     ]
    }
   ],
   "source": [
    "! cat ./input_sample/file1.txt"
   ]
  },
  {
   "cell_type": "code",
   "execution_count": 11,
   "metadata": {},
   "outputs": [
    {
     "name": "stdout",
     "output_type": "stream",
     "text": [
      "2,100\n",
      "3,150\n",
      "4,200\n"
     ]
    }
   ],
   "source": [
    "! cat ./input_sample/file2.txt"
   ]
  },
  {
   "cell_type": "markdown",
   "metadata": {},
   "source": [
    "### joinコマンドでinner join , left join\n",
    "[参考](https://qiita.com/isseium/items/20eb6802898d9b1ba2b4)"
   ]
  },
  {
   "cell_type": "code",
   "execution_count": 8,
   "metadata": {},
   "outputs": [
    {
     "name": "stdout",
     "output_type": "stream",
     "text": [
      "2,banana,100\n",
      "3,cherry,150\n"
     ]
    }
   ],
   "source": [
    "# 2ファイルをinner joinする\n",
    "! join -t, ./input_sample/file1.txt ./input_sample/file2.txt"
   ]
  },
  {
   "cell_type": "code",
   "execution_count": 14,
   "metadata": {},
   "outputs": [
    {
     "name": "stdout",
     "output_type": "stream",
     "text": [
      "2,banana,100\n",
      "3,cherry,150\n"
     ]
    }
   ],
   "source": [
    "# 明示的に書くと下記\n",
    "!join -t, -1 1 -2 1 -o 0 1.2 2.2 ./input_sample/file1.txt ./input_sample/file2.txt"
   ]
  },
  {
   "cell_type": "markdown",
   "metadata": {},
   "source": [
    "* -tはデリミタ。-1, -2は１番目のファイルと２番目のファイルのどのカラムをキーとして結合するかを指定する。\n",
    "* -o は出力する列番号を指定する。1.2 は1つ目のファイル（file1.txt）の2列目を表示する意味になる。0 を指定するとjoin条件としたキーを表示する。"
   ]
  },
  {
   "cell_type": "code",
   "execution_count": 17,
   "metadata": {},
   "outputs": [
    {
     "name": "stdout",
     "output_type": "stream",
     "text": [
      "1,apple,NULL\n",
      "2,banana,100\n",
      "3,cherry,150\n"
     ]
    }
   ],
   "source": [
    "# left join(file1.txtに左からfile2.txtを結合する)\n",
    "! join -t, -a 1 -1 1 -2 1 -o 0 1.2 2.2 -e 'NULL' ./input_sample/file1.txt ./input_sample/file2.txt"
   ]
  },
  {
   "cell_type": "markdown",
   "metadata": {},
   "source": [
    "* -aは-1、-2すなわちkeyがマッチしなかった行も表示する。"
   ]
  },
  {
   "cell_type": "code",
   "execution_count": 19,
   "metadata": {},
   "outputs": [
    {
     "name": "stdout",
     "output_type": "stream",
     "text": [
      "1,NULL\n",
      "2,100\n",
      "3,150\n"
     ]
    }
   ],
   "source": [
    "# file1.txtに結合するが、file2.txtの値でカラムを置き換える\n",
    "! join -t, -a 1 -1 1 -2 1 -o 0 2.2 -e 'NULL' ./input_sample/file1.txt ./input_sample/file2.txt"
   ]
  },
  {
   "cell_type": "markdown",
   "metadata": {},
   "source": [
    "結合して値を置き換えたい場合にも使える。"
   ]
  },
  {
   "cell_type": "markdown",
   "metadata": {},
   "source": [
    "### awkでinner join"
   ]
  },
  {
   "cell_type": "code",
   "execution_count": 6,
   "metadata": {},
   "outputs": [
    {
     "name": "stdout",
     "output_type": "stream",
     "text": [
      "2 banana 100\n",
      "3 cherry 150\n"
     ]
    }
   ],
   "source": [
    "! awk -F, 'NR==FNR {a[$1]=$2; next} $1 in a {print $1, a[$1], $2}' ./input_sample/file1.txt ./input_sample/file2.txt"
   ]
  },
  {
   "cell_type": "markdown",
   "metadata": {},
   "source": [
    "* NR==FNR:  \n",
    "  NRは読み込んだ総レコード数（2ファイル累計）、FNRは __現在処理中__ のファイルのレコード数。  \n",
    "  NR==FNRは、最初のファイルが処理されている間は真となる(上記の2ファイル目の1行目はNR=4, FNR=1なので偽)ため、  \n",
    "  １ファイル目に対して行いたい処理を記述するのによく使われる書き方。  \n",
    "\n",
    "* a[$1]=$2: 最初のファイルのカラム1をキーとし、カラム2の値を配列 a に保存する\n",
    "* next: 残りの処理をスキップし、次のレコードに進む。これは、最初のファイルが処理されている間にのみ適用する\n",
    "* $1 in a: 2番目のファイルのカラム1の値が配列 a のキーとして存在するかどうかをチェックする\n",
    "* print $1, a[$1], $2: キーがマッチした場合、そのキーと、最初のファイルから関連する値、そして2番目のファイルのカラム2の値を出力する\n",
    "* このコマンドを実行すると、共通のカラム1を持つレコードが結合されて出力する"
   ]
  },
  {
   "cell_type": "markdown",
   "metadata": {},
   "source": [
    "### Pythonでinner join\n",
    "以下は標準モジュールのみを使った例。  \n",
    "正直PandasやPolarsを使える環境ならばそれらを使った方が簡単だし早い。  \n",
    "使えないならjoinかawkの方が良い。  "
   ]
  },
  {
   "cell_type": "code",
   "execution_count": 21,
   "metadata": {},
   "outputs": [
    {
     "name": "stdout",
     "output_type": "stream",
     "text": [
      "['2', 'banana', '100']\n",
      "['3', 'cherry', '150']\n"
     ]
    }
   ],
   "source": [
    "import csv\n",
    "# csv.readerは読み込んだ行をカンマ区切りで返す\n",
    "data1 = {rows[0]:rows[1:] for rows in csv.reader(open(\"./input_sample/file1.txt\"))}\n",
    "data2 = {rows[0]:rows[1:] for rows in csv.reader(open(\"./input_sample/file2.txt\"))}\n",
    "merged_data = []\n",
    "\n",
    "for key, values in data1.items():\n",
    "    # data1のkeyがdata2にあれば結合\n",
    "    if key in data2:\n",
    "        merged_data.append([key] + values + data2[key])\n",
    "\n",
    "\n",
    "for row in merged_data:\n",
    "    print(row)\n"
   ]
  }
 ],
 "metadata": {
  "kernelspec": {
   "display_name": "Python 3",
   "language": "python",
   "name": "python3"
  },
  "language_info": {
   "codemirror_mode": {
    "name": "ipython",
    "version": 3
   },
   "file_extension": ".py",
   "mimetype": "text/x-python",
   "name": "python",
   "nbconvert_exporter": "python",
   "pygments_lexer": "ipython3",
   "version": "3.11.6"
  }
 },
 "nbformat": 4,
 "nbformat_minor": 2
}
