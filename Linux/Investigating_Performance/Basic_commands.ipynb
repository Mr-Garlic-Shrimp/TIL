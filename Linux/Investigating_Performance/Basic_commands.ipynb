{
 "cells": [
  {
   "cell_type": "markdown",
   "metadata": {},
   "source": [
    "# 性能調査用の基本コマンド"
   ]
  },
  {
   "cell_type": "markdown",
   "metadata": {},
   "source": [
    "## top\n",
    "参考：  \n",
    "[topで表示される項目の意味](https://qiita.com/miyuki_samitani/items/8016af0f6df7a296d303)"
   ]
  }
 ],
 "metadata": {
  "language_info": {
   "name": "python"
  }
 },
 "nbformat": 4,
 "nbformat_minor": 2
}
