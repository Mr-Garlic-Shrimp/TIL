{
 "cells": [
  {
   "cell_type": "markdown",
   "metadata": {},
   "source": [
    "# Linuxのトラブルシューティングメモ"
   ]
  },
  {
   "cell_type": "markdown",
   "metadata": {},
   "source": [
    "## WSL2でメモリを食い過ぎているとき\n",
    "タスクマネージャーで確認し、Vmmemがずっとメモリを食っているときは下記コマンドで  \n",
    "キャッシュをフラッシュする。\n",
    "\n",
    "```\n",
    "sudo sh -c \"/usr/bin/echo 3 > /proc/sys/vm/drop_caches\"\n",
    "```"
   ]
  }
 ],
 "metadata": {
  "language_info": {
   "name": "python"
  }
 },
 "nbformat": 4,
 "nbformat_minor": 2
}
