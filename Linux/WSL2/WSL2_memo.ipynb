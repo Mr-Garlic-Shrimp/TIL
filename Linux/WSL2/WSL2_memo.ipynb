{
 "cells": [
  {
   "cell_type": "markdown",
   "metadata": {},
   "source": [
    "# WSL2に関するメモ"
   ]
  },
  {
   "cell_type": "markdown",
   "metadata": {},
   "source": [
    "## WSL2のキャッシュをクリアする\n",
    "```\n",
    "sudo sh -c \"echo 3 >'/proc/sys/vm/drop_caches'\"  # swap=0の場合\n",
    "sudo sh -c \"echo 3 >'/proc/sys/vm/drop_caches' && swapoff -a && swapon -a\" # swap設定値ありの場合\n",
    "```"
   ]
  }
 ],
 "metadata": {
  "language_info": {
   "name": "python"
  }
 },
 "nbformat": 4,
 "nbformat_minor": 2
}
