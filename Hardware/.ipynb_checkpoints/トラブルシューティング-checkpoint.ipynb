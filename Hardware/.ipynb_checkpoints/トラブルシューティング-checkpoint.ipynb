{
 "cells": [
  {
   "cell_type": "markdown",
   "id": "57d52c4b-9e8d-44f1-afc3-9104afbf6dc6",
   "metadata": {},
   "source": [
    "# トラブルシューティングTIPs"
   ]
  },
  {
   "cell_type": "markdown",
   "id": "cf318b44-ea2b-4573-9fda-3845e1ea41f5",
   "metadata": {},
   "source": [
    "## キーボード\n",
    "### メカニカルキーボードで特定のキーの反応が悪い\n",
    "要チェック箇所：  \n",
    "1. キートップを外し、スイッチがちゃんとはまっているか\n",
    "    * キートップの作りが悪く、ちゃんとはまらないときはキートップ側の差込口を削るか詰め物をすると改善する可能性あり。  \n",
    "    （悪化する可能性も）\n",
    "2. スイッチを外し、ピンが曲がっていないか\n",
    "3. ピンの差込口にごみが入っていないか\n",
    "\n",
    "上記をチェックしてだめなら、スイッチ自体が原因の可能性があるのでスイッチ単体で買うか、他のいらないキーのスイッチと交換する。"
   ]
  },
  {
   "cell_type": "code",
   "execution_count": null,
   "id": "ae2ba883-b91a-4341-925d-94998bbd79a8",
   "metadata": {},
   "outputs": [],
   "source": []
  }
 ],
 "metadata": {
  "kernelspec": {
   "display_name": "Python 3 (ipykernel)",
   "language": "python",
   "name": "python3"
  },
  "language_info": {
   "codemirror_mode": {
    "name": "ipython",
    "version": 3
   },
   "file_extension": ".py",
   "mimetype": "text/x-python",
   "name": "python",
   "nbconvert_exporter": "python",
   "pygments_lexer": "ipython3",
   "version": "3.9.12"
  }
 },
 "nbformat": 4,
 "nbformat_minor": 5
}
