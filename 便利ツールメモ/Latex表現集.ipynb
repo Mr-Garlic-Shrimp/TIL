{
 "cells": [
  {
   "cell_type": "markdown",
   "id": "ab4856bf-04fe-4d74-9ced-1b142e5b9bb6",
   "metadata": {},
   "source": [
    "$\\sigma_1^2$"
   ]
  },
  {
   "cell_type": "markdown",
   "id": "d6c29c60-bde5-4da6-81d8-2069fee174b5",
   "metadata": {},
   "source": [
    "* 母集団1：　平均：$\\mu_1$、標準偏差：$\\sigma_1$ \n",
    "* 母集団2：　平均：$\\mu_2$、標準偏差：$\\sigma_2$\n",
    "* 標本1：　平均：$\\bar{x_1}$、標本数：$n_1$\n",
    "* 標本2：　平均：$\\bar{x_2}$、標本数：$n_2$"
   ]
  },
  {
   "cell_type": "markdown",
   "id": "ace08419-5a02-4a34-af6e-bb40e5850d71",
   "metadata": {},
   "source": [
    "$ s^{'2}=\\frac{1}{n-1}\\sum_{i=1}^{n}(x_i-\\bar{x})^2 \\quad $"
   ]
  },
  {
   "cell_type": "markdown",
   "id": "afed9324-bd8f-4ec8-a696-5411789cb98a",
   "metadata": {},
   "source": [
    "$S = \\left(\n",
    "\\begin{matrix} \n",
    "s_{11} & s_{12} & ... & s_{1n}\\\\ \n",
    "s_{21} & s_{22} & ... & s_{2n}\\\\\n",
    ". & . & ... & .\\\\\n",
    "s_{n1} & s_{n2} & ... & s_{nn}\n",
    "\\end{matrix} \n",
    "\\right)$\n"
   ]
  },
  {
   "cell_type": "markdown",
   "id": "87f1991d",
   "metadata": {},
   "source": [
    "\\begin{equation}\n",
    "\\sigma^{'}(z)= \\left \\{\n",
    "\\begin{array}{l}\n",
    "1　(if z > 0) \\\\\n",
    "0　(otherwise)\n",
    "\\end{array}\n",
    "\\right.\n",
    "\\end{equation}"
   ]
  }
 ],
 "metadata": {
  "kernelspec": {
   "display_name": "Python 3 (ipykernel)",
   "language": "python",
   "name": "python3"
  },
  "language_info": {
   "codemirror_mode": {
    "name": "ipython",
    "version": 3
   },
   "file_extension": ".py",
   "mimetype": "text/x-python",
   "name": "python",
   "nbconvert_exporter": "python",
   "pygments_lexer": "ipython3",
   "version": "3.9.12"
  }
 },
 "nbformat": 4,
 "nbformat_minor": 5
}
