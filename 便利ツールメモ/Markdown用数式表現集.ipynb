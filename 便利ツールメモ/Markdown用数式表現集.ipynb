{
 "cells": [
  {
   "cell_type": "markdown",
   "id": "ab4856bf-04fe-4d74-9ced-1b142e5b9bb6",
   "metadata": {},
   "source": [
    "$\\sigma_1^2$"
   ]
  },
  {
   "cell_type": "code",
   "execution_count": null,
   "id": "10391283-f7e8-4666-a9ed-01a588564ebf",
   "metadata": {},
   "outputs": [],
   "source": []
  }
 ],
 "metadata": {
  "kernelspec": {
   "display_name": "Python 3",
   "language": "python",
   "name": "python3"
  },
  "language_info": {
   "codemirror_mode": {
    "name": "ipython",
    "version": 3
   },
   "file_extension": ".py",
   "mimetype": "text/x-python",
   "name": "python",
   "nbconvert_exporter": "python",
   "pygments_lexer": "ipython3",
   "version": "3.8.8"
  }
 },
 "nbformat": 4,
 "nbformat_minor": 5
}
