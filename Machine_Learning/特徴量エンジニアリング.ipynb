{
 "cells": [
  {
   "cell_type": "markdown",
   "id": "436e95d7-ab99-430b-8c15-1f97c76ea687",
   "metadata": {},
   "source": [
    "# 特徴量エンジニアリングについて"
   ]
  },
  {
   "cell_type": "markdown",
   "id": "f5f45617-c5cc-4a92-8657-666b831d7e9c",
   "metadata": {},
   "source": [
    "参考資料:  \n",
    "* [序盤に試すテーブルデータの特徴量エンジニアリング](https://zenn.dev/colum2131/articles/fffac4654e7c7c)"
   ]
  },
  {
   "cell_type": "code",
   "execution_count": null,
   "id": "58c0e943-253f-44f7-8dd2-501512936d08",
   "metadata": {},
   "outputs": [],
   "source": []
  }
 ],
 "metadata": {
  "kernelspec": {
   "display_name": "Python 3 (ipykernel)",
   "language": "python",
   "name": "python3"
  },
  "language_info": {
   "codemirror_mode": {
    "name": "ipython",
    "version": 3
   },
   "file_extension": ".py",
   "mimetype": "text/x-python",
   "name": "python",
   "nbconvert_exporter": "python",
   "pygments_lexer": "ipython3",
   "version": "3.9.12"
  }
 },
 "nbformat": 4,
 "nbformat_minor": 5
}
