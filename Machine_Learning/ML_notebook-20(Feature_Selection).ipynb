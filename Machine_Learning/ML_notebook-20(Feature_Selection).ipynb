{
 "cells": [
  {
   "attachments": {},
   "cell_type": "markdown",
   "metadata": {},
   "source": [
    "# 機械学習をPythonで実践する-20　　～ 特徴量選択 ～"
   ]
  },
  {
   "cell_type": "code",
   "execution_count": 181,
   "metadata": {},
   "outputs": [
    {
     "name": "stdout",
     "output_type": "stream",
     "text": [
      "The autoreload extension is already loaded. To reload it, use:\n",
      "  %reload_ext autoreload\n"
     ]
    }
   ],
   "source": [
    "%load_ext autoreload\n",
    "%autoreload 2\n",
    "import polars as pl\n",
    "import pandas as pd\n",
    "import numpy as np\n",
    "import seaborn as sns\n",
    "import itertools\n",
    "from sklearn.preprocessing import StandardScaler, PolynomialFeatures, OrdinalEncoder, LabelEncoder, OneHotEncoder\n",
    "# # import statsmodels.api as sma\n",
    "from sklearn.model_selection import train_test_split ,cross_val_score, KFold, RepeatedKFold,StratifiedKFold\n",
    "from sklearn.neighbors import KNeighborsRegressor\n",
    "from sklearn.impute import SimpleImputer,KNNImputer\n",
    "from sklearn.pipeline import Pipeline\n",
    "import lightgbm as lgb\n",
    "from sklearn.metrics import mean_squared_error, mean_absolute_error, r2_score, log_loss, confusion_matrix,ConfusionMatrixDisplay, \\\n",
    "accuracy_score, precision_score, recall_score,precision_recall_curve,f1_score,roc_curve,auc,get_scorer_names,roc_auc_score\n",
    "from sklearn.compose import ColumnTransformer\n",
    "from sklearn import tree\n",
    "from sklearn.ensemble import RandomForestClassifier\n",
    "from lightGBM_cv import lightGBM_classifier_cv_func\n",
    "from category_encoders import TargetEncoder\n",
    "from sklearn.linear_model import LogisticRegression\n",
    "from sklearn.feature_selection import RFE, RFECV, SelectFromModel\n",
    "\n",
    "%matplotlib inline\n",
    "import matplotlib.pyplot as plt\n"
   ]
  },
  {
   "attachments": {},
   "cell_type": "markdown",
   "metadata": {},
   "source": [
    "## Greedy Feature Selection\n",
    "Kaggleのpenguinデータセットを使ってGreedy Feature Selectionをやってみる。  \n",
    "GBDTではあまり積極的に特徴量選択を行わない※ことから、モデルにはロジスティック回帰を使う。  \n",
    "\n",
    "※GBDTはノイズに強いため、元々ある特徴量は全て使い、特徴量エンジニアリングで増やした特徴量の効果をCVで検証して採用するかどうか決めることが多い様子。  "
   ]
  },
  {
   "cell_type": "code",
   "execution_count": 39,
   "metadata": {},
   "outputs": [],
   "source": [
    "dtypes = {\n",
    "    \"species\": str,\n",
    "    'island': str,\n",
    "    'culmen_length_mm': pl.Float32, # くちばしの長さ[mm]\n",
    "    'culmen_depth_mm': pl.Float32, # くちばしの高さ[mm]\n",
    "    'flipper_length_mm': pl.Float32, # 翼の長さ[mm]\n",
    "    'body_mass_g': pl.Float32, # 体重[g]\n",
    "    'sex': str\n",
    "}\n",
    "\n",
    "# ペンギンのデータセット読み込み。欠損値がNAとして含まれているので、null_values=\"NA\"を指定しないと読み込みエラーになる。\n",
    "df = pl.read_csv('../Python/sample_data/ML_sample/penguins_size.csv',dtypes=dtypes, null_values='NA')\n"
   ]
  },
  {
   "attachments": {},
   "cell_type": "markdown",
   "metadata": {},
   "source": [
    "### - 前処理"
   ]
  },
  {
   "cell_type": "code",
   "execution_count": 40,
   "metadata": {},
   "outputs": [
    {
     "data": {
      "text/html": [
       "<div><style>\n",
       ".dataframe > thead > tr > th,\n",
       ".dataframe > tbody > tr > td {\n",
       "  text-align: right;\n",
       "}\n",
       "</style>\n",
       "<small>shape: (1, 7)</small><table border=\"1\" class=\"dataframe\"><thead><tr><th>species</th><th>island</th><th>culmen_length_mm</th><th>culmen_depth_mm</th><th>flipper_length_mm</th><th>body_mass_g</th><th>sex</th></tr><tr><td>u32</td><td>u32</td><td>u32</td><td>u32</td><td>u32</td><td>u32</td><td>u32</td></tr></thead><tbody><tr><td>0</td><td>0</td><td>2</td><td>2</td><td>2</td><td>2</td><td>10</td></tr></tbody></table></div>"
      ],
      "text/plain": [
       "shape: (1, 7)\n",
       "┌─────────┬────────┬──────────────────┬─────────────────┬───────────────────┬─────────────┬─────┐\n",
       "│ species ┆ island ┆ culmen_length_mm ┆ culmen_depth_mm ┆ flipper_length_mm ┆ body_mass_g ┆ sex │\n",
       "│ ---     ┆ ---    ┆ ---              ┆ ---             ┆ ---               ┆ ---         ┆ --- │\n",
       "│ u32     ┆ u32    ┆ u32              ┆ u32             ┆ u32               ┆ u32         ┆ u32 │\n",
       "╞═════════╪════════╪══════════════════╪═════════════════╪═══════════════════╪═════════════╪═════╡\n",
       "│ 0       ┆ 0      ┆ 2                ┆ 2               ┆ 2                 ┆ 2           ┆ 10  │\n",
       "└─────────┴────────┴──────────────────┴─────────────────┴───────────────────┴─────────────┴─────┘"
      ]
     },
     "execution_count": 40,
     "metadata": {},
     "output_type": "execute_result"
    }
   ],
   "source": [
    "df.null_count()"
   ]
  },
  {
   "cell_type": "code",
   "execution_count": 41,
   "metadata": {},
   "outputs": [],
   "source": [
    "# sexカラムの.は欠損値扱いとする。\n",
    "df = df.with_columns(\n",
    "    (pl.when(pl.col('sex') == '.').then(None).otherwise(pl.col('sex'))).alias('sex')\n",
    ")"
   ]
  },
  {
   "cell_type": "code",
   "execution_count": 42,
   "metadata": {},
   "outputs": [],
   "source": [
    "# 欠損値が多すぎる行（値が入っている列が3つより少ない行）を削除する。\n",
    "# この操作はPolarsだと面倒なので、一回Pandasに変換してやる。\n",
    "df = pl.from_pandas(df.to_pandas().dropna(thresh=3))"
   ]
  },
  {
   "cell_type": "code",
   "execution_count": 43,
   "metadata": {},
   "outputs": [
    {
     "data": {
      "text/html": [
       "<div><style>\n",
       ".dataframe > thead > tr > th,\n",
       ".dataframe > tbody > tr > td {\n",
       "  text-align: right;\n",
       "}\n",
       "</style>\n",
       "<small>shape: (1, 7)</small><table border=\"1\" class=\"dataframe\"><thead><tr><th>species</th><th>island</th><th>culmen_length_mm</th><th>culmen_depth_mm</th><th>flipper_length_mm</th><th>body_mass_g</th><th>sex</th></tr><tr><td>u32</td><td>u32</td><td>u32</td><td>u32</td><td>u32</td><td>u32</td><td>u32</td></tr></thead><tbody><tr><td>0</td><td>0</td><td>0</td><td>0</td><td>0</td><td>0</td><td>9</td></tr></tbody></table></div>"
      ],
      "text/plain": [
       "shape: (1, 7)\n",
       "┌─────────┬────────┬──────────────────┬─────────────────┬───────────────────┬─────────────┬─────┐\n",
       "│ species ┆ island ┆ culmen_length_mm ┆ culmen_depth_mm ┆ flipper_length_mm ┆ body_mass_g ┆ sex │\n",
       "│ ---     ┆ ---    ┆ ---              ┆ ---             ┆ ---               ┆ ---         ┆ --- │\n",
       "│ u32     ┆ u32    ┆ u32              ┆ u32             ┆ u32               ┆ u32         ┆ u32 │\n",
       "╞═════════╪════════╪══════════════════╪═════════════════╪═══════════════════╪═════════════╪═════╡\n",
       "│ 0       ┆ 0      ┆ 0                ┆ 0               ┆ 0                 ┆ 0           ┆ 9   │\n",
       "└─────────┴────────┴──────────────────┴─────────────────┴───────────────────┴─────────────┴─────┘"
      ]
     },
     "execution_count": 43,
     "metadata": {},
     "output_type": "execute_result"
    }
   ],
   "source": [
    "df.null_count()"
   ]
  },
  {
   "cell_type": "code",
   "execution_count": 44,
   "metadata": {},
   "outputs": [],
   "source": [
    "target = 'species'\n",
    "X = df.drop(target)\n",
    "y = df.get_column(target)"
   ]
  },
  {
   "cell_type": "code",
   "execution_count": 45,
   "metadata": {},
   "outputs": [
    {
     "data": {
      "text/html": [
       "<div><style>\n",
       ".dataframe > thead > tr > th,\n",
       ".dataframe > tbody > tr > td {\n",
       "  text-align: right;\n",
       "}\n",
       "</style>\n",
       "<small>shape: (1, 6)</small><table border=\"1\" class=\"dataframe\"><thead><tr><th>island</th><th>culmen_length_mm</th><th>culmen_depth_mm</th><th>flipper_length_mm</th><th>body_mass_g</th><th>sex</th></tr><tr><td>u32</td><td>u32</td><td>u32</td><td>u32</td><td>u32</td><td>u32</td></tr></thead><tbody><tr><td>0</td><td>0</td><td>0</td><td>0</td><td>0</td><td>0</td></tr></tbody></table></div>"
      ],
      "text/plain": [
       "shape: (1, 6)\n",
       "┌────────┬──────────────────┬─────────────────┬───────────────────┬─────────────┬─────┐\n",
       "│ island ┆ culmen_length_mm ┆ culmen_depth_mm ┆ flipper_length_mm ┆ body_mass_g ┆ sex │\n",
       "│ ---    ┆ ---              ┆ ---             ┆ ---               ┆ ---         ┆ --- │\n",
       "│ u32    ┆ u32              ┆ u32             ┆ u32               ┆ u32         ┆ u32 │\n",
       "╞════════╪══════════════════╪═════════════════╪═══════════════════╪═════════════╪═════╡\n",
       "│ 0      ┆ 0                ┆ 0               ┆ 0                 ┆ 0           ┆ 0   │\n",
       "└────────┴──────────────────┴─────────────────┴───────────────────┴─────────────┴─────┘"
      ]
     },
     "execution_count": 45,
     "metadata": {},
     "output_type": "execute_result"
    }
   ],
   "source": [
    "# sexカラムの欠損値を文字列の'NaN'で置き換える\n",
    "X = X.fill_null('NaN')\n",
    "X.null_count()"
   ]
  },
  {
   "attachments": {},
   "cell_type": "markdown",
   "metadata": {},
   "source": [
    "今回は欠損値を新たなカテゴリ'NaN'として扱うだけなので、欠損値対応を交差検証の中で行う必要はない。  \n",
    "この段階でOne-hot Encodingによるダミー変数化を行うと、greedy feature selectionによる特徴量選択がダミー変数も含む状態で行われ、  \n",
    "計算量が多くなる（多分）、かつ元の特徴量を部分的に使うことになってしまいわかりづらくなってしまうので、  \n",
    "ダミー変数化はpipelineにしてgreedy feature selectionのCVの中で行う。"
   ]
  },
  {
   "attachments": {},
   "cell_type": "markdown",
   "metadata": {},
   "source": [
    "### - 特徴量エンジニアリング"
   ]
  },
  {
   "attachments": {},
   "cell_type": "markdown",
   "metadata": {},
   "source": [
    "ここでは多項式特徴量と四則演算した結果を用いる。"
   ]
  },
  {
   "cell_type": "code",
   "execution_count": 46,
   "metadata": {},
   "outputs": [],
   "source": [
    "# 多項式特徴量\n",
    "poly = PolynomialFeatures(degree=2, include_bias=False)\n",
    "poly_length_depth = poly.fit_transform(X.select(['culmen_length_mm', 'culmen_depth_mm']))"
   ]
  },
  {
   "cell_type": "code",
   "execution_count": 47,
   "metadata": {},
   "outputs": [],
   "source": [
    "X = X.with_columns([\n",
    "    pl.Series(poly_length_depth[:, 0]).alias('culmen_length_mm'),\n",
    "    pl.Series(poly_length_depth[:, 1]).alias('culmen_depth_mm'),\n",
    "    pl.Series(poly_length_depth[:, 2]).alias('culmen_length_mm^2'),\n",
    "    pl.Series(poly_length_depth[:, 3]).alias('culmen_length_X_depth'),\n",
    "    pl.Series(poly_length_depth[:, 4]).alias('culmen_depth_mm^2')\n",
    "])"
   ]
  },
  {
   "cell_type": "code",
   "execution_count": 48,
   "metadata": {},
   "outputs": [],
   "source": [
    "# culmen_length_mm, culmen_depth_mmの差と比を計算する\n",
    "X = X.with_columns([\n",
    "    (pl.col('culmen_length_mm') - pl.col('culmen_depth_mm')).alias('culmen_diff'),\n",
    "    (pl.col('culmen_length_mm') / pl.col('culmen_depth_mm')).alias('culmen_ratio'),\n",
    "])"
   ]
  },
  {
   "cell_type": "code",
   "execution_count": 49,
   "metadata": {},
   "outputs": [
    {
     "data": {
      "text/html": [
       "<div><style>\n",
       ".dataframe > thead > tr > th,\n",
       ".dataframe > tbody > tr > td {\n",
       "  text-align: right;\n",
       "}\n",
       "</style>\n",
       "<small>shape: (3, 11)</small><table border=\"1\" class=\"dataframe\"><thead><tr><th>island</th><th>culmen_length_mm</th><th>culmen_depth_mm</th><th>flipper_length_mm</th><th>body_mass_g</th><th>sex</th><th>culmen_length_mm^2</th><th>culmen_length_X_depth</th><th>culmen_depth_mm^2</th><th>culmen_diff</th><th>culmen_ratio</th></tr><tr><td>str</td><td>f64</td><td>f64</td><td>f32</td><td>f32</td><td>str</td><td>f64</td><td>f64</td><td>f64</td><td>f64</td><td>f64</td></tr></thead><tbody><tr><td>&quot;Torgersen&quot;</td><td>39.099998</td><td>18.700001</td><td>181.0</td><td>3750.0</td><td>&quot;MALE&quot;</td><td>1528.809881</td><td>731.170001</td><td>349.690029</td><td>20.399998</td><td>2.090909</td></tr><tr><td>&quot;Torgersen&quot;</td><td>39.5</td><td>17.4</td><td>186.0</td><td>3800.0</td><td>&quot;FEMALE&quot;</td><td>1560.25</td><td>687.299985</td><td>302.759987</td><td>22.1</td><td>2.270115</td></tr><tr><td>&quot;Torgersen&quot;</td><td>40.299999</td><td>18.0</td><td>195.0</td><td>3250.0</td><td>&quot;FEMALE&quot;</td><td>1624.089939</td><td>725.399986</td><td>324.0</td><td>22.299999</td><td>2.238889</td></tr></tbody></table></div>"
      ],
      "text/plain": [
       "shape: (3, 11)\n",
       "┌────┬────────────┬────────────┬────────────┬───┬────────────┬────────────┬───────────┬────────────┐\n",
       "│ is ┆ culmen_len ┆ culmen_dep ┆ flipper_le ┆ … ┆ culmen_len ┆ culmen_dep ┆ culmen_di ┆ culmen_rat │\n",
       "│ la ┆ gth_mm     ┆ th_mm      ┆ ngth_mm    ┆   ┆ gth_X_dept ┆ th_mm^2    ┆ ff        ┆ io         │\n",
       "│ nd ┆ ---        ┆ ---        ┆ ---        ┆   ┆ h          ┆ ---        ┆ ---       ┆ ---        │\n",
       "│ -- ┆ f64        ┆ f64        ┆ f32        ┆   ┆ ---        ┆ f64        ┆ f64       ┆ f64        │\n",
       "│ -  ┆            ┆            ┆            ┆   ┆ f64        ┆            ┆           ┆            │\n",
       "│ st ┆            ┆            ┆            ┆   ┆            ┆            ┆           ┆            │\n",
       "│ r  ┆            ┆            ┆            ┆   ┆            ┆            ┆           ┆            │\n",
       "╞════╪════════════╪════════════╪════════════╪═══╪════════════╪════════════╪═══════════╪════════════╡\n",
       "│ To ┆ 39.099998  ┆ 18.700001  ┆ 181.0      ┆ … ┆ 731.170001 ┆ 349.690029 ┆ 20.399998 ┆ 2.090909   │\n",
       "│ rg ┆            ┆            ┆            ┆   ┆            ┆            ┆           ┆            │\n",
       "│ er ┆            ┆            ┆            ┆   ┆            ┆            ┆           ┆            │\n",
       "│ se ┆            ┆            ┆            ┆   ┆            ┆            ┆           ┆            │\n",
       "│ n  ┆            ┆            ┆            ┆   ┆            ┆            ┆           ┆            │\n",
       "│ To ┆ 39.5       ┆ 17.4       ┆ 186.0      ┆ … ┆ 687.299985 ┆ 302.759987 ┆ 22.1      ┆ 2.270115   │\n",
       "│ rg ┆            ┆            ┆            ┆   ┆            ┆            ┆           ┆            │\n",
       "│ er ┆            ┆            ┆            ┆   ┆            ┆            ┆           ┆            │\n",
       "│ se ┆            ┆            ┆            ┆   ┆            ┆            ┆           ┆            │\n",
       "│ n  ┆            ┆            ┆            ┆   ┆            ┆            ┆           ┆            │\n",
       "│ To ┆ 40.299999  ┆ 18.0       ┆ 195.0      ┆ … ┆ 725.399986 ┆ 324.0      ┆ 22.299999 ┆ 2.238889   │\n",
       "│ rg ┆            ┆            ┆            ┆   ┆            ┆            ┆           ┆            │\n",
       "│ er ┆            ┆            ┆            ┆   ┆            ┆            ┆           ┆            │\n",
       "│ se ┆            ┆            ┆            ┆   ┆            ┆            ┆           ┆            │\n",
       "│ n  ┆            ┆            ┆            ┆   ┆            ┆            ┆           ┆            │\n",
       "└────┴────────────┴────────────┴────────────┴───┴────────────┴────────────┴───────────┴────────────┘"
      ]
     },
     "execution_count": 49,
     "metadata": {},
     "output_type": "execute_result"
    }
   ],
   "source": [
    "X.head(3)"
   ]
  },
  {
   "attachments": {},
   "cell_type": "markdown",
   "metadata": {},
   "source": [
    "### - CVの準備"
   ]
  },
  {
   "cell_type": "code",
   "execution_count": 50,
   "metadata": {},
   "outputs": [],
   "source": [
    "# cvインスタンスを生成。3 fold で評価する。\n",
    "cv = KFold(n_splits=3, random_state=0, shuffle=True)"
   ]
  },
  {
   "cell_type": "code",
   "execution_count": 54,
   "metadata": {},
   "outputs": [],
   "source": [
    "# # 一連の学習・予測用のPipelineを定義。\n",
    "# pipe = Pipeline(steps=[('dummies', OneHotEncoder(drop='first',handle_unknown='ignore', sparse_output=False)),\n",
    "#                        ('std_scale', StandardScaler()),\n",
    "#                        ('model', LogisticRegression())])"
   ]
  },
  {
   "attachments": {},
   "cell_type": "markdown",
   "metadata": {},
   "source": [
    "OneHotEncoderはfitに入れたデータをすべてカテゴリカル変数としてエンコーディングしてしまうので、  \n",
    "本来のカテゴリカル変数だけエンコーディングしたい場合はColumnsTransformerでカラム名のリストを指定する必要がある。  \n",
    "しかし、今回の場合はGreedy Feature Selectionでカラムそれぞれに対して学習していくため、  \n",
    "カラム名のリストを指定すると、学習時に該当カラムがなくてエラーになってしまう。  \n",
    "そこで、自動的にカテゴリカル変数を検出可能なpandasのpd.get_dummiesを用いる。  \n",
    "ただし、get_dummiesには.fitがないので、Pipelineのtransformerとして指定するには、  \n",
    "新たにダミー変数化するクラスを作ってfitメソッドを実装する必要がある。  \n",
    "このように既存の機能＋αのクラスを自作するケースは実務でも時々あるらしい。  "
   ]
  },
  {
   "cell_type": "code",
   "execution_count": 158,
   "metadata": {},
   "outputs": [],
   "source": [
    "# ダミー変数化するクラスの実装。コア部分はpd.get_dummiesを使用している。\n",
    "\n",
    "# Transformerを自作するには下記の２クラスを継承する必要がある。 \n",
    "from sklearn.base import BaseEstimator, TransformerMixin\n",
    "\n",
    "class GetDummies(BaseEstimator, TransformerMixin):\n",
    "    def __init__(self):\n",
    "        self.columns = None\n",
    "\n",
    "    \n",
    "    def fit(self, X, y=None):\n",
    "        # 学習データをダミー変数化したときのカラム名を記録しておく\n",
    "        # これは学習時に使ったカラムとテストデータに対する予測時に使うカラムを揃えるための前処理。\n",
    "        self.columns = pd.get_dummies(X, drop_first=True).columns\n",
    "        return self\n",
    "\n",
    "    def transform(self, X):\n",
    "        X_new = pd.get_dummies(X, drop_first=True)\n",
    "        # .reindexによってX_newをcolumnsの順に並び替える。\n",
    "        # もしもX_newにないカラムがある場合は、columnsに従って新しく列が追加されて全て0で埋められる。\n",
    "        # これは学習データにあってテストデータにないカテゴリがある場合を想定した措置。\n",
    "        # reindexの説明: https://note.nkmk.me/python-pandas-reindex/\n",
    "        return X_new.reindex(columns=self.columns, fill_value=0)\n"
   ]
  },
  {
   "cell_type": "code",
   "execution_count": 159,
   "metadata": {},
   "outputs": [
    {
     "data": {
      "text/html": [
       "<div>\n",
       "<style scoped>\n",
       "    .dataframe tbody tr th:only-of-type {\n",
       "        vertical-align: middle;\n",
       "    }\n",
       "\n",
       "    .dataframe tbody tr th {\n",
       "        vertical-align: top;\n",
       "    }\n",
       "\n",
       "    .dataframe thead th {\n",
       "        text-align: right;\n",
       "    }\n",
       "</style>\n",
       "<table border=\"1\" class=\"dataframe\">\n",
       "  <thead>\n",
       "    <tr style=\"text-align: right;\">\n",
       "      <th></th>\n",
       "      <th>culmen_length_mm</th>\n",
       "      <th>culmen_depth_mm</th>\n",
       "      <th>flipper_length_mm</th>\n",
       "      <th>body_mass_g</th>\n",
       "      <th>culmen_length_mm^2</th>\n",
       "      <th>culmen_length_X_depth</th>\n",
       "      <th>culmen_depth_mm^2</th>\n",
       "      <th>culmen_diff</th>\n",
       "      <th>culmen_ratio</th>\n",
       "      <th>island_Dream</th>\n",
       "      <th>island_Torgersen</th>\n",
       "      <th>sex_MALE</th>\n",
       "      <th>sex_NaN</th>\n",
       "    </tr>\n",
       "  </thead>\n",
       "  <tbody>\n",
       "    <tr>\n",
       "      <th>0</th>\n",
       "      <td>39.099998</td>\n",
       "      <td>18.700001</td>\n",
       "      <td>181.0</td>\n",
       "      <td>3750.0</td>\n",
       "      <td>1528.809881</td>\n",
       "      <td>731.170001</td>\n",
       "      <td>349.690029</td>\n",
       "      <td>20.399998</td>\n",
       "      <td>2.090909</td>\n",
       "      <td>0</td>\n",
       "      <td>1</td>\n",
       "      <td>1</td>\n",
       "      <td>0</td>\n",
       "    </tr>\n",
       "    <tr>\n",
       "      <th>1</th>\n",
       "      <td>39.500000</td>\n",
       "      <td>17.400000</td>\n",
       "      <td>186.0</td>\n",
       "      <td>3800.0</td>\n",
       "      <td>1560.250000</td>\n",
       "      <td>687.299985</td>\n",
       "      <td>302.759987</td>\n",
       "      <td>22.100000</td>\n",
       "      <td>2.270115</td>\n",
       "      <td>0</td>\n",
       "      <td>1</td>\n",
       "      <td>0</td>\n",
       "      <td>0</td>\n",
       "    </tr>\n",
       "    <tr>\n",
       "      <th>2</th>\n",
       "      <td>40.299999</td>\n",
       "      <td>18.000000</td>\n",
       "      <td>195.0</td>\n",
       "      <td>3250.0</td>\n",
       "      <td>1624.089939</td>\n",
       "      <td>725.399986</td>\n",
       "      <td>324.000000</td>\n",
       "      <td>22.299999</td>\n",
       "      <td>2.238889</td>\n",
       "      <td>0</td>\n",
       "      <td>1</td>\n",
       "      <td>0</td>\n",
       "      <td>0</td>\n",
       "    </tr>\n",
       "    <tr>\n",
       "      <th>3</th>\n",
       "      <td>36.700001</td>\n",
       "      <td>19.299999</td>\n",
       "      <td>193.0</td>\n",
       "      <td>3450.0</td>\n",
       "      <td>1346.890056</td>\n",
       "      <td>708.309987</td>\n",
       "      <td>372.489971</td>\n",
       "      <td>17.400002</td>\n",
       "      <td>1.901555</td>\n",
       "      <td>0</td>\n",
       "      <td>1</td>\n",
       "      <td>0</td>\n",
       "      <td>0</td>\n",
       "    </tr>\n",
       "    <tr>\n",
       "      <th>4</th>\n",
       "      <td>39.299999</td>\n",
       "      <td>20.600000</td>\n",
       "      <td>190.0</td>\n",
       "      <td>3650.0</td>\n",
       "      <td>1544.489940</td>\n",
       "      <td>809.579999</td>\n",
       "      <td>424.360016</td>\n",
       "      <td>18.699999</td>\n",
       "      <td>1.907767</td>\n",
       "      <td>0</td>\n",
       "      <td>1</td>\n",
       "      <td>1</td>\n",
       "      <td>0</td>\n",
       "    </tr>\n",
       "  </tbody>\n",
       "</table>\n",
       "</div>"
      ],
      "text/plain": [
       "   culmen_length_mm  culmen_depth_mm  flipper_length_mm  body_mass_g  \\\n",
       "0         39.099998        18.700001              181.0       3750.0   \n",
       "1         39.500000        17.400000              186.0       3800.0   \n",
       "2         40.299999        18.000000              195.0       3250.0   \n",
       "3         36.700001        19.299999              193.0       3450.0   \n",
       "4         39.299999        20.600000              190.0       3650.0   \n",
       "\n",
       "   culmen_length_mm^2  culmen_length_X_depth  culmen_depth_mm^2  culmen_diff  \\\n",
       "0         1528.809881             731.170001         349.690029    20.399998   \n",
       "1         1560.250000             687.299985         302.759987    22.100000   \n",
       "2         1624.089939             725.399986         324.000000    22.299999   \n",
       "3         1346.890056             708.309987         372.489971    17.400002   \n",
       "4         1544.489940             809.579999         424.360016    18.699999   \n",
       "\n",
       "   culmen_ratio  island_Dream  island_Torgersen  sex_MALE  sex_NaN  \n",
       "0      2.090909             0                 1         1        0  \n",
       "1      2.270115             0                 1         0        0  \n",
       "2      2.238889             0                 1         0        0  \n",
       "3      1.901555             0                 1         0        0  \n",
       "4      1.907767             0                 1         1        0  "
      ]
     },
     "execution_count": 159,
     "metadata": {},
     "output_type": "execute_result"
    }
   ],
   "source": [
    "gd = GetDummies()\n",
    "gd.fit(X.to_pandas())\n",
    "gd.transform(X.to_pandas()).head()"
   ]
  },
  {
   "attachments": {},
   "cell_type": "markdown",
   "metadata": {},
   "source": [
    "ちゃんと動いていそう"
   ]
  },
  {
   "cell_type": "code",
   "execution_count": 160,
   "metadata": {},
   "outputs": [
    {
     "data": {
      "text/html": [
       "<style>#sk-container-id-11 {color: black;background-color: white;}#sk-container-id-11 pre{padding: 0;}#sk-container-id-11 div.sk-toggleable {background-color: white;}#sk-container-id-11 label.sk-toggleable__label {cursor: pointer;display: block;width: 100%;margin-bottom: 0;padding: 0.3em;box-sizing: border-box;text-align: center;}#sk-container-id-11 label.sk-toggleable__label-arrow:before {content: \"▸\";float: left;margin-right: 0.25em;color: #696969;}#sk-container-id-11 label.sk-toggleable__label-arrow:hover:before {color: black;}#sk-container-id-11 div.sk-estimator:hover label.sk-toggleable__label-arrow:before {color: black;}#sk-container-id-11 div.sk-toggleable__content {max-height: 0;max-width: 0;overflow: hidden;text-align: left;background-color: #f0f8ff;}#sk-container-id-11 div.sk-toggleable__content pre {margin: 0.2em;color: black;border-radius: 0.25em;background-color: #f0f8ff;}#sk-container-id-11 input.sk-toggleable__control:checked~div.sk-toggleable__content {max-height: 200px;max-width: 100%;overflow: auto;}#sk-container-id-11 input.sk-toggleable__control:checked~label.sk-toggleable__label-arrow:before {content: \"▾\";}#sk-container-id-11 div.sk-estimator input.sk-toggleable__control:checked~label.sk-toggleable__label {background-color: #d4ebff;}#sk-container-id-11 div.sk-label input.sk-toggleable__control:checked~label.sk-toggleable__label {background-color: #d4ebff;}#sk-container-id-11 input.sk-hidden--visually {border: 0;clip: rect(1px 1px 1px 1px);clip: rect(1px, 1px, 1px, 1px);height: 1px;margin: -1px;overflow: hidden;padding: 0;position: absolute;width: 1px;}#sk-container-id-11 div.sk-estimator {font-family: monospace;background-color: #f0f8ff;border: 1px dotted black;border-radius: 0.25em;box-sizing: border-box;margin-bottom: 0.5em;}#sk-container-id-11 div.sk-estimator:hover {background-color: #d4ebff;}#sk-container-id-11 div.sk-parallel-item::after {content: \"\";width: 100%;border-bottom: 1px solid gray;flex-grow: 1;}#sk-container-id-11 div.sk-label:hover label.sk-toggleable__label {background-color: #d4ebff;}#sk-container-id-11 div.sk-serial::before {content: \"\";position: absolute;border-left: 1px solid gray;box-sizing: border-box;top: 0;bottom: 0;left: 50%;z-index: 0;}#sk-container-id-11 div.sk-serial {display: flex;flex-direction: column;align-items: center;background-color: white;padding-right: 0.2em;padding-left: 0.2em;position: relative;}#sk-container-id-11 div.sk-item {position: relative;z-index: 1;}#sk-container-id-11 div.sk-parallel {display: flex;align-items: stretch;justify-content: center;background-color: white;position: relative;}#sk-container-id-11 div.sk-item::before, #sk-container-id-11 div.sk-parallel-item::before {content: \"\";position: absolute;border-left: 1px solid gray;box-sizing: border-box;top: 0;bottom: 0;left: 50%;z-index: -1;}#sk-container-id-11 div.sk-parallel-item {display: flex;flex-direction: column;z-index: 1;position: relative;background-color: white;}#sk-container-id-11 div.sk-parallel-item:first-child::after {align-self: flex-end;width: 50%;}#sk-container-id-11 div.sk-parallel-item:last-child::after {align-self: flex-start;width: 50%;}#sk-container-id-11 div.sk-parallel-item:only-child::after {width: 0;}#sk-container-id-11 div.sk-dashed-wrapped {border: 1px dashed gray;margin: 0 0.4em 0.5em 0.4em;box-sizing: border-box;padding-bottom: 0.4em;background-color: white;}#sk-container-id-11 div.sk-label label {font-family: monospace;font-weight: bold;display: inline-block;line-height: 1.2em;}#sk-container-id-11 div.sk-label-container {text-align: center;}#sk-container-id-11 div.sk-container {/* jupyter's `normalize.less` sets `[hidden] { display: none; }` but bootstrap.min.css set `[hidden] { display: none !important; }` so we also need the `!important` here to be able to override the default hidden behavior on the sphinx rendered scikit-learn.org. See: https://github.com/scikit-learn/scikit-learn/issues/21755 */display: inline-block !important;position: relative;}#sk-container-id-11 div.sk-text-repr-fallback {display: none;}</style><div id=\"sk-container-id-11\" class=\"sk-top-container\"><div class=\"sk-text-repr-fallback\"><pre>Pipeline(steps=[(&#x27;dummiy&#x27;, GetDummies()), (&#x27;scaler&#x27;, StandardScaler()),\n",
       "                (&#x27;model&#x27;, LogisticRegression())])</pre><b>In a Jupyter environment, please rerun this cell to show the HTML representation or trust the notebook. <br />On GitHub, the HTML representation is unable to render, please try loading this page with nbviewer.org.</b></div><div class=\"sk-container\" hidden><div class=\"sk-item sk-dashed-wrapped\"><div class=\"sk-label-container\"><div class=\"sk-label sk-toggleable\"><input class=\"sk-toggleable__control sk-hidden--visually\" id=\"sk-estimator-id-38\" type=\"checkbox\" ><label for=\"sk-estimator-id-38\" class=\"sk-toggleable__label sk-toggleable__label-arrow\">Pipeline</label><div class=\"sk-toggleable__content\"><pre>Pipeline(steps=[(&#x27;dummiy&#x27;, GetDummies()), (&#x27;scaler&#x27;, StandardScaler()),\n",
       "                (&#x27;model&#x27;, LogisticRegression())])</pre></div></div></div><div class=\"sk-serial\"><div class=\"sk-item\"><div class=\"sk-estimator sk-toggleable\"><input class=\"sk-toggleable__control sk-hidden--visually\" id=\"sk-estimator-id-39\" type=\"checkbox\" ><label for=\"sk-estimator-id-39\" class=\"sk-toggleable__label sk-toggleable__label-arrow\">GetDummies</label><div class=\"sk-toggleable__content\"><pre>GetDummies()</pre></div></div></div><div class=\"sk-item\"><div class=\"sk-estimator sk-toggleable\"><input class=\"sk-toggleable__control sk-hidden--visually\" id=\"sk-estimator-id-40\" type=\"checkbox\" ><label for=\"sk-estimator-id-40\" class=\"sk-toggleable__label sk-toggleable__label-arrow\">StandardScaler</label><div class=\"sk-toggleable__content\"><pre>StandardScaler()</pre></div></div></div><div class=\"sk-item\"><div class=\"sk-estimator sk-toggleable\"><input class=\"sk-toggleable__control sk-hidden--visually\" id=\"sk-estimator-id-41\" type=\"checkbox\" ><label for=\"sk-estimator-id-41\" class=\"sk-toggleable__label sk-toggleable__label-arrow\">LogisticRegression</label><div class=\"sk-toggleable__content\"><pre>LogisticRegression()</pre></div></div></div></div></div></div></div>"
      ],
      "text/plain": [
       "Pipeline(steps=[('dummiy', GetDummies()), ('scaler', StandardScaler()),\n",
       "                ('model', LogisticRegression())])"
      ]
     },
     "execution_count": 160,
     "metadata": {},
     "output_type": "execute_result"
    }
   ],
   "source": [
    "# Pipelineの定義\n",
    "pipe = Pipeline([('dummiy', GetDummies()),\n",
    "                 ('scaler', StandardScaler()),\n",
    "                 ('model', LogisticRegression())])\n",
    "\n",
    "pipe"
   ]
  },
  {
   "attachments": {},
   "cell_type": "markdown",
   "metadata": {},
   "source": [
    "### - Greedy feature selectionクラスの定義"
   ]
  },
  {
   "cell_type": "code",
   "execution_count": 161,
   "metadata": {},
   "outputs": [],
   "source": [
    "class GreedyFeatureSelection():\n",
    "\n",
    "    def __init__(self, pipeline, cv) -> None:\n",
    "        self.pipeline = pipeline\n",
    "        self.cv = cv\n",
    "        self.selected_features = []\n",
    "        self.scores = {}\n",
    "    \n",
    "    def select(self, X, y):\n",
    "        # 初期化\n",
    "        best_score_temp = 0\n",
    "        best_score_feature_temp = ''\n",
    "        # X.columnsはindexオブジェクトを返すため、リストにしておかないとremove等は使えない。\n",
    "        features_candidate = list(X.columns)\n",
    "        max_select_iterations = len(X.columns)\n",
    "        i = 0\n",
    "        \n",
    "        # 特徴量の選定ループ。whileループ1回につき、最大1つ特徴量が選定される。\n",
    "        while i != max_select_iterations:\n",
    "\n",
    "            # 「選定済み特徴量に特徴量を１つ加えて評価」を残り全特徴量分実施\n",
    "            for feature in features_candidate:\n",
    "                # 学習に使用する特徴量を定義\n",
    "                use_features = [feature] + self.selected_features\n",
    "                # 使用した特徴量によるCV評価結果の平均値をスコアとする。\n",
    "                score = cross_val_score(estimator=self.pipeline, cv=self.cv, X=X[use_features], y=y).mean()\n",
    "                # 暫定最高スコアと上記スコアの比較をし、高ければ暫定最高スコアを更新し、その特徴量を暫定チャンピオンとして格納\n",
    "                if best_score_temp < score:\n",
    "                    best_score_temp = score\n",
    "                    best_score_feature_temp = feature\n",
    "\n",
    "            # best_score_feature_temp（上記ループでの最終的なチャンピオン特徴量）が特徴量候補にある場合、\n",
    "            # チャンピオン特徴量を特徴量候補から除き、選定した特徴量のリストに加える\n",
    "            # 候補にない場合は、チャンピオン特徴量に更新がないということなので、選定を終了する。\n",
    "            if best_score_feature_temp in features_candidate:\n",
    "                features_candidate.remove(best_score_feature_temp)\n",
    "                self.selected_features.append(best_score_feature_temp)\n",
    "                self.scores[best_score_feature_temp] = best_score_temp\n",
    "                i += 1\n",
    "                print(f'特徴量{i}: {best_score_feature_temp}, スコア:{best_score_temp}')\n",
    "            else:\n",
    "                break\n",
    "\n",
    "        print('Greedy Feature Selection done!')\n"
   ]
  },
  {
   "cell_type": "code",
   "execution_count": 162,
   "metadata": {},
   "outputs": [
    {
     "name": "stdout",
     "output_type": "stream",
     "text": [
      "特徴量1: culmen_ratio, スコア:0.9619883040935672\n",
      "特徴量2: island, スコア:0.9912280701754387\n",
      "特徴量3: culmen_depth_mm^2, スコア:0.9970760233918128\n",
      "特徴量4: body_mass_g, スコア:1.0\n",
      "Greedy Feature Selection done!\n"
     ]
    }
   ],
   "source": [
    "gfs = GreedyFeatureSelection(pipe, cv)\n",
    "gfs.select(X.to_pandas(), y.to_pandas())"
   ]
  },
  {
   "cell_type": "code",
   "execution_count": 165,
   "metadata": {},
   "outputs": [
    {
     "data": {
      "text/plain": [
       "{'culmen_ratio': 0.9619883040935672,\n",
       " 'island': 0.9912280701754387,\n",
       " 'culmen_depth_mm^2': 0.9970760233918128,\n",
       " 'body_mass_g': 1.0}"
      ]
     },
     "execution_count": 165,
     "metadata": {},
     "output_type": "execute_result"
    }
   ],
   "source": [
    "gfs.scores"
   ]
  },
  {
   "attachments": {},
   "cell_type": "markdown",
   "metadata": {},
   "source": [
    "上記のような結果となった。  \n",
    "特徴量エンジニアリングの段階で有効そうだったculmen_ratioが一番に選ばれており、ちゃんと実装できていそう。"
   ]
  },
  {
   "attachments": {},
   "cell_type": "markdown",
   "metadata": {},
   "source": [
    "## Recursive Feature Elimination(RFE)"
   ]
  },
  {
   "cell_type": "code",
   "execution_count": 169,
   "metadata": {},
   "outputs": [],
   "source": [
    "# RFE用のモデルには今回決定木を用いる\n",
    "model = tree.DecisionTreeClassifier()\n",
    "\n",
    "# 残す特徴量の数を指定。estimatorには決定木のように重要度を計算できるモデルでないとだめ。\n",
    "rfe = RFE(estimator=model, n_features_to_select=6)"
   ]
  },
  {
   "cell_type": "code",
   "execution_count": 170,
   "metadata": {},
   "outputs": [
    {
     "data": {
      "text/html": [
       "<div>\n",
       "<style scoped>\n",
       "    .dataframe tbody tr th:only-of-type {\n",
       "        vertical-align: middle;\n",
       "    }\n",
       "\n",
       "    .dataframe tbody tr th {\n",
       "        vertical-align: top;\n",
       "    }\n",
       "\n",
       "    .dataframe thead th {\n",
       "        text-align: right;\n",
       "    }\n",
       "</style>\n",
       "<table border=\"1\" class=\"dataframe\">\n",
       "  <thead>\n",
       "    <tr style=\"text-align: right;\">\n",
       "      <th></th>\n",
       "      <th>culmen_diff</th>\n",
       "      <th>culmen_ratio</th>\n",
       "      <th>island_Dream</th>\n",
       "      <th>island_Torgersen</th>\n",
       "      <th>sex_MALE</th>\n",
       "      <th>sex_NaN</th>\n",
       "    </tr>\n",
       "  </thead>\n",
       "  <tbody>\n",
       "    <tr>\n",
       "      <th>0</th>\n",
       "      <td>20.399998</td>\n",
       "      <td>2.090909</td>\n",
       "      <td>0.0</td>\n",
       "      <td>1.0</td>\n",
       "      <td>1.0</td>\n",
       "      <td>0.0</td>\n",
       "    </tr>\n",
       "    <tr>\n",
       "      <th>1</th>\n",
       "      <td>22.100000</td>\n",
       "      <td>2.270115</td>\n",
       "      <td>0.0</td>\n",
       "      <td>1.0</td>\n",
       "      <td>0.0</td>\n",
       "      <td>0.0</td>\n",
       "    </tr>\n",
       "    <tr>\n",
       "      <th>2</th>\n",
       "      <td>22.299999</td>\n",
       "      <td>2.238889</td>\n",
       "      <td>0.0</td>\n",
       "      <td>1.0</td>\n",
       "      <td>0.0</td>\n",
       "      <td>0.0</td>\n",
       "    </tr>\n",
       "    <tr>\n",
       "      <th>3</th>\n",
       "      <td>17.400002</td>\n",
       "      <td>1.901555</td>\n",
       "      <td>0.0</td>\n",
       "      <td>1.0</td>\n",
       "      <td>0.0</td>\n",
       "      <td>0.0</td>\n",
       "    </tr>\n",
       "    <tr>\n",
       "      <th>4</th>\n",
       "      <td>18.699999</td>\n",
       "      <td>1.907767</td>\n",
       "      <td>0.0</td>\n",
       "      <td>1.0</td>\n",
       "      <td>1.0</td>\n",
       "      <td>0.0</td>\n",
       "    </tr>\n",
       "    <tr>\n",
       "      <th>...</th>\n",
       "      <td>...</td>\n",
       "      <td>...</td>\n",
       "      <td>...</td>\n",
       "      <td>...</td>\n",
       "      <td>...</td>\n",
       "      <td>...</td>\n",
       "    </tr>\n",
       "    <tr>\n",
       "      <th>337</th>\n",
       "      <td>33.500001</td>\n",
       "      <td>3.445256</td>\n",
       "      <td>0.0</td>\n",
       "      <td>0.0</td>\n",
       "      <td>0.0</td>\n",
       "      <td>0.0</td>\n",
       "    </tr>\n",
       "    <tr>\n",
       "      <th>338</th>\n",
       "      <td>32.499999</td>\n",
       "      <td>3.272727</td>\n",
       "      <td>0.0</td>\n",
       "      <td>0.0</td>\n",
       "      <td>0.0</td>\n",
       "      <td>0.0</td>\n",
       "    </tr>\n",
       "    <tr>\n",
       "      <th>339</th>\n",
       "      <td>34.700002</td>\n",
       "      <td>3.210191</td>\n",
       "      <td>0.0</td>\n",
       "      <td>0.0</td>\n",
       "      <td>1.0</td>\n",
       "      <td>0.0</td>\n",
       "    </tr>\n",
       "    <tr>\n",
       "      <th>340</th>\n",
       "      <td>30.400001</td>\n",
       "      <td>3.054054</td>\n",
       "      <td>0.0</td>\n",
       "      <td>0.0</td>\n",
       "      <td>0.0</td>\n",
       "      <td>0.0</td>\n",
       "    </tr>\n",
       "    <tr>\n",
       "      <th>341</th>\n",
       "      <td>33.800001</td>\n",
       "      <td>3.099379</td>\n",
       "      <td>0.0</td>\n",
       "      <td>0.0</td>\n",
       "      <td>1.0</td>\n",
       "      <td>0.0</td>\n",
       "    </tr>\n",
       "  </tbody>\n",
       "</table>\n",
       "<p>342 rows × 6 columns</p>\n",
       "</div>"
      ],
      "text/plain": [
       "     culmen_diff  culmen_ratio  island_Dream  island_Torgersen  sex_MALE  \\\n",
       "0      20.399998      2.090909           0.0               1.0       1.0   \n",
       "1      22.100000      2.270115           0.0               1.0       0.0   \n",
       "2      22.299999      2.238889           0.0               1.0       0.0   \n",
       "3      17.400002      1.901555           0.0               1.0       0.0   \n",
       "4      18.699999      1.907767           0.0               1.0       1.0   \n",
       "..           ...           ...           ...               ...       ...   \n",
       "337    33.500001      3.445256           0.0               0.0       0.0   \n",
       "338    32.499999      3.272727           0.0               0.0       0.0   \n",
       "339    34.700002      3.210191           0.0               0.0       1.0   \n",
       "340    30.400001      3.054054           0.0               0.0       0.0   \n",
       "341    33.800001      3.099379           0.0               0.0       1.0   \n",
       "\n",
       "     sex_NaN  \n",
       "0        0.0  \n",
       "1        0.0  \n",
       "2        0.0  \n",
       "3        0.0  \n",
       "4        0.0  \n",
       "..       ...  \n",
       "337      0.0  \n",
       "338      0.0  \n",
       "339      0.0  \n",
       "340      0.0  \n",
       "341      0.0  \n",
       "\n",
       "[342 rows x 6 columns]"
      ]
     },
     "execution_count": 170,
     "metadata": {},
     "output_type": "execute_result"
    }
   ],
   "source": [
    "# rfeにfitしてtransformする。\n",
    "X_pd = pd.get_dummies(X.to_pandas(), drop_first=True)\n",
    "rfe.fit(X_pd, y)\n",
    "rfe.set_output(transform='pandas')\n",
    "rfe.transform(X_pd)"
   ]
  },
  {
   "attachments": {},
   "cell_type": "markdown",
   "metadata": {},
   "source": [
    "特徴量選択された結果が返される。"
   ]
  },
  {
   "cell_type": "code",
   "execution_count": 172,
   "metadata": {},
   "outputs": [
    {
     "data": {
      "text/plain": [
       "array([8, 7, 6, 5, 4, 3, 2, 1, 1, 1, 1, 1, 1])"
      ]
     },
     "execution_count": 172,
     "metadata": {},
     "output_type": "execute_result"
    }
   ],
   "source": [
    "# 重要度ランキングを表示\n",
    "rfe.ranking_"
   ]
  },
  {
   "cell_type": "code",
   "execution_count": 173,
   "metadata": {},
   "outputs": [
    {
     "data": {
      "text/plain": [
       "array(['culmen_diff', 'culmen_ratio', 'island_Dream', 'island_Torgersen',\n",
       "       'sex_MALE', 'sex_NaN'], dtype=object)"
      ]
     },
     "execution_count": 173,
     "metadata": {},
     "output_type": "execute_result"
    }
   ],
   "source": [
    "# ランキング１位のものが選択結果になっている\n",
    "rfe.feature_names_in_[rfe.ranking_==1]"
   ]
  },
  {
   "cell_type": "code",
   "execution_count": 174,
   "metadata": {},
   "outputs": [
    {
     "data": {
      "text/plain": [
       "array([False, False, False, False, False, False, False,  True,  True,\n",
       "        True,  True,  True,  True])"
      ]
     },
     "execution_count": 174,
     "metadata": {},
     "output_type": "execute_result"
    }
   ],
   "source": [
    "rfe.support_"
   ]
  },
  {
   "cell_type": "code",
   "execution_count": 175,
   "metadata": {},
   "outputs": [
    {
     "data": {
      "text/plain": [
       "array(['culmen_diff', 'culmen_ratio', 'island_Dream', 'island_Torgersen',\n",
       "       'sex_MALE', 'sex_NaN'], dtype=object)"
      ]
     },
     "execution_count": 175,
     "metadata": {},
     "output_type": "execute_result"
    }
   ],
   "source": [
    "rfe.feature_names_in_[rfe.support_]"
   ]
  },
  {
   "attachments": {},
   "cell_type": "markdown",
   "metadata": {},
   "source": [
    ".supportは選ばれたかどうかのマスクが返される。  \n",
    "実際の学習にrfeを組み込む場合は、パイプラインの中でrfeをすればよい。  \n",
    "(rfeのestimatorと学習に使うestimatorは同じ方が良い気がする)"
   ]
  },
  {
   "cell_type": "code",
   "execution_count": 179,
   "metadata": {},
   "outputs": [
    {
     "data": {
      "text/html": [
       "<div>\n",
       "<style scoped>\n",
       "    .dataframe tbody tr th:only-of-type {\n",
       "        vertical-align: middle;\n",
       "    }\n",
       "\n",
       "    .dataframe tbody tr th {\n",
       "        vertical-align: top;\n",
       "    }\n",
       "\n",
       "    .dataframe thead th {\n",
       "        text-align: right;\n",
       "    }\n",
       "</style>\n",
       "<table border=\"1\" class=\"dataframe\">\n",
       "  <thead>\n",
       "    <tr style=\"text-align: right;\">\n",
       "      <th></th>\n",
       "      <th>culmen_diff</th>\n",
       "      <th>culmen_ratio</th>\n",
       "      <th>island_Dream</th>\n",
       "    </tr>\n",
       "  </thead>\n",
       "  <tbody>\n",
       "    <tr>\n",
       "      <th>0</th>\n",
       "      <td>20.399998</td>\n",
       "      <td>2.090909</td>\n",
       "      <td>0.0</td>\n",
       "    </tr>\n",
       "    <tr>\n",
       "      <th>1</th>\n",
       "      <td>22.100000</td>\n",
       "      <td>2.270115</td>\n",
       "      <td>0.0</td>\n",
       "    </tr>\n",
       "    <tr>\n",
       "      <th>2</th>\n",
       "      <td>22.299999</td>\n",
       "      <td>2.238889</td>\n",
       "      <td>0.0</td>\n",
       "    </tr>\n",
       "    <tr>\n",
       "      <th>3</th>\n",
       "      <td>17.400002</td>\n",
       "      <td>1.901555</td>\n",
       "      <td>0.0</td>\n",
       "    </tr>\n",
       "    <tr>\n",
       "      <th>4</th>\n",
       "      <td>18.699999</td>\n",
       "      <td>1.907767</td>\n",
       "      <td>0.0</td>\n",
       "    </tr>\n",
       "    <tr>\n",
       "      <th>...</th>\n",
       "      <td>...</td>\n",
       "      <td>...</td>\n",
       "      <td>...</td>\n",
       "    </tr>\n",
       "    <tr>\n",
       "      <th>337</th>\n",
       "      <td>33.500001</td>\n",
       "      <td>3.445256</td>\n",
       "      <td>0.0</td>\n",
       "    </tr>\n",
       "    <tr>\n",
       "      <th>338</th>\n",
       "      <td>32.499999</td>\n",
       "      <td>3.272727</td>\n",
       "      <td>0.0</td>\n",
       "    </tr>\n",
       "    <tr>\n",
       "      <th>339</th>\n",
       "      <td>34.700002</td>\n",
       "      <td>3.210191</td>\n",
       "      <td>0.0</td>\n",
       "    </tr>\n",
       "    <tr>\n",
       "      <th>340</th>\n",
       "      <td>30.400001</td>\n",
       "      <td>3.054054</td>\n",
       "      <td>0.0</td>\n",
       "    </tr>\n",
       "    <tr>\n",
       "      <th>341</th>\n",
       "      <td>33.800001</td>\n",
       "      <td>3.099379</td>\n",
       "      <td>0.0</td>\n",
       "    </tr>\n",
       "  </tbody>\n",
       "</table>\n",
       "<p>342 rows × 3 columns</p>\n",
       "</div>"
      ],
      "text/plain": [
       "     culmen_diff  culmen_ratio  island_Dream\n",
       "0      20.399998      2.090909           0.0\n",
       "1      22.100000      2.270115           0.0\n",
       "2      22.299999      2.238889           0.0\n",
       "3      17.400002      1.901555           0.0\n",
       "4      18.699999      1.907767           0.0\n",
       "..           ...           ...           ...\n",
       "337    33.500001      3.445256           0.0\n",
       "338    32.499999      3.272727           0.0\n",
       "339    34.700002      3.210191           0.0\n",
       "340    30.400001      3.054054           0.0\n",
       "341    33.800001      3.099379           0.0\n",
       "\n",
       "[342 rows x 3 columns]"
      ]
     },
     "execution_count": 179,
     "metadata": {},
     "output_type": "execute_result"
    }
   ],
   "source": [
    "# RFEをCVで回す場合,RFECVを使う。RFECVでは自動的に特徴量の数が決定されるので指定する必要はない。\n",
    "rfecv = RFECV(model, cv=cv)\n",
    "rfecv.fit(X_pd, y)\n",
    "rfecv.set_output(transform='pandas')\n",
    "rfecv.transform(X_pd)"
   ]
  },
  {
   "cell_type": "code",
   "execution_count": 180,
   "metadata": {},
   "outputs": [
    {
     "data": {
      "text/plain": [
       "array(['culmen_diff', 'culmen_ratio', 'island_Dream'], dtype=object)"
      ]
     },
     "execution_count": 180,
     "metadata": {},
     "output_type": "execute_result"
    }
   ],
   "source": [
    "rfecv.feature_names_in_[rfecv.support_]"
   ]
  },
  {
   "attachments": {},
   "cell_type": "markdown",
   "metadata": {},
   "source": [
    "GreedyFeatureSelectionの結果と似たような感じになった。"
   ]
  },
  {
   "attachments": {},
   "cell_type": "markdown",
   "metadata": {},
   "source": [
    "## 特徴量の重要度をモデルの教えてもらって特徴量選択"
   ]
  },
  {
   "cell_type": "code",
   "execution_count": 193,
   "metadata": {},
   "outputs": [],
   "source": [
    "# モデルからの特徴量選択用インスタンスを生成。thresholdは選択するか否かの重要度の閾値\n",
    "sfm = SelectFromModel(estimator=RandomForestClassifier(random_state=0), threshold='median')\n",
    "sfm.set_output(transform='pandas')\n",
    "X_selected = sfm.fit_transform(X_pd, y)"
   ]
  },
  {
   "cell_type": "code",
   "execution_count": 195,
   "metadata": {},
   "outputs": [
    {
     "data": {
      "text/html": [
       "<div>\n",
       "<style scoped>\n",
       "    .dataframe tbody tr th:only-of-type {\n",
       "        vertical-align: middle;\n",
       "    }\n",
       "\n",
       "    .dataframe tbody tr th {\n",
       "        vertical-align: top;\n",
       "    }\n",
       "\n",
       "    .dataframe thead th {\n",
       "        text-align: right;\n",
       "    }\n",
       "</style>\n",
       "<table border=\"1\" class=\"dataframe\">\n",
       "  <thead>\n",
       "    <tr style=\"text-align: right;\">\n",
       "      <th></th>\n",
       "      <th>culmen_length_mm</th>\n",
       "      <th>culmen_depth_mm</th>\n",
       "      <th>flipper_length_mm</th>\n",
       "      <th>culmen_length_mm^2</th>\n",
       "      <th>culmen_depth_mm^2</th>\n",
       "      <th>culmen_diff</th>\n",
       "      <th>culmen_ratio</th>\n",
       "    </tr>\n",
       "  </thead>\n",
       "  <tbody>\n",
       "    <tr>\n",
       "      <th>0</th>\n",
       "      <td>39.099998</td>\n",
       "      <td>18.700001</td>\n",
       "      <td>181.0</td>\n",
       "      <td>1528.809881</td>\n",
       "      <td>349.690029</td>\n",
       "      <td>20.399998</td>\n",
       "      <td>2.090909</td>\n",
       "    </tr>\n",
       "    <tr>\n",
       "      <th>1</th>\n",
       "      <td>39.500000</td>\n",
       "      <td>17.400000</td>\n",
       "      <td>186.0</td>\n",
       "      <td>1560.250000</td>\n",
       "      <td>302.759987</td>\n",
       "      <td>22.100000</td>\n",
       "      <td>2.270115</td>\n",
       "    </tr>\n",
       "    <tr>\n",
       "      <th>2</th>\n",
       "      <td>40.299999</td>\n",
       "      <td>18.000000</td>\n",
       "      <td>195.0</td>\n",
       "      <td>1624.089939</td>\n",
       "      <td>324.000000</td>\n",
       "      <td>22.299999</td>\n",
       "      <td>2.238889</td>\n",
       "    </tr>\n",
       "  </tbody>\n",
       "</table>\n",
       "</div>"
      ],
      "text/plain": [
       "   culmen_length_mm  culmen_depth_mm  flipper_length_mm  culmen_length_mm^2  \\\n",
       "0         39.099998        18.700001              181.0         1528.809881   \n",
       "1         39.500000        17.400000              186.0         1560.250000   \n",
       "2         40.299999        18.000000              195.0         1624.089939   \n",
       "\n",
       "   culmen_depth_mm^2  culmen_diff  culmen_ratio  \n",
       "0         349.690029    20.399998      2.090909  \n",
       "1         302.759987    22.100000      2.270115  \n",
       "2         324.000000    22.299999      2.238889  "
      ]
     },
     "execution_count": 195,
     "metadata": {},
     "output_type": "execute_result"
    }
   ],
   "source": [
    "X_selected.head(3)"
   ]
  },
  {
   "cell_type": "code",
   "execution_count": 189,
   "metadata": {},
   "outputs": [
    {
     "name": "stdout",
     "output_type": "stream",
     "text": [
      "['culmen_length_mm' 'culmen_depth_mm' 'flipper_length_mm' 'body_mass_g'\n",
      " 'culmen_length_mm^2' 'culmen_length_X_depth' 'culmen_depth_mm^2'\n",
      " 'culmen_diff' 'culmen_ratio' 'island_Dream' 'island_Torgersen' 'sex_MALE'\n",
      " 'sex_NaN']\n",
      "[0.08924232 0.07924614 0.09930585 0.0525517  0.08097603 0.01473159\n",
      " 0.10925035 0.14531745 0.24560675 0.07466197 0.00589045 0.0032194\n",
      " 0.        ]\n"
     ]
    }
   ],
   "source": [
    "# 重要度を表示\n",
    "print(sfm.feature_names_in_)\n",
    "print(sfm.estimator_.feature_importances_)"
   ]
  },
  {
   "cell_type": "code",
   "execution_count": 196,
   "metadata": {},
   "outputs": [
    {
     "data": {
      "text/plain": [
       "array(['culmen_length_mm', 'culmen_depth_mm', 'flipper_length_mm',\n",
       "       'culmen_length_mm^2', 'culmen_depth_mm^2', 'culmen_diff',\n",
       "       'culmen_ratio'], dtype=object)"
      ]
     },
     "execution_count": 196,
     "metadata": {},
     "output_type": "execute_result"
    }
   ],
   "source": [
    "# 選ばれた特徴量を表示\n",
    "sfm.feature_names_in_[sfm.get_support()]"
   ]
  }
 ],
 "metadata": {
  "kernelspec": {
   "display_name": "Python 3 (ipykernel)",
   "language": "python",
   "name": "python3"
  },
  "language_info": {
   "codemirror_mode": {
    "name": "ipython",
    "version": 3
   },
   "file_extension": ".py",
   "mimetype": "text/x-python",
   "name": "python",
   "nbconvert_exporter": "python",
   "pygments_lexer": "ipython3",
   "version": "3.9.12"
  },
  "orig_nbformat": 4
 },
 "nbformat": 4,
 "nbformat_minor": 2
}
