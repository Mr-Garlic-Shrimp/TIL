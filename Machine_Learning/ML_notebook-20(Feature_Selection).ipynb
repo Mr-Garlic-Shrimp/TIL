{
 "cells": [
  {
   "attachments": {},
   "cell_type": "markdown",
   "metadata": {},
   "source": [
    "# 機械学習をPythonで実践する-20　　～ 特徴量選択 ～"
   ]
  },
  {
   "cell_type": "code",
   "execution_count": 2,
   "metadata": {},
   "outputs": [],
   "source": [
    "%load_ext autoreload\n",
    "%autoreload 2\n",
    "import polars as pl\n",
    "import pandas as pd\n",
    "import numpy as np\n",
    "import seaborn as sns\n",
    "import itertools\n",
    "from sklearn.preprocessing import StandardScaler, PolynomialFeatures, OrdinalEncoder, LabelEncoder, OneHotEncoder\n",
    "# # import statsmodels.api as sma\n",
    "from sklearn.model_selection import train_test_split ,cross_val_score, KFold, RepeatedKFold,StratifiedKFold\n",
    "from sklearn.neighbors import KNeighborsRegressor\n",
    "from sklearn.impute import SimpleImputer,KNNImputer\n",
    "from sklearn.pipeline import Pipeline\n",
    "import lightgbm as lgb\n",
    "from sklearn.metrics import mean_squared_error, mean_absolute_error, r2_score, log_loss, confusion_matrix,ConfusionMatrixDisplay, \\\n",
    "accuracy_score, precision_score, recall_score,precision_recall_curve,f1_score,roc_curve,auc,get_scorer_names,roc_auc_score\n",
    "from sklearn.compose import ColumnTransformer\n",
    "# from sklearn import tree\n",
    "# from sklearn.ensemble import BaggingClassifier,RandomForestClassifier,AdaBoostClassifier, GradientBoostingRegressor, GradientBoostingClassifier\n",
    "from lightGBM_cv import lightGBM_classifier_cv_func\n",
    "from category_encoders import TargetEncoder\n",
    "\n",
    "%matplotlib inline\n",
    "import matplotlib.pyplot as plt\n"
   ]
  },
  {
   "attachments": {},
   "cell_type": "markdown",
   "metadata": {},
   "source": [
    "## Greedy Feature Selection"
   ]
  },
  {
   "cell_type": "code",
   "execution_count": 14,
   "metadata": {},
   "outputs": [],
   "source": [
    "dtypes = {\n",
    "    \"species\": str,\n",
    "    'island': str,\n",
    "    'culmen_length_mm': pl.Float32, # くちばしの長さ[mm]\n",
    "    'culmen_depth_mm': pl.Float32, # くちばしの高さ[mm]\n",
    "    'flipper_length_mm': pl.Float32, # 翼の長さ[mm]\n",
    "    'body_mass_g': pl.Float32, # 体重[g]\n",
    "    'sex': str\n",
    "}\n",
    "\n",
    "# ペンギンのデータセット読み込み。欠損値がNAとして含まれているので、null_values=\"NA\"を指定しないと読み込みエラーになる。\n",
    "df = pl.read_csv('../Python/sample_data/ML_sample/penguins_size.csv',dtypes=dtypes, null_values='NA')\n"
   ]
  },
  {
   "attachments": {},
   "cell_type": "markdown",
   "metadata": {},
   "source": [
    "### - 前処理"
   ]
  },
  {
   "cell_type": "code",
   "execution_count": 15,
   "metadata": {},
   "outputs": [
    {
     "data": {
      "text/html": [
       "<div><style>\n",
       ".dataframe > thead > tr > th,\n",
       ".dataframe > tbody > tr > td {\n",
       "  text-align: right;\n",
       "}\n",
       "</style>\n",
       "<small>shape: (1, 7)</small><table border=\"1\" class=\"dataframe\"><thead><tr><th>species</th><th>island</th><th>culmen_length_mm</th><th>culmen_depth_mm</th><th>flipper_length_mm</th><th>body_mass_g</th><th>sex</th></tr><tr><td>u32</td><td>u32</td><td>u32</td><td>u32</td><td>u32</td><td>u32</td><td>u32</td></tr></thead><tbody><tr><td>0</td><td>0</td><td>2</td><td>2</td><td>2</td><td>2</td><td>10</td></tr></tbody></table></div>"
      ],
      "text/plain": [
       "shape: (1, 7)\n",
       "┌─────────┬────────┬──────────────────┬─────────────────┬───────────────────┬─────────────┬─────┐\n",
       "│ species ┆ island ┆ culmen_length_mm ┆ culmen_depth_mm ┆ flipper_length_mm ┆ body_mass_g ┆ sex │\n",
       "│ ---     ┆ ---    ┆ ---              ┆ ---             ┆ ---               ┆ ---         ┆ --- │\n",
       "│ u32     ┆ u32    ┆ u32              ┆ u32             ┆ u32               ┆ u32         ┆ u32 │\n",
       "╞═════════╪════════╪══════════════════╪═════════════════╪═══════════════════╪═════════════╪═════╡\n",
       "│ 0       ┆ 0      ┆ 2                ┆ 2               ┆ 2                 ┆ 2           ┆ 10  │\n",
       "└─────────┴────────┴──────────────────┴─────────────────┴───────────────────┴─────────────┴─────┘"
      ]
     },
     "execution_count": 15,
     "metadata": {},
     "output_type": "execute_result"
    }
   ],
   "source": [
    "df.null_count()"
   ]
  },
  {
   "cell_type": "code",
   "execution_count": 16,
   "metadata": {},
   "outputs": [],
   "source": [
    "# sexカラムの.は欠損値扱いとする。\n",
    "df = df.with_columns(\n",
    "    (pl.when(pl.col('sex') == '.').then(None).otherwise(pl.col('sex'))).alias('sex')\n",
    ")"
   ]
  },
  {
   "cell_type": "code",
   "execution_count": 17,
   "metadata": {},
   "outputs": [],
   "source": [
    "# 欠損値が多すぎる行（値が入っている列が3つより少ない行）を削除する。\n",
    "# この操作はPolarsだと面倒なので、一回Pandasに変換してやる。\n",
    "df = pl.from_pandas(df.to_pandas().dropna(thresh=3))"
   ]
  },
  {
   "cell_type": "code",
   "execution_count": 18,
   "metadata": {},
   "outputs": [
    {
     "data": {
      "text/html": [
       "<div><style>\n",
       ".dataframe > thead > tr > th,\n",
       ".dataframe > tbody > tr > td {\n",
       "  text-align: right;\n",
       "}\n",
       "</style>\n",
       "<small>shape: (1, 7)</small><table border=\"1\" class=\"dataframe\"><thead><tr><th>species</th><th>island</th><th>culmen_length_mm</th><th>culmen_depth_mm</th><th>flipper_length_mm</th><th>body_mass_g</th><th>sex</th></tr><tr><td>u32</td><td>u32</td><td>u32</td><td>u32</td><td>u32</td><td>u32</td><td>u32</td></tr></thead><tbody><tr><td>0</td><td>0</td><td>0</td><td>0</td><td>0</td><td>0</td><td>9</td></tr></tbody></table></div>"
      ],
      "text/plain": [
       "shape: (1, 7)\n",
       "┌─────────┬────────┬──────────────────┬─────────────────┬───────────────────┬─────────────┬─────┐\n",
       "│ species ┆ island ┆ culmen_length_mm ┆ culmen_depth_mm ┆ flipper_length_mm ┆ body_mass_g ┆ sex │\n",
       "│ ---     ┆ ---    ┆ ---              ┆ ---             ┆ ---               ┆ ---         ┆ --- │\n",
       "│ u32     ┆ u32    ┆ u32              ┆ u32             ┆ u32               ┆ u32         ┆ u32 │\n",
       "╞═════════╪════════╪══════════════════╪═════════════════╪═══════════════════╪═════════════╪═════╡\n",
       "│ 0       ┆ 0      ┆ 0                ┆ 0               ┆ 0                 ┆ 0           ┆ 9   │\n",
       "└─────────┴────────┴──────────────────┴─────────────────┴───────────────────┴─────────────┴─────┘"
      ]
     },
     "execution_count": 18,
     "metadata": {},
     "output_type": "execute_result"
    }
   ],
   "source": [
    "df.null_count()"
   ]
  },
  {
   "cell_type": "code",
   "execution_count": 19,
   "metadata": {},
   "outputs": [],
   "source": [
    "target = 'species'\n",
    "X = df.drop(target)\n",
    "y = df.get_column(target)"
   ]
  },
  {
   "cell_type": "code",
   "execution_count": 20,
   "metadata": {},
   "outputs": [
    {
     "data": {
      "text/html": [
       "<div><style>\n",
       ".dataframe > thead > tr > th,\n",
       ".dataframe > tbody > tr > td {\n",
       "  text-align: right;\n",
       "}\n",
       "</style>\n",
       "<small>shape: (1, 6)</small><table border=\"1\" class=\"dataframe\"><thead><tr><th>island</th><th>culmen_length_mm</th><th>culmen_depth_mm</th><th>flipper_length_mm</th><th>body_mass_g</th><th>sex</th></tr><tr><td>u32</td><td>u32</td><td>u32</td><td>u32</td><td>u32</td><td>u32</td></tr></thead><tbody><tr><td>0</td><td>0</td><td>0</td><td>0</td><td>0</td><td>0</td></tr></tbody></table></div>"
      ],
      "text/plain": [
       "shape: (1, 6)\n",
       "┌────────┬──────────────────┬─────────────────┬───────────────────┬─────────────┬─────┐\n",
       "│ island ┆ culmen_length_mm ┆ culmen_depth_mm ┆ flipper_length_mm ┆ body_mass_g ┆ sex │\n",
       "│ ---    ┆ ---              ┆ ---             ┆ ---               ┆ ---         ┆ --- │\n",
       "│ u32    ┆ u32              ┆ u32             ┆ u32               ┆ u32         ┆ u32 │\n",
       "╞════════╪══════════════════╪═════════════════╪═══════════════════╪═════════════╪═════╡\n",
       "│ 0      ┆ 0                ┆ 0               ┆ 0                 ┆ 0           ┆ 0   │\n",
       "└────────┴──────────────────┴─────────────────┴───────────────────┴─────────────┴─────┘"
      ]
     },
     "execution_count": 20,
     "metadata": {},
     "output_type": "execute_result"
    }
   ],
   "source": [
    "# sexカラムの欠損値を文字列の'NaN'で置き換える\n",
    "X = X.fill_null('NaN')\n",
    "X.null_count()"
   ]
  },
  {
   "attachments": {},
   "cell_type": "markdown",
   "metadata": {},
   "source": [
    "今回は欠損値を新たなカテゴリ'NaN'として扱うだけなので、欠損値対応を交差検証の中で行う必要はない。  \n",
    "この段階でOne-hot Encodingによるダミー変数化を行うと、greedy feature selectionによる特徴量選択がダミー変数も含む状態で行われ、  \n",
    "計算量が多くなる、かつ元の特徴量を部分的に使うことになってしまいわかりづらくなってしまうので、  \n",
    "ダミー変数化はpipelineにしてgreedy feature selectionのCVの中で行う。"
   ]
  },
  {
   "attachments": {},
   "cell_type": "markdown",
   "metadata": {},
   "source": [
    "### - 特徴量エンジニアリング"
   ]
  },
  {
   "attachments": {},
   "cell_type": "markdown",
   "metadata": {},
   "source": [
    "ここでは多項式特徴量と四則演算した結果を用いる。"
   ]
  },
  {
   "cell_type": "code",
   "execution_count": 12,
   "metadata": {},
   "outputs": [],
   "source": [
    "# 多項式特徴量\n",
    "poly = PolynomialFeatures(degree=2, include_bias=False)\n",
    "poly_length_depth = poly.fit_transform(X.select(['culmen_length_mm', 'culmen_depth_mm']))"
   ]
  },
  {
   "cell_type": "code",
   "execution_count": 21,
   "metadata": {},
   "outputs": [],
   "source": [
    "X = X.with_columns([\n",
    "    pl.Series(poly_length_depth[:, 0]).alias('culmen_length_mm'),\n",
    "    pl.Series(poly_length_depth[:, 1]).alias('culmen_depth_mm'),\n",
    "    pl.Series(poly_length_depth[:, 2]).alias('culmen_length_mm^2'),\n",
    "    pl.Series(poly_length_depth[:, 3]).alias('culmen_length_X_depth'),\n",
    "    pl.Series(poly_length_depth[:, 4]).alias('culmen_depth_mm^2')\n",
    "])"
   ]
  },
  {
   "cell_type": "code",
   "execution_count": 24,
   "metadata": {},
   "outputs": [],
   "source": [
    "# culmen_length_mm, culmen_depth_mmの差と比を計算する\n",
    "X = X.with_columns([\n",
    "    (pl.col('culmen_length_mm') - pl.col('culmen_depth_mm')).alias('culmen_diff'),\n",
    "    (pl.col('culmen_length_mm') / pl.col('culmen_depth_mm')).alias('culmen_ratio'),\n",
    "])"
   ]
  },
  {
   "cell_type": "code",
   "execution_count": 26,
   "metadata": {},
   "outputs": [
    {
     "data": {
      "text/html": [
       "<div><style>\n",
       ".dataframe > thead > tr > th,\n",
       ".dataframe > tbody > tr > td {\n",
       "  text-align: right;\n",
       "}\n",
       "</style>\n",
       "<small>shape: (3, 11)</small><table border=\"1\" class=\"dataframe\"><thead><tr><th>island</th><th>culmen_length_mm</th><th>culmen_depth_mm</th><th>flipper_length_mm</th><th>body_mass_g</th><th>sex</th><th>culmen_length_mm^2</th><th>culmen_length_X_depth</th><th>culmen_depth_mm^2</th><th>culmen_diff</th><th>culmen_ratio</th></tr><tr><td>str</td><td>f64</td><td>f64</td><td>f32</td><td>f32</td><td>str</td><td>f64</td><td>f64</td><td>f64</td><td>f64</td><td>f64</td></tr></thead><tbody><tr><td>&quot;Torgersen&quot;</td><td>39.099998</td><td>18.700001</td><td>181.0</td><td>3750.0</td><td>&quot;MALE&quot;</td><td>1528.809881</td><td>731.170001</td><td>349.690029</td><td>20.399998</td><td>2.090909</td></tr><tr><td>&quot;Torgersen&quot;</td><td>39.5</td><td>17.4</td><td>186.0</td><td>3800.0</td><td>&quot;FEMALE&quot;</td><td>1560.25</td><td>687.299985</td><td>302.759987</td><td>22.1</td><td>2.270115</td></tr><tr><td>&quot;Torgersen&quot;</td><td>40.299999</td><td>18.0</td><td>195.0</td><td>3250.0</td><td>&quot;FEMALE&quot;</td><td>1624.089939</td><td>725.399986</td><td>324.0</td><td>22.299999</td><td>2.238889</td></tr></tbody></table></div>"
      ],
      "text/plain": [
       "shape: (3, 11)\n",
       "┌────┬────────────┬────────────┬────────────┬───┬────────────┬────────────┬───────────┬────────────┐\n",
       "│ is ┆ culmen_len ┆ culmen_dep ┆ flipper_le ┆ … ┆ culmen_len ┆ culmen_dep ┆ culmen_di ┆ culmen_rat │\n",
       "│ la ┆ gth_mm     ┆ th_mm      ┆ ngth_mm    ┆   ┆ gth_X_dept ┆ th_mm^2    ┆ ff        ┆ io         │\n",
       "│ nd ┆ ---        ┆ ---        ┆ ---        ┆   ┆ h          ┆ ---        ┆ ---       ┆ ---        │\n",
       "│ -- ┆ f64        ┆ f64        ┆ f32        ┆   ┆ ---        ┆ f64        ┆ f64       ┆ f64        │\n",
       "│ -  ┆            ┆            ┆            ┆   ┆ f64        ┆            ┆           ┆            │\n",
       "│ st ┆            ┆            ┆            ┆   ┆            ┆            ┆           ┆            │\n",
       "│ r  ┆            ┆            ┆            ┆   ┆            ┆            ┆           ┆            │\n",
       "╞════╪════════════╪════════════╪════════════╪═══╪════════════╪════════════╪═══════════╪════════════╡\n",
       "│ To ┆ 39.099998  ┆ 18.700001  ┆ 181.0      ┆ … ┆ 731.170001 ┆ 349.690029 ┆ 20.399998 ┆ 2.090909   │\n",
       "│ rg ┆            ┆            ┆            ┆   ┆            ┆            ┆           ┆            │\n",
       "│ er ┆            ┆            ┆            ┆   ┆            ┆            ┆           ┆            │\n",
       "│ se ┆            ┆            ┆            ┆   ┆            ┆            ┆           ┆            │\n",
       "│ n  ┆            ┆            ┆            ┆   ┆            ┆            ┆           ┆            │\n",
       "│ To ┆ 39.5       ┆ 17.4       ┆ 186.0      ┆ … ┆ 687.299985 ┆ 302.759987 ┆ 22.1      ┆ 2.270115   │\n",
       "│ rg ┆            ┆            ┆            ┆   ┆            ┆            ┆           ┆            │\n",
       "│ er ┆            ┆            ┆            ┆   ┆            ┆            ┆           ┆            │\n",
       "│ se ┆            ┆            ┆            ┆   ┆            ┆            ┆           ┆            │\n",
       "│ n  ┆            ┆            ┆            ┆   ┆            ┆            ┆           ┆            │\n",
       "│ To ┆ 40.299999  ┆ 18.0       ┆ 195.0      ┆ … ┆ 725.399986 ┆ 324.0      ┆ 22.299999 ┆ 2.238889   │\n",
       "│ rg ┆            ┆            ┆            ┆   ┆            ┆            ┆           ┆            │\n",
       "│ er ┆            ┆            ┆            ┆   ┆            ┆            ┆           ┆            │\n",
       "│ se ┆            ┆            ┆            ┆   ┆            ┆            ┆           ┆            │\n",
       "│ n  ┆            ┆            ┆            ┆   ┆            ┆            ┆           ┆            │\n",
       "└────┴────────────┴────────────┴────────────┴───┴────────────┴────────────┴───────────┴────────────┘"
      ]
     },
     "execution_count": 26,
     "metadata": {},
     "output_type": "execute_result"
    }
   ],
   "source": [
    "X.head(3)"
   ]
  },
  {
   "cell_type": "code",
   "execution_count": 30,
   "metadata": {},
   "outputs": [
    {
     "data": {
      "text/plain": [
       "[Utf8,\n",
       " Float64,\n",
       " Float64,\n",
       " Float32,\n",
       " Float32,\n",
       " Utf8,\n",
       " Float64,\n",
       " Float64,\n",
       " Float64,\n",
       " Float64,\n",
       " Float64]"
      ]
     },
     "execution_count": 30,
     "metadata": {},
     "output_type": "execute_result"
    }
   ],
   "source": [
    "X.dtypes"
   ]
  },
  {
   "attachments": {},
   "cell_type": "markdown",
   "metadata": {},
   "source": [
    "### - CVの準備"
   ]
  },
  {
   "cell_type": "code",
   "execution_count": 36,
   "metadata": {},
   "outputs": [],
   "source": [
    "# カテゴリカラムと数値カラムのリストを取得\n",
    "num_cols = X.select(pl.col(pl.Float64)).columns\n",
    "cat_cols = X.select(pl.col(pl.Utf8)).columns"
   ]
  },
  {
   "cell_type": "code",
   "execution_count": 39,
   "metadata": {},
   "outputs": [],
   "source": [
    "# 欠損値対応後にダミー変数に変換すべきなので、ここでやってはダメ。\n",
    "#X = pd.get_dummies(X.to_pandas(), drop_first=False)\n",
    "\n",
    "# cvインスタンスを生成。3 fold で評価する。\n",
    "cv = KFold(n_splits=3, random_state=0, shuffle=True)\n",
    "\n",
    "# 多クラス分類の場合、LightGBMのデータセットに入れる目的変数はラベルエンコーディングしておく必要がある。\n",
    "encoder = LabelEncoder()\n",
    "y_encoded = pd.DataFrame(encoder.fit_transform(y.to_pandas()), columns=[target])\n",
    "\n",
    "# LightGBM用のパラメタ指定\n",
    "params = {\n",
    "          'objective': 'multiclass',  # 最小化させるべき損失関数\n",
    "          'num_class': 3,  # マルチクラス分類の場合、クラス数を指定する必要あり。\n",
    "          'metric': 'multi_logloss',  # 学習時に使用する評価指標(early_stoppingの評価指標にも同じ値が使用される)\n",
    "          'learning_rate': 0.01,\n",
    "          'max_depth': 5,\n",
    "          'random_state': 0,  # 乱数シード\n",
    "          'boosting_type': 'goss',  # boosting_type\n",
    "          'verbose': -1  # これを指定しないと`No further splits with positive gain, best gain: -inf`というWarningが表示される\n",
    "         }"
   ]
  },
  {
   "cell_type": "code",
   "execution_count": 41,
   "metadata": {},
   "outputs": [],
   "source": [
    "# 前処理用のColumnTransformerを定義\n",
    "preprocess_ct = ColumnTransformer([('std_scale', OneHotEncoder(drop='first',handle_unknown='ignore', sparse_output=False), num_cols),\n",
    "                                   ('dummies', StandardScaler(), cat_cols)])"
   ]
  },
  {
   "attachments": {},
   "cell_type": "markdown",
   "metadata": {},
   "source": [
    "### - Greedy feature selectionクラスの定義"
   ]
  },
  {
   "cell_type": "code",
   "execution_count": null,
   "metadata": {},
   "outputs": [],
   "source": [
    "class GreedyFeatureSelection():\n",
    "    def __init__(self) -> None:\n",
    "        "
   ]
  }
 ],
 "metadata": {
  "kernelspec": {
   "display_name": "Python 3 (ipykernel)",
   "language": "python",
   "name": "python3"
  },
  "language_info": {
   "codemirror_mode": {
    "name": "ipython",
    "version": 3
   },
   "file_extension": ".py",
   "mimetype": "text/x-python",
   "name": "python",
   "nbconvert_exporter": "python",
   "pygments_lexer": "ipython3",
   "version": "3.9.12"
  },
  "orig_nbformat": 4
 },
 "nbformat": 4,
 "nbformat_minor": 2
}
