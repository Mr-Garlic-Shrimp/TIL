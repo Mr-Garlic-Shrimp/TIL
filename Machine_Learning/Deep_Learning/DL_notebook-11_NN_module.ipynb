{
 "cells": [
  {
   "cell_type": "markdown",
   "metadata": {},
   "source": [
    "# 深層学習ノートブック-11 PytorchのNNモジュール\n",
    "深層学習の仕組みの勉強のためにMLPをスクラッチで実装してきたが、  \n",
    "これはPytorchのtorch.nnモジュールに実装されている。  \n",
    "ただ、MLPのクラスがまるごとあるわけではなく、線形変換の層、活性化関数(ReLU)、損失関数など、  \n",
    "MLPを構成するコンポーネントごとに実装されている。  \n",
    "ユーザとしてはこれらのコンポーネントを自由に組み合わせて学習モデルを構築していくことになる。  \n",
    "\n",
    "* torch.nnに様々な深層学習のアーキテクチャを構築するためのクラスと関数が入っている\n",
    "* 層：NNの基本的な層のblock\n",
    "    * nn.Linear: 全結合層またはFC(Fully Connected)層ともいう。$XW^T+b$が実装されている。\n",
    "    * nn.ReLU: ReLU層\n",
    "* 損失関数：ネットワークのパフォーマンスを評価する\n",
    "    * nn.MSELoss: 平均二乗誤差\n",
    "    * nn.CrossEntropy: 交差エントロピー\n",
    "* モジュール：全てのNNモジュールの基本クラス。カスタムでクラスを作成する時はnn.Moduleを継承する\n",
    "* 関数：単一の関数として層や損失関数, 活性化関数を提供する。torch.nn.funcbonalに入っていて，通常はFとしてimportする"
   ]
  },
  {
   "cell_type": "markdown",
   "metadata": {},
   "source": [
    "## ■ nn.Linear\n",
    "線形変換を行う部分の層を表すクラス。"
   ]
  },
  {
   "cell_type": "code",
   "execution_count": 1,
   "metadata": {},
   "outputs": [],
   "source": [
    "import torch\n",
    "# NNモジュールを読み込む\n",
    "from torch import nn\n",
    "from torch.nn import functional as F"
   ]
  },
  {
   "cell_type": "code",
   "execution_count": 2,
   "metadata": {},
   "outputs": [],
   "source": [
    "# 入力の次元と出力の次元（隠れ層１層目ならば入力は特徴量数、出力は１層目のノード数）を指定してインスタンス生成\n",
    "linear = nn.Linear(64, 30)"
   ]
  },
  {
   "cell_type": "code",
   "execution_count": 3,
   "metadata": {},
   "outputs": [
    {
     "data": {
      "text/plain": [
       "[Parameter containing:\n",
       " tensor([[-1.1046e-02,  5.5857e-03,  2.5025e-02,  ...,  8.1937e-03,\n",
       "          -5.6370e-02, -1.0976e-01],\n",
       "         [-7.9472e-02,  6.6317e-02,  1.1154e-01,  ...,  2.5045e-02,\n",
       "           7.5435e-02,  5.9789e-02],\n",
       "         [-8.0149e-02, -1.1696e-01, -1.0465e-01,  ...,  1.1494e-01,\n",
       "           9.0277e-02, -1.0800e-01],\n",
       "         ...,\n",
       "         [-1.2304e-01,  5.6580e-05, -3.3194e-03,  ..., -2.8344e-02,\n",
       "           5.6041e-02, -6.5417e-02],\n",
       "         [ 4.2861e-03, -5.8977e-02,  1.1517e-01,  ...,  8.6463e-02,\n",
       "          -8.2400e-02,  8.5337e-02],\n",
       "         [ 4.0806e-02,  7.5585e-02, -1.6125e-02,  ..., -9.0116e-02,\n",
       "          -1.9493e-02, -9.3259e-02]], requires_grad=True),\n",
       " Parameter containing:\n",
       " tensor([ 0.0726,  0.0846, -0.0918, -0.0318, -0.0923, -0.0496,  0.0174,  0.0853,\n",
       "         -0.0805,  0.0751, -0.0512, -0.0234,  0.1060,  0.0289,  0.0721,  0.0784,\n",
       "         -0.0364, -0.1085,  0.0797,  0.0177,  0.0273, -0.0026, -0.0316, -0.0169,\n",
       "          0.0304,  0.1206, -0.0483, -0.0564,  0.0212,  0.0984],\n",
       "        requires_grad=True)]"
      ]
     },
     "execution_count": 3,
     "metadata": {},
     "output_type": "execute_result"
    }
   ],
   "source": [
    "# 生成したLayerのパラメタを確認\n",
    "list(linear.parameters())"
   ]
  },
  {
   "cell_type": "code",
   "execution_count": 4,
   "metadata": {},
   "outputs": [
    {
     "name": "stdout",
     "output_type": "stream",
     "text": [
      "Parameter containing:\n",
      "tensor([[-1.1046e-02,  5.5857e-03,  2.5025e-02,  ...,  8.1937e-03,\n",
      "         -5.6370e-02, -1.0976e-01],\n",
      "        [-7.9472e-02,  6.6317e-02,  1.1154e-01,  ...,  2.5045e-02,\n",
      "          7.5435e-02,  5.9789e-02],\n",
      "        [-8.0149e-02, -1.1696e-01, -1.0465e-01,  ...,  1.1494e-01,\n",
      "          9.0277e-02, -1.0800e-01],\n",
      "        ...,\n",
      "        [-1.2304e-01,  5.6580e-05, -3.3194e-03,  ..., -2.8344e-02,\n",
      "          5.6041e-02, -6.5417e-02],\n",
      "        [ 4.2861e-03, -5.8977e-02,  1.1517e-01,  ...,  8.6463e-02,\n",
      "         -8.2400e-02,  8.5337e-02],\n",
      "        [ 4.0806e-02,  7.5585e-02, -1.6125e-02,  ..., -9.0116e-02,\n",
      "         -1.9493e-02, -9.3259e-02]], requires_grad=True)\n",
      "torch.Size([30, 64])\n"
     ]
    }
   ],
   "source": [
    "# 重みを確認\n",
    "print(linear.weight)\n",
    "print(linear.weight.shape)"
   ]
  },
  {
   "cell_type": "markdown",
   "metadata": {},
   "source": [
    "確かにWのshapeが出力x入力になっている。"
   ]
  },
  {
   "cell_type": "code",
   "execution_count": 6,
   "metadata": {},
   "outputs": [
    {
     "name": "stdout",
     "output_type": "stream",
     "text": [
      "Parameter containing:\n",
      "tensor([ 0.0726,  0.0846, -0.0918, -0.0318, -0.0923, -0.0496,  0.0174,  0.0853,\n",
      "        -0.0805,  0.0751, -0.0512, -0.0234,  0.1060,  0.0289,  0.0721,  0.0784,\n",
      "        -0.0364, -0.1085,  0.0797,  0.0177,  0.0273, -0.0026, -0.0316, -0.0169,\n",
      "         0.0304,  0.1206, -0.0483, -0.0564,  0.0212,  0.0984],\n",
      "       requires_grad=True)\n",
      "torch.Size([30])\n"
     ]
    }
   ],
   "source": [
    "print(linear.bias)\n",
    "print(linear.bias.shape)"
   ]
  },
  {
   "cell_type": "code",
   "execution_count": 13,
   "metadata": {},
   "outputs": [],
   "source": [
    "X = torch.randn((5, 64)) # 64の特徴量を持つ5データを定義\n",
    "# インスタンスにtensorを入れてcallすることで、forwardが計算される。\n",
    "Z = linear(X)"
   ]
  },
  {
   "cell_type": "code",
   "execution_count": 14,
   "metadata": {},
   "outputs": [
    {
     "name": "stdout",
     "output_type": "stream",
     "text": [
      "tensor([[-0.1680,  0.5441, -1.7527, -0.2023,  0.3643, -0.2527,  0.3505,  0.4083,\n",
      "         -0.4886, -0.9790, -0.1874,  0.0556,  0.8950, -1.1019, -0.1446,  0.0945,\n",
      "         -0.5899,  0.1869,  0.1683, -0.8990, -0.5504,  0.4096,  0.5353,  0.2216,\n",
      "         -0.9816,  0.2632, -0.4898,  0.2971,  1.1802, -0.1012],\n",
      "        [-0.5620,  0.9237,  0.3814, -1.2170, -0.2731, -0.1448,  0.1121, -0.4421,\n",
      "         -0.4533, -0.2588, -0.2827, -0.6483,  0.5038, -0.1167,  0.2720,  0.4148,\n",
      "         -0.5469,  0.0335,  0.0597, -0.1675, -0.1984, -0.8196, -0.4251,  0.2787,\n",
      "          0.6631,  0.1476, -0.6547, -0.2453, -0.3012,  0.0060],\n",
      "        [ 0.9574,  0.3612, -0.3115, -0.7415,  0.1366, -0.0830,  0.5199, -0.5133,\n",
      "          0.1683,  0.6514, -0.1524,  0.4644,  0.2014,  0.4153,  0.2770, -0.3030,\n",
      "          0.3074,  0.5833, -0.0500,  0.4514,  0.1932, -0.0686, -0.0691,  0.3298,\n",
      "          0.4217,  0.5895, -0.0710,  0.4347, -0.5996,  0.0111],\n",
      "        [ 0.2486,  0.8582, -1.4101,  0.6200,  0.2725, -0.0588,  0.3219, -0.1364,\n",
      "          0.0332, -1.2570, -0.1263,  0.4851,  0.6269, -0.5140, -0.0355,  0.6393,\n",
      "         -0.7267,  0.4634, -1.1640, -0.1204,  1.2300,  0.5006,  0.5641,  0.3972,\n",
      "         -0.0284,  0.2207, -0.1610,  0.3229,  0.3694, -0.2783],\n",
      "        [ 1.0617,  0.6707, -1.0252,  0.7843,  0.4062, -0.5579,  0.3583, -0.0216,\n",
      "          0.7448,  0.7394, -0.5654, -0.1382,  0.4584,  0.2618,  0.2230, -0.4487,\n",
      "          0.1406,  0.0697, -0.1194, -0.8515,  0.2580, -0.1495,  0.9872, -0.4788,\n",
      "         -0.4268,  0.3187, -0.4741, -0.6011,  1.1650,  0.4301]],\n",
      "       grad_fn=<AddmmBackward0>)\n",
      "torch.Size([5, 30])\n"
     ]
    }
   ],
   "source": [
    "print(Z)\n",
    "print(Z.shape)"
   ]
  },
  {
   "cell_type": "markdown",
   "metadata": {},
   "source": [
    "## ■ nnモジュールでMLPモデルを作る\n",
    "作成の仕方は大きく３つあり、ここでは1.について実装する。  \n",
    "1. nn.<class>とF.<function>を組み合わせる  \n",
    "    * nn.Moduleクラスを継承してMLPクラスを作成\n",
    "    * パラメタを持つ層はnn.<class>で定義する。\n",
    "    * パラメタを持たない操作（活性化関数など）はF.<functional>で定義する  \n",
    "    →パラメタを持つ層の管理が楽というメリットがある。\n",
    "2. nn.<class>のみで構成する。\n",
    "3. nn.Sequentialを使う  \n"
   ]
  },
  {
   "cell_type": "markdown",
   "metadata": {},
   "source": [
    "## 作成方法1.  nn.<class>とF.<function>を組み合わせる  \n",
    "* nn.Moduleクラスを継承してMLPクラスを作成\n",
    "* パラメタを持つ層はnn.<class>で定義する。\n",
    "* パラメタを持たない操作（活性化関数など）はF.<functional>で定義する  \n",
    "→パラメタを持つ層の管理が楽というメリットがある。"
   ]
  },
  {
   "cell_type": "code",
   "execution_count": 3,
   "metadata": {},
   "outputs": [],
   "source": [
    "class MLP_1(nn.Module):\n",
    "    def __init__(self, num_in, num_hidden, num_out):\n",
    "        # 親クラスのinitを呼び出す。\n",
    "        super().__init__()\n",
    "        # 全結合層はパラメタを持つのでnn.で定義する\n",
    "        # num_in, num_hidden, num_outを渡すことにより全結合層を実体化させる\n",
    "        self.linear_1 = nn.Linear(num_in, num_hidden)\n",
    "        self.linear_2 = nn.Linear(num_hidden, num_out)\n",
    "\n",
    "    # nn.Moduleにもforwardメソッドがあり、ここでオーバーライドしている。\n",
    "    def forward(self, x):\n",
    "        # デバッグ用\n",
    "        # z1 = self.linear_1(z)\n",
    "        # a1 = F.relu(z1)\n",
    "        # z2 = self.linear_2(a1)\n",
    "        # 隠れ層の線形変換 →ReLu適用→ 隠れ層の線形変換を一気にやっている。\n",
    "        z = self.linear_2( F.relu( self.linear_1(x)) )\n",
    "        return z"
   ]
  },
  {
   "cell_type": "code",
   "execution_count": 4,
   "metadata": {},
   "outputs": [],
   "source": [
    "model = MLP_1(64, 30, 10)"
   ]
  },
  {
   "cell_type": "code",
   "execution_count": 5,
   "metadata": {},
   "outputs": [
    {
     "data": {
      "text/plain": [
       "tensor([[-0.0322, -0.1147,  0.2469, -0.1051, -0.0996,  0.0722, -0.0356,  0.1111,\n",
       "          0.1322,  0.0662]], grad_fn=<AddmmBackward0>)"
      ]
     },
     "execution_count": 5,
     "metadata": {},
     "output_type": "execute_result"
    }
   ],
   "source": [
    "test_tensor = torch.randn((1, 64))\n",
    "# forwardの計算\n",
    "model(test_tensor)"
   ]
  },
  {
   "cell_type": "markdown",
   "metadata": {},
   "source": [
    "### ※補足  \n",
    "model()のような形で呼び出されるものは__call__()に実装するのがpythonの慣例。  \n",
    "上記のMLPクラスでは特に__call__を修正していないのに、  \n",
    "forwardが計算されたのは、親クラスのnn.Moduleにも__call__()があり、この中でforwardを呼び出す実装になっているため。  \n",
    "つまり、__call__は継承元のまま使い、forwardはオーバーライドしているということ。\n"
   ]
  },
  {
   "cell_type": "markdown",
   "metadata": {},
   "source": [
    "## 作成方法2.  nn.<class>のみでモデルを構成する\n",
    "* パラメータを持たない操作もnn.<class>を使用する\n",
    "* モデル全体の構造に一貫性が生まれ，パラメータの有無を意識する必要がなくなる\n",
    "* 操作によっては，nn.<class>の方がF.<funcbon>よりも処理が重い場合もある"
   ]
  },
  {
   "cell_type": "code",
   "execution_count": 6,
   "metadata": {},
   "outputs": [],
   "source": [
    "class MLP_2(nn.Module):\n",
    "    def __init__(self, num_in, num_hidden, num_out):\n",
    "        super().__init__()\n",
    "        self.linear_1 = nn.Linear(num_in, num_hidden)\n",
    "        self.linear_2 = nn.Linear(num_hidden, num_out)\n",
    "        # ReLUは特に引数は必要ない\n",
    "        self.relu = nn.ReLU()\n",
    "\n",
    "    def forward(self, x):\n",
    "        return self.linear_2( self.relu( self.linear_1(x)) )"
   ]
  },
  {
   "cell_type": "markdown",
   "metadata": {},
   "source": [
    "この例では作成方法１とほぼ変わらない。"
   ]
  },
  {
   "cell_type": "code",
   "execution_count": 7,
   "metadata": {},
   "outputs": [
    {
     "data": {
      "text/plain": [
       "torch.Size([5, 10])"
      ]
     },
     "execution_count": 7,
     "metadata": {},
     "output_type": "execute_result"
    }
   ],
   "source": [
    "model = MLP_1(64, 30, 10)\n",
    "X = torch.randn(5, 64)\n",
    "Z = model(X)\n",
    "Z.shape"
   ]
  },
  {
   "cell_type": "markdown",
   "metadata": {},
   "source": [
    "## 作成方法3.  nn.Sequentialを使う\n",
    "* nn.Sequential()にnn.<class>のインスタンスを直列に引数に渡す\n",
    "* nn.Sequential()は，NNのアーキテクチャを直列に定義するための簡単な方法\n",
    "* 非常にシンプルなアーキテクチャを作成する際に便利。よく使う。\n",
    "* これ単体では複雑なモデルは作れないが、nn.Sequential()で作成したシンプルなモデルをいくつか組み合わせて  \n",
    "  複雑なモデルを表現することが可能。"
   ]
  },
  {
   "cell_type": "code",
   "execution_count": 17,
   "metadata": {},
   "outputs": [],
   "source": [
    "num_in = 64\n",
    "num_hidden = 30\n",
    "num_out = 10\n",
    "\n",
    "# 下記のようにMLPのコンポーネントを順に書くだけ。\n",
    "model = nn.Sequential(\n",
    "    nn.Linear(num_in, num_hidden),\n",
    "    nn.ReLU(),\n",
    "    nn.Linear(num_hidden, num_out)\n",
    ")"
   ]
  },
  {
   "cell_type": "code",
   "execution_count": 18,
   "metadata": {},
   "outputs": [
    {
     "data": {
      "text/plain": [
       "torch.Size([5, 10])"
      ]
     },
     "execution_count": 18,
     "metadata": {},
     "output_type": "execute_result"
    }
   ],
   "source": [
    "Z = model(X)\n",
    "Z.shape"
   ]
  },
  {
   "cell_type": "code",
   "execution_count": 19,
   "metadata": {},
   "outputs": [
    {
     "data": {
      "text/plain": [
       "tensor([[-0.3806, -0.0226, -0.2436, -0.0981, -0.0469, -0.4377, -0.0730, -0.0997,\n",
       "         -0.3881, -0.1324],\n",
       "        [-0.0778, -0.0197, -0.1164,  0.2043,  0.0170, -0.2359,  0.0838, -0.2144,\n",
       "         -0.1703,  0.1445],\n",
       "        [ 0.0878,  0.3312, -0.3318, -0.0419,  0.0191, -0.0939,  0.1373, -0.2027,\n",
       "         -0.2579,  0.3942],\n",
       "        [ 0.0815,  0.3040,  0.1592,  0.0576,  0.1506, -0.3425,  0.2689, -0.3373,\n",
       "         -0.1882,  0.0303],\n",
       "        [ 0.0986, -0.0412, -0.0029,  0.1724, -0.1277, -0.0636,  0.2368, -0.1094,\n",
       "         -0.0423,  0.2787]], grad_fn=<AddmmBackward0>)"
      ]
     },
     "execution_count": 19,
     "metadata": {},
     "output_type": "execute_result"
    }
   ],
   "source": [
    "Z"
   ]
  },
  {
   "cell_type": "markdown",
   "metadata": {},
   "source": [
    "------------------------------------"
   ]
  },
  {
   "cell_type": "markdown",
   "metadata": {},
   "source": [
    "## ■ nnモジュールで作成したMLPモデルを学習させる\n",
    "上記で作成したnnモジュールによるMLPの実装を用いて実際に学習させてみる。  \n",
    "以降はGPUを使用するため、Google Colabで実行すること。"
   ]
  },
  {
   "cell_type": "code",
   "execution_count": 1,
   "metadata": {},
   "outputs": [],
   "source": [
    "import torch\n",
    "from torch import nn\n",
    "from torch.nn import functional as F\n",
    "import numpy as np\n",
    "import seaborn as sns\n",
    "from sklearn import datasets\n",
    "from sklearn.model_selection import train_test_split\n",
    "import matplotlib.pyplot as plt"
   ]
  },
  {
   "cell_type": "code",
   "execution_count": 156,
   "metadata": {},
   "outputs": [
    {
     "data": {
      "text/plain": [
       "MLP_1(\n",
       "  (linear_1): Linear(in_features=64, out_features=30, bias=True)\n",
       "  (linear_2): Linear(in_features=30, out_features=10, bias=True)\n",
       ")"
      ]
     },
     "execution_count": 156,
     "metadata": {},
     "output_type": "execute_result"
    }
   ],
   "source": [
    "# MNISTデータセットの読み込み\n",
    "dataset = datasets.load_digits()\n",
    "X = torch.tensor( dataset.data , dtype=torch.float32) \n",
    "y = torch.tensor( dataset.target)\n",
    "y = F.one_hot(y, num_classes=10)\n",
    "\n",
    "# hold-out\n",
    "X_train, X_val, y_train, y_val = train_test_split(X, y, test_size=0.3, random_state=42)\n",
    "\n",
    "# 標準化\n",
    "train_mean, train_std = X_train.mean(), X_train.std()\n",
    "X_train = (X_train - train_mean) / train_std\n",
    "X_val = (X_val - train_mean) / train_std\n",
    "\n",
    "# モデルのコンストラクタに渡す引数を定義\n",
    "num_in = 64\n",
    "num_hidden = 30\n",
    "num_out = 10\n",
    "\n",
    "# モデル定義（２層のMLP）\n",
    "MLP_model = MLP_1(num_in=num_in, num_hidden=num_hidden, num_out=num_out)\n",
    "# requires_grad_をTrueに設定。最後に_がつくのは設定するという意味。\n",
    "MLP_model.requires_grad_(True)"
   ]
  },
  {
   "cell_type": "code",
   "execution_count": 158,
   "metadata": {},
   "outputs": [
    {
     "name": "stdout",
     "output_type": "stream",
     "text": [
      "epoch_0: {'Loss_train': 2.2983543157577513, 'Loss_val': 2.2969343662261963, 'Accuracy': 0.18333333730697632}\n",
      "epoch_1: {'Loss_train': 2.294007736444473, 'Loss_val': 2.292354106903076, 'Accuracy': 0.22962963581085205}\n",
      "epoch_2: {'Loss_train': 2.2884945452213286, 'Loss_val': 2.2866241931915283, 'Accuracy': 0.25555557012557983}\n",
      "epoch_3: {'Loss_train': 2.2819821178913116, 'Loss_val': 2.2793376445770264, 'Accuracy': 0.2777777910232544}\n",
      "epoch_4: {'Loss_train': 2.272976589202881, 'Loss_val': 2.269819974899292, 'Accuracy': 0.29629629850387573}\n",
      "epoch_5: {'Loss_train': 2.261730444431305, 'Loss_val': 2.257117509841919, 'Accuracy': 0.31111112236976624}\n",
      "epoch_6: {'Loss_train': 2.2460343062877657, 'Loss_val': 2.2395927906036377, 'Accuracy': 0.32407405972480774}\n",
      "epoch_7: {'Loss_train': 2.225168067216873, 'Loss_val': 2.2152552604675293, 'Accuracy': 0.34259259700775146}\n",
      "epoch_8: {'Loss_train': 2.197861856222153, 'Loss_val': 2.1843299865722656, 'Accuracy': 0.3499999940395355}\n",
      "epoch_9: {'Loss_train': 2.1633331060409544, 'Loss_val': 2.150907516479492, 'Accuracy': 0.38148146867752075}\n",
      "epoch_10: {'Loss_train': 2.1301842093467713, 'Loss_val': 2.1178598403930664, 'Accuracy': 0.42407408356666565}\n",
      "epoch_11: {'Loss_train': 2.094181847572327, 'Loss_val': 2.0844128131866455, 'Accuracy': 0.46851852536201477}\n",
      "epoch_12: {'Loss_train': 2.0592551231384277, 'Loss_val': 2.0452964305877686, 'Accuracy': 0.5462962985038757}\n",
      "epoch_13: {'Loss_train': 2.0212183028459547, 'Loss_val': 2.0056190490722656, 'Accuracy': 0.5703703761100769}\n",
      "epoch_14: {'Loss_train': 1.982166737318039, 'Loss_val': 1.9725626707077026, 'Accuracy': 0.5759259462356567}\n",
      "epoch_15: {'Loss_train': 1.9499666690826416, 'Loss_val': 1.9484800100326538, 'Accuracy': 0.5740740895271301}\n",
      "epoch_16: {'Loss_train': 1.9257051825523377, 'Loss_val': 1.92856764793396, 'Accuracy': 0.5759259462356567}\n",
      "epoch_17: {'Loss_train': 1.9083948135375977, 'Loss_val': 1.9090964794158936, 'Accuracy': 0.6000000238418579}\n",
      "epoch_18: {'Loss_train': 1.8886378496885299, 'Loss_val': 1.889920711517334, 'Accuracy': 0.6499999761581421}\n",
      "epoch_19: {'Loss_train': 1.8651995986700058, 'Loss_val': 1.8739993572235107, 'Accuracy': 0.6574074029922485}\n",
      "epoch_20: {'Loss_train': 1.856887024641037, 'Loss_val': 1.8608953952789307, 'Accuracy': 0.6629629731178284}\n",
      "epoch_21: {'Loss_train': 1.842244291305542, 'Loss_val': 1.8503602743148804, 'Accuracy': 0.6611111164093018}\n",
      "epoch_22: {'Loss_train': 1.83375044465065, 'Loss_val': 1.842587947845459, 'Accuracy': 0.6611111164093018}\n",
      "epoch_23: {'Loss_train': 1.8249347895383834, 'Loss_val': 1.835099458694458, 'Accuracy': 0.664814829826355}\n",
      "epoch_24: {'Loss_train': 1.817150941491127, 'Loss_val': 1.8296217918395996, 'Accuracy': 0.6629629731178284}\n",
      "epoch_25: {'Loss_train': 1.8097456842660904, 'Loss_val': 1.8239078521728516, 'Accuracy': 0.6666666865348816}\n",
      "epoch_26: {'Loss_train': 1.8025306940078736, 'Loss_val': 1.819912314414978, 'Accuracy': 0.6666666865348816}\n",
      "epoch_27: {'Loss_train': 1.8027994930744171, 'Loss_val': 1.8157933950424194, 'Accuracy': 0.6685185432434082}\n",
      "epoch_28: {'Loss_train': 1.795804363489151, 'Loss_val': 1.8114018440246582, 'Accuracy': 0.6722221970558167}\n",
      "epoch_29: {'Loss_train': 1.7946380883455277, 'Loss_val': 1.8070772886276245, 'Accuracy': 0.6722221970558167}\n",
      "epoch_30: {'Loss_train': 1.7864508152008056, 'Loss_val': 1.8023244142532349, 'Accuracy': 0.6666666865348816}\n",
      "epoch_31: {'Loss_train': 1.7837993890047072, 'Loss_val': 1.7954620122909546, 'Accuracy': 0.6666666865348816}\n",
      "epoch_32: {'Loss_train': 1.7759814381599426, 'Loss_val': 1.785169243812561, 'Accuracy': 0.6777777671813965}\n",
      "epoch_33: {'Loss_train': 1.7625067621469497, 'Loss_val': 1.7715637683868408, 'Accuracy': 0.7055555582046509}\n",
      "epoch_34: {'Loss_train': 1.748092484474182, 'Loss_val': 1.758444905281067, 'Accuracy': 0.7277777791023254}\n",
      "epoch_35: {'Loss_train': 1.7348165571689607, 'Loss_val': 1.7449649572372437, 'Accuracy': 0.7759259343147278}\n",
      "epoch_36: {'Loss_train': 1.727453377842903, 'Loss_val': 1.73367440700531, 'Accuracy': 0.7944444417953491}\n",
      "epoch_37: {'Loss_train': 1.7142413914203645, 'Loss_val': 1.7220768928527832, 'Accuracy': 0.8037037253379822}\n",
      "epoch_38: {'Loss_train': 1.7020033240318297, 'Loss_val': 1.7076928615570068, 'Accuracy': 0.8314814567565918}\n",
      "epoch_39: {'Loss_train': 1.6848038613796235, 'Loss_val': 1.6928727626800537, 'Accuracy': 0.8703703880310059}\n",
      "epoch_40: {'Loss_train': 1.6723058432340623, 'Loss_val': 1.6739610433578491, 'Accuracy': 0.9018518328666687}\n",
      "epoch_41: {'Loss_train': 1.6579542666673661, 'Loss_val': 1.6592859029769897, 'Accuracy': 0.9111111164093018}\n",
      "epoch_42: {'Loss_train': 1.6429848462343215, 'Loss_val': 1.6449618339538574, 'Accuracy': 0.9166666865348816}\n",
      "epoch_43: {'Loss_train': 1.6324108958244323, 'Loss_val': 1.6328253746032715, 'Accuracy': 0.9222221970558167}\n",
      "epoch_44: {'Loss_train': 1.6198513627052307, 'Loss_val': 1.622454285621643, 'Accuracy': 0.9203703999519348}\n",
      "epoch_45: {'Loss_train': 1.6086359202861786, 'Loss_val': 1.613329529762268, 'Accuracy': 0.9259259104728699}\n",
      "epoch_46: {'Loss_train': 1.6004072725772858, 'Loss_val': 1.605916976928711, 'Accuracy': 0.9314814805984497}\n",
      "epoch_47: {'Loss_train': 1.594082424044609, 'Loss_val': 1.6005524396896362, 'Accuracy': 0.9296296238899231}\n",
      "epoch_48: {'Loss_train': 1.5861987084150315, 'Loss_val': 1.592172384262085, 'Accuracy': 0.9351851940155029}\n",
      "epoch_49: {'Loss_train': 1.5800882279872894, 'Loss_val': 1.5865161418914795, 'Accuracy': 0.9370370507240295}\n",
      "epoch_50: {'Loss_train': 1.5748236417770385, 'Loss_val': 1.5826257467269897, 'Accuracy': 0.9388889074325562}\n",
      "epoch_51: {'Loss_train': 1.5738453358411788, 'Loss_val': 1.5792211294174194, 'Accuracy': 0.9388889074325562}\n",
      "epoch_52: {'Loss_train': 1.5701171875, 'Loss_val': 1.574391484260559, 'Accuracy': 0.9370370507240295}\n",
      "epoch_53: {'Loss_train': 1.5656858921051025, 'Loss_val': 1.5735993385314941, 'Accuracy': 0.9388889074325562}\n",
      "epoch_54: {'Loss_train': 1.5618351131677628, 'Loss_val': 1.5683099031448364, 'Accuracy': 0.9407407641410828}\n",
      "epoch_55: {'Loss_train': 1.558136948943138, 'Loss_val': 1.5652544498443604, 'Accuracy': 0.9425926208496094}\n",
      "epoch_56: {'Loss_train': 1.5571007996797561, 'Loss_val': 1.5638240575790405, 'Accuracy': 0.9444444179534912}\n",
      "epoch_57: {'Loss_train': 1.5517984092235566, 'Loss_val': 1.560780644416809, 'Accuracy': 0.9444444179534912}\n",
      "epoch_58: {'Loss_train': 1.550509288907051, 'Loss_val': 1.5590341091156006, 'Accuracy': 0.9462962746620178}\n",
      "epoch_59: {'Loss_train': 1.5483139038085938, 'Loss_val': 1.558340311050415, 'Accuracy': 0.9462962746620178}\n",
      "epoch_60: {'Loss_train': 1.546705988049507, 'Loss_val': 1.5560628175735474, 'Accuracy': 0.9425926208496094}\n",
      "epoch_61: {'Loss_train': 1.544132936000824, 'Loss_val': 1.5535656213760376, 'Accuracy': 0.9462962746620178}\n",
      "epoch_62: {'Loss_train': 1.5435390591621398, 'Loss_val': 1.5519909858703613, 'Accuracy': 0.9462962746620178}\n",
      "epoch_63: {'Loss_train': 1.541736254096031, 'Loss_val': 1.5509040355682373, 'Accuracy': 0.9481481313705444}\n",
      "epoch_64: {'Loss_train': 1.5383628487586976, 'Loss_val': 1.5507569313049316, 'Accuracy': 0.9481481313705444}\n",
      "epoch_65: {'Loss_train': 1.5388502478599548, 'Loss_val': 1.54816472530365, 'Accuracy': 0.949999988079071}\n",
      "epoch_66: {'Loss_train': 1.5360768347978593, 'Loss_val': 1.546278715133667, 'Accuracy': 0.9462962746620178}\n",
      "epoch_67: {'Loss_train': 1.5386264085769654, 'Loss_val': 1.5455958843231201, 'Accuracy': 0.949999988079071}\n",
      "epoch_68: {'Loss_train': 1.5332250773906708, 'Loss_val': 1.5440993309020996, 'Accuracy': 0.949999988079071}\n",
      "epoch_69: {'Loss_train': 1.5345404684543609, 'Loss_val': 1.5441521406173706, 'Accuracy': 0.949999988079071}\n",
      "epoch_70: {'Loss_train': 1.5314648747444153, 'Loss_val': 1.543432354927063, 'Accuracy': 0.9537037014961243}\n",
      "epoch_71: {'Loss_train': 1.5294878035783768, 'Loss_val': 1.5412484407424927, 'Accuracy': 0.9518518447875977}\n",
      "epoch_72: {'Loss_train': 1.529524552822113, 'Loss_val': 1.5404084920883179, 'Accuracy': 0.9518518447875977}\n",
      "epoch_73: {'Loss_train': 1.52733034491539, 'Loss_val': 1.5403159856796265, 'Accuracy': 0.9574074149131775}\n",
      "epoch_74: {'Loss_train': 1.5294707059860229, 'Loss_val': 1.5383284091949463, 'Accuracy': 0.9481481313705444}\n",
      "epoch_75: {'Loss_train': 1.5263608902692796, 'Loss_val': 1.5373756885528564, 'Accuracy': 0.9537037014961243}\n",
      "epoch_76: {'Loss_train': 1.5245723366737365, 'Loss_val': 1.5378528833389282, 'Accuracy': 0.9574074149131775}\n",
      "epoch_77: {'Loss_train': 1.5239792585372924, 'Loss_val': 1.5362293720245361, 'Accuracy': 0.9537037014961243}\n",
      "epoch_78: {'Loss_train': 1.5234395951032638, 'Loss_val': 1.5355710983276367, 'Accuracy': 0.9537037014961243}\n",
      "epoch_79: {'Loss_train': 1.5233323365449905, 'Loss_val': 1.534776210784912, 'Accuracy': 0.9537037014961243}\n",
      "epoch_80: {'Loss_train': 1.5237558692693711, 'Loss_val': 1.5359289646148682, 'Accuracy': 0.9574074149131775}\n",
      "epoch_81: {'Loss_train': 1.524152460694313, 'Loss_val': 1.533313274383545, 'Accuracy': 0.9537037014961243}\n",
      "epoch_82: {'Loss_train': 1.520746111869812, 'Loss_val': 1.5327188968658447, 'Accuracy': 0.9537037014961243}\n",
      "epoch_83: {'Loss_train': 1.5193158715963364, 'Loss_val': 1.5323336124420166, 'Accuracy': 0.9574074149131775}\n",
      "epoch_84: {'Loss_train': 1.518424892425537, 'Loss_val': 1.5315589904785156, 'Accuracy': 0.9555555582046509}\n",
      "epoch_85: {'Loss_train': 1.521015664935112, 'Loss_val': 1.5317132472991943, 'Accuracy': 0.9592592716217041}\n",
      "epoch_86: {'Loss_train': 1.5182686060667039, 'Loss_val': 1.5303155183792114, 'Accuracy': 0.9537037014961243}\n",
      "epoch_87: {'Loss_train': 1.5173708945512772, 'Loss_val': 1.531957745552063, 'Accuracy': 0.9555555582046509}\n",
      "epoch_88: {'Loss_train': 1.5162720739841462, 'Loss_val': 1.5309890508651733, 'Accuracy': 0.9574074149131775}\n",
      "epoch_89: {'Loss_train': 1.5152314811944962, 'Loss_val': 1.529936671257019, 'Accuracy': 0.9592592716217041}\n",
      "epoch_90: {'Loss_train': 1.5177391439676284, 'Loss_val': 1.5299841165542603, 'Accuracy': 0.9592592716217041}\n",
      "epoch_91: {'Loss_train': 1.5143167704343796, 'Loss_val': 1.5280853509902954, 'Accuracy': 0.9592592716217041}\n",
      "epoch_92: {'Loss_train': 1.5138118386268615, 'Loss_val': 1.5283321142196655, 'Accuracy': 0.9574074149131775}\n",
      "epoch_93: {'Loss_train': 1.51374654173851, 'Loss_val': 1.527233362197876, 'Accuracy': 0.9611111283302307}\n",
      "epoch_94: {'Loss_train': 1.5132146328687668, 'Loss_val': 1.526421070098877, 'Accuracy': 0.9574074149131775}\n",
      "epoch_95: {'Loss_train': 1.5120815992355348, 'Loss_val': 1.525909423828125, 'Accuracy': 0.9611111283302307}\n",
      "epoch_96: {'Loss_train': 1.5129880785942078, 'Loss_val': 1.5259859561920166, 'Accuracy': 0.9629629850387573}\n",
      "epoch_97: {'Loss_train': 1.5113552242517472, 'Loss_val': 1.5255987644195557, 'Accuracy': 0.9629629850387573}\n",
      "epoch_98: {'Loss_train': 1.5108708560466766, 'Loss_val': 1.5253506898880005, 'Accuracy': 0.9629629850387573}\n",
      "epoch_99: {'Loss_train': 1.509872528910637, 'Loss_val': 1.5244662761688232, 'Accuracy': 0.9629629850387573}\n"
     ]
    }
   ],
   "source": [
    "# バッチサイズとバッチの個数を定義\n",
    "batch_size = 32\n",
    "num_batches = X_train.shape[0] // batch_size + 1\n",
    "learning_rate = 0.03\n",
    "\n",
    "# 学習・検証結果格納用辞書\n",
    "train_results = {}\n",
    "\n",
    "for i, _ in enumerate(range(100)):\n",
    "    #　インデックスをシャッフル\n",
    "    shuffled_indices = np.random.permutation(len(y_train))\n",
    "\n",
    "    # shuffled_indicesからの取り出し範囲初期化\n",
    "    idx_start = 0\n",
    "    idx_end = batch_size\n",
    "\n",
    "    # 各バッチでの学習データに対するlossを累積する用の変数\n",
    "    cum_loss = 0\n",
    "\n",
    "    for _ in range(num_batches):\n",
    "        # 学習データ定義\n",
    "        indices_train = shuffled_indices[ idx_start:idx_end ]\n",
    "        X_train_batch = X_train[indices_train]\n",
    "        y_train_batch = y_train[indices_train]\n",
    "\n",
    "        # 予測\n",
    "        y_pred = F.softmax(MLP_model(X_train_batch), dim=1)\n",
    "\n",
    "        # 損失計算\n",
    "        loss = F.cross_entropy(y_pred , y_train_batch.to(torch.float32))\n",
    "        cum_loss += loss.item()\n",
    "        # 逆伝播の計算\n",
    "        loss.backward()\n",
    "\n",
    "        # パラメタ更新\n",
    "        with torch.no_grad():\n",
    "            MLP_model.linear_1.weight -= learning_rate * MLP_model.linear_1.weight.grad\n",
    "            MLP_model.linear_1.bias -= learning_rate * MLP_model.linear_1.bias.grad\n",
    "            MLP_model.linear_2.weight -= learning_rate * MLP_model.linear_2.weight.grad\n",
    "            MLP_model.linear_2.bias -= learning_rate * MLP_model.linear_2.bias.grad\n",
    "\n",
    "        # 勾配初期化\n",
    "        MLP_model.linear_1.weight.grad = None\n",
    "        MLP_model.linear_1.bias.grad = None\n",
    "        MLP_model.linear_2.weight.grad = None\n",
    "        MLP_model.linear_2.bias.grad = None\n",
    "\n",
    "        # 取り出し範囲更新\n",
    "        idx_start += batch_size\n",
    "        idx_end += batch_size\n",
    "    \n",
    "    # 検証データに対する損失を計算\n",
    "    y_pred_val = F.softmax(MLP_model(X_val), dim=1)\n",
    "    loss_val = F.cross_entropy(y_pred_val, y_val.to(torch.float32))\n",
    "\n",
    "    # 損失、accuracyを記録\n",
    "    train_results[f\"epoch_{i}\"] = {\n",
    "        \"Loss_train\": cum_loss / num_batches,\n",
    "        \"Loss_val\": loss_val.item(),\n",
    "        \"Accuracy\": ( (torch.argmax(y_pred_val, dim=1) == torch.argmax(y_val, dim=1)).sum() / len(y_val) ).item()\n",
    "    }\n",
    "\n",
    "    print(f'epoch_{i}: {train_results[f\"epoch_{i}\"]}')\n"
   ]
  },
  {
   "cell_type": "markdown",
   "metadata": {},
   "source": [
    "# ●学習曲線の描画\n",
    "学習データと検証データでの損失の推移を確認してみる。"
   ]
  },
  {
   "cell_type": "code",
   "execution_count": 164,
   "metadata": {},
   "outputs": [],
   "source": [
    "loss_per_epoch_train = []\n",
    "loss_per_epoch_val = []\n",
    "\n",
    "for result in train_results.values():\n",
    "    loss_per_epoch_train.append(result['Loss_train'])\n",
    "    loss_per_epoch_val.append(result['Loss_val'])"
   ]
  },
  {
   "cell_type": "code",
   "execution_count": 165,
   "metadata": {},
   "outputs": [
    {
     "data": {
      "text/plain": [
       "<matplotlib.legend.Legend at 0x7ff91d648050>"
      ]
     },
     "execution_count": 165,
     "metadata": {},
     "output_type": "execute_result"
    },
    {
     "data": {
      "image/png": "[encoded data removed]",
      "text/plain": [
       "<Figure size 640x480 with 1 Axes>"
      ]
     },
     "metadata": {},
     "output_type": "display_data"
    }
   ],
   "source": [
    "plt.plot(loss_per_epoch_train, label='train data')\n",
    "plt.plot(loss_per_epoch_val, label='validation data')\n",
    "plt.xlabel('epoch')\n",
    "plt.ylabel('Loss')\n",
    "plt.yticks(np.linspace(0.0, 2.5, 11))\n",
    "plt.legend()"
   ]
  }
 ],
 "metadata": {
  "kernelspec": {
   "display_name": "Python 3",
   "language": "python",
   "name": "python3"
  },
  "language_info": {
   "codemirror_mode": {
    "name": "ipython",
    "version": 3
   },
   "file_extension": ".py",
   "mimetype": "text/x-python",
   "name": "python",
   "nbconvert_exporter": "python",
   "pygments_lexer": "ipython3",
   "version": "3.11.6"
  }
 },
 "nbformat": 4,
 "nbformat_minor": 2
}
