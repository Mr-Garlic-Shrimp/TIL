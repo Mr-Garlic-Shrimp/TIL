{
 "cells": [
  {
   "cell_type": "markdown",
   "metadata": {},
   "source": [
    "# 深層学習ノートブック-13 DatasetとDataLoader\n",
    "Pytorchにおいて、学習用のデータセットを読み込んだり前処理を効率的に行う仕組み。  \n",
    "* Dataset\n",
    "    * torch.utils.data.Dataset\n",
    "    * pytorchには既にいくつものDatasetが用意されている\n",
    "        * https://pytorch.org/vision/stable/datasets.html\n",
    "    * カスタムで作ることも可能\n",
    "        * torch.uDls.data.Datasetを継承する\n",
    "        * __len__と__getitem__をオーバーライドする。\n",
    "\n",
    "* DataLoader\n",
    "    * torch.utils.data.DataLoader\n",
    "    * Datasetからバッチ単位でデータを効率的に読み込むためのイテレータを提供\n",
    "    * 複数のスレッドによる並列処理に対応している\n",
    "        * 深層学習において、GPUは学習に関する処理、CPUはディスクにあるデータをミニバッチ単位で読み込みを行っている。  \n",
    "        CPUによるデータ（ミニバッチ）の読み込みがGPUの学習よりも遅いと、GPUがデータ読み込み待ちになってしまい、タイムロスが生じる。  \n",
    "        DataLoaderはミニバッチをCPUから並列で読み込むことで、データ読み込み時間の短縮を図ることが出来る。\n",
    "\n",
    "参考：  \n",
    "* [Udemy講座：「①米国AI開発者がやさしく教える深層学習超入門第一弾【Pythonで実践】」](https://www.udemy.com/course/deeplearning1/learn/lecture/40143418)"
   ]
  },
  {
   "cell_type": "markdown",
   "metadata": {},
   "source": []
  }
 ],
 "metadata": {
  "language_info": {
   "name": "python"
  }
 },
 "nbformat": 4,
 "nbformat_minor": 2
}
