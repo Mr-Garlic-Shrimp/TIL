{
 "cells": [
  {
   "cell_type": "markdown",
   "metadata": {},
   "source": [
    "# 深層学習の基礎 - 2\n",
    "ここでは主にCNN(Convolutional NN)による画像系の深層学習について学ぶ。\n",
    "\n",
    "参考：  \n",
    "* [Udemy講座：「②米国AI開発者がやさしく教える深層学習超入門第二弾(画像認識)【Pythonで実践】」](https://www.udemy.com/course/deeplearning2/learn/lecture/40379116)"
   ]
  },
  {
   "cell_type": "markdown",
   "metadata": {},
   "source": [
    "## 畳み込み層（Convolutional Layer）\n",
    "例えば8ピクセル×8ピクセルの画像データを全結合層に入力するとき、1データあたり64列の特徴量を持つデータとして扱って、  \n",
    "学習を行った。しかし、この方法では隣り合うピクセルの色といった位置情報は考慮されておらず、  \n",
    "学習の際に画像の情報が欠落してしまっている。  \n",
    "これに対し、__畳み込み層(Convolutional Layer)__ と呼ばれる層は画像データの各ピクセルの位置情報を維持したまま学習することが可能である。  \n",
    "（学習データの配列の各要素同士の位置関係を維持したまま学習できるともいえる。）  \n",
    "このようなメリットがあるため、畳み込み層は主に画像認識で使用され、畳み込み層を組み込んだNNを __CNN(Convolutional Neural Network)__ という。"
   ]
  }
 ],
 "metadata": {
  "language_info": {
   "name": "python"
  }
 },
 "nbformat": 4,
 "nbformat_minor": 2
}
