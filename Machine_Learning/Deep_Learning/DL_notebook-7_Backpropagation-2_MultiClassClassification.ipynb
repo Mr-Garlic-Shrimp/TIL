{
 "cells": [
  {
   "cell_type": "markdown",
   "metadata": {},
   "source": [
    "# 深層学習ノートブック-7 誤差逆伝播によるパラメータ更新\n",
    "DL_notebook-4.5_train_test_split.ipynbにおける多項ロジスティック回帰の学習ループを  \n",
    "スクラッチで実装したMLPとbackwardのコードで置き換え、実際にパラメータを更新してMLPを学習させる。  "
   ]
  },
  {
   "cell_type": "code",
   "execution_count": null,
   "metadata": {},
   "outputs": [],
   "source": [
    "import torch\n",
    "import torch.nn.functional as F  #pytorchの便利関数はFでimportすることが多い。\n",
    "import numpy as np\n",
    "from sklearn import datasets\n",
    "from sklearn.model_selection import train_test_split\n",
    "import matplotlib.pyplot as plt\n",
    "# python debugerをインポート\n",
    "import pdb"
   ]
  },
  {
   "cell_type": "markdown",
   "metadata": {},
   "source": [
    "## ■ backward（逆伝播）のスクラッチ実装結果\n",
    "※現場ではこれらの関数は別ファイルでモジュール化して一元管理すること。"
   ]
  },
  {
   "cell_type": "code",
   "execution_count": 12,
   "metadata": {},
   "outputs": [],
   "source": [
    "# 線形変換部分(パラメタ)の勾配の算出関数。Aはl-1層目の値で他はl層目の値。\n",
    "def linear_backward(A, W, b, Z):\n",
    "     # pytorch.tensorの.grad属性と区別するために.grad_として属性を定義している\n",
    "     W.grad_ = Z.grad_.T @ A\n",
    "     # bの値が一つ変わると、全データ分Lへ影響を及ぼすので、行方向(データ数の方向)にZ.grad_を足す。\n",
    "     b.grad_ = torch.sum(Z.grad_, dim=0)\n",
    "     # l-1層目のAはl層目の誤差（=Z.grad_）とl層目のWから計算できる。\n",
    "     A.grad_ = Z.grad_ @ W\n",
    "\n",
    "\n",
    "# ReLU関数\n",
    "def relu_backward(Z, A):\n",
    "     # 上式の\"l番目の層における損失の誤差\"における2行目と3行目を組み合わせてdL/dZを算出している\n",
    "     # A.grad_はdL/dA, (Z > 0).float()はReLu関数の偏微分に相当する。\n",
    "     Z.grad_ = A.grad_ * ( Z > 0 ).float()\n",
    "\n",
    "\n",
    "# softmax関数と交差エントロピーの計算を同じ関数で実装する（pytorchでもこうなっている）\n",
    "def softmax_cross_entropy(X, y_true):\n",
    "    '''\n",
    "    X: input tensor.行は各データ、列は各クラスを想定。\n",
    "    y_true: tensor。One-Hot Encoding済みの正解ラベル。  \n",
    "    '''\n",
    "    max_val = X.max(dim=1, keepdim=True).values\n",
    "    # 各要素のe^xを計算（これが分子になる）\n",
    "    e_x = (X - max_val).exp()\n",
    "    denominator = e_x.sum(dim=1, keepdim=True) + 1e-10\n",
    "    softmax_out = e_x / denominator\n",
    "    loss = - (y_true * torch.log(softmax_out + 1e-10)).sum() / y_true.shape[0]\n",
    "\n",
    "    return loss, softmax_out\n",
    "\n",
    "\n",
    "# tensorの線形結合を返す関数\n",
    "def linear_comb(X, W, B):\n",
    "    '''\n",
    "    X, W, B: torch.tensor\n",
    "    '''\n",
    "    return X @ W.T + B\n",
    "\n",
    "\n",
    "# ReLUの実装\n",
    "def ReLU(Z):\n",
    "    '''\n",
    "    Z: torch.tensor\n",
    "    '''\n",
    "    # torch.whereによって要素ごとに条件が真・偽のときで別の値を返せる\n",
    "    # 下記では0より大きい要素はzの値そのままで、0以下は0.になる。\n",
    "    return torch.where(Z > 0 , Z, 0.)\n"
   ]
  },
  {
   "cell_type": "code",
   "execution_count": 64,
   "metadata": {},
   "outputs": [],
   "source": [
    "# 隠れ層１層の場合のMLP（スクラッチ）\n",
    "def forward_and_backward(X, W_1, W_2, B_1, B_2, y):\n",
    "    '''\n",
    "    X: features\n",
    "    W: List of weights(each edge)\n",
    "    B: List of Bias(each Layer)\n",
    "    '''\n",
    "\n",
    "    #########################\n",
    "    #### 順伝播（forward）####\n",
    "    #########################\n",
    "\n",
    "    # 入力層→隠れ層\n",
    "    Z1 = linear_comb(X, W_1, B_1)\n",
    "\n",
    "    # 活性化関数適用\n",
    "    A1 = ReLU(Z1)\n",
    "\n",
    "    # 隠れ層→出力層\n",
    "    Z2 = linear_comb(A1, W_2, B_2)\n",
    "\n",
    "    # 最終出力。損失とソフトマックス関数の出力が返される\n",
    "    loss, A2 = softmax_cross_entropy(Z2, y)\n",
    "\n",
    "\n",
    "    #########################\n",
    "    #### 逆伝播（backward）####\n",
    "    #########################\n",
    "\n",
    "    # 最終出力→出力層の出力のbackward。ここで各層の出力の勾配を求める。\n",
    "    # ここでは出力層の活性化関数は恒等関数とし、\n",
    "    # その出力にsoftmax_cross_entropyを適用した結果をモデルの最終出力として考えている。\n",
    "    Z2.grad_ = (A2 - y) / X.shape[0]\n",
    "    # 出力層→隠れ層のbackward\n",
    "    linear_backward(A1, W_2, B_2, Z2)\n",
    "    # 隠れ層の出力側のbackward\n",
    "    relu_backward(Z1, A1)\n",
    "    # 隠れ層の入力側のbackward\n",
    "    linear_backward(X, W_1, B_1, Z1)\n",
    "    \n",
    "    return loss, Z1, A1, Z2, A2\n",
    "    "
   ]
  },
  {
   "cell_type": "markdown",
   "metadata": {},
   "source": [
    "※↑autogradの結果との比較はしないので、.retain_grad()は削除した"
   ]
  },
  {
   "cell_type": "markdown",
   "metadata": {},
   "source": [
    "## ■ MLPの学習ループへ組み込み"
   ]
  },
  {
   "cell_type": "markdown",
   "metadata": {},
   "source": [
    "## 前準備"
   ]
  },
  {
   "cell_type": "code",
   "execution_count": 68,
   "metadata": {},
   "outputs": [
    {
     "name": "stdout",
     "output_type": "stream",
     "text": [
      "shape of X: torch.Size([1797, 64])\n",
      "tensor([ 0.,  0.,  0., 12., 13.,  5.,  0.,  0.,  0.,  0.,  0., 11., 16.,  9.,\n",
      "         0.,  0.,  0.,  0.,  3., 15., 16.,  6.,  0.,  0.,  0.,  7., 15., 16.,\n",
      "        16.,  2.,  0.,  0.,  0.,  0.,  1., 16., 16.,  3.,  0.,  0.,  0.,  0.,\n",
      "         1., 16., 16.,  6.,  0.,  0.,  0.,  0.,  1., 16., 16.,  6.,  0.,  0.,\n",
      "         0.,  0.,  0., 11., 16., 10.,  0.,  0.])\n",
      "==========================\n",
      "shape of y_train: torch.Size([1797])\n",
      "tensor([0, 1, 2,  ..., 8, 9, 8])\n",
      "shape of y_true: torch.Size([1797, 10])\n",
      "shape of train data: X_train:torch.Size([1437, 64]), y_train:torch.Size([1437, 10])\n",
      "shape of validation data: X_val:torch.Size([360, 64]), y_val:torch.Size([360, 10])\n"
     ]
    }
   ],
   "source": [
    "# 変数定義\n",
    "learning_rate = 0.03\n",
    "loss_log = []  #学習時の損失記録用のリスト\n",
    "\n",
    "# データロード\n",
    "dataset = datasets.load_digits()\n",
    "feature_names = dataset['feature_names']\n",
    "X = torch.tensor(dataset['data'], dtype=torch.float32)\n",
    "target = torch.tensor(dataset['target'])\n",
    "\n",
    "# shape確認\n",
    "print(f'shape of X: {X.shape}')\n",
    "print(X[1])\n",
    "print('==========================')\n",
    "print(f'shape of y_train: {target.shape}')\n",
    "print(target)\n",
    "\n",
    "# 目的変数のエンコーディング\n",
    "y_true = F.one_hot(target, num_classes=10)\n",
    "print(f'shape of y_true: {y_true.shape}')\n",
    "\n",
    "# 学習データと検証データを8:2に分ける\n",
    "X_train, X_val, y_train, y_val = train_test_split(X, y_true, test_size=0.2, random_state=42)\n",
    "\n",
    "print(f'shape of train data: X_train:{X_train.shape}, y_train:{y_train.shape}')\n",
    "print(f'shape of validation data: X_val:{X_val.shape}, y_val:{y_val.shape}')\n",
    "\n",
    "# 学習データ・検証データの標準化。検証データの標準化には学習データの平均、標準偏差を使用することに注意。  \n",
    "X_mean = X_train.mean()\n",
    "X_std = X_train.std()\n",
    "X_train = (X_train - X_mean) / X_std\n",
    "X_val = (X_val - X_mean) / X_std\n",
    "\n",
    "# データ数、特徴量数、隠れ層のノード数、最終的な出力数（ここではクラス数）を定義\n",
    "m, nf = X_train.shape\n",
    "nh = 30\n",
    "n_out = 10\n",
    "\n",
    "# 入力層→隠れ層の重みW、バイアス項bの初期化\n",
    "# autogradtの比較はしないので、requires_grad=Falseに設定\n",
    "W_1 = torch.randn((nh, nf)) * torch.sqrt(torch.tensor(2./nf))\n",
    "W_1.requires_grad = False \n",
    "B_1 = torch.zeros(size=(1, nh), requires_grad=False) # 1 x 出力\n",
    "\n",
    "# 隠れ層→出力層の重みW、バイアス項bの初期化\n",
    "W_2 = torch.randn((n_out, nh)) * torch.sqrt(torch.tensor(2./nf))\n",
    "W_2.requires_grad = False\n",
    "B_2 = torch.zeros(size=(1, n_out), requires_grad=False) # 1 x 出力\n",
    "\n",
    "# W_list = [W_1, W_2]\n",
    "# B_list = [B_1, B_2]"
   ]
  },
  {
   "cell_type": "markdown",
   "metadata": {},
   "source": [
    "## 学習"
   ]
  },
  {
   "cell_type": "code",
   "execution_count": 69,
   "metadata": {},
   "outputs": [],
   "source": [
    "# ミニバッチのサイズ定義\n",
    "batch_size = 32\n",
    "\n",
    "# 全ミニバッチの数。ミニバッチサイズで割ったときの余りも考慮してプラス１\n",
    "batch_num = len(y_train) // batch_size + 1\n",
    "\n",
    "# 各epochごとの学習データ・検証データでの損失記録用\n",
    "loss_per_epoch_train = []\n",
    "loss_per_epoch_val = []\n",
    "\n",
    "# 各epochごとの検証データでのAccuracy結果格納用\n",
    "accuracy_log = {}\n",
    "\n",
    "\n",
    "# for文で学習ループ作成\n",
    "for epoch in range(30):\n",
    "    # epochごとの損失を蓄積する用の変数\n",
    "    running_loss = 0\n",
    "    running_loss_val = 0\n",
    "\n",
    "    # バッチごとの処理対象データ開始・終了インデックスを初期化\n",
    "    batch_start_idx = 0\n",
    "    batch_end_idx = batch_size\n",
    "\n",
    "    # シャッフル後のindex\n",
    "    shuffled_indices = np.random.permutation(len(y_train))\n",
    "\n",
    "    # ミニバッチ勾配降下法\n",
    "    for i in range(batch_num):\n",
    "        #シャッフル後のindexからy,Xで同じ範囲を取り出しだしてミニバッチ作成\n",
    "        batch_indices = shuffled_indices[batch_start_idx : batch_end_idx]\n",
    "        y_train_batch = y_train[batch_indices, :]\n",
    "        X_batch = X_train[batch_indices, :]\n",
    "        #pdb.set_trace()\n",
    "\n",
    "\n",
    "        # MLPの順伝播と逆伝播の計算（元は多項ロジスティック回帰の式だった）\n",
    "        loss, Z1, A1, Z2, A2 = forward_and_backward(X_train, W_1, W_2, B_1, B_2, y_train)\n",
    "\n",
    "        # 学習データに対するlossの計算・記録\n",
    "        loss_log.append(loss.item())\n",
    "        running_loss += loss.item()\n",
    "\n",
    "\n",
    "        # パラメタ更新。更新するだけなので勾配の保持は不要。\n",
    "        # スクラッチのbackwardから算出した勾配を用いる。\n",
    "        # with torch.no_grad():\n",
    "        W_1 -= learning_rate * W_1.grad_\n",
    "        B_1 -= learning_rate * B_1.grad_\n",
    "        W_2 -= learning_rate * W_2.grad_\n",
    "        B_2 -= learning_rate * B_2.grad_\n",
    "\n",
    "\n",
    "        # 勾配初期化\n",
    "        W_1.grad_ = torch.zero_(W_1.grad_)\n",
    "        W_2.grad_ = torch.zero_(W_2.grad_)\n",
    "        B_1.grad_ = torch.zero_(B_1.grad_)\n",
    "        B_2.grad_ = torch.zero_(B_2.grad_)\n",
    "\n",
    "        # batch開始・終了インデックスを更新。スライシングの仕様上、endがlen(y_train)を超えても問題ない。\n",
    "        batch_start_idx += batch_size\n",
    "        batch_end_idx += batch_size\n",
    "\n",
    "\n",
    "    # 検証データに対する予測、lossの計算・記録（1epochにつき1回算出）\n",
    "    # 検証データに対する損失とA2(yの予測値)さえあればよい。\n",
    "    #with torch.no_grad():\n",
    "    Z1_val = linear_comb(X_val, W_1, B_1)\n",
    "    A1_val = ReLU(Z1_val)\n",
    "    Z2_val = linear_comb(A1_val, W_2, B_2)\n",
    "\n",
    "    # 最終出力。損失とソフトマックス関数の出力が返される\n",
    "    loss_val, y_pred_val = softmax_cross_entropy(Z2_val, y_val)\n",
    "\n",
    "\n",
    "    # epochの最終的な損失を出力。各バッチの損失の累積を全バッチ数で割って平均を求める\n",
    "    loss_per_epoch_train.append(running_loss / batch_num)\n",
    "    loss_per_epoch_val.append(loss_val.item())\n",
    "\n",
    "    # 検証データに対するaccuracyの計算\n",
    "    accuracy_log[epoch] = ( (torch.argmax(y_pred_val, dim=1) == y_val.argmax(dim=1)).sum() / len(y_val) ).item()"
   ]
  },
  {
   "cell_type": "code",
   "execution_count": 70,
   "metadata": {},
   "outputs": [
    {
     "data": {
      "text/plain": [
       "{0: 0.6694444417953491,\n",
       " 1: 0.8527777791023254,\n",
       " 2: 0.894444465637207,\n",
       " 3: 0.9083333611488342,\n",
       " 4: 0.925000011920929,\n",
       " 5: 0.9305555820465088,\n",
       " 6: 0.9305555820465088,\n",
       " 7: 0.9333333373069763,\n",
       " 8: 0.9388889074325562,\n",
       " 9: 0.9444444179534912,\n",
       " 10: 0.9444444179534912,\n",
       " 11: 0.9444444179534912,\n",
       " 12: 0.9472222328186035,\n",
       " 13: 0.949999988079071,\n",
       " 14: 0.949999988079071,\n",
       " 15: 0.9527778029441833,\n",
       " 16: 0.9555555582046509,\n",
       " 17: 0.9555555582046509,\n",
       " 18: 0.9555555582046509,\n",
       " 19: 0.9527778029441833,\n",
       " 20: 0.9555555582046509,\n",
       " 21: 0.9583333134651184,\n",
       " 22: 0.9638888835906982,\n",
       " 23: 0.9666666388511658,\n",
       " 24: 0.9666666388511658,\n",
       " 25: 0.9666666388511658,\n",
       " 26: 0.9666666388511658,\n",
       " 27: 0.9666666388511658,\n",
       " 28: 0.9666666388511658,\n",
       " 29: 0.9666666388511658}"
      ]
     },
     "execution_count": 70,
     "metadata": {},
     "output_type": "execute_result"
    }
   ],
   "source": [
    "accuracy_log"
   ]
  },
  {
   "cell_type": "markdown",
   "metadata": {},
   "source": [
    "検証データに対するAccuracyがepochを重ねるごとに上昇しており、  \n",
    "パラメータの更新が上手くいっていることが分かる。"
   ]
  },
  {
   "cell_type": "markdown",
   "metadata": {},
   "source": [
    "# ●学習曲線の描画\n",
    "学習データと検証データでの損失の推移を確認してみる。"
   ]
  },
  {
   "cell_type": "code",
   "execution_count": 71,
   "metadata": {},
   "outputs": [
    {
     "data": {
      "text/plain": [
       "<matplotlib.legend.Legend at 0x7fb548b9db50>"
      ]
     },
     "execution_count": 71,
     "metadata": {},
     "output_type": "execute_result"
    },
    {
     "data": {
      "image/png": "[encoded data removed]",
      "text/plain": [
       "<Figure size 640x480 with 1 Axes>"
      ]
     },
     "metadata": {},
     "output_type": "display_data"
    }
   ],
   "source": [
    "plt.plot(loss_per_epoch_train, label='train data')\n",
    "plt.plot(loss_per_epoch_val, label='validation data')\n",
    "plt.xlabel('epoch')\n",
    "plt.ylabel('Loss')\n",
    "plt.yticks(np.linspace(0.0, 2.5, 11))\n",
    "plt.legend()"
   ]
  }
 ],
 "metadata": {
  "kernelspec": {
   "display_name": "Python 3",
   "language": "python",
   "name": "python3"
  },
  "language_info": {
   "codemirror_mode": {
    "name": "ipython",
    "version": 3
   },
   "file_extension": ".py",
   "mimetype": "text/x-python",
   "name": "python",
   "nbconvert_exporter": "python",
   "pygments_lexer": "ipython3",
   "version": "3.11.6"
  }
 },
 "nbformat": 4,
 "nbformat_minor": 2
}
