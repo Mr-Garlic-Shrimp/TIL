{
 "cells": [
  {
   "cell_type": "markdown",
   "metadata": {},
   "source": [
    "# 深層学習- 1\n",
    "参考：  \n",
    "* [Udemy講座：「①米国AI開発者がやさしく教える深層学習超入門第一弾【Pythonで実践】」](https://www.udemy.com/course/deeplearning1/learn/lecture/40143418)\n",
    "* https://axa.biopapyrus.jp/deep-learning/\n",
    "* [パーセプトロン](https://axa.biopapyrus.jp/deep-learning/perceptron.html)"
   ]
  },
  {
   "cell_type": "markdown",
   "metadata": {},
   "source": [
    "## 深層学習とは\n",
    "深層学習は機械学習のアルゴリズムの一種である。  \n",
    "従来の機械学習手法（ロジスティック回帰やGBDTなど）は人が特徴量を作ってモデルに渡して学習させていたため、  \n",
    "良い特徴量をいかに作るかが重要であった。  \n",
    "一方、深層学習では入力データをモデルに渡すとモデル自身が特徴量を作って学習するため、  \n",
    "良い特徴量を作ってくれるモデルをいかに作るかが重要という点で従来の機械学習手法と異なる。  \n",
    "深層学習ではニューラルネットワーク(NN)という人間の神経を模したモデルを用いてデータを学習する。  \n",
    "このNNの層を深くしていくことで精度が高いモデル構築することが出来る。  \n",
    "\n",
    "深層学習の適用例は下記。  \n",
    "昨今の生成AIも深層学習の応用であり、社会に非常に大きな影響を与えている技術の一つ。\n",
    "* 音声認識\n",
    "* 医用画像診断\n",
    "* 顔認証\n",
    "* 株価予想\n",
    "* 画像生成"
   ]
  },
  {
   "cell_type": "markdown",
   "metadata": {},
   "source": [
    "## Pytorch\n",
    "深層学習ライブラリとしてはよくPytorchが用いられる。  \n",
    "Tensorflowも一時期使われていたが、最近はPytorchが主流。  \n",
    "深層学習に用いるデータはPytorchのTensorモジュールを使って定義する。  "
   ]
  }
 ],
 "metadata": {
  "kernelspec": {
   "display_name": "Python 3 (ipykernel)",
   "language": "python",
   "name": "python3"
  },
  "orig_nbformat": 4
 },
 "nbformat": 4,
 "nbformat_minor": 2
}
