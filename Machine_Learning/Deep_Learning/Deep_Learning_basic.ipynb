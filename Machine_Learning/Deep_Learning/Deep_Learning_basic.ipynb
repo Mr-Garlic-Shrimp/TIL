{
 "cells": [
  {
   "cell_type": "markdown",
   "metadata": {},
   "source": [
    "# 深層学習- 1\n",
    "参考：  \n",
    "* https://axa.biopapyrus.jp/deep-learning/\n",
    "* [パーセプトロン](https://axa.biopapyrus.jp/deep-learning/perceptron.html)"
   ]
  },
  {
   "cell_type": "markdown",
   "metadata": {},
   "source": [
    "## 深層学習の適用例\n",
    "* 音声認識\n",
    "* 医用画像診断\n",
    "* 顔認証\n",
    "* 株価予想\n",
    "* 画像生成"
   ]
  }
 ],
 "metadata": {
  "kernelspec": {
   "display_name": "Python 3 (ipykernel)",
   "language": "python",
   "name": "python3"
  },
  "orig_nbformat": 4
 },
 "nbformat": 4,
 "nbformat_minor": 2
}
