{
 "cells": [
  {
   "cell_type": "markdown",
   "metadata": {},
   "source": [
    "# 深層学習ノートブック-9 MLPのコードをリファクタリング"
   ]
  },
  {
   "cell_type": "markdown",
   "metadata": {},
   "source": [
    "DL_notebook-5から8までで実装してきた2層のMLPや誤差逆伝播コードをクラス化して整理する。  \n",
    "各Layerをクラス化したのち、これらのクラスを用いてMLPのModel全体を表すクラスを作成する。  \n",
    "\n",
    "### ■ 考え方\n",
    "MLPの登場人物（計算過程）をおおまかに分解すると、  \n",
    "入力層（特徴量X）、隠れ層の線形変換部、隠れ層の活性化関数適用部、出力層の線形変換部、損失関数の計算に分けられる。  \n",
    "※出力層の活性化関数は恒等関数と考えるので割愛。  \n",
    "\n",
    "入力層は特徴量Xがあるだけなので、クラス化する必要はない。  \n",
    "よって、隠れ層の線形変換部、隠れ層の活性化関数適用部、出力層の線形変換部、損失関数の計算をクラス化すれば見やすそう。   \n",
    "さらに隠れ層の線形変換部と出力層の線形変換部はやっている計算は同じなので、より抽象化して”線形変換の計算を行うクラス”としてまとめられる。   \n",
    "\n",
    "また、線形変換、隠れ層の活性化関数、損失関数の計算では順伝播と逆伝播の2方向の計算が行われるので、  \n",
    "これらのクラスにはforwardメソッド、backwardメソッドを用意する。  \n",
    "\n",
    "上記のように定義したクラスを用いてMLPのModel全体を表すクラスを作成する。  "
   ]
  },
  {
   "cell_type": "markdown",
   "metadata": {},
   "source": [
    "### ■ ざっくりとしたクラス設計\n",
    "* Linearクラス：　隠れ層・出力層の入力側（線形変換部）に相当\n",
    "  * 線形変換への入力数（前の層の出力数）、出力数（隠れ層or出力層のノード数）はコンストラクタで受け取る。\n",
    "  * forward,backwardメソッドを実装。\n",
    "    * forwardの引数は前の層からの出力、backwardの引数はforwardの出力  \n",
    "      (”逆伝播”なので、線形変換の逆方向に計算する。なので、backwardの引数はforwardの出力になる。)  \n",
    "  * パラメタW,Bはこのクラスのコンストラクタおよびforwardメソッドの引数として受け取るのではなく、  \n",
    "    __init__の中で生成・定義しておく。パラメタは入力として隠れ層へ渡されるのではなく、隠れ層で”持っている”ので。  \n",
    "    こうしておくことで呼び出し側でパラメタを都度生成する必要がなくなる。\n",
    "* ReLUクラス：　隠れ層の出力側(活性化関数適用部)に相当\n",
    "  * forward,backwardメソッドを実装。backwardではZの勾配を求める。\n",
    "\n",
    "* SoftmaxCrossEntoropyクラス：　最終出力に対する損失関数の計算に相当。出力層の活性化関数は恒等関数とみなす。  \n",
    "  * forward,backwardメソッドを実装。backwardでは予測値$\\hat{Y}=\\textbf{Z}^{[2]}$の勾配を求める。\n",
    "* Modelクラス： MLPのプロセス全体を表すクラス\n",
    "  * 隠れ層、出力層、損失関数の各計算に相当するインスタンスを生成する。\n",
    "  * 一連の計算を実行するためのforward,backwardメソッドを実装。\n",
    "  * 勾配をリセットするためのzero_gradメソッド、パラメータを更新するためのstepメソッドを用意する。"
   ]
  },
  {
   "cell_type": "markdown",
   "metadata": {},
   "source": [
    "### ■ ポイント\n",
    "* 各層のある時点の計算結果の勾配は常に（順伝播でいう）一つ先の計算結果の勾配で表わされる  \n",
    "  例）X,W,Bの勾配はZの勾配で表わされる。Zの勾配はその後のAの勾配で表わされる。"
   ]
  },
  {
   "cell_type": "code",
   "execution_count": 2,
   "metadata": {},
   "outputs": [],
   "source": [
    "import torch\n",
    "import torch.nn.functional as F  #pytorchの便利関数はFでimportすることが多い。\n",
    "import numpy as np\n",
    "import seaborn as sns\n",
    "from sklearn import datasets\n",
    "from sklearn.model_selection import train_test_split\n",
    "import matplotlib.pyplot as plt\n",
    "# python debugerをインポート\n",
    "import pdb"
   ]
  },
  {
   "cell_type": "markdown",
   "metadata": {},
   "source": [
    "## ○ 各Layerのクラスを実装"
   ]
  },
  {
   "cell_type": "code",
   "execution_count": 17,
   "metadata": {},
   "outputs": [],
   "source": [
    "# 隠れ層・出力層の入力側に相当するクラス\n",
    "class Linear:\n",
    "    def __init__(self, n_input, n_output) -> None:\n",
    "        self.W = torch.randn((n_output, n_input)) * torch.sqrt(torch.tensor(2./n_input))\n",
    "        self.W.requires_grad = False\n",
    "        self.B = torch.zeros(size=(1, n_output), requires_grad=False) # 1 x 出力\n",
    "\n",
    "    def forward(self, X): # Xには特徴量および隠れ層のAが入る。\n",
    "        self.X = X # backwardでも計算に使いたいので、インスタンス変数に格納\n",
    "        self.Z = X @ self.W.T + self.B \n",
    "        return self.Z\n",
    "    \n",
    "    def backward(self, Z):    \n",
    "        self.W.grad_ = Z.grad_.T @ self.X\n",
    "        self.B.grad_ = torch.sum(Z.grad_, dim=0)\n",
    "        self.X.grad_ = Z.grad_ @ self.W\n",
    "        return self.X.grad_ # Xおよび隠れ層のAの勾配を返す\n",
    "\n",
    "\n",
    "# 隠れ層の出力側に相当するクラス\n",
    "class ReLU:\n",
    "    def forward(self, Z):\n",
    "        self.Z = Z\n",
    "        return torch.where(Z > 0 , Z, 0.) # Aを返す\n",
    "    \n",
    "    def backward(self, A):\n",
    "        self.Z.grad_ = A.grad_ * ( self.Z > 0 ).float()\n",
    "        return self.Z.grad_\n",
    "\n",
    "\n",
    "# 損失関数を計算するクラス\n",
    "class SoftmaxCrossEntoropy:\n",
    "    def forward(self, X, y_true):\n",
    "        max_val = X.max(dim=1, keepdim=True).values\n",
    "        # 各要素のe^xを計算（これが分子になる）\n",
    "        e_x = (X - max_val).exp()\n",
    "        denominator = e_x.sum(dim=1, keepdim=True) + 1e-10\n",
    "        self.softmax_out = e_x / denominator\n",
    "        self.loss = - (y_true * torch.log(self.softmax_out + 1e-10)).sum() / y_true.shape[0]\n",
    "\n",
    "        return self.loss, self.softmax_out \n",
    "    \n",
    "    def backward(self, y_true):\n",
    "        return (self.softmax_out - y_true) / y_true.shape[0] #softmax_outはyの予測値\n",
    "            "
   ]
  },
  {
   "cell_type": "code",
   "execution_count": 18,
   "metadata": {},
   "outputs": [],
   "source": [
    "# 隠れ層１層の場合のMLP（スクラッチ）\n",
    "class MlpModel:\n",
    "\n",
    "    # コンストラクタでは特徴量数、隠れ層のノード数、出力層のノード数を受け取る。\n",
    "    def __init__(self, n_features, hidden_units, output_units) -> None:\n",
    "        self.Linear_1 = Linear(n_features, hidden_units)\n",
    "        self.relu = ReLU()\n",
    "        self.Linear_2 = Linear(hidden_units, output_units)\n",
    "        self.loss_func = SoftmaxCrossEntoropy()\n",
    "        \n",
    "\n",
    "    def forward(self, X, y):\n",
    "        self.X = X\n",
    "        self.Z1 = self.Linear_1.forward(X)\n",
    "        self.A1 = self.relu.forward(self.Z1)\n",
    "        self.Z2 = self.Linear_2.forward(self.A1)\n",
    "        # 出力層の活性化関数は恒等関数としているので、loss_funcの引数はA2ではなくZ2でOK\n",
    "        self.loss, y_pred = self.loss_func.forward(self.Z2, y) \n",
    "        return self.loss , y_pred\n",
    "\n",
    "\n",
    "    # 明にW,Bを計算していないが、メソッド内部で計算されてインスタンス変数として保持されていることに注意。\n",
    "    def backward(self, y):\n",
    "        self.Z2.grad_ = self.loss_func.backward(y) # lossが求まったということはひとつ前の出力Z2の勾配が求まる\n",
    "        self.A1.grad_ = self.Linear_2.backward(self.Z2) # Z2の勾配が求まったということはひとつ前のA1の勾配が求まる。（同時にW2,B2の勾配も求まる）\n",
    "        self.Z1.grad_ = self.relu.backward(self.A1) # A1の勾配が求まったということはひとつ前のZ1の勾配が求まる。\n",
    "        self.X.grad_ = self.Linear_1.backward(self.Z1) # Z1の勾配が求まったということはひとつ前のXの勾配が求まる。（Xの勾配自体は格納しなくてもOk）\n",
    "\n",
    "\n",
    "    # 勾配の初期化\n",
    "    def zero_grad(self):\n",
    "        self.Linear_1.W.grad_ = None\n",
    "        self.Linear_1.B.grad_ = None\n",
    "        self.Linear_2.W.grad_ = None\n",
    "        self.Linear_2.B.grad_ = None\n",
    "\n",
    "\n",
    "    # パラメタの更新\n",
    "    def step(self, learning_rate):\n",
    "        self.Linear_1.W -= learning_rate * self.Linear_1.W.grad_\n",
    "        self.Linear_1.B -= learning_rate * self.Linear_1.B.grad_\n",
    "        self.Linear_2.W -= learning_rate * self.Linear_2.W.grad_\n",
    "        self.Linear_2.B -= learning_rate * self.Linear_2.B.grad_\n"
   ]
  },
  {
   "cell_type": "markdown",
   "metadata": {},
   "source": [
    "## ■ 作成したクラスをMLPの学習ループへ組み込み"
   ]
  },
  {
   "cell_type": "markdown",
   "metadata": {},
   "source": [
    "## 前準備\n",
    "下記もリファクタリングの余地あるが、後程やる。"
   ]
  },
  {
   "cell_type": "code",
   "execution_count": 19,
   "metadata": {},
   "outputs": [
    {
     "name": "stdout",
     "output_type": "stream",
     "text": [
      "shape of X: torch.Size([1797, 64])\n",
      "tensor([ 0.,  0.,  0., 12., 13.,  5.,  0.,  0.,  0.,  0.,  0., 11., 16.,  9.,\n",
      "         0.,  0.,  0.,  0.,  3., 15., 16.,  6.,  0.,  0.,  0.,  7., 15., 16.,\n",
      "        16.,  2.,  0.,  0.,  0.,  0.,  1., 16., 16.,  3.,  0.,  0.,  0.,  0.,\n",
      "         1., 16., 16.,  6.,  0.,  0.,  0.,  0.,  1., 16., 16.,  6.,  0.,  0.,\n",
      "         0.,  0.,  0., 11., 16., 10.,  0.,  0.])\n",
      "==========================\n",
      "shape of y_train: torch.Size([1797])\n",
      "tensor([0, 1, 2,  ..., 8, 9, 8])\n",
      "shape of y_true: torch.Size([1797, 10])\n",
      "shape of train data: X_train:torch.Size([1437, 64]), y_train:torch.Size([1437, 10])\n",
      "shape of validation data: X_val:torch.Size([360, 64]), y_val:torch.Size([360, 10])\n"
     ]
    }
   ],
   "source": [
    "# 変数定義\n",
    "learning_rate = 0.03\n",
    "loss_log = []  #学習時の損失記録用のリスト\n",
    "\n",
    "# データロード\n",
    "dataset = datasets.load_digits()\n",
    "feature_names = dataset['feature_names']\n",
    "X = torch.tensor(dataset['data'], dtype=torch.float32)\n",
    "target = torch.tensor(dataset['target'])\n",
    "\n",
    "# shape確認\n",
    "print(f'shape of X: {X.shape}')\n",
    "print(X[1])\n",
    "print('==========================')\n",
    "print(f'shape of y_train: {target.shape}')\n",
    "print(target)\n",
    "\n",
    "# 目的変数のエンコーディング\n",
    "y_true = F.one_hot(target, num_classes=10)\n",
    "print(f'shape of y_true: {y_true.shape}')\n",
    "\n",
    "# 学習データと検証データを8:2に分ける\n",
    "X_train, X_val, y_train, y_val = train_test_split(X, y_true, test_size=0.2, random_state=42)\n",
    "\n",
    "print(f'shape of train data: X_train:{X_train.shape}, y_train:{y_train.shape}')\n",
    "print(f'shape of validation data: X_val:{X_val.shape}, y_val:{y_val.shape}')\n",
    "\n",
    "# 学習データ・検証データの標準化。検証データの標準化には学習データの平均、標準偏差を使用することに注意。  \n",
    "X_mean = X_train.mean()\n",
    "X_std = X_train.std()\n",
    "X_train = (X_train - X_mean) / X_std\n",
    "X_val = (X_val - X_mean) / X_std\n",
    "\n",
    "# データ数、特徴量数、隠れ層のノード数、最終的な出力数（ここではクラス数）を定義\n",
    "m, n_features = X_train.shape\n",
    "hidden_units = 30\n",
    "output_units = 10\n"
   ]
  },
  {
   "cell_type": "code",
   "execution_count": 29,
   "metadata": {},
   "outputs": [],
   "source": [
    "# MLPクラスのインスタンス生成\n",
    "model = MlpModel(n_features=n_features, hidden_units=hidden_units, output_units=output_units)"
   ]
  },
  {
   "cell_type": "code",
   "execution_count": 30,
   "metadata": {},
   "outputs": [],
   "source": [
    "# ミニバッチのサイズ定義\n",
    "batch_size = 32\n",
    "\n",
    "# 全ミニバッチの数。ミニバッチサイズで割ったときの余りも考慮してプラス１\n",
    "batch_num = len(y_train) // batch_size + 1\n",
    "\n",
    "# 各epochごとの学習データ・検証データでの損失記録用\n",
    "loss_per_epoch_train = []\n",
    "loss_per_epoch_val = []\n",
    "\n",
    "# 各epochごとの検証データでのAccuracy結果格納用\n",
    "accuracy_log = {}\n",
    "\n",
    "\n",
    "# for文で学習ループ作成\n",
    "for epoch in range(30):\n",
    "    # epochごとの損失を蓄積する用の変数\n",
    "    running_loss = 0\n",
    "    running_loss_val = 0\n",
    "\n",
    "    # バッチごとの処理対象データ開始・終了インデックスを初期化\n",
    "    batch_start_idx = 0\n",
    "    batch_end_idx = batch_size\n",
    "\n",
    "    # シャッフル後のindex\n",
    "    shuffled_indices = np.random.permutation(len(y_train))\n",
    "\n",
    "    # ミニバッチ勾配降下法\n",
    "    for i in range(batch_num):\n",
    "        #シャッフル後のindexからy,Xで同じ範囲を取り出しだしてミニバッチ作成\n",
    "        batch_indices = shuffled_indices[batch_start_idx : batch_end_idx]\n",
    "        y_train_batch = y_train[batch_indices, :]\n",
    "        X_batch = X_train[batch_indices, :]\n",
    "\n",
    "        # 順伝播の計算\n",
    "        loss, y_pred = model.forward(X_batch, y_train_batch)\n",
    "        # 逆伝播の計算\n",
    "        model.backward(y_train_batch)\n",
    "        # パラメタの更新\n",
    "        model.step(learning_rate=learning_rate)\n",
    "        # 勾配を初期化\n",
    "        model.zero_grad()\n",
    "\n",
    "        # 学習データに対するlossの計算・記録\n",
    "        loss_log.append(loss.item())\n",
    "        running_loss += loss.item()\n",
    "\n",
    "        # batch開始・終了インデックスを更新。スライシングの仕様上、endがlen(y_train)を超えても問題ない。\n",
    "        batch_start_idx += batch_size\n",
    "        batch_end_idx += batch_size\n",
    "\n",
    "\n",
    "    # 検証データに対する予測、lossの計算・記録（1epochにつき1回算出）\n",
    "    loss_val, y_pred_val = model.forward(X_val, y_val)\n",
    "\n",
    "    # epochの最終的な損失を出力。各バッチの損失の累積を全バッチ数で割って平均を求める\n",
    "    loss_per_epoch_train.append(running_loss / batch_num)\n",
    "    loss_per_epoch_val.append(loss_val.item())\n",
    "\n",
    "    # 検証データに対するaccuracyの計算\n",
    "    accuracy_log[epoch] = ( (torch.argmax(y_pred_val, dim=1) == y_val.argmax(dim=1)).sum() / len(y_val) ).item()"
   ]
  },
  {
   "cell_type": "markdown",
   "metadata": {},
   "source": [
    "上記のように上手くオブジェクト指向で記述することにより、  \n",
    "MLPの学習ループをシンプルに書ける。"
   ]
  },
  {
   "cell_type": "code",
   "execution_count": 38,
   "metadata": {},
   "outputs": [
    {
     "data": {
      "text/plain": [
       "{0: 0.5611110925674438,\n",
       " 1: 0.800000011920929,\n",
       " 2: 0.894444465637207,\n",
       " 3: 0.9027777910232544,\n",
       " 4: 0.9222221970558167,\n",
       " 5: 0.9277777671813965,\n",
       " 6: 0.9333333373069763,\n",
       " 7: 0.9472222328186035,\n",
       " 8: 0.9444444179534912,\n",
       " 9: 0.9416666626930237,\n",
       " 10: 0.949999988079071,\n",
       " 11: 0.9555555582046509,\n",
       " 12: 0.9611111283302307,\n",
       " 13: 0.9527778029441833,\n",
       " 14: 0.9555555582046509,\n",
       " 15: 0.9638888835906982,\n",
       " 16: 0.9666666388511658,\n",
       " 17: 0.9666666388511658,\n",
       " 18: 0.9666666388511658,\n",
       " 19: 0.9666666388511658,\n",
       " 20: 0.9638888835906982,\n",
       " 21: 0.9638888835906982,\n",
       " 22: 0.9666666388511658,\n",
       " 23: 0.9666666388511658,\n",
       " 24: 0.9694444537162781,\n",
       " 25: 0.9611111283302307,\n",
       " 26: 0.9638888835906982,\n",
       " 27: 0.9638888835906982,\n",
       " 28: 0.9694444537162781,\n",
       " 29: 0.9666666388511658}"
      ]
     },
     "execution_count": 38,
     "metadata": {},
     "output_type": "execute_result"
    }
   ],
   "source": [
    "accuracy_log"
   ]
  },
  {
   "cell_type": "markdown",
   "metadata": {},
   "source": [
    "# ●学習曲線の描画\n",
    "学習データと検証データでの損失の推移を確認してみる。"
   ]
  },
  {
   "cell_type": "code",
   "execution_count": 31,
   "metadata": {},
   "outputs": [
    {
     "data": {
      "text/plain": [
       "<matplotlib.legend.Legend at 0x7fd671012b50>"
      ]
     },
     "execution_count": 31,
     "metadata": {},
     "output_type": "execute_result"
    },
    {
     "data": {
      "image/png": "[encoded data removed]",
      "text/plain": [
       "<Figure size 640x480 with 1 Axes>"
      ]
     },
     "metadata": {},
     "output_type": "display_data"
    }
   ],
   "source": [
    "plt.plot(loss_per_epoch_train, label='train data')\n",
    "plt.plot(loss_per_epoch_val, label='validation data')\n",
    "plt.xlabel('epoch')\n",
    "plt.ylabel('Loss')\n",
    "plt.yticks(np.linspace(0.0, 2.5, 11))\n",
    "plt.legend()"
   ]
  }
 ],
 "metadata": {
  "kernelspec": {
   "display_name": "Python 3",
   "language": "python",
   "name": "python3"
  },
  "language_info": {
   "codemirror_mode": {
    "name": "ipython",
    "version": 3
   },
   "file_extension": ".py",
   "mimetype": "text/x-python",
   "name": "python",
   "nbconvert_exporter": "python",
   "pygments_lexer": "ipython3",
   "version": "3.11.6"
  }
 },
 "nbformat": 4,
 "nbformat_minor": 2
}
