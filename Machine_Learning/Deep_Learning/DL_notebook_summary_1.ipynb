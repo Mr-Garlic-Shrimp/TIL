{
 "cells": [
  {
   "cell_type": "markdown",
   "metadata": {},
   "source": [
    "# <a id='toc1_'></a>[深層学習ノートブック まとめ-1](#toc0_)\n",
    "DL_notebook-1~15までの内容を自分用にまとめる。  \n",
    "これらのノートの内容は詰まるところ、下記の学習ループに集約される。  \n",
    "これが深層学習における基本的な学習ループとなる。  \n",
    "\n",
    "参考：  \n",
    "* [Udemy講座：「①米国AI開発者がやさしく教える深層学習超入門第一弾【Pythonで実践】」](https://www.udemy.com/course/deeplearning1/learn/lecture/40143418)"
   ]
  },
  {
   "cell_type": "code",
   "execution_count": 4,
   "metadata": {},
   "outputs": [
    {
     "name": "stdout",
     "output_type": "stream",
     "text": [
      "The autoreload extension is already loaded. To reload it, use:\n",
      "  %reload_ext autoreload\n"
     ]
    }
   ],
   "source": [
    "%load_ext autoreload\n",
    "%autoreload 2\n",
    "\n",
    "import torch\n",
    "import torchvision\n",
    "from torch import nn\n",
    "from torch.nn import functional as F\n",
    "from torch import optim\n",
    "from torchvision import transforms\n",
    "from torch.utils.data import DataLoader, Dataset\n",
    "from torch.optim.lr_scheduler import StepLR, CosineAnnealingLR\n",
    "\n",
    "import matplotlib.pyplot as plt\n",
    "import numpy as np\n",
    "import seaborn as sns\n",
    "from sklearn import datasets\n",
    "from sklearn.model_selection import train_test_split\n",
    "\n",
    "\n",
    "# 各ノートにあるMLPの学習ループをライブラリとしてまとめたもの\n",
    "from lib.mlp_learn import MLP_2Layers, learn\n",
    "from lib.custom_dataset import CustomDataset\n"
   ]
  },
  {
   "cell_type": "code",
   "execution_count": 6,
   "metadata": {},
   "outputs": [],
   "source": [
    "# バッチサイズを定義。今回は１ミニバッチ＝３２データとする\n",
    "batch_size = 8\n",
    "\n",
    "# データ読み込み。8x8のMNISTデータセットをカスタムデータセットとして読み込む。（練習のため）\n",
    "dataset = datasets.load_digits()\n",
    "X = dataset['images'] # 0~16の値をもつ\n",
    "X = ( X * (255. / 16.) ).astype(np.uint8)\n",
    "y = dataset['target']\n",
    "\n",
    "X_train, X_val, y_train, y_val = train_test_split(X, y, test_size=0.2, random_state=42)\n",
    "transform = transforms.Compose([\n",
    "    transforms.ToTensor(), # 0~255 -> 0~1\n",
    "    transforms.Normalize((0.5,), (0.5)) # 0~1 -> -1~1\n",
    "])\n",
    "\n",
    "# Datasetとして読み込み\n",
    "train_dataset = CustomDataset(X_train, y_train, transform=transform)\n",
    "val_dataset = CustomDataset(X_val, y_val, transform=transform)\n",
    "\n",
    "# DataLoader\n",
    "train_loader = DataLoader(train_dataset, batch_size=batch_size, shuffle=True, num_workers=2)\n",
    "val_loader = DataLoader(val_dataset, batch_size=batch_size, num_workers=2)\n",
    "\n",
    "# モデルのコンストラクタに渡す引数を定義。\n",
    "num_in = 64\n",
    "num_hidden = 30\n",
    "num_out = 10\n",
    "\n",
    "# モデル定義（２層のMLP）\n",
    "MLP_model = MLP_2Layers(num_in=num_in, num_hidden=num_hidden, num_out=num_out)\n",
    "\n",
    "# requires_grad_をTrueに設定。最後に_がつくのは設定するという意味。\n",
    "MLP_model.requires_grad_(True)\n",
    "\n",
    "# torch.optimを使ってOptimizerを定義\n",
    "optimizer = optim.SGD(MLP_model.parameters(), lr=0.03)\n",
    "\n",
    "# schedulerにはcosine annealing lrを指定\n",
    "cosine_ann_lr_scheduler = CosineAnnealingLR(optimizer, T_max=25)"
   ]
  },
  {
   "cell_type": "code",
   "execution_count": 10,
   "metadata": {},
   "outputs": [
    {
     "name": "stdout",
     "output_type": "stream",
     "text": [
      "epoch_0: {'Loss_train': 1.7792320960097843, 'Loss_val': 1.0851004971398248, 'Accuracy': 0.8027777777777778}, Learning Rate: 0.03\n",
      "epoch_1: {'Loss_train': 0.7033771060407161, 'Loss_val': 0.4435059719615512, 'Accuracy': 0.8972222222222223}, Learning Rate: 0.02997040092642407\n",
      "epoch_2: {'Loss_train': 0.3746805601235893, 'Loss_val': 0.2951572237743272, 'Accuracy': 0.9222222222222223}, Learning Rate: 0.029881720519717166\n",
      "epoch_3: {'Loss_train': 0.2602980551827285, 'Loss_val': 0.2303834961520301, 'Accuracy': 0.9416666666666667}, Learning Rate: 0.029734308760930327\n",
      "epoch_4: {'Loss_train': 0.21008390393108128, 'Loss_val': 0.20126987654301856, 'Accuracy': 0.9333333333333333}, Learning Rate: 0.02952874741692946\n",
      "epoch_5: {'Loss_train': 0.1758397186278469, 'Loss_val': 0.170463104877207, 'Accuracy': 0.9555555555555556}, Learning Rate: 0.0292658477444273\n",
      "epoch_6: {'Loss_train': 0.15138444919397848, 'Loss_val': 0.15974548442496195, 'Accuracy': 0.9527777777777777}, Learning Rate: 0.028946647288323767\n",
      "epoch_7: {'Loss_train': 0.1364513435970164, 'Loss_val': 0.14837194801204734, 'Accuracy': 0.9555555555555556}, Learning Rate: 0.02857240578699029\n",
      "epoch_8: {'Loss_train': 0.1222627729177475, 'Loss_val': 0.13894726358768011, 'Accuracy': 0.9527777777777777}, Learning Rate: 0.028144600200657947\n",
      "epoch_9: {'Loss_train': 0.11127068682366775, 'Loss_val': 0.13472706122944753, 'Accuracy': 0.9583333333333334}, Learning Rate: 0.027664918882530223\n",
      "epoch_10: {'Loss_train': 0.10189955735113472, 'Loss_val': 0.12656270668117536, 'Accuracy': 0.9638888888888889}, Learning Rate: 0.027135254915624206\n",
      "epoch_11: {'Loss_train': 0.09539592826687214, 'Loss_val': 0.12702578689075178, 'Accuracy': 0.9583333333333334}, Learning Rate: 0.02655769864163683\n",
      "epoch_12: {'Loss_train': 0.08999628390237276, 'Loss_val': 0.11911780370606316, 'Accuracy': 0.9583333333333334}, Learning Rate: 0.025934529411321166\n",
      "epoch_13: {'Loss_train': 0.08321167635602049, 'Loss_val': 0.1238977149128914, 'Accuracy': 0.9527777777777777}, Learning Rate: 0.025268206588930323\n",
      "epoch_14: {'Loss_train': 0.07939967689777, 'Loss_val': 0.11799685084778401, 'Accuracy': 0.9611111111111111}, Learning Rate: 0.024561359846230337\n",
      "epoch_15: {'Loss_train': 0.07489650067905637, 'Loss_val': 0.11043238216597173, 'Accuracy': 0.9638888888888889}, Learning Rate: 0.023816778784387094\n",
      "epoch_16: {'Loss_train': 0.07248089161003009, 'Loss_val': 0.10973640367802646, 'Accuracy': 0.9638888888888889}, Learning Rate: 0.023037401924684942\n",
      "epoch_17: {'Loss_train': 0.0669854312908784, 'Loss_val': 0.1052942049689591, 'Accuracy': 0.9694444444444444}, Learning Rate: 0.022226305111525724\n",
      "epoch_18: {'Loss_train': 0.06473287774941935, 'Loss_val': 0.10238707195967436, 'Accuracy': 0.9694444444444444}, Learning Rate: 0.021386689373476084\n",
      "epoch_19: {'Loss_train': 0.061799674657069974, 'Loss_val': 0.10099670226789183, 'Accuracy': 0.9694444444444444}, Learning Rate: 0.020521868290270164\n",
      "epoch_20: {'Loss_train': 0.058142405309869596, 'Loss_val': 0.10516471958512233, 'Accuracy': 0.9666666666666667}, Learning Rate: 0.019635254915624203\n",
      "epoch_21: {'Loss_train': 0.05622039223801241, 'Loss_val': 0.10292597678231283, 'Accuracy': 0.9694444444444444}, Learning Rate: 0.018730348307472812\n",
      "epoch_22: {'Loss_train': 0.054882439808635455, 'Loss_val': 0.10068935587898725, 'Accuracy': 0.9666666666666667}, Learning Rate: 0.017810719718785863\n",
      "epoch_23: {'Loss_train': 0.05274913130948941, 'Loss_val': 0.09841002573052214, 'Accuracy': 0.9694444444444444}, Learning Rate: 0.01687999850346456\n",
      "epoch_24: {'Loss_train': 0.0505432916766343, 'Loss_val': 0.1009368458400584, 'Accuracy': 0.9666666666666667}, Learning Rate: 0.015941857792939693\n",
      "epoch_25: {'Loss_train': 0.04984430092380434, 'Loss_val': 0.09626966151926253, 'Accuracy': 0.9694444444444444}, Learning Rate: 0.014999999999999993\n",
      "epoch_26: {'Loss_train': 0.0481185941022381, 'Loss_val': 0.09526534896964828, 'Accuracy': 0.9694444444444444}, Learning Rate: 0.014058142207060293\n",
      "epoch_27: {'Loss_train': 0.04642544345762063, 'Loss_val': 0.09972184081561863, 'Accuracy': 0.9638888888888889}, Learning Rate: 0.013120001496535432\n",
      "epoch_28: {'Loss_train': 0.04607051772731615, 'Loss_val': 0.09568720977856882, 'Accuracy': 0.9694444444444444}, Learning Rate: 0.012189280281214125\n",
      "epoch_29: {'Loss_train': 0.04474872625626934, 'Loss_val': 0.09598228797937433, 'Accuracy': 0.9694444444444444}, Learning Rate: 0.011269651692527173\n",
      "epoch_30: {'Loss_train': 0.04382308923894824, 'Loss_val': 0.09469089111209744, 'Accuracy': 0.9694444444444444}, Learning Rate: 0.01036474508437579\n",
      "epoch_31: {'Loss_train': 0.04270700884452607, 'Loss_val': 0.09408433705878755, 'Accuracy': 0.9694444444444444}, Learning Rate: 0.009478131709729831\n",
      "epoch_32: {'Loss_train': 0.04216023103799671, 'Loss_val': 0.09376897887171556, 'Accuracy': 0.9694444444444444}, Learning Rate: 0.008613310626523906\n",
      "epoch_33: {'Loss_train': 0.041200592478788975, 'Loss_val': 0.09413069560865148, 'Accuracy': 0.9694444444444444}, Learning Rate: 0.007773694888474265\n",
      "epoch_34: {'Loss_train': 0.040553380190976894, 'Loss_val': 0.09436776437279251, 'Accuracy': 0.9694444444444444}, Learning Rate: 0.006962598075315044\n",
      "epoch_35: {'Loss_train': 0.040065350796147765, 'Loss_val': 0.09339548171394402, 'Accuracy': 0.9694444444444444}, Learning Rate: 0.006183221215612902\n",
      "epoch_36: {'Loss_train': 0.039371826509078445, 'Loss_val': 0.09439167774592837, 'Accuracy': 0.9694444444444444}, Learning Rate: 0.005438640153769651\n",
      "epoch_37: {'Loss_train': 0.03907139209364282, 'Loss_val': 0.09351510972095033, 'Accuracy': 0.9694444444444444}, Learning Rate: 0.004731793411069667\n",
      "epoch_38: {'Loss_train': 0.03876723630399081, 'Loss_val': 0.09346637329500583, 'Accuracy': 0.9694444444444444}, Learning Rate: 0.004065470588678828\n",
      "epoch_39: {'Loss_train': 0.03828675379109983, 'Loss_val': 0.09357739971019327, 'Accuracy': 0.9694444444444444}, Learning Rate: 0.003442301358363161\n",
      "epoch_40: {'Loss_train': 0.037945735267001304, 'Loss_val': 0.09320003599601073, 'Accuracy': 0.9694444444444444}, Learning Rate: 0.002864745084375788\n",
      "epoch_41: {'Loss_train': 0.03764914437164811, 'Loss_val': 0.09312333647265203, 'Accuracy': 0.9694444444444444}, Learning Rate: 0.002335081117469776\n",
      "epoch_42: {'Loss_train': 0.03742337474185559, 'Loss_val': 0.09303922918107775, 'Accuracy': 0.9694444444444444}, Learning Rate: 0.0018553997993420452\n",
      "epoch_43: {'Loss_train': 0.03724703991222971, 'Loss_val': 0.09298830789048225, 'Accuracy': 0.9694444444444444}, Learning Rate: 0.001427594213009709\n",
      "epoch_44: {'Loss_train': 0.03716319764433946, 'Loss_val': 0.09297974724581258, 'Accuracy': 0.9694444444444444}, Learning Rate: 0.0010533527116762293\n",
      "epoch_45: {'Loss_train': 0.03694928540046223, 'Loss_val': 0.09293097128005078, 'Accuracy': 0.9694444444444444}, Learning Rate: 0.0007341522555726966\n",
      "epoch_46: {'Loss_train': 0.03697904023671678, 'Loss_val': 0.0929236114025116, 'Accuracy': 0.9694444444444444}, Learning Rate: 0.00047125258307053523\n",
      "epoch_47: {'Loss_train': 0.036834903854954366, 'Loss_val': 0.09291860177699063, 'Accuracy': 0.9694444444444444}, Learning Rate: 0.000265691239069669\n",
      "epoch_48: {'Loss_train': 0.0368730921317668, 'Loss_val': 0.09291363037967433, 'Accuracy': 0.9694444444444444}, Learning Rate: 0.00011827948028283344\n",
      "epoch_49: {'Loss_train': 0.03691056518582627, 'Loss_val': 0.09291271720754189, 'Accuracy': 0.9694444444444444}, Learning Rate: 2.9599073575926597e-05\n",
      "epoch_50: {'Loss_train': 0.036714031870360486, 'Loss_val': 0.09291271720754189, 'Accuracy': 0.9694444444444444}, Learning Rate: 0.0\n",
      "epoch_51: {'Loss_train': 0.036728437871271225, 'Loss_val': 0.09291176148172882, 'Accuracy': 0.9694444444444444}, Learning Rate: 2.9599073575926614e-05\n",
      "epoch_52: {'Loss_train': 0.03675984730879362, 'Loss_val': 0.0929062351377474, 'Accuracy': 0.9694444444444444}, Learning Rate: 0.00011827948028283185\n",
      "epoch_53: {'Loss_train': 0.03726957303103215, 'Loss_val': 0.09288904545052598, 'Accuracy': 0.9694444444444444}, Learning Rate: 0.0002656912390696708\n",
      "epoch_54: {'Loss_train': 0.036831473692695404, 'Loss_val': 0.09287117209233757, 'Accuracy': 0.9694444444444444}, Learning Rate: 0.00047125258307053214\n",
      "epoch_55: {'Loss_train': 0.03681798828959775, 'Loss_val': 0.09283161303804567, 'Accuracy': 0.9694444444444444}, Learning Rate: 0.0007341522555726952\n",
      "epoch_56: {'Loss_train': 0.03683045480025208, 'Loss_val': 0.09279508955466251, 'Accuracy': 0.9694444444444444}, Learning Rate: 0.001053352711676228\n",
      "epoch_57: {'Loss_train': 0.03685763801202281, 'Loss_val': 0.09274790636263788, 'Accuracy': 0.9694444444444444}, Learning Rate: 0.0014275942130097044\n",
      "epoch_58: {'Loss_train': 0.03701610856547227, 'Loss_val': 0.09264624673459265, 'Accuracy': 0.9694444444444444}, Learning Rate: 0.0018553997993420474\n",
      "epoch_59: {'Loss_train': 0.03687837446276616, 'Loss_val': 0.09240353163590448, 'Accuracy': 0.9694444444444444}, Learning Rate: 0.0023350811174697715\n",
      "epoch_60: {'Loss_train': 0.036730365404703966, 'Loss_val': 0.09280382638745424, 'Accuracy': 0.9694444444444444}, Learning Rate: 0.002864745084375782\n",
      "epoch_61: {'Loss_train': 0.03670622904254641, 'Loss_val': 0.09188831851610707, 'Accuracy': 0.9694444444444444}, Learning Rate: 0.00344230135836316\n",
      "epoch_62: {'Loss_train': 0.03675045645860438, 'Loss_val': 0.09283594963554707, 'Accuracy': 0.9694444444444444}, Learning Rate: 0.004065470588678822\n",
      "epoch_63: {'Loss_train': 0.03661065491970577, 'Loss_val': 0.09213987827404506, 'Accuracy': 0.9694444444444444}, Learning Rate: 0.0047317934110696685\n",
      "epoch_64: {'Loss_train': 0.036235298064356256, 'Loss_val': 0.09360473191158639, 'Accuracy': 0.9694444444444444}, Learning Rate: 0.005438640153769654\n",
      "epoch_65: {'Loss_train': 0.03672679831862398, 'Loss_val': 0.09289875145898097, 'Accuracy': 0.9694444444444444}, Learning Rate: 0.006183221215612898\n",
      "epoch_66: {'Loss_train': 0.03615786784826519, 'Loss_val': 0.09227185722492222, 'Accuracy': 0.9666666666666667}, Learning Rate: 0.006962598075315052\n",
      "epoch_67: {'Loss_train': 0.03626258282230184, 'Loss_val': 0.0923776941244594, 'Accuracy': 0.9694444444444444}, Learning Rate: 0.007773694888474268\n",
      "epoch_68: {'Loss_train': 0.0358000605850571, 'Loss_val': 0.09155976667405209, 'Accuracy': 0.9694444444444444}, Learning Rate: 0.008613310626523913\n",
      "epoch_69: {'Loss_train': 0.035109828319562233, 'Loss_val': 0.09242216167945622, 'Accuracy': 0.9694444444444444}, Learning Rate: 0.009478131709729828\n",
      "epoch_70: {'Loss_train': 0.0346139013746223, 'Loss_val': 0.09266354308541243, 'Accuracy': 0.9666666666666667}, Learning Rate: 0.01036474508437578\n",
      "epoch_71: {'Loss_train': 0.03466213515008955, 'Loss_val': 0.09106186249603827, 'Accuracy': 0.9694444444444444}, Learning Rate: 0.011269651692527178\n",
      "epoch_72: {'Loss_train': 0.034472329512936994, 'Loss_val': 0.0899757283506915, 'Accuracy': 0.9694444444444444}, Learning Rate: 0.012189280281214127\n",
      "epoch_73: {'Loss_train': 0.03376412096355731, 'Loss_val': 0.09067166894286251, 'Accuracy': 0.9666666666666667}, Learning Rate: 0.013120001496535427\n",
      "epoch_74: {'Loss_train': 0.0335829192607586, 'Loss_val': 0.09011048472279476, 'Accuracy': 0.9666666666666667}, Learning Rate: 0.014058142207060297\n",
      "epoch_75: {'Loss_train': 0.03303545743725004, 'Loss_val': 0.09140973425366812, 'Accuracy': 0.9694444444444444}, Learning Rate: 0.014999999999999993\n",
      "epoch_76: {'Loss_train': 0.03220430899269155, 'Loss_val': 0.09221979490119137, 'Accuracy': 0.9694444444444444}, Learning Rate: 0.015941857792939686\n",
      "epoch_77: {'Loss_train': 0.03180863815198083, 'Loss_val': 0.0899268710662404, 'Accuracy': 0.9694444444444444}, Learning Rate: 0.01687999850346456\n",
      "epoch_78: {'Loss_train': 0.03126913722096813, 'Loss_val': 0.09103038799431588, 'Accuracy': 0.9666666666666667}, Learning Rate: 0.01781071971878586\n",
      "epoch_79: {'Loss_train': 0.030911014336420017, 'Loss_val': 0.08946154363479258, 'Accuracy': 0.9722222222222222}, Learning Rate: 0.018730348307472815\n",
      "epoch_80: {'Loss_train': 0.030069515907234744, 'Loss_val': 0.08835792809776548, 'Accuracy': 0.9694444444444444}, Learning Rate: 0.0196352549156242\n",
      "epoch_81: {'Loss_train': 0.02877902184490166, 'Loss_val': 0.09320602000225335, 'Accuracy': 0.9722222222222222}, Learning Rate: 0.020521868290270154\n",
      "epoch_82: {'Loss_train': 0.028959915169495313, 'Loss_val': 0.09000196940550166, 'Accuracy': 0.9666666666666667}, Learning Rate: 0.02138668937347607\n",
      "epoch_83: {'Loss_train': 0.027213840187566046, 'Loss_val': 0.09206777525832877, 'Accuracy': 0.9666666666666667}, Learning Rate: 0.022226305111525724\n",
      "epoch_84: {'Loss_train': 0.027918214657903364, 'Loss_val': 0.0887466934018044, 'Accuracy': 0.9694444444444444}, Learning Rate: 0.023037401924684942\n",
      "epoch_85: {'Loss_train': 0.02653476603607285, 'Loss_val': 0.08773254753581973, 'Accuracy': 0.9666666666666667}, Learning Rate: 0.023816778784387087\n",
      "epoch_86: {'Loss_train': 0.025709202844559007, 'Loss_val': 0.08904530061926279, 'Accuracy': 0.9722222222222222}, Learning Rate: 0.02456135984623033\n",
      "epoch_87: {'Loss_train': 0.02447609776427271, 'Loss_val': 0.09313447118297012, 'Accuracy': 0.9666666666666667}, Learning Rate: 0.02526820658893031\n",
      "epoch_88: {'Loss_train': 0.02478519488682246, 'Loss_val': 0.0861102595162164, 'Accuracy': 0.9722222222222222}, Learning Rate: 0.02593452941132116\n",
      "epoch_89: {'Loss_train': 0.023699704568490333, 'Loss_val': 0.08835816419321216, 'Accuracy': 0.9666666666666667}, Learning Rate: 0.02655769864163683\n",
      "epoch_90: {'Loss_train': 0.02278920845985542, 'Loss_val': 0.08981641119527113, 'Accuracy': 0.9722222222222222}, Learning Rate: 0.027135254915624202\n",
      "epoch_91: {'Loss_train': 0.022900219275066372, 'Loss_val': 0.08782838374091727, 'Accuracy': 0.9694444444444444}, Learning Rate: 0.027664918882530216\n",
      "epoch_92: {'Loss_train': 0.021557679176637774, 'Loss_val': 0.0860724582860712, 'Accuracy': 0.9722222222222222}, Learning Rate: 0.028144600200657937\n",
      "epoch_93: {'Loss_train': 0.020876939631044582, 'Loss_val': 0.08923239058866683, 'Accuracy': 0.975}, Learning Rate: 0.028572405786990277\n",
      "epoch_94: {'Loss_train': 0.02110075841208325, 'Loss_val': 0.0872304901894596, 'Accuracy': 0.9694444444444444}, Learning Rate: 0.028946647288323756\n",
      "epoch_95: {'Loss_train': 0.019460475968015898, 'Loss_val': 0.08922542890973596, 'Accuracy': 0.9722222222222222}, Learning Rate: 0.029265847744427288\n",
      "epoch_96: {'Loss_train': 0.019517420095022924, 'Loss_val': 0.08675211291216935, 'Accuracy': 0.9722222222222222}, Learning Rate: 0.029528747416929447\n",
      "epoch_97: {'Loss_train': 0.018519338199015085, 'Loss_val': 0.08420244833751996, 'Accuracy': 0.9694444444444444}, Learning Rate: 0.02973430876093031\n",
      "epoch_98: {'Loss_train': 0.01865483158552605, 'Loss_val': 0.08820788956622386, 'Accuracy': 0.9722222222222222}, Learning Rate: 0.029881720519717145\n",
      "epoch_99: {'Loss_train': 0.01749549161815796, 'Loss_val': 0.09065518058099163, 'Accuracy': 0.975}, Learning Rate: 0.029970400926424053\n"
     ]
    }
   ],
   "source": [
    "# 学習ループ実行\n",
    "train_result, params_result = learn(MLP_model, train_loader, val_loader, optimizer, F.cross_entropy,\n",
    "                          epoch=100, early_stopping=None, save_path=None, lr_scheduler=cosine_ann_lr_scheduler)"
   ]
  },
  {
   "cell_type": "code",
   "execution_count": 11,
   "metadata": {},
   "outputs": [],
   "source": [
    "train_losses = []\n",
    "val_losses = []\n",
    "\n",
    "for value in train_result.values():\n",
    "    train_losses.append(value['Loss_train'])\n",
    "    val_losses.append(value['Loss_val'])"
   ]
  },
  {
   "cell_type": "code",
   "execution_count": 12,
   "metadata": {},
   "outputs": [
    {
     "data": {
      "text/plain": [
       "<matplotlib.legend.Legend at 0x7f5179682d90>"
      ]
     },
     "execution_count": 12,
     "metadata": {},
     "output_type": "execute_result"
    },
    {
     "data": {
      "image/png": "[encoded data removed]",
      "text/plain": [
       "<Figure size 640x480 with 1 Axes>"
      ]
     },
     "metadata": {},
     "output_type": "display_data"
    }
   ],
   "source": [
    "plt.plot(train_losses, label=\"train\")\n",
    "plt.plot(val_losses, label=\"val\")\n",
    "plt.xlabel('epoch')\n",
    "plt.ylabel('loss')\n",
    "plt.legend()"
   ]
  }
 ],
 "metadata": {
  "kernelspec": {
   "display_name": "Python 3",
   "language": "python",
   "name": "python3"
  },
  "language_info": {
   "codemirror_mode": {
    "name": "ipython",
    "version": 3
   },
   "file_extension": ".py",
   "mimetype": "text/x-python",
   "name": "python",
   "nbconvert_exporter": "python",
   "pygments_lexer": "ipython3",
   "version": "3.11.6"
  }
 },
 "nbformat": 4,
 "nbformat_minor": 2
}
