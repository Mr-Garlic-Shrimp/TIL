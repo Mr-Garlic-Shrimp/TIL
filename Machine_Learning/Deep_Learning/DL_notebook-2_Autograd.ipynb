{
 "cells": [
  {
   "cell_type": "markdown",
   "metadata": {},
   "source": [
    "# 深層学習ノートブック-2 自動微分(Autograd)\n",
    "* pytorchでは計算グラフを自動的に構築し，勾配を逆方向に計算する  \n",
    "* tensor生成時にrequires_grad=Trueを設定することで自動微分を有効にする  \n",
    "* 計算後に.backward()を呼ぶことで自動的に勾配が計算される  \n",
    "* 勾配情報は.grad属性に累積される  \n",
    "* 末端ノードに対する勾配しか保存されない\n",
    "    * 中間ノードに対する勾配を保存したい場合は当該tensorに対して.retain_grad()を実行する  \n"
   ]
  },
  {
   "cell_type": "code",
   "execution_count": 10,
   "metadata": {},
   "outputs": [
    {
     "data": {
      "text/plain": [
       "<torch._C.Generator at 0x7f82bdcb1230>"
      ]
     },
     "execution_count": 10,
     "metadata": {},
     "output_type": "execute_result"
    }
   ],
   "source": [
    "# import torchでpytorchをimport\n",
    "import torch\n",
    "\n",
    "# torchで使う疑似乱数のseedは設定\n",
    "torch.manual_seed(42)"
   ]
  },
  {
   "cell_type": "code",
   "execution_count": 17,
   "metadata": {},
   "outputs": [
    {
     "name": "stdout",
     "output_type": "stream",
     "text": [
      "tensor([[4.5000, 4.5000],\n",
      "        [4.5000, 4.5000]])\n"
     ]
    }
   ],
   "source": [
    "# tensorを作成し、requires_grad=Trueを設定して演算を追跡\n",
    "x = torch.ones(2, 2, requires_grad=True)\n",
    "\n",
    "# tensorに対する捜査\n",
    "y = x + 2\n",
    "z = y * y * 3\n",
    "out = z.mean()\n",
    "\n",
    "# 勾配を計算\n",
    "out.backward()\n",
    "\n",
    "# 勾配d(out)/dxを出力\n",
    "print(x.grad)"
   ]
  },
  {
   "cell_type": "markdown",
   "metadata": {},
   "source": [
    "上記の場合、$\\partial out / \\partial x$がx.gradということになる。  "
   ]
  },
  {
   "cell_type": "code",
   "execution_count": null,
   "metadata": {},
   "outputs": [],
   "source": []
  }
 ],
 "metadata": {
  "kernelspec": {
   "display_name": "Python 3",
   "language": "python",
   "name": "python3"
  },
  "language_info": {
   "codemirror_mode": {
    "name": "ipython",
    "version": 3
   },
   "file_extension": ".py",
   "mimetype": "text/x-python",
   "name": "python",
   "nbconvert_exporter": "python",
   "pygments_lexer": "ipython3",
   "version": "3.11.6"
  }
 },
 "nbformat": 4,
 "nbformat_minor": 2
}
