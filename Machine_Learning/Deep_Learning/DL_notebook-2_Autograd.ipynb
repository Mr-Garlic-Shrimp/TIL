{
 "cells": [
  {
   "cell_type": "markdown",
   "metadata": {},
   "source": [
    "# 深層学習ノートブック-2 自動微分(Autograd)\n",
    "* pytorchでは計算グラフを自動的に構築し，勾配を逆方向に計算する  \n",
    "* tensor生成時にrequires_grad=Trueを設定することで自動微分を有効にする  \n",
    "* 計算後に.backward()を呼ぶことで自動的に勾配が計算される  \n",
    "* 勾配情報は.grad属性に累積される  \n",
    "* 末端ノードに対する勾配しか保存されない\n",
    "    * 中間ノードに対する勾配を保存したい場合は当該tensorに対して.retain_grad()を実行する  \n"
   ]
  },
  {
   "cell_type": "code",
   "execution_count": 10,
   "metadata": {},
   "outputs": [
    {
     "data": {
      "text/plain": [
       "<torch._C.Generator at 0x7f82bdcb1230>"
      ]
     },
     "execution_count": 10,
     "metadata": {},
     "output_type": "execute_result"
    }
   ],
   "source": [
    "# import torchでpytorchをimport\n",
    "import torch\n",
    "\n",
    "# torchで使う疑似乱数のseedは設定\n",
    "torch.manual_seed(42)"
   ]
  },
  {
   "cell_type": "code",
   "execution_count": 17,
   "metadata": {},
   "outputs": [
    {
     "name": "stdout",
     "output_type": "stream",
     "text": [
      "tensor([[4.5000, 4.5000],\n",
      "        [4.5000, 4.5000]])\n"
     ]
    }
   ],
   "source": [
    "# tensorを作成し、requires_grad=Trueを設定して演算を追跡\n",
    "x = torch.ones(2, 2, requires_grad=True)\n",
    "\n",
    "# tensorに対する捜査\n",
    "y = x + 2\n",
    "z = y * y * 3\n",
    "out = z.mean()\n",
    "\n",
    "# 勾配を計算\n",
    "out.backward()\n",
    "\n",
    "# 勾配d(out)/dxを出力\n",
    "print(x.grad)"
   ]
  },
  {
   "cell_type": "markdown",
   "metadata": {},
   "source": [
    "[自分用メモ書き]  \n",
    "上記では数学で求めるような導関数の計算過程なしに微分係数が求まっているので、  \n",
    "数学の感覚からはちょっとわかりづらかったが、やっていることは下記。  \n",
    "数学的に計算すると確かに上記のようになる。  \n",
    "（ただし、y * yの部分は行列積ではなくアダマール積（対応要素同士の積）であることに注意。）  \n",
    "\n",
    "1. tensorのxを下記のようにおく  \n",
    "    $\\bm{X} = \\left(\n",
    "    \\begin{matrix} \n",
    "    x_{1} & x_{2} \\\\ \n",
    "    x_{3} & x_{4} \\\\\n",
    "    \\end{matrix} \n",
    "    \\right)$\n",
    "\n",
    "2. すると、上記のy,z,outは下記のように書ける。  \n",
    "    $\\bm{Y} = \\left(\n",
    "    \\begin{matrix} \n",
    "    x_{1}+2 & x_{2}+2 \\\\ \n",
    "    x_{3}+2 & x_{4}+2 \\\\\n",
    "    \\end{matrix} \n",
    "    \\right)$  \n",
    "\n",
    "    $\\bm{Z} = \\left(\n",
    "    \\begin{matrix} \n",
    "    3(x_{1}+2)^2 & 3(x_{2}+2)^2 \\\\ \n",
    "    3(x_{3}+2)^2 & 3(x_{4}+2)^2 \\\\\n",
    "    \\end{matrix} \n",
    "    \\right)$\n",
    "\n",
    "    $\\bm{out} = \\frac{3}{4}\\sum_{i=1}^{n}(x_i + 2)^2 \\quad $\n",
    "\n",
    "\n",
    "3. 試しにoutを$x_1$で偏微分すると、  \n",
    "    $\\frac{\\partial out }{\\partial x_1} = \\frac{3}{2}(x_1+2)$  \n",
    "\n",
    "    この$x_1$に上記例の1を代入すると最終的な結果の4.5に一致する。  \n",
    "    すなわち、x.gradの結果を数学的に見ると、  \n",
    "    計算過程で導関数を求め、そこへ入力tensor(x)を代入し、各要素に対応する偏微分係数を返している模様。  \n"
   ]
  }
 ],
 "metadata": {
  "kernelspec": {
   "display_name": "Python 3",
   "language": "python",
   "name": "python3"
  },
  "language_info": {
   "codemirror_mode": {
    "name": "ipython",
    "version": 3
   },
   "file_extension": ".py",
   "mimetype": "text/x-python",
   "name": "python",
   "nbconvert_exporter": "python",
   "pygments_lexer": "ipython3",
   "version": "3.11.6"
  }
 },
 "nbformat": 4,
 "nbformat_minor": 2
}
