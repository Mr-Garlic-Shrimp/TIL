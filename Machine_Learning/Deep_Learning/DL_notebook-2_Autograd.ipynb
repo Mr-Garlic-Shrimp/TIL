{
 "cells": [
  {
   "cell_type": "markdown",
   "metadata": {},
   "source": [
    "# 深層学習ノートブック-2 自動微分(Autograd)\n",
    "* pytorchでは計算グラフを自動的に構築し，勾配を逆方向に計算する  \n",
    "* tensor生成時にrequires_grad=Trueを設定することで自動微分を有効にする  \n",
    "* 計算後に.backward()を呼ぶことで自動的に勾配が計算される  \n",
    "* 勾配情報は.grad属性に累積される  →詳細は例２\n",
    "* 末端ノードに対する勾配しか保存されない\n",
    "    * 中間ノードに対する勾配を保存したい場合は当該tensorに対して.retain_grad()を実行する  \n"
   ]
  },
  {
   "cell_type": "markdown",
   "metadata": {},
   "source": [
    "## 例１"
   ]
  },
  {
   "cell_type": "code",
   "execution_count": 2,
   "metadata": {},
   "outputs": [
    {
     "data": {
      "text/plain": [
       "<torch._C.Generator at 0x7f153c18ed70>"
      ]
     },
     "execution_count": 2,
     "metadata": {},
     "output_type": "execute_result"
    }
   ],
   "source": [
    "# import torchでpytorchをimport\n",
    "import torch\n",
    "\n",
    "# torchで使う疑似乱数のseedは設定\n",
    "torch.manual_seed(42)"
   ]
  },
  {
   "cell_type": "code",
   "execution_count": 3,
   "metadata": {},
   "outputs": [
    {
     "name": "stdout",
     "output_type": "stream",
     "text": [
      "tensor([[4.5000, 4.5000],\n",
      "        [4.5000, 4.5000]])\n"
     ]
    }
   ],
   "source": [
    "# tensorを作成し、requires_grad=Trueを設定して演算を追跡\n",
    "x = torch.ones(2, 2, requires_grad=True)\n",
    "\n",
    "# tensorに対する捜査\n",
    "y = x + 2\n",
    "z = y * y * 3\n",
    "out = z.mean()\n",
    "\n",
    "# 勾配を計算\n",
    "out.backward()\n",
    "\n",
    "# 勾配d(out)/dxを出力\n",
    "print(x.grad)"
   ]
  },
  {
   "cell_type": "markdown",
   "metadata": {},
   "source": [
    "[自分用メモ書き]  \n",
    "上記では数学で求めるような導関数の計算過程なしに微分係数が求まっているので、  \n",
    "数学の感覚からはちょっとわかりづらかったが、やっていることは下記。  \n",
    "数学的に計算すると確かに上記のようになる。  \n",
    "（ただし、y * yの部分は行列積ではなくアダマール積（対応要素同士の積）であることに注意。）  \n",
    "\n",
    "1. tensorのxを下記のようにおく  \n",
    "    $\\bm{X} = \\left(\n",
    "    \\begin{matrix} \n",
    "    x_{1} & x_{2} \\\\ \n",
    "    x_{3} & x_{4} \\\\\n",
    "    \\end{matrix} \n",
    "    \\right)$\n",
    "\n",
    "2. すると、上記のy,z,outは下記のように書ける。  \n",
    "    $\\bm{Y} = \\left(\n",
    "    \\begin{matrix} \n",
    "    x_{1}+2 & x_{2}+2 \\\\ \n",
    "    x_{3}+2 & x_{4}+2 \\\\\n",
    "    \\end{matrix} \n",
    "    \\right)$  \n",
    "\n",
    "    $\\bm{Z} = \\left(\n",
    "    \\begin{matrix} \n",
    "    3(x_{1}+2)^2 & 3(x_{2}+2)^2 \\\\ \n",
    "    3(x_{3}+2)^2 & 3(x_{4}+2)^2 \\\\\n",
    "    \\end{matrix} \n",
    "    \\right)$\n",
    "\n",
    "    $\\bm{out} = \\frac{3}{4}\\sum_{i=1}^{n}(x_i + 2)^2 \\quad $\n",
    "\n",
    "\n",
    "3. 試しにoutを$x_1$で偏微分すると、  \n",
    "    $\\frac{\\partial out }{\\partial x_1} = \\frac{3}{2}(x_1+2)$  \n",
    "\n",
    "    この$x_1$に上記例の1を代入すると最終的な結果の4.5に一致する。  \n",
    "    すなわち、x.gradの結果を数学的に見ると、  \n",
    "    計算過程で導関数に相当するものを求め、そこへ入力tensor(x)を代入し、各要素に対応する偏微分係数を返している模様。  \n"
   ]
  },
  {
   "cell_type": "markdown",
   "metadata": {},
   "source": [
    "## 例2"
   ]
  },
  {
   "cell_type": "code",
   "execution_count": 4,
   "metadata": {},
   "outputs": [
    {
     "name": "stdout",
     "output_type": "stream",
     "text": [
      "dz/dx: tensor([[1.5000]])\n",
      "dz/dy: tensor([[-0.2968]])\n"
     ]
    }
   ],
   "source": [
    "# pytorchでは基本的にfloatで数値を扱う。下手にintを使うとエラーになるので注意。\n",
    "x = torch.tensor([[2.0]], requires_grad=True)\n",
    "y = torch.tensor([[3.0]], requires_grad=True)\n",
    "\n",
    "# zを計算。numpyのようにpytorchでもlog,sinはある。\n",
    "z = y * torch.log(x) + torch.sin(y)\n",
    "\n",
    "# 勾配を計算\n",
    "z.backward()\n",
    "\n",
    "# zに対するx,yの偏微分を計算\n",
    "print(f'dz/dx: {x.grad}')\n",
    "print(f'dz/dy: {y.grad}')"
   ]
  },
  {
   "cell_type": "markdown",
   "metadata": {},
   "source": [
    "もう一回実行すると。。。"
   ]
  },
  {
   "cell_type": "code",
   "execution_count": 5,
   "metadata": {},
   "outputs": [
    {
     "name": "stdout",
     "output_type": "stream",
     "text": [
      "dz/dx: tensor([[3.]])\n",
      "dz/dy: tensor([[-0.5937]])\n"
     ]
    }
   ],
   "source": [
    "z = y * torch.log(x) + torch.sin(y)\n",
    "\n",
    "# 勾配を計算\n",
    "z.backward()\n",
    "\n",
    "# zに対するx,yの偏微分を計算\n",
    "print(f'dz/dx: {x.grad}')\n",
    "print(f'dz/dy: {y.grad}')"
   ]
  },
  {
   "cell_type": "markdown",
   "metadata": {},
   "source": [
    "複数回zの計算をすると、x.grad,y.gradが累積されていくので注意。"
   ]
  },
  {
   "cell_type": "markdown",
   "metadata": {},
   "source": [
    "## 例3 中間ノードの勾配"
   ]
  },
  {
   "cell_type": "markdown",
   "metadata": {},
   "source": [
    "$z=(x+y)^2$の末端ノードにおける勾配は$\\partial{z}/\\partial{x}$、$\\partial{z}/\\partial{y}$であり、  \n",
    "これは.backwardを使えば自動的に求まる。  \n",
    "一方、中間ノード$\\partial{z}/\\partial{(x+y)}$の勾配は途中で.retain_grad()を使って明示的に保持させる必要がある。"
   ]
  },
  {
   "cell_type": "code",
   "execution_count": 6,
   "metadata": {},
   "outputs": [
    {
     "name": "stdout",
     "output_type": "stream",
     "text": [
      "dz/d(x+y): 10.0\n",
      "dz/dx: 10.0\n",
      "dz/dy: 10.0\n"
     ]
    }
   ],
   "source": [
    "# 2.0は2.とも書いてOK。\n",
    "x = torch.tensor(2., requires_grad=True)\n",
    "y = torch.tensor(3., requires_grad=True)\n",
    "a = x + y\n",
    "\n",
    "# 中間ノードの勾配も求めたい場合は最終的な計算結果（z）の前にretain_grad（）を実行する。\n",
    "a.retain_grad()\n",
    "\n",
    "# zを計算。numpyのようにpytorchでもlog,sinはある。\n",
    "z = a ** 2\n",
    "\n",
    "# 勾配を計算\n",
    "z.backward()\n",
    "\n",
    "# zに対するx,yの偏微分を計算\n",
    "print(f'dz/d(x+y): {a.grad}')\n",
    "print(f'dz/dx: {x.grad}')\n",
    "print(f'dz/dy: {y.grad}')"
   ]
  },
  {
   "cell_type": "markdown",
   "metadata": {},
   "source": [
    "## 例4 勾配を保持する必要がない場合\n",
    "* torch.no_grad()\n",
    "  * Autogradで勾配を保持するには計算グラフを構築するため，計算量が高くなりメモリ使用量も増える\n",
    "  * 勾配を計算する必要がないケースでは，with torch.no_grad():を使って勾配を計算しないようにする\n",
    "  * 計算速度が向上し，メモリ使用量が減少する\n",
    "  * モデルの推論(予測)時やパラメータの更新時に使用する"
   ]
  },
  {
   "cell_type": "code",
   "execution_count": 7,
   "metadata": {},
   "outputs": [
    {
     "ename": "RuntimeError",
     "evalue": "element 0 of tensors does not require grad and does not have a grad_fn",
     "output_type": "error",
     "traceback": [
      "\u001b[0;31m---------------------------------------------------------------------------\u001b[0m",
      "\u001b[0;31mRuntimeError\u001b[0m                              Traceback (most recent call last)",
      "Cell \u001b[0;32mIn[7], line 9\u001b[0m\n\u001b[1;32m      5\u001b[0m \u001b[38;5;28;01mwith\u001b[39;00m torch\u001b[38;5;241m.\u001b[39mno_grad():\n\u001b[1;32m      6\u001b[0m     z1 \u001b[38;5;241m=\u001b[39m y \u001b[38;5;241m*\u001b[39m torch\u001b[38;5;241m.\u001b[39mlog(x) \u001b[38;5;241m+\u001b[39m torch\u001b[38;5;241m.\u001b[39msin(y)\n\u001b[0;32m----> 9\u001b[0m \u001b[43mz1\u001b[49m\u001b[38;5;241;43m.\u001b[39;49m\u001b[43mbackward\u001b[49m\u001b[43m(\u001b[49m\u001b[43m)\u001b[49m\n",
      "File \u001b[0;32m/usr/local/lib/python3.11/site-packages/torch/_tensor.py:492\u001b[0m, in \u001b[0;36mTensor.backward\u001b[0;34m(self, gradient, retain_graph, create_graph, inputs)\u001b[0m\n\u001b[1;32m    482\u001b[0m \u001b[38;5;28;01mif\u001b[39;00m has_torch_function_unary(\u001b[38;5;28mself\u001b[39m):\n\u001b[1;32m    483\u001b[0m     \u001b[38;5;28;01mreturn\u001b[39;00m handle_torch_function(\n\u001b[1;32m    484\u001b[0m         Tensor\u001b[38;5;241m.\u001b[39mbackward,\n\u001b[1;32m    485\u001b[0m         (\u001b[38;5;28mself\u001b[39m,),\n\u001b[0;32m   (...)\u001b[0m\n\u001b[1;32m    490\u001b[0m         inputs\u001b[38;5;241m=\u001b[39minputs,\n\u001b[1;32m    491\u001b[0m     )\n\u001b[0;32m--> 492\u001b[0m \u001b[43mtorch\u001b[49m\u001b[38;5;241;43m.\u001b[39;49m\u001b[43mautograd\u001b[49m\u001b[38;5;241;43m.\u001b[39;49m\u001b[43mbackward\u001b[49m\u001b[43m(\u001b[49m\n\u001b[1;32m    493\u001b[0m \u001b[43m    \u001b[49m\u001b[38;5;28;43mself\u001b[39;49m\u001b[43m,\u001b[49m\u001b[43m \u001b[49m\u001b[43mgradient\u001b[49m\u001b[43m,\u001b[49m\u001b[43m \u001b[49m\u001b[43mretain_graph\u001b[49m\u001b[43m,\u001b[49m\u001b[43m \u001b[49m\u001b[43mcreate_graph\u001b[49m\u001b[43m,\u001b[49m\u001b[43m \u001b[49m\u001b[43minputs\u001b[49m\u001b[38;5;241;43m=\u001b[39;49m\u001b[43minputs\u001b[49m\n\u001b[1;32m    494\u001b[0m \u001b[43m\u001b[49m\u001b[43m)\u001b[49m\n",
      "File \u001b[0;32m/usr/local/lib/python3.11/site-packages/torch/autograd/__init__.py:251\u001b[0m, in \u001b[0;36mbackward\u001b[0;34m(tensors, grad_tensors, retain_graph, create_graph, grad_variables, inputs)\u001b[0m\n\u001b[1;32m    246\u001b[0m     retain_graph \u001b[38;5;241m=\u001b[39m create_graph\n\u001b[1;32m    248\u001b[0m \u001b[38;5;66;03m# The reason we repeat the same comment below is that\u001b[39;00m\n\u001b[1;32m    249\u001b[0m \u001b[38;5;66;03m# some Python versions print out the first line of a multi-line function\u001b[39;00m\n\u001b[1;32m    250\u001b[0m \u001b[38;5;66;03m# calls in the traceback and some print out the last line\u001b[39;00m\n\u001b[0;32m--> 251\u001b[0m \u001b[43mVariable\u001b[49m\u001b[38;5;241;43m.\u001b[39;49m\u001b[43m_execution_engine\u001b[49m\u001b[38;5;241;43m.\u001b[39;49m\u001b[43mrun_backward\u001b[49m\u001b[43m(\u001b[49m\u001b[43m  \u001b[49m\u001b[38;5;66;43;03m# Calls into the C++ engine to run the backward pass\u001b[39;49;00m\n\u001b[1;32m    252\u001b[0m \u001b[43m    \u001b[49m\u001b[43mtensors\u001b[49m\u001b[43m,\u001b[49m\n\u001b[1;32m    253\u001b[0m \u001b[43m    \u001b[49m\u001b[43mgrad_tensors_\u001b[49m\u001b[43m,\u001b[49m\n\u001b[1;32m    254\u001b[0m \u001b[43m    \u001b[49m\u001b[43mretain_graph\u001b[49m\u001b[43m,\u001b[49m\n\u001b[1;32m    255\u001b[0m \u001b[43m    \u001b[49m\u001b[43mcreate_graph\u001b[49m\u001b[43m,\u001b[49m\n\u001b[1;32m    256\u001b[0m \u001b[43m    \u001b[49m\u001b[43minputs\u001b[49m\u001b[43m,\u001b[49m\n\u001b[1;32m    257\u001b[0m \u001b[43m    \u001b[49m\u001b[43mallow_unreachable\u001b[49m\u001b[38;5;241;43m=\u001b[39;49m\u001b[38;5;28;43;01mTrue\u001b[39;49;00m\u001b[43m,\u001b[49m\n\u001b[1;32m    258\u001b[0m \u001b[43m    \u001b[49m\u001b[43maccumulate_grad\u001b[49m\u001b[38;5;241;43m=\u001b[39;49m\u001b[38;5;28;43;01mTrue\u001b[39;49;00m\u001b[43m,\u001b[49m\n\u001b[1;32m    259\u001b[0m \u001b[43m\u001b[49m\u001b[43m)\u001b[49m\n",
      "\u001b[0;31mRuntimeError\u001b[0m: element 0 of tensors does not require grad and does not have a grad_fn"
     ]
    }
   ],
   "source": [
    "x = torch.tensor(2., requires_grad=True)\n",
    "y = torch.tensor(3., requires_grad=True)\n",
    "\n",
    "# 定義の際にrequires_gradとした変数を使った計算でいちいち勾配を計算して欲しくないときは下記のように書く\n",
    "with torch.no_grad():\n",
    "    z1 = y * torch.log(x) + torch.sin(y)\n",
    "\n",
    "\n",
    "z1.backward()"
   ]
  },
  {
   "cell_type": "markdown",
   "metadata": {},
   "source": [
    "no_gradの中でz1を計算したため、勾配を算出しようとするとエラーになる。"
   ]
  }
 ],
 "metadata": {
  "kernelspec": {
   "display_name": "Python 3",
   "language": "python",
   "name": "python3"
  },
  "language_info": {
   "codemirror_mode": {
    "name": "ipython",
    "version": 3
   },
   "file_extension": ".py",
   "mimetype": "text/x-python",
   "name": "python",
   "nbconvert_exporter": "python",
   "pygments_lexer": "ipython3",
   "version": "3.11.6"
  }
 },
 "nbformat": 4,
 "nbformat_minor": 2
}
