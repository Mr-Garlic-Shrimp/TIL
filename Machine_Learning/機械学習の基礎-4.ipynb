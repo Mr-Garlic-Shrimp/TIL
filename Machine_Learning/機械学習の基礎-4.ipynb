{
 "cells": [
  {
   "attachments": {},
   "cell_type": "markdown",
   "metadata": {},
   "source": [
    "# <b>機械学習の基礎-4</b>\n",
    "EDA、前処理、特徴量エンジニアリング等の機械学習の一連のプロセスについてメモしておく。  \n"
   ]
  },
  {
   "attachments": {},
   "cell_type": "markdown",
   "metadata": {},
   "source": [
    "## 機械学習の一連の流れ\n",
    "大体は下記のような流れで進んでいく。  \n",
    "必ずしもこれ通りではない。  \n",
    "EDAとデータクリーニング、前処理（欠損値対応の部分）は通常のデータ分析業務でも大事。    \n",
    "\n",
    "1. EDA\n",
    "2. データクリーニング\n",
    "3. 前処理\n",
    "4. 特徴量エンジニアリング\n",
    "5. 特徴量選択\n",
    "6. ハイパーパラメータチューニング\n",
    "7. アンサンブル\n",
    "8. テストデータに対する評価  \n",
    "   \n",
    "(3.～6.は適宜繰り返す。単一のモデルに対してだけでなく、複数のモデルに対して行う。)"
   ]
  },
  {
   "attachments": {},
   "cell_type": "markdown",
   "metadata": {},
   "source": [
    "## EDA(Exploratory data analysis)"
   ]
  }
 ],
 "metadata": {
  "language_info": {
   "name": "python"
  },
  "orig_nbformat": 4
 },
 "nbformat": 4,
 "nbformat_minor": 2
}
