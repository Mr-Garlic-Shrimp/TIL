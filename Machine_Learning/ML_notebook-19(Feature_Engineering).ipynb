{
 "cells": [
  {
   "attachments": {},
   "cell_type": "markdown",
   "metadata": {},
   "source": [
    "# 機械学習をPythonで実践する-19　　～ 特徴量エンジニアリング ～"
   ]
  },
  {
   "cell_type": "code",
   "execution_count": 1,
   "metadata": {},
   "outputs": [],
   "source": [
    "%load_ext autoreload\n",
    "%autoreload 2\n",
    "import polars as pl\n",
    "import pandas as pd\n",
    "import numpy as np\n",
    "import seaborn as sns\n",
    "import itertools\n",
    "from sklearn.preprocessing import StandardScaler, PolynomialFeatures, OrdinalEncoder, LabelEncoder, OneHotEncoder\n",
    "# # import statsmodels.api as sma\n",
    "from sklearn.model_selection import train_test_split ,cross_val_score, KFold, RepeatedKFold,StratifiedKFold\n",
    "from sklearn.neighbors import KNeighborsRegressor\n",
    "from sklearn.impute import SimpleImputer,KNNImputer\n",
    "from sklearn.pipeline import Pipeline\n",
    "import lightgbm as lgb\n",
    "from sklearn.metrics import mean_squared_error, mean_absolute_error, r2_score, log_loss, confusion_matrix,ConfusionMatrixDisplay, \\\n",
    "accuracy_score, precision_score, recall_score,precision_recall_curve,f1_score,roc_curve,auc,get_scorer_names,roc_auc_score\n",
    "from sklearn.compose import ColumnTransformer\n",
    "# from sklearn import tree\n",
    "# from sklearn.ensemble import BaggingClassifier,RandomForestClassifier,AdaBoostClassifier, GradientBoostingRegressor, GradientBoostingClassifier\n",
    "from lightGBM_cv import lightGBM_classifier_cv_func\n",
    "from category_encoders import TargetEncoder\n",
    "\n",
    "%matplotlib inline\n",
    "import matplotlib.pyplot as plt\n"
   ]
  },
  {
   "attachments": {},
   "cell_type": "markdown",
   "metadata": {},
   "source": [
    "## 日付データからの特徴量生成\n",
    "下記のKaggleのデータを使ってやってみる。  \n",
    "https://www.kaggle.com/competitions/bike-sharing-demand/data"
   ]
  },
  {
   "attachments": {},
   "cell_type": "markdown",
   "metadata": {},
   "source": [
    "### - Pandasの場合"
   ]
  },
  {
   "cell_type": "code",
   "execution_count": 17,
   "metadata": {},
   "outputs": [
    {
     "data": {
      "text/html": [
       "<div>\n",
       "<style scoped>\n",
       "    .dataframe tbody tr th:only-of-type {\n",
       "        vertical-align: middle;\n",
       "    }\n",
       "\n",
       "    .dataframe tbody tr th {\n",
       "        vertical-align: top;\n",
       "    }\n",
       "\n",
       "    .dataframe thead th {\n",
       "        text-align: right;\n",
       "    }\n",
       "</style>\n",
       "<table border=\"1\" class=\"dataframe\">\n",
       "  <thead>\n",
       "    <tr style=\"text-align: right;\">\n",
       "      <th></th>\n",
       "      <th>datetime</th>\n",
       "      <th>season</th>\n",
       "      <th>holiday</th>\n",
       "      <th>workingday</th>\n",
       "      <th>weather</th>\n",
       "      <th>temp</th>\n",
       "      <th>atemp</th>\n",
       "      <th>humidity</th>\n",
       "      <th>windspeed</th>\n",
       "      <th>casual</th>\n",
       "      <th>registered</th>\n",
       "      <th>count</th>\n",
       "    </tr>\n",
       "  </thead>\n",
       "  <tbody>\n",
       "    <tr>\n",
       "      <th>0</th>\n",
       "      <td>2011-01-01 00:00:00</td>\n",
       "      <td>1</td>\n",
       "      <td>0</td>\n",
       "      <td>0</td>\n",
       "      <td>1</td>\n",
       "      <td>9.84</td>\n",
       "      <td>14.395</td>\n",
       "      <td>81</td>\n",
       "      <td>0.0</td>\n",
       "      <td>3</td>\n",
       "      <td>13</td>\n",
       "      <td>16</td>\n",
       "    </tr>\n",
       "    <tr>\n",
       "      <th>1</th>\n",
       "      <td>2011-01-01 01:00:00</td>\n",
       "      <td>1</td>\n",
       "      <td>0</td>\n",
       "      <td>0</td>\n",
       "      <td>1</td>\n",
       "      <td>9.02</td>\n",
       "      <td>13.635</td>\n",
       "      <td>80</td>\n",
       "      <td>0.0</td>\n",
       "      <td>8</td>\n",
       "      <td>32</td>\n",
       "      <td>40</td>\n",
       "    </tr>\n",
       "    <tr>\n",
       "      <th>2</th>\n",
       "      <td>2011-01-01 02:00:00</td>\n",
       "      <td>1</td>\n",
       "      <td>0</td>\n",
       "      <td>0</td>\n",
       "      <td>1</td>\n",
       "      <td>9.02</td>\n",
       "      <td>13.635</td>\n",
       "      <td>80</td>\n",
       "      <td>0.0</td>\n",
       "      <td>5</td>\n",
       "      <td>27</td>\n",
       "      <td>32</td>\n",
       "    </tr>\n",
       "    <tr>\n",
       "      <th>3</th>\n",
       "      <td>2011-01-01 03:00:00</td>\n",
       "      <td>1</td>\n",
       "      <td>0</td>\n",
       "      <td>0</td>\n",
       "      <td>1</td>\n",
       "      <td>9.84</td>\n",
       "      <td>14.395</td>\n",
       "      <td>75</td>\n",
       "      <td>0.0</td>\n",
       "      <td>3</td>\n",
       "      <td>10</td>\n",
       "      <td>13</td>\n",
       "    </tr>\n",
       "    <tr>\n",
       "      <th>4</th>\n",
       "      <td>2011-01-01 04:00:00</td>\n",
       "      <td>1</td>\n",
       "      <td>0</td>\n",
       "      <td>0</td>\n",
       "      <td>1</td>\n",
       "      <td>9.84</td>\n",
       "      <td>14.395</td>\n",
       "      <td>75</td>\n",
       "      <td>0.0</td>\n",
       "      <td>0</td>\n",
       "      <td>1</td>\n",
       "      <td>1</td>\n",
       "    </tr>\n",
       "  </tbody>\n",
       "</table>\n",
       "</div>"
      ],
      "text/plain": [
       "              datetime  season  holiday  workingday  weather  temp   atemp  \\\n",
       "0  2011-01-01 00:00:00       1        0           0        1  9.84  14.395   \n",
       "1  2011-01-01 01:00:00       1        0           0        1  9.02  13.635   \n",
       "2  2011-01-01 02:00:00       1        0           0        1  9.02  13.635   \n",
       "3  2011-01-01 03:00:00       1        0           0        1  9.84  14.395   \n",
       "4  2011-01-01 04:00:00       1        0           0        1  9.84  14.395   \n",
       "\n",
       "   humidity  windspeed  casual  registered  count  \n",
       "0        81        0.0       3          13     16  \n",
       "1        80        0.0       8          32     40  \n",
       "2        80        0.0       5          27     32  \n",
       "3        75        0.0       3          10     13  \n",
       "4        75        0.0       0           1      1  "
      ]
     },
     "execution_count": 17,
     "metadata": {},
     "output_type": "execute_result"
    }
   ],
   "source": [
    "df = pd.read_csv('../Python/sample_data/ML_sample/bike_share.csv')\n",
    "df.head()"
   ]
  },
  {
   "cell_type": "code",
   "execution_count": 18,
   "metadata": {},
   "outputs": [
    {
     "name": "stdout",
     "output_type": "stream",
     "text": [
      "<class 'pandas.core.frame.DataFrame'>\n",
      "RangeIndex: 10886 entries, 0 to 10885\n",
      "Data columns (total 12 columns):\n",
      " #   Column      Non-Null Count  Dtype  \n",
      "---  ------      --------------  -----  \n",
      " 0   datetime    10886 non-null  object \n",
      " 1   season      10886 non-null  int64  \n",
      " 2   holiday     10886 non-null  int64  \n",
      " 3   workingday  10886 non-null  int64  \n",
      " 4   weather     10886 non-null  int64  \n",
      " 5   temp        10886 non-null  float64\n",
      " 6   atemp       10886 non-null  float64\n",
      " 7   humidity    10886 non-null  int64  \n",
      " 8   windspeed   10886 non-null  float64\n",
      " 9   casual      10886 non-null  int64  \n",
      " 10  registered  10886 non-null  int64  \n",
      " 11  count       10886 non-null  int64  \n",
      "dtypes: float64(3), int64(8), object(1)\n",
      "memory usage: 1020.7+ KB\n"
     ]
    }
   ],
   "source": [
    "# datetimeの型をチェック\n",
    "df.info()"
   ]
  },
  {
   "attachments": {},
   "cell_type": "markdown",
   "metadata": {},
   "source": [
    "datetime列は文字列になっている。"
   ]
  },
  {
   "cell_type": "code",
   "execution_count": 19,
   "metadata": {},
   "outputs": [],
   "source": [
    "#　日付形式に変換\n",
    "df['datetime'] = pd.to_datetime(df['datetime'])"
   ]
  },
  {
   "cell_type": "code",
   "execution_count": 20,
   "metadata": {},
   "outputs": [
    {
     "name": "stdout",
     "output_type": "stream",
     "text": [
      "<class 'pandas.core.frame.DataFrame'>\n",
      "RangeIndex: 10886 entries, 0 to 10885\n",
      "Data columns (total 12 columns):\n",
      " #   Column      Non-Null Count  Dtype         \n",
      "---  ------      --------------  -----         \n",
      " 0   datetime    10886 non-null  datetime64[ns]\n",
      " 1   season      10886 non-null  int64         \n",
      " 2   holiday     10886 non-null  int64         \n",
      " 3   workingday  10886 non-null  int64         \n",
      " 4   weather     10886 non-null  int64         \n",
      " 5   temp        10886 non-null  float64       \n",
      " 6   atemp       10886 non-null  float64       \n",
      " 7   humidity    10886 non-null  int64         \n",
      " 8   windspeed   10886 non-null  float64       \n",
      " 9   casual      10886 non-null  int64         \n",
      " 10  registered  10886 non-null  int64         \n",
      " 11  count       10886 non-null  int64         \n",
      "dtypes: datetime64[ns](1), float64(3), int64(8)\n",
      "memory usage: 1020.7 KB\n"
     ]
    }
   ],
   "source": [
    "df.info()"
   ]
  },
  {
   "attachments": {},
   "cell_type": "markdown",
   "metadata": {},
   "source": [
    "datetimeに変換された。"
   ]
  },
  {
   "cell_type": "code",
   "execution_count": 21,
   "metadata": {},
   "outputs": [],
   "source": [
    "# 年のカラムを追加\n",
    "df['year'] = df['datetime'].dt.year\n",
    "\n",
    "# 月のカラムを追加\n",
    "df['month'] = df['datetime'].dt.month\n",
    "\n",
    "# １年の何日目かのカラムを追加\n",
    "df['dayofyear'] = df['datetime'].dt.dayofyear\n",
    "\n",
    "# １週間の何日目か(0:月～6:日)のカラムを追加\n",
    "df['dayofweek'] = df['datetime'].dt.dayofweek\n",
    "\n",
    "# １年の何週目かのカラムを追加\n",
    "df['weekofyear'] = df['datetime'].dt.isocalendar().week\n",
    "\n",
    "# ４半期のどれかを追加\n",
    "df['quater'] = df['datetime'].dt.quarter\n",
    "\n",
    "# うるう年であるか否かを追加\n",
    "df['is_leap'] = df['datetime'].dt.is_leap_year"
   ]
  },
  {
   "cell_type": "code",
   "execution_count": 23,
   "metadata": {},
   "outputs": [
    {
     "data": {
      "text/html": [
       "<div>\n",
       "<style scoped>\n",
       "    .dataframe tbody tr th:only-of-type {\n",
       "        vertical-align: middle;\n",
       "    }\n",
       "\n",
       "    .dataframe tbody tr th {\n",
       "        vertical-align: top;\n",
       "    }\n",
       "\n",
       "    .dataframe thead th {\n",
       "        text-align: right;\n",
       "    }\n",
       "</style>\n",
       "<table border=\"1\" class=\"dataframe\">\n",
       "  <thead>\n",
       "    <tr style=\"text-align: right;\">\n",
       "      <th></th>\n",
       "      <th>datetime</th>\n",
       "      <th>season</th>\n",
       "      <th>holiday</th>\n",
       "      <th>workingday</th>\n",
       "      <th>weather</th>\n",
       "      <th>temp</th>\n",
       "      <th>atemp</th>\n",
       "      <th>humidity</th>\n",
       "      <th>windspeed</th>\n",
       "      <th>casual</th>\n",
       "      <th>registered</th>\n",
       "      <th>count</th>\n",
       "      <th>year</th>\n",
       "      <th>month</th>\n",
       "      <th>dayofyear</th>\n",
       "      <th>dayofweek</th>\n",
       "      <th>weekofyear</th>\n",
       "      <th>quater</th>\n",
       "      <th>is_leap</th>\n",
       "    </tr>\n",
       "  </thead>\n",
       "  <tbody>\n",
       "    <tr>\n",
       "      <th>0</th>\n",
       "      <td>2011-01-01 00:00:00</td>\n",
       "      <td>1</td>\n",
       "      <td>0</td>\n",
       "      <td>0</td>\n",
       "      <td>1</td>\n",
       "      <td>9.84</td>\n",
       "      <td>14.395</td>\n",
       "      <td>81</td>\n",
       "      <td>0.0</td>\n",
       "      <td>3</td>\n",
       "      <td>13</td>\n",
       "      <td>16</td>\n",
       "      <td>2011</td>\n",
       "      <td>1</td>\n",
       "      <td>1</td>\n",
       "      <td>5</td>\n",
       "      <td>52</td>\n",
       "      <td>1</td>\n",
       "      <td>False</td>\n",
       "    </tr>\n",
       "    <tr>\n",
       "      <th>1</th>\n",
       "      <td>2011-01-01 01:00:00</td>\n",
       "      <td>1</td>\n",
       "      <td>0</td>\n",
       "      <td>0</td>\n",
       "      <td>1</td>\n",
       "      <td>9.02</td>\n",
       "      <td>13.635</td>\n",
       "      <td>80</td>\n",
       "      <td>0.0</td>\n",
       "      <td>8</td>\n",
       "      <td>32</td>\n",
       "      <td>40</td>\n",
       "      <td>2011</td>\n",
       "      <td>1</td>\n",
       "      <td>1</td>\n",
       "      <td>5</td>\n",
       "      <td>52</td>\n",
       "      <td>1</td>\n",
       "      <td>False</td>\n",
       "    </tr>\n",
       "    <tr>\n",
       "      <th>2</th>\n",
       "      <td>2011-01-01 02:00:00</td>\n",
       "      <td>1</td>\n",
       "      <td>0</td>\n",
       "      <td>0</td>\n",
       "      <td>1</td>\n",
       "      <td>9.02</td>\n",
       "      <td>13.635</td>\n",
       "      <td>80</td>\n",
       "      <td>0.0</td>\n",
       "      <td>5</td>\n",
       "      <td>27</td>\n",
       "      <td>32</td>\n",
       "      <td>2011</td>\n",
       "      <td>1</td>\n",
       "      <td>1</td>\n",
       "      <td>5</td>\n",
       "      <td>52</td>\n",
       "      <td>1</td>\n",
       "      <td>False</td>\n",
       "    </tr>\n",
       "    <tr>\n",
       "      <th>3</th>\n",
       "      <td>2011-01-01 03:00:00</td>\n",
       "      <td>1</td>\n",
       "      <td>0</td>\n",
       "      <td>0</td>\n",
       "      <td>1</td>\n",
       "      <td>9.84</td>\n",
       "      <td>14.395</td>\n",
       "      <td>75</td>\n",
       "      <td>0.0</td>\n",
       "      <td>3</td>\n",
       "      <td>10</td>\n",
       "      <td>13</td>\n",
       "      <td>2011</td>\n",
       "      <td>1</td>\n",
       "      <td>1</td>\n",
       "      <td>5</td>\n",
       "      <td>52</td>\n",
       "      <td>1</td>\n",
       "      <td>False</td>\n",
       "    </tr>\n",
       "    <tr>\n",
       "      <th>4</th>\n",
       "      <td>2011-01-01 04:00:00</td>\n",
       "      <td>1</td>\n",
       "      <td>0</td>\n",
       "      <td>0</td>\n",
       "      <td>1</td>\n",
       "      <td>9.84</td>\n",
       "      <td>14.395</td>\n",
       "      <td>75</td>\n",
       "      <td>0.0</td>\n",
       "      <td>0</td>\n",
       "      <td>1</td>\n",
       "      <td>1</td>\n",
       "      <td>2011</td>\n",
       "      <td>1</td>\n",
       "      <td>1</td>\n",
       "      <td>5</td>\n",
       "      <td>52</td>\n",
       "      <td>1</td>\n",
       "      <td>False</td>\n",
       "    </tr>\n",
       "  </tbody>\n",
       "</table>\n",
       "</div>"
      ],
      "text/plain": [
       "             datetime  season  holiday  workingday  weather  temp   atemp  \\\n",
       "0 2011-01-01 00:00:00       1        0           0        1  9.84  14.395   \n",
       "1 2011-01-01 01:00:00       1        0           0        1  9.02  13.635   \n",
       "2 2011-01-01 02:00:00       1        0           0        1  9.02  13.635   \n",
       "3 2011-01-01 03:00:00       1        0           0        1  9.84  14.395   \n",
       "4 2011-01-01 04:00:00       1        0           0        1  9.84  14.395   \n",
       "\n",
       "   humidity  windspeed  casual  registered  count  year  month  dayofyear  \\\n",
       "0        81        0.0       3          13     16  2011      1          1   \n",
       "1        80        0.0       8          32     40  2011      1          1   \n",
       "2        80        0.0       5          27     32  2011      1          1   \n",
       "3        75        0.0       3          10     13  2011      1          1   \n",
       "4        75        0.0       0           1      1  2011      1          1   \n",
       "\n",
       "   dayofweek  weekofyear  quater  is_leap  \n",
       "0          5          52       1    False  \n",
       "1          5          52       1    False  \n",
       "2          5          52       1    False  \n",
       "3          5          52       1    False  \n",
       "4          5          52       1    False  "
      ]
     },
     "execution_count": 23,
     "metadata": {},
     "output_type": "execute_result"
    }
   ],
   "source": [
    "df.head()"
   ]
  },
  {
   "attachments": {},
   "cell_type": "markdown",
   "metadata": {},
   "source": [
    "2011/1/1にもかかわらず、weekofyearが52週目となっているが、これはisocalender()では月曜日を１週間の区切りとしているため。  \n",
    "この日は土曜日なのでまだ前年の週としてカウントされている。"
   ]
  },
  {
   "attachments": {},
   "cell_type": "markdown",
   "metadata": {},
   "source": [
    "### - Polarsの場合"
   ]
  },
  {
   "cell_type": "code",
   "execution_count": 2,
   "metadata": {},
   "outputs": [
    {
     "data": {
      "text/html": [
       "<div><style>\n",
       ".dataframe > thead > tr > th,\n",
       ".dataframe > tbody > tr > td {\n",
       "  text-align: right;\n",
       "}\n",
       "</style>\n",
       "<small>shape: (5, 12)</small><table border=\"1\" class=\"dataframe\"><thead><tr><th>datetime</th><th>season</th><th>holiday</th><th>workingday</th><th>weather</th><th>temp</th><th>atemp</th><th>humidity</th><th>windspeed</th><th>casual</th><th>registered</th><th>count</th></tr><tr><td>str</td><td>i64</td><td>i64</td><td>i64</td><td>i64</td><td>f64</td><td>f64</td><td>i64</td><td>f64</td><td>i64</td><td>i64</td><td>i64</td></tr></thead><tbody><tr><td>&quot;2011-01-01 00:…</td><td>1</td><td>0</td><td>0</td><td>1</td><td>9.84</td><td>14.395</td><td>81</td><td>0.0</td><td>3</td><td>13</td><td>16</td></tr><tr><td>&quot;2011-01-01 01:…</td><td>1</td><td>0</td><td>0</td><td>1</td><td>9.02</td><td>13.635</td><td>80</td><td>0.0</td><td>8</td><td>32</td><td>40</td></tr><tr><td>&quot;2011-01-01 02:…</td><td>1</td><td>0</td><td>0</td><td>1</td><td>9.02</td><td>13.635</td><td>80</td><td>0.0</td><td>5</td><td>27</td><td>32</td></tr><tr><td>&quot;2011-01-01 03:…</td><td>1</td><td>0</td><td>0</td><td>1</td><td>9.84</td><td>14.395</td><td>75</td><td>0.0</td><td>3</td><td>10</td><td>13</td></tr><tr><td>&quot;2011-01-01 04:…</td><td>1</td><td>0</td><td>0</td><td>1</td><td>9.84</td><td>14.395</td><td>75</td><td>0.0</td><td>0</td><td>1</td><td>1</td></tr></tbody></table></div>"
      ],
      "text/plain": [
       "shape: (5, 12)\n",
       "┌────────────┬────────┬─────────┬────────────┬───┬───────────┬────────┬────────────┬───────┐\n",
       "│ datetime   ┆ season ┆ holiday ┆ workingday ┆ … ┆ windspeed ┆ casual ┆ registered ┆ count │\n",
       "│ ---        ┆ ---    ┆ ---     ┆ ---        ┆   ┆ ---       ┆ ---    ┆ ---        ┆ ---   │\n",
       "│ str        ┆ i64    ┆ i64     ┆ i64        ┆   ┆ f64       ┆ i64    ┆ i64        ┆ i64   │\n",
       "╞════════════╪════════╪═════════╪════════════╪═══╪═══════════╪════════╪════════════╪═══════╡\n",
       "│ 2011-01-01 ┆ 1      ┆ 0       ┆ 0          ┆ … ┆ 0.0       ┆ 3      ┆ 13         ┆ 16    │\n",
       "│ 00:00:00   ┆        ┆         ┆            ┆   ┆           ┆        ┆            ┆       │\n",
       "│ 2011-01-01 ┆ 1      ┆ 0       ┆ 0          ┆ … ┆ 0.0       ┆ 8      ┆ 32         ┆ 40    │\n",
       "│ 01:00:00   ┆        ┆         ┆            ┆   ┆           ┆        ┆            ┆       │\n",
       "│ 2011-01-01 ┆ 1      ┆ 0       ┆ 0          ┆ … ┆ 0.0       ┆ 5      ┆ 27         ┆ 32    │\n",
       "│ 02:00:00   ┆        ┆         ┆            ┆   ┆           ┆        ┆            ┆       │\n",
       "│ 2011-01-01 ┆ 1      ┆ 0       ┆ 0          ┆ … ┆ 0.0       ┆ 3      ┆ 10         ┆ 13    │\n",
       "│ 03:00:00   ┆        ┆         ┆            ┆   ┆           ┆        ┆            ┆       │\n",
       "│ 2011-01-01 ┆ 1      ┆ 0       ┆ 0          ┆ … ┆ 0.0       ┆ 0      ┆ 1          ┆ 1     │\n",
       "│ 04:00:00   ┆        ┆         ┆            ┆   ┆           ┆        ┆            ┆       │\n",
       "└────────────┴────────┴─────────┴────────────┴───┴───────────┴────────┴────────────┴───────┘"
      ]
     },
     "execution_count": 2,
     "metadata": {},
     "output_type": "execute_result"
    }
   ],
   "source": [
    "df = pl.read_csv('../Python/sample_data/ML_sample/bike_share.csv')\n",
    "df.head()"
   ]
  },
  {
   "attachments": {},
   "cell_type": "markdown",
   "metadata": {},
   "source": [
    "strとして読み込まれてしまっているので、datetimeに変換する必要あり。  \n",
    "（事前に型が分かっているのであれば、pl.read_csvの段階でdtypesを指定してしまうのが楽かも。）"
   ]
  },
  {
   "cell_type": "code",
   "execution_count": 3,
   "metadata": {},
   "outputs": [
    {
     "data": {
      "text/html": [
       "<div><style>\n",
       ".dataframe > thead > tr > th,\n",
       ".dataframe > tbody > tr > td {\n",
       "  text-align: right;\n",
       "}\n",
       "</style>\n",
       "<small>shape: (5, 12)</small><table border=\"1\" class=\"dataframe\"><thead><tr><th>datetime</th><th>season</th><th>holiday</th><th>workingday</th><th>weather</th><th>temp</th><th>atemp</th><th>humidity</th><th>windspeed</th><th>casual</th><th>registered</th><th>count</th></tr><tr><td>datetime[μs]</td><td>i64</td><td>i64</td><td>i64</td><td>i64</td><td>f64</td><td>f64</td><td>i64</td><td>f64</td><td>i64</td><td>i64</td><td>i64</td></tr></thead><tbody><tr><td>2011-01-01 00:00:00</td><td>1</td><td>0</td><td>0</td><td>1</td><td>9.84</td><td>14.395</td><td>81</td><td>0.0</td><td>3</td><td>13</td><td>16</td></tr><tr><td>2011-01-01 01:00:00</td><td>1</td><td>0</td><td>0</td><td>1</td><td>9.02</td><td>13.635</td><td>80</td><td>0.0</td><td>8</td><td>32</td><td>40</td></tr><tr><td>2011-01-01 02:00:00</td><td>1</td><td>0</td><td>0</td><td>1</td><td>9.02</td><td>13.635</td><td>80</td><td>0.0</td><td>5</td><td>27</td><td>32</td></tr><tr><td>2011-01-01 03:00:00</td><td>1</td><td>0</td><td>0</td><td>1</td><td>9.84</td><td>14.395</td><td>75</td><td>0.0</td><td>3</td><td>10</td><td>13</td></tr><tr><td>2011-01-01 04:00:00</td><td>1</td><td>0</td><td>0</td><td>1</td><td>9.84</td><td>14.395</td><td>75</td><td>0.0</td><td>0</td><td>1</td><td>1</td></tr></tbody></table></div>"
      ],
      "text/plain": [
       "shape: (5, 12)\n",
       "┌──────────────┬────────┬─────────┬────────────┬───┬───────────┬────────┬────────────┬───────┐\n",
       "│ datetime     ┆ season ┆ holiday ┆ workingday ┆ … ┆ windspeed ┆ casual ┆ registered ┆ count │\n",
       "│ ---          ┆ ---    ┆ ---     ┆ ---        ┆   ┆ ---       ┆ ---    ┆ ---        ┆ ---   │\n",
       "│ datetime[μs] ┆ i64    ┆ i64     ┆ i64        ┆   ┆ f64       ┆ i64    ┆ i64        ┆ i64   │\n",
       "╞══════════════╪════════╪═════════╪════════════╪═══╪═══════════╪════════╪════════════╪═══════╡\n",
       "│ 2011-01-01   ┆ 1      ┆ 0       ┆ 0          ┆ … ┆ 0.0       ┆ 3      ┆ 13         ┆ 16    │\n",
       "│ 00:00:00     ┆        ┆         ┆            ┆   ┆           ┆        ┆            ┆       │\n",
       "│ 2011-01-01   ┆ 1      ┆ 0       ┆ 0          ┆ … ┆ 0.0       ┆ 8      ┆ 32         ┆ 40    │\n",
       "│ 01:00:00     ┆        ┆         ┆            ┆   ┆           ┆        ┆            ┆       │\n",
       "│ 2011-01-01   ┆ 1      ┆ 0       ┆ 0          ┆ … ┆ 0.0       ┆ 5      ┆ 27         ┆ 32    │\n",
       "│ 02:00:00     ┆        ┆         ┆            ┆   ┆           ┆        ┆            ┆       │\n",
       "│ 2011-01-01   ┆ 1      ┆ 0       ┆ 0          ┆ … ┆ 0.0       ┆ 3      ┆ 10         ┆ 13    │\n",
       "│ 03:00:00     ┆        ┆         ┆            ┆   ┆           ┆        ┆            ┆       │\n",
       "│ 2011-01-01   ┆ 1      ┆ 0       ┆ 0          ┆ … ┆ 0.0       ┆ 0      ┆ 1          ┆ 1     │\n",
       "│ 04:00:00     ┆        ┆         ┆            ┆   ┆           ┆        ┆            ┆       │\n",
       "└──────────────┴────────┴─────────┴────────────┴───┴───────────┴────────┴────────────┴───────┘"
      ]
     },
     "execution_count": 3,
     "metadata": {},
     "output_type": "execute_result"
    }
   ],
   "source": [
    "# strからdatetimeに変換\n",
    "df = df.with_columns(pl.col('datetime').str.strptime(pl.Datetime))\n",
    "df.head()"
   ]
  },
  {
   "cell_type": "code",
   "execution_count": 5,
   "metadata": {},
   "outputs": [
    {
     "data": {
      "text/html": [
       "<div><style>\n",
       ".dataframe > thead > tr > th,\n",
       ".dataframe > tbody > tr > td {\n",
       "  text-align: right;\n",
       "}\n",
       "</style>\n",
       "<small>shape: (5, 19)</small><table border=\"1\" class=\"dataframe\"><thead><tr><th>datetime</th><th>season</th><th>holiday</th><th>workingday</th><th>weather</th><th>temp</th><th>atemp</th><th>humidity</th><th>windspeed</th><th>casual</th><th>registered</th><th>count</th><th>year</th><th>month</th><th>day_of_year</th><th>day_of_week</th><th>week_of_year</th><th>quarter</th><th>is_leap</th></tr><tr><td>datetime[μs]</td><td>i64</td><td>i64</td><td>i64</td><td>i64</td><td>f64</td><td>f64</td><td>i64</td><td>f64</td><td>i64</td><td>i64</td><td>i64</td><td>i32</td><td>u32</td><td>u32</td><td>u32</td><td>u32</td><td>u32</td><td>bool</td></tr></thead><tbody><tr><td>2011-01-01 00:00:00</td><td>1</td><td>0</td><td>0</td><td>1</td><td>9.84</td><td>14.395</td><td>81</td><td>0.0</td><td>3</td><td>13</td><td>16</td><td>2011</td><td>1</td><td>1</td><td>6</td><td>52</td><td>1</td><td>false</td></tr><tr><td>2011-01-01 01:00:00</td><td>1</td><td>0</td><td>0</td><td>1</td><td>9.02</td><td>13.635</td><td>80</td><td>0.0</td><td>8</td><td>32</td><td>40</td><td>2011</td><td>1</td><td>1</td><td>6</td><td>52</td><td>1</td><td>false</td></tr><tr><td>2011-01-01 02:00:00</td><td>1</td><td>0</td><td>0</td><td>1</td><td>9.02</td><td>13.635</td><td>80</td><td>0.0</td><td>5</td><td>27</td><td>32</td><td>2011</td><td>1</td><td>1</td><td>6</td><td>52</td><td>1</td><td>false</td></tr><tr><td>2011-01-01 03:00:00</td><td>1</td><td>0</td><td>0</td><td>1</td><td>9.84</td><td>14.395</td><td>75</td><td>0.0</td><td>3</td><td>10</td><td>13</td><td>2011</td><td>1</td><td>1</td><td>6</td><td>52</td><td>1</td><td>false</td></tr><tr><td>2011-01-01 04:00:00</td><td>1</td><td>0</td><td>0</td><td>1</td><td>9.84</td><td>14.395</td><td>75</td><td>0.0</td><td>0</td><td>1</td><td>1</td><td>2011</td><td>1</td><td>1</td><td>6</td><td>52</td><td>1</td><td>false</td></tr></tbody></table></div>"
      ],
      "text/plain": [
       "shape: (5, 19)\n",
       "┌───────────────┬────────┬─────────┬────────────┬───┬─────────────┬────────────┬─────────┬─────────┐\n",
       "│ datetime      ┆ season ┆ holiday ┆ workingday ┆ … ┆ day_of_week ┆ week_of_ye ┆ quarter ┆ is_leap │\n",
       "│ ---           ┆ ---    ┆ ---     ┆ ---        ┆   ┆ ---         ┆ ar         ┆ ---     ┆ ---     │\n",
       "│ datetime[μs]  ┆ i64    ┆ i64     ┆ i64        ┆   ┆ u32         ┆ ---        ┆ u32     ┆ bool    │\n",
       "│               ┆        ┆         ┆            ┆   ┆             ┆ u32        ┆         ┆         │\n",
       "╞═══════════════╪════════╪═════════╪════════════╪═══╪═════════════╪════════════╪═════════╪═════════╡\n",
       "│ 2011-01-01    ┆ 1      ┆ 0       ┆ 0          ┆ … ┆ 6           ┆ 52         ┆ 1       ┆ false   │\n",
       "│ 00:00:00      ┆        ┆         ┆            ┆   ┆             ┆            ┆         ┆         │\n",
       "│ 2011-01-01    ┆ 1      ┆ 0       ┆ 0          ┆ … ┆ 6           ┆ 52         ┆ 1       ┆ false   │\n",
       "│ 01:00:00      ┆        ┆         ┆            ┆   ┆             ┆            ┆         ┆         │\n",
       "│ 2011-01-01    ┆ 1      ┆ 0       ┆ 0          ┆ … ┆ 6           ┆ 52         ┆ 1       ┆ false   │\n",
       "│ 02:00:00      ┆        ┆         ┆            ┆   ┆             ┆            ┆         ┆         │\n",
       "│ 2011-01-01    ┆ 1      ┆ 0       ┆ 0          ┆ … ┆ 6           ┆ 52         ┆ 1       ┆ false   │\n",
       "│ 03:00:00      ┆        ┆         ┆            ┆   ┆             ┆            ┆         ┆         │\n",
       "│ 2011-01-01    ┆ 1      ┆ 0       ┆ 0          ┆ … ┆ 6           ┆ 52         ┆ 1       ┆ false   │\n",
       "│ 04:00:00      ┆        ┆         ┆            ┆   ┆             ┆            ┆         ┆         │\n",
       "└───────────────┴────────┴─────────┴────────────┴───┴─────────────┴────────────┴─────────┴─────────┘"
      ]
     },
     "execution_count": 5,
     "metadata": {},
     "output_type": "execute_result"
    }
   ],
   "source": [
    "df.with_columns([pl.col('datetime').dt.year().alias('year'),\n",
    "                 pl.col('datetime').dt.month().alias('month'),\n",
    "                 # １年の何日目かのカラムを追加 \n",
    "                 pl.col('datetime').dt.ordinal_day().alias('day_of_year'),\n",
    "                 # １週間の何日目か(1:月～7:日)のカラムを追加。pandasと違うことに注意 \n",
    "                 pl.col('datetime').dt.weekday().alias('day_of_week'),\n",
    "                 pl.col('datetime').dt.week().alias('week_of_year'),\n",
    "                 pl.col('datetime').dt.quarter().alias('quarter'),\n",
    "                 pl.col('datetime').dt.is_leap_year().alias('is_leap')\n",
    "]).head()\n",
    "\n",
    "# # 年のカラムを追加\n",
    "# df['year'] = df['datetime'].dt.year\n",
    "\n",
    "# # 月のカラムを追加\n",
    "# df['month'] = df['datetime'].dt.month\n",
    "\n",
    "# # １年の何日目かのカラムを追加\n",
    "# df['dayofyear'] = df['datetime'].dt.dayofyear\n",
    "\n",
    "# # １週間の何日目か(0:月～6:日)のカラムを追加\n",
    "# df['dayofweek'] = df['datetime'].dt.dayofweek\n",
    "\n",
    "# # １年の何週目かのカラムを追加\n",
    "# df['weekofyear'] = df['datetime'].dt.isocalendar().week\n",
    "\n",
    "# # ４半期のどれかを追加\n",
    "# df['quater'] = df['datetime'].dt.quarter\n",
    "\n",
    "# # うるう年であるか否かを追加\n",
    "# df['is_leap'] = df['datetime'].dt.is_leap_year"
   ]
  },
  {
   "attachments": {},
   "cell_type": "markdown",
   "metadata": {},
   "source": [
    "Polarsの方がまとめて処理を書けるので楽かも。day_of_weekの扱いは微妙に違うので注意。"
   ]
  },
  {
   "cell_type": "code",
   "execution_count": null,
   "metadata": {},
   "outputs": [],
   "source": []
  }
 ],
 "metadata": {
  "kernelspec": {
   "display_name": "Python 3 (ipykernel)",
   "language": "python",
   "name": "python3"
  },
  "language_info": {
   "codemirror_mode": {
    "name": "ipython",
    "version": 3
   },
   "file_extension": ".py",
   "mimetype": "text/x-python",
   "name": "python",
   "nbconvert_exporter": "python",
   "pygments_lexer": "ipython3",
   "version": "3.9.12"
  },
  "orig_nbformat": 4
 },
 "nbformat": 4,
 "nbformat_minor": 2
}
