{
 "cells": [
  {
   "cell_type": "markdown",
   "metadata": {},
   "source": [
    "# SQL100本ノック"
   ]
  },
  {
   "cell_type": "code",
   "execution_count": null,
   "metadata": {},
   "outputs": [],
   "source": []
  },
  {
   "cell_type": "code",
   "execution_count": null,
   "metadata": {},
   "outputs": [],
   "source": [
    "!pip install mysql-connector-python"
   ]
  },
  {
   "cell_type": "code",
   "execution_count": 1,
   "metadata": {},
   "outputs": [],
   "source": [
    "import os\n",
    "import mysql.connector"
   ]
  },
  {
   "cell_type": "markdown",
   "metadata": {},
   "source": [
    "## MySQLと接続出来ることを確認"
   ]
  },
  {
   "cell_type": "code",
   "execution_count": 4,
   "metadata": {},
   "outputs": [
    {
     "name": "stdout",
     "output_type": "stream",
     "text": [
      "(1, 'yamada')\n"
     ]
    }
   ],
   "source": [
    "# 接続パラメータの設定\n",
    "config = {\n",
    "  'host': os.environ['MYSQL_IP'], \n",
    "  'user': os.environ['MYSQL_USR'],\n",
    "  'password': os.environ['MYSQL_PW'],\n",
    "  'database': 'test'\n",
    "}\n",
    "\n",
    "# データベース接続\n",
    "conn = mysql.connector.connect(**config)\n",
    "\n",
    "# カーソルの作成\n",
    "cursor = conn.cursor()\n",
    "\n",
    "# SQLクエリの実行（例）\n",
    "cursor.execute(\"SELECT * FROM test\")\n",
    "\n",
    "# データの取得\n",
    "for row in cursor:\n",
    "    print(row)\n"
   ]
  },
  {
   "cell_type": "code",
   "execution_count": null,
   "metadata": {},
   "outputs": [],
   "source": []
  }
 ],
 "metadata": {
  "kernelspec": {
   "display_name": "Python 3",
   "language": "python",
   "name": "python3"
  },
  "language_info": {
   "codemirror_mode": {
    "name": "ipython",
    "version": 3
   },
   "file_extension": ".py",
   "mimetype": "text/x-python",
   "name": "python",
   "nbconvert_exporter": "python",
   "pygments_lexer": "ipython3",
   "version": "3.11.6"
  }
 },
 "nbformat": 4,
 "nbformat_minor": 2
}
