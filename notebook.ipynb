{
 "cells": [
  {
   "cell_type": "markdown",
   "metadata": {},
   "source": [
    "# リスト内包表記\n",
    "for文を回してリストを生成する場合は下記のようにリスト内包表記で書くと早い\n",
    "イメージ： [forから取り出した結果を格納する変数] for文 (必要に応じてif文)　の順番"
   ]
  },
  {
   "cell_type": "code",
   "execution_count": 1,
   "metadata": {},
   "outputs": [
    {
     "data": {
      "text/plain": [
       "['red.png', 'blue.png', 'green.png', 'yellow.png', 'white.png']"
      ]
     },
     "execution_count": 1,
     "metadata": {},
     "output_type": "execute_result"
    }
   ],
   "source": [
    "colors = ['red', 'blue', 'green', 'yellow', 'white']\n",
    "\n",
    "[color + '.png' for color in colors]"
   ]
  },
  {
   "cell_type": "code",
   "execution_count": null,
   "metadata": {},
   "outputs": [],
   "source": []
  }
 ],
 "metadata": {
  "kernelspec": {
   "display_name": "Python 3",
   "language": "python",
   "name": "python3"
  },
  "language_info": {
   "codemirror_mode": {
    "name": "ipython",
    "version": 3
   },
   "file_extension": ".py",
   "mimetype": "text/x-python",
   "name": "python",
   "nbconvert_exporter": "python",
   "pygments_lexer": "ipython3",
   "version": "3.7.6"
  }
 },
 "nbformat": 4,
 "nbformat_minor": 4
}
