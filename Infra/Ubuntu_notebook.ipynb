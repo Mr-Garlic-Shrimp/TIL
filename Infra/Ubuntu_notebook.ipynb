{
 "cells": [
  {
   "cell_type": "markdown",
   "id": "5276db4c-a60b-4cdd-8f06-b2d2e84ac82f",
   "metadata": {},
   "source": [
    "# Ubuntu関係のメモ"
   ]
  },
  {
   "cell_type": "markdown",
   "id": "611e26e6-f86c-4e53-9e9c-bac0c6d195cc",
   "metadata": {},
   "source": [
    "## ○LVM を空き容量いっぱいまで拡張する\n",
    "下記参照：  \n",
    "https://www.ytyng.com/blog/lvm-partition-extend-full-remain-volume/"
   ]
  },
  {
   "cell_type": "code",
   "execution_count": null,
   "id": "5f0c9aef-23ef-4df7-8142-88b838e412e9",
   "metadata": {},
   "outputs": [],
   "source": []
  }
 ],
 "metadata": {
  "kernelspec": {
   "display_name": "Python 3 (ipykernel)",
   "language": "python",
   "name": "python3"
  },
  "language_info": {
   "codemirror_mode": {
    "name": "ipython",
    "version": 3
   },
   "file_extension": ".py",
   "mimetype": "text/x-python",
   "name": "python",
   "nbconvert_exporter": "python",
   "pygments_lexer": "ipython3",
   "version": "3.9.12"
  }
 },
 "nbformat": 4,
 "nbformat_minor": 5
}
