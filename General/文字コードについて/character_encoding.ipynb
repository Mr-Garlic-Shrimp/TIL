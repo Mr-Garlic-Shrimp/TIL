{
 "cells": [
  {
   "cell_type": "markdown",
   "metadata": {},
   "source": [
    "# 文字コードについて\n",
    "あまり意識する機会がなくてよく忘れるので、勉強用のメモを残しておく。"
   ]
  },
  {
   "cell_type": "markdown",
   "metadata": {},
   "source": [
    "## 参考リンク\n",
    "* [0xの意味](https://wa3.i-3-i.info/word1613.html)\n",
    "* [文字コードの種類と仕組み](https://milestone-of-se.nesuke.com/nw-basic/as-nw-engineer/charset-summary/)\n",
    "* [バイナリデータとテキストデータ](https://milestone-of-se.nesuke.com/nw-basic/as-nw-engineer/binary-text-ascii/)"
   ]
  },
  {
   "cell_type": "markdown",
   "metadata": {},
   "source": [
    "## 基本"
   ]
  },
  {
   "cell_type": "markdown",
   "metadata": {},
   "source": [
    "* 文字コードやエラーコードの先頭などでよく見る\"0x\"は16進数でエラーコードを表していることを意味している。\n",
    "  * 例）0x00007b：16進数で00007bの意味。\n",
    "  * 正確には0xのうち「x」の部分が16進数表記であることを表現しており、この「x」は「heXadecimal（ヘキサデシマル）」の「x」が由来らしい。\n",
    "  * 0はコンピュータに数字であることを認識させるためのもの\n",
    "* 4ビットは16通りなので、16進数1桁で表現できる。なので、8ビット(1バイト)は16進数2桁で表現できる。\n",
    "* ASCIIは1Byte、Shift-JISは1Byte～2Byteで表現される。\n",
    "* プログラム言語のソースコードやスクリプト言語のスクリプトは、一般に ASCII コードで書かれる。\n",
    "* Linux では『0x0a』が改行コードとして見なされるので、基本的に改行すると1バイトとしてカウントされる。\n"
   ]
  },
  {
   "cell_type": "markdown",
   "metadata": {},
   "source": [
    "## バイナリデータとテキストデータ"
   ]
  },
  {
   "cell_type": "markdown",
   "metadata": {},
   "source": [
    "### バイナリデータ（バイナリ形式）\n",
    "* 0と1の羅列(bit列)により主にコンピュータが理解するために記述されたデータ形式のこと\n",
    "* 先頭からXbitはレコードID、次のYbitはタイムスタンプ・・・のようにそのデータを扱うアプリケーションの設計によってbit列の解釈が決まる\n",
    "* テキストエディタで開くと無理やり文字コードに当てはめようとするため、文字化けする\n",
    "* 実際のbit列を見て、どのような値のデータなのか確かめるにはバイナリエディタ等で開く必要あり。\n",
    "  * [バイナリエディタ：Binary Editor BZ](https://forest.watch.impress.co.jp/library/software/binaryeditbz/)"
   ]
  },
  {
   "cell_type": "markdown",
   "metadata": {},
   "source": [
    "### テキストデータ（テキスト形式）\n",
    "* コンピュータ的には0と1の羅列(bit列)に見えることに変わりないが、文字コードに従って記述されたデータ形式のこと\n",
    "* テキストエディタで開けば人間が読むことができる\n",
    "* 文字コードに従っているため、アプリケーションによって解釈が変わることはない。\n",
    "* bit列だけではバイナリデータかテキストデータなのか分からないが、テキストエディタで色々な文字コードとしてファイルを開いてみて、  \n",
    "  意味の通じる文字列になればテキストファイル。ただし、\"テキストエディタで開いて文字化け = バイナリデータ\"というわけではないことに注意。\n"
   ]
  },
  {
   "cell_type": "markdown",
   "metadata": {},
   "source": []
  }
 ],
 "metadata": {
  "language_info": {
   "name": "python"
  },
  "orig_nbformat": 4
 },
 "nbformat": 4,
 "nbformat_minor": 2
}
