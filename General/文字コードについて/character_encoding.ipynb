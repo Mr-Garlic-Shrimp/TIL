{
 "cells": [
  {
   "cell_type": "markdown",
   "metadata": {},
   "source": [
    "# 文字コードについて\n",
    "あまり意識する機会がなかったので、勉強用のメモを残しておく。"
   ]
  },
  {
   "cell_type": "markdown",
   "metadata": {},
   "source": [
    "## 参考リンク\n",
    "* [0xの意味](https://wa3.i-3-i.info/word1613.html)\n",
    "* [文字コードの種類と仕組み](https://milestone-of-se.nesuke.com/nw-basic/as-nw-engineer/charset-summary/)\n",
    "* [バイナリデータとテキストデータ](https://milestone-of-se.nesuke.com/nw-basic/as-nw-engineer/binary-text-ascii/)"
   ]
  },
  {
   "cell_type": "markdown",
   "metadata": {},
   "source": [
    "## 基本"
   ]
  },
  {
   "cell_type": "markdown",
   "metadata": {},
   "source": [
    "* 文字コードやエラーコードの先頭などでよく見る\"0x\"は16進数でエラーコードを表していることを意味している。\n",
    "  * 例）0x00007b：16進数で00007bの意味。\n",
    "  * 正確には0xのうち「x」の部分が16進数表記であることを表現しており、この「x」は「heXadecimal（ヘキサデシマル）」の「x」が由来らしい。\n",
    "  * 0はコンピュータに数字であることを認識させるためのもの\n",
    "* 4ビットは16通りなので、16進数1桁で表現できる。なので、8ビット(1バイト)は16進数2桁で表現できる。\n",
    "* ASCIIは1Byte、Shift-JISは1Byte～2Byteで表現される。\n",
    "* Linux では『0x0a』が改行コードとして見なされるので、基本的に改行すると1バイトとしてカウントされる。\n",
    "  "
   ]
  }
 ],
 "metadata": {
  "language_info": {
   "name": "python"
  },
  "orig_nbformat": 4
 },
 "nbformat": 4,
 "nbformat_minor": 2
}
