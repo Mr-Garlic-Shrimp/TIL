{
 "cells": [
  {
   "cell_type": "markdown",
   "metadata": {},
   "source": [
    "# オブジェクト指向プログラミングの復習"
   ]
  },
  {
   "cell_type": "markdown",
   "metadata": {},
   "source": [
    "機械学習の勉強ばかりしていたら忘れてしまったので、  \n",
    "適当に書きながら復習する。"
   ]
  },
  {
   "cell_type": "code",
   "execution_count": 14,
   "metadata": {},
   "outputs": [],
   "source": [
    "class Person():\n",
    "    def __init__(self, name, age, sex, height, weight) -> None:\n",
    "        self.name = name\n",
    "        self.age = age\n",
    "        self.sex = sex\n",
    "        self.height = height\n",
    "        self.weight = weight\n",
    "\n",
    "    def say_profile(self) ->None:\n",
    "        print(f'私の名前は{self.name}です。\\n年齢は{self.age}です。')\n",
    "    \n",
    "    def add_profile(self, info) ->None:\n",
    "        self.info = info\n",
    "        print(f'{self.name}に新しいプロフィール{info}が追加されました。')"
   ]
  },
  {
   "cell_type": "code",
   "execution_count": 16,
   "metadata": {},
   "outputs": [
    {
     "name": "stdout",
     "output_type": "stream",
     "text": [
      "私の名前はJohnです。\n",
      "年齢は24です。\n"
     ]
    }
   ],
   "source": [
    "Person(\"John\", 24, \"Male\", 180, 80).say_profile()"
   ]
  }
 ],
 "metadata": {
  "kernelspec": {
   "display_name": "Python 3",
   "language": "python",
   "name": "python3"
  },
  "language_info": {
   "codemirror_mode": {
    "name": "ipython",
    "version": 3
   },
   "file_extension": ".py",
   "mimetype": "text/x-python",
   "name": "python",
   "nbconvert_exporter": "python",
   "pygments_lexer": "ipython3",
   "version": "3.11.6"
  }
 },
 "nbformat": 4,
 "nbformat_minor": 2
}
