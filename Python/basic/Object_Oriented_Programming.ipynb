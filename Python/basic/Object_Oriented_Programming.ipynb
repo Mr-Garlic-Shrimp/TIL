{
 "cells": [
  {
   "cell_type": "markdown",
   "metadata": {},
   "source": [
    "# オブジェクト指向プログラミングの復習"
   ]
  },
  {
   "cell_type": "markdown",
   "metadata": {},
   "source": [
    "忘れてしまったので、適当に書きながら復習する。  "
   ]
  },
  {
   "cell_type": "code",
   "execution_count": 58,
   "metadata": {},
   "outputs": [],
   "source": [
    "# 値を２つ受け取ってなんかしらするクラス\n",
    "class SampleClass_1():\n",
    "\n",
    "    # クラス変数\n",
    "    common_vals = \"hoge\"\n",
    "\n",
    "    def __init__(self, val1, val2) -> None:\n",
    "        # インスタンス変数\n",
    "        self.val1 = val1\n",
    "        self.val2 = val2\n",
    "        self.show_count = 0\n",
    "        \n",
    "\n",
    "    # 値を照会するメソッド\n",
    "    def show_vals(self):\n",
    "        self.show_count += 1\n",
    "        print(f\"{self.show_count}回目の照会です。\")\n",
    "        print(f\"val1: {self.val1}\")\n",
    "        print(f\"val2: {self.val2}\")\n",
    "\n",
    "\n",
    "    # 値を変更するメソッド\n",
    "    def mod_vals(self, new_val1, new_val2):\n",
    "        print(\"### 変更前の値 ###\")\n",
    "        self.show_vals()\n",
    "\n",
    "        print(\"### 変更後の値 ###\")\n",
    "        self.val1 = new_val1\n",
    "        self.val2 = new_val2\n",
    "        self.show_vals()\n",
    "\n",
    "\n",
    "# SampleClass_1を継承したクラスを作成\n",
    "class SampleClass_2(SampleClass_1):\n",
    "    def __init__(self, val1, val2) -> None:\n",
    "        super().__init__(val1, val2)\n",
    "\n",
    "    # 親クラスのメソッドをオーバーライド\n",
    "    def show_vals(self):\n",
    "        print(f\"親クラスのメソッドオーバーライドだよ\")\n",
    "        print(f\"val1: ★{self.val1}★\")\n",
    "        print(f\"val2: ★{self.val2}★\")\n",
    "\n",
    "        "
   ]
  },
  {
   "cell_type": "code",
   "execution_count": 53,
   "metadata": {},
   "outputs": [],
   "source": [
    "# インスタンス生成\n",
    "sample1 = SampleClass_1(1, 2)\n",
    "sample2 = SampleClass_1(99, 100)"
   ]
  },
  {
   "cell_type": "code",
   "execution_count": 55,
   "metadata": {},
   "outputs": [
    {
     "name": "stdout",
     "output_type": "stream",
     "text": [
      "3回目の照会です。\n",
      "val1: 3\n",
      "val2: 4\n"
     ]
    }
   ],
   "source": [
    "# 照会するたびに回数が増えていく。\n",
    "sample1.show_vals()"
   ]
  },
  {
   "cell_type": "code",
   "execution_count": 54,
   "metadata": {},
   "outputs": [
    {
     "name": "stdout",
     "output_type": "stream",
     "text": [
      "### 変更前の値 ###\n",
      "1回目の照会です。\n",
      "val1: 1\n",
      "val2: 2\n",
      "### 変更後の値 ###\n",
      "2回目の照会です。\n",
      "val1: 3\n",
      "val2: 4\n"
     ]
    }
   ],
   "source": [
    "# 値の変更\n",
    "sample1.mod_vals(3, 4)"
   ]
  },
  {
   "cell_type": "code",
   "execution_count": 56,
   "metadata": {},
   "outputs": [
    {
     "name": "stdout",
     "output_type": "stream",
     "text": [
      "クラス変数：sample1 = hoge, sample2 = hoge\n",
      "クラス変数：sample1 = Hello, sample2 = Hello\n"
     ]
    }
   ],
   "source": [
    "print(f\"クラス変数：sample1 = {sample1.common_vals}, sample2 = {sample2.common_vals}\")\n",
    "SampleClass_1.common_vals = 'Hello'\n",
    "print(f\"クラス変数：sample1 = {sample1.common_vals}, sample2 = {sample2.common_vals}\")"
   ]
  },
  {
   "cell_type": "markdown",
   "metadata": {},
   "source": [
    "クラス変数はインスタンス共通。"
   ]
  },
  {
   "cell_type": "code",
   "execution_count": 60,
   "metadata": {},
   "outputs": [
    {
     "name": "stdout",
     "output_type": "stream",
     "text": [
      "親クラスのメソッドオーバーライドだよ\n",
      "val1: ★-1★\n",
      "val2: ★-2★\n"
     ]
    }
   ],
   "source": [
    "# SampleClass_1を継承したクラスのインスタンス生成\n",
    "sample_3 = SampleClass_2(-1, -2)\n",
    "\n",
    "sample_3.show_vals()"
   ]
  },
  {
   "cell_type": "code",
   "execution_count": 63,
   "metadata": {},
   "outputs": [
    {
     "name": "stdout",
     "output_type": "stream",
     "text": [
      "### 変更前の値 ###\n",
      "親クラスのメソッドオーバーライドだよ\n",
      "val1: ★100★\n",
      "val2: ★200★\n",
      "### 変更後の値 ###\n",
      "親クラスのメソッドオーバーライドだよ\n",
      "val1: ★900★\n",
      "val2: ★11100★\n"
     ]
    }
   ],
   "source": [
    "# 継承することにより親クラスにあり、かつ子クラスでそのまま使いたい場合は子クラスに書く必要はない。\n",
    "sample_3.mod_vals(900, 11100)"
   ]
  }
 ],
 "metadata": {
  "kernelspec": {
   "display_name": "Python 3",
   "language": "python",
   "name": "python3"
  },
  "language_info": {
   "codemirror_mode": {
    "name": "ipython",
    "version": 3
   },
   "file_extension": ".py",
   "mimetype": "text/x-python",
   "name": "python",
   "nbconvert_exporter": "python",
   "pygments_lexer": "ipython3",
   "version": "3.11.6"
  }
 },
 "nbformat": 4,
 "nbformat_minor": 2
}
