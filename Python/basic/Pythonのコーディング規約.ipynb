{
 "cells": [
  {
   "cell_type": "markdown",
   "metadata": {},
   "source": [
    "# Pythonのコーディング規約\n",
    "* 参考:\n",
    "    * [Pythonでコードに意図を込める](https://qiita.com/suikabar/items/29cdc4a2bf1214f0966c)"
   ]
  }
 ],
 "metadata": {
  "language_info": {
   "name": "python"
  }
 },
 "nbformat": 4,
 "nbformat_minor": 2
}
