{
 "cells": [
  {
   "cell_type": "markdown",
   "metadata": {},
   "source": [
    "# 演算子\n",
    "* 商と余りは行列の行番号と列番号を使うのにつかえる。    \n",
    "(0.0) (0.1) (0.2)   \n",
    "(1.0) (1.1) (1.2)   \n",
    "(2.0) (2.1) (2.2)   \n",
    "例えば、左上から順に数えて4番目(左上は０番目とする)の行・列は4/3=1..余り1で(1,1)の  \n",
    "ように決められる。つまり左上から数えた番号を列数で割った商と余りが行と列のインデックスになる。"
   ]
  },
  {
   "cell_type": "markdown",
   "metadata": {},
   "source": [
    "# 参照渡しの実験\n",
    "リストは参照渡しされるのでbの変更はaに反映される"
   ]
  },
  {
   "cell_type": "code",
   "execution_count": 1,
   "metadata": {},
   "outputs": [
    {
     "name": "stdout",
     "output_type": "stream",
     "text": [
      "[1, 2, 3, 4]\n"
     ]
    }
   ],
   "source": [
    "a = [1, 2, 3]\n",
    "b = a\n",
    "\n",
    "b.append(4)\n",
    "print(a)\n"
   ]
  },
  {
   "cell_type": "code",
   "execution_count": 2,
   "metadata": {},
   "outputs": [
    {
     "name": "stdout",
     "output_type": "stream",
     "text": [
      "140314839194432\n",
      "[1, 2, 3, 3879]\n",
      "140314839194432\n"
     ]
    }
   ],
   "source": [
    "def func1(param):\n",
    "    print(id(param))\n",
    "    c = param\n",
    "    c.append(3879)\n",
    "\n",
    "#     param = []\n",
    "#     print(param)\n",
    "#     print(id(param))\n",
    "    \n",
    "\n",
    "a = [1, 2, 3]\n",
    "func1(a)\n",
    "print(a)\n",
    "print(id(a))"
   ]
  },
  {
   "cell_type": "code",
   "execution_count": 2,
   "metadata": {},
   "outputs": [
    {
     "name": "stdout",
     "output_type": "stream",
     "text": [
      "140389129769472\n",
      "[1, 2, 3]\n",
      "140389129769472\n"
     ]
    }
   ],
   "source": [
    "def func1(param):\n",
    "    print(id(param))\n",
    "    # copyすると、paramと違うID（メモリ番地）で同じ内容のリストを作る。\n",
    "    c = param.copy()\n",
    "    c.append(3879)\n",
    "\n",
    "#     param = []\n",
    "#     print(param)\n",
    "#     print(id(param))\n",
    "    \n",
    "\n",
    "a = [1, 2, 3]\n",
    "func1(a)\n",
    "print(a)\n",
    "print(id(a))"
   ]
  },
  {
   "cell_type": "markdown",
   "metadata": {},
   "source": [
    "上記のように関数の引数としてリストを渡すと思いがけず元のリストaが書き換わってしまう恐れがある。  \n",
    "対処法としては関数内でリストをコピーして使うなどすればよい。（浅いコピー、深いコピーがあることに注意）  \n",
    "対処法の詳細は下記などを参照。  \n",
    "https://pyonk.github.io/blog/posts/python-copy/  \n",
    "https://startlab.jp/learning-python/passbyvalue/"
   ]
  },
  {
   "cell_type": "markdown",
   "metadata": {},
   "source": [
    "# リスト内包表記\n",
    "for文を回してリストを生成する場合は下記のようにリスト内包表記で書くと早い。  \n",
    "イメージ： forから取り出した結果を使う処理 for文 (必要に応じてif文)　の順番  \n",
    "→普通にfor文でリスト作る場合と書く順序が逆になる"
   ]
  },
  {
   "cell_type": "code",
   "execution_count": 1,
   "metadata": {},
   "outputs": [
    {
     "data": {
      "text/plain": [
       "['red.png', 'blue.png', 'green.png', 'yellow.png', 'white.png']"
      ]
     },
     "execution_count": 1,
     "metadata": {},
     "output_type": "execute_result"
    }
   ],
   "source": [
    "colors = ['red', 'blue', 'green', 'yellow', 'white']\n",
    "\n",
    "[color + '.png' for color in colors]"
   ]
  },
  {
   "cell_type": "markdown",
   "metadata": {},
   "source": [
    "# イテラブル(Iterable)とイテレータ(Iterator)\n",
    "イテラブルはそのオブジェクトに対して反復処理ができるかどうかのこと。  \n",
    "例）List,Dict,Strings,Tupleはイテラブル  \n",
    "\n",
    "iter()関数でIteratorを返すオブジェクトはIterableである。  \n",
    "Iteratorとはnext()関数で要素を次々に返すこと（イテレーション）ができるオブジェクトのこと。  "
   ]
  },
  {
   "cell_type": "code",
   "execution_count": 3,
   "metadata": {},
   "outputs": [
    {
     "data": {
      "text/plain": [
       "<list_iterator at 0x7f7d1a7650d0>"
      ]
     },
     "execution_count": 3,
     "metadata": {},
     "output_type": "execute_result"
    }
   ],
   "source": [
    "colors = ['red', 'blue', 'green', 'yellow', 'white'] \n",
    "iter(colors)"
   ]
  },
  {
   "cell_type": "markdown",
   "metadata": {},
   "source": [
    "# 関数 "
   ]
  },
  {
   "cell_type": "markdown",
   "metadata": {},
   "source": [
    "## 関数の戻り値を格納し忘れたときの対処法\n",
    "実行に長時間かかるような関数を実行し、戻り値を変数に格納するのを忘れたとき、  \n",
    "後からでもvalue = _ のようにアンダースコアを代入するとvalueに戻り値を格納することができる。  \n",
    "  \n",
    "ちなみにprint関数の戻り値はNone。\n"
   ]
  },
  {
   "cell_type": "markdown",
   "metadata": {},
   "source": [
    "## 引数\n",
    "・デフォルト値がある引数をデフォルト値がない引数の前に書くことはできない。  \n",
    "　これは呼び出すときにどっちの引数に指定した値を入れているのかわからなくなるため。  \n",
    "例）func1(arg1='red', arg2) →エラー  \n",
    "\n",
    "## \\*argsと\\*kwargs\n",
    "\\*argsを引数に書くと、いくらでも引数を受け取れる。引数に値を指定したとき、左から順に読み込まれる。  \n",
    "argsはタプルとして扱われる。  \n",
    "用途：　データサイエンスでは並列処理のラッパー関数（メインの関数を内包するインターフェース的な関数）によく使われる\n",
    "\n",
    "\n"
   ]
  },
  {
   "cell_type": "code",
   "execution_count": 28,
   "metadata": {},
   "outputs": [
    {
     "name": "stdout",
     "output_type": "stream",
     "text": [
      "('image1.png', 'image2.jpg', 'image3.png')\n"
     ]
    },
    {
     "data": {
      "text/plain": [
       "['image1.png', 'image3.png']"
      ]
     },
     "execution_count": 28,
     "metadata": {},
     "output_type": "execute_result"
    }
   ],
   "source": [
    "# *argsの例\n",
    "# 引数として受け取ったファイルリストから.pngのファイルを抽出し、新しいリストを返す。\n",
    "def png_list(*args):\n",
    "    # args is tuple\n",
    "    print(args)\n",
    "    return [arg for arg in args if arg.split('.')[-1] == 'png']\n",
    "\n",
    "png_list('image1.png', 'image2.jpg', 'image3.png')"
   ]
  },
  {
   "cell_type": "markdown",
   "metadata": {},
   "source": [
    "\\**kwargsを使うことで、辞書型で引数を受け取れる。"
   ]
  },
  {
   "cell_type": "code",
   "execution_count": 32,
   "metadata": {},
   "outputs": [
    {
     "name": "stdout",
     "output_type": "stream",
     "text": [
      "ice cream\n",
      "entree beef\n",
      "drink ice cream\n",
      "dessert ice\n"
     ]
    }
   ],
   "source": [
    "def menu(**kwargs):\n",
    "    # print kwargs\n",
    "    print(kwargs.get('drink'))\n",
    "    for k, v in kwargs.items():\n",
    "      print(k, v)\n",
    "\n",
    "d = {\n",
    "  \"entree\": \"beef\",\n",
    "  \"drink\": \"ice cream\",\n",
    "  \"dessert\": \"ice\"\n",
    "}\n",
    "menu(**d)"
   ]
  },
  {
   "cell_type": "markdown",
   "metadata": {},
   "source": [
    "# \\*と\\**の意味\n",
    "これらは Unpacking Operatorというもので、リストやタプルの前に  \n",
    "つけると、要素を個別に取り出せるようになる。辞書型の場合は他の辞書型と結合するときに使える。\n"
   ]
  },
  {
   "cell_type": "code",
   "execution_count": 49,
   "metadata": {},
   "outputs": [
    {
     "name": "stdout",
     "output_type": "stream",
     "text": [
      "[1, 2, 3, 4, 5]\n",
      "1 2 3 4 5\n",
      "(1, 2, 3)\n",
      "1 2 3\n",
      "1 2 3\n"
     ]
    }
   ],
   "source": [
    "# 例\n",
    "x = [1, 2, 3, 4, 5]\n",
    "print(x)\n",
    "print(*x)\n",
    "\n",
    "y = (1, 2, 3)\n",
    "print(y)\n",
    "print(*y)\n",
    "\n",
    "# タプルの場合、下記のように書くと自動でアンパックされてそれぞれ代入される\n",
    "a, b, c = y\n",
    "print(a,b,c)"
   ]
  },
  {
   "cell_type": "code",
   "execution_count": 1,
   "metadata": {},
   "outputs": [
    {
     "name": "stdout",
     "output_type": "stream",
     "text": [
      "{'key1': 1, 'key2': 4, 'key3': 4334, 'key4': 9239}\n"
     ]
    }
   ],
   "source": [
    "d1 = {'key1': 1, 'key2': 4}\n",
    "d2 = {'key3': 4334, 'key4': 9239}\n",
    "d3 = {**d1, **d2}\n",
    "print(d3)"
   ]
  },
  {
   "cell_type": "markdown",
   "metadata": {},
   "source": [
    "## タプルのアンパッキング\n",
    "関数から複数の値を返したいときに使える"
   ]
  },
  {
   "cell_type": "code",
   "execution_count": 37,
   "metadata": {},
   "outputs": [],
   "source": [
    "def func(a,b):\n",
    "    return a*10, b*2\n",
    "\n",
    "\n",
    "r = func(10,20)\n",
    "# タプルで値が返ってくる\n",
    "r\n",
    "# それぞれ受け取るときはこのように書く\n",
    "x, y = func(10,20)\n",
    "\n"
   ]
  },
  {
   "cell_type": "markdown",
   "metadata": {},
   "source": [
    "# immutableとmutable\n",
    "mutableのオブジェクトは参照渡し、imutableのオブジェクトは値渡しのような動作をする。  \n",
    "mutableはList,Dict,Setなど。  \n",
    "imutableはint,string,boolなど。  \n",
    "関数へ引数として渡すときはメモリへの参照が渡される。値ではない。\n"
   ]
  },
  {
   "cell_type": "code",
   "execution_count": 25,
   "metadata": {},
   "outputs": [
    {
     "name": "stdout",
     "output_type": "stream",
     "text": [
      "140175291603312\n",
      "140175291603312\n",
      "140175266931952\n"
     ]
    }
   ],
   "source": [
    "a = 'Hello'\n",
    "print(id(a))\n",
    "\n",
    "b = a\n",
    "print(id(b))\n",
    "b = a + ' world'\n",
    "print(id(b))"
   ]
  },
  {
   "cell_type": "markdown",
   "metadata": {},
   "source": [
    "上記のように、immutableのオブジェクトでも別の変数をそのままを代入する場合は同じアドレスを指す\n"
   ]
  },
  {
   "cell_type": "markdown",
   "metadata": {},
   "source": [
    "# Lambda関数\n",
    "１行でさっとかける関数。名前すらつけない。  \n",
    "エクセルの関数ぐらいの粒度のちょっとした計算したいときによく使う。  \n",
    "lambda関数もオブジェクトなので変数に代入し、変数名(引数)で呼び出せる  \n",
    "\n",
    "書式： lamda 引数：引数に対する処理"
   ]
  },
  {
   "cell_type": "code",
   "execution_count": 10,
   "metadata": {},
   "outputs": [
    {
     "data": {
      "text/plain": [
       "11"
      ]
     },
     "execution_count": 10,
     "metadata": {},
     "output_type": "execute_result"
    }
   ],
   "source": [
    "y = lambda x: x + 1\n",
    "y(10)"
   ]
  },
  {
   "cell_type": "code",
   "execution_count": 20,
   "metadata": {},
   "outputs": [
    {
     "data": {
      "text/plain": [
       "'image1'"
      ]
     },
     "execution_count": 20,
     "metadata": {},
     "output_type": "execute_result"
    }
   ],
   "source": [
    "# パスからファイル名を取得するラムダ関数\n",
    "# get_file_name = lambda s: s.split('/')[-1][:-4]\n",
    "get_file_name = lambda s: s.split('/')[-1].split('.')[0]\n",
    "get_file_name('/home/user/image1.png')"
   ]
  },
  {
   "cell_type": "code",
   "execution_count": 22,
   "metadata": {},
   "outputs": [
    {
     "data": {
      "text/plain": [
       "['filename1_0.png', 'filename2_1.png', 'filename3_2.png']"
      ]
     },
     "execution_count": 22,
     "metadata": {},
     "output_type": "execute_result"
    }
   ],
   "source": [
    "# ファイル名にインデックスと拡張子を追加するラムダ関数（長いので例としてはよくない）\n",
    "# リスト内包表記でインデックスと拡張子を追加した後のリストを作成している\n",
    "files = ['filename1', 'filename2', 'filename3']\n",
    "add_index = lambda files,extension='.png': ['{}_{}{}'.format(filename, i, extension) for i, filename in enumerate(files)]\n",
    "add_index(files)"
   ]
  },
  {
   "cell_type": "markdown",
   "metadata": {},
   "source": []
  }
 ],
 "metadata": {
  "kernelspec": {
   "display_name": "Python 3 (ipykernel)",
   "language": "python",
   "name": "python3"
  },
  "language_info": {
   "codemirror_mode": {
    "name": "ipython",
    "version": 3
   },
   "file_extension": ".py",
   "mimetype": "text/x-python",
   "name": "python",
   "nbconvert_exporter": "python",
   "pygments_lexer": "ipython3",
   "version": "3.9.12"
  }
 },
 "nbformat": 4,
 "nbformat_minor": 4
}
