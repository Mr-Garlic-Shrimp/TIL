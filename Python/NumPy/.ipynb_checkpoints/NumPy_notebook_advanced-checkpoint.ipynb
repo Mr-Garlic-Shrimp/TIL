{
 "cells": [
  {
   "cell_type": "markdown",
   "id": "398d0ef3-b790-416f-9b65-fe6b330eceb4",
   "metadata": {},
   "source": [
    "# Numpyの応用"
   ]
  },
  {
   "cell_type": "markdown",
   "id": "cef6ebd3-6949-46f7-8833-1dd19417a9a3",
   "metadata": {},
   "source": [
    "## ○行列計算の復習"
   ]
  },
  {
   "cell_type": "code",
   "execution_count": 129,
   "id": "522a6b1f-c5a9-47ad-afc1-fba984363e0d",
   "metadata": {},
   "outputs": [],
   "source": [
    "import numpy as np\n",
    "import matplotlib.pyplot as plt\n",
    "%matplotlib inline"
   ]
  },
  {
   "cell_type": "markdown",
   "id": "36b92e87-6422-47f0-861f-08e92c1ad01d",
   "metadata": {},
   "source": [
    "### - 内積"
   ]
  },
  {
   "cell_type": "code",
   "execution_count": 196,
   "id": "fe718d1a-2665-4524-bc22-8119afdcd1c6",
   "metadata": {},
   "outputs": [],
   "source": [
    "a = np.arange(1, 5).reshape(2, 2)\n",
    "b = np.arange(5, 9).reshape(2, 2)\n",
    "c = np.arange(9, 11).reshape(2, 1)\n",
    "d = np.arange(5, 11).reshape(2, 3)"
   ]
  },
  {
   "cell_type": "code",
   "execution_count": 147,
   "id": "98db665a-c01f-4cf8-84a2-ae90851e75be",
   "metadata": {},
   "outputs": [
    {
     "data": {
      "text/plain": [
       "array([[1, 2],\n",
       "       [3, 4]])"
      ]
     },
     "execution_count": 147,
     "metadata": {},
     "output_type": "execute_result"
    }
   ],
   "source": [
    "a"
   ]
  },
  {
   "cell_type": "code",
   "execution_count": 148,
   "id": "4473f970-6f51-4ac3-ad12-872dc611f663",
   "metadata": {},
   "outputs": [
    {
     "data": {
      "text/plain": [
       "array([[5, 6],\n",
       "       [7, 8]])"
      ]
     },
     "execution_count": 148,
     "metadata": {},
     "output_type": "execute_result"
    }
   ],
   "source": [
    "b"
   ]
  },
  {
   "cell_type": "code",
   "execution_count": 172,
   "id": "93735eb5-72b9-4aa9-8ee1-4211bf81f68d",
   "metadata": {},
   "outputs": [
    {
     "data": {
      "text/plain": [
       "array([[ 9],\n",
       "       [10]])"
      ]
     },
     "execution_count": 172,
     "metadata": {},
     "output_type": "execute_result"
    }
   ],
   "source": [
    "# 列ベクトル。行列と計算するときはベクトルは一般に列ベクトルで表わす。\n",
    "c"
   ]
  },
  {
   "cell_type": "code",
   "execution_count": 173,
   "id": "716c5a10-2a27-4128-8534-137bd7cec53c",
   "metadata": {},
   "outputs": [
    {
     "data": {
      "text/plain": [
       "array([[19, 22],\n",
       "       [43, 50]])"
      ]
     },
     "execution_count": 173,
     "metadata": {},
     "output_type": "execute_result"
    }
   ],
   "source": [
    "# 行列の積（内積）。a * bはそれぞれの要素の積になってしまうので注意。\n",
    "# m × n行列とn × l行列の積は m x l行列になる。左の行列の列数と右の行列の行数が同じでないと計算できない。\n",
    "np.dot(a, b)"
   ]
  },
  {
   "cell_type": "code",
   "execution_count": 199,
   "id": "bf4413cd-69c3-4c1b-b2d2-f788898880d4",
   "metadata": {},
   "outputs": [
    {
     "data": {
      "text/plain": [
       "array([[21, 24, 27],\n",
       "       [47, 54, 61]])"
      ]
     },
     "execution_count": 199,
     "metadata": {},
     "output_type": "execute_result"
    }
   ],
   "source": [
    "# 2 x 2行列と2 x3行列の積は 2 x 3行列になる。\n",
    "np.dot(a, d)"
   ]
  },
  {
   "cell_type": "code",
   "execution_count": null,
   "id": "323671aa-d397-4a34-b2ae-75d9587d825e",
   "metadata": {},
   "outputs": [],
   "source": []
  },
  {
   "cell_type": "code",
   "execution_count": 162,
   "id": "a3034885-6692-4343-b625-61a14dac7fae",
   "metadata": {},
   "outputs": [
    {
     "data": {
      "text/plain": [
       "array([[23, 34],\n",
       "       [31, 46]])"
      ]
     },
     "execution_count": 162,
     "metadata": {},
     "output_type": "execute_result"
    }
   ],
   "source": [
    "# 書ける順番が違うと結果が変わる\n",
    "np.dot(b, a)"
   ]
  },
  {
   "cell_type": "code",
   "execution_count": 174,
   "id": "9a2e78bb-42c2-45c2-bff4-ba30bbe3f7fd",
   "metadata": {},
   "outputs": [
    {
     "data": {
      "text/plain": [
       "array([[29],\n",
       "       [67]])"
      ]
     },
     "execution_count": 174,
     "metadata": {},
     "output_type": "execute_result"
    }
   ],
   "source": [
    "# 行列とベクトルの内積。行列の列数とベクトルの行数が同じ必要がある。\n",
    "ac = np.dot(a, c)\n",
    "ac"
   ]
  },
  {
   "cell_type": "code",
   "execution_count": 160,
   "id": "a8f01ddf-c6d4-48c7-bc8e-39d4a3a87d56",
   "metadata": {},
   "outputs": [
    {
     "ename": "ValueError",
     "evalue": "shapes (2,1) and (2,2) not aligned: 1 (dim 1) != 2 (dim 0)",
     "output_type": "error",
     "traceback": [
      "\u001b[0;31m---------------------------------------------------------------------------\u001b[0m",
      "\u001b[0;31mValueError\u001b[0m                                Traceback (most recent call last)",
      "Input \u001b[0;32mIn [160]\u001b[0m, in \u001b[0;36m<cell line: 2>\u001b[0;34m()\u001b[0m\n\u001b[1;32m      1\u001b[0m \u001b[38;5;66;03m# 逆にした場合はベクトルの列数と行列の行数が違うのでエラーとなる。\u001b[39;00m\n\u001b[0;32m----> 2\u001b[0m \u001b[43mnp\u001b[49m\u001b[38;5;241;43m.\u001b[39;49m\u001b[43mdot\u001b[49m\u001b[43m(\u001b[49m\u001b[43mc\u001b[49m\u001b[43m,\u001b[49m\u001b[43m \u001b[49m\u001b[43ma\u001b[49m\u001b[43m)\u001b[49m\n",
      "File \u001b[0;32m<__array_function__ internals>:5\u001b[0m, in \u001b[0;36mdot\u001b[0;34m(*args, **kwargs)\u001b[0m\n",
      "\u001b[0;31mValueError\u001b[0m: shapes (2,1) and (2,2) not aligned: 1 (dim 1) != 2 (dim 0)"
     ]
    }
   ],
   "source": [
    "# 逆にした場合はベクトルの列数と行列の行数が違うのでエラーとなる。\n",
    "np.dot(c, a)"
   ]
  },
  {
   "cell_type": "markdown",
   "id": "9ca54787-331f-4ffd-a994-0f0d9f66dc71",
   "metadata": {},
   "source": [
    "### - 転置の性質"
   ]
  },
  {
   "cell_type": "code",
   "execution_count": 164,
   "id": "e63bdbac-3407-4ce1-b1e0-393f7f9b8be5",
   "metadata": {},
   "outputs": [
    {
     "data": {
      "text/plain": [
       "array([[1, 3],\n",
       "       [2, 4]])"
      ]
     },
     "execution_count": 164,
     "metadata": {},
     "output_type": "execute_result"
    }
   ],
   "source": [
    "# 転置行列：行と列を入れ替える\n",
    "a.T"
   ]
  },
  {
   "cell_type": "code",
   "execution_count": 175,
   "id": "5c42f6b2-e9db-433c-a9e9-d1f39efe8c9d",
   "metadata": {},
   "outputs": [
    {
     "data": {
      "text/plain": [
       "array([[29, 67]])"
      ]
     },
     "execution_count": 175,
     "metadata": {},
     "output_type": "execute_result"
    }
   ],
   "source": [
    "ac_t = np.dot(a,c).T\n",
    "ac_t"
   ]
  },
  {
   "cell_type": "code",
   "execution_count": 169,
   "id": "58f22a13-7feb-41ea-9244-82bee3f518f5",
   "metadata": {},
   "outputs": [
    {
     "data": {
      "text/plain": [
       "array([[29, 67]])"
      ]
     },
     "execution_count": 169,
     "metadata": {},
     "output_type": "execute_result"
    }
   ],
   "source": [
    "np.dot(c.T, a.T)"
   ]
  },
  {
   "cell_type": "markdown",
   "id": "deb40a4d-7acc-4045-b2d0-db56661b9458",
   "metadata": {},
   "source": [
    "$(ac)^T=c^Ta^T$となる。  \n",
    "また、$(ac)^T(ac)$はベクトル$ac$の長さ（ノルム）になるので、これは2乗和の計算に使える。"
   ]
  },
  {
   "cell_type": "code",
   "execution_count": 176,
   "id": "9a832e7c-570f-4f65-9976-298dd7f49693",
   "metadata": {},
   "outputs": [
    {
     "data": {
      "text/plain": [
       "array([[5330]])"
      ]
     },
     "execution_count": 176,
     "metadata": {},
     "output_type": "execute_result"
    }
   ],
   "source": [
    "# 29^2 + 67^2\n",
    "np.dot(ac_t, ac)"
   ]
  },
  {
   "cell_type": "code",
   "execution_count": 186,
   "id": "5f4bcf03-889e-480a-a704-dfdb72bfc11b",
   "metadata": {},
   "outputs": [
    {
     "data": {
      "text/plain": [
       "array([[1., 0.],\n",
       "       [0., 1.]])"
      ]
     },
     "execution_count": 186,
     "metadata": {},
     "output_type": "execute_result"
    }
   ],
   "source": [
    "# 単位行列：対角要素がすべて1、それ以外が全て０の行列。Iで表わす。3*3の単位行列を生成。\n",
    "I = np.eye(2)\n",
    "I"
   ]
  },
  {
   "cell_type": "code",
   "execution_count": 187,
   "id": "63824b77-94cc-4667-97e7-d98f50e91e16",
   "metadata": {},
   "outputs": [
    {
     "data": {
      "text/plain": [
       "array([[1., 2.],\n",
       "       [3., 4.]])"
      ]
     },
     "execution_count": 187,
     "metadata": {},
     "output_type": "execute_result"
    }
   ],
   "source": [
    "# 単位行列と任意の行列の内積は任意の行列のまま。\n",
    "np.dot(a, I)"
   ]
  },
  {
   "cell_type": "markdown",
   "id": "91a5953f-d7af-4148-b375-9b1a7754bac3",
   "metadata": {},
   "source": [
    "### - 逆行列\n",
    "正方行列$A$において、$AA^{-1}=A^{-1}A=I$が成り立つような$A^{-1}$を逆行列という。  \n",
    "参考：https://deepage.net/features/numpy-inv.html"
   ]
  },
  {
   "cell_type": "code",
   "execution_count": 191,
   "id": "d523c90b-7a61-4530-8ce2-016f0b06eec1",
   "metadata": {},
   "outputs": [
    {
     "data": {
      "text/plain": [
       "array([[1, 2],\n",
       "       [3, 4]])"
      ]
     },
     "execution_count": 191,
     "metadata": {},
     "output_type": "execute_result"
    }
   ],
   "source": [
    "A = np.arange(1, 5).reshape(2,2)\n",
    "A"
   ]
  },
  {
   "cell_type": "code",
   "execution_count": 193,
   "id": "369b83ad-c651-4230-9cd3-78dc102a501f",
   "metadata": {},
   "outputs": [],
   "source": [
    "# 逆行列は numpy.linalg.inv(A)で算出できる。\n",
    "A_inv = np.linalg.inv(A)"
   ]
  },
  {
   "cell_type": "code",
   "execution_count": 195,
   "id": "86a0ac16-f6c5-4feb-845a-ef8518688cf8",
   "metadata": {},
   "outputs": [
    {
     "data": {
      "text/plain": [
       "array([[1.00000000e+00, 1.11022302e-16],\n",
       "       [0.00000000e+00, 1.00000000e+00]])"
      ]
     },
     "execution_count": 195,
     "metadata": {},
     "output_type": "execute_result"
    }
   ],
   "source": [
    "# 微妙に0じゃない・・・　\n",
    "np.dot(A, A_inv)"
   ]
  },
  {
   "cell_type": "markdown",
   "id": "fa217788-359b-422e-821d-5bcba3db4ca3",
   "metadata": {},
   "source": [
    "## ○ 配列の結合"
   ]
  },
  {
   "cell_type": "code",
   "execution_count": 3,
   "id": "ae509822-5049-4700-91a8-fb7b974d7dc0",
   "metadata": {},
   "outputs": [],
   "source": [
    "# 配列の結合。行数が違くても列数が同じであれば結合可能。\n",
    "a = np.arange(1, 10)\n",
    "a = a.reshape(3, 3)\n",
    "b = np.arange(1, 13)\n",
    "b = b.reshape(4, 3)"
   ]
  },
  {
   "cell_type": "code",
   "execution_count": 4,
   "id": "eaad972e-ad4f-47e1-b80f-9b1833af4630",
   "metadata": {},
   "outputs": [
    {
     "data": {
      "text/plain": [
       "array([[1, 2, 3],\n",
       "       [4, 5, 6],\n",
       "       [7, 8, 9]])"
      ]
     },
     "execution_count": 4,
     "metadata": {},
     "output_type": "execute_result"
    }
   ],
   "source": [
    "a"
   ]
  },
  {
   "cell_type": "code",
   "execution_count": 5,
   "id": "09c733d8-7460-45a0-8b8a-1df93d29e2a6",
   "metadata": {},
   "outputs": [
    {
     "data": {
      "text/plain": [
       "array([[ 1,  2,  3],\n",
       "       [ 4,  5,  6],\n",
       "       [ 7,  8,  9],\n",
       "       [10, 11, 12]])"
      ]
     },
     "execution_count": 5,
     "metadata": {},
     "output_type": "execute_result"
    }
   ],
   "source": [
    "b"
   ]
  },
  {
   "cell_type": "code",
   "execution_count": 6,
   "id": "dbd6d91e-1927-497b-8236-a0a520aba75b",
   "metadata": {},
   "outputs": [
    {
     "data": {
      "text/plain": [
       "array([[ 1,  2,  3],\n",
       "       [ 4,  5,  6],\n",
       "       [ 7,  8,  9],\n",
       "       [ 1,  2,  3],\n",
       "       [ 4,  5,  6],\n",
       "       [ 7,  8,  9],\n",
       "       [10, 11, 12]])"
      ]
     },
     "execution_count": 6,
     "metadata": {},
     "output_type": "execute_result"
    }
   ],
   "source": [
    "np.concatenate([a, b])"
   ]
  },
  {
   "cell_type": "markdown",
   "id": "19407aca-a143-424f-aada-9cbdff79d0e1",
   "metadata": {},
   "source": [
    "## ○ 内積の計算"
   ]
  },
  {
   "cell_type": "code",
   "execution_count": 9,
   "id": "5302f51e-0ca2-4315-9559-b272eeec3704",
   "metadata": {},
   "outputs": [],
   "source": [
    "a = np.array([[1, 2]])\n",
    "b = np.array([[3, 4]])"
   ]
  },
  {
   "cell_type": "code",
   "execution_count": 8,
   "id": "ad621312-4fc2-4fa4-9085-5d0d8abace49",
   "metadata": {},
   "outputs": [
    {
     "data": {
      "text/plain": [
       "array([[1, 2]])"
      ]
     },
     "execution_count": 8,
     "metadata": {},
     "output_type": "execute_result"
    }
   ],
   "source": [
    "a"
   ]
  },
  {
   "cell_type": "code",
   "execution_count": 13,
   "id": "9b3543e6-aee5-42cd-ad1a-e26c2c5262fe",
   "metadata": {},
   "outputs": [
    {
     "data": {
      "text/plain": [
       "array([[3, 4]])"
      ]
     },
     "execution_count": 13,
     "metadata": {},
     "output_type": "execute_result"
    }
   ],
   "source": [
    "b"
   ]
  },
  {
   "cell_type": "code",
   "execution_count": 20,
   "id": "c0d318f8-7c49-4e11-abe0-eca2a7a82705",
   "metadata": {},
   "outputs": [
    {
     "ename": "ValueError",
     "evalue": "shapes (1,2) and (1,2) not aligned: 2 (dim 1) != 1 (dim 0)",
     "output_type": "error",
     "traceback": [
      "\u001b[0;31m---------------------------------------------------------------------------\u001b[0m",
      "\u001b[0;31mValueError\u001b[0m                                Traceback (most recent call last)",
      "Input \u001b[0;32mIn [20]\u001b[0m, in \u001b[0;36m<cell line: 2>\u001b[0;34m()\u001b[0m\n\u001b[1;32m      1\u001b[0m \u001b[38;5;66;03m# no.dotで内積を計算\u001b[39;00m\n\u001b[0;32m----> 2\u001b[0m \u001b[43mnp\u001b[49m\u001b[38;5;241;43m.\u001b[39;49m\u001b[43mdot\u001b[49m\u001b[43m(\u001b[49m\u001b[43ma\u001b[49m\u001b[43m,\u001b[49m\u001b[43m \u001b[49m\u001b[43mb\u001b[49m\u001b[43m)\u001b[49m\n",
      "File \u001b[0;32m<__array_function__ internals>:5\u001b[0m, in \u001b[0;36mdot\u001b[0;34m(*args, **kwargs)\u001b[0m\n",
      "\u001b[0;31mValueError\u001b[0m: shapes (1,2) and (1,2) not aligned: 2 (dim 1) != 1 (dim 0)"
     ]
    }
   ],
   "source": [
    "# no.dotで内積を計算\n",
    "np.dot(a, b)"
   ]
  },
  {
   "cell_type": "markdown",
   "id": "ecfc7e34-f6ca-4c9e-a1af-bbad8d419ab8",
   "metadata": {},
   "source": [
    "行列を計算するには、1つ目の行列のシェイプが(i, j)で、2つ目の行列が (j, i)のようなシェイプになっていないと出来ない。  \n",
    "よって、上記の場合は2つ目の行列を転置して内積を計算すればよい。"
   ]
  },
  {
   "cell_type": "code",
   "execution_count": 16,
   "id": "b68112d2-a92b-4b67-85d6-bf68c86df004",
   "metadata": {},
   "outputs": [
    {
     "data": {
      "text/plain": [
       "array([[3],\n",
       "       [4]])"
      ]
     },
     "execution_count": 16,
     "metadata": {},
     "output_type": "execute_result"
    }
   ],
   "source": [
    "b.T"
   ]
  },
  {
   "cell_type": "code",
   "execution_count": 17,
   "id": "f80799ee-96cc-450c-addf-a125b832a117",
   "metadata": {},
   "outputs": [
    {
     "data": {
      "text/plain": [
       "(2, 1)"
      ]
     },
     "execution_count": 17,
     "metadata": {},
     "output_type": "execute_result"
    }
   ],
   "source": [
    "b.T.shape"
   ]
  },
  {
   "cell_type": "code",
   "execution_count": 19,
   "id": "1adc42ff-6828-4672-a1ac-05a4a71a694c",
   "metadata": {},
   "outputs": [
    {
     "data": {
      "text/plain": [
       "array([[11]])"
      ]
     },
     "execution_count": 19,
     "metadata": {},
     "output_type": "execute_result"
    }
   ],
   "source": [
    "np.dot(a, b.T)"
   ]
  },
  {
   "cell_type": "markdown",
   "id": "ef6dd03a-d486-4020-b411-f155104c83b1",
   "metadata": {},
   "source": [
    "## ○3次元プロット用のデータを作る"
   ]
  },
  {
   "cell_type": "code",
   "execution_count": 74,
   "id": "02c7be96-43b9-438a-9a21-501aa76637a5",
   "metadata": {},
   "outputs": [
    {
     "ename": "TypeError",
     "evalue": "missing a required argument: 'X'",
     "output_type": "error",
     "traceback": [
      "\u001b[0;31m---------------------------------------------------------------------------\u001b[0m",
      "\u001b[0;31mTypeError\u001b[0m                                 Traceback (most recent call last)",
      "Input \u001b[0;32mIn [74]\u001b[0m, in \u001b[0;36m<cell line: 4>\u001b[0;34m()\u001b[0m\n\u001b[1;32m      1\u001b[0m \u001b[38;5;66;03m# 3次元のプロットエリアを生成\u001b[39;00m\n\u001b[1;32m      2\u001b[0m \u001b[38;5;66;03m# plt.axesは軸を表すオブジェクトを生成している。\u001b[39;00m\n\u001b[1;32m      3\u001b[0m ax \u001b[38;5;241m=\u001b[39m plt\u001b[38;5;241m.\u001b[39maxes(projection\u001b[38;5;241m=\u001b[39m\u001b[38;5;124m'\u001b[39m\u001b[38;5;124m3d\u001b[39m\u001b[38;5;124m'\u001b[39m)\n\u001b[0;32m----> 4\u001b[0m \u001b[43max\u001b[49m\u001b[38;5;241;43m.\u001b[39;49m\u001b[43mplot_surface\u001b[49m\u001b[43m(\u001b[49m\u001b[43m)\u001b[49m\n",
      "File \u001b[0;32m/opt/anaconda3/lib/python3.9/site-packages/matplotlib/_api/deprecation.py:387\u001b[0m, in \u001b[0;36mdelete_parameter.<locals>.wrapper\u001b[0;34m(*inner_args, **inner_kwargs)\u001b[0m\n\u001b[1;32m    383\u001b[0m \u001b[38;5;28;01mif\u001b[39;00m \u001b[38;5;28mlen\u001b[39m(inner_args) \u001b[38;5;241m<\u001b[39m\u001b[38;5;241m=\u001b[39m name_idx \u001b[38;5;129;01mand\u001b[39;00m name \u001b[38;5;129;01mnot\u001b[39;00m \u001b[38;5;129;01min\u001b[39;00m inner_kwargs:\n\u001b[1;32m    384\u001b[0m     \u001b[38;5;66;03m# Early return in the simple, non-deprecated case (much faster than\u001b[39;00m\n\u001b[1;32m    385\u001b[0m     \u001b[38;5;66;03m# calling bind()).\u001b[39;00m\n\u001b[1;32m    386\u001b[0m     \u001b[38;5;28;01mreturn\u001b[39;00m func(\u001b[38;5;241m*\u001b[39minner_args, \u001b[38;5;241m*\u001b[39m\u001b[38;5;241m*\u001b[39minner_kwargs)\n\u001b[0;32m--> 387\u001b[0m arguments \u001b[38;5;241m=\u001b[39m \u001b[43msignature\u001b[49m\u001b[38;5;241;43m.\u001b[39;49m\u001b[43mbind\u001b[49m\u001b[43m(\u001b[49m\u001b[38;5;241;43m*\u001b[39;49m\u001b[43minner_args\u001b[49m\u001b[43m,\u001b[49m\u001b[43m \u001b[49m\u001b[38;5;241;43m*\u001b[39;49m\u001b[38;5;241;43m*\u001b[39;49m\u001b[43minner_kwargs\u001b[49m\u001b[43m)\u001b[49m\u001b[38;5;241m.\u001b[39marguments\n\u001b[1;32m    388\u001b[0m \u001b[38;5;28;01mif\u001b[39;00m is_varargs \u001b[38;5;129;01mand\u001b[39;00m arguments\u001b[38;5;241m.\u001b[39mget(name):\n\u001b[1;32m    389\u001b[0m     warn_deprecated(\n\u001b[1;32m    390\u001b[0m         since, message\u001b[38;5;241m=\u001b[39m\u001b[38;5;124mf\u001b[39m\u001b[38;5;124m\"\u001b[39m\u001b[38;5;124mAdditional positional arguments to \u001b[39m\u001b[38;5;124m\"\u001b[39m\n\u001b[1;32m    391\u001b[0m         \u001b[38;5;124mf\u001b[39m\u001b[38;5;124m\"\u001b[39m\u001b[38;5;132;01m{\u001b[39;00mfunc\u001b[38;5;241m.\u001b[39m\u001b[38;5;18m__name__\u001b[39m\u001b[38;5;132;01m}\u001b[39;00m\u001b[38;5;124m() are deprecated since %(since)s and \u001b[39m\u001b[38;5;124m\"\u001b[39m\n\u001b[1;32m    392\u001b[0m         \u001b[38;5;124mf\u001b[39m\u001b[38;5;124m\"\u001b[39m\u001b[38;5;124msupport for them will be removed %(removal)s.\u001b[39m\u001b[38;5;124m\"\u001b[39m)\n",
      "File \u001b[0;32m/opt/anaconda3/lib/python3.9/inspect.py:3045\u001b[0m, in \u001b[0;36mSignature.bind\u001b[0;34m(self, *args, **kwargs)\u001b[0m\n\u001b[1;32m   3040\u001b[0m \u001b[38;5;28;01mdef\u001b[39;00m \u001b[38;5;21mbind\u001b[39m(\u001b[38;5;28mself\u001b[39m, \u001b[38;5;241m/\u001b[39m, \u001b[38;5;241m*\u001b[39margs, \u001b[38;5;241m*\u001b[39m\u001b[38;5;241m*\u001b[39mkwargs):\n\u001b[1;32m   3041\u001b[0m     \u001b[38;5;124;03m\"\"\"Get a BoundArguments object, that maps the passed `args`\u001b[39;00m\n\u001b[1;32m   3042\u001b[0m \u001b[38;5;124;03m    and `kwargs` to the function's signature.  Raises `TypeError`\u001b[39;00m\n\u001b[1;32m   3043\u001b[0m \u001b[38;5;124;03m    if the passed arguments can not be bound.\u001b[39;00m\n\u001b[1;32m   3044\u001b[0m \u001b[38;5;124;03m    \"\"\"\u001b[39;00m\n\u001b[0;32m-> 3045\u001b[0m     \u001b[38;5;28;01mreturn\u001b[39;00m \u001b[38;5;28;43mself\u001b[39;49m\u001b[38;5;241;43m.\u001b[39;49m\u001b[43m_bind\u001b[49m\u001b[43m(\u001b[49m\u001b[43margs\u001b[49m\u001b[43m,\u001b[49m\u001b[43m \u001b[49m\u001b[43mkwargs\u001b[49m\u001b[43m)\u001b[49m\n",
      "File \u001b[0;32m/opt/anaconda3/lib/python3.9/inspect.py:2960\u001b[0m, in \u001b[0;36mSignature._bind\u001b[0;34m(self, args, kwargs, partial)\u001b[0m\n\u001b[1;32m   2958\u001b[0m                 msg \u001b[38;5;241m=\u001b[39m \u001b[38;5;124m'\u001b[39m\u001b[38;5;124mmissing a required argument: \u001b[39m\u001b[38;5;132;01m{arg!r}\u001b[39;00m\u001b[38;5;124m'\u001b[39m\n\u001b[1;32m   2959\u001b[0m                 msg \u001b[38;5;241m=\u001b[39m msg\u001b[38;5;241m.\u001b[39mformat(arg\u001b[38;5;241m=\u001b[39mparam\u001b[38;5;241m.\u001b[39mname)\n\u001b[0;32m-> 2960\u001b[0m                 \u001b[38;5;28;01mraise\u001b[39;00m \u001b[38;5;167;01mTypeError\u001b[39;00m(msg) \u001b[38;5;28;01mfrom\u001b[39;00m \u001b[38;5;28mNone\u001b[39m\n\u001b[1;32m   2961\u001b[0m \u001b[38;5;28;01melse\u001b[39;00m:\n\u001b[1;32m   2962\u001b[0m     \u001b[38;5;66;03m# We have a positional argument to process\u001b[39;00m\n\u001b[1;32m   2963\u001b[0m     \u001b[38;5;28;01mtry\u001b[39;00m:\n",
      "\u001b[0;31mTypeError\u001b[0m: missing a required argument: 'X'"
     ]
    },
    {
     "data": {
      "image/png": "[encoded data removed]",
      "text/plain": [
       "<Figure size 432x288 with 1 Axes>"
      ]
     },
     "metadata": {
      "needs_background": "light"
     },
     "output_type": "display_data"
    }
   ],
   "source": [
    "# 3次元のプロットエリアを生成\n",
    "# plt.axesは軸を表すオブジェクトを生成している。\n",
    "ax = plt.axes(projection='3d')\n",
    "ax.plot_surface()"
   ]
  },
  {
   "cell_type": "markdown",
   "id": "98b05d73-ee3b-4ca2-a989-ef4b6172fbd8",
   "metadata": {},
   "source": [
    "plot_surface(X,Y,Z)のX,Y,Zには2次元の配列を入れる必要がある。  \n",
    "Zが縦軸（Z=f(X,Y)になる）ので、もちろんX,Y,Zはそれぞれ要素数が同じ2次元配列とする。"
   ]
  },
  {
   "cell_type": "code",
   "execution_count": 67,
   "id": "331e25f1-48e9-436e-965a-91f791641cd0",
   "metadata": {},
   "outputs": [
    {
     "name": "stdout",
     "output_type": "stream",
     "text": [
      "x=[1. 2. 3. 4.]\n",
      "y=[10. 20. 30. 40.]\n"
     ]
    }
   ],
   "source": [
    "#plot_surface(X,Y,Z)のX,Y,Zには2次元の配列を入れる必要があるのでnumpy arrayで用意する。\n",
    "x = np.linspace(1,4,4)\n",
    "y = np.linspace(10,40,4)\n",
    "print('x={}\\ny={}'.format(x, y))"
   ]
  },
  {
   "cell_type": "code",
   "execution_count": 75,
   "id": "a9d2567d-8f8e-454b-b20b-210883412af4",
   "metadata": {},
   "outputs": [
    {
     "data": {
      "text/plain": [
       "[array([[1., 2., 3., 4.],\n",
       "        [1., 2., 3., 4.],\n",
       "        [1., 2., 3., 4.],\n",
       "        [1., 2., 3., 4.]]),\n",
       " array([[10., 10., 10., 10.],\n",
       "        [20., 20., 20., 20.],\n",
       "        [30., 30., 30., 30.],\n",
       "        [40., 40., 40., 40.]])]"
      ]
     },
     "execution_count": 75,
     "metadata": {},
     "output_type": "execute_result"
    }
   ],
   "source": [
    "# 1次元配列X,Yを行方向、列方向にブロードキャストした行列が欲しいときは、np.meshgridを使う。\n",
    "# arrayのリストが返ってくる。これでx,y座標の値の全組み合わせ（格子座標）が得られる。\n",
    "# 詳細：https://deepage.net/features/numpy-meshgrid.html\n",
    "np.meshgrid(x, y)"
   ]
  },
  {
   "cell_type": "code",
   "execution_count": 71,
   "id": "fddc2896-f100-485e-8208-f84c969e1c7b",
   "metadata": {},
   "outputs": [],
   "source": [
    "# listもアンパッキングできる。これでX,Yができた。\n",
    "X, Y = np.meshgrid(x, y)"
   ]
  },
  {
   "cell_type": "code",
   "execution_count": 72,
   "id": "6c003bc7-fb33-465d-a6d2-481eb3a08ebc",
   "metadata": {},
   "outputs": [
    {
     "data": {
      "text/plain": [
       "array([[1., 2., 3., 4.],\n",
       "       [1., 2., 3., 4.],\n",
       "       [1., 2., 3., 4.],\n",
       "       [1., 2., 3., 4.]])"
      ]
     },
     "execution_count": 72,
     "metadata": {},
     "output_type": "execute_result"
    }
   ],
   "source": [
    "X"
   ]
  },
  {
   "cell_type": "code",
   "execution_count": 73,
   "id": "2940b62a-154d-4579-96da-443018bf6877",
   "metadata": {},
   "outputs": [
    {
     "data": {
      "text/plain": [
       "array([[10., 10., 10., 10.],\n",
       "       [20., 20., 20., 20.],\n",
       "       [30., 30., 30., 30.],\n",
       "       [40., 40., 40., 40.]])"
      ]
     },
     "execution_count": 73,
     "metadata": {},
     "output_type": "execute_result"
    }
   ],
   "source": [
    "Y"
   ]
  },
  {
   "cell_type": "code",
   "execution_count": 79,
   "id": "4562d110-da02-4f7b-bc2a-6bb41dddce6d",
   "metadata": {},
   "outputs": [
    {
     "data": {
      "text/plain": [
       "array([[ 10.,  20.,  30.,  40.],\n",
       "       [ 20.,  40.,  60.,  80.],\n",
       "       [ 30.,  60.,  90., 120.],\n",
       "       [ 40.,  80., 120., 160.]])"
      ]
     },
     "execution_count": 79,
     "metadata": {},
     "output_type": "execute_result"
    }
   ],
   "source": [
    "# Zは(x,y)=(1,10),(2,10),(3,10),(4,10),(1,20)...のような総当たりの掛け算の結果とする。\n",
    "Z = X * Y\n",
    "Z"
   ]
  },
  {
   "cell_type": "code",
   "execution_count": 81,
   "id": "3b64ba04-6c63-47d9-b4ee-872b0a2da51b",
   "metadata": {},
   "outputs": [
    {
     "data": {
      "text/plain": [
       "<mpl_toolkits.mplot3d.art3d.Poly3DCollection at 0x7f12a2bea730>"
      ]
     },
     "execution_count": 81,
     "metadata": {},
     "output_type": "execute_result"
    },
    {
     "data": {
      "image/png": "[encoded data removed]",
      "text/plain": [
       "<Figure size 432x288 with 1 Axes>"
      ]
     },
     "metadata": {
      "needs_background": "light"
     },
     "output_type": "display_data"
    }
   ],
   "source": [
    "ax = plt.axes(projection='3d')\n",
    "ax.plot_surface(X=X,Y=Y,Z=Z)"
   ]
  },
  {
   "cell_type": "code",
   "execution_count": 96,
   "id": "7b69b8b4-d923-4a74-b387-ce0488d4ae01",
   "metadata": {},
   "outputs": [
    {
     "data": {
      "text/plain": [
       "[(10.0, 1.0),\n",
       " (10.0, 2.0),\n",
       " (10.0, 3.0),\n",
       " (10.0, 4.0),\n",
       " (20.0, 1.0),\n",
       " (20.0, 2.0),\n",
       " (20.0, 3.0),\n",
       " (20.0, 4.0),\n",
       " (30.0, 1.0),\n",
       " (30.0, 2.0),\n",
       " (30.0, 3.0),\n",
       " (30.0, 4.0),\n",
       " (40.0, 1.0),\n",
       " (40.0, 2.0),\n",
       " (40.0, 3.0),\n",
       " (40.0, 4.0)]"
      ]
     },
     "execution_count": 96,
     "metadata": {},
     "output_type": "execute_result"
    }
   ],
   "source": [
    "# Zを1次元配列x,yから算出したい場合\n",
    "# iterator用のメソッドを読み込む\n",
    "from itertools import product\n",
    "# product(x, y)はx,yの要素の組み合わせを繰り返すiterator\n",
    "# 後々の演算を考えてx,yの順番は注意すること！\n",
    "list((product(y, x)))"
   ]
  },
  {
   "cell_type": "code",
   "execution_count": 97,
   "id": "9387d223-f4d9-4a16-ba27-a08254c0bd5e",
   "metadata": {},
   "outputs": [
    {
     "data": {
      "text/plain": [
       "array([ 10.,  20.,  30.,  40.,  20.,  40.,  60.,  80.,  30.,  60.,  90.,\n",
       "       120.,  40.,  80., 120., 160.])"
      ]
     },
     "execution_count": 97,
     "metadata": {},
     "output_type": "execute_result"
    }
   ],
   "source": [
    "# それぞれ掛け合わせた一次元配列zを作る\n",
    "z = np.array([x * y for x, y in product(x,y)])\n",
    "z"
   ]
  },
  {
   "cell_type": "code",
   "execution_count": 99,
   "id": "6d61382c-1dab-49f8-add5-061f203f93c1",
   "metadata": {},
   "outputs": [
    {
     "data": {
      "text/plain": [
       "array([[ 10.,  20.,  30.,  40.],\n",
       "       [ 20.,  40.,  60.,  80.],\n",
       "       [ 30.,  60.,  90., 120.],\n",
       "       [ 40.,  80., 120., 160.]])"
      ]
     },
     "execution_count": 99,
     "metadata": {},
     "output_type": "execute_result"
    }
   ],
   "source": [
    "# reshapeすればZの出来上がり\n",
    "z.reshape(len(y), len(x))"
   ]
  },
  {
   "cell_type": "markdown",
   "id": "06591138-b690-4674-a236-10369537fda4",
   "metadata": {},
   "source": [
    "## ○ Numpy配列における参照渡しとコピー\n",
    "Numpy配列とリストの参照渡しとコピー、つまりメモリの参照の仕方は全く異なる。  \n",
    "大きな違いはNumpy配列は全て深いコピーであること。  \n",
    "参考：https://snowtree-injune.com/2018/07/22/post-622/"
   ]
  },
  {
   "cell_type": "code",
   "execution_count": 114,
   "id": "75fef02b-93ae-4cb3-b2c1-18abdf877c60",
   "metadata": {},
   "outputs": [
    {
     "data": {
      "text/plain": [
       "array([5, 2])"
      ]
     },
     "execution_count": 114,
     "metadata": {},
     "output_type": "execute_result"
    }
   ],
   "source": [
    "# 基本的な参照渡し\n",
    "a = np.array([1, 2])\n",
    "b = a\n",
    "a[0] = 5\n",
    "b"
   ]
  },
  {
   "cell_type": "code",
   "execution_count": 127,
   "id": "71cd245a-0e9c-49af-897a-007b82fdafa9",
   "metadata": {},
   "outputs": [
    {
     "name": "stdout",
     "output_type": "stream",
     "text": [
      "[1 2] 139718014385296\n",
      "[21  2] 139718014385296\n",
      "[21  2] 139718014385296\n"
     ]
    }
   ],
   "source": [
    "# 関数の場合の参照渡し\n",
    "def test(x):\n",
    "    y = x \n",
    "    y[0] += 10\n",
    "    return y\n",
    "\n",
    "a = np.array([1, 2])\n",
    "print(a, id(a))\n",
    "print(test(a), id(test(a)))\n",
    "print(a, id(a))"
   ]
  },
  {
   "cell_type": "code",
   "execution_count": 128,
   "id": "f6368906-006d-4f74-9f76-d3c30f7585ca",
   "metadata": {},
   "outputs": [
    {
     "name": "stdout",
     "output_type": "stream",
     "text": [
      "[1 2] [11  2]\n",
      "[1 2] 139718014385392\n",
      "[11  2] 139718014384912\n",
      "[1 2] 139718014385392\n"
     ]
    }
   ],
   "source": [
    "# 参照渡しを防ぎたいときは .copy()メソッドを使う。\n",
    "def test(x):\n",
    "    y = x.copy() \n",
    "    y[0] += 10\n",
    "    return y\n",
    "\n",
    "a = np.array([1, 2])\n",
    "print(a, test(a))\n",
    "print(a, id(a))\n",
    "print(test(a), id(test(a)))\n",
    "print(a, id(a))"
   ]
  },
  {
   "cell_type": "code",
   "execution_count": null,
   "id": "2ba62852-3540-4d81-af8f-7033a9efd2df",
   "metadata": {},
   "outputs": [],
   "source": []
  }
 ],
 "metadata": {
  "kernelspec": {
   "display_name": "Python 3 (ipykernel)",
   "language": "python",
   "name": "python3"
  },
  "language_info": {
   "codemirror_mode": {
    "name": "ipython",
    "version": 3
   },
   "file_extension": ".py",
   "mimetype": "text/x-python",
   "name": "python",
   "nbconvert_exporter": "python",
   "pygments_lexer": "ipython3",
   "version": "3.9.12"
  }
 },
 "nbformat": 4,
 "nbformat_minor": 5
}
