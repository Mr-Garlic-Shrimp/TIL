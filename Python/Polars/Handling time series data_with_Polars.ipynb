{
 "cells": [
  {
   "attachments": {},
   "cell_type": "markdown",
   "metadata": {},
   "source": [
    "# Polarsによる時系列データの取り扱い\n",
    "面倒な時系列データをPolarsで取り扱う方法をメモしておく。  "
   ]
  },
  {
   "cell_type": "code",
   "execution_count": 124,
   "metadata": {
    "vscode": {
     "languageId": "python"
    }
   },
   "outputs": [],
   "source": [
    "import polars as pl\n",
    "import pandas as pd\n",
    "import seaborn as sns\n",
    "import numpy as np\n",
    "import datetime\n",
    "import os\n",
    "import math\n",
    "import pyarrow as pa\n",
    "import pyarrow.parquet as pq\n",
    "import itertools\n",
    "from pathlib import Path\n",
    "from glob import glob\n",
    "from sklearn.preprocessing import StandardScaler, LabelEncoder\n",
    "\n",
    "%matplotlib inline\n",
    "import matplotlib.pyplot as plt\n",
    "import matplotlib.dates as mdates"
   ]
  },
  {
   "attachments": {},
   "cell_type": "markdown",
   "metadata": {},
   "source": [
    "## 様々な形式で表現された時刻データの読み込み方\n",
    "ログの分析などではナノ秒まで情報が必要な場合があるので、  \n",
    "適宜ナノ秒まで含めて取り扱う。  \n",
    "年月日がいらないケースでも基本的にdatetimeに変換しておくと便利。"
   ]
  },
  {
   "attachments": {},
   "cell_type": "markdown",
   "metadata": {},
   "source": [
    "### - 時刻データが綺麗にフォーマットされている場合"
   ]
  },
  {
   "cell_type": "code",
   "execution_count": 104,
   "metadata": {
    "vscode": {
     "languageId": "python"
    }
   },
   "outputs": [],
   "source": [
    "df = pl.DataFrame({'Time': \n",
    "         ['2020-01-01 00:00:00.123456789',\n",
    "          '2020-01-01 00:00:00.123456790',\n",
    "          '2020-01-01 00:00:00.123456791']\n",
    "        })"
   ]
  },
  {
   "cell_type": "code",
   "execution_count": 105,
   "metadata": {
    "vscode": {
     "languageId": "python"
    }
   },
   "outputs": [
    {
     "data": {
      "text/html": [
       "<div><style>\n",
       ".dataframe > thead > tr > th,\n",
       ".dataframe > tbody > tr > td {\n",
       "  text-align: right;\n",
       "}\n",
       "</style>\n",
       "<small>shape: (3, 1)</small><table border=\"1\" class=\"dataframe\"><thead><tr><th>Time</th></tr><tr><td>str</td></tr></thead><tbody><tr><td>&quot;2020-01-01 00:00:00.123456789&quot;</td></tr><tr><td>&quot;2020-01-01 00:00:00.123456790&quot;</td></tr><tr><td>&quot;2020-01-01 00:00:00.123456791&quot;</td></tr></tbody></table></div>"
      ],
      "text/plain": [
       "shape: (3, 1)\n",
       "┌───────────────────────────────┐\n",
       "│ Time                          │\n",
       "│ ---                           │\n",
       "│ str                           │\n",
       "╞═══════════════════════════════╡\n",
       "│ 2020-01-01 00:00:00.123456789 │\n",
       "│ 2020-01-01 00:00:00.123456790 │\n",
       "│ 2020-01-01 00:00:00.123456791 │\n",
       "└───────────────────────────────┘"
      ]
     },
     "execution_count": 105,
     "metadata": {},
     "output_type": "execute_result"
    }
   ],
   "source": [
    "# カラムの横幅を40文字まで拡張して表示\n",
    "pl.Config.set_fmt_str_lengths(40)\n",
    "df"
   ]
  },
  {
   "attachments": {},
   "cell_type": "markdown",
   "metadata": {},
   "source": [
    "pl.DataFrameのschemaにpl.Datetime(\"ns\")を指定するのはダメそうだったので、  \n",
    "strで一旦読み込む。  \n",
    "カラムの幅が狭くてナノ秒まで見えないときはpl.Config.set_fmt_str_lengths(文字数)  で調整するとよい。  \n",
    "https://pola-rs.github.io/polars/py-polars/html/reference/api/polars.Config.set_fmt_str_lengths.html"
   ]
  },
  {
   "cell_type": "code",
   "execution_count": 106,
   "metadata": {
    "vscode": {
     "languageId": "python"
    }
   },
   "outputs": [
    {
     "data": {
      "text/html": [
       "<div><style>\n",
       ".dataframe > thead > tr > th,\n",
       ".dataframe > tbody > tr > td {\n",
       "  text-align: right;\n",
       "}\n",
       "</style>\n",
       "<small>shape: (3,)</small><table border=\"1\" class=\"dataframe\"><thead><tr><th>Time</th></tr><tr><td>datetime[ns]</td></tr></thead><tbody><tr><td>2020-01-01 00:00:00.123456789</td></tr><tr><td>2020-01-01 00:00:00.123456790</td></tr><tr><td>2020-01-01 00:00:00.123456791</td></tr></tbody></table></div>"
      ],
      "text/plain": [
       "shape: (3,)\n",
       "Series: 'Time' [datetime[ns]]\n",
       "[\n",
       "\t2020-01-01 00:00:00.123456789\n",
       "\t2020-01-01 00:00:00.123456790\n",
       "\t2020-01-01 00:00:00.123456791\n",
       "]"
      ]
     },
     "execution_count": 106,
     "metadata": {},
     "output_type": "execute_result"
    }
   ],
   "source": [
    "df.get_column('Time').str.strptime(pl.Datetime(\"ns\"))"
   ]
  },
  {
   "attachments": {},
   "cell_type": "markdown",
   "metadata": {},
   "source": [
    "ナノ秒まで含めてDatetime型に変換するには上記のように書けばよい。  \n",
    "この場合はstrptimeに特にフォーマットを指定する必要はない。  \n",
    "https://stackoverflow.com/questions/75119895/parse-nanoseconds-with-polars"
   ]
  },
  {
   "attachments": {},
   "cell_type": "markdown",
   "metadata": {},
   "source": [
    "### - 数字の羅列になっている場合"
   ]
  },
  {
   "cell_type": "code",
   "execution_count": 135,
   "metadata": {
    "vscode": {
     "languageId": "python"
    }
   },
   "outputs": [],
   "source": [
    "df = pl.DataFrame({'Time': \n",
    "         ['20200101000000123456789',\n",
    "          '20200101000000123456790',\n",
    "          '20200101000000123456791']\n",
    "        })"
   ]
  },
  {
   "cell_type": "code",
   "execution_count": 136,
   "metadata": {
    "vscode": {
     "languageId": "python"
    }
   },
   "outputs": [
    {
     "data": {
      "text/html": [
       "<div><style>\n",
       ".dataframe > thead > tr > th,\n",
       ".dataframe > tbody > tr > td {\n",
       "  text-align: right;\n",
       "}\n",
       "</style>\n",
       "<small>shape: (3, 1)</small><table border=\"1\" class=\"dataframe\"><thead><tr><th>Time</th></tr><tr><td>str</td></tr></thead><tbody><tr><td>&quot;20200101000000123456789&quot;</td></tr><tr><td>&quot;20200101000000123456790&quot;</td></tr><tr><td>&quot;20200101000000123456791&quot;</td></tr></tbody></table></div>"
      ],
      "text/plain": [
       "shape: (3, 1)\n",
       "┌─────────────────────────┐\n",
       "│ Time                    │\n",
       "│ ---                     │\n",
       "│ str                     │\n",
       "╞═════════════════════════╡\n",
       "│ 20200101000000123456789 │\n",
       "│ 20200101000000123456790 │\n",
       "│ 20200101000000123456791 │\n",
       "└─────────────────────────┘"
      ]
     },
     "execution_count": 136,
     "metadata": {},
     "output_type": "execute_result"
    }
   ],
   "source": [
    "df"
   ]
  },
  {
   "cell_type": "code",
   "execution_count": 139,
   "metadata": {
    "vscode": {
     "languageId": "python"
    }
   },
   "outputs": [
    {
     "data": {
      "text/html": [
       "<div><style>\n",
       ".dataframe > thead > tr > th,\n",
       ".dataframe > tbody > tr > td {\n",
       "  text-align: right;\n",
       "}\n",
       "</style>\n",
       "<small>shape: (3,)</small><table border=\"1\" class=\"dataframe\"><thead><tr><th>Time</th></tr><tr><td>datetime[ns]</td></tr></thead><tbody><tr><td>2020-01-01 00:00:00.123456789</td></tr><tr><td>2020-01-01 00:00:00.123456790</td></tr><tr><td>2020-01-01 00:00:00.123456791</td></tr></tbody></table></div>"
      ],
      "text/plain": [
       "shape: (3,)\n",
       "Series: 'Time' [datetime[ns]]\n",
       "[\n",
       "\t2020-01-01 00:00:00.123456789\n",
       "\t2020-01-01 00:00:00.123456790\n",
       "\t2020-01-01 00:00:00.123456791\n",
       "]"
      ]
     },
     "execution_count": 139,
     "metadata": {},
     "output_type": "execute_result"
    }
   ],
   "source": [
    "# ナノ秒まで含めてDatetime型に変換\n",
    "df.get_column('Time').str.strptime(pl.Datetime('ns'), '%Y%m%d%H%M%S%f')"
   ]
  },
  {
   "attachments": {},
   "cell_type": "markdown",
   "metadata": {},
   "source": [
    "上記のように書くことで、数字の羅列もDatetime型へ変換可能。  \n",
    "フォーマットの指定には'-'や':'は不要っぽい。  \n",
    "pl.Datetime('ms')などにすることで秒以下の単位を変更できる。"
   ]
  },
  {
   "cell_type": "code",
   "execution_count": 110,
   "metadata": {
    "vscode": {
     "languageId": "python"
    }
   },
   "outputs": [
    {
     "data": {
      "text/html": [
       "<div><style>\n",
       ".dataframe > thead > tr > th,\n",
       ".dataframe > tbody > tr > td {\n",
       "  text-align: right;\n",
       "}\n",
       "</style>\n",
       "<small>shape: (3,)</small><table border=\"1\" class=\"dataframe\"><thead><tr><th>Time</th></tr><tr><td>duration[ns]</td></tr></thead><tbody><tr><td>null</td></tr><tr><td>1ns</td></tr><tr><td>1ns</td></tr></tbody></table></div>"
      ],
      "text/plain": [
       "shape: (3,)\n",
       "Series: 'Time' [duration[ns]]\n",
       "[\n",
       "\tnull\n",
       "\t1ns\n",
       "\t1ns\n",
       "]"
      ]
     },
     "execution_count": 110,
     "metadata": {},
     "output_type": "execute_result"
    }
   ],
   "source": [
    "df_2.get_column('Time').str.strptime(pl.Datetime('ns'), '%Y%m%d%H%M%S%f').diff()"
   ]
  },
  {
   "attachments": {},
   "cell_type": "markdown",
   "metadata": {},
   "source": [
    ".diff()でひとつ前のレコードとの時刻差を算出できる。"
   ]
  },
  {
   "attachments": {},
   "cell_type": "markdown",
   "metadata": {},
   "source": [
    "### - 年月日と時刻が別のカラムの場合"
   ]
  },
  {
   "cell_type": "code",
   "execution_count": 111,
   "metadata": {
    "vscode": {
     "languageId": "python"
    }
   },
   "outputs": [],
   "source": [
    "df = pl.DataFrame({\n",
    "    'Date':['20200101',\n",
    "            '20200102',\n",
    "            '20200103'],\n",
    "    'Time': ['131205123456789',\n",
    "             '133406123456790',\n",
    "             '142215123456791']\n",
    "        })"
   ]
  },
  {
   "cell_type": "code",
   "execution_count": 112,
   "metadata": {
    "vscode": {
     "languageId": "python"
    }
   },
   "outputs": [
    {
     "data": {
      "text/html": [
       "<div><style>\n",
       ".dataframe > thead > tr > th,\n",
       ".dataframe > tbody > tr > td {\n",
       "  text-align: right;\n",
       "}\n",
       "</style>\n",
       "<small>shape: (3, 2)</small><table border=\"1\" class=\"dataframe\"><thead><tr><th>Date</th><th>Time</th></tr><tr><td>str</td><td>str</td></tr></thead><tbody><tr><td>&quot;20200101&quot;</td><td>&quot;131205123456789&quot;</td></tr><tr><td>&quot;20200102&quot;</td><td>&quot;133406123456790&quot;</td></tr><tr><td>&quot;20200103&quot;</td><td>&quot;142215123456791&quot;</td></tr></tbody></table></div>"
      ],
      "text/plain": [
       "shape: (3, 2)\n",
       "┌──────────┬─────────────────┐\n",
       "│ Date     ┆ Time            │\n",
       "│ ---      ┆ ---             │\n",
       "│ str      ┆ str             │\n",
       "╞══════════╪═════════════════╡\n",
       "│ 20200101 ┆ 131205123456789 │\n",
       "│ 20200102 ┆ 133406123456790 │\n",
       "│ 20200103 ┆ 142215123456791 │\n",
       "└──────────┴─────────────────┘"
      ]
     },
     "execution_count": 112,
     "metadata": {},
     "output_type": "execute_result"
    }
   ],
   "source": [
    "df"
   ]
  },
  {
   "cell_type": "code",
   "execution_count": 113,
   "metadata": {
    "vscode": {
     "languageId": "python"
    }
   },
   "outputs": [
    {
     "data": {
      "text/html": [
       "<div><style>\n",
       ".dataframe > thead > tr > th,\n",
       ".dataframe > tbody > tr > td {\n",
       "  text-align: right;\n",
       "}\n",
       "</style>\n",
       "<small>shape: (3, 1)</small><table border=\"1\" class=\"dataframe\"><thead><tr><th>Date_and_Time</th></tr><tr><td>datetime[ns]</td></tr></thead><tbody><tr><td>2020-01-01 13:12:05.123456789</td></tr><tr><td>2020-01-02 13:34:06.123456790</td></tr><tr><td>2020-01-03 14:22:15.123456791</td></tr></tbody></table></div>"
      ],
      "text/plain": [
       "shape: (3, 1)\n",
       "┌───────────────────────────────┐\n",
       "│ Date_and_Time                 │\n",
       "│ ---                           │\n",
       "│ datetime[ns]                  │\n",
       "╞═══════════════════════════════╡\n",
       "│ 2020-01-01 13:12:05.123456789 │\n",
       "│ 2020-01-02 13:34:06.123456790 │\n",
       "│ 2020-01-03 14:22:15.123456791 │\n",
       "└───────────────────────────────┘"
      ]
     },
     "execution_count": 113,
     "metadata": {},
     "output_type": "execute_result"
    }
   ],
   "source": [
    "df.select(\n",
    "    (pl.col('Date') + pl.col('Time')).str\n",
    "    .strptime(pl.Datetime('ns'), '%Y%m%d%H%M%S%f').alias('Date_and_Time')\n",
    ")"
   ]
  },
  {
   "attachments": {},
   "cell_type": "markdown",
   "metadata": {},
   "source": [
    "上記のようにどちらも文字列として読み込み、結合してからstrptimeでdatetime型に変換する。"
   ]
  },
  {
   "attachments": {},
   "cell_type": "markdown",
   "metadata": {},
   "source": [
    "### - さらにカラムが分けられているケース"
   ]
  },
  {
   "cell_type": "code",
   "execution_count": 114,
   "metadata": {
    "vscode": {
     "languageId": "python"
    }
   },
   "outputs": [
    {
     "data": {
      "text/html": [
       "<div><style>\n",
       ".dataframe > thead > tr > th,\n",
       ".dataframe > tbody > tr > td {\n",
       "  text-align: right;\n",
       "}\n",
       "</style>\n",
       "<small>shape: (5, 4)</small><table border=\"1\" class=\"dataframe\"><thead><tr><th>ymd</th><th>hms</th><th>ms_us_ns</th><th>value</th></tr><tr><td>str</td><td>str</td><td>str</td><td>f64</td></tr></thead><tbody><tr><td>&quot;2020/1/1&quot;</td><td>&quot;00:00:00&quot;</td><td>&quot;000000000&quot;</td><td>0.993612</td></tr><tr><td>&quot;2020/1/1&quot;</td><td>&quot;00:00:00&quot;</td><td>&quot;000100000&quot;</td><td>0.248432</td></tr><tr><td>&quot;2020/1/1&quot;</td><td>&quot;00:00:00&quot;</td><td>&quot;000200000&quot;</td><td>0.252184</td></tr><tr><td>&quot;2020/1/1&quot;</td><td>&quot;00:00:00&quot;</td><td>&quot;000300000&quot;</td><td>0.597972</td></tr><tr><td>&quot;2020/1/1&quot;</td><td>&quot;00:00:00&quot;</td><td>&quot;000400000&quot;</td><td>0.497804</td></tr></tbody></table></div>"
      ],
      "text/plain": [
       "shape: (5, 4)\n",
       "┌──────────┬──────────┬───────────┬──────────┐\n",
       "│ ymd      ┆ hms      ┆ ms_us_ns  ┆ value    │\n",
       "│ ---      ┆ ---      ┆ ---       ┆ ---      │\n",
       "│ str      ┆ str      ┆ str       ┆ f64      │\n",
       "╞══════════╪══════════╪═══════════╪══════════╡\n",
       "│ 2020/1/1 ┆ 00:00:00 ┆ 000000000 ┆ 0.993612 │\n",
       "│ 2020/1/1 ┆ 00:00:00 ┆ 000100000 ┆ 0.248432 │\n",
       "│ 2020/1/1 ┆ 00:00:00 ┆ 000200000 ┆ 0.252184 │\n",
       "│ 2020/1/1 ┆ 00:00:00 ┆ 000300000 ┆ 0.597972 │\n",
       "│ 2020/1/1 ┆ 00:00:00 ┆ 000400000 ┆ 0.497804 │\n",
       "└──────────┴──────────┴───────────┴──────────┘"
      ]
     },
     "execution_count": 114,
     "metadata": {},
     "output_type": "execute_result"
    }
   ],
   "source": [
    "# sampleデータ読み込み。年月日、時分秒、ms以下はそれぞれ別カラムにしている。\n",
    "dtypes = {\n",
    "    'ymd': str,\n",
    "    'hms': str,\n",
    "    'ms_us_ns': str,\n",
    "    'value': float\n",
    "}\n",
    "df = pl.read_csv('../sample_data/time_series/time_series_data_sample_1.csv', dtypes=dtypes)\n",
    "df.head()"
   ]
  },
  {
   "attachments": {},
   "cell_type": "markdown",
   "metadata": {},
   "source": [
    "dfに読み込む前にcsvにどのように記録されているか確認し、必要に応じてデータ型を指定して読み込むこと。  \n",
    "上記ではms_us_nsが数字の羅列になっているので、dtypesを指定しないとintになってしまい、先頭の0が抜けてしまう。  \n",
    "また、excelでCSVファイルを開くと勝手に型を置き換えたりして元々のcsvの情報が欠落するので、必ずテキストエディタで開くこと。"
   ]
  },
  {
   "cell_type": "code",
   "execution_count": 119,
   "metadata": {
    "vscode": {
     "languageId": "python"
    }
   },
   "outputs": [
    {
     "data": {
      "text/html": [
       "<div><style>\n",
       ".dataframe > thead > tr > th,\n",
       ".dataframe > tbody > tr > td {\n",
       "  text-align: right;\n",
       "}\n",
       "</style>\n",
       "<small>shape: (5, 5)</small><table border=\"1\" class=\"dataframe\"><thead><tr><th>ymd</th><th>hms</th><th>ms_us_ns</th><th>value</th><th>date_time</th></tr><tr><td>str</td><td>str</td><td>str</td><td>f64</td><td>datetime[ns]</td></tr></thead><tbody><tr><td>&quot;2020/1/1&quot;</td><td>&quot;00:00:00&quot;</td><td>&quot;000000000&quot;</td><td>0.993612</td><td>2020-01-01 00:00:00</td></tr><tr><td>&quot;2020/1/1&quot;</td><td>&quot;00:00:00&quot;</td><td>&quot;000100000&quot;</td><td>0.248432</td><td>2020-01-01 00:00:00.000100</td></tr><tr><td>&quot;2020/1/1&quot;</td><td>&quot;00:00:00&quot;</td><td>&quot;000200000&quot;</td><td>0.252184</td><td>2020-01-01 00:00:00.000200</td></tr><tr><td>&quot;2020/1/1&quot;</td><td>&quot;00:00:00&quot;</td><td>&quot;000300000&quot;</td><td>0.597972</td><td>2020-01-01 00:00:00.000300</td></tr><tr><td>&quot;2020/1/1&quot;</td><td>&quot;00:00:00&quot;</td><td>&quot;000400000&quot;</td><td>0.497804</td><td>2020-01-01 00:00:00.000400</td></tr></tbody></table></div>"
      ],
      "text/plain": [
       "shape: (5, 5)\n",
       "┌──────────┬──────────┬───────────┬──────────┬────────────────────────────┐\n",
       "│ ymd      ┆ hms      ┆ ms_us_ns  ┆ value    ┆ date_time                  │\n",
       "│ ---      ┆ ---      ┆ ---       ┆ ---      ┆ ---                        │\n",
       "│ str      ┆ str      ┆ str       ┆ f64      ┆ datetime[ns]               │\n",
       "╞══════════╪══════════╪═══════════╪══════════╪════════════════════════════╡\n",
       "│ 2020/1/1 ┆ 00:00:00 ┆ 000000000 ┆ 0.993612 ┆ 2020-01-01 00:00:00        │\n",
       "│ 2020/1/1 ┆ 00:00:00 ┆ 000100000 ┆ 0.248432 ┆ 2020-01-01 00:00:00.000100 │\n",
       "│ 2020/1/1 ┆ 00:00:00 ┆ 000200000 ┆ 0.252184 ┆ 2020-01-01 00:00:00.000200 │\n",
       "│ 2020/1/1 ┆ 00:00:00 ┆ 000300000 ┆ 0.597972 ┆ 2020-01-01 00:00:00.000300 │\n",
       "│ 2020/1/1 ┆ 00:00:00 ┆ 000400000 ┆ 0.497804 ┆ 2020-01-01 00:00:00.000400 │\n",
       "└──────────┴──────────┴───────────┴──────────┴────────────────────────────┘"
      ]
     },
     "execution_count": 119,
     "metadata": {},
     "output_type": "execute_result"
    }
   ],
   "source": [
    "# 基本的に2020-01-01 00:00:00.123456789のような形になるようにスペース、ドットを足せば変換できる。\n",
    "df.with_columns(\n",
    "    (pl.col('ymd') +' ' + pl.col('hms') + '.' + pl.col('ms_us_ns')).str\n",
    "    .strptime(pl.Datetime('ns')).alias('date_time')\n",
    ").head()"
   ]
  },
  {
   "attachments": {},
   "cell_type": "markdown",
   "metadata": {},
   "source": [
    "## 任意の時間範囲でフィルタリング\n",
    "参考：https://pola-rs.github.io/polars-book/user-guide/transformations/time-series/filter/"
   ]
  },
  {
   "cell_type": "code",
   "execution_count": 22,
   "metadata": {
    "vscode": {
     "languageId": "python"
    }
   },
   "outputs": [
    {
     "data": {
      "text/html": [
       "<div><style>\n",
       ".dataframe > thead > tr > th,\n",
       ".dataframe > tbody > tr > td {\n",
       "  text-align: right;\n",
       "}\n",
       "</style>\n",
       "<small>shape: (5, 1)</small><table border=\"1\" class=\"dataframe\"><thead><tr><th>date</th></tr><tr><td>datetime[ms]</td></tr></thead><tbody><tr><td>2020-01-01 00:00:00.123</td></tr><tr><td>2020-01-01 00:00:00.123</td></tr><tr><td>2020-01-01 00:00:00.123</td></tr><tr><td>2020-01-01 00:00:00.999</td></tr><tr><td>2020-01-01 00:00:01.100</td></tr></tbody></table></div>"
      ],
      "text/plain": [
       "shape: (5, 1)\n",
       "┌─────────────────────────┐\n",
       "│ date                    │\n",
       "│ ---                     │\n",
       "│ datetime[ms]            │\n",
       "╞═════════════════════════╡\n",
       "│ 2020-01-01 00:00:00.123 │\n",
       "│ 2020-01-01 00:00:00.123 │\n",
       "│ 2020-01-01 00:00:00.123 │\n",
       "│ 2020-01-01 00:00:00.999 │\n",
       "│ 2020-01-01 00:00:01.100 │\n",
       "└─────────────────────────┘"
      ]
     },
     "execution_count": 22,
     "metadata": {},
     "output_type": "execute_result"
    }
   ],
   "source": [
    "df = pl.DataFrame({'date': \n",
    "         ['2020-01-01 00:00:00.123456789',\n",
    "          '2020-01-01 00:00:00.123456790',\n",
    "          '2020-01-01 00:00:00.123456791',\n",
    "          '2020-01-01 00:00:00.999999999',\n",
    "          '2020-01-01 00:00:01.100000001',\n",
    "          '2020-01-01 00:00:02.100000002',\n",
    "          '2020-01-01 00:00:03.100000003',\n",
    "          '2020-01-01 00:00:10.390938889',\n",
    "          '2020-01-01 00:01:10.111233999',\n",
    "          '2020-01-01 00:10:10.111233999',\n",
    "          '2020-01-01 00:10:10.111233999']\n",
    "        })\n",
    "\n",
    "df = df.with_columns(\n",
    "    pl.col('date').str.strptime(pl.Datetime(\"ms\"))\n",
    ")\n",
    "df.head()"
   ]
  },
  {
   "cell_type": "code",
   "execution_count": 23,
   "metadata": {
    "vscode": {
     "languageId": "python"
    }
   },
   "outputs": [],
   "source": [
    "# 時間のフィルタリング範囲を設定。ナノ秒までは対応していない模様。\n",
    "start_time = datetime.datetime(year=2020, month=1, day=1, hour=0, minute=0, second=0, microsecond=1)\n",
    "end_time = datetime.datetime(year=2020, month=1, day=1, hour=0, minute=0, second=1, microsecond=100000)"
   ]
  },
  {
   "cell_type": "code",
   "execution_count": 24,
   "metadata": {
    "vscode": {
     "languageId": "python"
    }
   },
   "outputs": [
    {
     "data": {
      "text/html": [
       "<div><style>\n",
       ".dataframe > thead > tr > th,\n",
       ".dataframe > tbody > tr > td {\n",
       "  text-align: right;\n",
       "}\n",
       "</style>\n",
       "<small>shape: (5, 1)</small><table border=\"1\" class=\"dataframe\"><thead><tr><th>date</th></tr><tr><td>datetime[ms]</td></tr></thead><tbody><tr><td>2020-01-01 00:00:00.123</td></tr><tr><td>2020-01-01 00:00:00.123</td></tr><tr><td>2020-01-01 00:00:00.123</td></tr><tr><td>2020-01-01 00:00:00.999</td></tr><tr><td>2020-01-01 00:00:01.100</td></tr></tbody></table></div>"
      ],
      "text/plain": [
       "shape: (5, 1)\n",
       "┌─────────────────────────┐\n",
       "│ date                    │\n",
       "│ ---                     │\n",
       "│ datetime[ms]            │\n",
       "╞═════════════════════════╡\n",
       "│ 2020-01-01 00:00:00.123 │\n",
       "│ 2020-01-01 00:00:00.123 │\n",
       "│ 2020-01-01 00:00:00.123 │\n",
       "│ 2020-01-01 00:00:00.999 │\n",
       "│ 2020-01-01 00:00:01.100 │\n",
       "└─────────────────────────┘"
      ]
     },
     "execution_count": 24,
     "metadata": {},
     "output_type": "execute_result"
    }
   ],
   "source": [
    "df.filter(\n",
    "    pl.col('date').is_between(start_time, end_time)\n",
    ")"
   ]
  },
  {
   "cell_type": "code",
   "execution_count": 28,
   "metadata": {
    "vscode": {
     "languageId": "python"
    }
   },
   "outputs": [
    {
     "data": {
      "text/plain": [
       "[Datetime(time_unit='ms', time_zone=None)]"
      ]
     },
     "execution_count": 28,
     "metadata": {},
     "output_type": "execute_result"
    }
   ],
   "source": [
    "df.dtypes"
   ]
  },
  {
   "cell_type": "code",
   "execution_count": 37,
   "metadata": {
    "vscode": {
     "languageId": "python"
    }
   },
   "outputs": [
    {
     "data": {
      "text/html": [
       "<div><style>\n",
       ".dataframe > thead > tr > th,\n",
       ".dataframe > tbody > tr > td {\n",
       "  text-align: right;\n",
       "}\n",
       "</style>\n",
       "<small>shape: (11, 1)</small><table border=\"1\" class=\"dataframe\"><thead><tr><th>date</th></tr><tr><td>datetime[ms]</td></tr></thead><tbody><tr><td>2020-01-01 00:00:00.123</td></tr><tr><td>2020-01-01 00:00:00.123</td></tr><tr><td>2020-01-01 00:00:00.123</td></tr><tr><td>2020-01-01 00:00:00.999</td></tr><tr><td>2020-01-01 00:00:01.100</td></tr><tr><td>2020-01-01 00:00:02.100</td></tr><tr><td>2020-01-01 00:00:03.100</td></tr><tr><td>2020-01-01 00:00:10.390</td></tr><tr><td>2020-01-01 00:01:10.111</td></tr><tr><td>2020-01-01 00:10:10.111</td></tr><tr><td>2020-01-01 00:10:10.111</td></tr></tbody></table></div>"
      ],
      "text/plain": [
       "shape: (11, 1)\n",
       "┌─────────────────────────┐\n",
       "│ date                    │\n",
       "│ ---                     │\n",
       "│ datetime[ms]            │\n",
       "╞═════════════════════════╡\n",
       "│ 2020-01-01 00:00:00.123 │\n",
       "│ 2020-01-01 00:00:00.123 │\n",
       "│ 2020-01-01 00:00:00.123 │\n",
       "│ 2020-01-01 00:00:00.999 │\n",
       "│ …                       │\n",
       "│ 2020-01-01 00:00:10.390 │\n",
       "│ 2020-01-01 00:01:10.111 │\n",
       "│ 2020-01-01 00:10:10.111 │\n",
       "│ 2020-01-01 00:10:10.111 │\n",
       "└─────────────────────────┘"
      ]
     },
     "execution_count": 37,
     "metadata": {},
     "output_type": "execute_result"
    }
   ],
   "source": [
    "df"
   ]
  },
  {
   "attachments": {},
   "cell_type": "markdown",
   "metadata": {},
   "source": [
    "is_betweenに開始時刻、終了時刻をdatetime.datetimeで指定することでフィルタリングできる。  \n",
    "ナノ秒は対応していないようだが、実用上はマイクロ秒までで十分だと思われる。  \n",
    "ナノ秒レベルでフィルタリングしたい場合はms以下の９桁だけ数値で扱うのが良いかも。"
   ]
  },
  {
   "attachments": {},
   "cell_type": "markdown",
   "metadata": {},
   "source": [
    "## 時刻をx軸としてグラフを描いて軸範囲を操作する"
   ]
  },
  {
   "cell_type": "code",
   "execution_count": 121,
   "metadata": {
    "vscode": {
     "languageId": "python"
    }
   },
   "outputs": [],
   "source": [
    "# sampleデータ読み込み。年月日、時分秒、ms以下はそれぞれ別カラムにしている。\n",
    "dtypes = {\n",
    "    'ymd': str,\n",
    "    'hms': str,\n",
    "    'ms_us_ns': str,\n",
    "    'value': float\n",
    "}\n",
    "df = pl.read_csv('../sample_data/time_series/time_series_data_sample_1.csv', dtypes=dtypes)\n",
    "df = df.with_columns(\n",
    "    (pl.col('ymd') +' ' + pl.col('hms') + '.' + pl.col('ms_us_ns')).str\n",
    "    .strptime(pl.Datetime('ns')).alias('date_time')\n",
    ").select(\n",
    "    # 元々のymd,hms等は不要なので落とす。\n",
    "    ['date_time', 'value']\n",
    ")"
   ]
  },
  {
   "cell_type": "code",
   "execution_count": 122,
   "metadata": {
    "vscode": {
     "languageId": "python"
    }
   },
   "outputs": [
    {
     "data": {
      "text/html": [
       "<div><style>\n",
       ".dataframe > thead > tr > th,\n",
       ".dataframe > tbody > tr > td {\n",
       "  text-align: right;\n",
       "}\n",
       "</style>\n",
       "<small>shape: (5, 2)</small><table border=\"1\" class=\"dataframe\"><thead><tr><th>date_time</th><th>value</th></tr><tr><td>datetime[ns]</td><td>f64</td></tr></thead><tbody><tr><td>2020-01-01 00:00:00</td><td>0.993612</td></tr><tr><td>2020-01-01 00:00:00.000100</td><td>0.248432</td></tr><tr><td>2020-01-01 00:00:00.000200</td><td>0.252184</td></tr><tr><td>2020-01-01 00:00:00.000300</td><td>0.597972</td></tr><tr><td>2020-01-01 00:00:00.000400</td><td>0.497804</td></tr></tbody></table></div>"
      ],
      "text/plain": [
       "shape: (5, 2)\n",
       "┌────────────────────────────┬──────────┐\n",
       "│ date_time                  ┆ value    │\n",
       "│ ---                        ┆ ---      │\n",
       "│ datetime[ns]               ┆ f64      │\n",
       "╞════════════════════════════╪══════════╡\n",
       "│ 2020-01-01 00:00:00        ┆ 0.993612 │\n",
       "│ 2020-01-01 00:00:00.000100 ┆ 0.248432 │\n",
       "│ 2020-01-01 00:00:00.000200 ┆ 0.252184 │\n",
       "│ 2020-01-01 00:00:00.000300 ┆ 0.597972 │\n",
       "│ 2020-01-01 00:00:00.000400 ┆ 0.497804 │\n",
       "└────────────────────────────┴──────────┘"
      ]
     },
     "execution_count": 122,
     "metadata": {},
     "output_type": "execute_result"
    }
   ],
   "source": [
    "df.head()"
   ]
  },
  {
   "cell_type": "code",
   "execution_count": 125,
   "metadata": {
    "vscode": {
     "languageId": "python"
    }
   },
   "outputs": [
    {
     "data": {
      "image/png": "[encoded data removed]",
      "text/plain": [
       "<Figure size 864x216 with 1 Axes>"
      ]
     },
     "metadata": {
      "needs_background": "light"
     },
     "output_type": "display_data"
    }
   ],
   "source": [
    "fix, ax = plt.subplots(figsize=(12, 3))\n",
    "sns.scatterplot(x='date_time', y='value', data=df)\n",
    "\n",
    "# 軸目盛をμ秒単位で調整するためのlocaterオブジェクトを生成\n",
    "locater = mdates.MicrosecondLocator(interval=500)\n",
    "ax.xaxis.set_major_locator(locater)"
   ]
  },
  {
   "cell_type": "code",
   "execution_count": 129,
   "metadata": {
    "vscode": {
     "languageId": "python"
    }
   },
   "outputs": [],
   "source": [
    "# 時間のフィルタリング範囲を設定。最初の1000μ秒だけに絞る\n",
    "start_time = datetime.datetime(year=2020, month=1, day=1, hour=0, minute=0, second=0, microsecond=0)\n",
    "end_time = datetime.datetime(year=2020, month=1, day=1, hour=0, minute=0, second=0, microsecond=1000)"
   ]
  },
  {
   "cell_type": "code",
   "execution_count": 131,
   "metadata": {
    "vscode": {
     "languageId": "python"
    }
   },
   "outputs": [
    {
     "data": {
      "text/plain": [
       "(18262.0, 18262.000000011572)"
      ]
     },
     "execution_count": 131,
     "metadata": {},
     "output_type": "execute_result"
    },
    {
     "data": {
      "image/png": "[encoded data removed]",
      "text/plain": [
       "<Figure size 864x216 with 1 Axes>"
      ]
     },
     "metadata": {
      "needs_background": "light"
     },
     "output_type": "display_data"
    }
   ],
   "source": [
    "fix, ax = plt.subplots(figsize=(12, 3))\n",
    "sns.scatterplot(x='date_time', y='value', data=df)\n",
    "\n",
    "# set_xlimに開始時刻と終了時刻をdatetime型で入れればOK\n",
    "ax.set_xlim(start_time, end_time)\n"
   ]
  }
 ],
 "metadata": {
  "kernelspec": {
   "display_name": "Python 3 (ipykernel)",
   "language": "python",
   "name": "python3"
  },
  "orig_nbformat": 4
 },
 "nbformat": 4,
 "nbformat_minor": 2
}
