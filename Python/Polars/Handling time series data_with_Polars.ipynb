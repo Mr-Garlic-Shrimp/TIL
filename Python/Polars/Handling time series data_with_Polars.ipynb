{
 "cells": [
  {
   "attachments": {},
   "cell_type": "markdown",
   "metadata": {},
   "source": [
    "# Polarsによる時系列データの取り扱い\n",
    "面倒な時系列データをPolarsで取り扱う方法をメモしておく。  \n",
    "必要であればPandas DataFrameも使う。"
   ]
  },
  {
   "cell_type": "code",
   "execution_count": 2,
   "metadata": {},
   "outputs": [],
   "source": [
    "import polars as pl\n",
    "import pandas as pd\n",
    "import seaborn as sns\n",
    "import numpy as np\n",
    "import os\n",
    "import math\n",
    "import pyarrow as pa\n",
    "import pyarrow.parquet as pq\n",
    "import itertools\n",
    "from pathlib import Path\n",
    "from glob import glob\n",
    "from sklearn.preprocessing import StandardScaler, LabelEncoder\n",
    "\n",
    "%matplotlib inline\n",
    "import matplotlib.pyplot as plt"
   ]
  },
  {
   "attachments": {},
   "cell_type": "markdown",
   "metadata": {},
   "source": [
    "## 様々な形式で表現された時刻データの読み込み方\n",
    "ログの分析などではナノ秒まで情報が必要な場合があるので、  \n",
    "適宜ナノ秒まで含めて取り扱う。"
   ]
  },
  {
   "attachments": {},
   "cell_type": "markdown",
   "metadata": {},
   "source": [
    "### - 時刻データが綺麗にフォーマットされている場合"
   ]
  },
  {
   "cell_type": "code",
   "execution_count": 3,
   "metadata": {},
   "outputs": [],
   "source": [
    "df_1 = pl.DataFrame({'Time': \n",
    "         ['2020-01-01 00:00:00.123456789',\n",
    "          '2020-01-01 00:00:00.123456790',\n",
    "          '2020-01-01 00:00:00.123456791']\n",
    "        })"
   ]
  },
  {
   "cell_type": "code",
   "execution_count": 4,
   "metadata": {},
   "outputs": [
    {
     "data": {
      "text/html": [
       "<div>\n",
       "<style>\n",
       ".pl-dataframe > thead > tr > th {\n",
       "  text-align: right;\n",
       "}\n",
       "</style>\n",
       "\n",
       "<table border=\"1\" class=\"dataframe pl-dataframe\">\n",
       "<small>shape: (3, 1)</small>\n",
       "<thead>\n",
       "<tr>\n",
       "<th>\n",
       "Time\n",
       "</th>\n",
       "</tr>\n",
       "<tr>\n",
       "<td>\n",
       "str\n",
       "</td>\n",
       "</tr>\n",
       "</thead>\n",
       "<tbody>\n",
       "<tr>\n",
       "<td>\n",
       "&quot;2020-01-01 00:00:00.123456789&quot;\n",
       "</td>\n",
       "</tr>\n",
       "<tr>\n",
       "<td>\n",
       "&quot;2020-01-01 00:00:00.123456790&quot;\n",
       "</td>\n",
       "</tr>\n",
       "<tr>\n",
       "<td>\n",
       "&quot;2020-01-01 00:00:00.123456791&quot;\n",
       "</td>\n",
       "</tr>\n",
       "</tbody>\n",
       "</table>\n",
       "</div>"
      ],
      "text/plain": [
       "shape: (3, 1)\n",
       "┌───────────────────────────────┐\n",
       "│ Time                          │\n",
       "│ ---                           │\n",
       "│ str                           │\n",
       "╞═══════════════════════════════╡\n",
       "│ 2020-01-01 00:00:00.123456789 │\n",
       "│ 2020-01-01 00:00:00.123456790 │\n",
       "│ 2020-01-01 00:00:00.123456791 │\n",
       "└───────────────────────────────┘"
      ]
     },
     "execution_count": 4,
     "metadata": {},
     "output_type": "execute_result"
    }
   ],
   "source": [
    "# カラムの横幅を40文字まで拡張して表示\n",
    "pl.Config.set_fmt_str_lengths(40)\n",
    "df_1"
   ]
  },
  {
   "cell_type": "markdown",
   "metadata": {},
   "source": [
    "pl.DataFrameのschemaにpl.Datetime(\"ns\")を指定するのはダメそうだったので、  \n",
    "strで一旦読み込む。  \n",
    "カラムの幅が狭くてナノ秒まで見えないときはpl.Config.set_fmt_str_lengths(文字数)  で調整するとよい。  \n",
    "https://pola-rs.github.io/polars/py-polars/html/reference/api/polars.Config.set_fmt_str_lengths.html"
   ]
  },
  {
   "cell_type": "code",
   "execution_count": 28,
   "metadata": {},
   "outputs": [
    {
     "data": {
      "text/html": [
       "<div>\n",
       "<style>\n",
       ".pl-dataframe > thead > tr > th {\n",
       "  text-align: right;\n",
       "}\n",
       "</style>\n",
       "\n",
       "<table border=\"1\" class=\"dataframe pl-dataframe\">\n",
       "<small>shape: (3,)</small>\n",
       "<thead>\n",
       "<tr>\n",
       "<th>\n",
       "Time\n",
       "</th>\n",
       "</tr>\n",
       "<tr>\n",
       "<td>\n",
       "datetime[ns]\n",
       "</td>\n",
       "</tr>\n",
       "</thead>\n",
       "<tbody>\n",
       "<tr>\n",
       "<td>\n",
       "2020-01-01 00:00:00.123456789\n",
       "</td>\n",
       "</tr>\n",
       "<tr>\n",
       "<td>\n",
       "2020-01-01 00:00:00.123456790\n",
       "</td>\n",
       "</tr>\n",
       "<tr>\n",
       "<td>\n",
       "2020-01-01 00:00:00.123456791\n",
       "</td>\n",
       "</tr>\n",
       "</tbody>\n",
       "</table>\n",
       "</div>"
      ],
      "text/plain": [
       "shape: (3,)\n",
       "Series: 'Time' [datetime[ns]]\n",
       "[\n",
       "\t2020-01-01 00:00:00.123456789\n",
       "\t2020-01-01 00:00:00.123456790\n",
       "\t2020-01-01 00:00:00.123456791\n",
       "]"
      ]
     },
     "execution_count": 28,
     "metadata": {},
     "output_type": "execute_result"
    }
   ],
   "source": [
    "df_1.get_column('Time').str.strptime(pl.Datetime(\"ns\"))"
   ]
  },
  {
   "cell_type": "markdown",
   "metadata": {},
   "source": [
    "ナノ秒まで含めてDatetime型に変換するには上記のように書けばよい。  \n",
    "https://stackoverflow.com/questions/75119895/parse-nanoseconds-with-polars"
   ]
  },
  {
   "attachments": {},
   "cell_type": "markdown",
   "metadata": {},
   "source": [
    "### - 数字の羅列になっている場合"
   ]
  },
  {
   "cell_type": "code",
   "execution_count": 29,
   "metadata": {},
   "outputs": [],
   "source": [
    "df_2 = pl.DataFrame({'Time': \n",
    "         ['20200101000000123456789',\n",
    "          '20200101000000123456790',\n",
    "          '20200101000000123456791']\n",
    "        })"
   ]
  },
  {
   "cell_type": "code",
   "execution_count": 30,
   "metadata": {},
   "outputs": [
    {
     "data": {
      "text/html": [
       "<div>\n",
       "<style>\n",
       ".pl-dataframe > thead > tr > th {\n",
       "  text-align: right;\n",
       "}\n",
       "</style>\n",
       "\n",
       "<table border=\"1\" class=\"dataframe pl-dataframe\">\n",
       "<small>shape: (3, 1)</small>\n",
       "<thead>\n",
       "<tr>\n",
       "<th>\n",
       "Time\n",
       "</th>\n",
       "</tr>\n",
       "<tr>\n",
       "<td>\n",
       "str\n",
       "</td>\n",
       "</tr>\n",
       "</thead>\n",
       "<tbody>\n",
       "<tr>\n",
       "<td>\n",
       "&quot;20200101000000123456789&quot;\n",
       "</td>\n",
       "</tr>\n",
       "<tr>\n",
       "<td>\n",
       "&quot;20200101000000123456790&quot;\n",
       "</td>\n",
       "</tr>\n",
       "<tr>\n",
       "<td>\n",
       "&quot;20200101000000123456791&quot;\n",
       "</td>\n",
       "</tr>\n",
       "</tbody>\n",
       "</table>\n",
       "</div>"
      ],
      "text/plain": [
       "shape: (3, 1)\n",
       "┌─────────────────────────┐\n",
       "│ Time                    │\n",
       "│ ---                     │\n",
       "│ str                     │\n",
       "╞═════════════════════════╡\n",
       "│ 20200101000000123456789 │\n",
       "│ 20200101000000123456790 │\n",
       "│ 20200101000000123456791 │\n",
       "└─────────────────────────┘"
      ]
     },
     "execution_count": 30,
     "metadata": {},
     "output_type": "execute_result"
    }
   ],
   "source": [
    "df_2"
   ]
  },
  {
   "cell_type": "code",
   "execution_count": 31,
   "metadata": {},
   "outputs": [
    {
     "data": {
      "text/html": [
       "<div>\n",
       "<style>\n",
       ".pl-dataframe > thead > tr > th {\n",
       "  text-align: right;\n",
       "}\n",
       "</style>\n",
       "\n",
       "<table border=\"1\" class=\"dataframe pl-dataframe\">\n",
       "<small>shape: (3,)</small>\n",
       "<thead>\n",
       "<tr>\n",
       "<th>\n",
       "Time\n",
       "</th>\n",
       "</tr>\n",
       "<tr>\n",
       "<td>\n",
       "datetime[ns]\n",
       "</td>\n",
       "</tr>\n",
       "</thead>\n",
       "<tbody>\n",
       "<tr>\n",
       "<td>\n",
       "2020-01-01 00:00:00.123456789\n",
       "</td>\n",
       "</tr>\n",
       "<tr>\n",
       "<td>\n",
       "2020-01-01 00:00:00.123456790\n",
       "</td>\n",
       "</tr>\n",
       "<tr>\n",
       "<td>\n",
       "2020-01-01 00:00:00.123456791\n",
       "</td>\n",
       "</tr>\n",
       "</tbody>\n",
       "</table>\n",
       "</div>"
      ],
      "text/plain": [
       "shape: (3,)\n",
       "Series: 'Time' [datetime[ns]]\n",
       "[\n",
       "\t2020-01-01 00:00:00.123456789\n",
       "\t2020-01-01 00:00:00.123456790\n",
       "\t2020-01-01 00:00:00.123456791\n",
       "]"
      ]
     },
     "execution_count": 31,
     "metadata": {},
     "output_type": "execute_result"
    }
   ],
   "source": [
    "# ナノ秒まで含めてDatetime型に変換\n",
    "df_2.get_column('Time').str.strptime(pl.Datetime('ns'), '%Y%m%d%H%M%S%f')"
   ]
  },
  {
   "cell_type": "markdown",
   "metadata": {},
   "source": [
    "上記のように書くことで、数字の羅列もDatetime型へ変換可能。  \n",
    "フォーマットの指定には'-'や':'は不要っぽい。  \n",
    "pl.Datetime('ms')などにすることで秒以下の単位を変更できる。"
   ]
  },
  {
   "cell_type": "code",
   "execution_count": 32,
   "metadata": {},
   "outputs": [
    {
     "data": {
      "text/html": [
       "<div>\n",
       "<style>\n",
       ".pl-dataframe > thead > tr > th {\n",
       "  text-align: right;\n",
       "}\n",
       "</style>\n",
       "\n",
       "<table border=\"1\" class=\"dataframe pl-dataframe\">\n",
       "<small>shape: (3,)</small>\n",
       "<thead>\n",
       "<tr>\n",
       "<th>\n",
       "Time\n",
       "</th>\n",
       "</tr>\n",
       "<tr>\n",
       "<td>\n",
       "duration[ns]\n",
       "</td>\n",
       "</tr>\n",
       "</thead>\n",
       "<tbody>\n",
       "<tr>\n",
       "<td>\n",
       "null\n",
       "</td>\n",
       "</tr>\n",
       "<tr>\n",
       "<td>\n",
       "1ns\n",
       "</td>\n",
       "</tr>\n",
       "<tr>\n",
       "<td>\n",
       "1ns\n",
       "</td>\n",
       "</tr>\n",
       "</tbody>\n",
       "</table>\n",
       "</div>"
      ],
      "text/plain": [
       "shape: (3,)\n",
       "Series: 'Time' [duration[ns]]\n",
       "[\n",
       "\tnull\n",
       "\t1ns\n",
       "\t1ns\n",
       "]"
      ]
     },
     "execution_count": 32,
     "metadata": {},
     "output_type": "execute_result"
    }
   ],
   "source": [
    "df_2.get_column('Time').str.strptime(pl.Datetime('ns'), '%Y%m%d%H%M%S%f').diff()"
   ]
  },
  {
   "cell_type": "markdown",
   "metadata": {},
   "source": [
    ".diff()でひとつ前のレコードとの時刻差を算出できる。"
   ]
  },
  {
   "attachments": {},
   "cell_type": "markdown",
   "metadata": {},
   "source": [
    "### - 年月日と時刻が別のカラムの場合"
   ]
  },
  {
   "cell_type": "code",
   "execution_count": 9,
   "metadata": {},
   "outputs": [],
   "source": [
    "df_3 = pl.DataFrame({\n",
    "    'Date':['20200101',\n",
    "            '20200102',\n",
    "            '20200103'],\n",
    "    'Time': ['131205123456789',\n",
    "             '133406123456790',\n",
    "             '142215123456791']\n",
    "        })"
   ]
  },
  {
   "cell_type": "code",
   "execution_count": 7,
   "metadata": {},
   "outputs": [
    {
     "data": {
      "text/html": [
       "<div>\n",
       "<style>\n",
       ".pl-dataframe > thead > tr > th {\n",
       "  text-align: right;\n",
       "}\n",
       "</style>\n",
       "\n",
       "<table border=\"1\" class=\"dataframe pl-dataframe\">\n",
       "<small>shape: (3, 2)</small>\n",
       "<thead>\n",
       "<tr>\n",
       "<th>\n",
       "Date\n",
       "</th>\n",
       "<th>\n",
       "Time\n",
       "</th>\n",
       "</tr>\n",
       "<tr>\n",
       "<td>\n",
       "str\n",
       "</td>\n",
       "<td>\n",
       "str\n",
       "</td>\n",
       "</tr>\n",
       "</thead>\n",
       "<tbody>\n",
       "<tr>\n",
       "<td>\n",
       "&quot;20200101&quot;\n",
       "</td>\n",
       "<td>\n",
       "&quot;131205123456789&quot;\n",
       "</td>\n",
       "</tr>\n",
       "<tr>\n",
       "<td>\n",
       "&quot;20200102&quot;\n",
       "</td>\n",
       "<td>\n",
       "&quot;133406123456790&quot;\n",
       "</td>\n",
       "</tr>\n",
       "<tr>\n",
       "<td>\n",
       "&quot;20200103&quot;\n",
       "</td>\n",
       "<td>\n",
       "&quot;142215123456791&quot;\n",
       "</td>\n",
       "</tr>\n",
       "</tbody>\n",
       "</table>\n",
       "</div>"
      ],
      "text/plain": [
       "shape: (3, 2)\n",
       "┌──────────┬─────────────────┐\n",
       "│ Date     ┆ Time            │\n",
       "│ ---      ┆ ---             │\n",
       "│ str      ┆ str             │\n",
       "╞══════════╪═════════════════╡\n",
       "│ 20200101 ┆ 131205123456789 │\n",
       "│ 20200102 ┆ 133406123456790 │\n",
       "│ 20200103 ┆ 142215123456791 │\n",
       "└──────────┴─────────────────┘"
      ]
     },
     "execution_count": 7,
     "metadata": {},
     "output_type": "execute_result"
    }
   ],
   "source": [
    "df_3"
   ]
  },
  {
   "cell_type": "code",
   "execution_count": 8,
   "metadata": {},
   "outputs": [
    {
     "data": {
      "text/html": [
       "<div>\n",
       "<style>\n",
       ".pl-dataframe > thead > tr > th {\n",
       "  text-align: right;\n",
       "}\n",
       "</style>\n",
       "\n",
       "<table border=\"1\" class=\"dataframe pl-dataframe\">\n",
       "<small>shape: (3, 1)</small>\n",
       "<thead>\n",
       "<tr>\n",
       "<th>\n",
       "Date_and_Time\n",
       "</th>\n",
       "</tr>\n",
       "<tr>\n",
       "<td>\n",
       "datetime[ns]\n",
       "</td>\n",
       "</tr>\n",
       "</thead>\n",
       "<tbody>\n",
       "<tr>\n",
       "<td>\n",
       "2020-01-01 13:12:05.123456789\n",
       "</td>\n",
       "</tr>\n",
       "<tr>\n",
       "<td>\n",
       "2020-01-02 13:34:06.123456790\n",
       "</td>\n",
       "</tr>\n",
       "<tr>\n",
       "<td>\n",
       "2020-01-03 14:22:15.123456791\n",
       "</td>\n",
       "</tr>\n",
       "</tbody>\n",
       "</table>\n",
       "</div>"
      ],
      "text/plain": [
       "shape: (3, 1)\n",
       "┌───────────────────────────────┐\n",
       "│ Date_and_Time                 │\n",
       "│ ---                           │\n",
       "│ datetime[ns]                  │\n",
       "╞═══════════════════════════════╡\n",
       "│ 2020-01-01 13:12:05.123456789 │\n",
       "│ 2020-01-02 13:34:06.123456790 │\n",
       "│ 2020-01-03 14:22:15.123456791 │\n",
       "└───────────────────────────────┘"
      ]
     },
     "execution_count": 8,
     "metadata": {},
     "output_type": "execute_result"
    }
   ],
   "source": [
    "df_3.select(\n",
    "    (pl.col('Date') + pl.col('Time')).str\n",
    "    .strptime(pl.Datetime('ns'), '%Y%m%d%H%M%S%f').alias('Date_and_Time')\n",
    ")"
   ]
  },
  {
   "cell_type": "code",
   "execution_count": null,
   "metadata": {},
   "outputs": [],
   "source": []
  }
 ],
 "metadata": {
  "kernelspec": {
   "display_name": "Python 3 (ipykernel)",
   "language": "python",
   "name": "python3"
  },
  "language_info": {
   "codemirror_mode": {
    "name": "ipython",
    "version": 3
   },
   "file_extension": ".py",
   "mimetype": "text/x-python",
   "name": "python",
   "nbconvert_exporter": "python",
   "pygments_lexer": "ipython3",
   "version": "3.9.12"
  },
  "orig_nbformat": 4
 },
 "nbformat": 4,
 "nbformat_minor": 2
}
