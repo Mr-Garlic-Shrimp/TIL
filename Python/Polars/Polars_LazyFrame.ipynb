{
 "cells": [
  {
   "cell_type": "markdown",
   "metadata": {},
   "source": [
    "# Polars LazyFrameの操作\n",
    "大規模データの前処理のために、遅延評価が可能なLazyFrameの基本を学ぶ。  \n",
    "まだalpha版の部分(.collectのstreamingなど)があるので挙動には注意が必要。\n",
    "\n",
    "参考：  \n",
    "* https://pola-rs.github.io/polars/py-polars/html/reference/lazyframe/index.html"
   ]
  },
  {
   "cell_type": "code",
   "execution_count": 73,
   "metadata": {},
   "outputs": [
    {
     "data": {
      "text/plain": [
       "polars.config.Config"
      ]
     },
     "execution_count": 73,
     "metadata": {},
     "output_type": "execute_result"
    }
   ],
   "source": [
    "import polars as pl\n",
    "import pandas as pd\n",
    "import numpy as np\n",
    "import datetime\n",
    "\n",
    "# 文字列カラムの表示文字数を50文字に設定\n",
    "pl.Config.set_fmt_str_lengths(50)"
   ]
  },
  {
   "cell_type": "markdown",
   "metadata": {},
   "source": [
    "# サンプルデータ作成"
   ]
  },
  {
   "cell_type": "code",
   "execution_count": 30,
   "metadata": {},
   "outputs": [],
   "source": [
    "# pl.datetime_rangeで任意の範囲の時間データを作れる\n",
    "col_datetime = pl.datetime_range(datetime.datetime(2022, 1, 1), datetime.datetime(2022, 4, 10, 23), interval='1h', eager=True)\n",
    "df = pl.DataFrame({\"DATE\": col_datetime, \"a\": np.arange(2400), \"b\": list(\"abcaddbe\" * 300)})\n",
    "df.write_csv('input/sample_data_Lazy.csv')"
   ]
  },
  {
   "cell_type": "code",
   "execution_count": 74,
   "metadata": {},
   "outputs": [
    {
     "data": {
      "text/html": [
       "<div><style>\n",
       ".dataframe > thead > tr > th,\n",
       ".dataframe > tbody > tr > td {\n",
       "  text-align: right;\n",
       "  white-space: pre-wrap;\n",
       "}\n",
       "</style>\n",
       "<small>shape: (3, 3)</small><table border=\"1\" class=\"dataframe\"><thead><tr><th>DATE</th><th>a</th><th>b</th></tr><tr><td>datetime[μs]</td><td>i64</td><td>str</td></tr></thead><tbody><tr><td>2022-01-01 00:00:00</td><td>0</td><td>&quot;a&quot;</td></tr><tr><td>2022-01-01 01:00:00</td><td>1</td><td>&quot;b&quot;</td></tr><tr><td>2022-01-01 02:00:00</td><td>2</td><td>&quot;c&quot;</td></tr></tbody></table></div>"
      ],
      "text/plain": [
       "shape: (3, 3)\n",
       "┌─────────────────────┬─────┬─────┐\n",
       "│ DATE                ┆ a   ┆ b   │\n",
       "│ ---                 ┆ --- ┆ --- │\n",
       "│ datetime[μs]        ┆ i64 ┆ str │\n",
       "╞═════════════════════╪═════╪═════╡\n",
       "│ 2022-01-01 00:00:00 ┆ 0   ┆ a   │\n",
       "│ 2022-01-01 01:00:00 ┆ 1   ┆ b   │\n",
       "│ 2022-01-01 02:00:00 ┆ 2   ┆ c   │\n",
       "└─────────────────────┴─────┴─────┘"
      ]
     },
     "execution_count": 74,
     "metadata": {},
     "output_type": "execute_result"
    }
   ],
   "source": [
    "df.head(3)"
   ]
  },
  {
   "cell_type": "markdown",
   "metadata": {},
   "source": [
    "# LazyFrameの基本\n",
    ".collect()で最終的な結果を得る以外はそれほど通常のDataFrameと操作は変わらない。"
   ]
  },
  {
   "cell_type": "code",
   "execution_count": 54,
   "metadata": {},
   "outputs": [
    {
     "data": {
      "text/html": [
       "<i>naive plan: (run <b>LazyFrame.explain(optimized=True)</b> to see the optimized plan)</i>\n",
       "    <p></p>\n",
       "    <div><p></p>  Csv SCAN input/sample_data_Lazy.csv<p></p>  PROJECT */3 COLUMNS</div>"
      ],
      "text/plain": [
       "<LazyFrame [3 cols, {\"DATE\": Utf8 … \"b\": Utf8}] at 0x7FC02CB32F50>"
      ]
     },
     "execution_count": 54,
     "metadata": {},
     "output_type": "execute_result"
    }
   ],
   "source": [
    "# LazyFrameとして読み込み。この時点ではファイルの内容はほぼメモリに読み込まれない。\n",
    "df_lazy = pl.scan_csv('input/sample_data_Lazy.csv')\n",
    "df_lazy"
   ]
  },
  {
   "cell_type": "code",
   "execution_count": 101,
   "metadata": {},
   "outputs": [
    {
     "data": {
      "text/html": [
       "<i>naive plan: (run <b>LazyFrame.explain(optimized=True)</b> to see the optimized plan)</i>\n",
       "    <p></p>\n",
       "    <div> SELECT [col(\"A\"), col(\"C\")] FROM<p></p><p></p>    Csv SCAN input/sample_data_Lazy_headerless.csv<p></p>    PROJECT */3 COLUMNS</div>"
      ],
      "text/plain": [
       "<LazyFrame [2 cols, {\"A\": Utf8, \"C\": Utf8}] at 0x7FC02E7BFE10>"
      ]
     },
     "execution_count": 101,
     "metadata": {},
     "output_type": "execute_result"
    }
   ],
   "source": [
    "# read_csvと異なり、columnsの引数はない模様。\n",
    "# ヘッダーなしのcsvにヘッダーを付与して特定カラムだけ読み込みたい場合は下記のようにしてselectすればよい。\n",
    "# このようにすれば.collectで実際にcsv本体をメモリに読み込む前に列の取捨選択が可能。filter付ければ行の取捨選択も事前にできる。\n",
    "pl.scan_csv('input/sample_data_Lazy_headerless.csv', new_columns=['A', 'B', 'C']).select(\n",
    "    ['A', 'C']\n",
    ")"
   ]
  },
  {
   "cell_type": "code",
   "execution_count": 65,
   "metadata": {},
   "outputs": [
    {
     "data": {
      "text/plain": [
       "polars.lazyframe.frame.LazyFrame"
      ]
     },
     "execution_count": 65,
     "metadata": {},
     "output_type": "execute_result"
    }
   ],
   "source": [
    "type(df_lazy)"
   ]
  },
  {
   "cell_type": "code",
   "execution_count": 37,
   "metadata": {},
   "outputs": [
    {
     "data": {
      "text/plain": [
       "['DATE', 'a', 'b']"
      ]
     },
     "execution_count": 37,
     "metadata": {},
     "output_type": "execute_result"
    }
   ],
   "source": [
    "# columnsは普通に見れる。\n",
    "df_lazy.columns"
   ]
  },
  {
   "cell_type": "code",
   "execution_count": 102,
   "metadata": {},
   "outputs": [
    {
     "data": {
      "text/html": [
       "<div><style>\n",
       ".dataframe > thead > tr > th,\n",
       ".dataframe > tbody > tr > td {\n",
       "  text-align: right;\n",
       "  white-space: pre-wrap;\n",
       "}\n",
       "</style>\n",
       "<small>shape: (2_400, 3)</small><table border=\"1\" class=\"dataframe\"><thead><tr><th>DATE</th><th>a</th><th>b</th></tr><tr><td>str</td><td>i64</td><td>str</td></tr></thead><tbody><tr><td>&quot;2022-01-01T00:00:00.000000&quot;</td><td>0</td><td>&quot;a&quot;</td></tr><tr><td>&quot;2022-01-01T01:00:00.000000&quot;</td><td>1</td><td>&quot;b&quot;</td></tr><tr><td>&quot;2022-01-01T02:00:00.000000&quot;</td><td>2</td><td>&quot;c&quot;</td></tr><tr><td>&quot;2022-01-01T03:00:00.000000&quot;</td><td>3</td><td>&quot;a&quot;</td></tr><tr><td>&quot;2022-01-01T04:00:00.000000&quot;</td><td>4</td><td>&quot;d&quot;</td></tr><tr><td>&quot;2022-01-01T05:00:00.000000&quot;</td><td>5</td><td>&quot;d&quot;</td></tr><tr><td>&quot;2022-01-01T06:00:00.000000&quot;</td><td>6</td><td>&quot;b&quot;</td></tr><tr><td>&quot;2022-01-01T07:00:00.000000&quot;</td><td>7</td><td>&quot;e&quot;</td></tr><tr><td>&quot;2022-01-01T08:00:00.000000&quot;</td><td>8</td><td>&quot;a&quot;</td></tr><tr><td>&quot;2022-01-01T09:00:00.000000&quot;</td><td>9</td><td>&quot;b&quot;</td></tr><tr><td>&quot;2022-01-01T10:00:00.000000&quot;</td><td>10</td><td>&quot;c&quot;</td></tr><tr><td>&quot;2022-01-01T11:00:00.000000&quot;</td><td>11</td><td>&quot;a&quot;</td></tr><tr><td>&hellip;</td><td>&hellip;</td><td>&hellip;</td></tr><tr><td>&quot;2022-04-10T12:00:00.000000&quot;</td><td>2388</td><td>&quot;d&quot;</td></tr><tr><td>&quot;2022-04-10T13:00:00.000000&quot;</td><td>2389</td><td>&quot;d&quot;</td></tr><tr><td>&quot;2022-04-10T14:00:00.000000&quot;</td><td>2390</td><td>&quot;b&quot;</td></tr><tr><td>&quot;2022-04-10T15:00:00.000000&quot;</td><td>2391</td><td>&quot;e&quot;</td></tr><tr><td>&quot;2022-04-10T16:00:00.000000&quot;</td><td>2392</td><td>&quot;a&quot;</td></tr><tr><td>&quot;2022-04-10T17:00:00.000000&quot;</td><td>2393</td><td>&quot;b&quot;</td></tr><tr><td>&quot;2022-04-10T18:00:00.000000&quot;</td><td>2394</td><td>&quot;c&quot;</td></tr><tr><td>&quot;2022-04-10T19:00:00.000000&quot;</td><td>2395</td><td>&quot;a&quot;</td></tr><tr><td>&quot;2022-04-10T20:00:00.000000&quot;</td><td>2396</td><td>&quot;d&quot;</td></tr><tr><td>&quot;2022-04-10T21:00:00.000000&quot;</td><td>2397</td><td>&quot;d&quot;</td></tr><tr><td>&quot;2022-04-10T22:00:00.000000&quot;</td><td>2398</td><td>&quot;b&quot;</td></tr><tr><td>&quot;2022-04-10T23:00:00.000000&quot;</td><td>2399</td><td>&quot;e&quot;</td></tr></tbody></table></div>"
      ],
      "text/plain": [
       "shape: (2_400, 3)\n",
       "┌────────────────────────────┬──────┬─────┐\n",
       "│ DATE                       ┆ a    ┆ b   │\n",
       "│ ---                        ┆ ---  ┆ --- │\n",
       "│ str                        ┆ i64  ┆ str │\n",
       "╞════════════════════════════╪══════╪═════╡\n",
       "│ 2022-01-01T00:00:00.000000 ┆ 0    ┆ a   │\n",
       "│ 2022-01-01T01:00:00.000000 ┆ 1    ┆ b   │\n",
       "│ 2022-01-01T02:00:00.000000 ┆ 2    ┆ c   │\n",
       "│ 2022-01-01T03:00:00.000000 ┆ 3    ┆ a   │\n",
       "│ …                          ┆ …    ┆ …   │\n",
       "│ 2022-04-10T20:00:00.000000 ┆ 2396 ┆ d   │\n",
       "│ 2022-04-10T21:00:00.000000 ┆ 2397 ┆ d   │\n",
       "│ 2022-04-10T22:00:00.000000 ┆ 2398 ┆ b   │\n",
       "│ 2022-04-10T23:00:00.000000 ┆ 2399 ┆ e   │\n",
       "└────────────────────────────┴──────┴─────┘"
      ]
     },
     "execution_count": 102,
     "metadata": {},
     "output_type": "execute_result"
    }
   ],
   "source": [
    "# .collect()を実行することで通常のDataFrameに変換できる。つまり、この時点でメモリに読み込まれる。\n",
    "df_lazy.collect()\n"
   ]
  },
  {
   "cell_type": "code",
   "execution_count": 79,
   "metadata": {},
   "outputs": [
    {
     "data": {
      "text/html": [
       "<div><style>\n",
       ".dataframe > thead > tr > th,\n",
       ".dataframe > tbody > tr > td {\n",
       "  text-align: right;\n",
       "  white-space: pre-wrap;\n",
       "}\n",
       "</style>\n",
       "<small>shape: (5, 3)</small><table border=\"1\" class=\"dataframe\"><thead><tr><th>DATE</th><th>a</th><th>b</th></tr><tr><td>str</td><td>i64</td><td>str</td></tr></thead><tbody><tr><td>&quot;2022-01-01T00:00:00.000000&quot;</td><td>0</td><td>&quot;a&quot;</td></tr><tr><td>&quot;2022-01-01T01:00:00.000000&quot;</td><td>1</td><td>&quot;b&quot;</td></tr><tr><td>&quot;2022-01-01T02:00:00.000000&quot;</td><td>2</td><td>&quot;c&quot;</td></tr><tr><td>&quot;2022-01-01T03:00:00.000000&quot;</td><td>3</td><td>&quot;a&quot;</td></tr><tr><td>&quot;2022-01-01T04:00:00.000000&quot;</td><td>4</td><td>&quot;d&quot;</td></tr></tbody></table></div>"
      ],
      "text/plain": [
       "shape: (5, 3)\n",
       "┌────────────────────────────┬─────┬─────┐\n",
       "│ DATE                       ┆ a   ┆ b   │\n",
       "│ ---                        ┆ --- ┆ --- │\n",
       "│ str                        ┆ i64 ┆ str │\n",
       "╞════════════════════════════╪═════╪═════╡\n",
       "│ 2022-01-01T00:00:00.000000 ┆ 0   ┆ a   │\n",
       "│ 2022-01-01T01:00:00.000000 ┆ 1   ┆ b   │\n",
       "│ 2022-01-01T02:00:00.000000 ┆ 2   ┆ c   │\n",
       "│ 2022-01-01T03:00:00.000000 ┆ 3   ┆ a   │\n",
       "│ 2022-01-01T04:00:00.000000 ┆ 4   ┆ d   │\n",
       "└────────────────────────────┴─────┴─────┘"
      ]
     },
     "execution_count": 79,
     "metadata": {},
     "output_type": "execute_result"
    }
   ],
   "source": [
    "# .fetch(レコード数)で部分的にDataFrame化できるが、現状はデバッグ目的のみで使用推奨とのこと。\n",
    "df_lazy.fetch(5)"
   ]
  },
  {
   "cell_type": "code",
   "execution_count": 84,
   "metadata": {},
   "outputs": [
    {
     "data": {
      "text/html": [
       "<div><style>\n",
       ".dataframe > thead > tr > th,\n",
       ".dataframe > tbody > tr > td {\n",
       "  text-align: right;\n",
       "  white-space: pre-wrap;\n",
       "}\n",
       "</style>\n",
       "<small>shape: (5, 3)</small><table border=\"1\" class=\"dataframe\"><thead><tr><th>DATE</th><th>a</th><th>b</th></tr><tr><td>str</td><td>i64</td><td>str</td></tr></thead><tbody><tr><td>&quot;2022-01-01T00:00:00.000000&quot;</td><td>0</td><td>&quot;a&quot;</td></tr><tr><td>&quot;2022-01-01T01:00:00.000000&quot;</td><td>1</td><td>&quot;b&quot;</td></tr><tr><td>&quot;2022-01-01T02:00:00.000000&quot;</td><td>2</td><td>&quot;c&quot;</td></tr><tr><td>&quot;2022-01-01T03:00:00.000000&quot;</td><td>3</td><td>&quot;a&quot;</td></tr><tr><td>&quot;2022-01-01T04:00:00.000000&quot;</td><td>4</td><td>&quot;d&quot;</td></tr></tbody></table></div>"
      ],
      "text/plain": [
       "shape: (5, 3)\n",
       "┌────────────────────────────┬─────┬─────┐\n",
       "│ DATE                       ┆ a   ┆ b   │\n",
       "│ ---                        ┆ --- ┆ --- │\n",
       "│ str                        ┆ i64 ┆ str │\n",
       "╞════════════════════════════╪═════╪═════╡\n",
       "│ 2022-01-01T00:00:00.000000 ┆ 0   ┆ a   │\n",
       "│ 2022-01-01T01:00:00.000000 ┆ 1   ┆ b   │\n",
       "│ 2022-01-01T02:00:00.000000 ┆ 2   ┆ c   │\n",
       "│ 2022-01-01T03:00:00.000000 ┆ 3   ┆ a   │\n",
       "│ 2022-01-01T04:00:00.000000 ┆ 4   ┆ d   │\n",
       "└────────────────────────────┴─────┴─────┘"
      ]
     },
     "execution_count": 84,
     "metadata": {},
     "output_type": "execute_result"
    }
   ],
   "source": [
    "# .fetchを使わずに同じことがしたければ下記のようにすればOK\n",
    "df_lazy.head(5).collect()"
   ]
  },
  {
   "cell_type": "code",
   "execution_count": 86,
   "metadata": {},
   "outputs": [
    {
     "data": {
      "text/html": [
       "<i>naive plan: (run <b>LazyFrame.explain(optimized=True)</b> to see the optimized plan)</i>\n",
       "    <p></p>\n",
       "    <div>FILTER [(col(\"b\")) == (Utf8(a))] FROM<p></p> SELECT [col(\"DATE\"), col(\"b\")] FROM<p></p><p></p>    Csv SCAN input/sample_data_Lazy.csv<p></p>    PROJECT */3 COLUMNS</div>"
      ],
      "text/plain": [
       "<LazyFrame [2 cols, {\"DATE\": Utf8, \"b\": Utf8}] at 0x7FC070567C90>"
      ]
     },
     "execution_count": 86,
     "metadata": {},
     "output_type": "execute_result"
    }
   ],
   "source": [
    "# select、filterしてもこの時点ではレコードは返されない。\n",
    "df_lazy.select(['DATE', 'b']).filter(\n",
    "    pl.col('b') == 'a'\n",
    ")"
   ]
  },
  {
   "cell_type": "code",
   "execution_count": 91,
   "metadata": {},
   "outputs": [
    {
     "data": {
      "text/html": [
       "<div><style>\n",
       ".dataframe > thead > tr > th,\n",
       ".dataframe > tbody > tr > td {\n",
       "  text-align: right;\n",
       "  white-space: pre-wrap;\n",
       "}\n",
       "</style>\n",
       "<small>shape: (5, 2)</small><table border=\"1\" class=\"dataframe\"><thead><tr><th>DATE</th><th>b</th></tr><tr><td>str</td><td>str</td></tr></thead><tbody><tr><td>&quot;2022-01-01T00:00:00.000000&quot;</td><td>&quot;a&quot;</td></tr><tr><td>&quot;2022-01-01T03:00:00.000000&quot;</td><td>&quot;a&quot;</td></tr><tr><td>&quot;2022-01-01T08:00:00.000000&quot;</td><td>&quot;a&quot;</td></tr><tr><td>&quot;2022-01-01T11:00:00.000000&quot;</td><td>&quot;a&quot;</td></tr><tr><td>&quot;2022-01-01T16:00:00.000000&quot;</td><td>&quot;a&quot;</td></tr></tbody></table></div>"
      ],
      "text/plain": [
       "shape: (5, 2)\n",
       "┌────────────────────────────┬─────┐\n",
       "│ DATE                       ┆ b   │\n",
       "│ ---                        ┆ --- │\n",
       "│ str                        ┆ str │\n",
       "╞════════════════════════════╪═════╡\n",
       "│ 2022-01-01T00:00:00.000000 ┆ a   │\n",
       "│ 2022-01-01T03:00:00.000000 ┆ a   │\n",
       "│ 2022-01-01T08:00:00.000000 ┆ a   │\n",
       "│ 2022-01-01T11:00:00.000000 ┆ a   │\n",
       "│ 2022-01-01T16:00:00.000000 ┆ a   │\n",
       "└────────────────────────────┴─────┘"
      ]
     },
     "execution_count": 91,
     "metadata": {},
     "output_type": "execute_result"
    }
   ],
   "source": [
    "# .collect()を実行することでクエリが評価された結果が返される。\n",
    "df_lazy.select(['DATE', 'b']).filter(\n",
    "    pl.col('b') == 'a'\n",
    ").collect().head(5)"
   ]
  },
  {
   "cell_type": "code",
   "execution_count": 122,
   "metadata": {},
   "outputs": [
    {
     "name": "stdout",
     "output_type": "stream",
     "text": [
      "CPU times: user 3 µs, sys: 2 µs, total: 5 µs\n",
      "Wall time: 7.39 µs\n"
     ]
    },
    {
     "data": {
      "text/html": [
       "<div><style>\n",
       ".dataframe > thead > tr > th,\n",
       ".dataframe > tbody > tr > td {\n",
       "  text-align: right;\n",
       "  white-space: pre-wrap;\n",
       "}\n",
       "</style>\n",
       "<small>shape: (1, 1)</small><table border=\"1\" class=\"dataframe\"><thead><tr><th>a</th></tr><tr><td>f64</td></tr></thead><tbody><tr><td>720.0</td></tr></tbody></table></div>"
      ],
      "text/plain": [
       "shape: (1, 1)\n",
       "┌───────┐\n",
       "│ a     │\n",
       "│ ---   │\n",
       "│ f64   │\n",
       "╞═══════╡\n",
       "│ 720.0 │\n",
       "└───────┘"
      ]
     },
     "execution_count": 122,
     "metadata": {},
     "output_type": "execute_result"
    }
   ],
   "source": [
    "%time\n",
    "# パーセンタイルをstreamingで計算することは可能な模様。\n",
    "# メモリに乗らない大容量データにも通用するかも。\n",
    "df_lazy.select(\n",
    "    pl.col('a').quantile(0.3)\n",
    ").collect(streaming=True)"
   ]
  },
  {
   "cell_type": "code",
   "execution_count": 129,
   "metadata": {},
   "outputs": [
    {
     "name": "stdout",
     "output_type": "stream",
     "text": [
      "CPU times: user 3 µs, sys: 1e+03 ns, total: 4 µs\n",
      "Wall time: 8.11 µs\n"
     ]
    },
    {
     "name": "stderr",
     "output_type": "stream",
     "text": [
      "/tmp/ipykernel_2888/1599517770.py:5: UserWarning: Cannot combine 'streaming' with 'comm_subplan_elim'. CSE will be turned off.\n",
      "  ).explain(streaming=True)\n"
     ]
    },
    {
     "data": {
      "text/plain": [
       "' SELECT [col(\"a\").quantile()] FROM\\n  --- PIPELINE\\n\\n  Csv SCAN input/sample_data_Lazy.csv\\n  PROJECT 1/3 COLUMNS  --- END PIPELINE\\n\\n    DF []; PROJECT */0 COLUMNS; SELECTION: \"None\"'"
      ]
     },
     "execution_count": 129,
     "metadata": {},
     "output_type": "execute_result"
    }
   ],
   "source": [
    "%time\n",
    "# explainで上記のクエリプランを確認するとstreamingっぽくなっている？\n",
    "df_lazy.select(\n",
    "    pl.col('a').quantile(0.3)\n",
    ").explain(streaming=True)"
   ]
  }
 ],
 "metadata": {
  "kernelspec": {
   "display_name": "Python 3",
   "language": "python",
   "name": "python3"
  },
  "language_info": {
   "codemirror_mode": {
    "name": "ipython",
    "version": 3
   },
   "file_extension": ".py",
   "mimetype": "text/x-python",
   "name": "python",
   "nbconvert_exporter": "python",
   "pygments_lexer": "ipython3",
   "version": "3.11.6"
  }
 },
 "nbformat": 4,
 "nbformat_minor": 2
}
