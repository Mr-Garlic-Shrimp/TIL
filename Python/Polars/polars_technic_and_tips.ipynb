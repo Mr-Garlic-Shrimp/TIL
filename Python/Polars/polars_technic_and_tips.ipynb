{
 "cells": [
  {
   "cell_type": "markdown",
   "metadata": {},
   "source": [
    "# Polarsテクニック＆tips"
   ]
  },
  {
   "cell_type": "code",
   "execution_count": 2,
   "metadata": {},
   "outputs": [],
   "source": [
    "import polars as pl\n",
    "import polars.selectors as cs # dtypeによってcolumnを選択したいときに使う"
   ]
  },
  {
   "cell_type": "markdown",
   "metadata": {},
   "source": [
    "## - 正規表現による不要な列の選定\n",
    "次のようなDataframeがあり、  \n",
    "全行の値が一つ以上の\"0\"または\"00:00:00\"となっているカラムを不要なカラムとして考える。  \n",
    "この不要なカラムを正規表現（下記）を用いて選定する。  \n",
    "```\n",
    "df[col].str.contains(regex_pattern).all():\n",
    "```"
   ]
  },
  {
   "cell_type": "code",
   "execution_count": 27,
   "metadata": {},
   "outputs": [
    {
     "data": {
      "text/html": [
       "<div><style>\n",
       ".dataframe > thead > tr,\n",
       ".dataframe > tbody > tr {\n",
       "  text-align: right;\n",
       "  white-space: pre-wrap;\n",
       "}\n",
       "</style>\n",
       "<small>shape: (6, 7)</small><table border=\"1\" class=\"dataframe\"><thead><tr><th>col1</th><th>col2</th><th>col3</th><th>col4</th><th>col5</th><th>col6</th><th>col7</th></tr><tr><td>i64</td><td>str</td><td>str</td><td>str</td><td>str</td><td>str</td><td>str</td></tr></thead><tbody><tr><td>1</td><td>&quot;000000&quot;</td><td>&quot;000001&quot;</td><td>&quot;0000000000&quot;</td><td>&quot;00:00:00&quot;</td><td>&quot;000001&quot;</td><td>&quot;00&quot;</td></tr><tr><td>2</td><td>&quot;000000&quot;</td><td>&quot;000001&quot;</td><td>&quot;0000000000&quot;</td><td>&quot;00:00:00&quot;</td><td>&quot;000002&quot;</td><td>&quot;00&quot;</td></tr><tr><td>3</td><td>&quot;000000&quot;</td><td>&quot;000001&quot;</td><td>&quot;0000000000&quot;</td><td>&quot;00:00:00&quot;</td><td>&quot;000003&quot;</td><td>&quot;00&quot;</td></tr><tr><td>4</td><td>&quot;000000&quot;</td><td>&quot;000001&quot;</td><td>&quot;0000000000&quot;</td><td>&quot;00:00:00&quot;</td><td>&quot;000004&quot;</td><td>&quot;00&quot;</td></tr><tr><td>5</td><td>&quot;000000&quot;</td><td>&quot;000001&quot;</td><td>&quot;0000000000&quot;</td><td>&quot;00:00:00&quot;</td><td>&quot;000005&quot;</td><td>&quot;00&quot;</td></tr><tr><td>6</td><td>&quot;000000&quot;</td><td>&quot;000001&quot;</td><td>&quot;0000000000&quot;</td><td>&quot;00:00:00&quot;</td><td>&quot;000006&quot;</td><td>&quot;00&quot;</td></tr></tbody></table></div>"
      ],
      "text/plain": [
       "shape: (6, 7)\n",
       "┌──────┬────────┬────────┬────────────┬──────────┬────────┬──────┐\n",
       "│ col1 ┆ col2   ┆ col3   ┆ col4       ┆ col5     ┆ col6   ┆ col7 │\n",
       "│ ---  ┆ ---    ┆ ---    ┆ ---        ┆ ---      ┆ ---    ┆ ---  │\n",
       "│ i64  ┆ str    ┆ str    ┆ str        ┆ str      ┆ str    ┆ str  │\n",
       "╞══════╪════════╪════════╪════════════╪══════════╪════════╪══════╡\n",
       "│ 1    ┆ 000000 ┆ 000001 ┆ 0000000000 ┆ 00:00:00 ┆ 000001 ┆ 00   │\n",
       "│ 2    ┆ 000000 ┆ 000001 ┆ 0000000000 ┆ 00:00:00 ┆ 000002 ┆ 00   │\n",
       "│ 3    ┆ 000000 ┆ 000001 ┆ 0000000000 ┆ 00:00:00 ┆ 000003 ┆ 00   │\n",
       "│ 4    ┆ 000000 ┆ 000001 ┆ 0000000000 ┆ 00:00:00 ┆ 000004 ┆ 00   │\n",
       "│ 5    ┆ 000000 ┆ 000001 ┆ 0000000000 ┆ 00:00:00 ┆ 000005 ┆ 00   │\n",
       "│ 6    ┆ 000000 ┆ 000001 ┆ 0000000000 ┆ 00:00:00 ┆ 000006 ┆ 00   │\n",
       "└──────┴────────┴────────┴────────────┴──────────┴────────┴──────┘"
      ]
     },
     "execution_count": 27,
     "metadata": {},
     "output_type": "execute_result"
    }
   ],
   "source": [
    "df = pl.DataFrame({\n",
    "    \"col1\": [1, 2, 3, 4, 5, 6],\n",
    "    \"col2\": [\"000000\", \"000000\", \"000000\", \"000000\", \"000000\", \"000000\"],\n",
    "    \"col3\": [\"000001\", \"000001\", \"000001\", \"000001\", \"000001\", \"000001\"],\n",
    "    \"col4\": [\"0000000000\", \"0000000000\", \"0000000000\", \"0000000000\", \"0000000000\", \"0000000000\"],\n",
    "    \"col5\": [\"00:00:00\", \"00:00:00\", \"00:00:00\", \"00:00:00\", \"00:00:00\", \"00:00:00\"],\n",
    "    \"col6\": [\"000001\", \"000002\", \"000003\", \"000004\", \"000005\", \"000006\"],\n",
    "    \"col7\": [\"00\", \"00\", \"00\", \"00\", \"00\", \"00\"],\n",
    "})\n",
    "\n",
    "df"
   ]
  },
  {
   "cell_type": "code",
   "execution_count": 18,
   "metadata": {},
   "outputs": [],
   "source": [
    "# 正規表現を定義。0または:が一つ以上末尾まで続く文字列にマッチするようにする。n回以上なら{n,}\n",
    "pattern = \"[0:]+$\""
   ]
  },
  {
   "cell_type": "code",
   "execution_count": 19,
   "metadata": {},
   "outputs": [],
   "source": [
    "useless_cols = []\n",
    "\n",
    "# 不要なカラムを抽出\n",
    "for col in df.columns:\n",
    "    # .all()はカラムの全値が条件にマッチするか判定し、Booleanを返す\n",
    "    if df[col].str.contains(pattern).all():\n",
    "        useless_cols.append(col)\n"
   ]
  },
  {
   "cell_type": "code",
   "execution_count": 21,
   "metadata": {},
   "outputs": [],
   "source": [
    "# 補足：リスト内包表記で書くとすっきりかける\n",
    "useless_cols = [col for col in df.columns if df[col].str.contains(pattern).all()]"
   ]
  },
  {
   "cell_type": "code",
   "execution_count": 20,
   "metadata": {},
   "outputs": [
    {
     "data": {
      "text/plain": [
       "['col2', 'col4', 'col5', 'col7']"
      ]
     },
     "execution_count": 20,
     "metadata": {},
     "output_type": "execute_result"
    }
   ],
   "source": [
    "useless_cols"
   ]
  },
  {
   "cell_type": "markdown",
   "metadata": {},
   "source": [
    "想定通りのカラムが選定できた。"
   ]
  },
  {
   "cell_type": "markdown",
   "metadata": {},
   "source": [
    "## - dtypeによるカラムの選択"
   ]
  },
  {
   "cell_type": "code",
   "execution_count": 3,
   "metadata": {},
   "outputs": [
    {
     "data": {
      "text/html": [
       "<div><style>\n",
       ".dataframe > thead > tr,\n",
       ".dataframe > tbody > tr {\n",
       "  text-align: right;\n",
       "  white-space: pre-wrap;\n",
       "}\n",
       "</style>\n",
       "<small>shape: (6, 5)</small><table border=\"1\" class=\"dataframe\"><thead><tr><th>col1</th><th>col2</th><th>col3</th><th>col4</th><th>col5</th></tr><tr><td>i64</td><td>str</td><td>str</td><td>object</td><td>i64</td></tr></thead><tbody><tr><td>1</td><td>&quot;000000&quot;</td><td>&quot;00&quot;</td><td>Null</td><td>10</td></tr><tr><td>2</td><td>&quot;000000&quot;</td><td>&quot;00&quot;</td><td>Null</td><td>20</td></tr><tr><td>3</td><td>&quot;000000&quot;</td><td>&quot;00&quot;</td><td>Null</td><td>30</td></tr><tr><td>4</td><td>&quot;000000&quot;</td><td>&quot;00&quot;</td><td>Null</td><td>40</td></tr><tr><td>5</td><td>&quot;000000&quot;</td><td>&quot;00&quot;</td><td>Null</td><td>50</td></tr><tr><td>6</td><td>&quot;000000&quot;</td><td>&quot;00&quot;</td><td>Null</td><td>60</td></tr></tbody></table></div>"
      ],
      "text/plain": [
       "shape: (6, 5)\n",
       "┌──────┬────────┬──────┬────────┬──────┐\n",
       "│ col1 ┆ col2   ┆ col3 ┆ col4   ┆ col5 │\n",
       "│ ---  ┆ ---    ┆ ---  ┆ ---    ┆ ---  │\n",
       "│ i64  ┆ str    ┆ str  ┆ object ┆ i64  │\n",
       "╞══════╪════════╪══════╪════════╪══════╡\n",
       "│ 1    ┆ 000000 ┆ 00   ┆ Null   ┆ 10   │\n",
       "│ 2    ┆ 000000 ┆ 00   ┆ Null   ┆ 20   │\n",
       "│ 3    ┆ 000000 ┆ 00   ┆ Null   ┆ 30   │\n",
       "│ 4    ┆ 000000 ┆ 00   ┆ Null   ┆ 40   │\n",
       "│ 5    ┆ 000000 ┆ 00   ┆ Null   ┆ 50   │\n",
       "│ 6    ┆ 000000 ┆ 00   ┆ Null   ┆ 60   │\n",
       "└──────┴────────┴──────┴────────┴──────┘"
      ]
     },
     "execution_count": 3,
     "metadata": {},
     "output_type": "execute_result"
    }
   ],
   "source": [
    "df = pl.DataFrame({\n",
    "    \"col1\": [1, 2, 3, 4, 5, 6],\n",
    "    \"col2\": [\"000000\", \"000000\", \"000000\", \"000000\", \"000000\", \"000000\"],\n",
    "    \"col3\": [\"00\", \"00\", \"00\", \"00\", \"00\", \"00\"],\n",
    "    \"col4\": [pl.Null, pl.Null, pl.Null, pl.Null, pl.Null, pl.Null],\n",
    "    \"col5\": [10, 20, 30, 40, 50, 60]\n",
    "})\n",
    "\n",
    "df"
   ]
  },
  {
   "cell_type": "code",
   "execution_count": 4,
   "metadata": {},
   "outputs": [
    {
     "data": {
      "text/html": [
       "<div><style>\n",
       ".dataframe > thead > tr,\n",
       ".dataframe > tbody > tr {\n",
       "  text-align: right;\n",
       "  white-space: pre-wrap;\n",
       "}\n",
       "</style>\n",
       "<small>shape: (6, 2)</small><table border=\"1\" class=\"dataframe\"><thead><tr><th>col2</th><th>col3</th></tr><tr><td>str</td><td>str</td></tr></thead><tbody><tr><td>&quot;000000&quot;</td><td>&quot;00&quot;</td></tr><tr><td>&quot;000000&quot;</td><td>&quot;00&quot;</td></tr><tr><td>&quot;000000&quot;</td><td>&quot;00&quot;</td></tr><tr><td>&quot;000000&quot;</td><td>&quot;00&quot;</td></tr><tr><td>&quot;000000&quot;</td><td>&quot;00&quot;</td></tr><tr><td>&quot;000000&quot;</td><td>&quot;00&quot;</td></tr></tbody></table></div>"
      ],
      "text/plain": [
       "shape: (6, 2)\n",
       "┌────────┬──────┐\n",
       "│ col2   ┆ col3 │\n",
       "│ ---    ┆ ---  │\n",
       "│ str    ┆ str  │\n",
       "╞════════╪══════╡\n",
       "│ 000000 ┆ 00   │\n",
       "│ 000000 ┆ 00   │\n",
       "│ 000000 ┆ 00   │\n",
       "│ 000000 ┆ 00   │\n",
       "│ 000000 ┆ 00   │\n",
       "│ 000000 ┆ 00   │\n",
       "└────────┴──────┘"
      ]
     },
     "execution_count": 4,
     "metadata": {},
     "output_type": "execute_result"
    }
   ],
   "source": [
    "# string型のカラムのみ抽出\n",
    "str_cols = df.select(cs.string())\n",
    "str_cols"
   ]
  },
  {
   "cell_type": "markdown",
   "metadata": {},
   "source": [
    "## - Nullが含まれていると、value_countsやuniqueが出来ない"
   ]
  },
  {
   "cell_type": "code",
   "execution_count": 5,
   "metadata": {},
   "outputs": [
    {
     "data": {
      "text/html": [
       "<div><style>\n",
       ".dataframe > thead > tr,\n",
       ".dataframe > tbody > tr {\n",
       "  text-align: right;\n",
       "  white-space: pre-wrap;\n",
       "}\n",
       "</style>\n",
       "<small>shape: (6, 1)</small><table border=\"1\" class=\"dataframe\"><thead><tr><th>col4</th></tr><tr><td>object</td></tr></thead><tbody><tr><td>Null</td></tr><tr><td>Null</td></tr><tr><td>Null</td></tr><tr><td>Null</td></tr><tr><td>Null</td></tr><tr><td>Null</td></tr></tbody></table></div>"
      ],
      "text/plain": [
       "shape: (6, 1)\n",
       "┌────────┐\n",
       "│ col4   │\n",
       "│ ---    │\n",
       "│ object │\n",
       "╞════════╡\n",
       "│ Null   │\n",
       "│ Null   │\n",
       "│ Null   │\n",
       "│ Null   │\n",
       "│ Null   │\n",
       "│ Null   │\n",
       "└────────┘"
      ]
     },
     "execution_count": 5,
     "metadata": {},
     "output_type": "execute_result"
    }
   ],
   "source": [
    "df.select(pl.col(\"col4\"))"
   ]
  },
  {
   "cell_type": "code",
   "execution_count": 9,
   "metadata": {},
   "outputs": [
    {
     "ename": "ColumnNotFoundError",
     "evalue": "col",
     "output_type": "error",
     "traceback": [
      "\u001b[0;31m---------------------------------------------------------------------------\u001b[0m",
      "\u001b[0;31mColumnNotFoundError\u001b[0m                       Traceback (most recent call last)",
      "Cell \u001b[0;32mIn[9], line 1\u001b[0m\n\u001b[0;32m----> 1\u001b[0m \u001b[43mdf\u001b[49m\u001b[38;5;241;43m.\u001b[39;49m\u001b[43mselect\u001b[49m\u001b[43m(\u001b[49m\u001b[43mpl\u001b[49m\u001b[38;5;241;43m.\u001b[39;49m\u001b[43mcol\u001b[49m\u001b[43m(\u001b[49m\u001b[38;5;124;43m\"\u001b[39;49m\u001b[38;5;124;43mcol\u001b[39;49m\u001b[38;5;124;43m\"\u001b[39;49m\u001b[43m)\u001b[49m\u001b[38;5;241;43m.\u001b[39;49m\u001b[43mvalue_counts\u001b[49m\u001b[43m(\u001b[49m\u001b[43m)\u001b[49m\u001b[43m)\u001b[49m\n",
      "File \u001b[0;32m/usr/local/lib/python3.11/site-packages/polars/dataframe/frame.py:8618\u001b[0m, in \u001b[0;36mDataFrame.select\u001b[0;34m(self, *exprs, **named_exprs)\u001b[0m\n\u001b[1;32m   8518\u001b[0m \u001b[38;5;28;01mdef\u001b[39;00m \u001b[38;5;21mselect\u001b[39m(\n\u001b[1;32m   8519\u001b[0m     \u001b[38;5;28mself\u001b[39m, \u001b[38;5;241m*\u001b[39mexprs: IntoExpr \u001b[38;5;241m|\u001b[39m Iterable[IntoExpr], \u001b[38;5;241m*\u001b[39m\u001b[38;5;241m*\u001b[39mnamed_exprs: IntoExpr\n\u001b[1;32m   8520\u001b[0m ) \u001b[38;5;241m-\u001b[39m\u001b[38;5;241m>\u001b[39m DataFrame:\n\u001b[1;32m   8521\u001b[0m \u001b[38;5;250m    \u001b[39m\u001b[38;5;124;03m\"\"\"\u001b[39;00m\n\u001b[1;32m   8522\u001b[0m \u001b[38;5;124;03m    Select columns from this DataFrame.\u001b[39;00m\n\u001b[1;32m   8523\u001b[0m \n\u001b[0;32m   (...)\u001b[0m\n\u001b[1;32m   8616\u001b[0m \u001b[38;5;124;03m    └──────────────┘\u001b[39;00m\n\u001b[1;32m   8617\u001b[0m \u001b[38;5;124;03m    \"\"\"\u001b[39;00m\n\u001b[0;32m-> 8618\u001b[0m     \u001b[38;5;28;01mreturn\u001b[39;00m \u001b[38;5;28;43mself\u001b[39;49m\u001b[38;5;241;43m.\u001b[39;49m\u001b[43mlazy\u001b[49m\u001b[43m(\u001b[49m\u001b[43m)\u001b[49m\u001b[38;5;241;43m.\u001b[39;49m\u001b[43mselect\u001b[49m\u001b[43m(\u001b[49m\u001b[38;5;241;43m*\u001b[39;49m\u001b[43mexprs\u001b[49m\u001b[43m,\u001b[49m\u001b[43m \u001b[49m\u001b[38;5;241;43m*\u001b[39;49m\u001b[38;5;241;43m*\u001b[39;49m\u001b[43mnamed_exprs\u001b[49m\u001b[43m)\u001b[49m\u001b[38;5;241;43m.\u001b[39;49m\u001b[43mcollect\u001b[49m\u001b[43m(\u001b[49m\u001b[43m_eager\u001b[49m\u001b[38;5;241;43m=\u001b[39;49m\u001b[38;5;28;43;01mTrue\u001b[39;49;00m\u001b[43m)\u001b[49m\n",
      "File \u001b[0;32m/usr/local/lib/python3.11/site-packages/polars/lazyframe/frame.py:1942\u001b[0m, in \u001b[0;36mLazyFrame.collect\u001b[0;34m(self, type_coercion, predicate_pushdown, projection_pushdown, simplify_expression, slice_pushdown, comm_subplan_elim, comm_subexpr_elim, cluster_with_columns, no_optimization, streaming, background, _eager, **_kwargs)\u001b[0m\n\u001b[1;32m   1939\u001b[0m \u001b[38;5;66;03m# Only for testing purposes atm.\u001b[39;00m\n\u001b[1;32m   1940\u001b[0m callback \u001b[38;5;241m=\u001b[39m _kwargs\u001b[38;5;241m.\u001b[39mget(\u001b[38;5;124m\"\u001b[39m\u001b[38;5;124mpost_opt_callback\u001b[39m\u001b[38;5;124m\"\u001b[39m)\n\u001b[0;32m-> 1942\u001b[0m \u001b[38;5;28;01mreturn\u001b[39;00m wrap_df(\u001b[43mldf\u001b[49m\u001b[38;5;241;43m.\u001b[39;49m\u001b[43mcollect\u001b[49m\u001b[43m(\u001b[49m\u001b[43mcallback\u001b[49m\u001b[43m)\u001b[49m)\n",
      "\u001b[0;31mColumnNotFoundError\u001b[0m: col"
     ]
    }
   ],
   "source": [
    "df.select(pl.col(\"col\").value_counts())"
   ]
  },
  {
   "cell_type": "code",
   "execution_count": 10,
   "metadata": {},
   "outputs": [
    {
     "ename": "TypeError",
     "evalue": "cannot create expression literal for value of type method: <bound method Expr.unique of <Expr ['col(\"col\")'] at 0x7F56B8FB4D90>>\n\nHint: Pass `allow_object=True` to accept any value and create a literal of type Object.",
     "output_type": "error",
     "traceback": [
      "\u001b[0;31m---------------------------------------------------------------------------\u001b[0m",
      "\u001b[0;31mTypeError\u001b[0m                                 Traceback (most recent call last)",
      "Cell \u001b[0;32mIn[10], line 1\u001b[0m\n\u001b[0;32m----> 1\u001b[0m \u001b[43mdf\u001b[49m\u001b[38;5;241;43m.\u001b[39;49m\u001b[43mselect\u001b[49m\u001b[43m(\u001b[49m\u001b[43mpl\u001b[49m\u001b[38;5;241;43m.\u001b[39;49m\u001b[43mcol\u001b[49m\u001b[43m(\u001b[49m\u001b[38;5;124;43m\"\u001b[39;49m\u001b[38;5;124;43mcol\u001b[39;49m\u001b[38;5;124;43m\"\u001b[39;49m\u001b[43m)\u001b[49m\u001b[38;5;241;43m.\u001b[39;49m\u001b[43munique\u001b[49m\u001b[43m)\u001b[49m\n",
      "File \u001b[0;32m/usr/local/lib/python3.11/site-packages/polars/dataframe/frame.py:8618\u001b[0m, in \u001b[0;36mDataFrame.select\u001b[0;34m(self, *exprs, **named_exprs)\u001b[0m\n\u001b[1;32m   8518\u001b[0m \u001b[38;5;28;01mdef\u001b[39;00m \u001b[38;5;21mselect\u001b[39m(\n\u001b[1;32m   8519\u001b[0m     \u001b[38;5;28mself\u001b[39m, \u001b[38;5;241m*\u001b[39mexprs: IntoExpr \u001b[38;5;241m|\u001b[39m Iterable[IntoExpr], \u001b[38;5;241m*\u001b[39m\u001b[38;5;241m*\u001b[39mnamed_exprs: IntoExpr\n\u001b[1;32m   8520\u001b[0m ) \u001b[38;5;241m-\u001b[39m\u001b[38;5;241m>\u001b[39m DataFrame:\n\u001b[1;32m   8521\u001b[0m \u001b[38;5;250m    \u001b[39m\u001b[38;5;124;03m\"\"\"\u001b[39;00m\n\u001b[1;32m   8522\u001b[0m \u001b[38;5;124;03m    Select columns from this DataFrame.\u001b[39;00m\n\u001b[1;32m   8523\u001b[0m \n\u001b[0;32m   (...)\u001b[0m\n\u001b[1;32m   8616\u001b[0m \u001b[38;5;124;03m    └──────────────┘\u001b[39;00m\n\u001b[1;32m   8617\u001b[0m \u001b[38;5;124;03m    \"\"\"\u001b[39;00m\n\u001b[0;32m-> 8618\u001b[0m     \u001b[38;5;28;01mreturn\u001b[39;00m \u001b[38;5;28;43mself\u001b[39;49m\u001b[38;5;241;43m.\u001b[39;49m\u001b[43mlazy\u001b[49m\u001b[43m(\u001b[49m\u001b[43m)\u001b[49m\u001b[38;5;241;43m.\u001b[39;49m\u001b[43mselect\u001b[49m\u001b[43m(\u001b[49m\u001b[38;5;241;43m*\u001b[39;49m\u001b[43mexprs\u001b[49m\u001b[43m,\u001b[49m\u001b[43m \u001b[49m\u001b[38;5;241;43m*\u001b[39;49m\u001b[38;5;241;43m*\u001b[39;49m\u001b[43mnamed_exprs\u001b[49m\u001b[43m)\u001b[49m\u001b[38;5;241m.\u001b[39mcollect(_eager\u001b[38;5;241m=\u001b[39m\u001b[38;5;28;01mTrue\u001b[39;00m)\n",
      "File \u001b[0;32m/usr/local/lib/python3.11/site-packages/polars/lazyframe/frame.py:3231\u001b[0m, in \u001b[0;36mLazyFrame.select\u001b[0;34m(self, *exprs, **named_exprs)\u001b[0m\n\u001b[1;32m   3130\u001b[0m \u001b[38;5;250m\u001b[39m\u001b[38;5;124;03m\"\"\"\u001b[39;00m\n\u001b[1;32m   3131\u001b[0m \u001b[38;5;124;03mSelect columns from this LazyFrame.\u001b[39;00m\n\u001b[1;32m   3132\u001b[0m \n\u001b[0;32m   (...)\u001b[0m\n\u001b[1;32m   3227\u001b[0m \u001b[38;5;124;03m└──────────────┘\u001b[39;00m\n\u001b[1;32m   3228\u001b[0m \u001b[38;5;124;03m\"\"\"\u001b[39;00m\n\u001b[1;32m   3229\u001b[0m structify \u001b[38;5;241m=\u001b[39m \u001b[38;5;28mbool\u001b[39m(\u001b[38;5;28mint\u001b[39m(os\u001b[38;5;241m.\u001b[39menviron\u001b[38;5;241m.\u001b[39mget(\u001b[38;5;124m\"\u001b[39m\u001b[38;5;124mPOLARS_AUTO_STRUCTIFY\u001b[39m\u001b[38;5;124m\"\u001b[39m, \u001b[38;5;241m0\u001b[39m)))\n\u001b[0;32m-> 3231\u001b[0m pyexprs \u001b[38;5;241m=\u001b[39m \u001b[43mparse_into_list_of_expressions\u001b[49m\u001b[43m(\u001b[49m\n\u001b[1;32m   3232\u001b[0m \u001b[43m    \u001b[49m\u001b[38;5;241;43m*\u001b[39;49m\u001b[43mexprs\u001b[49m\u001b[43m,\u001b[49m\u001b[43m \u001b[49m\u001b[38;5;241;43m*\u001b[39;49m\u001b[38;5;241;43m*\u001b[39;49m\u001b[43mnamed_exprs\u001b[49m\u001b[43m,\u001b[49m\u001b[43m \u001b[49m\u001b[43m__structify\u001b[49m\u001b[38;5;241;43m=\u001b[39;49m\u001b[43mstructify\u001b[49m\n\u001b[1;32m   3233\u001b[0m \u001b[43m\u001b[49m\u001b[43m)\u001b[49m\n\u001b[1;32m   3234\u001b[0m \u001b[38;5;28;01mreturn\u001b[39;00m \u001b[38;5;28mself\u001b[39m\u001b[38;5;241m.\u001b[39m_from_pyldf(\u001b[38;5;28mself\u001b[39m\u001b[38;5;241m.\u001b[39m_ldf\u001b[38;5;241m.\u001b[39mselect(pyexprs))\n",
      "File \u001b[0;32m/usr/local/lib/python3.11/site-packages/polars/_utils/parse/expr.py:99\u001b[0m, in \u001b[0;36mparse_into_list_of_expressions\u001b[0;34m(__structify, *inputs, **named_inputs)\u001b[0m\n\u001b[1;32m     77\u001b[0m \u001b[38;5;28;01mdef\u001b[39;00m \u001b[38;5;21mparse_into_list_of_expressions\u001b[39m(\n\u001b[1;32m     78\u001b[0m     \u001b[38;5;241m*\u001b[39minputs: IntoExpr \u001b[38;5;241m|\u001b[39m Iterable[IntoExpr],\n\u001b[1;32m     79\u001b[0m     __structify: \u001b[38;5;28mbool\u001b[39m \u001b[38;5;241m=\u001b[39m \u001b[38;5;28;01mFalse\u001b[39;00m,\n\u001b[1;32m     80\u001b[0m     \u001b[38;5;241m*\u001b[39m\u001b[38;5;241m*\u001b[39mnamed_inputs: IntoExpr,\n\u001b[1;32m     81\u001b[0m ) \u001b[38;5;241m-\u001b[39m\u001b[38;5;241m>\u001b[39m \u001b[38;5;28mlist\u001b[39m[PyExpr]:\n\u001b[1;32m     82\u001b[0m \u001b[38;5;250m    \u001b[39m\u001b[38;5;124;03m\"\"\"\u001b[39;00m\n\u001b[1;32m     83\u001b[0m \u001b[38;5;124;03m    Parse multiple inputs into a list of expressions.\u001b[39;00m\n\u001b[1;32m     84\u001b[0m \n\u001b[0;32m   (...)\u001b[0m\n\u001b[1;32m     97\u001b[0m \u001b[38;5;124;03m    list of PyExpr\u001b[39;00m\n\u001b[1;32m     98\u001b[0m \u001b[38;5;124;03m    \"\"\"\u001b[39;00m\n\u001b[0;32m---> 99\u001b[0m     exprs \u001b[38;5;241m=\u001b[39m \u001b[43m_parse_positional_inputs\u001b[49m\u001b[43m(\u001b[49m\u001b[43minputs\u001b[49m\u001b[43m,\u001b[49m\u001b[43m \u001b[49m\u001b[43mstructify\u001b[49m\u001b[38;5;241;43m=\u001b[39;49m\u001b[43m__structify\u001b[49m\u001b[43m)\u001b[49m  \u001b[38;5;66;03m# type: ignore[arg-type]\u001b[39;00m\n\u001b[1;32m    100\u001b[0m     \u001b[38;5;28;01mif\u001b[39;00m named_inputs:\n\u001b[1;32m    101\u001b[0m         named_exprs \u001b[38;5;241m=\u001b[39m _parse_named_inputs(named_inputs, structify\u001b[38;5;241m=\u001b[39m__structify)\n",
      "File \u001b[0;32m/usr/local/lib/python3.11/site-packages/polars/_utils/parse/expr.py:113\u001b[0m, in \u001b[0;36m_parse_positional_inputs\u001b[0;34m(inputs, structify)\u001b[0m\n\u001b[1;32m    107\u001b[0m \u001b[38;5;28;01mdef\u001b[39;00m \u001b[38;5;21m_parse_positional_inputs\u001b[39m(\n\u001b[1;32m    108\u001b[0m     inputs: \u001b[38;5;28mtuple\u001b[39m[IntoExpr, \u001b[38;5;241m.\u001b[39m\u001b[38;5;241m.\u001b[39m\u001b[38;5;241m.\u001b[39m] \u001b[38;5;241m|\u001b[39m \u001b[38;5;28mtuple\u001b[39m[Iterable[IntoExpr]],\n\u001b[1;32m    109\u001b[0m     \u001b[38;5;241m*\u001b[39m,\n\u001b[1;32m    110\u001b[0m     structify: \u001b[38;5;28mbool\u001b[39m \u001b[38;5;241m=\u001b[39m \u001b[38;5;28;01mFalse\u001b[39;00m,\n\u001b[1;32m    111\u001b[0m ) \u001b[38;5;241m-\u001b[39m\u001b[38;5;241m>\u001b[39m \u001b[38;5;28mlist\u001b[39m[PyExpr]:\n\u001b[1;32m    112\u001b[0m     inputs_iter \u001b[38;5;241m=\u001b[39m _parse_inputs_as_iterable(inputs)\n\u001b[0;32m--> 113\u001b[0m     \u001b[38;5;28;01mreturn\u001b[39;00m \u001b[43m[\u001b[49m\u001b[43mparse_into_expression\u001b[49m\u001b[43m(\u001b[49m\u001b[43me\u001b[49m\u001b[43m,\u001b[49m\u001b[43m \u001b[49m\u001b[43mstructify\u001b[49m\u001b[38;5;241;43m=\u001b[39;49m\u001b[43mstructify\u001b[49m\u001b[43m)\u001b[49m\u001b[43m \u001b[49m\u001b[38;5;28;43;01mfor\u001b[39;49;00m\u001b[43m \u001b[49m\u001b[43me\u001b[49m\u001b[43m \u001b[49m\u001b[38;5;129;43;01min\u001b[39;49;00m\u001b[43m \u001b[49m\u001b[43minputs_iter\u001b[49m\u001b[43m]\u001b[49m\n",
      "File \u001b[0;32m/usr/local/lib/python3.11/site-packages/polars/_utils/parse/expr.py:113\u001b[0m, in \u001b[0;36m<listcomp>\u001b[0;34m(.0)\u001b[0m\n\u001b[1;32m    107\u001b[0m \u001b[38;5;28;01mdef\u001b[39;00m \u001b[38;5;21m_parse_positional_inputs\u001b[39m(\n\u001b[1;32m    108\u001b[0m     inputs: \u001b[38;5;28mtuple\u001b[39m[IntoExpr, \u001b[38;5;241m.\u001b[39m\u001b[38;5;241m.\u001b[39m\u001b[38;5;241m.\u001b[39m] \u001b[38;5;241m|\u001b[39m \u001b[38;5;28mtuple\u001b[39m[Iterable[IntoExpr]],\n\u001b[1;32m    109\u001b[0m     \u001b[38;5;241m*\u001b[39m,\n\u001b[1;32m    110\u001b[0m     structify: \u001b[38;5;28mbool\u001b[39m \u001b[38;5;241m=\u001b[39m \u001b[38;5;28;01mFalse\u001b[39;00m,\n\u001b[1;32m    111\u001b[0m ) \u001b[38;5;241m-\u001b[39m\u001b[38;5;241m>\u001b[39m \u001b[38;5;28mlist\u001b[39m[PyExpr]:\n\u001b[1;32m    112\u001b[0m     inputs_iter \u001b[38;5;241m=\u001b[39m _parse_inputs_as_iterable(inputs)\n\u001b[0;32m--> 113\u001b[0m     \u001b[38;5;28;01mreturn\u001b[39;00m [\u001b[43mparse_into_expression\u001b[49m\u001b[43m(\u001b[49m\u001b[43me\u001b[49m\u001b[43m,\u001b[49m\u001b[43m \u001b[49m\u001b[43mstructify\u001b[49m\u001b[38;5;241;43m=\u001b[39;49m\u001b[43mstructify\u001b[49m\u001b[43m)\u001b[49m \u001b[38;5;28;01mfor\u001b[39;00m e \u001b[38;5;129;01min\u001b[39;00m inputs_iter]\n",
      "File \u001b[0;32m/usr/local/lib/python3.11/site-packages/polars/_utils/parse/expr.py:60\u001b[0m, in \u001b[0;36mparse_into_expression\u001b[0;34m(input, str_as_lit, list_as_series, structify, dtype)\u001b[0m\n\u001b[1;32m     58\u001b[0m     expr \u001b[38;5;241m=\u001b[39m F\u001b[38;5;241m.\u001b[39mlit(pl\u001b[38;5;241m.\u001b[39mSeries(\u001b[38;5;28minput\u001b[39m), dtype\u001b[38;5;241m=\u001b[39mdtype)\n\u001b[1;32m     59\u001b[0m \u001b[38;5;28;01melse\u001b[39;00m:\n\u001b[0;32m---> 60\u001b[0m     expr \u001b[38;5;241m=\u001b[39m \u001b[43mF\u001b[49m\u001b[38;5;241;43m.\u001b[39;49m\u001b[43mlit\u001b[49m\u001b[43m(\u001b[49m\u001b[38;5;28;43minput\u001b[39;49m\u001b[43m,\u001b[49m\u001b[43m \u001b[49m\u001b[43mdtype\u001b[49m\u001b[38;5;241;43m=\u001b[39;49m\u001b[43mdtype\u001b[49m\u001b[43m)\u001b[49m\n\u001b[1;32m     62\u001b[0m \u001b[38;5;28;01mreturn\u001b[39;00m expr\u001b[38;5;241m.\u001b[39m_pyexpr\n",
      "File \u001b[0;32m/usr/local/lib/python3.11/site-packages/polars/functions/lit.py:160\u001b[0m, in \u001b[0;36mlit\u001b[0;34m(value, dtype, allow_object)\u001b[0m\n\u001b[1;32m    157\u001b[0m \u001b[38;5;28;01mexcept\u001b[39;00m \u001b[38;5;167;01mAttributeError\u001b[39;00m:\n\u001b[1;32m    158\u001b[0m     item \u001b[38;5;241m=\u001b[39m value\n\u001b[0;32m--> 160\u001b[0m \u001b[38;5;28;01mreturn\u001b[39;00m wrap_expr(\u001b[43mplr\u001b[49m\u001b[38;5;241;43m.\u001b[39;49m\u001b[43mlit\u001b[49m\u001b[43m(\u001b[49m\u001b[43mitem\u001b[49m\u001b[43m,\u001b[49m\u001b[43m \u001b[49m\u001b[43mallow_object\u001b[49m\u001b[43m)\u001b[49m)\n",
      "\u001b[0;31mTypeError\u001b[0m: cannot create expression literal for value of type method: <bound method Expr.unique of <Expr ['col(\"col\")'] at 0x7F56B8FB4D90>>\n\nHint: Pass `allow_object=True` to accept any value and create a literal of type Object."
     ]
    }
   ],
   "source": [
    "df.select(pl.col(\"col\").unique)"
   ]
  },
  {
   "cell_type": "markdown",
   "metadata": {},
   "source": [
    "## - 全行が単一の値となっているカラムを抽出する関数"
   ]
  },
  {
   "cell_type": "code",
   "execution_count": 12,
   "metadata": {},
   "outputs": [
    {
     "data": {
      "text/html": [
       "<div><style>\n",
       ".dataframe > thead > tr,\n",
       ".dataframe > tbody > tr {\n",
       "  text-align: right;\n",
       "  white-space: pre-wrap;\n",
       "}\n",
       "</style>\n",
       "<small>shape: (5, 4)</small><table border=\"1\" class=\"dataframe\"><thead><tr><th>id</th><th>code</th><th>all_nulls</th><th>mixed</th></tr><tr><td>i64</td><td>str</td><td>null</td><td>str</td></tr></thead><tbody><tr><td>1</td><td>&quot;0000000&quot;</td><td>null</td><td>&quot;0000000&quot;</td></tr><tr><td>2</td><td>&quot;0000000&quot;</td><td>null</td><td>&quot;0000000&quot;</td></tr><tr><td>3</td><td>&quot;0000000&quot;</td><td>null</td><td>null</td></tr><tr><td>4</td><td>&quot;0000000&quot;</td><td>null</td><td>&quot;0000000&quot;</td></tr><tr><td>5</td><td>&quot;0000000&quot;</td><td>null</td><td>&quot;0000000&quot;</td></tr></tbody></table></div>"
      ],
      "text/plain": [
       "shape: (5, 4)\n",
       "┌─────┬─────────┬───────────┬─────────┐\n",
       "│ id  ┆ code    ┆ all_nulls ┆ mixed   │\n",
       "│ --- ┆ ---     ┆ ---       ┆ ---     │\n",
       "│ i64 ┆ str     ┆ null      ┆ str     │\n",
       "╞═════╪═════════╪═══════════╪═════════╡\n",
       "│ 1   ┆ 0000000 ┆ null      ┆ 0000000 │\n",
       "│ 2   ┆ 0000000 ┆ null      ┆ 0000000 │\n",
       "│ 3   ┆ 0000000 ┆ null      ┆ null    │\n",
       "│ 4   ┆ 0000000 ┆ null      ┆ 0000000 │\n",
       "│ 5   ┆ 0000000 ┆ null      ┆ 0000000 │\n",
       "└─────┴─────────┴───────────┴─────────┘"
      ]
     },
     "execution_count": 12,
     "metadata": {},
     "output_type": "execute_result"
    }
   ],
   "source": [
    "# サンプルデータの作成\n",
    "df = pl.DataFrame({\n",
    "    \"id\": [1, 2, 3, 4, 5],\n",
    "    \"code\": [\"0000000\", \"0000000\", \"0000000\", \"0000000\", \"0000000\"],\n",
    "    \"all_nulls\": [None, None, None, None, None],\n",
    "    \"mixed\": [\"0000000\", \"0000000\", None, \"0000000\", \"0000000\"]\n",
    "})\n",
    "\n",
    "df"
   ]
  },
  {
   "cell_type": "code",
   "execution_count": 14,
   "metadata": {},
   "outputs": [
    {
     "name": "stdout",
     "output_type": "stream",
     "text": [
      "Column 'id' has single value across all rows: False\n",
      "Column 'code' has single value across all rows: True\n",
      "Column 'all_nulls' has single value across all rows: True\n",
      "Column 'mixed' has single value across all rows: True\n"
     ]
    }
   ],
   "source": [
    "# カラムが全行単一の値となっているか判定する関数\n",
    "def is_single_value_column(column: pl.Series) -> bool:\n",
    "    # すべての値がNullの場合はTrueを返す\n",
    "    if column.null_count() == len(column):\n",
    "        return True\n",
    "    # ユニークな値の数を確認\n",
    "    unique_values = column.drop_nulls().unique().len()\n",
    "    return unique_values == 1\n",
    "\n",
    "\n",
    "# 判定を行う\n",
    "for col in df.columns:\n",
    "    result = is_single_value_column(df[col])\n",
    "    print(f\"Column '{col}' has single value across all rows: {result}\")\n",
    "\n"
   ]
  }
 ],
 "metadata": {
  "kernelspec": {
   "display_name": "Python 3",
   "language": "python",
   "name": "python3"
  },
  "language_info": {
   "codemirror_mode": {
    "name": "ipython",
    "version": 3
   },
   "file_extension": ".py",
   "mimetype": "text/x-python",
   "name": "python",
   "nbconvert_exporter": "python",
   "pygments_lexer": "ipython3",
   "version": "3.11.6"
  }
 },
 "nbformat": 4,
 "nbformat_minor": 2
}
