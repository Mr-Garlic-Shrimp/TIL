{
 "cells": [
  {
   "cell_type": "markdown",
   "metadata": {},
   "source": [
    "# Polarsテクニック"
   ]
  },
  {
   "cell_type": "code",
   "execution_count": 2,
   "metadata": {},
   "outputs": [],
   "source": [
    "import polars as pl"
   ]
  },
  {
   "cell_type": "markdown",
   "metadata": {},
   "source": [
    "## - 正規表現による不要な列の選定\n",
    "次のようなDataframeがあり、  \n",
    "全行の値が一つ以上の\"0\"または\"00:00:00\"となっているカラムを不要なカラムとして考える。  \n",
    "この不要なカラムを正規表現（下記）を用いて選定する。  \n",
    "```\n",
    "df[col].str.contains(regex_pattern).all():\n",
    "```"
   ]
  },
  {
   "cell_type": "code",
   "execution_count": 3,
   "metadata": {},
   "outputs": [
    {
     "data": {
      "text/html": [
       "<div><style>\n",
       ".dataframe > thead > tr,\n",
       ".dataframe > tbody > tr {\n",
       "  text-align: right;\n",
       "  white-space: pre-wrap;\n",
       "}\n",
       "</style>\n",
       "<small>shape: (6, 7)</small><table border=\"1\" class=\"dataframe\"><thead><tr><th>col1</th><th>col2</th><th>col3</th><th>col4</th><th>col5</th><th>col6</th><th>col7</th></tr><tr><td>i64</td><td>str</td><td>str</td><td>str</td><td>str</td><td>str</td><td>str</td></tr></thead><tbody><tr><td>1</td><td>&quot;000000&quot;</td><td>&quot;000001&quot;</td><td>&quot;0000000000&quot;</td><td>&quot;00:00:00&quot;</td><td>&quot;000001&quot;</td><td>&quot;00&quot;</td></tr><tr><td>2</td><td>&quot;000000&quot;</td><td>&quot;000001&quot;</td><td>&quot;0000000000&quot;</td><td>&quot;00:00:00&quot;</td><td>&quot;000002&quot;</td><td>&quot;00&quot;</td></tr><tr><td>3</td><td>&quot;000000&quot;</td><td>&quot;000001&quot;</td><td>&quot;0000000000&quot;</td><td>&quot;00:00:00&quot;</td><td>&quot;000003&quot;</td><td>&quot;00&quot;</td></tr><tr><td>4</td><td>&quot;000000&quot;</td><td>&quot;000001&quot;</td><td>&quot;0000000000&quot;</td><td>&quot;00:00:00&quot;</td><td>&quot;000004&quot;</td><td>&quot;00&quot;</td></tr><tr><td>5</td><td>&quot;000000&quot;</td><td>&quot;000001&quot;</td><td>&quot;0000000000&quot;</td><td>&quot;00:00:00&quot;</td><td>&quot;000005&quot;</td><td>&quot;00&quot;</td></tr><tr><td>6</td><td>&quot;000000&quot;</td><td>&quot;000001&quot;</td><td>&quot;0000000000&quot;</td><td>&quot;00:00:00&quot;</td><td>&quot;000006&quot;</td><td>&quot;00&quot;</td></tr></tbody></table></div>"
      ],
      "text/plain": [
       "shape: (6, 7)\n",
       "┌──────┬────────┬────────┬────────────┬──────────┬────────┬──────┐\n",
       "│ col1 ┆ col2   ┆ col3   ┆ col4       ┆ col5     ┆ col6   ┆ col7 │\n",
       "│ ---  ┆ ---    ┆ ---    ┆ ---        ┆ ---      ┆ ---    ┆ ---  │\n",
       "│ i64  ┆ str    ┆ str    ┆ str        ┆ str      ┆ str    ┆ str  │\n",
       "╞══════╪════════╪════════╪════════════╪══════════╪════════╪══════╡\n",
       "│ 1    ┆ 000000 ┆ 000001 ┆ 0000000000 ┆ 00:00:00 ┆ 000001 ┆ 00   │\n",
       "│ 2    ┆ 000000 ┆ 000001 ┆ 0000000000 ┆ 00:00:00 ┆ 000002 ┆ 00   │\n",
       "│ 3    ┆ 000000 ┆ 000001 ┆ 0000000000 ┆ 00:00:00 ┆ 000003 ┆ 00   │\n",
       "│ 4    ┆ 000000 ┆ 000001 ┆ 0000000000 ┆ 00:00:00 ┆ 000004 ┆ 00   │\n",
       "│ 5    ┆ 000000 ┆ 000001 ┆ 0000000000 ┆ 00:00:00 ┆ 000005 ┆ 00   │\n",
       "│ 6    ┆ 000000 ┆ 000001 ┆ 0000000000 ┆ 00:00:00 ┆ 000006 ┆ 00   │\n",
       "└──────┴────────┴────────┴────────────┴──────────┴────────┴──────┘"
      ]
     },
     "execution_count": 3,
     "metadata": {},
     "output_type": "execute_result"
    }
   ],
   "source": [
    "df = pl.DataFrame({\n",
    "    \"col1\": [1, 2, 3, 4, 5, 6],\n",
    "    \"col2\": [\"000000\", \"000000\", \"000000\", \"000000\", \"000000\", \"000000\"],\n",
    "    \"col3\": [\"000001\", \"000001\", \"000001\", \"000001\", \"000001\", \"000001\"],\n",
    "    \"col4\": [\"0000000000\", \"0000000000\", \"0000000000\", \"0000000000\", \"0000000000\", \"0000000000\"],\n",
    "    \"col5\": [\"00:00:00\", \"00:00:00\", \"00:00:00\", \"00:00:00\", \"00:00:00\", \"00:00:00\"],\n",
    "    \"col6\": [\"000001\", \"000002\", \"000003\", \"000004\", \"000005\", \"000006\"],\n",
    "    \"col7\": [\"00\", \"00\", \"00\", \"00\", \"00\", \"00\"],\n",
    "})\n",
    "\n",
    "df"
   ]
  },
  {
   "cell_type": "code",
   "execution_count": 4,
   "metadata": {},
   "outputs": [],
   "source": [
    "# 正規表現を定義。0または:が一つ以上末尾まで続く文字列にマッチするようにする。n回以上なら{n,}\n",
    "pattern = \"[0:]+$\""
   ]
  },
  {
   "cell_type": "code",
   "execution_count": 9,
   "metadata": {},
   "outputs": [],
   "source": [
    "useless_cols = []\n",
    "\n",
    "# 不要なカラムを抽出\n",
    "for col in df.columns:\n",
    "    # .all()はカラムの全値が条件にマッチするか判定し、Booleanを返す\n",
    "    if df[col].str.contains(pattern).all():\n",
    "        useless_cols.append(col)\n"
   ]
  },
  {
   "cell_type": "code",
   "execution_count": 10,
   "metadata": {},
   "outputs": [],
   "source": [
    "# 補足：リスト内包表記で書くとすっきりかける\n",
    "useless_cols = [col for col in df.columns if df[col].str.contains(pattern).all()]"
   ]
  },
  {
   "cell_type": "code",
   "execution_count": 11,
   "metadata": {},
   "outputs": [
    {
     "data": {
      "text/plain": [
       "['col2', 'col4', 'col5', 'col7']"
      ]
     },
     "execution_count": 11,
     "metadata": {},
     "output_type": "execute_result"
    }
   ],
   "source": [
    "useless_cols"
   ]
  },
  {
   "cell_type": "markdown",
   "metadata": {},
   "source": [
    "想定通りのカラムが選定できた。"
   ]
  }
 ],
 "metadata": {
  "kernelspec": {
   "display_name": "Python 3",
   "language": "python",
   "name": "python3"
  },
  "language_info": {
   "codemirror_mode": {
    "name": "ipython",
    "version": 3
   },
   "file_extension": ".py",
   "mimetype": "text/x-python",
   "name": "python",
   "nbconvert_exporter": "python",
   "pygments_lexer": "ipython3",
   "version": "3.11.6"
  }
 },
 "nbformat": 4,
 "nbformat_minor": 2
}
