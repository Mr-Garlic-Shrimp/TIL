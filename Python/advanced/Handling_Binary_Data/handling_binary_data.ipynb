{
 "cells": [
  {
   "cell_type": "markdown",
   "metadata": {},
   "source": [
    "# バイナリデータの取り扱い\n",
    "参考：  \n",
    "* https://izadori.net/python-binaryfile/"
   ]
  },
  {
   "cell_type": "markdown",
   "metadata": {},
   "source": [
    "## 整数だけの場合"
   ]
  },
  {
   "cell_type": "code",
   "execution_count": 71,
   "metadata": {},
   "outputs": [],
   "source": [
    "# バイナリデータの書き込み\n",
    "f = open('input/myfile.dat',\"wb\")\n",
    "for i in range(32):\n",
    "    f.write(i.to_bytes(1,\"big\"))\n",
    "f.close()"
   ]
  },
  {
   "cell_type": "code",
   "execution_count": 72,
   "metadata": {},
   "outputs": [],
   "source": [
    "#バイナリデータをテキストデータに変換して書き込み\n",
    "with open('input/myfile.dat', 'rb') as f:\n",
    "    binary_data = f.read()\n",
    "\n",
    "# 11バイトごとにデータを読み取る\n",
    "integers = [int.from_bytes(binary_data[i:i+1], byteorder='big') for i in range(0, len(binary_data), 1)]\n",
    "\n",
    "# テキストファイルに書き出す\n",
    "with open('output.txt', 'w') as f:\n",
    "    for integer in integers:\n",
    "        f.write(f\"{integer}\\n\")\n"
   ]
  },
  {
   "cell_type": "markdown",
   "metadata": {},
   "source": [
    "## 数字の羅列の場合"
   ]
  },
  {
   "cell_type": "code",
   "execution_count": 51,
   "metadata": {},
   "outputs": [
    {
     "data": {
      "text/plain": [
       "b'aa'"
      ]
     },
     "execution_count": 51,
     "metadata": {},
     "output_type": "execute_result"
    }
   ],
   "source": [
    "('aa').encode('utf-8')"
   ]
  },
  {
   "cell_type": "code",
   "execution_count": 46,
   "metadata": {},
   "outputs": [],
   "source": [
    "# 書き込む元の文字列\n",
    "numbers = ['10000000000', '2000       ', '300001     ']"
   ]
  },
  {
   "cell_type": "code",
   "execution_count": 54,
   "metadata": {},
   "outputs": [
    {
     "name": "stdout",
     "output_type": "stream",
     "text": [
      "b'10000000000'\n",
      "b'2000       '\n",
      "b'300001     '\n"
     ]
    }
   ],
   "source": [
    "# バイナリデータの書き込み\n",
    "f = open('input/myfile2.dat',\"wb\")\n",
    "for number in numbers:\n",
    "    encode_data = number.encode('utf-8')\n",
    "    encode_data = number.encode()\n",
    "    print(encode_data)\n",
    "    f.write(encode_data)\n",
    "f.close()"
   ]
  },
  {
   "cell_type": "markdown",
   "metadata": {},
   "source": [
    "メモ：  \n",
    "テキストエディタで文字列を開いて文字化けしているということは、  \n",
    "元々エンコーディングに指定した文字コードとデコードに使用する文字コードが合っていない可能性がある。"
   ]
  },
  {
   "cell_type": "code",
   "execution_count": 53,
   "metadata": {},
   "outputs": [],
   "source": [
    "# バイナリデータの読み込み\n",
    "with open('input/myfile2.dat', 'rb') as f:\n",
    "    binary_data = f.read()\n",
    "    # バイナリデータを文字列にデコード\n",
    "    decoded_string = binary_data.decode('utf-8')  \n",
    "\n",
    "\n",
    "# テキストファイルに書き出す\n",
    "with open('output2.txt', 'w') as f:\n",
    "    f.write(decoded_string)"
   ]
  }
 ],
 "metadata": {
  "kernelspec": {
   "display_name": "Python 3 (ipykernel)",
   "language": "python",
   "name": "python3"
  },
  "language_info": {
   "codemirror_mode": {
    "name": "ipython",
    "version": 3
   },
   "file_extension": ".py",
   "mimetype": "text/x-python",
   "name": "python",
   "nbconvert_exporter": "python",
   "pygments_lexer": "ipython3",
   "version": "3.9.12"
  },
  "orig_nbformat": 4
 },
 "nbformat": 4,
 "nbformat_minor": 2
}
