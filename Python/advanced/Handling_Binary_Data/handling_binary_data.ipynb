{
 "cells": [
  {
   "cell_type": "markdown",
   "metadata": {},
   "source": [
    "# バイナリデータの取り扱い\n",
    "参考：  \n",
    "* https://izadori.net/python-binaryfile/\n",
    "* https://tabinou.com/archives/1511\n",
    "* https://atmarkit.itmedia.co.jp/ait/articles/2105/18/news019.html"
   ]
  },
  {
   "cell_type": "markdown",
   "metadata": {},
   "source": [
    "## 整数だけの場合"
   ]
  },
  {
   "cell_type": "code",
   "execution_count": 100,
   "metadata": {},
   "outputs": [],
   "source": [
    "# バイナリデータの書き込み\n",
    "f = open('input/myfile.dat',mode=\"wb\")\n",
    "for i in range(32):\n",
    "    f.write(i.to_bytes(1,\"big\"))\n",
    "f.close()"
   ]
  },
  {
   "cell_type": "code",
   "execution_count": 101,
   "metadata": {},
   "outputs": [],
   "source": [
    "#バイナリデータをテキストデータに変換して書き込み\n",
    "with open('input/myfile.dat', 'rb') as f:\n",
    "    binary_data = f.read()\n",
    "\n",
    "# 1バイトごとにデータを読み取る\n",
    "integers = [int.from_bytes(binary_data[i:i+1], byteorder='big') for i in range(0, len(binary_data), 1)]\n",
    "\n",
    "# テキストファイルに書き出す\n",
    "with open('output.txt', 'w') as f:\n",
    "    for integer in integers:\n",
    "        f.write(f\"{integer}\\n\")\n"
   ]
  },
  {
   "cell_type": "markdown",
   "metadata": {},
   "source": [
    "### 補足"
   ]
  },
  {
   "cell_type": "code",
   "execution_count": 98,
   "metadata": {},
   "outputs": [
    {
     "name": "stdout",
     "output_type": "stream",
     "text": [
      "b'd\\x00\\x00\\x00\\x00'\n",
      "b'\\x00\\x00\\x00\\x00d'\n"
     ]
    }
   ],
   "source": [
    "#  整数を表すバイト列を5バイトで返す。指定するバイト数は元の整数より大きくてもよい。\n",
    "# little,bigはバイト列の順序。\n",
    "print((100).to_bytes(5, byteorder='little'))\n",
    "print((100).to_bytes(5, byteorder='big'))"
   ]
  },
  {
   "cell_type": "code",
   "execution_count": 97,
   "metadata": {},
   "outputs": [
    {
     "name": "stdout",
     "output_type": "stream",
     "text": [
      "100\n",
      "100\n"
     ]
    }
   ],
   "source": [
    "# int.from_bytesで指定したバイト列の整数表現を返す。byteorderを間違えないように注意\n",
    "print(int.from_bytes(b'd\\x00\\x00\\x00\\x00', byteorder= 'little'))\n",
    "print(int.from_bytes(b'\\x00\\x00\\x00\\x00d', byteorder= 'big'))"
   ]
  },
  {
   "cell_type": "markdown",
   "metadata": {},
   "source": [
    "## 数字の羅列の場合"
   ]
  },
  {
   "cell_type": "code",
   "execution_count": 51,
   "metadata": {},
   "outputs": [
    {
     "data": {
      "text/plain": [
       "b'aa'"
      ]
     },
     "execution_count": 51,
     "metadata": {},
     "output_type": "execute_result"
    }
   ],
   "source": [
    "('aa').encode('utf-8')"
   ]
  },
  {
   "cell_type": "code",
   "execution_count": 46,
   "metadata": {},
   "outputs": [],
   "source": [
    "# 書き込む元の文字列\n",
    "numbers = ['10000000000', '2000       ', '300001     ']"
   ]
  },
  {
   "cell_type": "code",
   "execution_count": 54,
   "metadata": {},
   "outputs": [
    {
     "name": "stdout",
     "output_type": "stream",
     "text": [
      "b'10000000000'\n",
      "b'2000       '\n",
      "b'300001     '\n"
     ]
    }
   ],
   "source": [
    "# バイナリデータの書き込み\n",
    "f = open('input/myfile2.dat',\"wb\")\n",
    "for number in numbers:\n",
    "    encode_data = number.encode('utf-8')\n",
    "    encode_data = number.encode()\n",
    "    print(encode_data)\n",
    "    f.write(encode_data)\n",
    "f.close()"
   ]
  },
  {
   "cell_type": "markdown",
   "metadata": {},
   "source": [
    "メモ：  \n",
    "テキストエディタで文字列を開いて文字化けしているということは、  \n",
    "元々エンコーディングに指定した文字コードとデコードに使用する文字コードが合っていない可能性がある。"
   ]
  },
  {
   "cell_type": "code",
   "execution_count": 53,
   "metadata": {},
   "outputs": [],
   "source": [
    "# バイナリデータの読み込み\n",
    "with open('input/myfile2.dat', 'rb') as f:\n",
    "    binary_data = f.read()\n",
    "    # バイナリデータを文字列にデコード\n",
    "    decoded_string = binary_data.decode('utf-8')  \n",
    "\n",
    "\n",
    "# テキストファイルに書き出す\n",
    "with open('output2.txt', 'w') as f:\n",
    "    f.write(decoded_string)"
   ]
  }
 ],
 "metadata": {
  "kernelspec": {
   "display_name": "Python 3 (ipykernel)",
   "language": "python",
   "name": "python3"
  },
  "language_info": {
   "codemirror_mode": {
    "name": "ipython",
    "version": 3
   },
   "file_extension": ".py",
   "mimetype": "text/x-python",
   "name": "python",
   "nbconvert_exporter": "python",
   "pygments_lexer": "ipython3",
   "version": "3.9.12"
  },
  "orig_nbformat": 4
 },
 "nbformat": 4,
 "nbformat_minor": 2
}
