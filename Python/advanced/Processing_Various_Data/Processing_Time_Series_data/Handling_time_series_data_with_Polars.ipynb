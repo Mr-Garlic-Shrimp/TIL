{
 "cells": [
  {
   "cell_type": "markdown",
   "metadata": {},
   "source": [
    "# <a id='toc1_'></a>[Polarsによる時系列データの取り扱い](#toc0_)\n",
    "面倒な時系列データをPolarsで取り扱う方法をメモしておく。  "
   ]
  },
  {
   "cell_type": "markdown",
   "metadata": {},
   "source": [
    "**Table of contents**<a id='toc0_'></a>    \n",
    "- [Polarsによる時系列データの取り扱い](#toc1_)    \n",
    "  - [様々な形式で表現された時刻データの読み込み方](#toc1_1_)    \n",
    "    - [- 時刻データが綺麗にフォーマットされている場合](#toc1_1_1_)    \n",
    "    - [- 数字の羅列になっている場合](#toc1_1_2_)    \n",
    "    - [- 年月日と時刻が別のカラムの場合](#toc1_1_3_)    \n",
    "    - [- さらにカラムが分けられているケース](#toc1_1_4_)    \n",
    "  - [ナノ秒レベルの時刻同士で2つのテーブルを紐づけ](#toc1_2_)    \n",
    "  - [任意の時間範囲でフィルタリング](#toc1_3_)    \n",
    "  - [秒間集計・分間集計](#toc1_4_)    \n",
    "  - [時刻をx軸としてグラフを描いて軸範囲を操作する](#toc1_5_)    \n",
    "\n",
    "<!-- vscode-jupyter-toc-config\n",
    "\tnumbering=false\n",
    "\tanchor=true\n",
    "\tflat=false\n",
    "\tminLevel=1\n",
    "\tmaxLevel=6\n",
    "\t/vscode-jupyter-toc-config -->\n",
    "<!-- THIS CELL WILL BE REPLACED ON TOC UPDATE. DO NOT WRITE YOUR TEXT IN THIS CELL -->"
   ]
  },
  {
   "cell_type": "code",
   "execution_count": 1,
   "metadata": {},
   "outputs": [],
   "source": [
    "import polars as pl\n",
    "import pandas as pd\n",
    "import seaborn as sns\n",
    "import numpy as np\n",
    "import datetime\n",
    "import os\n",
    "import math\n",
    "import pyarrow as pa\n",
    "import pyarrow.parquet as pq    \n",
    "import itertools\n",
    "from pathlib import Path\n",
    "from glob import glob\n",
    "from sklearn.preprocessing import StandardScaler, LabelEncoder\n",
    "\n",
    "%matplotlib inline\n",
    "import matplotlib.pyplot as plt\n",
    "import matplotlib.dates as mdates"
   ]
  },
  {
   "cell_type": "markdown",
   "metadata": {},
   "source": [
    "## <a id='toc1_1_'></a>[様々な形式で表現された時刻データの読み込み方](#toc0_)\n",
    "ログの分析などではナノ秒まで情報が必要な場合があるので、  \n",
    "適宜ナノ秒まで含めて取り扱う。  \n",
    "年月日がいらないケースでも基本的にdatetimeに変換しておくと便利。"
   ]
  },
  {
   "cell_type": "markdown",
   "metadata": {},
   "source": [
    "### <a id='toc1_1_1_'></a>[- 時刻データが綺麗にフォーマットされている場合](#toc0_)"
   ]
  },
  {
   "cell_type": "code",
   "execution_count": 4,
   "metadata": {},
   "outputs": [],
   "source": [
    "df = pl.DataFrame({'Time': \n",
    "         ['2020-01-01 00:00:00.123456789',\n",
    "          '2020-01-01 00:00:00.123456790',\n",
    "          '2020-01-01 00:00:00.123456791']\n",
    "        })"
   ]
  },
  {
   "cell_type": "code",
   "execution_count": 5,
   "metadata": {},
   "outputs": [
    {
     "data": {
      "text/html": [
       "<div><style>\n",
       ".dataframe > thead > tr > th,\n",
       ".dataframe > tbody > tr > td {\n",
       "  text-align: right;\n",
       "  white-space: pre-wrap;\n",
       "}\n",
       "</style>\n",
       "<small>shape: (3, 1)</small><table border=\"1\" class=\"dataframe\"><thead><tr><th>Time</th></tr><tr><td>str</td></tr></thead><tbody><tr><td>&quot;2020-01-01 00:00:00.123456789&quot;</td></tr><tr><td>&quot;2020-01-01 00:00:00.123456790&quot;</td></tr><tr><td>&quot;2020-01-01 00:00:00.123456791&quot;</td></tr></tbody></table></div>"
      ],
      "text/plain": [
       "shape: (3, 1)\n",
       "┌───────────────────────────────┐\n",
       "│ Time                          │\n",
       "│ ---                           │\n",
       "│ str                           │\n",
       "╞═══════════════════════════════╡\n",
       "│ 2020-01-01 00:00:00.123456789 │\n",
       "│ 2020-01-01 00:00:00.123456790 │\n",
       "│ 2020-01-01 00:00:00.123456791 │\n",
       "└───────────────────────────────┘"
      ]
     },
     "execution_count": 5,
     "metadata": {},
     "output_type": "execute_result"
    }
   ],
   "source": [
    "# カラムの横幅を40文字まで拡張して表示\n",
    "pl.Config.set_fmt_str_lengths(40)\n",
    "df"
   ]
  },
  {
   "attachments": {},
   "cell_type": "markdown",
   "metadata": {},
   "source": [
    "pl.DataFrameのschemaにpl.Datetime(\"ns\")を指定するのはダメそうだったので、  \n",
    "strで一旦読み込む。  \n",
    "カラムの幅が狭くてナノ秒まで見えないときはpl.Config.set_fmt_str_lengths(文字数)  で調整するとよい。  \n",
    "https://pola-rs.github.io/polars/py-polars/html/reference/api/polars.Config.set_fmt_str_lengths.html"
   ]
  },
  {
   "cell_type": "code",
   "execution_count": 106,
   "metadata": {},
   "outputs": [
    {
     "data": {
      "text/html": [
       "<div><style>\n",
       ".dataframe > thead > tr > th,\n",
       ".dataframe > tbody > tr > td {\n",
       "  text-align: right;\n",
       "}\n",
       "</style>\n",
       "<small>shape: (3,)</small><table border=\"1\" class=\"dataframe\"><thead><tr><th>Time</th></tr><tr><td>datetime[ns]</td></tr></thead><tbody><tr><td>2020-01-01 00:00:00.123456789</td></tr><tr><td>2020-01-01 00:00:00.123456790</td></tr><tr><td>2020-01-01 00:00:00.123456791</td></tr></tbody></table></div>"
      ],
      "text/plain": [
       "shape: (3,)\n",
       "Series: 'Time' [datetime[ns]]\n",
       "[\n",
       "\t2020-01-01 00:00:00.123456789\n",
       "\t2020-01-01 00:00:00.123456790\n",
       "\t2020-01-01 00:00:00.123456791\n",
       "]"
      ]
     },
     "execution_count": 106,
     "metadata": {},
     "output_type": "execute_result"
    }
   ],
   "source": [
    "df.get_column('Time').str.strptime(pl.Datetime(\"ns\"))"
   ]
  },
  {
   "attachments": {},
   "cell_type": "markdown",
   "metadata": {},
   "source": [
    "ナノ秒まで含めてDatetime型に変換するには上記のように書けばよい。  \n",
    "この場合はstrptimeに特にフォーマットを指定する必要はない。  \n",
    "https://stackoverflow.com/questions/75119895/parse-nanoseconds-with-polars"
   ]
  },
  {
   "cell_type": "markdown",
   "metadata": {},
   "source": [
    "### <a id='toc1_1_2_'></a>[- 数字の羅列になっている場合](#toc0_)"
   ]
  },
  {
   "cell_type": "code",
   "execution_count": 7,
   "metadata": {},
   "outputs": [],
   "source": [
    "df = pl.DataFrame({'Time': \n",
    "         ['20200101000000123456789',\n",
    "          '20200101000000123456790',\n",
    "          '20200101000000123456791']\n",
    "        })"
   ]
  },
  {
   "cell_type": "code",
   "execution_count": 8,
   "metadata": {},
   "outputs": [
    {
     "data": {
      "text/html": [
       "<div><style>\n",
       ".dataframe > thead > tr > th,\n",
       ".dataframe > tbody > tr > td {\n",
       "  text-align: right;\n",
       "  white-space: pre-wrap;\n",
       "}\n",
       "</style>\n",
       "<small>shape: (3, 1)</small><table border=\"1\" class=\"dataframe\"><thead><tr><th>Time</th></tr><tr><td>str</td></tr></thead><tbody><tr><td>&quot;20200101000000123456789&quot;</td></tr><tr><td>&quot;20200101000000123456790&quot;</td></tr><tr><td>&quot;20200101000000123456791&quot;</td></tr></tbody></table></div>"
      ],
      "text/plain": [
       "shape: (3, 1)\n",
       "┌─────────────────────────┐\n",
       "│ Time                    │\n",
       "│ ---                     │\n",
       "│ str                     │\n",
       "╞═════════════════════════╡\n",
       "│ 20200101000000123456789 │\n",
       "│ 20200101000000123456790 │\n",
       "│ 20200101000000123456791 │\n",
       "└─────────────────────────┘"
      ]
     },
     "execution_count": 8,
     "metadata": {},
     "output_type": "execute_result"
    }
   ],
   "source": [
    "df"
   ]
  },
  {
   "cell_type": "code",
   "execution_count": 9,
   "metadata": {},
   "outputs": [
    {
     "data": {
      "text/html": [
       "<div><style>\n",
       ".dataframe > thead > tr > th,\n",
       ".dataframe > tbody > tr > td {\n",
       "  text-align: right;\n",
       "  white-space: pre-wrap;\n",
       "}\n",
       "</style>\n",
       "<small>shape: (3,)</small><table border=\"1\" class=\"dataframe\"><thead><tr><th>Time</th></tr><tr><td>datetime[ns]</td></tr></thead><tbody><tr><td>2020-01-01 00:00:00.123456789</td></tr><tr><td>2020-01-01 00:00:00.123456790</td></tr><tr><td>2020-01-01 00:00:00.123456791</td></tr></tbody></table></div>"
      ],
      "text/plain": [
       "shape: (3,)\n",
       "Series: 'Time' [datetime[ns]]\n",
       "[\n",
       "\t2020-01-01 00:00:00.123456789\n",
       "\t2020-01-01 00:00:00.123456790\n",
       "\t2020-01-01 00:00:00.123456791\n",
       "]"
      ]
     },
     "execution_count": 9,
     "metadata": {},
     "output_type": "execute_result"
    }
   ],
   "source": [
    "# ナノ秒まで含めてDatetime型に変換\n",
    "df.get_column('Time').str.strptime(pl.Datetime('ns'), '%Y%m%d%H%M%S%f')"
   ]
  },
  {
   "cell_type": "code",
   "execution_count": 12,
   "metadata": {},
   "outputs": [
    {
     "data": {
      "text/html": [
       "<div><style>\n",
       ".dataframe > thead > tr > th,\n",
       ".dataframe > tbody > tr > td {\n",
       "  text-align: right;\n",
       "  white-space: pre-wrap;\n",
       "}\n",
       "</style>\n",
       "<small>shape: (3,)</small><table border=\"1\" class=\"dataframe\"><thead><tr><th>Time</th></tr><tr><td>datetime[μs]</td></tr></thead><tbody><tr><td>2020-01-01 00:00:00.123456</td></tr><tr><td>2020-01-01 00:00:00.123456</td></tr><tr><td>2020-01-01 00:00:00.123456</td></tr></tbody></table></div>"
      ],
      "text/plain": [
       "shape: (3,)\n",
       "Series: 'Time' [datetime[μs]]\n",
       "[\n",
       "\t2020-01-01 00:00:00.123456\n",
       "\t2020-01-01 00:00:00.123456\n",
       "\t2020-01-01 00:00:00.123456\n",
       "]"
      ]
     },
     "execution_count": 12,
     "metadata": {},
     "output_type": "execute_result"
    }
   ],
   "source": [
    "# マイクロ秒までDatetime型に変換\n",
    "df.get_column('Time').str.strptime(pl.Datetime('us'), '%Y%m%d%H%M%S%f')"
   ]
  },
  {
   "attachments": {},
   "cell_type": "markdown",
   "metadata": {},
   "source": [
    "上記のように書くことで、数字の羅列もDatetime型へ変換可能。  \n",
    "フォーマットの指定には'-'や':'は不要っぽい。  \n",
    "pl.Datetime('ms')などにすることで秒以下の単位を変更できる。"
   ]
  },
  {
   "cell_type": "code",
   "execution_count": 110,
   "metadata": {},
   "outputs": [
    {
     "data": {
      "text/html": [
       "<div><style>\n",
       ".dataframe > thead > tr > th,\n",
       ".dataframe > tbody > tr > td {\n",
       "  text-align: right;\n",
       "}\n",
       "</style>\n",
       "<small>shape: (3,)</small><table border=\"1\" class=\"dataframe\"><thead><tr><th>Time</th></tr><tr><td>duration[ns]</td></tr></thead><tbody><tr><td>null</td></tr><tr><td>1ns</td></tr><tr><td>1ns</td></tr></tbody></table></div>"
      ],
      "text/plain": [
       "shape: (3,)\n",
       "Series: 'Time' [duration[ns]]\n",
       "[\n",
       "\tnull\n",
       "\t1ns\n",
       "\t1ns\n",
       "]"
      ]
     },
     "execution_count": 110,
     "metadata": {},
     "output_type": "execute_result"
    }
   ],
   "source": [
    "df_2.get_column('Time').str.strptime(pl.Datetime('ns'), '%Y%m%d%H%M%S%f').diff()"
   ]
  },
  {
   "attachments": {},
   "cell_type": "markdown",
   "metadata": {},
   "source": [
    ".diff()でひとつ前のレコードとの時刻差を算出できる。"
   ]
  },
  {
   "cell_type": "markdown",
   "metadata": {},
   "source": [
    "### <a id='toc1_1_3_'></a>[- 年月日と時刻が別のカラムの場合](#toc0_)"
   ]
  },
  {
   "cell_type": "code",
   "execution_count": 111,
   "metadata": {},
   "outputs": [],
   "source": [
    "df = pl.DataFrame({\n",
    "    'Date':['20200101',\n",
    "            '20200102',\n",
    "            '20200103'],\n",
    "    'Time': ['131205123456789',\n",
    "             '133406123456790',\n",
    "             '142215123456791']\n",
    "        })"
   ]
  },
  {
   "cell_type": "code",
   "execution_count": 112,
   "metadata": {},
   "outputs": [
    {
     "data": {
      "text/html": [
       "<div><style>\n",
       ".dataframe > thead > tr > th,\n",
       ".dataframe > tbody > tr > td {\n",
       "  text-align: right;\n",
       "}\n",
       "</style>\n",
       "<small>shape: (3, 2)</small><table border=\"1\" class=\"dataframe\"><thead><tr><th>Date</th><th>Time</th></tr><tr><td>str</td><td>str</td></tr></thead><tbody><tr><td>&quot;20200101&quot;</td><td>&quot;131205123456789&quot;</td></tr><tr><td>&quot;20200102&quot;</td><td>&quot;133406123456790&quot;</td></tr><tr><td>&quot;20200103&quot;</td><td>&quot;142215123456791&quot;</td></tr></tbody></table></div>"
      ],
      "text/plain": [
       "shape: (3, 2)\n",
       "┌──────────┬─────────────────┐\n",
       "│ Date     ┆ Time            │\n",
       "│ ---      ┆ ---             │\n",
       "│ str      ┆ str             │\n",
       "╞══════════╪═════════════════╡\n",
       "│ 20200101 ┆ 131205123456789 │\n",
       "│ 20200102 ┆ 133406123456790 │\n",
       "│ 20200103 ┆ 142215123456791 │\n",
       "└──────────┴─────────────────┘"
      ]
     },
     "execution_count": 112,
     "metadata": {},
     "output_type": "execute_result"
    }
   ],
   "source": [
    "df"
   ]
  },
  {
   "cell_type": "code",
   "execution_count": 113,
   "metadata": {},
   "outputs": [
    {
     "data": {
      "text/html": [
       "<div><style>\n",
       ".dataframe > thead > tr > th,\n",
       ".dataframe > tbody > tr > td {\n",
       "  text-align: right;\n",
       "}\n",
       "</style>\n",
       "<small>shape: (3, 1)</small><table border=\"1\" class=\"dataframe\"><thead><tr><th>Date_and_Time</th></tr><tr><td>datetime[ns]</td></tr></thead><tbody><tr><td>2020-01-01 13:12:05.123456789</td></tr><tr><td>2020-01-02 13:34:06.123456790</td></tr><tr><td>2020-01-03 14:22:15.123456791</td></tr></tbody></table></div>"
      ],
      "text/plain": [
       "shape: (3, 1)\n",
       "┌───────────────────────────────┐\n",
       "│ Date_and_Time                 │\n",
       "│ ---                           │\n",
       "│ datetime[ns]                  │\n",
       "╞═══════════════════════════════╡\n",
       "│ 2020-01-01 13:12:05.123456789 │\n",
       "│ 2020-01-02 13:34:06.123456790 │\n",
       "│ 2020-01-03 14:22:15.123456791 │\n",
       "└───────────────────────────────┘"
      ]
     },
     "execution_count": 113,
     "metadata": {},
     "output_type": "execute_result"
    }
   ],
   "source": [
    "df.select(\n",
    "    (pl.col('Date') + pl.col('Time')).str\n",
    "    .strptime(pl.Datetime('ns'), '%Y%m%d%H%M%S%f').alias('Date_and_Time')\n",
    ")"
   ]
  },
  {
   "attachments": {},
   "cell_type": "markdown",
   "metadata": {},
   "source": [
    "上記のようにどちらも文字列として読み込み、結合してからstrptimeでdatetime型に変換する。"
   ]
  },
  {
   "cell_type": "markdown",
   "metadata": {},
   "source": [
    "### <a id='toc1_1_4_'></a>[- さらにカラムが分けられているケース](#toc0_)"
   ]
  },
  {
   "cell_type": "markdown",
   "metadata": {},
   "source": [
    "例１）"
   ]
  },
  {
   "cell_type": "code",
   "execution_count": 114,
   "metadata": {},
   "outputs": [
    {
     "data": {
      "text/html": [
       "<div><style>\n",
       ".dataframe > thead > tr > th,\n",
       ".dataframe > tbody > tr > td {\n",
       "  text-align: right;\n",
       "}\n",
       "</style>\n",
       "<small>shape: (5, 4)</small><table border=\"1\" class=\"dataframe\"><thead><tr><th>ymd</th><th>hms</th><th>ms_us_ns</th><th>value</th></tr><tr><td>str</td><td>str</td><td>str</td><td>f64</td></tr></thead><tbody><tr><td>&quot;2020/1/1&quot;</td><td>&quot;00:00:00&quot;</td><td>&quot;000000000&quot;</td><td>0.993612</td></tr><tr><td>&quot;2020/1/1&quot;</td><td>&quot;00:00:00&quot;</td><td>&quot;000100000&quot;</td><td>0.248432</td></tr><tr><td>&quot;2020/1/1&quot;</td><td>&quot;00:00:00&quot;</td><td>&quot;000200000&quot;</td><td>0.252184</td></tr><tr><td>&quot;2020/1/1&quot;</td><td>&quot;00:00:00&quot;</td><td>&quot;000300000&quot;</td><td>0.597972</td></tr><tr><td>&quot;2020/1/1&quot;</td><td>&quot;00:00:00&quot;</td><td>&quot;000400000&quot;</td><td>0.497804</td></tr></tbody></table></div>"
      ],
      "text/plain": [
       "shape: (5, 4)\n",
       "┌──────────┬──────────┬───────────┬──────────┐\n",
       "│ ymd      ┆ hms      ┆ ms_us_ns  ┆ value    │\n",
       "│ ---      ┆ ---      ┆ ---       ┆ ---      │\n",
       "│ str      ┆ str      ┆ str       ┆ f64      │\n",
       "╞══════════╪══════════╪═══════════╪══════════╡\n",
       "│ 2020/1/1 ┆ 00:00:00 ┆ 000000000 ┆ 0.993612 │\n",
       "│ 2020/1/1 ┆ 00:00:00 ┆ 000100000 ┆ 0.248432 │\n",
       "│ 2020/1/1 ┆ 00:00:00 ┆ 000200000 ┆ 0.252184 │\n",
       "│ 2020/1/1 ┆ 00:00:00 ┆ 000300000 ┆ 0.597972 │\n",
       "│ 2020/1/1 ┆ 00:00:00 ┆ 000400000 ┆ 0.497804 │\n",
       "└──────────┴──────────┴───────────┴──────────┘"
      ]
     },
     "execution_count": 114,
     "metadata": {},
     "output_type": "execute_result"
    }
   ],
   "source": [
    "# sampleデータ読み込み。年月日、時分秒、ms以下はそれぞれ別カラムにしている。\n",
    "dtypes = {\n",
    "    'ymd': str,\n",
    "    'hms': str,\n",
    "    'ms_us_ns': str,\n",
    "    'value': float\n",
    "}\n",
    "df = pl.read_csv('../sample_data/time_series/time_series_data_sample_1.csv', dtypes=dtypes)\n",
    "df.head()"
   ]
  },
  {
   "attachments": {},
   "cell_type": "markdown",
   "metadata": {},
   "source": [
    "dfに読み込む前にcsvにどのように記録されているか確認し、必要に応じてデータ型を指定して読み込むこと。  \n",
    "上記ではms_us_nsが数字の羅列になっているので、dtypesを指定しないとintになってしまい、先頭の0が抜けてしまう。  \n",
    "また、excelでCSVファイルを開くと勝手に型を置き換えたりして元々のcsvの情報が欠落するので、必ずテキストエディタで開くこと。"
   ]
  },
  {
   "cell_type": "code",
   "execution_count": 119,
   "metadata": {},
   "outputs": [
    {
     "data": {
      "text/html": [
       "<div><style>\n",
       ".dataframe > thead > tr > th,\n",
       ".dataframe > tbody > tr > td {\n",
       "  text-align: right;\n",
       "}\n",
       "</style>\n",
       "<small>shape: (5, 5)</small><table border=\"1\" class=\"dataframe\"><thead><tr><th>ymd</th><th>hms</th><th>ms_us_ns</th><th>value</th><th>date_time</th></tr><tr><td>str</td><td>str</td><td>str</td><td>f64</td><td>datetime[ns]</td></tr></thead><tbody><tr><td>&quot;2020/1/1&quot;</td><td>&quot;00:00:00&quot;</td><td>&quot;000000000&quot;</td><td>0.993612</td><td>2020-01-01 00:00:00</td></tr><tr><td>&quot;2020/1/1&quot;</td><td>&quot;00:00:00&quot;</td><td>&quot;000100000&quot;</td><td>0.248432</td><td>2020-01-01 00:00:00.000100</td></tr><tr><td>&quot;2020/1/1&quot;</td><td>&quot;00:00:00&quot;</td><td>&quot;000200000&quot;</td><td>0.252184</td><td>2020-01-01 00:00:00.000200</td></tr><tr><td>&quot;2020/1/1&quot;</td><td>&quot;00:00:00&quot;</td><td>&quot;000300000&quot;</td><td>0.597972</td><td>2020-01-01 00:00:00.000300</td></tr><tr><td>&quot;2020/1/1&quot;</td><td>&quot;00:00:00&quot;</td><td>&quot;000400000&quot;</td><td>0.497804</td><td>2020-01-01 00:00:00.000400</td></tr></tbody></table></div>"
      ],
      "text/plain": [
       "shape: (5, 5)\n",
       "┌──────────┬──────────┬───────────┬──────────┬────────────────────────────┐\n",
       "│ ymd      ┆ hms      ┆ ms_us_ns  ┆ value    ┆ date_time                  │\n",
       "│ ---      ┆ ---      ┆ ---       ┆ ---      ┆ ---                        │\n",
       "│ str      ┆ str      ┆ str       ┆ f64      ┆ datetime[ns]               │\n",
       "╞══════════╪══════════╪═══════════╪══════════╪════════════════════════════╡\n",
       "│ 2020/1/1 ┆ 00:00:00 ┆ 000000000 ┆ 0.993612 ┆ 2020-01-01 00:00:00        │\n",
       "│ 2020/1/1 ┆ 00:00:00 ┆ 000100000 ┆ 0.248432 ┆ 2020-01-01 00:00:00.000100 │\n",
       "│ 2020/1/1 ┆ 00:00:00 ┆ 000200000 ┆ 0.252184 ┆ 2020-01-01 00:00:00.000200 │\n",
       "│ 2020/1/1 ┆ 00:00:00 ┆ 000300000 ┆ 0.597972 ┆ 2020-01-01 00:00:00.000300 │\n",
       "│ 2020/1/1 ┆ 00:00:00 ┆ 000400000 ┆ 0.497804 ┆ 2020-01-01 00:00:00.000400 │\n",
       "└──────────┴──────────┴───────────┴──────────┴────────────────────────────┘"
      ]
     },
     "execution_count": 119,
     "metadata": {},
     "output_type": "execute_result"
    }
   ],
   "source": [
    "# 基本的に2020-01-01 00:00:00.123456789のような形になるようにスペース、ドットを足せば変換できる。\n",
    "df.with_columns(\n",
    "    (pl.col('ymd') +' ' + pl.col('hms') + '.' + pl.col('ms_us_ns')).str\n",
    "    .strptime(pl.Datetime('ns')).alias('date_time')\n",
    ").head()"
   ]
  },
  {
   "cell_type": "markdown",
   "metadata": {},
   "source": [
    "例２）"
   ]
  },
  {
   "cell_type": "code",
   "execution_count": 56,
   "metadata": {},
   "outputs": [
    {
     "data": {
      "text/html": [
       "<div><style>\n",
       ".dataframe > thead > tr > th,\n",
       ".dataframe > tbody > tr > td {\n",
       "  text-align: right;\n",
       "  white-space: pre-wrap;\n",
       "}\n",
       "</style>\n",
       "<small>shape: (5, 7)</small><table border=\"1\" class=\"dataframe\"><thead><tr><th>YMD</th><th>HM</th><th>s</th><th>ms</th><th>us</th><th>ns</th><th>value</th></tr><tr><td>str</td><td>str</td><td>str</td><td>str</td><td>str</td><td>str</td><td>f64</td></tr></thead><tbody><tr><td>&quot;20200101&quot;</td><td>&quot;0000&quot;</td><td>&quot;00&quot;</td><td>&quot;001&quot;</td><td>&quot;000&quot;</td><td>&quot;111&quot;</td><td>0.993612</td></tr><tr><td>&quot;20200101&quot;</td><td>&quot;0000&quot;</td><td>&quot;00&quot;</td><td>&quot;001&quot;</td><td>&quot;100&quot;</td><td>&quot;111&quot;</td><td>0.248432</td></tr><tr><td>&quot;20200101&quot;</td><td>&quot;0000&quot;</td><td>&quot;00&quot;</td><td>&quot;001&quot;</td><td>&quot;200&quot;</td><td>&quot;111&quot;</td><td>0.252184</td></tr><tr><td>&quot;20200101&quot;</td><td>&quot;0000&quot;</td><td>&quot;00&quot;</td><td>&quot;001&quot;</td><td>&quot;300&quot;</td><td>&quot;111&quot;</td><td>0.597972</td></tr><tr><td>&quot;20200101&quot;</td><td>&quot;0000&quot;</td><td>&quot;00&quot;</td><td>&quot;100&quot;</td><td>&quot;400&quot;</td><td>&quot;111&quot;</td><td>0.497804</td></tr></tbody></table></div>"
      ],
      "text/plain": [
       "shape: (5, 7)\n",
       "┌──────────┬──────┬─────┬─────┬─────┬─────┬──────────┐\n",
       "│ YMD      ┆ HM   ┆ s   ┆ ms  ┆ us  ┆ ns  ┆ value    │\n",
       "│ ---      ┆ ---  ┆ --- ┆ --- ┆ --- ┆ --- ┆ ---      │\n",
       "│ str      ┆ str  ┆ str ┆ str ┆ str ┆ str ┆ f64      │\n",
       "╞══════════╪══════╪═════╪═════╪═════╪═════╪══════════╡\n",
       "│ 20200101 ┆ 0000 ┆ 00  ┆ 001 ┆ 000 ┆ 111 ┆ 0.993612 │\n",
       "│ 20200101 ┆ 0000 ┆ 00  ┆ 001 ┆ 100 ┆ 111 ┆ 0.248432 │\n",
       "│ 20200101 ┆ 0000 ┆ 00  ┆ 001 ┆ 200 ┆ 111 ┆ 0.252184 │\n",
       "│ 20200101 ┆ 0000 ┆ 00  ┆ 001 ┆ 300 ┆ 111 ┆ 0.597972 │\n",
       "│ 20200101 ┆ 0000 ┆ 00  ┆ 100 ┆ 400 ┆ 111 ┆ 0.497804 │\n",
       "└──────────┴──────┴─────┴─────┴─────┴─────┴──────────┘"
      ]
     },
     "execution_count": 56,
     "metadata": {},
     "output_type": "execute_result"
    }
   ],
   "source": [
    "# sampleデータ読み込み。年月日、時分、秒、ミリ秒、マイクロ秒、ナノ秒はそれぞれ別カラムにしている。\n",
    "dtypes = {\n",
    "    'YMD': str,\n",
    "    'HM': str,\n",
    "    's': str,\n",
    "    'ms': str,\n",
    "    'us': str,\n",
    "    'ns': str,\n",
    "    'value': float\n",
    "}\n",
    "df = pl.read_csv('./input/time_series/time_series_data_sample_1_2.csv', dtypes=dtypes)\n",
    "df.head()"
   ]
  },
  {
   "cell_type": "code",
   "execution_count": 57,
   "metadata": {},
   "outputs": [
    {
     "data": {
      "text/html": [
       "<div><style>\n",
       ".dataframe > thead > tr > th,\n",
       ".dataframe > tbody > tr > td {\n",
       "  text-align: right;\n",
       "  white-space: pre-wrap;\n",
       "}\n",
       "</style>\n",
       "<small>shape: (5, 8)</small><table border=\"1\" class=\"dataframe\"><thead><tr><th>YMD</th><th>HM</th><th>s</th><th>ms</th><th>us</th><th>ns</th><th>value</th><th>date_time</th></tr><tr><td>str</td><td>str</td><td>str</td><td>str</td><td>str</td><td>str</td><td>f64</td><td>datetime[μs]</td></tr></thead><tbody><tr><td>&quot;20200101&quot;</td><td>&quot;0000&quot;</td><td>&quot;00&quot;</td><td>&quot;001&quot;</td><td>&quot;000&quot;</td><td>&quot;111&quot;</td><td>0.993612</td><td>2020-01-01 00:00:00.001</td></tr><tr><td>&quot;20200101&quot;</td><td>&quot;0000&quot;</td><td>&quot;00&quot;</td><td>&quot;001&quot;</td><td>&quot;100&quot;</td><td>&quot;111&quot;</td><td>0.248432</td><td>2020-01-01 00:00:00.001100</td></tr><tr><td>&quot;20200101&quot;</td><td>&quot;0000&quot;</td><td>&quot;00&quot;</td><td>&quot;001&quot;</td><td>&quot;200&quot;</td><td>&quot;111&quot;</td><td>0.252184</td><td>2020-01-01 00:00:00.001200</td></tr><tr><td>&quot;20200101&quot;</td><td>&quot;0000&quot;</td><td>&quot;00&quot;</td><td>&quot;001&quot;</td><td>&quot;300&quot;</td><td>&quot;111&quot;</td><td>0.597972</td><td>2020-01-01 00:00:00.001300</td></tr><tr><td>&quot;20200101&quot;</td><td>&quot;0000&quot;</td><td>&quot;00&quot;</td><td>&quot;100&quot;</td><td>&quot;400&quot;</td><td>&quot;111&quot;</td><td>0.497804</td><td>2020-01-01 00:00:00.100400</td></tr></tbody></table></div>"
      ],
      "text/plain": [
       "shape: (5, 8)\n",
       "┌──────────┬──────┬─────┬─────┬─────┬─────┬──────────┬────────────────────────────┐\n",
       "│ YMD      ┆ HM   ┆ s   ┆ ms  ┆ us  ┆ ns  ┆ value    ┆ date_time                  │\n",
       "│ ---      ┆ ---  ┆ --- ┆ --- ┆ --- ┆ --- ┆ ---      ┆ ---                        │\n",
       "│ str      ┆ str  ┆ str ┆ str ┆ str ┆ str ┆ f64      ┆ datetime[μs]               │\n",
       "╞══════════╪══════╪═════╪═════╪═════╪═════╪══════════╪════════════════════════════╡\n",
       "│ 20200101 ┆ 0000 ┆ 00  ┆ 001 ┆ 000 ┆ 111 ┆ 0.993612 ┆ 2020-01-01 00:00:00.001    │\n",
       "│ 20200101 ┆ 0000 ┆ 00  ┆ 001 ┆ 100 ┆ 111 ┆ 0.248432 ┆ 2020-01-01 00:00:00.001100 │\n",
       "│ 20200101 ┆ 0000 ┆ 00  ┆ 001 ┆ 200 ┆ 111 ┆ 0.252184 ┆ 2020-01-01 00:00:00.001200 │\n",
       "│ 20200101 ┆ 0000 ┆ 00  ┆ 001 ┆ 300 ┆ 111 ┆ 0.597972 ┆ 2020-01-01 00:00:00.001300 │\n",
       "│ 20200101 ┆ 0000 ┆ 00  ┆ 100 ┆ 400 ┆ 111 ┆ 0.497804 ┆ 2020-01-01 00:00:00.100400 │\n",
       "└──────────┴──────┴─────┴─────┴─────┴─────┴──────────┴────────────────────────────┘"
      ]
     },
     "execution_count": 57,
     "metadata": {},
     "output_type": "execute_result"
    }
   ],
   "source": [
    "# 基本的に20200101 00:00:00.123456789のような形になるようにスペース、ドットを足せば変換できる。\n",
    "df.with_columns(\n",
    "    (pl.col('YMD') + pl.col('HM') + pl.col('s') + '.' + pl.col('ms') + pl.col('us') + pl.col('ns')).str\n",
    "    .strptime(pl.Datetime('us'), \"%Y%m%d%H%M%S%.f\").alias('date_time')\n",
    ").head()"
   ]
  },
  {
   "cell_type": "markdown",
   "metadata": {},
   "source": [
    "例３）  \n",
    "下記のようなケースでは想定通りに変換されないことがある。(Polarsのバグ？)"
   ]
  },
  {
   "cell_type": "code",
   "execution_count": 71,
   "metadata": {},
   "outputs": [
    {
     "data": {
      "text/html": [
       "<div><style>\n",
       ".dataframe > thead > tr > th,\n",
       ".dataframe > tbody > tr > td {\n",
       "  text-align: right;\n",
       "  white-space: pre-wrap;\n",
       "}\n",
       "</style>\n",
       "<small>shape: (5, 8)</small><table border=\"1\" class=\"dataframe\"><thead><tr><th>YMD</th><th>HM</th><th>s</th><th>ms</th><th>us</th><th>ns</th><th>value</th><th>date_time</th></tr><tr><td>str</td><td>str</td><td>str</td><td>str</td><td>str</td><td>str</td><td>f64</td><td>datetime[μs]</td></tr></thead><tbody><tr><td>&quot;20200101&quot;</td><td>&quot;0000&quot;</td><td>&quot;00&quot;</td><td>&quot;001&quot;</td><td>&quot;000&quot;</td><td>&quot;111&quot;</td><td>0.993612</td><td>2020-01-01 00:00:00.000001</td></tr><tr><td>&quot;20200101&quot;</td><td>&quot;0000&quot;</td><td>&quot;00&quot;</td><td>&quot;001&quot;</td><td>&quot;100&quot;</td><td>&quot;111&quot;</td><td>0.248432</td><td>2020-01-01 00:00:00.000001</td></tr><tr><td>&quot;20200101&quot;</td><td>&quot;0000&quot;</td><td>&quot;00&quot;</td><td>&quot;001&quot;</td><td>&quot;200&quot;</td><td>&quot;111&quot;</td><td>0.252184</td><td>2020-01-01 00:00:00.000001</td></tr><tr><td>&quot;20200101&quot;</td><td>&quot;0000&quot;</td><td>&quot;00&quot;</td><td>&quot;001&quot;</td><td>&quot;300&quot;</td><td>&quot;111&quot;</td><td>0.597972</td><td>2020-01-01 00:00:00.000001</td></tr><tr><td>&quot;20200101&quot;</td><td>&quot;0000&quot;</td><td>&quot;00&quot;</td><td>&quot;100&quot;</td><td>&quot;400&quot;</td><td>&quot;111&quot;</td><td>0.497804</td><td>2020-01-01 00:00:00.000100</td></tr></tbody></table></div>"
      ],
      "text/plain": [
       "shape: (5, 8)\n",
       "┌──────────┬──────┬─────┬─────┬─────┬─────┬──────────┬────────────────────────────┐\n",
       "│ YMD      ┆ HM   ┆ s   ┆ ms  ┆ us  ┆ ns  ┆ value    ┆ date_time                  │\n",
       "│ ---      ┆ ---  ┆ --- ┆ --- ┆ --- ┆ --- ┆ ---      ┆ ---                        │\n",
       "│ str      ┆ str  ┆ str ┆ str ┆ str ┆ str ┆ f64      ┆ datetime[μs]               │\n",
       "╞══════════╪══════╪═════╪═════╪═════╪═════╪══════════╪════════════════════════════╡\n",
       "│ 20200101 ┆ 0000 ┆ 00  ┆ 001 ┆ 000 ┆ 111 ┆ 0.993612 ┆ 2020-01-01 00:00:00.000001 │\n",
       "│ 20200101 ┆ 0000 ┆ 00  ┆ 001 ┆ 100 ┆ 111 ┆ 0.248432 ┆ 2020-01-01 00:00:00.000001 │\n",
       "│ 20200101 ┆ 0000 ┆ 00  ┆ 001 ┆ 200 ┆ 111 ┆ 0.252184 ┆ 2020-01-01 00:00:00.000001 │\n",
       "│ 20200101 ┆ 0000 ┆ 00  ┆ 001 ┆ 300 ┆ 111 ┆ 0.597972 ┆ 2020-01-01 00:00:00.000001 │\n",
       "│ 20200101 ┆ 0000 ┆ 00  ┆ 100 ┆ 400 ┆ 111 ┆ 0.497804 ┆ 2020-01-01 00:00:00.000100 │\n",
       "└──────────┴──────┴─────┴─────┴─────┴─────┴──────────┴────────────────────────────┘"
      ]
     },
     "execution_count": 71,
     "metadata": {},
     "output_type": "execute_result"
    }
   ],
   "source": [
    "# usの列までしか使わないバージョン。\n",
    "df.with_columns(\n",
    "    (pl.col('YMD') + pl.col('HM') + pl.col('s') + pl.col('ms') + pl.col('us') ).str\n",
    "    .strptime(pl.Datetime('us'), \"%Y%m%d%H%M%S%f\").alias('date_time')\n",
    ").head()"
   ]
  },
  {
   "cell_type": "markdown",
   "metadata": {},
   "source": [
    "msは1~100msの桁に値があるのにもかかわらず、  \n",
    "datetimeのカラムを見ると、1/1000されてマイクロ秒の桁に表示されてしまっている。  \n",
    "これを防ぐには下記のようにms以下を”.”で結合し、\"%Y%m%d%H%M%S%.f\"のフォーマットで変換するとうまくいく。"
   ]
  },
  {
   "cell_type": "code",
   "execution_count": 74,
   "metadata": {},
   "outputs": [
    {
     "data": {
      "text/html": [
       "<div><style>\n",
       ".dataframe > thead > tr > th,\n",
       ".dataframe > tbody > tr > td {\n",
       "  text-align: right;\n",
       "  white-space: pre-wrap;\n",
       "}\n",
       "</style>\n",
       "<small>shape: (5, 8)</small><table border=\"1\" class=\"dataframe\"><thead><tr><th>YMD</th><th>HM</th><th>s</th><th>ms</th><th>us</th><th>ns</th><th>value</th><th>date_time</th></tr><tr><td>str</td><td>str</td><td>str</td><td>str</td><td>str</td><td>str</td><td>f64</td><td>datetime[μs]</td></tr></thead><tbody><tr><td>&quot;20200101&quot;</td><td>&quot;0000&quot;</td><td>&quot;00&quot;</td><td>&quot;001&quot;</td><td>&quot;000&quot;</td><td>&quot;111&quot;</td><td>0.993612</td><td>2020-01-01 00:00:00.001</td></tr><tr><td>&quot;20200101&quot;</td><td>&quot;0000&quot;</td><td>&quot;00&quot;</td><td>&quot;001&quot;</td><td>&quot;100&quot;</td><td>&quot;111&quot;</td><td>0.248432</td><td>2020-01-01 00:00:00.001100</td></tr><tr><td>&quot;20200101&quot;</td><td>&quot;0000&quot;</td><td>&quot;00&quot;</td><td>&quot;001&quot;</td><td>&quot;200&quot;</td><td>&quot;111&quot;</td><td>0.252184</td><td>2020-01-01 00:00:00.001200</td></tr><tr><td>&quot;20200101&quot;</td><td>&quot;0000&quot;</td><td>&quot;00&quot;</td><td>&quot;001&quot;</td><td>&quot;300&quot;</td><td>&quot;111&quot;</td><td>0.597972</td><td>2020-01-01 00:00:00.001300</td></tr><tr><td>&quot;20200101&quot;</td><td>&quot;0000&quot;</td><td>&quot;00&quot;</td><td>&quot;100&quot;</td><td>&quot;400&quot;</td><td>&quot;111&quot;</td><td>0.497804</td><td>2020-01-01 00:00:00.100400</td></tr></tbody></table></div>"
      ],
      "text/plain": [
       "shape: (5, 8)\n",
       "┌──────────┬──────┬─────┬─────┬─────┬─────┬──────────┬────────────────────────────┐\n",
       "│ YMD      ┆ HM   ┆ s   ┆ ms  ┆ us  ┆ ns  ┆ value    ┆ date_time                  │\n",
       "│ ---      ┆ ---  ┆ --- ┆ --- ┆ --- ┆ --- ┆ ---      ┆ ---                        │\n",
       "│ str      ┆ str  ┆ str ┆ str ┆ str ┆ str ┆ f64      ┆ datetime[μs]               │\n",
       "╞══════════╪══════╪═════╪═════╪═════╪═════╪══════════╪════════════════════════════╡\n",
       "│ 20200101 ┆ 0000 ┆ 00  ┆ 001 ┆ 000 ┆ 111 ┆ 0.993612 ┆ 2020-01-01 00:00:00.001    │\n",
       "│ 20200101 ┆ 0000 ┆ 00  ┆ 001 ┆ 100 ┆ 111 ┆ 0.248432 ┆ 2020-01-01 00:00:00.001100 │\n",
       "│ 20200101 ┆ 0000 ┆ 00  ┆ 001 ┆ 200 ┆ 111 ┆ 0.252184 ┆ 2020-01-01 00:00:00.001200 │\n",
       "│ 20200101 ┆ 0000 ┆ 00  ┆ 001 ┆ 300 ┆ 111 ┆ 0.597972 ┆ 2020-01-01 00:00:00.001300 │\n",
       "│ 20200101 ┆ 0000 ┆ 00  ┆ 100 ┆ 400 ┆ 111 ┆ 0.497804 ┆ 2020-01-01 00:00:00.100400 │\n",
       "└──────────┴──────┴─────┴─────┴─────┴─────┴──────────┴────────────────────────────┘"
      ]
     },
     "execution_count": 74,
     "metadata": {},
     "output_type": "execute_result"
    }
   ],
   "source": [
    "df.with_columns(\n",
    "    (pl.col('YMD') + pl.col('HM') + pl.col('s') + \".\" +pl.col('ms') + pl.col('us') ).str\n",
    "    .strptime(pl.Datetime('us'), \"%Y%m%d%H%M%S%.f\").alias('date_time')\n",
    ").head()"
   ]
  },
  {
   "cell_type": "markdown",
   "metadata": {},
   "source": [
    "## <a id='toc1_2_'></a>[ナノ秒レベルの時刻同士で2つのテーブルを紐づけ](#toc0_)"
   ]
  },
  {
   "cell_type": "code",
   "execution_count": 6,
   "metadata": {},
   "outputs": [
    {
     "name": "stdout",
     "output_type": "stream",
     "text": [
      "shape: (5, 4)\n",
      "┌──────────┬───────────┬────────┬──────────┐\n",
      "│ ymd      ┆ hmsmms    ┆ us_ns  ┆ value    │\n",
      "│ ---      ┆ ---       ┆ ---    ┆ ---      │\n",
      "│ str      ┆ str       ┆ str    ┆ f64      │\n",
      "╞══════════╪═══════════╪════════╪══════════╡\n",
      "│ 2020/1/1 ┆ 000000000 ┆ 000000 ┆ 0.993612 │\n",
      "│ 2020/1/1 ┆ 000000000 ┆ 100000 ┆ 0.248432 │\n",
      "│ 2020/1/1 ┆ 000000000 ┆ 200000 ┆ 0.252184 │\n",
      "│ 2020/1/1 ┆ 000000000 ┆ 300000 ┆ 0.597972 │\n",
      "│ 2020/1/1 ┆ 000000000 ┆ 400000 ┆ 0.497804 │\n",
      "└──────────┴───────────┴────────┴──────────┘\n",
      "shape: (5, 4)\n",
      "┌──────────┬───────────┬────────┬──────────┐\n",
      "│ ymd      ┆ hmsmms    ┆ us_ns  ┆ value    │\n",
      "│ ---      ┆ ---       ┆ ---    ┆ ---      │\n",
      "│ str      ┆ str       ┆ str    ┆ f64      │\n",
      "╞══════════╪═══════════╪════════╪══════════╡\n",
      "│ 2020/1/1 ┆ 000000000 ┆ 100000 ┆ 3.248432 │\n",
      "│ 2020/1/1 ┆ 000000000 ┆ 300000 ┆ 1.597972 │\n",
      "│ 2020/1/1 ┆ 000000000 ┆ 400000 ┆ 2.497804 │\n",
      "│ 2020/1/1 ┆ 000000000 ┆ 600000 ┆ 8.028664 │\n",
      "│ 2020/1/1 ┆ 000000000 ┆ 700000 ┆ 0.028664 │\n",
      "└──────────┴───────────┴────────┴──────────┘\n"
     ]
    }
   ],
   "source": [
    "# sampleデータ読み込み。年月日、時分秒ms、マイクロ秒以下がそれぞれ別のパターン。時分秒msは数字の羅列になっている。\n",
    "dtypes = {\n",
    "    'ymd': str,\n",
    "    'hmsmms': str,\n",
    "    'us_ns': str,\n",
    "    'value': float\n",
    "}\n",
    "df_1 = pl.read_csv('../sample_data/time_series/time_series_data_sample_2_1.csv', dtypes=dtypes)\n",
    "df_2 = pl.read_csv('../sample_data/time_series/time_series_data_sample_2_2.csv', dtypes=dtypes)\n",
    "print(df_1.head())\n",
    "print(df_2.head())"
   ]
  },
  {
   "cell_type": "markdown",
   "metadata": {},
   "source": [
    "上記のようなdf_1, df_2をhmsmms+us_nsで紐づけてvalueを比較する。"
   ]
  },
  {
   "cell_type": "code",
   "execution_count": 11,
   "metadata": {},
   "outputs": [
    {
     "data": {
      "text/html": [
       "<div><style>\n",
       ".dataframe > thead > tr > th,\n",
       ".dataframe > tbody > tr > td {\n",
       "  text-align: right;\n",
       "}\n",
       "</style>\n",
       "<small>shape: (3, 3)</small><table border=\"1\" class=\"dataframe\"><thead><tr><th>join_key</th><th>value</th><th>value_right</th></tr><tr><td>str</td><td>f64</td><td>f64</td></tr></thead><tbody><tr><td>&quot;00000000010000…</td><td>0.248432</td><td>3.248432</td></tr><tr><td>&quot;00000000030000…</td><td>0.597972</td><td>1.597972</td></tr><tr><td>&quot;00000000040000…</td><td>0.497804</td><td>2.497804</td></tr></tbody></table></div>"
      ],
      "text/plain": [
       "shape: (3, 3)\n",
       "┌─────────────────┬──────────┬─────────────┐\n",
       "│ join_key        ┆ value    ┆ value_right │\n",
       "│ ---             ┆ ---      ┆ ---         │\n",
       "│ str             ┆ f64      ┆ f64         │\n",
       "╞═════════════════╪══════════╪═════════════╡\n",
       "│ 000000000100000 ┆ 0.248432 ┆ 3.248432    │\n",
       "│ 000000000300000 ┆ 0.597972 ┆ 1.597972    │\n",
       "│ 000000000400000 ┆ 0.497804 ┆ 2.497804    │\n",
       "└─────────────────┴──────────┴─────────────┘"
      ]
     },
     "execution_count": 11,
     "metadata": {},
     "output_type": "execute_result"
    }
   ],
   "source": [
    "# 紐づけ用のキー作成\n",
    "df_1 = df_1.with_columns(\n",
    "    (pl.col('hmsmms') + pl.col('us_ns')).alias('join_key')\n",
    ")\n",
    "df_2 = df_2.with_columns(\n",
    "    (pl.col('hmsmms') + pl.col('us_ns')).alias('join_key')\n",
    ")\n",
    "\n",
    "# 紐づけ\n",
    "df_merged = df_1.join(df_2, on='join_key', how='inner').select(\n",
    "    ['join_key', 'value', 'value_right']\n",
    ")\n",
    "df_merged.head()"
   ]
  },
  {
   "cell_type": "markdown",
   "metadata": {},
   "source": [
    "このように時刻を文字列として扱って結合することで、ある時刻における異なる値を比較できる。"
   ]
  },
  {
   "cell_type": "markdown",
   "metadata": {},
   "source": [
    "## <a id='toc1_3_'></a>[任意の時間範囲でフィルタリング](#toc0_)\n",
    "参考：https://pola-rs.github.io/polars-book/user-guide/transformations/time-series/filter/"
   ]
  },
  {
   "cell_type": "code",
   "execution_count": 22,
   "metadata": {},
   "outputs": [
    {
     "data": {
      "text/html": [
       "<div><style>\n",
       ".dataframe > thead > tr > th,\n",
       ".dataframe > tbody > tr > td {\n",
       "  text-align: right;\n",
       "}\n",
       "</style>\n",
       "<small>shape: (5, 1)</small><table border=\"1\" class=\"dataframe\"><thead><tr><th>date</th></tr><tr><td>datetime[ms]</td></tr></thead><tbody><tr><td>2020-01-01 00:00:00.123</td></tr><tr><td>2020-01-01 00:00:00.123</td></tr><tr><td>2020-01-01 00:00:00.123</td></tr><tr><td>2020-01-01 00:00:00.999</td></tr><tr><td>2020-01-01 00:00:01.100</td></tr></tbody></table></div>"
      ],
      "text/plain": [
       "shape: (5, 1)\n",
       "┌─────────────────────────┐\n",
       "│ date                    │\n",
       "│ ---                     │\n",
       "│ datetime[ms]            │\n",
       "╞═════════════════════════╡\n",
       "│ 2020-01-01 00:00:00.123 │\n",
       "│ 2020-01-01 00:00:00.123 │\n",
       "│ 2020-01-01 00:00:00.123 │\n",
       "│ 2020-01-01 00:00:00.999 │\n",
       "│ 2020-01-01 00:00:01.100 │\n",
       "└─────────────────────────┘"
      ]
     },
     "execution_count": 22,
     "metadata": {},
     "output_type": "execute_result"
    }
   ],
   "source": [
    "df = pl.DataFrame({'date': \n",
    "         ['2020-01-01 00:00:00.123456789',\n",
    "          '2020-01-01 00:00:00.123456790',\n",
    "          '2020-01-01 00:00:00.123456791',\n",
    "          '2020-01-01 00:00:00.999999999',\n",
    "          '2020-01-01 00:00:01.100000001',\n",
    "          '2020-01-01 00:00:02.100000002',\n",
    "          '2020-01-01 00:00:03.100000003',\n",
    "          '2020-01-01 00:00:10.390938889',\n",
    "          '2020-01-01 00:01:10.111233999',\n",
    "          '2020-01-01 00:10:10.111233999',\n",
    "          '2020-01-01 00:10:10.111233999']\n",
    "        })\n",
    "\n",
    "df = df.with_columns(\n",
    "    pl.col('date').str.strptime(pl.Datetime(\"ms\"))\n",
    ")\n",
    "df.head()"
   ]
  },
  {
   "cell_type": "code",
   "execution_count": 23,
   "metadata": {},
   "outputs": [],
   "source": [
    "# 時間のフィルタリング範囲を設定。ナノ秒までは対応していない模様。\n",
    "start_time = datetime.datetime(year=2020, month=1, day=1, hour=0, minute=0, second=0, microsecond=1)\n",
    "end_time = datetime.datetime(year=2020, month=1, day=1, hour=0, minute=0, second=1, microsecond=100000)"
   ]
  },
  {
   "cell_type": "code",
   "execution_count": 24,
   "metadata": {},
   "outputs": [
    {
     "data": {
      "text/html": [
       "<div><style>\n",
       ".dataframe > thead > tr > th,\n",
       ".dataframe > tbody > tr > td {\n",
       "  text-align: right;\n",
       "}\n",
       "</style>\n",
       "<small>shape: (5, 1)</small><table border=\"1\" class=\"dataframe\"><thead><tr><th>date</th></tr><tr><td>datetime[ms]</td></tr></thead><tbody><tr><td>2020-01-01 00:00:00.123</td></tr><tr><td>2020-01-01 00:00:00.123</td></tr><tr><td>2020-01-01 00:00:00.123</td></tr><tr><td>2020-01-01 00:00:00.999</td></tr><tr><td>2020-01-01 00:00:01.100</td></tr></tbody></table></div>"
      ],
      "text/plain": [
       "shape: (5, 1)\n",
       "┌─────────────────────────┐\n",
       "│ date                    │\n",
       "│ ---                     │\n",
       "│ datetime[ms]            │\n",
       "╞═════════════════════════╡\n",
       "│ 2020-01-01 00:00:00.123 │\n",
       "│ 2020-01-01 00:00:00.123 │\n",
       "│ 2020-01-01 00:00:00.123 │\n",
       "│ 2020-01-01 00:00:00.999 │\n",
       "│ 2020-01-01 00:00:01.100 │\n",
       "└─────────────────────────┘"
      ]
     },
     "execution_count": 24,
     "metadata": {},
     "output_type": "execute_result"
    }
   ],
   "source": [
    "df.filter(\n",
    "    pl.col('date').is_between(start_time, end_time)\n",
    ")"
   ]
  },
  {
   "cell_type": "code",
   "execution_count": 28,
   "metadata": {},
   "outputs": [
    {
     "data": {
      "text/plain": [
       "[Datetime(time_unit='ms', time_zone=None)]"
      ]
     },
     "execution_count": 28,
     "metadata": {},
     "output_type": "execute_result"
    }
   ],
   "source": [
    "df.dtypes"
   ]
  },
  {
   "cell_type": "code",
   "execution_count": 37,
   "metadata": {},
   "outputs": [
    {
     "data": {
      "text/html": [
       "<div><style>\n",
       ".dataframe > thead > tr > th,\n",
       ".dataframe > tbody > tr > td {\n",
       "  text-align: right;\n",
       "}\n",
       "</style>\n",
       "<small>shape: (11, 1)</small><table border=\"1\" class=\"dataframe\"><thead><tr><th>date</th></tr><tr><td>datetime[ms]</td></tr></thead><tbody><tr><td>2020-01-01 00:00:00.123</td></tr><tr><td>2020-01-01 00:00:00.123</td></tr><tr><td>2020-01-01 00:00:00.123</td></tr><tr><td>2020-01-01 00:00:00.999</td></tr><tr><td>2020-01-01 00:00:01.100</td></tr><tr><td>2020-01-01 00:00:02.100</td></tr><tr><td>2020-01-01 00:00:03.100</td></tr><tr><td>2020-01-01 00:00:10.390</td></tr><tr><td>2020-01-01 00:01:10.111</td></tr><tr><td>2020-01-01 00:10:10.111</td></tr><tr><td>2020-01-01 00:10:10.111</td></tr></tbody></table></div>"
      ],
      "text/plain": [
       "shape: (11, 1)\n",
       "┌─────────────────────────┐\n",
       "│ date                    │\n",
       "│ ---                     │\n",
       "│ datetime[ms]            │\n",
       "╞═════════════════════════╡\n",
       "│ 2020-01-01 00:00:00.123 │\n",
       "│ 2020-01-01 00:00:00.123 │\n",
       "│ 2020-01-01 00:00:00.123 │\n",
       "│ 2020-01-01 00:00:00.999 │\n",
       "│ …                       │\n",
       "│ 2020-01-01 00:00:10.390 │\n",
       "│ 2020-01-01 00:01:10.111 │\n",
       "│ 2020-01-01 00:10:10.111 │\n",
       "│ 2020-01-01 00:10:10.111 │\n",
       "└─────────────────────────┘"
      ]
     },
     "execution_count": 37,
     "metadata": {},
     "output_type": "execute_result"
    }
   ],
   "source": [
    "df"
   ]
  },
  {
   "attachments": {},
   "cell_type": "markdown",
   "metadata": {},
   "source": [
    "is_betweenに開始時刻、終了時刻をdatetime.datetimeで指定することでフィルタリングできる。  \n",
    "ナノ秒は対応していないようだが、実用上はマイクロ秒までで十分だと思われる。  \n",
    "ナノ秒レベルでフィルタリングしたい場合はms以下の９桁だけ数値で扱うのが良いかも。"
   ]
  },
  {
   "cell_type": "markdown",
   "metadata": {},
   "source": [
    "## <a id='toc1_4_'></a>[秒間集計・分間集計](#toc0_)\n",
    "group_by_dynamicメソッドを使えば簡単にできる。  \n",
    "[group_by_dynamic](https://docs.pola.rs/py-polars/html/reference/dataframe/api/polars.DataFrame.group_by_dynamic.html)"
   ]
  },
  {
   "cell_type": "code",
   "execution_count": 2,
   "metadata": {},
   "outputs": [
    {
     "data": {
      "text/html": [
       "<div><style>\n",
       ".dataframe > thead > tr > th,\n",
       ".dataframe > tbody > tr > td {\n",
       "  text-align: right;\n",
       "  white-space: pre-wrap;\n",
       "}\n",
       "</style>\n",
       "<small>shape: (41, 2)</small><table border=\"1\" class=\"dataframe\"><thead><tr><th>date_time</th><th>value</th></tr><tr><td>datetime[μs]</td><td>f64</td></tr></thead><tbody><tr><td>2020-01-01 00:10:01.001</td><td>0.993612</td></tr><tr><td>2020-01-01 00:10:01.001100</td><td>0.248432</td></tr><tr><td>2020-01-01 00:10:01.001200</td><td>0.252184</td></tr><tr><td>2020-01-01 00:10:01.001300</td><td>0.597972</td></tr><tr><td>2020-01-01 00:10:01.100400</td><td>0.497804</td></tr><tr><td>2020-01-01 00:10:01.100500</td><td>0.028664</td></tr><tr><td>2020-01-01 00:10:02.100600</td><td>0.414288</td></tr><tr><td>2020-01-01 00:10:02.100700</td><td>0.967444</td></tr><tr><td>2020-01-01 00:10:02.200800</td><td>0.853009</td></tr><tr><td>2020-01-01 00:10:02.200900</td><td>0.352883</td></tr><tr><td>2020-01-01 00:10:02.201</td><td>0.548995</td></tr><tr><td>2020-01-01 00:10:02.201100</td><td>0.614955</td></tr><tr><td>&hellip;</td><td>&hellip;</td></tr><tr><td>2020-01-01 00:50:05.602900</td><td>0.098915</td></tr><tr><td>2020-01-01 00:50:06.603</td><td>0.947654</td></tr><tr><td>2020-01-01 00:59:06.603100</td><td>0.80081</td></tr><tr><td>2020-01-01 00:59:06.603200</td><td>0.575581</td></tr><tr><td>2020-01-01 00:59:06.603300</td><td>0.41548</td></tr><tr><td>2020-01-01 00:59:06.703400</td><td>0.979518</td></tr><tr><td>2020-01-01 00:59:06.703500</td><td>0.939489</td></tr><tr><td>2020-01-01 00:59:07.703600</td><td>0.463205</td></tr><tr><td>2020-01-01 00:59:07.703700</td><td>0.534019</td></tr><tr><td>2020-01-01 00:59:07.703800</td><td>0.467023</td></tr><tr><td>2020-01-01 00:59:07.703900</td><td>0.995844</td></tr><tr><td>2020-01-01 00:59:07.704</td><td>0.893253</td></tr></tbody></table></div>"
      ],
      "text/plain": [
       "shape: (41, 2)\n",
       "┌────────────────────────────┬──────────┐\n",
       "│ date_time                  ┆ value    │\n",
       "│ ---                        ┆ ---      │\n",
       "│ datetime[μs]               ┆ f64      │\n",
       "╞════════════════════════════╪══════════╡\n",
       "│ 2020-01-01 00:10:01.001    ┆ 0.993612 │\n",
       "│ 2020-01-01 00:10:01.001100 ┆ 0.248432 │\n",
       "│ 2020-01-01 00:10:01.001200 ┆ 0.252184 │\n",
       "│ 2020-01-01 00:10:01.001300 ┆ 0.597972 │\n",
       "│ …                          ┆ …        │\n",
       "│ 2020-01-01 00:59:07.703700 ┆ 0.534019 │\n",
       "│ 2020-01-01 00:59:07.703800 ┆ 0.467023 │\n",
       "│ 2020-01-01 00:59:07.703900 ┆ 0.995844 │\n",
       "│ 2020-01-01 00:59:07.704    ┆ 0.893253 │\n",
       "└────────────────────────────┴──────────┘"
      ]
     },
     "execution_count": 2,
     "metadata": {},
     "output_type": "execute_result"
    }
   ],
   "source": [
    "# sampleデータ読み込み。年月日、時分、秒、ミリ秒、マイクロ秒、ナノ秒はそれぞれ別カラムにしている。\n",
    "dtypes = {\n",
    "    'YMD': str,\n",
    "    'HM': str,\n",
    "    's': str,\n",
    "    'ms': str,\n",
    "    'us': str,\n",
    "    'ns': str,\n",
    "    'value': float\n",
    "}\n",
    "df = pl.read_csv('./input/time_series/time_series_data_sample_1_3.csv', dtypes=dtypes)\n",
    "\n",
    "# 基本的に20200101 00:00:00.123456789のような形になるようにスペース、ドットを足せば変換できる。\n",
    "df_agg = df.with_columns(\n",
    "    (pl.col('YMD') + pl.col('HM') + pl.col('s') + '.' + pl.col('ms') + pl.col('us') + pl.col('ns')).str\n",
    "    .strptime(pl.Datetime('us'), \"%Y%m%d%H%M%S%.f\").alias('date_time')\n",
    ").select(\n",
    "    ['date_time', 'value']\n",
    ").sort(by='date_time')\n",
    "df_agg"
   ]
  },
  {
   "cell_type": "code",
   "execution_count": 3,
   "metadata": {},
   "outputs": [
    {
     "data": {
      "text/html": [
       "<div><style>\n",
       ".dataframe > thead > tr > th,\n",
       ".dataframe > tbody > tr > td {\n",
       "  text-align: right;\n",
       "  white-space: pre-wrap;\n",
       "}\n",
       "</style>\n",
       "<small>shape: (9, 2)</small><table border=\"1\" class=\"dataframe\"><thead><tr><th>date_time</th><th>value</th></tr><tr><td>datetime[μs]</td><td>u32</td></tr></thead><tbody><tr><td>2020-01-01 00:10:01</td><td>6</td></tr><tr><td>2020-01-01 00:10:02</td><td>6</td></tr><tr><td>2020-01-01 00:30:03</td><td>6</td></tr><tr><td>2020-01-01 00:30:04</td><td>1</td></tr><tr><td>2020-01-01 00:40:04</td><td>5</td></tr><tr><td>2020-01-01 00:50:05</td><td>6</td></tr><tr><td>2020-01-01 00:50:06</td><td>1</td></tr><tr><td>2020-01-01 00:59:06</td><td>5</td></tr><tr><td>2020-01-01 00:59:07</td><td>5</td></tr></tbody></table></div>"
      ],
      "text/plain": [
       "shape: (9, 2)\n",
       "┌─────────────────────┬───────┐\n",
       "│ date_time           ┆ value │\n",
       "│ ---                 ┆ ---   │\n",
       "│ datetime[μs]        ┆ u32   │\n",
       "╞═════════════════════╪═══════╡\n",
       "│ 2020-01-01 00:10:01 ┆ 6     │\n",
       "│ 2020-01-01 00:10:02 ┆ 6     │\n",
       "│ 2020-01-01 00:30:03 ┆ 6     │\n",
       "│ 2020-01-01 00:30:04 ┆ 1     │\n",
       "│ 2020-01-01 00:40:04 ┆ 5     │\n",
       "│ 2020-01-01 00:50:05 ┆ 6     │\n",
       "│ 2020-01-01 00:50:06 ┆ 1     │\n",
       "│ 2020-01-01 00:59:06 ┆ 5     │\n",
       "│ 2020-01-01 00:59:07 ┆ 5     │\n",
       "└─────────────────────┴───────┘"
      ]
     },
     "execution_count": 3,
     "metadata": {},
     "output_type": "execute_result"
    }
   ],
   "source": [
    "# 秒間集計\n",
    "df_agg.group_by_dynamic(\"date_time\", every=\"1s\").agg(pl.col(\"value\").count())"
   ]
  },
  {
   "cell_type": "code",
   "execution_count": 4,
   "metadata": {},
   "outputs": [
    {
     "data": {
      "text/html": [
       "<div><style>\n",
       ".dataframe > thead > tr > th,\n",
       ".dataframe > tbody > tr > td {\n",
       "  text-align: right;\n",
       "  white-space: pre-wrap;\n",
       "}\n",
       "</style>\n",
       "<small>shape: (5, 2)</small><table border=\"1\" class=\"dataframe\"><thead><tr><th>date_time</th><th>value</th></tr><tr><td>datetime[μs]</td><td>u32</td></tr></thead><tbody><tr><td>2020-01-01 00:10:00</td><td>12</td></tr><tr><td>2020-01-01 00:30:00</td><td>7</td></tr><tr><td>2020-01-01 00:40:00</td><td>5</td></tr><tr><td>2020-01-01 00:50:00</td><td>7</td></tr><tr><td>2020-01-01 00:59:00</td><td>10</td></tr></tbody></table></div>"
      ],
      "text/plain": [
       "shape: (5, 2)\n",
       "┌─────────────────────┬───────┐\n",
       "│ date_time           ┆ value │\n",
       "│ ---                 ┆ ---   │\n",
       "│ datetime[μs]        ┆ u32   │\n",
       "╞═════════════════════╪═══════╡\n",
       "│ 2020-01-01 00:10:00 ┆ 12    │\n",
       "│ 2020-01-01 00:30:00 ┆ 7     │\n",
       "│ 2020-01-01 00:40:00 ┆ 5     │\n",
       "│ 2020-01-01 00:50:00 ┆ 7     │\n",
       "│ 2020-01-01 00:59:00 ┆ 10    │\n",
       "└─────────────────────┴───────┘"
      ]
     },
     "execution_count": 4,
     "metadata": {},
     "output_type": "execute_result"
    }
   ],
   "source": [
    "# 分間集計\n",
    "df_agg.group_by_dynamic(\"date_time\", every=\"1m\").agg(pl.col(\"value\").count())"
   ]
  },
  {
   "cell_type": "code",
   "execution_count": 18,
   "metadata": {},
   "outputs": [
    {
     "data": {
      "text/html": [
       "<div><style>\n",
       ".dataframe > thead > tr > th,\n",
       ".dataframe > tbody > tr > td {\n",
       "  text-align: right;\n",
       "  white-space: pre-wrap;\n",
       "}\n",
       "</style>\n",
       "<small>shape: (3, 2)</small><table border=\"1\" class=\"dataframe\"><thead><tr><th>date_time</th><th>value</th></tr><tr><td>datetime[μs]</td><td>u32</td></tr></thead><tbody><tr><td>2020-01-01 00:00:00</td><td>12</td></tr><tr><td>2020-01-01 00:20:00</td><td>7</td></tr><tr><td>2020-01-01 00:40:00</td><td>22</td></tr></tbody></table></div>"
      ],
      "text/plain": [
       "shape: (3, 2)\n",
       "┌─────────────────────┬───────┐\n",
       "│ date_time           ┆ value │\n",
       "│ ---                 ┆ ---   │\n",
       "│ datetime[μs]        ┆ u32   │\n",
       "╞═════════════════════╪═══════╡\n",
       "│ 2020-01-01 00:00:00 ┆ 12    │\n",
       "│ 2020-01-01 00:20:00 ┆ 7     │\n",
       "│ 2020-01-01 00:40:00 ┆ 22    │\n",
       "└─────────────────────┴───────┘"
      ]
     },
     "execution_count": 18,
     "metadata": {},
     "output_type": "execute_result"
    }
   ],
   "source": [
    "# 20分ごとに集計\n",
    "df_agg.group_by_dynamic(\"date_time\", every=\"20m\").agg(pl.col(\"value\").count())"
   ]
  },
  {
   "cell_type": "markdown",
   "metadata": {},
   "source": [
    "group_by_dynamicのインデックスとなるカラムは昇順にソートされている必要があることに注意。"
   ]
  },
  {
   "cell_type": "markdown",
   "metadata": {},
   "source": [
    "## <a id='toc1_5_'></a>[時刻をx軸としてグラフを描いて軸範囲を操作する](#toc0_)"
   ]
  },
  {
   "cell_type": "code",
   "execution_count": 21,
   "metadata": {},
   "outputs": [],
   "source": [
    "# sampleデータ読み込み。年月日、時分秒、ms以下はそれぞれ別カラムにしている。\n",
    "dtypes = {\n",
    "    'ymd': str,\n",
    "    'hms': str,\n",
    "    'ms_us_ns': str,\n",
    "    'value': float\n",
    "}\n",
    "df = pl.read_csv('input/time_series/time_series_data_sample_1.csv', dtypes=dtypes)\n",
    "df = df.with_columns(\n",
    "    (pl.col('ymd') +' ' + pl.col('hms') + '.' + pl.col('ms_us_ns')).str\n",
    "    .strptime(pl.Datetime('ns')).alias('date_time')\n",
    ").select(\n",
    "    # 元々のymd,hms等は不要なので落とす。\n",
    "    ['date_time', 'value']\n",
    ")"
   ]
  },
  {
   "cell_type": "code",
   "execution_count": 22,
   "metadata": {},
   "outputs": [
    {
     "data": {
      "text/html": [
       "<div><style>\n",
       ".dataframe > thead > tr > th,\n",
       ".dataframe > tbody > tr > td {\n",
       "  text-align: right;\n",
       "  white-space: pre-wrap;\n",
       "}\n",
       "</style>\n",
       "<small>shape: (5, 2)</small><table border=\"1\" class=\"dataframe\"><thead><tr><th>date_time</th><th>value</th></tr><tr><td>datetime[ns]</td><td>f64</td></tr></thead><tbody><tr><td>2020-01-01 00:00:00.000000111</td><td>0.993612</td></tr><tr><td>2020-01-01 00:00:00.000100111</td><td>0.248432</td></tr><tr><td>2020-01-01 00:00:00.000200111</td><td>0.252184</td></tr><tr><td>2020-01-01 00:00:00.000300111</td><td>0.597972</td></tr><tr><td>2020-01-01 00:00:00.000400111</td><td>0.497804</td></tr></tbody></table></div>"
      ],
      "text/plain": [
       "shape: (5, 2)\n",
       "┌───────────────────────────────┬──────────┐\n",
       "│ date_time                     ┆ value    │\n",
       "│ ---                           ┆ ---      │\n",
       "│ datetime[ns]                  ┆ f64      │\n",
       "╞═══════════════════════════════╪══════════╡\n",
       "│ 2020-01-01 00:00:00.000000111 ┆ 0.993612 │\n",
       "│ 2020-01-01 00:00:00.000100111 ┆ 0.248432 │\n",
       "│ 2020-01-01 00:00:00.000200111 ┆ 0.252184 │\n",
       "│ 2020-01-01 00:00:00.000300111 ┆ 0.597972 │\n",
       "│ 2020-01-01 00:00:00.000400111 ┆ 0.497804 │\n",
       "└───────────────────────────────┴──────────┘"
      ]
     },
     "execution_count": 22,
     "metadata": {},
     "output_type": "execute_result"
    }
   ],
   "source": [
    "df.head()"
   ]
  },
  {
   "cell_type": "code",
   "execution_count": 23,
   "metadata": {},
   "outputs": [
    {
     "data": {
      "image/png": "[encoded data removed]",
      "text/plain": [
       "<Figure size 1200x300 with 1 Axes>"
      ]
     },
     "metadata": {},
     "output_type": "display_data"
    }
   ],
   "source": [
    "fig, ax = plt.subplots(figsize=(12, 3))\n",
    "sns.scatterplot(x='date_time', y='value', data=df)\n",
    "\n",
    "# 軸目盛をμ秒単位で調整するためのlocaterオブジェクトを生成\n",
    "locater = mdates.MicrosecondLocator(interval=500)\n",
    "ax.xaxis.set_major_locator(locater)"
   ]
  },
  {
   "cell_type": "code",
   "execution_count": 24,
   "metadata": {},
   "outputs": [],
   "source": [
    "# 時間のフィルタリング範囲を設定。最初の1000μ秒だけに絞る\n",
    "start_time = datetime.datetime(year=2020, month=1, day=1, hour=0, minute=0, second=0, microsecond=0)\n",
    "end_time = datetime.datetime(year=2020, month=1, day=1, hour=0, minute=0, second=0, microsecond=1000)"
   ]
  },
  {
   "cell_type": "code",
   "execution_count": 25,
   "metadata": {},
   "outputs": [
    {
     "data": {
      "text/plain": [
       "(18262.0, 18262.000000011572)"
      ]
     },
     "execution_count": 25,
     "metadata": {},
     "output_type": "execute_result"
    },
    {
     "data": {
      "image/png": "[encoded data removed]",
      "text/plain": [
       "<Figure size 1200x300 with 1 Axes>"
      ]
     },
     "metadata": {},
     "output_type": "display_data"
    }
   ],
   "source": [
    "fix, ax = plt.subplots(figsize=(12, 3))\n",
    "sns.scatterplot(x='date_time', y='value', data=df)\n",
    "\n",
    "# set_xlimに開始時刻と終了時刻をdatetime型で入れればOK\n",
    "ax.set_xlim(start_time, end_time)\n"
   ]
  }
 ],
 "metadata": {
  "kernelspec": {
   "display_name": "Python 3 (ipykernel)",
   "language": "python",
   "name": "python3"
  },
  "language_info": {
   "codemirror_mode": {
    "name": "ipython",
    "version": 3
   },
   "file_extension": ".py",
   "mimetype": "text/x-python",
   "name": "python",
   "nbconvert_exporter": "python",
   "pygments_lexer": "ipython3",
   "version": "3.11.6"
  },
  "orig_nbformat": 4
 },
 "nbformat": 4,
 "nbformat_minor": 2
}
