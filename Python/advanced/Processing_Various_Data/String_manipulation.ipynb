{
 "cells": [
  {
   "cell_type": "markdown",
   "id": "c138b5b7-6114-4b95-ae79-f70963123492",
   "metadata": {},
   "source": [
    "# String manipulation（文字列操作テクニック）"
   ]
  },
  {
   "cell_type": "code",
   "execution_count": 3,
   "id": "2ca5c210",
   "metadata": {},
   "outputs": [],
   "source": [
    "import pandas as pd\n",
    "import polars as pl"
   ]
  },
  {
   "cell_type": "markdown",
   "id": "0184db07-8357-4ccc-98f0-f4587ee97658",
   "metadata": {},
   "source": [
    "## 複数の単語をそれぞれシングルクォーテーションで囲う  \n",
    "コピペしてきた複数の単語を文字列としてリストに格納したいときなどに。"
   ]
  },
  {
   "cell_type": "code",
   "execution_count": 1,
   "id": "b7a6ecfc-ca46-4267-aee9-c47f7e29a351",
   "metadata": {},
   "outputs": [],
   "source": [
    "# 複数の単語を下記のように一つの文字列としてまとめる。\n",
    "words = 'apple orange lemon'\n",
    "# スペースでスプリットして文字列として格納\n",
    "words_list = [word for word in words.split()]"
   ]
  },
  {
   "cell_type": "code",
   "execution_count": 15,
   "id": "f5a4c8eb-5c94-4c0f-a426-6e0c7679b195",
   "metadata": {
    "tags": []
   },
   "outputs": [
    {
     "data": {
      "text/plain": [
       "['apple', 'orange', 'lemon']"
      ]
     },
     "execution_count": 15,
     "metadata": {},
     "output_type": "execute_result"
    }
   ],
   "source": [
    "words_list"
   ]
  },
  {
   "cell_type": "code",
   "execution_count": 18,
   "id": "9bc4e0e9-ba3c-49be-9153-fd1d74e8a50a",
   "metadata": {},
   "outputs": [],
   "source": [
    "# カンマの場合\n",
    "words_2 = 'apple,orange,lemon'\n",
    "words_list_2 = [word for word in words_2.split(',')]"
   ]
  },
  {
   "cell_type": "code",
   "execution_count": 19,
   "id": "17a997d3-94bd-4d55-874b-a3549eb24ff0",
   "metadata": {
    "tags": []
   },
   "outputs": [
    {
     "data": {
      "text/plain": [
       "['apple', 'orange', 'lemon']"
      ]
     },
     "execution_count": 19,
     "metadata": {},
     "output_type": "execute_result"
    }
   ],
   "source": [
    "words_list_2"
   ]
  },
  {
   "cell_type": "code",
   "execution_count": 37,
   "id": "58c15849-f1b5-43a2-9553-32bb7a79f3e0",
   "metadata": {
    "tags": []
   },
   "outputs": [],
   "source": [
    "# エクセルの列をそのまま貼り付けてきたような場合。シングルクォーテーション３つで複数行文字列化できる\n",
    "words_3 = '''\n",
    "apple\n",
    "orange\n",
    "lemon\n",
    "apple\n",
    "orange\n",
    "lemon\n",
    "apple\n",
    "orange\n",
    "lemon\n",
    "apple\n",
    "orange\n",
    "lemon\n",
    "apple\n",
    "orange\n",
    "lemon\n",
    "'''\n",
    "words_list_3 = [word for word in words_3.split('\\n')]"
   ]
  },
  {
   "cell_type": "code",
   "execution_count": 38,
   "id": "9a5103ad-ad6e-4bbe-9827-4c9247aa5b2a",
   "metadata": {
    "tags": []
   },
   "outputs": [
    {
     "data": {
      "text/plain": [
       "'\\napple\\norange\\nlemon\\napple\\norange\\nlemon\\napple\\norange\\nlemon\\napple\\norange\\nlemon\\napple\\norange\\nlemon\\n'"
      ]
     },
     "execution_count": 38,
     "metadata": {},
     "output_type": "execute_result"
    }
   ],
   "source": [
    "words_3"
   ]
  },
  {
   "cell_type": "code",
   "execution_count": 39,
   "id": "a21df2ac-326b-4703-b379-907ce40d2704",
   "metadata": {
    "tags": []
   },
   "outputs": [
    {
     "data": {
      "text/plain": [
       "['',\n",
       " 'apple',\n",
       " 'orange',\n",
       " 'lemon',\n",
       " 'apple',\n",
       " 'orange',\n",
       " 'lemon',\n",
       " 'apple',\n",
       " 'orange',\n",
       " 'lemon',\n",
       " 'apple',\n",
       " 'orange',\n",
       " 'lemon',\n",
       " 'apple',\n",
       " 'orange',\n",
       " 'lemon',\n",
       " '']"
      ]
     },
     "execution_count": 39,
     "metadata": {},
     "output_type": "execute_result"
    }
   ],
   "source": [
    "words_list_3"
   ]
  },
  {
   "cell_type": "markdown",
   "id": "75a81941-328b-4bab-a586-95da3b010f0a",
   "metadata": {},
   "source": [
    "最初と最後に余分なものが入るので、のぞいて格納。"
   ]
  },
  {
   "cell_type": "code",
   "execution_count": 40,
   "id": "7d57cd00-3aff-458d-9db3-506c122b02e5",
   "metadata": {
    "tags": []
   },
   "outputs": [],
   "source": [
    "words_list_3 = words_list_3[1:-1]"
   ]
  },
  {
   "cell_type": "code",
   "execution_count": 41,
   "id": "e0443bb0-d7d5-4286-b4c8-89f258b74de6",
   "metadata": {
    "tags": []
   },
   "outputs": [
    {
     "data": {
      "text/plain": [
       "['apple',\n",
       " 'orange',\n",
       " 'lemon',\n",
       " 'apple',\n",
       " 'orange',\n",
       " 'lemon',\n",
       " 'apple',\n",
       " 'orange',\n",
       " 'lemon',\n",
       " 'apple',\n",
       " 'orange',\n",
       " 'lemon',\n",
       " 'apple',\n",
       " 'orange',\n",
       " 'lemon']"
      ]
     },
     "execution_count": 41,
     "metadata": {},
     "output_type": "execute_result"
    }
   ],
   "source": [
    "words_list_3"
   ]
  },
  {
   "cell_type": "markdown",
   "id": "4920bf05",
   "metadata": {},
   "source": [
    "## 数字の羅列になっている時刻を秒やマイクロ秒に変換する"
   ]
  },
  {
   "cell_type": "code",
   "execution_count": 4,
   "id": "e45b3980",
   "metadata": {},
   "outputs": [],
   "source": [
    "df = pd.DataFrame({\n",
    "        'Date':['20200101',\n",
    "                '20200102',\n",
    "                '20200103'],\n",
    "        'Time': ['131205123',\n",
    "                '133406123',\n",
    "                '142215123'],\n",
    "        'Time(usns)': ['456789',\n",
    "                        '456790',\n",
    "                        '456791']\n",
    "        })"
   ]
  },
  {
   "cell_type": "code",
   "execution_count": 5,
   "id": "106830f1",
   "metadata": {},
   "outputs": [
    {
     "data": {
      "text/html": [
       "<div>\n",
       "<style scoped>\n",
       "    .dataframe tbody tr th:only-of-type {\n",
       "        vertical-align: middle;\n",
       "    }\n",
       "\n",
       "    .dataframe tbody tr th {\n",
       "        vertical-align: top;\n",
       "    }\n",
       "\n",
       "    .dataframe thead th {\n",
       "        text-align: right;\n",
       "    }\n",
       "</style>\n",
       "<table border=\"1\" class=\"dataframe\">\n",
       "  <thead>\n",
       "    <tr style=\"text-align: right;\">\n",
       "      <th></th>\n",
       "      <th>Date</th>\n",
       "      <th>Time</th>\n",
       "      <th>Time(usns)</th>\n",
       "    </tr>\n",
       "  </thead>\n",
       "  <tbody>\n",
       "    <tr>\n",
       "      <th>0</th>\n",
       "      <td>20200101</td>\n",
       "      <td>131205123</td>\n",
       "      <td>456789</td>\n",
       "    </tr>\n",
       "    <tr>\n",
       "      <th>1</th>\n",
       "      <td>20200102</td>\n",
       "      <td>133406123</td>\n",
       "      <td>456790</td>\n",
       "    </tr>\n",
       "    <tr>\n",
       "      <th>2</th>\n",
       "      <td>20200103</td>\n",
       "      <td>142215123</td>\n",
       "      <td>456791</td>\n",
       "    </tr>\n",
       "  </tbody>\n",
       "</table>\n",
       "</div>"
      ],
      "text/plain": [
       "       Date       Time Time(usns)\n",
       "0  20200101  131205123     456789\n",
       "1  20200102  133406123     456790\n",
       "2  20200103  142215123     456791"
      ]
     },
     "execution_count": 5,
     "metadata": {},
     "output_type": "execute_result"
    }
   ],
   "source": [
    "df.head()"
   ]
  },
  {
   "cell_type": "code",
   "execution_count": 10,
   "id": "9fb663a9",
   "metadata": {},
   "outputs": [
    {
     "data": {
      "text/html": [
       "<div>\n",
       "<style scoped>\n",
       "    .dataframe tbody tr th:only-of-type {\n",
       "        vertical-align: middle;\n",
       "    }\n",
       "\n",
       "    .dataframe tbody tr th {\n",
       "        vertical-align: top;\n",
       "    }\n",
       "\n",
       "    .dataframe thead th {\n",
       "        text-align: right;\n",
       "    }\n",
       "</style>\n",
       "<table border=\"1\" class=\"dataframe\">\n",
       "  <thead>\n",
       "    <tr style=\"text-align: right;\">\n",
       "      <th></th>\n",
       "      <th>Date</th>\n",
       "      <th>Time</th>\n",
       "      <th>Time(usns)</th>\n",
       "      <th>cumTime_us</th>\n",
       "    </tr>\n",
       "  </thead>\n",
       "  <tbody>\n",
       "    <tr>\n",
       "      <th>0</th>\n",
       "      <td>20200101</td>\n",
       "      <td>131205123</td>\n",
       "      <td>456789</td>\n",
       "      <td>4.752512e+10</td>\n",
       "    </tr>\n",
       "    <tr>\n",
       "      <th>1</th>\n",
       "      <td>20200102</td>\n",
       "      <td>133406123</td>\n",
       "      <td>456790</td>\n",
       "      <td>4.884612e+10</td>\n",
       "    </tr>\n",
       "    <tr>\n",
       "      <th>2</th>\n",
       "      <td>20200103</td>\n",
       "      <td>142215123</td>\n",
       "      <td>456791</td>\n",
       "      <td>5.173512e+10</td>\n",
       "    </tr>\n",
       "  </tbody>\n",
       "</table>\n",
       "</div>"
      ],
      "text/plain": [
       "       Date       Time Time(usns)    cumTime_us\n",
       "0  20200101  131205123     456789  4.752512e+10\n",
       "1  20200102  133406123     456790  4.884612e+10\n",
       "2  20200103  142215123     456791  5.173512e+10"
      ]
     },
     "execution_count": 10,
     "metadata": {},
     "output_type": "execute_result"
    }
   ],
   "source": [
    "# Timeをマイクロ秒に変換する例\n",
    "df['cumTime_us'] = df['Time'].apply(\n",
    "    lambda x: int(x[0:2]) * 60 * 60 * 1000 * 1000 + int(x[2:4]) * 60 * 1000 * 1000 + int(x[4:]) * 1000\n",
    ") + df['Time(usns)'].astype(int) / 1000\n",
    "\n",
    "df"
   ]
  }
 ],
 "metadata": {
  "kernelspec": {
   "display_name": "Python 3 (ipykernel)",
   "language": "python",
   "name": "python3"
  },
  "language_info": {
   "codemirror_mode": {
    "name": "ipython",
    "version": 3
   },
   "file_extension": ".py",
   "mimetype": "text/x-python",
   "name": "python",
   "nbconvert_exporter": "python",
   "pygments_lexer": "ipython3",
   "version": "3.9.12"
  }
 },
 "nbformat": 4,
 "nbformat_minor": 5
}
