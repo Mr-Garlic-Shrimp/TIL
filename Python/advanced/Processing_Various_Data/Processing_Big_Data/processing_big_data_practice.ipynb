{
 "cells": [
  {
   "cell_type": "markdown",
   "metadata": {},
   "source": [
    "# 巨大なデータの取り扱い\n",
    "巨大といってもここでは数千万～数億レコード（数GB～100GB未満ぐらい）のデータをPythonで処理するときについて  \n",
    "色々試した結果を記す。  "
   ]
  },
  {
   "cell_type": "code",
   "execution_count": 1,
   "metadata": {},
   "outputs": [
    {
     "data": {
      "text/plain": [
       "polars.config.Config"
      ]
     },
     "execution_count": 1,
     "metadata": {},
     "output_type": "execute_result"
    }
   ],
   "source": [
    "import polars as pl\n",
    "import numpy as np\n",
    "\n",
    "# 文字列カラムの表示文字数を50文字に設定\n",
    "pl.Config.set_fmt_str_lengths(50)"
   ]
  },
  {
   "cell_type": "markdown",
   "metadata": {},
   "source": [
    "## ● 約5000万行 × 5列 × 1ファイル（外付けUSBに保存）の場合  \n",
    "### 条件\n",
    "* USBのスペック： \n",
    "    * USB3.2 Gen1  \n",
    "    * 容量： 32GB\n",
    "    * 他の詳細は忘れた\n",
    "\n",
    "USBに保存してある大きめのファイルについて処理したいとき。  \n",
    "データの全カラム・全レコードが解析に必要なケースは多くないと思われるので、  \n",
    "LazyFrameを活用して高速化、メモリ節約を意識する。  \n",
    "collect()の際はstreaming=Trueにすることで一気にメモリに読み込まずにバッチ的に読み込んで処理する。"
   ]
  },
  {
   "cell_type": "code",
   "execution_count": 2,
   "metadata": {},
   "outputs": [
    {
     "name": "stdout",
     "output_type": "stream",
     "text": [
      "49061300 ../../../sample_data/from_HDD/big_data/sample_big_data_1.csv\n"
     ]
    }
   ],
   "source": [
    "! wc -l ../../../sample_data/from_HDD/00_study/sample_data/sample_big_data_1.csv"
   ]
  },
  {
   "cell_type": "code",
   "execution_count": 6,
   "metadata": {},
   "outputs": [],
   "source": [
    "# 読み込み条件定義\n",
    "input_file = '../../../sample_data/from_HDD/00_Study/sample_data/sample_big_data_1.csv'\n",
    "col_names_dtypes = {\n",
    "    'datetime_col': pl.Utf8, \n",
    "    'value_1': pl.Float32, \n",
    "    'value_2': pl.Float32, \n",
    "    'value_3': pl.Float32, \n",
    "    'labels': pl.Utf8}"
   ]
  },
  {
   "cell_type": "code",
   "execution_count": 7,
   "metadata": {},
   "outputs": [
    {
     "data": {
      "text/html": [
       "<div><style>\n",
       ".dataframe > thead > tr > th,\n",
       ".dataframe > tbody > tr > td {\n",
       "  text-align: right;\n",
       "  white-space: pre-wrap;\n",
       "}\n",
       "</style>\n",
       "<small>shape: (5, 5)</small><table border=\"1\" class=\"dataframe\"><thead><tr><th>datetime_col</th><th>value_1</th><th>value_2</th><th>value_3</th><th>labels</th></tr><tr><td>str</td><td>f32</td><td>f32</td><td>f32</td><td>str</td></tr></thead><tbody><tr><td>&quot;2023-11-03 13:39:36.088815&quot;</td><td>404.69751</td><td>443.679321</td><td>87.651566</td><td>&quot;CCCC&quot;</td></tr><tr><td>&quot;2023-11-03 13:39:36.088875&quot;</td><td>457.07785</td><td>634.807251</td><td>549.272156</td><td>&quot;EEEE&quot;</td></tr><tr><td>&quot;2023-11-03 13:39:36.088891&quot;</td><td>620.065186</td><td>173.628784</td><td>219.745941</td><td>&quot;BBBB&quot;</td></tr><tr><td>&quot;2023-11-03 13:39:36.088906&quot;</td><td>25.579391</td><td>143.887222</td><td>408.059845</td><td>&quot;BBBB&quot;</td></tr><tr><td>&quot;2023-11-03 13:39:36.088920&quot;</td><td>654.784729</td><td>528.226379</td><td>1026.964355</td><td>&quot;BBBB&quot;</td></tr></tbody></table></div>"
      ],
      "text/plain": [
       "shape: (5, 5)\n",
       "┌────────────────────────────┬────────────┬────────────┬─────────────┬────────┐\n",
       "│ datetime_col               ┆ value_1    ┆ value_2    ┆ value_3     ┆ labels │\n",
       "│ ---                        ┆ ---        ┆ ---        ┆ ---         ┆ ---    │\n",
       "│ str                        ┆ f32        ┆ f32        ┆ f32         ┆ str    │\n",
       "╞════════════════════════════╪════════════╪════════════╪═════════════╪════════╡\n",
       "│ 2023-11-03 13:39:36.088815 ┆ 404.69751  ┆ 443.679321 ┆ 87.651566   ┆ CCCC   │\n",
       "│ 2023-11-03 13:39:36.088875 ┆ 457.07785  ┆ 634.807251 ┆ 549.272156  ┆ EEEE   │\n",
       "│ 2023-11-03 13:39:36.088891 ┆ 620.065186 ┆ 173.628784 ┆ 219.745941  ┆ BBBB   │\n",
       "│ 2023-11-03 13:39:36.088906 ┆ 25.579391  ┆ 143.887222 ┆ 408.059845  ┆ BBBB   │\n",
       "│ 2023-11-03 13:39:36.088920 ┆ 654.784729 ┆ 528.226379 ┆ 1026.964355 ┆ BBBB   │\n",
       "└────────────────────────────┴────────────┴────────────┴─────────────┴────────┘"
      ]
     },
     "execution_count": 7,
     "metadata": {},
     "output_type": "execute_result"
    }
   ],
   "source": [
    "# 最初の５行だけ読み込み\n",
    "(\n",
    "    pl.scan_csv(input_file, has_header=False, schema=col_names_dtypes)\n",
    "    .head().collect()\n",
    ")"
   ]
  },
  {
   "cell_type": "markdown",
   "metadata": {},
   "source": [
    "最初の5行を表示したりは全く問題ない。"
   ]
  },
  {
   "cell_type": "code",
   "execution_count": 7,
   "metadata": {},
   "outputs": [
    {
     "name": "stdout",
     "output_type": "stream",
     "text": [
      "CPU times: user 35.8 s, sys: 2min 41s, total: 3min 17s\n",
      "Wall time: 1min 6s\n"
     ]
    },
    {
     "data": {
      "text/html": [
       "<div><style>\n",
       ".dataframe > thead > tr > th,\n",
       ".dataframe > tbody > tr > td {\n",
       "  text-align: right;\n",
       "  white-space: pre-wrap;\n",
       "}\n",
       "</style>\n",
       "<small>shape: (9_813_318, 6)</small><table border=\"1\" class=\"dataframe\"><thead><tr><th>datetime_col</th><th>value_1</th><th>value_2</th><th>value_3</th><th>labels</th><th>val_1_90tile</th></tr><tr><td>str</td><td>f32</td><td>f32</td><td>f32</td><td>str</td><td>f32</td></tr></thead><tbody><tr><td>&quot;2023-11-03 13:39:36.088875&quot;</td><td>457.07785</td><td>634.807251</td><td>549.272156</td><td>&quot;EEEE&quot;</td><td>900.028076</td></tr><tr><td>&quot;2023-11-03 13:39:36.088961&quot;</td><td>484.879608</td><td>265.178833</td><td>711.663208</td><td>&quot;EEEE&quot;</td><td>900.028076</td></tr><tr><td>&quot;2023-11-03 13:39:36.089092&quot;</td><td>713.928345</td><td>101.049217</td><td>836.95105</td><td>&quot;EEEE&quot;</td><td>900.028076</td></tr><tr><td>&quot;2023-11-03 13:39:36.089165&quot;</td><td>964.206848</td><td>974.932983</td><td>227.194</td><td>&quot;EEEE&quot;</td><td>900.028076</td></tr><tr><td>&quot;2023-11-03 13:39:36.089313&quot;</td><td>864.268555</td><td>748.114075</td><td>447.793671</td><td>&quot;EEEE&quot;</td><td>900.028076</td></tr><tr><td>&quot;2023-11-03 13:39:36.089325&quot;</td><td>730.194397</td><td>89.366402</td><td>932.182983</td><td>&quot;EEEE&quot;</td><td>900.028076</td></tr><tr><td>&quot;2023-11-03 13:39:36.089375&quot;</td><td>140.499466</td><td>857.064331</td><td>237.348999</td><td>&quot;EEEE&quot;</td><td>900.028076</td></tr><tr><td>&quot;2023-11-03 13:39:36.089387&quot;</td><td>719.163879</td><td>674.034851</td><td>836.932312</td><td>&quot;EEEE&quot;</td><td>900.028076</td></tr><tr><td>&quot;2023-11-03 13:39:36.089461&quot;</td><td>832.301819</td><td>503.263397</td><td>335.356476</td><td>&quot;EEEE&quot;</td><td>900.028076</td></tr><tr><td>&quot;2023-11-03 13:39:36.089485&quot;</td><td>359.132294</td><td>8.830131</td><td>935.493713</td><td>&quot;EEEE&quot;</td><td>900.028076</td></tr><tr><td>&quot;2023-11-03 13:39:36.089620&quot;</td><td>770.107849</td><td>682.951416</td><td>385.821625</td><td>&quot;EEEE&quot;</td><td>900.028076</td></tr><tr><td>&quot;2023-11-03 13:39:36.089770&quot;</td><td>580.617249</td><td>594.437805</td><td>812.867554</td><td>&quot;EEEE&quot;</td><td>900.028076</td></tr><tr><td>&hellip;</td><td>&hellip;</td><td>&hellip;</td><td>&hellip;</td><td>&hellip;</td><td>&hellip;</td></tr><tr><td>&quot;2023-11-03 14:53:12.037060&quot;</td><td>804.683533</td><td>952.887573</td><td>994.159363</td><td>&quot;EEEE&quot;</td><td>900.028076</td></tr><tr><td>&quot;2023-11-03 14:53:12.037097&quot;</td><td>362.62793</td><td>905.867554</td><td>118.470207</td><td>&quot;EEEE&quot;</td><td>900.028076</td></tr><tr><td>&quot;2023-11-03 14:53:12.037110&quot;</td><td>981.057129</td><td>894.191833</td><td>136.118896</td><td>&quot;EEEE&quot;</td><td>900.028076</td></tr><tr><td>&quot;2023-11-03 14:53:12.037197&quot;</td><td>6.569554</td><td>142.389664</td><td>567.820679</td><td>&quot;EEEE&quot;</td><td>900.028076</td></tr><tr><td>&quot;2023-11-03 14:53:12.037299&quot;</td><td>74.79628</td><td>516.308716</td><td>419.881866</td><td>&quot;EEEE&quot;</td><td>900.028076</td></tr><tr><td>&quot;2023-11-03 14:53:12.037312&quot;</td><td>615.663208</td><td>294.356598</td><td>182.211533</td><td>&quot;EEEE&quot;</td><td>900.028076</td></tr><tr><td>&quot;2023-11-03 14:53:12.037480&quot;</td><td>837.669617</td><td>112.613289</td><td>953.677063</td><td>&quot;EEEE&quot;</td><td>900.028076</td></tr><tr><td>&quot;2023-11-03 14:53:12.037502&quot;</td><td>319.286407</td><td>487.200226</td><td>1020.438416</td><td>&quot;EEEE&quot;</td><td>900.028076</td></tr><tr><td>&quot;2023-11-03 14:53:12.037553&quot;</td><td>524.535767</td><td>174.997086</td><td>400.415436</td><td>&quot;EEEE&quot;</td><td>900.028076</td></tr><tr><td>&quot;2023-11-03 14:53:12.037606&quot;</td><td>239.139511</td><td>223.169006</td><td>868.543335</td><td>&quot;EEEE&quot;</td><td>900.028076</td></tr><tr><td>&quot;2023-11-03 14:53:12.037631&quot;</td><td>379.364258</td><td>896.411682</td><td>371.821472</td><td>&quot;EEEE&quot;</td><td>900.028076</td></tr><tr><td>&quot;2023-11-03 14:53:12.037767&quot;</td><td>565.079041</td><td>56.343513</td><td>202.908264</td><td>&quot;EEEE&quot;</td><td>900.028076</td></tr></tbody></table></div>"
      ],
      "text/plain": [
       "shape: (9_813_318, 6)\n",
       "┌────────────────────────────┬────────────┬────────────┬────────────┬────────┬──────────────┐\n",
       "│ datetime_col               ┆ value_1    ┆ value_2    ┆ value_3    ┆ labels ┆ val_1_90tile │\n",
       "│ ---                        ┆ ---        ┆ ---        ┆ ---        ┆ ---    ┆ ---          │\n",
       "│ str                        ┆ f32        ┆ f32        ┆ f32        ┆ str    ┆ f32          │\n",
       "╞════════════════════════════╪════════════╪════════════╪════════════╪════════╪══════════════╡\n",
       "│ 2023-11-03 13:39:36.088875 ┆ 457.07785  ┆ 634.807251 ┆ 549.272156 ┆ EEEE   ┆ 900.028076   │\n",
       "│ 2023-11-03 13:39:36.088961 ┆ 484.879608 ┆ 265.178833 ┆ 711.663208 ┆ EEEE   ┆ 900.028076   │\n",
       "│ 2023-11-03 13:39:36.089092 ┆ 713.928345 ┆ 101.049217 ┆ 836.95105  ┆ EEEE   ┆ 900.028076   │\n",
       "│ 2023-11-03 13:39:36.089165 ┆ 964.206848 ┆ 974.932983 ┆ 227.194    ┆ EEEE   ┆ 900.028076   │\n",
       "│ …                          ┆ …          ┆ …          ┆ …          ┆ …      ┆ …            │\n",
       "│ 2023-11-03 14:53:12.037553 ┆ 524.535767 ┆ 174.997086 ┆ 400.415436 ┆ EEEE   ┆ 900.028076   │\n",
       "│ 2023-11-03 14:53:12.037606 ┆ 239.139511 ┆ 223.169006 ┆ 868.543335 ┆ EEEE   ┆ 900.028076   │\n",
       "│ 2023-11-03 14:53:12.037631 ┆ 379.364258 ┆ 896.411682 ┆ 371.821472 ┆ EEEE   ┆ 900.028076   │\n",
       "│ 2023-11-03 14:53:12.037767 ┆ 565.079041 ┆ 56.343513  ┆ 202.908264 ┆ EEEE   ┆ 900.028076   │\n",
       "└────────────────────────────┴────────────┴────────────┴────────────┴────────┴──────────────┘"
      ]
     },
     "execution_count": 7,
     "metadata": {},
     "output_type": "execute_result"
    }
   ],
   "source": [
    "%%time\n",
    "# filter,with_columnsをやってみる。\n",
    "(\n",
    "    pl.scan_csv(input_file, has_header=False, schema=col_names_dtypes, truncate_ragged_lines=True)\n",
    "    .filter(pl.col('labels') == 'EEEE')\n",
    "    .with_columns(\n",
    "        val_1_90tile = pl.col('value_1').quantile(0.9)\n",
    "    ).collect(streaming=True)\n",
    ")"
   ]
  },
  {
   "cell_type": "markdown",
   "metadata": {},
   "source": [
    "filterしてquantileを計算するのは1分ほどかかった。"
   ]
  },
  {
   "cell_type": "code",
   "execution_count": 10,
   "metadata": {},
   "outputs": [
    {
     "name": "stdout",
     "output_type": "stream",
     "text": [
      "CPU times: user 21.1 s, sys: 3min 1s, total: 3min 22s\n",
      "Wall time: 53.8 s\n"
     ]
    },
    {
     "data": {
      "text/html": [
       "<div><style>\n",
       ".dataframe > thead > tr > th,\n",
       ".dataframe > tbody > tr > td {\n",
       "  text-align: right;\n",
       "  white-space: pre-wrap;\n",
       "}\n",
       "</style>\n",
       "<small>shape: (1, 1)</small><table border=\"1\" class=\"dataframe\"><thead><tr><th>value_1</th></tr><tr><td>f32</td></tr></thead><tbody><tr><td>900.028076</td></tr></tbody></table></div>"
      ],
      "text/plain": [
       "shape: (1, 1)\n",
       "┌────────────┐\n",
       "│ value_1    │\n",
       "│ ---        │\n",
       "│ f32        │\n",
       "╞════════════╡\n",
       "│ 900.028076 │\n",
       "└────────────┘"
      ]
     },
     "execution_count": 10,
     "metadata": {},
     "output_type": "execute_result"
    }
   ],
   "source": [
    "%%time\n",
    "# filter,with_columnsをやってみる。\n",
    "(\n",
    "    pl.scan_csv(input_file, has_header=False, schema=col_names_dtypes)\n",
    "    .filter(pl.col('labels') == 'EEEE')\n",
    "    .select(pl.col('value_1').quantile(0.9))\n",
    "    .collect(streaming=True)\n",
    ")"
   ]
  },
  {
   "cell_type": "code",
   "execution_count": 11,
   "metadata": {},
   "outputs": [
    {
     "name": "stdout",
     "output_type": "stream",
     "text": [
      "CPU times: user 32.8 s, sys: 2min 47s, total: 3min 20s\n",
      "Wall time: 1min 6s\n"
     ]
    },
    {
     "data": {
      "text/html": [
       "<div><style>\n",
       ".dataframe > thead > tr > th,\n",
       ".dataframe > tbody > tr > td {\n",
       "  text-align: right;\n",
       "  white-space: pre-wrap;\n",
       "}\n",
       "</style>\n",
       "<small>shape: (9_813_318, 5)</small><table border=\"1\" class=\"dataframe\"><thead><tr><th>datetime_col</th><th>value_1</th><th>value_2</th><th>value_3</th><th>labels</th></tr><tr><td>str</td><td>f32</td><td>f32</td><td>f32</td><td>str</td></tr></thead><tbody><tr><td>&quot;2023-11-03 13:39:36.088875&quot;</td><td>457.07785</td><td>634.807251</td><td>549.272156</td><td>&quot;EEEE&quot;</td></tr><tr><td>&quot;2023-11-03 13:39:36.088961&quot;</td><td>484.879608</td><td>265.178833</td><td>711.663208</td><td>&quot;EEEE&quot;</td></tr><tr><td>&quot;2023-11-03 13:39:36.089092&quot;</td><td>713.928345</td><td>101.049217</td><td>836.95105</td><td>&quot;EEEE&quot;</td></tr><tr><td>&quot;2023-11-03 13:39:36.089165&quot;</td><td>964.206848</td><td>974.932983</td><td>227.194</td><td>&quot;EEEE&quot;</td></tr><tr><td>&quot;2023-11-03 13:39:36.089313&quot;</td><td>864.268555</td><td>748.114075</td><td>447.793671</td><td>&quot;EEEE&quot;</td></tr><tr><td>&quot;2023-11-03 13:39:36.089325&quot;</td><td>730.194397</td><td>89.366402</td><td>932.182983</td><td>&quot;EEEE&quot;</td></tr><tr><td>&quot;2023-11-03 13:39:36.089375&quot;</td><td>140.499466</td><td>857.064331</td><td>237.348999</td><td>&quot;EEEE&quot;</td></tr><tr><td>&quot;2023-11-03 13:39:36.089387&quot;</td><td>719.163879</td><td>674.034851</td><td>836.932312</td><td>&quot;EEEE&quot;</td></tr><tr><td>&quot;2023-11-03 13:39:36.089461&quot;</td><td>832.301819</td><td>503.263397</td><td>335.356476</td><td>&quot;EEEE&quot;</td></tr><tr><td>&quot;2023-11-03 13:39:36.089485&quot;</td><td>359.132294</td><td>8.830131</td><td>935.493713</td><td>&quot;EEEE&quot;</td></tr><tr><td>&quot;2023-11-03 13:39:36.089620&quot;</td><td>770.107849</td><td>682.951416</td><td>385.821625</td><td>&quot;EEEE&quot;</td></tr><tr><td>&quot;2023-11-03 13:39:36.089770&quot;</td><td>580.617249</td><td>594.437805</td><td>812.867554</td><td>&quot;EEEE&quot;</td></tr><tr><td>&hellip;</td><td>&hellip;</td><td>&hellip;</td><td>&hellip;</td><td>&hellip;</td></tr><tr><td>&quot;2023-11-03 14:53:12.037060&quot;</td><td>804.683533</td><td>952.887573</td><td>994.159363</td><td>&quot;EEEE&quot;</td></tr><tr><td>&quot;2023-11-03 14:53:12.037097&quot;</td><td>362.62793</td><td>905.867554</td><td>118.470207</td><td>&quot;EEEE&quot;</td></tr><tr><td>&quot;2023-11-03 14:53:12.037110&quot;</td><td>981.057129</td><td>894.191833</td><td>136.118896</td><td>&quot;EEEE&quot;</td></tr><tr><td>&quot;2023-11-03 14:53:12.037197&quot;</td><td>6.569554</td><td>142.389664</td><td>567.820679</td><td>&quot;EEEE&quot;</td></tr><tr><td>&quot;2023-11-03 14:53:12.037299&quot;</td><td>74.79628</td><td>516.308716</td><td>419.881866</td><td>&quot;EEEE&quot;</td></tr><tr><td>&quot;2023-11-03 14:53:12.037312&quot;</td><td>615.663208</td><td>294.356598</td><td>182.211533</td><td>&quot;EEEE&quot;</td></tr><tr><td>&quot;2023-11-03 14:53:12.037480&quot;</td><td>837.669617</td><td>112.613289</td><td>953.677063</td><td>&quot;EEEE&quot;</td></tr><tr><td>&quot;2023-11-03 14:53:12.037502&quot;</td><td>319.286407</td><td>487.200226</td><td>1020.438416</td><td>&quot;EEEE&quot;</td></tr><tr><td>&quot;2023-11-03 14:53:12.037553&quot;</td><td>524.535767</td><td>174.997086</td><td>400.415436</td><td>&quot;EEEE&quot;</td></tr><tr><td>&quot;2023-11-03 14:53:12.037606&quot;</td><td>239.139511</td><td>223.169006</td><td>868.543335</td><td>&quot;EEEE&quot;</td></tr><tr><td>&quot;2023-11-03 14:53:12.037631&quot;</td><td>379.364258</td><td>896.411682</td><td>371.821472</td><td>&quot;EEEE&quot;</td></tr><tr><td>&quot;2023-11-03 14:53:12.037767&quot;</td><td>565.079041</td><td>56.343513</td><td>202.908264</td><td>&quot;EEEE&quot;</td></tr></tbody></table></div>"
      ],
      "text/plain": [
       "shape: (9_813_318, 5)\n",
       "┌────────────────────────────┬────────────┬────────────┬────────────┬────────┐\n",
       "│ datetime_col               ┆ value_1    ┆ value_2    ┆ value_3    ┆ labels │\n",
       "│ ---                        ┆ ---        ┆ ---        ┆ ---        ┆ ---    │\n",
       "│ str                        ┆ f32        ┆ f32        ┆ f32        ┆ str    │\n",
       "╞════════════════════════════╪════════════╪════════════╪════════════╪════════╡\n",
       "│ 2023-11-03 13:39:36.088875 ┆ 457.07785  ┆ 634.807251 ┆ 549.272156 ┆ EEEE   │\n",
       "│ 2023-11-03 13:39:36.088961 ┆ 484.879608 ┆ 265.178833 ┆ 711.663208 ┆ EEEE   │\n",
       "│ 2023-11-03 13:39:36.089092 ┆ 713.928345 ┆ 101.049217 ┆ 836.95105  ┆ EEEE   │\n",
       "│ 2023-11-03 13:39:36.089165 ┆ 964.206848 ┆ 974.932983 ┆ 227.194    ┆ EEEE   │\n",
       "│ …                          ┆ …          ┆ …          ┆ …          ┆ …      │\n",
       "│ 2023-11-03 14:53:12.037553 ┆ 524.535767 ┆ 174.997086 ┆ 400.415436 ┆ EEEE   │\n",
       "│ 2023-11-03 14:53:12.037606 ┆ 239.139511 ┆ 223.169006 ┆ 868.543335 ┆ EEEE   │\n",
       "│ 2023-11-03 14:53:12.037631 ┆ 379.364258 ┆ 896.411682 ┆ 371.821472 ┆ EEEE   │\n",
       "│ 2023-11-03 14:53:12.037767 ┆ 565.079041 ┆ 56.343513  ┆ 202.908264 ┆ EEEE   │\n",
       "└────────────────────────────┴────────────┴────────────┴────────────┴────────┘"
      ]
     },
     "execution_count": 11,
     "metadata": {},
     "output_type": "execute_result"
    }
   ],
   "source": [
    "%%time\n",
    "# streamingでfilter,with_columnsをやってみる。\n",
    "(\n",
    "    pl.scan_csv(input_file, has_header=False, schema=col_names_dtypes)\n",
    "    .filter(pl.col('labels') == 'EEEE')\n",
    "    .collect(streaming=True)\n",
    ")"
   ]
  },
  {
   "cell_type": "markdown",
   "metadata": {},
   "source": [
    "### ● selectしてquantileだけ求める場合"
   ]
  },
  {
   "cell_type": "code",
   "execution_count": 12,
   "metadata": {},
   "outputs": [
    {
     "name": "stdout",
     "output_type": "stream",
     "text": [
      "CPU times: user 34.1 s, sys: 3min 4s, total: 3min 38s\n",
      "Wall time: 51 s\n"
     ]
    },
    {
     "data": {
      "text/html": [
       "<div><style>\n",
       ".dataframe > thead > tr > th,\n",
       ".dataframe > tbody > tr > td {\n",
       "  text-align: right;\n",
       "  white-space: pre-wrap;\n",
       "}\n",
       "</style>\n",
       "<small>shape: (1, 1)</small><table border=\"1\" class=\"dataframe\"><thead><tr><th>value_1</th></tr><tr><td>f32</td></tr></thead><tbody><tr><td>900.036194</td></tr></tbody></table></div>"
      ],
      "text/plain": [
       "shape: (1, 1)\n",
       "┌────────────┐\n",
       "│ value_1    │\n",
       "│ ---        │\n",
       "│ f32        │\n",
       "╞════════════╡\n",
       "│ 900.036194 │\n",
       "└────────────┘"
      ]
     },
     "execution_count": 12,
     "metadata": {},
     "output_type": "execute_result"
    }
   ],
   "source": [
    "%%time\n",
    "# filter,with_columnsをやってみる。\n",
    "(\n",
    "    pl.scan_csv(input_file, has_header=False, schema=col_names_dtypes)\n",
    "    .select(pl.col('value_1').quantile(0.9))\n",
    "    .collect(streaming=True)\n",
    ")"
   ]
  },
  {
   "cell_type": "code",
   "execution_count": null,
   "metadata": {},
   "outputs": [
    {
     "name": "stdout",
     "output_type": "stream",
     "text": [
      "CPU times: user 1min 19s, sys: 2min 50s, total: 4min 10s\n",
      "Wall time: 1min 3s\n"
     ]
    },
    {
     "data": {
      "text/html": [
       "<div><style>\n",
       ".dataframe > thead > tr > th,\n",
       ".dataframe > tbody > tr > td {\n",
       "  text-align: right;\n",
       "  white-space: pre-wrap;\n",
       "}\n",
       "</style>\n",
       "<small>shape: (1, 3)</small><table border=\"1\" class=\"dataframe\"><thead><tr><th>value_1</th><th>value_2</th><th>value_3</th></tr><tr><td>f32</td><td>f32</td><td>f32</td></tr></thead><tbody><tr><td>900.036194</td><td>900.887268</td><td>989.969238</td></tr></tbody></table></div>"
      ],
      "text/plain": [
       "shape: (1, 3)\n",
       "┌────────────┬────────────┬────────────┐\n",
       "│ value_1    ┆ value_2    ┆ value_3    │\n",
       "│ ---        ┆ ---        ┆ ---        │\n",
       "│ f32        ┆ f32        ┆ f32        │\n",
       "╞════════════╪════════════╪════════════╡\n",
       "│ 900.036194 ┆ 900.887268 ┆ 989.969238 │\n",
       "└────────────┴────────────┴────────────┘"
      ]
     },
     "metadata": {},
     "output_type": "display_data"
    }
   ],
   "source": [
    "%%time\n",
    "# filter,with_columnsをやってみる。\n",
    "(\n",
    "    pl.scan_csv(input_file, has_header=False, schema=col_names_dtypes)\n",
    "    .select([\n",
    "        pl.col('value_1').quantile(0.9),\n",
    "        pl.col('value_2').quantile(0.9),\n",
    "        pl.col('value_3').quantile(0.9),\n",
    "    ])\n",
    "    .collect(streaming=True)\n",
    ")"
   ]
  },
  {
   "cell_type": "markdown",
   "metadata": {},
   "source": [
    "quantileの計算を増やしても時間はそれほど変わらなかった。"
   ]
  },
  {
   "cell_type": "code",
   "execution_count": 18,
   "metadata": {},
   "outputs": [
    {
     "name": "stdout",
     "output_type": "stream",
     "text": [
      "CPU times: user 3min 18s, sys: 3min 1s, total: 6min 19s\n",
      "Wall time: 1min 4s\n"
     ]
    },
    {
     "data": {
      "text/html": [
       "<div><style>\n",
       ".dataframe > thead > tr > th,\n",
       ".dataframe > tbody > tr > td {\n",
       "  text-align: right;\n",
       "  white-space: pre-wrap;\n",
       "}\n",
       "</style>\n",
       "<small>shape: (1, 10)</small><table border=\"1\" class=\"dataframe\"><thead><tr><th>q_0</th><th>q_11</th><th>q_22</th><th>q_33</th><th>q_44</th><th>q_56</th><th>q_67</th><th>q_78</th><th>q_89</th><th>q_100</th></tr><tr><td>f32</td><td>f32</td><td>f32</td><td>f32</td><td>f32</td><td>f32</td><td>f32</td><td>f32</td><td>f32</td><td>f32</td></tr></thead><tbody><tr><td>0.000055</td><td>111.199875</td><td>222.284958</td><td>333.375244</td><td>444.49234</td><td>555.536194</td><td>666.622375</td><td>777.792542</td><td>888.939148</td><td>1000.0</td></tr></tbody></table></div>"
      ],
      "text/plain": [
       "shape: (1, 10)\n",
       "┌──────────┬────────────┬────────────┬────────────┬───┬───────────┬───────────┬───────────┬────────┐\n",
       "│ q_0      ┆ q_11       ┆ q_22       ┆ q_33       ┆ … ┆ q_67      ┆ q_78      ┆ q_89      ┆ q_100  │\n",
       "│ ---      ┆ ---        ┆ ---        ┆ ---        ┆   ┆ ---       ┆ ---       ┆ ---       ┆ ---    │\n",
       "│ f32      ┆ f32        ┆ f32        ┆ f32        ┆   ┆ f32       ┆ f32       ┆ f32       ┆ f32    │\n",
       "╞══════════╪════════════╪════════════╪════════════╪═══╪═══════════╪═══════════╪═══════════╪════════╡\n",
       "│ 0.000055 ┆ 111.199875 ┆ 222.284958 ┆ 333.375244 ┆ … ┆ 666.62237 ┆ 777.79254 ┆ 888.93914 ┆ 1000.0 │\n",
       "│          ┆            ┆            ┆            ┆   ┆ 5         ┆ 2         ┆ 8         ┆        │\n",
       "└──────────┴────────────┴────────────┴────────────┴───┴───────────┴───────────┴───────────┴────────┘"
      ]
     },
     "execution_count": 18,
     "metadata": {},
     "output_type": "execute_result"
    }
   ],
   "source": [
    "%%time\n",
    "# filter,with_columnsをやってみる。\n",
    "(\n",
    "    pl.scan_csv(input_file, has_header=False, schema=col_names_dtypes)\n",
    "    .select([\n",
    "        pl.col('value_1').quantile(i).alias(f'q_{i*100:.0f}') for i in np.linspace(0.0,1.0,10)\n",
    "    ])\n",
    "    .collect(streaming=True)\n",
    ")"
   ]
  },
  {
   "cell_type": "markdown",
   "metadata": {},
   "source": [
    "----------------------------------------------"
   ]
  },
  {
   "cell_type": "markdown",
   "metadata": {},
   "source": [
    "----------------------------------------------"
   ]
  },
  {
   "cell_type": "markdown",
   "metadata": {},
   "source": [
    "----------------------------------------------"
   ]
  },
  {
   "cell_type": "markdown",
   "metadata": {},
   "source": [
    "## ● 約5000万行 × 5列 × 1ファイル（内部SSDに保存）の場合  \n",
    "### 条件\n",
    "* 内部SSDのスペック\n",
    "    * 容量：2TB\n",
    "    * その他スペック忘れた\n",
    "\n",
    "内部SSDをWSL2にマウントしてそこのパスを指定して処理する場合。"
   ]
  },
  {
   "cell_type": "code",
   "execution_count": null,
   "metadata": {},
   "outputs": [
    {
     "name": "stdout",
     "output_type": "stream",
     "text": [
      "49061300 ../../../sample_data/from_HDD/big_data/sample_big_data_1.csv\n"
     ]
    }
   ],
   "source": [
    "! wc -l ../../../sample_data/from_HDD/00_study/sample_data/sample_big_data_1.csv"
   ]
  },
  {
   "cell_type": "code",
   "execution_count": 8,
   "metadata": {},
   "outputs": [],
   "source": [
    "# 読み込み条件定義\n",
    "input_file = '../../../sample_data/from_HDD/00_Study/sample_data/sample_big_data_1.csv'\n",
    "col_names_dtypes = {\n",
    "    'datetime_col': pl.Utf8, \n",
    "    'value_1': pl.Float32, \n",
    "    'value_2': pl.Float32, \n",
    "    'value_3': pl.Float32, \n",
    "    'labels': pl.Utf8}"
   ]
  },
  {
   "cell_type": "code",
   "execution_count": 9,
   "metadata": {},
   "outputs": [
    {
     "data": {
      "text/html": [
       "<div><style>\n",
       ".dataframe > thead > tr > th,\n",
       ".dataframe > tbody > tr > td {\n",
       "  text-align: right;\n",
       "  white-space: pre-wrap;\n",
       "}\n",
       "</style>\n",
       "<small>shape: (5, 5)</small><table border=\"1\" class=\"dataframe\"><thead><tr><th>datetime_col</th><th>value_1</th><th>value_2</th><th>value_3</th><th>labels</th></tr><tr><td>str</td><td>f32</td><td>f32</td><td>f32</td><td>str</td></tr></thead><tbody><tr><td>&quot;2023-11-03 13:39:36.088815&quot;</td><td>404.69751</td><td>443.679321</td><td>87.651566</td><td>&quot;CCCC&quot;</td></tr><tr><td>&quot;2023-11-03 13:39:36.088875&quot;</td><td>457.07785</td><td>634.807251</td><td>549.272156</td><td>&quot;EEEE&quot;</td></tr><tr><td>&quot;2023-11-03 13:39:36.088891&quot;</td><td>620.065186</td><td>173.628784</td><td>219.745941</td><td>&quot;BBBB&quot;</td></tr><tr><td>&quot;2023-11-03 13:39:36.088906&quot;</td><td>25.579391</td><td>143.887222</td><td>408.059845</td><td>&quot;BBBB&quot;</td></tr><tr><td>&quot;2023-11-03 13:39:36.088920&quot;</td><td>654.784729</td><td>528.226379</td><td>1026.964355</td><td>&quot;BBBB&quot;</td></tr></tbody></table></div>"
      ],
      "text/plain": [
       "shape: (5, 5)\n",
       "┌────────────────────────────┬────────────┬────────────┬─────────────┬────────┐\n",
       "│ datetime_col               ┆ value_1    ┆ value_2    ┆ value_3     ┆ labels │\n",
       "│ ---                        ┆ ---        ┆ ---        ┆ ---         ┆ ---    │\n",
       "│ str                        ┆ f32        ┆ f32        ┆ f32         ┆ str    │\n",
       "╞════════════════════════════╪════════════╪════════════╪═════════════╪════════╡\n",
       "│ 2023-11-03 13:39:36.088815 ┆ 404.69751  ┆ 443.679321 ┆ 87.651566   ┆ CCCC   │\n",
       "│ 2023-11-03 13:39:36.088875 ┆ 457.07785  ┆ 634.807251 ┆ 549.272156  ┆ EEEE   │\n",
       "│ 2023-11-03 13:39:36.088891 ┆ 620.065186 ┆ 173.628784 ┆ 219.745941  ┆ BBBB   │\n",
       "│ 2023-11-03 13:39:36.088906 ┆ 25.579391  ┆ 143.887222 ┆ 408.059845  ┆ BBBB   │\n",
       "│ 2023-11-03 13:39:36.088920 ┆ 654.784729 ┆ 528.226379 ┆ 1026.964355 ┆ BBBB   │\n",
       "└────────────────────────────┴────────────┴────────────┴─────────────┴────────┘"
      ]
     },
     "execution_count": 9,
     "metadata": {},
     "output_type": "execute_result"
    }
   ],
   "source": [
    "(\n",
    "    pl.scan_csv(input_file, has_header=False, schema=col_names_dtypes)\n",
    "    .head().collect()\n",
    ")"
   ]
  },
  {
   "cell_type": "code",
   "execution_count": 10,
   "metadata": {},
   "outputs": [
    {
     "data": {
      "text/html": [
       "<div><style>\n",
       ".dataframe > thead > tr > th,\n",
       ".dataframe > tbody > tr > td {\n",
       "  text-align: right;\n",
       "  white-space: pre-wrap;\n",
       "}\n",
       "</style>\n",
       "<small>shape: (1, 1)</small><table border=\"1\" class=\"dataframe\"><thead><tr><th>value_1</th></tr><tr><td>f32</td></tr></thead><tbody><tr><td>500.024323</td></tr></tbody></table></div>"
      ],
      "text/plain": [
       "shape: (1, 1)\n",
       "┌────────────┐\n",
       "│ value_1    │\n",
       "│ ---        │\n",
       "│ f32        │\n",
       "╞════════════╡\n",
       "│ 500.024323 │\n",
       "└────────────┘"
      ]
     },
     "execution_count": 10,
     "metadata": {},
     "output_type": "execute_result"
    }
   ],
   "source": [
    "(\n",
    "    pl.scan_csv(input_file, has_header=False, schema=col_names_dtypes)\n",
    "    .select(\n",
    "        pl.col('value_1').mean()\n",
    "    ).collect(streaming=True)\n",
    ")"
   ]
  },
  {
   "cell_type": "code",
   "execution_count": 17,
   "metadata": {},
   "outputs": [
    {
     "name": "stdout",
     "output_type": "stream",
     "text": [
      "CPU times: user 35min 53s, sys: 5min 7s, total: 41min 1s\n",
      "Wall time: 4min 13s\n"
     ]
    },
    {
     "data": {
      "text/html": [
       "<div><style>\n",
       ".dataframe > thead > tr > th,\n",
       ".dataframe > tbody > tr > td {\n",
       "  text-align: right;\n",
       "  white-space: pre-wrap;\n",
       "}\n",
       "</style>\n",
       "<small>shape: (100, 1)</small><table border=\"1\" class=\"dataframe\"><thead><tr><th>column_0</th></tr><tr><td>f32</td></tr></thead><tbody><tr><td>10.025609</td></tr><tr><td>20.031404</td></tr><tr><td>30.018518</td></tr><tr><td>40.021393</td></tr><tr><td>50.027016</td></tr><tr><td>60.030224</td></tr><tr><td>70.055244</td></tr><tr><td>80.050735</td></tr><tr><td>90.06752</td></tr><tr><td>100.069817</td></tr><tr><td>110.084679</td></tr><tr><td>120.080116</td></tr><tr><td>&hellip;</td></tr><tr><td>890.049438</td></tr><tr><td>900.036194</td></tr><tr><td>910.017212</td></tr><tr><td>920.02771</td></tr><tr><td>930.0401</td></tr><tr><td>940.037598</td></tr><tr><td>950.05304</td></tr><tr><td>960.043762</td></tr><tr><td>970.047974</td></tr><tr><td>980.015381</td></tr><tr><td>990.006042</td></tr><tr><td>1000.0</td></tr></tbody></table></div>"
      ],
      "text/plain": [
       "shape: (100, 1)\n",
       "┌────────────┐\n",
       "│ column_0   │\n",
       "│ ---        │\n",
       "│ f32        │\n",
       "╞════════════╡\n",
       "│ 10.025609  │\n",
       "│ 20.031404  │\n",
       "│ 30.018518  │\n",
       "│ 40.021393  │\n",
       "│ …          │\n",
       "│ 970.047974 │\n",
       "│ 980.015381 │\n",
       "│ 990.006042 │\n",
       "│ 1000.0     │\n",
       "└────────────┘"
      ]
     },
     "execution_count": 17,
     "metadata": {},
     "output_type": "execute_result"
    }
   ],
   "source": [
    "%%time\n",
    "# filter,with_columnsをやってみる。\n",
    "(\n",
    "    pl.scan_csv(input_file, has_header=False, schema=col_names_dtypes)\n",
    "    .select([\n",
    "        pl.col('value_1').quantile(i).alias(f'q_{i*100:.0f}') for i in np.linspace(0.01, 1.0, 100)\n",
    "    ])\n",
    "    .collect(streaming=True).transpose()\n",
    ")"
   ]
  },
  {
   "cell_type": "markdown",
   "metadata": {},
   "source": [
    "内部SSDを指定して1%ile～100%ileの計算を実行する場合、上記の通り4分ほどかかった。  "
   ]
  },
  {
   "cell_type": "markdown",
   "metadata": {},
   "source": [
    "## ● 約5000万行 × 5列 × 1ファイル（WSL2管理下に保存）の場合  \n",
    "### 条件\n",
    "* ー\n",
    "\n",
    "WSL2管理下に大容量ファイルを持ってきて処理する場合。  \n",
    "ディスクは食ってしまうが、これが一番早い。  \n",
    "（ただし、サーバで出力されたデータの場合はこの環境まで持ってくるのにも時間がかかることは留意すること。）"
   ]
  },
  {
   "cell_type": "code",
   "execution_count": 2,
   "metadata": {},
   "outputs": [],
   "source": [
    "# 読み込み条件定義\n",
    "input_file = '../../../sample_data/Big_data_sample/sample_big_data_1.csv'\n",
    "col_names_dtypes = {\n",
    "    'datetime_col': pl.Utf8, \n",
    "    'value_1': pl.Float32, \n",
    "    'value_2': pl.Float32, \n",
    "    'value_3': pl.Float32, \n",
    "    'labels': pl.Utf8}"
   ]
  },
  {
   "cell_type": "code",
   "execution_count": 3,
   "metadata": {},
   "outputs": [
    {
     "data": {
      "text/html": [
       "<div><style>\n",
       ".dataframe > thead > tr > th,\n",
       ".dataframe > tbody > tr > td {\n",
       "  text-align: right;\n",
       "  white-space: pre-wrap;\n",
       "}\n",
       "</style>\n",
       "<small>shape: (5, 5)</small><table border=\"1\" class=\"dataframe\"><thead><tr><th>datetime_col</th><th>value_1</th><th>value_2</th><th>value_3</th><th>labels</th></tr><tr><td>str</td><td>f32</td><td>f32</td><td>f32</td><td>str</td></tr></thead><tbody><tr><td>&quot;2023-11-03 13:39:36.088815&quot;</td><td>404.69751</td><td>443.679321</td><td>87.651566</td><td>&quot;CCCC&quot;</td></tr><tr><td>&quot;2023-11-03 13:39:36.088875&quot;</td><td>457.07785</td><td>634.807251</td><td>549.272156</td><td>&quot;EEEE&quot;</td></tr><tr><td>&quot;2023-11-03 13:39:36.088891&quot;</td><td>620.065186</td><td>173.628784</td><td>219.745941</td><td>&quot;BBBB&quot;</td></tr><tr><td>&quot;2023-11-03 13:39:36.088906&quot;</td><td>25.579391</td><td>143.887222</td><td>408.059845</td><td>&quot;BBBB&quot;</td></tr><tr><td>&quot;2023-11-03 13:39:36.088920&quot;</td><td>654.784729</td><td>528.226379</td><td>1026.964355</td><td>&quot;BBBB&quot;</td></tr></tbody></table></div>"
      ],
      "text/plain": [
       "shape: (5, 5)\n",
       "┌────────────────────────────┬────────────┬────────────┬─────────────┬────────┐\n",
       "│ datetime_col               ┆ value_1    ┆ value_2    ┆ value_3     ┆ labels │\n",
       "│ ---                        ┆ ---        ┆ ---        ┆ ---         ┆ ---    │\n",
       "│ str                        ┆ f32        ┆ f32        ┆ f32         ┆ str    │\n",
       "╞════════════════════════════╪════════════╪════════════╪═════════════╪════════╡\n",
       "│ 2023-11-03 13:39:36.088815 ┆ 404.69751  ┆ 443.679321 ┆ 87.651566   ┆ CCCC   │\n",
       "│ 2023-11-03 13:39:36.088875 ┆ 457.07785  ┆ 634.807251 ┆ 549.272156  ┆ EEEE   │\n",
       "│ 2023-11-03 13:39:36.088891 ┆ 620.065186 ┆ 173.628784 ┆ 219.745941  ┆ BBBB   │\n",
       "│ 2023-11-03 13:39:36.088906 ┆ 25.579391  ┆ 143.887222 ┆ 408.059845  ┆ BBBB   │\n",
       "│ 2023-11-03 13:39:36.088920 ┆ 654.784729 ┆ 528.226379 ┆ 1026.964355 ┆ BBBB   │\n",
       "└────────────────────────────┴────────────┴────────────┴─────────────┴────────┘"
      ]
     },
     "execution_count": 3,
     "metadata": {},
     "output_type": "execute_result"
    }
   ],
   "source": [
    "(\n",
    "    pl.scan_csv(input_file, has_header=False, schema=col_names_dtypes)\n",
    "    .head().collect()\n",
    ")"
   ]
  },
  {
   "cell_type": "code",
   "execution_count": 5,
   "metadata": {},
   "outputs": [
    {
     "data": {
      "text/html": [
       "<div><style>\n",
       ".dataframe > thead > tr > th,\n",
       ".dataframe > tbody > tr > td {\n",
       "  text-align: right;\n",
       "  white-space: pre-wrap;\n",
       "}\n",
       "</style>\n",
       "<small>shape: (1, 1)</small><table border=\"1\" class=\"dataframe\"><thead><tr><th>value_1</th></tr><tr><td>f32</td></tr></thead><tbody><tr><td>500.024323</td></tr></tbody></table></div>"
      ],
      "text/plain": [
       "shape: (1, 1)\n",
       "┌────────────┐\n",
       "│ value_1    │\n",
       "│ ---        │\n",
       "│ f32        │\n",
       "╞════════════╡\n",
       "│ 500.024323 │\n",
       "└────────────┘"
      ]
     },
     "execution_count": 5,
     "metadata": {},
     "output_type": "execute_result"
    }
   ],
   "source": [
    "(\n",
    "    pl.scan_csv(input_file, has_header=False, schema=col_names_dtypes)\n",
    "    .select(\n",
    "        pl.col('value_1').mean()\n",
    "    ).collect(streaming=True)\n",
    ")"
   ]
  },
  {
   "cell_type": "code",
   "execution_count": 6,
   "metadata": {},
   "outputs": [
    {
     "name": "stdout",
     "output_type": "stream",
     "text": [
      "500.024\n",
      "\n",
      "real\t0m24.167s\n",
      "user\t0m22.612s\n",
      "sys\t0m1.551s\n"
     ]
    }
   ],
   "source": [
    "! time awk -F, '{m+=$2} END{print m/NR;}' ../../../sample_data/Big_data_sample/sample_big_data_1.csv"
   ]
  },
  {
   "cell_type": "markdown",
   "metadata": {},
   "source": [
    "外付けHDDや内部SSDから読み込む場合に比べて、平均の計算にかかる時間が1/15程度になった。  \n",
    "またawkで平均を求めるよりも早い。  \n",
    "（上記はWSL2上のコンテナからawkを実行した場合。WSL2から直接実行するとなぜか1分以上かかった）"
   ]
  },
  {
   "cell_type": "code",
   "execution_count": 5,
   "metadata": {},
   "outputs": [
    {
     "name": "stdout",
     "output_type": "stream",
     "text": [
      "CPU times: user 33min 11s, sys: 31.4 s, total: 33min 43s\n",
      "Wall time: 2min 54s\n"
     ]
    },
    {
     "data": {
      "text/html": [
       "<div><style>\n",
       ".dataframe > thead > tr > th,\n",
       ".dataframe > tbody > tr > td {\n",
       "  text-align: right;\n",
       "  white-space: pre-wrap;\n",
       "}\n",
       "</style>\n",
       "<small>shape: (100, 1)</small><table border=\"1\" class=\"dataframe\"><thead><tr><th>column_0</th></tr><tr><td>f32</td></tr></thead><tbody><tr><td>10.025609</td></tr><tr><td>20.031404</td></tr><tr><td>30.018518</td></tr><tr><td>40.021393</td></tr><tr><td>50.027016</td></tr><tr><td>60.030224</td></tr><tr><td>70.055244</td></tr><tr><td>80.050735</td></tr><tr><td>90.06752</td></tr><tr><td>100.069817</td></tr><tr><td>110.084679</td></tr><tr><td>120.080116</td></tr><tr><td>&hellip;</td></tr><tr><td>890.049438</td></tr><tr><td>900.036194</td></tr><tr><td>910.017212</td></tr><tr><td>920.02771</td></tr><tr><td>930.0401</td></tr><tr><td>940.037598</td></tr><tr><td>950.05304</td></tr><tr><td>960.043762</td></tr><tr><td>970.047974</td></tr><tr><td>980.015381</td></tr><tr><td>990.006042</td></tr><tr><td>1000.0</td></tr></tbody></table></div>"
      ],
      "text/plain": [
       "shape: (100, 1)\n",
       "┌────────────┐\n",
       "│ column_0   │\n",
       "│ ---        │\n",
       "│ f32        │\n",
       "╞════════════╡\n",
       "│ 10.025609  │\n",
       "│ 20.031404  │\n",
       "│ 30.018518  │\n",
       "│ 40.021393  │\n",
       "│ …          │\n",
       "│ 970.047974 │\n",
       "│ 980.015381 │\n",
       "│ 990.006042 │\n",
       "│ 1000.0     │\n",
       "└────────────┘"
      ]
     },
     "execution_count": 5,
     "metadata": {},
     "output_type": "execute_result"
    }
   ],
   "source": [
    "%%time\n",
    "# filter,with_columnsをやってみる。\n",
    "(\n",
    "    pl.scan_csv(input_file, has_header=False, schema=col_names_dtypes)\n",
    "    .select([\n",
    "        pl.col('value_1').quantile(i).alias(f'q_{i*100:.0f}') for i in np.linspace(0.01, 1.0, 100)\n",
    "    ])\n",
    "    .collect(streaming=True).transpose()\n",
    ")"
   ]
  },
  {
   "cell_type": "markdown",
   "metadata": {},
   "source": [
    "パーセンタイルを大量に計算する場合についても40%程早くなった。"
   ]
  }
 ],
 "metadata": {
  "kernelspec": {
   "display_name": "Python 3",
   "language": "python",
   "name": "python3"
  },
  "language_info": {
   "codemirror_mode": {
    "name": "ipython",
    "version": 3
   },
   "file_extension": ".py",
   "mimetype": "text/x-python",
   "name": "python",
   "nbconvert_exporter": "python",
   "pygments_lexer": "ipython3",
   "version": "3.11.6"
  }
 },
 "nbformat": 4,
 "nbformat_minor": 2
}
