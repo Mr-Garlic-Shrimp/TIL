{
 "cells": [
  {
   "cell_type": "markdown",
   "metadata": {},
   "source": [
    "# 巨大なデータの取り扱い\n",
    "巨大といってもここでは数千万～数億レコード（数GB～100GB未満ぐらい）のデータをPythonで処理するときについて  \n",
    "色々試した結果を記す。  "
   ]
  },
  {
   "cell_type": "code",
   "execution_count": 1,
   "metadata": {},
   "outputs": [
    {
     "data": {
      "text/plain": [
       "polars.config.Config"
      ]
     },
     "execution_count": 1,
     "metadata": {},
     "output_type": "execute_result"
    }
   ],
   "source": [
    "import polars as pl\n",
    "import numpy as np\n",
    "\n",
    "# 文字列カラムの表示文字数を50文字に設定\n",
    "pl.Config.set_fmt_str_lengths(50)"
   ]
  },
  {
   "cell_type": "markdown",
   "metadata": {},
   "source": [
    "## ● 約5000万行 × 5列 × 1ファイル（外付けUSBに保存）の場合  \n",
    "### 条件\n",
    "* USBのスペック： \n",
    "    * USB3.2 Gen1  \n",
    "    * 容量： 32GB\n",
    "    * 他の詳細は忘れた\n",
    "\n",
    "USBに保存してある大きめのファイルについて処理したいとき。  \n",
    "データの全カラム・全レコードが解析に必要なケースは多くないと思われるので、  \n",
    "LazyFrameを活用して高速化、メモリ節約を意識する。  \n",
    "collect()の際はstreaming=Trueにすることで一気にメモリに読み込まずにバッチ的に読み込んで処理する。"
   ]
  },
  {
   "cell_type": "code",
   "execution_count": 2,
   "metadata": {},
   "outputs": [
    {
     "name": "stdout",
     "output_type": "stream",
     "text": [
      "49061300 ../../../sample_data/from_HDD/big_data/sample_big_data_1.csv\n"
     ]
    }
   ],
   "source": [
    "! wc -l ../../../sample_data/from_HDD/00_study/sample_data/sample_big_data_1.csv"
   ]
  },
  {
   "cell_type": "code",
   "execution_count": 6,
   "metadata": {},
   "outputs": [],
   "source": [
    "# 読み込み条件定義\n",
    "input_file = '../../../sample_data/from_HDD/00_Study/sample_data/sample_big_data_1.csv'\n",
    "col_names_dtypes = {\n",
    "    'datetime_col': pl.Utf8, \n",
    "    'value_1': pl.Float32, \n",
    "    'value_2': pl.Float32, \n",
    "    'value_3': pl.Float32, \n",
    "    'labels': pl.Utf8}"
   ]
  },
  {
   "cell_type": "code",
   "execution_count": 7,
   "metadata": {},
   "outputs": [
    {
     "data": {
      "text/html": [
       "<div><style>\n",
       ".dataframe > thead > tr > th,\n",
       ".dataframe > tbody > tr > td {\n",
       "  text-align: right;\n",
       "  white-space: pre-wrap;\n",
       "}\n",
       "</style>\n",
       "<small>shape: (5, 5)</small><table border=\"1\" class=\"dataframe\"><thead><tr><th>datetime_col</th><th>value_1</th><th>value_2</th><th>value_3</th><th>labels</th></tr><tr><td>str</td><td>f32</td><td>f32</td><td>f32</td><td>str</td></tr></thead><tbody><tr><td>&quot;2023-11-03 13:39:36.088815&quot;</td><td>404.69751</td><td>443.679321</td><td>87.651566</td><td>&quot;CCCC&quot;</td></tr><tr><td>&quot;2023-11-03 13:39:36.088875&quot;</td><td>457.07785</td><td>634.807251</td><td>549.272156</td><td>&quot;EEEE&quot;</td></tr><tr><td>&quot;2023-11-03 13:39:36.088891&quot;</td><td>620.065186</td><td>173.628784</td><td>219.745941</td><td>&quot;BBBB&quot;</td></tr><tr><td>&quot;2023-11-03 13:39:36.088906&quot;</td><td>25.579391</td><td>143.887222</td><td>408.059845</td><td>&quot;BBBB&quot;</td></tr><tr><td>&quot;2023-11-03 13:39:36.088920&quot;</td><td>654.784729</td><td>528.226379</td><td>1026.964355</td><td>&quot;BBBB&quot;</td></tr></tbody></table></div>"
      ],
      "text/plain": [
       "shape: (5, 5)\n",
       "┌────────────────────────────┬────────────┬────────────┬─────────────┬────────┐\n",
       "│ datetime_col               ┆ value_1    ┆ value_2    ┆ value_3     ┆ labels │\n",
       "│ ---                        ┆ ---        ┆ ---        ┆ ---         ┆ ---    │\n",
       "│ str                        ┆ f32        ┆ f32        ┆ f32         ┆ str    │\n",
       "╞════════════════════════════╪════════════╪════════════╪═════════════╪════════╡\n",
       "│ 2023-11-03 13:39:36.088815 ┆ 404.69751  ┆ 443.679321 ┆ 87.651566   ┆ CCCC   │\n",
       "│ 2023-11-03 13:39:36.088875 ┆ 457.07785  ┆ 634.807251 ┆ 549.272156  ┆ EEEE   │\n",
       "│ 2023-11-03 13:39:36.088891 ┆ 620.065186 ┆ 173.628784 ┆ 219.745941  ┆ BBBB   │\n",
       "│ 2023-11-03 13:39:36.088906 ┆ 25.579391  ┆ 143.887222 ┆ 408.059845  ┆ BBBB   │\n",
       "│ 2023-11-03 13:39:36.088920 ┆ 654.784729 ┆ 528.226379 ┆ 1026.964355 ┆ BBBB   │\n",
       "└────────────────────────────┴────────────┴────────────┴─────────────┴────────┘"
      ]
     },
     "execution_count": 7,
     "metadata": {},
     "output_type": "execute_result"
    }
   ],
   "source": [
    "# 最初の５行だけ読み込み\n",
    "(\n",
    "    pl.scan_csv(input_file, has_header=False, schema=col_names_dtypes)\n",
    "    .head().collect()\n",
    ")"
   ]
  },
  {
   "cell_type": "markdown",
   "metadata": {},
   "source": [
    "最初の5行を表示したりは全く問題ない。"
   ]
  },
  {
   "cell_type": "code",
   "execution_count": 7,
   "metadata": {},
   "outputs": [
    {
     "name": "stdout",
     "output_type": "stream",
     "text": [
      "CPU times: user 35.8 s, sys: 2min 41s, total: 3min 17s\n",
      "Wall time: 1min 6s\n"
     ]
    },
    {
     "data": {
      "text/html": [
       "<div><style>\n",
       ".dataframe > thead > tr > th,\n",
       ".dataframe > tbody > tr > td {\n",
       "  text-align: right;\n",
       "  white-space: pre-wrap;\n",
       "}\n",
       "</style>\n",
       "<small>shape: (9_813_318, 6)</small><table border=\"1\" class=\"dataframe\"><thead><tr><th>datetime_col</th><th>value_1</th><th>value_2</th><th>value_3</th><th>labels</th><th>val_1_90tile</th></tr><tr><td>str</td><td>f32</td><td>f32</td><td>f32</td><td>str</td><td>f32</td></tr></thead><tbody><tr><td>&quot;2023-11-03 13:39:36.088875&quot;</td><td>457.07785</td><td>634.807251</td><td>549.272156</td><td>&quot;EEEE&quot;</td><td>900.028076</td></tr><tr><td>&quot;2023-11-03 13:39:36.088961&quot;</td><td>484.879608</td><td>265.178833</td><td>711.663208</td><td>&quot;EEEE&quot;</td><td>900.028076</td></tr><tr><td>&quot;2023-11-03 13:39:36.089092&quot;</td><td>713.928345</td><td>101.049217</td><td>836.95105</td><td>&quot;EEEE&quot;</td><td>900.028076</td></tr><tr><td>&quot;2023-11-03 13:39:36.089165&quot;</td><td>964.206848</td><td>974.932983</td><td>227.194</td><td>&quot;EEEE&quot;</td><td>900.028076</td></tr><tr><td>&quot;2023-11-03 13:39:36.089313&quot;</td><td>864.268555</td><td>748.114075</td><td>447.793671</td><td>&quot;EEEE&quot;</td><td>900.028076</td></tr><tr><td>&quot;2023-11-03 13:39:36.089325&quot;</td><td>730.194397</td><td>89.366402</td><td>932.182983</td><td>&quot;EEEE&quot;</td><td>900.028076</td></tr><tr><td>&quot;2023-11-03 13:39:36.089375&quot;</td><td>140.499466</td><td>857.064331</td><td>237.348999</td><td>&quot;EEEE&quot;</td><td>900.028076</td></tr><tr><td>&quot;2023-11-03 13:39:36.089387&quot;</td><td>719.163879</td><td>674.034851</td><td>836.932312</td><td>&quot;EEEE&quot;</td><td>900.028076</td></tr><tr><td>&quot;2023-11-03 13:39:36.089461&quot;</td><td>832.301819</td><td>503.263397</td><td>335.356476</td><td>&quot;EEEE&quot;</td><td>900.028076</td></tr><tr><td>&quot;2023-11-03 13:39:36.089485&quot;</td><td>359.132294</td><td>8.830131</td><td>935.493713</td><td>&quot;EEEE&quot;</td><td>900.028076</td></tr><tr><td>&quot;2023-11-03 13:39:36.089620&quot;</td><td>770.107849</td><td>682.951416</td><td>385.821625</td><td>&quot;EEEE&quot;</td><td>900.028076</td></tr><tr><td>&quot;2023-11-03 13:39:36.089770&quot;</td><td>580.617249</td><td>594.437805</td><td>812.867554</td><td>&quot;EEEE&quot;</td><td>900.028076</td></tr><tr><td>&hellip;</td><td>&hellip;</td><td>&hellip;</td><td>&hellip;</td><td>&hellip;</td><td>&hellip;</td></tr><tr><td>&quot;2023-11-03 14:53:12.037060&quot;</td><td>804.683533</td><td>952.887573</td><td>994.159363</td><td>&quot;EEEE&quot;</td><td>900.028076</td></tr><tr><td>&quot;2023-11-03 14:53:12.037097&quot;</td><td>362.62793</td><td>905.867554</td><td>118.470207</td><td>&quot;EEEE&quot;</td><td>900.028076</td></tr><tr><td>&quot;2023-11-03 14:53:12.037110&quot;</td><td>981.057129</td><td>894.191833</td><td>136.118896</td><td>&quot;EEEE&quot;</td><td>900.028076</td></tr><tr><td>&quot;2023-11-03 14:53:12.037197&quot;</td><td>6.569554</td><td>142.389664</td><td>567.820679</td><td>&quot;EEEE&quot;</td><td>900.028076</td></tr><tr><td>&quot;2023-11-03 14:53:12.037299&quot;</td><td>74.79628</td><td>516.308716</td><td>419.881866</td><td>&quot;EEEE&quot;</td><td>900.028076</td></tr><tr><td>&quot;2023-11-03 14:53:12.037312&quot;</td><td>615.663208</td><td>294.356598</td><td>182.211533</td><td>&quot;EEEE&quot;</td><td>900.028076</td></tr><tr><td>&quot;2023-11-03 14:53:12.037480&quot;</td><td>837.669617</td><td>112.613289</td><td>953.677063</td><td>&quot;EEEE&quot;</td><td>900.028076</td></tr><tr><td>&quot;2023-11-03 14:53:12.037502&quot;</td><td>319.286407</td><td>487.200226</td><td>1020.438416</td><td>&quot;EEEE&quot;</td><td>900.028076</td></tr><tr><td>&quot;2023-11-03 14:53:12.037553&quot;</td><td>524.535767</td><td>174.997086</td><td>400.415436</td><td>&quot;EEEE&quot;</td><td>900.028076</td></tr><tr><td>&quot;2023-11-03 14:53:12.037606&quot;</td><td>239.139511</td><td>223.169006</td><td>868.543335</td><td>&quot;EEEE&quot;</td><td>900.028076</td></tr><tr><td>&quot;2023-11-03 14:53:12.037631&quot;</td><td>379.364258</td><td>896.411682</td><td>371.821472</td><td>&quot;EEEE&quot;</td><td>900.028076</td></tr><tr><td>&quot;2023-11-03 14:53:12.037767&quot;</td><td>565.079041</td><td>56.343513</td><td>202.908264</td><td>&quot;EEEE&quot;</td><td>900.028076</td></tr></tbody></table></div>"
      ],
      "text/plain": [
       "shape: (9_813_318, 6)\n",
       "┌────────────────────────────┬────────────┬────────────┬────────────┬────────┬──────────────┐\n",
       "│ datetime_col               ┆ value_1    ┆ value_2    ┆ value_3    ┆ labels ┆ val_1_90tile │\n",
       "│ ---                        ┆ ---        ┆ ---        ┆ ---        ┆ ---    ┆ ---          │\n",
       "│ str                        ┆ f32        ┆ f32        ┆ f32        ┆ str    ┆ f32          │\n",
       "╞════════════════════════════╪════════════╪════════════╪════════════╪════════╪══════════════╡\n",
       "│ 2023-11-03 13:39:36.088875 ┆ 457.07785  ┆ 634.807251 ┆ 549.272156 ┆ EEEE   ┆ 900.028076   │\n",
       "│ 2023-11-03 13:39:36.088961 ┆ 484.879608 ┆ 265.178833 ┆ 711.663208 ┆ EEEE   ┆ 900.028076   │\n",
       "│ 2023-11-03 13:39:36.089092 ┆ 713.928345 ┆ 101.049217 ┆ 836.95105  ┆ EEEE   ┆ 900.028076   │\n",
       "│ 2023-11-03 13:39:36.089165 ┆ 964.206848 ┆ 974.932983 ┆ 227.194    ┆ EEEE   ┆ 900.028076   │\n",
       "│ …                          ┆ …          ┆ …          ┆ …          ┆ …      ┆ …            │\n",
       "│ 2023-11-03 14:53:12.037553 ┆ 524.535767 ┆ 174.997086 ┆ 400.415436 ┆ EEEE   ┆ 900.028076   │\n",
       "│ 2023-11-03 14:53:12.037606 ┆ 239.139511 ┆ 223.169006 ┆ 868.543335 ┆ EEEE   ┆ 900.028076   │\n",
       "│ 2023-11-03 14:53:12.037631 ┆ 379.364258 ┆ 896.411682 ┆ 371.821472 ┆ EEEE   ┆ 900.028076   │\n",
       "│ 2023-11-03 14:53:12.037767 ┆ 565.079041 ┆ 56.343513  ┆ 202.908264 ┆ EEEE   ┆ 900.028076   │\n",
       "└────────────────────────────┴────────────┴────────────┴────────────┴────────┴──────────────┘"
      ]
     },
     "execution_count": 7,
     "metadata": {},
     "output_type": "execute_result"
    }
   ],
   "source": [
    "%%time\n",
    "# filter,with_columnsをやってみる。\n",
    "(\n",
    "    pl.scan_csv(input_file, has_header=False, schema=col_names_dtypes, truncate_ragged_lines=True)\n",
    "    .filter(pl.col('labels') == 'EEEE')\n",
    "    .with_columns(\n",
    "        val_1_90tile = pl.col('value_1').quantile(0.9)\n",
    "    ).collect(streaming=True)\n",
    ")"
   ]
  },
  {
   "cell_type": "markdown",
   "metadata": {},
   "source": [
    "filterしてquantileを計算するのは1分ほどかかった。"
   ]
  },
  {
   "cell_type": "code",
   "execution_count": 10,
   "metadata": {},
   "outputs": [
    {
     "name": "stdout",
     "output_type": "stream",
     "text": [
      "CPU times: user 21.1 s, sys: 3min 1s, total: 3min 22s\n",
      "Wall time: 53.8 s\n"
     ]
    },
    {
     "data": {
      "text/html": [
       "<div><style>\n",
       ".dataframe > thead > tr > th,\n",
       ".dataframe > tbody > tr > td {\n",
       "  text-align: right;\n",
       "  white-space: pre-wrap;\n",
       "}\n",
       "</style>\n",
       "<small>shape: (1, 1)</small><table border=\"1\" class=\"dataframe\"><thead><tr><th>value_1</th></tr><tr><td>f32</td></tr></thead><tbody><tr><td>900.028076</td></tr></tbody></table></div>"
      ],
      "text/plain": [
       "shape: (1, 1)\n",
       "┌────────────┐\n",
       "│ value_1    │\n",
       "│ ---        │\n",
       "│ f32        │\n",
       "╞════════════╡\n",
       "│ 900.028076 │\n",
       "└────────────┘"
      ]
     },
     "execution_count": 10,
     "metadata": {},
     "output_type": "execute_result"
    }
   ],
   "source": [
    "%%time\n",
    "# filter,with_columnsをやってみる。\n",
    "(\n",
    "    pl.scan_csv(input_file, has_header=False, schema=col_names_dtypes)\n",
    "    .filter(pl.col('labels') == 'EEEE')\n",
    "    .select(pl.col('value_1').quantile(0.9))\n",
    "    .collect(streaming=True)\n",
    ")"
   ]
  },
  {
   "cell_type": "code",
   "execution_count": 11,
   "metadata": {},
   "outputs": [
    {
     "name": "stdout",
     "output_type": "stream",
     "text": [
      "CPU times: user 32.8 s, sys: 2min 47s, total: 3min 20s\n",
      "Wall time: 1min 6s\n"
     ]
    },
    {
     "data": {
      "text/html": [
       "<div><style>\n",
       ".dataframe > thead > tr > th,\n",
       ".dataframe > tbody > tr > td {\n",
       "  text-align: right;\n",
       "  white-space: pre-wrap;\n",
       "}\n",
       "</style>\n",
       "<small>shape: (9_813_318, 5)</small><table border=\"1\" class=\"dataframe\"><thead><tr><th>datetime_col</th><th>value_1</th><th>value_2</th><th>value_3</th><th>labels</th></tr><tr><td>str</td><td>f32</td><td>f32</td><td>f32</td><td>str</td></tr></thead><tbody><tr><td>&quot;2023-11-03 13:39:36.088875&quot;</td><td>457.07785</td><td>634.807251</td><td>549.272156</td><td>&quot;EEEE&quot;</td></tr><tr><td>&quot;2023-11-03 13:39:36.088961&quot;</td><td>484.879608</td><td>265.178833</td><td>711.663208</td><td>&quot;EEEE&quot;</td></tr><tr><td>&quot;2023-11-03 13:39:36.089092&quot;</td><td>713.928345</td><td>101.049217</td><td>836.95105</td><td>&quot;EEEE&quot;</td></tr><tr><td>&quot;2023-11-03 13:39:36.089165&quot;</td><td>964.206848</td><td>974.932983</td><td>227.194</td><td>&quot;EEEE&quot;</td></tr><tr><td>&quot;2023-11-03 13:39:36.089313&quot;</td><td>864.268555</td><td>748.114075</td><td>447.793671</td><td>&quot;EEEE&quot;</td></tr><tr><td>&quot;2023-11-03 13:39:36.089325&quot;</td><td>730.194397</td><td>89.366402</td><td>932.182983</td><td>&quot;EEEE&quot;</td></tr><tr><td>&quot;2023-11-03 13:39:36.089375&quot;</td><td>140.499466</td><td>857.064331</td><td>237.348999</td><td>&quot;EEEE&quot;</td></tr><tr><td>&quot;2023-11-03 13:39:36.089387&quot;</td><td>719.163879</td><td>674.034851</td><td>836.932312</td><td>&quot;EEEE&quot;</td></tr><tr><td>&quot;2023-11-03 13:39:36.089461&quot;</td><td>832.301819</td><td>503.263397</td><td>335.356476</td><td>&quot;EEEE&quot;</td></tr><tr><td>&quot;2023-11-03 13:39:36.089485&quot;</td><td>359.132294</td><td>8.830131</td><td>935.493713</td><td>&quot;EEEE&quot;</td></tr><tr><td>&quot;2023-11-03 13:39:36.089620&quot;</td><td>770.107849</td><td>682.951416</td><td>385.821625</td><td>&quot;EEEE&quot;</td></tr><tr><td>&quot;2023-11-03 13:39:36.089770&quot;</td><td>580.617249</td><td>594.437805</td><td>812.867554</td><td>&quot;EEEE&quot;</td></tr><tr><td>&hellip;</td><td>&hellip;</td><td>&hellip;</td><td>&hellip;</td><td>&hellip;</td></tr><tr><td>&quot;2023-11-03 14:53:12.037060&quot;</td><td>804.683533</td><td>952.887573</td><td>994.159363</td><td>&quot;EEEE&quot;</td></tr><tr><td>&quot;2023-11-03 14:53:12.037097&quot;</td><td>362.62793</td><td>905.867554</td><td>118.470207</td><td>&quot;EEEE&quot;</td></tr><tr><td>&quot;2023-11-03 14:53:12.037110&quot;</td><td>981.057129</td><td>894.191833</td><td>136.118896</td><td>&quot;EEEE&quot;</td></tr><tr><td>&quot;2023-11-03 14:53:12.037197&quot;</td><td>6.569554</td><td>142.389664</td><td>567.820679</td><td>&quot;EEEE&quot;</td></tr><tr><td>&quot;2023-11-03 14:53:12.037299&quot;</td><td>74.79628</td><td>516.308716</td><td>419.881866</td><td>&quot;EEEE&quot;</td></tr><tr><td>&quot;2023-11-03 14:53:12.037312&quot;</td><td>615.663208</td><td>294.356598</td><td>182.211533</td><td>&quot;EEEE&quot;</td></tr><tr><td>&quot;2023-11-03 14:53:12.037480&quot;</td><td>837.669617</td><td>112.613289</td><td>953.677063</td><td>&quot;EEEE&quot;</td></tr><tr><td>&quot;2023-11-03 14:53:12.037502&quot;</td><td>319.286407</td><td>487.200226</td><td>1020.438416</td><td>&quot;EEEE&quot;</td></tr><tr><td>&quot;2023-11-03 14:53:12.037553&quot;</td><td>524.535767</td><td>174.997086</td><td>400.415436</td><td>&quot;EEEE&quot;</td></tr><tr><td>&quot;2023-11-03 14:53:12.037606&quot;</td><td>239.139511</td><td>223.169006</td><td>868.543335</td><td>&quot;EEEE&quot;</td></tr><tr><td>&quot;2023-11-03 14:53:12.037631&quot;</td><td>379.364258</td><td>896.411682</td><td>371.821472</td><td>&quot;EEEE&quot;</td></tr><tr><td>&quot;2023-11-03 14:53:12.037767&quot;</td><td>565.079041</td><td>56.343513</td><td>202.908264</td><td>&quot;EEEE&quot;</td></tr></tbody></table></div>"
      ],
      "text/plain": [
       "shape: (9_813_318, 5)\n",
       "┌────────────────────────────┬────────────┬────────────┬────────────┬────────┐\n",
       "│ datetime_col               ┆ value_1    ┆ value_2    ┆ value_3    ┆ labels │\n",
       "│ ---                        ┆ ---        ┆ ---        ┆ ---        ┆ ---    │\n",
       "│ str                        ┆ f32        ┆ f32        ┆ f32        ┆ str    │\n",
       "╞════════════════════════════╪════════════╪════════════╪════════════╪════════╡\n",
       "│ 2023-11-03 13:39:36.088875 ┆ 457.07785  ┆ 634.807251 ┆ 549.272156 ┆ EEEE   │\n",
       "│ 2023-11-03 13:39:36.088961 ┆ 484.879608 ┆ 265.178833 ┆ 711.663208 ┆ EEEE   │\n",
       "│ 2023-11-03 13:39:36.089092 ┆ 713.928345 ┆ 101.049217 ┆ 836.95105  ┆ EEEE   │\n",
       "│ 2023-11-03 13:39:36.089165 ┆ 964.206848 ┆ 974.932983 ┆ 227.194    ┆ EEEE   │\n",
       "│ …                          ┆ …          ┆ …          ┆ …          ┆ …      │\n",
       "│ 2023-11-03 14:53:12.037553 ┆ 524.535767 ┆ 174.997086 ┆ 400.415436 ┆ EEEE   │\n",
       "│ 2023-11-03 14:53:12.037606 ┆ 239.139511 ┆ 223.169006 ┆ 868.543335 ┆ EEEE   │\n",
       "│ 2023-11-03 14:53:12.037631 ┆ 379.364258 ┆ 896.411682 ┆ 371.821472 ┆ EEEE   │\n",
       "│ 2023-11-03 14:53:12.037767 ┆ 565.079041 ┆ 56.343513  ┆ 202.908264 ┆ EEEE   │\n",
       "└────────────────────────────┴────────────┴────────────┴────────────┴────────┘"
      ]
     },
     "execution_count": 11,
     "metadata": {},
     "output_type": "execute_result"
    }
   ],
   "source": [
    "%%time\n",
    "# streamingでfilter,with_columnsをやってみる。\n",
    "(\n",
    "    pl.scan_csv(input_file, has_header=False, schema=col_names_dtypes)\n",
    "    .filter(pl.col('labels') == 'EEEE')\n",
    "    .collect(streaming=True)\n",
    ")"
   ]
  },
  {
   "cell_type": "markdown",
   "metadata": {},
   "source": [
    "### ● selectしてquantileだけ求める場合"
   ]
  },
  {
   "cell_type": "code",
   "execution_count": 12,
   "metadata": {},
   "outputs": [
    {
     "name": "stdout",
     "output_type": "stream",
     "text": [
      "CPU times: user 34.1 s, sys: 3min 4s, total: 3min 38s\n",
      "Wall time: 51 s\n"
     ]
    },
    {
     "data": {
      "text/html": [
       "<div><style>\n",
       ".dataframe > thead > tr > th,\n",
       ".dataframe > tbody > tr > td {\n",
       "  text-align: right;\n",
       "  white-space: pre-wrap;\n",
       "}\n",
       "</style>\n",
       "<small>shape: (1, 1)</small><table border=\"1\" class=\"dataframe\"><thead><tr><th>value_1</th></tr><tr><td>f32</td></tr></thead><tbody><tr><td>900.036194</td></tr></tbody></table></div>"
      ],
      "text/plain": [
       "shape: (1, 1)\n",
       "┌────────────┐\n",
       "│ value_1    │\n",
       "│ ---        │\n",
       "│ f32        │\n",
       "╞════════════╡\n",
       "│ 900.036194 │\n",
       "└────────────┘"
      ]
     },
     "execution_count": 12,
     "metadata": {},
     "output_type": "execute_result"
    }
   ],
   "source": [
    "%%time\n",
    "# filter,with_columnsをやってみる。\n",
    "(\n",
    "    pl.scan_csv(input_file, has_header=False, schema=col_names_dtypes)\n",
    "    .select(pl.col('value_1').quantile(0.9))\n",
    "    .collect(streaming=True)\n",
    ")"
   ]
  },
  {
   "cell_type": "code",
   "execution_count": null,
   "metadata": {},
   "outputs": [
    {
     "name": "stdout",
     "output_type": "stream",
     "text": [
      "CPU times: user 1min 19s, sys: 2min 50s, total: 4min 10s\n",
      "Wall time: 1min 3s\n"
     ]
    },
    {
     "data": {
      "text/html": [
       "<div><style>\n",
       ".dataframe > thead > tr > th,\n",
       ".dataframe > tbody > tr > td {\n",
       "  text-align: right;\n",
       "  white-space: pre-wrap;\n",
       "}\n",
       "</style>\n",
       "<small>shape: (1, 3)</small><table border=\"1\" class=\"dataframe\"><thead><tr><th>value_1</th><th>value_2</th><th>value_3</th></tr><tr><td>f32</td><td>f32</td><td>f32</td></tr></thead><tbody><tr><td>900.036194</td><td>900.887268</td><td>989.969238</td></tr></tbody></table></div>"
      ],
      "text/plain": [
       "shape: (1, 3)\n",
       "┌────────────┬────────────┬────────────┐\n",
       "│ value_1    ┆ value_2    ┆ value_3    │\n",
       "│ ---        ┆ ---        ┆ ---        │\n",
       "│ f32        ┆ f32        ┆ f32        │\n",
       "╞════════════╪════════════╪════════════╡\n",
       "│ 900.036194 ┆ 900.887268 ┆ 989.969238 │\n",
       "└────────────┴────────────┴────────────┘"
      ]
     },
     "metadata": {},
     "output_type": "display_data"
    }
   ],
   "source": [
    "%%time\n",
    "# filter,with_columnsをやってみる。\n",
    "(\n",
    "    pl.scan_csv(input_file, has_header=False, schema=col_names_dtypes)\n",
    "    .select([\n",
    "        pl.col('value_1').quantile(0.9),\n",
    "        pl.col('value_2').quantile(0.9),\n",
    "        pl.col('value_3').quantile(0.9),\n",
    "    ])\n",
    "    .collect(streaming=True)\n",
    ")"
   ]
  },
  {
   "cell_type": "markdown",
   "metadata": {},
   "source": [
    "quantileの計算を増やしても時間はそれほど変わらなかった。"
   ]
  },
  {
   "cell_type": "code",
   "execution_count": 18,
   "metadata": {},
   "outputs": [
    {
     "name": "stdout",
     "output_type": "stream",
     "text": [
      "CPU times: user 3min 18s, sys: 3min 1s, total: 6min 19s\n",
      "Wall time: 1min 4s\n"
     ]
    },
    {
     "data": {
      "text/html": [
       "<div><style>\n",
       ".dataframe > thead > tr > th,\n",
       ".dataframe > tbody > tr > td {\n",
       "  text-align: right;\n",
       "  white-space: pre-wrap;\n",
       "}\n",
       "</style>\n",
       "<small>shape: (1, 10)</small><table border=\"1\" class=\"dataframe\"><thead><tr><th>q_0</th><th>q_11</th><th>q_22</th><th>q_33</th><th>q_44</th><th>q_56</th><th>q_67</th><th>q_78</th><th>q_89</th><th>q_100</th></tr><tr><td>f32</td><td>f32</td><td>f32</td><td>f32</td><td>f32</td><td>f32</td><td>f32</td><td>f32</td><td>f32</td><td>f32</td></tr></thead><tbody><tr><td>0.000055</td><td>111.199875</td><td>222.284958</td><td>333.375244</td><td>444.49234</td><td>555.536194</td><td>666.622375</td><td>777.792542</td><td>888.939148</td><td>1000.0</td></tr></tbody></table></div>"
      ],
      "text/plain": [
       "shape: (1, 10)\n",
       "┌──────────┬────────────┬────────────┬────────────┬───┬───────────┬───────────┬───────────┬────────┐\n",
       "│ q_0      ┆ q_11       ┆ q_22       ┆ q_33       ┆ … ┆ q_67      ┆ q_78      ┆ q_89      ┆ q_100  │\n",
       "│ ---      ┆ ---        ┆ ---        ┆ ---        ┆   ┆ ---       ┆ ---       ┆ ---       ┆ ---    │\n",
       "│ f32      ┆ f32        ┆ f32        ┆ f32        ┆   ┆ f32       ┆ f32       ┆ f32       ┆ f32    │\n",
       "╞══════════╪════════════╪════════════╪════════════╪═══╪═══════════╪═══════════╪═══════════╪════════╡\n",
       "│ 0.000055 ┆ 111.199875 ┆ 222.284958 ┆ 333.375244 ┆ … ┆ 666.62237 ┆ 777.79254 ┆ 888.93914 ┆ 1000.0 │\n",
       "│          ┆            ┆            ┆            ┆   ┆ 5         ┆ 2         ┆ 8         ┆        │\n",
       "└──────────┴────────────┴────────────┴────────────┴───┴───────────┴───────────┴───────────┴────────┘"
      ]
     },
     "execution_count": 18,
     "metadata": {},
     "output_type": "execute_result"
    }
   ],
   "source": [
    "%%time\n",
    "# filter,with_columnsをやってみる。\n",
    "(\n",
    "    pl.scan_csv(input_file, has_header=False, schema=col_names_dtypes)\n",
    "    .select([\n",
    "        pl.col('value_1').quantile(i).alias(f'q_{i*100:.0f}') for i in np.linspace(0.0,1.0,10)\n",
    "    ])\n",
    "    .collect(streaming=True)\n",
    ")"
   ]
  },
  {
   "cell_type": "markdown",
   "metadata": {},
   "source": [
    "----------------------------------------------"
   ]
  },
  {
   "cell_type": "markdown",
   "metadata": {},
   "source": [
    "----------------------------------------------"
   ]
  },
  {
   "cell_type": "markdown",
   "metadata": {},
   "source": [
    "----------------------------------------------"
   ]
  },
  {
   "cell_type": "markdown",
   "metadata": {},
   "source": [
    "## ● 約5000万行 × 5列 × 1ファイル（内部SSDに保存）の場合  \n",
    "### 条件\n",
    "* 内部SSDのスペック\n",
    "    * 容量：2TB\n",
    "    * その他スペック忘れた\n",
    "\n",
    "内部SSDをWSL2にマウントしてそこのパスを指定して処理する場合。"
   ]
  },
  {
   "cell_type": "code",
   "execution_count": null,
   "metadata": {},
   "outputs": [
    {
     "name": "stdout",
     "output_type": "stream",
     "text": [
      "49061300 ../../../sample_data/from_HDD/big_data/sample_big_data_1.csv\n"
     ]
    }
   ],
   "source": [
    "! wc -l ../../../sample_data/from_HDD/00_study/sample_data/sample_big_data_1.csv"
   ]
  },
  {
   "cell_type": "code",
   "execution_count": 8,
   "metadata": {},
   "outputs": [],
   "source": [
    "# 読み込み条件定義\n",
    "input_file = '../../../sample_data/from_HDD/00_Study/sample_data/sample_big_data_1.csv'\n",
    "col_names_dtypes = {\n",
    "    'datetime_col': pl.Utf8, \n",
    "    'value_1': pl.Float32, \n",
    "    'value_2': pl.Float32, \n",
    "    'value_3': pl.Float32, \n",
    "    'labels': pl.Utf8}"
   ]
  },
  {
   "cell_type": "code",
   "execution_count": 9,
   "metadata": {},
   "outputs": [
    {
     "data": {
      "text/html": [
       "<div><style>\n",
       ".dataframe > thead > tr > th,\n",
       ".dataframe > tbody > tr > td {\n",
       "  text-align: right;\n",
       "  white-space: pre-wrap;\n",
       "}\n",
       "</style>\n",
       "<small>shape: (5, 5)</small><table border=\"1\" class=\"dataframe\"><thead><tr><th>datetime_col</th><th>value_1</th><th>value_2</th><th>value_3</th><th>labels</th></tr><tr><td>str</td><td>f32</td><td>f32</td><td>f32</td><td>str</td></tr></thead><tbody><tr><td>&quot;2023-11-03 13:39:36.088815&quot;</td><td>404.69751</td><td>443.679321</td><td>87.651566</td><td>&quot;CCCC&quot;</td></tr><tr><td>&quot;2023-11-03 13:39:36.088875&quot;</td><td>457.07785</td><td>634.807251</td><td>549.272156</td><td>&quot;EEEE&quot;</td></tr><tr><td>&quot;2023-11-03 13:39:36.088891&quot;</td><td>620.065186</td><td>173.628784</td><td>219.745941</td><td>&quot;BBBB&quot;</td></tr><tr><td>&quot;2023-11-03 13:39:36.088906&quot;</td><td>25.579391</td><td>143.887222</td><td>408.059845</td><td>&quot;BBBB&quot;</td></tr><tr><td>&quot;2023-11-03 13:39:36.088920&quot;</td><td>654.784729</td><td>528.226379</td><td>1026.964355</td><td>&quot;BBBB&quot;</td></tr></tbody></table></div>"
      ],
      "text/plain": [
       "shape: (5, 5)\n",
       "┌────────────────────────────┬────────────┬────────────┬─────────────┬────────┐\n",
       "│ datetime_col               ┆ value_1    ┆ value_2    ┆ value_3     ┆ labels │\n",
       "│ ---                        ┆ ---        ┆ ---        ┆ ---         ┆ ---    │\n",
       "│ str                        ┆ f32        ┆ f32        ┆ f32         ┆ str    │\n",
       "╞════════════════════════════╪════════════╪════════════╪═════════════╪════════╡\n",
       "│ 2023-11-03 13:39:36.088815 ┆ 404.69751  ┆ 443.679321 ┆ 87.651566   ┆ CCCC   │\n",
       "│ 2023-11-03 13:39:36.088875 ┆ 457.07785  ┆ 634.807251 ┆ 549.272156  ┆ EEEE   │\n",
       "│ 2023-11-03 13:39:36.088891 ┆ 620.065186 ┆ 173.628784 ┆ 219.745941  ┆ BBBB   │\n",
       "│ 2023-11-03 13:39:36.088906 ┆ 25.579391  ┆ 143.887222 ┆ 408.059845  ┆ BBBB   │\n",
       "│ 2023-11-03 13:39:36.088920 ┆ 654.784729 ┆ 528.226379 ┆ 1026.964355 ┆ BBBB   │\n",
       "└────────────────────────────┴────────────┴────────────┴─────────────┴────────┘"
      ]
     },
     "execution_count": 9,
     "metadata": {},
     "output_type": "execute_result"
    }
   ],
   "source": [
    "(\n",
    "    pl.scan_csv(input_file, has_header=False, schema=col_names_dtypes)\n",
    "    .head().collect()\n",
    ")"
   ]
  },
  {
   "cell_type": "code",
   "execution_count": 10,
   "metadata": {},
   "outputs": [
    {
     "data": {
      "text/html": [
       "<div><style>\n",
       ".dataframe > thead > tr > th,\n",
       ".dataframe > tbody > tr > td {\n",
       "  text-align: right;\n",
       "  white-space: pre-wrap;\n",
       "}\n",
       "</style>\n",
       "<small>shape: (1, 1)</small><table border=\"1\" class=\"dataframe\"><thead><tr><th>value_1</th></tr><tr><td>f32</td></tr></thead><tbody><tr><td>500.024323</td></tr></tbody></table></div>"
      ],
      "text/plain": [
       "shape: (1, 1)\n",
       "┌────────────┐\n",
       "│ value_1    │\n",
       "│ ---        │\n",
       "│ f32        │\n",
       "╞════════════╡\n",
       "│ 500.024323 │\n",
       "└────────────┘"
      ]
     },
     "execution_count": 10,
     "metadata": {},
     "output_type": "execute_result"
    }
   ],
   "source": [
    "(\n",
    "    pl.scan_csv(input_file, has_header=False, schema=col_names_dtypes)\n",
    "    .select(\n",
    "        pl.col('value_1').mean()\n",
    "    ).collect(streaming=True)\n",
    ")"
   ]
  },
  {
   "cell_type": "code",
   "execution_count": 17,
   "metadata": {},
   "outputs": [
    {
     "name": "stdout",
     "output_type": "stream",
     "text": [
      "CPU times: user 35min 53s, sys: 5min 7s, total: 41min 1s\n",
      "Wall time: 4min 13s\n"
     ]
    },
    {
     "data": {
      "text/html": [
       "<div><style>\n",
       ".dataframe > thead > tr > th,\n",
       ".dataframe > tbody > tr > td {\n",
       "  text-align: right;\n",
       "  white-space: pre-wrap;\n",
       "}\n",
       "</style>\n",
       "<small>shape: (100, 1)</small><table border=\"1\" class=\"dataframe\"><thead><tr><th>column_0</th></tr><tr><td>f32</td></tr></thead><tbody><tr><td>10.025609</td></tr><tr><td>20.031404</td></tr><tr><td>30.018518</td></tr><tr><td>40.021393</td></tr><tr><td>50.027016</td></tr><tr><td>60.030224</td></tr><tr><td>70.055244</td></tr><tr><td>80.050735</td></tr><tr><td>90.06752</td></tr><tr><td>100.069817</td></tr><tr><td>110.084679</td></tr><tr><td>120.080116</td></tr><tr><td>&hellip;</td></tr><tr><td>890.049438</td></tr><tr><td>900.036194</td></tr><tr><td>910.017212</td></tr><tr><td>920.02771</td></tr><tr><td>930.0401</td></tr><tr><td>940.037598</td></tr><tr><td>950.05304</td></tr><tr><td>960.043762</td></tr><tr><td>970.047974</td></tr><tr><td>980.015381</td></tr><tr><td>990.006042</td></tr><tr><td>1000.0</td></tr></tbody></table></div>"
      ],
      "text/plain": [
       "shape: (100, 1)\n",
       "┌────────────┐\n",
       "│ column_0   │\n",
       "│ ---        │\n",
       "│ f32        │\n",
       "╞════════════╡\n",
       "│ 10.025609  │\n",
       "│ 20.031404  │\n",
       "│ 30.018518  │\n",
       "│ 40.021393  │\n",
       "│ …          │\n",
       "│ 970.047974 │\n",
       "│ 980.015381 │\n",
       "│ 990.006042 │\n",
       "│ 1000.0     │\n",
       "└────────────┘"
      ]
     },
     "execution_count": 17,
     "metadata": {},
     "output_type": "execute_result"
    }
   ],
   "source": [
    "%%time\n",
    "# filter,with_columnsをやってみる。\n",
    "(\n",
    "    pl.scan_csv(input_file, has_header=False, schema=col_names_dtypes)\n",
    "    .select([\n",
    "        pl.col('value_1').quantile(i).alias(f'q_{i*100:.0f}') for i in np.linspace(0.01, 1.0, 100)\n",
    "    ])\n",
    "    .collect(streaming=True).transpose()\n",
    ")"
   ]
  },
  {
   "cell_type": "markdown",
   "metadata": {},
   "source": [
    "内部SSDを指定して1%ile～100%ileの計算を実行する場合、上記の通り4分ほどかかった。  "
   ]
  },
  {
   "cell_type": "markdown",
   "metadata": {},
   "source": [
    "----------------------------------------------"
   ]
  },
  {
   "cell_type": "markdown",
   "metadata": {},
   "source": [
    "----------------------------------------------"
   ]
  },
  {
   "cell_type": "markdown",
   "metadata": {},
   "source": [
    "----------------------------------------------"
   ]
  },
  {
   "cell_type": "markdown",
   "metadata": {},
   "source": [
    "## ● 約5000万行 × 5列 × 1ファイル（WSL2管理下に保存）の場合  \n",
    "### 条件\n",
    "* ー\n",
    "\n",
    "WSL2管理下に大容量ファイルを持ってきて処理する場合。  \n",
    "ディスクは食ってしまうが、これが一番早い。  \n",
    "（ただし、サーバで出力されたデータの場合はこの環境まで持ってくるのにも時間がかかることは留意すること。）"
   ]
  },
  {
   "cell_type": "code",
   "execution_count": 2,
   "metadata": {},
   "outputs": [],
   "source": [
    "# 読み込み条件定義\n",
    "input_file = '../../../sample_data/Big_data_sample/sample_big_data_1.csv'\n",
    "col_names_dtypes = {\n",
    "    'datetime_col': pl.Utf8, \n",
    "    'value_1': pl.Float32, \n",
    "    'value_2': pl.Float32, \n",
    "    'value_3': pl.Float32, \n",
    "    'labels': pl.Utf8}"
   ]
  },
  {
   "cell_type": "code",
   "execution_count": 3,
   "metadata": {},
   "outputs": [
    {
     "data": {
      "text/html": [
       "<div><style>\n",
       ".dataframe > thead > tr > th,\n",
       ".dataframe > tbody > tr > td {\n",
       "  text-align: right;\n",
       "  white-space: pre-wrap;\n",
       "}\n",
       "</style>\n",
       "<small>shape: (5, 5)</small><table border=\"1\" class=\"dataframe\"><thead><tr><th>datetime_col</th><th>value_1</th><th>value_2</th><th>value_3</th><th>labels</th></tr><tr><td>str</td><td>f32</td><td>f32</td><td>f32</td><td>str</td></tr></thead><tbody><tr><td>&quot;2023-11-03 13:39:36.088815&quot;</td><td>404.69751</td><td>443.679321</td><td>87.651566</td><td>&quot;CCCC&quot;</td></tr><tr><td>&quot;2023-11-03 13:39:36.088875&quot;</td><td>457.07785</td><td>634.807251</td><td>549.272156</td><td>&quot;EEEE&quot;</td></tr><tr><td>&quot;2023-11-03 13:39:36.088891&quot;</td><td>620.065186</td><td>173.628784</td><td>219.745941</td><td>&quot;BBBB&quot;</td></tr><tr><td>&quot;2023-11-03 13:39:36.088906&quot;</td><td>25.579391</td><td>143.887222</td><td>408.059845</td><td>&quot;BBBB&quot;</td></tr><tr><td>&quot;2023-11-03 13:39:36.088920&quot;</td><td>654.784729</td><td>528.226379</td><td>1026.964355</td><td>&quot;BBBB&quot;</td></tr></tbody></table></div>"
      ],
      "text/plain": [
       "shape: (5, 5)\n",
       "┌────────────────────────────┬────────────┬────────────┬─────────────┬────────┐\n",
       "│ datetime_col               ┆ value_1    ┆ value_2    ┆ value_3     ┆ labels │\n",
       "│ ---                        ┆ ---        ┆ ---        ┆ ---         ┆ ---    │\n",
       "│ str                        ┆ f32        ┆ f32        ┆ f32         ┆ str    │\n",
       "╞════════════════════════════╪════════════╪════════════╪═════════════╪════════╡\n",
       "│ 2023-11-03 13:39:36.088815 ┆ 404.69751  ┆ 443.679321 ┆ 87.651566   ┆ CCCC   │\n",
       "│ 2023-11-03 13:39:36.088875 ┆ 457.07785  ┆ 634.807251 ┆ 549.272156  ┆ EEEE   │\n",
       "│ 2023-11-03 13:39:36.088891 ┆ 620.065186 ┆ 173.628784 ┆ 219.745941  ┆ BBBB   │\n",
       "│ 2023-11-03 13:39:36.088906 ┆ 25.579391  ┆ 143.887222 ┆ 408.059845  ┆ BBBB   │\n",
       "│ 2023-11-03 13:39:36.088920 ┆ 654.784729 ┆ 528.226379 ┆ 1026.964355 ┆ BBBB   │\n",
       "└────────────────────────────┴────────────┴────────────┴─────────────┴────────┘"
      ]
     },
     "execution_count": 3,
     "metadata": {},
     "output_type": "execute_result"
    }
   ],
   "source": [
    "(\n",
    "    pl.scan_csv(input_file, has_header=False, schema=col_names_dtypes)\n",
    "    .head().collect()\n",
    ")"
   ]
  },
  {
   "cell_type": "code",
   "execution_count": 5,
   "metadata": {},
   "outputs": [
    {
     "data": {
      "text/html": [
       "<div><style>\n",
       ".dataframe > thead > tr > th,\n",
       ".dataframe > tbody > tr > td {\n",
       "  text-align: right;\n",
       "  white-space: pre-wrap;\n",
       "}\n",
       "</style>\n",
       "<small>shape: (1, 1)</small><table border=\"1\" class=\"dataframe\"><thead><tr><th>value_1</th></tr><tr><td>f32</td></tr></thead><tbody><tr><td>500.024323</td></tr></tbody></table></div>"
      ],
      "text/plain": [
       "shape: (1, 1)\n",
       "┌────────────┐\n",
       "│ value_1    │\n",
       "│ ---        │\n",
       "│ f32        │\n",
       "╞════════════╡\n",
       "│ 500.024323 │\n",
       "└────────────┘"
      ]
     },
     "execution_count": 5,
     "metadata": {},
     "output_type": "execute_result"
    }
   ],
   "source": [
    "(\n",
    "    pl.scan_csv(input_file, has_header=False, schema=col_names_dtypes)\n",
    "    .select(\n",
    "        pl.col('value_1').mean()\n",
    "    ).collect(streaming=True)\n",
    ")"
   ]
  },
  {
   "cell_type": "code",
   "execution_count": 6,
   "metadata": {},
   "outputs": [
    {
     "name": "stdout",
     "output_type": "stream",
     "text": [
      "500.024\n",
      "\n",
      "real\t0m24.167s\n",
      "user\t0m22.612s\n",
      "sys\t0m1.551s\n"
     ]
    }
   ],
   "source": [
    "! time awk -F, '{m+=$2} END{print m/NR;}' ../../../sample_data/Big_data_sample/sample_big_data_1.csv"
   ]
  },
  {
   "cell_type": "markdown",
   "metadata": {},
   "source": [
    "外付けHDDや内部SSDから読み込む場合に比べて、平均の計算にかかる時間が1/15程度になった。  \n",
    "またawkで平均を求めるよりも早い。  \n",
    "（上記はWSL2上のコンテナからawkを実行した場合。WSL2から直接実行するとなぜか1分以上かかった）"
   ]
  },
  {
   "cell_type": "code",
   "execution_count": 18,
   "metadata": {},
   "outputs": [
    {
     "name": "stdout",
     "output_type": "stream",
     "text": [
      "CPU times: user 30min 18s, sys: 7.67 s, total: 30min 25s\n",
      "Wall time: 2min 32s\n"
     ]
    },
    {
     "data": {
      "text/html": [
       "<div><style>\n",
       ".dataframe > thead > tr > th,\n",
       ".dataframe > tbody > tr > td {\n",
       "  text-align: right;\n",
       "  white-space: pre-wrap;\n",
       "}\n",
       "</style>\n",
       "<small>shape: (1, 100)</small><table border=\"1\" class=\"dataframe\"><thead><tr><th>q_10.0</th><th>q_10.9</th><th>q_11.8</th><th>q_12.7</th><th>q_13.6</th><th>q_14.5</th><th>q_15.5</th><th>q_16.4</th><th>q_17.3</th><th>q_18.2</th><th>q_19.1</th><th>q_20.0</th><th>q_20.9</th><th>q_21.8</th><th>q_22.7</th><th>q_23.6</th><th>q_24.5</th><th>q_25.5</th><th>q_26.4</th><th>q_27.3</th><th>q_28.2</th><th>q_29.1</th><th>q_30.0</th><th>q_30.9</th><th>q_31.8</th><th>q_32.7</th><th>q_33.6</th><th>q_34.5</th><th>q_35.5</th><th>q_36.4</th><th>q_37.3</th><th>q_38.2</th><th>q_39.1</th><th>q_40.0</th><th>q_40.9</th><th>q_41.8</th><th>q_42.7</th><th>&hellip;</th><th>q_67.3</th><th>q_68.2</th><th>q_69.1</th><th>q_70.0</th><th>q_70.9</th><th>q_71.8</th><th>q_72.7</th><th>q_73.6</th><th>q_74.5</th><th>q_75.5</th><th>q_76.4</th><th>q_77.3</th><th>q_78.2</th><th>q_79.1</th><th>q_80.0</th><th>q_80.9</th><th>q_81.8</th><th>q_82.7</th><th>q_83.6</th><th>q_84.5</th><th>q_85.5</th><th>q_86.4</th><th>q_87.3</th><th>q_88.2</th><th>q_89.1</th><th>q_90.0</th><th>q_90.9</th><th>q_91.8</th><th>q_92.7</th><th>q_93.6</th><th>q_94.5</th><th>q_95.5</th><th>q_96.4</th><th>q_97.3</th><th>q_98.2</th><th>q_99.1</th><th>q_100.0</th></tr><tr><td>f32</td><td>f32</td><td>f32</td><td>f32</td><td>f32</td><td>f32</td><td>f32</td><td>f32</td><td>f32</td><td>f32</td><td>f32</td><td>f32</td><td>f32</td><td>f32</td><td>f32</td><td>f32</td><td>f32</td><td>f32</td><td>f32</td><td>f32</td><td>f32</td><td>f32</td><td>f32</td><td>f32</td><td>f32</td><td>f32</td><td>f32</td><td>f32</td><td>f32</td><td>f32</td><td>f32</td><td>f32</td><td>f32</td><td>f32</td><td>f32</td><td>f32</td><td>f32</td><td>&hellip;</td><td>f32</td><td>f32</td><td>f32</td><td>f32</td><td>f32</td><td>f32</td><td>f32</td><td>f32</td><td>f32</td><td>f32</td><td>f32</td><td>f32</td><td>f32</td><td>f32</td><td>f32</td><td>f32</td><td>f32</td><td>f32</td><td>f32</td><td>f32</td><td>f32</td><td>f32</td><td>f32</td><td>f32</td><td>f32</td><td>f32</td><td>f32</td><td>f32</td><td>f32</td><td>f32</td><td>f32</td><td>f32</td><td>f32</td><td>f32</td><td>f32</td><td>f32</td><td>f32</td></tr></thead><tbody><tr><td>100.069817</td><td>109.174461</td><td>118.256416</td><td>127.342415</td><td>136.4328</td><td>145.513031</td><td>154.58725</td><td>163.692505</td><td>172.790924</td><td>181.872528</td><td>190.953415</td><td>200.050797</td><td>209.163757</td><td>218.256317</td><td>227.341736</td><td>236.411926</td><td>245.513458</td><td>254.605148</td><td>263.701355</td><td>272.815277</td><td>281.867584</td><td>290.943298</td><td>300.030121</td><td>309.125885</td><td>318.221619</td><td>327.301422</td><td>336.406128</td><td>345.50354</td><td>354.599609</td><td>363.690155</td><td>372.785736</td><td>381.860046</td><td>390.947632</td><td>400.063232</td><td>409.146454</td><td>418.236603</td><td>427.338165</td><td>&hellip;</td><td>672.676392</td><td>681.774963</td><td>690.872375</td><td>699.943115</td><td>709.051697</td><td>718.145081</td><td>727.232422</td><td>736.329529</td><td>745.434448</td><td>754.543945</td><td>763.627075</td><td>772.741638</td><td>781.838379</td><td>790.9021</td><td>800.007996</td><td>809.112793</td><td>818.20752</td><td>827.299316</td><td>836.39978</td><td>845.494995</td><td>854.611877</td><td>863.676453</td><td>872.771545</td><td>881.860229</td><td>890.955078</td><td>900.036133</td><td>909.107849</td><td>918.206299</td><td>927.302917</td><td>936.388123</td><td>945.502502</td><td>954.601013</td><td>963.686218</td><td>972.767944</td><td>981.836914</td><td>990.915833</td><td>1000.0</td></tr></tbody></table></div>"
      ],
      "text/plain": [
       "shape: (1, 100)\n",
       "┌────────────┬───────────┬───────────┬───────────┬───┬───────────┬───────────┬───────────┬─────────┐\n",
       "│ q_10.0     ┆ q_10.9    ┆ q_11.8    ┆ q_12.7    ┆ … ┆ q_97.3    ┆ q_98.2    ┆ q_99.1    ┆ q_100.0 │\n",
       "│ ---        ┆ ---       ┆ ---       ┆ ---       ┆   ┆ ---       ┆ ---       ┆ ---       ┆ ---     │\n",
       "│ f32        ┆ f32       ┆ f32       ┆ f32       ┆   ┆ f32       ┆ f32       ┆ f32       ┆ f32     │\n",
       "╞════════════╪═══════════╪═══════════╪═══════════╪═══╪═══════════╪═══════════╪═══════════╪═════════╡\n",
       "│ 100.069817 ┆ 109.17446 ┆ 118.25641 ┆ 127.34241 ┆ … ┆ 972.76794 ┆ 981.83691 ┆ 990.91583 ┆ 1000.0  │\n",
       "│            ┆ 1         ┆ 6         ┆ 5         ┆   ┆ 4         ┆ 4         ┆ 3         ┆         │\n",
       "└────────────┴───────────┴───────────┴───────────┴───┴───────────┴───────────┴───────────┴─────────┘"
      ]
     },
     "execution_count": 18,
     "metadata": {},
     "output_type": "execute_result"
    }
   ],
   "source": [
    "%%time\n",
    "# filter,with_columnsをやってみる。\n",
    "(\n",
    "    pl.scan_csv(input_file, has_header=False, schema=col_names_dtypes)\n",
    "    .select([\n",
    "        pl.col('value_1').quantile(i).alias(f'q_{i*100:.1f}') for i in np.linspace(0.1, 1.0, 100)\n",
    "    ])\n",
    "    .collect(streaming=True)\n",
    ")"
   ]
  },
  {
   "cell_type": "markdown",
   "metadata": {},
   "source": [
    "パーセンタイルを大量に計算する場合についても40%程早くなった。"
   ]
  },
  {
   "cell_type": "code",
   "execution_count": 20,
   "metadata": {},
   "outputs": [
    {
     "name": "stdout",
     "output_type": "stream",
     "text": [
      "CPU times: user 6min 35s, sys: 5.06 s, total: 6min 40s\n",
      "Wall time: 34.6 s\n"
     ]
    }
   ],
   "source": [
    "%%time\n",
    "df = (\n",
    "    pl.scan_csv(input_file, has_header=False, schema=col_names_dtypes)\n",
    ")\n",
    "\n",
    "col_1 = df.select([pl.col('value_1').quantile(i).alias(f'q_{i*100:.1f}') for i in np.linspace(0.1, 1.0, 10)]).collect(streaming=True)\n",
    "col_2 = df.select([pl.col('value_2').quantile(i).alias(f'q_{i*100:.1f}') for i in np.linspace(0.1, 1.0, 10)]).collect(streaming=True)"
   ]
  },
  {
   "cell_type": "code",
   "execution_count": 21,
   "metadata": {},
   "outputs": [
    {
     "data": {
      "text/html": [
       "<div><style>\n",
       ".dataframe > thead > tr > th,\n",
       ".dataframe > tbody > tr > td {\n",
       "  text-align: right;\n",
       "  white-space: pre-wrap;\n",
       "}\n",
       "</style>\n",
       "<small>shape: (1, 10)</small><table border=\"1\" class=\"dataframe\"><thead><tr><th>q_10.0</th><th>q_20.0</th><th>q_30.0</th><th>q_40.0</th><th>q_50.0</th><th>q_60.0</th><th>q_70.0</th><th>q_80.0</th><th>q_90.0</th><th>q_100.0</th></tr><tr><td>f32</td><td>f32</td><td>f32</td><td>f32</td><td>f32</td><td>f32</td><td>f32</td><td>f32</td><td>f32</td><td>f32</td></tr></thead><tbody><tr><td>100.069817</td><td>200.050797</td><td>300.030121</td><td>400.063232</td><td>500.00412</td><td>599.976074</td><td>699.943115</td><td>800.007996</td><td>900.036194</td><td>1000.0</td></tr></tbody></table></div>"
      ],
      "text/plain": [
       "shape: (1, 10)\n",
       "┌────────────┬───────────┬───────────┬───────────┬───┬───────────┬───────────┬───────────┬─────────┐\n",
       "│ q_10.0     ┆ q_20.0    ┆ q_30.0    ┆ q_40.0    ┆ … ┆ q_70.0    ┆ q_80.0    ┆ q_90.0    ┆ q_100.0 │\n",
       "│ ---        ┆ ---       ┆ ---       ┆ ---       ┆   ┆ ---       ┆ ---       ┆ ---       ┆ ---     │\n",
       "│ f32        ┆ f32       ┆ f32       ┆ f32       ┆   ┆ f32       ┆ f32       ┆ f32       ┆ f32     │\n",
       "╞════════════╪═══════════╪═══════════╪═══════════╪═══╪═══════════╪═══════════╪═══════════╪═════════╡\n",
       "│ 100.069817 ┆ 200.05079 ┆ 300.03012 ┆ 400.06323 ┆ … ┆ 699.94311 ┆ 800.00799 ┆ 900.03619 ┆ 1000.0  │\n",
       "│            ┆ 7         ┆ 1         ┆ 2         ┆   ┆ 5         ┆ 6         ┆ 4         ┆         │\n",
       "└────────────┴───────────┴───────────┴───────────┴───┴───────────┴───────────┴───────────┴─────────┘"
      ]
     },
     "execution_count": 21,
     "metadata": {},
     "output_type": "execute_result"
    }
   ],
   "source": [
    "col_1"
   ]
  },
  {
   "cell_type": "code",
   "execution_count": 22,
   "metadata": {},
   "outputs": [
    {
     "data": {
      "text/html": [
       "<div><style>\n",
       ".dataframe > thead > tr > th,\n",
       ".dataframe > tbody > tr > td {\n",
       "  text-align: right;\n",
       "  white-space: pre-wrap;\n",
       "}\n",
       "</style>\n",
       "<small>shape: (1, 10)</small><table border=\"1\" class=\"dataframe\"><thead><tr><th>q_10.0</th><th>q_20.0</th><th>q_30.0</th><th>q_40.0</th><th>q_50.0</th><th>q_60.0</th><th>q_70.0</th><th>q_80.0</th><th>q_90.0</th><th>q_100.0</th></tr><tr><td>f32</td><td>f32</td><td>f32</td><td>f32</td><td>f32</td><td>f32</td><td>f32</td><td>f32</td><td>f32</td><td>f32</td></tr></thead><tbody><tr><td>100.068085</td><td>200.146133</td><td>300.243103</td><td>400.478851</td><td>500.55426</td><td>600.609314</td><td>700.744263</td><td>800.747498</td><td>900.887268</td><td>1001.0</td></tr></tbody></table></div>"
      ],
      "text/plain": [
       "shape: (1, 10)\n",
       "┌────────────┬───────────┬───────────┬───────────┬───┬───────────┬───────────┬───────────┬─────────┐\n",
       "│ q_10.0     ┆ q_20.0    ┆ q_30.0    ┆ q_40.0    ┆ … ┆ q_70.0    ┆ q_80.0    ┆ q_90.0    ┆ q_100.0 │\n",
       "│ ---        ┆ ---       ┆ ---       ┆ ---       ┆   ┆ ---       ┆ ---       ┆ ---       ┆ ---     │\n",
       "│ f32        ┆ f32       ┆ f32       ┆ f32       ┆   ┆ f32       ┆ f32       ┆ f32       ┆ f32     │\n",
       "╞════════════╪═══════════╪═══════════╪═══════════╪═══╪═══════════╪═══════════╪═══════════╪═════════╡\n",
       "│ 100.068085 ┆ 200.14613 ┆ 300.24310 ┆ 400.47885 ┆ … ┆ 700.74426 ┆ 800.74749 ┆ 900.88726 ┆ 1001.0  │\n",
       "│            ┆ 3         ┆ 3         ┆ 1         ┆   ┆ 3         ┆ 8         ┆ 8         ┆         │\n",
       "└────────────┴───────────┴───────────┴───────────┴───┴───────────┴───────────┴───────────┴─────────┘"
      ]
     },
     "execution_count": 22,
     "metadata": {},
     "output_type": "execute_result"
    }
   ],
   "source": [
    "col_2"
   ]
  },
  {
   "cell_type": "code",
   "execution_count": null,
   "metadata": {},
   "outputs": [],
   "source": []
  }
 ],
 "metadata": {
  "kernelspec": {
   "display_name": "Python 3",
   "language": "python",
   "name": "python3"
  },
  "language_info": {
   "codemirror_mode": {
    "name": "ipython",
    "version": 3
   },
   "file_extension": ".py",
   "mimetype": "text/x-python",
   "name": "python",
   "nbconvert_exporter": "python",
   "pygments_lexer": "ipython3",
   "version": "3.11.6"
  }
 },
 "nbformat": 4,
 "nbformat_minor": 2
}
