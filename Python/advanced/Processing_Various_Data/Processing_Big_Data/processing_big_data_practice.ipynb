{
 "cells": [
  {
   "cell_type": "markdown",
   "metadata": {},
   "source": [
    "# 巨大なデータの取り扱い\n",
    "巨大といってもここでは数GB～100GB未満ぐらいのデータをPythonで処理するときについて記す。  "
   ]
  },
  {
   "cell_type": "code",
   "execution_count": 2,
   "metadata": {},
   "outputs": [
    {
     "data": {
      "text/plain": [
       "polars.config.Config"
      ]
     },
     "execution_count": 2,
     "metadata": {},
     "output_type": "execute_result"
    }
   ],
   "source": [
    "import polars as pl\n",
    "\n",
    "# 文字列カラムの表示文字数を50文字に設定\n",
    "pl.Config.set_fmt_str_lengths(50)"
   ]
  },
  {
   "cell_type": "markdown",
   "metadata": {},
   "source": [
    "## ● 約5000万行 × 5列（4.2GB）× 1ファイルの場合  \n",
    "USBに保存してある大きめのファイルについて処理したいとき。  \n",
    "データの全カラム・全レコードが解析に必要なケースは多くないと思われるので、  \n",
    "LazyFrameを活用して高速化、メモリ節約を意識する。  "
   ]
  },
  {
   "cell_type": "code",
   "execution_count": 2,
   "metadata": {},
   "outputs": [
    {
     "name": "stdout",
     "output_type": "stream",
     "text": [
      "49061300 ../../../sample_data/from_HDD/big_data/sample_big_data_1.csv\n"
     ]
    }
   ],
   "source": [
    "! wc -l ../../../sample_data/from_HDD/big_data/sample_big_data_1.csv"
   ]
  },
  {
   "cell_type": "code",
   "execution_count": 4,
   "metadata": {},
   "outputs": [],
   "source": [
    "# 読み込み条件定義\n",
    "input_file = '../../../sample_data/from_HDD/big_data/sample_big_data_1.csv'\n",
    "col_names_dtypes = {\n",
    "    'datetime_col': pl.Utf8, \n",
    "    'value_1': pl.Float32, \n",
    "    'value_2': pl.Float32, \n",
    "    'value_3': pl.Float32, \n",
    "    'labels': pl.Utf8}"
   ]
  },
  {
   "cell_type": "code",
   "execution_count": 4,
   "metadata": {},
   "outputs": [
    {
     "data": {
      "text/html": [
       "<div><style>\n",
       ".dataframe > thead > tr > th,\n",
       ".dataframe > tbody > tr > td {\n",
       "  text-align: right;\n",
       "  white-space: pre-wrap;\n",
       "}\n",
       "</style>\n",
       "<small>shape: (5, 5)</small><table border=\"1\" class=\"dataframe\"><thead><tr><th>datetime_col</th><th>value_1</th><th>value_2</th><th>value_3</th><th>labels</th></tr><tr><td>str</td><td>f32</td><td>f32</td><td>f32</td><td>str</td></tr></thead><tbody><tr><td>&quot;2023-11-03 13:39:36.088815&quot;</td><td>404.69751</td><td>443.679321</td><td>87.651566</td><td>&quot;CCCC&quot;</td></tr><tr><td>&quot;2023-11-03 13:39:36.088875&quot;</td><td>457.07785</td><td>634.807251</td><td>549.272156</td><td>&quot;EEEE&quot;</td></tr><tr><td>&quot;2023-11-03 13:39:36.088891&quot;</td><td>620.065186</td><td>173.628784</td><td>219.745941</td><td>&quot;BBBB&quot;</td></tr><tr><td>&quot;2023-11-03 13:39:36.088906&quot;</td><td>25.579391</td><td>143.887222</td><td>408.059845</td><td>&quot;BBBB&quot;</td></tr><tr><td>&quot;2023-11-03 13:39:36.088920&quot;</td><td>654.784729</td><td>528.226379</td><td>1026.964355</td><td>&quot;BBBB&quot;</td></tr></tbody></table></div>"
      ],
      "text/plain": [
       "shape: (5, 5)\n",
       "┌────────────────────────────┬────────────┬────────────┬─────────────┬────────┐\n",
       "│ datetime_col               ┆ value_1    ┆ value_2    ┆ value_3     ┆ labels │\n",
       "│ ---                        ┆ ---        ┆ ---        ┆ ---         ┆ ---    │\n",
       "│ str                        ┆ f32        ┆ f32        ┆ f32         ┆ str    │\n",
       "╞════════════════════════════╪════════════╪════════════╪═════════════╪════════╡\n",
       "│ 2023-11-03 13:39:36.088815 ┆ 404.69751  ┆ 443.679321 ┆ 87.651566   ┆ CCCC   │\n",
       "│ 2023-11-03 13:39:36.088875 ┆ 457.07785  ┆ 634.807251 ┆ 549.272156  ┆ EEEE   │\n",
       "│ 2023-11-03 13:39:36.088891 ┆ 620.065186 ┆ 173.628784 ┆ 219.745941  ┆ BBBB   │\n",
       "│ 2023-11-03 13:39:36.088906 ┆ 25.579391  ┆ 143.887222 ┆ 408.059845  ┆ BBBB   │\n",
       "│ 2023-11-03 13:39:36.088920 ┆ 654.784729 ┆ 528.226379 ┆ 1026.964355 ┆ BBBB   │\n",
       "└────────────────────────────┴────────────┴────────────┴─────────────┴────────┘"
      ]
     },
     "execution_count": 4,
     "metadata": {},
     "output_type": "execute_result"
    }
   ],
   "source": [
    "(\n",
    "    pl.scan_csv(input_file, has_header=False, schema=col_names_dtypes)\n",
    "    .head().collect()\n",
    ")"
   ]
  },
  {
   "cell_type": "markdown",
   "metadata": {},
   "source": [
    "最初の5行を表示したりは全く問題ない。"
   ]
  },
  {
   "cell_type": "code",
   "execution_count": 7,
   "metadata": {},
   "outputs": [
    {
     "name": "stdout",
     "output_type": "stream",
     "text": [
      "CPU times: user 35.8 s, sys: 2min 41s, total: 3min 17s\n",
      "Wall time: 1min 6s\n"
     ]
    },
    {
     "data": {
      "text/html": [
       "<div><style>\n",
       ".dataframe > thead > tr > th,\n",
       ".dataframe > tbody > tr > td {\n",
       "  text-align: right;\n",
       "  white-space: pre-wrap;\n",
       "}\n",
       "</style>\n",
       "<small>shape: (9_813_318, 6)</small><table border=\"1\" class=\"dataframe\"><thead><tr><th>datetime_col</th><th>value_1</th><th>value_2</th><th>value_3</th><th>labels</th><th>val_1_90tile</th></tr><tr><td>str</td><td>f32</td><td>f32</td><td>f32</td><td>str</td><td>f32</td></tr></thead><tbody><tr><td>&quot;2023-11-03 13:39:36.088875&quot;</td><td>457.07785</td><td>634.807251</td><td>549.272156</td><td>&quot;EEEE&quot;</td><td>900.028076</td></tr><tr><td>&quot;2023-11-03 13:39:36.088961&quot;</td><td>484.879608</td><td>265.178833</td><td>711.663208</td><td>&quot;EEEE&quot;</td><td>900.028076</td></tr><tr><td>&quot;2023-11-03 13:39:36.089092&quot;</td><td>713.928345</td><td>101.049217</td><td>836.95105</td><td>&quot;EEEE&quot;</td><td>900.028076</td></tr><tr><td>&quot;2023-11-03 13:39:36.089165&quot;</td><td>964.206848</td><td>974.932983</td><td>227.194</td><td>&quot;EEEE&quot;</td><td>900.028076</td></tr><tr><td>&quot;2023-11-03 13:39:36.089313&quot;</td><td>864.268555</td><td>748.114075</td><td>447.793671</td><td>&quot;EEEE&quot;</td><td>900.028076</td></tr><tr><td>&quot;2023-11-03 13:39:36.089325&quot;</td><td>730.194397</td><td>89.366402</td><td>932.182983</td><td>&quot;EEEE&quot;</td><td>900.028076</td></tr><tr><td>&quot;2023-11-03 13:39:36.089375&quot;</td><td>140.499466</td><td>857.064331</td><td>237.348999</td><td>&quot;EEEE&quot;</td><td>900.028076</td></tr><tr><td>&quot;2023-11-03 13:39:36.089387&quot;</td><td>719.163879</td><td>674.034851</td><td>836.932312</td><td>&quot;EEEE&quot;</td><td>900.028076</td></tr><tr><td>&quot;2023-11-03 13:39:36.089461&quot;</td><td>832.301819</td><td>503.263397</td><td>335.356476</td><td>&quot;EEEE&quot;</td><td>900.028076</td></tr><tr><td>&quot;2023-11-03 13:39:36.089485&quot;</td><td>359.132294</td><td>8.830131</td><td>935.493713</td><td>&quot;EEEE&quot;</td><td>900.028076</td></tr><tr><td>&quot;2023-11-03 13:39:36.089620&quot;</td><td>770.107849</td><td>682.951416</td><td>385.821625</td><td>&quot;EEEE&quot;</td><td>900.028076</td></tr><tr><td>&quot;2023-11-03 13:39:36.089770&quot;</td><td>580.617249</td><td>594.437805</td><td>812.867554</td><td>&quot;EEEE&quot;</td><td>900.028076</td></tr><tr><td>&hellip;</td><td>&hellip;</td><td>&hellip;</td><td>&hellip;</td><td>&hellip;</td><td>&hellip;</td></tr><tr><td>&quot;2023-11-03 14:53:12.037060&quot;</td><td>804.683533</td><td>952.887573</td><td>994.159363</td><td>&quot;EEEE&quot;</td><td>900.028076</td></tr><tr><td>&quot;2023-11-03 14:53:12.037097&quot;</td><td>362.62793</td><td>905.867554</td><td>118.470207</td><td>&quot;EEEE&quot;</td><td>900.028076</td></tr><tr><td>&quot;2023-11-03 14:53:12.037110&quot;</td><td>981.057129</td><td>894.191833</td><td>136.118896</td><td>&quot;EEEE&quot;</td><td>900.028076</td></tr><tr><td>&quot;2023-11-03 14:53:12.037197&quot;</td><td>6.569554</td><td>142.389664</td><td>567.820679</td><td>&quot;EEEE&quot;</td><td>900.028076</td></tr><tr><td>&quot;2023-11-03 14:53:12.037299&quot;</td><td>74.79628</td><td>516.308716</td><td>419.881866</td><td>&quot;EEEE&quot;</td><td>900.028076</td></tr><tr><td>&quot;2023-11-03 14:53:12.037312&quot;</td><td>615.663208</td><td>294.356598</td><td>182.211533</td><td>&quot;EEEE&quot;</td><td>900.028076</td></tr><tr><td>&quot;2023-11-03 14:53:12.037480&quot;</td><td>837.669617</td><td>112.613289</td><td>953.677063</td><td>&quot;EEEE&quot;</td><td>900.028076</td></tr><tr><td>&quot;2023-11-03 14:53:12.037502&quot;</td><td>319.286407</td><td>487.200226</td><td>1020.438416</td><td>&quot;EEEE&quot;</td><td>900.028076</td></tr><tr><td>&quot;2023-11-03 14:53:12.037553&quot;</td><td>524.535767</td><td>174.997086</td><td>400.415436</td><td>&quot;EEEE&quot;</td><td>900.028076</td></tr><tr><td>&quot;2023-11-03 14:53:12.037606&quot;</td><td>239.139511</td><td>223.169006</td><td>868.543335</td><td>&quot;EEEE&quot;</td><td>900.028076</td></tr><tr><td>&quot;2023-11-03 14:53:12.037631&quot;</td><td>379.364258</td><td>896.411682</td><td>371.821472</td><td>&quot;EEEE&quot;</td><td>900.028076</td></tr><tr><td>&quot;2023-11-03 14:53:12.037767&quot;</td><td>565.079041</td><td>56.343513</td><td>202.908264</td><td>&quot;EEEE&quot;</td><td>900.028076</td></tr></tbody></table></div>"
      ],
      "text/plain": [
       "shape: (9_813_318, 6)\n",
       "┌────────────────────────────┬────────────┬────────────┬────────────┬────────┬──────────────┐\n",
       "│ datetime_col               ┆ value_1    ┆ value_2    ┆ value_3    ┆ labels ┆ val_1_90tile │\n",
       "│ ---                        ┆ ---        ┆ ---        ┆ ---        ┆ ---    ┆ ---          │\n",
       "│ str                        ┆ f32        ┆ f32        ┆ f32        ┆ str    ┆ f32          │\n",
       "╞════════════════════════════╪════════════╪════════════╪════════════╪════════╪══════════════╡\n",
       "│ 2023-11-03 13:39:36.088875 ┆ 457.07785  ┆ 634.807251 ┆ 549.272156 ┆ EEEE   ┆ 900.028076   │\n",
       "│ 2023-11-03 13:39:36.088961 ┆ 484.879608 ┆ 265.178833 ┆ 711.663208 ┆ EEEE   ┆ 900.028076   │\n",
       "│ 2023-11-03 13:39:36.089092 ┆ 713.928345 ┆ 101.049217 ┆ 836.95105  ┆ EEEE   ┆ 900.028076   │\n",
       "│ 2023-11-03 13:39:36.089165 ┆ 964.206848 ┆ 974.932983 ┆ 227.194    ┆ EEEE   ┆ 900.028076   │\n",
       "│ …                          ┆ …          ┆ …          ┆ …          ┆ …      ┆ …            │\n",
       "│ 2023-11-03 14:53:12.037553 ┆ 524.535767 ┆ 174.997086 ┆ 400.415436 ┆ EEEE   ┆ 900.028076   │\n",
       "│ 2023-11-03 14:53:12.037606 ┆ 239.139511 ┆ 223.169006 ┆ 868.543335 ┆ EEEE   ┆ 900.028076   │\n",
       "│ 2023-11-03 14:53:12.037631 ┆ 379.364258 ┆ 896.411682 ┆ 371.821472 ┆ EEEE   ┆ 900.028076   │\n",
       "│ 2023-11-03 14:53:12.037767 ┆ 565.079041 ┆ 56.343513  ┆ 202.908264 ┆ EEEE   ┆ 900.028076   │\n",
       "└────────────────────────────┴────────────┴────────────┴────────────┴────────┴──────────────┘"
      ]
     },
     "execution_count": 7,
     "metadata": {},
     "output_type": "execute_result"
    }
   ],
   "source": [
    "%%time\n",
    "# filter,with_columnsをやってみる。\n",
    "(\n",
    "    pl.scan_csv(input_file, has_header=False, schema=col_names_dtypes, truncate_ragged_lines=True)\n",
    "    .filter(pl.col('labels') == 'EEEE')\n",
    "    .with_columns(\n",
    "        val_1_90tile = pl.col('value_1').quantile(0.9)\n",
    "    ).collect(streaming=True)\n",
    ")"
   ]
  },
  {
   "cell_type": "code",
   "execution_count": 10,
   "metadata": {},
   "outputs": [
    {
     "name": "stdout",
     "output_type": "stream",
     "text": [
      "CPU times: user 21.1 s, sys: 3min 1s, total: 3min 22s\n",
      "Wall time: 53.8 s\n"
     ]
    },
    {
     "data": {
      "text/html": [
       "<div><style>\n",
       ".dataframe > thead > tr > th,\n",
       ".dataframe > tbody > tr > td {\n",
       "  text-align: right;\n",
       "  white-space: pre-wrap;\n",
       "}\n",
       "</style>\n",
       "<small>shape: (1, 1)</small><table border=\"1\" class=\"dataframe\"><thead><tr><th>value_1</th></tr><tr><td>f32</td></tr></thead><tbody><tr><td>900.028076</td></tr></tbody></table></div>"
      ],
      "text/plain": [
       "shape: (1, 1)\n",
       "┌────────────┐\n",
       "│ value_1    │\n",
       "│ ---        │\n",
       "│ f32        │\n",
       "╞════════════╡\n",
       "│ 900.028076 │\n",
       "└────────────┘"
      ]
     },
     "execution_count": 10,
     "metadata": {},
     "output_type": "execute_result"
    }
   ],
   "source": [
    "%%time\n",
    "# filter,with_columnsをやってみる。\n",
    "(\n",
    "    pl.scan_csv(input_file, has_header=False, schema=col_names_dtypes)\n",
    "    .filter(pl.col('labels') == 'EEEE')\n",
    "    .select(pl.col('value_1').quantile(0.9))\n",
    "    .collect(streaming=True)\n",
    ")"
   ]
  },
  {
   "cell_type": "code",
   "execution_count": 11,
   "metadata": {},
   "outputs": [
    {
     "name": "stdout",
     "output_type": "stream",
     "text": [
      "CPU times: user 32.8 s, sys: 2min 47s, total: 3min 20s\n",
      "Wall time: 1min 6s\n"
     ]
    },
    {
     "data": {
      "text/html": [
       "<div><style>\n",
       ".dataframe > thead > tr > th,\n",
       ".dataframe > tbody > tr > td {\n",
       "  text-align: right;\n",
       "  white-space: pre-wrap;\n",
       "}\n",
       "</style>\n",
       "<small>shape: (9_813_318, 5)</small><table border=\"1\" class=\"dataframe\"><thead><tr><th>datetime_col</th><th>value_1</th><th>value_2</th><th>value_3</th><th>labels</th></tr><tr><td>str</td><td>f32</td><td>f32</td><td>f32</td><td>str</td></tr></thead><tbody><tr><td>&quot;2023-11-03 13:39:36.088875&quot;</td><td>457.07785</td><td>634.807251</td><td>549.272156</td><td>&quot;EEEE&quot;</td></tr><tr><td>&quot;2023-11-03 13:39:36.088961&quot;</td><td>484.879608</td><td>265.178833</td><td>711.663208</td><td>&quot;EEEE&quot;</td></tr><tr><td>&quot;2023-11-03 13:39:36.089092&quot;</td><td>713.928345</td><td>101.049217</td><td>836.95105</td><td>&quot;EEEE&quot;</td></tr><tr><td>&quot;2023-11-03 13:39:36.089165&quot;</td><td>964.206848</td><td>974.932983</td><td>227.194</td><td>&quot;EEEE&quot;</td></tr><tr><td>&quot;2023-11-03 13:39:36.089313&quot;</td><td>864.268555</td><td>748.114075</td><td>447.793671</td><td>&quot;EEEE&quot;</td></tr><tr><td>&quot;2023-11-03 13:39:36.089325&quot;</td><td>730.194397</td><td>89.366402</td><td>932.182983</td><td>&quot;EEEE&quot;</td></tr><tr><td>&quot;2023-11-03 13:39:36.089375&quot;</td><td>140.499466</td><td>857.064331</td><td>237.348999</td><td>&quot;EEEE&quot;</td></tr><tr><td>&quot;2023-11-03 13:39:36.089387&quot;</td><td>719.163879</td><td>674.034851</td><td>836.932312</td><td>&quot;EEEE&quot;</td></tr><tr><td>&quot;2023-11-03 13:39:36.089461&quot;</td><td>832.301819</td><td>503.263397</td><td>335.356476</td><td>&quot;EEEE&quot;</td></tr><tr><td>&quot;2023-11-03 13:39:36.089485&quot;</td><td>359.132294</td><td>8.830131</td><td>935.493713</td><td>&quot;EEEE&quot;</td></tr><tr><td>&quot;2023-11-03 13:39:36.089620&quot;</td><td>770.107849</td><td>682.951416</td><td>385.821625</td><td>&quot;EEEE&quot;</td></tr><tr><td>&quot;2023-11-03 13:39:36.089770&quot;</td><td>580.617249</td><td>594.437805</td><td>812.867554</td><td>&quot;EEEE&quot;</td></tr><tr><td>&hellip;</td><td>&hellip;</td><td>&hellip;</td><td>&hellip;</td><td>&hellip;</td></tr><tr><td>&quot;2023-11-03 14:53:12.037060&quot;</td><td>804.683533</td><td>952.887573</td><td>994.159363</td><td>&quot;EEEE&quot;</td></tr><tr><td>&quot;2023-11-03 14:53:12.037097&quot;</td><td>362.62793</td><td>905.867554</td><td>118.470207</td><td>&quot;EEEE&quot;</td></tr><tr><td>&quot;2023-11-03 14:53:12.037110&quot;</td><td>981.057129</td><td>894.191833</td><td>136.118896</td><td>&quot;EEEE&quot;</td></tr><tr><td>&quot;2023-11-03 14:53:12.037197&quot;</td><td>6.569554</td><td>142.389664</td><td>567.820679</td><td>&quot;EEEE&quot;</td></tr><tr><td>&quot;2023-11-03 14:53:12.037299&quot;</td><td>74.79628</td><td>516.308716</td><td>419.881866</td><td>&quot;EEEE&quot;</td></tr><tr><td>&quot;2023-11-03 14:53:12.037312&quot;</td><td>615.663208</td><td>294.356598</td><td>182.211533</td><td>&quot;EEEE&quot;</td></tr><tr><td>&quot;2023-11-03 14:53:12.037480&quot;</td><td>837.669617</td><td>112.613289</td><td>953.677063</td><td>&quot;EEEE&quot;</td></tr><tr><td>&quot;2023-11-03 14:53:12.037502&quot;</td><td>319.286407</td><td>487.200226</td><td>1020.438416</td><td>&quot;EEEE&quot;</td></tr><tr><td>&quot;2023-11-03 14:53:12.037553&quot;</td><td>524.535767</td><td>174.997086</td><td>400.415436</td><td>&quot;EEEE&quot;</td></tr><tr><td>&quot;2023-11-03 14:53:12.037606&quot;</td><td>239.139511</td><td>223.169006</td><td>868.543335</td><td>&quot;EEEE&quot;</td></tr><tr><td>&quot;2023-11-03 14:53:12.037631&quot;</td><td>379.364258</td><td>896.411682</td><td>371.821472</td><td>&quot;EEEE&quot;</td></tr><tr><td>&quot;2023-11-03 14:53:12.037767&quot;</td><td>565.079041</td><td>56.343513</td><td>202.908264</td><td>&quot;EEEE&quot;</td></tr></tbody></table></div>"
      ],
      "text/plain": [
       "shape: (9_813_318, 5)\n",
       "┌────────────────────────────┬────────────┬────────────┬────────────┬────────┐\n",
       "│ datetime_col               ┆ value_1    ┆ value_2    ┆ value_3    ┆ labels │\n",
       "│ ---                        ┆ ---        ┆ ---        ┆ ---        ┆ ---    │\n",
       "│ str                        ┆ f32        ┆ f32        ┆ f32        ┆ str    │\n",
       "╞════════════════════════════╪════════════╪════════════╪════════════╪════════╡\n",
       "│ 2023-11-03 13:39:36.088875 ┆ 457.07785  ┆ 634.807251 ┆ 549.272156 ┆ EEEE   │\n",
       "│ 2023-11-03 13:39:36.088961 ┆ 484.879608 ┆ 265.178833 ┆ 711.663208 ┆ EEEE   │\n",
       "│ 2023-11-03 13:39:36.089092 ┆ 713.928345 ┆ 101.049217 ┆ 836.95105  ┆ EEEE   │\n",
       "│ 2023-11-03 13:39:36.089165 ┆ 964.206848 ┆ 974.932983 ┆ 227.194    ┆ EEEE   │\n",
       "│ …                          ┆ …          ┆ …          ┆ …          ┆ …      │\n",
       "│ 2023-11-03 14:53:12.037553 ┆ 524.535767 ┆ 174.997086 ┆ 400.415436 ┆ EEEE   │\n",
       "│ 2023-11-03 14:53:12.037606 ┆ 239.139511 ┆ 223.169006 ┆ 868.543335 ┆ EEEE   │\n",
       "│ 2023-11-03 14:53:12.037631 ┆ 379.364258 ┆ 896.411682 ┆ 371.821472 ┆ EEEE   │\n",
       "│ 2023-11-03 14:53:12.037767 ┆ 565.079041 ┆ 56.343513  ┆ 202.908264 ┆ EEEE   │\n",
       "└────────────────────────────┴────────────┴────────────┴────────────┴────────┘"
      ]
     },
     "execution_count": 11,
     "metadata": {},
     "output_type": "execute_result"
    }
   ],
   "source": [
    "%%time\n",
    "# filter,with_columnsをやってみる。\n",
    "(\n",
    "    pl.scan_csv(input_file, has_header=False, schema=col_names_dtypes)\n",
    "    .filter(pl.col('labels') == 'EEEE')\n",
    "    .collect(streaming=True)\n",
    ")"
   ]
  },
  {
   "cell_type": "markdown",
   "metadata": {},
   "source": [
    "### ● selectしてquantileだけ求める場合"
   ]
  },
  {
   "cell_type": "code",
   "execution_count": 12,
   "metadata": {},
   "outputs": [
    {
     "name": "stdout",
     "output_type": "stream",
     "text": [
      "CPU times: user 34.1 s, sys: 3min 4s, total: 3min 38s\n",
      "Wall time: 51 s\n"
     ]
    },
    {
     "data": {
      "text/html": [
       "<div><style>\n",
       ".dataframe > thead > tr > th,\n",
       ".dataframe > tbody > tr > td {\n",
       "  text-align: right;\n",
       "  white-space: pre-wrap;\n",
       "}\n",
       "</style>\n",
       "<small>shape: (1, 1)</small><table border=\"1\" class=\"dataframe\"><thead><tr><th>value_1</th></tr><tr><td>f32</td></tr></thead><tbody><tr><td>900.036194</td></tr></tbody></table></div>"
      ],
      "text/plain": [
       "shape: (1, 1)\n",
       "┌────────────┐\n",
       "│ value_1    │\n",
       "│ ---        │\n",
       "│ f32        │\n",
       "╞════════════╡\n",
       "│ 900.036194 │\n",
       "└────────────┘"
      ]
     },
     "execution_count": 12,
     "metadata": {},
     "output_type": "execute_result"
    }
   ],
   "source": [
    "%%time\n",
    "# filter,with_columnsをやってみる。\n",
    "(\n",
    "    pl.scan_csv(input_file, has_header=False, schema=col_names_dtypes)\n",
    "    .select(pl.col('value_1').quantile(0.9))\n",
    "    .collect(streaming=True)\n",
    ")"
   ]
  },
  {
   "cell_type": "markdown",
   "metadata": {},
   "source": [
    "### ● selectしてquantileをいくつか求める場合"
   ]
  },
  {
   "cell_type": "code",
   "execution_count": 14,
   "metadata": {},
   "outputs": [
    {
     "name": "stdout",
     "output_type": "stream",
     "text": [
      "CPU times: user 1min 19s, sys: 2min 50s, total: 4min 10s\n",
      "Wall time: 1min 3s\n"
     ]
    },
    {
     "data": {
      "text/html": [
       "<div><style>\n",
       ".dataframe > thead > tr > th,\n",
       ".dataframe > tbody > tr > td {\n",
       "  text-align: right;\n",
       "  white-space: pre-wrap;\n",
       "}\n",
       "</style>\n",
       "<small>shape: (1, 3)</small><table border=\"1\" class=\"dataframe\"><thead><tr><th>value_1</th><th>value_2</th><th>value_3</th></tr><tr><td>f32</td><td>f32</td><td>f32</td></tr></thead><tbody><tr><td>900.036194</td><td>900.887268</td><td>989.969238</td></tr></tbody></table></div>"
      ],
      "text/plain": [
       "shape: (1, 3)\n",
       "┌────────────┬────────────┬────────────┐\n",
       "│ value_1    ┆ value_2    ┆ value_3    │\n",
       "│ ---        ┆ ---        ┆ ---        │\n",
       "│ f32        ┆ f32        ┆ f32        │\n",
       "╞════════════╪════════════╪════════════╡\n",
       "│ 900.036194 ┆ 900.887268 ┆ 989.969238 │\n",
       "└────────────┴────────────┴────────────┘"
      ]
     },
     "execution_count": 14,
     "metadata": {},
     "output_type": "execute_result"
    }
   ],
   "source": [
    "%%time\n",
    "# filter,with_columnsをやってみる。\n",
    "(\n",
    "    pl.scan_csv(input_file, has_header=False, schema=col_names_dtypes)\n",
    "    .select([\n",
    "        pl.col('value_1').quantile(0.9),\n",
    "        pl.col('value_2').quantile(0.9),\n",
    "        pl.col('value_3').quantile(0.9),\n",
    "    ])\n",
    "    .collect(streaming=True)\n",
    ")"
   ]
  },
  {
   "cell_type": "markdown",
   "metadata": {},
   "source": [
    "quantileを複数列で出力する場合でもそれほど処理時間は変わらない模様。  \n",
    "処理時間の大半は大容量ファイルをscanするための時間だと思われる。"
   ]
  },
  {
   "cell_type": "code",
   "execution_count": 5,
   "metadata": {},
   "outputs": [
    {
     "name": "stdout",
     "output_type": "stream",
     "text": [
      "CPU times: user 6.35 ms, sys: 1.09 ms, total: 7.44 ms\n",
      "Wall time: 33.1 ms\n"
     ]
    }
   ],
   "source": [
    "%%time\n",
    "df = pl.scan_csv(input_file, has_header=False, schema=col_names_dtypes)"
   ]
  },
  {
   "cell_type": "code",
   "execution_count": 12,
   "metadata": {},
   "outputs": [
    {
     "data": {
      "text/html": [
       "<div><style>\n",
       ".dataframe > thead > tr > th,\n",
       ".dataframe > tbody > tr > td {\n",
       "  text-align: right;\n",
       "  white-space: pre-wrap;\n",
       "}\n",
       "</style>\n",
       "<small>shape: (1, 1)</small><table border=\"1\" class=\"dataframe\"><thead><tr><th>value_1</th></tr><tr><td>f32</td></tr></thead><tbody><tr><td>900.036194</td></tr></tbody></table></div>"
      ],
      "text/plain": [
       "shape: (1, 1)\n",
       "┌────────────┐\n",
       "│ value_1    │\n",
       "│ ---        │\n",
       "│ f32        │\n",
       "╞════════════╡\n",
       "│ 900.036194 │\n",
       "└────────────┘"
      ]
     },
     "execution_count": 12,
     "metadata": {},
     "output_type": "execute_result"
    }
   ],
   "source": [
    "df.select(pl.col('value_1').quantile(0.9)).collect()"
   ]
  }
 ],
 "metadata": {
  "kernelspec": {
   "display_name": "Python 3",
   "language": "python",
   "name": "python3"
  },
  "language_info": {
   "codemirror_mode": {
    "name": "ipython",
    "version": 3
   },
   "file_extension": ".py",
   "mimetype": "text/x-python",
   "name": "python",
   "nbconvert_exporter": "python",
   "pygments_lexer": "ipython3",
   "version": "3.11.6"
  }
 },
 "nbformat": 4,
 "nbformat_minor": 2
}
