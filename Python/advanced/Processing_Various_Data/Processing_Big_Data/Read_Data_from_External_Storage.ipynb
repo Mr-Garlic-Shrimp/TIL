{
 "cells": [
  {
   "cell_type": "markdown",
   "metadata": {},
   "source": [
    "# 外部ストレージにある大規模データを処理する\n",
    "数十GB以上のデータはローカルに持ってきて処理したくないので、  \n",
    "外部ストレージに置いたままデータ処理する方法を整理する。"
   ]
  },
  {
   "cell_type": "markdown",
   "metadata": {},
   "source": [
    "## ● WSL2にマウントされた領域からPandas,Polarsでデータを読む方法"
   ]
  },
  {
   "cell_type": "markdown",
   "metadata": {},
   "source": [
    " まずはWSL2で下記コマンドを打ち、外部ストレージ(NAS、USB、HDD)をマウントする。\n",
    "\n",
    "```\n",
    " sudo mount -t drvfs <マウントしたいドライブのアルファベット>: <任意のマウントポイント>\n",
    " ```"
   ]
  },
  {
   "cell_type": "code",
   "execution_count": 9,
   "metadata": {},
   "outputs": [
    {
     "name": "stdout",
     "output_type": "stream",
     "text": [
      " Sales-sample.csv  'System Volume Information'\t サンプルデータ\n"
     ]
    }
   ],
   "source": [
    "# ここでは下記の\"from_HDD\"にHDDをマウントした。\n",
    "! ls ../sample_data/from_HDD"
   ]
  },
  {
   "cell_type": "code",
   "execution_count": 4,
   "metadata": {},
   "outputs": [],
   "source": [
    "import polars as pl\n",
    "import pandas as pd"
   ]
  },
  {
   "cell_type": "code",
   "execution_count": 6,
   "metadata": {},
   "outputs": [
    {
     "data": {
      "text/html": [
       "<div><style>\n",
       ".dataframe > thead > tr > th,\n",
       ".dataframe > tbody > tr > td {\n",
       "  text-align: right;\n",
       "  white-space: pre-wrap;\n",
       "}\n",
       "</style>\n",
       "<small>shape: (3, 4)</small><table border=\"1\" class=\"dataframe\"><thead><tr><th>Sales_No</th><th>Sales_Date</th><th>Customer_ID</th><th>Sales_Org</th></tr><tr><td>str</td><td>str</td><td>str</td><td>str</td></tr></thead><tbody><tr><td>&quot;A001&quot;</td><td>&quot;2018/6/22&quot;</td><td>&quot;C03&quot;</td><td>&quot;Q01&quot;</td></tr><tr><td>&quot;A002&quot;</td><td>&quot;2018/6/23&quot;</td><td>&quot;C04&quot;</td><td>&quot;Q02&quot;</td></tr><tr><td>&quot;A003&quot;</td><td>&quot;2018/6/24&quot;</td><td>&quot;C09&quot;</td><td>&quot;Q01&quot;</td></tr></tbody></table></div>"
      ],
      "text/plain": [
       "shape: (3, 4)\n",
       "┌──────────┬────────────┬─────────────┬───────────┐\n",
       "│ Sales_No ┆ Sales_Date ┆ Customer_ID ┆ Sales_Org │\n",
       "│ ---      ┆ ---        ┆ ---         ┆ ---       │\n",
       "│ str      ┆ str        ┆ str         ┆ str       │\n",
       "╞══════════╪════════════╪═════════════╪═══════════╡\n",
       "│ A001     ┆ 2018/6/22  ┆ C03         ┆ Q01       │\n",
       "│ A002     ┆ 2018/6/23  ┆ C04         ┆ Q02       │\n",
       "│ A003     ┆ 2018/6/24  ┆ C09         ┆ Q01       │\n",
       "└──────────┴────────────┴─────────────┴───────────┘"
      ]
     },
     "execution_count": 6,
     "metadata": {},
     "output_type": "execute_result"
    }
   ],
   "source": [
    "# polarsで読み込み\n",
    "pl.read_csv('../sample_data/from_HDD/Sales-sample.csv').head(3)"
   ]
  },
  {
   "cell_type": "code",
   "execution_count": 7,
   "metadata": {},
   "outputs": [
    {
     "data": {
      "text/html": [
       "<div><style>\n",
       ".dataframe > thead > tr > th,\n",
       ".dataframe > tbody > tr > td {\n",
       "  text-align: right;\n",
       "  white-space: pre-wrap;\n",
       "}\n",
       "</style>\n",
       "<small>shape: (3, 4)</small><table border=\"1\" class=\"dataframe\"><thead><tr><th>Sales_No</th><th>Sales_Date</th><th>Customer_ID</th><th>Sales_Org</th></tr><tr><td>str</td><td>str</td><td>str</td><td>str</td></tr></thead><tbody><tr><td>&quot;A001&quot;</td><td>&quot;2018/6/22&quot;</td><td>&quot;C03&quot;</td><td>&quot;Q01&quot;</td></tr><tr><td>&quot;A002&quot;</td><td>&quot;2018/6/23&quot;</td><td>&quot;C04&quot;</td><td>&quot;Q02&quot;</td></tr><tr><td>&quot;A003&quot;</td><td>&quot;2018/6/24&quot;</td><td>&quot;C09&quot;</td><td>&quot;Q01&quot;</td></tr></tbody></table></div>"
      ],
      "text/plain": [
       "shape: (3, 4)\n",
       "┌──────────┬────────────┬─────────────┬───────────┐\n",
       "│ Sales_No ┆ Sales_Date ┆ Customer_ID ┆ Sales_Org │\n",
       "│ ---      ┆ ---        ┆ ---         ┆ ---       │\n",
       "│ str      ┆ str        ┆ str         ┆ str       │\n",
       "╞══════════╪════════════╪═════════════╪═══════════╡\n",
       "│ A001     ┆ 2018/6/22  ┆ C03         ┆ Q01       │\n",
       "│ A002     ┆ 2018/6/23  ┆ C04         ┆ Q02       │\n",
       "│ A003     ┆ 2018/6/24  ┆ C09         ┆ Q01       │\n",
       "└──────────┴────────────┴─────────────┴───────────┘"
      ]
     },
     "execution_count": 7,
     "metadata": {},
     "output_type": "execute_result"
    }
   ],
   "source": [
    "# パスに日本語が混ざってても読み込める\n",
    "pl.read_csv('../sample_data/from_HDD/サンプルデータ/Sales-sample.csv').head(3)"
   ]
  },
  {
   "cell_type": "code",
   "execution_count": 8,
   "metadata": {},
   "outputs": [
    {
     "data": {
      "text/html": [
       "<div>\n",
       "<style scoped>\n",
       "    .dataframe tbody tr th:only-of-type {\n",
       "        vertical-align: middle;\n",
       "    }\n",
       "\n",
       "    .dataframe tbody tr th {\n",
       "        vertical-align: top;\n",
       "    }\n",
       "\n",
       "    .dataframe thead th {\n",
       "        text-align: right;\n",
       "    }\n",
       "</style>\n",
       "<table border=\"1\" class=\"dataframe\">\n",
       "  <thead>\n",
       "    <tr style=\"text-align: right;\">\n",
       "      <th></th>\n",
       "      <th>Sales_No</th>\n",
       "      <th>Sales_Date</th>\n",
       "      <th>Customer_ID</th>\n",
       "      <th>Sales_Org</th>\n",
       "    </tr>\n",
       "  </thead>\n",
       "  <tbody>\n",
       "    <tr>\n",
       "      <th>0</th>\n",
       "      <td>A001</td>\n",
       "      <td>2018/6/22</td>\n",
       "      <td>C03</td>\n",
       "      <td>Q01</td>\n",
       "    </tr>\n",
       "    <tr>\n",
       "      <th>1</th>\n",
       "      <td>A002</td>\n",
       "      <td>2018/6/23</td>\n",
       "      <td>C04</td>\n",
       "      <td>Q02</td>\n",
       "    </tr>\n",
       "    <tr>\n",
       "      <th>2</th>\n",
       "      <td>A003</td>\n",
       "      <td>2018/6/24</td>\n",
       "      <td>C09</td>\n",
       "      <td>Q01</td>\n",
       "    </tr>\n",
       "  </tbody>\n",
       "</table>\n",
       "</div>"
      ],
      "text/plain": [
       "  Sales_No Sales_Date Customer_ID Sales_Org\n",
       "0     A001  2018/6/22         C03       Q01\n",
       "1     A002  2018/6/23         C04       Q02\n",
       "2     A003  2018/6/24         C09       Q01"
      ]
     },
     "execution_count": 8,
     "metadata": {},
     "output_type": "execute_result"
    }
   ],
   "source": [
    "# pandasでも読み込みOK\n",
    "pd.read_csv('../sample_data/from_HDD/Sales-sample.csv').head(3)"
   ]
  }
 ],
 "metadata": {
  "kernelspec": {
   "display_name": "Python 3",
   "language": "python",
   "name": "python3"
  },
  "language_info": {
   "codemirror_mode": {
    "name": "ipython",
    "version": 3
   },
   "file_extension": ".py",
   "mimetype": "text/x-python",
   "name": "python",
   "nbconvert_exporter": "python",
   "pygments_lexer": "ipython3",
   "version": "3.11.6"
  }
 },
 "nbformat": 4,
 "nbformat_minor": 2
}
