{
 "cells": [
  {
   "cell_type": "markdown",
   "metadata": {},
   "source": [
    "# ダーティデータに対する処理"
   ]
  },
  {
   "cell_type": "code",
   "execution_count": 1,
   "metadata": {},
   "outputs": [],
   "source": [
    "import pandas as pd\n",
    "import polars as pl\n",
    "import numpy as np"
   ]
  },
  {
   "cell_type": "markdown",
   "metadata": {},
   "source": [
    "## Case1: 半角スペースが入ったフィールドを含むCSV\n",
    "下記のように最初の4フィールドは普通の値だが、5フィールド目はスペースが入った1つの値となっており、  \n",
    "これらをスペースで区切ってフィールドを分け、それぞれのフィールドに対して個別に処理したい場合を考える。  \n",
    "ただし、個別に処理したのち、元通りの形式に戻す必要があるものとする。  \n",
    "(カンマ区切りのまま読み込んでもよいが、5フィールド目の特定位置の値を編集するのが面倒なので結局分けることになる。)  \n",
    "5つ目のフィールドは元々データ長が左から8,8,8,11,3となっていたもので、右詰めでスペースでパディングされているものとする。  \n",
    "\n",
    "例）\n",
    "A,123456,111,,     Red    Blue  Yellow   20190203  1\n",
    "\n",
    "上記のデータに対して以下の操作を行う（操作内容は任意）  \n",
    "* 5フィールド目の左から3つ目の列におけるYellowをBrownに置き換える\n",
    "* 3フィールド目の111を222に置き換える\n",
    "* 2行目の値を10行分複製する。この時、5フィールド目の一番右の値は連番にする。"
   ]
  },
  {
   "cell_type": "markdown",
   "metadata": {},
   "source": [
    "### データ読み込み"
   ]
  },
  {
   "cell_type": "code",
   "execution_count": 2,
   "metadata": {},
   "outputs": [
    {
     "data": {
      "text/html": [
       "<div>\n",
       "<style scoped>\n",
       "    .dataframe tbody tr th:only-of-type {\n",
       "        vertical-align: middle;\n",
       "    }\n",
       "\n",
       "    .dataframe tbody tr th {\n",
       "        vertical-align: top;\n",
       "    }\n",
       "\n",
       "    .dataframe thead th {\n",
       "        text-align: right;\n",
       "    }\n",
       "</style>\n",
       "<table border=\"1\" class=\"dataframe\">\n",
       "  <thead>\n",
       "    <tr style=\"text-align: right;\">\n",
       "      <th></th>\n",
       "      <th>col_1</th>\n",
       "      <th>col_2</th>\n",
       "      <th>col_3</th>\n",
       "      <th>col_4</th>\n",
       "      <th>col_5</th>\n",
       "      <th>col_6</th>\n",
       "      <th>col_7</th>\n",
       "      <th>col_8</th>\n",
       "      <th>col_9</th>\n",
       "      <th>col_10</th>\n",
       "    </tr>\n",
       "  </thead>\n",
       "  <tbody>\n",
       "    <tr>\n",
       "      <th>0</th>\n",
       "      <td>A</td>\n",
       "      <td>123456</td>\n",
       "      <td>111</td>\n",
       "      <td>NaN</td>\n",
       "      <td>NaN</td>\n",
       "      <td>Red</td>\n",
       "      <td>Blue</td>\n",
       "      <td>Yellow</td>\n",
       "      <td>20190203</td>\n",
       "      <td>1</td>\n",
       "    </tr>\n",
       "    <tr>\n",
       "      <th>1</th>\n",
       "      <td>B</td>\n",
       "      <td>234567</td>\n",
       "      <td>111</td>\n",
       "      <td>NaN</td>\n",
       "      <td>NaN</td>\n",
       "      <td>Blue</td>\n",
       "      <td>Red</td>\n",
       "      <td>Yellow</td>\n",
       "      <td>20190204</td>\n",
       "      <td>2</td>\n",
       "    </tr>\n",
       "    <tr>\n",
       "      <th>2</th>\n",
       "      <td>B</td>\n",
       "      <td>345678</td>\n",
       "      <td>111</td>\n",
       "      <td>NaN</td>\n",
       "      <td>NaN</td>\n",
       "      <td>Red</td>\n",
       "      <td>Yellow</td>\n",
       "      <td>Yellow</td>\n",
       "      <td>20190205</td>\n",
       "      <td>3</td>\n",
       "    </tr>\n",
       "  </tbody>\n",
       "</table>\n",
       "</div>"
      ],
      "text/plain": [
       "  col_1   col_2 col_3 col_4 col_5 col_6   col_7   col_8     col_9  col_10\n",
       "0     A  123456   111   NaN   NaN   Red    Blue  Yellow  20190203       1\n",
       "1     B  234567   111   NaN   NaN  Blue     Red  Yellow  20190204       2\n",
       "2     B  345678   111   NaN   NaN   Red  Yellow  Yellow  20190205       3"
      ]
     },
     "execution_count": 2,
     "metadata": {},
     "output_type": "execute_result"
    }
   ],
   "source": [
    "# polarsではregexによる分割はできないので、pandasを用いる。\n",
    "# engine='python'を指定しないと、regexを認識できないという警告が出る。\n",
    "col_names = [f'col_{i}' for i in range(1, 11)]\n",
    "data_type = {\n",
    "    'col_1': str,\n",
    "    'col_2': str,\n",
    "    'col_3': str,\n",
    "    'col_4': str,\n",
    "    'col_5': str,\n",
    "    'col_6': str,\n",
    "    'col_7': str,\n",
    "    'col_8': str,\n",
    "    'col_9': str,\n",
    "    'col_10': int,\n",
    "}\n",
    "# ,|\\s+でカンマまたは１つ以上のスペースで区切る\n",
    "df_pd = pd.read_csv('input/dirty_data_1.csv', sep=',|\\s+', index_col=None, engine='python', names=col_names, dtype=data_type)\n",
    "df_pd"
   ]
  },
  {
   "cell_type": "code",
   "execution_count": 3,
   "metadata": {},
   "outputs": [
    {
     "data": {
      "text/html": [
       "<div>\n",
       "<style scoped>\n",
       "    .dataframe tbody tr th:only-of-type {\n",
       "        vertical-align: middle;\n",
       "    }\n",
       "\n",
       "    .dataframe tbody tr th {\n",
       "        vertical-align: top;\n",
       "    }\n",
       "\n",
       "    .dataframe thead th {\n",
       "        text-align: right;\n",
       "    }\n",
       "</style>\n",
       "<table border=\"1\" class=\"dataframe\">\n",
       "  <thead>\n",
       "    <tr style=\"text-align: right;\">\n",
       "      <th></th>\n",
       "      <th>col_1</th>\n",
       "      <th>col_2</th>\n",
       "      <th>col_3</th>\n",
       "      <th>col_4</th>\n",
       "      <th>col_6</th>\n",
       "      <th>col_7</th>\n",
       "      <th>col_8</th>\n",
       "      <th>col_9</th>\n",
       "      <th>col_10</th>\n",
       "    </tr>\n",
       "  </thead>\n",
       "  <tbody>\n",
       "    <tr>\n",
       "      <th>0</th>\n",
       "      <td>A</td>\n",
       "      <td>123456</td>\n",
       "      <td>111</td>\n",
       "      <td>NaN</td>\n",
       "      <td>Red</td>\n",
       "      <td>Blue</td>\n",
       "      <td>Yellow</td>\n",
       "      <td>20190203</td>\n",
       "      <td>1</td>\n",
       "    </tr>\n",
       "    <tr>\n",
       "      <th>1</th>\n",
       "      <td>B</td>\n",
       "      <td>234567</td>\n",
       "      <td>111</td>\n",
       "      <td>NaN</td>\n",
       "      <td>Blue</td>\n",
       "      <td>Red</td>\n",
       "      <td>Yellow</td>\n",
       "      <td>20190204</td>\n",
       "      <td>2</td>\n",
       "    </tr>\n",
       "    <tr>\n",
       "      <th>2</th>\n",
       "      <td>B</td>\n",
       "      <td>345678</td>\n",
       "      <td>111</td>\n",
       "      <td>NaN</td>\n",
       "      <td>Red</td>\n",
       "      <td>Yellow</td>\n",
       "      <td>Yellow</td>\n",
       "      <td>20190205</td>\n",
       "      <td>3</td>\n",
       "    </tr>\n",
       "  </tbody>\n",
       "</table>\n",
       "</div>"
      ],
      "text/plain": [
       "  col_1   col_2 col_3 col_4 col_6   col_7   col_8     col_9  col_10\n",
       "0     A  123456   111   NaN   Red    Blue  Yellow  20190203       1\n",
       "1     B  234567   111   NaN  Blue     Red  Yellow  20190204       2\n",
       "2     B  345678   111   NaN   Red  Yellow  Yellow  20190205       3"
      ]
     },
     "execution_count": 3,
     "metadata": {},
     "output_type": "execute_result"
    }
   ],
   "source": [
    "# 不要なカラム削除\n",
    "df_pd.drop(['col_5'], axis=1, inplace=True)\n",
    "df_pd"
   ]
  },
  {
   "cell_type": "markdown",
   "metadata": {},
   "source": [
    "### データに対する編集操作（任意）\n",
    "* col_8のYellowをBrownに置き換える\n",
    "* col_3の111を222に置き換える\n",
    "* 2行目の値を10行分複製する。この時、col_10の値は連番にする。"
   ]
  },
  {
   "cell_type": "code",
   "execution_count": 4,
   "metadata": {},
   "outputs": [],
   "source": [
    "# Dataframeの操作はpolarsでやる\n",
    "df_pl = pl.from_pandas(df_pd)\n",
    "target_col1 = 'col_8'\n",
    "target_col2 = 'col_2'\n",
    "\n",
    "df_pl = df_pl.with_columns(\n",
    "    pl.when(pl.col(target_col1) == 'Yellow').then('Brown').otherwise(pl.col(target_col1)).alias(target_col1),\n",
    "    pl.when(pl.col(target_col2) == '111').then('222').otherwise(pl.col(target_col2)).alias(target_col2),\n",
    ")"
   ]
  },
  {
   "cell_type": "code",
   "execution_count": 5,
   "metadata": {},
   "outputs": [],
   "source": [
    "# 2行目の複製\n",
    "replicate_row = df_pl[1]\n",
    "df_result = df_pl\n",
    "for i in range(1, 11):\n",
    "    df_result = pl.concat([df_result, replicate_row])\n",
    "\n",
    "\n",
    "# col_9を連番にする\n",
    "df_result = df_result.with_row_count(offset=1).with_columns(\n",
    "    (pl.col('row_nr')).cast(pl.Utf8).alias('col_10')\n",
    ").drop('row_nr')"
   ]
  },
  {
   "cell_type": "code",
   "execution_count": 6,
   "metadata": {},
   "outputs": [
    {
     "data": {
      "text/html": [
       "<div><style>\n",
       ".dataframe > thead > tr > th,\n",
       ".dataframe > tbody > tr > td {\n",
       "  text-align: right;\n",
       "}\n",
       "</style>\n",
       "<small>shape: (13, 9)</small><table border=\"1\" class=\"dataframe\"><thead><tr><th>col_1</th><th>col_2</th><th>col_3</th><th>col_4</th><th>col_6</th><th>col_7</th><th>col_8</th><th>col_9</th><th>col_10</th></tr><tr><td>str</td><td>str</td><td>str</td><td>null</td><td>str</td><td>str</td><td>str</td><td>str</td><td>str</td></tr></thead><tbody><tr><td>&quot;A&quot;</td><td>&quot;123456&quot;</td><td>&quot;111&quot;</td><td>null</td><td>&quot;Red&quot;</td><td>&quot;Blue&quot;</td><td>&quot;Brown&quot;</td><td>&quot;20190203&quot;</td><td>&quot;1&quot;</td></tr><tr><td>&quot;B&quot;</td><td>&quot;234567&quot;</td><td>&quot;111&quot;</td><td>null</td><td>&quot;Blue&quot;</td><td>&quot;Red&quot;</td><td>&quot;Brown&quot;</td><td>&quot;20190204&quot;</td><td>&quot;2&quot;</td></tr><tr><td>&quot;B&quot;</td><td>&quot;345678&quot;</td><td>&quot;111&quot;</td><td>null</td><td>&quot;Red&quot;</td><td>&quot;Yellow&quot;</td><td>&quot;Brown&quot;</td><td>&quot;20190205&quot;</td><td>&quot;3&quot;</td></tr><tr><td>&quot;B&quot;</td><td>&quot;234567&quot;</td><td>&quot;111&quot;</td><td>null</td><td>&quot;Blue&quot;</td><td>&quot;Red&quot;</td><td>&quot;Brown&quot;</td><td>&quot;20190204&quot;</td><td>&quot;4&quot;</td></tr><tr><td>&quot;B&quot;</td><td>&quot;234567&quot;</td><td>&quot;111&quot;</td><td>null</td><td>&quot;Blue&quot;</td><td>&quot;Red&quot;</td><td>&quot;Brown&quot;</td><td>&quot;20190204&quot;</td><td>&quot;5&quot;</td></tr><tr><td>&quot;B&quot;</td><td>&quot;234567&quot;</td><td>&quot;111&quot;</td><td>null</td><td>&quot;Blue&quot;</td><td>&quot;Red&quot;</td><td>&quot;Brown&quot;</td><td>&quot;20190204&quot;</td><td>&quot;6&quot;</td></tr><tr><td>&quot;B&quot;</td><td>&quot;234567&quot;</td><td>&quot;111&quot;</td><td>null</td><td>&quot;Blue&quot;</td><td>&quot;Red&quot;</td><td>&quot;Brown&quot;</td><td>&quot;20190204&quot;</td><td>&quot;7&quot;</td></tr><tr><td>&quot;B&quot;</td><td>&quot;234567&quot;</td><td>&quot;111&quot;</td><td>null</td><td>&quot;Blue&quot;</td><td>&quot;Red&quot;</td><td>&quot;Brown&quot;</td><td>&quot;20190204&quot;</td><td>&quot;8&quot;</td></tr><tr><td>&quot;B&quot;</td><td>&quot;234567&quot;</td><td>&quot;111&quot;</td><td>null</td><td>&quot;Blue&quot;</td><td>&quot;Red&quot;</td><td>&quot;Brown&quot;</td><td>&quot;20190204&quot;</td><td>&quot;9&quot;</td></tr><tr><td>&quot;B&quot;</td><td>&quot;234567&quot;</td><td>&quot;111&quot;</td><td>null</td><td>&quot;Blue&quot;</td><td>&quot;Red&quot;</td><td>&quot;Brown&quot;</td><td>&quot;20190204&quot;</td><td>&quot;10&quot;</td></tr><tr><td>&quot;B&quot;</td><td>&quot;234567&quot;</td><td>&quot;111&quot;</td><td>null</td><td>&quot;Blue&quot;</td><td>&quot;Red&quot;</td><td>&quot;Brown&quot;</td><td>&quot;20190204&quot;</td><td>&quot;11&quot;</td></tr><tr><td>&quot;B&quot;</td><td>&quot;234567&quot;</td><td>&quot;111&quot;</td><td>null</td><td>&quot;Blue&quot;</td><td>&quot;Red&quot;</td><td>&quot;Brown&quot;</td><td>&quot;20190204&quot;</td><td>&quot;12&quot;</td></tr><tr><td>&quot;B&quot;</td><td>&quot;234567&quot;</td><td>&quot;111&quot;</td><td>null</td><td>&quot;Blue&quot;</td><td>&quot;Red&quot;</td><td>&quot;Brown&quot;</td><td>&quot;20190204&quot;</td><td>&quot;13&quot;</td></tr></tbody></table></div>"
      ],
      "text/plain": [
       "shape: (13, 9)\n",
       "┌───────┬────────┬───────┬───────┬───┬────────┬───────┬──────────┬────────┐\n",
       "│ col_1 ┆ col_2  ┆ col_3 ┆ col_4 ┆ … ┆ col_7  ┆ col_8 ┆ col_9    ┆ col_10 │\n",
       "│ ---   ┆ ---    ┆ ---   ┆ ---   ┆   ┆ ---    ┆ ---   ┆ ---      ┆ ---    │\n",
       "│ str   ┆ str    ┆ str   ┆ null  ┆   ┆ str    ┆ str   ┆ str      ┆ str    │\n",
       "╞═══════╪════════╪═══════╪═══════╪═══╪════════╪═══════╪══════════╪════════╡\n",
       "│ A     ┆ 123456 ┆ 111   ┆ null  ┆ … ┆ Blue   ┆ Brown ┆ 20190203 ┆ 1      │\n",
       "│ B     ┆ 234567 ┆ 111   ┆ null  ┆ … ┆ Red    ┆ Brown ┆ 20190204 ┆ 2      │\n",
       "│ B     ┆ 345678 ┆ 111   ┆ null  ┆ … ┆ Yellow ┆ Brown ┆ 20190205 ┆ 3      │\n",
       "│ B     ┆ 234567 ┆ 111   ┆ null  ┆ … ┆ Red    ┆ Brown ┆ 20190204 ┆ 4      │\n",
       "│ …     ┆ …      ┆ …     ┆ …     ┆ … ┆ …      ┆ …     ┆ …        ┆ …      │\n",
       "│ B     ┆ 234567 ┆ 111   ┆ null  ┆ … ┆ Red    ┆ Brown ┆ 20190204 ┆ 10     │\n",
       "│ B     ┆ 234567 ┆ 111   ┆ null  ┆ … ┆ Red    ┆ Brown ┆ 20190204 ┆ 11     │\n",
       "│ B     ┆ 234567 ┆ 111   ┆ null  ┆ … ┆ Red    ┆ Brown ┆ 20190204 ┆ 12     │\n",
       "│ B     ┆ 234567 ┆ 111   ┆ null  ┆ … ┆ Red    ┆ Brown ┆ 20190204 ┆ 13     │\n",
       "└───────┴────────┴───────┴───────┴───┴────────┴───────┴──────────┴────────┘"
      ]
     },
     "execution_count": 6,
     "metadata": {},
     "output_type": "execute_result"
    }
   ],
   "source": [
    "df_result"
   ]
  },
  {
   "cell_type": "markdown",
   "metadata": {},
   "source": [
    "### CSVへの書き出し\n",
    "元のフォーマットを維持して書きだすためにcol_6～col_10は右詰め・スペースでパディングする必要がある。"
   ]
  },
  {
   "cell_type": "code",
   "execution_count": 7,
   "metadata": {},
   "outputs": [],
   "source": [
    "# スペースでパディングする用の辞書\n",
    "data_len = {\n",
    "    'col_6': 8,\n",
    "    'col_7': 8,\n",
    "    'col_8': 8,\n",
    "    'col_9': 11,\n",
    "    'col_10': 3\n",
    "}"
   ]
  },
  {
   "cell_type": "code",
   "execution_count": 8,
   "metadata": {},
   "outputs": [],
   "source": [
    "# 各列のデータ長になるようにスペースでパディング\n",
    "for key, val in data_len.items():\n",
    "    df_result = df_result.with_columns(\n",
    "        pl.col(key).str.rjust(val, ' ').alias(key)\n",
    "    )"
   ]
  },
  {
   "cell_type": "code",
   "execution_count": 9,
   "metadata": {},
   "outputs": [
    {
     "data": {
      "text/html": [
       "<div><style>\n",
       ".dataframe > thead > tr > th,\n",
       ".dataframe > tbody > tr > td {\n",
       "  text-align: right;\n",
       "}\n",
       "</style>\n",
       "<small>shape: (3, 9)</small><table border=\"1\" class=\"dataframe\"><thead><tr><th>col_1</th><th>col_2</th><th>col_3</th><th>col_4</th><th>col_6</th><th>col_7</th><th>col_8</th><th>col_9</th><th>col_10</th></tr><tr><td>str</td><td>str</td><td>str</td><td>null</td><td>str</td><td>str</td><td>str</td><td>str</td><td>str</td></tr></thead><tbody><tr><td>&quot;A&quot;</td><td>&quot;123456&quot;</td><td>&quot;111&quot;</td><td>null</td><td>&quot;     Red&quot;</td><td>&quot;    Blue&quot;</td><td>&quot;   Brown&quot;</td><td>&quot;   20190203&quot;</td><td>&quot;  1&quot;</td></tr><tr><td>&quot;B&quot;</td><td>&quot;234567&quot;</td><td>&quot;111&quot;</td><td>null</td><td>&quot;    Blue&quot;</td><td>&quot;     Red&quot;</td><td>&quot;   Brown&quot;</td><td>&quot;   20190204&quot;</td><td>&quot;  2&quot;</td></tr><tr><td>&quot;B&quot;</td><td>&quot;345678&quot;</td><td>&quot;111&quot;</td><td>null</td><td>&quot;     Red&quot;</td><td>&quot;  Yellow&quot;</td><td>&quot;   Brown&quot;</td><td>&quot;   20190205&quot;</td><td>&quot;  3&quot;</td></tr></tbody></table></div>"
      ],
      "text/plain": [
       "shape: (3, 9)\n",
       "┌───────┬────────┬───────┬───────┬───┬──────────┬──────────┬─────────────┬────────┐\n",
       "│ col_1 ┆ col_2  ┆ col_3 ┆ col_4 ┆ … ┆ col_7    ┆ col_8    ┆ col_9       ┆ col_10 │\n",
       "│ ---   ┆ ---    ┆ ---   ┆ ---   ┆   ┆ ---      ┆ ---      ┆ ---         ┆ ---    │\n",
       "│ str   ┆ str    ┆ str   ┆ null  ┆   ┆ str      ┆ str      ┆ str         ┆ str    │\n",
       "╞═══════╪════════╪═══════╪═══════╪═══╪══════════╪══════════╪═════════════╪════════╡\n",
       "│ A     ┆ 123456 ┆ 111   ┆ null  ┆ … ┆     Blue ┆    Brown ┆    20190203 ┆   1    │\n",
       "│ B     ┆ 234567 ┆ 111   ┆ null  ┆ … ┆      Red ┆    Brown ┆    20190204 ┆   2    │\n",
       "│ B     ┆ 345678 ┆ 111   ┆ null  ┆ … ┆   Yellow ┆    Brown ┆    20190205 ┆   3    │\n",
       "└───────┴────────┴───────┴───────┴───┴──────────┴──────────┴─────────────┴────────┘"
      ]
     },
     "execution_count": 9,
     "metadata": {},
     "output_type": "execute_result"
    }
   ],
   "source": [
    "df_result.head(3)"
   ]
  },
  {
   "cell_type": "code",
   "execution_count": 10,
   "metadata": {},
   "outputs": [
    {
     "data": {
      "text/plain": [
       "3"
      ]
     },
     "execution_count": 10,
     "metadata": {},
     "output_type": "execute_result"
    }
   ],
   "source": [
    "len(df_result['col_10'][0])"
   ]
  },
  {
   "cell_type": "markdown",
   "metadata": {},
   "source": [
    "パッと見てパディングされていないように見えるが、データ長は確かに合っている。  \n",
    "気になるようであればスペース等でパディングしておいて、csv側で置換するのもあり。"
   ]
  },
  {
   "cell_type": "code",
   "execution_count": 11,
   "metadata": {},
   "outputs": [],
   "source": [
    "# 分割されたカラムのまま出力してしまうとカンマが入るので、元々のスペースが入った形に戻す。\n",
    "merge_cols = [f'col_{i}' for i in range(6, 11)]\n",
    "expr = ''\n",
    "for col in merge_cols:\n",
    "    # カラム結合用のexpr\n",
    "    expr += pl.col(col)\n",
    "\n",
    "\n",
    "# 元に戻す＆分割されたカラムは削除\n",
    "df_result_csv = df_result.with_columns(\n",
    "    expr.alias('dirty_cols')\n",
    ").drop(merge_cols)\n"
   ]
  },
  {
   "cell_type": "code",
   "execution_count": 13,
   "metadata": {},
   "outputs": [],
   "source": [
    "# CSVへ書き出し\n",
    "df_result_csv.write_csv('output/dirty_data_1_mod.csv', has_header=False)"
   ]
  }
 ],
 "metadata": {
  "kernelspec": {
   "display_name": "Python 3 (ipykernel)",
   "language": "python",
   "name": "python3"
  },
  "orig_nbformat": 4
 },
 "nbformat": 4,
 "nbformat_minor": 2
}
