{
 "cells": [
  {
   "cell_type": "markdown",
   "metadata": {},
   "source": [
    "# <a id='toc1_'></a>[Pandasによる時系列データの取り扱い](#toc0_)\n",
    "面倒な時系列データをPandasで取り扱う方法をメモしておく。  \n",
    "\n",
    "* 参考： \n",
    "  * https://note.nkmk.me/python-pandas-datetime-timestamp/"
   ]
  },
  {
   "cell_type": "markdown",
   "metadata": {},
   "source": [
    "**Table of contents**<a id='toc0_'></a>    \n",
    "- [Pandasによる時系列データの取り扱い](#toc1_)    \n",
    "  - [様々な形式で表現された時刻データの取り扱い](#toc1_1_)    \n",
    "    - [- 時刻データが標準的なフォーマットの場合](#toc1_1_1_)    \n",
    "    - [- 数字の羅列になっている場合](#toc1_1_2_)    \n",
    "    - [- 年月日と時刻が別のカラムの場合](#toc1_1_3_)    \n",
    "    - [- さらにカラムが分けられているケース](#toc1_1_4_)    \n",
    "    - [- エポック秒の変換](#toc1_1_5_)    \n",
    "  - [時刻でgroupbyして統計量を求める](#toc1_2_)    \n",
    "  - [ナノ秒レベルの時刻同士で2つのテーブルを紐づけ](#toc1_3_)    \n",
    "  - [任意の時間範囲でフィルタリング](#toc1_4_)    \n",
    "  - [時刻をx軸としてグラフを描いて軸範囲を操作する](#toc1_5_)    \n",
    "\n",
    "<!-- vscode-jupyter-toc-config\n",
    "\tnumbering=false\n",
    "\tanchor=true\n",
    "\tflat=false\n",
    "\tminLevel=1\n",
    "\tmaxLevel=6\n",
    "\t/vscode-jupyter-toc-config -->\n",
    "<!-- THIS CELL WILL BE REPLACED ON TOC UPDATE. DO NOT WRITE YOUR TEXT IN THIS CELL -->"
   ]
  },
  {
   "cell_type": "code",
   "execution_count": 2,
   "metadata": {},
   "outputs": [],
   "source": [
    "import pandas as pd\n",
    "import seaborn as sns\n",
    "import numpy as np\n",
    "import datetime\n",
    "import time\n",
    "import random\n",
    "import os\n",
    "import math\n",
    "import itertools\n",
    "from pathlib import Path\n",
    "from glob import glob\n",
    "from sklearn.preprocessing import StandardScaler, LabelEncoder\n",
    "\n",
    "%matplotlib inline\n",
    "import matplotlib.pyplot as plt\n",
    "import matplotlib.dates as mdates"
   ]
  },
  {
   "cell_type": "markdown",
   "metadata": {},
   "source": [
    "## <a id='toc1_1_'></a>[様々な形式で表現された時刻データの取り扱い](#toc0_)\n",
    "ログの分析などではナノ秒まで情報が必要な場合があるので、  \n",
    "適宜ナノ秒まで含めて取り扱う。  \n",
    "年月日がいらないケースでも基本的にdatetimeに変換しておくと便利。"
   ]
  },
  {
   "cell_type": "markdown",
   "metadata": {},
   "source": [
    "### <a id='toc1_1_1_'></a>[- 時刻データが標準的なフォーマットの場合](#toc0_)\n",
    "下記のようなデータ形式の場合、データ整形の必要なく変換できる。\n",
    "* yyyy-mm-dd HH:MM:SS.f\n",
    "* yyyy/mm/dd HH:MM:SS.f\n",
    "* yyyy-mm-dd HHMMSS.f  "
   ]
  },
  {
   "cell_type": "code",
   "execution_count": 2,
   "metadata": {},
   "outputs": [],
   "source": [
    "df = pd.DataFrame({'DateTime_1': \n",
    "         ['2020-01-01 16:10:11.123456789',\n",
    "          '2020-01-01 17:11:22.123456790',\n",
    "          '2020-01-01 18:12:33.123456791'],\n",
    "          'DateTime_2': \n",
    "         ['2020/01/01 16:10:11.123456789',\n",
    "          '2020/01/01 17:11:22.123456790',\n",
    "          '2020/01/01 18:12:33.123456791'],\n",
    "          'DateTime_3': \n",
    "         ['2020/01/01 161011.123456789',\n",
    "          '2020/01/01 171122.123456790',\n",
    "          '2020/01/01 181233.123456791'],\n",
    "          'DateTime_4': \n",
    "         ['2020/01/01 161011.123456',\n",
    "          '2020/01/01 171122.123456790',\n",
    "          '2020/01/01 181233.123'],\n",
    "        })"
   ]
  },
  {
   "cell_type": "code",
   "execution_count": 3,
   "metadata": {},
   "outputs": [
    {
     "name": "stderr",
     "output_type": "stream",
     "text": [
      "/tmp/ipykernel_25815/393033015.py:3: UserWarning: Could not infer format, so each element will be parsed individually, falling back to `dateutil`. To ensure parsing is consistent and as-expected, please specify a format.\n",
      "  df[f'DateTime_{i+1}'] = pd.to_datetime(df[col])\n",
      "/tmp/ipykernel_25815/393033015.py:3: UserWarning: Could not infer format, so each element will be parsed individually, falling back to `dateutil`. To ensure parsing is consistent and as-expected, please specify a format.\n",
      "  df[f'DateTime_{i+1}'] = pd.to_datetime(df[col])\n"
     ]
    }
   ],
   "source": [
    "# 各列をdatetime型に変換する\n",
    "for i, col in enumerate(df.columns):\n",
    "    df[f'DateTime_{i+1}'] = pd.to_datetime(df[col])"
   ]
  },
  {
   "cell_type": "code",
   "execution_count": 5,
   "metadata": {},
   "outputs": [
    {
     "data": {
      "text/html": [
       "<div>\n",
       "<style scoped>\n",
       "    .dataframe tbody tr th:only-of-type {\n",
       "        vertical-align: middle;\n",
       "    }\n",
       "\n",
       "    .dataframe tbody tr th {\n",
       "        vertical-align: top;\n",
       "    }\n",
       "\n",
       "    .dataframe thead th {\n",
       "        text-align: right;\n",
       "    }\n",
       "</style>\n",
       "<table border=\"1\" class=\"dataframe\">\n",
       "  <thead>\n",
       "    <tr style=\"text-align: right;\">\n",
       "      <th></th>\n",
       "      <th>DateTime_1</th>\n",
       "      <th>DateTime_2</th>\n",
       "      <th>DateTime_3</th>\n",
       "      <th>DateTime_4</th>\n",
       "    </tr>\n",
       "  </thead>\n",
       "  <tbody>\n",
       "    <tr>\n",
       "      <th>0</th>\n",
       "      <td>2020-01-01 16:10:11.123456789</td>\n",
       "      <td>2020-01-01 16:10:11.123456789</td>\n",
       "      <td>2020-01-01 16:10:11.123456789</td>\n",
       "      <td>2020-01-01 16:10:11.123456000</td>\n",
       "    </tr>\n",
       "    <tr>\n",
       "      <th>1</th>\n",
       "      <td>2020-01-01 17:11:22.123456790</td>\n",
       "      <td>2020-01-01 17:11:22.123456790</td>\n",
       "      <td>2020-01-01 17:11:22.123456790</td>\n",
       "      <td>2020-01-01 17:11:22.123456790</td>\n",
       "    </tr>\n",
       "    <tr>\n",
       "      <th>2</th>\n",
       "      <td>2020-01-01 18:12:33.123456791</td>\n",
       "      <td>2020-01-01 18:12:33.123456791</td>\n",
       "      <td>2020-01-01 18:12:33.123456791</td>\n",
       "      <td>2020-01-01 18:12:33.123000000</td>\n",
       "    </tr>\n",
       "  </tbody>\n",
       "</table>\n",
       "</div>"
      ],
      "text/plain": [
       "                     DateTime_1                    DateTime_2  \\\n",
       "0 2020-01-01 16:10:11.123456789 2020-01-01 16:10:11.123456789   \n",
       "1 2020-01-01 17:11:22.123456790 2020-01-01 17:11:22.123456790   \n",
       "2 2020-01-01 18:12:33.123456791 2020-01-01 18:12:33.123456791   \n",
       "\n",
       "                     DateTime_3                    DateTime_4  \n",
       "0 2020-01-01 16:10:11.123456789 2020-01-01 16:10:11.123456000  \n",
       "1 2020-01-01 17:11:22.123456790 2020-01-01 17:11:22.123456790  \n",
       "2 2020-01-01 18:12:33.123456791 2020-01-01 18:12:33.123000000  "
      ]
     },
     "execution_count": 5,
     "metadata": {},
     "output_type": "execute_result"
    }
   ],
   "source": [
    "df.head(3)"
   ]
  },
  {
   "cell_type": "markdown",
   "metadata": {},
   "source": [
    "全て同じ形式に変換される。  \n",
    "また、秒未満は必ずしも列内で桁がそろっている必要はない。  \n",
    "この場合、最も桁が長い行の値に桁数が揃うように左詰めでゼロパディングされる。"
   ]
  },
  {
   "cell_type": "code",
   "execution_count": 7,
   "metadata": {},
   "outputs": [
    {
     "name": "stdout",
     "output_type": "stream",
     "text": [
      "<class 'pandas.core.frame.DataFrame'>\n",
      "RangeIndex: 3 entries, 0 to 2\n",
      "Data columns (total 4 columns):\n",
      " #   Column      Non-Null Count  Dtype         \n",
      "---  ------      --------------  -----         \n",
      " 0   DateTime_1  3 non-null      datetime64[ns]\n",
      " 1   DateTime_2  3 non-null      datetime64[ns]\n",
      " 2   DateTime_3  3 non-null      datetime64[ns]\n",
      " 3   DateTime_4  3 non-null      datetime64[ns]\n",
      "dtypes: datetime64[ns](4)\n",
      "memory usage: 228.0 bytes\n"
     ]
    }
   ],
   "source": [
    "df.info()"
   ]
  },
  {
   "cell_type": "markdown",
   "metadata": {},
   "source": [
    "下記一つ目のように年月日部分がなくてもformatで適切に指定すれば、datetime型に変換できる。  \n",
    "この際、年月日は適当な値(1900-01-01？)で補完される。  \n",
    "二つ目のような場合も'%Y-%m-%d %H%M%S%f'をformatに指定すれば変換可能。  "
   ]
  },
  {
   "cell_type": "code",
   "execution_count": 8,
   "metadata": {},
   "outputs": [],
   "source": [
    "df = pd.DataFrame({'DateTime': \n",
    "         ['161011.123456789',\n",
    "          '171122.123456790',\n",
    "          '181233.123456791'],\n",
    "          'DateTime_1': \n",
    "         ['2020-01-01 161011123456789',\n",
    "          '2020-01-01 171122123456790',\n",
    "          '2020-01-01 181233123456791'],\n",
    "        })"
   ]
  },
  {
   "cell_type": "code",
   "execution_count": 9,
   "metadata": {},
   "outputs": [
    {
     "data": {
      "text/plain": [
       "0   1900-01-01 16:10:11.123456789\n",
       "1   1900-01-01 17:11:22.123456790\n",
       "2   1900-01-01 18:12:33.123456791\n",
       "Name: DateTime, dtype: datetime64[ns]"
      ]
     },
     "execution_count": 9,
     "metadata": {},
     "output_type": "execute_result"
    }
   ],
   "source": [
    "pd.to_datetime(df['DateTime'], format='%H%M%S.%f')"
   ]
  },
  {
   "cell_type": "code",
   "execution_count": 10,
   "metadata": {},
   "outputs": [
    {
     "data": {
      "text/plain": [
       "0   2020-01-01 16:10:11.123456789\n",
       "1   2020-01-01 17:11:22.123456790\n",
       "2   2020-01-01 18:12:33.123456791\n",
       "Name: DateTime_1, dtype: datetime64[ns]"
      ]
     },
     "execution_count": 10,
     "metadata": {},
     "output_type": "execute_result"
    }
   ],
   "source": [
    "pd.to_datetime(df['DateTime_1'], format='%Y-%m-%d %H%M%S%f')"
   ]
  },
  {
   "cell_type": "markdown",
   "metadata": {},
   "source": [
    "後はreplaceで任意の日付にしてしまえばよい。"
   ]
  },
  {
   "cell_type": "code",
   "execution_count": 11,
   "metadata": {},
   "outputs": [
    {
     "data": {
      "text/plain": [
       "Timestamp('2023-10-09 16:10:11.123456789')"
      ]
     },
     "execution_count": 11,
     "metadata": {},
     "output_type": "execute_result"
    }
   ],
   "source": [
    "# 今日の日付を取得\n",
    "now_year = datetime.datetime.now().year\n",
    "now_month = datetime.datetime.now().month\n",
    "now_day = datetime.datetime.now().day\n",
    "pd.to_datetime(df['DateTime'], format='%H%M%S.%f')[0].replace(year=now_year, month=now_month, day=now_day)"
   ]
  },
  {
   "cell_type": "markdown",
   "metadata": {},
   "source": [
    "### <a id='toc1_1_2_'></a>[- 数字の羅列になっている場合](#toc0_)\n",
    "* yyyymmddHHMMSSf\n",
    "* HHMMSSf"
   ]
  },
  {
   "cell_type": "code",
   "execution_count": 12,
   "metadata": {},
   "outputs": [],
   "source": [
    "df = pd.DataFrame({'DateTime_1': \n",
    "         ['20200101131110123456789',\n",
    "          '20200101142211123456790',\n",
    "          '20200101153312123456791'],\n",
    "          'DateTime_2': \n",
    "         ['131110123456789',\n",
    "          '142211123456790',\n",
    "          '153312123456791']\n",
    "        })"
   ]
  },
  {
   "cell_type": "code",
   "execution_count": 13,
   "metadata": {},
   "outputs": [
    {
     "data": {
      "text/html": [
       "<div>\n",
       "<style scoped>\n",
       "    .dataframe tbody tr th:only-of-type {\n",
       "        vertical-align: middle;\n",
       "    }\n",
       "\n",
       "    .dataframe tbody tr th {\n",
       "        vertical-align: top;\n",
       "    }\n",
       "\n",
       "    .dataframe thead th {\n",
       "        text-align: right;\n",
       "    }\n",
       "</style>\n",
       "<table border=\"1\" class=\"dataframe\">\n",
       "  <thead>\n",
       "    <tr style=\"text-align: right;\">\n",
       "      <th></th>\n",
       "      <th>DateTime_1</th>\n",
       "      <th>DateTime_2</th>\n",
       "    </tr>\n",
       "  </thead>\n",
       "  <tbody>\n",
       "    <tr>\n",
       "      <th>0</th>\n",
       "      <td>20200101131110123456789</td>\n",
       "      <td>131110123456789</td>\n",
       "    </tr>\n",
       "    <tr>\n",
       "      <th>1</th>\n",
       "      <td>20200101142211123456790</td>\n",
       "      <td>142211123456790</td>\n",
       "    </tr>\n",
       "    <tr>\n",
       "      <th>2</th>\n",
       "      <td>20200101153312123456791</td>\n",
       "      <td>153312123456791</td>\n",
       "    </tr>\n",
       "  </tbody>\n",
       "</table>\n",
       "</div>"
      ],
      "text/plain": [
       "                DateTime_1       DateTime_2\n",
       "0  20200101131110123456789  131110123456789\n",
       "1  20200101142211123456790  142211123456790\n",
       "2  20200101153312123456791  153312123456791"
      ]
     },
     "execution_count": 13,
     "metadata": {},
     "output_type": "execute_result"
    }
   ],
   "source": [
    "df"
   ]
  },
  {
   "cell_type": "code",
   "execution_count": 14,
   "metadata": {},
   "outputs": [
    {
     "data": {
      "text/plain": [
       "0   2020-01-01 13:11:10.123456789\n",
       "1   2020-01-01 14:22:11.123456790\n",
       "2   2020-01-01 15:33:12.123456791\n",
       "Name: DateTime_1, dtype: datetime64[ns]"
      ]
     },
     "execution_count": 14,
     "metadata": {},
     "output_type": "execute_result"
    }
   ],
   "source": [
    "pd.to_datetime(df['DateTime_1'], format='%Y%m%d%H%M%S%f')"
   ]
  },
  {
   "cell_type": "code",
   "execution_count": 15,
   "metadata": {},
   "outputs": [
    {
     "data": {
      "text/plain": [
       "0   1900-01-01 13:11:10.123456789\n",
       "1   1900-01-01 14:22:11.123456790\n",
       "2   1900-01-01 15:33:12.123456791\n",
       "Name: DateTime_2, dtype: datetime64[ns]"
      ]
     },
     "execution_count": 15,
     "metadata": {},
     "output_type": "execute_result"
    }
   ],
   "source": [
    "pd.to_datetime(df['DateTime_2'], format='%H%M%S%f')"
   ]
  },
  {
   "attachments": {},
   "cell_type": "markdown",
   "metadata": {},
   "source": [
    "上記のように書くことで、数字の羅列もDatetime型へ変換可能。  \n",
    ".diff()でひとつ前のレコードとの時刻差を算出できる。"
   ]
  },
  {
   "cell_type": "code",
   "execution_count": 16,
   "metadata": {},
   "outputs": [
    {
     "data": {
      "text/plain": [
       "0                         NaT\n",
       "1   0 days 01:11:01.000000001\n",
       "2   0 days 01:11:01.000000001\n",
       "Name: DateTime_1, dtype: timedelta64[ns]"
      ]
     },
     "execution_count": 16,
     "metadata": {},
     "output_type": "execute_result"
    }
   ],
   "source": [
    "pd.to_datetime(df['DateTime_1'], format='%Y%m%d%H%M%S%f').diff()"
   ]
  },
  {
   "cell_type": "markdown",
   "metadata": {},
   "source": [
    "### <a id='toc1_1_3_'></a>[- 年月日と時刻が別のカラムの場合](#toc0_)"
   ]
  },
  {
   "cell_type": "code",
   "execution_count": 17,
   "metadata": {},
   "outputs": [],
   "source": [
    "df = pd.DataFrame({\n",
    "    'YMD':['20200101',\n",
    "            '20200102',\n",
    "            '20200103'],\n",
    "    'HMSf': ['131205123456789',\n",
    "             '133406123456790',\n",
    "             '142215123456791']\n",
    "        })"
   ]
  },
  {
   "cell_type": "code",
   "execution_count": 18,
   "metadata": {},
   "outputs": [
    {
     "data": {
      "text/html": [
       "<div>\n",
       "<style scoped>\n",
       "    .dataframe tbody tr th:only-of-type {\n",
       "        vertical-align: middle;\n",
       "    }\n",
       "\n",
       "    .dataframe tbody tr th {\n",
       "        vertical-align: top;\n",
       "    }\n",
       "\n",
       "    .dataframe thead th {\n",
       "        text-align: right;\n",
       "    }\n",
       "</style>\n",
       "<table border=\"1\" class=\"dataframe\">\n",
       "  <thead>\n",
       "    <tr style=\"text-align: right;\">\n",
       "      <th></th>\n",
       "      <th>YMD</th>\n",
       "      <th>HMSf</th>\n",
       "    </tr>\n",
       "  </thead>\n",
       "  <tbody>\n",
       "    <tr>\n",
       "      <th>0</th>\n",
       "      <td>20200101</td>\n",
       "      <td>131205123456789</td>\n",
       "    </tr>\n",
       "    <tr>\n",
       "      <th>1</th>\n",
       "      <td>20200102</td>\n",
       "      <td>133406123456790</td>\n",
       "    </tr>\n",
       "    <tr>\n",
       "      <th>2</th>\n",
       "      <td>20200103</td>\n",
       "      <td>142215123456791</td>\n",
       "    </tr>\n",
       "  </tbody>\n",
       "</table>\n",
       "</div>"
      ],
      "text/plain": [
       "        YMD             HMSf\n",
       "0  20200101  131205123456789\n",
       "1  20200102  133406123456790\n",
       "2  20200103  142215123456791"
      ]
     },
     "execution_count": 18,
     "metadata": {},
     "output_type": "execute_result"
    }
   ],
   "source": [
    "df"
   ]
  },
  {
   "cell_type": "code",
   "execution_count": 19,
   "metadata": {},
   "outputs": [
    {
     "data": {
      "text/html": [
       "<div>\n",
       "<style scoped>\n",
       "    .dataframe tbody tr th:only-of-type {\n",
       "        vertical-align: middle;\n",
       "    }\n",
       "\n",
       "    .dataframe tbody tr th {\n",
       "        vertical-align: top;\n",
       "    }\n",
       "\n",
       "    .dataframe thead th {\n",
       "        text-align: right;\n",
       "    }\n",
       "</style>\n",
       "<table border=\"1\" class=\"dataframe\">\n",
       "  <thead>\n",
       "    <tr style=\"text-align: right;\">\n",
       "      <th></th>\n",
       "      <th>YMD</th>\n",
       "      <th>HMSf</th>\n",
       "      <th>YMDHMSf</th>\n",
       "    </tr>\n",
       "  </thead>\n",
       "  <tbody>\n",
       "    <tr>\n",
       "      <th>0</th>\n",
       "      <td>20200101</td>\n",
       "      <td>131205123456789</td>\n",
       "      <td>2020-01-01 13:12:05.123456789</td>\n",
       "    </tr>\n",
       "    <tr>\n",
       "      <th>1</th>\n",
       "      <td>20200102</td>\n",
       "      <td>133406123456790</td>\n",
       "      <td>2020-01-02 13:34:06.123456790</td>\n",
       "    </tr>\n",
       "    <tr>\n",
       "      <th>2</th>\n",
       "      <td>20200103</td>\n",
       "      <td>142215123456791</td>\n",
       "      <td>2020-01-03 14:22:15.123456791</td>\n",
       "    </tr>\n",
       "  </tbody>\n",
       "</table>\n",
       "</div>"
      ],
      "text/plain": [
       "        YMD             HMSf                       YMDHMSf\n",
       "0  20200101  131205123456789 2020-01-01 13:12:05.123456789\n",
       "1  20200102  133406123456790 2020-01-02 13:34:06.123456790\n",
       "2  20200103  142215123456791 2020-01-03 14:22:15.123456791"
      ]
     },
     "execution_count": 19,
     "metadata": {},
     "output_type": "execute_result"
    }
   ],
   "source": [
    "df['YMDHMSf'] = pd.to_datetime(df['YMD'] + df['HMSf'], format='%Y%m%d%H%M%S%f')\n",
    "df"
   ]
  },
  {
   "attachments": {},
   "cell_type": "markdown",
   "metadata": {},
   "source": [
    "上記のようにどちらも文字列として読み込み、結合してからto_datetimeでdatetime型に変換する。"
   ]
  },
  {
   "cell_type": "markdown",
   "metadata": {},
   "source": [
    "### <a id='toc1_1_4_'></a>[- さらにカラムが分けられているケース](#toc0_)"
   ]
  },
  {
   "cell_type": "code",
   "execution_count": 20,
   "metadata": {},
   "outputs": [
    {
     "data": {
      "text/html": [
       "<div>\n",
       "<style scoped>\n",
       "    .dataframe tbody tr th:only-of-type {\n",
       "        vertical-align: middle;\n",
       "    }\n",
       "\n",
       "    .dataframe tbody tr th {\n",
       "        vertical-align: top;\n",
       "    }\n",
       "\n",
       "    .dataframe thead th {\n",
       "        text-align: right;\n",
       "    }\n",
       "</style>\n",
       "<table border=\"1\" class=\"dataframe\">\n",
       "  <thead>\n",
       "    <tr style=\"text-align: right;\">\n",
       "      <th></th>\n",
       "      <th>ymd</th>\n",
       "      <th>hms</th>\n",
       "      <th>ms_us_ns</th>\n",
       "      <th>value</th>\n",
       "    </tr>\n",
       "  </thead>\n",
       "  <tbody>\n",
       "    <tr>\n",
       "      <th>0</th>\n",
       "      <td>2020/1/1</td>\n",
       "      <td>00:00:00</td>\n",
       "      <td>000000111</td>\n",
       "      <td>0.993612</td>\n",
       "    </tr>\n",
       "    <tr>\n",
       "      <th>1</th>\n",
       "      <td>2020/1/1</td>\n",
       "      <td>00:00:00</td>\n",
       "      <td>000100111</td>\n",
       "      <td>0.248432</td>\n",
       "    </tr>\n",
       "    <tr>\n",
       "      <th>2</th>\n",
       "      <td>2020/1/1</td>\n",
       "      <td>00:00:00</td>\n",
       "      <td>000200111</td>\n",
       "      <td>0.252184</td>\n",
       "    </tr>\n",
       "    <tr>\n",
       "      <th>3</th>\n",
       "      <td>2020/1/1</td>\n",
       "      <td>00:00:00</td>\n",
       "      <td>000300111</td>\n",
       "      <td>0.597972</td>\n",
       "    </tr>\n",
       "    <tr>\n",
       "      <th>4</th>\n",
       "      <td>2020/1/1</td>\n",
       "      <td>00:00:00</td>\n",
       "      <td>000400111</td>\n",
       "      <td>0.497804</td>\n",
       "    </tr>\n",
       "  </tbody>\n",
       "</table>\n",
       "</div>"
      ],
      "text/plain": [
       "        ymd       hms   ms_us_ns     value\n",
       "0  2020/1/1  00:00:00  000000111  0.993612\n",
       "1  2020/1/1  00:00:00  000100111  0.248432\n",
       "2  2020/1/1  00:00:00  000200111  0.252184\n",
       "3  2020/1/1  00:00:00  000300111  0.597972\n",
       "4  2020/1/1  00:00:00  000400111  0.497804"
      ]
     },
     "execution_count": 20,
     "metadata": {},
     "output_type": "execute_result"
    }
   ],
   "source": [
    "# sampleデータ読み込み。年月日、時分秒、ms以下はそれぞれ別カラムにしている。\n",
    "dtypes = {\n",
    "    'ymd': str,\n",
    "    'hms': str,\n",
    "    'ms_us_ns': str,\n",
    "    'value': float\n",
    "}\n",
    "df = pd.read_csv('input/time_series/time_series_data_sample_1.csv', dtype=dtypes)\n",
    "df.head()"
   ]
  },
  {
   "cell_type": "code",
   "execution_count": 21,
   "metadata": {},
   "outputs": [
    {
     "name": "stdout",
     "output_type": "stream",
     "text": [
      "<class 'pandas.core.frame.DataFrame'>\n",
      "RangeIndex: 41 entries, 0 to 40\n",
      "Data columns (total 4 columns):\n",
      " #   Column    Non-Null Count  Dtype  \n",
      "---  ------    --------------  -----  \n",
      " 0   ymd       41 non-null     object \n",
      " 1   hms       41 non-null     object \n",
      " 2   ms_us_ns  41 non-null     object \n",
      " 3   value     41 non-null     float64\n",
      "dtypes: float64(1), object(3)\n",
      "memory usage: 1.4+ KB\n"
     ]
    }
   ],
   "source": [
    "df.info()"
   ]
  },
  {
   "attachments": {},
   "cell_type": "markdown",
   "metadata": {},
   "source": [
    "dfに読み込む前にcsvにどのように記録されているか確認し、必要に応じてデータ型を指定して読み込むこと。  \n",
    "上記ではms_us_nsが数字の羅列になっているので、dtypesを指定しないとintになってしまい、先頭の0が抜けてしまう。  \n",
    "また、excelでCSVファイルを開くと勝手に型を置き換えたりして元々のcsvの情報が欠落するので、必ずテキストエディタで開くこと。"
   ]
  },
  {
   "cell_type": "code",
   "execution_count": 22,
   "metadata": {},
   "outputs": [
    {
     "data": {
      "text/html": [
       "<div>\n",
       "<style scoped>\n",
       "    .dataframe tbody tr th:only-of-type {\n",
       "        vertical-align: middle;\n",
       "    }\n",
       "\n",
       "    .dataframe tbody tr th {\n",
       "        vertical-align: top;\n",
       "    }\n",
       "\n",
       "    .dataframe thead th {\n",
       "        text-align: right;\n",
       "    }\n",
       "</style>\n",
       "<table border=\"1\" class=\"dataframe\">\n",
       "  <thead>\n",
       "    <tr style=\"text-align: right;\">\n",
       "      <th></th>\n",
       "      <th>ymd</th>\n",
       "      <th>hms</th>\n",
       "      <th>ms_us_ns</th>\n",
       "      <th>value</th>\n",
       "      <th>DateTime</th>\n",
       "    </tr>\n",
       "  </thead>\n",
       "  <tbody>\n",
       "    <tr>\n",
       "      <th>0</th>\n",
       "      <td>2020/1/1</td>\n",
       "      <td>00:00:00</td>\n",
       "      <td>000000111</td>\n",
       "      <td>0.993612</td>\n",
       "      <td>2020-01-01 00:00:00.000000111</td>\n",
       "    </tr>\n",
       "    <tr>\n",
       "      <th>1</th>\n",
       "      <td>2020/1/1</td>\n",
       "      <td>00:00:00</td>\n",
       "      <td>000100111</td>\n",
       "      <td>0.248432</td>\n",
       "      <td>2020-01-01 00:00:00.000100111</td>\n",
       "    </tr>\n",
       "    <tr>\n",
       "      <th>2</th>\n",
       "      <td>2020/1/1</td>\n",
       "      <td>00:00:00</td>\n",
       "      <td>000200111</td>\n",
       "      <td>0.252184</td>\n",
       "      <td>2020-01-01 00:00:00.000200111</td>\n",
       "    </tr>\n",
       "    <tr>\n",
       "      <th>3</th>\n",
       "      <td>2020/1/1</td>\n",
       "      <td>00:00:00</td>\n",
       "      <td>000300111</td>\n",
       "      <td>0.597972</td>\n",
       "      <td>2020-01-01 00:00:00.000300111</td>\n",
       "    </tr>\n",
       "    <tr>\n",
       "      <th>4</th>\n",
       "      <td>2020/1/1</td>\n",
       "      <td>00:00:00</td>\n",
       "      <td>000400111</td>\n",
       "      <td>0.497804</td>\n",
       "      <td>2020-01-01 00:00:00.000400111</td>\n",
       "    </tr>\n",
       "  </tbody>\n",
       "</table>\n",
       "</div>"
      ],
      "text/plain": [
       "        ymd       hms   ms_us_ns     value                      DateTime\n",
       "0  2020/1/1  00:00:00  000000111  0.993612 2020-01-01 00:00:00.000000111\n",
       "1  2020/1/1  00:00:00  000100111  0.248432 2020-01-01 00:00:00.000100111\n",
       "2  2020/1/1  00:00:00  000200111  0.252184 2020-01-01 00:00:00.000200111\n",
       "3  2020/1/1  00:00:00  000300111  0.597972 2020-01-01 00:00:00.000300111\n",
       "4  2020/1/1  00:00:00  000400111  0.497804 2020-01-01 00:00:00.000400111"
      ]
     },
     "execution_count": 22,
     "metadata": {},
     "output_type": "execute_result"
    }
   ],
   "source": [
    "# 基本的に2020-01-01 00:00:00.123456789のような形になるようにスペース、ドットを足せば変換できる。\n",
    "df['DateTime'] = pd.to_datetime(df['ymd']+' '+df['hms'] + '.' + df['ms_us_ns'])\n",
    "df.head()"
   ]
  },
  {
   "cell_type": "markdown",
   "metadata": {},
   "source": [
    "### <a id='toc1_1_5_'></a>[- エポック秒の変換](#toc0_)\n",
    "入力データがエポック秒の整数部分と小数部分が分けられているケースを扱う。  \n",
    "time.time()で返されるエポック秒は小数点以下のミリ秒～マイクロ秒まであるが、1秒未満の精度はシステムによりけりとのこと。  \n",
    "https://docs.python.org/ja/3/library/time.html#time.time\n",
    "\n",
    "※タイムゾーンの変換方法  \n",
    "https://zenn.dev/mtmatma/articles/8f864c32307958"
   ]
  },
  {
   "cell_type": "code",
   "execution_count": 2,
   "metadata": {},
   "outputs": [],
   "source": [
    "df = pd.DataFrame({\n",
    "    'epoch_s': [str(time.time()).split('.')[0] for i in range(3)],\n",
    "    'epoch_ms_us': [str(time.time()).split('.')[1] for i in range(3)]\n",
    "})"
   ]
  },
  {
   "cell_type": "code",
   "execution_count": 3,
   "metadata": {},
   "outputs": [
    {
     "data": {
      "text/html": [
       "<div>\n",
       "<style scoped>\n",
       "    .dataframe tbody tr th:only-of-type {\n",
       "        vertical-align: middle;\n",
       "    }\n",
       "\n",
       "    .dataframe tbody tr th {\n",
       "        vertical-align: top;\n",
       "    }\n",
       "\n",
       "    .dataframe thead th {\n",
       "        text-align: right;\n",
       "    }\n",
       "</style>\n",
       "<table border=\"1\" class=\"dataframe\">\n",
       "  <thead>\n",
       "    <tr style=\"text-align: right;\">\n",
       "      <th></th>\n",
       "      <th>epoch_s</th>\n",
       "      <th>epoch_ms_us</th>\n",
       "    </tr>\n",
       "  </thead>\n",
       "  <tbody>\n",
       "    <tr>\n",
       "      <th>0</th>\n",
       "      <td>1697293821</td>\n",
       "      <td>7994344</td>\n",
       "    </tr>\n",
       "    <tr>\n",
       "      <th>1</th>\n",
       "      <td>1697293821</td>\n",
       "      <td>7994366</td>\n",
       "    </tr>\n",
       "    <tr>\n",
       "      <th>2</th>\n",
       "      <td>1697293821</td>\n",
       "      <td>7994382</td>\n",
       "    </tr>\n",
       "  </tbody>\n",
       "</table>\n",
       "</div>"
      ],
      "text/plain": [
       "      epoch_s epoch_ms_us\n",
       "0  1697293821     7994344\n",
       "1  1697293821     7994366\n",
       "2  1697293821     7994382"
      ]
     },
     "execution_count": 3,
     "metadata": {},
     "output_type": "execute_result"
    }
   ],
   "source": [
    "df"
   ]
  },
  {
   "cell_type": "code",
   "execution_count": 4,
   "metadata": {},
   "outputs": [
    {
     "data": {
      "text/html": [
       "<div>\n",
       "<style scoped>\n",
       "    .dataframe tbody tr th:only-of-type {\n",
       "        vertical-align: middle;\n",
       "    }\n",
       "\n",
       "    .dataframe tbody tr th {\n",
       "        vertical-align: top;\n",
       "    }\n",
       "\n",
       "    .dataframe thead th {\n",
       "        text-align: right;\n",
       "    }\n",
       "</style>\n",
       "<table border=\"1\" class=\"dataframe\">\n",
       "  <thead>\n",
       "    <tr style=\"text-align: right;\">\n",
       "      <th></th>\n",
       "      <th>epoch_s</th>\n",
       "      <th>epoch_ms_us</th>\n",
       "      <th>from_epoch</th>\n",
       "      <th>from_epoch_JST</th>\n",
       "    </tr>\n",
       "  </thead>\n",
       "  <tbody>\n",
       "    <tr>\n",
       "      <th>0</th>\n",
       "      <td>1697293821</td>\n",
       "      <td>7994344</td>\n",
       "      <td>2023-10-14 14:30:21.799434496+00:00</td>\n",
       "      <td>2023-10-14 23:30:21.799434496+09:00</td>\n",
       "    </tr>\n",
       "    <tr>\n",
       "      <th>1</th>\n",
       "      <td>1697293821</td>\n",
       "      <td>7994366</td>\n",
       "      <td>2023-10-14 14:30:21.799436544+00:00</td>\n",
       "      <td>2023-10-14 23:30:21.799436544+09:00</td>\n",
       "    </tr>\n",
       "    <tr>\n",
       "      <th>2</th>\n",
       "      <td>1697293821</td>\n",
       "      <td>7994382</td>\n",
       "      <td>2023-10-14 14:30:21.799438336+00:00</td>\n",
       "      <td>2023-10-14 23:30:21.799438336+09:00</td>\n",
       "    </tr>\n",
       "  </tbody>\n",
       "</table>\n",
       "</div>"
      ],
      "text/plain": [
       "      epoch_s epoch_ms_us                          from_epoch  \\\n",
       "0  1697293821     7994344 2023-10-14 14:30:21.799434496+00:00   \n",
       "1  1697293821     7994366 2023-10-14 14:30:21.799436544+00:00   \n",
       "2  1697293821     7994382 2023-10-14 14:30:21.799438336+00:00   \n",
       "\n",
       "                       from_epoch_JST  \n",
       "0 2023-10-14 23:30:21.799434496+09:00  \n",
       "1 2023-10-14 23:30:21.799436544+09:00  \n",
       "2 2023-10-14 23:30:21.799438336+09:00  "
      ]
     },
     "execution_count": 4,
     "metadata": {},
     "output_type": "execute_result"
    }
   ],
   "source": [
    "# エポック秒をdatetime型へ変換。JSTに変換する必要あり。\n",
    "#df['epoch'] = pd.to_datetime(df['epoch_s'] +'.'+ df['epoch_ms_us'], unit='s', utc=True)\n",
    "\n",
    "# 将来的にはto_datetimeでエポック秒→datetimeに変換するには下記のようにした方がよいみたい。\n",
    "df['from_epoch'] = pd.to_datetime((df['epoch_s'] +'.'+ df['epoch_ms_us']).astype('float'), unit='s', utc=True)\n",
    "df['from_epoch_JST'] = df['from_epoch'].dt.tz_convert('Asia/Tokyo')\n",
    "df"
   ]
  },
  {
   "cell_type": "markdown",
   "metadata": {},
   "source": [
    "上記のようにtimezoneを指定すると、他の時刻と計算するときに面倒。  \n",
    "また、無駄に長い。utc,JSTを明示的に表示する必要がないのなら、+以降の部分は不要。"
   ]
  },
  {
   "cell_type": "code",
   "execution_count": 68,
   "metadata": {},
   "outputs": [
    {
     "data": {
      "text/plain": [
       "Timedelta('0 days 00:00:17.165580008')"
      ]
     },
     "execution_count": 68,
     "metadata": {},
     "output_type": "execute_result"
    }
   ],
   "source": [
    "JST = datetime.timezone(datetime.timedelta(hours=+9), 'JST')\n",
    "datetime.datetime.now(tz=JST) - df['from_epoch_JST'][0]"
   ]
  },
  {
   "cell_type": "markdown",
   "metadata": {},
   "source": [
    "timezoneを指定せずに９時間分のtimedeltaを足した方が扱いやすいかも。"
   ]
  },
  {
   "cell_type": "code",
   "execution_count": 91,
   "metadata": {},
   "outputs": [
    {
     "data": {
      "text/html": [
       "<div>\n",
       "<style scoped>\n",
       "    .dataframe tbody tr th:only-of-type {\n",
       "        vertical-align: middle;\n",
       "    }\n",
       "\n",
       "    .dataframe tbody tr th {\n",
       "        vertical-align: top;\n",
       "    }\n",
       "\n",
       "    .dataframe thead th {\n",
       "        text-align: right;\n",
       "    }\n",
       "</style>\n",
       "<table border=\"1\" class=\"dataframe\">\n",
       "  <thead>\n",
       "    <tr style=\"text-align: right;\">\n",
       "      <th></th>\n",
       "      <th>epoch_s</th>\n",
       "      <th>epoch_ms_us</th>\n",
       "      <th>from_epoch</th>\n",
       "      <th>from_epoch_JST</th>\n",
       "    </tr>\n",
       "  </thead>\n",
       "  <tbody>\n",
       "    <tr>\n",
       "      <th>0</th>\n",
       "      <td>1696853582</td>\n",
       "      <td>2207768</td>\n",
       "      <td>2023-10-09 12:13:02.220776704</td>\n",
       "      <td>2023-10-09 21:13:02.220776704</td>\n",
       "    </tr>\n",
       "    <tr>\n",
       "      <th>1</th>\n",
       "      <td>1696853582</td>\n",
       "      <td>2207804</td>\n",
       "      <td>2023-10-09 12:13:02.220780288</td>\n",
       "      <td>2023-10-09 21:13:02.220780288</td>\n",
       "    </tr>\n",
       "    <tr>\n",
       "      <th>2</th>\n",
       "      <td>1696853582</td>\n",
       "      <td>220783</td>\n",
       "      <td>2023-10-09 12:13:02.220783104</td>\n",
       "      <td>2023-10-09 21:13:02.220783104</td>\n",
       "    </tr>\n",
       "  </tbody>\n",
       "</table>\n",
       "</div>"
      ],
      "text/plain": [
       "      epoch_s epoch_ms_us                    from_epoch  \\\n",
       "0  1696853582     2207768 2023-10-09 12:13:02.220776704   \n",
       "1  1696853582     2207804 2023-10-09 12:13:02.220780288   \n",
       "2  1696853582      220783 2023-10-09 12:13:02.220783104   \n",
       "\n",
       "                 from_epoch_JST  \n",
       "0 2023-10-09 21:13:02.220776704  \n",
       "1 2023-10-09 21:13:02.220780288  \n",
       "2 2023-10-09 21:13:02.220783104  "
      ]
     },
     "execution_count": 91,
     "metadata": {},
     "output_type": "execute_result"
    }
   ],
   "source": [
    "# 9時間分のtimedelta\n",
    "timedelta_9h = datetime.timedelta(hours=9)\n",
    "\n",
    "# 何も指定せずにdatetime型に変換するとutcになるので、\n",
    "df['from_epoch'] = pd.to_datetime((df['epoch_s'] +'.'+ df['epoch_ms_us']).astype('float'), unit='s')\n",
    "df['from_epoch_JST'] = df['from_epoch'] + timedelta_9h\n",
    "df"
   ]
  },
  {
   "cell_type": "markdown",
   "metadata": {},
   "source": [
    "こちらの方がすっきりかける。"
   ]
  },
  {
   "cell_type": "markdown",
   "metadata": {},
   "source": [
    "## <a id='toc1_2_'></a>[datetime型の表示桁数を変える](#toc0_)\n",
    "マイクロ秒やナノ秒までは不要なケースもあるので、その取扱い方をメモ。"
   ]
  },
  {
   "cell_type": "code",
   "execution_count": 93,
   "metadata": {},
   "outputs": [
    {
     "data": {
      "text/plain": [
       "0    20231009 211302.220\n",
       "1    20231009 211302.220\n",
       "2    20231009 211302.220\n",
       "Name: from_epoch_JST, dtype: object"
      ]
     },
     "execution_count": 93,
     "metadata": {},
     "output_type": "execute_result"
    }
   ],
   "source": [
    "df['from_epoch_JST'].dt.strftime('%Y%m%d %H%M%S.%f').str[:-3]"
   ]
  },
  {
   "cell_type": "code",
   "execution_count": 90,
   "metadata": {},
   "outputs": [
    {
     "data": {
      "text/plain": [
       "0   2023-10-09 21:13:02.220\n",
       "1   2023-10-09 21:13:02.220\n",
       "2   2023-10-09 21:13:02.220\n",
       "Name: from_epoch_JST, dtype: datetime64[ns]"
      ]
     },
     "execution_count": 90,
     "metadata": {},
     "output_type": "execute_result"
    }
   ],
   "source": [
    "# .dt.strftimeでdatetime→文字列に変換した後、スライスしてから再びdatetimeへ変換する\n",
    "# Seriesごとスライス可能\n",
    "pd.to_datetime(\n",
    "    df['from_epoch_JST'].dt.strftime('%Y%m%d %H%M%S.%f').str[:-3],\n",
    "    format='%Y%m%d %H%M%S.%f'\n",
    ")"
   ]
  },
  {
   "cell_type": "markdown",
   "metadata": {},
   "source": [
    "## <a id='toc1_2_'></a>[時刻でgroupbyして統計量を求める](#toc0_)"
   ]
  },
  {
   "cell_type": "code",
   "execution_count": 94,
   "metadata": {},
   "outputs": [],
   "source": [
    "df = pd.DataFrame({'DateTime': \n",
    "         ['2020-01-01 16:10:11.123456789',\n",
    "          '2020-01-01 17:11:22.123456790',\n",
    "          '2020-01-01 18:12:33.123456791',\n",
    "          '2020-01-01 18:12:33.123456791',\n",
    "          '2020-01-01 16:10:11.123456789',\n",
    "          '2020-01-01 17:11:22.123456790',\n",
    "          '2020-01-01 17:11:22.123456790',\n",
    "          '2020-01-01 18:12:33.123456791',],\n",
    "          'Value_1': \n",
    "          [random.randint(0, 100) for i in range(8)],\n",
    "          'Value_2': \n",
    "          ['A', 'B', 'C', 'D', 'E', 'F', 'G', 'H'],\n",
    "        })"
   ]
  },
  {
   "cell_type": "code",
   "execution_count": 95,
   "metadata": {},
   "outputs": [
    {
     "data": {
      "text/html": [
       "<div>\n",
       "<style scoped>\n",
       "    .dataframe tbody tr th:only-of-type {\n",
       "        vertical-align: middle;\n",
       "    }\n",
       "\n",
       "    .dataframe tbody tr th {\n",
       "        vertical-align: top;\n",
       "    }\n",
       "\n",
       "    .dataframe thead th {\n",
       "        text-align: right;\n",
       "    }\n",
       "</style>\n",
       "<table border=\"1\" class=\"dataframe\">\n",
       "  <thead>\n",
       "    <tr style=\"text-align: right;\">\n",
       "      <th></th>\n",
       "      <th>DateTime</th>\n",
       "      <th>Value_1</th>\n",
       "      <th>Value_2</th>\n",
       "    </tr>\n",
       "  </thead>\n",
       "  <tbody>\n",
       "    <tr>\n",
       "      <th>0</th>\n",
       "      <td>2020-01-01 16:10:11.123456789</td>\n",
       "      <td>29</td>\n",
       "      <td>A</td>\n",
       "    </tr>\n",
       "    <tr>\n",
       "      <th>1</th>\n",
       "      <td>2020-01-01 17:11:22.123456790</td>\n",
       "      <td>86</td>\n",
       "      <td>B</td>\n",
       "    </tr>\n",
       "    <tr>\n",
       "      <th>2</th>\n",
       "      <td>2020-01-01 18:12:33.123456791</td>\n",
       "      <td>3</td>\n",
       "      <td>C</td>\n",
       "    </tr>\n",
       "    <tr>\n",
       "      <th>3</th>\n",
       "      <td>2020-01-01 18:12:33.123456791</td>\n",
       "      <td>78</td>\n",
       "      <td>D</td>\n",
       "    </tr>\n",
       "    <tr>\n",
       "      <th>4</th>\n",
       "      <td>2020-01-01 16:10:11.123456789</td>\n",
       "      <td>7</td>\n",
       "      <td>E</td>\n",
       "    </tr>\n",
       "    <tr>\n",
       "      <th>5</th>\n",
       "      <td>2020-01-01 17:11:22.123456790</td>\n",
       "      <td>8</td>\n",
       "      <td>F</td>\n",
       "    </tr>\n",
       "    <tr>\n",
       "      <th>6</th>\n",
       "      <td>2020-01-01 17:11:22.123456790</td>\n",
       "      <td>95</td>\n",
       "      <td>G</td>\n",
       "    </tr>\n",
       "    <tr>\n",
       "      <th>7</th>\n",
       "      <td>2020-01-01 18:12:33.123456791</td>\n",
       "      <td>92</td>\n",
       "      <td>H</td>\n",
       "    </tr>\n",
       "  </tbody>\n",
       "</table>\n",
       "</div>"
      ],
      "text/plain": [
       "                        DateTime  Value_1 Value_2\n",
       "0  2020-01-01 16:10:11.123456789       29       A\n",
       "1  2020-01-01 17:11:22.123456790       86       B\n",
       "2  2020-01-01 18:12:33.123456791        3       C\n",
       "3  2020-01-01 18:12:33.123456791       78       D\n",
       "4  2020-01-01 16:10:11.123456789        7       E\n",
       "5  2020-01-01 17:11:22.123456790        8       F\n",
       "6  2020-01-01 17:11:22.123456790       95       G\n",
       "7  2020-01-01 18:12:33.123456791       92       H"
      ]
     },
     "execution_count": 95,
     "metadata": {},
     "output_type": "execute_result"
    }
   ],
   "source": [
    "df"
   ]
  },
  {
   "cell_type": "code",
   "execution_count": 96,
   "metadata": {},
   "outputs": [
    {
     "data": {
      "text/html": [
       "<div>\n",
       "<style scoped>\n",
       "    .dataframe tbody tr th:only-of-type {\n",
       "        vertical-align: middle;\n",
       "    }\n",
       "\n",
       "    .dataframe tbody tr th {\n",
       "        vertical-align: top;\n",
       "    }\n",
       "\n",
       "    .dataframe thead th {\n",
       "        text-align: right;\n",
       "    }\n",
       "</style>\n",
       "<table border=\"1\" class=\"dataframe\">\n",
       "  <thead>\n",
       "    <tr style=\"text-align: right;\">\n",
       "      <th></th>\n",
       "      <th>Value_1</th>\n",
       "    </tr>\n",
       "    <tr>\n",
       "      <th>DateTime</th>\n",
       "      <th></th>\n",
       "    </tr>\n",
       "  </thead>\n",
       "  <tbody>\n",
       "    <tr>\n",
       "      <th>2020-01-01 16:10:11.123456789</th>\n",
       "      <td>7</td>\n",
       "    </tr>\n",
       "    <tr>\n",
       "      <th>2020-01-01 17:11:22.123456790</th>\n",
       "      <td>8</td>\n",
       "    </tr>\n",
       "    <tr>\n",
       "      <th>2020-01-01 18:12:33.123456791</th>\n",
       "      <td>3</td>\n",
       "    </tr>\n",
       "  </tbody>\n",
       "</table>\n",
       "</div>"
      ],
      "text/plain": [
       "                               Value_1\n",
       "DateTime                              \n",
       "2020-01-01 16:10:11.123456789        7\n",
       "2020-01-01 17:11:22.123456790        8\n",
       "2020-01-01 18:12:33.123456791        3"
      ]
     },
     "execution_count": 96,
     "metadata": {},
     "output_type": "execute_result"
    }
   ],
   "source": [
    "# DateTimeごとのValue_1の最小値を求めたい場合は下記のように書ける。（色々書き方はある）\n",
    "df.groupby('DateTime').agg({'Value_1': 'min'})"
   ]
  },
  {
   "cell_type": "code",
   "execution_count": 97,
   "metadata": {},
   "outputs": [
    {
     "data": {
      "text/html": [
       "<div>\n",
       "<style scoped>\n",
       "    .dataframe tbody tr th:only-of-type {\n",
       "        vertical-align: middle;\n",
       "    }\n",
       "\n",
       "    .dataframe tbody tr th {\n",
       "        vertical-align: top;\n",
       "    }\n",
       "\n",
       "    .dataframe thead th {\n",
       "        text-align: right;\n",
       "    }\n",
       "</style>\n",
       "<table border=\"1\" class=\"dataframe\">\n",
       "  <thead>\n",
       "    <tr style=\"text-align: right;\">\n",
       "      <th></th>\n",
       "      <th>DateTime</th>\n",
       "      <th>Value_1</th>\n",
       "      <th>Value_2</th>\n",
       "    </tr>\n",
       "  </thead>\n",
       "  <tbody>\n",
       "    <tr>\n",
       "      <th>4</th>\n",
       "      <td>2020-01-01 16:10:11.123456789</td>\n",
       "      <td>7</td>\n",
       "      <td>E</td>\n",
       "    </tr>\n",
       "    <tr>\n",
       "      <th>5</th>\n",
       "      <td>2020-01-01 17:11:22.123456790</td>\n",
       "      <td>8</td>\n",
       "      <td>F</td>\n",
       "    </tr>\n",
       "    <tr>\n",
       "      <th>2</th>\n",
       "      <td>2020-01-01 18:12:33.123456791</td>\n",
       "      <td>3</td>\n",
       "      <td>C</td>\n",
       "    </tr>\n",
       "  </tbody>\n",
       "</table>\n",
       "</div>"
      ],
      "text/plain": [
       "                        DateTime  Value_1 Value_2\n",
       "4  2020-01-01 16:10:11.123456789        7       E\n",
       "5  2020-01-01 17:11:22.123456790        8       F\n",
       "2  2020-01-01 18:12:33.123456791        3       C"
      ]
     },
     "execution_count": 97,
     "metadata": {},
     "output_type": "execute_result"
    }
   ],
   "source": [
    "# DateTimeごとのValue_1が最小値となる行だけ表示したい場合は下記\n",
    "idx_min = df.groupby('DateTime').agg({'Value_1': 'idxmin'})['Value_1']\n",
    "df.loc[idx_min]"
   ]
  },
  {
   "cell_type": "code",
   "execution_count": 103,
   "metadata": {},
   "outputs": [
    {
     "data": {
      "text/plain": [
       "DateTime\n",
       "2020-01-01 16:10:11.123456789    4\n",
       "2020-01-01 17:11:22.123456790    5\n",
       "2020-01-01 18:12:33.123456791    2\n",
       "Name: Value_1, dtype: int64"
      ]
     },
     "execution_count": 103,
     "metadata": {},
     "output_type": "execute_result"
    }
   ],
   "source": [
    "idx_min"
   ]
  },
  {
   "cell_type": "markdown",
   "metadata": {},
   "source": [
    "条件は不明だが、df.iloc[idx_min]とすると、  \n",
    "idx_min通りのindexで行を抽出できないケースがあるのでdf.locを使った方がよい。"
   ]
  },
  {
   "cell_type": "markdown",
   "metadata": {},
   "source": [
    "## <a id='toc1_3_'></a>[ナノ秒レベルの時刻同士で2つのテーブルを紐づけ](#toc0_)"
   ]
  },
  {
   "cell_type": "code",
   "execution_count": 56,
   "metadata": {},
   "outputs": [
    {
     "name": "stdout",
     "output_type": "stream",
     "text": [
      "        ymd      hmsms   us_ns     value\n",
      "0  2020/1/1  000000000  000000  0.993612\n",
      "1  2020/1/1  000000000  100000  0.248432\n",
      "2  2020/1/1  000000000  200000  0.252184\n",
      "3  2020/1/1  000000000  300000  0.597972\n",
      "4  2020/1/1  000000000  400000  0.497804\n",
      "        ymd      hmsms   us_ns     value\n",
      "0  2020/1/1  000000000  100000  3.248432\n",
      "1  2020/1/1  000000000  300000  1.597972\n",
      "2  2020/1/1  000000000  400000  2.497804\n",
      "3  2020/1/1  000000000  600000  8.028664\n",
      "4  2020/1/1  000000000  700000  0.028664\n"
     ]
    }
   ],
   "source": [
    "# sampleデータ読み込み。年月日、時分秒ms、マイクロ秒以下がそれぞれ別のパターン。時分秒msは数字の羅列になっている。\n",
    "dtypes = {\n",
    "    'ymd': str,\n",
    "    'hmsms': str,\n",
    "    'us_ns': str,\n",
    "    'value': float\n",
    "}\n",
    "df_1 = pd.read_csv('input/time_series/time_series_data_sample_2_1.csv', dtype=dtypes)\n",
    "df_2 = pd.read_csv('input/time_series/time_series_data_sample_2_2.csv', dtype=dtypes)\n",
    "print(df_1.head())\n",
    "print(df_2.head())"
   ]
  },
  {
   "cell_type": "markdown",
   "metadata": {},
   "source": [
    "上記のようなdf_1, df_2をhmsmms+us_nsで紐づけてvalueを比較する。"
   ]
  },
  {
   "cell_type": "code",
   "execution_count": 57,
   "metadata": {},
   "outputs": [],
   "source": [
    "# 紐づけ用のキー作成\n",
    "df_1['join_key'] = df_1['hmsms'] + df_1['us_ns']\n",
    "df_2['join_key'] = df_2['hmsms'] + df_2['us_ns']\n",
    "\n",
    "# # 紐づけ\n",
    "# df_merged = df_1.join(df_2, on='join_key', how='inner').select(\n",
    "#     ['join_key', 'value', 'value_right']\n",
    "# )\n",
    "# df_merged.head()"
   ]
  },
  {
   "cell_type": "code",
   "execution_count": 58,
   "metadata": {},
   "outputs": [
    {
     "data": {
      "text/html": [
       "<div>\n",
       "<style scoped>\n",
       "    .dataframe tbody tr th:only-of-type {\n",
       "        vertical-align: middle;\n",
       "    }\n",
       "\n",
       "    .dataframe tbody tr th {\n",
       "        vertical-align: top;\n",
       "    }\n",
       "\n",
       "    .dataframe thead th {\n",
       "        text-align: right;\n",
       "    }\n",
       "</style>\n",
       "<table border=\"1\" class=\"dataframe\">\n",
       "  <thead>\n",
       "    <tr style=\"text-align: right;\">\n",
       "      <th></th>\n",
       "      <th>join_key</th>\n",
       "      <th>value_x</th>\n",
       "      <th>value_y</th>\n",
       "    </tr>\n",
       "  </thead>\n",
       "  <tbody>\n",
       "    <tr>\n",
       "      <th>0</th>\n",
       "      <td>000000000100000</td>\n",
       "      <td>0.248432</td>\n",
       "      <td>3.248432</td>\n",
       "    </tr>\n",
       "    <tr>\n",
       "      <th>1</th>\n",
       "      <td>000000000300000</td>\n",
       "      <td>0.597972</td>\n",
       "      <td>1.597972</td>\n",
       "    </tr>\n",
       "    <tr>\n",
       "      <th>2</th>\n",
       "      <td>000000000400000</td>\n",
       "      <td>0.497804</td>\n",
       "      <td>2.497804</td>\n",
       "    </tr>\n",
       "  </tbody>\n",
       "</table>\n",
       "</div>"
      ],
      "text/plain": [
       "          join_key   value_x   value_y\n",
       "0  000000000100000  0.248432  3.248432\n",
       "1  000000000300000  0.597972  1.597972\n",
       "2  000000000400000  0.497804  2.497804"
      ]
     },
     "execution_count": 58,
     "metadata": {},
     "output_type": "execute_result"
    }
   ],
   "source": [
    "# 紐づけ。デフォルトのサフィックスは左側が_x、右側が_yになることに注意\n",
    "df_1.merge(df_2, how='inner', on='join_key').loc[:, ['join_key', 'value_x', 'value_y']]"
   ]
  },
  {
   "cell_type": "markdown",
   "metadata": {},
   "source": [
    "このように時刻を文字列として扱って結合することで、ある時刻における異なる値を比較できる。"
   ]
  },
  {
   "cell_type": "markdown",
   "metadata": {},
   "source": [
    "## <a id='toc1_4_'></a>[秒の整数部分と小数部分(ミリ秒以下)の取り扱い](#toc0_)\n",
    "10.001482のような秒数をdatetimeのseconds,microsecondsで取り出すときは注意が必要。  \n",
    "timedelta.microsecondsを使うと、当然小数部分の先頭の0が消えて1482と表示されるため。  \n",
    "timedelta型から得られた時間の差を秒数に変換したい場合はtimedelta.total_seconds()を使うのが良い。"
   ]
  },
  {
   "cell_type": "code",
   "execution_count": 15,
   "metadata": {},
   "outputs": [
    {
     "data": {
      "text/html": [
       "<div>\n",
       "<style scoped>\n",
       "    .dataframe tbody tr th:only-of-type {\n",
       "        vertical-align: middle;\n",
       "    }\n",
       "\n",
       "    .dataframe tbody tr th {\n",
       "        vertical-align: top;\n",
       "    }\n",
       "\n",
       "    .dataframe thead th {\n",
       "        text-align: right;\n",
       "    }\n",
       "</style>\n",
       "<table border=\"1\" class=\"dataframe\">\n",
       "  <thead>\n",
       "    <tr style=\"text-align: right;\">\n",
       "      <th></th>\n",
       "      <th>DateTime</th>\n",
       "    </tr>\n",
       "  </thead>\n",
       "  <tbody>\n",
       "    <tr>\n",
       "      <th>0</th>\n",
       "      <td>2020-01-01 00:00:15.191234</td>\n",
       "    </tr>\n",
       "    <tr>\n",
       "      <th>1</th>\n",
       "      <td>2020-01-01 00:00:17.199999</td>\n",
       "    </tr>\n",
       "  </tbody>\n",
       "</table>\n",
       "</div>"
      ],
      "text/plain": [
       "                    DateTime\n",
       "0 2020-01-01 00:00:15.191234\n",
       "1 2020-01-01 00:00:17.199999"
      ]
     },
     "execution_count": 15,
     "metadata": {},
     "output_type": "execute_result"
    }
   ],
   "source": [
    "df = pd.DataFrame({'DateTime': \n",
    "         ['2020-01-01 00:00:15.191234',\n",
    "          '2020-01-01 00:00:17.199999']\n",
    "        })\n",
    "\n",
    "df['DateTime'] = pd.to_datetime(df['DateTime'])\n",
    "df.head()"
   ]
  },
  {
   "cell_type": "code",
   "execution_count": 20,
   "metadata": {},
   "outputs": [
    {
     "name": "stdout",
     "output_type": "stream",
     "text": [
      "0 days 00:00:02.008765\n"
     ]
    }
   ],
   "source": [
    "# 時間の差をとる\n",
    "time_delta = df['DateTime'][1] - df['DateTime'][0]\n",
    "print(time_delta)"
   ]
  },
  {
   "cell_type": "markdown",
   "metadata": {},
   "source": [
    "時間の差を取った結果は小数点以下2桁目まで０となっている。"
   ]
  },
  {
   "cell_type": "code",
   "execution_count": 21,
   "metadata": {},
   "outputs": [
    {
     "name": "stdout",
     "output_type": "stream",
     "text": [
      "seconds: 2\n",
      "microseconds: 8765\n"
     ]
    }
   ],
   "source": [
    "print(f'seconds: {time_delta.seconds}')\n",
    "print(f'microseconds: {time_delta.microseconds}')"
   ]
  },
  {
   "cell_type": "markdown",
   "metadata": {},
   "source": [
    "time_delta.microsecondsの結果はintで返されるため、  \n",
    "当然先頭にあった０は消える。  \n",
    "もし、時間の差がtimedelta型で与えられていてミリ秒以下含む秒数に直したいとき、  \n",
    "下記のようにstrで扱うのは悪手。上記の通り、microsecondsを取り出した段階で小数点以下何桁だったのかの情報が抜け落ちるので、  \n",
    "バグの元になる。"
   ]
  },
  {
   "cell_type": "code",
   "execution_count": 27,
   "metadata": {},
   "outputs": [
    {
     "data": {
      "text/plain": [
       "2.8765"
      ]
     },
     "execution_count": 27,
     "metadata": {},
     "output_type": "execute_result"
    }
   ],
   "source": [
    "# ！！！！ 当然だが、以下は良くない書き方\n",
    "float( str(time_delta.seconds) + '.' +str(time_delta.microseconds) )"
   ]
  },
  {
   "cell_type": "markdown",
   "metadata": {},
   "source": [
    "安直にstrで結合した結果、小数点以下が本来の100倍になってしまっている。  \n",
    "これは絶対ダメな書き方。美しくない。反省。。。  \n",
    "これを避けるには次のような方法がよさそう。  \n",
    "* マイクロ秒なので、time_delta.microsecondsの結果に1e-6をかけてtime_delta.secondsに足す\n",
    "* timedelta.total_seconds()を使ってミリ秒以下も含めた差の秒数を取得（簡単、シンプル）"
   ]
  },
  {
   "cell_type": "code",
   "execution_count": 29,
   "metadata": {},
   "outputs": [
    {
     "data": {
      "text/plain": [
       "2.008765"
      ]
     },
     "execution_count": 29,
     "metadata": {},
     "output_type": "execute_result"
    }
   ],
   "source": [
    "time_delta.seconds + time_delta.microseconds * 1e-6"
   ]
  },
  {
   "cell_type": "code",
   "execution_count": 28,
   "metadata": {},
   "outputs": [
    {
     "data": {
      "text/plain": [
       "2.008765"
      ]
     },
     "execution_count": 28,
     "metadata": {},
     "output_type": "execute_result"
    }
   ],
   "source": [
    "time_delta.total_seconds()"
   ]
  },
  {
   "cell_type": "markdown",
   "metadata": {},
   "source": [
    "## <a id='toc1_4_'></a>[任意の時間範囲でフィルタリング](#toc0_)\n",
    "参考：https://note.com/rosso_blog/n/nbbac51a8696f"
   ]
  },
  {
   "cell_type": "code",
   "execution_count": 2,
   "metadata": {},
   "outputs": [
    {
     "data": {
      "text/html": [
       "<div>\n",
       "<style scoped>\n",
       "    .dataframe tbody tr th:only-of-type {\n",
       "        vertical-align: middle;\n",
       "    }\n",
       "\n",
       "    .dataframe tbody tr th {\n",
       "        vertical-align: top;\n",
       "    }\n",
       "\n",
       "    .dataframe thead th {\n",
       "        text-align: right;\n",
       "    }\n",
       "</style>\n",
       "<table border=\"1\" class=\"dataframe\">\n",
       "  <thead>\n",
       "    <tr style=\"text-align: right;\">\n",
       "      <th></th>\n",
       "      <th>DateTime</th>\n",
       "    </tr>\n",
       "  </thead>\n",
       "  <tbody>\n",
       "    <tr>\n",
       "      <th>0</th>\n",
       "      <td>2020-01-01 00:00:00.123456789</td>\n",
       "    </tr>\n",
       "    <tr>\n",
       "      <th>1</th>\n",
       "      <td>2020-01-01 00:00:00.123456790</td>\n",
       "    </tr>\n",
       "    <tr>\n",
       "      <th>2</th>\n",
       "      <td>2020-01-01 00:00:00.123456791</td>\n",
       "    </tr>\n",
       "    <tr>\n",
       "      <th>3</th>\n",
       "      <td>2020-01-01 00:00:00.999999999</td>\n",
       "    </tr>\n",
       "    <tr>\n",
       "      <th>4</th>\n",
       "      <td>2020-01-01 00:00:01.100000001</td>\n",
       "    </tr>\n",
       "  </tbody>\n",
       "</table>\n",
       "</div>"
      ],
      "text/plain": [
       "                       DateTime\n",
       "0 2020-01-01 00:00:00.123456789\n",
       "1 2020-01-01 00:00:00.123456790\n",
       "2 2020-01-01 00:00:00.123456791\n",
       "3 2020-01-01 00:00:00.999999999\n",
       "4 2020-01-01 00:00:01.100000001"
      ]
     },
     "execution_count": 2,
     "metadata": {},
     "output_type": "execute_result"
    }
   ],
   "source": [
    "df = pd.DataFrame({'DateTime': \n",
    "         ['2020-01-01 00:00:00.123456789',\n",
    "          '2020-01-01 00:00:00.123456790',\n",
    "          '2020-01-01 00:00:00.123456791',\n",
    "          '2020-01-01 00:00:00.999999999',\n",
    "          '2020-01-01 00:00:01.100000001',\n",
    "          '2020-01-01 00:00:02.100000002',\n",
    "          '2020-01-01 00:00:03.100000003',\n",
    "          '2020-01-01 00:00:10.390938889',\n",
    "          '2020-01-01 00:01:10.111233999',\n",
    "          '2020-01-01 00:10:10.111233999',\n",
    "          '2020-01-01 00:10:10.111233999']\n",
    "        })\n",
    "\n",
    "df['DateTime'] = pd.to_datetime(df['DateTime'])\n",
    "df.head()"
   ]
  },
  {
   "cell_type": "code",
   "execution_count": 3,
   "metadata": {},
   "outputs": [],
   "source": [
    "# 時間のフィルタリング範囲を設定。ナノ秒までは対応していない模様。\n",
    "start_time = datetime.datetime(year=2020, month=1, day=1, hour=0, minute=0, second=0, microsecond=1)\n",
    "end_time = datetime.datetime(year=2020, month=1, day=1, hour=0, minute=0, second=1, microsecond=100000)"
   ]
  },
  {
   "cell_type": "code",
   "execution_count": 10,
   "metadata": {},
   "outputs": [
    {
     "data": {
      "text/html": [
       "<div>\n",
       "<style scoped>\n",
       "    .dataframe tbody tr th:only-of-type {\n",
       "        vertical-align: middle;\n",
       "    }\n",
       "\n",
       "    .dataframe tbody tr th {\n",
       "        vertical-align: top;\n",
       "    }\n",
       "\n",
       "    .dataframe thead th {\n",
       "        text-align: right;\n",
       "    }\n",
       "</style>\n",
       "<table border=\"1\" class=\"dataframe\">\n",
       "  <thead>\n",
       "    <tr style=\"text-align: right;\">\n",
       "      <th></th>\n",
       "      <th>DateTime</th>\n",
       "    </tr>\n",
       "  </thead>\n",
       "  <tbody>\n",
       "    <tr>\n",
       "      <th>0</th>\n",
       "      <td>2020-01-01 00:00:00.123456789</td>\n",
       "    </tr>\n",
       "    <tr>\n",
       "      <th>1</th>\n",
       "      <td>2020-01-01 00:00:00.123456790</td>\n",
       "    </tr>\n",
       "    <tr>\n",
       "      <th>2</th>\n",
       "      <td>2020-01-01 00:00:00.123456791</td>\n",
       "    </tr>\n",
       "    <tr>\n",
       "      <th>3</th>\n",
       "      <td>2020-01-01 00:00:00.999999999</td>\n",
       "    </tr>\n",
       "  </tbody>\n",
       "</table>\n",
       "</div>"
      ],
      "text/plain": [
       "                       DateTime\n",
       "0 2020-01-01 00:00:00.123456789\n",
       "1 2020-01-01 00:00:00.123456790\n",
       "2 2020-01-01 00:00:00.123456791\n",
       "3 2020-01-01 00:00:00.999999999"
      ]
     },
     "execution_count": 10,
     "metadata": {},
     "output_type": "execute_result"
    }
   ],
   "source": [
    "# @マークを付ける\n",
    "df.query('@start_time <= DateTime <= @end_time')"
   ]
  },
  {
   "attachments": {},
   "cell_type": "markdown",
   "metadata": {},
   "source": [
    "queryに開始時刻、終了時刻を@をつけてdatetime.datetimeで指定することでフィルタリングできる。  \n",
    "ナノ秒は対応していないようだが、実用上はマイクロ秒までで十分だと思われる。  \n",
    "ナノ秒レベルでフィルタリングしたい場合はms以下の９桁だけ数値で扱うのが良いかも。"
   ]
  },
  {
   "cell_type": "markdown",
   "metadata": {},
   "source": [
    "## <a id='toc1_5_'></a>[時刻をx軸としてグラフを描いて軸範囲を操作する](#toc0_)"
   ]
  },
  {
   "cell_type": "code",
   "execution_count": 19,
   "metadata": {},
   "outputs": [],
   "source": [
    "# sampleデータ読み込み。年月日、時分秒、ms以下はそれぞれ別カラムにしている。\n",
    "dtypes = {\n",
    "    'ymd': str,\n",
    "    'hms': str,\n",
    "    'ms_us_ns': str,\n",
    "    'value': float\n",
    "}\n",
    "df = pd.read_csv('input/time_series/time_series_data_sample_1.csv', dtype=dtypes)\n",
    "df['DateTime'] = pd.to_datetime(df['ymd']+' '+df['hms'] + '.' + df['ms_us_ns'])\n",
    "# 他の列は不要なので落とす。\n",
    "df = df.loc[:, ['DateTime', 'value']].copy()"
   ]
  },
  {
   "cell_type": "code",
   "execution_count": 20,
   "metadata": {},
   "outputs": [
    {
     "data": {
      "text/html": [
       "<div>\n",
       "<style scoped>\n",
       "    .dataframe tbody tr th:only-of-type {\n",
       "        vertical-align: middle;\n",
       "    }\n",
       "\n",
       "    .dataframe tbody tr th {\n",
       "        vertical-align: top;\n",
       "    }\n",
       "\n",
       "    .dataframe thead th {\n",
       "        text-align: right;\n",
       "    }\n",
       "</style>\n",
       "<table border=\"1\" class=\"dataframe\">\n",
       "  <thead>\n",
       "    <tr style=\"text-align: right;\">\n",
       "      <th></th>\n",
       "      <th>DateTime</th>\n",
       "      <th>value</th>\n",
       "    </tr>\n",
       "  </thead>\n",
       "  <tbody>\n",
       "    <tr>\n",
       "      <th>0</th>\n",
       "      <td>2020-01-01 00:00:00.000000111</td>\n",
       "      <td>0.993612</td>\n",
       "    </tr>\n",
       "    <tr>\n",
       "      <th>1</th>\n",
       "      <td>2020-01-01 00:00:00.000100111</td>\n",
       "      <td>0.248432</td>\n",
       "    </tr>\n",
       "    <tr>\n",
       "      <th>2</th>\n",
       "      <td>2020-01-01 00:00:00.000200111</td>\n",
       "      <td>0.252184</td>\n",
       "    </tr>\n",
       "    <tr>\n",
       "      <th>3</th>\n",
       "      <td>2020-01-01 00:00:00.000300111</td>\n",
       "      <td>0.597972</td>\n",
       "    </tr>\n",
       "    <tr>\n",
       "      <th>4</th>\n",
       "      <td>2020-01-01 00:00:00.000400111</td>\n",
       "      <td>0.497804</td>\n",
       "    </tr>\n",
       "  </tbody>\n",
       "</table>\n",
       "</div>"
      ],
      "text/plain": [
       "                       DateTime     value\n",
       "0 2020-01-01 00:00:00.000000111  0.993612\n",
       "1 2020-01-01 00:00:00.000100111  0.248432\n",
       "2 2020-01-01 00:00:00.000200111  0.252184\n",
       "3 2020-01-01 00:00:00.000300111  0.597972\n",
       "4 2020-01-01 00:00:00.000400111  0.497804"
      ]
     },
     "execution_count": 20,
     "metadata": {},
     "output_type": "execute_result"
    }
   ],
   "source": [
    "df.head()"
   ]
  },
  {
   "cell_type": "code",
   "execution_count": 21,
   "metadata": {},
   "outputs": [
    {
     "data": {
      "image/png": "[encoded data removed]",
      "text/plain": [
       "<Figure size 864x216 with 1 Axes>"
      ]
     },
     "metadata": {
      "needs_background": "light"
     },
     "output_type": "display_data"
    }
   ],
   "source": [
    "fix, ax = plt.subplots(figsize=(12, 3))\n",
    "sns.scatterplot(x='DateTime', y='value', data=df)\n",
    "\n",
    "# 軸目盛をμ秒単位で調整するためのlocaterオブジェクトを生成\n",
    "locater = mdates.MicrosecondLocator(interval=500)\n",
    "ax.xaxis.set_major_locator(locater)"
   ]
  },
  {
   "cell_type": "code",
   "execution_count": 22,
   "metadata": {},
   "outputs": [],
   "source": [
    "# 時間のフィルタリング範囲を設定。最初の1000μ秒だけに絞る\n",
    "start_time = datetime.datetime(year=2020, month=1, day=1, hour=0, minute=0, second=0, microsecond=0)\n",
    "end_time = datetime.datetime(year=2020, month=1, day=1, hour=0, minute=0, second=0, microsecond=1000)"
   ]
  },
  {
   "cell_type": "code",
   "execution_count": 23,
   "metadata": {},
   "outputs": [
    {
     "data": {
      "text/plain": [
       "(18262.0, 18262.000000011572)"
      ]
     },
     "execution_count": 23,
     "metadata": {},
     "output_type": "execute_result"
    },
    {
     "data": {
      "image/png": "[encoded data removed]",
      "text/plain": [
       "<Figure size 864x216 with 1 Axes>"
      ]
     },
     "metadata": {
      "needs_background": "light"
     },
     "output_type": "display_data"
    }
   ],
   "source": [
    "fix, ax = plt.subplots(figsize=(12, 3))\n",
    "sns.scatterplot(x='DateTime', y='value', data=df)\n",
    "\n",
    "# set_xlimに開始時刻と終了時刻をdatetime型で入れればOK\n",
    "ax.set_xlim(start_time, end_time)\n"
   ]
  }
 ],
 "metadata": {
  "kernelspec": {
   "display_name": "Python 3 (ipykernel)",
   "language": "python",
   "name": "python3"
  },
  "language_info": {
   "codemirror_mode": {
    "name": "ipython",
    "version": 3
   },
   "file_extension": ".py",
   "mimetype": "text/x-python",
   "name": "python",
   "nbconvert_exporter": "python",
   "pygments_lexer": "ipython3",
   "version": "3.11.6"
  },
  "orig_nbformat": 4
 },
 "nbformat": 4,
 "nbformat_minor": 2
}
