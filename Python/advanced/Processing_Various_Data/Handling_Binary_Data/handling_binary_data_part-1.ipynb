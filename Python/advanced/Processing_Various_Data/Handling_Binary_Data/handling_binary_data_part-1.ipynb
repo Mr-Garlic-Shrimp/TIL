{
 "cells": [
  {
   "cell_type": "markdown",
   "metadata": {},
   "source": [
    "# バイナリデータの取り扱い - 1\n",
    "参考：  \n",
    "* https://izadori.net/python-binaryfile/\n",
    "* https://tabinou.com/archives/1511\n",
    "* https://atmarkit.itmedia.co.jp/ait/articles/2105/18/news019.html\n",
    "* https://www.tutimogura.com/python-binaryfile-read/\n",
    "* https://qiita.com/katsuki104/items/3d0fbcb5c7da19d318bd\n",
    "* [Pythonのstructモジュール公式ドキュメント](https://docs.python.org/ja/3/library/struct.html)"
   ]
  },
  {
   "cell_type": "code",
   "execution_count": 197,
   "metadata": {},
   "outputs": [],
   "source": [
    "import struct\n",
    "import os\n",
    "import time\n",
    "import datetime\n",
    "import numpy as np"
   ]
  },
  {
   "cell_type": "markdown",
   "metadata": {},
   "source": [
    "## バイナリで書き込まれた整数を読み取り、テキスト形式で書きだす"
   ]
  },
  {
   "cell_type": "code",
   "execution_count": 1,
   "metadata": {},
   "outputs": [],
   "source": [
    "# バイナリデータの書き込み\n",
    "f = open('input/myfile.dat',mode=\"wb\")\n",
    "for i in range(32):\n",
    "    f.write(i.to_bytes(1,\"big\"))\n",
    "f.close()"
   ]
  },
  {
   "cell_type": "code",
   "execution_count": 2,
   "metadata": {},
   "outputs": [],
   "source": [
    "#バイナリデータをテキストデータに変換して書き込み\n",
    "with open('input/myfile.dat', 'rb') as f:\n",
    "    binary_data = f.read()\n",
    "\n",
    "# 1バイトごとにデータを読み取る\n",
    "integers = [int.from_bytes(binary_data[i:i+1], byteorder='big') for i in range(0, len(binary_data), 1)]\n",
    "\n",
    "# テキストファイルに書き出す\n",
    "with open('output.txt', 'w') as f:\n",
    "    for integer in integers:\n",
    "        f.write(f\"{integer}\\n\")\n"
   ]
  },
  {
   "cell_type": "code",
   "execution_count": 3,
   "metadata": {},
   "outputs": [
    {
     "data": {
      "text/plain": [
       "b'\\x00\\x01\\x02\\x03\\x04\\x05\\x06\\x07\\x08\\t\\n\\x0b\\x0c\\r\\x0e\\x0f\\x10\\x11\\x12\\x13\\x14\\x15\\x16\\x17\\x18\\x19\\x1a\\x1b\\x1c\\x1d\\x1e\\x1f'"
      ]
     },
     "execution_count": 3,
     "metadata": {},
     "output_type": "execute_result"
    }
   ],
   "source": [
    "binary_data"
   ]
  },
  {
   "cell_type": "markdown",
   "metadata": {},
   "source": [
    "## バイナリデータとテキストデータが混ざったファイルの取り扱い - 1\n",
    "目的：　バイナリデータとテキストデータが混ざっているファイルのバイナリデータ部分をテキストに変換する"
   ]
  },
  {
   "cell_type": "markdown",
   "metadata": {},
   "source": [
    "書き込んだ結果はバイナリエディタで確認するとよい。  \n",
    "上記で作成したファイルは先頭6バイトがテキストで、残り40バイトがバイナリとなっているレコードが10行あるファイルとなる。  \n",
    "バイト列を10進数などに変換する際はバイトオーダーに注意。  \n",
    "https://corgi-lab.com/programming/c-lang/warn-endian/\n"
   ]
  },
  {
   "cell_type": "code",
   "execution_count": 39,
   "metadata": {},
   "outputs": [
    {
     "name": "stdout",
     "output_type": "stream",
     "text": [
      "File size: 460 bytes\n"
     ]
    }
   ],
   "source": [
    "# 10レコードのデータを作成する\n",
    "num_records = 10\n",
    "\n",
    "# ファイル名を指定する\n",
    "filename = 'input/binary_and_text.dat'\n",
    "\n",
    "# ファイルをバイナリモードで開く\n",
    "with open(filename, 'wb') as file:\n",
    "    for i in range(num_records):\n",
    "        # テキストデータの作成。:02dは2桁でゼロパディング\n",
    "        text_data = f\"Text{i:02d}\".encode('utf-8')  # 6バイトのテキストデータを作成\n",
    "\n",
    "        # バイナリデータの作成。iはCの型intを表し、4Byteの整数型\n",
    "        binary_data = struct.pack('10i', i, i+1, i+2, i+3, i+4, i+5, i+6, i+7, i+8, i+9)  # 40バイトのバイナリデータを作成\n",
    "\n",
    "        # テキストデータとバイナリデータをファイルに書き込む\n",
    "        file.write(text_data)\n",
    "        file.write(binary_data)\n",
    "\n",
    "# ファイルサイズを確認する\n",
    "file_size = os.path.getsize(filename)\n",
    "print(f'File size: {file_size} bytes')  # 出力: File size: 46*100 bytes\n"
   ]
  },
  {
   "cell_type": "code",
   "execution_count": 63,
   "metadata": {},
   "outputs": [],
   "source": [
    "txt_data = []\n",
    "bin_data = []\n",
    "# 取り出したいバイナリ部分の開始バイト\n",
    "target_start_offset = 6\n",
    "# １レコードあたりのバイト数\n",
    "record_length = 46\n",
    "\n",
    "with open(filename, 'rb') as file:\n",
    "    contents = file.read()\n",
    "    for i in range(num_records):\n",
    "        # テキスト部分の取り出し\n",
    "        temp = struct.unpack_from('6c', contents, offset= record_length * i)\n",
    "        txt_data.append(temp)\n",
    "        # バイナリ部分の取り出し\n",
    "        temp = struct.unpack_from('10i', contents, offset= target_start_offset + record_length * i)\n",
    "        bin_data.append(temp)"
   ]
  },
  {
   "cell_type": "code",
   "execution_count": 64,
   "metadata": {},
   "outputs": [
    {
     "data": {
      "text/plain": [
       "[(b'T', b'e', b'x', b't', b'0', b'0'),\n",
       " (b'T', b'e', b'x', b't', b'0', b'1'),\n",
       " (b'T', b'e', b'x', b't', b'0', b'2'),\n",
       " (b'T', b'e', b'x', b't', b'0', b'3'),\n",
       " (b'T', b'e', b'x', b't', b'0', b'4'),\n",
       " (b'T', b'e', b'x', b't', b'0', b'5'),\n",
       " (b'T', b'e', b'x', b't', b'0', b'6'),\n",
       " (b'T', b'e', b'x', b't', b'0', b'7'),\n",
       " (b'T', b'e', b'x', b't', b'0', b'8'),\n",
       " (b'T', b'e', b'x', b't', b'0', b'9')]"
      ]
     },
     "execution_count": 64,
     "metadata": {},
     "output_type": "execute_result"
    }
   ],
   "source": [
    "txt_data"
   ]
  },
  {
   "cell_type": "markdown",
   "metadata": {},
   "source": [
    "バイト型になっているのでstrにしたい場合はUtf-8でエンコーディングすればよい。"
   ]
  },
  {
   "cell_type": "code",
   "execution_count": 82,
   "metadata": {},
   "outputs": [],
   "source": [
    "converted_txt_data = []\n",
    "\n",
    "for tup in txt_data:\n",
    "    temp = b''\n",
    "    for i in range(len(tup)):\n",
    "        # unpack結果を結合\n",
    "        temp += tup[i]\n",
    "\n",
    "    # 結合したバイト型をUtf-8にデコード\n",
    "    converted_txt_data.append(temp.decode('Utf-8'))"
   ]
  },
  {
   "cell_type": "code",
   "execution_count": 81,
   "metadata": {},
   "outputs": [
    {
     "data": {
      "text/plain": [
       "['Text00',\n",
       " 'Text01',\n",
       " 'Text02',\n",
       " 'Text03',\n",
       " 'Text04',\n",
       " 'Text05',\n",
       " 'Text06',\n",
       " 'Text07',\n",
       " 'Text08',\n",
       " 'Text09']"
      ]
     },
     "execution_count": 81,
     "metadata": {},
     "output_type": "execute_result"
    }
   ],
   "source": [
    "converted_txt_data"
   ]
  },
  {
   "cell_type": "code",
   "execution_count": 56,
   "metadata": {},
   "outputs": [
    {
     "data": {
      "text/plain": [
       "[(0, 1, 2, 3, 4, 5, 6, 7, 8, 9),\n",
       " (1, 2, 3, 4, 5, 6, 7, 8, 9, 10),\n",
       " (2, 3, 4, 5, 6, 7, 8, 9, 10, 11),\n",
       " (3, 4, 5, 6, 7, 8, 9, 10, 11, 12),\n",
       " (4, 5, 6, 7, 8, 9, 10, 11, 12, 13),\n",
       " (5, 6, 7, 8, 9, 10, 11, 12, 13, 14),\n",
       " (6, 7, 8, 9, 10, 11, 12, 13, 14, 15),\n",
       " (7, 8, 9, 10, 11, 12, 13, 14, 15, 16),\n",
       " (8, 9, 10, 11, 12, 13, 14, 15, 16, 17),\n",
       " (9, 10, 11, 12, 13, 14, 15, 16, 17, 18)]"
      ]
     },
     "execution_count": 56,
     "metadata": {},
     "output_type": "execute_result"
    }
   ],
   "source": [
    "bin_data"
   ]
  },
  {
   "cell_type": "code",
   "execution_count": 54,
   "metadata": {},
   "outputs": [],
   "source": [
    "# def write_bytes(filename, start_byte, end_byte, data):\n",
    "#     # 範囲のバイト数を計算\n",
    "#     byte_range = end_byte - start_byte + 1\n",
    "\n",
    "#     # 書き込むデータの長さが範囲のバイト数と一致することを確認\n",
    "#     if len(data) != byte_range:\n",
    "#         raise ValueError(f'Data length does not match byte range: {len(data)} != {byte_range}')\n",
    "\n",
    "#     # ファイルをバイナリ書き込みモードで開く\n",
    "#     with open(filename, 'r+b') as file:\n",
    "#         # Xバイト目にファイルポインタを移動\n",
    "#         file.seek(start_byte)\n",
    "\n",
    "#         # データを書き込む\n",
    "#         file.write(data)\n",
    "\n",
    "# # 使用例\n",
    "# filename = 'mixed_data.dat'  # 対象のファイル名\n",
    "# start_byte = 10  # 開始バイト位置 (0インデックス)\n",
    "# end_byte = 19  # 終了バイト位置 (0インデックス)\n",
    "# data = b'new binary'  # 書き込むバイナリデータ\n",
    "\n",
    "# write_bytes(filename, start_byte, end_byte, data)"
   ]
  },
  {
   "cell_type": "markdown",
   "metadata": {},
   "source": [
    "## バイナリデータとテキストデータが混ざったファイルの取り扱い - 2\n",
    "目的：　より複雑なバイナリデータ・テキストデータ混在のファイルについて取り扱う"
   ]
  },
  {
   "cell_type": "code",
   "execution_count": 119,
   "metadata": {},
   "outputs": [
    {
     "name": "stdout",
     "output_type": "stream",
     "text": [
      "エポック秒1695518901.3639977\n",
      "エポック秒1695518901.3644247\n",
      "エポック秒1695518901.3645647\n",
      "エポック秒1695518901.3646924\n",
      "エポック秒1695518901.3648338\n",
      "エポック秒1695518901.3649383\n",
      "エポック秒1695518901.366534\n",
      "エポック秒1695518901.3666852\n",
      "エポック秒1695518901.3668692\n",
      "エポック秒1695518901.367029\n",
      "File size: 720 bytes\n"
     ]
    }
   ],
   "source": [
    "# 10レコードのデータを作成する\n",
    "num_records = 10\n",
    "\n",
    "# ファイル名を指定する\n",
    "filename = 'input/binary_and_text_3.dat'\n",
    "\n",
    "# ファイルをバイナリモードで開く\n",
    "with open(filename, 'wb') as file:\n",
    "    for i in range(num_records):\n",
    "        # テキストデータの作成。:02dは2桁でゼロパディング\n",
    "        text_data_1 = f\"Text{i:02d}\".encode('utf-8')  # 6バイトのテキストデータを作成\n",
    "\n",
    "        # バイナリデータの作成。iはCの型intを表し、4Byteの整数型\n",
    "        binary_data_1 = struct.pack('10i', i, i+1, i+2, i+3, i+4, i+5, i+6, i+7, i+8, i+9)  # 40バイトのバイナリデータを作成\n",
    "\n",
    "        # テキストデータの作成。:02dは2桁でゼロパディング\n",
    "        text_data_2 = f\"AAAA{i:03d}\".encode('utf-8')  # 7バイトのテキストデータを作成\n",
    "\n",
    "        # エポック秒の秒以上をlong longで作成\n",
    "        epoch = time.time()\n",
    "        print(f'エポック秒{epoch}')\n",
    "        epoch_s = str(epoch).split('.')[0]\n",
    "        binary_data_2 = struct.pack('q', int(epoch_s))  # 8バイト\n",
    "\n",
    "        # エポック秒のミリ秒以下をlongで作成\n",
    "        epoch_msusns = str(epoch).split('.')[1]\n",
    "        binary_data_3 = struct.pack('l', int(epoch_msusns))  # 8バイト。ドキュメントでは4バイトと書かれているが、、\n",
    "\n",
    "        # テキストデータの作成。\n",
    "        text_data_3 = \"END\".encode('utf-8')  # 3バイトのテキストデータを作成\n",
    "\n",
    "\n",
    "        # テキストデータとバイナリデータをファイルに書き込む\n",
    "        file.write(text_data_1)\n",
    "        file.write(binary_data_1)\n",
    "        file.write(text_data_2)\n",
    "        file.write(binary_data_2)\n",
    "        file.write(binary_data_3)\n",
    "        file.write(text_data_3)\n",
    "\n",
    "\n",
    "# ファイルサイズを確認する\n",
    "file_size = os.path.getsize(filename)\n",
    "print(f'File size: {file_size} bytes')  # 出力: File size: 72*10 bytes\n"
   ]
  },
  {
   "cell_type": "markdown",
   "metadata": {},
   "source": [
    "出力結果のファイルをバイナリエディタで見ると下記のようになる。  \n",
    "![Alt text](image-1.png)"
   ]
  },
  {
   "cell_type": "code",
   "execution_count": 136,
   "metadata": {},
   "outputs": [
    {
     "data": {
      "text/plain": [
       "1695518901"
      ]
     },
     "execution_count": 136,
     "metadata": {},
     "output_type": "execute_result"
    }
   ],
   "source": [
    "# ファイルにちゃんとエポック秒が書き込まれているか確認。リトルエンディアンなので注意。\n",
    "int('00000000650F90B5', 16)"
   ]
  },
  {
   "cell_type": "markdown",
   "metadata": {},
   "source": [
    "### 作成したファイルからエポック秒、エポック秒（ミリ秒以下）だけ取り出す\n",
    "やることは同じ。欲しい情報がバイナリデータのどの位置にあり、どのような型（バイト長）で定義されているのか知っていないと、  \n",
    "適切に取り出すことは出来ない。"
   ]
  },
  {
   "cell_type": "code",
   "execution_count": 189,
   "metadata": {},
   "outputs": [],
   "source": [
    "dict_epoch = {}\n",
    "filename = 'input/binary_and_text_3.dat'\n",
    "\n",
    "# １レコードあたりのバイト数\n",
    "record_length = 72\n",
    "\n",
    "# 各項目のオフセットとデータ型を定義。\n",
    "# 欲しい情報がバイナリデータのどの位置にあり、どのような型（バイト長）で定義されているのか知らないと取り出せない。\n",
    "block_def = {\n",
    "    'epoch_s'         : {'offset': 53, 'type': '<q'},\n",
    "    'epoch_msusns'         : {'offset': 61, 'type': '<l'},\n",
    "}\n",
    "\n",
    "# 結果格納用の辞書にキー：空リストを作っておく\n",
    "for k in block_def.keys(): \n",
    "    dict_epoch[k] = [ ] \n",
    "\n",
    "\n",
    "with open(filename, 'rb') as file:\n",
    "    contents = file.read()\n",
    "    for i in range(num_records):\n",
    "        for k, v in block_def.items():\n",
    "            # 欲しい箇所の取り出し\n",
    "            temp = struct.unpack_from(f'{v[\"type\"]}', contents, offset= v[\"offset\"] + record_length * i)\n",
    "            dict_epoch[k].append(str(temp[0]))\n",
    "        # # バイナリ部分の取り出し\n",
    "        # temp = struct.unpack_from('10i', contents, offset= target_start_offset + record_length * i)\n",
    "        # bin_data.append(temp)"
   ]
  },
  {
   "cell_type": "code",
   "execution_count": 190,
   "metadata": {},
   "outputs": [
    {
     "data": {
      "text/plain": [
       "{'epoch_s': ['1695518901',\n",
       "  '1695518901',\n",
       "  '1695518901',\n",
       "  '1695518901',\n",
       "  '1695518901',\n",
       "  '1695518901',\n",
       "  '1695518901',\n",
       "  '1695518901',\n",
       "  '1695518901',\n",
       "  '1695518901'],\n",
       " 'epoch_msusns': ['3639977',\n",
       "  '3644247',\n",
       "  '3645647',\n",
       "  '3646924',\n",
       "  '3648338',\n",
       "  '3649383',\n",
       "  '366534',\n",
       "  '3666852',\n",
       "  '3668692',\n",
       "  '367029']}"
      ]
     },
     "execution_count": 190,
     "metadata": {},
     "output_type": "execute_result"
    }
   ],
   "source": [
    "dict_epoch"
   ]
  },
  {
   "cell_type": "code",
   "execution_count": 194,
   "metadata": {},
   "outputs": [],
   "source": [
    "ziped_epoch = list(zip(dict_epoch['epoch_s'], dict_epoch['epoch_msusns']))\n",
    "result = [float(v1 + '.' + v2) for v1, v2 in ziped_epoch]"
   ]
  },
  {
   "cell_type": "code",
   "execution_count": 196,
   "metadata": {},
   "outputs": [
    {
     "data": {
      "text/plain": [
       "[1695518901.3639977,\n",
       " 1695518901.3644247,\n",
       " 1695518901.3645647,\n",
       " 1695518901.3646924,\n",
       " 1695518901.3648338,\n",
       " 1695518901.3649383,\n",
       " 1695518901.366534,\n",
       " 1695518901.3666852,\n",
       " 1695518901.3668692,\n",
       " 1695518901.367029]"
      ]
     },
     "execution_count": 196,
     "metadata": {},
     "output_type": "execute_result"
    }
   ],
   "source": [
    "result"
   ]
  },
  {
   "cell_type": "code",
   "execution_count": 200,
   "metadata": {},
   "outputs": [
    {
     "data": {
      "text/plain": [
       "datetime.datetime(2023, 9, 24, 10, 28, 21, 363998, tzinfo=datetime.timezone(datetime.timedelta(seconds=32400), 'JST'))"
      ]
     },
     "execution_count": 200,
     "metadata": {},
     "output_type": "execute_result"
    }
   ],
   "source": [
    "# タイムゾーンの生成\n",
    "JST = datetime.timezone(datetime.timedelta(hours=+9), 'JST')\n",
    "\n",
    "# 取得したエポック秒を時刻に変換\n",
    "datetime.datetime.fromtimestamp(result[0], tz=JST)"
   ]
  }
 ],
 "metadata": {
  "kernelspec": {
   "display_name": "Python 3 (ipykernel)",
   "language": "python",
   "name": "python3"
  },
  "language_info": {
   "codemirror_mode": {
    "name": "ipython",
    "version": 3
   },
   "file_extension": ".py",
   "mimetype": "text/x-python",
   "name": "python",
   "nbconvert_exporter": "python",
   "pygments_lexer": "ipython3",
   "version": "3.9.12"
  },
  "orig_nbformat": 4
 },
 "nbformat": 4,
 "nbformat_minor": 2
}
