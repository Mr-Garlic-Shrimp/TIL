{
 "cells": [
  {
   "cell_type": "markdown",
   "metadata": {},
   "source": [
    "# バイナリデータの取り扱い - 1\n",
    "参考：  \n",
    "* https://izadori.net/python-binaryfile/\n",
    "* https://tabinou.com/archives/1511\n",
    "* https://atmarkit.itmedia.co.jp/ait/articles/2105/18/news019.html\n",
    "* https://www.tutimogura.com/python-binaryfile-read/\n",
    "* https://qiita.com/katsuki104/items/3d0fbcb5c7da19d318bd\n",
    "* [Pythonのstructモジュール公式ドキュメント](https://docs.python.org/ja/3/library/struct.html)"
   ]
  },
  {
   "cell_type": "code",
   "execution_count": 12,
   "metadata": {},
   "outputs": [],
   "source": [
    "import struct\n",
    "import os\n",
    "import time"
   ]
  },
  {
   "cell_type": "markdown",
   "metadata": {},
   "source": [
    "## バイナリで書き込まれた整数を読み取り、テキスト形式で書きだす"
   ]
  },
  {
   "cell_type": "code",
   "execution_count": 1,
   "metadata": {},
   "outputs": [],
   "source": [
    "# バイナリデータの書き込み\n",
    "f = open('input/myfile.dat',mode=\"wb\")\n",
    "for i in range(32):\n",
    "    f.write(i.to_bytes(1,\"big\"))\n",
    "f.close()"
   ]
  },
  {
   "cell_type": "code",
   "execution_count": 2,
   "metadata": {},
   "outputs": [],
   "source": [
    "#バイナリデータをテキストデータに変換して書き込み\n",
    "with open('input/myfile.dat', 'rb') as f:\n",
    "    binary_data = f.read()\n",
    "\n",
    "# 1バイトごとにデータを読み取る\n",
    "integers = [int.from_bytes(binary_data[i:i+1], byteorder='big') for i in range(0, len(binary_data), 1)]\n",
    "\n",
    "# テキストファイルに書き出す\n",
    "with open('output.txt', 'w') as f:\n",
    "    for integer in integers:\n",
    "        f.write(f\"{integer}\\n\")\n"
   ]
  },
  {
   "cell_type": "code",
   "execution_count": 3,
   "metadata": {},
   "outputs": [
    {
     "data": {
      "text/plain": [
       "b'\\x00\\x01\\x02\\x03\\x04\\x05\\x06\\x07\\x08\\t\\n\\x0b\\x0c\\r\\x0e\\x0f\\x10\\x11\\x12\\x13\\x14\\x15\\x16\\x17\\x18\\x19\\x1a\\x1b\\x1c\\x1d\\x1e\\x1f'"
      ]
     },
     "execution_count": 3,
     "metadata": {},
     "output_type": "execute_result"
    }
   ],
   "source": [
    "binary_data"
   ]
  },
  {
   "cell_type": "markdown",
   "metadata": {},
   "source": [
    "## バイナリデータとテキストデータが混ざったファイルの取り扱い\n",
    "目的：　バイナリデータとテキストデータが混ざっているファイルのバイナリデータ部分をテキストに変換する"
   ]
  },
  {
   "cell_type": "code",
   "execution_count": 39,
   "metadata": {},
   "outputs": [
    {
     "name": "stdout",
     "output_type": "stream",
     "text": [
      "File size: 460 bytes\n"
     ]
    }
   ],
   "source": [
    "# 10レコードのデータを作成する\n",
    "num_records = 10\n",
    "\n",
    "# ファイル名を指定する\n",
    "filename = 'input/binary_and_text.dat'\n",
    "\n",
    "# ファイルをバイナリモードで開く\n",
    "with open(filename, 'wb') as file:\n",
    "    for i in range(num_records):\n",
    "        # テキストデータの作成。:02dは2桁でゼロパディング\n",
    "        text_data = f\"Text{i:02d}\".encode('utf-8')  # 6バイトのテキストデータを作成\n",
    "\n",
    "        # バイナリデータの作成。iはCの型intを表し、4Byteの整数型\n",
    "        binary_data = struct.pack('10i', i, i+1, i+2, i+3, i+4, i+5, i+6, i+7, i+8, i+9)  # 40バイトのバイナリデータを作成\n",
    "\n",
    "        # テキストデータとバイナリデータをファイルに書き込む\n",
    "        file.write(text_data)\n",
    "        file.write(binary_data)\n",
    "\n",
    "# ファイルサイズを確認する\n",
    "file_size = os.path.getsize(filename)\n",
    "print(f'File size: {file_size} bytes')  # 出力: File size: 46*100 bytes\n"
   ]
  },
  {
   "cell_type": "markdown",
   "metadata": {},
   "source": [
    "書き込んだ結果はバイナリエディタで確認するとよい。  \n",
    "上記で作成したファイルは先頭6バイトがテキストで、残り40バイトがバイナリとなっているレコードが10行あるファイルとなる。\n"
   ]
  },
  {
   "cell_type": "code",
   "execution_count": 63,
   "metadata": {},
   "outputs": [],
   "source": [
    "txt_data = []\n",
    "bin_data = []\n",
    "# 取り出したいバイナリ部分の開始バイト\n",
    "target_start_offset = 6\n",
    "# １レコードあたりのバイト数\n",
    "record_length = 46\n",
    "\n",
    "with open(filename, 'rb') as file:\n",
    "    contents = file.read()\n",
    "    for i in range(num_records):\n",
    "        # テキスト部分の取り出し\n",
    "        temp = struct.unpack_from('6c', contents, offset= record_length * i)\n",
    "        txt_data.append(temp)\n",
    "        # バイナリ部分の取り出し\n",
    "        temp = struct.unpack_from('10i', contents, offset= target_start_offset + record_length * i)\n",
    "        bin_data.append(temp)"
   ]
  },
  {
   "cell_type": "code",
   "execution_count": 64,
   "metadata": {},
   "outputs": [
    {
     "data": {
      "text/plain": [
       "[(b'T', b'e', b'x', b't', b'0', b'0'),\n",
       " (b'T', b'e', b'x', b't', b'0', b'1'),\n",
       " (b'T', b'e', b'x', b't', b'0', b'2'),\n",
       " (b'T', b'e', b'x', b't', b'0', b'3'),\n",
       " (b'T', b'e', b'x', b't', b'0', b'4'),\n",
       " (b'T', b'e', b'x', b't', b'0', b'5'),\n",
       " (b'T', b'e', b'x', b't', b'0', b'6'),\n",
       " (b'T', b'e', b'x', b't', b'0', b'7'),\n",
       " (b'T', b'e', b'x', b't', b'0', b'8'),\n",
       " (b'T', b'e', b'x', b't', b'0', b'9')]"
      ]
     },
     "execution_count": 64,
     "metadata": {},
     "output_type": "execute_result"
    }
   ],
   "source": [
    "txt_data"
   ]
  },
  {
   "cell_type": "markdown",
   "metadata": {},
   "source": [
    "バイト型になっているのでstrにしたい場合はUtf-8でエンコーディングすればよい。"
   ]
  },
  {
   "cell_type": "code",
   "execution_count": 82,
   "metadata": {},
   "outputs": [],
   "source": [
    "converted_txt_data = []\n",
    "\n",
    "for tup in txt_data:\n",
    "    temp = b''\n",
    "    for i in range(len(tup)):\n",
    "        # unpack結果を結合\n",
    "        temp += tup[i]\n",
    "\n",
    "    # 結合したバイト型をUtf-8にデコード\n",
    "    converted_txt_data.append(temp.decode('Utf-8'))"
   ]
  },
  {
   "cell_type": "code",
   "execution_count": 81,
   "metadata": {},
   "outputs": [
    {
     "data": {
      "text/plain": [
       "['Text00',\n",
       " 'Text01',\n",
       " 'Text02',\n",
       " 'Text03',\n",
       " 'Text04',\n",
       " 'Text05',\n",
       " 'Text06',\n",
       " 'Text07',\n",
       " 'Text08',\n",
       " 'Text09']"
      ]
     },
     "execution_count": 81,
     "metadata": {},
     "output_type": "execute_result"
    }
   ],
   "source": [
    "converted_txt_data"
   ]
  },
  {
   "cell_type": "code",
   "execution_count": 56,
   "metadata": {},
   "outputs": [
    {
     "data": {
      "text/plain": [
       "[(0, 1, 2, 3, 4, 5, 6, 7, 8, 9),\n",
       " (1, 2, 3, 4, 5, 6, 7, 8, 9, 10),\n",
       " (2, 3, 4, 5, 6, 7, 8, 9, 10, 11),\n",
       " (3, 4, 5, 6, 7, 8, 9, 10, 11, 12),\n",
       " (4, 5, 6, 7, 8, 9, 10, 11, 12, 13),\n",
       " (5, 6, 7, 8, 9, 10, 11, 12, 13, 14),\n",
       " (6, 7, 8, 9, 10, 11, 12, 13, 14, 15),\n",
       " (7, 8, 9, 10, 11, 12, 13, 14, 15, 16),\n",
       " (8, 9, 10, 11, 12, 13, 14, 15, 16, 17),\n",
       " (9, 10, 11, 12, 13, 14, 15, 16, 17, 18)]"
      ]
     },
     "execution_count": 56,
     "metadata": {},
     "output_type": "execute_result"
    }
   ],
   "source": [
    "bin_data"
   ]
  },
  {
   "cell_type": "code",
   "execution_count": 54,
   "metadata": {},
   "outputs": [],
   "source": [
    "# def write_bytes(filename, start_byte, end_byte, data):\n",
    "#     # 範囲のバイト数を計算\n",
    "#     byte_range = end_byte - start_byte + 1\n",
    "\n",
    "#     # 書き込むデータの長さが範囲のバイト数と一致することを確認\n",
    "#     if len(data) != byte_range:\n",
    "#         raise ValueError(f'Data length does not match byte range: {len(data)} != {byte_range}')\n",
    "\n",
    "#     # ファイルをバイナリ書き込みモードで開く\n",
    "#     with open(filename, 'r+b') as file:\n",
    "#         # Xバイト目にファイルポインタを移動\n",
    "#         file.seek(start_byte)\n",
    "\n",
    "#         # データを書き込む\n",
    "#         file.write(data)\n",
    "\n",
    "# # 使用例\n",
    "# filename = 'mixed_data.dat'  # 対象のファイル名\n",
    "# start_byte = 10  # 開始バイト位置 (0インデックス)\n",
    "# end_byte = 19  # 終了バイト位置 (0インデックス)\n",
    "# data = b'new binary'  # 書き込むバイナリデータ\n",
    "\n",
    "# write_bytes(filename, start_byte, end_byte, data)"
   ]
  }
 ],
 "metadata": {
  "kernelspec": {
   "display_name": "Python 3 (ipykernel)",
   "language": "python",
   "name": "python3"
  },
  "language_info": {
   "codemirror_mode": {
    "name": "ipython",
    "version": 3
   },
   "file_extension": ".py",
   "mimetype": "text/x-python",
   "name": "python",
   "nbconvert_exporter": "python",
   "pygments_lexer": "ipython3",
   "version": "3.9.12"
  },
  "orig_nbformat": 4
 },
 "nbformat": 4,
 "nbformat_minor": 2
}
