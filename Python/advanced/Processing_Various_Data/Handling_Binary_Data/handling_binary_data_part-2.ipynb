{
 "cells": [
  {
   "cell_type": "markdown",
   "metadata": {},
   "source": [
    "# バイナリデータの取り扱い - 2\n",
    "参考：  \n",
    "* https://izadori.net/python-binaryfile/\n",
    "* https://tabinou.com/archives/1511\n",
    "* https://atmarkit.itmedia.co.jp/ait/articles/2105/18/news019.html\n",
    "* https://www.tutimogura.com/python-binaryfile-read/\n",
    "* https://qiita.com/katsuki104/items/3d0fbcb5c7da19d318bd\n",
    "* [Pythonのstructモジュール公式ドキュメント](https://docs.python.org/ja/3/library/struct.html)"
   ]
  },
  {
   "cell_type": "code",
   "execution_count": 1,
   "metadata": {},
   "outputs": [],
   "source": [
    "import struct\n",
    "import os\n",
    "import time\n",
    "import datetime\n",
    "import numpy as np"
   ]
  },
  {
   "cell_type": "markdown",
   "metadata": {},
   "source": [
    "## 文字列を検索し、ヒットしたらそこから指定バイト読みだす"
   ]
  },
  {
   "cell_type": "code",
   "execution_count": 4,
   "metadata": {},
   "outputs": [
    {
     "name": "stdout",
     "output_type": "stream",
     "text": [
      "b'Text00\\x00\\x00\\x00\\x00\\x01\\x00\\x00\\x00\\x02\\x00\\x00\\x00\\x03\\x00\\x00\\x00\\x04\\x00\\x00\\x00\\x05\\x00\\x00\\x00\\x06\\x00\\x00\\x00\\x07\\x00\\x00\\x00\\x08\\x00\\x00\\x00\\t\\x00\\x00\\x00AAAA000\\xb5\\x90\\x0fe\\x00\\x00\\x00\\x00\\xa9\\x8a7\\x00\\x00\\x00\\x00\\x00ENDText01\\x01\\x00\\x00\\x00\\x02\\x00\\x00\\x00\\x03\\x00\\x00\\x00\\x04\\x00\\x00\\x00\\x05\\x00\\x00\\x00\\x06\\x00\\x00\\x00\\x07\\x00\\x00\\x00\\x08\\x00\\x00\\x00\\t\\x00\\x00\\x00\\n\\x00\\x00\\x00AAAA001\\xb5\\x90\\x0fe\\x00\\x00\\x00\\x00W\\x9b7\\x00\\x00\\x00\\x00\\x00ENDText02\\x02\\x00\\x00\\x00\\x03\\x00\\x00\\x00\\x04\\x00\\x00\\x00\\x05\\x00\\x00\\x00\\x06\\x00\\x00\\x00\\x07\\x00\\x00\\x00\\x08\\x00\\x00\\x00\\t\\x00\\x00\\x00\\n\\x00\\x00\\x00\\x0b\\x00\\x00\\x00AAAA002\\xb5\\x90\\x0fe\\x00\\x00\\x00\\x00\\xcf\\xa07\\x00\\x00\\x00\\x00\\x00ENDText03\\x03\\x00\\x00\\x00\\x04\\x00\\x00\\x00\\x05\\x00\\x00\\x00\\x06\\x00\\x00\\x00\\x07\\x00\\x00\\x00\\x08\\x00\\x00\\x00\\t\\x00\\x00\\x00\\n\\x00\\x00\\x00\\x0b\\x00\\x00\\x00\\x0c\\x00\\x00\\x00AAAA003\\xb5\\x90\\x0fe\\x00\\x00\\x00\\x00\\xcc\\xa57\\x00\\x00\\x00\\x00\\x00ENDText04\\x04\\x00\\x00\\x00\\x05\\x00\\x00\\x00\\x06\\x00\\x00\\x00\\x07\\x00\\x00\\x00\\x08\\x00\\x00\\x00\\t\\x00\\x00\\x00\\n\\x00\\x00\\x00\\x0b\\x00\\x00\\x00\\x0c\\x00\\x00\\x00\\r\\x00\\x00\\x00AAAA004\\xb5\\x90\\x0fe\\x00\\x00\\x00\\x00R\\xab7\\x00\\x00\\x00\\x00\\x00ENDText05\\x05\\x00\\x00\\x00\\x06\\x00\\x00\\x00\\x07\\x00\\x00\\x00\\x08\\x00\\x00\\x00\\t\\x00\\x00\\x00\\n\\x00\\x00\\x00\\x0b\\x00\\x00\\x00\\x0c\\x00\\x00\\x00\\r\\x00\\x00\\x00\\x0e\\x00\\x00\\x00AAAA005\\xb5\\x90\\x0fe\\x00\\x00\\x00\\x00g\\xaf7\\x00\\x00\\x00\\x00\\x00ENDText06\\x06\\x00\\x00\\x00\\x07\\x00\\x00\\x00\\x08\\x00\\x00\\x00\\t\\x00\\x00\\x00\\n\\x00\\x00\\x00\\x0b\\x00\\x00\\x00\\x0c\\x00\\x00\\x00\\r\\x00\\x00\\x00\\x0e\\x00\\x00\\x00\\x0f\\x00\\x00\\x00AAAA006\\xb5\\x90\\x0fe\\x00\\x00\\x00\\x00\\xc6\\x97\\x05\\x00\\x00\\x00\\x00\\x00ENDText07\\x07\\x00\\x00\\x00\\x08\\x00\\x00\\x00\\t\\x00\\x00\\x00\\n\\x00\\x00\\x00\\x0b\\x00\\x00\\x00\\x0c\\x00\\x00\\x00\\r\\x00\\x00\\x00\\x0e\\x00\\x00\\x00\\x0f\\x00\\x00\\x00\\x10\\x00\\x00\\x00AAAA007\\xb5\\x90\\x0fe\\x00\\x00\\x00\\x00\\xa4\\xf37\\x00\\x00\\x00\\x00\\x00ENDText08\\x08\\x00\\x00\\x00\\t\\x00\\x00\\x00\\n\\x00\\x00\\x00\\x0b\\x00\\x00\\x00\\x0c\\x00\\x00\\x00\\r\\x00\\x00\\x00\\x0e\\x00\\x00\\x00\\x0f\\x00\\x00\\x00\\x10\\x00\\x00\\x00\\x11\\x00\\x00\\x00AAAA008\\xb5\\x90\\x0fe\\x00\\x00\\x00\\x00\\xd4\\xfa7\\x00\\x00\\x00\\x00\\x00ENDText09\\t\\x00\\x00\\x00\\n\\x00\\x00\\x00\\x0b\\x00\\x00\\x00\\x0c\\x00\\x00\\x00\\r\\x00\\x00\\x00\\x0e\\x00\\x00\\x00\\x0f\\x00\\x00\\x00\\x10\\x00\\x00\\x00\\x11\\x00\\x00\\x00\\x12\\x00\\x00\\x00AAAA009\\xb5\\x90\\x0fe\\x00\\x00\\x00\\x00\\xb5\\x99\\x05\\x00\\x00\\x00\\x00\\x00END'\n",
      "b'AAAA000\\xb5\\x90\\x0f'\n"
     ]
    }
   ],
   "source": [
    "def find_and_extract_data(filename):\n",
    "    with open(filename, 'rb') as file:\n",
    "        content = file.read()\n",
    "        \n",
    "        # AAAの位置を検索\n",
    "        print(content)\n",
    "        start_index = content.find(b'AAA')\n",
    "\n",
    "        # AAAが見つかった場合\n",
    "        if start_index != -1:\n",
    "            end_index = start_index + 10\n",
    "            extracted_data = content[start_index:end_index]\n",
    "            return extracted_data\n",
    "        else:\n",
    "            print(\"AAA not found in the file.\")\n",
    "            return None\n",
    "\n",
    "# 使用例\n",
    "filename = 'input/binary_and_text_3.dat'  \n",
    "extracted_data = find_and_extract_data(filename)\n",
    "\n",
    "if extracted_data:\n",
    "    print(extracted_data)"
   ]
  },
  {
   "cell_type": "code",
   "execution_count": 22,
   "metadata": {},
   "outputs": [
    {
     "name": "stdout",
     "output_type": "stream",
     "text": [
      "Chunk 1: b'AAA,12'\n",
      "Chunk 2: b'AAA,\\r\\n'\n",
      "Chunk 3: b'AAA,78'\n",
      "Chunk 4: b'AAA,88'\n"
     ]
    }
   ],
   "source": [
    "def find_and_extract_data(filename):\n",
    "    extracted_chunks = []\n",
    "    \n",
    "    with open(filename, 'rb') as file:\n",
    "        content = file.read()\n",
    "\n",
    "        start_index = 0\n",
    "        while True:\n",
    "            # AAAの位置を検索\n",
    "            found_index = content.find(b'AAA', start_index)\n",
    "            \n",
    "            # AAAが見つからなかった場合、ループを終了\n",
    "            if found_index == -1:\n",
    "                break\n",
    "\n",
    "            # AAAが見つかった場所から10バイト分のデータを取得\n",
    "            end_index = found_index + 6\n",
    "            extracted_chunk = content[found_index:end_index]\n",
    "            extracted_chunks.append(extracted_chunk)\n",
    "\n",
    "            # 次の検索開始位置を更新\n",
    "            start_index = found_index + len(b'AAA')\n",
    "\n",
    "    return extracted_chunks\n",
    "\n",
    "# 使用例\n",
    "filename = 'input/sample_data_1.dat'  # こちらのファイル名を実際のものに置き換えてください\n",
    "extracted_data_list = find_and_extract_data(filename)\n",
    "\n",
    "for idx, data in enumerate(extracted_data_list, 1):\n",
    "    print(f\"Chunk {idx}: {data}\")\n"
   ]
  },
  {
   "cell_type": "code",
   "execution_count": null,
   "metadata": {},
   "outputs": [],
   "source": [
    "with open('input/sample_data_1.dat', 'rb') as file:\n",
    "    content = file.read()"
   ]
  },
  {
   "cell_type": "code",
   "execution_count": 20,
   "metadata": {},
   "outputs": [
    {
     "data": {
      "text/plain": [
       "13"
      ]
     },
     "execution_count": 20,
     "metadata": {},
     "output_type": "execute_result"
    }
   ],
   "source": [
    "content.find(b'AAA', 3)"
   ]
  },
  {
   "cell_type": "code",
   "execution_count": null,
   "metadata": {},
   "outputs": [],
   "source": [
    "dict_epoch = {}\n",
    "filename = 'input/binary_and_text_3.dat'\n",
    "\n",
    "# １レコードあたりのバイト数\n",
    "record_length = 72\n",
    "\n",
    "# 各項目のオフセットとデータ型を定義。\n",
    "# 欲しい情報がバイナリデータのどの位置にあり、どのような型（バイト長）で定義されているのか知らないと取り出せない。\n",
    "block_def = {\n",
    "    'epoch_s'         : {'offset': 53, 'type': '<q'},\n",
    "    'epoch_msusns'         : {'offset': 61, 'type': '<l'},\n",
    "}\n",
    "\n",
    "# 結果格納用の辞書にキー：空リストを作っておく\n",
    "for k in block_def.keys(): \n",
    "    dict_epoch[k] = [ ] \n",
    "\n",
    "\n",
    "with open(filename, 'rb') as file:\n",
    "    contents = file.read()\n",
    "    for i in range(num_records):\n",
    "        for k, v in block_def.items():\n",
    "            # 欲しい箇所の取り出し\n",
    "            temp = struct.unpack_from(f'{v[\"type\"]}', contents, offset= v[\"offset\"] + record_length * i)\n",
    "            dict_epoch[k].append(str(temp[0]))\n",
    "        # # バイナリ部分の取り出し\n",
    "        # temp = struct.unpack_from('10i', contents, offset= target_start_offset + record_length * i)\n",
    "        # bin_data.append(temp)"
   ]
  },
  {
   "cell_type": "code",
   "execution_count": null,
   "metadata": {},
   "outputs": [],
   "source": []
  },
  {
   "cell_type": "code",
   "execution_count": 119,
   "metadata": {},
   "outputs": [
    {
     "name": "stdout",
     "output_type": "stream",
     "text": [
      "エポック秒1695518901.3639977\n",
      "エポック秒1695518901.3644247\n",
      "エポック秒1695518901.3645647\n",
      "エポック秒1695518901.3646924\n",
      "エポック秒1695518901.3648338\n",
      "エポック秒1695518901.3649383\n",
      "エポック秒1695518901.366534\n",
      "エポック秒1695518901.3666852\n",
      "エポック秒1695518901.3668692\n",
      "エポック秒1695518901.367029\n",
      "File size: 720 bytes\n"
     ]
    }
   ],
   "source": [
    "# 10レコードのデータを作成する\n",
    "num_records = 10\n",
    "\n",
    "# ファイル名を指定する\n",
    "filename = 'input/binary_and_text_3.dat'\n",
    "\n",
    "# ファイルをバイナリモードで開く\n",
    "with open(filename, 'wb') as file:\n",
    "    for i in range(num_records):\n",
    "        # テキストデータの作成。:02dは2桁でゼロパディング\n",
    "        text_data_1 = f\"Text{i:02d}\".encode('utf-8')  # 6バイトのテキストデータを作成\n",
    "\n",
    "        # バイナリデータの作成。iはCの型intを表し、4Byteの整数型\n",
    "        binary_data_1 = struct.pack('10i', i, i+1, i+2, i+3, i+4, i+5, i+6, i+7, i+8, i+9)  # 40バイトのバイナリデータを作成\n",
    "\n",
    "        # テキストデータの作成。:02dは2桁でゼロパディング\n",
    "        text_data_2 = f\"AAAA{i:03d}\".encode('utf-8')  # 7バイトのテキストデータを作成\n",
    "\n",
    "        # エポック秒の秒以上をlong longで作成\n",
    "        epoch = time.time()\n",
    "        print(f'エポック秒{epoch}')\n",
    "        epoch_s = str(epoch).split('.')[0]\n",
    "        binary_data_2 = struct.pack('q', int(epoch_s))  # 8バイト\n",
    "\n",
    "        # エポック秒のミリ秒以下をlongで作成\n",
    "        epoch_msusns = str(epoch).split('.')[1]\n",
    "        binary_data_3 = struct.pack('l', int(epoch_msusns))  # 8バイト。ドキュメントでは4バイトと書かれているが、、\n",
    "\n",
    "        # テキストデータの作成。\n",
    "        text_data_3 = \"END\".encode('utf-8')  # 3バイトのテキストデータを作成\n",
    "\n",
    "\n",
    "        # テキストデータとバイナリデータをファイルに書き込む\n",
    "        file.write(text_data_1)\n",
    "        file.write(binary_data_1)\n",
    "        file.write(text_data_2)\n",
    "        file.write(binary_data_2)\n",
    "        file.write(binary_data_3)\n",
    "        file.write(text_data_3)\n",
    "\n",
    "\n",
    "# ファイルサイズを確認する\n",
    "file_size = os.path.getsize(filename)\n",
    "print(f'File size: {file_size} bytes')  # 出力: File size: 72*10 bytes\n"
   ]
  },
  {
   "cell_type": "markdown",
   "metadata": {},
   "source": [
    "出力結果のファイルをバイナリエディタで見ると下記のようになる。  \n",
    "![Alt text](image-1.png)"
   ]
  },
  {
   "cell_type": "code",
   "execution_count": 136,
   "metadata": {},
   "outputs": [
    {
     "data": {
      "text/plain": [
       "1695518901"
      ]
     },
     "execution_count": 136,
     "metadata": {},
     "output_type": "execute_result"
    }
   ],
   "source": [
    "# ファイルにちゃんとエポック秒が書き込まれているか確認。リトルエンディアンなので注意。\n",
    "int('00000000650F90B5', 16)"
   ]
  },
  {
   "cell_type": "markdown",
   "metadata": {},
   "source": [
    "### 作成したファイルからエポック秒、エポック秒（ミリ秒以下）だけ取り出す\n",
    "やることは同じ。欲しい情報がバイナリデータのどの位置にあり、どのような型（バイト長）で定義されているのか知っていないと、  \n",
    "適切に取り出すことは出来ない。"
   ]
  },
  {
   "cell_type": "code",
   "execution_count": 189,
   "metadata": {},
   "outputs": [],
   "source": [
    "dict_epoch = {}\n",
    "filename = 'input/binary_and_text_3.dat'\n",
    "\n",
    "# １レコードあたりのバイト数\n",
    "record_length = 72\n",
    "\n",
    "# 各項目のオフセットとデータ型を定義。\n",
    "# 欲しい情報がバイナリデータのどの位置にあり、どのような型（バイト長）で定義されているのか知らないと取り出せない。\n",
    "block_def = {\n",
    "    'epoch_s'         : {'offset': 53, 'type': '<q'},\n",
    "    'epoch_msusns'         : {'offset': 61, 'type': '<l'},\n",
    "}\n",
    "\n",
    "# 結果格納用の辞書にキー：空リストを作っておく\n",
    "for k in block_def.keys(): \n",
    "    dict_epoch[k] = [ ] \n",
    "\n",
    "\n",
    "with open(filename, 'rb') as file:\n",
    "    contents = file.read()\n",
    "    for i in range(num_records):\n",
    "        for k, v in block_def.items():\n",
    "            # 欲しい箇所の取り出し\n",
    "            temp = struct.unpack_from(f'{v[\"type\"]}', contents, offset= v[\"offset\"] + record_length * i)\n",
    "            dict_epoch[k].append(str(temp[0]))\n",
    "        # # バイナリ部分の取り出し\n",
    "        # temp = struct.unpack_from('10i', contents, offset= target_start_offset + record_length * i)\n",
    "        # bin_data.append(temp)"
   ]
  },
  {
   "cell_type": "code",
   "execution_count": 190,
   "metadata": {},
   "outputs": [
    {
     "data": {
      "text/plain": [
       "{'epoch_s': ['1695518901',\n",
       "  '1695518901',\n",
       "  '1695518901',\n",
       "  '1695518901',\n",
       "  '1695518901',\n",
       "  '1695518901',\n",
       "  '1695518901',\n",
       "  '1695518901',\n",
       "  '1695518901',\n",
       "  '1695518901'],\n",
       " 'epoch_msusns': ['3639977',\n",
       "  '3644247',\n",
       "  '3645647',\n",
       "  '3646924',\n",
       "  '3648338',\n",
       "  '3649383',\n",
       "  '366534',\n",
       "  '3666852',\n",
       "  '3668692',\n",
       "  '367029']}"
      ]
     },
     "execution_count": 190,
     "metadata": {},
     "output_type": "execute_result"
    }
   ],
   "source": [
    "dict_epoch"
   ]
  },
  {
   "cell_type": "code",
   "execution_count": 194,
   "metadata": {},
   "outputs": [],
   "source": [
    "ziped_epoch = list(zip(dict_epoch['epoch_s'], dict_epoch['epoch_msusns']))\n",
    "result = [float(v1 + '.' + v2) for v1, v2 in ziped_epoch]"
   ]
  },
  {
   "cell_type": "code",
   "execution_count": 196,
   "metadata": {},
   "outputs": [
    {
     "data": {
      "text/plain": [
       "[1695518901.3639977,\n",
       " 1695518901.3644247,\n",
       " 1695518901.3645647,\n",
       " 1695518901.3646924,\n",
       " 1695518901.3648338,\n",
       " 1695518901.3649383,\n",
       " 1695518901.366534,\n",
       " 1695518901.3666852,\n",
       " 1695518901.3668692,\n",
       " 1695518901.367029]"
      ]
     },
     "execution_count": 196,
     "metadata": {},
     "output_type": "execute_result"
    }
   ],
   "source": [
    "result"
   ]
  },
  {
   "cell_type": "code",
   "execution_count": 200,
   "metadata": {},
   "outputs": [
    {
     "data": {
      "text/plain": [
       "datetime.datetime(2023, 9, 24, 10, 28, 21, 363998, tzinfo=datetime.timezone(datetime.timedelta(seconds=32400), 'JST'))"
      ]
     },
     "execution_count": 200,
     "metadata": {},
     "output_type": "execute_result"
    }
   ],
   "source": [
    "# タイムゾーンの生成\n",
    "JST = datetime.timezone(datetime.timedelta(hours=+9), 'JST')\n",
    "\n",
    "# 取得したエポック秒を時刻に変換\n",
    "datetime.datetime.fromtimestamp(result[0], tz=JST)"
   ]
  }
 ],
 "metadata": {
  "kernelspec": {
   "display_name": "Python 3 (ipykernel)",
   "language": "python",
   "name": "python3"
  },
  "language_info": {
   "codemirror_mode": {
    "name": "ipython",
    "version": 3
   },
   "file_extension": ".py",
   "mimetype": "text/x-python",
   "name": "python",
   "nbconvert_exporter": "python",
   "pygments_lexer": "ipython3",
   "version": "3.9.12"
  },
  "orig_nbformat": 4
 },
 "nbformat": 4,
 "nbformat_minor": 2
}
