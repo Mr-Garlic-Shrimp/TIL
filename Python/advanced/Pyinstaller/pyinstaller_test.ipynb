{
 "cells": [
  {
   "cell_type": "markdown",
   "metadata": {},
   "source": [
    "# Pyinstallerで色々試す"
   ]
  },
  {
   "cell_type": "code",
   "execution_count": 1,
   "metadata": {},
   "outputs": [],
   "source": [
    "# pyinstallerのインストール\n",
    "#! pip install -U pyinstaller"
   ]
  },
  {
   "cell_type": "code",
   "execution_count": 4,
   "metadata": {},
   "outputs": [
    {
     "name": "stdout",
     "output_type": "stream",
     "text": [
      "385 INFO: PyInstaller: 6.2.0\n",
      "385 INFO: Python: 3.11.6\n",
      "387 INFO: Platform: Linux-5.15.133.1-microsoft-standard-WSL2-x86_64-with-glibc2.36\n",
      "387 INFO: wrote /work/TIL/Python/advanced/Pyinstaller/main.spec\n",
      "389 INFO: Extending PYTHONPATH with paths\n",
      "['/work/TIL/Python/advanced/Pyinstaller']\n",
      "794 INFO: checking Analysis\n",
      "795 INFO: Building Analysis because Analysis-00.toc is non existent\n",
      "795 INFO: Initializing module dependency graph...\n",
      "795 INFO: Caching module graph hooks...\n",
      "808 INFO: Analyzing base_library.zip ...\n",
      "2380 INFO: Loading module hook 'hook-heapq.py' from '/usr/local/lib/python3.11/site-packages/PyInstaller/hooks'...\n",
      "2559 INFO: Loading module hook 'hook-encodings.py' from '/usr/local/lib/python3.11/site-packages/PyInstaller/hooks'...\n",
      "5685 INFO: Loading module hook 'hook-pickle.py' from '/usr/local/lib/python3.11/site-packages/PyInstaller/hooks'...\n",
      "8309 INFO: Caching module dependency graph...\n",
      "8488 INFO: Running Analysis Analysis-00.toc\n",
      "8488 INFO: Looking for Python shared library...\n",
      "8497 INFO: Using Python shared library: /usr/local/lib/libpython3.11.so.1.0\n",
      "8497 INFO: Analyzing /work/TIL/Python/advanced/Pyinstaller/main.py\n",
      "8499 INFO: Processing module hooks...\n",
      "8520 INFO: Looking for ctypes DLLs\n",
      "8548 INFO: Analyzing run-time hooks ...\n",
      "8551 INFO: Including run-time hook '/usr/local/lib/python3.11/site-packages/PyInstaller/hooks/rthooks/pyi_rth_inspect.py'\n",
      "8560 INFO: Looking for dynamic libraries\n",
      "8937 INFO: Warnings written to /work/TIL/Python/advanced/Pyinstaller/build/main/warn-main.txt\n",
      "8960 INFO: Graph cross-reference written to /work/TIL/Python/advanced/Pyinstaller/build/main/xref-main.html\n",
      "8975 INFO: checking PYZ\n",
      "8975 INFO: Building PYZ because PYZ-00.toc is non existent\n",
      "8975 INFO: Building PYZ (ZlibArchive) /work/TIL/Python/advanced/Pyinstaller/build/main/PYZ-00.pyz\n",
      "9293 INFO: Building PYZ (ZlibArchive) /work/TIL/Python/advanced/Pyinstaller/build/main/PYZ-00.pyz completed successfully.\n",
      "9304 INFO: checking PKG\n",
      "9304 INFO: Building PKG because PKG-00.toc is non existent\n",
      "9304 INFO: Building PKG (CArchive) main.pkg\n",
      "9313 INFO: Building PKG (CArchive) main.pkg completed successfully.\n",
      "9314 INFO: Bootloader /usr/local/lib/python3.11/site-packages/PyInstaller/bootloader/Linux-64bit-intel/run\n",
      "9314 INFO: checking EXE\n",
      "9314 INFO: Building EXE because EXE-00.toc is non existent\n",
      "9314 INFO: Building EXE from EXE-00.toc\n",
      "9315 INFO: Copying bootloader EXE to /work/TIL/Python/advanced/Pyinstaller/build/main/main\n",
      "9315 INFO: Appending PKG archive to custom ELF section in EXE\n",
      "9323 INFO: Building EXE from EXE-00.toc completed successfully.\n",
      "9325 INFO: checking COLLECT\n",
      "9325 INFO: Building COLLECT because COLLECT-00.toc is non existent\n",
      "9326 INFO: Building COLLECT COLLECT-00.toc\n",
      "9367 INFO: Building COLLECT COLLECT-00.toc completed successfully.\n"
     ]
    }
   ],
   "source": [
    "! pyinstaller main.py"
   ]
  },
  {
   "cell_type": "code",
   "execution_count": 13,
   "metadata": {},
   "outputs": [
    {
     "name": "stdout",
     "output_type": "stream",
     "text": [
      "/work/TIL/Python/advanced/Pyinstaller\n"
     ]
    }
   ],
   "source": [
    "! pwd"
   ]
  }
 ],
 "metadata": {
  "kernelspec": {
   "display_name": "Python 3",
   "language": "python",
   "name": "python3"
  },
  "language_info": {
   "codemirror_mode": {
    "name": "ipython",
    "version": 3
   },
   "file_extension": ".py",
   "mimetype": "text/x-python",
   "name": "python",
   "nbconvert_exporter": "python",
   "pygments_lexer": "ipython3",
   "version": "3.11.6"
  }
 },
 "nbformat": 4,
 "nbformat_minor": 2
}
