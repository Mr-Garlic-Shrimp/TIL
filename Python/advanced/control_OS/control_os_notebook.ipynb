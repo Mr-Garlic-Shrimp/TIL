{
 "cells": [
  {
   "cell_type": "markdown",
   "metadata": {},
   "source": [
    "# pythonからのOS操作"
   ]
  },
  {
   "cell_type": "markdown",
   "metadata": {},
   "source": [
    "## ファイルパスのリストを取得する(glob)\n",
    "ワイルドカードを使ってファイル名（パス名）のリストを取得する  \n",
    "練習用データ：http://medicalsegmentation.com/covid19/\n",
    "* rp_im: CTデータのイメージ  \n",
    "* rp_msk: CTデータの病変箇所のラベル付けしてセグメンテーションされたデータ\n",
    "    "
   ]
  },
  {
   "cell_type": "code",
   "execution_count": 7,
   "metadata": {},
   "outputs": [],
   "source": [
    "# from glob import globとすればglob.globとする必要はなくなる\n",
    "#import glob\n",
    "from glob import glob\n",
    "import numpy as np\n",
    "import pandas as pd\n",
    "import matplotlib.pyplot as plt\n",
    "import seaborn as sns\n",
    "%matplotlib inline"
   ]
  },
  {
   "cell_type": "code",
   "execution_count": 9,
   "metadata": {},
   "outputs": [
    {
     "data": {
      "text/plain": [
       "['../../Trouble_Shooting',\n",
       " '../../OpenCV',\n",
       " '../../Scraping',\n",
       " '../../pandas',\n",
       " '../../Matplotlib',\n",
       " '../../advanced',\n",
       " '../../basic',\n",
       " '../../sample_data',\n",
       " '../../Seaborn',\n",
       " '../../NumPy']"
      ]
     },
     "execution_count": 9,
     "metadata": {},
     "output_type": "execute_result"
    }
   ],
   "source": [
    "# ファイルパスリストを取得\n",
    "glob('../../*')"
   ]
  },
  {
   "cell_type": "code",
   "execution_count": 10,
   "metadata": {},
   "outputs": [
    {
     "data": {
      "text/plain": [
       "['../../pandas/sample_data/tmdb_5000_credits.csv',\n",
       " '../../pandas/sample_data/tmdb_5000_movies.csv',\n",
       " '../../pandas/sample_data/Sales-sample.csv',\n",
       " '../../pandas/sample_data/stock.csv']"
      ]
     },
     "execution_count": 10,
     "metadata": {},
     "output_type": "execute_result"
    }
   ],
   "source": [
    "glob('../../pandas/sample_data/*')"
   ]
  },
  {
   "cell_type": "code",
   "execution_count": 14,
   "metadata": {},
   "outputs": [
    {
     "data": {
      "text/plain": [
       "['../../sample_data/public_covid_data/rp_im/4.nii',\n",
       " '../../sample_data/public_covid_data/rp_im/1.nii',\n",
       " '../../sample_data/public_covid_data/rp_im/8.nii',\n",
       " '../../sample_data/public_covid_data/rp_im/9.nii',\n",
       " '../../sample_data/public_covid_data/rp_im/6.nii',\n",
       " '../../sample_data/public_covid_data/rp_im/5.nii',\n",
       " '../../sample_data/public_covid_data/rp_im/7.nii',\n",
       " '../../sample_data/public_covid_data/rp_im/3.nii',\n",
       " '../../sample_data/public_covid_data/rp_im/2.nii',\n",
       " '../../sample_data/public_covid_data/rp_msk/4.nii',\n",
       " '../../sample_data/public_covid_data/rp_msk/1.nii',\n",
       " '../../sample_data/public_covid_data/rp_msk/8.nii',\n",
       " '../../sample_data/public_covid_data/rp_msk/9.nii',\n",
       " '../../sample_data/public_covid_data/rp_msk/6.nii',\n",
       " '../../sample_data/public_covid_data/rp_msk/5.nii',\n",
       " '../../sample_data/public_covid_data/rp_msk/7.nii',\n",
       " '../../sample_data/public_covid_data/rp_msk/3.nii',\n",
       " '../../sample_data/public_covid_data/rp_msk/2.nii']"
      ]
     },
     "execution_count": 14,
     "metadata": {},
     "output_type": "execute_result"
    }
   ],
   "source": [
    "# アスタリスクを使って階層にすると、配下のディレクトリに格納されているすべてのファイル・フォルダが分かる\n",
    "glob('../../sample_data/public_covid_data/*/*')"
   ]
  },
  {
   "cell_type": "code",
   "execution_count": 15,
   "metadata": {},
   "outputs": [
    {
     "data": {
      "text/plain": [
       "['../../sample_data/public_covid_data/rp_im/8.nii',\n",
       " '../../sample_data/public_covid_data/rp_im/9.nii',\n",
       " '../../sample_data/public_covid_data/rp_im/6.nii',\n",
       " '../../sample_data/public_covid_data/rp_im/5.nii',\n",
       " '../../sample_data/public_covid_data/rp_im/7.nii']"
      ]
     },
     "execution_count": 15,
     "metadata": {},
     "output_type": "execute_result"
    }
   ],
   "source": [
    "# ファイル名の先頭が5-9で始まるファイルを取得\n",
    "glob('../../sample_data/public_covid_data/rp_im/[5-9]*')"
   ]
  },
  {
   "cell_type": "markdown",
   "metadata": {},
   "source": [
    "## osとpathlib\n",
    "パスの表現方法はOSによって違うことがあるので、文字列で扱うのは危険。  \n",
    "osとpathlibを使うことで安全にパスを操作できる。"
   ]
  },
  {
   "cell_type": "code",
   "execution_count": 17,
   "metadata": {},
   "outputs": [],
   "source": [
    "import os\n",
    "# PathクラスのみインポートでOK\n",
    "from pathlib import Path"
   ]
  },
  {
   "cell_type": "code",
   "execution_count": 33,
   "metadata": {},
   "outputs": [],
   "source": [
    "# Pathクラスのインスタンスpを作成\n",
    "p = Path('../../sample_data/public_covid_data/')"
   ]
  },
  {
   "cell_type": "code",
   "execution_count": 38,
   "metadata": {},
   "outputs": [],
   "source": [
    "# iteratorを作成。サブディレクトリの情報を取得できる。\n",
    "p_i = p.iterdir()"
   ]
  },
  {
   "cell_type": "code",
   "execution_count": 39,
   "metadata": {},
   "outputs": [
    {
     "data": {
      "text/plain": [
       "PosixPath('../../sample_data/public_covid_data/rp_im')"
      ]
     },
     "execution_count": 39,
     "metadata": {},
     "output_type": "execute_result"
    }
   ],
   "source": [
    "# nextの結果もPathオブジェクトである。\n",
    "next(p_i)"
   ]
  },
  {
   "cell_type": "code",
   "execution_count": 40,
   "metadata": {},
   "outputs": [
    {
     "data": {
      "text/plain": [
       "PosixPath('../../sample_data/public_covid_data/rp_msk/4.nii')"
      ]
     },
     "execution_count": 40,
     "metadata": {},
     "output_type": "execute_result"
    }
   ],
   "source": [
    "# nextの結果もPathオブジェクトなので、iterdir()することによりさらに下のサブディレクトリのパスを取得できる\n",
    "next(next(p_i).iterdir())"
   ]
  },
  {
   "cell_type": "code",
   "execution_count": 47,
   "metadata": {},
   "outputs": [
    {
     "data": {
      "text/plain": [
       "PosixPath('../../sample_data/public_covid_data/rp_im')"
      ]
     },
     "execution_count": 47,
     "metadata": {},
     "output_type": "execute_result"
    }
   ],
   "source": [
    "# iteratorに対してlist()を使うことで中身をリストで取得できる\n",
    "sub_p = list(p.iterdir())[0]\n",
    "sub_p"
   ]
  },
  {
   "cell_type": "code",
   "execution_count": 48,
   "metadata": {},
   "outputs": [
    {
     "data": {
      "text/plain": [
       "[PosixPath('../../sample_data/public_covid_data/rp_im/4.nii'),\n",
       " PosixPath('../../sample_data/public_covid_data/rp_im/1.nii'),\n",
       " PosixPath('../../sample_data/public_covid_data/rp_im/8.nii'),\n",
       " PosixPath('../../sample_data/public_covid_data/rp_im/9.nii'),\n",
       " PosixPath('../../sample_data/public_covid_data/rp_im/6.nii'),\n",
       " PosixPath('../../sample_data/public_covid_data/rp_im/5.nii'),\n",
       " PosixPath('../../sample_data/public_covid_data/rp_im/7.nii'),\n",
       " PosixPath('../../sample_data/public_covid_data/rp_im/3.nii'),\n",
       " PosixPath('../../sample_data/public_covid_data/rp_im/2.nii')]"
      ]
     },
     "execution_count": 48,
     "metadata": {},
     "output_type": "execute_result"
    }
   ],
   "source": [
    "list(sub_p.iterdir())"
   ]
  },
  {
   "cell_type": "code",
   "execution_count": 51,
   "metadata": {},
   "outputs": [
    {
     "data": {
      "text/plain": [
       "[PosixPath('../../sample_data/public_covid_data/rp_im/8.nii'),\n",
       " PosixPath('../../sample_data/public_covid_data/rp_im/9.nii'),\n",
       " PosixPath('../../sample_data/public_covid_data/rp_im/6.nii'),\n",
       " PosixPath('../../sample_data/public_covid_data/rp_im/7.nii')]"
      ]
     },
     "execution_count": 51,
     "metadata": {},
     "output_type": "execute_result"
    }
   ],
   "source": [
    "# pathオブジェクトに対してglobを実行すると、該当するpathオブジェクトのiteratorを返す\n",
    "list(sub_p.glob('*[6-9]*'))"
   ]
  },
  {
   "cell_type": "code",
   "execution_count": 52,
   "metadata": {},
   "outputs": [],
   "source": [
    "target_file = list(sub_p.glob('*[6-9]*'))[0]"
   ]
  },
  {
   "cell_type": "code",
   "execution_count": 55,
   "metadata": {},
   "outputs": [
    {
     "data": {
      "text/plain": [
       "('../../sample_data/public_covid_data/rp_im', '8.nii')"
      ]
     },
     "execution_count": 55,
     "metadata": {},
     "output_type": "execute_result"
    }
   ],
   "source": [
    "# os.path.split:パスのファイル名（tail）とフォルダパス(head)をタプルで返す\n",
    "os.path.split(target_file)"
   ]
  },
  {
   "cell_type": "code",
   "execution_count": 56,
   "metadata": {},
   "outputs": [],
   "source": [
    "folder_p, file_name = os.path.split(target_file)"
   ]
  },
  {
   "cell_type": "code",
   "execution_count": 57,
   "metadata": {},
   "outputs": [
    {
     "data": {
      "text/plain": [
       "'../../sample_data/public_covid_data/rp_im'"
      ]
     },
     "execution_count": 57,
     "metadata": {},
     "output_type": "execute_result"
    }
   ],
   "source": [
    "folder_p"
   ]
  },
  {
   "cell_type": "code",
   "execution_count": 58,
   "metadata": {},
   "outputs": [
    {
     "data": {
      "text/plain": [
       "'8.nii'"
      ]
     },
     "execution_count": 58,
     "metadata": {},
     "output_type": "execute_result"
    }
   ],
   "source": [
    "file_name"
   ]
  },
  {
   "cell_type": "code",
   "execution_count": 59,
   "metadata": {},
   "outputs": [
    {
     "data": {
      "text/plain": [
       "'../../sample_data/public_covid_data/rp_im/8.nii'"
      ]
     },
     "execution_count": 59,
     "metadata": {},
     "output_type": "execute_result"
    }
   ],
   "source": [
    "# 引数の文字列を結合してパスを作る\n",
    "os.path.join(folder_p, file_name)"
   ]
  },
  {
   "cell_type": "code",
   "execution_count": 61,
   "metadata": {},
   "outputs": [
    {
     "data": {
      "text/plain": [
       "'../../sample_data/public_covid_data/new_folder'"
      ]
     },
     "execution_count": 61,
     "metadata": {},
     "output_type": "execute_result"
    }
   ],
   "source": [
    "## フォルダの作成\n",
    "p = Path('../../sample_data/public_covid_data')\n",
    "new_folder_name = 'new_folder'\n",
    "# joinの引数にはPathオブジェクトを入れることも可能\n",
    "new_folder_path = os.path.join(p, new_folder_name)\n",
    "new_folder_path"
   ]
  },
  {
   "cell_type": "code",
   "execution_count": 63,
   "metadata": {},
   "outputs": [
    {
     "data": {
      "text/plain": [
       "False"
      ]
     },
     "execution_count": 63,
     "metadata": {},
     "output_type": "execute_result"
    }
   ],
   "source": [
    "## フォルダを作成する前に既にあるかどうかチェック。\n",
    "os.path.exists(new_folder_path)"
   ]
  },
  {
   "cell_type": "code",
   "execution_count": 64,
   "metadata": {},
   "outputs": [],
   "source": [
    "# os.makedirs():フォルダの作成\n",
    "# existがFalseだったら（フォルダがなかったら）\n",
    "if not os.path.exists(new_folder_path):\n",
    "    os.makedirs(new_folder_path)"
   ]
  },
  {
   "cell_type": "code",
   "execution_count": 65,
   "metadata": {},
   "outputs": [
    {
     "data": {
      "text/plain": [
       "True"
      ]
     },
     "execution_count": 65,
     "metadata": {},
     "output_type": "execute_result"
    }
   ],
   "source": [
    "os.path.exists(new_folder_path)"
   ]
  },
  {
   "cell_type": "code",
   "execution_count": 66,
   "metadata": {},
   "outputs": [
    {
     "ename": "FileExistsError",
     "evalue": "[Errno 17] File exists: '../../sample_data/public_covid_data/new_folder'",
     "output_type": "error",
     "traceback": [
      "\u001b[0;31m---------------------------------------------------------------------------\u001b[0m",
      "\u001b[0;31mFileExistsError\u001b[0m                           Traceback (most recent call last)",
      "\u001b[0;32m<ipython-input-66-8ec9db8b4a25>\u001b[0m in \u001b[0;36m<module>\u001b[0;34m\u001b[0m\n\u001b[0;32m----> 1\u001b[0;31m \u001b[0mos\u001b[0m\u001b[0;34m.\u001b[0m\u001b[0mmakedirs\u001b[0m\u001b[0;34m(\u001b[0m\u001b[0mnew_folder_path\u001b[0m\u001b[0;34m)\u001b[0m\u001b[0;34m\u001b[0m\u001b[0;34m\u001b[0m\u001b[0m\n\u001b[0m",
      "\u001b[0;32m/opt/anaconda3/lib/python3.7/os.py\u001b[0m in \u001b[0;36mmakedirs\u001b[0;34m(name, mode, exist_ok)\u001b[0m\n\u001b[1;32m    219\u001b[0m             \u001b[0;32mreturn\u001b[0m\u001b[0;34m\u001b[0m\u001b[0;34m\u001b[0m\u001b[0m\n\u001b[1;32m    220\u001b[0m     \u001b[0;32mtry\u001b[0m\u001b[0;34m:\u001b[0m\u001b[0;34m\u001b[0m\u001b[0;34m\u001b[0m\u001b[0m\n\u001b[0;32m--> 221\u001b[0;31m         \u001b[0mmkdir\u001b[0m\u001b[0;34m(\u001b[0m\u001b[0mname\u001b[0m\u001b[0;34m,\u001b[0m \u001b[0mmode\u001b[0m\u001b[0;34m)\u001b[0m\u001b[0;34m\u001b[0m\u001b[0;34m\u001b[0m\u001b[0m\n\u001b[0m\u001b[1;32m    222\u001b[0m     \u001b[0;32mexcept\u001b[0m \u001b[0mOSError\u001b[0m\u001b[0;34m:\u001b[0m\u001b[0;34m\u001b[0m\u001b[0;34m\u001b[0m\u001b[0m\n\u001b[1;32m    223\u001b[0m         \u001b[0;31m# Cannot rely on checking for EEXIST, since the operating system\u001b[0m\u001b[0;34m\u001b[0m\u001b[0;34m\u001b[0m\u001b[0;34m\u001b[0m\u001b[0m\n",
      "\u001b[0;31mFileExistsError\u001b[0m: [Errno 17] File exists: '../../sample_data/public_covid_data/new_folder'"
     ]
    }
   ],
   "source": [
    "# もし既にあるとエラーになる\n",
    "os.makedirs(new_folder_path)"
   ]
  },
  {
   "cell_type": "markdown",
   "metadata": {},
   "source": [
    "### 以下、個人的な雑記"
   ]
  },
  {
   "cell_type": "markdown",
   "metadata": {},
   "source": [
    "そもそもPathオブジェクトを作る段階からos.path.joinを使った方が良いのでは。"
   ]
  },
  {
   "cell_type": "code",
   "execution_count": 69,
   "metadata": {},
   "outputs": [
    {
     "data": {
      "text/plain": [
       "'../../sample_data/public_covid_data'"
      ]
     },
     "execution_count": 69,
     "metadata": {},
     "output_type": "execute_result"
    }
   ],
   "source": [
    "p2 = os.path.join('..', '..', 'sample_data', 'public_covid_data') \n",
    "p2"
   ]
  },
  {
   "cell_type": "code",
   "execution_count": 70,
   "metadata": {},
   "outputs": [
    {
     "data": {
      "text/plain": [
       "True"
      ]
     },
     "execution_count": 70,
     "metadata": {},
     "output_type": "execute_result"
    }
   ],
   "source": [
    "os.path.exists(p2)"
   ]
  },
  {
   "cell_type": "markdown",
   "metadata": {},
   "source": [
    "結果、問題なさそうなので以後これで指定する。"
   ]
  },
  {
   "cell_type": "code",
   "execution_count": null,
   "metadata": {},
   "outputs": [],
   "source": []
  }
 ],
 "metadata": {
  "kernelspec": {
   "display_name": "Python 3",
   "language": "python",
   "name": "python3"
  },
  "language_info": {
   "codemirror_mode": {
    "name": "ipython",
    "version": 3
   },
   "file_extension": ".py",
   "mimetype": "text/x-python",
   "name": "python",
   "nbconvert_exporter": "python",
   "pygments_lexer": "ipython3",
   "version": "3.8.8"
  }
 },
 "nbformat": 4,
 "nbformat_minor": 4
}
