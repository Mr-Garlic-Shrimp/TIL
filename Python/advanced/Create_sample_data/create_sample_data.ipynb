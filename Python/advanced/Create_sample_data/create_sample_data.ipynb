{
 "cells": [
  {
   "cell_type": "markdown",
   "metadata": {},
   "source": [
    "# 色々試すためのデータ作成用"
   ]
  },
  {
   "cell_type": "code",
   "execution_count": 107,
   "metadata": {},
   "outputs": [],
   "source": [
    "import polars as pl\n",
    "import numpy as np\n",
    "import random\n",
    "import datetime\n",
    "import time\n",
    "import csv"
   ]
  },
  {
   "cell_type": "markdown",
   "metadata": {},
   "source": [
    "## ● 1ファイルに出力"
   ]
  },
  {
   "cell_type": "code",
   "execution_count": 123,
   "metadata": {},
   "outputs": [
    {
     "ename": "OSError",
     "evalue": "[Errno 5] Input/output error",
     "output_type": "error",
     "traceback": [
      "\u001b[0;31m---------------------------------------------------------------------------\u001b[0m",
      "\u001b[0;31mOSError\u001b[0m                                   Traceback (most recent call last)",
      "\u001b[1;32m/work/TIL/Python/advanced/Create_sample_data/create_sample_data.ipynb Cell 4\u001b[0m line \u001b[0;36m2\n\u001b[1;32m     <a href='vscode-notebook-cell://attached-container%2B7b22636f6e7461696e65724e616d65223a222f6a7570797465726c61625f636f6e7461696e65725f6a7570797465725f31222c22637764223a225c5c5c5c77736c2e6c6f63616c686f73745c5c5562756e74752d32322e30345c5c227d/work/TIL/Python/advanced/Create_sample_data/create_sample_data.ipynb#X24sdnNjb2RlLXJlbW90ZQ%3D%3D?line=18'>19</a>\u001b[0m val_3 \u001b[39m=\u001b[39m np\u001b[39m.\u001b[39mrandom\u001b[39m.\u001b[39mrand() \u001b[39m*\u001b[39m \u001b[39m1100\u001b[39m\n\u001b[1;32m     <a href='vscode-notebook-cell://attached-container%2B7b22636f6e7461696e65724e616d65223a222f6a7570797465726c61625f636f6e7461696e65725f6a7570797465725f31222c22637764223a225c5c5c5c77736c2e6c6f63616c686f73745c5c5562756e74752d32322e30345c5c227d/work/TIL/Python/advanced/Create_sample_data/create_sample_data.ipynb#X24sdnNjb2RlLXJlbW90ZQ%3D%3D?line=19'>20</a>\u001b[0m label \u001b[39m=\u001b[39m random\u001b[39m.\u001b[39mchoice(labels)\n\u001b[0;32m---> <a href='vscode-notebook-cell://attached-container%2B7b22636f6e7461696e65724e616d65223a222f6a7570797465726c61625f636f6e7461696e65725f6a7570797465725f31222c22637764223a225c5c5c5c77736c2e6c6f63616c686f73745c5c5562756e74752d32322e30345c5c227d/work/TIL/Python/advanced/Create_sample_data/create_sample_data.ipynb#X24sdnNjb2RlLXJlbW90ZQ%3D%3D?line=20'>21</a>\u001b[0m writer\u001b[39m.\u001b[39mwriterow([date_time, val_1, val_2, val_3, label])\n",
      "\u001b[0;31mOSError\u001b[0m: [Errno 5] Input/output error"
     ]
    }
   ],
   "source": [
    "# 1ファイルのレコード数\n",
    "num_data = 100000000\n",
    "labels = ['AAAA', 'BBBB', 'CCCC', 'DDDD', 'EEEE']\n",
    "output_file = '../../sample_data/from_HDD/big_data/sample_big_data_1.csv'\n",
    "\n",
    "# datetime_col = [str(datetime.datetime.now()) for _ in range(0, num_data)]\n",
    "# value_col_1 = list(np.random.rand(num_data) * 1000)\n",
    "# value_col_2 = list(np.random.rand(num_data) * 1001)\n",
    "# value_col_3 = list(np.random.rand(num_data) * 1100)\n",
    "# labels_col = [random.choice(labels) for _ in range(0, num_data)]\n",
    "# contents = [datetime_col, value_col_1, value_col_2, value_col_3, labels_col]\n",
    "\n",
    "with open(output_file, 'w') as f:\n",
    "    writer = csv.writer(f)\n",
    "    for _ in range(0, num_data):\n",
    "        date_time = str(datetime.datetime.now())\n",
    "        val_1 = np.random.rand() * 1000\n",
    "        val_2 = np.random.rand() * 1001\n",
    "        val_3 = np.random.rand() * 1100\n",
    "        label = random.choice(labels)\n",
    "        writer.writerow([date_time, val_1, val_2, val_3, label])"
   ]
  },
  {
   "cell_type": "markdown",
   "metadata": {},
   "source": [
    "## ● 複数ファイルに出力"
   ]
  },
  {
   "cell_type": "code",
   "execution_count": 89,
   "metadata": {},
   "outputs": [],
   "source": [
    "# 1ファイルのレコード数\n",
    "num_data = 150000\n",
    "# ファイルの出力数。最大60\n",
    "num_output_files = 60\n",
    "# \n",
    "num_iter = 10\n",
    "labels = ['AAAA', 'BBBB', 'CCCC', 'DDDD', 'EEEE']\n",
    "\n",
    "# ファイル生成。大量データを作成するのでどうでもよい外付けストレージへ出力すること。\n",
    "# 下記は一度60ファイル作った後なのでitrを1から始めているが、まっさらな状態からやるならrange(0, num_iter)でよい\n",
    "for itr in range(1, num_iter):\n",
    "    file_No_increment = itr * (num_output_files - 1)\n",
    "    for i in range(0, num_output_files):\n",
    "        datetime_col = pl.datetime_range(datetime.datetime(2022, 1, 1, 9, itr, i, 0), datetime.datetime(2022, 1, 1, 9, itr, i, num_data-1), \n",
    "                                         interval='1us', eager=True).cast(pl.Utf8)\n",
    "        value_col_1 = np.random.rand(num_data) * 1000\n",
    "        value_col_2 = np.random.rand(num_data) * 1001\n",
    "        value_col_3 = np.random.rand(num_data) * 1100\n",
    "        labels_col = [random.choice(labels) for _ in range(0, num_data)]\n",
    "        df = pl.DataFrame({'datetime_col': datetime_col, 'value_1': value_col_1, 'value_2': value_col_2, 'value_3': value_col_3, 'labels': labels_col})\n",
    "        df.write_csv(f'../../sample_data/from_HDD/big_data/sample_{i + file_No_increment}.csv', has_header=False)\n"
   ]
  },
  {
   "cell_type": "markdown",
   "metadata": {},
   "source": [
    "datetime_rangeは範囲指定面倒なので、datetime.datetime.now()をデータの回数分実行するでよかったかも。"
   ]
  }
 ],
 "metadata": {
  "kernelspec": {
   "display_name": "Python 3",
   "language": "python",
   "name": "python3"
  },
  "language_info": {
   "codemirror_mode": {
    "name": "ipython",
    "version": 3
   },
   "file_extension": ".py",
   "mimetype": "text/x-python",
   "name": "python",
   "nbconvert_exporter": "python",
   "pygments_lexer": "ipython3",
   "version": "3.11.6"
  }
 },
 "nbformat": 4,
 "nbformat_minor": 2
}
