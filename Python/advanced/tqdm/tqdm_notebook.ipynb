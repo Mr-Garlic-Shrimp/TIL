{
 "cells": [
  {
   "cell_type": "markdown",
   "metadata": {},
   "source": [
    "# tqdm\n",
    "## プログレスバーを表示する(tqdm)\n",
    "ループ処理の際にプログレスバーを表示してくれる。  \n",
    "データサイエンスでは長時間のループ処理を行うことが多いので、進捗状況を見たいシーンをは多い。  \n",
    "ただし、tqdmを入れることでプログレスバーを表示する処理が走るので余分に処理時間が増える点は注意。"
   ]
  },
  {
   "cell_type": "code",
   "execution_count": 5,
   "metadata": {},
   "outputs": [],
   "source": [
    "# 基本はtqdm関数のみでOK\n",
    "from tqdm import tqdm"
   ]
  },
  {
   "cell_type": "code",
   "execution_count": 9,
   "metadata": {},
   "outputs": [
    {
     "name": "stderr",
     "output_type": "stream",
     "text": [
      "100%|██████████| 10000000/10000000 [00:03<00:00, 3009998.87it/s]"
     ]
    },
    {
     "name": "stdout",
     "output_type": "stream",
     "text": [
      "10000000\n",
      "it took 3.332507848739624\n"
     ]
    },
    {
     "name": "stderr",
     "output_type": "stream",
     "text": [
      "\n"
     ]
    }
   ],
   "source": [
    "# tqdmにはiterableなオブジェクトを入れる\n",
    "import time\n",
    "total = 0\n",
    "before = time.time()\n",
    "\n",
    "# 1e7などの表現はfloatなのでintにキャストする必要あり。\n",
    "# tqdmを使う場合は、()にイテラブルなオブジェクトを入れるだけでOK\n",
    "for i in tqdm(range(int(1e7))):\n",
    "    total += 1\n",
    "    \n",
    "print(total)\n",
    "after = time.time()\n",
    "print('it took {}'.format(after - before))\n"
   ]
  },
  {
   "cell_type": "markdown",
   "metadata": {},
   "source": [
    "tqdmをいれることで処理時間は増える。実際の業務ではfor文内の処理の方が重いので、  \n",
    "tqdmの影響はそこまで気にならない。"
   ]
  },
  {
   "cell_type": "code",
   "execution_count": 60,
   "metadata": {},
   "outputs": [
    {
     "data": {
      "text/plain": [
       "PosixPath('../../sample_data/public_covid_data')"
      ]
     },
     "execution_count": 60,
     "metadata": {},
     "output_type": "execute_result"
    }
   ],
   "source": [
    "# 練習用のdfを作成する。\n",
    "# columnx: path_im, filename, path_msk\n",
    "from glob import glob\n",
    "import os\n",
    "from pathlib import Path\n",
    "import numpy as np\n",
    "import pandas as pd\n",
    "import matplotlib.pyplot as plt\n",
    "import seaborn as sns\n",
    "%matplotlib inline\n",
    "p = Path(os.path.join('..','..','sample_data','public_covid_data'))\n",
    "p"
   ]
  },
  {
   "cell_type": "code",
   "execution_count": 61,
   "metadata": {},
   "outputs": [
    {
     "data": {
      "text/plain": [
       "PosixPath('../../sample_data/public_covid_data/rp_im')"
      ]
     },
     "execution_count": 61,
     "metadata": {},
     "output_type": "execute_result"
    }
   ],
   "source": [
    "next(p.iterdir())"
   ]
  },
  {
   "cell_type": "markdown",
   "metadata": {},
   "source": [
    "### 美しくない書き方"
   ]
  },
  {
   "cell_type": "code",
   "execution_count": 95,
   "metadata": {},
   "outputs": [],
   "source": [
    "# 大元のパスp配下のリストをp_subで受け取り、p_sub配下のファイル一覧をpath_imに格納する\n",
    "dirs = [list(p_sub.iterdir()) for p_sub in list(p.iterdir())]\n",
    "# 上の書き方だと、リストの中にリストが入るので中身をみてimとmskを振り分ける必要あり。\n",
    "path_im = dirs[1]\n",
    "path_msk = dirs[2] \n",
    "# os.path.splitの返り値のうち、tailの方のみインデックスで指定して格納\n",
    "filename = [os.path.split(targetfile)[1] for targetfile in path_im]"
   ]
  },
  {
   "cell_type": "code",
   "execution_count": 96,
   "metadata": {},
   "outputs": [
    {
     "data": {
      "text/html": [
       "<div>\n",
       "<style scoped>\n",
       "    .dataframe tbody tr th:only-of-type {\n",
       "        vertical-align: middle;\n",
       "    }\n",
       "\n",
       "    .dataframe tbody tr th {\n",
       "        vertical-align: top;\n",
       "    }\n",
       "\n",
       "    .dataframe thead th {\n",
       "        text-align: right;\n",
       "    }\n",
       "</style>\n",
       "<table border=\"1\" class=\"dataframe\">\n",
       "  <thead>\n",
       "    <tr style=\"text-align: right;\">\n",
       "      <th></th>\n",
       "      <th>path_im</th>\n",
       "      <th>filename</th>\n",
       "      <th>path_msk</th>\n",
       "    </tr>\n",
       "  </thead>\n",
       "  <tbody>\n",
       "    <tr>\n",
       "      <th>0</th>\n",
       "      <td>../../sample_data/public_covid_data/rp_im/4.nii</td>\n",
       "      <td>4.nii</td>\n",
       "      <td>../../sample_data/public_covid_data/rp_msk/4.nii</td>\n",
       "    </tr>\n",
       "    <tr>\n",
       "      <th>1</th>\n",
       "      <td>../../sample_data/public_covid_data/rp_im/1.nii</td>\n",
       "      <td>1.nii</td>\n",
       "      <td>../../sample_data/public_covid_data/rp_msk/1.nii</td>\n",
       "    </tr>\n",
       "    <tr>\n",
       "      <th>2</th>\n",
       "      <td>../../sample_data/public_covid_data/rp_im/8.nii</td>\n",
       "      <td>8.nii</td>\n",
       "      <td>../../sample_data/public_covid_data/rp_msk/8.nii</td>\n",
       "    </tr>\n",
       "    <tr>\n",
       "      <th>3</th>\n",
       "      <td>../../sample_data/public_covid_data/rp_im/9.nii</td>\n",
       "      <td>9.nii</td>\n",
       "      <td>../../sample_data/public_covid_data/rp_msk/9.nii</td>\n",
       "    </tr>\n",
       "    <tr>\n",
       "      <th>4</th>\n",
       "      <td>../../sample_data/public_covid_data/rp_im/6.nii</td>\n",
       "      <td>6.nii</td>\n",
       "      <td>../../sample_data/public_covid_data/rp_msk/6.nii</td>\n",
       "    </tr>\n",
       "    <tr>\n",
       "      <th>5</th>\n",
       "      <td>../../sample_data/public_covid_data/rp_im/5.nii</td>\n",
       "      <td>5.nii</td>\n",
       "      <td>../../sample_data/public_covid_data/rp_msk/5.nii</td>\n",
       "    </tr>\n",
       "    <tr>\n",
       "      <th>6</th>\n",
       "      <td>../../sample_data/public_covid_data/rp_im/7.nii</td>\n",
       "      <td>7.nii</td>\n",
       "      <td>../../sample_data/public_covid_data/rp_msk/7.nii</td>\n",
       "    </tr>\n",
       "    <tr>\n",
       "      <th>7</th>\n",
       "      <td>../../sample_data/public_covid_data/rp_im/3.nii</td>\n",
       "      <td>3.nii</td>\n",
       "      <td>../../sample_data/public_covid_data/rp_msk/3.nii</td>\n",
       "    </tr>\n",
       "    <tr>\n",
       "      <th>8</th>\n",
       "      <td>../../sample_data/public_covid_data/rp_im/2.nii</td>\n",
       "      <td>2.nii</td>\n",
       "      <td>../../sample_data/public_covid_data/rp_msk/2.nii</td>\n",
       "    </tr>\n",
       "  </tbody>\n",
       "</table>\n",
       "</div>"
      ],
      "text/plain": [
       "                                           path_im filename  \\\n",
       "0  ../../sample_data/public_covid_data/rp_im/4.nii    4.nii   \n",
       "1  ../../sample_data/public_covid_data/rp_im/1.nii    1.nii   \n",
       "2  ../../sample_data/public_covid_data/rp_im/8.nii    8.nii   \n",
       "3  ../../sample_data/public_covid_data/rp_im/9.nii    9.nii   \n",
       "4  ../../sample_data/public_covid_data/rp_im/6.nii    6.nii   \n",
       "5  ../../sample_data/public_covid_data/rp_im/5.nii    5.nii   \n",
       "6  ../../sample_data/public_covid_data/rp_im/7.nii    7.nii   \n",
       "7  ../../sample_data/public_covid_data/rp_im/3.nii    3.nii   \n",
       "8  ../../sample_data/public_covid_data/rp_im/2.nii    2.nii   \n",
       "\n",
       "                                           path_msk  \n",
       "0  ../../sample_data/public_covid_data/rp_msk/4.nii  \n",
       "1  ../../sample_data/public_covid_data/rp_msk/1.nii  \n",
       "2  ../../sample_data/public_covid_data/rp_msk/8.nii  \n",
       "3  ../../sample_data/public_covid_data/rp_msk/9.nii  \n",
       "4  ../../sample_data/public_covid_data/rp_msk/6.nii  \n",
       "5  ../../sample_data/public_covid_data/rp_msk/5.nii  \n",
       "6  ../../sample_data/public_covid_data/rp_msk/7.nii  \n",
       "7  ../../sample_data/public_covid_data/rp_msk/3.nii  \n",
       "8  ../../sample_data/public_covid_data/rp_msk/2.nii  "
      ]
     },
     "execution_count": 96,
     "metadata": {},
     "output_type": "execute_result"
    }
   ],
   "source": [
    "df = pd.DataFrame({\n",
    "    'path_im':path_im,\n",
    "    'filename':filename,\n",
    "    'path_msk':path_msk,\n",
    "    })\n",
    "df"
   ]
  },
  {
   "cell_type": "markdown",
   "metadata": {},
   "source": [
    "### 多少マシな書き方"
   ]
  },
  {
   "cell_type": "code",
   "execution_count": 120,
   "metadata": {},
   "outputs": [],
   "source": [
    "# pの配下フォルダはp.iterdir()で書ける。list()でキャストする必要なし。\n",
    "# strでキャストしている部分はfolder.as_posix()でもOK\n",
    "for folder in p.iterdir():\n",
    "    if('rp_im' in str(folder)):\n",
    "        path_im = [file_path.as_posix() for file_path in list(folder.iterdir())]\n",
    "    elif('rp_msk' in str(folder)):\n",
    "        path_msk = [file_path.as_posix() for file_path in list(folder.iterdir())]\n",
    "        \n",
    "# file名のインデックスは1固定なので、ハードコーディングでOK？        \n",
    "filename = [os.path.split(file_path)[1] for file_path in path_im]"
   ]
  },
  {
   "cell_type": "code",
   "execution_count": 118,
   "metadata": {},
   "outputs": [
    {
     "data": {
      "text/html": [
       "<div>\n",
       "<style scoped>\n",
       "    .dataframe tbody tr th:only-of-type {\n",
       "        vertical-align: middle;\n",
       "    }\n",
       "\n",
       "    .dataframe tbody tr th {\n",
       "        vertical-align: top;\n",
       "    }\n",
       "\n",
       "    .dataframe thead th {\n",
       "        text-align: right;\n",
       "    }\n",
       "</style>\n",
       "<table border=\"1\" class=\"dataframe\">\n",
       "  <thead>\n",
       "    <tr style=\"text-align: right;\">\n",
       "      <th></th>\n",
       "      <th>path_im</th>\n",
       "      <th>filename</th>\n",
       "      <th>path_msk</th>\n",
       "    </tr>\n",
       "  </thead>\n",
       "  <tbody>\n",
       "    <tr>\n",
       "      <th>0</th>\n",
       "      <td>../../sample_data/public_covid_data/rp_im/4.nii</td>\n",
       "      <td>4.nii</td>\n",
       "      <td>../../sample_data/public_covid_data/rp_msk/4.nii</td>\n",
       "    </tr>\n",
       "    <tr>\n",
       "      <th>1</th>\n",
       "      <td>../../sample_data/public_covid_data/rp_im/1.nii</td>\n",
       "      <td>1.nii</td>\n",
       "      <td>../../sample_data/public_covid_data/rp_msk/1.nii</td>\n",
       "    </tr>\n",
       "    <tr>\n",
       "      <th>2</th>\n",
       "      <td>../../sample_data/public_covid_data/rp_im/8.nii</td>\n",
       "      <td>8.nii</td>\n",
       "      <td>../../sample_data/public_covid_data/rp_msk/8.nii</td>\n",
       "    </tr>\n",
       "    <tr>\n",
       "      <th>3</th>\n",
       "      <td>../../sample_data/public_covid_data/rp_im/9.nii</td>\n",
       "      <td>9.nii</td>\n",
       "      <td>../../sample_data/public_covid_data/rp_msk/9.nii</td>\n",
       "    </tr>\n",
       "    <tr>\n",
       "      <th>4</th>\n",
       "      <td>../../sample_data/public_covid_data/rp_im/6.nii</td>\n",
       "      <td>6.nii</td>\n",
       "      <td>../../sample_data/public_covid_data/rp_msk/6.nii</td>\n",
       "    </tr>\n",
       "    <tr>\n",
       "      <th>5</th>\n",
       "      <td>../../sample_data/public_covid_data/rp_im/5.nii</td>\n",
       "      <td>5.nii</td>\n",
       "      <td>../../sample_data/public_covid_data/rp_msk/5.nii</td>\n",
       "    </tr>\n",
       "    <tr>\n",
       "      <th>6</th>\n",
       "      <td>../../sample_data/public_covid_data/rp_im/7.nii</td>\n",
       "      <td>7.nii</td>\n",
       "      <td>../../sample_data/public_covid_data/rp_msk/7.nii</td>\n",
       "    </tr>\n",
       "    <tr>\n",
       "      <th>7</th>\n",
       "      <td>../../sample_data/public_covid_data/rp_im/3.nii</td>\n",
       "      <td>3.nii</td>\n",
       "      <td>../../sample_data/public_covid_data/rp_msk/3.nii</td>\n",
       "    </tr>\n",
       "    <tr>\n",
       "      <th>8</th>\n",
       "      <td>../../sample_data/public_covid_data/rp_im/2.nii</td>\n",
       "      <td>2.nii</td>\n",
       "      <td>../../sample_data/public_covid_data/rp_msk/2.nii</td>\n",
       "    </tr>\n",
       "  </tbody>\n",
       "</table>\n",
       "</div>"
      ],
      "text/plain": [
       "                                           path_im filename  \\\n",
       "0  ../../sample_data/public_covid_data/rp_im/4.nii    4.nii   \n",
       "1  ../../sample_data/public_covid_data/rp_im/1.nii    1.nii   \n",
       "2  ../../sample_data/public_covid_data/rp_im/8.nii    8.nii   \n",
       "3  ../../sample_data/public_covid_data/rp_im/9.nii    9.nii   \n",
       "4  ../../sample_data/public_covid_data/rp_im/6.nii    6.nii   \n",
       "5  ../../sample_data/public_covid_data/rp_im/5.nii    5.nii   \n",
       "6  ../../sample_data/public_covid_data/rp_im/7.nii    7.nii   \n",
       "7  ../../sample_data/public_covid_data/rp_im/3.nii    3.nii   \n",
       "8  ../../sample_data/public_covid_data/rp_im/2.nii    2.nii   \n",
       "\n",
       "                                           path_msk  \n",
       "0  ../../sample_data/public_covid_data/rp_msk/4.nii  \n",
       "1  ../../sample_data/public_covid_data/rp_msk/1.nii  \n",
       "2  ../../sample_data/public_covid_data/rp_msk/8.nii  \n",
       "3  ../../sample_data/public_covid_data/rp_msk/9.nii  \n",
       "4  ../../sample_data/public_covid_data/rp_msk/6.nii  \n",
       "5  ../../sample_data/public_covid_data/rp_msk/5.nii  \n",
       "6  ../../sample_data/public_covid_data/rp_msk/7.nii  \n",
       "7  ../../sample_data/public_covid_data/rp_msk/3.nii  \n",
       "8  ../../sample_data/public_covid_data/rp_msk/2.nii  "
      ]
     },
     "execution_count": 118,
     "metadata": {},
     "output_type": "execute_result"
    }
   ],
   "source": [
    "df = pd.DataFrame({\n",
    "    'path_im':path_im,\n",
    "    'filename':filename,\n",
    "    'path_msk':path_msk,\n",
    "    })\n",
    "df"
   ]
  },
  {
   "cell_type": "markdown",
   "metadata": {},
   "source": [
    "### 講座での書き方\n",
    "初めからpath_im,mskの場合分けを考えるのではなく、DataFrameの機能で対応付けるのがポイント"
   ]
  },
  {
   "cell_type": "code",
   "execution_count": 129,
   "metadata": {},
   "outputs": [],
   "source": [
    "p = Path(os.path.join('..','..','sample_data','public_covid_data'))\n",
    "\n",
    "# まずパス、ファイル一覧をそれぞれ取得し、後で整理することでfor文の中身をシンプルにする\n",
    "df_list = []\n",
    "for folder in p.iterdir():\n",
    "    path_list = [file_path.as_posix() for file_path in list(folder.iterdir())]\n",
    "    file_list = [os.path.split(file_path)[1] for file_path in list(folder.iterdir())]\n",
    "    # public_covid_data配下のそれぞれのフォルダでdfを作成する。\n",
    "    df_list.append(pd.DataFrame({'path': path_list, 'filename': file_list}))"
   ]
  },
  {
   "cell_type": "code",
   "execution_count": 130,
   "metadata": {},
   "outputs": [
    {
     "data": {
      "text/html": [
       "<div>\n",
       "<style scoped>\n",
       "    .dataframe tbody tr th:only-of-type {\n",
       "        vertical-align: middle;\n",
       "    }\n",
       "\n",
       "    .dataframe tbody tr th {\n",
       "        vertical-align: top;\n",
       "    }\n",
       "\n",
       "    .dataframe thead th {\n",
       "        text-align: right;\n",
       "    }\n",
       "</style>\n",
       "<table border=\"1\" class=\"dataframe\">\n",
       "  <thead>\n",
       "    <tr style=\"text-align: right;\">\n",
       "      <th></th>\n",
       "      <th>path</th>\n",
       "      <th>filename</th>\n",
       "    </tr>\n",
       "  </thead>\n",
       "  <tbody>\n",
       "    <tr>\n",
       "      <th>0</th>\n",
       "      <td>../../sample_data/public_covid_data/rp_im/4.nii</td>\n",
       "      <td>4.nii</td>\n",
       "    </tr>\n",
       "    <tr>\n",
       "      <th>1</th>\n",
       "      <td>../../sample_data/public_covid_data/rp_im/1.nii</td>\n",
       "      <td>1.nii</td>\n",
       "    </tr>\n",
       "    <tr>\n",
       "      <th>2</th>\n",
       "      <td>../../sample_data/public_covid_data/rp_im/8.nii</td>\n",
       "      <td>8.nii</td>\n",
       "    </tr>\n",
       "    <tr>\n",
       "      <th>3</th>\n",
       "      <td>../../sample_data/public_covid_data/rp_im/9.nii</td>\n",
       "      <td>9.nii</td>\n",
       "    </tr>\n",
       "    <tr>\n",
       "      <th>4</th>\n",
       "      <td>../../sample_data/public_covid_data/rp_im/6.nii</td>\n",
       "      <td>6.nii</td>\n",
       "    </tr>\n",
       "    <tr>\n",
       "      <th>5</th>\n",
       "      <td>../../sample_data/public_covid_data/rp_im/5.nii</td>\n",
       "      <td>5.nii</td>\n",
       "    </tr>\n",
       "    <tr>\n",
       "      <th>6</th>\n",
       "      <td>../../sample_data/public_covid_data/rp_im/7.nii</td>\n",
       "      <td>7.nii</td>\n",
       "    </tr>\n",
       "    <tr>\n",
       "      <th>7</th>\n",
       "      <td>../../sample_data/public_covid_data/rp_im/3.nii</td>\n",
       "      <td>3.nii</td>\n",
       "    </tr>\n",
       "    <tr>\n",
       "      <th>8</th>\n",
       "      <td>../../sample_data/public_covid_data/rp_im/2.nii</td>\n",
       "      <td>2.nii</td>\n",
       "    </tr>\n",
       "  </tbody>\n",
       "</table>\n",
       "</div>"
      ],
      "text/plain": [
       "                                              path filename\n",
       "0  ../../sample_data/public_covid_data/rp_im/4.nii    4.nii\n",
       "1  ../../sample_data/public_covid_data/rp_im/1.nii    1.nii\n",
       "2  ../../sample_data/public_covid_data/rp_im/8.nii    8.nii\n",
       "3  ../../sample_data/public_covid_data/rp_im/9.nii    9.nii\n",
       "4  ../../sample_data/public_covid_data/rp_im/6.nii    6.nii\n",
       "5  ../../sample_data/public_covid_data/rp_im/5.nii    5.nii\n",
       "6  ../../sample_data/public_covid_data/rp_im/7.nii    7.nii\n",
       "7  ../../sample_data/public_covid_data/rp_im/3.nii    3.nii\n",
       "8  ../../sample_data/public_covid_data/rp_im/2.nii    2.nii"
      ]
     },
     "execution_count": 130,
     "metadata": {},
     "output_type": "execute_result"
    }
   ],
   "source": [
    "df_list[1]"
   ]
  },
  {
   "cell_type": "code",
   "execution_count": 134,
   "metadata": {},
   "outputs": [
    {
     "data": {
      "text/html": [
       "<div>\n",
       "<style scoped>\n",
       "    .dataframe tbody tr th:only-of-type {\n",
       "        vertical-align: middle;\n",
       "    }\n",
       "\n",
       "    .dataframe tbody tr th {\n",
       "        vertical-align: top;\n",
       "    }\n",
       "\n",
       "    .dataframe thead th {\n",
       "        text-align: right;\n",
       "    }\n",
       "</style>\n",
       "<table border=\"1\" class=\"dataframe\">\n",
       "  <thead>\n",
       "    <tr style=\"text-align: right;\">\n",
       "      <th></th>\n",
       "      <th>path_im</th>\n",
       "      <th>filename</th>\n",
       "      <th>path_msk</th>\n",
       "    </tr>\n",
       "  </thead>\n",
       "  <tbody>\n",
       "    <tr>\n",
       "      <th>0</th>\n",
       "      <td>../../sample_data/public_covid_data/rp_im/4.nii</td>\n",
       "      <td>4.nii</td>\n",
       "      <td>../../sample_data/public_covid_data/rp_msk/4.nii</td>\n",
       "    </tr>\n",
       "    <tr>\n",
       "      <th>1</th>\n",
       "      <td>../../sample_data/public_covid_data/rp_im/1.nii</td>\n",
       "      <td>1.nii</td>\n",
       "      <td>../../sample_data/public_covid_data/rp_msk/1.nii</td>\n",
       "    </tr>\n",
       "    <tr>\n",
       "      <th>2</th>\n",
       "      <td>../../sample_data/public_covid_data/rp_im/8.nii</td>\n",
       "      <td>8.nii</td>\n",
       "      <td>../../sample_data/public_covid_data/rp_msk/8.nii</td>\n",
       "    </tr>\n",
       "    <tr>\n",
       "      <th>3</th>\n",
       "      <td>../../sample_data/public_covid_data/rp_im/9.nii</td>\n",
       "      <td>9.nii</td>\n",
       "      <td>../../sample_data/public_covid_data/rp_msk/9.nii</td>\n",
       "    </tr>\n",
       "    <tr>\n",
       "      <th>4</th>\n",
       "      <td>../../sample_data/public_covid_data/rp_im/6.nii</td>\n",
       "      <td>6.nii</td>\n",
       "      <td>../../sample_data/public_covid_data/rp_msk/6.nii</td>\n",
       "    </tr>\n",
       "    <tr>\n",
       "      <th>5</th>\n",
       "      <td>../../sample_data/public_covid_data/rp_im/5.nii</td>\n",
       "      <td>5.nii</td>\n",
       "      <td>../../sample_data/public_covid_data/rp_msk/5.nii</td>\n",
       "    </tr>\n",
       "    <tr>\n",
       "      <th>6</th>\n",
       "      <td>../../sample_data/public_covid_data/rp_im/7.nii</td>\n",
       "      <td>7.nii</td>\n",
       "      <td>../../sample_data/public_covid_data/rp_msk/7.nii</td>\n",
       "    </tr>\n",
       "    <tr>\n",
       "      <th>7</th>\n",
       "      <td>../../sample_data/public_covid_data/rp_im/3.nii</td>\n",
       "      <td>3.nii</td>\n",
       "      <td>../../sample_data/public_covid_data/rp_msk/3.nii</td>\n",
       "    </tr>\n",
       "    <tr>\n",
       "      <th>8</th>\n",
       "      <td>../../sample_data/public_covid_data/rp_im/2.nii</td>\n",
       "      <td>2.nii</td>\n",
       "      <td>../../sample_data/public_covid_data/rp_msk/2.nii</td>\n",
       "    </tr>\n",
       "  </tbody>\n",
       "</table>\n",
       "</div>"
      ],
      "text/plain": [
       "                                           path_im filename  \\\n",
       "0  ../../sample_data/public_covid_data/rp_im/4.nii    4.nii   \n",
       "1  ../../sample_data/public_covid_data/rp_im/1.nii    1.nii   \n",
       "2  ../../sample_data/public_covid_data/rp_im/8.nii    8.nii   \n",
       "3  ../../sample_data/public_covid_data/rp_im/9.nii    9.nii   \n",
       "4  ../../sample_data/public_covid_data/rp_im/6.nii    6.nii   \n",
       "5  ../../sample_data/public_covid_data/rp_im/5.nii    5.nii   \n",
       "6  ../../sample_data/public_covid_data/rp_im/7.nii    7.nii   \n",
       "7  ../../sample_data/public_covid_data/rp_im/3.nii    3.nii   \n",
       "8  ../../sample_data/public_covid_data/rp_im/2.nii    2.nii   \n",
       "\n",
       "                                           path_msk  \n",
       "0  ../../sample_data/public_covid_data/rp_msk/4.nii  \n",
       "1  ../../sample_data/public_covid_data/rp_msk/1.nii  \n",
       "2  ../../sample_data/public_covid_data/rp_msk/8.nii  \n",
       "3  ../../sample_data/public_covid_data/rp_msk/9.nii  \n",
       "4  ../../sample_data/public_covid_data/rp_msk/6.nii  \n",
       "5  ../../sample_data/public_covid_data/rp_msk/5.nii  \n",
       "6  ../../sample_data/public_covid_data/rp_msk/7.nii  \n",
       "7  ../../sample_data/public_covid_data/rp_msk/3.nii  \n",
       "8  ../../sample_data/public_covid_data/rp_msk/2.nii  "
      ]
     },
     "execution_count": 134,
     "metadata": {},
     "output_type": "execute_result"
    }
   ],
   "source": [
    "# filenameが重複しているので、これをキーに結合する。\n",
    "df = df_list[1].merge(df_list[2], how='inner', on='filename', suffixes=['_im', '_msk'])\n",
    "df"
   ]
  },
  {
   "cell_type": "code",
   "execution_count": 138,
   "metadata": {},
   "outputs": [
    {
     "name": "stderr",
     "output_type": "stream",
     "text": [
      "100%|██████████| 9/9 [00:00<00:00, 1169.27it/s]"
     ]
    },
    {
     "name": "stdout",
     "output_type": "stream",
     "text": [
      "image path for ../../sample_data/public_covid_data/rp_im/4.nii is here 4.nii\n",
      "image path for ../../sample_data/public_covid_data/rp_im/1.nii is here 1.nii\n",
      "image path for ../../sample_data/public_covid_data/rp_im/8.nii is here 8.nii\n",
      "image path for ../../sample_data/public_covid_data/rp_im/9.nii is here 9.nii\n",
      "image path for ../../sample_data/public_covid_data/rp_im/6.nii is here 6.nii\n",
      "image path for ../../sample_data/public_covid_data/rp_im/5.nii is here 5.nii\n",
      "image path for ../../sample_data/public_covid_data/rp_im/7.nii is here 7.nii\n",
      "image path for ../../sample_data/public_covid_data/rp_im/3.nii is here 3.nii\n",
      "image path for ../../sample_data/public_covid_data/rp_im/2.nii is here 2.nii\n"
     ]
    },
    {
     "name": "stderr",
     "output_type": "stream",
     "text": [
      "\n"
     ]
    }
   ],
   "source": [
    "# DataFrameにtqdmを使う場合はtotalでlenを指定しないと、プログレスバーが表示されない\n",
    "for idx, row in tqdm(df.iterrows(), total=len(df)):\n",
    "    print('image path for {} is here {}'.format(row['path_im'], row['filename']))"
   ]
  },
  {
   "cell_type": "code",
   "execution_count": 139,
   "metadata": {},
   "outputs": [
    {
     "data": {
      "text/html": [
       "<div>\n",
       "<style scoped>\n",
       "    .dataframe tbody tr th:only-of-type {\n",
       "        vertical-align: middle;\n",
       "    }\n",
       "\n",
       "    .dataframe tbody tr th {\n",
       "        vertical-align: top;\n",
       "    }\n",
       "\n",
       "    .dataframe thead th {\n",
       "        text-align: right;\n",
       "    }\n",
       "</style>\n",
       "<table border=\"1\" class=\"dataframe\">\n",
       "  <thead>\n",
       "    <tr style=\"text-align: right;\">\n",
       "      <th></th>\n",
       "      <th>path_im</th>\n",
       "      <th>filename</th>\n",
       "      <th>path_msk</th>\n",
       "    </tr>\n",
       "  </thead>\n",
       "  <tbody>\n",
       "    <tr>\n",
       "      <th>0</th>\n",
       "      <td>../../sample_data/public_covid_data/rp_im/4.nii</td>\n",
       "      <td>4.nii</td>\n",
       "      <td>../../sample_data/public_covid_data/rp_msk/4.nii</td>\n",
       "    </tr>\n",
       "    <tr>\n",
       "      <th>1</th>\n",
       "      <td>../../sample_data/public_covid_data/rp_im/1.nii</td>\n",
       "      <td>1.nii</td>\n",
       "      <td>../../sample_data/public_covid_data/rp_msk/1.nii</td>\n",
       "    </tr>\n",
       "    <tr>\n",
       "      <th>2</th>\n",
       "      <td>../../sample_data/public_covid_data/rp_im/8.nii</td>\n",
       "      <td>8.nii</td>\n",
       "      <td>../../sample_data/public_covid_data/rp_msk/8.nii</td>\n",
       "    </tr>\n",
       "    <tr>\n",
       "      <th>3</th>\n",
       "      <td>../../sample_data/public_covid_data/rp_im/9.nii</td>\n",
       "      <td>9.nii</td>\n",
       "      <td>../../sample_data/public_covid_data/rp_msk/9.nii</td>\n",
       "    </tr>\n",
       "    <tr>\n",
       "      <th>4</th>\n",
       "      <td>../../sample_data/public_covid_data/rp_im/6.nii</td>\n",
       "      <td>6.nii</td>\n",
       "      <td>../../sample_data/public_covid_data/rp_msk/6.nii</td>\n",
       "    </tr>\n",
       "    <tr>\n",
       "      <th>5</th>\n",
       "      <td>../../sample_data/public_covid_data/rp_im/5.nii</td>\n",
       "      <td>5.nii</td>\n",
       "      <td>../../sample_data/public_covid_data/rp_msk/5.nii</td>\n",
       "    </tr>\n",
       "    <tr>\n",
       "      <th>6</th>\n",
       "      <td>../../sample_data/public_covid_data/rp_im/7.nii</td>\n",
       "      <td>7.nii</td>\n",
       "      <td>../../sample_data/public_covid_data/rp_msk/7.nii</td>\n",
       "    </tr>\n",
       "    <tr>\n",
       "      <th>7</th>\n",
       "      <td>../../sample_data/public_covid_data/rp_im/3.nii</td>\n",
       "      <td>3.nii</td>\n",
       "      <td>../../sample_data/public_covid_data/rp_msk/3.nii</td>\n",
       "    </tr>\n",
       "    <tr>\n",
       "      <th>8</th>\n",
       "      <td>../../sample_data/public_covid_data/rp_im/2.nii</td>\n",
       "      <td>2.nii</td>\n",
       "      <td>../../sample_data/public_covid_data/rp_msk/2.nii</td>\n",
       "    </tr>\n",
       "  </tbody>\n",
       "</table>\n",
       "</div>"
      ],
      "text/plain": [
       "                                           path_im filename  \\\n",
       "0  ../../sample_data/public_covid_data/rp_im/4.nii    4.nii   \n",
       "1  ../../sample_data/public_covid_data/rp_im/1.nii    1.nii   \n",
       "2  ../../sample_data/public_covid_data/rp_im/8.nii    8.nii   \n",
       "3  ../../sample_data/public_covid_data/rp_im/9.nii    9.nii   \n",
       "4  ../../sample_data/public_covid_data/rp_im/6.nii    6.nii   \n",
       "5  ../../sample_data/public_covid_data/rp_im/5.nii    5.nii   \n",
       "6  ../../sample_data/public_covid_data/rp_im/7.nii    7.nii   \n",
       "7  ../../sample_data/public_covid_data/rp_im/3.nii    3.nii   \n",
       "8  ../../sample_data/public_covid_data/rp_im/2.nii    2.nii   \n",
       "\n",
       "                                           path_msk  \n",
       "0  ../../sample_data/public_covid_data/rp_msk/4.nii  \n",
       "1  ../../sample_data/public_covid_data/rp_msk/1.nii  \n",
       "2  ../../sample_data/public_covid_data/rp_msk/8.nii  \n",
       "3  ../../sample_data/public_covid_data/rp_msk/9.nii  \n",
       "4  ../../sample_data/public_covid_data/rp_msk/6.nii  \n",
       "5  ../../sample_data/public_covid_data/rp_msk/5.nii  \n",
       "6  ../../sample_data/public_covid_data/rp_msk/7.nii  \n",
       "7  ../../sample_data/public_covid_data/rp_msk/3.nii  \n",
       "8  ../../sample_data/public_covid_data/rp_msk/2.nii  "
      ]
     },
     "execution_count": 139,
     "metadata": {},
     "output_type": "execute_result"
    }
   ],
   "source": [
    "df"
   ]
  },
  {
   "cell_type": "code",
   "execution_count": 140,
   "metadata": {},
   "outputs": [],
   "source": [
    "# csvに保存\n",
    "df.to_csv('covid19_im_msk_filepath.csv', index=False)"
   ]
  },
  {
   "cell_type": "code",
   "execution_count": null,
   "metadata": {},
   "outputs": [],
   "source": []
  }
 ],
 "metadata": {
  "kernelspec": {
   "display_name": "Python 3",
   "language": "python",
   "name": "python3"
  },
  "language_info": {
   "codemirror_mode": {
    "name": "ipython",
    "version": 3
   },
   "file_extension": ".py",
   "mimetype": "text/x-python",
   "name": "python",
   "nbconvert_exporter": "python",
   "pygments_lexer": "ipython3",
   "version": "3.7.6"
  }
 },
 "nbformat": 4,
 "nbformat_minor": 4
}
