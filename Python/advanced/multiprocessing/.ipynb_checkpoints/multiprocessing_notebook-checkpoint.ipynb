{
 "cells": [
  {
   "cell_type": "markdown",
   "metadata": {},
   "source": [
    "# multiprocessing\n",
    "並列処理を行うためのモジュール"
   ]
  },
  {
   "cell_type": "code",
   "execution_count": 26,
   "metadata": {},
   "outputs": [],
   "source": [
    "# 基本はこれをインポート\n",
    "from multiprocessing import Pool, cpu_count\n",
    "import time\n",
    "from tqdm import tqdm "
   ]
  },
  {
   "cell_type": "markdown",
   "metadata": {},
   "source": [
    "## map"
   ]
  },
  {
   "cell_type": "code",
   "execution_count": 3,
   "metadata": {},
   "outputs": [
    {
     "data": {
      "text/plain": [
       "<map at 0x7f0f1cccfb10>"
      ]
     },
     "execution_count": 3,
     "metadata": {},
     "output_type": "execute_result"
    }
   ],
   "source": [
    "# mapはイテラブルなオブジェクトを引数として、指定した関数に入れた結果をiteratorとして返す。\n",
    "square = lambda x: x**2\n",
    "params = [1, 2, 3, 4]\n",
    "map(square, params)"
   ]
  },
  {
   "cell_type": "markdown",
   "metadata": {},
   "source": [
    "map関数に処理させたい関数と引数を入れると、iteratorが返る。"
   ]
  },
  {
   "cell_type": "code",
   "execution_count": 4,
   "metadata": {},
   "outputs": [
    {
     "data": {
      "text/plain": [
       "[1, 4, 9, 16]"
      ]
     },
     "execution_count": 4,
     "metadata": {},
     "output_type": "execute_result"
    }
   ],
   "source": [
    "# iteratorなので、list化するとそれぞれの引数に対する関数の演算結果が取得できる。\n",
    "# list内包表記で書けるので並列処理以外ではあまり使わない。\n",
    "list(map(square, params))"
   ]
  },
  {
   "cell_type": "markdown",
   "metadata": {},
   "source": [
    "## Pool.map()とPool.imap()"
   ]
  },
  {
   "cell_type": "code",
   "execution_count": 8,
   "metadata": {},
   "outputs": [
    {
     "data": {
      "text/plain": [
       "4"
      ]
     },
     "execution_count": 8,
     "metadata": {},
     "output_type": "execute_result"
    }
   ],
   "source": [
    "# cpuのコア数を取得。VMのCPUを一時的に4に拡張\n",
    "cpu_count()"
   ]
  },
  {
   "cell_type": "code",
   "execution_count": 14,
   "metadata": {},
   "outputs": [],
   "source": [
    "# 並列処理用に使えるCPUリソースプール（Poolクラスのインスタンス）を用意。\n",
    "p = Pool(processes=cpu_count()-1)\n",
    "\n",
    "# 引数の時間CPUがスリープする関数。\n",
    "def wait_sec(sec):\n",
    "    time.sleep(sec)\n",
    "    return sec ** 2"
   ]
  },
  {
   "cell_type": "code",
   "execution_count": 16,
   "metadata": {},
   "outputs": [
    {
     "data": {
      "text/plain": [
       "16"
      ]
     },
     "execution_count": 16,
     "metadata": {},
     "output_type": "execute_result"
    }
   ],
   "source": [
    "wait_sec(4)"
   ]
  },
  {
   "cell_type": "code",
   "execution_count": 19,
   "metadata": {},
   "outputs": [
    {
     "name": "stdout",
     "output_type": "stream",
     "text": [
      "it took 9.012224912643433 sec\n"
     ]
    }
   ],
   "source": [
    "before = time.time()\n",
    "result = list(map(wait_sec, [1, 5, 3]))\n",
    "after = time.time()\n",
    "print('it took {} sec'.format(after - before))"
   ]
  },
  {
   "cell_type": "code",
   "execution_count": 20,
   "metadata": {},
   "outputs": [
    {
     "data": {
      "text/plain": [
       "[1, 25, 9]"
      ]
     },
     "execution_count": 20,
     "metadata": {},
     "output_type": "execute_result"
    }
   ],
   "source": [
    "result"
   ]
  },
  {
   "cell_type": "markdown",
   "metadata": {},
   "source": [
    "以上の結果から、mapによる実行はデフォルトではシリアルに実行されている（シングルプロセスで実行）ことが分かる。  \n",
    "Poolインスタンスを使用して並列に実行する。"
   ]
  },
  {
   "cell_type": "code",
   "execution_count": 21,
   "metadata": {},
   "outputs": [
    {
     "name": "stdout",
     "output_type": "stream",
     "text": [
      "it took 5.009413719177246 sec\n"
     ]
    }
   ],
   "source": [
    "# p.map()関数で並列に実行する。\n",
    "before = time.time()\n",
    "# p.map関数の戻り値はリストなので、list()は不要\n",
    "result = p.map(wait_sec, [1, 5, 3])\n",
    "after = time.time()\n",
    "print('it took {} sec'.format(after - before))"
   ]
  },
  {
   "cell_type": "code",
   "execution_count": 22,
   "metadata": {},
   "outputs": [
    {
     "data": {
      "text/plain": [
       "[1, 25, 9]"
      ]
     },
     "execution_count": 22,
     "metadata": {},
     "output_type": "execute_result"
    }
   ],
   "source": [
    "result"
   ]
  },
  {
   "cell_type": "markdown",
   "metadata": {},
   "source": [
    "並列化したことにより、別々のCPUで処理されて時間が短縮された。  \n",
    "全体の時間は最も時間がかかるsec=5に引きずられる。  \n",
    "ちなみにp.mapは全ての処理が終わるまで返り値のリストを返さないこと、リストの順番は引数の指定順になることに注意。"
   ]
  },
  {
   "cell_type": "code",
   "execution_count": 23,
   "metadata": {},
   "outputs": [
    {
     "name": "stdout",
     "output_type": "stream",
     "text": [
      "1: 1.0093603134155273 sec\n",
      "25: 5.013791084289551 sec\n",
      "9: 5.013989210128784 sec\n",
      "it took 5.014124631881714 sec\n"
     ]
    }
   ],
   "source": [
    "# p.imap()は並列で処理し、iteratorを返す\n",
    "before = time.time()\n",
    "# p.imapはiteratorを返すのでfor文で結果を逐次扱える。\n",
    "for i in p.imap(wait_sec, [1, 5, 3]):\n",
    "    print('{}: {} sec'.format(i, time.time() - before))\n",
    "after = time.time()\n",
    "print('it took {} sec'.format(after - before))"
   ]
  },
  {
   "cell_type": "markdown",
   "metadata": {},
   "source": [
    "1,5,3の順にwait_secに入るのでなく、並列に実行されることに注意。  \n",
    "sec=3のときに5秒かかっているのは、for文内の処理の実行は引数の指定順となるため、  \n",
    "sec=5の完了を待ってから実行されるため。sec=3自体の処理は3秒で終わっている。  \n",
    "これを避けるには.imap_unorderedを使う。こうすると引数の指定順は関係なく処理が終わり次第結果を返す。"
   ]
  },
  {
   "cell_type": "code",
   "execution_count": 29,
   "metadata": {},
   "outputs": [
    {
     "name": "stderr",
     "output_type": "stream",
     "text": [
      "1it [00:01,  1.00s/it]"
     ]
    },
    {
     "name": "stdout",
     "output_type": "stream",
     "text": [
      "1: 1.0068902969360352 sec\n"
     ]
    },
    {
     "name": "stderr",
     "output_type": "stream",
     "text": [
      "2it [00:03,  1.30s/it]"
     ]
    },
    {
     "name": "stdout",
     "output_type": "stream",
     "text": [
      "9: 3.0095877647399902 sec\n"
     ]
    },
    {
     "name": "stderr",
     "output_type": "stream",
     "text": [
      "3it [00:05,  1.67s/it]"
     ]
    },
    {
     "name": "stdout",
     "output_type": "stream",
     "text": [
      "25: 5.008234024047852 sec\n",
      "it took 5.0177857875823975 sec\n"
     ]
    },
    {
     "name": "stderr",
     "output_type": "stream",
     "text": [
      "\n"
     ]
    }
   ],
   "source": [
    "before = time.time()\n",
    "# p.imapの戻り値はiterableなので、tqdmを使用可能\n",
    "# 単に結果を返すだけならfor文にせず　result=list(tqdm(p.imap(wait_sec,[1, 5, 3],total=3)))でOK\n",
    "for i in tqdm(p.imap_unordered(wait_sec, [1, 5, 3])):\n",
    "    print('{}: {} sec'.format(i, time.time() - before))\n",
    "after = time.time()\n",
    "print('it took {} sec'.format(after - before))"
   ]
  },
  {
   "cell_type": "markdown",
   "metadata": {},
   "source": [
    "## 複数の引数を受け取って並列処理したい場合\n",
    "imapやmapは単一の引数しか受け取れないのでラッパー関数を作って、  \n",
    "複数の引数を渡す。"
   ]
  },
  {
   "cell_type": "code",
   "execution_count": 42,
   "metadata": {},
   "outputs": [],
   "source": [
    "def multiply(a, b):\n",
    "    return a * b\n",
    "\n",
    "# 復習：*はunpacking operator\n",
    "def wrap_multiply(args):\n",
    "    return multiply(*args)\n",
    "\n",
    "param1 = [1, 2, 3, 4]\n",
    "param2 = [10, 30, 70, 20]\n",
    "# param1,2の同じインデックス同士で掛け算したい。このような場合はzip関数を使うと  \n",
    "# 同じインデックス同士のタプルのリストが作れる。CPUのそれぞれのジョブなので、job_argsと命名することが多い。\n",
    "# [(1, 10), (2, 30), (3, 70), (4, 20)]\n",
    "job_args = list(zip(param1, param2))\n",
    "\n",
    "p = Pool(processes=cpu_count()-1)\n",
    "# p.imapで指定する関数は引数を一つしか受け取れないので、multiplyではなくラッパー関数を指定する。\n",
    "# 引数にはタプルのリストを入れて、ラッパー関数でアンパッキングする。\n",
    "results = list(p.imap(wrap_multiply, job_args))\n",
    "\n",
    "# リソース開放のため、忘れずに下記は実行すること。\n",
    "p.close()\n",
    "p.join()"
   ]
  },
  {
   "cell_type": "code",
   "execution_count": 37,
   "metadata": {},
   "outputs": [],
   "source": [
    "# zip関数の返り値はiterator\n",
    "#params = list(zip(param1, param2))"
   ]
  },
  {
   "cell_type": "code",
   "execution_count": 38,
   "metadata": {},
   "outputs": [
    {
     "data": {
      "text/plain": [
       "[(1, 10), (2, 30), (3, 70), (4, 20)]"
      ]
     },
     "execution_count": 38,
     "metadata": {},
     "output_type": "execute_result"
    }
   ],
   "source": [
    "#params"
   ]
  },
  {
   "cell_type": "code",
   "execution_count": 41,
   "metadata": {},
   "outputs": [
    {
     "data": {
      "text/plain": [
       "[10, 60, 210, 80]"
      ]
     },
     "execution_count": 41,
     "metadata": {},
     "output_type": "execute_result"
    }
   ],
   "source": [
    "results"
   ]
  },
  {
   "cell_type": "code",
   "execution_count": null,
   "metadata": {},
   "outputs": [],
   "source": []
  }
 ],
 "metadata": {
  "kernelspec": {
   "display_name": "Python 3",
   "language": "python",
   "name": "python3"
  },
  "language_info": {
   "codemirror_mode": {
    "name": "ipython",
    "version": 3
   },
   "file_extension": ".py",
   "mimetype": "text/x-python",
   "name": "python",
   "nbconvert_exporter": "python",
   "pygments_lexer": "ipython3",
   "version": "3.7.6"
  }
 },
 "nbformat": 4,
 "nbformat_minor": 4
}
