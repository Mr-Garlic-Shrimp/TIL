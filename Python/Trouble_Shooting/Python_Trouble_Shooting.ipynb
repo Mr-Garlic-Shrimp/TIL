{
 "cells": [
  {
   "attachments": {},
   "cell_type": "markdown",
   "metadata": {},
   "source": [
    "# Python(およびJupyterlab)のトラブルシューティングメモ"
   ]
  },
  {
   "attachments": {},
   "cell_type": "markdown",
   "metadata": {},
   "source": [
    "## ○ エラー：Failed to start the Kernel.'_xsrf' argument missing from POST. \n",
    "\n",
    "* 原因  \n",
    "JupyterLabへリクエストする際に'_xsrf'（Cross-site request forgery）トークンが不足しているため、  \n",
    "セキュリティ上の理由からカーネルの起動に失敗している。\n",
    "\n",
    "* 解決策  \n",
    "jupyter_notebook_config.py(JupyterLabの設定ファイル)に以下の行を追加して、  \n",
    "'_xsrf'トークンのチェックを無効にする。通常、このファイルは~/.jupyter/ディレクトリにある。    \n",
    "セキュリティリスクがあるので、自己責任で行うこと。  \n",
    "ローカル環境だったので、一旦許容した。  \n",
    "```\n",
    "c.NotebookApp.disable_check_xsrf = True\n",
    "```\n",
    "\n",
    "そのごJupyterLabサーバを再起動する。\n"
   ]
  },
  {
   "attachments": {},
   "cell_type": "markdown",
   "metadata": {},
   "source": [
    "## ○ sslの問題でpip installできない\n",
    "* 事象：    \n",
    "powershellからpip installしようとすると下記のエラーが起こる。\n",
    "    ```\n",
    "    Could not fetch URL https://pypi.org/simple/python-pptx/: There was a problem confirming the ssl certificate: HTTPSConnectionPool(host=’pypi.org’, port=443): Max retries exceeded with url: /simple/python-pptx/ (Caused by SSLError(“Can’t connect to HTTPS URL because the SSL module is not available.”)) – skipping\n",
    "    ```\n",
    "\n",
    "* 原因：　調査中\n",
    "* 解決策：　WindowsにOpenSSlをインストールすることで解決した。\n",
    "\n",
    "* 参考\n",
    "  * https://wanna-try.net/pip_error/149/\n",
    "  * [OpenSSLインストール方法](https://atmarkit.itmedia.co.jp/ait/articles/1601/29/news043.html) \n"
   ]
  }
 ],
 "metadata": {
  "language_info": {
   "name": "python"
  },
  "orig_nbformat": 4
 },
 "nbformat": 4,
 "nbformat_minor": 2
}
