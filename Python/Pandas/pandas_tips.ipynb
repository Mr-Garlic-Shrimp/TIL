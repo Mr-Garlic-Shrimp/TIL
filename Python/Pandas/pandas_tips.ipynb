{
 "cells": [
  {
   "cell_type": "markdown",
   "id": "eaa59400-d476-4665-9dbe-91e72c411746",
   "metadata": {},
   "source": [
    "# PandasにおけるTips"
   ]
  },
  {
   "cell_type": "code",
   "execution_count": 5,
   "id": "9a28ead7-1193-4b70-8d78-0b41bb8b17ec",
   "metadata": {},
   "outputs": [
    {
     "name": "stdout",
     "output_type": "stream",
     "text": [
      "The autoreload extension is already loaded. To reload it, use:\n",
      "  %reload_ext autoreload\n"
     ]
    }
   ],
   "source": [
    "%load_ext autoreload\n",
    "%autoreload 2\n",
    "import pandas as pd\n",
    "import numpy as np\n",
    "import seaborn as sns\n",
    "from sklearn.linear_model import LinearRegression\n",
    "from sklearn.preprocessing import StandardScaler, PolynomialFeatures, label_binarize\n",
    "from sklearn.model_selection import train_test_split ,LeaveOneOut\n",
    "from sklearn import tree\n",
    "import lightgbm as lgb\n",
    "\n",
    "%matplotlib inline\n",
    "import matplotlib.pyplot as plt\n"
   ]
  },
  {
   "cell_type": "markdown",
   "id": "67b859c0-4e6d-4529-bdf1-20fcc74ef920",
   "metadata": {},
   "source": [
    "## ○ 欠損値を読み込んだ時のPandasの挙動\n",
    "pd.read_csvで何もオプションを指定せずに下記のようなcsvを読み込んだ場合、  \n",
    "None以外はnp.nanに変換される模様。Noneはそのまま書いても\"\"をつけて書いてもstrとして扱われる。\n"
   ]
  },
  {
   "cell_type": "markdown",
   "id": "2b037272-51c2-499f-bca6-74c2ecc4bdbd",
   "metadata": {},
   "source": [
    "元のcsv\n",
    "```\n",
    "A,B,C\n",
    "1,2,\n",
    "3,4,\"\"\n",
    "5,6,NA\n",
    "7,8,\"NA\"\n",
    "9,10,NaN\n",
    "11,12,\"NaN\"\n",
    "13,14,None\n",
    "15,16,\"None\"\n",
    "```"
   ]
  },
  {
   "cell_type": "code",
   "execution_count": 2,
   "id": "3597c894-bc2a-4f21-b6b9-64949c3dc667",
   "metadata": {},
   "outputs": [
    {
     "data": {
      "text/html": [
       "<div>\n",
       "<style scoped>\n",
       "    .dataframe tbody tr th:only-of-type {\n",
       "        vertical-align: middle;\n",
       "    }\n",
       "\n",
       "    .dataframe tbody tr th {\n",
       "        vertical-align: top;\n",
       "    }\n",
       "\n",
       "    .dataframe thead th {\n",
       "        text-align: right;\n",
       "    }\n",
       "</style>\n",
       "<table border=\"1\" class=\"dataframe\">\n",
       "  <thead>\n",
       "    <tr style=\"text-align: right;\">\n",
       "      <th></th>\n",
       "      <th>A</th>\n",
       "      <th>B</th>\n",
       "      <th>C</th>\n",
       "    </tr>\n",
       "  </thead>\n",
       "  <tbody>\n",
       "    <tr>\n",
       "      <th>0</th>\n",
       "      <td>1</td>\n",
       "      <td>2</td>\n",
       "      <td>NaN</td>\n",
       "    </tr>\n",
       "    <tr>\n",
       "      <th>1</th>\n",
       "      <td>3</td>\n",
       "      <td>4</td>\n",
       "      <td>NaN</td>\n",
       "    </tr>\n",
       "    <tr>\n",
       "      <th>2</th>\n",
       "      <td>5</td>\n",
       "      <td>6</td>\n",
       "      <td>NaN</td>\n",
       "    </tr>\n",
       "    <tr>\n",
       "      <th>3</th>\n",
       "      <td>7</td>\n",
       "      <td>8</td>\n",
       "      <td>NaN</td>\n",
       "    </tr>\n",
       "    <tr>\n",
       "      <th>4</th>\n",
       "      <td>9</td>\n",
       "      <td>10</td>\n",
       "      <td>NaN</td>\n",
       "    </tr>\n",
       "    <tr>\n",
       "      <th>5</th>\n",
       "      <td>11</td>\n",
       "      <td>12</td>\n",
       "      <td>NaN</td>\n",
       "    </tr>\n",
       "    <tr>\n",
       "      <th>6</th>\n",
       "      <td>13</td>\n",
       "      <td>14</td>\n",
       "      <td>None</td>\n",
       "    </tr>\n",
       "    <tr>\n",
       "      <th>7</th>\n",
       "      <td>15</td>\n",
       "      <td>16</td>\n",
       "      <td>None</td>\n",
       "    </tr>\n",
       "  </tbody>\n",
       "</table>\n",
       "</div>"
      ],
      "text/plain": [
       "    A   B     C\n",
       "0   1   2   NaN\n",
       "1   3   4   NaN\n",
       "2   5   6   NaN\n",
       "3   7   8   NaN\n",
       "4   9  10   NaN\n",
       "5  11  12   NaN\n",
       "6  13  14  None\n",
       "7  15  16  None"
      ]
     },
     "execution_count": 2,
     "metadata": {},
     "output_type": "execute_result"
    }
   ],
   "source": [
    "tmp = pd.read_csv('missing_value_test.csv')\n",
    "tmp"
   ]
  },
  {
   "cell_type": "code",
   "execution_count": 9,
   "id": "4e2e8eff-c2bc-4483-acb9-5bfddefcaebf",
   "metadata": {},
   "outputs": [
    {
     "name": "stdout",
     "output_type": "stream",
     "text": [
      "<class 'float'>\n",
      "<class 'float'>\n",
      "<class 'float'>\n",
      "<class 'float'>\n",
      "<class 'float'>\n",
      "<class 'float'>\n",
      "<class 'str'>\n",
      "<class 'str'>\n"
     ]
    }
   ],
   "source": [
    "for i in range(0, len(tmp)):\n",
    "    print( type(tmp['C'].iloc[i]) )"
   ]
  },
  {
   "cell_type": "markdown",
   "id": "f9f00a32-2e3d-42f9-ad9d-cd062a1b7829",
   "metadata": {},
   "source": [
    "## ○ 行・列ごとに欠損値(NaN,NA)の個数をカウント\n",
    "sum()ではTrue=1, False=0として処理されるため、sum()をisnull()の結果（欠損値かどうかの判定結果）に適用することで、  \n",
    "行・列ごとに欠損値NaNの個数をカウントできる。  \n",
    "デフォルトでは列、引数axis=1とすると行に対して処理される。  \n",
    "```\n",
    "print(df.isnull().sum())\n",
    "# name     1\n",
    "# age      2\n",
    "# state    1\n",
    "# point    3\n",
    "```  \n",
    "また、.countでは欠損値を除いた列・行の要素数しかカウントしないが、  \n",
    ".isnull().count()とすることで、欠損値も含めたカウントができる。\n",
    "\n"
   ]
  },
  {
   "cell_type": "markdown",
   "id": "8881b2b6-f556-40c1-8ef8-55b1286ff325",
   "metadata": {},
   "source": [
    "## 特定の条件に当てはまる行だけ落とす"
   ]
  },
  {
   "cell_type": "code",
   "execution_count": 2,
   "id": "890c63da-e20b-4750-b93b-3be7bf4f55ca",
   "metadata": {},
   "outputs": [],
   "source": [
    "df = sns.load_dataset('mpg') \n",
    "# NaNがあると、多項式特徴量に変換するときエラーが出るので排除。\n",
    "df.dropna(inplace=True)"
   ]
  },
  {
   "cell_type": "code",
   "execution_count": 29,
   "id": "2f20cc5b-ace2-4899-b870-1b9d7f23165e",
   "metadata": {},
   "outputs": [
    {
     "data": {
      "text/html": [
       "<div>\n",
       "<style scoped>\n",
       "    .dataframe tbody tr th:only-of-type {\n",
       "        vertical-align: middle;\n",
       "    }\n",
       "\n",
       "    .dataframe tbody tr th {\n",
       "        vertical-align: top;\n",
       "    }\n",
       "\n",
       "    .dataframe thead th {\n",
       "        text-align: right;\n",
       "    }\n",
       "</style>\n",
       "<table border=\"1\" class=\"dataframe\">\n",
       "  <thead>\n",
       "    <tr style=\"text-align: right;\">\n",
       "      <th></th>\n",
       "      <th>mpg</th>\n",
       "      <th>cylinders</th>\n",
       "      <th>displacement</th>\n",
       "      <th>horsepower</th>\n",
       "      <th>weight</th>\n",
       "      <th>acceleration</th>\n",
       "      <th>model_year</th>\n",
       "      <th>origin</th>\n",
       "      <th>name</th>\n",
       "    </tr>\n",
       "  </thead>\n",
       "  <tbody>\n",
       "    <tr>\n",
       "      <th>0</th>\n",
       "      <td>18.0</td>\n",
       "      <td>8</td>\n",
       "      <td>307.0</td>\n",
       "      <td>130.0</td>\n",
       "      <td>3504</td>\n",
       "      <td>12.0</td>\n",
       "      <td>70</td>\n",
       "      <td>usa</td>\n",
       "      <td>chevrolet chevelle malibu</td>\n",
       "    </tr>\n",
       "    <tr>\n",
       "      <th>1</th>\n",
       "      <td>15.0</td>\n",
       "      <td>8</td>\n",
       "      <td>350.0</td>\n",
       "      <td>165.0</td>\n",
       "      <td>3693</td>\n",
       "      <td>11.5</td>\n",
       "      <td>70</td>\n",
       "      <td>usa</td>\n",
       "      <td>buick skylark 320</td>\n",
       "    </tr>\n",
       "    <tr>\n",
       "      <th>2</th>\n",
       "      <td>18.0</td>\n",
       "      <td>8</td>\n",
       "      <td>318.0</td>\n",
       "      <td>150.0</td>\n",
       "      <td>3436</td>\n",
       "      <td>11.0</td>\n",
       "      <td>70</td>\n",
       "      <td>usa</td>\n",
       "      <td>plymouth satellite</td>\n",
       "    </tr>\n",
       "    <tr>\n",
       "      <th>3</th>\n",
       "      <td>16.0</td>\n",
       "      <td>8</td>\n",
       "      <td>304.0</td>\n",
       "      <td>150.0</td>\n",
       "      <td>3433</td>\n",
       "      <td>12.0</td>\n",
       "      <td>70</td>\n",
       "      <td>usa</td>\n",
       "      <td>amc rebel sst</td>\n",
       "    </tr>\n",
       "    <tr>\n",
       "      <th>4</th>\n",
       "      <td>17.0</td>\n",
       "      <td>8</td>\n",
       "      <td>302.0</td>\n",
       "      <td>140.0</td>\n",
       "      <td>3449</td>\n",
       "      <td>10.5</td>\n",
       "      <td>70</td>\n",
       "      <td>usa</td>\n",
       "      <td>ford torino</td>\n",
       "    </tr>\n",
       "  </tbody>\n",
       "</table>\n",
       "</div>"
      ],
      "text/plain": [
       "    mpg  cylinders  displacement  horsepower  weight  acceleration  \\\n",
       "0  18.0          8         307.0       130.0    3504          12.0   \n",
       "1  15.0          8         350.0       165.0    3693          11.5   \n",
       "2  18.0          8         318.0       150.0    3436          11.0   \n",
       "3  16.0          8         304.0       150.0    3433          12.0   \n",
       "4  17.0          8         302.0       140.0    3449          10.5   \n",
       "\n",
       "   model_year origin                       name  \n",
       "0          70    usa  chevrolet chevelle malibu  \n",
       "1          70    usa          buick skylark 320  \n",
       "2          70    usa         plymouth satellite  \n",
       "3          70    usa              amc rebel sst  \n",
       "4          70    usa                ford torino  "
      ]
     },
     "execution_count": 29,
     "metadata": {},
     "output_type": "execute_result"
    }
   ],
   "source": [
    "df.head()"
   ]
  },
  {
   "cell_type": "code",
   "execution_count": 30,
   "id": "080e2594-380f-44ff-8f59-0f94e4513737",
   "metadata": {},
   "outputs": [
    {
     "data": {
      "text/plain": [
       "<AxesSubplot:xlabel='horsepower', ylabel='mpg'>"
      ]
     },
     "execution_count": 30,
     "metadata": {},
     "output_type": "execute_result"
    },
    {
     "data": {
      "image/png": "[encoded data removed]",
      "text/plain": [
       "<Figure size 432x288 with 1 Axes>"
      ]
     },
     "metadata": {
      "needs_background": "light"
     },
     "output_type": "display_data"
    }
   ],
   "source": [
    "X = df['horsepower'].values.reshape(-1, 1)\n",
    "y = df['mpg']\n",
    "sns.scatterplot(x=df['horsepower'], y=y)"
   ]
  },
  {
   "cell_type": "markdown",
   "id": "919e4a17-377a-4b0f-bd90-ff03f47689b1",
   "metadata": {},
   "source": [
    "このようなデータがあったときに一部のデータ(例えば、50 < horsepower < 75 かつ 30 < mpg < 45)だけ抜き出す、  \n",
    "あるいは削除したいときは下記のようにすればよい。"
   ]
  },
  {
   "cell_type": "code",
   "execution_count": 31,
   "id": "f67de557-97c8-459b-9e6f-95779b60dd36",
   "metadata": {},
   "outputs": [],
   "source": [
    "# クエリで抽出と元データからの削除\n",
    "drop_target = df.query('50 < horsepower < 75 & 30 < mpg < 45').index\n",
    "df = df.drop(index=drop_target).copy()"
   ]
  },
  {
   "cell_type": "code",
   "execution_count": 33,
   "id": "631990a5-3306-4f37-8b77-93cf62af1024",
   "metadata": {},
   "outputs": [
    {
     "data": {
      "text/plain": [
       "<AxesSubplot:xlabel='horsepower', ylabel='mpg'>"
      ]
     },
     "execution_count": 33,
     "metadata": {},
     "output_type": "execute_result"
    },
    {
     "data": {
      "image/png": "[encoded data removed]",
      "text/plain": [
       "<Figure size 432x288 with 1 Axes>"
      ]
     },
     "metadata": {
      "needs_background": "light"
     },
     "output_type": "display_data"
    }
   ],
   "source": [
    "y = df['mpg']\n",
    "sns.scatterplot(x=df['horsepower'], y=y)"
   ]
  },
  {
   "cell_type": "markdown",
   "id": "28fcdc47-0666-46fc-b10e-23b0004db462",
   "metadata": {},
   "source": [
    "狙った部分が消せている。学習データの不要な部分を削除するときなどに使える。  "
   ]
  },
  {
   "cell_type": "code",
   "execution_count": null,
   "id": "973710d8-bb55-47a2-9fb6-6b866e3ad9e3",
   "metadata": {},
   "outputs": [],
   "source": []
  }
 ],
 "metadata": {
  "kernelspec": {
   "display_name": "Python 3 (ipykernel)",
   "language": "python",
   "name": "python3"
  },
  "language_info": {
   "codemirror_mode": {
    "name": "ipython",
    "version": 3
   },
   "file_extension": ".py",
   "mimetype": "text/x-python",
   "name": "python",
   "nbconvert_exporter": "python",
   "pygments_lexer": "ipython3",
   "version": "3.9.12"
  }
 },
 "nbformat": 4,
 "nbformat_minor": 5
}
