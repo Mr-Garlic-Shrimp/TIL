{
 "cells": [
  {
   "cell_type": "markdown",
   "metadata": {},
   "source": [
    "# PySparkのTips"
   ]
  },
  {
   "cell_type": "markdown",
   "metadata": {},
   "source": [
    "細かいTips、テクニックをまとめる。"
   ]
  },
  {
   "cell_type": "code",
   "execution_count": 8,
   "metadata": {},
   "outputs": [],
   "source": [
    "from glob import glob\n",
    "\n",
    "import polars as pl\n",
    "from pyspark.sql import SparkSession, Window\n",
    "from pyspark.sql.functions import col\n",
    "from pyspark.sql import functions as F\n",
    "from pyspark.ml.feature import OneHotEncoder, StringIndexer, VectorAssembler\n",
    "from pyspark.ml.functions import vector_to_array\n",
    "import numpy as np\n",
    "\n",
    "# Create a SparkSession。pythonからsparkを使う場合、セッションの作成が必要。\n",
    "spark = SparkSession.builder.appName(\"Testing PySpark Example\").getOrCreate()\n",
    "\n",
    "# デフォルトのログレベルだと大量にログが出力されるので限定する。\n",
    "spark.sparkContext.setLogLevel(\"ERROR\")"
   ]
  },
  {
   "cell_type": "code",
   "execution_count": 3,
   "metadata": {},
   "outputs": [
    {
     "name": "stderr",
     "output_type": "stream",
     "text": [
      "                                                                                \r"
     ]
    }
   ],
   "source": [
    "# 各データ読み込み\n",
    "df_receipt = spark.read.parquet(\"../../../100knocks-preprocess/docker/work/data/receipt.parquet\")\n",
    "\n",
    "# 店舗データ\n",
    "df_store = spark.read.parquet(\"../../../100knocks-preprocess/docker/work/data/store.parquet\")\n",
    "\n",
    "# 顧客データ\n",
    "df_customer = spark.read.parquet(\"../../../100knocks-preprocess/docker/work/data/customer.parquet\")\n",
    "\n",
    "# 製品データ\n",
    "df_product = spark.read.parquet(\"../../../100knocks-preprocess/docker/work/data/product.parquet\")\n",
    "\n",
    "# 製品データ\n",
    "df_category = spark.read.parquet(\"../../../100knocks-preprocess/docker/work/data/category.parquet\")"
   ]
  },
  {
   "cell_type": "markdown",
   "metadata": {},
   "source": [
    "## 特定カラムのユニークな値をリストとしてすべて取得\n",
    "下記のような方法がある。どちらにせよめんどくさい。"
   ]
  },
  {
   "cell_type": "code",
   "execution_count": 4,
   "metadata": {},
   "outputs": [
    {
     "name": "stderr",
     "output_type": "stream",
     "text": [
      "                                                                                \r"
     ]
    },
    {
     "data": {
      "text/plain": [
       "['0', '9', '1']"
      ]
     },
     "execution_count": 4,
     "metadata": {},
     "output_type": "execute_result"
    }
   ],
   "source": [
    "# collectの結果の各値は対象カラムをキーとする辞書のような形で取得できる\n",
    "[v[\"gender_cd\"] for v in df_customer.select(\"gender_cd\").distinct().collect()]"
   ]
  },
  {
   "cell_type": "code",
   "execution_count": 5,
   "metadata": {},
   "outputs": [
    {
     "name": "stderr",
     "output_type": "stream",
     "text": [
      "                                                                                \r"
     ]
    },
    {
     "data": {
      "text/plain": [
       "['0', '9', '1']"
      ]
     },
     "execution_count": 5,
     "metadata": {},
     "output_type": "execute_result"
    }
   ],
   "source": [
    "df_customer.select(\"gender_cd\").dropDuplicates().rdd.flatMap(lambda x: x).collect()"
   ]
  },
  {
   "cell_type": "code",
   "execution_count": 6,
   "metadata": {},
   "outputs": [
    {
     "name": "stdout",
     "output_type": "stream",
     "text": [
      "+---------+\n",
      "|gender_cd|\n",
      "+---------+\n",
      "|        0|\n",
      "|        9|\n",
      "|        1|\n",
      "+---------+\n",
      "\n"
     ]
    }
   ],
   "source": [
    "# Dataframeとして取得したいなら.distinctでOK\n",
    "df_customer.select(\"gender_cd\").distinct().show()"
   ]
  },
  {
   "cell_type": "markdown",
   "metadata": {},
   "source": [
    "## joinの結合条件にcontainsを用いる\n",
    "結構便利。"
   ]
  },
  {
   "cell_type": "code",
   "execution_count": 29,
   "metadata": {},
   "outputs": [],
   "source": [
    "# サンプルデータの作成\n",
    "data_a = [\n",
    "    (1, \"This is a sample message\"),\n",
    "    (2, \"Another example message\"),\n",
    "    (3, \"Message with a keyword\"),\n",
    "    (4, \"No match here\"),\n",
    "    (5, \"samplesample\"),\n",
    "    (6, \"sample keyword\"),\n",
    "]\n",
    "columns_a = [\"id\", \"message\"]\n",
    "df_a = spark.createDataFrame(data_a, columns_a)\n",
    "\n",
    "data_b = [\n",
    "    (1, \"sample\", \"MSG001\"),\n",
    "    (2, \"example\", \"MSG002\"),\n",
    "    (3, \"keyword\", \"MSG003\")\n",
    "]\n",
    "columns_b = [\"id\" ,\"message_key\", \"MSG_No\"]\n",
    "df_b = spark.createDataFrame(data_b, columns_b)\n"
   ]
  },
  {
   "cell_type": "code",
   "execution_count": 30,
   "metadata": {},
   "outputs": [
    {
     "name": "stdout",
     "output_type": "stream",
     "text": [
      "+---+--------------------+\n",
      "| id|             message|\n",
      "+---+--------------------+\n",
      "|  1|This is a sample ...|\n",
      "|  2|Another example m...|\n",
      "|  3|Message with a ke...|\n",
      "|  4|       No match here|\n",
      "|  5|        samplesample|\n",
      "|  6|      sample keyword|\n",
      "+---+--------------------+\n",
      "\n"
     ]
    }
   ],
   "source": [
    "df_a.show()"
   ]
  },
  {
   "cell_type": "code",
   "execution_count": 31,
   "metadata": {},
   "outputs": [
    {
     "name": "stdout",
     "output_type": "stream",
     "text": [
      "+---+-----------+------+\n",
      "| id|message_key|MSG_No|\n",
      "+---+-----------+------+\n",
      "|  1|     sample|MSG001|\n",
      "|  2|    example|MSG002|\n",
      "|  3|    keyword|MSG003|\n",
      "+---+-----------+------+\n",
      "\n"
     ]
    }
   ],
   "source": [
    "df_b.show()"
   ]
  },
  {
   "cell_type": "code",
   "execution_count": 32,
   "metadata": {},
   "outputs": [
    {
     "name": "stdout",
     "output_type": "stream",
     "text": [
      "+---+--------------------+----+-----------+------+\n",
      "| id|             message|  id|message_key|MSG_No|\n",
      "+---+--------------------+----+-----------+------+\n",
      "|  1|This is a sample ...|   1|     sample|MSG001|\n",
      "|  2|Another example m...|   2|    example|MSG002|\n",
      "|  3|Message with a ke...|   3|    keyword|MSG003|\n",
      "|  4|       No match here|NULL|       NULL|  NULL|\n",
      "|  5|        samplesample|   1|     sample|MSG001|\n",
      "|  6|      sample keyword|   1|     sample|MSG001|\n",
      "|  6|      sample keyword|   3|    keyword|MSG003|\n",
      "+---+--------------------+----+-----------+------+\n",
      "\n"
     ]
    }
   ],
   "source": [
    "df_a.join(\n",
    "    df_b,\n",
    "    # 結合条件にcontainsを使用。messageにmessage_keyが含まれていれば紐づける\n",
    "    F.contains(df_a.message, df_b.message_key),\n",
    "    \"left\"\n",
    ").show()"
   ]
  },
  {
   "cell_type": "markdown",
   "metadata": {},
   "source": [
    "\"sample keyword\"のように２つの単語に紐づく場合は2行紐づく。"
   ]
  }
 ],
 "metadata": {
  "kernelspec": {
   "display_name": "Python 3",
   "language": "python",
   "name": "python3"
  },
  "language_info": {
   "codemirror_mode": {
    "name": "ipython",
    "version": 3
   },
   "file_extension": ".py",
   "mimetype": "text/x-python",
   "name": "python",
   "nbconvert_exporter": "python",
   "pygments_lexer": "ipython3",
   "version": "3.11.6"
  }
 },
 "nbformat": 4,
 "nbformat_minor": 2
}
