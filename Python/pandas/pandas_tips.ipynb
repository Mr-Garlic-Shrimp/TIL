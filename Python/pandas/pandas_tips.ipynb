{
 "cells": [
  {
   "cell_type": "markdown",
   "id": "eaa59400-d476-4665-9dbe-91e72c411746",
   "metadata": {},
   "source": [
    "# PandasにおけるTips"
   ]
  },
  {
   "cell_type": "markdown",
   "id": "67b859c0-4e6d-4529-bdf1-20fcc74ef920",
   "metadata": {},
   "source": [
    "## ○ 欠損値(NaN,NA)の扱い\n",
    "データ上、欠損値はNaNで表わされることが多いが、  \n",
    "NAと書かれていても欠損値として扱われる。単に文字列型の場合もあるので、isnull()によってチェックすること。"
   ]
  },
  {
   "cell_type": "markdown",
   "id": "f9f00a32-2e3d-42f9-ad9d-cd062a1b7829",
   "metadata": {},
   "source": [
    "## ○ 行・列ごとに欠損値(NaN,NA)の個数をカウント\n",
    "sum()ではTrue=1, False=0として処理されるため、sum()をisnull()の結果（欠損値かどうかの判定結果）に適用することで、  \n",
    "行・列ごとに欠損値NaNの個数をカウントできる。  \n",
    "デフォルトでは列、引数axis=1とすると行に対して処理される。  \n",
    "```\n",
    "print(df.isnull().sum())\n",
    "# name     1\n",
    "# age      2\n",
    "# state    1\n",
    "# point    3\n",
    "```  \n",
    "また、.countでは欠損値を除いた列・行の要素数しかカウントしないが、  \n",
    ".isnull().count()とすることで、欠損値も含めたカウントができる。\n",
    "\n"
   ]
  },
  {
   "cell_type": "code",
   "execution_count": null,
   "id": "1260ca64-c81e-4759-a620-867d51445d98",
   "metadata": {},
   "outputs": [],
   "source": []
  }
 ],
 "metadata": {
  "kernelspec": {
   "display_name": "Python 3 (ipykernel)",
   "language": "python",
   "name": "python3"
  },
  "language_info": {
   "codemirror_mode": {
    "name": "ipython",
    "version": 3
   },
   "file_extension": ".py",
   "mimetype": "text/x-python",
   "name": "python",
   "nbconvert_exporter": "python",
   "pygments_lexer": "ipython3",
   "version": "3.9.12"
  }
 },
 "nbformat": 4,
 "nbformat_minor": 5
}
