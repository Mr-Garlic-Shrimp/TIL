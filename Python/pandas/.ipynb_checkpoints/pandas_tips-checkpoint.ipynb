{
 "cells": [
  {
   "cell_type": "markdown",
   "id": "eaa59400-d476-4665-9dbe-91e72c411746",
   "metadata": {},
   "source": [
    "# PandasにおけるTips"
   ]
  },
  {
   "cell_type": "code",
   "execution_count": 1,
   "id": "9a28ead7-1193-4b70-8d78-0b41bb8b17ec",
   "metadata": {},
   "outputs": [],
   "source": [
    "import pandas as pd\n",
    "import numpy as np"
   ]
  },
  {
   "cell_type": "markdown",
   "id": "67b859c0-4e6d-4529-bdf1-20fcc74ef920",
   "metadata": {},
   "source": [
    "## ○ 欠損値を読み込んだ時のPandasの挙動\n",
    "pd.read_csvで何もオプションを指定せずに下記のようなcsvを読み込んだ場合、  \n",
    "None以外はnp.nanに変換される模様。Noneはそのまま書いても\"\"をつけて書いてもstrとして扱われる。\n"
   ]
  },
  {
   "cell_type": "markdown",
   "id": "2b037272-51c2-499f-bca6-74c2ecc4bdbd",
   "metadata": {},
   "source": [
    "元のcsv\n",
    "```\n",
    "A,B,C\n",
    "1,2,\n",
    "3,4,\"\"\n",
    "5,6,NA\n",
    "7,8,\"NA\"\n",
    "9,10,NaN\n",
    "11,12,\"NaN\"\n",
    "13,14,None\n",
    "15,16,\"None\"\n",
    "```"
   ]
  },
  {
   "cell_type": "code",
   "execution_count": 2,
   "id": "3597c894-bc2a-4f21-b6b9-64949c3dc667",
   "metadata": {},
   "outputs": [
    {
     "data": {
      "text/html": [
       "<div>\n",
       "<style scoped>\n",
       "    .dataframe tbody tr th:only-of-type {\n",
       "        vertical-align: middle;\n",
       "    }\n",
       "\n",
       "    .dataframe tbody tr th {\n",
       "        vertical-align: top;\n",
       "    }\n",
       "\n",
       "    .dataframe thead th {\n",
       "        text-align: right;\n",
       "    }\n",
       "</style>\n",
       "<table border=\"1\" class=\"dataframe\">\n",
       "  <thead>\n",
       "    <tr style=\"text-align: right;\">\n",
       "      <th></th>\n",
       "      <th>A</th>\n",
       "      <th>B</th>\n",
       "      <th>C</th>\n",
       "    </tr>\n",
       "  </thead>\n",
       "  <tbody>\n",
       "    <tr>\n",
       "      <th>0</th>\n",
       "      <td>1</td>\n",
       "      <td>2</td>\n",
       "      <td>NaN</td>\n",
       "    </tr>\n",
       "    <tr>\n",
       "      <th>1</th>\n",
       "      <td>3</td>\n",
       "      <td>4</td>\n",
       "      <td>NaN</td>\n",
       "    </tr>\n",
       "    <tr>\n",
       "      <th>2</th>\n",
       "      <td>5</td>\n",
       "      <td>6</td>\n",
       "      <td>NaN</td>\n",
       "    </tr>\n",
       "    <tr>\n",
       "      <th>3</th>\n",
       "      <td>7</td>\n",
       "      <td>8</td>\n",
       "      <td>NaN</td>\n",
       "    </tr>\n",
       "    <tr>\n",
       "      <th>4</th>\n",
       "      <td>9</td>\n",
       "      <td>10</td>\n",
       "      <td>NaN</td>\n",
       "    </tr>\n",
       "    <tr>\n",
       "      <th>5</th>\n",
       "      <td>11</td>\n",
       "      <td>12</td>\n",
       "      <td>NaN</td>\n",
       "    </tr>\n",
       "    <tr>\n",
       "      <th>6</th>\n",
       "      <td>13</td>\n",
       "      <td>14</td>\n",
       "      <td>None</td>\n",
       "    </tr>\n",
       "    <tr>\n",
       "      <th>7</th>\n",
       "      <td>15</td>\n",
       "      <td>16</td>\n",
       "      <td>None</td>\n",
       "    </tr>\n",
       "  </tbody>\n",
       "</table>\n",
       "</div>"
      ],
      "text/plain": [
       "    A   B     C\n",
       "0   1   2   NaN\n",
       "1   3   4   NaN\n",
       "2   5   6   NaN\n",
       "3   7   8   NaN\n",
       "4   9  10   NaN\n",
       "5  11  12   NaN\n",
       "6  13  14  None\n",
       "7  15  16  None"
      ]
     },
     "execution_count": 2,
     "metadata": {},
     "output_type": "execute_result"
    }
   ],
   "source": [
    "tmp = pd.read_csv('missing_value_test.csv')\n",
    "tmp"
   ]
  },
  {
   "cell_type": "code",
   "execution_count": 9,
   "id": "4e2e8eff-c2bc-4483-acb9-5bfddefcaebf",
   "metadata": {},
   "outputs": [
    {
     "name": "stdout",
     "output_type": "stream",
     "text": [
      "<class 'float'>\n",
      "<class 'float'>\n",
      "<class 'float'>\n",
      "<class 'float'>\n",
      "<class 'float'>\n",
      "<class 'float'>\n",
      "<class 'str'>\n",
      "<class 'str'>\n"
     ]
    }
   ],
   "source": [
    "for i in range(0, len(tmp)):\n",
    "    print( type(tmp['C'].iloc[i]) )"
   ]
  },
  {
   "cell_type": "markdown",
   "id": "f9f00a32-2e3d-42f9-ad9d-cd062a1b7829",
   "metadata": {},
   "source": [
    "## ○ 行・列ごとに欠損値(NaN,NA)の個数をカウント\n",
    "sum()ではTrue=1, False=0として処理されるため、sum()をisnull()の結果（欠損値かどうかの判定結果）に適用することで、  \n",
    "行・列ごとに欠損値NaNの個数をカウントできる。  \n",
    "デフォルトでは列、引数axis=1とすると行に対して処理される。  \n",
    "```\n",
    "print(df.isnull().sum())\n",
    "# name     1\n",
    "# age      2\n",
    "# state    1\n",
    "# point    3\n",
    "```  \n",
    "また、.countでは欠損値を除いた列・行の要素数しかカウントしないが、  \n",
    ".isnull().count()とすることで、欠損値も含めたカウントができる。\n",
    "\n"
   ]
  },
  {
   "cell_type": "code",
   "execution_count": null,
   "id": "1260ca64-c81e-4759-a620-867d51445d98",
   "metadata": {},
   "outputs": [],
   "source": []
  }
 ],
 "metadata": {
  "kernelspec": {
   "display_name": "Python 3 (ipykernel)",
   "language": "python",
   "name": "python3"
  },
  "language_info": {
   "codemirror_mode": {
    "name": "ipython",
    "version": 3
   },
   "file_extension": ".py",
   "mimetype": "text/x-python",
   "name": "python",
   "nbconvert_exporter": "python",
   "pygments_lexer": "ipython3",
   "version": "3.9.12"
  }
 },
 "nbformat": 4,
 "nbformat_minor": 5
}
