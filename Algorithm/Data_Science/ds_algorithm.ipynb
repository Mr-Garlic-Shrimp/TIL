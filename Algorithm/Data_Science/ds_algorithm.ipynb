{
 "cells": [
  {
   "cell_type": "markdown",
   "metadata": {},
   "source": [
    "# データサイエンスでよく使うアルゴリズム"
   ]
  },
  {
   "cell_type": "markdown",
   "metadata": {},
   "source": [
    "## ある範囲の値を0-1に変換するアルゴリズム"
   ]
  },
  {
   "cell_type": "markdown",
   "metadata": {},
   "source": [
    "ある範囲min-maxの値を持つデータを0-1に変換するには各値に次の式を適用すればよい。 \n",
    "```\n",
    "(x - min) / (max - min)\n",
    "```\n",
    "例えば、-1300から300の値を持つデータは、\n",
    "```\n",
    "(x - (-1300)) / (300 - (-1300))\n",
    "```\n",
    "を範囲内の各値に適用する。もし、0-1以外の0-255などの範囲にしたい場合は各値に255をかける。"
   ]
  },
  {
   "cell_type": "code",
   "execution_count": null,
   "metadata": {},
   "outputs": [],
   "source": []
  }
 ],
 "metadata": {
  "kernelspec": {
   "display_name": "Python 3",
   "language": "python",
   "name": "python3"
  },
  "language_info": {
   "codemirror_mode": {
    "name": "ipython",
    "version": 3
   },
   "file_extension": ".py",
   "mimetype": "text/x-python",
   "name": "python",
   "nbconvert_exporter": "python",
   "pygments_lexer": "ipython3",
   "version": "3.7.6"
  }
 },
 "nbformat": 4,
 "nbformat_minor": 4
}
