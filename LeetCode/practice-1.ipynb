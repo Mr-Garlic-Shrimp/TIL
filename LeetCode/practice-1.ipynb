{
 "cells": [
  {
   "cell_type": "markdown",
   "metadata": {},
   "source": [
    "# LeetCodeの練習"
   ]
  },
  {
   "cell_type": "markdown",
   "metadata": {},
   "source": [
    "## Add Two Integers\n",
    "Given two integers num1 and num2, return the sum of the two integers.\n",
    "\n",
    "Constraints:   \n",
    "* -100 <= num1, num2 <= 100"
   ]
  },
  {
   "cell_type": "code",
   "execution_count": 1,
   "metadata": {},
   "outputs": [],
   "source": [
    "class Solution:\n",
    "    def __init__(self) -> None:\n",
    "        pass\n",
    "\n",
    "    def sum(self, num1: int, num2: int) -> int:\n",
    "        if ( (-100 <= num1) and (num2 <= 100) ):\n",
    "            return num1 + num2\n",
    "        else:\n",
    "            print('Constraints: -100 <= num1, num2 <= 100')\n",
    "            return None\n"
   ]
  },
  {
   "cell_type": "code",
   "execution_count": 3,
   "metadata": {},
   "outputs": [
    {
     "name": "stdout",
     "output_type": "stream",
     "text": [
      "CPU times: user 3 µs, sys: 0 ns, total: 3 µs\n",
      "Wall time: 7.15 µs\n",
      "110\n"
     ]
    }
   ],
   "source": [
    "%time\n",
    "# sol = Solution()\n",
    "# print(f'result: {sol.sum(100, 100)}')\n",
    "\n",
    "print(Solution().sum(100, 10))"
   ]
  }
 ],
 "metadata": {
  "kernelspec": {
   "display_name": "Python 3 (ipykernel)",
   "language": "python",
   "name": "python3"
  },
  "language_info": {
   "codemirror_mode": {
    "name": "ipython",
    "version": 3
   },
   "file_extension": ".py",
   "mimetype": "text/x-python",
   "name": "python",
   "nbconvert_exporter": "python",
   "pygments_lexer": "ipython3",
   "version": "3.9.12"
  },
  "orig_nbformat": 4
 },
 "nbformat": 4,
 "nbformat_minor": 2
}
