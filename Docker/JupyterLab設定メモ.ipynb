{
 "cells": [
  {
   "cell_type": "markdown",
   "metadata": {},
   "source": [
    "# JupyterLabコンテナ設定メモ"
   ]
  },
  {
   "cell_type": "markdown",
   "metadata": {},
   "source": [
    "## JupyterLabのポートを変更する\n",
    "\n",
    "Jupyter Notebookではデフォルトでlocalhost:8888を利用している。\n",
    "これを変更する場合には、以下の手順で行う。\n",
    "```bash:\n",
    "# 設定ファイルの保存先が表示\n",
    "jupyter notebook --generate-config\n",
    "\n",
    "# 設定ファイルの下記を任意のポートに変更する\n",
    "c.NotebookApp.port = 8888 -> 任意のポートに変更\n",
    "```\n",
    "\n"
   ]
  }
 ],
 "metadata": {
  "language_info": {
   "name": "python"
  }
 },
 "nbformat": 4,
 "nbformat_minor": 2
}
