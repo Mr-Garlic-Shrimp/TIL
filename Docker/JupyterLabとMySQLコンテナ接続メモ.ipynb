{
 "cells": [
  {
   "cell_type": "markdown",
   "metadata": {},
   "source": [
    "# JupyterLabコンテナからMySQLコンテナへの接続作業メモ\n",
    "ちょっと苦戦したのでメモしておく。  \n",
    "一部ChatGPTの出力をそのまま貼り付け。"
   ]
  },
  {
   "cell_type": "markdown",
   "metadata": {},
   "source": [
    "# ■ ネットワーク設定について\n",
    "稼働中のコンテナ同士を同じネットワークに属するように設定変更するよりも、  \n",
    "docker-compose等で設定を追記して立ち上げ直した方が楽。  \n",
    "下記はmynetworkを作成し、両者のコンテナを同じネットワークに配置して起動させる例。\n",
    "\n",
    "```yaml:docker-compose.yml\n",
    "version: '3.7'\n",
    "services:\n",
    "  mysql:\n",
    "    image: mysql:5.7\n",
    "    environment:\n",
    "      MYSQL_ROOT_PASSWORD: example\n",
    "    networks:\n",
    "      - mynetwork\n",
    "\n",
    "  jupyterlab:\n",
    "    image: jupyter/base-notebook\n",
    "    networks:\n",
    "      - mynetwork\n",
    "\n",
    "networks:\n",
    "  mynetwork:\n",
    "    driver: bridge\n",
    "```"
   ]
  },
  {
   "cell_type": "markdown",
   "metadata": {},
   "source": [
    "# ■ コンテナ起動について\n",
    "docker-compose upでコンテナを起動したが、  \n",
    "設定を変えて起動し直したくなったとき、起動し直したいコンテナをdocker rm <コンテナID>で削除しておかないと、  \n",
    "docker-compose upの際にERROR: 'ContainerConfig'と出てきてしまい、2回目の起動に失敗することがある。  \n",
    "設定が間違っているように見えるため気づきづらい。"
   ]
  },
  {
   "cell_type": "markdown",
   "metadata": {},
   "source": [
    "# ■ Jupyter \n",
    "docker-compose upでコンテナを起動したが、  \n",
    "設定を変えて起動し直したくなったとき、起動し直したいコンテナをdocker rm <コンテナID>で削除しておかないと、  \n",
    "docker-compose upの際にERROR: 'ContainerConfig'と出てきてしまい、2回目の起動に失敗することがある。  \n",
    "設定が間違っているように見えるため気づきづらい。"
   ]
  }
 ],
 "metadata": {
  "language_info": {
   "name": "python"
  }
 },
 "nbformat": 4,
 "nbformat_minor": 2
}
