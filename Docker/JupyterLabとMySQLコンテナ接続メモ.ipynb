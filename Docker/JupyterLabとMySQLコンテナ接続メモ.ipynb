{
 "cells": [
  {
   "cell_type": "markdown",
   "metadata": {},
   "source": [
    "# JupyterLabコンテナからMySQLコンテナへの接続作業メモ\n",
    "ちょっと苦戦したのでメモしておく。  \n",
    "一部ChatGPTの出力をそのまま貼り付け。"
   ]
  },
  {
   "cell_type": "markdown",
   "metadata": {},
   "source": [
    "# ■ ネットワーク設定について\n",
    "稼働中のコンテナ同士を同じネットワークに属するように設定変更するよりも、  \n",
    "docker-compose等で設定を追記して立ち上げ直した方が楽。  \n",
    "下記はmynetworkを作成し、両者のコンテナを同じネットワークに配置して起動させる例。\n",
    "\n",
    "```yaml:docker-compose.yml\n",
    "version: '3.7'\n",
    "services:\n",
    "  mysql:\n",
    "    image: mysql:5.7\n",
    "    environment:\n",
    "      MYSQL_ROOT_PASSWORD: example\n",
    "    networks:\n",
    "      - mynetwork\n",
    "\n",
    "  jupyterlab:\n",
    "    image: jupyter/base-notebook\n",
    "    networks:\n",
    "      - mynetwork\n",
    "\n",
    "networks:\n",
    "  mynetwork:\n",
    "    driver: bridge\n",
    "```"
   ]
  },
  {
   "cell_type": "markdown",
   "metadata": {},
   "source": [
    "# ■ コンテナ起動について\n",
    "docker-compose upでコンテナを起動したが、  \n",
    "設定を変えて起動し直したくなったとき、起動し直したいコンテナをdocker rm <コンテナID>で削除しておかないと、  \n",
    "docker-compose upの際にERROR: 'ContainerConfig'と出てきてしまい、2回目の起動に失敗することがある。  \n",
    "設定が間違っているように見えるため気づきづらい。"
   ]
  },
  {
   "cell_type": "markdown",
   "metadata": {},
   "source": [
    "# ■ Jupyter \n",
    "docker-compose upでコンテナを起動したが、  \n",
    "設定を変えて起動し直したくなったとき、起動し直したいコンテナをdocker rm <コンテナID>で削除しておかないと、  \n",
    "docker-compose upの際にERROR: 'ContainerConfig'と出てきてしまい、2回目の起動に失敗することがある。  \n",
    "設定が間違っているように見えるため気づきづらい。"
   ]
  },
  {
   "cell_type": "markdown",
   "metadata": {},
   "source": [
    "## - JupyterLabコンテナでインストールしておくべきもの\n",
    "Pythonの中でSQLを使うならmysql-connector-pythonだけでも良いが、  \n",
    "セル内で自由にSQLを実行(マジックコマンドの%%sqlを使う)しようとすると、sqlalchemy等が必要になる。"
   ]
  },
  {
   "cell_type": "code",
   "execution_count": null,
   "metadata": {},
   "outputs": [],
   "source": [
    "# pymysqlあるからいらなかったかも\n",
    "!pip install mysql-connector-python"
   ]
  },
  {
   "cell_type": "markdown",
   "metadata": {},
   "source": [
    "[補足] mysqlclientをインストールするために下記が必要  \n",
    "> apt-get install python3-dev default-libmysqlclient-dev build-essential pkg-config  \n",
    "\n",
    "参考：https://github.com/PyMySQL/mysqlclient/blob/main/README.md"
   ]
  },
  {
   "cell_type": "code",
   "execution_count": null,
   "metadata": {},
   "outputs": [],
   "source": [
    "# セルから直接SQLを実行できるようにipython-sqlをインストール\n",
    "!pip install ipython-sql\n",
    "!pip install sqlalchemy\n",
    "!pip install pymysql\n",
    "!pip install mysqlclient"
   ]
  },
  {
   "cell_type": "markdown",
   "metadata": {},
   "source": [
    "## - MySQLコンテナとの疎通が出来ないときにチェックすべきこと\n",
    "1. JupyterLabコンテナからMySQLへ接続する際のIPアドレス、MySQLユーザ名、パスワード、対象DBがあっているか\n",
    "2. リモート接続用ユーザ（JupyterLab→MySQL接続用）のアクセス権限がMySQLサーバ側で設定されているか。  \n",
    "\n",
    "参考：  \n",
    "* https://tansunohazama.sakura.ne.jp/wordpress/%E3%80%90mysql%E3%80%91mysql%E3%81%AE%E5%A4%96%E9%83%A8%E6%8E%A5%E7%B6%9A%E3%82%92%E8%A8%B1%E5%8F%AF%E3%81%99%E3%82%8B/"
   ]
  },
  {
   "cell_type": "markdown",
   "metadata": {},
   "source": [
    "## ■ MySQLでcsvをDBにロードするときの注意\n",
    "LOAD DATA LOCAL INFILE（クライアント側にあるファイルをDBに読み込ませる）を使うには、  \n",
    "local_infileの設定をサーバーとクライアント両方で有効にする必要があることに注意。  \n",
    "[参考：local_infileの設定をサーバーとクライアント両方で有効にする](https://qiita.com/kawa247/items/336697936ae408c22a1e#1local_infile%E3%81%AE%E8%A8%AD%E5%AE%9A%E3%82%92%E3%82%B5%E3%83%BC%E3%83%90%E3%83%BC%E3%81%A8%E3%82%AF%E3%83%A9%E3%82%A4%E3%82%A2%E3%83%B3%E3%83%88%E4%B8%A1%E6%96%B9%E3%81%A7%E6%9C%89%E5%8A%B9%E3%81%AB%E3%81%99%E3%82%8B)\n"
   ]
  }
 ],
 "metadata": {
  "language_info": {
   "name": "python"
  }
 },
 "nbformat": 4,
 "nbformat_minor": 2
}
