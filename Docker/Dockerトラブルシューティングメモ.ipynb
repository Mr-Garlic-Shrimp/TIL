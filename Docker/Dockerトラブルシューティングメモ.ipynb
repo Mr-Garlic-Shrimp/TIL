{
 "cells": [
  {
   "cell_type": "markdown",
   "id": "2600b00c-302b-4134-a92b-5aba0c104c76",
   "metadata": {},
   "source": [
    "# Dockerのトラブルシューティングメモ\n",
    "* 環境前提\n",
    "    * WSL2: Ubuntu 22.04\n",
    "    * Docker version 20.10.22, build 3a2c30b"
   ]
  },
  {
   "cell_type": "markdown",
   "id": "8cd489f0-5de8-4399-9af8-be958186d7ee",
   "metadata": {},
   "source": [
    "## Dockerコンテナから突然インターネットアクセスできなくなった。\n",
    "Dockerコンテナあるいはそのホストでのソフトウェアアップデートによって  \n",
    "それまでのネットワーク設定が変わってしまうことはあり得る。別の要因もたくさん考えられるけど。  \n",
    "以下に従ってコンテナの中に入って、DNS設定(/etc/resolv.conf)変えると治るかも。  \n",
    "https://qiita.com/yangniao23/items/a9213bf402c1f120562b  \n",
    "\n",
    "※ちなみにIPアドレス1.1.1はAPNIC(Asia-Pacific Network Information Centre) が提供するDNSサーバのアドレス。  \n",
    "※googleの8.8.8.8でもOK  \n",
    "https://tooljp.com/qa/1.1.1.1-DNS-D152.html"
   ]
  },
  {
   "cell_type": "markdown",
   "id": "7f2c00fc",
   "metadata": {},
   "source": [
    "# docker-compose upがERROR:'ContainerConfig'で失敗する\n",
    "第一に疑うべきはdocker-compose.ymlのフォーマット・設定値に誤りがあることが考えられる。  \n",
    "または、docker-compose upでコンテナを起動したが、  \n",
    "設定を変えて起動し直したくなったとき、起動し直したいコンテナをdocker rm <コンテナID>で削除しておかないと、  \n",
    "2回目のdocker-compose upの際にERROR: 'ContainerConfig'と出てきてしまい、失敗することがある。  \n",
    "この場合、設定が間違っているように見えるため気づきづらい。"
   ]
  }
 ],
 "metadata": {
  "kernelspec": {
   "display_name": "Python 3 (ipykernel)",
   "language": "python",
   "name": "python3"
  },
  "language_info": {
   "codemirror_mode": {
    "name": "ipython",
    "version": 3
   },
   "file_extension": ".py",
   "mimetype": "text/x-python",
   "name": "python",
   "nbconvert_exporter": "python",
   "pygments_lexer": "ipython3",
   "version": "3.9.12"
  }
 },
 "nbformat": 4,
 "nbformat_minor": 5
}
