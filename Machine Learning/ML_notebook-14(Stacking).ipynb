{
 "cells": [
  {
   "attachments": {},
   "cell_type": "markdown",
   "metadata": {},
   "source": [
    "# スタッキングの実装"
   ]
  },
  {
   "cell_type": "code",
   "execution_count": 518,
   "metadata": {},
   "outputs": [
    {
     "name": "stdout",
     "output_type": "stream",
     "text": [
      "The autoreload extension is already loaded. To reload it, use:\n",
      "  %reload_ext autoreload\n"
     ]
    }
   ],
   "source": [
    "%load_ext autoreload\n",
    "%autoreload 2\n",
    "import polars as pl\n",
    "import pandas as pd\n",
    "import numpy as np\n",
    "import seaborn as sns\n",
    "from sklearn.preprocessing import StandardScaler, PolynomialFeatures, label_binarize, OrdinalEncoder\n",
    "# import statsmodels.api as sma\n",
    "from sklearn.model_selection import train_test_split ,LeaveOneOut, cross_val_score, KFold, RepeatedKFold,StratifiedKFold\n",
    "from sklearn.metrics import mean_squared_error, mean_absolute_error, r2_score, log_loss, confusion_matrix,ConfusionMatrixDisplay, \\\n",
    "accuracy_score, precision_score, recall_score,precision_recall_curve,f1_score,roc_curve,auc,get_scorer_names,roc_auc_score\n",
    "from sklearn.decomposition import PCA\n",
    "from sklearn.datasets import fetch_openml\n",
    "from sklearn.cluster import KMeans\n",
    "from scipy.cluster.hierarchy import linkage,dendrogram,fcluster\n",
    "from sklearn import tree\n",
    "from xgboost import XGBClassifier\n",
    "import xgboost as xgb\n",
    "import lightgbm as lgb\n",
    "from catboost import CatBoostClassifier\n",
    "\n",
    "%matplotlib inline\n",
    "import matplotlib.pyplot as plt\n"
   ]
  },
  {
   "cell_type": "code",
   "execution_count": 514,
   "metadata": {},
   "outputs": [],
   "source": [
    "# polarsでタイタニックデータを読み込み\n",
    "df = pl.from_pandas(sns.load_dataset('titanic'))\n",
    "\n",
    "# 欠損値は落とさなくてよい\n",
    "#df = df.drop_nulls()\n",
    "\n",
    "# 学習データ、目的変数を定義\n",
    "X = df.drop(['survived', 'alive'])\n",
    "y = df.get_column('survived')\n",
    "\n",
    "# カテゴリ変数のカラム名をリスト化\n",
    "category_cols = X.select(pl.col([pl.Utf8, pl.Categorical, pl.Boolean])).columns\n",
    "\n",
    "# ラベルエンコーディング（LabelEncoderではなく、OrdinalEncoderを使う）\n",
    "oe = OrdinalEncoder()\n",
    "# pandasで返ってくるように指定。polarsは指定できない模様\n",
    "oe.set_output(transform='pandas')\n",
    "# カテゴリ変数をエンコーディング。polars.DFはそのまま入れられないのでpandasに変換する。\n",
    "X = X.with_columns( pl.from_pandas(oe.fit_transform(X.select(category_cols).to_pandas())) )\n",
    "\n",
    "# hold-out\n",
    "X_train, X_test, y_train, y_test = train_test_split(X.to_pandas(), y.to_pandas(), test_size=0.3, random_state=0)"
   ]
  },
  {
   "cell_type": "code",
   "execution_count": 520,
   "metadata": {},
   "outputs": [],
   "source": [
    "# 呼び出し側\n",
    "cv = KFold(n_splits=5, shuffle=True, random_state=0)\n",
    "\n",
    "estimators = [\n",
    "    ('DecisionTree', tree.DecisionTreeClassifier(max_depth=2)),\n",
    "    ('XGBoost', XGBClassifier(early_stopping_rounds=10, learning_rate=0.01, eval_metric='auc',random_state=0)),\n",
    "    \n",
    "]"
   ]
  },
  {
   "cell_type": "code",
   "execution_count": null,
   "metadata": {},
   "outputs": [],
   "source": [
    "class MyStackingClassifierCV:\n",
    "    def __init__(self, estimators, final_estimator=None, cv=None):\n",
    "        self.estimators = estimators\n",
    "        self.final_estimatores = final_estimator\n",
    "        self.cv = cv\n",
    "\n",
    "    def fit(self, X, y):\n",
    "        for train_index, test_index in self.cv.split(X):\n",
    "            X_train, X_test = X[train_index], X[test_index]\n",
    "            y_train, y_test = y[train_index], y[test_index]\n",
    "            \n",
    "            # モデル学習\n",
    "            model.fit(X_train, y_train)\n",
    "            # テストデータに対する予測値算出\n",
    "            y_pred = model.predict(X_test)\n",
    "            \n",
    "            # MSE ※LOOと違い、予測値・テストデータは複数の値\n",
    "            mse = mean_squared_error(y_test, y_pred)\n",
    "            mse_list.append(mse)\n"
   ]
  }
 ],
 "metadata": {
  "kernelspec": {
   "display_name": "Python 3 (ipykernel)",
   "language": "python",
   "name": "python3"
  },
  "language_info": {
   "codemirror_mode": {
    "name": "ipython",
    "version": 3
   },
   "file_extension": ".py",
   "mimetype": "text/x-python",
   "name": "python",
   "nbconvert_exporter": "python",
   "pygments_lexer": "ipython3",
   "version": "3.9.12"
  },
  "orig_nbformat": 4
 },
 "nbformat": 4,
 "nbformat_minor": 2
}
