{
 "cells": [
  {
   "cell_type": "markdown",
   "id": "d21e61b5-25e8-4c13-ba20-4656c599b52f",
   "metadata": {},
   "source": [
    "# 機械学習をPythonで実践する-12　　～ Boosting ～"
   ]
  },
  {
   "cell_type": "code",
   "execution_count": 131,
   "id": "c05143ec-ab14-4705-b7ab-ba01ef1853af",
   "metadata": {
    "tags": []
   },
   "outputs": [
    {
     "name": "stdout",
     "output_type": "stream",
     "text": [
      "The autoreload extension is already loaded. To reload it, use:\n",
      "  %reload_ext autoreload\n"
     ]
    }
   ],
   "source": [
    "%load_ext autoreload\n",
    "%autoreload 2\n",
    "import polars as pl\n",
    "import pandas as pd\n",
    "import numpy as np\n",
    "import seaborn as sns\n",
    "from sklearn.preprocessing import StandardScaler, PolynomialFeatures, OrdinalEncoder\n",
    "# import statsmodels.api as sma\n",
    "from sklearn.model_selection import train_test_split ,cross_val_score, KFold, RepeatedKFold,StratifiedKFold\n",
    "from sklearn.metrics import mean_squared_error, mean_absolute_error, r2_score, log_loss, confusion_matrix,ConfusionMatrixDisplay, \\\n",
    "accuracy_score, precision_score, recall_score,precision_recall_curve,f1_score,roc_curve,auc,get_scorer_names,roc_auc_score\n",
    "from sklearn import tree\n",
    "from sklearn.ensemble import BaggingClassifier,RandomForestClassifier,AdaBoostClassifier, GradientBoostingRegressor\n",
    "from MyGradientBoostingDecisonTreeRegressor import MyGradientBoostingDecisionTreeRegressor\n",
    "\n",
    "%matplotlib inline\n",
    "import matplotlib.pyplot as plt\n"
   ]
  },
  {
   "cell_type": "markdown",
   "id": "57b0fbae-045a-4abf-aac0-628061b7785f",
   "metadata": {},
   "source": [
    "## AdaBoost"
   ]
  },
  {
   "cell_type": "code",
   "execution_count": 8,
   "id": "b0dd935d-a2bc-459b-97a5-d850184c49eb",
   "metadata": {
    "tags": []
   },
   "outputs": [],
   "source": [
    "# polarsでタイタニックデータを読み込み\n",
    "df = pl.from_pandas(sns.load_dataset('titanic'))\n",
    "\n",
    "# 今回は単純に欠損値を落とす。\n",
    "df = df.drop_nulls()\n",
    "\n",
    "# 学習データ、目的変数を定義\n",
    "X = df.drop(['survived', 'alive'])\n",
    "y = df.get_column('survived')\n",
    "\n",
    "# カテゴリ変数のカラム名をリスト化\n",
    "category_cols = X.select(pl.col([pl.Utf8, pl.Categorical, pl.Boolean])).columns\n",
    "\n",
    "# ラベルエンコーディング（LabelEncoderではなく、OrdinalEncoderを使う）\n",
    "oe = OrdinalEncoder()\n",
    "# pandasで返ってくるように指定。polarsは指定できない模様\n",
    "oe.set_output(transform='pandas')\n",
    "# カテゴリ変数をエンコーディング。polars.DFはそのまま入れられないのでpandasに変換する。\n",
    "X = X.with_columns( pl.from_pandas(oe.fit_transform(X.select(category_cols).to_pandas())) )\n",
    "\n",
    "# hold-out\n",
    "X_train, X_test, y_train, y_test = train_test_split(X.to_pandas(), y.to_pandas(), test_size=0.3, random_state=0)"
   ]
  },
  {
   "cell_type": "code",
   "execution_count": 12,
   "id": "3789a88f-990f-4589-aced-cc629f4a2e7b",
   "metadata": {
    "tags": []
   },
   "outputs": [],
   "source": [
    "# AdaBoost\n",
    "ada = AdaBoostClassifier(n_estimators=100, learning_rate=0.01, random_state=0).fit(X_train, y_train)\n",
    "y_pred_ada = ada.predict_proba(X_test)"
   ]
  },
  {
   "cell_type": "code",
   "execution_count": 16,
   "id": "2e1392cc-ab04-4960-a1db-7ed2302b2dae",
   "metadata": {
    "tags": []
   },
   "outputs": [
    {
     "data": {
      "text/plain": [
       "0.9375"
      ]
     },
     "execution_count": 16,
     "metadata": {},
     "output_type": "execute_result"
    }
   ],
   "source": [
    "# AUC。第２引数にはpositiveの確率を入れる\n",
    "roc_auc_score(y_test, y_pred_ada[:, 1])"
   ]
  },
  {
   "cell_type": "code",
   "execution_count": 19,
   "id": "e10e98bc-b2b1-44b8-9c17-85390b10a157",
   "metadata": {
    "tags": []
   },
   "outputs": [
    {
     "data": {
      "text/plain": [
       "<BarContainer object of 13 artists>"
      ]
     },
     "execution_count": 19,
     "metadata": {},
     "output_type": "execute_result"
    },
    {
     "data": {
      "image/png": "[encoded data removed]",
      "text/plain": [
       "<Figure size 432x288 with 1 Axes>"
      ]
     },
     "metadata": {
      "needs_background": "light"
     },
     "output_type": "display_data"
    }
   ],
   "source": [
    "# AdaBoostでも特徴量の重要性を取得可能\n",
    "ada.feature_importances_\n",
    "plt.barh(X.columns, ada.feature_importances_)"
   ]
  },
  {
   "cell_type": "markdown",
   "id": "206b5e18-df04-4385-98c4-ce562076505e",
   "metadata": {},
   "source": [
    "## GBDT(回帰)を実装してみる"
   ]
  },
  {
   "cell_type": "code",
   "execution_count": 114,
   "id": "e474724f",
   "metadata": {},
   "outputs": [],
   "source": [
    "# class MyGradientBoostingDecisionTreeRegressor:\n",
    "#     def __init__(self, learning_rate=0.03, n_iteration=100, max_depth=1, random_state=0):\n",
    "#         self.learning_rate = learning_rate\n",
    "#         self.n_iteration = n_iteration\n",
    "#         self.max_depth = max_depth\n",
    "#         self.random_state = random_state\n",
    "    \n",
    "#     def fit(self, X, y):\n",
    "#         # 最初のモデルと残差を定義。最初は目的変数yの平均値を予測値とする。\n",
    "#         # self.f0 = np.full((len(y),1), np.mean(y))　→ yを2次元にする必要はなし\n",
    "#         # 下記では全要素がy.mean()の配列fを作成しているが、スカラーのままでもブロードキャストされるので問題ない。\n",
    "#         self.y_mean = y.mean()\n",
    "#         f = np.full(len(y), y.mean())\n",
    "#         r = y - f\n",
    "#         # 学習済みモデル格納用\n",
    "#         self.models = []\n",
    "\n",
    "#         for _ in range(self.n_iteration):\n",
    "#             # 決定木のインスタンス生成、学習、学習済みモデル格納\n",
    "#             model = tree.DecisionTreeRegressor(max_depth=self.max_depth, random_state=self.random_state)\n",
    "#             model.fit(X, r)\n",
    "#             self.models.append(model)\n",
    "#             # それまでの予測結果とこのモデルの予測結果を足し合わせる\n",
    "#             f += self.learning_rate * model.predict(X)\n",
    "#             # 残差を更新\n",
    "#             r = y - f\n",
    "            \n",
    "#     def predict(self, X_test):\n",
    "#         # 初期の予測値はテストデータと同じシェイプにする必要あり。\n",
    "#         result = self.y_mean\n",
    "#         for model in self.models:\n",
    "#             result += self.learning_rate * model.predict(X_test)\n",
    "\n",
    "#         return result\n",
    "\n"
   ]
  },
  {
   "attachments": {},
   "cell_type": "markdown",
   "id": "9eda5367",
   "metadata": {},
   "source": [
    "上記は一応別のモジュールに分けている。"
   ]
  },
  {
   "cell_type": "code",
   "execution_count": 71,
   "id": "32ddd7db",
   "metadata": {},
   "outputs": [],
   "source": [
    "# tipsデータセットをインポート\n",
    "df = pl.from_pandas(sns.load_dataset('mpg'))\n",
    "\n",
    "# 今回は単純に欠損値を落とす。\n",
    "df = df.drop_nulls()\n",
    "\n",
    "# 学習データ、目的変数を定義\n",
    "X = df.drop(['mpg'])\n",
    "y = df.get_column('mpg')\n",
    "\n",
    "# カテゴリ変数のカラム名をリスト化\n",
    "category_cols = X.select(pl.col(pl.Utf8)).columns\n",
    "\n",
    "# ラベルエンコーディング（LabelEncoderではなく、OrdinalEncoderを使う）\n",
    "oe = OrdinalEncoder()\n",
    "# pandasで返ってくるように指定。polarsは指定できない模様\n",
    "oe.set_output(transform='pandas')\n",
    "# カテゴリ変数をエンコーディング。polars.DFはそのまま入れられないのでpandasに変換する。\n",
    "X = X.with_columns( pl.from_pandas(oe.fit_transform(X.select(category_cols).to_pandas())) )\n",
    "\n",
    "# hold-out\n",
    "X_train, X_test, y_train, y_test = train_test_split(X.to_pandas(), y.to_pandas(), test_size=0.3, random_state=0)\n"
   ]
  },
  {
   "cell_type": "code",
   "execution_count": 67,
   "id": "cf721e17-824b-40fd-94a2-1e96efcbc421",
   "metadata": {
    "tags": []
   },
   "outputs": [
    {
     "data": {
      "text/html": [
       "<div>\n",
       "<style>\n",
       ".pl-dataframe > thead > tr > th {\n",
       "  text-align: right;\n",
       "}\n",
       "</style>\n",
       "\n",
       "<table border=\"1\" class=\"dataframe pl-dataframe\">\n",
       "<small>shape: (5, 9)</small>\n",
       "<thead>\n",
       "<tr>\n",
       "<th>\n",
       "mpg\n",
       "</th>\n",
       "<th>\n",
       "cylinders\n",
       "</th>\n",
       "<th>\n",
       "displacement\n",
       "</th>\n",
       "<th>\n",
       "horsepower\n",
       "</th>\n",
       "<th>\n",
       "weight\n",
       "</th>\n",
       "<th>\n",
       "acceleration\n",
       "</th>\n",
       "<th>\n",
       "model_year\n",
       "</th>\n",
       "<th>\n",
       "origin\n",
       "</th>\n",
       "<th>\n",
       "name\n",
       "</th>\n",
       "</tr>\n",
       "<tr>\n",
       "<td>\n",
       "f64\n",
       "</td>\n",
       "<td>\n",
       "i64\n",
       "</td>\n",
       "<td>\n",
       "f64\n",
       "</td>\n",
       "<td>\n",
       "f64\n",
       "</td>\n",
       "<td>\n",
       "i64\n",
       "</td>\n",
       "<td>\n",
       "f64\n",
       "</td>\n",
       "<td>\n",
       "i64\n",
       "</td>\n",
       "<td>\n",
       "str\n",
       "</td>\n",
       "<td>\n",
       "str\n",
       "</td>\n",
       "</tr>\n",
       "</thead>\n",
       "<tbody>\n",
       "<tr>\n",
       "<td>\n",
       "18.0\n",
       "</td>\n",
       "<td>\n",
       "8\n",
       "</td>\n",
       "<td>\n",
       "307.0\n",
       "</td>\n",
       "<td>\n",
       "130.0\n",
       "</td>\n",
       "<td>\n",
       "3504\n",
       "</td>\n",
       "<td>\n",
       "12.0\n",
       "</td>\n",
       "<td>\n",
       "70\n",
       "</td>\n",
       "<td>\n",
       "&quot;usa&quot;\n",
       "</td>\n",
       "<td>\n",
       "&quot;chevrolet chev...\n",
       "</td>\n",
       "</tr>\n",
       "<tr>\n",
       "<td>\n",
       "15.0\n",
       "</td>\n",
       "<td>\n",
       "8\n",
       "</td>\n",
       "<td>\n",
       "350.0\n",
       "</td>\n",
       "<td>\n",
       "165.0\n",
       "</td>\n",
       "<td>\n",
       "3693\n",
       "</td>\n",
       "<td>\n",
       "11.5\n",
       "</td>\n",
       "<td>\n",
       "70\n",
       "</td>\n",
       "<td>\n",
       "&quot;usa&quot;\n",
       "</td>\n",
       "<td>\n",
       "&quot;buick skylark ...\n",
       "</td>\n",
       "</tr>\n",
       "<tr>\n",
       "<td>\n",
       "18.0\n",
       "</td>\n",
       "<td>\n",
       "8\n",
       "</td>\n",
       "<td>\n",
       "318.0\n",
       "</td>\n",
       "<td>\n",
       "150.0\n",
       "</td>\n",
       "<td>\n",
       "3436\n",
       "</td>\n",
       "<td>\n",
       "11.0\n",
       "</td>\n",
       "<td>\n",
       "70\n",
       "</td>\n",
       "<td>\n",
       "&quot;usa&quot;\n",
       "</td>\n",
       "<td>\n",
       "&quot;plymouth satel...\n",
       "</td>\n",
       "</tr>\n",
       "<tr>\n",
       "<td>\n",
       "16.0\n",
       "</td>\n",
       "<td>\n",
       "8\n",
       "</td>\n",
       "<td>\n",
       "304.0\n",
       "</td>\n",
       "<td>\n",
       "150.0\n",
       "</td>\n",
       "<td>\n",
       "3433\n",
       "</td>\n",
       "<td>\n",
       "12.0\n",
       "</td>\n",
       "<td>\n",
       "70\n",
       "</td>\n",
       "<td>\n",
       "&quot;usa&quot;\n",
       "</td>\n",
       "<td>\n",
       "&quot;amc rebel sst&quot;\n",
       "</td>\n",
       "</tr>\n",
       "<tr>\n",
       "<td>\n",
       "17.0\n",
       "</td>\n",
       "<td>\n",
       "8\n",
       "</td>\n",
       "<td>\n",
       "302.0\n",
       "</td>\n",
       "<td>\n",
       "140.0\n",
       "</td>\n",
       "<td>\n",
       "3449\n",
       "</td>\n",
       "<td>\n",
       "10.5\n",
       "</td>\n",
       "<td>\n",
       "70\n",
       "</td>\n",
       "<td>\n",
       "&quot;usa&quot;\n",
       "</td>\n",
       "<td>\n",
       "&quot;ford torino&quot;\n",
       "</td>\n",
       "</tr>\n",
       "</tbody>\n",
       "</table>\n",
       "</div>"
      ],
      "text/plain": [
       "shape: (5, 9)\n",
       "┌──────┬───────────┬────────────┬────────────┬─────┬────────────┬────────────┬────────┬────────────┐\n",
       "│ mpg  ┆ cylinders ┆ displaceme ┆ horsepower ┆ ... ┆ accelerati ┆ model_year ┆ origin ┆ name       │\n",
       "│ ---  ┆ ---       ┆ nt         ┆ ---        ┆     ┆ on         ┆ ---        ┆ ---    ┆ ---        │\n",
       "│ f64  ┆ i64       ┆ ---        ┆ f64        ┆     ┆ ---        ┆ i64        ┆ str    ┆ str        │\n",
       "│      ┆           ┆ f64        ┆            ┆     ┆ f64        ┆            ┆        ┆            │\n",
       "╞══════╪═══════════╪════════════╪════════════╪═════╪════════════╪════════════╪════════╪════════════╡\n",
       "│ 18.0 ┆ 8         ┆ 307.0      ┆ 130.0      ┆ ... ┆ 12.0       ┆ 70         ┆ usa    ┆ chevrolet  │\n",
       "│      ┆           ┆            ┆            ┆     ┆            ┆            ┆        ┆ chevelle   │\n",
       "│      ┆           ┆            ┆            ┆     ┆            ┆            ┆        ┆ malibu     │\n",
       "│ 15.0 ┆ 8         ┆ 350.0      ┆ 165.0      ┆ ... ┆ 11.5       ┆ 70         ┆ usa    ┆ buick      │\n",
       "│      ┆           ┆            ┆            ┆     ┆            ┆            ┆        ┆ skylark    │\n",
       "│      ┆           ┆            ┆            ┆     ┆            ┆            ┆        ┆ 320        │\n",
       "│ 18.0 ┆ 8         ┆ 318.0      ┆ 150.0      ┆ ... ┆ 11.0       ┆ 70         ┆ usa    ┆ plymouth   │\n",
       "│      ┆           ┆            ┆            ┆     ┆            ┆            ┆        ┆ satellite  │\n",
       "│ 16.0 ┆ 8         ┆ 304.0      ┆ 150.0      ┆ ... ┆ 12.0       ┆ 70         ┆ usa    ┆ amc rebel  │\n",
       "│      ┆           ┆            ┆            ┆     ┆            ┆            ┆        ┆ sst        │\n",
       "│ 17.0 ┆ 8         ┆ 302.0      ┆ 140.0      ┆ ... ┆ 10.5       ┆ 70         ┆ usa    ┆ ford       │\n",
       "│      ┆           ┆            ┆            ┆     ┆            ┆            ┆        ┆ torino     │\n",
       "└──────┴───────────┴────────────┴────────────┴─────┴────────────┴────────────┴────────┴────────────┘"
      ]
     },
     "execution_count": 67,
     "metadata": {},
     "output_type": "execute_result"
    }
   ],
   "source": [
    "df.head()"
   ]
  },
  {
   "cell_type": "code",
   "execution_count": 128,
   "id": "0d9fcba1",
   "metadata": {},
   "outputs": [],
   "source": [
    "my_gbr = MyGradientBoostingDecisionTreeRegressor(max_depth=1, learning_rate=0.03)\n",
    "my_gbr.fit(X_train, y_train)"
   ]
  },
  {
   "cell_type": "code",
   "execution_count": 130,
   "id": "70be2c67",
   "metadata": {
    "tags": []
   },
   "outputs": [
    {
     "data": {
      "text/plain": [
       "array([27.0977333 , 26.38157325, 15.95950963, 32.48915633, 32.48915633,\n",
       "       19.88584199, 33.09168089, 27.66257833, 17.95623393, 25.65001678,\n",
       "       28.97996567, 16.03803147, 24.65853126, 15.95950963, 19.33257099,\n",
       "       31.13092668, 24.18746175, 15.95950963, 25.65001678, 26.92488408])"
      ]
     },
     "execution_count": 130,
     "metadata": {},
     "output_type": "execute_result"
    }
   ],
   "source": [
    "y_pred_my = my_gbr.predict(X_test)\n",
    "y_pred_my[:20]"
   ]
  },
  {
   "cell_type": "markdown",
   "id": "fe48eda8-92a3-4254-8f81-c24808bfa4ce",
   "metadata": {},
   "source": [
    "## sklearnのGBDT(回帰)"
   ]
  },
  {
   "cell_type": "code",
   "execution_count": 57,
   "id": "2d140a0a-7717-4743-913d-a12fef726b4e",
   "metadata": {
    "tags": []
   },
   "outputs": [],
   "source": [
    "# sklearnのGBDT（回帰）を使う\n",
    "gbr = GradientBoostingRegressor(max_depth=1, learning_rate=0.03, random_state=0).fit(X_train, y_train)"
   ]
  },
  {
   "cell_type": "code",
   "execution_count": 94,
   "id": "80bd3516-ca7b-477c-8114-1ac11d5a4ed6",
   "metadata": {
    "tags": []
   },
   "outputs": [
    {
     "data": {
      "text/plain": [
       "array([27.0977333 , 26.38157325, 15.95950963, 32.48915633, 32.48915633,\n",
       "       19.88584199, 33.09168089, 27.66257833, 17.95623393, 25.65001678,\n",
       "       28.97996567, 16.03803147, 24.65853126, 15.95950963, 19.33257099,\n",
       "       31.13092668, 24.18746175, 15.95950963, 25.65001678, 26.92488408])"
      ]
     },
     "execution_count": 94,
     "metadata": {},
     "output_type": "execute_result"
    }
   ],
   "source": [
    "y_pred_sklearn = gbr.predict(X_test)\n",
    "y_pred_sklearn[:20]"
   ]
  },
  {
   "cell_type": "code",
   "execution_count": 81,
   "id": "f452cf2e-a360-457e-ae40-41054fe17fce",
   "metadata": {
    "tags": []
   },
   "outputs": [
    {
     "data": {
      "text/plain": [
       "144    28.0\n",
       "280    22.3\n",
       "68     12.0\n",
       "372    38.0\n",
       "328    33.8\n",
       "255    19.4\n",
       "308    38.1\n",
       "326    30.0\n",
       "124    20.0\n",
       "107    20.0\n",
       "Name: mpg, dtype: float64"
      ]
     },
     "execution_count": 81,
     "metadata": {},
     "output_type": "execute_result"
    }
   ],
   "source": [
    "y_test[:10]"
   ]
  },
  {
   "cell_type": "markdown",
   "id": "d3328edf-b0d1-45f6-b568-36356f306eb7",
   "metadata": {},
   "source": [
    "スクラッチによる実装による結果とsklearnの結果は同じになったので、  \n",
    "実装として正しいと思われる。"
   ]
  },
  {
   "cell_type": "markdown",
   "id": "da348d13-46ae-4fdc-9069-be69dbc52d87",
   "metadata": {},
   "source": [
    "## GBDT(分類)を実装してみる"
   ]
  },
  {
   "cell_type": "code",
   "execution_count": 134,
   "id": "76fa9e4b",
   "metadata": {},
   "outputs": [],
   "source": [
    "model = tree.DecisionTreeRegressor(max_depth=1, random_state=0).fit(X_train, y_train)"
   ]
  },
  {
   "attachments": {},
   "cell_type": "markdown",
   "id": "a57eded2",
   "metadata": {},
   "source": [
    "model.applyによって、テストデータがどの葉にたどり着くのかが分かる。  \n",
    "下の例では最初のデータは決定木の一番左の葉（一番目の葉）にたどり着くことを表している。  \n",
    "(この例ではmax_depth=1なので葉は２つのみ)"
   ]
  },
  {
   "cell_type": "code",
   "execution_count": 138,
   "id": "0b0a69a2",
   "metadata": {},
   "outputs": [
    {
     "data": {
      "text/plain": [
       "array([1, 1, 2, 1, 1, 2, 1, 1, 2, 1, 1, 2, 1, 2, 2, 1, 1, 2, 1, 1, 2, 2,\n",
       "       1, 2, 1, 2, 1, 1, 2, 2, 2, 1, 1, 1, 2, 1, 1, 2, 2, 2, 2, 1, 1, 2,\n",
       "       1, 2, 1, 2, 2, 2, 1, 2, 2, 1, 1, 2, 2, 2, 1, 1, 2, 1, 1, 2, 1, 2,\n",
       "       2, 1, 1, 1, 1, 1, 2, 2, 2, 2, 1, 2, 1, 1, 2, 1, 2, 1, 2, 2, 1, 1,\n",
       "       1, 1, 1, 2, 1, 2, 2, 1, 1, 1, 1, 1, 2, 1, 1, 1, 1, 2, 1, 2, 1, 2,\n",
       "       2, 1, 1, 2, 1, 1, 1, 2])"
      ]
     },
     "execution_count": 138,
     "metadata": {},
     "output_type": "execute_result"
    }
   ],
   "source": [
    "model.apply(X_test)"
   ]
  },
  {
   "attachments": {},
   "cell_type": "markdown",
   "id": "2a1372f9",
   "metadata": {},
   "source": [
    "model.tree_.valueで決定木の各ノードおよび葉の値を取得できる。  \n",
    "決定木を可視化するとわかるようにノード→左からの順の葉の値が出力される。"
   ]
  },
  {
   "cell_type": "code",
   "execution_count": 141,
   "id": "71c8a95b",
   "metadata": {},
   "outputs": [
    {
     "data": {
      "text/plain": [
       "array([[[23.1689781 ]],\n",
       "\n",
       "       [[29.12428571]],\n",
       "\n",
       "       [[16.94701493]]])"
      ]
     },
     "execution_count": 141,
     "metadata": {},
     "output_type": "execute_result"
    }
   ],
   "source": [
    "model.tree_.value"
   ]
  },
  {
   "cell_type": "code",
   "execution_count": 142,
   "id": "231ce1ac",
   "metadata": {},
   "outputs": [
    {
     "data": {
      "text/plain": [
       "[Text(0.5, 0.75, 'x[0] <= 5.5\\nsquared_error = 60.184\\nsamples = 274\\nvalue = 23.169'),\n",
       " Text(0.25, 0.25, 'squared_error = 32.348\\nsamples = 140\\nvalue = 29.124'),\n",
       " Text(0.75, 0.25, 'squared_error = 13.5\\nsamples = 134\\nvalue = 16.947')]"
      ]
     },
     "execution_count": 142,
     "metadata": {},
     "output_type": "execute_result"
    },
    {
     "data": {
      "image/png": "[encoded data removed]",
      "text/plain": [
       "<Figure size 432x288 with 1 Axes>"
      ]
     },
     "metadata": {
      "needs_background": "light"
     },
     "output_type": "display_data"
    }
   ],
   "source": [
    "tree.plot_tree(model)"
   ]
  },
  {
   "cell_type": "code",
   "execution_count": 147,
   "id": "cc67451f",
   "metadata": {},
   "outputs": [
    {
     "data": {
      "text/plain": [
       "array([1, 1, 2, 1, 1, 2, 1, 1, 2, 1])"
      ]
     },
     "execution_count": 147,
     "metadata": {},
     "output_type": "execute_result"
    }
   ],
   "source": [
    "model.apply(X_test)[:10]"
   ]
  },
  {
   "cell_type": "code",
   "execution_count": 145,
   "id": "2de0b1f7",
   "metadata": {},
   "outputs": [
    {
     "data": {
      "text/plain": [
       "array([29.12428571, 29.12428571, 16.94701493, 29.12428571, 29.12428571,\n",
       "       16.94701493, 29.12428571, 29.12428571, 16.94701493, 29.12428571])"
      ]
     },
     "execution_count": 145,
     "metadata": {},
     "output_type": "execute_result"
    }
   ],
   "source": [
    "model.predict(X_test)[:10]"
   ]
  },
  {
   "cell_type": "code",
   "execution_count": 96,
   "id": "cbde1e84-9f32-481a-85a3-3a2294a31544",
   "metadata": {},
   "outputs": [],
   "source": [
    "class MyGradientBoostingDecisionTreeClassifier:\n",
    "    def __init__(self, learning_rate=0.03, n_iteration=100, max_depth=1, random_state=0):\n",
    "        self.learning_rate = learning_rate\n",
    "        self.n_iteration = n_iteration\n",
    "        self.max_depth = max_depth\n",
    "        self.random_state = random_state\n",
    "    \n",
    "    def fit(self, X, y):\n",
    "        # 最初の予測値と残差を定義。最初は目的変数yの平均値のオッズ比とする。\n",
    "        f0 = np.log(y.mean() / (1 - y.mean()))\n",
    "        f = f0\n",
    "        # 学習済みモデル格納用\n",
    "        self.models = []\n",
    "\n",
    "        for _ in range(self.n_iteration):\n",
    "            # 残差の更新\n",
    "            r = y - (1 / (1 + np.exp(-f) ))\n",
    "            # 決定木のインスタンス生成、学習、学習済みモデル格納。分類でも回帰の決定木でOK\n",
    "            model = tree.DecisionTreeRegressor(max_depth=self.max_depth, random_state=self.random_state)\n",
    "            model.fit(X, r)\n",
    "            self.models.append(model)\n",
    "            # それまでの予測結果とこのモデルの予測結果を足し合わせる\n",
    "            f += self.learning_rate * model.predict(X)\n",
    "            \n",
    "    def predict(self, X_test):\n",
    "        # 初期の予測値はテストデータと同じシェイプにする必要あり。\n",
    "        result = self.y_mean\n",
    "        for model in self.models:\n",
    "            result += self.learning_rate * model.predict(X_test)\n",
    "\n",
    "        return result\n",
    "\n"
   ]
  }
 ],
 "metadata": {
  "kernelspec": {
   "display_name": "Python 3 (ipykernel)",
   "language": "python",
   "name": "python3"
  },
  "language_info": {
   "codemirror_mode": {
    "name": "ipython",
    "version": 3
   },
   "file_extension": ".py",
   "mimetype": "text/x-python",
   "name": "python",
   "nbconvert_exporter": "python",
   "pygments_lexer": "ipython3",
   "version": "3.9.12"
  }
 },
 "nbformat": 4,
 "nbformat_minor": 5
}
