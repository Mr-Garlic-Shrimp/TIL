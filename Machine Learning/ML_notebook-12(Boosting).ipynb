{
 "cells": [
  {
   "cell_type": "markdown",
   "id": "d21e61b5-25e8-4c13-ba20-4656c599b52f",
   "metadata": {},
   "source": [
    "# 機械学習をPythonで実践する-12　　～ Boosting ～"
   ]
  },
  {
   "cell_type": "code",
   "execution_count": 1,
   "id": "c05143ec-ab14-4705-b7ab-ba01ef1853af",
   "metadata": {},
   "outputs": [],
   "source": [
    "%load_ext autoreload\n",
    "%autoreload 2\n",
    "import polars as pl\n",
    "import pandas as pd\n",
    "import numpy as np\n",
    "import seaborn as sns\n",
    "from sklearn.preprocessing import StandardScaler, PolynomialFeatures, OrdinalEncoder\n",
    "# import statsmodels.api as sma\n",
    "from sklearn.model_selection import train_test_split ,cross_val_score, KFold, RepeatedKFold,StratifiedKFold\n",
    "from sklearn.metrics import mean_squared_error, mean_absolute_error, r2_score, log_loss, confusion_matrix,ConfusionMatrixDisplay, \\\n",
    "accuracy_score, precision_score, recall_score,precision_recall_curve,f1_score,roc_curve,auc,get_scorer_names,roc_auc_score\n",
    "from sklearn import tree\n",
    "from sklearn.ensemble import BaggingClassifier,RandomForestClassifier\n",
    "\n",
    "%matplotlib inline\n",
    "import matplotlib.pyplot as plt\n"
   ]
  },
  {
   "cell_type": "markdown",
   "id": "57b0fbae-045a-4abf-aac0-628061b7785f",
   "metadata": {},
   "source": [
    "## AdaBoosting"
   ]
  },
  {
   "cell_type": "code",
   "execution_count": 2,
   "id": "76772d1a-3e86-48f3-b9f6-0da7f03d272e",
   "metadata": {
    "tags": []
   },
   "outputs": [],
   "source": [
    "# polarsでタイタニックデータを読み込み\n",
    "df = pl.from_pandas(sns.load_dataset('titanic'))\n",
    "\n",
    "# 今回は単純に欠損値を落とす。\n",
    "df = df.drop_nulls()\n",
    "\n",
    "# 学習データ、目的変数を定義\n",
    "X = df.drop(['survived', 'alive'])\n",
    "y = df.get_column('survived')\n",
    "\n",
    "# カテゴリ変数のカラム名をリスト化\n",
    "category_cols = X.select(pl.col([pl.Utf8, pl.Categorical, pl.Boolean])).columns\n",
    "\n",
    "# ラベルエンコーディング（LabelEncoderではなく、OrdinalEncoderを使う）\n",
    "oe = OrdinalEncoder()\n",
    "# pandasで返ってくるように指定。polarsは指定できない模様\n",
    "oe.set_output(transform='pandas')\n",
    "# カテゴリ変数をエンコーディング。polars.DFはそのまま入れられないのでpandasに変換する。\n",
    "X = X.with_columns( pl.from_pandas(oe.fit_transform(X.select(category_cols).to_pandas())) )"
   ]
  },
  {
   "cell_type": "code",
   "execution_count": 5,
   "id": "e1e8eef0-cfc0-412f-bdf0-972eb4deac5e",
   "metadata": {
    "tags": []
   },
   "outputs": [
    {
     "data": {
      "text/html": [
       "<div>\n",
       "<style>\n",
       ".pl-dataframe > thead > tr > th {\n",
       "  text-align: right;\n",
       "}\n",
       "</style>\n",
       "\n",
       "<table border=\"1\" class=\"dataframe pl-dataframe\">\n",
       "<small>shape: (1, 10)</small>\n",
       "<thead>\n",
       "<tr>\n",
       "<th>\n",
       "sex\n",
       "</th>\n",
       "<th>\n",
       "age\n",
       "</th>\n",
       "<th>\n",
       "fare\n",
       "</th>\n",
       "<th>\n",
       "embarked\n",
       "</th>\n",
       "<th>\n",
       "class\n",
       "</th>\n",
       "<th>\n",
       "who\n",
       "</th>\n",
       "<th>\n",
       "adult_male\n",
       "</th>\n",
       "<th>\n",
       "deck\n",
       "</th>\n",
       "<th>\n",
       "embark_town\n",
       "</th>\n",
       "<th>\n",
       "alone\n",
       "</th>\n",
       "</tr>\n",
       "<tr>\n",
       "<td>\n",
       "f64\n",
       "</td>\n",
       "<td>\n",
       "f64\n",
       "</td>\n",
       "<td>\n",
       "f64\n",
       "</td>\n",
       "<td>\n",
       "f64\n",
       "</td>\n",
       "<td>\n",
       "f64\n",
       "</td>\n",
       "<td>\n",
       "f64\n",
       "</td>\n",
       "<td>\n",
       "f64\n",
       "</td>\n",
       "<td>\n",
       "f64\n",
       "</td>\n",
       "<td>\n",
       "f64\n",
       "</td>\n",
       "<td>\n",
       "f64\n",
       "</td>\n",
       "</tr>\n",
       "</thead>\n",
       "<tbody>\n",
       "<tr>\n",
       "<td>\n",
       "94.0\n",
       "</td>\n",
       "<td>\n",
       "6483.42\n",
       "</td>\n",
       "<td>\n",
       "14363.3918\n",
       "</td>\n",
       "<td>\n",
       "232.0\n",
       "</td>\n",
       "<td>\n",
       "35.0\n",
       "</td>\n",
       "<td>\n",
       "251.0\n",
       "</td>\n",
       "<td>\n",
       "87.0\n",
       "</td>\n",
       "<td>\n",
       "437.0\n",
       "</td>\n",
       "<td>\n",
       "232.0\n",
       "</td>\n",
       "<td>\n",
       "78.0\n",
       "</td>\n",
       "</tr>\n",
       "</tbody>\n",
       "</table>\n",
       "</div>"
      ],
      "text/plain": [
       "shape: (1, 10)\n",
       "┌──────┬─────────┬────────────┬──────────┬─────┬────────────┬───────┬─────────────┬───────┐\n",
       "│ sex  ┆ age     ┆ fare       ┆ embarked ┆ ... ┆ adult_male ┆ deck  ┆ embark_town ┆ alone │\n",
       "│ ---  ┆ ---     ┆ ---        ┆ ---      ┆     ┆ ---        ┆ ---   ┆ ---         ┆ ---   │\n",
       "│ f64  ┆ f64     ┆ f64        ┆ f64      ┆     ┆ f64        ┆ f64   ┆ f64         ┆ f64   │\n",
       "╞══════╪═════════╪════════════╪══════════╪═════╪════════════╪═══════╪═════════════╪═══════╡\n",
       "│ 94.0 ┆ 6483.42 ┆ 14363.3918 ┆ 232.0    ┆ ... ┆ 87.0       ┆ 437.0 ┆ 232.0       ┆ 78.0  │\n",
       "└──────┴─────────┴────────────┴──────────┴─────┴────────────┴───────┴─────────────┴───────┘"
      ]
     },
     "execution_count": 5,
     "metadata": {},
     "output_type": "execute_result"
    }
   ],
   "source": [
    "X.select(pl.col(pl.Float64).sum())"
   ]
  },
  {
   "cell_type": "code",
   "execution_count": null,
   "id": "adcae1fb-f165-440e-b84c-c4dcb179da06",
   "metadata": {},
   "outputs": [],
   "source": []
  }
 ],
 "metadata": {
  "kernelspec": {
   "display_name": "Python 3 (ipykernel)",
   "language": "python",
   "name": "python3"
  },
  "language_info": {
   "codemirror_mode": {
    "name": "ipython",
    "version": 3
   },
   "file_extension": ".py",
   "mimetype": "text/x-python",
   "name": "python",
   "nbconvert_exporter": "python",
   "pygments_lexer": "ipython3",
   "version": "3.9.12"
  }
 },
 "nbformat": 4,
 "nbformat_minor": 5
}
