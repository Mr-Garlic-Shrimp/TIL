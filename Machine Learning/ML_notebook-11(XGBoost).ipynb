{
 "cells": [
  {
   "cell_type": "markdown",
   "id": "f6d6e0bd-7b58-4db4-8262-489741cf6b2d",
   "metadata": {},
   "source": [
    "# 機械学習をPythonで実践する-11　～ GBDT(Gradient Boosting Decision Tree) ～\n",
    "XGBoost(eXtreme Gradient Boosting)やLightGBM(Light Gradient Boosting Machine)を使ってみる。  \n",
    "\n",
    "参考:  \n",
    "https://datawokagaku.com/xgboost/  \n",
    "https://datawokagaku.com/lightgbm/"
   ]
  },
  {
   "cell_type": "code",
   "execution_count": 10,
   "id": "d73ab698-af5b-43cf-9e07-dac04d133164",
   "metadata": {},
   "outputs": [
    {
     "name": "stdout",
     "output_type": "stream",
     "text": [
      "The autoreload extension is already loaded. To reload it, use:\n",
      "  %reload_ext autoreload\n"
     ]
    }
   ],
   "source": [
    "%load_ext autoreload\n",
    "%autoreload 2\n",
    "import pandas as pd\n",
    "import numpy as np\n",
    "import seaborn as sns\n",
    "from sklearn.preprocessing import StandardScaler, PolynomialFeatures, label_binarize\n",
    "# import statsmodels.api as sma\n",
    "from sklearn.model_selection import train_test_split ,LeaveOneOut, cross_val_score, KFold, RepeatedKFold,StratifiedKFold\n",
    "from sklearn.metrics import mean_squared_error, mean_absolute_error, r2_score, log_loss, confusion_matrix,ConfusionMatrixDisplay, \\\n",
    "accuracy_score, precision_score, recall_score,precision_recall_curve,f1_score,roc_curve,auc,get_scorer_names\n",
    "from sklearn.decomposition import PCA\n",
    "from sklearn.datasets import fetch_openml\n",
    "from sklearn.cluster import KMeans\n",
    "from scipy.cluster.hierarchy import linkage,dendrogram,fcluster\n",
    "from sklearn import tree\n",
    "import lightgbm as lgb\n",
    "\n",
    "%matplotlib inline\n",
    "import matplotlib.pyplot as plt\n"
   ]
  },
  {
   "cell_type": "markdown",
   "id": "587a3656-fc6e-4f98-944c-1f0e04220e97",
   "metadata": {},
   "source": [
    "## ○ XGBoost(分類)\n",
    "pipでxgboostをインストールする必要あり。  \n",
    "xgboostライブラリからXGBClassifierをインポートして分類を行う。  \n",
    "基本的な使い方はscikit-learnの各モデルと同じ。インスタンス生成してfitで学習する。  \n",
    "分類器XGBClassifier()インスタンス生成時のパラメータは下記。  \n",
    "* n_estimators : ブースティングの回数(=学習する決定木の数)．デフォルトは100．\n",
    "* learning_rate : shrinkageのη．デフォルトは0.3。\n",
    "* max_depth : 決定木の最高の深さ．デフォルトは6\n",
    "* eval_metric : ブースティング時の各イテレーション時に使う評価指標(特に後述するearly stoppingに使用). sklearn.metricsのメソッドを渡すか，自作してもOK．デフォルトは 'logloss'\n",
    "* early_stopping_rounds : early stoppingする際の，最低限ブースティングのイテレーションをする回数  \n",
    "\n",
    "early stoppingとは、ブースティングのイテレーション時に評価指標がそれ以上上がらなくなったら自動で学習をやめてくれること。  "
   ]
  },
  {
   "cell_type": "code",
   "execution_count": 2,
   "id": "dfb467c6-def1-4317-8f44-ad30c7c0a48a",
   "metadata": {},
   "outputs": [
    {
     "name": "stdout",
     "output_type": "stream",
     "text": [
      "Collecting xgboost\n",
      "  Downloading xgboost-1.7.3-py3-none-manylinux2014_x86_64.whl (193.6 MB)\n",
      "\u001b[2K     \u001b[90m━━━━━━━━━━━━━━━━━━━━━━━━━━━━━━━━━━━━━━━\u001b[0m \u001b[32m193.6/193.6 MB\u001b[0m \u001b[31m5.0 MB/s\u001b[0m eta \u001b[36m0:00:00\u001b[0m00:01\u001b[0m00:01\u001b[0m\n",
      "\u001b[?25hRequirement already satisfied: numpy in /opt/anaconda3/lib/python3.9/site-packages (from xgboost) (1.21.5)\n",
      "Requirement already satisfied: scipy in /opt/anaconda3/lib/python3.9/site-packages (from xgboost) (1.7.3)\n",
      "Installing collected packages: xgboost\n",
      "Successfully installed xgboost-1.7.3\n",
      "\u001b[33mWARNING: Running pip as the 'root' user can result in broken permissions and conflicting behaviour with the system package manager. It is recommended to use a virtual environment instead: https://pip.pypa.io/warnings/venv\u001b[0m\u001b[33m\n",
      "\u001b[0m\n",
      "\u001b[1m[\u001b[0m\u001b[34;49mnotice\u001b[0m\u001b[1;39;49m]\u001b[0m\u001b[39;49m A new release of pip available: \u001b[0m\u001b[31;49m22.2\u001b[0m\u001b[39;49m -> \u001b[0m\u001b[32;49m22.3.1\u001b[0m\n",
      "\u001b[1m[\u001b[0m\u001b[34;49mnotice\u001b[0m\u001b[1;39;49m]\u001b[0m\u001b[39;49m To update, run: \u001b[0m\u001b[32;49mpip install --upgrade pip\u001b[0m\n",
      "Note: you may need to restart the kernel to use updated packages.\n"
     ]
    }
   ],
   "source": [
    "# xgboostをインストール。scikit-learnには入っていない。\n",
    "%pip install xgboost"
   ]
  },
  {
   "cell_type": "code",
   "execution_count": 3,
   "id": "dce7c18f-53d5-43ed-bb43-dc4eda10f2a9",
   "metadata": {},
   "outputs": [],
   "source": [
    "# xgboostをインポート\n",
    "from xgboost import XGBClassifier\n",
    "import xgboost as xgb"
   ]
  },
  {
   "cell_type": "code",
   "execution_count": 4,
   "id": "a9866061-ef98-4f58-85ae-129aeddee09a",
   "metadata": {},
   "outputs": [],
   "source": [
    "# seabornのtitanicデータセットをインポート\n",
    "df = sns.load_dataset('titanic')"
   ]
  },
  {
   "cell_type": "code",
   "execution_count": 5,
   "id": "abb51cdb-1371-449e-8d81-f73782e3284f",
   "metadata": {},
   "outputs": [
    {
     "data": {
      "text/html": [
       "<div>\n",
       "<style scoped>\n",
       "    .dataframe tbody tr th:only-of-type {\n",
       "        vertical-align: middle;\n",
       "    }\n",
       "\n",
       "    .dataframe tbody tr th {\n",
       "        vertical-align: top;\n",
       "    }\n",
       "\n",
       "    .dataframe thead th {\n",
       "        text-align: right;\n",
       "    }\n",
       "</style>\n",
       "<table border=\"1\" class=\"dataframe\">\n",
       "  <thead>\n",
       "    <tr style=\"text-align: right;\">\n",
       "      <th></th>\n",
       "      <th>survived</th>\n",
       "      <th>pclass</th>\n",
       "      <th>sex</th>\n",
       "      <th>age</th>\n",
       "      <th>sibsp</th>\n",
       "      <th>parch</th>\n",
       "      <th>fare</th>\n",
       "      <th>embarked</th>\n",
       "      <th>class</th>\n",
       "      <th>who</th>\n",
       "      <th>adult_male</th>\n",
       "      <th>deck</th>\n",
       "      <th>embark_town</th>\n",
       "      <th>alive</th>\n",
       "      <th>alone</th>\n",
       "    </tr>\n",
       "  </thead>\n",
       "  <tbody>\n",
       "    <tr>\n",
       "      <th>0</th>\n",
       "      <td>0</td>\n",
       "      <td>3</td>\n",
       "      <td>male</td>\n",
       "      <td>22.0</td>\n",
       "      <td>1</td>\n",
       "      <td>0</td>\n",
       "      <td>7.2500</td>\n",
       "      <td>S</td>\n",
       "      <td>Third</td>\n",
       "      <td>man</td>\n",
       "      <td>True</td>\n",
       "      <td>NaN</td>\n",
       "      <td>Southampton</td>\n",
       "      <td>no</td>\n",
       "      <td>False</td>\n",
       "    </tr>\n",
       "    <tr>\n",
       "      <th>1</th>\n",
       "      <td>1</td>\n",
       "      <td>1</td>\n",
       "      <td>female</td>\n",
       "      <td>38.0</td>\n",
       "      <td>1</td>\n",
       "      <td>0</td>\n",
       "      <td>71.2833</td>\n",
       "      <td>C</td>\n",
       "      <td>First</td>\n",
       "      <td>woman</td>\n",
       "      <td>False</td>\n",
       "      <td>C</td>\n",
       "      <td>Cherbourg</td>\n",
       "      <td>yes</td>\n",
       "      <td>False</td>\n",
       "    </tr>\n",
       "    <tr>\n",
       "      <th>2</th>\n",
       "      <td>1</td>\n",
       "      <td>3</td>\n",
       "      <td>female</td>\n",
       "      <td>26.0</td>\n",
       "      <td>0</td>\n",
       "      <td>0</td>\n",
       "      <td>7.9250</td>\n",
       "      <td>S</td>\n",
       "      <td>Third</td>\n",
       "      <td>woman</td>\n",
       "      <td>False</td>\n",
       "      <td>NaN</td>\n",
       "      <td>Southampton</td>\n",
       "      <td>yes</td>\n",
       "      <td>True</td>\n",
       "    </tr>\n",
       "    <tr>\n",
       "      <th>3</th>\n",
       "      <td>1</td>\n",
       "      <td>1</td>\n",
       "      <td>female</td>\n",
       "      <td>35.0</td>\n",
       "      <td>1</td>\n",
       "      <td>0</td>\n",
       "      <td>53.1000</td>\n",
       "      <td>S</td>\n",
       "      <td>First</td>\n",
       "      <td>woman</td>\n",
       "      <td>False</td>\n",
       "      <td>C</td>\n",
       "      <td>Southampton</td>\n",
       "      <td>yes</td>\n",
       "      <td>False</td>\n",
       "    </tr>\n",
       "    <tr>\n",
       "      <th>4</th>\n",
       "      <td>0</td>\n",
       "      <td>3</td>\n",
       "      <td>male</td>\n",
       "      <td>35.0</td>\n",
       "      <td>0</td>\n",
       "      <td>0</td>\n",
       "      <td>8.0500</td>\n",
       "      <td>S</td>\n",
       "      <td>Third</td>\n",
       "      <td>man</td>\n",
       "      <td>True</td>\n",
       "      <td>NaN</td>\n",
       "      <td>Southampton</td>\n",
       "      <td>no</td>\n",
       "      <td>True</td>\n",
       "    </tr>\n",
       "  </tbody>\n",
       "</table>\n",
       "</div>"
      ],
      "text/plain": [
       "   survived  pclass     sex   age  sibsp  parch     fare embarked  class  \\\n",
       "0         0       3    male  22.0      1      0   7.2500        S  Third   \n",
       "1         1       1  female  38.0      1      0  71.2833        C  First   \n",
       "2         1       3  female  26.0      0      0   7.9250        S  Third   \n",
       "3         1       1  female  35.0      1      0  53.1000        S  First   \n",
       "4         0       3    male  35.0      0      0   8.0500        S  Third   \n",
       "\n",
       "     who  adult_male deck  embark_town alive  alone  \n",
       "0    man        True  NaN  Southampton    no  False  \n",
       "1  woman       False    C    Cherbourg   yes  False  \n",
       "2  woman       False  NaN  Southampton   yes   True  \n",
       "3  woman       False    C  Southampton   yes  False  \n",
       "4    man        True  NaN  Southampton    no   True  "
      ]
     },
     "execution_count": 5,
     "metadata": {},
     "output_type": "execute_result"
    }
   ],
   "source": [
    "df.head()"
   ]
  },
  {
   "cell_type": "markdown",
   "id": "656edd03-19ce-44dd-ad05-a17763ff9db2",
   "metadata": {},
   "source": [
    "<b>★重要  \n",
    "XGBoostは欠損値に対処するアルゴリズムが組み込まれているため、欠損値（NaN）をdropする必要はなく、  \n",
    "欠損値があるデータをそのままモデルに学習させることができる。</b>  \n",
    "欠損値に別途値を代入してからXGBoostを学習させてもよいが、XGBoostを使う場合は欠損値対応はせずに、  \n",
    "そのまま学習させることが多い。もし、欠損値のデータをdropすると学習データが減ってしまい一般的に精度が下がる。  "
   ]
  },
  {
   "cell_type": "code",
   "execution_count": 6,
   "id": "997e9894-5a85-43d1-adb4-591b2d3f6a46",
   "metadata": {},
   "outputs": [
    {
     "data": {
      "text/plain": [
       "0    549\n",
       "1    342\n",
       "Name: survived, dtype: int64"
      ]
     },
     "execution_count": 6,
     "metadata": {},
     "output_type": "execute_result"
    }
   ],
   "source": [
    "# 目的変数の割合を確認\n",
    "df['survived'].value_counts()"
   ]
  },
  {
   "cell_type": "markdown",
   "id": "bffb8f26-1b9d-43a8-8797-b47a2ad1b657",
   "metadata": {},
   "source": [
    "死者の方が多い。"
   ]
  },
  {
   "cell_type": "code",
   "execution_count": 7,
   "id": "c71901af-8e60-4aae-ba1a-9103b075f1d9",
   "metadata": {},
   "outputs": [],
   "source": [
    "# survivedとalive以外を特徴量にする。.dropnaをする必要はない。\n",
    "X = df.loc[:, (df.columns != 'survived') &  (df.columns != 'alive')]\n",
    "X = pd.get_dummies(X, drop_first=True)\n",
    "y = df['survived']\n",
    "X_train, X_test, y_train, y_test = train_test_split(X, y, test_size=0.3,random_state=0)"
   ]
  },
  {
   "cell_type": "code",
   "execution_count": 8,
   "id": "5e0ab2ff-1b31-4335-ac5b-3cfe31c31eb2",
   "metadata": {},
   "outputs": [
    {
     "name": "stdout",
     "output_type": "stream",
     "text": [
      "[0]\tvalidation_0-logloss:0.64774\n",
      "[1]\tvalidation_0-logloss:0.61109\n",
      "[2]\tvalidation_0-logloss:0.58059\n",
      "[3]\tvalidation_0-logloss:0.55464\n",
      "[4]\tvalidation_0-logloss:0.53387\n",
      "[5]\tvalidation_0-logloss:0.51710\n",
      "[6]\tvalidation_0-logloss:0.50228\n",
      "[7]\tvalidation_0-logloss:0.49012\n",
      "[8]\tvalidation_0-logloss:0.47901\n",
      "[9]\tvalidation_0-logloss:0.47070\n",
      "[10]\tvalidation_0-logloss:0.46297\n",
      "[11]\tvalidation_0-logloss:0.45603\n",
      "[12]\tvalidation_0-logloss:0.45033\n",
      "[13]\tvalidation_0-logloss:0.44547\n",
      "[14]\tvalidation_0-logloss:0.44080\n",
      "[15]\tvalidation_0-logloss:0.43653\n",
      "[16]\tvalidation_0-logloss:0.43411\n",
      "[17]\tvalidation_0-logloss:0.43146\n",
      "[18]\tvalidation_0-logloss:0.42979\n",
      "[19]\tvalidation_0-logloss:0.42736\n",
      "[20]\tvalidation_0-logloss:0.42457\n",
      "[21]\tvalidation_0-logloss:0.42280\n",
      "[22]\tvalidation_0-logloss:0.42120\n",
      "[23]\tvalidation_0-logloss:0.41939\n",
      "[24]\tvalidation_0-logloss:0.41859\n",
      "[25]\tvalidation_0-logloss:0.41663\n",
      "[26]\tvalidation_0-logloss:0.41589\n",
      "[27]\tvalidation_0-logloss:0.41614\n",
      "[28]\tvalidation_0-logloss:0.41452\n",
      "[29]\tvalidation_0-logloss:0.41311\n",
      "[30]\tvalidation_0-logloss:0.41333\n",
      "[31]\tvalidation_0-logloss:0.41249\n",
      "[32]\tvalidation_0-logloss:0.41210\n",
      "[33]\tvalidation_0-logloss:0.41081\n",
      "[34]\tvalidation_0-logloss:0.40961\n",
      "[35]\tvalidation_0-logloss:0.41081\n",
      "[36]\tvalidation_0-logloss:0.41090\n",
      "[37]\tvalidation_0-logloss:0.41140\n",
      "[38]\tvalidation_0-logloss:0.41171\n",
      "[39]\tvalidation_0-logloss:0.41138\n",
      "[40]\tvalidation_0-logloss:0.41139\n",
      "[41]\tvalidation_0-logloss:0.41231\n",
      "[42]\tvalidation_0-logloss:0.41223\n",
      "[43]\tvalidation_0-logloss:0.41202\n"
     ]
    },
    {
     "data": {
      "text/html": [
       "<style>#sk-container-id-1 {color: black;background-color: white;}#sk-container-id-1 pre{padding: 0;}#sk-container-id-1 div.sk-toggleable {background-color: white;}#sk-container-id-1 label.sk-toggleable__label {cursor: pointer;display: block;width: 100%;margin-bottom: 0;padding: 0.3em;box-sizing: border-box;text-align: center;}#sk-container-id-1 label.sk-toggleable__label-arrow:before {content: \"▸\";float: left;margin-right: 0.25em;color: #696969;}#sk-container-id-1 label.sk-toggleable__label-arrow:hover:before {color: black;}#sk-container-id-1 div.sk-estimator:hover label.sk-toggleable__label-arrow:before {color: black;}#sk-container-id-1 div.sk-toggleable__content {max-height: 0;max-width: 0;overflow: hidden;text-align: left;background-color: #f0f8ff;}#sk-container-id-1 div.sk-toggleable__content pre {margin: 0.2em;color: black;border-radius: 0.25em;background-color: #f0f8ff;}#sk-container-id-1 input.sk-toggleable__control:checked~div.sk-toggleable__content {max-height: 200px;max-width: 100%;overflow: auto;}#sk-container-id-1 input.sk-toggleable__control:checked~label.sk-toggleable__label-arrow:before {content: \"▾\";}#sk-container-id-1 div.sk-estimator input.sk-toggleable__control:checked~label.sk-toggleable__label {background-color: #d4ebff;}#sk-container-id-1 div.sk-label input.sk-toggleable__control:checked~label.sk-toggleable__label {background-color: #d4ebff;}#sk-container-id-1 input.sk-hidden--visually {border: 0;clip: rect(1px 1px 1px 1px);clip: rect(1px, 1px, 1px, 1px);height: 1px;margin: -1px;overflow: hidden;padding: 0;position: absolute;width: 1px;}#sk-container-id-1 div.sk-estimator {font-family: monospace;background-color: #f0f8ff;border: 1px dotted black;border-radius: 0.25em;box-sizing: border-box;margin-bottom: 0.5em;}#sk-container-id-1 div.sk-estimator:hover {background-color: #d4ebff;}#sk-container-id-1 div.sk-parallel-item::after {content: \"\";width: 100%;border-bottom: 1px solid gray;flex-grow: 1;}#sk-container-id-1 div.sk-label:hover label.sk-toggleable__label {background-color: #d4ebff;}#sk-container-id-1 div.sk-serial::before {content: \"\";position: absolute;border-left: 1px solid gray;box-sizing: border-box;top: 0;bottom: 0;left: 50%;z-index: 0;}#sk-container-id-1 div.sk-serial {display: flex;flex-direction: column;align-items: center;background-color: white;padding-right: 0.2em;padding-left: 0.2em;position: relative;}#sk-container-id-1 div.sk-item {position: relative;z-index: 1;}#sk-container-id-1 div.sk-parallel {display: flex;align-items: stretch;justify-content: center;background-color: white;position: relative;}#sk-container-id-1 div.sk-item::before, #sk-container-id-1 div.sk-parallel-item::before {content: \"\";position: absolute;border-left: 1px solid gray;box-sizing: border-box;top: 0;bottom: 0;left: 50%;z-index: -1;}#sk-container-id-1 div.sk-parallel-item {display: flex;flex-direction: column;z-index: 1;position: relative;background-color: white;}#sk-container-id-1 div.sk-parallel-item:first-child::after {align-self: flex-end;width: 50%;}#sk-container-id-1 div.sk-parallel-item:last-child::after {align-self: flex-start;width: 50%;}#sk-container-id-1 div.sk-parallel-item:only-child::after {width: 0;}#sk-container-id-1 div.sk-dashed-wrapped {border: 1px dashed gray;margin: 0 0.4em 0.5em 0.4em;box-sizing: border-box;padding-bottom: 0.4em;background-color: white;}#sk-container-id-1 div.sk-label label {font-family: monospace;font-weight: bold;display: inline-block;line-height: 1.2em;}#sk-container-id-1 div.sk-label-container {text-align: center;}#sk-container-id-1 div.sk-container {/* jupyter's `normalize.less` sets `[hidden] { display: none; }` but bootstrap.min.css set `[hidden] { display: none !important; }` so we also need the `!important` here to be able to override the default hidden behavior on the sphinx rendered scikit-learn.org. See: https://github.com/scikit-learn/scikit-learn/issues/21755 */display: inline-block !important;position: relative;}#sk-container-id-1 div.sk-text-repr-fallback {display: none;}</style><div id=\"sk-container-id-1\" class=\"sk-top-container\"><div class=\"sk-text-repr-fallback\"><pre>XGBClassifier(base_score=None, booster=None, callbacks=None,\n",
       "              colsample_bylevel=None, colsample_bynode=None,\n",
       "              colsample_bytree=None, early_stopping_rounds=10,\n",
       "              enable_categorical=False, eval_metric=None, feature_types=None,\n",
       "              gamma=None, gpu_id=None, grow_policy=None, importance_type=None,\n",
       "              interaction_constraints=None, learning_rate=0.1, max_bin=None,\n",
       "              max_cat_threshold=None, max_cat_to_onehot=None,\n",
       "              max_delta_step=None, max_depth=None, max_leaves=None,\n",
       "              min_child_weight=None, missing=nan, monotone_constraints=None,\n",
       "              n_estimators=100, n_jobs=None, num_parallel_tree=None,\n",
       "              predictor=None, random_state=None, ...)</pre><b>In a Jupyter environment, please rerun this cell to show the HTML representation or trust the notebook. <br />On GitHub, the HTML representation is unable to render, please try loading this page with nbviewer.org.</b></div><div class=\"sk-container\" hidden><div class=\"sk-item\"><div class=\"sk-estimator sk-toggleable\"><input class=\"sk-toggleable__control sk-hidden--visually\" id=\"sk-estimator-id-1\" type=\"checkbox\" checked><label for=\"sk-estimator-id-1\" class=\"sk-toggleable__label sk-toggleable__label-arrow\">XGBClassifier</label><div class=\"sk-toggleable__content\"><pre>XGBClassifier(base_score=None, booster=None, callbacks=None,\n",
       "              colsample_bylevel=None, colsample_bynode=None,\n",
       "              colsample_bytree=None, early_stopping_rounds=10,\n",
       "              enable_categorical=False, eval_metric=None, feature_types=None,\n",
       "              gamma=None, gpu_id=None, grow_policy=None, importance_type=None,\n",
       "              interaction_constraints=None, learning_rate=0.1, max_bin=None,\n",
       "              max_cat_threshold=None, max_cat_to_onehot=None,\n",
       "              max_delta_step=None, max_depth=None, max_leaves=None,\n",
       "              min_child_weight=None, missing=nan, monotone_constraints=None,\n",
       "              n_estimators=100, n_jobs=None, num_parallel_tree=None,\n",
       "              predictor=None, random_state=None, ...)</pre></div></div></div></div></div>"
      ],
      "text/plain": [
       "XGBClassifier(base_score=None, booster=None, callbacks=None,\n",
       "              colsample_bylevel=None, colsample_bynode=None,\n",
       "              colsample_bytree=None, early_stopping_rounds=10,\n",
       "              enable_categorical=False, eval_metric=None, feature_types=None,\n",
       "              gamma=None, gpu_id=None, grow_policy=None, importance_type=None,\n",
       "              interaction_constraints=None, learning_rate=0.1, max_bin=None,\n",
       "              max_cat_threshold=None, max_cat_to_onehot=None,\n",
       "              max_delta_step=None, max_depth=None, max_leaves=None,\n",
       "              min_child_weight=None, missing=nan, monotone_constraints=None,\n",
       "              n_estimators=100, n_jobs=None, num_parallel_tree=None,\n",
       "              predictor=None, random_state=None, ...)"
      ]
     },
     "execution_count": 8,
     "metadata": {},
     "output_type": "execute_result"
    }
   ],
   "source": [
    "# XGBoostで学習。\n",
    "model = XGBClassifier(early_stopping_rounds=10, learning_rate=0.1)#, alpha=5)\n",
    "# .fitのeval_setに(X,y)を渡すと、ブースティング時の各イテレーションごとにこのデータセットで評価(今回はlogloss)してくれる。\n",
    "# この評価はearly stoppingの判定基準のこと。\n",
    "# 今回は本来のテストデータを検証データに使用。検証データに過学習気味になるので別途汎化性能を確かめた方が良い。\n",
    "eval_set = [(X_test, y_test)]\n",
    "model.fit(X_train, y_train, eval_set=eval_set, verbose=True)"
   ]
  },
  {
   "cell_type": "markdown",
   "id": "4dc0b118-d93d-475e-852d-5078af794d45",
   "metadata": {},
   "source": [
    "XGBoostの場合、.fitはモデル自体も返してくる。  \n",
    "本来100回イテレーションを行うはずだが、[34]回目にloglossが最小になっているので、  \n",
    "early-stoppingにより、44回目で学習を終了する。"
   ]
  },
  {
   "cell_type": "code",
   "execution_count": 9,
   "id": "7e95b78e-02ed-48fc-9e45-ac5a251f6288",
   "metadata": {},
   "outputs": [
    {
     "data": {
      "text/plain": [
       "0.4096059091597684"
      ]
     },
     "execution_count": 9,
     "metadata": {},
     "output_type": "execute_result"
    }
   ],
   "source": [
    "# 最終的なlog-lossを確認\n",
    "y_pred = model.predict_proba(X_test)\n",
    "log_loss(y_test,y_pred)"
   ]
  },
  {
   "cell_type": "code",
   "execution_count": 10,
   "id": "c2f90d24-fc1f-4389-a51f-bade0fdace0f",
   "metadata": {},
   "outputs": [
    {
     "data": {
      "text/plain": [
       "0.8059701492537313"
      ]
     },
     "execution_count": 10,
     "metadata": {},
     "output_type": "execute_result"
    }
   ],
   "source": [
    "accuracy_score(y_test, model.predict(X_test))"
   ]
  },
  {
   "cell_type": "markdown",
   "id": "8d9035fb-aa92-4318-b5af-29b9b552c846",
   "metadata": {},
   "source": [
    "普通の決定木による分類の方がわずかに精度が良い結果となった。(ML_notebook-9)  \n",
    "こちらはX_testを既に学習の参考データ(early stopping用)として使っているので、フェアな評価ではない。（もっと高くあるべき・・・）  "
   ]
  },
  {
   "cell_type": "code",
   "execution_count": 11,
   "id": "f083cfd5-3749-4f3c-be47-d6f00c27e601",
   "metadata": {},
   "outputs": [
    {
     "data": {
      "text/plain": [
       "0.8059701492537313"
      ]
     },
     "execution_count": 11,
     "metadata": {},
     "output_type": "execute_result"
    }
   ],
   "source": [
    "# こっちでもaccuracy確認可能。\n",
    "model.score(X_test, y_test)"
   ]
  },
  {
   "cell_type": "code",
   "execution_count": 12,
   "id": "fbc3f6b1-7620-4700-baac-2fd28618e9e3",
   "metadata": {},
   "outputs": [
    {
     "data": {
      "text/plain": [
       "0.8956661316211878"
      ]
     },
     "execution_count": 12,
     "metadata": {},
     "output_type": "execute_result"
    }
   ],
   "source": [
    "model.score(X_train, y_train)"
   ]
  },
  {
   "cell_type": "markdown",
   "id": "a0d3df1a-7695-4a58-a73e-f43070aa3be9",
   "metadata": {},
   "source": [
    "scoreを見てみると学習データでの精度が高く、過学習気味になっている可能性あり。  "
   ]
  },
  {
   "cell_type": "code",
   "execution_count": 13,
   "id": "1b481e80-e620-4c97-a9e1-5f34f85a84eb",
   "metadata": {},
   "outputs": [],
   "source": [
    "# k-fold CVしてみる\n",
    "from xgboost import cv\n",
    "data_dmatrix = xgb.DMatrix(data=X, label=y)\n",
    "\n",
    "params = {\"objective\":\"binary:logistic\",'learning_rate': 0.1}\n",
    "                #'max_depth': 5, 'alpha': 5}\n",
    "\n",
    "# xgboostのcvメソッドでk-fold CV可能\n",
    "xgb_cv = cv(dtrain=data_dmatrix, params=params, nfold=5,\n",
    "                    num_boost_round=50, early_stopping_rounds=10, metrics=\"logloss\", as_pandas=True)"
   ]
  },
  {
   "cell_type": "code",
   "execution_count": 14,
   "id": "747d84c7-4a8c-44ea-b393-3809bbd333a9",
   "metadata": {},
   "outputs": [
    {
     "data": {
      "text/html": [
       "<div>\n",
       "<style scoped>\n",
       "    .dataframe tbody tr th:only-of-type {\n",
       "        vertical-align: middle;\n",
       "    }\n",
       "\n",
       "    .dataframe tbody tr th {\n",
       "        vertical-align: top;\n",
       "    }\n",
       "\n",
       "    .dataframe thead th {\n",
       "        text-align: right;\n",
       "    }\n",
       "</style>\n",
       "<table border=\"1\" class=\"dataframe\">\n",
       "  <thead>\n",
       "    <tr style=\"text-align: right;\">\n",
       "      <th></th>\n",
       "      <th>train-logloss-mean</th>\n",
       "      <th>train-logloss-std</th>\n",
       "      <th>test-logloss-mean</th>\n",
       "      <th>test-logloss-std</th>\n",
       "    </tr>\n",
       "  </thead>\n",
       "  <tbody>\n",
       "    <tr>\n",
       "      <th>20</th>\n",
       "      <td>0.317210</td>\n",
       "      <td>0.005644</td>\n",
       "      <td>0.433656</td>\n",
       "      <td>0.029206</td>\n",
       "    </tr>\n",
       "    <tr>\n",
       "      <th>21</th>\n",
       "      <td>0.312102</td>\n",
       "      <td>0.005606</td>\n",
       "      <td>0.432602</td>\n",
       "      <td>0.029698</td>\n",
       "    </tr>\n",
       "    <tr>\n",
       "      <th>22</th>\n",
       "      <td>0.307537</td>\n",
       "      <td>0.005243</td>\n",
       "      <td>0.431100</td>\n",
       "      <td>0.030471</td>\n",
       "    </tr>\n",
       "    <tr>\n",
       "      <th>23</th>\n",
       "      <td>0.303419</td>\n",
       "      <td>0.005595</td>\n",
       "      <td>0.430276</td>\n",
       "      <td>0.031128</td>\n",
       "    </tr>\n",
       "    <tr>\n",
       "      <th>24</th>\n",
       "      <td>0.299577</td>\n",
       "      <td>0.005482</td>\n",
       "      <td>0.429260</td>\n",
       "      <td>0.031215</td>\n",
       "    </tr>\n",
       "    <tr>\n",
       "      <th>25</th>\n",
       "      <td>0.296104</td>\n",
       "      <td>0.005676</td>\n",
       "      <td>0.428953</td>\n",
       "      <td>0.031663</td>\n",
       "    </tr>\n",
       "    <tr>\n",
       "      <th>26</th>\n",
       "      <td>0.292589</td>\n",
       "      <td>0.005791</td>\n",
       "      <td>0.428614</td>\n",
       "      <td>0.031892</td>\n",
       "    </tr>\n",
       "    <tr>\n",
       "      <th>27</th>\n",
       "      <td>0.289508</td>\n",
       "      <td>0.005882</td>\n",
       "      <td>0.428800</td>\n",
       "      <td>0.032381</td>\n",
       "    </tr>\n",
       "    <tr>\n",
       "      <th>28</th>\n",
       "      <td>0.286670</td>\n",
       "      <td>0.005877</td>\n",
       "      <td>0.428790</td>\n",
       "      <td>0.032563</td>\n",
       "    </tr>\n",
       "    <tr>\n",
       "      <th>29</th>\n",
       "      <td>0.283517</td>\n",
       "      <td>0.005397</td>\n",
       "      <td>0.428170</td>\n",
       "      <td>0.032806</td>\n",
       "    </tr>\n",
       "  </tbody>\n",
       "</table>\n",
       "</div>"
      ],
      "text/plain": [
       "    train-logloss-mean  train-logloss-std  test-logloss-mean  test-logloss-std\n",
       "20            0.317210           0.005644           0.433656          0.029206\n",
       "21            0.312102           0.005606           0.432602          0.029698\n",
       "22            0.307537           0.005243           0.431100          0.030471\n",
       "23            0.303419           0.005595           0.430276          0.031128\n",
       "24            0.299577           0.005482           0.429260          0.031215\n",
       "25            0.296104           0.005676           0.428953          0.031663\n",
       "26            0.292589           0.005791           0.428614          0.031892\n",
       "27            0.289508           0.005882           0.428800          0.032381\n",
       "28            0.286670           0.005877           0.428790          0.032563\n",
       "29            0.283517           0.005397           0.428170          0.032806"
      ]
     },
     "execution_count": 14,
     "metadata": {},
     "output_type": "execute_result"
    }
   ],
   "source": [
    "xgb_cv[-10:]"
   ]
  },
  {
   "cell_type": "markdown",
   "id": "b07a0a2f-8a65-4935-a306-a9382d7b3780",
   "metadata": {},
   "source": [
    "k-fold CVの結果(test-logloss-mean)と学習結果のlog-lossには大きな乖離はないので、  \n",
    "上記の学習の中で検証データ(X_test)に過学習しているわけではなさそう。  \n",
    "もし過学習しているのであれば学習したモデルのlog-lossが圧倒的に良くなるはず。  \n",
    "ただ、学習データには過学習気味になっていそう。"
   ]
  },
  {
   "cell_type": "code",
   "execution_count": 15,
   "id": "7740586f-755d-4132-a125-e56804a0feab",
   "metadata": {},
   "outputs": [
    {
     "data": {
      "image/png": "[encoded data removed]",
      "text/plain": [
       "<Figure size 432x288 with 1 Axes>"
      ]
     },
     "metadata": {
      "needs_background": "light"
     },
     "output_type": "display_data"
    }
   ],
   "source": [
    "# 特徴量の重要度を表示\n",
    "plt.barh(X.columns, model.feature_importances_)\n",
    "plt.tight_layout()"
   ]
  },
  {
   "cell_type": "code",
   "execution_count": null,
   "id": "4af9d5f5-94a6-4603-b4aa-05a4a088b889",
   "metadata": {
    "tags": []
   },
   "outputs": [],
   "source": [
    "# xgbのcvメソッドを使わない場合のk-Fold CV。Staratifiedすることでfoldごとに含まれるクラスの割合を等しくした状態でCVできる。\n",
    "# 各モデルの学習結果を詳細に見たいときはこっちの方が良いかも。\n",
    "kf = StratifiedKFold(n_splits=5, shuffle=True, random_state=0)\n",
    "logloss_list = []\n",
    "class_ratio = {}\n",
    "model_cv =  XGBClassifier(early_stopping_rounds=10, learning_rate=0.1)\n",
    "\n",
    "for train_index, test_index in kf.split(X ,y):\n",
    "    X_train, X_test = X.iloc[train_index], X.iloc[test_index]\n",
    "    y_train, y_test = y.iloc[train_index], y.iloc[test_index]\n",
    "    \n",
    "    # モデル学習\n",
    "    eval_set = [(X_test, y_test)]\n",
    "    model_cv.fit(X_train, y_train, eval_set=eval_set, verbose=True)\n",
    "    # テストデータに対する予測値算出\n",
    "    y_pred = model_cv.predict_proba(X_test)\n",
    "    \n",
    "    # logloss\n",
    "    logloss = log_loss(y_test, y_pred)\n",
    "    logloss_list.append(logloss)"
   ]
  },
  {
   "cell_type": "code",
   "execution_count": 17,
   "id": "a84040fc-e0d0-4d6a-89b6-c0dc0db5ab4c",
   "metadata": {},
   "outputs": [
    {
     "data": {
      "text/plain": [
       "[0.3800789842267609,\n",
       " 0.38988355967854516,\n",
       " 0.40917928526282643,\n",
       " 0.43595872363180255,\n",
       " 0.48906770356920326]"
      ]
     },
     "execution_count": 17,
     "metadata": {},
     "output_type": "execute_result"
    }
   ],
   "source": [
    "logloss_list"
   ]
  },
  {
   "cell_type": "code",
   "execution_count": 18,
   "id": "546e1eba-d246-44d6-b195-36254eaa16b4",
   "metadata": {},
   "outputs": [
    {
     "data": {
      "text/plain": [
       "0.4208336512738276"
      ]
     },
     "execution_count": 18,
     "metadata": {},
     "output_type": "execute_result"
    }
   ],
   "source": [
    "np.mean(logloss_list)"
   ]
  },
  {
   "cell_type": "markdown",
   "id": "9374884e-06c6-436f-a712-b032d3da414a",
   "metadata": {},
   "source": [
    "xgbのcvメソッドの結果と概ね同じ。こっちの方が計算量は多いが、わかりやすいかも。"
   ]
  },
  {
   "cell_type": "code",
   "execution_count": null,
   "id": "6e86c929-a218-42b2-9224-3781efe0d9e5",
   "metadata": {},
   "outputs": [],
   "source": []
  },
  {
   "cell_type": "markdown",
   "id": "67eefa56-e157-4e35-a71e-594ac8e6b16d",
   "metadata": {},
   "source": [
    "## ○LightGBM"
   ]
  },
  {
   "cell_type": "markdown",
   "id": "d8ada069-c180-4f62-85ef-65b0dcec4909",
   "metadata": {},
   "source": [
    "scikit-learnにはないので、pipでインストールする必要あり。  \n",
    "分類の場合はLGBMClassifier、回帰の場合はLGBMRegressorを使う。  \n",
    "基本的に他のScikit-learnのクラスと使い方は同じ。  \n",
    "今回使用するLGBMClassifierでよく使うパラメタは下記。  \n",
    "* n_estimators : ブースティングの回数(=学習する決定木の数)．デフォルトは100．\n",
    "* boosting_type : ブースティングアルゴリズムを以下から選択．デフォルトは 'gbdt'\n",
    "    * 'gbdt' , 従来の Gradient Boosting Decision Tree.\n",
    "    * 'dart' , Dropouts meet Multiple Additive Regression Trees.\n",
    "    * 'goss' , Gradient-based One-Side Sampling.\n",
    "    * 'rf' , Random Forest.’\n",
    "* learning_rate : shrinkageのη．デフォルトは0.1\n",
    "* max_depth : 決定木の最大の深さ．デフォルトではfull treeまで学習してしまうので，何か値を入れておくとよい。\n",
    "* random_state : 乱数のseed"
   ]
  },
  {
   "cell_type": "code",
   "execution_count": 1,
   "id": "3ce86aec-5c9f-4336-8165-75b62c2a1c0b",
   "metadata": {},
   "outputs": [
    {
     "name": "stdout",
     "output_type": "stream",
     "text": [
      "Collecting lightgbm\n",
      "  Downloading lightgbm-3.3.5-py3-none-manylinux1_x86_64.whl (2.0 MB)\n",
      "\u001b[2K     \u001b[90m━━━━━━━━━━━━━━━━━━━━━━━━━━━━━━━━━━━━━━━━\u001b[0m \u001b[32m2.0/2.0 MB\u001b[0m \u001b[31m6.9 MB/s\u001b[0m eta \u001b[36m0:00:00\u001b[0m00:01\u001b[0m00:01\u001b[0m\n",
      "\u001b[?25hRequirement already satisfied: numpy in /opt/anaconda3/lib/python3.9/site-packages (from lightgbm) (1.21.5)\n",
      "Requirement already satisfied: scikit-learn!=0.22.0 in /opt/anaconda3/lib/python3.9/site-packages (from lightgbm) (1.1.1)\n",
      "Requirement already satisfied: scipy in /opt/anaconda3/lib/python3.9/site-packages (from lightgbm) (1.7.3)\n",
      "Requirement already satisfied: wheel in /opt/anaconda3/lib/python3.9/site-packages (from lightgbm) (0.37.1)\n",
      "Requirement already satisfied: joblib>=1.0.0 in /opt/anaconda3/lib/python3.9/site-packages (from scikit-learn!=0.22.0->lightgbm) (1.1.0)\n",
      "Requirement already satisfied: threadpoolctl>=2.0.0 in /opt/anaconda3/lib/python3.9/site-packages (from scikit-learn!=0.22.0->lightgbm) (2.2.0)\n",
      "Installing collected packages: lightgbm\n",
      "Successfully installed lightgbm-3.3.5\n",
      "\u001b[33mWARNING: Running pip as the 'root' user can result in broken permissions and conflicting behaviour with the system package manager. It is recommended to use a virtual environment instead: https://pip.pypa.io/warnings/venv\u001b[0m\u001b[33m\n",
      "\u001b[0m\n",
      "\u001b[1m[\u001b[0m\u001b[34;49mnotice\u001b[0m\u001b[1;39;49m]\u001b[0m\u001b[39;49m A new release of pip available: \u001b[0m\u001b[31;49m22.2\u001b[0m\u001b[39;49m -> \u001b[0m\u001b[32;49m23.0\u001b[0m\n",
      "\u001b[1m[\u001b[0m\u001b[34;49mnotice\u001b[0m\u001b[1;39;49m]\u001b[0m\u001b[39;49m To update, run: \u001b[0m\u001b[32;49mpip install --upgrade pip\u001b[0m\n",
      "Note: you may need to restart the kernel to use updated packages.\n"
     ]
    }
   ],
   "source": [
    "%pip install lightgbm"
   ]
  },
  {
   "cell_type": "code",
   "execution_count": 8,
   "id": "2a0c2a93-5909-4841-98e4-8345c5953a34",
   "metadata": {},
   "outputs": [],
   "source": [
    "# データ読み込み\n",
    "df = sns.load_dataset('titanic')\n",
    "X = df.drop(columns=['survived', 'alive'])\n",
    "X = pd.get_dummies(X, drop_first=True)\n",
    "y = df['survived']"
   ]
  },
  {
   "cell_type": "code",
   "execution_count": 14,
   "id": "e21c9655-42bb-464f-90cb-650d6ebb6168",
   "metadata": {},
   "outputs": [],
   "source": [
    "# 学習データとテストデータに分ける\n",
    "X_train, X_test, y_train, y_test = train_test_split(X, y, test_size=0.3, random_state=0)"
   ]
  },
  {
   "cell_type": "code",
   "execution_count": 15,
   "id": "5f2efaf9-392a-4028-af5d-d65301e8ec01",
   "metadata": {},
   "outputs": [],
   "source": [
    "# モデル生成\n",
    "model = lgb.LGBMClassifier(boosting_type='goss', max_depth=5, random_state=0)"
   ]
  },
  {
   "cell_type": "markdown",
   "id": "30a6b94d-a72a-4408-aed8-14adbe81efbc",
   "metadata": {},
   "source": [
    ".fit()、すなわち学習の際によく使う引数は下記。  \n",
    "early stoppingをするには callbacks 引数を使う。  \n",
    "lgb.early_stopping() と lgb.log_evaluation() （logloss）をリストにして callbacks 引数に入れてあげればOK。  \n",
    "lgb.log_evaluation() を callbacks に入れることで各イテレーション時に評価指標を出力してくれる。\n",
    "* eval_set : (X, y)のリストで，これを渡すと，ブースティング時の各イテレーションごとにこのデータセットを使って評価してくれる．\n",
    "* callbacks  : 各イテレーションの際に実行するcallback関数のリスト(early stopping時に使用)"
   ]
  },
  {
   "cell_type": "code",
   "execution_count": 16,
   "id": "10ea06d9-b392-4d08-b1b3-e33822f0d74d",
   "metadata": {},
   "outputs": [
    {
     "name": "stdout",
     "output_type": "stream",
     "text": [
      "[1]\tvalid_0's binary_logloss: 0.618911\n",
      "Training until validation scores don't improve for 10 rounds\n",
      "[2]\tvalid_0's binary_logloss: 0.585485\n",
      "[3]\tvalid_0's binary_logloss: 0.558875\n",
      "[4]\tvalid_0's binary_logloss: 0.537704\n",
      "[5]\tvalid_0's binary_logloss: 0.519073\n",
      "[6]\tvalid_0's binary_logloss: 0.503079\n",
      "[7]\tvalid_0's binary_logloss: 0.489481\n",
      "[8]\tvalid_0's binary_logloss: 0.478097\n",
      "[9]\tvalid_0's binary_logloss: 0.468913\n",
      "[10]\tvalid_0's binary_logloss: 0.46083\n",
      "[11]\tvalid_0's binary_logloss: 0.454961\n",
      "[12]\tvalid_0's binary_logloss: 0.448297\n",
      "[13]\tvalid_0's binary_logloss: 0.443706\n",
      "[14]\tvalid_0's binary_logloss: 0.439395\n",
      "[15]\tvalid_0's binary_logloss: 0.43847\n",
      "[16]\tvalid_0's binary_logloss: 0.439082\n",
      "[17]\tvalid_0's binary_logloss: 0.436798\n",
      "[18]\tvalid_0's binary_logloss: 0.434473\n",
      "[19]\tvalid_0's binary_logloss: 0.43018\n",
      "[20]\tvalid_0's binary_logloss: 0.428601\n",
      "[21]\tvalid_0's binary_logloss: 0.426797\n",
      "[22]\tvalid_0's binary_logloss: 0.426168\n",
      "[23]\tvalid_0's binary_logloss: 0.423197\n",
      "[24]\tvalid_0's binary_logloss: 0.420837\n",
      "[25]\tvalid_0's binary_logloss: 0.420845\n",
      "[26]\tvalid_0's binary_logloss: 0.418457\n",
      "[27]\tvalid_0's binary_logloss: 0.420662\n",
      "[28]\tvalid_0's binary_logloss: 0.420342\n",
      "[29]\tvalid_0's binary_logloss: 0.41802\n",
      "[30]\tvalid_0's binary_logloss: 0.41796\n",
      "[31]\tvalid_0's binary_logloss: 0.416734\n",
      "[32]\tvalid_0's binary_logloss: 0.417204\n",
      "[33]\tvalid_0's binary_logloss: 0.417792\n",
      "[34]\tvalid_0's binary_logloss: 0.41984\n",
      "[35]\tvalid_0's binary_logloss: 0.418576\n",
      "[36]\tvalid_0's binary_logloss: 0.41603\n",
      "[37]\tvalid_0's binary_logloss: 0.41481\n",
      "[38]\tvalid_0's binary_logloss: 0.41521\n",
      "[39]\tvalid_0's binary_logloss: 0.415707\n",
      "[40]\tvalid_0's binary_logloss: 0.417128\n",
      "[41]\tvalid_0's binary_logloss: 0.415206\n",
      "[42]\tvalid_0's binary_logloss: 0.414606\n",
      "[43]\tvalid_0's binary_logloss: 0.413992\n",
      "[44]\tvalid_0's binary_logloss: 0.413735\n",
      "[45]\tvalid_0's binary_logloss: 0.414598\n",
      "[46]\tvalid_0's binary_logloss: 0.412977\n",
      "[47]\tvalid_0's binary_logloss: 0.414046\n",
      "[48]\tvalid_0's binary_logloss: 0.412529\n",
      "[49]\tvalid_0's binary_logloss: 0.412006\n",
      "[50]\tvalid_0's binary_logloss: 0.413007\n",
      "[51]\tvalid_0's binary_logloss: 0.413289\n",
      "[52]\tvalid_0's binary_logloss: 0.413501\n",
      "[53]\tvalid_0's binary_logloss: 0.413776\n",
      "[54]\tvalid_0's binary_logloss: 0.413954\n",
      "[55]\tvalid_0's binary_logloss: 0.412619\n",
      "[56]\tvalid_0's binary_logloss: 0.413491\n",
      "[57]\tvalid_0's binary_logloss: 0.414707\n",
      "[58]\tvalid_0's binary_logloss: 0.413957\n",
      "[59]\tvalid_0's binary_logloss: 0.415021\n",
      "Early stopping, best iteration is:\n",
      "[49]\tvalid_0's binary_logloss: 0.412006\n"
     ]
    },
    {
     "data": {
      "text/html": [
       "<style>#sk-container-id-1 {color: black;background-color: white;}#sk-container-id-1 pre{padding: 0;}#sk-container-id-1 div.sk-toggleable {background-color: white;}#sk-container-id-1 label.sk-toggleable__label {cursor: pointer;display: block;width: 100%;margin-bottom: 0;padding: 0.3em;box-sizing: border-box;text-align: center;}#sk-container-id-1 label.sk-toggleable__label-arrow:before {content: \"▸\";float: left;margin-right: 0.25em;color: #696969;}#sk-container-id-1 label.sk-toggleable__label-arrow:hover:before {color: black;}#sk-container-id-1 div.sk-estimator:hover label.sk-toggleable__label-arrow:before {color: black;}#sk-container-id-1 div.sk-toggleable__content {max-height: 0;max-width: 0;overflow: hidden;text-align: left;background-color: #f0f8ff;}#sk-container-id-1 div.sk-toggleable__content pre {margin: 0.2em;color: black;border-radius: 0.25em;background-color: #f0f8ff;}#sk-container-id-1 input.sk-toggleable__control:checked~div.sk-toggleable__content {max-height: 200px;max-width: 100%;overflow: auto;}#sk-container-id-1 input.sk-toggleable__control:checked~label.sk-toggleable__label-arrow:before {content: \"▾\";}#sk-container-id-1 div.sk-estimator input.sk-toggleable__control:checked~label.sk-toggleable__label {background-color: #d4ebff;}#sk-container-id-1 div.sk-label input.sk-toggleable__control:checked~label.sk-toggleable__label {background-color: #d4ebff;}#sk-container-id-1 input.sk-hidden--visually {border: 0;clip: rect(1px 1px 1px 1px);clip: rect(1px, 1px, 1px, 1px);height: 1px;margin: -1px;overflow: hidden;padding: 0;position: absolute;width: 1px;}#sk-container-id-1 div.sk-estimator {font-family: monospace;background-color: #f0f8ff;border: 1px dotted black;border-radius: 0.25em;box-sizing: border-box;margin-bottom: 0.5em;}#sk-container-id-1 div.sk-estimator:hover {background-color: #d4ebff;}#sk-container-id-1 div.sk-parallel-item::after {content: \"\";width: 100%;border-bottom: 1px solid gray;flex-grow: 1;}#sk-container-id-1 div.sk-label:hover label.sk-toggleable__label {background-color: #d4ebff;}#sk-container-id-1 div.sk-serial::before {content: \"\";position: absolute;border-left: 1px solid gray;box-sizing: border-box;top: 0;bottom: 0;left: 50%;z-index: 0;}#sk-container-id-1 div.sk-serial {display: flex;flex-direction: column;align-items: center;background-color: white;padding-right: 0.2em;padding-left: 0.2em;position: relative;}#sk-container-id-1 div.sk-item {position: relative;z-index: 1;}#sk-container-id-1 div.sk-parallel {display: flex;align-items: stretch;justify-content: center;background-color: white;position: relative;}#sk-container-id-1 div.sk-item::before, #sk-container-id-1 div.sk-parallel-item::before {content: \"\";position: absolute;border-left: 1px solid gray;box-sizing: border-box;top: 0;bottom: 0;left: 50%;z-index: -1;}#sk-container-id-1 div.sk-parallel-item {display: flex;flex-direction: column;z-index: 1;position: relative;background-color: white;}#sk-container-id-1 div.sk-parallel-item:first-child::after {align-self: flex-end;width: 50%;}#sk-container-id-1 div.sk-parallel-item:last-child::after {align-self: flex-start;width: 50%;}#sk-container-id-1 div.sk-parallel-item:only-child::after {width: 0;}#sk-container-id-1 div.sk-dashed-wrapped {border: 1px dashed gray;margin: 0 0.4em 0.5em 0.4em;box-sizing: border-box;padding-bottom: 0.4em;background-color: white;}#sk-container-id-1 div.sk-label label {font-family: monospace;font-weight: bold;display: inline-block;line-height: 1.2em;}#sk-container-id-1 div.sk-label-container {text-align: center;}#sk-container-id-1 div.sk-container {/* jupyter's `normalize.less` sets `[hidden] { display: none; }` but bootstrap.min.css set `[hidden] { display: none !important; }` so we also need the `!important` here to be able to override the default hidden behavior on the sphinx rendered scikit-learn.org. See: https://github.com/scikit-learn/scikit-learn/issues/21755 */display: inline-block !important;position: relative;}#sk-container-id-1 div.sk-text-repr-fallback {display: none;}</style><div id=\"sk-container-id-1\" class=\"sk-top-container\"><div class=\"sk-text-repr-fallback\"><pre>LGBMClassifier(boosting_type=&#x27;goss&#x27;, max_depth=5, random_state=0)</pre><b>In a Jupyter environment, please rerun this cell to show the HTML representation or trust the notebook. <br />On GitHub, the HTML representation is unable to render, please try loading this page with nbviewer.org.</b></div><div class=\"sk-container\" hidden><div class=\"sk-item\"><div class=\"sk-estimator sk-toggleable\"><input class=\"sk-toggleable__control sk-hidden--visually\" id=\"sk-estimator-id-1\" type=\"checkbox\" checked><label for=\"sk-estimator-id-1\" class=\"sk-toggleable__label sk-toggleable__label-arrow\">LGBMClassifier</label><div class=\"sk-toggleable__content\"><pre>LGBMClassifier(boosting_type=&#x27;goss&#x27;, max_depth=5, random_state=0)</pre></div></div></div></div></div>"
      ],
      "text/plain": [
       "LGBMClassifier(boosting_type='goss', max_depth=5, random_state=0)"
      ]
     },
     "execution_count": 16,
     "metadata": {},
     "output_type": "execute_result"
    }
   ],
   "source": [
    "# 学習。ここではテストデータを検証データとして評価指標にする。（本当はやっちゃだめ）\n",
    "eval_set = [(X_test, y_test)]\n",
    "callbacks = [lgb.early_stopping(stopping_rounds=10), lgb.log_evaluation()]\n",
    "model.fit(X_train, y_train, eval_set=eval_set, callbacks=callbacks)"
   ]
  },
  {
   "cell_type": "code",
   "execution_count": 19,
   "id": "e9edb679-2682-420d-8d6a-c01ae4e78b15",
   "metadata": {},
   "outputs": [
    {
     "data": {
      "text/plain": [
       "(49,\n",
       " defaultdict(collections.OrderedDict,\n",
       "             {'valid_0': OrderedDict([('binary_logloss',\n",
       "                            0.4120060817703395)])}))"
      ]
     },
     "execution_count": 19,
     "metadata": {},
     "output_type": "execute_result"
    }
   ],
   "source": [
    "# ベストの結果を表示\n",
    "model.best_iteration_, model.best_score_"
   ]
  },
  {
   "cell_type": "code",
   "execution_count": 24,
   "id": "f22569e1-29a5-4e1e-9a5a-0deca225938f",
   "metadata": {},
   "outputs": [
    {
     "data": {
      "text/plain": [
       "0.4120060817703395"
      ]
     },
     "execution_count": 24,
     "metadata": {},
     "output_type": "execute_result"
    }
   ],
   "source": [
    "y_pred_proba = model.predict_proba(X_test)\n",
    "log_loss(y_test, y_pred_proba)"
   ]
  },
  {
   "cell_type": "code",
   "execution_count": 25,
   "id": "f0cd8dfc-017d-4c63-b5f5-416015c07101",
   "metadata": {},
   "outputs": [
    {
     "data": {
      "text/plain": [
       "0.8208955223880597"
      ]
     },
     "execution_count": 25,
     "metadata": {},
     "output_type": "execute_result"
    }
   ],
   "source": [
    "y_pred = model.predict(X_test)\n",
    "accuracy_score(y_test, y_pred)"
   ]
  },
  {
   "cell_type": "markdown",
   "id": "bd8f33c2-43a1-4513-8aa8-a3949d2d210d",
   "metadata": {},
   "source": [
    "ほぼ同じ条件なので、やはりXGBoostよりもちょっと精度良さそう。"
   ]
  },
  {
   "cell_type": "code",
   "execution_count": 26,
   "id": "007b1c64-3547-41aa-9167-d4e2d2ba6011",
   "metadata": {},
   "outputs": [
    {
     "data": {
      "text/plain": [
       "<AxesSubplot:title={'center':'Feature importance'}, xlabel='Feature importance', ylabel='Features'>"
      ]
     },
     "execution_count": 26,
     "metadata": {},
     "output_type": "execute_result"
    },
    {
     "data": {
      "image/png": "[encoded data removed]",
      "text/plain": [
       "<Figure size 432x288 with 1 Axes>"
      ]
     },
     "metadata": {
      "needs_background": "light"
     },
     "output_type": "display_data"
    }
   ],
   "source": [
    "# 特徴量の重要度を確認\n",
    "lgb.plot_importance(model)"
   ]
  },
  {
   "cell_type": "markdown",
   "id": "99d315d1-da8a-40eb-8c9a-e427a1005e21",
   "metadata": {},
   "source": [
    "デフォルトの状態ではモデルでその特徴量が使用された回数を重要度として出力してしまう。  \n",
    "importance_type='gain'とすることで、特徴量の重要度を'gain'（損失関数の減少への寄与）で確認することができる。  \n",
    "こちらの方が重要度の指標としては適切かもしれない。"
   ]
  },
  {
   "cell_type": "code",
   "execution_count": 31,
   "id": "99ab561a-2c8a-4b8b-b429-6ceeaa890c49",
   "metadata": {},
   "outputs": [
    {
     "data": {
      "text/plain": [
       "<AxesSubplot:title={'center':'Feature importance'}, xlabel='Feature importance', ylabel='Features'>"
      ]
     },
     "execution_count": 31,
     "metadata": {},
     "output_type": "execute_result"
    },
    {
     "data": {
      "image/png": "[encoded data removed]",
      "text/plain": [
       "<Figure size 432x288 with 1 Axes>"
      ]
     },
     "metadata": {
      "needs_background": "light"
     },
     "output_type": "display_data"
    }
   ],
   "source": [
    "lgb.plot_importance(model, importance_type='gain')"
   ]
  },
  {
   "cell_type": "markdown",
   "id": "44f346e3-ed26-4a52-8370-b2eada187c94",
   "metadata": {},
   "source": [
    "1位の特徴量に関してはxgboostと同様になった。"
   ]
  }
 ],
 "metadata": {
  "kernelspec": {
   "display_name": "Python 3 (ipykernel)",
   "language": "python",
   "name": "python3"
  },
  "language_info": {
   "codemirror_mode": {
    "name": "ipython",
    "version": 3
   },
   "file_extension": ".py",
   "mimetype": "text/x-python",
   "name": "python",
   "nbconvert_exporter": "python",
   "pygments_lexer": "ipython3",
   "version": "3.9.12"
  }
 },
 "nbformat": 4,
 "nbformat_minor": 5
}
