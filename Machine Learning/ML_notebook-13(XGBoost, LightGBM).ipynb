{
 "cells": [
  {
   "attachments": {},
   "cell_type": "markdown",
   "id": "f6d6e0bd-7b58-4db4-8262-489741cf6b2d",
   "metadata": {},
   "source": [
    "# 機械学習をPythonで実践する-13　～ XGBoost, LightGBM ～\n",
    "XGBoost(eXtreme Gradient Boosting)やLightGBM(Light Gradient Boosting Machine)を使ってみる。  \n",
    "\n",
    "参考:  \n",
    "https://datawokagaku.com/xgboost/  \n",
    "https://datawokagaku.com/lightgbm/"
   ]
  },
  {
   "cell_type": "code",
   "execution_count": 92,
   "id": "d73ab698-af5b-43cf-9e07-dac04d133164",
   "metadata": {},
   "outputs": [
    {
     "name": "stdout",
     "output_type": "stream",
     "text": [
      "The autoreload extension is already loaded. To reload it, use:\n",
      "  %reload_ext autoreload\n"
     ]
    }
   ],
   "source": [
    "%load_ext autoreload\n",
    "%autoreload 2\n",
    "import polars as pl\n",
    "import pandas as pd\n",
    "import numpy as np\n",
    "import seaborn as sns\n",
    "from sklearn.preprocessing import StandardScaler, PolynomialFeatures, label_binarize, OrdinalEncoder\n",
    "# import statsmodels.api as sma\n",
    "from sklearn.model_selection import train_test_split ,LeaveOneOut, cross_val_score, KFold, RepeatedKFold,StratifiedKFold\n",
    "from sklearn.metrics import mean_squared_error, mean_absolute_error, r2_score, log_loss, confusion_matrix,ConfusionMatrixDisplay, \\\n",
    "accuracy_score, precision_score, recall_score,precision_recall_curve,f1_score,roc_curve,auc,get_scorer_names,roc_auc_score\n",
    "from sklearn.decomposition import PCA\n",
    "from sklearn.datasets import fetch_openml\n",
    "from sklearn.cluster import KMeans\n",
    "from scipy.cluster.hierarchy import linkage,dendrogram,fcluster\n",
    "from sklearn import tree\n",
    "import lightgbm as lgb\n",
    "from catboost import CatBoostClassifier\n",
    "\n",
    "%matplotlib inline\n",
    "import matplotlib.pyplot as plt\n"
   ]
  },
  {
   "attachments": {},
   "cell_type": "markdown",
   "id": "587a3656-fc6e-4f98-944c-1f0e04220e97",
   "metadata": {},
   "source": [
    "## ○ XGBoost(分類)\n",
    "pipでxgboostをインストールする必要あり。  \n",
    "xgboostライブラリからXGBClassifierをインポートして分類を行う。  \n",
    "基本的な使い方はscikit-learnの各モデルと同じ。インスタンス生成してfitで学習する。  \n",
    "* 分類器XGBClassifier()インスタンス生成時のパラメータは下記。  \n",
    "  * n_estimators : ブースティングの回数(=学習する決定木の数)．デフォルトは100．\n",
    "  * learning_rate : shrinkageのη．デフォルトは0.3。\n",
    "  * max_depth : 決定木の最高の深さ．デフォルトは6\n",
    "  * eval_metric : ブースティング時の各イテレーション時に使う評価指標(特に後述するearly stoppingに使用).   \n",
    "    sklearn.metricsのメソッドを渡すか，自作してもOK．デフォルトは 'logloss'\n",
    "  * early_stopping_rounds : early stoppingする際の，最低限ブースティングのイテレーションをする回数  \n",
    "  　※early stoppingとは、ブースティングのイテレーション時に評価指標がそれ以上上がらなくなったら自動で学習をやめてくれること。  \n",
    "  * importance_type: 目的変数に対する特徴量の寄与度の指標。デフォルトだと分岐に現れる特徴量の出現頻度(weight)だが、'total_gain'（損失の減少度）が適切。  \n",
    "    <br></br>\n",
    "* .fit(X, y)のパラメタ\n",
    "  * eval_set: 各イテレーション毎のearly stopping判定に使用したいデータ。タプルのリストで指定。 　例: [(X_val, y_val)]\n",
    "\n"
   ]
  },
  {
   "cell_type": "code",
   "execution_count": 2,
   "id": "dfb467c6-def1-4317-8f44-ad30c7c0a48a",
   "metadata": {},
   "outputs": [
    {
     "name": "stdout",
     "output_type": "stream",
     "text": [
      "Collecting xgboost\n",
      "  Downloading xgboost-1.7.3-py3-none-manylinux2014_x86_64.whl (193.6 MB)\n",
      "\u001b[2K     \u001b[90m━━━━━━━━━━━━━━━━━━━━━━━━━━━━━━━━━━━━━━━\u001b[0m \u001b[32m193.6/193.6 MB\u001b[0m \u001b[31m5.0 MB/s\u001b[0m eta \u001b[36m0:00:00\u001b[0m00:01\u001b[0m00:01\u001b[0m\n",
      "\u001b[?25hRequirement already satisfied: numpy in /opt/anaconda3/lib/python3.9/site-packages (from xgboost) (1.21.5)\n",
      "Requirement already satisfied: scipy in /opt/anaconda3/lib/python3.9/site-packages (from xgboost) (1.7.3)\n",
      "Installing collected packages: xgboost\n",
      "Successfully installed xgboost-1.7.3\n",
      "\u001b[33mWARNING: Running pip as the 'root' user can result in broken permissions and conflicting behaviour with the system package manager. It is recommended to use a virtual environment instead: https://pip.pypa.io/warnings/venv\u001b[0m\u001b[33m\n",
      "\u001b[0m\n",
      "\u001b[1m[\u001b[0m\u001b[34;49mnotice\u001b[0m\u001b[1;39;49m]\u001b[0m\u001b[39;49m A new release of pip available: \u001b[0m\u001b[31;49m22.2\u001b[0m\u001b[39;49m -> \u001b[0m\u001b[32;49m22.3.1\u001b[0m\n",
      "\u001b[1m[\u001b[0m\u001b[34;49mnotice\u001b[0m\u001b[1;39;49m]\u001b[0m\u001b[39;49m To update, run: \u001b[0m\u001b[32;49mpip install --upgrade pip\u001b[0m\n",
      "Note: you may need to restart the kernel to use updated packages.\n"
     ]
    }
   ],
   "source": [
    "# xgboostをインストール。scikit-learnには入っていない。\n",
    "%pip install xgboost"
   ]
  },
  {
   "cell_type": "code",
   "execution_count": 2,
   "id": "dce7c18f-53d5-43ed-bb43-dc4eda10f2a9",
   "metadata": {},
   "outputs": [],
   "source": [
    "# xgboostをインポート\n",
    "from xgboost import XGBClassifier\n",
    "import xgboost as xgb"
   ]
  },
  {
   "cell_type": "code",
   "execution_count": 23,
   "id": "33e13c59",
   "metadata": {},
   "outputs": [],
   "source": [
    "# polarsでタイタニックデータを読み込み\n",
    "df = pl.from_pandas(sns.load_dataset('titanic'))\n",
    "\n",
    "# 欠損値は落とさなくてよい\n",
    "#df = df.drop_nulls()\n",
    "\n",
    "# 学習データ、目的変数を定義\n",
    "X = df.drop(['survived', 'alive'])\n",
    "y = df.get_column('survived')\n",
    "\n",
    "# カテゴリ変数のカラム名をリスト化\n",
    "category_cols = X.select(pl.col([pl.Utf8, pl.Categorical, pl.Boolean])).columns\n",
    "\n",
    "# ラベルエンコーディング（LabelEncoderではなく、OrdinalEncoderを使う）\n",
    "oe = OrdinalEncoder()\n",
    "# pandasで返ってくるように指定。polarsは指定できない模様\n",
    "oe.set_output(transform='pandas')\n",
    "# カテゴリ変数をエンコーディング。polars.DFはそのまま入れられないのでpandasに変換する。\n",
    "X = X.with_columns( pl.from_pandas(oe.fit_transform(X.select(category_cols).to_pandas())) )\n",
    "\n",
    "# hold-out\n",
    "X_train, X_test, y_train, y_test = train_test_split(X.to_pandas(), y.to_pandas(), test_size=0.3, random_state=0)"
   ]
  },
  {
   "attachments": {},
   "cell_type": "markdown",
   "id": "656edd03-19ce-44dd-ad05-a17763ff9db2",
   "metadata": {},
   "source": [
    "<b>★重要  \n",
    "XGBoostは欠損値に対処するアルゴリズムが組み込まれているため、欠損値（NaN）をdropする必要はなく、  \n",
    "欠損値があるデータをそのままモデルに学習させることができる。</b>  \n",
    "欠損値に別途値を代入してからXGBoostを学習させてもよいが、XGBoostを使う場合は欠損値対応はせずに、  \n",
    "そのまま学習させることが多い。もし、欠損値のデータをdropすると学習データが減ってしまい一般的に精度が下がる。  "
   ]
  },
  {
   "cell_type": "code",
   "execution_count": 20,
   "id": "cee6d333",
   "metadata": {},
   "outputs": [
    {
     "data": {
      "text/html": [
       "<div>\n",
       "<style>\n",
       ".pl-dataframe > thead > tr > th {\n",
       "  text-align: right;\n",
       "}\n",
       "</style>\n",
       "\n",
       "<table border=\"1\" class=\"dataframe pl-dataframe\">\n",
       "<small>shape: (2, 2)</small>\n",
       "<thead>\n",
       "<tr>\n",
       "<th>\n",
       "survived\n",
       "</th>\n",
       "<th>\n",
       "counts\n",
       "</th>\n",
       "</tr>\n",
       "<tr>\n",
       "<td>\n",
       "i64\n",
       "</td>\n",
       "<td>\n",
       "u32\n",
       "</td>\n",
       "</tr>\n",
       "</thead>\n",
       "<tbody>\n",
       "<tr>\n",
       "<td>\n",
       "0\n",
       "</td>\n",
       "<td>\n",
       "549\n",
       "</td>\n",
       "</tr>\n",
       "<tr>\n",
       "<td>\n",
       "1\n",
       "</td>\n",
       "<td>\n",
       "342\n",
       "</td>\n",
       "</tr>\n",
       "</tbody>\n",
       "</table>\n",
       "</div>"
      ],
      "text/plain": [
       "shape: (2, 2)\n",
       "┌──────────┬────────┐\n",
       "│ survived ┆ counts │\n",
       "│ ---      ┆ ---    │\n",
       "│ i64      ┆ u32    │\n",
       "╞══════════╪════════╡\n",
       "│ 0        ┆ 549    │\n",
       "│ 1        ┆ 342    │\n",
       "└──────────┴────────┘"
      ]
     },
     "execution_count": 20,
     "metadata": {},
     "output_type": "execute_result"
    }
   ],
   "source": [
    "df['survived'].value_counts()"
   ]
  },
  {
   "cell_type": "markdown",
   "id": "bffb8f26-1b9d-43a8-8797-b47a2ad1b657",
   "metadata": {},
   "source": [
    "死者の方が多い。"
   ]
  },
  {
   "cell_type": "code",
   "execution_count": 25,
   "id": "5e0ab2ff-1b31-4335-ac5b-3cfe31c31eb2",
   "metadata": {},
   "outputs": [
    {
     "name": "stdout",
     "output_type": "stream",
     "text": [
      "[0]\tvalidation_0-auc:0.86568\n",
      "[1]\tvalidation_0-auc:0.86533\n",
      "[2]\tvalidation_0-auc:0.87488\n",
      "[3]\tvalidation_0-auc:0.87500\n",
      "[4]\tvalidation_0-auc:0.87488\n",
      "[5]\tvalidation_0-auc:0.87488\n",
      "[6]\tvalidation_0-auc:0.87506\n",
      "[7]\tvalidation_0-auc:0.87452\n",
      "[8]\tvalidation_0-auc:0.87512\n",
      "[9]\tvalidation_0-auc:0.87506\n",
      "[10]\tvalidation_0-auc:0.87500\n",
      "[11]\tvalidation_0-auc:0.87506\n",
      "[12]\tvalidation_0-auc:0.87506\n",
      "[13]\tvalidation_0-auc:0.87506\n",
      "[14]\tvalidation_0-auc:0.87506\n",
      "[15]\tvalidation_0-auc:0.87506\n",
      "[16]\tvalidation_0-auc:0.87506\n",
      "[17]\tvalidation_0-auc:0.87518\n",
      "[18]\tvalidation_0-auc:0.87518\n",
      "[19]\tvalidation_0-auc:0.87530\n",
      "[20]\tvalidation_0-auc:0.87536\n",
      "[21]\tvalidation_0-auc:0.87548\n",
      "[22]\tvalidation_0-auc:0.87464\n",
      "[23]\tvalidation_0-auc:0.87476\n",
      "[24]\tvalidation_0-auc:0.87476\n",
      "[25]\tvalidation_0-auc:0.87476\n",
      "[26]\tvalidation_0-auc:0.87449\n",
      "[27]\tvalidation_0-auc:0.87449\n",
      "[28]\tvalidation_0-auc:0.87443\n",
      "[29]\tvalidation_0-auc:0.87432\n",
      "[30]\tvalidation_0-auc:0.87506\n",
      "[31]\tvalidation_0-auc:0.87554\n",
      "[32]\tvalidation_0-auc:0.87488\n",
      "[33]\tvalidation_0-auc:0.87488\n",
      "[34]\tvalidation_0-auc:0.87274\n",
      "[35]\tvalidation_0-auc:0.87619\n",
      "[36]\tvalidation_0-auc:0.87408\n",
      "[37]\tvalidation_0-auc:0.87408\n",
      "[38]\tvalidation_0-auc:0.87438\n",
      "[39]\tvalidation_0-auc:0.87449\n",
      "[40]\tvalidation_0-auc:0.87449\n",
      "[41]\tvalidation_0-auc:0.87461\n",
      "[42]\tvalidation_0-auc:0.87461\n",
      "[43]\tvalidation_0-auc:0.87461\n",
      "[44]\tvalidation_0-auc:0.87503\n",
      "[45]\tvalidation_0-auc:0.87503\n"
     ]
    },
    {
     "data": {
      "text/html": [
       "<style>#sk-container-id-3 {color: black;background-color: white;}#sk-container-id-3 pre{padding: 0;}#sk-container-id-3 div.sk-toggleable {background-color: white;}#sk-container-id-3 label.sk-toggleable__label {cursor: pointer;display: block;width: 100%;margin-bottom: 0;padding: 0.3em;box-sizing: border-box;text-align: center;}#sk-container-id-3 label.sk-toggleable__label-arrow:before {content: \"▸\";float: left;margin-right: 0.25em;color: #696969;}#sk-container-id-3 label.sk-toggleable__label-arrow:hover:before {color: black;}#sk-container-id-3 div.sk-estimator:hover label.sk-toggleable__label-arrow:before {color: black;}#sk-container-id-3 div.sk-toggleable__content {max-height: 0;max-width: 0;overflow: hidden;text-align: left;background-color: #f0f8ff;}#sk-container-id-3 div.sk-toggleable__content pre {margin: 0.2em;color: black;border-radius: 0.25em;background-color: #f0f8ff;}#sk-container-id-3 input.sk-toggleable__control:checked~div.sk-toggleable__content {max-height: 200px;max-width: 100%;overflow: auto;}#sk-container-id-3 input.sk-toggleable__control:checked~label.sk-toggleable__label-arrow:before {content: \"▾\";}#sk-container-id-3 div.sk-estimator input.sk-toggleable__control:checked~label.sk-toggleable__label {background-color: #d4ebff;}#sk-container-id-3 div.sk-label input.sk-toggleable__control:checked~label.sk-toggleable__label {background-color: #d4ebff;}#sk-container-id-3 input.sk-hidden--visually {border: 0;clip: rect(1px 1px 1px 1px);clip: rect(1px, 1px, 1px, 1px);height: 1px;margin: -1px;overflow: hidden;padding: 0;position: absolute;width: 1px;}#sk-container-id-3 div.sk-estimator {font-family: monospace;background-color: #f0f8ff;border: 1px dotted black;border-radius: 0.25em;box-sizing: border-box;margin-bottom: 0.5em;}#sk-container-id-3 div.sk-estimator:hover {background-color: #d4ebff;}#sk-container-id-3 div.sk-parallel-item::after {content: \"\";width: 100%;border-bottom: 1px solid gray;flex-grow: 1;}#sk-container-id-3 div.sk-label:hover label.sk-toggleable__label {background-color: #d4ebff;}#sk-container-id-3 div.sk-serial::before {content: \"\";position: absolute;border-left: 1px solid gray;box-sizing: border-box;top: 0;bottom: 0;left: 50%;z-index: 0;}#sk-container-id-3 div.sk-serial {display: flex;flex-direction: column;align-items: center;background-color: white;padding-right: 0.2em;padding-left: 0.2em;position: relative;}#sk-container-id-3 div.sk-item {position: relative;z-index: 1;}#sk-container-id-3 div.sk-parallel {display: flex;align-items: stretch;justify-content: center;background-color: white;position: relative;}#sk-container-id-3 div.sk-item::before, #sk-container-id-3 div.sk-parallel-item::before {content: \"\";position: absolute;border-left: 1px solid gray;box-sizing: border-box;top: 0;bottom: 0;left: 50%;z-index: -1;}#sk-container-id-3 div.sk-parallel-item {display: flex;flex-direction: column;z-index: 1;position: relative;background-color: white;}#sk-container-id-3 div.sk-parallel-item:first-child::after {align-self: flex-end;width: 50%;}#sk-container-id-3 div.sk-parallel-item:last-child::after {align-self: flex-start;width: 50%;}#sk-container-id-3 div.sk-parallel-item:only-child::after {width: 0;}#sk-container-id-3 div.sk-dashed-wrapped {border: 1px dashed gray;margin: 0 0.4em 0.5em 0.4em;box-sizing: border-box;padding-bottom: 0.4em;background-color: white;}#sk-container-id-3 div.sk-label label {font-family: monospace;font-weight: bold;display: inline-block;line-height: 1.2em;}#sk-container-id-3 div.sk-label-container {text-align: center;}#sk-container-id-3 div.sk-container {/* jupyter's `normalize.less` sets `[hidden] { display: none; }` but bootstrap.min.css set `[hidden] { display: none !important; }` so we also need the `!important` here to be able to override the default hidden behavior on the sphinx rendered scikit-learn.org. See: https://github.com/scikit-learn/scikit-learn/issues/21755 */display: inline-block !important;position: relative;}#sk-container-id-3 div.sk-text-repr-fallback {display: none;}</style><div id=\"sk-container-id-3\" class=\"sk-top-container\"><div class=\"sk-text-repr-fallback\"><pre>XGBClassifier(base_score=None, booster=None, callbacks=None,\n",
       "              colsample_bylevel=None, colsample_bynode=None,\n",
       "              colsample_bytree=None, early_stopping_rounds=10,\n",
       "              enable_categorical=False, eval_metric=&#x27;auc&#x27;, feature_types=None,\n",
       "              gamma=None, gpu_id=None, grow_policy=None,\n",
       "              importance_type=&#x27;total_gain&#x27;, interaction_constraints=None,\n",
       "              learning_rate=0.01, max_bin=None, max_cat_threshold=None,\n",
       "              max_cat_to_onehot=None, max_delta_step=None, max_depth=None,\n",
       "              max_leaves=None, min_child_weight=None, missing=nan,\n",
       "              monotone_constraints=None, n_estimators=100, n_jobs=None,\n",
       "              num_parallel_tree=None, predictor=None, random_state=0, ...)</pre><b>In a Jupyter environment, please rerun this cell to show the HTML representation or trust the notebook. <br />On GitHub, the HTML representation is unable to render, please try loading this page with nbviewer.org.</b></div><div class=\"sk-container\" hidden><div class=\"sk-item\"><div class=\"sk-estimator sk-toggleable\"><input class=\"sk-toggleable__control sk-hidden--visually\" id=\"sk-estimator-id-3\" type=\"checkbox\" checked><label for=\"sk-estimator-id-3\" class=\"sk-toggleable__label sk-toggleable__label-arrow\">XGBClassifier</label><div class=\"sk-toggleable__content\"><pre>XGBClassifier(base_score=None, booster=None, callbacks=None,\n",
       "              colsample_bylevel=None, colsample_bynode=None,\n",
       "              colsample_bytree=None, early_stopping_rounds=10,\n",
       "              enable_categorical=False, eval_metric=&#x27;auc&#x27;, feature_types=None,\n",
       "              gamma=None, gpu_id=None, grow_policy=None,\n",
       "              importance_type=&#x27;total_gain&#x27;, interaction_constraints=None,\n",
       "              learning_rate=0.01, max_bin=None, max_cat_threshold=None,\n",
       "              max_cat_to_onehot=None, max_delta_step=None, max_depth=None,\n",
       "              max_leaves=None, min_child_weight=None, missing=nan,\n",
       "              monotone_constraints=None, n_estimators=100, n_jobs=None,\n",
       "              num_parallel_tree=None, predictor=None, random_state=0, ...)</pre></div></div></div></div></div>"
      ],
      "text/plain": [
       "XGBClassifier(base_score=None, booster=None, callbacks=None,\n",
       "              colsample_bylevel=None, colsample_bynode=None,\n",
       "              colsample_bytree=None, early_stopping_rounds=10,\n",
       "              enable_categorical=False, eval_metric='auc', feature_types=None,\n",
       "              gamma=None, gpu_id=None, grow_policy=None,\n",
       "              importance_type='total_gain', interaction_constraints=None,\n",
       "              learning_rate=0.01, max_bin=None, max_cat_threshold=None,\n",
       "              max_cat_to_onehot=None, max_delta_step=None, max_depth=None,\n",
       "              max_leaves=None, min_child_weight=None, missing=nan,\n",
       "              monotone_constraints=None, n_estimators=100, n_jobs=None,\n",
       "              num_parallel_tree=None, predictor=None, random_state=0, ...)"
      ]
     },
     "execution_count": 25,
     "metadata": {},
     "output_type": "execute_result"
    }
   ],
   "source": [
    "# XGBoostで学習。\n",
    "model = XGBClassifier(early_stopping_rounds=10, \n",
    "                      learning_rate=0.01, \n",
    "                      eval_metric='auc',\n",
    "                      importance_type='total_gain',\n",
    "                      random_state=0)#, alpha=5)\n",
    "# .fitのeval_setに(X,y)を渡すと、ブースティング時の各イテレーションごとにこのデータセットで評価(今回はauc)してくれる。\n",
    "# この評価とはearly stoppingの判定基準のこと。\n",
    "# 今回は本来のテストデータを検証データに使用。検証データに過学習気味になるので別途CVで汎化性能を確かめた方が良い。\n",
    "eval_set = [(X_test, y_test)]\n",
    "model.fit(X_train, y_train, eval_set=eval_set, verbose=True)"
   ]
  },
  {
   "attachments": {},
   "cell_type": "markdown",
   "id": "4dc0b118-d93d-475e-852d-5078af794d45",
   "metadata": {},
   "source": [
    "XGBoostの場合、.fitはモデル自体も返してくる。  \n",
    "本来100回イテレーションを行うはずだが、[35]回目にaucが最小になっているので、  \n",
    "early-stoppingにより、45回目で学習を終了する。"
   ]
  },
  {
   "cell_type": "code",
   "execution_count": 27,
   "id": "7e95b78e-02ed-48fc-9e45-ac5a251f6288",
   "metadata": {},
   "outputs": [
    {
     "data": {
      "text/plain": [
       "0.8761904761904763"
      ]
     },
     "execution_count": 27,
     "metadata": {},
     "output_type": "execute_result"
    }
   ],
   "source": [
    "# 最終的なaucを確認\n",
    "y_pred = model.predict_proba(X_test)\n",
    "roc_auc_score(y_test, y_pred[:, 1])"
   ]
  },
  {
   "attachments": {},
   "cell_type": "markdown",
   "id": "d323cc91",
   "metadata": {},
   "source": [
    "上記の予測結果はテストデータをearly stoppingに使った結果のため、  \n",
    "テストデータに寄せた結果になっている。そのため、実務ではこういったことは厳禁。  \n",
    "学習データをholdoutするなり、k-fold CVによって精度をきちんと評価すること。"
   ]
  },
  {
   "cell_type": "code",
   "execution_count": 56,
   "id": "1b481e80-e620-4c97-a9e1-5f34f85a84eb",
   "metadata": {},
   "outputs": [],
   "source": [
    "# k-fold CVしてみる\n",
    "from xgboost import cv\n",
    "data_dmatrix = xgb.DMatrix(data=X.to_pandas(), label=y.to_pandas())\n",
    "\n",
    "params = {\"objective\":\"binary:logistic\",'learning_rate': 0.01}\n",
    "                #'max_depth': 5, 'alpha': 5}\n",
    "\n",
    "# xgboostのcvメソッドでk-fold CV可能\n",
    "xgb_cv = cv(dtrain=data_dmatrix, params=params, nfold=5,\n",
    "                     early_stopping_rounds=10, metrics=\"auc\", as_pandas=True)"
   ]
  },
  {
   "cell_type": "code",
   "execution_count": 57,
   "id": "747d84c7-4a8c-44ea-b393-3809bbd333a9",
   "metadata": {},
   "outputs": [
    {
     "data": {
      "text/html": [
       "<div>\n",
       "<style scoped>\n",
       "    .dataframe tbody tr th:only-of-type {\n",
       "        vertical-align: middle;\n",
       "    }\n",
       "\n",
       "    .dataframe tbody tr th {\n",
       "        vertical-align: top;\n",
       "    }\n",
       "\n",
       "    .dataframe thead th {\n",
       "        text-align: right;\n",
       "    }\n",
       "</style>\n",
       "<table border=\"1\" class=\"dataframe\">\n",
       "  <thead>\n",
       "    <tr style=\"text-align: right;\">\n",
       "      <th></th>\n",
       "      <th>train-auc-mean</th>\n",
       "      <th>train-auc-std</th>\n",
       "      <th>test-auc-mean</th>\n",
       "      <th>test-auc-std</th>\n",
       "    </tr>\n",
       "  </thead>\n",
       "  <tbody>\n",
       "    <tr>\n",
       "      <th>0</th>\n",
       "      <td>0.897667</td>\n",
       "      <td>0.005994</td>\n",
       "      <td>0.855386</td>\n",
       "      <td>0.016718</td>\n",
       "    </tr>\n",
       "    <tr>\n",
       "      <th>1</th>\n",
       "      <td>0.897812</td>\n",
       "      <td>0.006277</td>\n",
       "      <td>0.857253</td>\n",
       "      <td>0.015811</td>\n",
       "    </tr>\n",
       "    <tr>\n",
       "      <th>2</th>\n",
       "      <td>0.897724</td>\n",
       "      <td>0.006005</td>\n",
       "      <td>0.867724</td>\n",
       "      <td>0.023506</td>\n",
       "    </tr>\n",
       "    <tr>\n",
       "      <th>3</th>\n",
       "      <td>0.898222</td>\n",
       "      <td>0.006048</td>\n",
       "      <td>0.860781</td>\n",
       "      <td>0.016590</td>\n",
       "    </tr>\n",
       "    <tr>\n",
       "      <th>4</th>\n",
       "      <td>0.900407</td>\n",
       "      <td>0.004793</td>\n",
       "      <td>0.862685</td>\n",
       "      <td>0.017822</td>\n",
       "    </tr>\n",
       "    <tr>\n",
       "      <th>5</th>\n",
       "      <td>0.900705</td>\n",
       "      <td>0.004881</td>\n",
       "      <td>0.862465</td>\n",
       "      <td>0.017588</td>\n",
       "    </tr>\n",
       "    <tr>\n",
       "      <th>6</th>\n",
       "      <td>0.900711</td>\n",
       "      <td>0.004912</td>\n",
       "      <td>0.862915</td>\n",
       "      <td>0.017642</td>\n",
       "    </tr>\n",
       "    <tr>\n",
       "      <th>7</th>\n",
       "      <td>0.900726</td>\n",
       "      <td>0.004879</td>\n",
       "      <td>0.862577</td>\n",
       "      <td>0.017313</td>\n",
       "    </tr>\n",
       "    <tr>\n",
       "      <th>8</th>\n",
       "      <td>0.900708</td>\n",
       "      <td>0.004864</td>\n",
       "      <td>0.862813</td>\n",
       "      <td>0.017399</td>\n",
       "    </tr>\n",
       "    <tr>\n",
       "      <th>9</th>\n",
       "      <td>0.902551</td>\n",
       "      <td>0.002948</td>\n",
       "      <td>0.863767</td>\n",
       "      <td>0.019090</td>\n",
       "    </tr>\n",
       "  </tbody>\n",
       "</table>\n",
       "</div>"
      ],
      "text/plain": [
       "   train-auc-mean  train-auc-std  test-auc-mean  test-auc-std\n",
       "0        0.897667       0.005994       0.855386      0.016718\n",
       "1        0.897812       0.006277       0.857253      0.015811\n",
       "2        0.897724       0.006005       0.867724      0.023506\n",
       "3        0.898222       0.006048       0.860781      0.016590\n",
       "4        0.900407       0.004793       0.862685      0.017822\n",
       "5        0.900705       0.004881       0.862465      0.017588\n",
       "6        0.900711       0.004912       0.862915      0.017642\n",
       "7        0.900726       0.004879       0.862577      0.017313\n",
       "8        0.900708       0.004864       0.862813      0.017399\n",
       "9        0.902551       0.002948       0.863767      0.019090"
      ]
     },
     "execution_count": 57,
     "metadata": {},
     "output_type": "execute_result"
    }
   ],
   "source": [
    "xgb_cv"
   ]
  },
  {
   "attachments": {},
   "cell_type": "markdown",
   "id": "b07a0a2f-8a65-4935-a306-a9382d7b3780",
   "metadata": {},
   "source": [
    "test-auc-meanを見る限り、学習データに過学習気味になっているかもしれない。  "
   ]
  },
  {
   "cell_type": "code",
   "execution_count": 66,
   "id": "7740586f-755d-4132-a125-e56804a0feab",
   "metadata": {},
   "outputs": [
    {
     "data": {
      "image/png": "[encoded data removed]",
      "text/plain": [
       "<Figure size 432x288 with 1 Axes>"
      ]
     },
     "metadata": {
      "needs_background": "light"
     },
     "output_type": "display_data"
    }
   ],
   "source": [
    "# 特徴量の重要度を表示\n",
    "plt.barh(X.columns, model.feature_importances_)\n",
    "plt.tight_layout()"
   ]
  },
  {
   "cell_type": "code",
   "execution_count": 62,
   "id": "4af9d5f5-94a6-4603-b4aa-05a4a088b889",
   "metadata": {
    "tags": []
   },
   "outputs": [
    {
     "name": "stdout",
     "output_type": "stream",
     "text": [
      "[0]\tvalidation_0-auc:0.87365\n",
      "[1]\tvalidation_0-auc:0.87358\n",
      "[2]\tvalidation_0-auc:0.87319\n",
      "[3]\tvalidation_0-auc:0.87358\n",
      "[4]\tvalidation_0-auc:0.87319\n",
      "[5]\tvalidation_0-auc:0.87826\n",
      "[6]\tvalidation_0-auc:0.87826\n",
      "[7]\tvalidation_0-auc:0.87866\n",
      "[8]\tvalidation_0-auc:0.87846\n",
      "[9]\tvalidation_0-auc:0.87846\n",
      "[10]\tvalidation_0-auc:0.88004\n",
      "[11]\tvalidation_0-auc:0.88057\n",
      "[12]\tvalidation_0-auc:0.88024\n",
      "[13]\tvalidation_0-auc:0.88050\n",
      "[14]\tvalidation_0-auc:0.88050\n",
      "[15]\tvalidation_0-auc:0.88050\n",
      "[16]\tvalidation_0-auc:0.88011\n",
      "[17]\tvalidation_0-auc:0.88011\n",
      "[18]\tvalidation_0-auc:0.88037\n",
      "[19]\tvalidation_0-auc:0.88011\n",
      "[20]\tvalidation_0-auc:0.88037\n",
      "[0]\tvalidation_0-auc:0.88102\n",
      "[1]\tvalidation_0-auc:0.88035\n",
      "[2]\tvalidation_0-auc:0.87901\n",
      "[3]\tvalidation_0-auc:0.88035\n",
      "[4]\tvalidation_0-auc:0.87981\n",
      "[5]\tvalidation_0-auc:0.87901\n",
      "[6]\tvalidation_0-auc:0.88035\n",
      "[7]\tvalidation_0-auc:0.87941\n",
      "[8]\tvalidation_0-auc:0.87888\n",
      "[9]\tvalidation_0-auc:0.87848\n",
      "[10]\tvalidation_0-auc:0.87821\n",
      "[0]\tvalidation_0-auc:0.84439\n",
      "[1]\tvalidation_0-auc:0.85234\n",
      "[2]\tvalidation_0-auc:0.85515\n",
      "[3]\tvalidation_0-auc:0.85448\n",
      "[4]\tvalidation_0-auc:0.85448\n",
      "[5]\tvalidation_0-auc:0.85421\n",
      "[6]\tvalidation_0-auc:0.85622\n",
      "[7]\tvalidation_0-auc:0.85622\n",
      "[8]\tvalidation_0-auc:0.85622\n",
      "[9]\tvalidation_0-auc:0.85662\n",
      "[10]\tvalidation_0-auc:0.85689\n",
      "[11]\tvalidation_0-auc:0.85648\n",
      "[12]\tvalidation_0-auc:0.85689\n",
      "[13]\tvalidation_0-auc:0.85648\n",
      "[14]\tvalidation_0-auc:0.85648\n",
      "[15]\tvalidation_0-auc:0.85648\n",
      "[16]\tvalidation_0-auc:0.85675\n",
      "[17]\tvalidation_0-auc:0.85635\n",
      "[18]\tvalidation_0-auc:0.85715\n",
      "[19]\tvalidation_0-auc:0.85715\n",
      "[20]\tvalidation_0-auc:0.85782\n",
      "[21]\tvalidation_0-auc:0.85782\n",
      "[22]\tvalidation_0-auc:0.85541\n",
      "[23]\tvalidation_0-auc:0.85742\n",
      "[24]\tvalidation_0-auc:0.85782\n",
      "[25]\tvalidation_0-auc:0.85582\n",
      "[26]\tvalidation_0-auc:0.86317\n",
      "[27]\tvalidation_0-auc:0.86283\n",
      "[28]\tvalidation_0-auc:0.86324\n",
      "[29]\tvalidation_0-auc:0.86457\n",
      "[30]\tvalidation_0-auc:0.86430\n",
      "[31]\tvalidation_0-auc:0.86417\n",
      "[32]\tvalidation_0-auc:0.86430\n",
      "[33]\tvalidation_0-auc:0.86430\n",
      "[34]\tvalidation_0-auc:0.86404\n",
      "[35]\tvalidation_0-auc:0.86457\n",
      "[36]\tvalidation_0-auc:0.86457\n",
      "[37]\tvalidation_0-auc:0.86457\n",
      "[38]\tvalidation_0-auc:0.86417\n",
      "[0]\tvalidation_0-auc:0.85836\n",
      "[1]\tvalidation_0-auc:0.86504\n",
      "[2]\tvalidation_0-auc:0.86598\n",
      "[3]\tvalidation_0-auc:0.86524\n",
      "[4]\tvalidation_0-auc:0.86511\n",
      "[5]\tvalidation_0-auc:0.86511\n",
      "[6]\tvalidation_0-auc:0.86511\n",
      "[7]\tvalidation_0-auc:0.86524\n",
      "[8]\tvalidation_0-auc:0.86497\n",
      "[9]\tvalidation_0-auc:0.86511\n",
      "[10]\tvalidation_0-auc:0.86511\n",
      "[11]\tvalidation_0-auc:0.86885\n",
      "[12]\tvalidation_0-auc:0.86885\n",
      "[13]\tvalidation_0-auc:0.86885\n",
      "[14]\tvalidation_0-auc:0.86952\n",
      "[15]\tvalidation_0-auc:0.86898\n",
      "[16]\tvalidation_0-auc:0.86952\n",
      "[17]\tvalidation_0-auc:0.86952\n",
      "[18]\tvalidation_0-auc:0.86818\n",
      "[19]\tvalidation_0-auc:0.86818\n",
      "[20]\tvalidation_0-auc:0.86832\n",
      "[21]\tvalidation_0-auc:0.86818\n",
      "[22]\tvalidation_0-auc:0.86818\n",
      "[23]\tvalidation_0-auc:0.86832\n",
      "[24]\tvalidation_0-auc:0.86818\n",
      "[0]\tvalidation_0-auc:0.80142\n",
      "[1]\tvalidation_0-auc:0.80109\n",
      "[2]\tvalidation_0-auc:0.80189\n",
      "[3]\tvalidation_0-auc:0.80109\n",
      "[4]\tvalidation_0-auc:0.80096\n",
      "[5]\tvalidation_0-auc:0.79856\n",
      "[6]\tvalidation_0-auc:0.79856\n",
      "[7]\tvalidation_0-auc:0.79843\n",
      "[8]\tvalidation_0-auc:0.79817\n",
      "[9]\tvalidation_0-auc:0.79803\n",
      "[10]\tvalidation_0-auc:0.79817\n",
      "[11]\tvalidation_0-auc:0.79790\n",
      "[12]\tvalidation_0-auc:0.79936\n"
     ]
    }
   ],
   "source": [
    "# xgbのcvメソッドを使わない場合のk-Fold CV。Staratifiedすることでfoldごとに含まれるクラスの割合を等しくした状態でCVできる。\n",
    "# 各モデルの学習結果を詳細に見たいときはこっちの方が良いかも。\n",
    "kf = StratifiedKFold(n_splits=5, shuffle=True, random_state=0)\n",
    "auc_list = []\n",
    "class_ratio = {}\n",
    "model_cv =  XGBClassifier(early_stopping_rounds=10, learning_rate=0.01, eval_metric='auc')\n",
    "X_pd = X.to_pandas()\n",
    "y_pd = y.to_pandas()\n",
    "\n",
    "for train_index, val_index in kf.split(X_pd ,y_pd):\n",
    "    X_train, X_val = X_pd.iloc[train_index], X_pd.iloc[val_index]\n",
    "    y_train, y_val = y_pd.iloc[train_index], y_pd.iloc[val_index]\n",
    "    \n",
    "    # モデル学習\n",
    "    eval_set = [(X_val, y_val)]\n",
    "    model_cv.fit(X_train, y_train, eval_set=eval_set, verbose=True)\n",
    "    # テストデータに対する予測値算出\n",
    "    y_pred = model_cv.predict_proba(X_val)\n",
    "    \n",
    "    # auc\n",
    "    auc = roc_auc_score(y_val, y_pred[:, 1])\n",
    "    auc_list.append(auc)\n",
    "\n",
    "    # # logloss\n",
    "    # logloss = log_loss(y_test, y_pred)\n",
    "    # logloss_list.append(logloss)"
   ]
  },
  {
   "cell_type": "code",
   "execution_count": 63,
   "id": "a84040fc-e0d0-4d6a-89b6-c0dc0db5ab4c",
   "metadata": {},
   "outputs": [
    {
     "data": {
      "text/plain": [
       "[0.8805665349143611,\n",
       " 0.8810160427807486,\n",
       " 0.8645721925133689,\n",
       " 0.8695187165775401,\n",
       " 0.801888046802287]"
      ]
     },
     "execution_count": 63,
     "metadata": {},
     "output_type": "execute_result"
    }
   ],
   "source": [
    "auc_list"
   ]
  },
  {
   "cell_type": "code",
   "execution_count": 51,
   "id": "546e1eba-d246-44d6-b195-36254eaa16b4",
   "metadata": {},
   "outputs": [
    {
     "data": {
      "text/plain": [
       "0.8595123067176612"
      ]
     },
     "execution_count": 51,
     "metadata": {},
     "output_type": "execute_result"
    }
   ],
   "source": [
    "np.mean(auc_list)"
   ]
  },
  {
   "cell_type": "markdown",
   "id": "9374884e-06c6-436f-a712-b032d3da414a",
   "metadata": {},
   "source": [
    "xgbのcvメソッドの結果と概ね同じ。こっちの方が計算量は多いが、わかりやすいかも。"
   ]
  },
  {
   "attachments": {},
   "cell_type": "markdown",
   "id": "eba0e1ef",
   "metadata": {},
   "source": [
    "XGBoostの中で使われた決定木は.plot_treeで描画できる。  \n",
    "設定がめんどくさそうなので一旦保留。"
   ]
  },
  {
   "cell_type": "code",
   "execution_count": 59,
   "id": "482ff804",
   "metadata": {},
   "outputs": [
    {
     "name": "stdout",
     "output_type": "stream",
     "text": [
      "Collecting graphviz\n",
      "  Downloading graphviz-0.20.1-py3-none-any.whl (47 kB)\n",
      "\u001b[2K     \u001b[90m━━━━━━━━━━━━━━━━━━━━━━━━━━━━━━━━━━━━━━━━\u001b[0m \u001b[32m47.0/47.0 kB\u001b[0m \u001b[31m2.4 MB/s\u001b[0m eta \u001b[36m0:00:00\u001b[0m\n",
      "\u001b[?25hInstalling collected packages: graphviz\n",
      "Successfully installed graphviz-0.20.1\n",
      "\u001b[33mWARNING: Running pip as the 'root' user can result in broken permissions and conflicting behaviour with the system package manager. It is recommended to use a virtual environment instead: https://pip.pypa.io/warnings/venv\u001b[0m\u001b[33m\n",
      "\u001b[0m"
     ]
    }
   ],
   "source": [
    "!pip install graphviz"
   ]
  },
  {
   "cell_type": "code",
   "execution_count": 65,
   "id": "6e86c929-a218-42b2-9224-3781efe0d9e5",
   "metadata": {},
   "outputs": [],
   "source": [
    "# import xgboost\n",
    "# xgboost.plot_tree(model, num_trees=0)"
   ]
  },
  {
   "cell_type": "markdown",
   "id": "67eefa56-e157-4e35-a71e-594ac8e6b16d",
   "metadata": {},
   "source": [
    "## ○LightGBM"
   ]
  },
  {
   "attachments": {},
   "cell_type": "markdown",
   "id": "d8ada069-c180-4f62-85ef-65b0dcec4909",
   "metadata": {},
   "source": [
    "scikit-learnにはないので、pipでインストールする必要あり。  \n",
    "分類の場合はLGBMClassifier、回帰の場合はLGBMRegressorを使う。  \n",
    "基本的に他のScikit-learnのクラスと使い方は同じ。  \n",
    "今回使用するLGBMClassifierでよく使うパラメタは下記。  \n",
    "* n_estimators : ブースティングの回数(=学習する決定木の数)．デフォルトは100．\n",
    "* boosting_type : ブースティングアルゴリズムを以下から選択．デフォルトは 'gbdt'\n",
    "    * 'gbdt' , 従来の Gradient Boosting Decision Tree.\n",
    "    * 'dart' , Dropouts meet Multiple Additive Regression Trees.\n",
    "      * 深層学習のNNでよく使われるDARTをGBDTに応用したもの。最終的な予測に使う弱学習器を減らし、過学習を防ぐ。  \n",
    "    * 'goss' , Gradient-based One-Side Sampling.　  \n",
    "      * 最も早いので今回はこれを使用\n",
    "    * 'rf' , Random Forest.’\n",
    "* learning_rate : shrinkageのη．デフォルトは0.1\n",
    "* max_depth : 決定木の最大の深さ．デフォルトではfull treeまで学習してしまうので，何か値を入れておくとよい。\n",
    "* random_state : 乱数のseed"
   ]
  },
  {
   "cell_type": "code",
   "execution_count": 1,
   "id": "3ce86aec-5c9f-4336-8165-75b62c2a1c0b",
   "metadata": {},
   "outputs": [
    {
     "name": "stdout",
     "output_type": "stream",
     "text": [
      "Collecting lightgbm\n",
      "  Downloading lightgbm-3.3.5-py3-none-manylinux1_x86_64.whl (2.0 MB)\n",
      "\u001b[2K     \u001b[90m━━━━━━━━━━━━━━━━━━━━━━━━━━━━━━━━━━━━━━━━\u001b[0m \u001b[32m2.0/2.0 MB\u001b[0m \u001b[31m6.9 MB/s\u001b[0m eta \u001b[36m0:00:00\u001b[0m00:01\u001b[0m00:01\u001b[0m\n",
      "\u001b[?25hRequirement already satisfied: numpy in /opt/anaconda3/lib/python3.9/site-packages (from lightgbm) (1.21.5)\n",
      "Requirement already satisfied: scikit-learn!=0.22.0 in /opt/anaconda3/lib/python3.9/site-packages (from lightgbm) (1.1.1)\n",
      "Requirement already satisfied: scipy in /opt/anaconda3/lib/python3.9/site-packages (from lightgbm) (1.7.3)\n",
      "Requirement already satisfied: wheel in /opt/anaconda3/lib/python3.9/site-packages (from lightgbm) (0.37.1)\n",
      "Requirement already satisfied: joblib>=1.0.0 in /opt/anaconda3/lib/python3.9/site-packages (from scikit-learn!=0.22.0->lightgbm) (1.1.0)\n",
      "Requirement already satisfied: threadpoolctl>=2.0.0 in /opt/anaconda3/lib/python3.9/site-packages (from scikit-learn!=0.22.0->lightgbm) (2.2.0)\n",
      "Installing collected packages: lightgbm\n",
      "Successfully installed lightgbm-3.3.5\n",
      "\u001b[33mWARNING: Running pip as the 'root' user can result in broken permissions and conflicting behaviour with the system package manager. It is recommended to use a virtual environment instead: https://pip.pypa.io/warnings/venv\u001b[0m\u001b[33m\n",
      "\u001b[0m\n",
      "\u001b[1m[\u001b[0m\u001b[34;49mnotice\u001b[0m\u001b[1;39;49m]\u001b[0m\u001b[39;49m A new release of pip available: \u001b[0m\u001b[31;49m22.2\u001b[0m\u001b[39;49m -> \u001b[0m\u001b[32;49m23.0\u001b[0m\n",
      "\u001b[1m[\u001b[0m\u001b[34;49mnotice\u001b[0m\u001b[1;39;49m]\u001b[0m\u001b[39;49m To update, run: \u001b[0m\u001b[32;49mpip install --upgrade pip\u001b[0m\n",
      "Note: you may need to restart the kernel to use updated packages.\n"
     ]
    }
   ],
   "source": [
    "%pip install lightgbm"
   ]
  },
  {
   "cell_type": "code",
   "execution_count": 77,
   "id": "0b7aa6fd",
   "metadata": {},
   "outputs": [],
   "source": [
    "# polarsでタイタニックデータを読み込み\n",
    "df = pl.from_pandas(sns.load_dataset('titanic'))\n",
    "\n",
    "# 欠損値は落とさなくてよい\n",
    "#df = df.drop_nulls()\n",
    "\n",
    "# 学習データ、目的変数を定義\n",
    "X = df.drop(['survived', 'alive'])\n",
    "y = df.get_column('survived')\n",
    "\n",
    "# カテゴリ変数のカラム名をリスト化\n",
    "category_cols = X.select(pl.col([pl.Utf8, pl.Categorical, pl.Boolean])).columns\n",
    "\n",
    "# ラベルエンコーディング（LabelEncoderではなく、OrdinalEncoderを使う）\n",
    "oe = OrdinalEncoder()\n",
    "# pandasで返ってくるように指定。polarsは指定できない模様\n",
    "oe.set_output(transform='pandas')\n",
    "# カテゴリ変数をエンコーディング。polars.DFはそのまま入れられないのでpandasに変換する。\n",
    "X = X.with_columns( pl.from_pandas(oe.fit_transform(X.select(category_cols).to_pandas())) )\n",
    "\n",
    "# hold-out\n",
    "X_train, X_test, y_train, y_test = train_test_split(X.to_pandas(), y.to_pandas(), test_size=0.3, random_state=0)"
   ]
  },
  {
   "cell_type": "code",
   "execution_count": 78,
   "id": "5f2efaf9-392a-4028-af5d-d65301e8ec01",
   "metadata": {},
   "outputs": [],
   "source": [
    "# モデル生成\n",
    "model_lgb = lgb.LGBMClassifier(boosting_type='goss', max_depth=5, random_state=0)"
   ]
  },
  {
   "cell_type": "markdown",
   "id": "30a6b94d-a72a-4408-aed8-14adbe81efbc",
   "metadata": {},
   "source": [
    ".fit()、すなわち学習の際によく使う引数は下記。  \n",
    "early stoppingをするには callbacks 引数を使う。  \n",
    "lgb.early_stopping() と lgb.log_evaluation() （logloss）をリストにして callbacks 引数に入れてあげればOK。  \n",
    "lgb.log_evaluation() を callbacks に入れることで各イテレーション時に評価指標を出力してくれる。\n",
    "* eval_set : (X, y)のリストで，これを渡すと，ブースティング時の各イテレーションごとにこのデータセットを使って評価してくれる．\n",
    "* callbacks  : 各イテレーションの際に実行するcallback関数のリスト(early stopping時に使用)"
   ]
  },
  {
   "cell_type": "code",
   "execution_count": 80,
   "id": "10ea06d9-b392-4d08-b1b3-e33822f0d74d",
   "metadata": {},
   "outputs": [
    {
     "name": "stdout",
     "output_type": "stream",
     "text": [
      "[1]\tvalid_0's binary_logloss: 0.617633\n",
      "Training until validation scores don't improve for 10 rounds\n",
      "[2]\tvalid_0's binary_logloss: 0.583135\n",
      "[3]\tvalid_0's binary_logloss: 0.554693\n",
      "[4]\tvalid_0's binary_logloss: 0.531959\n",
      "[5]\tvalid_0's binary_logloss: 0.513231\n",
      "[6]\tvalid_0's binary_logloss: 0.496924\n",
      "[7]\tvalid_0's binary_logloss: 0.483944\n",
      "[8]\tvalid_0's binary_logloss: 0.472108\n",
      "[9]\tvalid_0's binary_logloss: 0.462553\n",
      "[10]\tvalid_0's binary_logloss: 0.455246\n",
      "[11]\tvalid_0's binary_logloss: 0.448275\n",
      "[12]\tvalid_0's binary_logloss: 0.443234\n",
      "[13]\tvalid_0's binary_logloss: 0.439964\n",
      "[14]\tvalid_0's binary_logloss: 0.435393\n",
      "[15]\tvalid_0's binary_logloss: 0.432956\n",
      "[16]\tvalid_0's binary_logloss: 0.43035\n",
      "[17]\tvalid_0's binary_logloss: 0.427281\n",
      "[18]\tvalid_0's binary_logloss: 0.425027\n",
      "[19]\tvalid_0's binary_logloss: 0.426526\n",
      "[20]\tvalid_0's binary_logloss: 0.421652\n",
      "[21]\tvalid_0's binary_logloss: 0.419693\n",
      "[22]\tvalid_0's binary_logloss: 0.417307\n",
      "[23]\tvalid_0's binary_logloss: 0.411956\n",
      "[24]\tvalid_0's binary_logloss: 0.410298\n",
      "[25]\tvalid_0's binary_logloss: 0.408766\n",
      "[26]\tvalid_0's binary_logloss: 0.408049\n",
      "[27]\tvalid_0's binary_logloss: 0.407243\n",
      "[28]\tvalid_0's binary_logloss: 0.405359\n",
      "[29]\tvalid_0's binary_logloss: 0.404134\n",
      "[30]\tvalid_0's binary_logloss: 0.404424\n",
      "[31]\tvalid_0's binary_logloss: 0.407757\n",
      "[32]\tvalid_0's binary_logloss: 0.406702\n",
      "[33]\tvalid_0's binary_logloss: 0.406648\n",
      "[34]\tvalid_0's binary_logloss: 0.409286\n",
      "[35]\tvalid_0's binary_logloss: 0.406562\n",
      "[36]\tvalid_0's binary_logloss: 0.404376\n",
      "[37]\tvalid_0's binary_logloss: 0.403627\n",
      "[38]\tvalid_0's binary_logloss: 0.404343\n",
      "[39]\tvalid_0's binary_logloss: 0.405146\n",
      "[40]\tvalid_0's binary_logloss: 0.404056\n",
      "[41]\tvalid_0's binary_logloss: 0.402739\n",
      "[42]\tvalid_0's binary_logloss: 0.403469\n",
      "[43]\tvalid_0's binary_logloss: 0.40289\n",
      "[44]\tvalid_0's binary_logloss: 0.402786\n",
      "[45]\tvalid_0's binary_logloss: 0.400354\n",
      "[46]\tvalid_0's binary_logloss: 0.399463\n",
      "[47]\tvalid_0's binary_logloss: 0.400132\n",
      "[48]\tvalid_0's binary_logloss: 0.401117\n",
      "[49]\tvalid_0's binary_logloss: 0.402699\n",
      "[50]\tvalid_0's binary_logloss: 0.40137\n",
      "[51]\tvalid_0's binary_logloss: 0.401732\n",
      "[52]\tvalid_0's binary_logloss: 0.401479\n",
      "[53]\tvalid_0's binary_logloss: 0.401177\n",
      "[54]\tvalid_0's binary_logloss: 0.400183\n",
      "[55]\tvalid_0's binary_logloss: 0.39872\n",
      "[56]\tvalid_0's binary_logloss: 0.396727\n",
      "[57]\tvalid_0's binary_logloss: 0.398995\n",
      "[58]\tvalid_0's binary_logloss: 0.39736\n",
      "[59]\tvalid_0's binary_logloss: 0.3962\n",
      "[60]\tvalid_0's binary_logloss: 0.395968\n",
      "[61]\tvalid_0's binary_logloss: 0.396754\n",
      "[62]\tvalid_0's binary_logloss: 0.39697\n",
      "[63]\tvalid_0's binary_logloss: 0.396625\n",
      "[64]\tvalid_0's binary_logloss: 0.396713\n",
      "[65]\tvalid_0's binary_logloss: 0.396738\n",
      "[66]\tvalid_0's binary_logloss: 0.397873\n",
      "[67]\tvalid_0's binary_logloss: 0.396406\n",
      "[68]\tvalid_0's binary_logloss: 0.397065\n",
      "[69]\tvalid_0's binary_logloss: 0.399258\n",
      "[70]\tvalid_0's binary_logloss: 0.399671\n",
      "Early stopping, best iteration is:\n",
      "[60]\tvalid_0's binary_logloss: 0.395968\n"
     ]
    },
    {
     "data": {
      "text/html": [
       "<style>#sk-container-id-7 {color: black;background-color: white;}#sk-container-id-7 pre{padding: 0;}#sk-container-id-7 div.sk-toggleable {background-color: white;}#sk-container-id-7 label.sk-toggleable__label {cursor: pointer;display: block;width: 100%;margin-bottom: 0;padding: 0.3em;box-sizing: border-box;text-align: center;}#sk-container-id-7 label.sk-toggleable__label-arrow:before {content: \"▸\";float: left;margin-right: 0.25em;color: #696969;}#sk-container-id-7 label.sk-toggleable__label-arrow:hover:before {color: black;}#sk-container-id-7 div.sk-estimator:hover label.sk-toggleable__label-arrow:before {color: black;}#sk-container-id-7 div.sk-toggleable__content {max-height: 0;max-width: 0;overflow: hidden;text-align: left;background-color: #f0f8ff;}#sk-container-id-7 div.sk-toggleable__content pre {margin: 0.2em;color: black;border-radius: 0.25em;background-color: #f0f8ff;}#sk-container-id-7 input.sk-toggleable__control:checked~div.sk-toggleable__content {max-height: 200px;max-width: 100%;overflow: auto;}#sk-container-id-7 input.sk-toggleable__control:checked~label.sk-toggleable__label-arrow:before {content: \"▾\";}#sk-container-id-7 div.sk-estimator input.sk-toggleable__control:checked~label.sk-toggleable__label {background-color: #d4ebff;}#sk-container-id-7 div.sk-label input.sk-toggleable__control:checked~label.sk-toggleable__label {background-color: #d4ebff;}#sk-container-id-7 input.sk-hidden--visually {border: 0;clip: rect(1px 1px 1px 1px);clip: rect(1px, 1px, 1px, 1px);height: 1px;margin: -1px;overflow: hidden;padding: 0;position: absolute;width: 1px;}#sk-container-id-7 div.sk-estimator {font-family: monospace;background-color: #f0f8ff;border: 1px dotted black;border-radius: 0.25em;box-sizing: border-box;margin-bottom: 0.5em;}#sk-container-id-7 div.sk-estimator:hover {background-color: #d4ebff;}#sk-container-id-7 div.sk-parallel-item::after {content: \"\";width: 100%;border-bottom: 1px solid gray;flex-grow: 1;}#sk-container-id-7 div.sk-label:hover label.sk-toggleable__label {background-color: #d4ebff;}#sk-container-id-7 div.sk-serial::before {content: \"\";position: absolute;border-left: 1px solid gray;box-sizing: border-box;top: 0;bottom: 0;left: 50%;z-index: 0;}#sk-container-id-7 div.sk-serial {display: flex;flex-direction: column;align-items: center;background-color: white;padding-right: 0.2em;padding-left: 0.2em;position: relative;}#sk-container-id-7 div.sk-item {position: relative;z-index: 1;}#sk-container-id-7 div.sk-parallel {display: flex;align-items: stretch;justify-content: center;background-color: white;position: relative;}#sk-container-id-7 div.sk-item::before, #sk-container-id-7 div.sk-parallel-item::before {content: \"\";position: absolute;border-left: 1px solid gray;box-sizing: border-box;top: 0;bottom: 0;left: 50%;z-index: -1;}#sk-container-id-7 div.sk-parallel-item {display: flex;flex-direction: column;z-index: 1;position: relative;background-color: white;}#sk-container-id-7 div.sk-parallel-item:first-child::after {align-self: flex-end;width: 50%;}#sk-container-id-7 div.sk-parallel-item:last-child::after {align-self: flex-start;width: 50%;}#sk-container-id-7 div.sk-parallel-item:only-child::after {width: 0;}#sk-container-id-7 div.sk-dashed-wrapped {border: 1px dashed gray;margin: 0 0.4em 0.5em 0.4em;box-sizing: border-box;padding-bottom: 0.4em;background-color: white;}#sk-container-id-7 div.sk-label label {font-family: monospace;font-weight: bold;display: inline-block;line-height: 1.2em;}#sk-container-id-7 div.sk-label-container {text-align: center;}#sk-container-id-7 div.sk-container {/* jupyter's `normalize.less` sets `[hidden] { display: none; }` but bootstrap.min.css set `[hidden] { display: none !important; }` so we also need the `!important` here to be able to override the default hidden behavior on the sphinx rendered scikit-learn.org. See: https://github.com/scikit-learn/scikit-learn/issues/21755 */display: inline-block !important;position: relative;}#sk-container-id-7 div.sk-text-repr-fallback {display: none;}</style><div id=\"sk-container-id-7\" class=\"sk-top-container\"><div class=\"sk-text-repr-fallback\"><pre>LGBMClassifier(boosting_type=&#x27;goss&#x27;, max_depth=5, random_state=0)</pre><b>In a Jupyter environment, please rerun this cell to show the HTML representation or trust the notebook. <br />On GitHub, the HTML representation is unable to render, please try loading this page with nbviewer.org.</b></div><div class=\"sk-container\" hidden><div class=\"sk-item\"><div class=\"sk-estimator sk-toggleable\"><input class=\"sk-toggleable__control sk-hidden--visually\" id=\"sk-estimator-id-7\" type=\"checkbox\" checked><label for=\"sk-estimator-id-7\" class=\"sk-toggleable__label sk-toggleable__label-arrow\">LGBMClassifier</label><div class=\"sk-toggleable__content\"><pre>LGBMClassifier(boosting_type=&#x27;goss&#x27;, max_depth=5, random_state=0)</pre></div></div></div></div></div>"
      ],
      "text/plain": [
       "LGBMClassifier(boosting_type='goss', max_depth=5, random_state=0)"
      ]
     },
     "execution_count": 80,
     "metadata": {},
     "output_type": "execute_result"
    }
   ],
   "source": [
    "# 学習。ここではテストデータを検証データとして評価指標にする。（本当はやっちゃだめ）\n",
    "eval_set = [(X_test, y_test)]\n",
    "callbacks = [lgb.early_stopping(stopping_rounds=10), lgb.log_evaluation()]\n",
    "model_lgb.fit(X_train, y_train, eval_set=eval_set, callbacks=callbacks)"
   ]
  },
  {
   "attachments": {},
   "cell_type": "markdown",
   "id": "b569839f",
   "metadata": {},
   "source": [
    "60回目でloglossが最小になったが、early_stopping=10なので、  \n",
    "最低でもそこから10回は続いている。  \n",
    "(要はあるイテレーションの結果から10回下がらなければ学習を打ち切っている。)"
   ]
  },
  {
   "cell_type": "code",
   "execution_count": 82,
   "id": "e9edb679-2682-420d-8d6a-c01ae4e78b15",
   "metadata": {},
   "outputs": [
    {
     "data": {
      "text/plain": [
       "(60,\n",
       " defaultdict(collections.OrderedDict,\n",
       "             {'valid_0': OrderedDict([('binary_logloss',\n",
       "                            0.39596839431963937)])}))"
      ]
     },
     "execution_count": 82,
     "metadata": {},
     "output_type": "execute_result"
    }
   ],
   "source": [
    "# ベストの結果を表示\n",
    "model_lgb.best_iteration_, model_lgb.best_score_"
   ]
  },
  {
   "cell_type": "code",
   "execution_count": 86,
   "id": "f22569e1-29a5-4e1e-9a5a-0deca225938f",
   "metadata": {},
   "outputs": [
    {
     "data": {
      "text/plain": [
       "array([[0.76276568, 0.23723432],\n",
       "       [0.92936949, 0.07063051],\n",
       "       [0.90395982, 0.09604018],\n",
       "       [0.04179378, 0.95820622],\n",
       "       [0.43211735, 0.56788265],\n",
       "       [0.7641032 , 0.2358968 ],\n",
       "       [0.06449641, 0.93550359],\n",
       "       [0.06500437, 0.93499563],\n",
       "       [0.51365981, 0.48634019],\n",
       "       [0.22319417, 0.77680583]])"
      ]
     },
     "execution_count": 86,
     "metadata": {},
     "output_type": "execute_result"
    }
   ],
   "source": [
    "y_pred_proba = model_lgb.predict_proba(X_test)\n",
    "y_pred_proba[:10]"
   ]
  },
  {
   "cell_type": "code",
   "execution_count": 84,
   "id": "fc3bf409",
   "metadata": {},
   "outputs": [
    {
     "data": {
      "text/plain": [
       "0.39596839431963937"
      ]
     },
     "execution_count": 84,
     "metadata": {},
     "output_type": "execute_result"
    }
   ],
   "source": [
    "log_loss(y_test, y_pred_proba)"
   ]
  },
  {
   "cell_type": "code",
   "execution_count": 87,
   "id": "1ff5011c",
   "metadata": {},
   "outputs": [
    {
     "data": {
      "text/plain": [
       "0.8816964285714287"
      ]
     },
     "execution_count": 87,
     "metadata": {},
     "output_type": "execute_result"
    }
   ],
   "source": [
    "roc_auc_score(y_test, y_pred_proba[:, 1])"
   ]
  },
  {
   "attachments": {},
   "cell_type": "markdown",
   "id": "faedadfc",
   "metadata": {},
   "source": [
    "ほぼ同じ条件なので、AUCスコア的にはXGBoostよりもちょっと精度良さそう。"
   ]
  },
  {
   "cell_type": "code",
   "execution_count": 89,
   "id": "f0cd8dfc-017d-4c63-b5f5-416015c07101",
   "metadata": {},
   "outputs": [
    {
     "data": {
      "text/plain": [
       "0.8208955223880597"
      ]
     },
     "execution_count": 89,
     "metadata": {},
     "output_type": "execute_result"
    }
   ],
   "source": [
    "y_pred = model_lgb.predict(X_test)\n",
    "accuracy_score(y_test, y_pred)"
   ]
  },
  {
   "cell_type": "code",
   "execution_count": 26,
   "id": "007b1c64-3547-41aa-9167-d4e2d2ba6011",
   "metadata": {},
   "outputs": [
    {
     "data": {
      "text/plain": [
       "<AxesSubplot:title={'center':'Feature importance'}, xlabel='Feature importance', ylabel='Features'>"
      ]
     },
     "execution_count": 26,
     "metadata": {},
     "output_type": "execute_result"
    },
    {
     "data": {
      "image/png": "[encoded data removed]",
      "text/plain": [
       "<Figure size 432x288 with 1 Axes>"
      ]
     },
     "metadata": {
      "needs_background": "light"
     },
     "output_type": "display_data"
    }
   ],
   "source": [
    "# 特徴量の重要度を確認\n",
    "lgb.plot_importance(model)"
   ]
  },
  {
   "cell_type": "markdown",
   "id": "99d315d1-da8a-40eb-8c9a-e427a1005e21",
   "metadata": {},
   "source": [
    "デフォルトの状態ではモデルでその特徴量が使用された回数を重要度として出力してしまう。  \n",
    "importance_type='gain'とすることで、特徴量の重要度を'gain'（損失関数の減少への寄与）で確認することができる。  \n",
    "こちらの方が重要度の指標としては適切かもしれない。"
   ]
  },
  {
   "cell_type": "code",
   "execution_count": 31,
   "id": "99ab561a-2c8a-4b8b-b429-6ceeaa890c49",
   "metadata": {},
   "outputs": [
    {
     "data": {
      "text/plain": [
       "<AxesSubplot:title={'center':'Feature importance'}, xlabel='Feature importance', ylabel='Features'>"
      ]
     },
     "execution_count": 31,
     "metadata": {},
     "output_type": "execute_result"
    },
    {
     "data": {
      "image/png": "[encoded data removed]",
      "text/plain": [
       "<Figure size 432x288 with 1 Axes>"
      ]
     },
     "metadata": {
      "needs_background": "light"
     },
     "output_type": "display_data"
    }
   ],
   "source": [
    "lgb.plot_importance(model, importance_type='gain')"
   ]
  },
  {
   "cell_type": "markdown",
   "id": "44f346e3-ed26-4a52-8370-b2eada187c94",
   "metadata": {},
   "source": [
    "1位の特徴量に関してはxgboostと同様になった。"
   ]
  },
  {
   "cell_type": "code",
   "execution_count": 90,
   "id": "99531780",
   "metadata": {},
   "outputs": [
    {
     "data": {
      "text/plain": [
       "<AxesSubplot:title={'center':'Metric during training'}, xlabel='Iterations', ylabel='binary_logloss'>"
      ]
     },
     "execution_count": 90,
     "metadata": {},
     "output_type": "execute_result"
    },
    {
     "data": {
      "image/png": "[encoded data removed]",
      "text/plain": [
       "<Figure size 432x288 with 1 Axes>"
      ]
     },
     "metadata": {
      "needs_background": "light"
     },
     "output_type": "display_data"
    }
   ],
   "source": [
    "# 学習曲線を描画\n",
    "lgb.plot_metric(model_lgb)"
   ]
  },
  {
   "attachments": {},
   "cell_type": "markdown",
   "id": "fd5b941c",
   "metadata": {},
   "source": [
    "## ○ CatBoost"
   ]
  },
  {
   "cell_type": "code",
   "execution_count": 91,
   "id": "33872e03",
   "metadata": {},
   "outputs": [
    {
     "name": "stdout",
     "output_type": "stream",
     "text": [
      "Collecting catboost\n",
      "  Downloading catboost-1.1.1-cp39-none-manylinux1_x86_64.whl (76.6 MB)\n",
      "\u001b[2K     \u001b[90m━━━━━━━━━━━━━━━━━━━━━━━━━━━━━━━━━━━━━━━━\u001b[0m \u001b[32m76.6/76.6 MB\u001b[0m \u001b[31m4.1 MB/s\u001b[0m eta \u001b[36m0:00:00\u001b[0m00:01\u001b[0m00:01\u001b[0m\n",
      "\u001b[?25hRequirement already satisfied: numpy>=1.16.0 in /opt/anaconda3/lib/python3.9/site-packages (from catboost) (1.21.5)\n",
      "Requirement already satisfied: matplotlib in /opt/anaconda3/lib/python3.9/site-packages (from catboost) (3.5.1)\n",
      "Requirement already satisfied: scipy in /opt/anaconda3/lib/python3.9/site-packages (from catboost) (1.7.3)\n",
      "Requirement already satisfied: graphviz in /opt/anaconda3/lib/python3.9/site-packages (from catboost) (0.20.1)\n",
      "Requirement already satisfied: six in /opt/anaconda3/lib/python3.9/site-packages (from catboost) (1.16.0)\n",
      "Requirement already satisfied: pandas>=0.24.0 in /opt/anaconda3/lib/python3.9/site-packages (from catboost) (1.4.2)\n",
      "Requirement already satisfied: plotly in /opt/anaconda3/lib/python3.9/site-packages (from catboost) (5.6.0)\n",
      "Requirement already satisfied: python-dateutil>=2.8.1 in /opt/anaconda3/lib/python3.9/site-packages (from pandas>=0.24.0->catboost) (2.8.2)\n",
      "Requirement already satisfied: pytz>=2020.1 in /opt/anaconda3/lib/python3.9/site-packages (from pandas>=0.24.0->catboost) (2021.3)\n",
      "Requirement already satisfied: fonttools>=4.22.0 in /opt/anaconda3/lib/python3.9/site-packages (from matplotlib->catboost) (4.25.0)\n",
      "Requirement already satisfied: packaging>=20.0 in /opt/anaconda3/lib/python3.9/site-packages (from matplotlib->catboost) (21.3)\n",
      "Requirement already satisfied: pyparsing>=2.2.1 in /opt/anaconda3/lib/python3.9/site-packages (from matplotlib->catboost) (3.0.4)\n",
      "Requirement already satisfied: pillow>=6.2.0 in /opt/anaconda3/lib/python3.9/site-packages (from matplotlib->catboost) (9.0.1)\n",
      "Requirement already satisfied: cycler>=0.10 in /opt/anaconda3/lib/python3.9/site-packages (from matplotlib->catboost) (0.11.0)\n",
      "Requirement already satisfied: kiwisolver>=1.0.1 in /opt/anaconda3/lib/python3.9/site-packages (from matplotlib->catboost) (1.3.2)\n",
      "Requirement already satisfied: tenacity>=6.2.0 in /opt/anaconda3/lib/python3.9/site-packages (from plotly->catboost) (8.0.1)\n",
      "Installing collected packages: catboost\n",
      "Successfully installed catboost-1.1.1\n",
      "\u001b[33mWARNING: Running pip as the 'root' user can result in broken permissions and conflicting behaviour with the system package manager. It is recommended to use a virtual environment instead: https://pip.pypa.io/warnings/venv\u001b[0m\u001b[33m\n",
      "\u001b[0m"
     ]
    }
   ],
   "source": [
    "!pip install catboost"
   ]
  },
  {
   "cell_type": "code",
   "execution_count": 98,
   "id": "03f902ee",
   "metadata": {},
   "outputs": [],
   "source": [
    "# polarsでタイタニックデータを読み込み\n",
    "df = pl.from_pandas(sns.load_dataset('titanic'))\n",
    "\n",
    "# CatBoostでは欠損値は落とすか埋める必要がある。\n",
    "df = df.drop_nulls()\n",
    "\n",
    "# 学習データ、目的変数を定義\n",
    "X = df.drop(['survived', 'alive'])\n",
    "y = df.get_column('survived')\n",
    "\n",
    "# カテゴリ変数のカラム名をリスト化\n",
    "category_cols = X.select(pl.col([pl.Utf8, pl.Categorical, pl.Boolean])).columns\n",
    "\n",
    "# CatBoostではエンコーディングする必要なし\n",
    "# ラベルエンコーディング（LabelEncoderではなく、OrdinalEncoderを使う）\n",
    "# oe = OrdinalEncoder()\n",
    "# # pandasで返ってくるように指定。polarsは指定できない模様\n",
    "# oe.set_output(transform='pandas')\n",
    "# # カテゴリ変数をエンコーディング。polars.DFはそのまま入れられないのでpandasに変換する。\n",
    "# X = X.with_columns( pl.from_pandas(oe.fit_transform(X.select(category_cols).to_pandas())) )\n",
    "\n",
    "# hold-out\n",
    "X_train, X_test, y_train, y_test = train_test_split(X.to_pandas(), y.to_pandas(), test_size=0.3, random_state=0)"
   ]
  },
  {
   "attachments": {},
   "cell_type": "markdown",
   "id": "9748d9b3",
   "metadata": {},
   "source": [
    "CatBoostではカテゴリ変数をエンコーディングする必要はないが、  \n",
    "欠損値はdropするか埋める必要がある。"
   ]
  },
  {
   "cell_type": "code",
   "execution_count": 99,
   "id": "b3c6d04b",
   "metadata": {},
   "outputs": [
    {
     "data": {
      "text/plain": [
       "['sex',\n",
       " 'embarked',\n",
       " 'class',\n",
       " 'who',\n",
       " 'adult_male',\n",
       " 'deck',\n",
       " 'embark_town',\n",
       " 'alone']"
      ]
     },
     "execution_count": 99,
     "metadata": {},
     "output_type": "execute_result"
    }
   ],
   "source": [
    "category_cols"
   ]
  },
  {
   "cell_type": "code",
   "execution_count": 107,
   "id": "1dc40d38",
   "metadata": {},
   "outputs": [
    {
     "name": "stdout",
     "output_type": "stream",
     "text": [
      "0:\tlearn: 0.6885366\ttest: 0.6868442\tbest: 0.6868442 (0)\ttotal: 2.13ms\tremaining: 2.12s\n",
      "1:\tlearn: 0.6814490\ttest: 0.6793775\tbest: 0.6793775 (1)\ttotal: 5.97ms\tremaining: 2.98s\n",
      "2:\tlearn: 0.6760508\ttest: 0.6726860\tbest: 0.6726860 (2)\ttotal: 12.4ms\tremaining: 4.13s\n",
      "3:\tlearn: 0.6712676\ttest: 0.6671826\tbest: 0.6671826 (3)\ttotal: 16.4ms\tremaining: 4.08s\n",
      "4:\tlearn: 0.6653107\ttest: 0.6593995\tbest: 0.6593995 (4)\ttotal: 20.1ms\tremaining: 4s\n",
      "5:\tlearn: 0.6598695\ttest: 0.6518437\tbest: 0.6518437 (5)\ttotal: 23.1ms\tremaining: 3.83s\n",
      "6:\tlearn: 0.6558456\ttest: 0.6467404\tbest: 0.6467404 (6)\ttotal: 27.6ms\tremaining: 3.92s\n",
      "7:\tlearn: 0.6515199\ttest: 0.6413944\tbest: 0.6413944 (7)\ttotal: 32ms\tremaining: 3.97s\n",
      "8:\tlearn: 0.6471426\ttest: 0.6356173\tbest: 0.6356173 (8)\ttotal: 36.2ms\tremaining: 3.99s\n",
      "9:\tlearn: 0.6431772\ttest: 0.6310513\tbest: 0.6310513 (9)\ttotal: 41ms\tremaining: 4.06s\n",
      "10:\tlearn: 0.6392733\ttest: 0.6260433\tbest: 0.6260433 (10)\ttotal: 43.8ms\tremaining: 3.94s\n",
      "11:\tlearn: 0.6349835\ttest: 0.6211657\tbest: 0.6211657 (11)\ttotal: 46.6ms\tremaining: 3.83s\n",
      "12:\tlearn: 0.6297353\ttest: 0.6142893\tbest: 0.6142893 (12)\ttotal: 53.9ms\tremaining: 4.09s\n",
      "13:\tlearn: 0.6257014\ttest: 0.6089575\tbest: 0.6089575 (13)\ttotal: 58.8ms\tremaining: 4.14s\n",
      "14:\tlearn: 0.6228797\ttest: 0.6047456\tbest: 0.6047456 (14)\ttotal: 61.2ms\tremaining: 4.01s\n",
      "15:\tlearn: 0.6192839\ttest: 0.5997640\tbest: 0.5997640 (15)\ttotal: 65.3ms\tremaining: 4.01s\n",
      "16:\tlearn: 0.6159293\ttest: 0.5952244\tbest: 0.5952244 (16)\ttotal: 67.6ms\tremaining: 3.91s\n",
      "17:\tlearn: 0.6123541\ttest: 0.5915089\tbest: 0.5915089 (17)\ttotal: 74.5ms\tremaining: 4.07s\n",
      "18:\tlearn: 0.6087682\ttest: 0.5869566\tbest: 0.5869566 (18)\ttotal: 80ms\tremaining: 4.13s\n",
      "19:\tlearn: 0.6059512\ttest: 0.5828794\tbest: 0.5828794 (19)\ttotal: 82.3ms\tremaining: 4.03s\n",
      "20:\tlearn: 0.6036528\ttest: 0.5793081\tbest: 0.5793081 (20)\ttotal: 84.3ms\tremaining: 3.93s\n",
      "21:\tlearn: 0.6003103\ttest: 0.5749759\tbest: 0.5749759 (21)\ttotal: 90ms\tremaining: 4s\n",
      "22:\tlearn: 0.5964854\ttest: 0.5704424\tbest: 0.5704424 (22)\ttotal: 93.1ms\tremaining: 3.95s\n",
      "23:\tlearn: 0.5934784\ttest: 0.5674007\tbest: 0.5674007 (23)\ttotal: 97.1ms\tremaining: 3.95s\n",
      "24:\tlearn: 0.5905832\ttest: 0.5630047\tbest: 0.5630047 (24)\ttotal: 101ms\tremaining: 3.92s\n",
      "25:\tlearn: 0.5877747\ttest: 0.5590216\tbest: 0.5590216 (25)\ttotal: 104ms\tremaining: 3.88s\n",
      "26:\tlearn: 0.5846401\ttest: 0.5552102\tbest: 0.5552102 (26)\ttotal: 108ms\tremaining: 3.9s\n",
      "27:\tlearn: 0.5817498\ttest: 0.5512282\tbest: 0.5512282 (27)\ttotal: 111ms\tremaining: 3.85s\n",
      "28:\tlearn: 0.5786049\ttest: 0.5475847\tbest: 0.5475847 (28)\ttotal: 118ms\tremaining: 3.96s\n",
      "29:\tlearn: 0.5754786\ttest: 0.5445350\tbest: 0.5445350 (29)\ttotal: 122ms\tremaining: 3.95s\n",
      "30:\tlearn: 0.5716935\ttest: 0.5420616\tbest: 0.5420616 (30)\ttotal: 126ms\tremaining: 3.94s\n",
      "31:\tlearn: 0.5687822\ttest: 0.5388880\tbest: 0.5388880 (31)\ttotal: 130ms\tremaining: 3.93s\n",
      "32:\tlearn: 0.5666806\ttest: 0.5357234\tbest: 0.5357234 (32)\ttotal: 132ms\tremaining: 3.85s\n",
      "33:\tlearn: 0.5645686\ttest: 0.5327712\tbest: 0.5327712 (33)\ttotal: 137ms\tremaining: 3.89s\n",
      "34:\tlearn: 0.5617470\ttest: 0.5298380\tbest: 0.5298380 (34)\ttotal: 140ms\tremaining: 3.86s\n",
      "35:\tlearn: 0.5595996\ttest: 0.5267474\tbest: 0.5267474 (35)\ttotal: 142ms\tremaining: 3.8s\n",
      "36:\tlearn: 0.5577272\ttest: 0.5239698\tbest: 0.5239698 (36)\ttotal: 144ms\tremaining: 3.75s\n",
      "37:\tlearn: 0.5560825\ttest: 0.5214636\tbest: 0.5214636 (37)\ttotal: 146ms\tremaining: 3.69s\n",
      "38:\tlearn: 0.5538208\ttest: 0.5182435\tbest: 0.5182435 (38)\ttotal: 150ms\tremaining: 3.69s\n",
      "39:\tlearn: 0.5512437\ttest: 0.5160989\tbest: 0.5160989 (39)\ttotal: 154ms\tremaining: 3.69s\n",
      "40:\tlearn: 0.5483144\ttest: 0.5130560\tbest: 0.5130560 (40)\ttotal: 158ms\tremaining: 3.69s\n",
      "41:\tlearn: 0.5464379\ttest: 0.5103015\tbest: 0.5103015 (41)\ttotal: 160ms\tremaining: 3.64s\n",
      "42:\tlearn: 0.5445973\ttest: 0.5077488\tbest: 0.5077488 (42)\ttotal: 162ms\tremaining: 3.6s\n",
      "43:\tlearn: 0.5427704\ttest: 0.5048449\tbest: 0.5048449 (43)\ttotal: 166ms\tremaining: 3.62s\n",
      "44:\tlearn: 0.5408068\ttest: 0.5021535\tbest: 0.5021535 (44)\ttotal: 169ms\tremaining: 3.58s\n",
      "45:\tlearn: 0.5391001\ttest: 0.4996127\tbest: 0.4996127 (45)\ttotal: 170ms\tremaining: 3.53s\n",
      "46:\tlearn: 0.5374345\ttest: 0.4971224\tbest: 0.4971224 (46)\ttotal: 172ms\tremaining: 3.49s\n",
      "47:\tlearn: 0.5350104\ttest: 0.4945193\tbest: 0.4945193 (47)\ttotal: 175ms\tremaining: 3.47s\n",
      "48:\tlearn: 0.5330865\ttest: 0.4925413\tbest: 0.4925413 (48)\ttotal: 178ms\tremaining: 3.45s\n",
      "49:\tlearn: 0.5301812\ttest: 0.4890776\tbest: 0.4890776 (49)\ttotal: 183ms\tremaining: 3.47s\n",
      "50:\tlearn: 0.5278030\ttest: 0.4862014\tbest: 0.4862014 (50)\ttotal: 185ms\tremaining: 3.44s\n",
      "51:\tlearn: 0.5259231\ttest: 0.4837792\tbest: 0.4837792 (51)\ttotal: 187ms\tremaining: 3.42s\n",
      "52:\tlearn: 0.5241634\ttest: 0.4816042\tbest: 0.4816042 (52)\ttotal: 191ms\tremaining: 3.41s\n",
      "53:\tlearn: 0.5224510\ttest: 0.4796162\tbest: 0.4796162 (53)\ttotal: 194ms\tremaining: 3.4s\n",
      "54:\tlearn: 0.5197941\ttest: 0.4761447\tbest: 0.4761447 (54)\ttotal: 199ms\tremaining: 3.42s\n",
      "55:\tlearn: 0.5181662\ttest: 0.4739650\tbest: 0.4739650 (55)\ttotal: 204ms\tremaining: 3.43s\n",
      "56:\tlearn: 0.5173871\ttest: 0.4733326\tbest: 0.4733326 (56)\ttotal: 206ms\tremaining: 3.41s\n",
      "57:\tlearn: 0.5155455\ttest: 0.4712545\tbest: 0.4712545 (57)\ttotal: 212ms\tremaining: 3.44s\n",
      "58:\tlearn: 0.5142110\ttest: 0.4693126\tbest: 0.4693126 (58)\ttotal: 216ms\tremaining: 3.44s\n",
      "59:\tlearn: 0.5133170\ttest: 0.4691935\tbest: 0.4691935 (59)\ttotal: 221ms\tremaining: 3.46s\n",
      "60:\tlearn: 0.5113435\ttest: 0.4669860\tbest: 0.4669860 (60)\ttotal: 224ms\tremaining: 3.44s\n",
      "61:\tlearn: 0.5102043\ttest: 0.4662848\tbest: 0.4662848 (61)\ttotal: 230ms\tremaining: 3.48s\n",
      "62:\tlearn: 0.5081524\ttest: 0.4633175\tbest: 0.4633175 (62)\ttotal: 233ms\tremaining: 3.46s\n",
      "63:\tlearn: 0.5066716\ttest: 0.4617454\tbest: 0.4617454 (63)\ttotal: 238ms\tremaining: 3.48s\n",
      "64:\tlearn: 0.5052622\ttest: 0.4598564\tbest: 0.4598564 (64)\ttotal: 246ms\tremaining: 3.54s\n",
      "65:\tlearn: 0.5041596\ttest: 0.4582513\tbest: 0.4582513 (65)\ttotal: 252ms\tremaining: 3.57s\n",
      "66:\tlearn: 0.5031970\ttest: 0.4570071\tbest: 0.4570071 (66)\ttotal: 262ms\tremaining: 3.65s\n",
      "67:\tlearn: 0.5018423\ttest: 0.4551051\tbest: 0.4551051 (67)\ttotal: 265ms\tremaining: 3.63s\n",
      "68:\tlearn: 0.5007598\ttest: 0.4534995\tbest: 0.4534995 (68)\ttotal: 268ms\tremaining: 3.62s\n",
      "69:\tlearn: 0.4987456\ttest: 0.4526383\tbest: 0.4526383 (69)\ttotal: 272ms\tremaining: 3.61s\n",
      "70:\tlearn: 0.4966159\ttest: 0.4499937\tbest: 0.4499937 (70)\ttotal: 277ms\tremaining: 3.63s\n",
      "71:\tlearn: 0.4951924\ttest: 0.4479407\tbest: 0.4479407 (71)\ttotal: 282ms\tremaining: 3.63s\n",
      "72:\tlearn: 0.4934289\ttest: 0.4464459\tbest: 0.4464459 (72)\ttotal: 285ms\tremaining: 3.62s\n",
      "73:\tlearn: 0.4914585\ttest: 0.4451893\tbest: 0.4451893 (73)\ttotal: 290ms\tremaining: 3.63s\n",
      "74:\tlearn: 0.4891505\ttest: 0.4439476\tbest: 0.4439476 (74)\ttotal: 295ms\tremaining: 3.64s\n",
      "75:\tlearn: 0.4876853\ttest: 0.4423504\tbest: 0.4423504 (75)\ttotal: 299ms\tremaining: 3.64s\n",
      "76:\tlearn: 0.4866735\ttest: 0.4410485\tbest: 0.4410485 (76)\ttotal: 303ms\tremaining: 3.63s\n",
      "77:\tlearn: 0.4846050\ttest: 0.4398621\tbest: 0.4398621 (77)\ttotal: 307ms\tremaining: 3.63s\n",
      "78:\tlearn: 0.4834460\ttest: 0.4380912\tbest: 0.4380912 (78)\ttotal: 309ms\tremaining: 3.61s\n",
      "79:\tlearn: 0.4810501\ttest: 0.4364085\tbest: 0.4364085 (79)\ttotal: 312ms\tremaining: 3.59s\n",
      "80:\tlearn: 0.4795620\ttest: 0.4349185\tbest: 0.4349185 (80)\ttotal: 316ms\tremaining: 3.58s\n",
      "81:\tlearn: 0.4778342\ttest: 0.4330924\tbest: 0.4330924 (81)\ttotal: 320ms\tremaining: 3.59s\n",
      "82:\tlearn: 0.4768984\ttest: 0.4322483\tbest: 0.4322483 (82)\ttotal: 325ms\tremaining: 3.59s\n",
      "83:\tlearn: 0.4756576\ttest: 0.4312261\tbest: 0.4312261 (83)\ttotal: 328ms\tremaining: 3.57s\n",
      "84:\tlearn: 0.4750193\ttest: 0.4300254\tbest: 0.4300254 (84)\ttotal: 329ms\tremaining: 3.54s\n",
      "85:\tlearn: 0.4728593\ttest: 0.4289587\tbest: 0.4289587 (85)\ttotal: 332ms\tremaining: 3.53s\n",
      "86:\tlearn: 0.4713270\ttest: 0.4276228\tbest: 0.4276228 (86)\ttotal: 336ms\tremaining: 3.53s\n",
      "87:\tlearn: 0.4702003\ttest: 0.4266927\tbest: 0.4266927 (87)\ttotal: 340ms\tremaining: 3.52s\n",
      "88:\tlearn: 0.4701247\ttest: 0.4265627\tbest: 0.4265627 (88)\ttotal: 341ms\tremaining: 3.49s\n",
      "89:\tlearn: 0.4687561\ttest: 0.4258227\tbest: 0.4258227 (89)\ttotal: 345ms\tremaining: 3.49s\n",
      "90:\tlearn: 0.4665683\ttest: 0.4237702\tbest: 0.4237702 (90)\ttotal: 349ms\tremaining: 3.48s\n",
      "91:\tlearn: 0.4654816\ttest: 0.4229496\tbest: 0.4229496 (91)\ttotal: 353ms\tremaining: 3.49s\n",
      "92:\tlearn: 0.4647316\ttest: 0.4218051\tbest: 0.4218051 (92)\ttotal: 357ms\tremaining: 3.48s\n",
      "93:\tlearn: 0.4638832\ttest: 0.4208226\tbest: 0.4208226 (93)\ttotal: 360ms\tremaining: 3.47s\n",
      "94:\tlearn: 0.4620718\ttest: 0.4190979\tbest: 0.4190979 (94)\ttotal: 363ms\tremaining: 3.46s\n",
      "95:\tlearn: 0.4609688\ttest: 0.4180640\tbest: 0.4180640 (95)\ttotal: 368ms\tremaining: 3.46s\n",
      "96:\tlearn: 0.4598000\ttest: 0.4174645\tbest: 0.4174645 (96)\ttotal: 371ms\tremaining: 3.46s\n",
      "97:\tlearn: 0.4577815\ttest: 0.4160873\tbest: 0.4160873 (97)\ttotal: 375ms\tremaining: 3.45s\n",
      "98:\tlearn: 0.4566318\ttest: 0.4151728\tbest: 0.4151728 (98)\ttotal: 378ms\tremaining: 3.44s\n",
      "99:\tlearn: 0.4545690\ttest: 0.4132234\tbest: 0.4132234 (99)\ttotal: 384ms\tremaining: 3.45s\n",
      "100:\tlearn: 0.4539922\ttest: 0.4122602\tbest: 0.4122602 (100)\ttotal: 388ms\tremaining: 3.46s\n",
      "101:\tlearn: 0.4529063\ttest: 0.4113384\tbest: 0.4113384 (101)\ttotal: 392ms\tremaining: 3.46s\n",
      "102:\tlearn: 0.4520020\ttest: 0.4111436\tbest: 0.4111436 (102)\ttotal: 397ms\tremaining: 3.45s\n",
      "103:\tlearn: 0.4508769\ttest: 0.4099632\tbest: 0.4099632 (103)\ttotal: 403ms\tremaining: 3.47s\n",
      "104:\tlearn: 0.4493931\ttest: 0.4082664\tbest: 0.4082664 (104)\ttotal: 407ms\tremaining: 3.46s\n",
      "105:\tlearn: 0.4486184\ttest: 0.4075025\tbest: 0.4075025 (105)\ttotal: 412ms\tremaining: 3.48s\n",
      "106:\tlearn: 0.4475918\ttest: 0.4066528\tbest: 0.4066528 (106)\ttotal: 425ms\tremaining: 3.55s\n",
      "107:\tlearn: 0.4471947\ttest: 0.4062006\tbest: 0.4062006 (107)\ttotal: 428ms\tremaining: 3.53s\n",
      "108:\tlearn: 0.4462182\ttest: 0.4054002\tbest: 0.4054002 (108)\ttotal: 433ms\tremaining: 3.54s\n",
      "109:\tlearn: 0.4450630\ttest: 0.4044417\tbest: 0.4044417 (109)\ttotal: 451ms\tremaining: 3.65s\n",
      "110:\tlearn: 0.4435597\ttest: 0.4036472\tbest: 0.4036472 (110)\ttotal: 460ms\tremaining: 3.69s\n",
      "111:\tlearn: 0.4426948\ttest: 0.4026546\tbest: 0.4026546 (111)\ttotal: 465ms\tremaining: 3.68s\n",
      "112:\tlearn: 0.4411615\ttest: 0.4017203\tbest: 0.4017203 (112)\ttotal: 470ms\tremaining: 3.69s\n",
      "113:\tlearn: 0.4401612\ttest: 0.4011233\tbest: 0.4011233 (113)\ttotal: 473ms\tremaining: 3.68s\n",
      "114:\tlearn: 0.4383373\ttest: 0.4006388\tbest: 0.4006388 (114)\ttotal: 478ms\tremaining: 3.67s\n",
      "115:\tlearn: 0.4373746\ttest: 0.4004154\tbest: 0.4004154 (115)\ttotal: 483ms\tremaining: 3.68s\n",
      "116:\tlearn: 0.4355159\ttest: 0.3999646\tbest: 0.3999646 (116)\ttotal: 486ms\tremaining: 3.67s\n",
      "117:\tlearn: 0.4349353\ttest: 0.4002055\tbest: 0.3999646 (116)\ttotal: 490ms\tremaining: 3.66s\n",
      "118:\tlearn: 0.4340037\ttest: 0.3996140\tbest: 0.3996140 (118)\ttotal: 493ms\tremaining: 3.65s\n",
      "119:\tlearn: 0.4333057\ttest: 0.3987412\tbest: 0.3987412 (119)\ttotal: 499ms\tremaining: 3.66s\n",
      "120:\tlearn: 0.4321639\ttest: 0.3981047\tbest: 0.3981047 (120)\ttotal: 502ms\tremaining: 3.65s\n",
      "121:\tlearn: 0.4312836\ttest: 0.3975749\tbest: 0.3975749 (121)\ttotal: 505ms\tremaining: 3.63s\n",
      "122:\tlearn: 0.4301065\ttest: 0.3964132\tbest: 0.3964132 (122)\ttotal: 508ms\tremaining: 3.62s\n",
      "123:\tlearn: 0.4293128\ttest: 0.3959549\tbest: 0.3959549 (123)\ttotal: 511ms\tremaining: 3.61s\n",
      "124:\tlearn: 0.4288285\ttest: 0.3953476\tbest: 0.3953476 (124)\ttotal: 515ms\tremaining: 3.61s\n",
      "125:\tlearn: 0.4283289\ttest: 0.3953596\tbest: 0.3953476 (124)\ttotal: 518ms\tremaining: 3.59s\n",
      "126:\tlearn: 0.4277377\ttest: 0.3951833\tbest: 0.3951833 (126)\ttotal: 521ms\tremaining: 3.58s\n",
      "127:\tlearn: 0.4264857\ttest: 0.3950875\tbest: 0.3950875 (127)\ttotal: 525ms\tremaining: 3.57s\n",
      "128:\tlearn: 0.4255240\ttest: 0.3943455\tbest: 0.3943455 (128)\ttotal: 528ms\tremaining: 3.56s\n",
      "129:\tlearn: 0.4234931\ttest: 0.3937669\tbest: 0.3937669 (129)\ttotal: 531ms\tremaining: 3.55s\n",
      "130:\tlearn: 0.4223377\ttest: 0.3929616\tbest: 0.3929616 (130)\ttotal: 534ms\tremaining: 3.54s\n",
      "131:\tlearn: 0.4216184\ttest: 0.3920860\tbest: 0.3920860 (131)\ttotal: 538ms\tremaining: 3.54s\n",
      "132:\tlearn: 0.4206088\ttest: 0.3912857\tbest: 0.3912857 (132)\ttotal: 542ms\tremaining: 3.54s\n",
      "133:\tlearn: 0.4187926\ttest: 0.3902488\tbest: 0.3902488 (133)\ttotal: 546ms\tremaining: 3.53s\n",
      "134:\tlearn: 0.4181448\ttest: 0.3901342\tbest: 0.3901342 (134)\ttotal: 551ms\tremaining: 3.53s\n",
      "135:\tlearn: 0.4169574\ttest: 0.3900754\tbest: 0.3900754 (135)\ttotal: 555ms\tremaining: 3.52s\n",
      "136:\tlearn: 0.4155966\ttest: 0.3892637\tbest: 0.3892637 (136)\ttotal: 559ms\tremaining: 3.52s\n",
      "137:\tlearn: 0.4135989\ttest: 0.3879736\tbest: 0.3879736 (137)\ttotal: 563ms\tremaining: 3.51s\n",
      "138:\tlearn: 0.4125745\ttest: 0.3876307\tbest: 0.3876307 (138)\ttotal: 566ms\tremaining: 3.5s\n",
      "139:\tlearn: 0.4113442\ttest: 0.3875368\tbest: 0.3875368 (139)\ttotal: 569ms\tremaining: 3.5s\n",
      "140:\tlearn: 0.4109786\ttest: 0.3869917\tbest: 0.3869917 (140)\ttotal: 573ms\tremaining: 3.49s\n",
      "141:\tlearn: 0.4098187\ttest: 0.3867484\tbest: 0.3867484 (141)\ttotal: 576ms\tremaining: 3.48s\n",
      "142:\tlearn: 0.4090791\ttest: 0.3869263\tbest: 0.3867484 (141)\ttotal: 580ms\tremaining: 3.47s\n",
      "143:\tlearn: 0.4081403\ttest: 0.3862195\tbest: 0.3862195 (143)\ttotal: 584ms\tremaining: 3.47s\n",
      "144:\tlearn: 0.4068838\ttest: 0.3853533\tbest: 0.3853533 (144)\ttotal: 590ms\tremaining: 3.48s\n",
      "145:\tlearn: 0.4063444\ttest: 0.3849166\tbest: 0.3849166 (145)\ttotal: 594ms\tremaining: 3.48s\n",
      "146:\tlearn: 0.4055139\ttest: 0.3837166\tbest: 0.3837166 (146)\ttotal: 598ms\tremaining: 3.47s\n",
      "147:\tlearn: 0.4045732\ttest: 0.3829196\tbest: 0.3829196 (147)\ttotal: 605ms\tremaining: 3.48s\n",
      "148:\tlearn: 0.4036862\ttest: 0.3822877\tbest: 0.3822877 (148)\ttotal: 610ms\tremaining: 3.48s\n",
      "149:\tlearn: 0.4024831\ttest: 0.3809658\tbest: 0.3809658 (149)\ttotal: 614ms\tremaining: 3.48s\n",
      "150:\tlearn: 0.4014144\ttest: 0.3803610\tbest: 0.3803610 (150)\ttotal: 620ms\tremaining: 3.48s\n",
      "151:\tlearn: 0.4005312\ttest: 0.3802231\tbest: 0.3802231 (151)\ttotal: 624ms\tremaining: 3.48s\n",
      "152:\tlearn: 0.3993072\ttest: 0.3794482\tbest: 0.3794482 (152)\ttotal: 627ms\tremaining: 3.47s\n",
      "153:\tlearn: 0.3989611\ttest: 0.3796376\tbest: 0.3794482 (152)\ttotal: 629ms\tremaining: 3.45s\n",
      "154:\tlearn: 0.3978937\ttest: 0.3793287\tbest: 0.3793287 (154)\ttotal: 638ms\tremaining: 3.48s\n",
      "155:\tlearn: 0.3967442\ttest: 0.3788001\tbest: 0.3788001 (155)\ttotal: 641ms\tremaining: 3.47s\n",
      "156:\tlearn: 0.3962285\ttest: 0.3783161\tbest: 0.3783161 (156)\ttotal: 646ms\tremaining: 3.47s\n",
      "157:\tlearn: 0.3956404\ttest: 0.3783740\tbest: 0.3783161 (156)\ttotal: 650ms\tremaining: 3.46s\n",
      "158:\tlearn: 0.3950695\ttest: 0.3778998\tbest: 0.3778998 (158)\ttotal: 654ms\tremaining: 3.46s\n",
      "159:\tlearn: 0.3945452\ttest: 0.3775862\tbest: 0.3775862 (159)\ttotal: 657ms\tremaining: 3.45s\n",
      "160:\tlearn: 0.3937062\ttest: 0.3775839\tbest: 0.3775839 (160)\ttotal: 660ms\tremaining: 3.44s\n",
      "161:\tlearn: 0.3930157\ttest: 0.3772782\tbest: 0.3772782 (161)\ttotal: 664ms\tremaining: 3.43s\n",
      "162:\tlearn: 0.3921342\ttest: 0.3766379\tbest: 0.3766379 (162)\ttotal: 667ms\tremaining: 3.43s\n",
      "163:\tlearn: 0.3914844\ttest: 0.3767709\tbest: 0.3766379 (162)\ttotal: 670ms\tremaining: 3.42s\n",
      "164:\tlearn: 0.3900598\ttest: 0.3766253\tbest: 0.3766253 (164)\ttotal: 673ms\tremaining: 3.41s\n",
      "165:\tlearn: 0.3897811\ttest: 0.3766413\tbest: 0.3766253 (164)\ttotal: 676ms\tremaining: 3.4s\n",
      "166:\tlearn: 0.3887602\ttest: 0.3766365\tbest: 0.3766253 (164)\ttotal: 680ms\tremaining: 3.39s\n",
      "167:\tlearn: 0.3878371\ttest: 0.3768044\tbest: 0.3766253 (164)\ttotal: 683ms\tremaining: 3.38s\n",
      "168:\tlearn: 0.3870238\ttest: 0.3761604\tbest: 0.3761604 (168)\ttotal: 686ms\tremaining: 3.38s\n",
      "169:\tlearn: 0.3867919\ttest: 0.3759419\tbest: 0.3759419 (169)\ttotal: 689ms\tremaining: 3.37s\n",
      "170:\tlearn: 0.3865311\ttest: 0.3755220\tbest: 0.3755220 (170)\ttotal: 692ms\tremaining: 3.36s\n",
      "171:\tlearn: 0.3863291\ttest: 0.3752773\tbest: 0.3752773 (171)\ttotal: 695ms\tremaining: 3.35s\n",
      "172:\tlearn: 0.3860823\ttest: 0.3749687\tbest: 0.3749687 (172)\ttotal: 698ms\tremaining: 3.33s\n",
      "173:\tlearn: 0.3852182\ttest: 0.3744645\tbest: 0.3744645 (173)\ttotal: 701ms\tremaining: 3.33s\n",
      "174:\tlearn: 0.3846215\ttest: 0.3741786\tbest: 0.3741786 (174)\ttotal: 705ms\tremaining: 3.32s\n",
      "175:\tlearn: 0.3844158\ttest: 0.3739342\tbest: 0.3739342 (175)\ttotal: 706ms\tremaining: 3.31s\n",
      "176:\tlearn: 0.3834088\ttest: 0.3735382\tbest: 0.3735382 (176)\ttotal: 711ms\tremaining: 3.31s\n",
      "177:\tlearn: 0.3825393\ttest: 0.3732360\tbest: 0.3732360 (177)\ttotal: 716ms\tremaining: 3.31s\n",
      "178:\tlearn: 0.3820809\ttest: 0.3732526\tbest: 0.3732360 (177)\ttotal: 720ms\tremaining: 3.3s\n",
      "179:\tlearn: 0.3812145\ttest: 0.3734629\tbest: 0.3732360 (177)\ttotal: 723ms\tremaining: 3.29s\n",
      "180:\tlearn: 0.3802367\ttest: 0.3727728\tbest: 0.3727728 (180)\ttotal: 729ms\tremaining: 3.3s\n",
      "181:\tlearn: 0.3797378\ttest: 0.3729144\tbest: 0.3727728 (180)\ttotal: 732ms\tremaining: 3.29s\n",
      "182:\tlearn: 0.3791684\ttest: 0.3726581\tbest: 0.3726581 (182)\ttotal: 735ms\tremaining: 3.28s\n",
      "183:\tlearn: 0.3787281\ttest: 0.3722946\tbest: 0.3722946 (183)\ttotal: 738ms\tremaining: 3.27s\n",
      "184:\tlearn: 0.3783055\ttest: 0.3722958\tbest: 0.3722946 (183)\ttotal: 744ms\tremaining: 3.28s\n",
      "185:\tlearn: 0.3780187\ttest: 0.3720237\tbest: 0.3720237 (185)\ttotal: 747ms\tremaining: 3.27s\n",
      "186:\tlearn: 0.3774917\ttest: 0.3720493\tbest: 0.3720237 (185)\ttotal: 751ms\tremaining: 3.26s\n",
      "187:\tlearn: 0.3767356\ttest: 0.3725894\tbest: 0.3720237 (185)\ttotal: 754ms\tremaining: 3.26s\n",
      "188:\tlearn: 0.3764537\ttest: 0.3725122\tbest: 0.3720237 (185)\ttotal: 757ms\tremaining: 3.25s\n",
      "189:\tlearn: 0.3756047\ttest: 0.3722021\tbest: 0.3720237 (185)\ttotal: 761ms\tremaining: 3.25s\n",
      "190:\tlearn: 0.3741427\ttest: 0.3722756\tbest: 0.3720237 (185)\ttotal: 764ms\tremaining: 3.24s\n",
      "191:\tlearn: 0.3739466\ttest: 0.3721076\tbest: 0.3720237 (185)\ttotal: 769ms\tremaining: 3.23s\n",
      "192:\tlearn: 0.3725369\ttest: 0.3719112\tbest: 0.3719112 (192)\ttotal: 774ms\tremaining: 3.23s\n",
      "193:\tlearn: 0.3721164\ttest: 0.3715920\tbest: 0.3715920 (193)\ttotal: 777ms\tremaining: 3.23s\n",
      "194:\tlearn: 0.3711259\ttest: 0.3714960\tbest: 0.3714960 (194)\ttotal: 782ms\tremaining: 3.23s\n",
      "195:\tlearn: 0.3704565\ttest: 0.3714082\tbest: 0.3714082 (195)\ttotal: 786ms\tremaining: 3.22s\n",
      "196:\tlearn: 0.3699226\ttest: 0.3715808\tbest: 0.3714082 (195)\ttotal: 790ms\tremaining: 3.22s\n",
      "197:\tlearn: 0.3683071\ttest: 0.3707737\tbest: 0.3707737 (197)\ttotal: 794ms\tremaining: 3.22s\n",
      "198:\tlearn: 0.3677297\ttest: 0.3707624\tbest: 0.3707624 (198)\ttotal: 798ms\tremaining: 3.21s\n",
      "199:\tlearn: 0.3670085\ttest: 0.3701407\tbest: 0.3701407 (199)\ttotal: 801ms\tremaining: 3.2s\n",
      "200:\tlearn: 0.3656473\ttest: 0.3693931\tbest: 0.3693931 (200)\ttotal: 805ms\tremaining: 3.2s\n",
      "201:\tlearn: 0.3649817\ttest: 0.3696253\tbest: 0.3693931 (200)\ttotal: 809ms\tremaining: 3.2s\n",
      "202:\tlearn: 0.3639925\ttest: 0.3687996\tbest: 0.3687996 (202)\ttotal: 813ms\tremaining: 3.19s\n",
      "203:\tlearn: 0.3626357\ttest: 0.3682463\tbest: 0.3682463 (203)\ttotal: 816ms\tremaining: 3.18s\n",
      "204:\tlearn: 0.3620133\ttest: 0.3674737\tbest: 0.3674737 (204)\ttotal: 820ms\tremaining: 3.18s\n",
      "205:\tlearn: 0.3619417\ttest: 0.3675704\tbest: 0.3674737 (204)\ttotal: 822ms\tremaining: 3.17s\n",
      "206:\tlearn: 0.3609820\ttest: 0.3671167\tbest: 0.3671167 (206)\ttotal: 826ms\tremaining: 3.16s\n",
      "207:\tlearn: 0.3602905\ttest: 0.3675864\tbest: 0.3671167 (206)\ttotal: 829ms\tremaining: 3.15s\n",
      "208:\tlearn: 0.3597300\ttest: 0.3674109\tbest: 0.3671167 (206)\ttotal: 832ms\tremaining: 3.15s\n",
      "209:\tlearn: 0.3589081\ttest: 0.3671606\tbest: 0.3671167 (206)\ttotal: 837ms\tremaining: 3.15s\n",
      "210:\tlearn: 0.3584379\ttest: 0.3668267\tbest: 0.3668267 (210)\ttotal: 841ms\tremaining: 3.15s\n",
      "211:\tlearn: 0.3584363\ttest: 0.3668209\tbest: 0.3668209 (211)\ttotal: 843ms\tremaining: 3.13s\n",
      "212:\tlearn: 0.3578706\ttest: 0.3663201\tbest: 0.3663201 (212)\ttotal: 847ms\tremaining: 3.13s\n",
      "213:\tlearn: 0.3570223\ttest: 0.3660905\tbest: 0.3660905 (213)\ttotal: 852ms\tremaining: 3.13s\n",
      "214:\tlearn: 0.3564631\ttest: 0.3659276\tbest: 0.3659276 (214)\ttotal: 855ms\tremaining: 3.12s\n",
      "215:\tlearn: 0.3557552\ttest: 0.3658697\tbest: 0.3658697 (215)\ttotal: 859ms\tremaining: 3.12s\n",
      "216:\tlearn: 0.3553830\ttest: 0.3654316\tbest: 0.3654316 (216)\ttotal: 863ms\tremaining: 3.11s\n",
      "217:\tlearn: 0.3551674\ttest: 0.3654178\tbest: 0.3654178 (217)\ttotal: 867ms\tremaining: 3.11s\n",
      "218:\tlearn: 0.3545956\ttest: 0.3648598\tbest: 0.3648598 (218)\ttotal: 871ms\tremaining: 3.1s\n",
      "219:\tlearn: 0.3530577\ttest: 0.3648092\tbest: 0.3648092 (219)\ttotal: 874ms\tremaining: 3.1s\n",
      "220:\tlearn: 0.3527106\ttest: 0.3646204\tbest: 0.3646204 (220)\ttotal: 877ms\tremaining: 3.09s\n",
      "221:\tlearn: 0.3521279\ttest: 0.3648854\tbest: 0.3646204 (220)\ttotal: 880ms\tremaining: 3.08s\n",
      "222:\tlearn: 0.3515826\ttest: 0.3652718\tbest: 0.3646204 (220)\ttotal: 883ms\tremaining: 3.08s\n",
      "223:\tlearn: 0.3512777\ttest: 0.3653486\tbest: 0.3646204 (220)\ttotal: 886ms\tremaining: 3.07s\n",
      "224:\tlearn: 0.3508652\ttest: 0.3651460\tbest: 0.3646204 (220)\ttotal: 890ms\tremaining: 3.07s\n",
      "225:\tlearn: 0.3501331\ttest: 0.3647536\tbest: 0.3646204 (220)\ttotal: 894ms\tremaining: 3.06s\n",
      "226:\tlearn: 0.3500132\ttest: 0.3648698\tbest: 0.3646204 (220)\ttotal: 897ms\tremaining: 3.05s\n",
      "227:\tlearn: 0.3497733\ttest: 0.3648532\tbest: 0.3646204 (220)\ttotal: 900ms\tremaining: 3.05s\n",
      "228:\tlearn: 0.3490682\ttest: 0.3643451\tbest: 0.3643451 (228)\ttotal: 903ms\tremaining: 3.04s\n",
      "229:\tlearn: 0.3486769\ttest: 0.3641762\tbest: 0.3641762 (229)\ttotal: 906ms\tremaining: 3.03s\n",
      "230:\tlearn: 0.3483809\ttest: 0.3639565\tbest: 0.3639565 (230)\ttotal: 910ms\tremaining: 3.03s\n",
      "231:\tlearn: 0.3477911\ttest: 0.3640104\tbest: 0.3639565 (230)\ttotal: 914ms\tremaining: 3.03s\n",
      "232:\tlearn: 0.3471407\ttest: 0.3638224\tbest: 0.3638224 (232)\ttotal: 919ms\tremaining: 3.02s\n",
      "233:\tlearn: 0.3468625\ttest: 0.3636940\tbest: 0.3636940 (233)\ttotal: 924ms\tremaining: 3.02s\n",
      "234:\tlearn: 0.3462293\ttest: 0.3639657\tbest: 0.3636940 (233)\ttotal: 928ms\tremaining: 3.02s\n",
      "235:\tlearn: 0.3457094\ttest: 0.3638662\tbest: 0.3636940 (233)\ttotal: 932ms\tremaining: 3.02s\n",
      "236:\tlearn: 0.3447053\ttest: 0.3632624\tbest: 0.3632624 (236)\ttotal: 936ms\tremaining: 3.01s\n",
      "237:\tlearn: 0.3446902\ttest: 0.3632576\tbest: 0.3632576 (237)\ttotal: 938ms\tremaining: 3s\n",
      "238:\tlearn: 0.3446897\ttest: 0.3632549\tbest: 0.3632549 (238)\ttotal: 939ms\tremaining: 2.99s\n",
      "239:\tlearn: 0.3441682\ttest: 0.3630522\tbest: 0.3630522 (239)\ttotal: 944ms\tremaining: 2.99s\n",
      "240:\tlearn: 0.3440205\ttest: 0.3631459\tbest: 0.3630522 (239)\ttotal: 947ms\tremaining: 2.98s\n",
      "241:\tlearn: 0.3424863\ttest: 0.3633407\tbest: 0.3630522 (239)\ttotal: 951ms\tremaining: 2.98s\n",
      "242:\tlearn: 0.3420351\ttest: 0.3628965\tbest: 0.3628965 (242)\ttotal: 955ms\tremaining: 2.97s\n",
      "243:\tlearn: 0.3415083\ttest: 0.3627050\tbest: 0.3627050 (243)\ttotal: 960ms\tremaining: 2.97s\n",
      "244:\tlearn: 0.3402092\ttest: 0.3623838\tbest: 0.3623838 (244)\ttotal: 966ms\tremaining: 2.98s\n",
      "245:\tlearn: 0.3400685\ttest: 0.3623996\tbest: 0.3623838 (244)\ttotal: 969ms\tremaining: 2.97s\n",
      "246:\tlearn: 0.3396718\ttest: 0.3621378\tbest: 0.3621378 (246)\ttotal: 975ms\tremaining: 2.97s\n",
      "247:\tlearn: 0.3394428\ttest: 0.3620325\tbest: 0.3620325 (247)\ttotal: 980ms\tremaining: 2.97s\n",
      "248:\tlearn: 0.3392938\ttest: 0.3616008\tbest: 0.3616008 (248)\ttotal: 983ms\tremaining: 2.96s\n",
      "249:\tlearn: 0.3387319\ttest: 0.3620823\tbest: 0.3616008 (248)\ttotal: 987ms\tremaining: 2.96s\n",
      "250:\tlearn: 0.3380963\ttest: 0.3618804\tbest: 0.3616008 (248)\ttotal: 992ms\tremaining: 2.96s\n",
      "251:\tlearn: 0.3377856\ttest: 0.3617669\tbest: 0.3616008 (248)\ttotal: 996ms\tremaining: 2.96s\n",
      "252:\tlearn: 0.3373301\ttest: 0.3616234\tbest: 0.3616008 (248)\ttotal: 999ms\tremaining: 2.95s\n",
      "253:\tlearn: 0.3361115\ttest: 0.3615820\tbest: 0.3615820 (253)\ttotal: 1s\tremaining: 2.94s\n",
      "254:\tlearn: 0.3356020\ttest: 0.3613909\tbest: 0.3613909 (254)\ttotal: 1.01s\tremaining: 2.94s\n",
      "255:\tlearn: 0.3339742\ttest: 0.3609608\tbest: 0.3609608 (255)\ttotal: 1.01s\tremaining: 2.94s\n",
      "256:\tlearn: 0.3336462\ttest: 0.3608839\tbest: 0.3608839 (256)\ttotal: 1.01s\tremaining: 2.93s\n",
      "257:\tlearn: 0.3335059\ttest: 0.3610203\tbest: 0.3608839 (256)\ttotal: 1.01s\tremaining: 2.92s\n",
      "258:\tlearn: 0.3334103\ttest: 0.3610624\tbest: 0.3608839 (256)\ttotal: 1.02s\tremaining: 2.91s\n",
      "259:\tlearn: 0.3330896\ttest: 0.3607536\tbest: 0.3607536 (259)\ttotal: 1.02s\tremaining: 2.91s\n",
      "260:\tlearn: 0.3329078\ttest: 0.3608747\tbest: 0.3607536 (259)\ttotal: 1.02s\tremaining: 2.9s\n",
      "261:\tlearn: 0.3327204\ttest: 0.3606334\tbest: 0.3606334 (261)\ttotal: 1.03s\tremaining: 2.89s\n",
      "262:\tlearn: 0.3320529\ttest: 0.3603032\tbest: 0.3603032 (262)\ttotal: 1.03s\tremaining: 2.89s\n",
      "263:\tlearn: 0.3314215\ttest: 0.3601103\tbest: 0.3601103 (263)\ttotal: 1.03s\tremaining: 2.88s\n",
      "264:\tlearn: 0.3311540\ttest: 0.3598184\tbest: 0.3598184 (264)\ttotal: 1.04s\tremaining: 2.88s\n",
      "265:\tlearn: 0.3301569\ttest: 0.3602806\tbest: 0.3598184 (264)\ttotal: 1.04s\tremaining: 2.88s\n",
      "266:\tlearn: 0.3297782\ttest: 0.3599088\tbest: 0.3598184 (264)\ttotal: 1.05s\tremaining: 2.87s\n",
      "267:\tlearn: 0.3292274\ttest: 0.3602861\tbest: 0.3598184 (264)\ttotal: 1.05s\tremaining: 2.87s\n",
      "268:\tlearn: 0.3288911\ttest: 0.3601834\tbest: 0.3598184 (264)\ttotal: 1.05s\tremaining: 2.86s\n",
      "269:\tlearn: 0.3285991\ttest: 0.3601262\tbest: 0.3598184 (264)\ttotal: 1.05s\tremaining: 2.85s\n",
      "270:\tlearn: 0.3280316\ttest: 0.3598980\tbest: 0.3598184 (264)\ttotal: 1.06s\tremaining: 2.85s\n",
      "271:\tlearn: 0.3276453\ttest: 0.3597494\tbest: 0.3597494 (271)\ttotal: 1.06s\tremaining: 2.84s\n",
      "272:\tlearn: 0.3269908\ttest: 0.3590936\tbest: 0.3590936 (272)\ttotal: 1.07s\tremaining: 2.84s\n",
      "273:\tlearn: 0.3257755\ttest: 0.3584789\tbest: 0.3584789 (273)\ttotal: 1.07s\tremaining: 2.83s\n",
      "274:\tlearn: 0.3255293\ttest: 0.3583724\tbest: 0.3583724 (274)\ttotal: 1.07s\tremaining: 2.83s\n",
      "275:\tlearn: 0.3244947\ttest: 0.3578036\tbest: 0.3578036 (275)\ttotal: 1.08s\tremaining: 2.82s\n",
      "276:\tlearn: 0.3234760\ttest: 0.3580326\tbest: 0.3578036 (275)\ttotal: 1.08s\tremaining: 2.82s\n",
      "277:\tlearn: 0.3232466\ttest: 0.3580723\tbest: 0.3578036 (275)\ttotal: 1.08s\tremaining: 2.81s\n",
      "278:\tlearn: 0.3227586\ttest: 0.3584306\tbest: 0.3578036 (275)\ttotal: 1.09s\tremaining: 2.81s\n",
      "279:\tlearn: 0.3217194\ttest: 0.3584364\tbest: 0.3578036 (275)\ttotal: 1.09s\tremaining: 2.81s\n",
      "280:\tlearn: 0.3214993\ttest: 0.3583189\tbest: 0.3578036 (275)\ttotal: 1.09s\tremaining: 2.8s\n",
      "281:\tlearn: 0.3213807\ttest: 0.3581544\tbest: 0.3578036 (275)\ttotal: 1.1s\tremaining: 2.79s\n",
      "282:\tlearn: 0.3211167\ttest: 0.3579807\tbest: 0.3578036 (275)\ttotal: 1.1s\tremaining: 2.79s\n",
      "283:\tlearn: 0.3204171\ttest: 0.3581221\tbest: 0.3578036 (275)\ttotal: 1.1s\tremaining: 2.78s\n",
      "284:\tlearn: 0.3191684\ttest: 0.3578303\tbest: 0.3578036 (275)\ttotal: 1.11s\tremaining: 2.78s\n",
      "285:\tlearn: 0.3181532\ttest: 0.3576100\tbest: 0.3576100 (285)\ttotal: 1.11s\tremaining: 2.77s\n",
      "286:\tlearn: 0.3173609\ttest: 0.3571578\tbest: 0.3571578 (286)\ttotal: 1.11s\tremaining: 2.77s\n",
      "287:\tlearn: 0.3170466\ttest: 0.3573143\tbest: 0.3571578 (286)\ttotal: 1.12s\tremaining: 2.76s\n",
      "288:\tlearn: 0.3162532\ttest: 0.3570914\tbest: 0.3570914 (288)\ttotal: 1.12s\tremaining: 2.76s\n",
      "289:\tlearn: 0.3160398\ttest: 0.3569658\tbest: 0.3569658 (289)\ttotal: 1.13s\tremaining: 2.75s\n",
      "290:\tlearn: 0.3150547\ttest: 0.3569558\tbest: 0.3569558 (290)\ttotal: 1.13s\tremaining: 2.75s\n",
      "291:\tlearn: 0.3146525\ttest: 0.3568259\tbest: 0.3568259 (291)\ttotal: 1.13s\tremaining: 2.75s\n",
      "292:\tlearn: 0.3139444\ttest: 0.3567365\tbest: 0.3567365 (292)\ttotal: 1.14s\tremaining: 2.74s\n",
      "293:\tlearn: 0.3134091\ttest: 0.3566966\tbest: 0.3566966 (293)\ttotal: 1.14s\tremaining: 2.74s\n",
      "294:\tlearn: 0.3133614\ttest: 0.3567225\tbest: 0.3566966 (293)\ttotal: 1.14s\tremaining: 2.73s\n",
      "295:\tlearn: 0.3130570\ttest: 0.3563833\tbest: 0.3563833 (295)\ttotal: 1.15s\tremaining: 2.73s\n",
      "296:\tlearn: 0.3127154\ttest: 0.3564814\tbest: 0.3563833 (295)\ttotal: 1.15s\tremaining: 2.73s\n",
      "297:\tlearn: 0.3116594\ttest: 0.3560041\tbest: 0.3560041 (297)\ttotal: 1.16s\tremaining: 2.73s\n",
      "298:\tlearn: 0.3114108\ttest: 0.3559629\tbest: 0.3559629 (298)\ttotal: 1.16s\tremaining: 2.72s\n",
      "299:\tlearn: 0.3109741\ttest: 0.3559923\tbest: 0.3559629 (298)\ttotal: 1.17s\tremaining: 2.72s\n",
      "300:\tlearn: 0.3104807\ttest: 0.3559734\tbest: 0.3559629 (298)\ttotal: 1.17s\tremaining: 2.72s\n",
      "301:\tlearn: 0.3104314\ttest: 0.3558641\tbest: 0.3558641 (301)\ttotal: 1.18s\tremaining: 2.72s\n",
      "302:\tlearn: 0.3102790\ttest: 0.3560032\tbest: 0.3558641 (301)\ttotal: 1.18s\tremaining: 2.71s\n",
      "303:\tlearn: 0.3095320\ttest: 0.3562847\tbest: 0.3558641 (301)\ttotal: 1.18s\tremaining: 2.71s\n",
      "304:\tlearn: 0.3083904\ttest: 0.3562474\tbest: 0.3558641 (301)\ttotal: 1.19s\tremaining: 2.7s\n",
      "305:\tlearn: 0.3079305\ttest: 0.3558227\tbest: 0.3558227 (305)\ttotal: 1.19s\tremaining: 2.69s\n",
      "306:\tlearn: 0.3069087\ttest: 0.3556906\tbest: 0.3556906 (306)\ttotal: 1.19s\tremaining: 2.69s\n",
      "307:\tlearn: 0.3066569\ttest: 0.3559391\tbest: 0.3556906 (306)\ttotal: 1.2s\tremaining: 2.69s\n",
      "308:\tlearn: 0.3061166\ttest: 0.3558012\tbest: 0.3556906 (306)\ttotal: 1.2s\tremaining: 2.68s\n",
      "309:\tlearn: 0.3059939\ttest: 0.3557812\tbest: 0.3556906 (306)\ttotal: 1.2s\tremaining: 2.68s\n",
      "310:\tlearn: 0.3058724\ttest: 0.3558275\tbest: 0.3556906 (306)\ttotal: 1.21s\tremaining: 2.67s\n",
      "311:\tlearn: 0.3052093\ttest: 0.3562417\tbest: 0.3556906 (306)\ttotal: 1.21s\tremaining: 2.67s\n",
      "312:\tlearn: 0.3048410\ttest: 0.3561849\tbest: 0.3556906 (306)\ttotal: 1.21s\tremaining: 2.66s\n",
      "313:\tlearn: 0.3035071\ttest: 0.3557292\tbest: 0.3556906 (306)\ttotal: 1.22s\tremaining: 2.66s\n",
      "314:\tlearn: 0.3033170\ttest: 0.3556339\tbest: 0.3556339 (314)\ttotal: 1.22s\tremaining: 2.65s\n",
      "315:\tlearn: 0.3031818\ttest: 0.3554294\tbest: 0.3554294 (315)\ttotal: 1.22s\tremaining: 2.65s\n",
      "316:\tlearn: 0.3026483\ttest: 0.3555034\tbest: 0.3554294 (315)\ttotal: 1.23s\tremaining: 2.65s\n",
      "317:\tlearn: 0.3025016\ttest: 0.3554275\tbest: 0.3554275 (317)\ttotal: 1.23s\tremaining: 2.64s\n",
      "318:\tlearn: 0.3022802\ttest: 0.3554600\tbest: 0.3554275 (317)\ttotal: 1.23s\tremaining: 2.63s\n",
      "319:\tlearn: 0.3020419\ttest: 0.3552015\tbest: 0.3552015 (319)\ttotal: 1.24s\tremaining: 2.63s\n",
      "320:\tlearn: 0.3016176\ttest: 0.3549463\tbest: 0.3549463 (320)\ttotal: 1.24s\tremaining: 2.63s\n",
      "321:\tlearn: 0.3013086\ttest: 0.3549515\tbest: 0.3549463 (320)\ttotal: 1.25s\tremaining: 2.62s\n",
      "322:\tlearn: 0.3005989\ttest: 0.3555347\tbest: 0.3549463 (320)\ttotal: 1.25s\tremaining: 2.62s\n",
      "323:\tlearn: 0.3004203\ttest: 0.3555280\tbest: 0.3549463 (320)\ttotal: 1.25s\tremaining: 2.61s\n",
      "324:\tlearn: 0.2998515\ttest: 0.3556553\tbest: 0.3549463 (320)\ttotal: 1.25s\tremaining: 2.61s\n",
      "325:\tlearn: 0.2982497\ttest: 0.3560180\tbest: 0.3549463 (320)\ttotal: 1.26s\tremaining: 2.6s\n",
      "326:\tlearn: 0.2980504\ttest: 0.3559358\tbest: 0.3549463 (320)\ttotal: 1.26s\tremaining: 2.6s\n",
      "327:\tlearn: 0.2977330\ttest: 0.3557492\tbest: 0.3549463 (320)\ttotal: 1.26s\tremaining: 2.59s\n",
      "328:\tlearn: 0.2971852\ttest: 0.3554047\tbest: 0.3549463 (320)\ttotal: 1.27s\tremaining: 2.59s\n",
      "329:\tlearn: 0.2970488\ttest: 0.3554823\tbest: 0.3549463 (320)\ttotal: 1.27s\tremaining: 2.58s\n",
      "330:\tlearn: 0.2963542\ttest: 0.3554117\tbest: 0.3549463 (320)\ttotal: 1.28s\tremaining: 2.58s\n",
      "Stopped by overfitting detector  (10 iterations wait)\n",
      "\n",
      "bestTest = 0.354946341\n",
      "bestIteration = 320\n",
      "\n",
      "Shrink model to first 321 iterations.\n"
     ]
    },
    {
     "data": {
      "text/plain": [
       "<catboost.core.CatBoostClassifier at 0x7f1244c27b80>"
      ]
     },
     "execution_count": 107,
     "metadata": {},
     "output_type": "execute_result"
    }
   ],
   "source": [
    "# 学習\n",
    "model_cb = CatBoostClassifier(iterations=1000, learning_rate=0.01, cat_features=category_cols)\n",
    "eval_set = [(X_test, y_test)]\n",
    "model_cb.fit(X_train, y_train, eval_set=eval_set, early_stopping_rounds=10, verbose=True)"
   ]
  },
  {
   "cell_type": "code",
   "execution_count": 108,
   "id": "ab76fc64",
   "metadata": {},
   "outputs": [
    {
     "data": {
      "text/plain": [
       "0.8942307692307693"
      ]
     },
     "execution_count": 108,
     "metadata": {},
     "output_type": "execute_result"
    }
   ],
   "source": [
    "y_pred_cb = model_cb.predict_proba(X_test)\n",
    "roc_auc_score(y_test, y_pred_cb[:,1])"
   ]
  },
  {
   "cell_type": "code",
   "execution_count": 109,
   "id": "4fe0458e",
   "metadata": {},
   "outputs": [
    {
     "ename": "ExecutableNotFound",
     "evalue": "failed to execute PosixPath('dot'), make sure the Graphviz executables are on your systems' PATH",
     "output_type": "error",
     "traceback": [
      "\u001b[0;31m---------------------------------------------------------------------------\u001b[0m",
      "\u001b[0;31mFileNotFoundError\u001b[0m                         Traceback (most recent call last)",
      "File \u001b[0;32m/opt/anaconda3/lib/python3.9/site-packages/graphviz/backend/execute.py:79\u001b[0m, in \u001b[0;36mrun_check\u001b[0;34m(cmd, input_lines, encoding, quiet, **kwargs)\u001b[0m\n\u001b[1;32m     78\u001b[0m         kwargs[\u001b[39m'\u001b[39m\u001b[39mstdout\u001b[39m\u001b[39m'\u001b[39m] \u001b[39m=\u001b[39m kwargs[\u001b[39m'\u001b[39m\u001b[39mstderr\u001b[39m\u001b[39m'\u001b[39m] \u001b[39m=\u001b[39m subprocess\u001b[39m.\u001b[39mPIPE\n\u001b[0;32m---> 79\u001b[0m     proc \u001b[39m=\u001b[39m _run_input_lines(cmd, input_lines, kwargs\u001b[39m=\u001b[39;49mkwargs)\n\u001b[1;32m     80\u001b[0m \u001b[39melse\u001b[39;00m:\n",
      "File \u001b[0;32m/opt/anaconda3/lib/python3.9/site-packages/graphviz/backend/execute.py:99\u001b[0m, in \u001b[0;36m_run_input_lines\u001b[0;34m(cmd, input_lines, kwargs)\u001b[0m\n\u001b[1;32m     98\u001b[0m \u001b[39mdef\u001b[39;00m \u001b[39m_run_input_lines\u001b[39m(cmd, input_lines, \u001b[39m*\u001b[39m, kwargs):\n\u001b[0;32m---> 99\u001b[0m     popen \u001b[39m=\u001b[39m subprocess\u001b[39m.\u001b[39;49mPopen(cmd, stdin\u001b[39m=\u001b[39;49msubprocess\u001b[39m.\u001b[39;49mPIPE, \u001b[39m*\u001b[39;49m\u001b[39m*\u001b[39;49mkwargs)\n\u001b[1;32m    101\u001b[0m     stdin_write \u001b[39m=\u001b[39m popen\u001b[39m.\u001b[39mstdin\u001b[39m.\u001b[39mwrite\n",
      "File \u001b[0;32m/opt/anaconda3/lib/python3.9/subprocess.py:951\u001b[0m, in \u001b[0;36mPopen.__init__\u001b[0;34m(self, args, bufsize, executable, stdin, stdout, stderr, preexec_fn, close_fds, shell, cwd, env, universal_newlines, startupinfo, creationflags, restore_signals, start_new_session, pass_fds, user, group, extra_groups, encoding, errors, text, umask)\u001b[0m\n\u001b[1;32m    948\u001b[0m             \u001b[39mself\u001b[39m\u001b[39m.\u001b[39mstderr \u001b[39m=\u001b[39m io\u001b[39m.\u001b[39mTextIOWrapper(\u001b[39mself\u001b[39m\u001b[39m.\u001b[39mstderr,\n\u001b[1;32m    949\u001b[0m                     encoding\u001b[39m=\u001b[39mencoding, errors\u001b[39m=\u001b[39merrors)\n\u001b[0;32m--> 951\u001b[0m     \u001b[39mself\u001b[39;49m\u001b[39m.\u001b[39;49m_execute_child(args, executable, preexec_fn, close_fds,\n\u001b[1;32m    952\u001b[0m                         pass_fds, cwd, env,\n\u001b[1;32m    953\u001b[0m                         startupinfo, creationflags, shell,\n\u001b[1;32m    954\u001b[0m                         p2cread, p2cwrite,\n\u001b[1;32m    955\u001b[0m                         c2pread, c2pwrite,\n\u001b[1;32m    956\u001b[0m                         errread, errwrite,\n\u001b[1;32m    957\u001b[0m                         restore_signals,\n\u001b[1;32m    958\u001b[0m                         gid, gids, uid, umask,\n\u001b[1;32m    959\u001b[0m                         start_new_session)\n\u001b[1;32m    960\u001b[0m \u001b[39mexcept\u001b[39;00m:\n\u001b[1;32m    961\u001b[0m     \u001b[39m# Cleanup if the child failed starting.\u001b[39;00m\n",
      "File \u001b[0;32m/opt/anaconda3/lib/python3.9/subprocess.py:1821\u001b[0m, in \u001b[0;36mPopen._execute_child\u001b[0;34m(self, args, executable, preexec_fn, close_fds, pass_fds, cwd, env, startupinfo, creationflags, shell, p2cread, p2cwrite, c2pread, c2pwrite, errread, errwrite, restore_signals, gid, gids, uid, umask, start_new_session)\u001b[0m\n\u001b[1;32m   1820\u001b[0m         err_msg \u001b[39m=\u001b[39m os\u001b[39m.\u001b[39mstrerror(errno_num)\n\u001b[0;32m-> 1821\u001b[0m     \u001b[39mraise\u001b[39;00m child_exception_type(errno_num, err_msg, err_filename)\n\u001b[1;32m   1822\u001b[0m \u001b[39mraise\u001b[39;00m child_exception_type(err_msg)\n",
      "\u001b[0;31mFileNotFoundError\u001b[0m: [Errno 2] No such file or directory: PosixPath('dot')",
      "\nThe above exception was the direct cause of the following exception:\n",
      "\u001b[0;31mExecutableNotFound\u001b[0m                        Traceback (most recent call last)",
      "File \u001b[0;32m/opt/anaconda3/lib/python3.9/site-packages/IPython/core/formatters.py:973\u001b[0m, in \u001b[0;36mMimeBundleFormatter.__call__\u001b[0;34m(self, obj, include, exclude)\u001b[0m\n\u001b[1;32m    970\u001b[0m     method \u001b[39m=\u001b[39m get_real_method(obj, \u001b[39mself\u001b[39m\u001b[39m.\u001b[39mprint_method)\n\u001b[1;32m    972\u001b[0m     \u001b[39mif\u001b[39;00m method \u001b[39mis\u001b[39;00m \u001b[39mnot\u001b[39;00m \u001b[39mNone\u001b[39;00m:\n\u001b[0;32m--> 973\u001b[0m         \u001b[39mreturn\u001b[39;00m method(include\u001b[39m=\u001b[39;49minclude, exclude\u001b[39m=\u001b[39;49mexclude)\n\u001b[1;32m    974\u001b[0m     \u001b[39mreturn\u001b[39;00m \u001b[39mNone\u001b[39;00m\n\u001b[1;32m    975\u001b[0m \u001b[39melse\u001b[39;00m:\n",
      "File \u001b[0;32m/opt/anaconda3/lib/python3.9/site-packages/graphviz/jupyter_integration.py:98\u001b[0m, in \u001b[0;36mJupyterIntegration._repr_mimebundle_\u001b[0;34m(self, include, exclude, **_)\u001b[0m\n\u001b[1;32m     96\u001b[0m include \u001b[39m=\u001b[39m \u001b[39mset\u001b[39m(include) \u001b[39mif\u001b[39;00m include \u001b[39mis\u001b[39;00m \u001b[39mnot\u001b[39;00m \u001b[39mNone\u001b[39;00m \u001b[39melse\u001b[39;00m {\u001b[39mself\u001b[39m\u001b[39m.\u001b[39m_jupyter_mimetype}\n\u001b[1;32m     97\u001b[0m include \u001b[39m-\u001b[39m\u001b[39m=\u001b[39m \u001b[39mset\u001b[39m(exclude \u001b[39mor\u001b[39;00m [])\n\u001b[0;32m---> 98\u001b[0m \u001b[39mreturn\u001b[39;00m {mimetype: \u001b[39mgetattr\u001b[39m(\u001b[39mself\u001b[39m, method_name)()\n\u001b[1;32m     99\u001b[0m         \u001b[39mfor\u001b[39;00m mimetype, method_name \u001b[39min\u001b[39;00m MIME_TYPES\u001b[39m.\u001b[39mitems()\n\u001b[1;32m    100\u001b[0m         \u001b[39mif\u001b[39;00m mimetype \u001b[39min\u001b[39;00m include}\n",
      "File \u001b[0;32m/opt/anaconda3/lib/python3.9/site-packages/graphviz/jupyter_integration.py:98\u001b[0m, in \u001b[0;36m<dictcomp>\u001b[0;34m(.0)\u001b[0m\n\u001b[1;32m     96\u001b[0m include \u001b[39m=\u001b[39m \u001b[39mset\u001b[39m(include) \u001b[39mif\u001b[39;00m include \u001b[39mis\u001b[39;00m \u001b[39mnot\u001b[39;00m \u001b[39mNone\u001b[39;00m \u001b[39melse\u001b[39;00m {\u001b[39mself\u001b[39m\u001b[39m.\u001b[39m_jupyter_mimetype}\n\u001b[1;32m     97\u001b[0m include \u001b[39m-\u001b[39m\u001b[39m=\u001b[39m \u001b[39mset\u001b[39m(exclude \u001b[39mor\u001b[39;00m [])\n\u001b[0;32m---> 98\u001b[0m \u001b[39mreturn\u001b[39;00m {mimetype: \u001b[39mgetattr\u001b[39;49m(\u001b[39mself\u001b[39;49m, method_name)()\n\u001b[1;32m     99\u001b[0m         \u001b[39mfor\u001b[39;00m mimetype, method_name \u001b[39min\u001b[39;00m MIME_TYPES\u001b[39m.\u001b[39mitems()\n\u001b[1;32m    100\u001b[0m         \u001b[39mif\u001b[39;00m mimetype \u001b[39min\u001b[39;00m include}\n",
      "File \u001b[0;32m/opt/anaconda3/lib/python3.9/site-packages/graphviz/jupyter_integration.py:112\u001b[0m, in \u001b[0;36mJupyterIntegration._repr_image_svg_xml\u001b[0;34m(self)\u001b[0m\n\u001b[1;32m    110\u001b[0m \u001b[39mdef\u001b[39;00m \u001b[39m_repr_image_svg_xml\u001b[39m(\u001b[39mself\u001b[39m) \u001b[39m-\u001b[39m\u001b[39m>\u001b[39m \u001b[39mstr\u001b[39m:\n\u001b[1;32m    111\u001b[0m     \u001b[39m\"\"\"Return the rendered graph as SVG string.\"\"\"\u001b[39;00m\n\u001b[0;32m--> 112\u001b[0m     \u001b[39mreturn\u001b[39;00m \u001b[39mself\u001b[39;49m\u001b[39m.\u001b[39;49mpipe(\u001b[39mformat\u001b[39;49m\u001b[39m=\u001b[39;49m\u001b[39m'\u001b[39;49m\u001b[39msvg\u001b[39;49m\u001b[39m'\u001b[39;49m, encoding\u001b[39m=\u001b[39;49mSVG_ENCODING)\n",
      "File \u001b[0;32m/opt/anaconda3/lib/python3.9/site-packages/graphviz/piping.py:104\u001b[0m, in \u001b[0;36mPipe.pipe\u001b[0;34m(self, format, renderer, formatter, neato_no_op, quiet, engine, encoding)\u001b[0m\n\u001b[1;32m     55\u001b[0m \u001b[39mdef\u001b[39;00m \u001b[39mpipe\u001b[39m(\u001b[39mself\u001b[39m,\n\u001b[1;32m     56\u001b[0m          \u001b[39mformat\u001b[39m: typing\u001b[39m.\u001b[39mOptional[\u001b[39mstr\u001b[39m] \u001b[39m=\u001b[39m \u001b[39mNone\u001b[39;00m,\n\u001b[1;32m     57\u001b[0m          renderer: typing\u001b[39m.\u001b[39mOptional[\u001b[39mstr\u001b[39m] \u001b[39m=\u001b[39m \u001b[39mNone\u001b[39;00m,\n\u001b[0;32m   (...)\u001b[0m\n\u001b[1;32m     61\u001b[0m          engine: typing\u001b[39m.\u001b[39mOptional[\u001b[39mstr\u001b[39m] \u001b[39m=\u001b[39m \u001b[39mNone\u001b[39;00m,\n\u001b[1;32m     62\u001b[0m          encoding: typing\u001b[39m.\u001b[39mOptional[\u001b[39mstr\u001b[39m] \u001b[39m=\u001b[39m \u001b[39mNone\u001b[39;00m) \u001b[39m-\u001b[39m\u001b[39m>\u001b[39m typing\u001b[39m.\u001b[39mUnion[\u001b[39mbytes\u001b[39m, \u001b[39mstr\u001b[39m]:\n\u001b[1;32m     63\u001b[0m     \u001b[39m\"\"\"Return the source piped through the Graphviz layout command.\u001b[39;00m\n\u001b[1;32m     64\u001b[0m \n\u001b[1;32m     65\u001b[0m \u001b[39m    Args:\u001b[39;00m\n\u001b[0;32m   (...)\u001b[0m\n\u001b[1;32m    102\u001b[0m \u001b[39m        '<?xml version='\u001b[39;00m\n\u001b[1;32m    103\u001b[0m \u001b[39m    \"\"\"\u001b[39;00m\n\u001b[0;32m--> 104\u001b[0m     \u001b[39mreturn\u001b[39;00m \u001b[39mself\u001b[39;49m\u001b[39m.\u001b[39;49m_pipe_legacy(\u001b[39mformat\u001b[39;49m,\n\u001b[1;32m    105\u001b[0m                              renderer\u001b[39m=\u001b[39;49mrenderer,\n\u001b[1;32m    106\u001b[0m                              formatter\u001b[39m=\u001b[39;49mformatter,\n\u001b[1;32m    107\u001b[0m                              neato_no_op\u001b[39m=\u001b[39;49mneato_no_op,\n\u001b[1;32m    108\u001b[0m                              quiet\u001b[39m=\u001b[39;49mquiet,\n\u001b[1;32m    109\u001b[0m                              engine\u001b[39m=\u001b[39;49mengine,\n\u001b[1;32m    110\u001b[0m                              encoding\u001b[39m=\u001b[39;49mencoding)\n",
      "File \u001b[0;32m/opt/anaconda3/lib/python3.9/site-packages/graphviz/_tools.py:171\u001b[0m, in \u001b[0;36mdeprecate_positional_args.<locals>.decorator.<locals>.wrapper\u001b[0;34m(*args, **kwargs)\u001b[0m\n\u001b[1;32m    162\u001b[0m     wanted \u001b[39m=\u001b[39m \u001b[39m'\u001b[39m\u001b[39m, \u001b[39m\u001b[39m'\u001b[39m\u001b[39m.\u001b[39mjoin(\u001b[39mf\u001b[39m\u001b[39m'\u001b[39m\u001b[39m{\u001b[39;00mname\u001b[39m}\u001b[39;00m\u001b[39m=\u001b[39m\u001b[39m{\u001b[39;00mvalue\u001b[39m!r}\u001b[39;00m\u001b[39m'\u001b[39m\n\u001b[1;32m    163\u001b[0m                        \u001b[39mfor\u001b[39;00m name, value \u001b[39min\u001b[39;00m deprecated\u001b[39m.\u001b[39mitems())\n\u001b[1;32m    164\u001b[0m     warnings\u001b[39m.\u001b[39mwarn(\u001b[39mf\u001b[39m\u001b[39m'\u001b[39m\u001b[39mThe signature of \u001b[39m\u001b[39m{\u001b[39;00mfunc\u001b[39m.\u001b[39m\u001b[39m__name__\u001b[39m\u001b[39m}\u001b[39;00m\u001b[39m will be reduced\u001b[39m\u001b[39m'\u001b[39m\n\u001b[1;32m    165\u001b[0m                   \u001b[39mf\u001b[39m\u001b[39m'\u001b[39m\u001b[39m to \u001b[39m\u001b[39m{\u001b[39;00msupported_number\u001b[39m}\u001b[39;00m\u001b[39m positional args\u001b[39m\u001b[39m'\u001b[39m\n\u001b[1;32m    166\u001b[0m                   \u001b[39mf\u001b[39m\u001b[39m'\u001b[39m\u001b[39m \u001b[39m\u001b[39m{\u001b[39;00m\u001b[39mlist\u001b[39m(supported)\u001b[39m}\u001b[39;00m\u001b[39m: pass \u001b[39m\u001b[39m{\u001b[39;00mwanted\u001b[39m}\u001b[39;00m\u001b[39m'\u001b[39m\n\u001b[1;32m    167\u001b[0m                   \u001b[39m'\u001b[39m\u001b[39m as keyword arg(s)\u001b[39m\u001b[39m'\u001b[39m,\n\u001b[1;32m    168\u001b[0m                   stacklevel\u001b[39m=\u001b[39mstacklevel,\n\u001b[1;32m    169\u001b[0m                   category\u001b[39m=\u001b[39mcategory)\n\u001b[0;32m--> 171\u001b[0m \u001b[39mreturn\u001b[39;00m func(\u001b[39m*\u001b[39;49margs, \u001b[39m*\u001b[39;49m\u001b[39m*\u001b[39;49mkwargs)\n",
      "File \u001b[0;32m/opt/anaconda3/lib/python3.9/site-packages/graphviz/piping.py:121\u001b[0m, in \u001b[0;36mPipe._pipe_legacy\u001b[0;34m(self, format, renderer, formatter, neato_no_op, quiet, engine, encoding)\u001b[0m\n\u001b[1;32m    112\u001b[0m \u001b[39m@_tools\u001b[39m\u001b[39m.\u001b[39mdeprecate_positional_args(supported_number\u001b[39m=\u001b[39m\u001b[39m2\u001b[39m)\n\u001b[1;32m    113\u001b[0m \u001b[39mdef\u001b[39;00m \u001b[39m_pipe_legacy\u001b[39m(\u001b[39mself\u001b[39m,\n\u001b[1;32m    114\u001b[0m                  \u001b[39mformat\u001b[39m: typing\u001b[39m.\u001b[39mOptional[\u001b[39mstr\u001b[39m] \u001b[39m=\u001b[39m \u001b[39mNone\u001b[39;00m,\n\u001b[0;32m   (...)\u001b[0m\n\u001b[1;32m    119\u001b[0m                  engine: typing\u001b[39m.\u001b[39mOptional[\u001b[39mstr\u001b[39m] \u001b[39m=\u001b[39m \u001b[39mNone\u001b[39;00m,\n\u001b[1;32m    120\u001b[0m                  encoding: typing\u001b[39m.\u001b[39mOptional[\u001b[39mstr\u001b[39m] \u001b[39m=\u001b[39m \u001b[39mNone\u001b[39;00m) \u001b[39m-\u001b[39m\u001b[39m>\u001b[39m typing\u001b[39m.\u001b[39mUnion[\u001b[39mbytes\u001b[39m, \u001b[39mstr\u001b[39m]:\n\u001b[0;32m--> 121\u001b[0m     \u001b[39mreturn\u001b[39;00m \u001b[39mself\u001b[39;49m\u001b[39m.\u001b[39;49m_pipe_future(\u001b[39mformat\u001b[39;49m,\n\u001b[1;32m    122\u001b[0m                              renderer\u001b[39m=\u001b[39;49mrenderer,\n\u001b[1;32m    123\u001b[0m                              formatter\u001b[39m=\u001b[39;49mformatter,\n\u001b[1;32m    124\u001b[0m                              neato_no_op\u001b[39m=\u001b[39;49mneato_no_op,\n\u001b[1;32m    125\u001b[0m                              quiet\u001b[39m=\u001b[39;49mquiet,\n\u001b[1;32m    126\u001b[0m                              engine\u001b[39m=\u001b[39;49mengine,\n\u001b[1;32m    127\u001b[0m                              encoding\u001b[39m=\u001b[39;49mencoding)\n",
      "File \u001b[0;32m/opt/anaconda3/lib/python3.9/site-packages/graphviz/piping.py:149\u001b[0m, in \u001b[0;36mPipe._pipe_future\u001b[0;34m(self, format, renderer, formatter, neato_no_op, quiet, engine, encoding)\u001b[0m\n\u001b[1;32m    146\u001b[0m \u001b[39mif\u001b[39;00m encoding \u001b[39mis\u001b[39;00m \u001b[39mnot\u001b[39;00m \u001b[39mNone\u001b[39;00m:\n\u001b[1;32m    147\u001b[0m     \u001b[39mif\u001b[39;00m codecs\u001b[39m.\u001b[39mlookup(encoding) \u001b[39mis\u001b[39;00m codecs\u001b[39m.\u001b[39mlookup(\u001b[39mself\u001b[39m\u001b[39m.\u001b[39mencoding):\n\u001b[1;32m    148\u001b[0m         \u001b[39m# common case: both stdin and stdout need the same encoding\u001b[39;00m\n\u001b[0;32m--> 149\u001b[0m         \u001b[39mreturn\u001b[39;00m \u001b[39mself\u001b[39;49m\u001b[39m.\u001b[39;49m_pipe_lines_string(\u001b[39m*\u001b[39;49margs, encoding\u001b[39m=\u001b[39;49mencoding, \u001b[39m*\u001b[39;49m\u001b[39m*\u001b[39;49mkwargs)\n\u001b[1;32m    150\u001b[0m     \u001b[39mtry\u001b[39;00m:\n\u001b[1;32m    151\u001b[0m         raw \u001b[39m=\u001b[39m \u001b[39mself\u001b[39m\u001b[39m.\u001b[39m_pipe_lines(\u001b[39m*\u001b[39margs, input_encoding\u001b[39m=\u001b[39m\u001b[39mself\u001b[39m\u001b[39m.\u001b[39mencoding, \u001b[39m*\u001b[39m\u001b[39m*\u001b[39mkwargs)\n",
      "File \u001b[0;32m/opt/anaconda3/lib/python3.9/site-packages/graphviz/backend/piping.py:212\u001b[0m, in \u001b[0;36mpipe_lines_string\u001b[0;34m(engine, format, input_lines, encoding, renderer, formatter, neato_no_op, quiet)\u001b[0m\n\u001b[1;32m    206\u001b[0m cmd \u001b[39m=\u001b[39m dot_command\u001b[39m.\u001b[39mcommand(engine, \u001b[39mformat\u001b[39m,\n\u001b[1;32m    207\u001b[0m                           renderer\u001b[39m=\u001b[39mrenderer,\n\u001b[1;32m    208\u001b[0m                           formatter\u001b[39m=\u001b[39mformatter,\n\u001b[1;32m    209\u001b[0m                           neato_no_op\u001b[39m=\u001b[39mneato_no_op)\n\u001b[1;32m    210\u001b[0m kwargs \u001b[39m=\u001b[39m {\u001b[39m'\u001b[39m\u001b[39minput_lines\u001b[39m\u001b[39m'\u001b[39m: input_lines, \u001b[39m'\u001b[39m\u001b[39mencoding\u001b[39m\u001b[39m'\u001b[39m: encoding}\n\u001b[0;32m--> 212\u001b[0m proc \u001b[39m=\u001b[39m execute\u001b[39m.\u001b[39;49mrun_check(cmd, capture_output\u001b[39m=\u001b[39;49m\u001b[39mTrue\u001b[39;49;00m, quiet\u001b[39m=\u001b[39;49mquiet, \u001b[39m*\u001b[39;49m\u001b[39m*\u001b[39;49mkwargs)\n\u001b[1;32m    213\u001b[0m \u001b[39mreturn\u001b[39;00m proc\u001b[39m.\u001b[39mstdout\n",
      "File \u001b[0;32m/opt/anaconda3/lib/python3.9/site-packages/graphviz/backend/execute.py:84\u001b[0m, in \u001b[0;36mrun_check\u001b[0;34m(cmd, input_lines, encoding, quiet, **kwargs)\u001b[0m\n\u001b[1;32m     82\u001b[0m \u001b[39mexcept\u001b[39;00m \u001b[39mOSError\u001b[39;00m \u001b[39mas\u001b[39;00m e:\n\u001b[1;32m     83\u001b[0m     \u001b[39mif\u001b[39;00m e\u001b[39m.\u001b[39merrno \u001b[39m==\u001b[39m errno\u001b[39m.\u001b[39mENOENT:\n\u001b[0;32m---> 84\u001b[0m         \u001b[39mraise\u001b[39;00m ExecutableNotFound(cmd) \u001b[39mfrom\u001b[39;00m \u001b[39me\u001b[39;00m\n\u001b[1;32m     85\u001b[0m     \u001b[39mraise\u001b[39;00m\n\u001b[1;32m     87\u001b[0m \u001b[39mif\u001b[39;00m \u001b[39mnot\u001b[39;00m quiet \u001b[39mand\u001b[39;00m proc\u001b[39m.\u001b[39mstderr:\n",
      "\u001b[0;31mExecutableNotFound\u001b[0m: failed to execute PosixPath('dot'), make sure the Graphviz executables are on your systems' PATH"
     ]
    },
    {
     "data": {
      "text/plain": [
       "<graphviz.graphs.Digraph at 0x7f1244bda310>"
      ]
     },
     "execution_count": 109,
     "metadata": {},
     "output_type": "execute_result"
    }
   ],
   "source": [
    "model_cb.plot_tree(tree_idx=0)"
   ]
  }
 ],
 "metadata": {
  "kernelspec": {
   "display_name": "Python 3 (ipykernel)",
   "language": "python",
   "name": "python3"
  },
  "language_info": {
   "codemirror_mode": {
    "name": "ipython",
    "version": 3
   },
   "file_extension": ".py",
   "mimetype": "text/x-python",
   "name": "python",
   "nbconvert_exporter": "python",
   "pygments_lexer": "ipython3",
   "version": "3.9.12"
  }
 },
 "nbformat": 4,
 "nbformat_minor": 5
}
