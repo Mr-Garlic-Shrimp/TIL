{
 "cells": [
  {
   "cell_type": "markdown",
   "id": "0e607e6f-c3fc-4af4-a75e-f84822115fd5",
   "metadata": {},
   "source": [
    "# <b>機械学習の基礎</b>\n",
    "経験からの学習により自動で改善するコンピューターアルゴリズムもしくはその研究領域で、人工知能の一種であるとみなされている。  \n",
    "「訓練データ」もしくは「学習データ」と呼ばれるデータを使って学習し、学習結果を使って何らかのタスクをこなす。  \n",
    "\n",
    "機械学習のタスクは下記の3つに大別される。  \n",
    "* 回帰(regression): 連続値を予測する  \n",
    "    応用例：　株価予想、ダイヤの価格予想\n",
    "    <br></br>\n",
    "* 分類/識別(classifica/on): カテゴリーやクラス，ラベルと呼ばれる”種類”を判別する.  \n",
    "    応用例：　医用画像診断、迷惑メールフィルタ、顔認証、音声認識\n",
    "    <br></br>\n",
    "* クラスタリング(clustering): データをカテゴリーやクラス，ラベルと呼ばれる”種類”に分別(グループ化)していく．  \n",
    "    応用例：　DNA組成にもとづく生物の分類\n",
    "    <br></br>\n",
    "参考：https://ja.wikipedia.org/wiki/%E6%A9%9F%E6%A2%B0%E5%AD%A6%E7%BF%92"
   ]
  },
  {
   "cell_type": "code",
   "execution_count": null,
   "id": "320cad2e-34a7-43cd-a270-5a38c7404c23",
   "metadata": {},
   "outputs": [],
   "source": []
  }
 ],
 "metadata": {
  "kernelspec": {
   "display_name": "Python 3",
   "language": "python",
   "name": "python3"
  },
  "language_info": {
   "codemirror_mode": {
    "name": "ipython",
    "version": 3
   },
   "file_extension": ".py",
   "mimetype": "text/x-python",
   "name": "python",
   "nbconvert_exporter": "python",
   "pygments_lexer": "ipython3",
   "version": "3.8.8"
  }
 },
 "nbformat": 4,
 "nbformat_minor": 5
}
