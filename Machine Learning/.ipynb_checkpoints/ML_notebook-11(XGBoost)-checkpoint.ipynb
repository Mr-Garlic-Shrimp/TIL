{
 "cells": [
  {
   "cell_type": "markdown",
   "id": "f6d6e0bd-7b58-4db4-8262-489741cf6b2d",
   "metadata": {},
   "source": [
    "# 機械学習をPythonで実践する-11　　～ XGBoost ～\n",
    "eXtreme Gradient Boostingの略。  \n",
    "参考：https://datawokagaku.com/xgboost/"
   ]
  },
  {
   "cell_type": "code",
   "execution_count": 304,
   "id": "d73ab698-af5b-43cf-9e07-dac04d133164",
   "metadata": {},
   "outputs": [
    {
     "name": "stdout",
     "output_type": "stream",
     "text": [
      "The autoreload extension is already loaded. To reload it, use:\n",
      "  %reload_ext autoreload\n"
     ]
    }
   ],
   "source": [
    "%load_ext autoreload\n",
    "%autoreload 2\n",
    "import pandas as pd\n",
    "import numpy as np\n",
    "import seaborn as sns\n",
    "from sklearn.preprocessing import StandardScaler, PolynomialFeatures, label_binarize\n",
    "# import statsmodels.api as sma\n",
    "from sklearn.model_selection import train_test_split ,LeaveOneOut, cross_val_score, KFold, RepeatedKFold,StratifiedKFold\n",
    "from sklearn.metrics import mean_squared_error, mean_absolute_error, r2_score, log_loss, confusion_matrix,ConfusionMatrixDisplay, \\\n",
    "accuracy_score, precision_score, recall_score,precision_recall_curve,f1_score,roc_curve,auc,get_scorer_names\n",
    "from sklearn.decomposition import PCA\n",
    "from sklearn.datasets import fetch_openml\n",
    "from sklearn.cluster import KMeans\n",
    "from scipy.cluster.hierarchy import linkage,dendrogram,fcluster\n",
    "from sklearn import tree\n",
    "\n",
    "%matplotlib inline\n",
    "import matplotlib.pyplot as plt\n"
   ]
  },
  {
   "cell_type": "markdown",
   "id": "587a3656-fc6e-4f98-944c-1f0e04220e97",
   "metadata": {},
   "source": [
    "## ○ XGBoostで分類\n",
    "pipでxgboostをインストールする必要あり。  \n",
    "xgboostライブラリからXGBClassifierをインポートして分類を行う。  \n",
    "基本的な使い方はscikit-learnの各モデルと同じ。インスタンス生成してfitで学習する。  \n",
    "分類器XGBClassifier()インスタンス生成時のパラメータは下記。  \n",
    "* n_estimators : ブースティングの回数(=学習する決定木の数)．デフォルトは100．\n",
    "* learning_rate : shrinkageのη．デフォルトは0.3。\n",
    "* max_depth : 決定木の最高の深さ．デフォルトは6\n",
    "* eval_metric : ブースティング時の各イテレーション時に使う評価指標(特に後述するearly stoppingに使用). sklearn.metricsのメソッドを渡すか，自作してもOK．デフォルトは 'logloss'\n",
    "* early_stopping_rounds : early stoppingする際の，最低限ブースティングのイテレーションをする回数  \n",
    "\n",
    "early stoppingとは、ブースティングのイテレーション時に評価指標がそれ以上上がらなくなったら自動で学習をやめてくれること。  "
   ]
  },
  {
   "cell_type": "code",
   "execution_count": null,
   "id": "dfb467c6-def1-4317-8f44-ad30c7c0a48a",
   "metadata": {},
   "outputs": [
    {
     "name": "stdout",
     "output_type": "stream",
     "text": [
      "Collecting xgboost\n",
      "  Downloading xgboost-1.7.3-py3-none-manylinux2014_x86_64.whl (193.6 MB)\n",
      "\u001b[2K     \u001b[90m━━━━━━━━━━━━━━━━━━━━━━━━━━━━━━━━━━━━━━━\u001b[0m \u001b[32m193.6/193.6 MB\u001b[0m \u001b[31m1.9 MB/s\u001b[0m eta \u001b[36m0:00:00\u001b[0m00:01\u001b[0m00:01\u001b[0m\n",
      "\u001b[?25hRequirement already satisfied: scipy in /opt/anaconda3/lib/python3.9/site-packages (from xgboost) (1.7.3)\n",
      "Requirement already satisfied: numpy in /opt/anaconda3/lib/python3.9/site-packages (from xgboost) (1.21.5)\n",
      "Installing collected packages: xgboost\n",
      "Successfully installed xgboost-1.7.3\n",
      "\u001b[33mWARNING: Running pip as the 'root' user can result in broken permissions and conflicting behaviour with the system package manager. It is recommended to use a virtual environment instead: https://pip.pypa.io/warnings/venv\u001b[0m\u001b[33m\n",
      "\u001b[0m\n",
      "\u001b[1m[\u001b[0m\u001b[34;49mnotice\u001b[0m\u001b[1;39;49m]\u001b[0m\u001b[39;49m A new release of pip available: \u001b[0m\u001b[31;49m22.2\u001b[0m\u001b[39;49m -> \u001b[0m\u001b[32;49m22.3.1\u001b[0m\n",
      "\u001b[1m[\u001b[0m\u001b[34;49mnotice\u001b[0m\u001b[1;39;49m]\u001b[0m\u001b[39;49m To update, run: \u001b[0m\u001b[32;49mpip install --upgrade pip\u001b[0m\n",
      "Note: you may need to restart the kernel to use updated packages.\n"
     ]
    }
   ],
   "source": [
    "# xgboostをインストール。scikit-learnには入っていない。\n",
    "%pip install xgboost"
   ]
  },
  {
   "cell_type": "code",
   "execution_count": 107,
   "id": "dce7c18f-53d5-43ed-bb43-dc4eda10f2a9",
   "metadata": {},
   "outputs": [],
   "source": [
    "# xgboostをインポート\n",
    "from xgboost import XGBClassifier\n",
    "import xgboost as xgb"
   ]
  },
  {
   "cell_type": "code",
   "execution_count": 95,
   "id": "a9866061-ef98-4f58-85ae-129aeddee09a",
   "metadata": {},
   "outputs": [],
   "source": [
    "# seabornのtitanicデータセットをインポート\n",
    "df = sns.load_dataset('titanic')"
   ]
  },
  {
   "cell_type": "code",
   "execution_count": 96,
   "id": "abb51cdb-1371-449e-8d81-f73782e3284f",
   "metadata": {},
   "outputs": [
    {
     "data": {
      "text/html": [
       "<div>\n",
       "<style scoped>\n",
       "    .dataframe tbody tr th:only-of-type {\n",
       "        vertical-align: middle;\n",
       "    }\n",
       "\n",
       "    .dataframe tbody tr th {\n",
       "        vertical-align: top;\n",
       "    }\n",
       "\n",
       "    .dataframe thead th {\n",
       "        text-align: right;\n",
       "    }\n",
       "</style>\n",
       "<table border=\"1\" class=\"dataframe\">\n",
       "  <thead>\n",
       "    <tr style=\"text-align: right;\">\n",
       "      <th></th>\n",
       "      <th>survived</th>\n",
       "      <th>pclass</th>\n",
       "      <th>sex</th>\n",
       "      <th>age</th>\n",
       "      <th>sibsp</th>\n",
       "      <th>parch</th>\n",
       "      <th>fare</th>\n",
       "      <th>embarked</th>\n",
       "      <th>class</th>\n",
       "      <th>who</th>\n",
       "      <th>adult_male</th>\n",
       "      <th>deck</th>\n",
       "      <th>embark_town</th>\n",
       "      <th>alive</th>\n",
       "      <th>alone</th>\n",
       "    </tr>\n",
       "  </thead>\n",
       "  <tbody>\n",
       "    <tr>\n",
       "      <th>0</th>\n",
       "      <td>0</td>\n",
       "      <td>3</td>\n",
       "      <td>male</td>\n",
       "      <td>22.0</td>\n",
       "      <td>1</td>\n",
       "      <td>0</td>\n",
       "      <td>7.2500</td>\n",
       "      <td>S</td>\n",
       "      <td>Third</td>\n",
       "      <td>man</td>\n",
       "      <td>True</td>\n",
       "      <td>NaN</td>\n",
       "      <td>Southampton</td>\n",
       "      <td>no</td>\n",
       "      <td>False</td>\n",
       "    </tr>\n",
       "    <tr>\n",
       "      <th>1</th>\n",
       "      <td>1</td>\n",
       "      <td>1</td>\n",
       "      <td>female</td>\n",
       "      <td>38.0</td>\n",
       "      <td>1</td>\n",
       "      <td>0</td>\n",
       "      <td>71.2833</td>\n",
       "      <td>C</td>\n",
       "      <td>First</td>\n",
       "      <td>woman</td>\n",
       "      <td>False</td>\n",
       "      <td>C</td>\n",
       "      <td>Cherbourg</td>\n",
       "      <td>yes</td>\n",
       "      <td>False</td>\n",
       "    </tr>\n",
       "    <tr>\n",
       "      <th>2</th>\n",
       "      <td>1</td>\n",
       "      <td>3</td>\n",
       "      <td>female</td>\n",
       "      <td>26.0</td>\n",
       "      <td>0</td>\n",
       "      <td>0</td>\n",
       "      <td>7.9250</td>\n",
       "      <td>S</td>\n",
       "      <td>Third</td>\n",
       "      <td>woman</td>\n",
       "      <td>False</td>\n",
       "      <td>NaN</td>\n",
       "      <td>Southampton</td>\n",
       "      <td>yes</td>\n",
       "      <td>True</td>\n",
       "    </tr>\n",
       "    <tr>\n",
       "      <th>3</th>\n",
       "      <td>1</td>\n",
       "      <td>1</td>\n",
       "      <td>female</td>\n",
       "      <td>35.0</td>\n",
       "      <td>1</td>\n",
       "      <td>0</td>\n",
       "      <td>53.1000</td>\n",
       "      <td>S</td>\n",
       "      <td>First</td>\n",
       "      <td>woman</td>\n",
       "      <td>False</td>\n",
       "      <td>C</td>\n",
       "      <td>Southampton</td>\n",
       "      <td>yes</td>\n",
       "      <td>False</td>\n",
       "    </tr>\n",
       "    <tr>\n",
       "      <th>4</th>\n",
       "      <td>0</td>\n",
       "      <td>3</td>\n",
       "      <td>male</td>\n",
       "      <td>35.0</td>\n",
       "      <td>0</td>\n",
       "      <td>0</td>\n",
       "      <td>8.0500</td>\n",
       "      <td>S</td>\n",
       "      <td>Third</td>\n",
       "      <td>man</td>\n",
       "      <td>True</td>\n",
       "      <td>NaN</td>\n",
       "      <td>Southampton</td>\n",
       "      <td>no</td>\n",
       "      <td>True</td>\n",
       "    </tr>\n",
       "  </tbody>\n",
       "</table>\n",
       "</div>"
      ],
      "text/plain": [
       "   survived  pclass     sex   age  sibsp  parch     fare embarked  class  \\\n",
       "0         0       3    male  22.0      1      0   7.2500        S  Third   \n",
       "1         1       1  female  38.0      1      0  71.2833        C  First   \n",
       "2         1       3  female  26.0      0      0   7.9250        S  Third   \n",
       "3         1       1  female  35.0      1      0  53.1000        S  First   \n",
       "4         0       3    male  35.0      0      0   8.0500        S  Third   \n",
       "\n",
       "     who  adult_male deck  embark_town alive  alone  \n",
       "0    man        True  NaN  Southampton    no  False  \n",
       "1  woman       False    C    Cherbourg   yes  False  \n",
       "2  woman       False  NaN  Southampton   yes   True  \n",
       "3  woman       False    C  Southampton   yes  False  \n",
       "4    man        True  NaN  Southampton    no   True  "
      ]
     },
     "execution_count": 96,
     "metadata": {},
     "output_type": "execute_result"
    }
   ],
   "source": [
    "df.head()"
   ]
  },
  {
   "cell_type": "markdown",
   "id": "656edd03-19ce-44dd-ad05-a17763ff9db2",
   "metadata": {},
   "source": [
    "<b>★重要  \n",
    "XGBoostは欠損値に対処するアルゴリズムが組み込まれているため、欠損値（NaN）をdropする必要はなく、  \n",
    "欠損値があるデータをそのままモデルに学習させることができる。</b>  \n",
    "欠損値に別途値を代入してからXGBoostを学習させてもよいが、XGBoostを使う場合は欠損値対応はせずに、  \n",
    "そのまま学習させることが多い。もし、欠損値のデータをdropすると学習データが減ってしまい一般的に精度が下がる。  "
   ]
  },
  {
   "cell_type": "code",
   "execution_count": 303,
   "id": "997e9894-5a85-43d1-adb4-591b2d3f6a46",
   "metadata": {},
   "outputs": [
    {
     "data": {
      "text/plain": [
       "0    549\n",
       "1    342\n",
       "Name: survived, dtype: int64"
      ]
     },
     "execution_count": 303,
     "metadata": {},
     "output_type": "execute_result"
    }
   ],
   "source": [
    "# 目的変数の割合を確認\n",
    "df['survived'].value_counts()"
   ]
  },
  {
   "cell_type": "markdown",
   "id": "bffb8f26-1b9d-43a8-8797-b47a2ad1b657",
   "metadata": {},
   "source": [
    "死者の方が多い。"
   ]
  },
  {
   "cell_type": "code",
   "execution_count": 261,
   "id": "c71901af-8e60-4aae-ba1a-9103b075f1d9",
   "metadata": {},
   "outputs": [],
   "source": [
    "# survivedとalive以外を特徴量にする。.dropnaをする必要はない。\n",
    "X = df.loc[:, (df.columns != 'survived') &  (df.columns != 'alive')]\n",
    "X = pd.get_dummies(X, drop_first=True)\n",
    "y = df['survived']\n",
    "X_train, X_test, y_train, y_test = train_test_split(X, y, test_size=0.3,random_state=0)"
   ]
  },
  {
   "cell_type": "code",
   "execution_count": 289,
   "id": "5e0ab2ff-1b31-4335-ac5b-3cfe31c31eb2",
   "metadata": {},
   "outputs": [
    {
     "name": "stdout",
     "output_type": "stream",
     "text": [
      "[0]\tvalidation_0-logloss:0.64774\n",
      "[1]\tvalidation_0-logloss:0.61109\n",
      "[2]\tvalidation_0-logloss:0.58059\n",
      "[3]\tvalidation_0-logloss:0.55464\n",
      "[4]\tvalidation_0-logloss:0.53387\n",
      "[5]\tvalidation_0-logloss:0.51710\n",
      "[6]\tvalidation_0-logloss:0.50228\n",
      "[7]\tvalidation_0-logloss:0.49012\n",
      "[8]\tvalidation_0-logloss:0.47901\n",
      "[9]\tvalidation_0-logloss:0.47070\n",
      "[10]\tvalidation_0-logloss:0.46297\n",
      "[11]\tvalidation_0-logloss:0.45603\n",
      "[12]\tvalidation_0-logloss:0.45033\n",
      "[13]\tvalidation_0-logloss:0.44547\n",
      "[14]\tvalidation_0-logloss:0.44080\n",
      "[15]\tvalidation_0-logloss:0.43653\n",
      "[16]\tvalidation_0-logloss:0.43411\n",
      "[17]\tvalidation_0-logloss:0.43146\n",
      "[18]\tvalidation_0-logloss:0.42979\n",
      "[19]\tvalidation_0-logloss:0.42736\n",
      "[20]\tvalidation_0-logloss:0.42457\n",
      "[21]\tvalidation_0-logloss:0.42280\n",
      "[22]\tvalidation_0-logloss:0.42120\n",
      "[23]\tvalidation_0-logloss:0.41939\n",
      "[24]\tvalidation_0-logloss:0.41859\n",
      "[25]\tvalidation_0-logloss:0.41663\n",
      "[26]\tvalidation_0-logloss:0.41589\n",
      "[27]\tvalidation_0-logloss:0.41614\n",
      "[28]\tvalidation_0-logloss:0.41452\n",
      "[29]\tvalidation_0-logloss:0.41311\n",
      "[30]\tvalidation_0-logloss:0.41333\n",
      "[31]\tvalidation_0-logloss:0.41249\n",
      "[32]\tvalidation_0-logloss:0.41210\n",
      "[33]\tvalidation_0-logloss:0.41081\n",
      "[34]\tvalidation_0-logloss:0.40961\n",
      "[35]\tvalidation_0-logloss:0.41081\n",
      "[36]\tvalidation_0-logloss:0.41090\n",
      "[37]\tvalidation_0-logloss:0.41140\n",
      "[38]\tvalidation_0-logloss:0.41171\n",
      "[39]\tvalidation_0-logloss:0.41138\n",
      "[40]\tvalidation_0-logloss:0.41139\n",
      "[41]\tvalidation_0-logloss:0.41231\n",
      "[42]\tvalidation_0-logloss:0.41223\n",
      "[43]\tvalidation_0-logloss:0.41202\n",
      "[44]\tvalidation_0-logloss:0.41274\n"
     ]
    },
    {
     "data": {
      "text/html": [
       "<style>#sk-container-id-37 {color: black;background-color: white;}#sk-container-id-37 pre{padding: 0;}#sk-container-id-37 div.sk-toggleable {background-color: white;}#sk-container-id-37 label.sk-toggleable__label {cursor: pointer;display: block;width: 100%;margin-bottom: 0;padding: 0.3em;box-sizing: border-box;text-align: center;}#sk-container-id-37 label.sk-toggleable__label-arrow:before {content: \"▸\";float: left;margin-right: 0.25em;color: #696969;}#sk-container-id-37 label.sk-toggleable__label-arrow:hover:before {color: black;}#sk-container-id-37 div.sk-estimator:hover label.sk-toggleable__label-arrow:before {color: black;}#sk-container-id-37 div.sk-toggleable__content {max-height: 0;max-width: 0;overflow: hidden;text-align: left;background-color: #f0f8ff;}#sk-container-id-37 div.sk-toggleable__content pre {margin: 0.2em;color: black;border-radius: 0.25em;background-color: #f0f8ff;}#sk-container-id-37 input.sk-toggleable__control:checked~div.sk-toggleable__content {max-height: 200px;max-width: 100%;overflow: auto;}#sk-container-id-37 input.sk-toggleable__control:checked~label.sk-toggleable__label-arrow:before {content: \"▾\";}#sk-container-id-37 div.sk-estimator input.sk-toggleable__control:checked~label.sk-toggleable__label {background-color: #d4ebff;}#sk-container-id-37 div.sk-label input.sk-toggleable__control:checked~label.sk-toggleable__label {background-color: #d4ebff;}#sk-container-id-37 input.sk-hidden--visually {border: 0;clip: rect(1px 1px 1px 1px);clip: rect(1px, 1px, 1px, 1px);height: 1px;margin: -1px;overflow: hidden;padding: 0;position: absolute;width: 1px;}#sk-container-id-37 div.sk-estimator {font-family: monospace;background-color: #f0f8ff;border: 1px dotted black;border-radius: 0.25em;box-sizing: border-box;margin-bottom: 0.5em;}#sk-container-id-37 div.sk-estimator:hover {background-color: #d4ebff;}#sk-container-id-37 div.sk-parallel-item::after {content: \"\";width: 100%;border-bottom: 1px solid gray;flex-grow: 1;}#sk-container-id-37 div.sk-label:hover label.sk-toggleable__label {background-color: #d4ebff;}#sk-container-id-37 div.sk-serial::before {content: \"\";position: absolute;border-left: 1px solid gray;box-sizing: border-box;top: 0;bottom: 0;left: 50%;z-index: 0;}#sk-container-id-37 div.sk-serial {display: flex;flex-direction: column;align-items: center;background-color: white;padding-right: 0.2em;padding-left: 0.2em;position: relative;}#sk-container-id-37 div.sk-item {position: relative;z-index: 1;}#sk-container-id-37 div.sk-parallel {display: flex;align-items: stretch;justify-content: center;background-color: white;position: relative;}#sk-container-id-37 div.sk-item::before, #sk-container-id-37 div.sk-parallel-item::before {content: \"\";position: absolute;border-left: 1px solid gray;box-sizing: border-box;top: 0;bottom: 0;left: 50%;z-index: -1;}#sk-container-id-37 div.sk-parallel-item {display: flex;flex-direction: column;z-index: 1;position: relative;background-color: white;}#sk-container-id-37 div.sk-parallel-item:first-child::after {align-self: flex-end;width: 50%;}#sk-container-id-37 div.sk-parallel-item:last-child::after {align-self: flex-start;width: 50%;}#sk-container-id-37 div.sk-parallel-item:only-child::after {width: 0;}#sk-container-id-37 div.sk-dashed-wrapped {border: 1px dashed gray;margin: 0 0.4em 0.5em 0.4em;box-sizing: border-box;padding-bottom: 0.4em;background-color: white;}#sk-container-id-37 div.sk-label label {font-family: monospace;font-weight: bold;display: inline-block;line-height: 1.2em;}#sk-container-id-37 div.sk-label-container {text-align: center;}#sk-container-id-37 div.sk-container {/* jupyter's `normalize.less` sets `[hidden] { display: none; }` but bootstrap.min.css set `[hidden] { display: none !important; }` so we also need the `!important` here to be able to override the default hidden behavior on the sphinx rendered scikit-learn.org. See: https://github.com/scikit-learn/scikit-learn/issues/21755 */display: inline-block !important;position: relative;}#sk-container-id-37 div.sk-text-repr-fallback {display: none;}</style><div id=\"sk-container-id-37\" class=\"sk-top-container\"><div class=\"sk-text-repr-fallback\"><pre>XGBClassifier(base_score=None, booster=None, callbacks=None,\n",
       "              colsample_bylevel=None, colsample_bynode=None,\n",
       "              colsample_bytree=None, early_stopping_rounds=10,\n",
       "              enable_categorical=False, eval_metric=None, feature_types=None,\n",
       "              gamma=None, gpu_id=None, grow_policy=None, importance_type=None,\n",
       "              interaction_constraints=None, learning_rate=0.1, max_bin=None,\n",
       "              max_cat_threshold=None, max_cat_to_onehot=None,\n",
       "              max_delta_step=None, max_depth=None, max_leaves=None,\n",
       "              min_child_weight=None, missing=nan, monotone_constraints=None,\n",
       "              n_estimators=100, n_jobs=None, num_parallel_tree=None,\n",
       "              predictor=None, random_state=None, ...)</pre><b>In a Jupyter environment, please rerun this cell to show the HTML representation or trust the notebook. <br />On GitHub, the HTML representation is unable to render, please try loading this page with nbviewer.org.</b></div><div class=\"sk-container\" hidden><div class=\"sk-item\"><div class=\"sk-estimator sk-toggleable\"><input class=\"sk-toggleable__control sk-hidden--visually\" id=\"sk-estimator-id-37\" type=\"checkbox\" checked><label for=\"sk-estimator-id-37\" class=\"sk-toggleable__label sk-toggleable__label-arrow\">XGBClassifier</label><div class=\"sk-toggleable__content\"><pre>XGBClassifier(base_score=None, booster=None, callbacks=None,\n",
       "              colsample_bylevel=None, colsample_bynode=None,\n",
       "              colsample_bytree=None, early_stopping_rounds=10,\n",
       "              enable_categorical=False, eval_metric=None, feature_types=None,\n",
       "              gamma=None, gpu_id=None, grow_policy=None, importance_type=None,\n",
       "              interaction_constraints=None, learning_rate=0.1, max_bin=None,\n",
       "              max_cat_threshold=None, max_cat_to_onehot=None,\n",
       "              max_delta_step=None, max_depth=None, max_leaves=None,\n",
       "              min_child_weight=None, missing=nan, monotone_constraints=None,\n",
       "              n_estimators=100, n_jobs=None, num_parallel_tree=None,\n",
       "              predictor=None, random_state=None, ...)</pre></div></div></div></div></div>"
      ],
      "text/plain": [
       "XGBClassifier(base_score=None, booster=None, callbacks=None,\n",
       "              colsample_bylevel=None, colsample_bynode=None,\n",
       "              colsample_bytree=None, early_stopping_rounds=10,\n",
       "              enable_categorical=False, eval_metric=None, feature_types=None,\n",
       "              gamma=None, gpu_id=None, grow_policy=None, importance_type=None,\n",
       "              interaction_constraints=None, learning_rate=0.1, max_bin=None,\n",
       "              max_cat_threshold=None, max_cat_to_onehot=None,\n",
       "              max_delta_step=None, max_depth=None, max_leaves=None,\n",
       "              min_child_weight=None, missing=nan, monotone_constraints=None,\n",
       "              n_estimators=100, n_jobs=None, num_parallel_tree=None,\n",
       "              predictor=None, random_state=None, ...)"
      ]
     },
     "execution_count": 289,
     "metadata": {},
     "output_type": "execute_result"
    }
   ],
   "source": [
    "# XGBoostで学習。\n",
    "model = XGBClassifier(early_stopping_rounds=10, learning_rate=0.1)#, alpha=5)\n",
    "# .fitのeval_setに(X,y)を渡すと、ブースティング時の各イテレーションごとにこのデータセットで評価(今回はlogloss)してくれる。\n",
    "# この評価はearly stoppingの判定基準のこと。\n",
    "# 今回は本来のテストデータを検証データに使用。検証データに過学習気味になるので別途汎化性能を確かめた方が良い。\n",
    "eval_set = [(X_test, y_test)]\n",
    "model.fit(X_train, y_train, eval_set=eval_set, verbose=True)"
   ]
  },
  {
   "cell_type": "markdown",
   "id": "4dc0b118-d93d-475e-852d-5078af794d45",
   "metadata": {},
   "source": [
    "XGBoostの場合、.fitはモデル自体も返してくる。  \n",
    "本来100回イテレーションを行うはずだが、[34]回目にloglossが最小になっているので、  \n",
    "early-stoppingにより、44回目で学習を終了する。"
   ]
  },
  {
   "cell_type": "code",
   "execution_count": 290,
   "id": "7e95b78e-02ed-48fc-9e45-ac5a251f6288",
   "metadata": {},
   "outputs": [
    {
     "data": {
      "text/plain": [
       "0.4096059097574829"
      ]
     },
     "execution_count": 290,
     "metadata": {},
     "output_type": "execute_result"
    }
   ],
   "source": [
    "# 最終的なlog-lossを確認\n",
    "y_pred = model.predict_proba(X_test)\n",
    "log_loss(y_test,y_pred)"
   ]
  },
  {
   "cell_type": "code",
   "execution_count": 291,
   "id": "c2f90d24-fc1f-4389-a51f-bade0fdace0f",
   "metadata": {},
   "outputs": [
    {
     "data": {
      "text/plain": [
       "0.8059701492537313"
      ]
     },
     "execution_count": 291,
     "metadata": {},
     "output_type": "execute_result"
    }
   ],
   "source": [
    "accuracy_score(y_test, model.predict(X_test))"
   ]
  },
  {
   "cell_type": "markdown",
   "id": "8d9035fb-aa92-4318-b5af-29b9b552c846",
   "metadata": {},
   "source": [
    "普通の決定木による分類の方がわずかに精度が良い結果となった。(ML_notebook-9)  \n",
    "こちらはX_testを既に学習の参考データ(early stopping用)として使っているので、フェアな評価ではない。（もっと高くあるべき・・・）  "
   ]
  },
  {
   "cell_type": "code",
   "execution_count": 292,
   "id": "f083cfd5-3749-4f3c-be47-d6f00c27e601",
   "metadata": {},
   "outputs": [
    {
     "data": {
      "text/plain": [
       "0.8059701492537313"
      ]
     },
     "execution_count": 292,
     "metadata": {},
     "output_type": "execute_result"
    }
   ],
   "source": [
    "# こっちでもaccuracy確認可能。\n",
    "model.score(X_test, y_test)"
   ]
  },
  {
   "cell_type": "code",
   "execution_count": 293,
   "id": "fbc3f6b1-7620-4700-baac-2fd28618e9e3",
   "metadata": {},
   "outputs": [
    {
     "data": {
      "text/plain": [
       "0.8956661316211878"
      ]
     },
     "execution_count": 293,
     "metadata": {},
     "output_type": "execute_result"
    }
   ],
   "source": [
    "model.score(X_train, y_train)"
   ]
  },
  {
   "cell_type": "markdown",
   "id": "a0d3df1a-7695-4a58-a73e-f43070aa3be9",
   "metadata": {},
   "source": [
    "scoreを見てみると学習データでの精度が高く、過学習気味になっている可能性あり。  "
   ]
  },
  {
   "cell_type": "code",
   "execution_count": 297,
   "id": "1b481e80-e620-4c97-a9e1-5f34f85a84eb",
   "metadata": {},
   "outputs": [],
   "source": [
    "# k-fold CVしてみる\n",
    "from xgboost import cv\n",
    "data_dmatrix = xgb.DMatrix(data=X, label=y)\n",
    "\n",
    "params = {\"objective\":\"binary:logistic\",'learning_rate': 0.1}\n",
    "                #'max_depth': 5, 'alpha': 5}\n",
    "\n",
    "# xgboostのcvメソッドでk-fold CV可能\n",
    "xgb_cv = cv(dtrain=data_dmatrix, params=params, nfold=5,\n",
    "                    num_boost_round=50, early_stopping_rounds=10, metrics=\"logloss\", as_pandas=True)"
   ]
  },
  {
   "cell_type": "code",
   "execution_count": 299,
   "id": "747d84c7-4a8c-44ea-b393-3809bbd333a9",
   "metadata": {},
   "outputs": [
    {
     "data": {
      "text/html": [
       "<div>\n",
       "<style scoped>\n",
       "    .dataframe tbody tr th:only-of-type {\n",
       "        vertical-align: middle;\n",
       "    }\n",
       "\n",
       "    .dataframe tbody tr th {\n",
       "        vertical-align: top;\n",
       "    }\n",
       "\n",
       "    .dataframe thead th {\n",
       "        text-align: right;\n",
       "    }\n",
       "</style>\n",
       "<table border=\"1\" class=\"dataframe\">\n",
       "  <thead>\n",
       "    <tr style=\"text-align: right;\">\n",
       "      <th></th>\n",
       "      <th>train-logloss-mean</th>\n",
       "      <th>train-logloss-std</th>\n",
       "      <th>test-logloss-mean</th>\n",
       "      <th>test-logloss-std</th>\n",
       "    </tr>\n",
       "  </thead>\n",
       "  <tbody>\n",
       "    <tr>\n",
       "      <th>20</th>\n",
       "      <td>0.317210</td>\n",
       "      <td>0.005644</td>\n",
       "      <td>0.433656</td>\n",
       "      <td>0.029206</td>\n",
       "    </tr>\n",
       "    <tr>\n",
       "      <th>21</th>\n",
       "      <td>0.312102</td>\n",
       "      <td>0.005606</td>\n",
       "      <td>0.432602</td>\n",
       "      <td>0.029698</td>\n",
       "    </tr>\n",
       "    <tr>\n",
       "      <th>22</th>\n",
       "      <td>0.307537</td>\n",
       "      <td>0.005243</td>\n",
       "      <td>0.431100</td>\n",
       "      <td>0.030471</td>\n",
       "    </tr>\n",
       "    <tr>\n",
       "      <th>23</th>\n",
       "      <td>0.303419</td>\n",
       "      <td>0.005595</td>\n",
       "      <td>0.430276</td>\n",
       "      <td>0.031128</td>\n",
       "    </tr>\n",
       "    <tr>\n",
       "      <th>24</th>\n",
       "      <td>0.299577</td>\n",
       "      <td>0.005482</td>\n",
       "      <td>0.429260</td>\n",
       "      <td>0.031215</td>\n",
       "    </tr>\n",
       "    <tr>\n",
       "      <th>25</th>\n",
       "      <td>0.296104</td>\n",
       "      <td>0.005676</td>\n",
       "      <td>0.428953</td>\n",
       "      <td>0.031663</td>\n",
       "    </tr>\n",
       "    <tr>\n",
       "      <th>26</th>\n",
       "      <td>0.292589</td>\n",
       "      <td>0.005791</td>\n",
       "      <td>0.428614</td>\n",
       "      <td>0.031892</td>\n",
       "    </tr>\n",
       "    <tr>\n",
       "      <th>27</th>\n",
       "      <td>0.289508</td>\n",
       "      <td>0.005882</td>\n",
       "      <td>0.428800</td>\n",
       "      <td>0.032381</td>\n",
       "    </tr>\n",
       "    <tr>\n",
       "      <th>28</th>\n",
       "      <td>0.286670</td>\n",
       "      <td>0.005877</td>\n",
       "      <td>0.428790</td>\n",
       "      <td>0.032563</td>\n",
       "    </tr>\n",
       "    <tr>\n",
       "      <th>29</th>\n",
       "      <td>0.283517</td>\n",
       "      <td>0.005397</td>\n",
       "      <td>0.428170</td>\n",
       "      <td>0.032806</td>\n",
       "    </tr>\n",
       "  </tbody>\n",
       "</table>\n",
       "</div>"
      ],
      "text/plain": [
       "    train-logloss-mean  train-logloss-std  test-logloss-mean  test-logloss-std\n",
       "20            0.317210           0.005644           0.433656          0.029206\n",
       "21            0.312102           0.005606           0.432602          0.029698\n",
       "22            0.307537           0.005243           0.431100          0.030471\n",
       "23            0.303419           0.005595           0.430276          0.031128\n",
       "24            0.299577           0.005482           0.429260          0.031215\n",
       "25            0.296104           0.005676           0.428953          0.031663\n",
       "26            0.292589           0.005791           0.428614          0.031892\n",
       "27            0.289508           0.005882           0.428800          0.032381\n",
       "28            0.286670           0.005877           0.428790          0.032563\n",
       "29            0.283517           0.005397           0.428170          0.032806"
      ]
     },
     "execution_count": 299,
     "metadata": {},
     "output_type": "execute_result"
    }
   ],
   "source": [
    "xgb_cv[-10:]"
   ]
  },
  {
   "cell_type": "markdown",
   "id": "b07a0a2f-8a65-4935-a306-a9382d7b3780",
   "metadata": {},
   "source": [
    "k-fold CVの結果(test-logloss-mean)と学習結果のlog-lossには大きな乖離はないので、  \n",
    "上記の学習の中で検証データ(X_test)に過学習しているわけではなさそう。  \n",
    "もし過学習しているのであれば学習したモデルのlog-lossが圧倒的に良くなるはず。  \n",
    "ただ、学習データには過学習気味になっていそう。"
   ]
  },
  {
   "cell_type": "code",
   "execution_count": 294,
   "id": "7740586f-755d-4132-a125-e56804a0feab",
   "metadata": {},
   "outputs": [
    {
     "data": {
      "image/png": "[encoded data removed]",
      "text/plain": [
       "<Figure size 432x288 with 1 Axes>"
      ]
     },
     "metadata": {
      "needs_background": "light"
     },
     "output_type": "display_data"
    }
   ],
   "source": [
    "# 特徴量の重要度を表示\n",
    "plt.barh(X.columns, model.feature_importances_)\n",
    "plt.tight_layout()"
   ]
  },
  {
   "cell_type": "code",
   "execution_count": 329,
   "id": "4af9d5f5-94a6-4603-b4aa-05a4a088b889",
   "metadata": {
    "collapsed": true,
    "jupyter": {
     "outputs_hidden": true
    },
    "tags": []
   },
   "outputs": [
    {
     "name": "stdout",
     "output_type": "stream",
     "text": [
      "[0]\tvalidation_0-logloss:0.64252\n",
      "[1]\tvalidation_0-logloss:0.60088\n",
      "[2]\tvalidation_0-logloss:0.56674\n",
      "[3]\tvalidation_0-logloss:0.53983\n",
      "[4]\tvalidation_0-logloss:0.51819\n",
      "[5]\tvalidation_0-logloss:0.49910\n",
      "[6]\tvalidation_0-logloss:0.48321\n",
      "[7]\tvalidation_0-logloss:0.46934\n",
      "[8]\tvalidation_0-logloss:0.45721\n",
      "[9]\tvalidation_0-logloss:0.44709\n",
      "[10]\tvalidation_0-logloss:0.43636\n",
      "[11]\tvalidation_0-logloss:0.42938\n",
      "[12]\tvalidation_0-logloss:0.42269\n",
      "[13]\tvalidation_0-logloss:0.41596\n",
      "[14]\tvalidation_0-logloss:0.41027\n",
      "[15]\tvalidation_0-logloss:0.40440\n",
      "[16]\tvalidation_0-logloss:0.40053\n",
      "[17]\tvalidation_0-logloss:0.39718\n",
      "[18]\tvalidation_0-logloss:0.39298\n",
      "[19]\tvalidation_0-logloss:0.39069\n",
      "[20]\tvalidation_0-logloss:0.38766\n",
      "[21]\tvalidation_0-logloss:0.38580\n",
      "[22]\tvalidation_0-logloss:0.38429\n",
      "[23]\tvalidation_0-logloss:0.38304\n",
      "[24]\tvalidation_0-logloss:0.38242\n",
      "[25]\tvalidation_0-logloss:0.38137\n",
      "[26]\tvalidation_0-logloss:0.38072\n",
      "[27]\tvalidation_0-logloss:0.38065\n",
      "[28]\tvalidation_0-logloss:0.38132\n",
      "[29]\tvalidation_0-logloss:0.38085\n",
      "[30]\tvalidation_0-logloss:0.38008\n",
      "[31]\tvalidation_0-logloss:0.38043\n",
      "[32]\tvalidation_0-logloss:0.38027\n",
      "[33]\tvalidation_0-logloss:0.38170\n",
      "[34]\tvalidation_0-logloss:0.38180\n",
      "[35]\tvalidation_0-logloss:0.38284\n",
      "[36]\tvalidation_0-logloss:0.38422\n",
      "[37]\tvalidation_0-logloss:0.38449\n",
      "[38]\tvalidation_0-logloss:0.38626\n",
      "[39]\tvalidation_0-logloss:0.38698\n",
      "[0]\tvalidation_0-logloss:0.64446\n",
      "[1]\tvalidation_0-logloss:0.60499\n",
      "[2]\tvalidation_0-logloss:0.57197\n",
      "[3]\tvalidation_0-logloss:0.54379\n",
      "[4]\tvalidation_0-logloss:0.51986\n",
      "[5]\tvalidation_0-logloss:0.50070\n",
      "[6]\tvalidation_0-logloss:0.48376\n",
      "[7]\tvalidation_0-logloss:0.46933\n",
      "[8]\tvalidation_0-logloss:0.45626\n",
      "[9]\tvalidation_0-logloss:0.44575\n",
      "[10]\tvalidation_0-logloss:0.43820\n",
      "[11]\tvalidation_0-logloss:0.43103\n",
      "[12]\tvalidation_0-logloss:0.42561\n",
      "[13]\tvalidation_0-logloss:0.41833\n",
      "[14]\tvalidation_0-logloss:0.41241\n",
      "[15]\tvalidation_0-logloss:0.40798\n",
      "[16]\tvalidation_0-logloss:0.40409\n",
      "[17]\tvalidation_0-logloss:0.40017\n",
      "[18]\tvalidation_0-logloss:0.39648\n",
      "[19]\tvalidation_0-logloss:0.39295\n",
      "[20]\tvalidation_0-logloss:0.39186\n",
      "[21]\tvalidation_0-logloss:0.39114\n",
      "[22]\tvalidation_0-logloss:0.39144\n",
      "[23]\tvalidation_0-logloss:0.38989\n",
      "[24]\tvalidation_0-logloss:0.39008\n",
      "[25]\tvalidation_0-logloss:0.38989\n",
      "[26]\tvalidation_0-logloss:0.39053\n",
      "[27]\tvalidation_0-logloss:0.38988\n",
      "[28]\tvalidation_0-logloss:0.39063\n",
      "[29]\tvalidation_0-logloss:0.39057\n",
      "[30]\tvalidation_0-logloss:0.39048\n",
      "[31]\tvalidation_0-logloss:0.38995\n",
      "[32]\tvalidation_0-logloss:0.39126\n",
      "[33]\tvalidation_0-logloss:0.39219\n",
      "[34]\tvalidation_0-logloss:0.39298\n",
      "[35]\tvalidation_0-logloss:0.39483\n",
      "[36]\tvalidation_0-logloss:0.39633\n",
      "[0]\tvalidation_0-logloss:0.64838\n",
      "[1]\tvalidation_0-logloss:0.61126\n",
      "[2]\tvalidation_0-logloss:0.57985\n",
      "[3]\tvalidation_0-logloss:0.55495\n",
      "[4]\tvalidation_0-logloss:0.53143\n",
      "[5]\tvalidation_0-logloss:0.51091\n",
      "[6]\tvalidation_0-logloss:0.49203\n",
      "[7]\tvalidation_0-logloss:0.48104\n",
      "[8]\tvalidation_0-logloss:0.46977\n",
      "[9]\tvalidation_0-logloss:0.46002\n",
      "[10]\tvalidation_0-logloss:0.45103\n",
      "[11]\tvalidation_0-logloss:0.44469\n",
      "[12]\tvalidation_0-logloss:0.43946\n",
      "[13]\tvalidation_0-logloss:0.43467\n",
      "[14]\tvalidation_0-logloss:0.43070\n",
      "[15]\tvalidation_0-logloss:0.42593\n",
      "[16]\tvalidation_0-logloss:0.42135\n",
      "[17]\tvalidation_0-logloss:0.41733\n",
      "[18]\tvalidation_0-logloss:0.41461\n",
      "[19]\tvalidation_0-logloss:0.41389\n",
      "[20]\tvalidation_0-logloss:0.41255\n",
      "[21]\tvalidation_0-logloss:0.41307\n",
      "[22]\tvalidation_0-logloss:0.41158\n",
      "[23]\tvalidation_0-logloss:0.41071\n",
      "[24]\tvalidation_0-logloss:0.40991\n",
      "[25]\tvalidation_0-logloss:0.41020\n",
      "[26]\tvalidation_0-logloss:0.41007\n",
      "[27]\tvalidation_0-logloss:0.41040\n",
      "[28]\tvalidation_0-logloss:0.41024\n",
      "[29]\tvalidation_0-logloss:0.40979\n",
      "[30]\tvalidation_0-logloss:0.41057\n",
      "[31]\tvalidation_0-logloss:0.40933\n",
      "[32]\tvalidation_0-logloss:0.41109\n",
      "[33]\tvalidation_0-logloss:0.40959\n",
      "[34]\tvalidation_0-logloss:0.41107\n",
      "[35]\tvalidation_0-logloss:0.40922\n",
      "[36]\tvalidation_0-logloss:0.40970\n",
      "[37]\tvalidation_0-logloss:0.41094\n",
      "[38]\tvalidation_0-logloss:0.41018\n",
      "[39]\tvalidation_0-logloss:0.41080\n",
      "[40]\tvalidation_0-logloss:0.41152\n",
      "[41]\tvalidation_0-logloss:0.41022\n",
      "[42]\tvalidation_0-logloss:0.41101\n",
      "[43]\tvalidation_0-logloss:0.40918\n",
      "[44]\tvalidation_0-logloss:0.41085\n",
      "[45]\tvalidation_0-logloss:0.41185\n",
      "[46]\tvalidation_0-logloss:0.41169\n",
      "[47]\tvalidation_0-logloss:0.41211\n",
      "[48]\tvalidation_0-logloss:0.41317\n",
      "[49]\tvalidation_0-logloss:0.41389\n",
      "[50]\tvalidation_0-logloss:0.41545\n",
      "[51]\tvalidation_0-logloss:0.41530\n",
      "[52]\tvalidation_0-logloss:0.41523\n",
      "[0]\tvalidation_0-logloss:0.64977\n",
      "[1]\tvalidation_0-logloss:0.61173\n",
      "[2]\tvalidation_0-logloss:0.58332\n",
      "[3]\tvalidation_0-logloss:0.55889\n",
      "[4]\tvalidation_0-logloss:0.53721\n",
      "[5]\tvalidation_0-logloss:0.52069\n",
      "[6]\tvalidation_0-logloss:0.50615\n",
      "[7]\tvalidation_0-logloss:0.49386\n",
      "[8]\tvalidation_0-logloss:0.48500\n",
      "[9]\tvalidation_0-logloss:0.47687\n",
      "[10]\tvalidation_0-logloss:0.46972\n",
      "[11]\tvalidation_0-logloss:0.46392\n",
      "[12]\tvalidation_0-logloss:0.45811\n",
      "[13]\tvalidation_0-logloss:0.45482\n",
      "[14]\tvalidation_0-logloss:0.44868\n",
      "[15]\tvalidation_0-logloss:0.44379\n",
      "[16]\tvalidation_0-logloss:0.44056\n",
      "[17]\tvalidation_0-logloss:0.44100\n",
      "[18]\tvalidation_0-logloss:0.43973\n",
      "[19]\tvalidation_0-logloss:0.43796\n",
      "[20]\tvalidation_0-logloss:0.43712\n",
      "[21]\tvalidation_0-logloss:0.43596\n",
      "[22]\tvalidation_0-logloss:0.43635\n",
      "[23]\tvalidation_0-logloss:0.43647\n",
      "[24]\tvalidation_0-logloss:0.43718\n",
      "[25]\tvalidation_0-logloss:0.43761\n",
      "[26]\tvalidation_0-logloss:0.43801\n",
      "[27]\tvalidation_0-logloss:0.43868\n",
      "[28]\tvalidation_0-logloss:0.43902\n",
      "[29]\tvalidation_0-logloss:0.43955\n",
      "[30]\tvalidation_0-logloss:0.44178\n",
      "[31]\tvalidation_0-logloss:0.44139\n",
      "[0]\tvalidation_0-logloss:0.65154\n",
      "[1]\tvalidation_0-logloss:0.61947\n",
      "[2]\tvalidation_0-logloss:0.59279\n",
      "[3]\tvalidation_0-logloss:0.57084\n",
      "[4]\tvalidation_0-logloss:0.55503\n",
      "[5]\tvalidation_0-logloss:0.54129\n",
      "[6]\tvalidation_0-logloss:0.53231\n",
      "[7]\tvalidation_0-logloss:0.52204\n",
      "[8]\tvalidation_0-logloss:0.51411\n",
      "[9]\tvalidation_0-logloss:0.50732\n",
      "[10]\tvalidation_0-logloss:0.50183\n",
      "[11]\tvalidation_0-logloss:0.49794\n",
      "[12]\tvalidation_0-logloss:0.49456\n",
      "[13]\tvalidation_0-logloss:0.49293\n",
      "[14]\tvalidation_0-logloss:0.49012\n",
      "[15]\tvalidation_0-logloss:0.48934\n",
      "[16]\tvalidation_0-logloss:0.48923\n",
      "[17]\tvalidation_0-logloss:0.48907\n",
      "[18]\tvalidation_0-logloss:0.49042\n",
      "[19]\tvalidation_0-logloss:0.48979\n",
      "[20]\tvalidation_0-logloss:0.49000\n",
      "[21]\tvalidation_0-logloss:0.49136\n",
      "[22]\tvalidation_0-logloss:0.49271\n",
      "[23]\tvalidation_0-logloss:0.49410\n",
      "[24]\tvalidation_0-logloss:0.49330\n",
      "[25]\tvalidation_0-logloss:0.49294\n",
      "[26]\tvalidation_0-logloss:0.49296\n",
      "[27]\tvalidation_0-logloss:0.49407\n"
     ]
    }
   ],
   "source": [
    "# xgbのcvメソッドを使わない場合のk-Fold CV。Staratifiedすることでfoldごとに含まれるクラスの割合を等しくした状態でCVできる。\n",
    "# 各モデルの学習結果を詳細に見たいときはこっちの方が良いかも。\n",
    "kf = StratifiedKFold(n_splits=5, shuffle=True, random_state=0)\n",
    "logloss_list = []\n",
    "class_ratio = {}\n",
    "model_cv =  XGBClassifier(early_stopping_rounds=10, learning_rate=0.1)\n",
    "\n",
    "for train_index, test_index in kf.split(X ,y):\n",
    "    X_train, X_test = X.iloc[train_index], X.iloc[test_index]\n",
    "    y_train, y_test = y.iloc[train_index], y.iloc[test_index]\n",
    "    \n",
    "    # モデル学習\n",
    "    eval_set = [(X_test, y_test)]\n",
    "    model_cv.fit(X_train, y_train, eval_set=eval_set, verbose=True)\n",
    "    # テストデータに対する予測値算出\n",
    "    y_pred = model_cv.predict_proba(X_test)\n",
    "    \n",
    "    # logloss\n",
    "    logloss = log_loss(y_test, y_pred)\n",
    "    logloss_list.append(logloss)"
   ]
  },
  {
   "cell_type": "code",
   "execution_count": 319,
   "id": "a84040fc-e0d0-4d6a-89b6-c0dc0db5ab4c",
   "metadata": {},
   "outputs": [
    {
     "data": {
      "text/plain": [
       "[0.38007898139637275,\n",
       " 0.3898835586949011,\n",
       " 0.40917928223864414,\n",
       " 0.43595871952979753,\n",
       " 0.489067702648345]"
      ]
     },
     "execution_count": 319,
     "metadata": {},
     "output_type": "execute_result"
    }
   ],
   "source": [
    "logloss_list"
   ]
  },
  {
   "cell_type": "code",
   "execution_count": 327,
   "id": "546e1eba-d246-44d6-b195-36254eaa16b4",
   "metadata": {},
   "outputs": [
    {
     "data": {
      "text/plain": [
       "0.4208336489016121"
      ]
     },
     "execution_count": 327,
     "metadata": {},
     "output_type": "execute_result"
    }
   ],
   "source": [
    "np.mean(logloss_list)"
   ]
  },
  {
   "cell_type": "markdown",
   "id": "9374884e-06c6-436f-a712-b032d3da414a",
   "metadata": {},
   "source": [
    "xgbのcvメソッドの結果と概ね同じ。こっちの方が計算量は多いが、わかりやすいかも。"
   ]
  },
  {
   "cell_type": "code",
   "execution_count": null,
   "id": "6e86c929-a218-42b2-9224-3781efe0d9e5",
   "metadata": {},
   "outputs": [],
   "source": []
  }
 ],
 "metadata": {
  "kernelspec": {
   "display_name": "Python 3 (ipykernel)",
   "language": "python",
   "name": "python3"
  },
  "language_info": {
   "codemirror_mode": {
    "name": "ipython",
    "version": 3
   },
   "file_extension": ".py",
   "mimetype": "text/x-python",
   "name": "python",
   "nbconvert_exporter": "python",
   "pygments_lexer": "ipython3",
   "version": "3.9.12"
  }
 },
 "nbformat": 4,
 "nbformat_minor": 5
}
