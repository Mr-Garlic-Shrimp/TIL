{
 "cells": [
  {
   "cell_type": "markdown",
   "id": "d631fd88-6c9d-49b1-bbc0-124282c8121c",
   "metadata": {},
   "source": [
    "# 機械学習をPythonで実践する"
   ]
  },
  {
   "cell_type": "code",
   "execution_count": 247,
   "id": "d9eff296-94b2-4d17-9929-288b4a20a46d",
   "metadata": {},
   "outputs": [
    {
     "name": "stdout",
     "output_type": "stream",
     "text": [
      "The autoreload extension is already loaded. To reload it, use:\n",
      "  %reload_ext autoreload\n"
     ]
    }
   ],
   "source": [
    "%load_ext autoreload\n",
    "%autoreload 2\n",
    "import pandas as pd\n",
    "import numpy as np\n",
    "import seaborn as sns\n",
    "from itertools import product\n",
    "from cost_func import cost_func\n",
    "from grad_descent import grad_descent\n",
    "\n",
    "%matplotlib inline\n",
    "import matplotlib.pyplot as plt"
   ]
  },
  {
   "cell_type": "markdown",
   "id": "08ad0e28-5788-41d6-8d7c-cbb150640ef6",
   "metadata": {},
   "source": [
    "## ○ 最急降下法をスクラッチで実装する\n",
    "リソース：~/python-work/TIL/Python/sample_data/ML_sample/sample_data.csv"
   ]
  },
  {
   "cell_type": "code",
   "execution_count": 2,
   "id": "2ac1dd1d-2d65-4c64-8f05-d16cd1247f2e",
   "metadata": {},
   "outputs": [
    {
     "data": {
      "text/html": [
       "<div>\n",
       "<style scoped>\n",
       "    .dataframe tbody tr th:only-of-type {\n",
       "        vertical-align: middle;\n",
       "    }\n",
       "\n",
       "    .dataframe tbody tr th {\n",
       "        vertical-align: top;\n",
       "    }\n",
       "\n",
       "    .dataframe thead th {\n",
       "        text-align: right;\n",
       "    }\n",
       "</style>\n",
       "<table border=\"1\" class=\"dataframe\">\n",
       "  <thead>\n",
       "    <tr style=\"text-align: right;\">\n",
       "      <th></th>\n",
       "      <th>space</th>\n",
       "      <th>rent</th>\n",
       "    </tr>\n",
       "  </thead>\n",
       "  <tbody>\n",
       "    <tr>\n",
       "      <th>0</th>\n",
       "      <td>20</td>\n",
       "      <td>13.958824</td>\n",
       "    </tr>\n",
       "    <tr>\n",
       "      <th>1</th>\n",
       "      <td>25</td>\n",
       "      <td>11.533805</td>\n",
       "    </tr>\n",
       "    <tr>\n",
       "      <th>2</th>\n",
       "      <td>28</td>\n",
       "      <td>14.269547</td>\n",
       "    </tr>\n",
       "    <tr>\n",
       "      <th>3</th>\n",
       "      <td>30</td>\n",
       "      <td>18.722680</td>\n",
       "    </tr>\n",
       "    <tr>\n",
       "      <th>4</th>\n",
       "      <td>36</td>\n",
       "      <td>19.602674</td>\n",
       "    </tr>\n",
       "    <tr>\n",
       "      <th>5</th>\n",
       "      <td>51</td>\n",
       "      <td>16.068166</td>\n",
       "    </tr>\n",
       "    <tr>\n",
       "      <th>6</th>\n",
       "      <td>55</td>\n",
       "      <td>23.183599</td>\n",
       "    </tr>\n",
       "    <tr>\n",
       "      <th>7</th>\n",
       "      <td>62</td>\n",
       "      <td>22.212595</td>\n",
       "    </tr>\n",
       "    <tr>\n",
       "      <th>8</th>\n",
       "      <td>83</td>\n",
       "      <td>29.357010</td>\n",
       "    </tr>\n",
       "    <tr>\n",
       "      <th>9</th>\n",
       "      <td>103</td>\n",
       "      <td>37.565129</td>\n",
       "    </tr>\n",
       "  </tbody>\n",
       "</table>\n",
       "</div>"
      ],
      "text/plain": [
       "   space       rent\n",
       "0     20  13.958824\n",
       "1     25  11.533805\n",
       "2     28  14.269547\n",
       "3     30  18.722680\n",
       "4     36  19.602674\n",
       "5     51  16.068166\n",
       "6     55  23.183599\n",
       "7     62  22.212595\n",
       "8     83  29.357010\n",
       "9    103  37.565129"
      ]
     },
     "execution_count": 2,
     "metadata": {},
     "output_type": "execute_result"
    }
   ],
   "source": [
    "# サンプルデータ（賃貸の広さと家賃の関係データ）を読み込む\n",
    "df = pd.read_csv('../Python/sample_data/ML_sample/sample_data.csv')\n",
    "df"
   ]
  },
  {
   "cell_type": "code",
   "execution_count": 11,
   "id": "47b7585b-13bf-428a-9e18-e301d0eccc35",
   "metadata": {},
   "outputs": [
    {
     "data": {
      "text/plain": [
       "<AxesSubplot:xlabel='space', ylabel='rent'>"
      ]
     },
     "execution_count": 11,
     "metadata": {},
     "output_type": "execute_result"
    },
    {
     "data": {
      "image/png": "[encoded data removed]",
      "text/plain": [
       "<Figure size 432x288 with 1 Axes>"
      ]
     },
     "metadata": {
      "needs_background": "light"
     },
     "output_type": "display_data"
    }
   ],
   "source": [
    "# データを可視化\n",
    "sns.scatterplot(x=df['space'], y=df['rent'])"
   ]
  },
  {
   "cell_type": "markdown",
   "id": "691292e1-9c87-494a-95e1-3fbc30d3f848",
   "metadata": {},
   "source": [
    "### - 損失関数を定義"
   ]
  },
  {
   "cell_type": "code",
   "execution_count": 82,
   "id": "4dcaa198-6e46-447e-b4f3-761de995ce8f",
   "metadata": {},
   "outputs": [
    {
     "data": {
      "text/plain": [
       "array([1296.33604159])"
      ]
     },
     "execution_count": 82,
     "metadata": {},
     "output_type": "execute_result"
    }
   ],
   "source": [
    "# 損失関数cost_funcを呼び出し\n",
    "# thetaは線形回帰モデルのパラメタの初期値\n",
    "theta = np.array([[2.0] , [1.0]])\n",
    "# .valuesでnumpy arrayで値を取得\n",
    "target_var = df['rent'].values\n",
    "features = df['space'].values\n",
    "cost_func(theta, target_var=target_var, features=features)"
   ]
  },
  {
   "cell_type": "markdown",
   "id": "6d0443b5-1820-4b80-90ba-d760ca2cd015",
   "metadata": {},
   "source": [
    "### - 損失関数を可視化する\n",
    "講義のやり方では2パラメタ（と1つの特徴量）のみの対応だが、任意のパラメタ数に  \n",
    "対応できるように関数の拡張を目指す。"
   ]
  },
  {
   "cell_type": "code",
   "execution_count": 152,
   "id": "fa8f4d8d-3393-466d-8450-9269e22708a3",
   "metadata": {},
   "outputs": [
    {
     "data": {
      "text/plain": [
       "[array([[-20.        , -19.86622074, -19.73244147, ...,  19.73244147,\n",
       "          19.86622074,  20.        ],\n",
       "        [-20.        , -19.86622074, -19.73244147, ...,  19.73244147,\n",
       "          19.86622074,  20.        ],\n",
       "        [-20.        , -19.86622074, -19.73244147, ...,  19.73244147,\n",
       "          19.86622074,  20.        ],\n",
       "        ...,\n",
       "        [-20.        , -19.86622074, -19.73244147, ...,  19.73244147,\n",
       "          19.86622074,  20.        ],\n",
       "        [-20.        , -19.86622074, -19.73244147, ...,  19.73244147,\n",
       "          19.86622074,  20.        ],\n",
       "        [-20.        , -19.86622074, -19.73244147, ...,  19.73244147,\n",
       "          19.86622074,  20.        ]]),\n",
       " array([[-1.        , -1.        , -1.        , ..., -1.        ,\n",
       "         -1.        , -1.        ],\n",
       "        [-0.99331104, -0.99331104, -0.99331104, ..., -0.99331104,\n",
       "         -0.99331104, -0.99331104],\n",
       "        [-0.98662207, -0.98662207, -0.98662207, ..., -0.98662207,\n",
       "         -0.98662207, -0.98662207],\n",
       "        ...,\n",
       "        [ 0.98662207,  0.98662207,  0.98662207, ...,  0.98662207,\n",
       "          0.98662207,  0.98662207],\n",
       "        [ 0.99331104,  0.99331104,  0.99331104, ...,  0.99331104,\n",
       "          0.99331104,  0.99331104],\n",
       "        [ 1.        ,  1.        ,  1.        , ...,  1.        ,\n",
       "          1.        ,  1.        ]])]"
      ]
     },
     "execution_count": 152,
     "metadata": {},
     "output_type": "execute_result"
    }
   ],
   "source": [
    "# 3Dプロット用のデータを用意する。\n",
    "# x,y軸はtheta_0,theta_1\n",
    "# z軸は損失関数の戻り値（MSE）\n",
    "\n",
    "# サンプルデータより、theta_0の範囲（切片）は-20～20、theta_1（傾き）の範囲は -1 ～ 1と設定。\n",
    "n0 = n1 = 300\n",
    "min_0 = -20\n",
    "max_0 = 20\n",
    "min_1 = -1\n",
    "max_1 = 1\n",
    "\n",
    "theta_0 = np.linspace(min_0,max_0,n0)\n",
    "theta_1 = np.linspace(min_1,max_1,n1)\n",
    "theta_mesh = np.meshgrid(theta_0,theta_1)\n",
    "theta_mesh"
   ]
  },
  {
   "cell_type": "code",
   "execution_count": 153,
   "id": "6acb2ae3-b3ea-4656-901b-ad0d326c1b03",
   "metadata": {},
   "outputs": [],
   "source": [
    "# 10/8 thetaをリストで渡せるようにcost_funcを修正した。\n",
    "theta = [theta_0, theta_1]\n",
    "target_var = df['rent'].values\n",
    "features = df['space'].values\n",
    "mse = cost_func(theta, target_var=target_var, features=features)"
   ]
  },
  {
   "cell_type": "code",
   "execution_count": 114,
   "id": "80891d60-cf04-48f7-8d23-2485ff047648",
   "metadata": {},
   "outputs": [
    {
     "data": {
      "text/plain": [
       "array([[9180.43815951, 9109.88103261, 9039.60106593, ...,  407.8256952 ,\n",
       "         419.58515089,  431.6217668 ],\n",
       "       [9156.38986166, 9085.92096644, 9015.72923143, ...,  409.9822049 ,\n",
       "         421.82989227,  433.95473985],\n",
       "       [9132.37735759, 9061.99669405, 8991.89319072, ...,  412.17450839,\n",
       "         424.11042743,  436.32350669],\n",
       "       ...,\n",
       "       [3611.44522664, 3567.0929073 , 3523.01774817, ..., 2621.66060542,\n",
       "        2659.62486867, 2697.86629212],\n",
       "       [3598.02768236, 3553.7635947 , 3509.77666724, ..., 2634.44786869,\n",
       "        2672.50036362, 2710.83001875],\n",
       "       [3584.64593187, 3540.47007588, 3496.5713801 , ..., 2647.27092575,\n",
       "        2685.41165235, 2723.82953916]])"
      ]
     },
     "execution_count": 114,
     "metadata": {},
     "output_type": "execute_result"
    }
   ],
   "source": [
    "mse = mse.reshape(len(theta_0), len(theta_1))\n",
    "mse"
   ]
  },
  {
   "cell_type": "code",
   "execution_count": 116,
   "id": "31410cd3-c527-4ab2-9a0f-11905c39d008",
   "metadata": {},
   "outputs": [
    {
     "data": {
      "image/png": "[encoded data removed]",
      "text/plain": [
       "<Figure size 432x288 with 1 Axes>"
      ]
     },
     "metadata": {
      "needs_background": "light"
     },
     "output_type": "display_data"
    }
   ],
   "source": [
    "# グラフの描画\n",
    "# theta_mesh[0],theta_mesh[1]の配列がそのままではMSEの値と対応していないので、転置している。(これはmeshgridとproductの結果で判断)\n",
    "ax = plt.axes(projection='3d')\n",
    "ax.plot_surface(X=theta_mesh[0].T, Y=theta_mesh[1].T, Z=mse, cmap='jet', alpha=0.5)\n",
    "ax.set_xlabel(\"theta_0\", size = 10, color = \"b\")\n",
    "ax.set_ylabel(\"theta_1\", size = 10, color = \"b\")\n",
    "ax.set_zlabel(\"MSE\", size = 10, color = \"b\")\n",
    "# 見る角度を変える\n",
    "ax.view_init(elev=30, azim=10)"
   ]
  },
  {
   "cell_type": "code",
   "execution_count": 108,
   "id": "030e2c97-1447-4c66-aad8-a6e1c590d152",
   "metadata": {},
   "outputs": [
    {
     "data": {
      "text/plain": [
       "(1000,)"
      ]
     },
     "execution_count": 108,
     "metadata": {},
     "output_type": "execute_result"
    }
   ],
   "source": [
    "# パラメタ3つ、特徴量2つの場合のテスト。特徴量はいいのがなかったので'rent'を使っている。\n",
    "theta_0 = np.linspace(-2,2,10)\n",
    "theta_1 = np.linspace(3,6,10)\n",
    "theta_2 = np.linspace(9,2,10)\n",
    "theta = [theta_0, theta_1, theta_2]\n",
    "target_var = df['rent'].values\n",
    "features = df[['space','rent']].values\n",
    "mse = cost_func(theta, target_var=target_var, features=features)\n",
    "mse.shape"
   ]
  },
  {
   "cell_type": "markdown",
   "id": "820a8411-418d-4cdf-9281-eea37e5eee7e",
   "metadata": {},
   "source": [
    "### - 最急降下法のアルゴリズム実装\n",
    "学習率は$\\alpha=0.00005$、反復回数は10万回とする。"
   ]
  },
  {
   "cell_type": "code",
   "execution_count": 342,
   "id": "dc9d1ef3-8a77-4c4a-a856-ea596fe8791f",
   "metadata": {},
   "outputs": [],
   "source": [
    "# 学習率、反復回数(epochs)を設定。機械学習では反復１回１回をエポックと呼ぶことが多い。\n",
    "alpha = 0.00005\n",
    "epochs = 100000\n",
    "# パラメタの初期値を設定。\n",
    "# 本来の最急降下法ではパラメタの初期値はランダムに決める\n",
    "# theta_0_init = np.random.uniform(min_0,max_0)\n",
    "theta_0 = -5\n",
    "theta_1 = -0.5\n",
    "theta_init = np.array([theta_0, theta_1])"
   ]
  },
  {
   "cell_type": "code",
   "execution_count": 343,
   "id": "3f803b61-9f16-4bbc-a783-74c364280876",
   "metadata": {},
   "outputs": [],
   "source": [
    "# 最急降下法の関数テスト\n",
    "features = df['space'].values\n",
    "target_var = df['rent'].values\n",
    "p, l = grad_descent(theta_init, target_var, features, alpha, epochs)"
   ]
  },
  {
   "cell_type": "code",
   "execution_count": 344,
   "id": "942b09c7-2449-411a-b047-2e9177a0c127",
   "metadata": {},
   "outputs": [
    {
     "data": {
      "text/plain": [
       "(5.692313583745944, 0.2972194648547114)"
      ]
     },
     "execution_count": 344,
     "metadata": {},
     "output_type": "execute_result"
    }
   ],
   "source": [
    "p"
   ]
  },
  {
   "cell_type": "code",
   "execution_count": null,
   "id": "e7980d7e-bb29-48da-8ca5-32e20f49d212",
   "metadata": {},
   "outputs": [],
   "source": []
  }
 ],
 "metadata": {
  "kernelspec": {
   "display_name": "Python 3 (ipykernel)",
   "language": "python",
   "name": "python3"
  },
  "language_info": {
   "codemirror_mode": {
    "name": "ipython",
    "version": 3
   },
   "file_extension": ".py",
   "mimetype": "text/x-python",
   "name": "python",
   "nbconvert_exporter": "python",
   "pygments_lexer": "ipython3",
   "version": "3.9.12"
  }
 },
 "nbformat": 4,
 "nbformat_minor": 5
}
