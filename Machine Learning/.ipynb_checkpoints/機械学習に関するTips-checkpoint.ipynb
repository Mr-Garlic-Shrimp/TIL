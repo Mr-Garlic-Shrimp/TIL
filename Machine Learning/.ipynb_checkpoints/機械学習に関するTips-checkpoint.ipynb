{
 "cells": [
  {
   "cell_type": "markdown",
   "id": "2d6e07c4-025f-4fe0-a230-4e72d81d6768",
   "metadata": {},
   "source": [
    "# 機械学習に関するTips"
   ]
  },
  {
   "cell_type": "markdown",
   "id": "87f95498-f97b-434d-b24a-0aba92ef3154",
   "metadata": {},
   "source": [
    "## ○ テーブルデータの予測は深層学習よりもツリー系モデルの方が精度が良いらしい\n",
    "\n",
    "\n",
    "深層学習がテーブルデータで精度が出ない場合の理由は主に以下二つ。\n",
    "* 外れ値が含まれる、目的変数の分布が正規分布でないといったことがあるとそれら不正規な部分を過学習してしまう  \n",
    "  深層学習では標準化が必要であり、(scikit-learnの)標準化は正規分布を前提にしているため上手く標準化できない。  \n",
    "  下記の参考サイトの非正規分布の標準化をする必要があるかも。\n",
    "* 予測に役立たない特徴量もしっかり使おうとしてしまう。\n",
    "\n",
    "参考：\n",
    "* 元記事： https://exploratory.io/note/kanaugust/XGBoost-knM4aqw2IL  \n",
    "* 非正規分布の標準化について： https://biolab.sakura.ne.jp/robust-z-score.html"
   ]
  },
  {
   "cell_type": "code",
   "execution_count": null,
   "id": "dbd951fb-4b9b-418a-9296-9673b760e834",
   "metadata": {},
   "outputs": [],
   "source": []
  }
 ],
 "metadata": {
  "kernelspec": {
   "display_name": "Python 3 (ipykernel)",
   "language": "python",
   "name": "python3"
  },
  "language_info": {
   "codemirror_mode": {
    "name": "ipython",
    "version": 3
   },
   "file_extension": ".py",
   "mimetype": "text/x-python",
   "name": "python",
   "nbconvert_exporter": "python",
   "pygments_lexer": "ipython3",
   "version": "3.9.12"
  }
 },
 "nbformat": 4,
 "nbformat_minor": 5
}
