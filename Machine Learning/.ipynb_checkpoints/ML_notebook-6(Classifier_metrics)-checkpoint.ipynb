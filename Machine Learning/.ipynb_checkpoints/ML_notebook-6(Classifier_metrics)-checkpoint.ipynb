{
 "cells": [
  {
   "cell_type": "markdown",
   "id": "676b416b-6c77-461e-8c62-4aa7dd3959c6",
   "metadata": {},
   "source": [
    "# 機械学習をPythonで実践する-6　　～ 分類器の精度指標 ～"
   ]
  },
  {
   "cell_type": "code",
   "execution_count": 204,
   "id": "ad1b1109-7b8a-4a3b-819b-4f17b3b60aeb",
   "metadata": {},
   "outputs": [
    {
     "name": "stdout",
     "output_type": "stream",
     "text": [
      "The autoreload extension is already loaded. To reload it, use:\n",
      "  %reload_ext autoreload\n"
     ]
    }
   ],
   "source": [
    "%load_ext autoreload\n",
    "%autoreload 2\n",
    "import pandas as pd\n",
    "import numpy as np\n",
    "import seaborn as sns\n",
    "from itertools import product\n",
    "from sklearn.linear_model import LinearRegression, Ridge, Lasso, LogisticRegression\n",
    "from sklearn.preprocessing import StandardScaler, PolynomialFeatures, label_binarize\n",
    "# import statsmodels.api as sma\n",
    "from sklearn.model_selection import train_test_split ,LeaveOneOut, cross_val_score, KFold, RepeatedKFold\n",
    "from sklearn.metrics import mean_squared_error, mean_absolute_error, r2_score, log_loss, confusion_matrix,ConfusionMatrixDisplay, \\\n",
    "accuracy_score, precision_score, recall_score,precision_recall_curve,f1_score,roc_curve,auc\n",
    "from scipy.stats import hmean\n",
    "# from sklearn.pipeline import Pipeline\n",
    "# from sklearn.neighbors import KNeighborsRegressor\n",
    "\n",
    "\n",
    "%matplotlib inline\n",
    "import matplotlib.pyplot as plt"
   ]
  },
  {
   "cell_type": "markdown",
   "id": "753950f2-142f-40d1-87b2-987f21ba4458",
   "metadata": {},
   "source": [
    "## ○ 混同行列\n",
    "* sklearn.metrics.confusion_matrixクラスで混同行列インスタンスを生成\n",
    "    * confusin_matrix(y_true, y_pred)\n",
    "    * 戻り値はNumpy Array\n",
    "\n",
    "\n",
    "* 混同行列(Confusion Matrix)をヒートマップで綺麗に表示する方法。\n",
    "    * sklearn.metrics.ConfusionMatrixDisplay\n",
    "    * ConfusionMatrixDisplay(confusion_matrix=cm, display_labels=model.classes_)\n",
    "    * confusion_matrix引数にはconfusion_matrix()の戻り値を入れる\n",
    "    1. インスタンス生成\n",
    "    2. .plot()メソッドで描画"
   ]
  },
  {
   "cell_type": "code",
   "execution_count": 61,
   "id": "4e6a15e6-f62e-4923-8cf4-c06c589cd87e",
   "metadata": {},
   "outputs": [],
   "source": [
    "# データ読み込み\n",
    "df = sns.load_dataset('iris')\n",
    "y_col = 'species'\n",
    "X = df.drop(columns=[y_col])\n",
    "y = df[y_col]\n",
    "\n",
    "# hold-out\n",
    "X_train, X_test, y_train, y_test = train_test_split(X, y, test_size=0.3, random_state=0)\n",
    "\n",
    "# モデル学習。3クラスだが、デフォルトでmulti=autoなので何も指定しなくても多クラス分類してくれる。\n",
    "model = LogisticRegression(penalty='none')\n",
    "model.fit(X_train,y_train)\n",
    "\n",
    "# 予測\n",
    "y_pred = model.predict(X_test)"
   ]
  },
  {
   "cell_type": "code",
   "execution_count": 62,
   "id": "2ea81ad1-2173-4978-b484-40e0d40ea2a6",
   "metadata": {},
   "outputs": [
    {
     "data": {
      "text/plain": [
       "array(['virginica', 'versicolor', 'setosa', 'virginica', 'setosa',\n",
       "       'virginica', 'setosa', 'versicolor', 'versicolor', 'versicolor',\n",
       "       'virginica', 'versicolor', 'versicolor', 'versicolor',\n",
       "       'versicolor', 'setosa', 'versicolor', 'versicolor', 'setosa',\n",
       "       'setosa', 'virginica', 'versicolor', 'setosa', 'setosa',\n",
       "       'versicolor', 'setosa', 'setosa', 'versicolor', 'versicolor',\n",
       "       'setosa', 'virginica', 'versicolor', 'setosa', 'virginica',\n",
       "       'virginica', 'versicolor', 'setosa', 'virginica', 'versicolor',\n",
       "       'versicolor', 'virginica', 'setosa', 'virginica', 'setosa',\n",
       "       'setosa'], dtype=object)"
      ]
     },
     "execution_count": 62,
     "metadata": {},
     "output_type": "execute_result"
    }
   ],
   "source": [
    "y_pred"
   ]
  },
  {
   "cell_type": "code",
   "execution_count": 63,
   "id": "2424721f-601e-489e-8b65-02bd312ad283",
   "metadata": {},
   "outputs": [
    {
     "data": {
      "text/plain": [
       "array([[16,  0,  0],\n",
       "       [ 0, 17,  1],\n",
       "       [ 0,  1, 10]])"
      ]
     },
     "execution_count": 63,
     "metadata": {},
     "output_type": "execute_result"
    }
   ],
   "source": [
    "# 混同行列\n",
    "cm = confusion_matrix(y_test, y_pred)\n",
    "cm"
   ]
  },
  {
   "cell_type": "code",
   "execution_count": 64,
   "id": "471741de-3572-4651-974b-e0c704b7cdf1",
   "metadata": {},
   "outputs": [
    {
     "data": {
      "text/plain": [
       "array(['setosa', 'versicolor', 'virginica'], dtype=object)"
      ]
     },
     "execution_count": 64,
     "metadata": {},
     "output_type": "execute_result"
    }
   ],
   "source": [
    "# クラスの順番を表示\n",
    "model.classes_"
   ]
  },
  {
   "cell_type": "markdown",
   "id": "301914e0-1614-4f3a-9a38-89884c933e8f",
   "metadata": {},
   "source": [
    "混同行列は縦に正解ラベルのsetosa,versicolor,virginica、横に予測値のsetosa,versicolor,virginicaとなっている。  \n",
    "１行２列目の1は正解はversicolorなのに予測値がvirginicaであるという不正解が1件あったことを表す。"
   ]
  },
  {
   "cell_type": "code",
   "execution_count": 65,
   "id": "b7e3cea0-88e5-483c-a31e-32008271b17d",
   "metadata": {},
   "outputs": [
    {
     "data": {
      "text/plain": [
       "<sklearn.metrics._plot.confusion_matrix.ConfusionMatrixDisplay at 0x7f10bc627e50>"
      ]
     },
     "execution_count": 65,
     "metadata": {},
     "output_type": "execute_result"
    },
    {
     "data": {
      "image/png": "[encoded data removed]",
      "text/plain": [
       "<Figure size 432x288 with 2 Axes>"
      ]
     },
     "metadata": {
      "needs_background": "light"
     },
     "output_type": "display_data"
    }
   ],
   "source": [
    "# 視覚的にわかりやすく混同行列を表示する。\n",
    "disp = ConfusionMatrixDisplay(confusion_matrix=cm, display_labels=model.classes_)\n",
    "disp.plot()"
   ]
  },
  {
   "cell_type": "markdown",
   "id": "fe09333e-8bf7-4d19-bcb7-ce8bb149a370",
   "metadata": {},
   "source": [
    "対角成分はそれぞれのクラス（列ごと）におけるTPを表す。  "
   ]
  },
  {
   "cell_type": "markdown",
   "id": "b635cf04-fc77-42fd-8bc8-2bce8d90d9f8",
   "metadata": {},
   "source": [
    "## ○ Accuracy(正解率)\n",
    "* sklearn.metrics.accuracy_score\n",
    "    * accuracy_score(y_true, y_pred)"
   ]
  },
  {
   "cell_type": "code",
   "execution_count": 66,
   "id": "7fc7f496-55fc-4a0e-b18c-e858f0e4cd5b",
   "metadata": {},
   "outputs": [
    {
     "data": {
      "text/plain": [
       "0.9555555555555556"
      ]
     },
     "execution_count": 66,
     "metadata": {},
     "output_type": "execute_result"
    }
   ],
   "source": [
    "# irisデータの正解率。\n",
    "accuracy_score(y_test, y_pred)"
   ]
  },
  {
   "cell_type": "code",
   "execution_count": 195,
   "id": "36c99310-c82a-408b-8125-9988dbc2b636",
   "metadata": {},
   "outputs": [
    {
     "data": {
      "text/plain": [
       "0.9555555555555556"
      ]
     },
     "execution_count": 195,
     "metadata": {},
     "output_type": "execute_result"
    }
   ],
   "source": [
    "# 分子は混同行列の対角成分(TP)の和になる。\n",
    "(16+17+10)/(len(y_pred))"
   ]
  },
  {
   "cell_type": "markdown",
   "id": "e4459cd1-5c5d-4614-b6ec-dc4b4d8f82b2",
   "metadata": {},
   "source": [
    "## ○ Precision(適合率)\n",
    "* sklearn.metrics.precision_score\n",
    "    * precision_score(y_true, y_pred)"
   ]
  },
  {
   "cell_type": "code",
   "execution_count": 68,
   "id": "45d55327-51e7-4c8f-9520-9e737516da3e",
   "metadata": {},
   "outputs": [
    {
     "data": {
      "text/plain": [
       "0.6"
      ]
     },
     "execution_count": 68,
     "metadata": {},
     "output_type": "execute_result"
    }
   ],
   "source": [
    "# ２値分類に使うことが多いので、サンプルデータを作る\n",
    "y_true_tmp = [1, 1, 0, 1, 0, 0, 1, 1]\n",
    "y_pred_tmp = [1, 1, 1, 0, 0, 1, 0, 1]\n",
    "\n",
    "# Precisionを計算\n",
    "precision_score(y_true_tmp, y_pred_tmp)"
   ]
  },
  {
   "cell_type": "markdown",
   "id": "84db5dfa-f99c-4439-9921-39718b4a95cd",
   "metadata": {},
   "source": [
    "陽性(=1)と分類した中で実際に陽性である割合は60%とわかる。"
   ]
  },
  {
   "cell_type": "markdown",
   "id": "35c57da7-3d4f-42f4-b145-dabe60517bef",
   "metadata": {},
   "source": [
    "## ○ Recall(再現率)\n",
    "* sklearn.metrics.recall_score\n",
    "    * recall_score(y_true, y_pred)"
   ]
  },
  {
   "cell_type": "code",
   "execution_count": 69,
   "id": "c8de1552-0d7e-43de-b9b8-3cdf003bc1c5",
   "metadata": {},
   "outputs": [
    {
     "data": {
      "text/plain": [
       "0.6"
      ]
     },
     "execution_count": 69,
     "metadata": {},
     "output_type": "execute_result"
    }
   ],
   "source": [
    "# recallを計算\n",
    "recall_score(y_true_tmp, y_pred_tmp)"
   ]
  },
  {
   "cell_type": "markdown",
   "id": "fae9495f-f24c-423f-8411-d61685c424f3",
   "metadata": {},
   "source": [
    "## ○ Specificity\n",
    "sklearnには実装されていないが、recall_scoreを使って簡単に計算可能。  \n",
    "→データの陽性と陰性を逆にしてRecallを求めればOK（元々陰性の値が陽性になるので、RecallでSpecificityに相当する値が算出できる）"
   ]
  },
  {
   "cell_type": "code",
   "execution_count": 70,
   "id": "8761ce06-e69c-455f-a1aa-51c4fc8153f7",
   "metadata": {},
   "outputs": [
    {
     "data": {
      "text/plain": [
       "[1, 1, 0, 1, 0, 0, 1, 1]"
      ]
     },
     "execution_count": 70,
     "metadata": {},
     "output_type": "execute_result"
    }
   ],
   "source": [
    "y_true_tmp"
   ]
  },
  {
   "cell_type": "code",
   "execution_count": 71,
   "id": "0afc33a1-e333-4fb5-b405-e4b05bf42d9d",
   "metadata": {},
   "outputs": [
    {
     "data": {
      "text/plain": [
       "[1, 1, 1, 0, 0, 1, 0, 1]"
      ]
     },
     "execution_count": 71,
     "metadata": {},
     "output_type": "execute_result"
    }
   ],
   "source": [
    "y_pred_tmp"
   ]
  },
  {
   "cell_type": "code",
   "execution_count": 72,
   "id": "f45ec329-713f-47d5-a5bf-61bde9f74f90",
   "metadata": {},
   "outputs": [
    {
     "data": {
      "text/plain": [
       "array([False, False,  True, False,  True,  True, False, False])"
      ]
     },
     "execution_count": 72,
     "metadata": {},
     "output_type": "execute_result"
    }
   ],
   "source": [
    "# numpy配列化して1との否定をとることで、陰性と陽性を逆にする\n",
    "np.array(y_true_tmp)!=1"
   ]
  },
  {
   "cell_type": "code",
   "execution_count": 73,
   "id": "29a9f240-100f-4cbe-9274-cac3c9e0ad3d",
   "metadata": {},
   "outputs": [
    {
     "data": {
      "text/plain": [
       "0.3333333333333333"
      ]
     },
     "execution_count": 73,
     "metadata": {},
     "output_type": "execute_result"
    }
   ],
   "source": [
    "# 評価指標の各メソッドはbooleanの配列を入れることもできる。（Python的には0,1はbooleanと互換性があるため）\n",
    "recall_score(np.array(y_true_tmp)!=1, np.array(y_pred_tmp)!=1)"
   ]
  },
  {
   "cell_type": "markdown",
   "id": "e38608d0-c318-42cb-9d2d-0dddaa8fbe5a",
   "metadata": {},
   "source": [
    "## ○ 多クラス評価におけるPrecision\n",
    "* sklearn.metrics.precision_score\n",
    "    * precision_score(y_true, y_pred, average)\n",
    "    * average引数に’macro’, ‘micro’を渡す\n",
    "    * Noneを渡すとクラス別に指標を計算しlistで返す\n",
    "    * 他の指標(recall_score, accuracy_score, etc.)も同様"
   ]
  },
  {
   "cell_type": "code",
   "execution_count": 74,
   "id": "6e735bf7-3106-44fe-941b-e250e39f7656",
   "metadata": {},
   "outputs": [
    {
     "name": "stdout",
     "output_type": "stream",
     "text": [
      "average=Noneのとき：\n",
      "['setosa' 'versicolor' 'virginica']\n",
      "[1.         0.94444444 0.90909091]\n",
      "average=macroのとき：0.9511784511784511\n",
      "average=microのとき：0.9555555555555556\n"
     ]
    }
   ],
   "source": [
    "# クラスごとのPrecisionを算出\n",
    "print(f'average=Noneのとき：\\n{model.classes_}\\n{precision_score(y_test, y_pred, average=None)}')\n",
    "\n",
    "# macro平均を算出\n",
    "print(f'average=macroのとき：{precision_score(y_test, y_pred, average=\"macro\")}')\n",
    "\n",
    "# micro平均を算出\n",
    "print(f'average=microのとき：{precision_score(y_test, y_pred, average=\"micro\")}')\n"
   ]
  },
  {
   "cell_type": "code",
   "execution_count": 75,
   "id": "dc8b1a33-cf96-4a05-9c92-cd6513a591c6",
   "metadata": {},
   "outputs": [
    {
     "data": {
      "text/plain": [
       "0.9555555555555556"
      ]
     },
     "execution_count": 75,
     "metadata": {},
     "output_type": "execute_result"
    }
   ],
   "source": [
    "accuracy_score(y_test, y_pred)"
   ]
  },
  {
   "cell_type": "markdown",
   "id": "40f8f21e-a0ee-419d-8185-e90971a6cd42",
   "metadata": {},
   "source": [
    "確かにPrecisionのmicro平均とAccuracyは同じになっている。"
   ]
  },
  {
   "cell_type": "markdown",
   "id": "4aa38401-996b-44c4-8ebc-64d08100b28a",
   "metadata": {},
   "source": [
    "## ○ Precision-Recall Curveを描画する\n",
    "* sklearn.metrics.precision_recall_curveにより描画に必要な値が取得できる。\n",
    "    * precision_recall_curve(y_true, probas_pred)\n",
    "    * y_trueと各データの確率値をリストにしたprobas_predを引数に渡す\n",
    "    * probas_predは陽性の確率のみなので注意\n",
    "    * precision, recall, thresholdsの３つの一次元NumpyArrayを返す\n",
    "    * precisionとrecallの最後の要素はそれぞれ1と0であることに注意\n",
    "        * それに対応するthresholdsの値は戻り値には含まれない"
   ]
  },
  {
   "cell_type": "code",
   "execution_count": 79,
   "id": "97580bf3-2b21-4b89-ac96-29786cc29141",
   "metadata": {},
   "outputs": [],
   "source": [
    "# 心臓病に関する患者データを読み込み\n",
    "df = pd.read_csv('../Python/sample_data/ML_sample/heart_preprocessed.csv')"
   ]
  },
  {
   "cell_type": "code",
   "execution_count": 80,
   "id": "eeeecf49-97ff-41d2-94e3-42b02eabf800",
   "metadata": {},
   "outputs": [
    {
     "data": {
      "text/html": [
       "<div>\n",
       "<style scoped>\n",
       "    .dataframe tbody tr th:only-of-type {\n",
       "        vertical-align: middle;\n",
       "    }\n",
       "\n",
       "    .dataframe tbody tr th {\n",
       "        vertical-align: top;\n",
       "    }\n",
       "\n",
       "    .dataframe thead th {\n",
       "        text-align: right;\n",
       "    }\n",
       "</style>\n",
       "<table border=\"1\" class=\"dataframe\">\n",
       "  <thead>\n",
       "    <tr style=\"text-align: right;\">\n",
       "      <th></th>\n",
       "      <th>age</th>\n",
       "      <th>resting_blood_pressure</th>\n",
       "      <th>cholesterol</th>\n",
       "      <th>max_heart_rate_achieved</th>\n",
       "      <th>st_depression</th>\n",
       "      <th>num_major_vessels</th>\n",
       "      <th>target</th>\n",
       "      <th>sex_male</th>\n",
       "      <th>chest_pain_type_atypical angina</th>\n",
       "      <th>chest_pain_type_non-anginal pain</th>\n",
       "      <th>chest_pain_type_typical angina</th>\n",
       "      <th>fasting_blood_sugar_lower than 120mg/ml</th>\n",
       "      <th>rest_electrocardiographic_left ventricular hypertrophy</th>\n",
       "      <th>rest_electrocardiographic_normal</th>\n",
       "      <th>exercise_induced_angina_yes</th>\n",
       "      <th>st_slope_flat</th>\n",
       "      <th>st_slope_upsloping</th>\n",
       "      <th>thalassemia_normal</th>\n",
       "      <th>thalassemia_reversable defect</th>\n",
       "    </tr>\n",
       "  </thead>\n",
       "  <tbody>\n",
       "    <tr>\n",
       "      <th>0</th>\n",
       "      <td>52</td>\n",
       "      <td>125</td>\n",
       "      <td>212</td>\n",
       "      <td>168</td>\n",
       "      <td>1.0</td>\n",
       "      <td>2</td>\n",
       "      <td>0</td>\n",
       "      <td>1</td>\n",
       "      <td>0</td>\n",
       "      <td>0</td>\n",
       "      <td>1</td>\n",
       "      <td>1</td>\n",
       "      <td>0</td>\n",
       "      <td>0</td>\n",
       "      <td>0</td>\n",
       "      <td>0</td>\n",
       "      <td>0</td>\n",
       "      <td>0</td>\n",
       "      <td>1</td>\n",
       "    </tr>\n",
       "    <tr>\n",
       "      <th>1</th>\n",
       "      <td>53</td>\n",
       "      <td>140</td>\n",
       "      <td>203</td>\n",
       "      <td>155</td>\n",
       "      <td>3.1</td>\n",
       "      <td>0</td>\n",
       "      <td>0</td>\n",
       "      <td>1</td>\n",
       "      <td>0</td>\n",
       "      <td>0</td>\n",
       "      <td>1</td>\n",
       "      <td>0</td>\n",
       "      <td>0</td>\n",
       "      <td>1</td>\n",
       "      <td>1</td>\n",
       "      <td>0</td>\n",
       "      <td>1</td>\n",
       "      <td>0</td>\n",
       "      <td>1</td>\n",
       "    </tr>\n",
       "    <tr>\n",
       "      <th>2</th>\n",
       "      <td>70</td>\n",
       "      <td>145</td>\n",
       "      <td>174</td>\n",
       "      <td>125</td>\n",
       "      <td>2.6</td>\n",
       "      <td>0</td>\n",
       "      <td>0</td>\n",
       "      <td>1</td>\n",
       "      <td>0</td>\n",
       "      <td>0</td>\n",
       "      <td>1</td>\n",
       "      <td>1</td>\n",
       "      <td>0</td>\n",
       "      <td>0</td>\n",
       "      <td>1</td>\n",
       "      <td>0</td>\n",
       "      <td>1</td>\n",
       "      <td>0</td>\n",
       "      <td>1</td>\n",
       "    </tr>\n",
       "    <tr>\n",
       "      <th>3</th>\n",
       "      <td>61</td>\n",
       "      <td>148</td>\n",
       "      <td>203</td>\n",
       "      <td>161</td>\n",
       "      <td>0.0</td>\n",
       "      <td>1</td>\n",
       "      <td>0</td>\n",
       "      <td>1</td>\n",
       "      <td>0</td>\n",
       "      <td>0</td>\n",
       "      <td>1</td>\n",
       "      <td>1</td>\n",
       "      <td>0</td>\n",
       "      <td>0</td>\n",
       "      <td>0</td>\n",
       "      <td>0</td>\n",
       "      <td>0</td>\n",
       "      <td>0</td>\n",
       "      <td>1</td>\n",
       "    </tr>\n",
       "    <tr>\n",
       "      <th>4</th>\n",
       "      <td>62</td>\n",
       "      <td>138</td>\n",
       "      <td>294</td>\n",
       "      <td>106</td>\n",
       "      <td>1.9</td>\n",
       "      <td>3</td>\n",
       "      <td>0</td>\n",
       "      <td>0</td>\n",
       "      <td>0</td>\n",
       "      <td>0</td>\n",
       "      <td>1</td>\n",
       "      <td>0</td>\n",
       "      <td>0</td>\n",
       "      <td>0</td>\n",
       "      <td>0</td>\n",
       "      <td>1</td>\n",
       "      <td>0</td>\n",
       "      <td>1</td>\n",
       "      <td>0</td>\n",
       "    </tr>\n",
       "  </tbody>\n",
       "</table>\n",
       "</div>"
      ],
      "text/plain": [
       "   age  resting_blood_pressure  cholesterol  max_heart_rate_achieved  \\\n",
       "0   52                     125          212                      168   \n",
       "1   53                     140          203                      155   \n",
       "2   70                     145          174                      125   \n",
       "3   61                     148          203                      161   \n",
       "4   62                     138          294                      106   \n",
       "\n",
       "   st_depression  num_major_vessels  target  sex_male  \\\n",
       "0            1.0                  2       0         1   \n",
       "1            3.1                  0       0         1   \n",
       "2            2.6                  0       0         1   \n",
       "3            0.0                  1       0         1   \n",
       "4            1.9                  3       0         0   \n",
       "\n",
       "   chest_pain_type_atypical angina  chest_pain_type_non-anginal pain  \\\n",
       "0                                0                                 0   \n",
       "1                                0                                 0   \n",
       "2                                0                                 0   \n",
       "3                                0                                 0   \n",
       "4                                0                                 0   \n",
       "\n",
       "   chest_pain_type_typical angina  fasting_blood_sugar_lower than 120mg/ml  \\\n",
       "0                               1                                        1   \n",
       "1                               1                                        0   \n",
       "2                               1                                        1   \n",
       "3                               1                                        1   \n",
       "4                               1                                        0   \n",
       "\n",
       "   rest_electrocardiographic_left ventricular hypertrophy  \\\n",
       "0                                                  0        \n",
       "1                                                  0        \n",
       "2                                                  0        \n",
       "3                                                  0        \n",
       "4                                                  0        \n",
       "\n",
       "   rest_electrocardiographic_normal  exercise_induced_angina_yes  \\\n",
       "0                                 0                            0   \n",
       "1                                 1                            1   \n",
       "2                                 0                            1   \n",
       "3                                 0                            0   \n",
       "4                                 0                            0   \n",
       "\n",
       "   st_slope_flat  st_slope_upsloping  thalassemia_normal  \\\n",
       "0              0                   0                   0   \n",
       "1              0                   1                   0   \n",
       "2              0                   1                   0   \n",
       "3              0                   0                   0   \n",
       "4              1                   0                   1   \n",
       "\n",
       "   thalassemia_reversable defect  \n",
       "0                              1  \n",
       "1                              1  \n",
       "2                              1  \n",
       "3                              1  \n",
       "4                              0  "
      ]
     },
     "execution_count": 80,
     "metadata": {},
     "output_type": "execute_result"
    }
   ],
   "source": [
    "df.head()"
   ]
  },
  {
   "cell_type": "markdown",
   "id": "2f1e1475-6ba9-4a2e-b629-977886746766",
   "metadata": {},
   "source": [
    "心臓病に関する患者データ（Kaggleから取得したデータ）。targetは患者が心臓病を患っているかどうかを表す。  \n",
    "このtargetを目的変数としてモデルを作り、Precision-Recall Curveを作成する。"
   ]
  },
  {
   "cell_type": "code",
   "execution_count": 84,
   "id": "d8cfd969-190d-4d91-8d44-f4e4397b6684",
   "metadata": {},
   "outputs": [],
   "source": [
    "# 目的変数と特徴量定義\n",
    "y_col = 'target'\n",
    "X = df.drop(columns=[y_col])\n",
    "y = df[y_col]\n",
    "\n",
    "# hold-out\n",
    "X_train, X_test, y_train, y_test = train_test_split(X, y, test_size=0.3, random_state=0)\n",
    "\n",
    "# モデル構築。標準化は割愛。ダミー変数は既にデータに含まれている。\n",
    "model = LogisticRegression(solver='liblinear')\n",
    "model.fit(X_train, y_train)\n",
    "y_pred_proba = model.predict_proba(X_test)"
   ]
  },
  {
   "cell_type": "code",
   "execution_count": 90,
   "id": "45b4cd7e-c759-4fa5-9a52-5ca174fe171c",
   "metadata": {},
   "outputs": [
    {
     "name": "stdout",
     "output_type": "stream",
     "text": [
      "[0 1]\n",
      "[[0.49520576 0.50479424]\n",
      " [0.28366806 0.71633194]\n",
      " [0.99732492 0.00267508]\n",
      " [0.06897636 0.93102364]\n",
      " [0.47851485 0.52148515]\n",
      " [0.99002332 0.00997668]\n",
      " [0.66307889 0.33692111]\n",
      " [0.79275385 0.20724615]\n",
      " [0.3021326  0.6978674 ]\n",
      " [0.3021326  0.6978674 ]]\n"
     ]
    }
   ],
   "source": [
    "# targetの0,1の確率を表示。1は陽性\n",
    "print(model.classes_)\n",
    "print(y_pred_proba[:10])"
   ]
  },
  {
   "cell_type": "code",
   "execution_count": 91,
   "id": "f560e0c7-e778-41f0-a947-53d8a6d348d9",
   "metadata": {},
   "outputs": [
    {
     "data": {
      "text/plain": [
       "993    0\n",
       "859    0\n",
       "298    0\n",
       "553    1\n",
       "672    1\n",
       "      ..\n",
       "167    0\n",
       "998    1\n",
       "984    0\n",
       "491    0\n",
       "10     1\n",
       "Name: target, Length: 300, dtype: int64"
      ]
     },
     "execution_count": 91,
     "metadata": {},
     "output_type": "execute_result"
    }
   ],
   "source": [
    "y_test"
   ]
  },
  {
   "cell_type": "code",
   "execution_count": 94,
   "id": "97b57863-1837-488b-a802-80f08059912e",
   "metadata": {},
   "outputs": [
    {
     "data": {
      "text/plain": [
       "array([1, 1, 0, 1, 1])"
      ]
     },
     "execution_count": 94,
     "metadata": {},
     "output_type": "execute_result"
    }
   ],
   "source": [
    "# .predictで返す値は閾値50%のもの\n",
    "model.predict(X_test)[:5]"
   ]
  },
  {
   "cell_type": "code",
   "execution_count": 101,
   "id": "e2389c12-56bb-44e9-81eb-cb442b5fc0c7",
   "metadata": {},
   "outputs": [],
   "source": [
    "# precision_recall_curveの第２引数にはy_pred_probaのpositiveの確率のみ入れるので、スライシングする。\n",
    "precision, recall, thresholds = precision_recall_curve(y_test, y_pred_proba[:, 1])"
   ]
  },
  {
   "cell_type": "code",
   "execution_count": 113,
   "id": "60f6f1e6-94e5-4a41-9813-0ff7fb748efe",
   "metadata": {},
   "outputs": [
    {
     "data": {
      "text/plain": [
       "array([0.48666667, 0.48993289, 0.49324324, 0.49491525, 0.49829352,\n",
       "       0.5       , 0.50171821, 0.50344828, 0.50519031, 0.5087108 ])"
      ]
     },
     "execution_count": 113,
     "metadata": {},
     "output_type": "execute_result"
    }
   ],
   "source": [
    "precision[:10]"
   ]
  },
  {
   "cell_type": "code",
   "execution_count": 114,
   "id": "5e3ba06d-facb-4811-a1e2-c76bd82aa2d4",
   "metadata": {},
   "outputs": [
    {
     "data": {
      "text/plain": [
       "array([1., 1., 1., 1., 1., 1., 1., 1., 1., 1.])"
      ]
     },
     "execution_count": 114,
     "metadata": {},
     "output_type": "execute_result"
    }
   ],
   "source": [
    "recall[:10]"
   ]
  },
  {
   "cell_type": "code",
   "execution_count": 115,
   "id": "baa5504e-6066-4f13-af04-01eaf605ce39",
   "metadata": {},
   "outputs": [
    {
     "data": {
      "text/plain": [
       "array([0.00035687, 0.00129168, 0.00157549, 0.00174841, 0.00201324,\n",
       "       0.00212929, 0.00260159, 0.00267508, 0.00312424, 0.00333926])"
      ]
     },
     "execution_count": 115,
     "metadata": {},
     "output_type": "execute_result"
    }
   ],
   "source": [
    "thresholds[:10]"
   ]
  },
  {
   "cell_type": "code",
   "execution_count": 116,
   "id": "425caa09-9b0a-493c-ac81-9a213aaeb636",
   "metadata": {},
   "outputs": [
    {
     "data": {
      "text/plain": [
       "array([[0.49520576, 0.50479424],\n",
       "       [0.28366806, 0.71633194],\n",
       "       [0.99732492, 0.00267508],\n",
       "       [0.06897636, 0.93102364],\n",
       "       [0.47851485, 0.52148515],\n",
       "       [0.99002332, 0.00997668],\n",
       "       [0.66307889, 0.33692111],\n",
       "       [0.79275385, 0.20724615],\n",
       "       [0.3021326 , 0.6978674 ],\n",
       "       [0.3021326 , 0.6978674 ]])"
      ]
     },
     "execution_count": 116,
     "metadata": {},
     "output_type": "execute_result"
    }
   ],
   "source": [
    "y_pred_proba[:10]"
   ]
  },
  {
   "cell_type": "markdown",
   "id": "41f0051c-3077-44f8-977b-f94b288619f3",
   "metadata": {},
   "source": [
    "precision_recall_curveの結果はthresholdsを徐々に大きくしていった時のprecision,recallの値を返している。  \n",
    "例えばindex=0であれば、thresholds=0.00035～と非常に小さい値なので、何でもかんでも陽性と判定するような閾値となっている。  \n",
    "この場合、recallは最大限まで大きくなるため、1が返ってきている。その後、thresholdsが徐々に大きくなると、トレードオフの関係から  \n",
    "recallが小さくなり、precisionが大きくなっていく。"
   ]
  },
  {
   "cell_type": "code",
   "execution_count": 121,
   "id": "cf61dc33-1972-44d4-bada-e6f5962cdcd3",
   "metadata": {},
   "outputs": [
    {
     "data": {
      "text/plain": [
       "Text(0.5, 1.0, 'Precision-Recall Curve')"
      ]
     },
     "execution_count": 121,
     "metadata": {},
     "output_type": "execute_result"
    },
    {
     "data": {
      "image/png": "[encoded data removed]",
      "text/plain": [
       "<Figure size 720x360 with 1 Axes>"
      ]
     },
     "metadata": {
      "needs_background": "light"
     },
     "output_type": "display_data"
    }
   ],
   "source": [
    "# precision-recall curveを描画\n",
    "fig,ax = plt.subplots(figsize=(10,5))\n",
    "ax.plot(recall, precision)\n",
    "ax.set_xlabel('Recall')\n",
    "ax.set_ylabel('Precision')\n",
    "ax.set_title('Precision-Recall Curve')"
   ]
  },
  {
   "cell_type": "code",
   "execution_count": 123,
   "id": "745445b6-84d3-4a62-8536-caadcdd93c1f",
   "metadata": {},
   "outputs": [
    {
     "data": {
      "text/plain": [
       "0.0"
      ]
     },
     "execution_count": 123,
     "metadata": {},
     "output_type": "execute_result"
    }
   ],
   "source": [
    "recall[-1]"
   ]
  },
  {
   "cell_type": "code",
   "execution_count": 124,
   "id": "5f1b0650-3951-448b-9c0d-22366980969a",
   "metadata": {},
   "outputs": [
    {
     "data": {
      "text/plain": [
       "1.0"
      ]
     },
     "execution_count": 124,
     "metadata": {},
     "output_type": "execute_result"
    }
   ],
   "source": [
    "precision[-1]"
   ]
  },
  {
   "cell_type": "code",
   "execution_count": 126,
   "id": "2fac461d-1ecc-4ffa-b527-88bd808345a6",
   "metadata": {},
   "outputs": [
    {
     "name": "stdout",
     "output_type": "stream",
     "text": [
      "210\n",
      "210\n",
      "209\n"
     ]
    }
   ],
   "source": [
    "print(len(recall))\n",
    "print(len(precision))\n",
    "print(len(thresholds))"
   ]
  },
  {
   "cell_type": "markdown",
   "id": "48e0f576-c2ba-4ef0-ad24-8ebffd8fed39",
   "metadata": {},
   "source": [
    "recall,precisionの最後の値はそれぞれ0,1になっており、これらに対応するthresholdsは存在しないことに注意。"
   ]
  },
  {
   "cell_type": "markdown",
   "id": "0dd49ffc-4845-42c8-a9cb-cf5910dadb17",
   "metadata": {},
   "source": [
    "### ★Tips: JupyterLabからpip installをする場合は下記のようにセルに書いて実行\n",
    "pip install --upgrade scikit-learn 　→scikit-learnをアップグレードする例 "
   ]
  },
  {
   "cell_type": "markdown",
   "id": "7f6279ba-31ee-48fe-af1a-d91cfbc27907",
   "metadata": {},
   "source": [
    "## ○ F値\n",
    "* sklearn.metrics.f1_score\n",
    "    * f1_score(y_true, y_pred)\n",
    "    * 他の指標同様にaverage引数で’macro’や’micro’など選択可能"
   ]
  },
  {
   "cell_type": "code",
   "execution_count": 133,
   "id": "4495b117-7198-4e3d-b9c7-b4b49c19583d",
   "metadata": {},
   "outputs": [
    {
     "data": {
      "text/plain": [
       "0.8469055374592833"
      ]
     },
     "execution_count": 133,
     "metadata": {},
     "output_type": "execute_result"
    }
   ],
   "source": [
    "# 心臓病の例のF値\n",
    "f1_score(y_test, model.predict(X_test))"
   ]
  },
  {
   "cell_type": "markdown",
   "id": "f030889e-e86e-4f71-a8f4-3792ea6ebcd9",
   "metadata": {},
   "source": [
    ".predictの予測値は閾値50%の値なので、上記で正しいのか？  \n",
    "→多分全ての閾値ごとのrecall,precisionの値でF値を計算して最も大きい値を求める必要がある。"
   ]
  },
  {
   "cell_type": "code",
   "execution_count": 138,
   "id": "fd97ddae-4683-4b0b-9ecb-50e06dd9ecb5",
   "metadata": {},
   "outputs": [
    {
     "data": {
      "text/plain": [
       "0.4444444444444445"
      ]
     },
     "execution_count": 138,
     "metadata": {},
     "output_type": "execute_result"
    }
   ],
   "source": [
    "# 適当なデータのF値\n",
    "y_true_tmp = [1, 0, 0, 1, 0, 0, 1, 1]\n",
    "y_pred_tmp = [1, 1, 1, 0, 0, 1, 0, 1]\n",
    "f1_score(y_true_tmp, y_pred_tmp)"
   ]
  },
  {
   "cell_type": "code",
   "execution_count": 142,
   "id": "3897c372-7e9f-45e6-af52-51ec86f63205",
   "metadata": {},
   "outputs": [
    {
     "data": {
      "text/plain": [
       "0.4444444444444444"
      ]
     },
     "execution_count": 142,
     "metadata": {},
     "output_type": "execute_result"
    }
   ],
   "source": [
    "# 調和平均の検算.scipyのstatsモジュールを利用\n",
    "hmean([recall_score(y_true_tmp, y_pred_tmp), precision_score(y_true_tmp, y_pred_tmp)])"
   ]
  },
  {
   "cell_type": "code",
   "execution_count": 140,
   "id": "e1dbc212-ff63-4b86-a88d-b89222339ae0",
   "metadata": {},
   "outputs": [
    {
     "data": {
      "text/plain": [
       "0.5"
      ]
     },
     "execution_count": 140,
     "metadata": {},
     "output_type": "execute_result"
    }
   ],
   "source": [
    "recall_score(y_true_tmp, y_pred_tmp)"
   ]
  },
  {
   "cell_type": "code",
   "execution_count": 141,
   "id": "d69fb379-cced-40a1-9049-39d00115d61c",
   "metadata": {},
   "outputs": [
    {
     "data": {
      "text/plain": [
       "0.4"
      ]
     },
     "execution_count": 141,
     "metadata": {},
     "output_type": "execute_result"
    }
   ],
   "source": [
    "precision_score(y_true_tmp, y_pred_tmp)"
   ]
  },
  {
   "cell_type": "markdown",
   "id": "5846661a-494b-4234-a767-4cf8fd1dc421",
   "metadata": {},
   "source": [
    "## ○ 閾値ごとのPrecision,Recall,F値の推移を描画"
   ]
  },
  {
   "cell_type": "code",
   "execution_count": 151,
   "id": "fbb4d593-dbd4-4c6e-93be-d9c69754fcb5",
   "metadata": {},
   "outputs": [],
   "source": [
    "# thresholdごとのrecall,precisionからf値の配列を算出\n",
    "f1 = hmean([recall, precision])"
   ]
  },
  {
   "cell_type": "code",
   "execution_count": 162,
   "id": "29c746bd-bd19-4043-a8d3-771b9150a135",
   "metadata": {},
   "outputs": [
    {
     "data": {
      "text/plain": [
       "array([0.65470852, 0.65765766, 0.66063348, 0.66213152, 0.66514806])"
      ]
     },
     "execution_count": 162,
     "metadata": {},
     "output_type": "execute_result"
    }
   ],
   "source": [
    "f1[:5]"
   ]
  },
  {
   "cell_type": "markdown",
   "id": "571b1fe7-fd16-4990-b001-78d2b934123e",
   "metadata": {},
   "source": [
    "下記のようなzipとリスト内包表記を使った書き方もOK"
   ]
  },
  {
   "cell_type": "code",
   "execution_count": 167,
   "id": "aef5b4c1-c239-4c04-9760-350d448e61d0",
   "metadata": {},
   "outputs": [],
   "source": [
    "#l = [hmean([r,p]) for r,p in zip(recall, precision)]\n",
    "#l"
   ]
  },
  {
   "cell_type": "code",
   "execution_count": 179,
   "id": "6bd64707-8e9e-4927-b3b9-167611fba8a8",
   "metadata": {},
   "outputs": [
    {
     "name": "stdout",
     "output_type": "stream",
     "text": [
      "89th thresholds=(0.44) is the highest f1 scores = 0.86\n"
     ]
    },
    {
     "data": {
      "image/png": "[encoded data removed]",
      "text/plain": [
       "<Figure size 720x360 with 1 Axes>"
      ]
     },
     "metadata": {
      "needs_background": "light"
     },
     "output_type": "display_data"
    }
   ],
   "source": [
    "# それぞれの推移を描画\n",
    "# thresholdsとprecision,recallの要素数は異なるのでスライシングで削る\n",
    "fig,ax = plt.subplots(figsize=(10,5))\n",
    "ax.plot(thresholds, f1[:-1], label='f1 score')\n",
    "ax.plot(thresholds, recall[:-1], label='recall')\n",
    "ax.plot(thresholds, precision[:-1], label='precision')\n",
    "ax.legend()\n",
    "ax.set_xlabel('Threshold')\n",
    "print(f'{np.argmax(f1)}th thresholds=({thresholds[np.argmax(f1)]:.2f}) is the highest f1 scores = {np.max(f1):.2f}')"
   ]
  },
  {
   "cell_type": "code",
   "execution_count": 171,
   "id": "ed1d54e8-7a93-4464-b036-0831c0b78ed7",
   "metadata": {},
   "outputs": [
    {
     "data": {
      "text/plain": [
       "89"
      ]
     },
     "execution_count": 171,
     "metadata": {},
     "output_type": "execute_result"
    }
   ],
   "source": [
    "# 最もF値が高いインデックスを調べる\n",
    "np.argmax(f1)"
   ]
  },
  {
   "cell_type": "code",
   "execution_count": 180,
   "id": "7ea1390d-1283-43b6-8f9b-2651ced8a498",
   "metadata": {},
   "outputs": [
    {
     "data": {
      "text/plain": [
       "0.4416469035360586"
      ]
     },
     "execution_count": 180,
     "metadata": {},
     "output_type": "execute_result"
    }
   ],
   "source": [
    "thresholds[np.argmax(f1)]"
   ]
  },
  {
   "cell_type": "markdown",
   "id": "7f70e50b-c8c1-4c3a-9388-aa9965a11e26",
   "metadata": {},
   "source": [
    "## ○ ROC \n",
    "* sklearn.metrics.roc_curve\n",
    "    * roc_curve(y_true, y_score)\n",
    "    * y_scoreには陽性の確率の値を入れれば良い\n",
    "    * fpr(1-specificity), tpr, thresholdsの３つの一次元NumpyArrayを返す"
   ]
  },
  {
   "cell_type": "code",
   "execution_count": 185,
   "id": "e44be423-4d8d-4b1c-ba77-8f1f53abe567",
   "metadata": {},
   "outputs": [],
   "source": [
    "# roc_curve関数を使う\n",
    "fpr, tpr, thresholds = roc_curve(y_test, y_pred_proba[:, 1])"
   ]
  },
  {
   "cell_type": "code",
   "execution_count": 189,
   "id": "5a5057f4-5f0e-4c77-94b4-3ba454834c69",
   "metadata": {},
   "outputs": [
    {
     "data": {
      "text/plain": [
       "Text(0.5, 1.0, 'ROC_curve')"
      ]
     },
     "execution_count": 189,
     "metadata": {},
     "output_type": "execute_result"
    },
    {
     "data": {
      "image/png": "[encoded data removed]",
      "text/plain": [
       "<Figure size 432x288 with 1 Axes>"
      ]
     },
     "metadata": {
      "needs_background": "light"
     },
     "output_type": "display_data"
    }
   ],
   "source": [
    "# 描画\n",
    "plt.plot(fpr, tpr)\n",
    "plt.xlabel('1-specificity(FPR)')\n",
    "plt.ylabel('sensitivity(TPR)')\n",
    "plt.title('ROC_curve')"
   ]
  },
  {
   "cell_type": "code",
   "execution_count": 191,
   "id": "d1de28d0-1e82-48d4-bca7-496306405df8",
   "metadata": {},
   "outputs": [
    {
     "data": {
      "text/plain": [
       "array([1.99179933, 0.99179933, 0.97781597, 0.97724868, 0.97670131])"
      ]
     },
     "execution_count": 191,
     "metadata": {},
     "output_type": "execute_result"
    }
   ],
   "source": [
    "thresholds[:5]"
   ]
  },
  {
   "cell_type": "markdown",
   "id": "4e320ec4-4cea-4b24-82b7-0829316a7546",
   "metadata": {},
   "source": [
    "最初は閾値が199%なので、すべて陰性と判定される。したがって、FPRもTPRも0。"
   ]
  },
  {
   "cell_type": "markdown",
   "id": "61339b61-356c-4ee1-9529-d77566512b26",
   "metadata": {},
   "source": [
    "## ○ AUC\n",
    "* sklearn.metrics.auc\n",
    "    * auc(fpr, tpr)\n",
    "    * fprとtprはroc_curve関数の戻り値を使えば良い"
   ]
  },
  {
   "cell_type": "code",
   "execution_count": 199,
   "id": "5879b908-561b-4c6b-93a8-ea987b0e29be",
   "metadata": {},
   "outputs": [
    {
     "data": {
      "text/plain": [
       "0.919542785981142"
      ]
     },
     "execution_count": 199,
     "metadata": {},
     "output_type": "execute_result"
    }
   ],
   "source": [
    "# aucを算出\n",
    "auc(fpr,tpr)"
   ]
  },
  {
   "cell_type": "markdown",
   "id": "bee1b0bf-2706-4343-abbf-5091ec899e92",
   "metadata": {},
   "source": [
    "非常に精度が良いといえる。場合によっては過学習を疑うレベル。"
   ]
  },
  {
   "cell_type": "markdown",
   "id": "427be451-3ed9-4a2e-a47c-e696dbecc267",
   "metadata": {},
   "source": [
    "## ○ 多クラスROCの描画\n",
    "* 正解ラベルはone-hotの形にする\n",
    "* macro平均を求めるにはそれぞれのクラス別のfpr, tprを求め，線形補完し平均を取る\n",
    "* micro平均はone-hotの形の正解ラベルと予測した確率リストを一次元配列にしてroc_curve()に入れれば良い"
   ]
  },
  {
   "cell_type": "code",
   "execution_count": 286,
   "id": "2619c44b-c3d6-42dd-ad3e-d5a72d9fd28d",
   "metadata": {},
   "outputs": [],
   "source": [
    "# データ読み込み\n",
    "df = sns.load_dataset('iris')\n",
    "y_col = 'species'\n",
    "X = df.drop(columns=[y_col])\n",
    "y = df[y_col]\n",
    "\n",
    "# hold-out\n",
    "X_train, X_test, y_train, y_test = train_test_split(X, y, test_size=0.3, random_state=0)\n",
    "\n",
    "# モデル学習。3クラスだが、デフォルトでmulti=autoなので何も指定しなくても多クラス分類してくれる。\n",
    "model = LogisticRegression()\n",
    "model.fit(X_train,y_train)\n",
    "\n",
    "# 予測\n",
    "y_pred_proba = model.predict_proba(X_test)"
   ]
  },
  {
   "cell_type": "markdown",
   "id": "2532a04a-2224-4886-a9e0-34b6cb4577d2",
   "metadata": {},
   "source": [
    "### ■ macro平均の場合"
   ]
  },
  {
   "cell_type": "code",
   "execution_count": 306,
   "id": "b6b0f6b7-6876-4efa-8a91-e772663d8596",
   "metadata": {},
   "outputs": [
    {
     "name": "stdout",
     "output_type": "stream",
     "text": [
      "['setosa' 'versicolor' 'virginica']\n"
     ]
    },
    {
     "data": {
      "text/plain": [
       "array([[0, 0, 1],\n",
       "       [0, 1, 0],\n",
       "       [1, 0, 0],\n",
       "       [0, 0, 1],\n",
       "       [1, 0, 0]])"
      ]
     },
     "execution_count": 306,
     "metadata": {},
     "output_type": "execute_result"
    }
   ],
   "source": [
    "# 目的変数のエンコーディング\n",
    "y_test_one_hot = label_binarize(y_test, classes=model.classes_)\n",
    "print(model.classes_)\n",
    "y_test_one_hot[:5]"
   ]
  },
  {
   "cell_type": "code",
   "execution_count": 307,
   "id": "c30c922c-cc22-4435-b210-c7664e08e277",
   "metadata": {},
   "outputs": [
    {
     "name": "stdout",
     "output_type": "stream",
     "text": [
      "114     virginica\n",
      "62     versicolor\n",
      "33         setosa\n",
      "107     virginica\n",
      "7          setosa\n",
      "Name: species, dtype: object\n"
     ]
    }
   ],
   "source": [
    "print(y_test[:5])"
   ]
  },
  {
   "cell_type": "markdown",
   "id": "db7a9d36-b715-412c-b971-3dbab6e4da09",
   "metadata": {},
   "source": [
    "エンコーディングされたことがわかる。"
   ]
  },
  {
   "cell_type": "code",
   "execution_count": 308,
   "id": "a138d312-05a7-427c-84a1-ff8f34e09407",
   "metadata": {},
   "outputs": [
    {
     "data": {
      "text/plain": [
       "array([[1.31680402e-04, 5.98417206e-02, 9.40026599e-01],\n",
       "       [1.33531075e-02, 9.57040110e-01, 2.96067823e-02],\n",
       "       [9.82919663e-01, 1.70802808e-02, 5.56753076e-08],\n",
       "       [1.60445709e-06, 2.60908819e-02, 9.73907514e-01],\n",
       "       [9.68269781e-01, 3.17299834e-02, 2.35674717e-07]])"
      ]
     },
     "execution_count": 308,
     "metadata": {},
     "output_type": "execute_result"
    }
   ],
   "source": [
    "y_pred_proba[:5]"
   ]
  },
  {
   "cell_type": "code",
   "execution_count": 309,
   "id": "3285f44f-0f76-4371-b61a-378d25667541",
   "metadata": {},
   "outputs": [
    {
     "name": "stdout",
     "output_type": "stream",
     "text": [
      "class:0\n",
      "fpr: [0. 0. 0. 1.], tpr: [0.     0.0625 1.     1.    ]\n",
      "auc: 1.0\n",
      "\n",
      "class:1\n",
      "fpr: [0.         0.         0.         0.07407407 0.07407407 1.        ], tpr: [0.         0.05555556 0.94444444 0.94444444 1.         1.        ]\n",
      "auc: 0.9958847736625515\n",
      "\n",
      "class:2\n",
      "fpr: [0.         0.         0.         0.02941176 0.02941176 1.        ], tpr: [0.         0.09090909 0.81818182 0.81818182 1.         1.        ]\n",
      "auc: 0.9946524064171123\n",
      "\n"
     ]
    }
   ],
   "source": [
    "# それぞれのクラスのfpr,tpr,roc,aucを求める\n",
    "n_classes = len(model.classes_)\n",
    "fpr = {}\n",
    "tpr = {}\n",
    "roc_auc = {}\n",
    "for i in range(n_classes):\n",
    "    # それぞれのクラスごとにテストデータ、y_pred_probaを入れることに注意。thresholdsは今回使わないので捨てる\n",
    "    fpr[i], tpr[i], _ = roc_curve(y_test_one_hot[:, i], y_pred_proba[:, i]) \n",
    "    roc_auc[i] = auc(fpr[i], tpr[i])\n",
    "    print(f'class:{i}')\n",
    "    print(f'fpr: {fpr[i]}, tpr: {tpr[i]}')\n",
    "    print(f'auc: {roc_auc[i]}\\n')"
   ]
  },
  {
   "cell_type": "code",
   "execution_count": 310,
   "id": "7b003c6c-7e30-49fe-9b99-fc80c831be76",
   "metadata": {},
   "outputs": [
    {
     "data": {
      "text/plain": [
       "Text(0, 0.5, 'tpr')"
      ]
     },
     "execution_count": 310,
     "metadata": {},
     "output_type": "execute_result"
    },
    {
     "data": {
      "image/png": "[encoded data removed]",
      "text/plain": [
       "<Figure size 432x288 with 1 Axes>"
      ]
     },
     "metadata": {
      "needs_background": "light"
     },
     "output_type": "display_data"
    }
   ],
   "source": [
    "# それぞれのクラスのROC Curveを描画\n",
    "for i in range(n_classes):\n",
    "    plt.plot(fpr[i], tpr[i], label = f'class: {i}')\n",
    "    plt.legend()\n",
    "    \n",
    "plt.xlabel('fpr')\n",
    "plt.ylabel('tpr')"
   ]
  },
  {
   "attachments": {
    "0cbfab7e-b246-44e1-97b5-783e460a6eea.png": {
     "image/png": "[encoded data removed]"
    }
   },
   "cell_type": "markdown",
   "id": "3a1fe9d3-6248-4132-bdbe-873c92d2ecc4",
   "metadata": {},
   "source": [
    "macro平均のROCではclass:0～2のROCの平均を求める必要がある。  \n",
    "class:0～2でyの値が異なるxにおける平均値を求めるイメージ。  \n",
    "ただし、あるクラスにおけるxの値が他のクラスにおいてもあるとは限らない(scatterでプロットするとよくわかる)。  \n",
    "これでは同じxにおけるyの平均値を求めることができないので、線形補間で存在しない値を補う必要がある。  \n",
    "\n",
    "![image.png](attachment:0cbfab7e-b246-44e1-97b5-783e460a6eea.png)"
   ]
  },
  {
   "cell_type": "markdown",
   "id": "f3b40edd-a80d-4d86-b24d-d44eaf6a67e1",
   "metadata": {},
   "source": [
    "### ※ 線形補間\n",
    "np.interp(x, xp, fp)　※補間：interpolation\n",
    "* x: 補完後のx軸の値\n",
    "* xp: xの値のリスト\n",
    "* yp: yの値のリスト"
   ]
  },
  {
   "cell_type": "code",
   "execution_count": 311,
   "id": "e7e8871f-d15a-4ac5-8325-234717ebb2b0",
   "metadata": {},
   "outputs": [
    {
     "data": {
      "text/plain": [
       "array([ 0.        , 10.        , 20.        , 26.66666667, 33.33333333,\n",
       "       40.        , 60.        ])"
      ]
     },
     "execution_count": 311,
     "metadata": {},
     "output_type": "execute_result"
    }
   ],
   "source": [
    "# 線形補間で欲しいyに対するxの値を定義\n",
    "all_x = np.arange(7)\n",
    "# 補間に使う点（x,y）の値\n",
    "data_x = [0, 2, 5, 6]\n",
    "data_y = [0, 20, 40, 60]\n",
    "\n",
    "# 線形補間でall_xに対するyの値を算出\n",
    "np.interp(all_x, data_x, data_y)\n"
   ]
  },
  {
   "cell_type": "markdown",
   "id": "0d65a714-7d44-4151-a6e2-2e6e5d17ed7a",
   "metadata": {},
   "source": [
    "all_xに対してdata_x=1, 3 , 4に対するyの値がなかったが、線形補間によりそれらのxに対するyの値が補間されたことが分かる"
   ]
  },
  {
   "cell_type": "markdown",
   "id": "053baccd-a806-4f73-be6a-21d78c704b7b",
   "metadata": {},
   "source": [
    "### （続き）それぞれのクラスのROCについて線形補間を使って、平均のROCを求める"
   ]
  },
  {
   "cell_type": "code",
   "execution_count": 312,
   "id": "544c948e-4484-4be3-b129-3004b3e32f3b",
   "metadata": {},
   "outputs": [
    {
     "data": {
      "text/plain": [
       "array([0.        , 0.02941176, 0.07407407, 1.        ])"
      ]
     },
     "execution_count": 312,
     "metadata": {},
     "output_type": "execute_result"
    }
   ],
   "source": [
    "# 補間が必要なyに対するxの値のリスト。それぞれのクラスにない可能性のあるxを抽出するには、全クラスのfprのユニークな値を求めればよい。\n",
    "# →リスト内包表記で全クラスのfprをリストにし、np.conatenateで結合して、.uniqueを使う。\n",
    "all_fpr = np.unique(np.concatenate([fpr[i] for i in range(n_classes)]))\n",
    "all_fpr"
   ]
  },
  {
   "cell_type": "code",
   "execution_count": 313,
   "id": "6d70f0ab-edbc-4eb1-a7f7-583e8f4672ec",
   "metadata": {},
   "outputs": [],
   "source": [
    "# 線形補間\n",
    "\n",
    "# 最終的に補間されたtprの値(yの値)の3クラス平均を求める必要があるので、all_fprと同じ形の0配列を用意しておく。\n",
    "mean_tpr = np.zeros_like(all_fpr)\n",
    "\n",
    "for i in range(n_classes):\n",
    "    # 線形補間した結果のtprを各クラスの要素ごとに足す\n",
    "    mean_tpr += np.interp(all_fpr, fpr[i], tpr[i])\n",
    "\n",
    "# tprの平均値算出\n",
    "mean_tpr = mean_tpr / n_classes"
   ]
  },
  {
   "cell_type": "code",
   "execution_count": 314,
   "id": "d768c8b7-fa34-4c60-a4fe-4a7fba32ccda",
   "metadata": {},
   "outputs": [
    {
     "data": {
      "text/plain": [
       "array([0.92087542, 0.98148148, 1.        , 1.        ])"
      ]
     },
     "execution_count": 314,
     "metadata": {},
     "output_type": "execute_result"
    }
   ],
   "source": [
    "mean_tpr"
   ]
  },
  {
   "cell_type": "code",
   "execution_count": 315,
   "id": "dcafa7fb-c0ca-46d2-99e4-fa9e4d428945",
   "metadata": {},
   "outputs": [
    {
     "data": {
      "text/plain": [
       "array([0.94444444, 0.94444444, 1.        , 1.        ])"
      ]
     },
     "execution_count": 315,
     "metadata": {},
     "output_type": "execute_result"
    }
   ],
   "source": [
    "# all_fprに対応したtprの値が返ってくる。これを上記では各クラスの要素ごとに足している。\n",
    "np.interp(all_fpr, fpr[1], tpr[1])"
   ]
  },
  {
   "cell_type": "code",
   "execution_count": 316,
   "id": "cfaacb1b-9ea6-4ef1-a159-e700d95a2d47",
   "metadata": {},
   "outputs": [],
   "source": [
    "# 平均の結果のfpr,tpr,aucをそれぞれ格納\n",
    "fpr['macro'] = all_fpr\n",
    "tpr['macro'] = mean_tpr\n",
    "roc_auc['macro'] = auc(fpr['macro'], tpr['macro'])"
   ]
  },
  {
   "cell_type": "code",
   "execution_count": 317,
   "id": "c83b2b8f-31a6-4c18-999a-e1a921522cc1",
   "metadata": {},
   "outputs": [
    {
     "data": {
      "text/plain": [
       "{0: array([0., 0., 0., 1.]),\n",
       " 1: array([0.        , 0.        , 0.        , 0.07407407, 0.07407407,\n",
       "        1.        ]),\n",
       " 2: array([0.        , 0.        , 0.        , 0.02941176, 0.02941176,\n",
       "        1.        ]),\n",
       " 'macro': array([0.        , 0.02941176, 0.07407407, 1.        ])}"
      ]
     },
     "execution_count": 317,
     "metadata": {},
     "output_type": "execute_result"
    }
   ],
   "source": [
    "fpr"
   ]
  },
  {
   "cell_type": "code",
   "execution_count": 318,
   "id": "1b06760a-409b-4f94-aa09-3c0aff54d551",
   "metadata": {},
   "outputs": [
    {
     "data": {
      "text/plain": [
       "Text(0, 0.5, 'tpr')"
      ]
     },
     "execution_count": 318,
     "metadata": {},
     "output_type": "execute_result"
    },
    {
     "data": {
      "image/png": "[encoded data removed]",
      "text/plain": [
       "<Figure size 432x288 with 1 Axes>"
      ]
     },
     "metadata": {
      "needs_background": "light"
     },
     "output_type": "display_data"
    }
   ],
   "source": [
    "# macro平均のROC曲線を描画\n",
    "for i in range(n_classes):\n",
    "    plt.plot(fpr[i], tpr[i], label = f'class: {i}')\n",
    "\n",
    "plt.plot(fpr['macro'], tpr['macro'], label = 'macro')\n",
    "plt.legend()    \n",
    "plt.xlabel('fpr')\n",
    "plt.ylabel('tpr')"
   ]
  },
  {
   "cell_type": "markdown",
   "id": "4821dc9b-bf2a-4b08-beb2-029353205cce",
   "metadata": {},
   "source": [
    "### ■ micro平均の場合"
   ]
  },
  {
   "cell_type": "code",
   "execution_count": 319,
   "id": "2de764e2-dd0d-47a3-bfcf-7d77f3bd43b4",
   "metadata": {},
   "outputs": [
    {
     "data": {
      "text/plain": [
       "array([[0, 0, 1],\n",
       "       [0, 1, 0],\n",
       "       [1, 0, 0],\n",
       "       [0, 0, 1],\n",
       "       [1, 0, 0]])"
      ]
     },
     "execution_count": 319,
     "metadata": {},
     "output_type": "execute_result"
    }
   ],
   "source": [
    "# ROC_curveを適用するには、y_test_one_hotをまとめて1次元にする必要がある\n",
    "y_test_one_hot[:5]"
   ]
  },
  {
   "cell_type": "code",
   "execution_count": 320,
   "id": "bb9d9f18-cdde-4df8-a748-27e3b32dda0a",
   "metadata": {},
   "outputs": [
    {
     "data": {
      "text/plain": [
       "array([0, 0, 1, 0, 1, 0, 1, 0, 0, 0, 0, 1, 1, 0, 0, 0, 0, 1, 1, 0, 0, 0,\n",
       "       1, 0, 0, 1, 0, 0, 1, 0, 0, 0, 1, 0, 1, 0, 0, 1, 0, 0, 1, 0, 0, 1,\n",
       "       0, 1, 0, 0, 0, 1, 0, 0, 1, 0, 1, 0, 0, 1, 0, 0, 0, 0, 1, 0, 1, 0,\n",
       "       1, 0, 0, 1, 0, 0, 0, 0, 1, 1, 0, 0, 1, 0, 0, 0, 1, 0, 0, 1, 0, 1,\n",
       "       0, 0, 0, 0, 1, 0, 1, 0, 1, 0, 0, 0, 0, 1, 0, 0, 1, 0, 1, 0, 1, 0,\n",
       "       0, 0, 1, 0, 0, 1, 0, 0, 1, 0, 0, 0, 1, 1, 0, 0, 0, 0, 1, 1, 0, 0,\n",
       "       1, 0, 0])"
      ]
     },
     "execution_count": 320,
     "metadata": {},
     "output_type": "execute_result"
    }
   ],
   "source": [
    "# .ravel()を使うと各クラスをまとめて1次元にしてくれる\n",
    "y_test_one_hot.ravel()"
   ]
  },
  {
   "cell_type": "code",
   "execution_count": 321,
   "id": "e3daa043-bdc4-48ac-962a-e579dc1fa30a",
   "metadata": {},
   "outputs": [
    {
     "data": {
      "text/plain": [
       "array([1.31680402e-04, 5.98417206e-02, 9.40026599e-01, 1.33531075e-02,\n",
       "       9.57040110e-01, 2.96067823e-02])"
      ]
     },
     "execution_count": 321,
     "metadata": {},
     "output_type": "execute_result"
    }
   ],
   "source": [
    "# y_pred_probaも同様\n",
    "y_pred_proba.ravel()[:6]"
   ]
  },
  {
   "cell_type": "code",
   "execution_count": 322,
   "id": "33a241d0-7bff-4984-8908-24d2adc38247",
   "metadata": {},
   "outputs": [],
   "source": [
    "# micro平均でのfpr,tpr,aucを取得\n",
    "fpr['micro'], tpr['micro'], _ = roc_curve(y_test_one_hot.ravel(), y_pred_proba.ravel())\n",
    "roc_auc['micro'] = auc(fpr['micro'], tpr['micro'])"
   ]
  },
  {
   "cell_type": "code",
   "execution_count": 324,
   "id": "8b46cd2f-2b4b-4651-a369-28692b5b81ad",
   "metadata": {},
   "outputs": [
    {
     "data": {
      "text/plain": [
       "{0: array([0., 0., 0., 1.]),\n",
       " 1: array([0.        , 0.        , 0.        , 0.07407407, 0.07407407,\n",
       "        1.        ]),\n",
       " 2: array([0.        , 0.        , 0.        , 0.02941176, 0.02941176,\n",
       "        1.        ]),\n",
       " 'macro': array([0.        , 0.02941176, 0.07407407, 1.        ]),\n",
       " 'micro': array([0.        , 0.        , 0.        , 0.01111111, 0.01111111,\n",
       "        0.04444444, 0.04444444, 1.        ])}"
      ]
     },
     "execution_count": 324,
     "metadata": {},
     "output_type": "execute_result"
    }
   ],
   "source": [
    "fpr"
   ]
  },
  {
   "cell_type": "code",
   "execution_count": 325,
   "id": "78e83c6d-543e-453c-b058-83bd9b4e0f0d",
   "metadata": {},
   "outputs": [
    {
     "data": {
      "text/plain": [
       "Text(0, 0.5, 'tpr')"
      ]
     },
     "execution_count": 325,
     "metadata": {},
     "output_type": "execute_result"
    },
    {
     "data": {
      "image/png": "[encoded data removed]",
      "text/plain": [
       "<Figure size 432x288 with 1 Axes>"
      ]
     },
     "metadata": {
      "needs_background": "light"
     },
     "output_type": "display_data"
    }
   ],
   "source": [
    "# macro平均とmicro平均のROC曲線を描画\n",
    "for i in range(n_classes):\n",
    "    plt.plot(fpr[i], tpr[i], label = f'class: {i}')\n",
    "\n",
    "plt.plot(fpr['macro'], tpr['macro'], label = 'macro')\n",
    "plt.plot(fpr['micro'], tpr['micro'], label = 'micro')\n",
    "plt.legend()    \n",
    "plt.xlabel('fpr')\n",
    "plt.ylabel('tpr')"
   ]
  },
  {
   "cell_type": "markdown",
   "id": "2750a2bb-65e6-44e0-9947-5176e88ea1b1",
   "metadata": {},
   "source": [
    "macro平均は線形補間しているので比較的なめらかになるが、micro平均はそうではないのでかくかく。"
   ]
  },
  {
   "cell_type": "code",
   "execution_count": null,
   "id": "075f5d07-9cdb-491d-b669-bb6947dfc573",
   "metadata": {},
   "outputs": [],
   "source": []
  }
 ],
 "metadata": {
  "kernelspec": {
   "display_name": "Python 3 (ipykernel)",
   "language": "python",
   "name": "python3"
  },
  "language_info": {
   "codemirror_mode": {
    "name": "ipython",
    "version": 3
   },
   "file_extension": ".py",
   "mimetype": "text/x-python",
   "name": "python",
   "nbconvert_exporter": "python",
   "pygments_lexer": "ipython3",
   "version": "3.9.12"
  }
 },
 "nbformat": 4,
 "nbformat_minor": 5
}
