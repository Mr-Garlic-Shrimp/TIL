{
 "cells": [
  {
   "cell_type": "markdown",
   "id": "676b416b-6c77-461e-8c62-4aa7dd3959c6",
   "metadata": {},
   "source": [
    "# 機械学習をPythonで実践する-6　　～ 分類器の精度指標 ～"
   ]
  },
  {
   "cell_type": "code",
   "execution_count": 36,
   "id": "ad1b1109-7b8a-4a3b-819b-4f17b3b60aeb",
   "metadata": {},
   "outputs": [
    {
     "name": "stdout",
     "output_type": "stream",
     "text": [
      "The autoreload extension is already loaded. To reload it, use:\n",
      "  %reload_ext autoreload\n"
     ]
    }
   ],
   "source": [
    "%load_ext autoreload\n",
    "%autoreload 2\n",
    "import pandas as pd\n",
    "import numpy as np\n",
    "import seaborn as sns\n",
    "from itertools import product\n",
    "from sklearn.linear_model import LinearRegression, Ridge, Lasso, LogisticRegression\n",
    "# from sklearn.preprocessing import StandardScaler, PolynomialFeatures\n",
    "# import statsmodels.api as sma\n",
    "from sklearn.model_selection import train_test_split ,LeaveOneOut, cross_val_score, KFold, RepeatedKFold\n",
    "from sklearn.metrics import mean_squared_error, mean_absolute_error, r2_score, log_loss, confusion_matrix,ConfusionMatrixDisplay, accuracy_score, precision_score, recall_score\n",
    "# from sklearn.pipeline import Pipeline\n",
    "# from sklearn.neighbors import KNeighborsRegressor\n",
    "\n",
    "\n",
    "%matplotlib inline\n",
    "import matplotlib.pyplot as plt"
   ]
  },
  {
   "cell_type": "markdown",
   "id": "753950f2-142f-40d1-87b2-987f21ba4458",
   "metadata": {},
   "source": [
    "## ○ 混同行列\n",
    "* sklearn.metrics.confusion_matrixクラスで混同行列インスタンスを生成\n",
    "    * confusin_matrix(y_true, y_pred)\n",
    "    * 戻り値はNumpy Array\n",
    "\n",
    "\n",
    "* 混同行列(Confusion Matrix)をヒートマップで綺麗に表示する方法。\n",
    "    * sklearn.metrics.ConfusionMatrixDisplay\n",
    "    * ConfusionMatrixDisplay(confusion_matrix=cm, display_labels=model.classes_)\n",
    "    * confusion_matrix引数にはconfusion_matrix()の戻り値を入れる\n",
    "    1. インスタンス生成\n",
    "    2. .plot()メソッドで描画"
   ]
  },
  {
   "cell_type": "code",
   "execution_count": 3,
   "id": "4e6a15e6-f62e-4923-8cf4-c06c589cd87e",
   "metadata": {},
   "outputs": [],
   "source": [
    "# データ読み込み\n",
    "df = sns.load_dataset('iris')\n",
    "y_col = 'species'\n",
    "X = df.drop(columns=[y_col])\n",
    "y = df[y_col]\n",
    "\n",
    "# hold-out\n",
    "X_train, X_test, y_train, y_test = train_test_split(X, y, test_size=0.3, random_state=0)\n",
    "\n",
    "# モデル学習\n",
    "model = LogisticRegression(penalty='none')\n",
    "model.fit(X_train,y_train)\n",
    "\n",
    "# 予測\n",
    "y_pred = model.predict(X_test)"
   ]
  },
  {
   "cell_type": "code",
   "execution_count": 7,
   "id": "2ea81ad1-2173-4978-b484-40e0d40ea2a6",
   "metadata": {},
   "outputs": [
    {
     "data": {
      "text/plain": [
       "array(['virginica', 'versicolor', 'setosa', 'virginica', 'setosa',\n",
       "       'virginica', 'setosa', 'versicolor', 'versicolor', 'versicolor',\n",
       "       'virginica', 'versicolor', 'versicolor', 'versicolor',\n",
       "       'versicolor', 'setosa', 'versicolor', 'versicolor', 'setosa',\n",
       "       'setosa', 'virginica', 'versicolor', 'setosa', 'setosa',\n",
       "       'versicolor', 'setosa', 'setosa', 'versicolor', 'versicolor',\n",
       "       'setosa', 'virginica', 'versicolor', 'setosa', 'virginica',\n",
       "       'virginica', 'versicolor', 'setosa', 'virginica', 'versicolor',\n",
       "       'versicolor', 'virginica', 'setosa', 'virginica', 'setosa',\n",
       "       'setosa'], dtype=object)"
      ]
     },
     "execution_count": 7,
     "metadata": {},
     "output_type": "execute_result"
    }
   ],
   "source": [
    "y_pred"
   ]
  },
  {
   "cell_type": "code",
   "execution_count": 14,
   "id": "2424721f-601e-489e-8b65-02bd312ad283",
   "metadata": {},
   "outputs": [
    {
     "data": {
      "text/plain": [
       "array([[16,  0,  0],\n",
       "       [ 0, 17,  1],\n",
       "       [ 0,  1, 10]])"
      ]
     },
     "execution_count": 14,
     "metadata": {},
     "output_type": "execute_result"
    }
   ],
   "source": [
    "# 混同行列\n",
    "cm = confusion_matrix(y_test, y_pred)\n",
    "cm"
   ]
  },
  {
   "cell_type": "code",
   "execution_count": 12,
   "id": "471741de-3572-4651-974b-e0c704b7cdf1",
   "metadata": {},
   "outputs": [
    {
     "data": {
      "text/plain": [
       "array(['setosa', 'versicolor', 'virginica'], dtype=object)"
      ]
     },
     "execution_count": 12,
     "metadata": {},
     "output_type": "execute_result"
    }
   ],
   "source": [
    "# クラスの順番を表示\n",
    "model.classes_"
   ]
  },
  {
   "cell_type": "markdown",
   "id": "301914e0-1614-4f3a-9a38-89884c933e8f",
   "metadata": {},
   "source": [
    "混同行列は縦に正解ラベルのsetosa,versicolor,virginica、横に予測値のsetosa,versicolor,virginicaとなっている。  \n",
    "１行２列目の1は正解はversicolorなのに予測値がvirginicaであるという不正解が1件あったことを表す。"
   ]
  },
  {
   "cell_type": "code",
   "execution_count": 17,
   "id": "b7e3cea0-88e5-483c-a31e-32008271b17d",
   "metadata": {},
   "outputs": [
    {
     "data": {
      "text/plain": [
       "<sklearn.metrics._plot.confusion_matrix.ConfusionMatrixDisplay at 0x7f10be25d4c0>"
      ]
     },
     "execution_count": 17,
     "metadata": {},
     "output_type": "execute_result"
    },
    {
     "data": {
      "image/png": "[encoded data removed]",
      "text/plain": [
       "<Figure size 432x288 with 2 Axes>"
      ]
     },
     "metadata": {
      "needs_background": "light"
     },
     "output_type": "display_data"
    }
   ],
   "source": [
    "# 視覚的にわかりやすく混同行列を表示する。\n",
    "disp = ConfusionMatrixDisplay(confusion_matrix=cm, display_labels=model.classes_)\n",
    "disp.plot()"
   ]
  },
  {
   "cell_type": "markdown",
   "id": "b635cf04-fc77-42fd-8bc8-2bce8d90d9f8",
   "metadata": {},
   "source": [
    "## ○ Accuracy(正解率)\n",
    "* sklearn.metrics.accuracy_score\n",
    "    * accuracy_score(y_true, y_pred)"
   ]
  },
  {
   "cell_type": "code",
   "execution_count": 26,
   "id": "7fc7f496-55fc-4a0e-b18c-e858f0e4cd5b",
   "metadata": {},
   "outputs": [
    {
     "data": {
      "text/plain": [
       "0.9555555555555556"
      ]
     },
     "execution_count": 26,
     "metadata": {},
     "output_type": "execute_result"
    }
   ],
   "source": [
    "# irisデータの正解率。\n",
    "accuracy_score(y_test, y_pred)"
   ]
  },
  {
   "cell_type": "code",
   "execution_count": 25,
   "id": "36c99310-c82a-408b-8125-9988dbc2b636",
   "metadata": {},
   "outputs": [
    {
     "data": {
      "text/plain": [
       "0.9555555555555556"
      ]
     },
     "execution_count": 25,
     "metadata": {},
     "output_type": "execute_result"
    }
   ],
   "source": [
    "# 分子は混同行列の対角成分の和になる。\n",
    "(16+17+10)/(len(y_pred))"
   ]
  },
  {
   "cell_type": "markdown",
   "id": "e4459cd1-5c5d-4614-b6ec-dc4b4d8f82b2",
   "metadata": {},
   "source": [
    "## ○ Precision(適合率)\n",
    "* sklearn.metrics.precision_score\n",
    "    * precision_score(y_true, y_pred)"
   ]
  },
  {
   "cell_type": "code",
   "execution_count": 32,
   "id": "45d55327-51e7-4c8f-9520-9e737516da3e",
   "metadata": {},
   "outputs": [
    {
     "data": {
      "text/plain": [
       "0.6"
      ]
     },
     "execution_count": 32,
     "metadata": {},
     "output_type": "execute_result"
    }
   ],
   "source": [
    "# ２値分類に使うことが多いので、サンプルデータを作る\n",
    "y_true_tmp = [1, 1, 0, 1, 0, 0, 1, 1]\n",
    "y_pred_tmp = [1, 1, 1, 0, 0, 1, 0, 1]\n",
    "\n",
    "# Precisionを計算\n",
    "precision_score(y_true_tmp, y_pred_tmp)"
   ]
  },
  {
   "cell_type": "markdown",
   "id": "84db5dfa-f99c-4439-9921-39718b4a95cd",
   "metadata": {},
   "source": [
    "陽性(=1)と分類した中で実際に陽性である割合は60%とわかる。"
   ]
  },
  {
   "cell_type": "markdown",
   "id": "35c57da7-3d4f-42f4-b145-dabe60517bef",
   "metadata": {},
   "source": [
    "## ○ Recall(再現率)\n",
    "* sklearn.metrics.recall_score\n",
    "    * recall_score(y_true, y_pred)"
   ]
  },
  {
   "cell_type": "code",
   "execution_count": 35,
   "id": "c8de1552-0d7e-43de-b9b8-3cdf003bc1c5",
   "metadata": {},
   "outputs": [
    {
     "data": {
      "text/plain": [
       "0.6"
      ]
     },
     "execution_count": 35,
     "metadata": {},
     "output_type": "execute_result"
    }
   ],
   "source": [
    "# recallを計算\n",
    "recall_score(y_true_tmp, y_pred_tmp)"
   ]
  },
  {
   "cell_type": "markdown",
   "id": "fae9495f-f24c-423f-8411-d61685c424f3",
   "metadata": {},
   "source": [
    "## ○ Specificity\n",
    "sklearnには実装されていないが、recall_scoreを使って簡単に計算可能。  \n",
    "→データの陽性と陰性を逆にしてRecallを求めればOK（元々陰性の値が陽性になるので、RecallでSpecificityに相当する値が算出できる）"
   ]
  },
  {
   "cell_type": "code",
   "execution_count": 37,
   "id": "8761ce06-e69c-455f-a1aa-51c4fc8153f7",
   "metadata": {},
   "outputs": [
    {
     "data": {
      "text/plain": [
       "[1, 1, 0, 1, 0, 0, 1, 1]"
      ]
     },
     "execution_count": 37,
     "metadata": {},
     "output_type": "execute_result"
    }
   ],
   "source": [
    "y_true_tmp"
   ]
  },
  {
   "cell_type": "code",
   "execution_count": 38,
   "id": "0afc33a1-e333-4fb5-b405-e4b05bf42d9d",
   "metadata": {},
   "outputs": [
    {
     "data": {
      "text/plain": [
       "[1, 1, 1, 0, 0, 1, 0, 1]"
      ]
     },
     "execution_count": 38,
     "metadata": {},
     "output_type": "execute_result"
    }
   ],
   "source": [
    "y_pred_tmp"
   ]
  },
  {
   "cell_type": "code",
   "execution_count": 41,
   "id": "f45ec329-713f-47d5-a5bf-61bde9f74f90",
   "metadata": {},
   "outputs": [
    {
     "data": {
      "text/plain": [
       "array([False, False,  True, False,  True,  True, False, False])"
      ]
     },
     "execution_count": 41,
     "metadata": {},
     "output_type": "execute_result"
    }
   ],
   "source": [
    "# numpy配列化して1との否定をとることで、陰性と陽性を逆にする\n",
    "np.array(y_true_tmp)!=1"
   ]
  },
  {
   "cell_type": "code",
   "execution_count": 42,
   "id": "29a9f240-100f-4cbe-9274-cac3c9e0ad3d",
   "metadata": {},
   "outputs": [
    {
     "data": {
      "text/plain": [
       "0.3333333333333333"
      ]
     },
     "execution_count": 42,
     "metadata": {},
     "output_type": "execute_result"
    }
   ],
   "source": [
    "# 評価指標の各メソッドはbooleanの配列を入れることもできる。（Python的には0,1はbooleanと互換性があるため）\n",
    "recall_score(np.array(y_true_tmp)!=1, np.array(y_pred_tmp)!=1)"
   ]
  },
  {
   "cell_type": "code",
   "execution_count": null,
   "id": "1ed5e3f8-0c2d-4db7-ae16-cc43bff00e1e",
   "metadata": {},
   "outputs": [],
   "source": []
  }
 ],
 "metadata": {
  "kernelspec": {
   "display_name": "Python 3 (ipykernel)",
   "language": "python",
   "name": "python3"
  },
  "language_info": {
   "codemirror_mode": {
    "name": "ipython",
    "version": 3
   },
   "file_extension": ".py",
   "mimetype": "text/x-python",
   "name": "python",
   "nbconvert_exporter": "python",
   "pygments_lexer": "ipython3",
   "version": "3.9.12"
  }
 },
 "nbformat": 4,
 "nbformat_minor": 5
}
