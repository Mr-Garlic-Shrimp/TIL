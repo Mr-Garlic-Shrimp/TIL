{
 "cells": [
  {
   "cell_type": "markdown",
   "id": "676b416b-6c77-461e-8c62-4aa7dd3959c6",
   "metadata": {},
   "source": [
    "# 機械学習をPythonで実践する-6　　～ 分類器の精度指標 ～"
   ]
  },
  {
   "cell_type": "code",
   "execution_count": 97,
   "id": "ad1b1109-7b8a-4a3b-819b-4f17b3b60aeb",
   "metadata": {},
   "outputs": [
    {
     "name": "stdout",
     "output_type": "stream",
     "text": [
      "The autoreload extension is already loaded. To reload it, use:\n",
      "  %reload_ext autoreload\n"
     ]
    }
   ],
   "source": [
    "%load_ext autoreload\n",
    "%autoreload 2\n",
    "import pandas as pd\n",
    "import numpy as np\n",
    "import seaborn as sns\n",
    "from itertools import product\n",
    "from sklearn.linear_model import LinearRegression, Ridge, Lasso, LogisticRegression\n",
    "# from sklearn.preprocessing import StandardScaler, PolynomialFeatures\n",
    "# import statsmodels.api as sma\n",
    "from sklearn.model_selection import train_test_split ,LeaveOneOut, cross_val_score, KFold, RepeatedKFold\n",
    "from sklearn.metrics import mean_squared_error, mean_absolute_error, r2_score, log_loss, confusion_matrix,ConfusionMatrixDisplay, \\\n",
    "accuracy_score, precision_score, recall_score,precision_recall_curve\n",
    "# from sklearn.pipeline import Pipeline\n",
    "# from sklearn.neighbors import KNeighborsRegressor\n",
    "\n",
    "\n",
    "%matplotlib inline\n",
    "import matplotlib.pyplot as plt"
   ]
  },
  {
   "cell_type": "markdown",
   "id": "753950f2-142f-40d1-87b2-987f21ba4458",
   "metadata": {},
   "source": [
    "## ○ 混同行列\n",
    "* sklearn.metrics.confusion_matrixクラスで混同行列インスタンスを生成\n",
    "    * confusin_matrix(y_true, y_pred)\n",
    "    * 戻り値はNumpy Array\n",
    "\n",
    "\n",
    "* 混同行列(Confusion Matrix)をヒートマップで綺麗に表示する方法。\n",
    "    * sklearn.metrics.ConfusionMatrixDisplay\n",
    "    * ConfusionMatrixDisplay(confusion_matrix=cm, display_labels=model.classes_)\n",
    "    * confusion_matrix引数にはconfusion_matrix()の戻り値を入れる\n",
    "    1. インスタンス生成\n",
    "    2. .plot()メソッドで描画"
   ]
  },
  {
   "cell_type": "code",
   "execution_count": 61,
   "id": "4e6a15e6-f62e-4923-8cf4-c06c589cd87e",
   "metadata": {},
   "outputs": [],
   "source": [
    "# データ読み込み\n",
    "df = sns.load_dataset('iris')\n",
    "y_col = 'species'\n",
    "X = df.drop(columns=[y_col])\n",
    "y = df[y_col]\n",
    "\n",
    "# hold-out\n",
    "X_train, X_test, y_train, y_test = train_test_split(X, y, test_size=0.3, random_state=0)\n",
    "\n",
    "# モデル学習。3クラスだが、デフォルトでmulti=autoなので何も指定しなくても多クラス分類してくれる。\n",
    "model = LogisticRegression(penalty='none')\n",
    "model.fit(X_train,y_train)\n",
    "\n",
    "# 予測\n",
    "y_pred = model.predict(X_test)"
   ]
  },
  {
   "cell_type": "code",
   "execution_count": 62,
   "id": "2ea81ad1-2173-4978-b484-40e0d40ea2a6",
   "metadata": {},
   "outputs": [
    {
     "data": {
      "text/plain": [
       "array(['virginica', 'versicolor', 'setosa', 'virginica', 'setosa',\n",
       "       'virginica', 'setosa', 'versicolor', 'versicolor', 'versicolor',\n",
       "       'virginica', 'versicolor', 'versicolor', 'versicolor',\n",
       "       'versicolor', 'setosa', 'versicolor', 'versicolor', 'setosa',\n",
       "       'setosa', 'virginica', 'versicolor', 'setosa', 'setosa',\n",
       "       'versicolor', 'setosa', 'setosa', 'versicolor', 'versicolor',\n",
       "       'setosa', 'virginica', 'versicolor', 'setosa', 'virginica',\n",
       "       'virginica', 'versicolor', 'setosa', 'virginica', 'versicolor',\n",
       "       'versicolor', 'virginica', 'setosa', 'virginica', 'setosa',\n",
       "       'setosa'], dtype=object)"
      ]
     },
     "execution_count": 62,
     "metadata": {},
     "output_type": "execute_result"
    }
   ],
   "source": [
    "y_pred"
   ]
  },
  {
   "cell_type": "code",
   "execution_count": 63,
   "id": "2424721f-601e-489e-8b65-02bd312ad283",
   "metadata": {},
   "outputs": [
    {
     "data": {
      "text/plain": [
       "array([[16,  0,  0],\n",
       "       [ 0, 17,  1],\n",
       "       [ 0,  1, 10]])"
      ]
     },
     "execution_count": 63,
     "metadata": {},
     "output_type": "execute_result"
    }
   ],
   "source": [
    "# 混同行列\n",
    "cm = confusion_matrix(y_test, y_pred)\n",
    "cm"
   ]
  },
  {
   "cell_type": "code",
   "execution_count": 64,
   "id": "471741de-3572-4651-974b-e0c704b7cdf1",
   "metadata": {},
   "outputs": [
    {
     "data": {
      "text/plain": [
       "array(['setosa', 'versicolor', 'virginica'], dtype=object)"
      ]
     },
     "execution_count": 64,
     "metadata": {},
     "output_type": "execute_result"
    }
   ],
   "source": [
    "# クラスの順番を表示\n",
    "model.classes_"
   ]
  },
  {
   "cell_type": "markdown",
   "id": "301914e0-1614-4f3a-9a38-89884c933e8f",
   "metadata": {},
   "source": [
    "混同行列は縦に正解ラベルのsetosa,versicolor,virginica、横に予測値のsetosa,versicolor,virginicaとなっている。  \n",
    "１行２列目の1は正解はversicolorなのに予測値がvirginicaであるという不正解が1件あったことを表す。"
   ]
  },
  {
   "cell_type": "code",
   "execution_count": 65,
   "id": "b7e3cea0-88e5-483c-a31e-32008271b17d",
   "metadata": {},
   "outputs": [
    {
     "data": {
      "text/plain": [
       "<sklearn.metrics._plot.confusion_matrix.ConfusionMatrixDisplay at 0x7f10bc627e50>"
      ]
     },
     "execution_count": 65,
     "metadata": {},
     "output_type": "execute_result"
    },
    {
     "data": {
      "image/png": "[encoded data removed]",
      "text/plain": [
       "<Figure size 432x288 with 2 Axes>"
      ]
     },
     "metadata": {
      "needs_background": "light"
     },
     "output_type": "display_data"
    }
   ],
   "source": [
    "# 視覚的にわかりやすく混同行列を表示する。\n",
    "disp = ConfusionMatrixDisplay(confusion_matrix=cm, display_labels=model.classes_)\n",
    "disp.plot()"
   ]
  },
  {
   "cell_type": "markdown",
   "id": "b635cf04-fc77-42fd-8bc8-2bce8d90d9f8",
   "metadata": {},
   "source": [
    "## ○ Accuracy(正解率)\n",
    "* sklearn.metrics.accuracy_score\n",
    "    * accuracy_score(y_true, y_pred)"
   ]
  },
  {
   "cell_type": "code",
   "execution_count": 66,
   "id": "7fc7f496-55fc-4a0e-b18c-e858f0e4cd5b",
   "metadata": {},
   "outputs": [
    {
     "data": {
      "text/plain": [
       "0.9555555555555556"
      ]
     },
     "execution_count": 66,
     "metadata": {},
     "output_type": "execute_result"
    }
   ],
   "source": [
    "# irisデータの正解率。\n",
    "accuracy_score(y_test, y_pred)"
   ]
  },
  {
   "cell_type": "code",
   "execution_count": 67,
   "id": "36c99310-c82a-408b-8125-9988dbc2b636",
   "metadata": {},
   "outputs": [
    {
     "data": {
      "text/plain": [
       "0.9555555555555556"
      ]
     },
     "execution_count": 67,
     "metadata": {},
     "output_type": "execute_result"
    }
   ],
   "source": [
    "# 分子は混同行列の対角成分の和になる。\n",
    "(16+17+10)/(len(y_pred))"
   ]
  },
  {
   "cell_type": "markdown",
   "id": "e4459cd1-5c5d-4614-b6ec-dc4b4d8f82b2",
   "metadata": {},
   "source": [
    "## ○ Precision(適合率)\n",
    "* sklearn.metrics.precision_score\n",
    "    * precision_score(y_true, y_pred)"
   ]
  },
  {
   "cell_type": "code",
   "execution_count": 68,
   "id": "45d55327-51e7-4c8f-9520-9e737516da3e",
   "metadata": {},
   "outputs": [
    {
     "data": {
      "text/plain": [
       "0.6"
      ]
     },
     "execution_count": 68,
     "metadata": {},
     "output_type": "execute_result"
    }
   ],
   "source": [
    "# ２値分類に使うことが多いので、サンプルデータを作る\n",
    "y_true_tmp = [1, 1, 0, 1, 0, 0, 1, 1]\n",
    "y_pred_tmp = [1, 1, 1, 0, 0, 1, 0, 1]\n",
    "\n",
    "# Precisionを計算\n",
    "precision_score(y_true_tmp, y_pred_tmp)"
   ]
  },
  {
   "cell_type": "markdown",
   "id": "84db5dfa-f99c-4439-9921-39718b4a95cd",
   "metadata": {},
   "source": [
    "陽性(=1)と分類した中で実際に陽性である割合は60%とわかる。"
   ]
  },
  {
   "cell_type": "markdown",
   "id": "35c57da7-3d4f-42f4-b145-dabe60517bef",
   "metadata": {},
   "source": [
    "## ○ Recall(再現率)\n",
    "* sklearn.metrics.recall_score\n",
    "    * recall_score(y_true, y_pred)"
   ]
  },
  {
   "cell_type": "code",
   "execution_count": 69,
   "id": "c8de1552-0d7e-43de-b9b8-3cdf003bc1c5",
   "metadata": {},
   "outputs": [
    {
     "data": {
      "text/plain": [
       "0.6"
      ]
     },
     "execution_count": 69,
     "metadata": {},
     "output_type": "execute_result"
    }
   ],
   "source": [
    "# recallを計算\n",
    "recall_score(y_true_tmp, y_pred_tmp)"
   ]
  },
  {
   "cell_type": "markdown",
   "id": "fae9495f-f24c-423f-8411-d61685c424f3",
   "metadata": {},
   "source": [
    "## ○ Specificity\n",
    "sklearnには実装されていないが、recall_scoreを使って簡単に計算可能。  \n",
    "→データの陽性と陰性を逆にしてRecallを求めればOK（元々陰性の値が陽性になるので、RecallでSpecificityに相当する値が算出できる）"
   ]
  },
  {
   "cell_type": "code",
   "execution_count": 70,
   "id": "8761ce06-e69c-455f-a1aa-51c4fc8153f7",
   "metadata": {},
   "outputs": [
    {
     "data": {
      "text/plain": [
       "[1, 1, 0, 1, 0, 0, 1, 1]"
      ]
     },
     "execution_count": 70,
     "metadata": {},
     "output_type": "execute_result"
    }
   ],
   "source": [
    "y_true_tmp"
   ]
  },
  {
   "cell_type": "code",
   "execution_count": 71,
   "id": "0afc33a1-e333-4fb5-b405-e4b05bf42d9d",
   "metadata": {},
   "outputs": [
    {
     "data": {
      "text/plain": [
       "[1, 1, 1, 0, 0, 1, 0, 1]"
      ]
     },
     "execution_count": 71,
     "metadata": {},
     "output_type": "execute_result"
    }
   ],
   "source": [
    "y_pred_tmp"
   ]
  },
  {
   "cell_type": "code",
   "execution_count": 72,
   "id": "f45ec329-713f-47d5-a5bf-61bde9f74f90",
   "metadata": {},
   "outputs": [
    {
     "data": {
      "text/plain": [
       "array([False, False,  True, False,  True,  True, False, False])"
      ]
     },
     "execution_count": 72,
     "metadata": {},
     "output_type": "execute_result"
    }
   ],
   "source": [
    "# numpy配列化して1との否定をとることで、陰性と陽性を逆にする\n",
    "np.array(y_true_tmp)!=1"
   ]
  },
  {
   "cell_type": "code",
   "execution_count": 73,
   "id": "29a9f240-100f-4cbe-9274-cac3c9e0ad3d",
   "metadata": {},
   "outputs": [
    {
     "data": {
      "text/plain": [
       "0.3333333333333333"
      ]
     },
     "execution_count": 73,
     "metadata": {},
     "output_type": "execute_result"
    }
   ],
   "source": [
    "# 評価指標の各メソッドはbooleanの配列を入れることもできる。（Python的には0,1はbooleanと互換性があるため）\n",
    "recall_score(np.array(y_true_tmp)!=1, np.array(y_pred_tmp)!=1)"
   ]
  },
  {
   "cell_type": "markdown",
   "id": "e38608d0-c318-42cb-9d2d-0dddaa8fbe5a",
   "metadata": {},
   "source": [
    "## ○ 多クラス評価におけるPrecision\n",
    "* sklearn.metrics.precision_score\n",
    "    * precision_score(y_true, y_pred, average)\n",
    "    * average引数に’macro’, ‘micro’を渡す\n",
    "    * Noneを渡すとクラス別に指標を計算しlistで返す\n",
    "    * 他の指標(recall_score, accuracy_score, etc.)も同様"
   ]
  },
  {
   "cell_type": "code",
   "execution_count": 74,
   "id": "6e735bf7-3106-44fe-941b-e250e39f7656",
   "metadata": {},
   "outputs": [
    {
     "name": "stdout",
     "output_type": "stream",
     "text": [
      "average=Noneのとき：\n",
      "['setosa' 'versicolor' 'virginica']\n",
      "[1.         0.94444444 0.90909091]\n",
      "average=macroのとき：0.9511784511784511\n",
      "average=microのとき：0.9555555555555556\n"
     ]
    }
   ],
   "source": [
    "# クラスごとのPrecisionを算出\n",
    "print(f'average=Noneのとき：\\n{model.classes_}\\n{precision_score(y_test, y_pred, average=None)}')\n",
    "\n",
    "# macro平均を算出\n",
    "print(f'average=macroのとき：{precision_score(y_test, y_pred, average=\"macro\")}')\n",
    "\n",
    "# micro平均を算出\n",
    "print(f'average=microのとき：{precision_score(y_test, y_pred, average=\"micro\")}')\n"
   ]
  },
  {
   "cell_type": "code",
   "execution_count": 75,
   "id": "dc8b1a33-cf96-4a05-9c92-cd6513a591c6",
   "metadata": {},
   "outputs": [
    {
     "data": {
      "text/plain": [
       "0.9555555555555556"
      ]
     },
     "execution_count": 75,
     "metadata": {},
     "output_type": "execute_result"
    }
   ],
   "source": [
    "accuracy_score(y_test, y_pred)"
   ]
  },
  {
   "cell_type": "markdown",
   "id": "40f8f21e-a0ee-419d-8185-e90971a6cd42",
   "metadata": {},
   "source": [
    "確かにPrecisionのmicro平均とAccuracyは同じになっている。"
   ]
  },
  {
   "cell_type": "markdown",
   "id": "4aa38401-996b-44c4-8ebc-64d08100b28a",
   "metadata": {},
   "source": [
    "## ○ Precision-Recall Curveを描画する\n",
    "* sklearn.metrics.precision_recall_curveにより描画に必要な値が取得できる。\n",
    "    * precision_recall_curve(y_true, probas_pred)\n",
    "    * y_trueと各データの確率値をリストにしたprobas_predを引数に渡す\n",
    "    * probas_predは陽性の確率のみなので注意\n",
    "    * precision, recall, thresholdsの３つの一次元NumpyArrayを返す\n",
    "    * precisionとrecallの最後の要素はそれぞれ1と0であることに注意\n",
    "        * それに対応するthresholdsの値は戻り値には含まれない"
   ]
  },
  {
   "cell_type": "code",
   "execution_count": 79,
   "id": "97580bf3-2b21-4b89-ac96-29786cc29141",
   "metadata": {},
   "outputs": [],
   "source": [
    "# 心臓病に関する患者データを読み込み\n",
    "df = pd.read_csv('../Python/sample_data/ML_sample/heart_preprocessed.csv')"
   ]
  },
  {
   "cell_type": "code",
   "execution_count": 80,
   "id": "eeeecf49-97ff-41d2-94e3-42b02eabf800",
   "metadata": {},
   "outputs": [
    {
     "data": {
      "text/html": [
       "<div>\n",
       "<style scoped>\n",
       "    .dataframe tbody tr th:only-of-type {\n",
       "        vertical-align: middle;\n",
       "    }\n",
       "\n",
       "    .dataframe tbody tr th {\n",
       "        vertical-align: top;\n",
       "    }\n",
       "\n",
       "    .dataframe thead th {\n",
       "        text-align: right;\n",
       "    }\n",
       "</style>\n",
       "<table border=\"1\" class=\"dataframe\">\n",
       "  <thead>\n",
       "    <tr style=\"text-align: right;\">\n",
       "      <th></th>\n",
       "      <th>age</th>\n",
       "      <th>resting_blood_pressure</th>\n",
       "      <th>cholesterol</th>\n",
       "      <th>max_heart_rate_achieved</th>\n",
       "      <th>st_depression</th>\n",
       "      <th>num_major_vessels</th>\n",
       "      <th>target</th>\n",
       "      <th>sex_male</th>\n",
       "      <th>chest_pain_type_atypical angina</th>\n",
       "      <th>chest_pain_type_non-anginal pain</th>\n",
       "      <th>chest_pain_type_typical angina</th>\n",
       "      <th>fasting_blood_sugar_lower than 120mg/ml</th>\n",
       "      <th>rest_electrocardiographic_left ventricular hypertrophy</th>\n",
       "      <th>rest_electrocardiographic_normal</th>\n",
       "      <th>exercise_induced_angina_yes</th>\n",
       "      <th>st_slope_flat</th>\n",
       "      <th>st_slope_upsloping</th>\n",
       "      <th>thalassemia_normal</th>\n",
       "      <th>thalassemia_reversable defect</th>\n",
       "    </tr>\n",
       "  </thead>\n",
       "  <tbody>\n",
       "    <tr>\n",
       "      <th>0</th>\n",
       "      <td>52</td>\n",
       "      <td>125</td>\n",
       "      <td>212</td>\n",
       "      <td>168</td>\n",
       "      <td>1.0</td>\n",
       "      <td>2</td>\n",
       "      <td>0</td>\n",
       "      <td>1</td>\n",
       "      <td>0</td>\n",
       "      <td>0</td>\n",
       "      <td>1</td>\n",
       "      <td>1</td>\n",
       "      <td>0</td>\n",
       "      <td>0</td>\n",
       "      <td>0</td>\n",
       "      <td>0</td>\n",
       "      <td>0</td>\n",
       "      <td>0</td>\n",
       "      <td>1</td>\n",
       "    </tr>\n",
       "    <tr>\n",
       "      <th>1</th>\n",
       "      <td>53</td>\n",
       "      <td>140</td>\n",
       "      <td>203</td>\n",
       "      <td>155</td>\n",
       "      <td>3.1</td>\n",
       "      <td>0</td>\n",
       "      <td>0</td>\n",
       "      <td>1</td>\n",
       "      <td>0</td>\n",
       "      <td>0</td>\n",
       "      <td>1</td>\n",
       "      <td>0</td>\n",
       "      <td>0</td>\n",
       "      <td>1</td>\n",
       "      <td>1</td>\n",
       "      <td>0</td>\n",
       "      <td>1</td>\n",
       "      <td>0</td>\n",
       "      <td>1</td>\n",
       "    </tr>\n",
       "    <tr>\n",
       "      <th>2</th>\n",
       "      <td>70</td>\n",
       "      <td>145</td>\n",
       "      <td>174</td>\n",
       "      <td>125</td>\n",
       "      <td>2.6</td>\n",
       "      <td>0</td>\n",
       "      <td>0</td>\n",
       "      <td>1</td>\n",
       "      <td>0</td>\n",
       "      <td>0</td>\n",
       "      <td>1</td>\n",
       "      <td>1</td>\n",
       "      <td>0</td>\n",
       "      <td>0</td>\n",
       "      <td>1</td>\n",
       "      <td>0</td>\n",
       "      <td>1</td>\n",
       "      <td>0</td>\n",
       "      <td>1</td>\n",
       "    </tr>\n",
       "    <tr>\n",
       "      <th>3</th>\n",
       "      <td>61</td>\n",
       "      <td>148</td>\n",
       "      <td>203</td>\n",
       "      <td>161</td>\n",
       "      <td>0.0</td>\n",
       "      <td>1</td>\n",
       "      <td>0</td>\n",
       "      <td>1</td>\n",
       "      <td>0</td>\n",
       "      <td>0</td>\n",
       "      <td>1</td>\n",
       "      <td>1</td>\n",
       "      <td>0</td>\n",
       "      <td>0</td>\n",
       "      <td>0</td>\n",
       "      <td>0</td>\n",
       "      <td>0</td>\n",
       "      <td>0</td>\n",
       "      <td>1</td>\n",
       "    </tr>\n",
       "    <tr>\n",
       "      <th>4</th>\n",
       "      <td>62</td>\n",
       "      <td>138</td>\n",
       "      <td>294</td>\n",
       "      <td>106</td>\n",
       "      <td>1.9</td>\n",
       "      <td>3</td>\n",
       "      <td>0</td>\n",
       "      <td>0</td>\n",
       "      <td>0</td>\n",
       "      <td>0</td>\n",
       "      <td>1</td>\n",
       "      <td>0</td>\n",
       "      <td>0</td>\n",
       "      <td>0</td>\n",
       "      <td>0</td>\n",
       "      <td>1</td>\n",
       "      <td>0</td>\n",
       "      <td>1</td>\n",
       "      <td>0</td>\n",
       "    </tr>\n",
       "  </tbody>\n",
       "</table>\n",
       "</div>"
      ],
      "text/plain": [
       "   age  resting_blood_pressure  cholesterol  max_heart_rate_achieved  \\\n",
       "0   52                     125          212                      168   \n",
       "1   53                     140          203                      155   \n",
       "2   70                     145          174                      125   \n",
       "3   61                     148          203                      161   \n",
       "4   62                     138          294                      106   \n",
       "\n",
       "   st_depression  num_major_vessels  target  sex_male  \\\n",
       "0            1.0                  2       0         1   \n",
       "1            3.1                  0       0         1   \n",
       "2            2.6                  0       0         1   \n",
       "3            0.0                  1       0         1   \n",
       "4            1.9                  3       0         0   \n",
       "\n",
       "   chest_pain_type_atypical angina  chest_pain_type_non-anginal pain  \\\n",
       "0                                0                                 0   \n",
       "1                                0                                 0   \n",
       "2                                0                                 0   \n",
       "3                                0                                 0   \n",
       "4                                0                                 0   \n",
       "\n",
       "   chest_pain_type_typical angina  fasting_blood_sugar_lower than 120mg/ml  \\\n",
       "0                               1                                        1   \n",
       "1                               1                                        0   \n",
       "2                               1                                        1   \n",
       "3                               1                                        1   \n",
       "4                               1                                        0   \n",
       "\n",
       "   rest_electrocardiographic_left ventricular hypertrophy  \\\n",
       "0                                                  0        \n",
       "1                                                  0        \n",
       "2                                                  0        \n",
       "3                                                  0        \n",
       "4                                                  0        \n",
       "\n",
       "   rest_electrocardiographic_normal  exercise_induced_angina_yes  \\\n",
       "0                                 0                            0   \n",
       "1                                 1                            1   \n",
       "2                                 0                            1   \n",
       "3                                 0                            0   \n",
       "4                                 0                            0   \n",
       "\n",
       "   st_slope_flat  st_slope_upsloping  thalassemia_normal  \\\n",
       "0              0                   0                   0   \n",
       "1              0                   1                   0   \n",
       "2              0                   1                   0   \n",
       "3              0                   0                   0   \n",
       "4              1                   0                   1   \n",
       "\n",
       "   thalassemia_reversable defect  \n",
       "0                              1  \n",
       "1                              1  \n",
       "2                              1  \n",
       "3                              1  \n",
       "4                              0  "
      ]
     },
     "execution_count": 80,
     "metadata": {},
     "output_type": "execute_result"
    }
   ],
   "source": [
    "df.head()"
   ]
  },
  {
   "cell_type": "markdown",
   "id": "2f1e1475-6ba9-4a2e-b629-977886746766",
   "metadata": {},
   "source": [
    "心臓病に関する患者データ（Kaggleから取得したデータ）。targetは患者が心臓病を患っているかどうかを表す。  \n",
    "このtargetを目的変数としてモデルを作り、Precision-Recall Curveを作成する。"
   ]
  },
  {
   "cell_type": "code",
   "execution_count": 84,
   "id": "d8cfd969-190d-4d91-8d44-f4e4397b6684",
   "metadata": {},
   "outputs": [],
   "source": [
    "# 目的変数と特徴量定義\n",
    "y_col = 'target'\n",
    "X = df.drop(columns=[y_col])\n",
    "y = df[y_col]\n",
    "\n",
    "# hold-out\n",
    "X_train, X_test, y_train, y_test = train_test_split(X, y, test_size=0.3, random_state=0)\n",
    "\n",
    "# モデル構築。標準化は割愛。ダミー変数は既にデータに含まれている。\n",
    "model = LogisticRegression(solver='liblinear')\n",
    "model.fit(X_train, y_train)\n",
    "y_pred_proba = model.predict_proba(X_test)"
   ]
  },
  {
   "cell_type": "code",
   "execution_count": 90,
   "id": "45b4cd7e-c759-4fa5-9a52-5ca174fe171c",
   "metadata": {},
   "outputs": [
    {
     "name": "stdout",
     "output_type": "stream",
     "text": [
      "[0 1]\n",
      "[[0.49520576 0.50479424]\n",
      " [0.28366806 0.71633194]\n",
      " [0.99732492 0.00267508]\n",
      " [0.06897636 0.93102364]\n",
      " [0.47851485 0.52148515]\n",
      " [0.99002332 0.00997668]\n",
      " [0.66307889 0.33692111]\n",
      " [0.79275385 0.20724615]\n",
      " [0.3021326  0.6978674 ]\n",
      " [0.3021326  0.6978674 ]]\n"
     ]
    }
   ],
   "source": [
    "# targetの0,1の確率を表示。1は陽性\n",
    "print(model.classes_)\n",
    "print(y_pred_proba[:10])"
   ]
  },
  {
   "cell_type": "code",
   "execution_count": 91,
   "id": "f560e0c7-e778-41f0-a947-53d8a6d348d9",
   "metadata": {},
   "outputs": [
    {
     "data": {
      "text/plain": [
       "993    0\n",
       "859    0\n",
       "298    0\n",
       "553    1\n",
       "672    1\n",
       "      ..\n",
       "167    0\n",
       "998    1\n",
       "984    0\n",
       "491    0\n",
       "10     1\n",
       "Name: target, Length: 300, dtype: int64"
      ]
     },
     "execution_count": 91,
     "metadata": {},
     "output_type": "execute_result"
    }
   ],
   "source": [
    "y_test"
   ]
  },
  {
   "cell_type": "code",
   "execution_count": 94,
   "id": "97b57863-1837-488b-a802-80f08059912e",
   "metadata": {},
   "outputs": [
    {
     "data": {
      "text/plain": [
       "array([1, 1, 0, 1, 1])"
      ]
     },
     "execution_count": 94,
     "metadata": {},
     "output_type": "execute_result"
    }
   ],
   "source": [
    "# .predictで返す値は閾値50%のもの\n",
    "model.predict(X_test)[:5]"
   ]
  },
  {
   "cell_type": "code",
   "execution_count": 101,
   "id": "e2389c12-56bb-44e9-81eb-cb442b5fc0c7",
   "metadata": {},
   "outputs": [],
   "source": [
    "# precision_recall_curveの第２引数にはy_pred_probaのpositiveの確率のみ入れるので、スライシングする。\n",
    "precision, recall, thresholds = precision_recall_curve(y_test, y_pred_proba[:, 1])"
   ]
  },
  {
   "cell_type": "code",
   "execution_count": 113,
   "id": "60f6f1e6-94e5-4a41-9813-0ff7fb748efe",
   "metadata": {},
   "outputs": [
    {
     "data": {
      "text/plain": [
       "array([0.48666667, 0.48993289, 0.49324324, 0.49491525, 0.49829352,\n",
       "       0.5       , 0.50171821, 0.50344828, 0.50519031, 0.5087108 ])"
      ]
     },
     "execution_count": 113,
     "metadata": {},
     "output_type": "execute_result"
    }
   ],
   "source": [
    "precision[:10]"
   ]
  },
  {
   "cell_type": "code",
   "execution_count": 114,
   "id": "5e3ba06d-facb-4811-a1e2-c76bd82aa2d4",
   "metadata": {},
   "outputs": [
    {
     "data": {
      "text/plain": [
       "array([1., 1., 1., 1., 1., 1., 1., 1., 1., 1.])"
      ]
     },
     "execution_count": 114,
     "metadata": {},
     "output_type": "execute_result"
    }
   ],
   "source": [
    "recall[:10]"
   ]
  },
  {
   "cell_type": "code",
   "execution_count": 115,
   "id": "baa5504e-6066-4f13-af04-01eaf605ce39",
   "metadata": {},
   "outputs": [
    {
     "data": {
      "text/plain": [
       "array([0.00035687, 0.00129168, 0.00157549, 0.00174841, 0.00201324,\n",
       "       0.00212929, 0.00260159, 0.00267508, 0.00312424, 0.00333926])"
      ]
     },
     "execution_count": 115,
     "metadata": {},
     "output_type": "execute_result"
    }
   ],
   "source": [
    "thresholds[:10]"
   ]
  },
  {
   "cell_type": "code",
   "execution_count": 116,
   "id": "425caa09-9b0a-493c-ac81-9a213aaeb636",
   "metadata": {},
   "outputs": [
    {
     "data": {
      "text/plain": [
       "array([[0.49520576, 0.50479424],\n",
       "       [0.28366806, 0.71633194],\n",
       "       [0.99732492, 0.00267508],\n",
       "       [0.06897636, 0.93102364],\n",
       "       [0.47851485, 0.52148515],\n",
       "       [0.99002332, 0.00997668],\n",
       "       [0.66307889, 0.33692111],\n",
       "       [0.79275385, 0.20724615],\n",
       "       [0.3021326 , 0.6978674 ],\n",
       "       [0.3021326 , 0.6978674 ]])"
      ]
     },
     "execution_count": 116,
     "metadata": {},
     "output_type": "execute_result"
    }
   ],
   "source": [
    "y_pred_proba[:10]"
   ]
  },
  {
   "cell_type": "markdown",
   "id": "41f0051c-3077-44f8-977b-f94b288619f3",
   "metadata": {},
   "source": [
    "precision_recall_curveの結果はthresholdsを徐々に大きくしていった時のprecision,recallの値を返している。  \n",
    "例えばindex=0であれば、thresholds=0.00035～と非常に小さい値なので、何でもかんでも陽性と判定するような閾値となっている。  \n",
    "この場合、recallは最大限まで大きくなるため、1が返ってきている。その後、thresholdsが徐々に大きくなると、トレードオフの関係から  \n",
    "recallが小さくなり、precisionが大きくなっていく。"
   ]
  },
  {
   "cell_type": "code",
   "execution_count": 121,
   "id": "cf61dc33-1972-44d4-bada-e6f5962cdcd3",
   "metadata": {},
   "outputs": [
    {
     "data": {
      "text/plain": [
       "Text(0.5, 1.0, 'Precision-Recall Curve')"
      ]
     },
     "execution_count": 121,
     "metadata": {},
     "output_type": "execute_result"
    },
    {
     "data": {
      "image/png": "[encoded data removed]",
      "text/plain": [
       "<Figure size 720x360 with 1 Axes>"
      ]
     },
     "metadata": {
      "needs_background": "light"
     },
     "output_type": "display_data"
    }
   ],
   "source": [
    "# precision-recall curveを描画\n",
    "fig,ax = plt.subplots(figsize=(10,5))\n",
    "ax.plot(recall, precision)\n",
    "ax.set_xlabel('Recall')\n",
    "ax.set_ylabel('Precision')\n",
    "ax.set_title('Precision-Recall Curve')"
   ]
  },
  {
   "cell_type": "code",
   "execution_count": 123,
   "id": "745445b6-84d3-4a62-8536-caadcdd93c1f",
   "metadata": {},
   "outputs": [
    {
     "data": {
      "text/plain": [
       "0.0"
      ]
     },
     "execution_count": 123,
     "metadata": {},
     "output_type": "execute_result"
    }
   ],
   "source": [
    "recall[-1]"
   ]
  },
  {
   "cell_type": "code",
   "execution_count": 124,
   "id": "5f1b0650-3951-448b-9c0d-22366980969a",
   "metadata": {},
   "outputs": [
    {
     "data": {
      "text/plain": [
       "1.0"
      ]
     },
     "execution_count": 124,
     "metadata": {},
     "output_type": "execute_result"
    }
   ],
   "source": [
    "precision[-1]"
   ]
  },
  {
   "cell_type": "code",
   "execution_count": 126,
   "id": "2fac461d-1ecc-4ffa-b527-88bd808345a6",
   "metadata": {},
   "outputs": [
    {
     "name": "stdout",
     "output_type": "stream",
     "text": [
      "210\n",
      "210\n",
      "209\n"
     ]
    }
   ],
   "source": [
    "print(len(recall))\n",
    "print(len(precision))\n",
    "print(len(thresholds))"
   ]
  },
  {
   "cell_type": "markdown",
   "id": "48e0f576-c2ba-4ef0-ad24-8ebffd8fed39",
   "metadata": {},
   "source": [
    "recall,precisionの最後の値はそれぞれ0,1になっており、これらに対応するthresholdsは存在しないことに注意。"
   ]
  },
  {
   "cell_type": "markdown",
   "id": "0dd49ffc-4845-42c8-a9cb-cf5910dadb17",
   "metadata": {},
   "source": [
    "### ★Tips: JupyterLabからpip installをする場合は下記のようにセルに書いて実行\n",
    "pip install --upgrade scikit-learn 　→scikit-learnをアップグレードする例 "
   ]
  },
  {
   "cell_type": "code",
   "execution_count": null,
   "id": "f1a9d1c0-0f39-4b7b-8a36-eb1d21dd3982",
   "metadata": {},
   "outputs": [],
   "source": []
  }
 ],
 "metadata": {
  "kernelspec": {
   "display_name": "Python 3 (ipykernel)",
   "language": "python",
   "name": "python3"
  },
  "language_info": {
   "codemirror_mode": {
    "name": "ipython",
    "version": 3
   },
   "file_extension": ".py",
   "mimetype": "text/x-python",
   "name": "python",
   "nbconvert_exporter": "python",
   "pygments_lexer": "ipython3",
   "version": "3.9.12"
  }
 },
 "nbformat": 4,
 "nbformat_minor": 5
}
