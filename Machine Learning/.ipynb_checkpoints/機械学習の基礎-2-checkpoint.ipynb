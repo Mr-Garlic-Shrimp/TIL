{
 "cells": [
  {
   "cell_type": "markdown",
   "id": "492a2e1d-b676-48e2-b484-d977f1ed7152",
   "metadata": {},
   "source": [
    "# <b>機械学習の基礎-2</b>"
   ]
  },
  {
   "cell_type": "markdown",
   "id": "7caa2bcf-0a8f-4a80-9feb-c778da1673e0",
   "metadata": {},
   "source": [
    "ここからは主に機械学習の主要タスクである分類/識別(classification)、クラスタリング(clustering)について記す。  \n",
    "これらは回帰よりも使われることが多い。  "
   ]
  },
  {
   "cell_type": "markdown",
   "id": "c26e43db-5224-485f-ab6d-9b37a0b6cbe0",
   "metadata": {},
   "source": [
    "## ○ 分類/識別(Classification)\n",
    "カテゴリーやクラス、ラベルと呼ばれる”種類”を判別する。  \n",
    "例えばある物件の駐車場の有無を家賃と広さから予測するなど。  \n",
    "応用例として、医用画像診断、迷惑メールフィルタ、顔認証、音声認識などがある。  \n",
    "\n",
    "回帰と違い、目的変数が質的変数になる (回帰では目的変数が量的変数)。  \n",
    "分類タスクでは、決定境界（例：駐車場の有無でデータ群を2分する境界）を作ってデータを分類することを目的とする。  \n",
    "決定境界を引く機械学習モデルを分類器(classifier、読み方：クラシファイアー)という。  \n",
    "\n",
    "詳細：https://datawokagaku.com/logistic_reg/"
   ]
  },
  {
   "cell_type": "markdown",
   "id": "d2e8ad9d-9e27-4988-906f-a6e902505506",
   "metadata": {},
   "source": [
    "## ○ ロジスティック回帰\n",
    "分類アルゴリズムの最も基本的なアルゴリズム。  \n",
    "「回帰」と付いているが、分類のアルゴリズムであることに注意。  \n",
    "（由来はロジスティック回帰の中で回帰モデルを使用するからである）  \n",
    "\n",
    "ロジスティック回帰にはシグモイド関数（別名：ロジスティック関数）を使う。  \n",
    "$$z = \\frac {1}{1+e^{-x}}$$\n",
    "\n",
    "シグモイド関数は負の無限大で0に近づき、正の無限大で1に近づいていく性質がある。  \n",
    "このため、どのような$x$に対しても0~1の値をとるため、関数値は確率とみなすことができる。  "
   ]
  },
  {
   "cell_type": "code",
   "execution_count": null,
   "id": "11c55353-b6e6-43c5-84c3-2541eb424cb9",
   "metadata": {},
   "outputs": [],
   "source": []
  }
 ],
 "metadata": {
  "kernelspec": {
   "display_name": "Python 3 (ipykernel)",
   "language": "python",
   "name": "python3"
  },
  "language_info": {
   "codemirror_mode": {
    "name": "ipython",
    "version": 3
   },
   "file_extension": ".py",
   "mimetype": "text/x-python",
   "name": "python",
   "nbconvert_exporter": "python",
   "pygments_lexer": "ipython3",
   "version": "3.9.12"
  }
 },
 "nbformat": 4,
 "nbformat_minor": 5
}
