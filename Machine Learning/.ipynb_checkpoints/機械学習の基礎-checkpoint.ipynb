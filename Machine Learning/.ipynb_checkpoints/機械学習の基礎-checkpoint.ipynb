{
 "cells": [
  {
   "cell_type": "markdown",
   "id": "0e607e6f-c3fc-4af4-a75e-f84822115fd5",
   "metadata": {},
   "source": [
    "# <b>機械学習の基礎</b>\n",
    "経験からの学習により自動で改善するコンピューターアルゴリズムもしくはその研究領域で、人工知能の一分野であり、データサイエンスの中核技術。  \n",
    "「訓練データ」もしくは「学習データ」と呼ばれるデータを使って学習し、学習結果を使って何らかのタスクをこなす。  \n",
    "\n",
    "機械学習のタスクは下記の3つに大別される。  \n",
    "* 回帰(regression): 連続値を予測する\n",
    "    応用例：　株価予想、ダイヤの価格予想　→過去データからどれくらいの価格で取引されるか予測する\n",
    "    <br></br>\n",
    "* 分類/識別(classifica/on): カテゴリーやクラス，ラベルと呼ばれる”種類”を判別する.  \n",
    "    応用例：　医用画像診断、迷惑メールフィルタ、顔認証、音声認識\n",
    "    <br></br>\n",
    "* クラスタリング(clustering): データをカテゴリーやクラス，ラベルと呼ばれる”種類”に分別(グループ化)していく．  \n",
    "    応用例：　DNA組成にもとづく生物の分類\n",
    "    <br></br>\n",
    "参考：https://ja.wikipedia.org/wiki/%E6%A9%9F%E6%A2%B0%E5%AD%A6%E7%BF%92"
   ]
  },
  {
   "cell_type": "markdown",
   "id": "9d93a166-4578-4a5d-9648-cd9f4a78c758",
   "metadata": {},
   "source": [
    "## <b>○ 線形回帰</b>"
   ]
  },
  {
   "cell_type": "markdown",
   "id": "3fe6784e-a2ab-4a9b-a37d-91e980b31269",
   "metadata": {},
   "source": [
    "既存データから欲しい値（目的変数）を予測するのが機械学習における回帰である。  \n",
    "例えば、 ある駅から半径5km以内でランダムに物件情報（家賃、広さ）を10件取得したとする。  \n",
    "（10件のデータはランダムサンプルであり、背後には無数のデータ(母集団)があることに注意）  \n",
    "このとき、既存データからサンプルにないデータ（例えば広さ70$m^2$）における家賃を予測するのに回帰を使う。  \n",
    "\n",
    "一般に、予測したい値とそれを決定づける変数の間の関係は下記で書ける。  \n",
    "$$Y = f(X) + \\epsilon$$  \n",
    "$Y$：　真の目的変数(ex.家賃)の値  \n",
    "$X$：　特徴量(ex.広さ)。もちろん、上記の例では広さ以外にも築年数など複数の特徴量が考えられる。  \n",
    "$f$：　真の関数。一般に形はわからない。  \n",
    "$\\epsilon$：　誤差項。正規分布をとる（後述）。  \n",
    "\n",
    "一般に真の関数$f$の形はわからないので、機械学習では$f$を推測して、$Y$の予測値$\\hat{Y}$を求める。  \n",
    "$$\\hat{Y} = \\hat{f}(X)$$  \n",
    "$\\hat{Y}$：　予測値  \n",
    "$\\hat{f}$：　真の関数の推測値"
   ]
  },
  {
   "cell_type": "code",
   "execution_count": null,
   "id": "6d25c1f4-6848-4f85-b2cf-fc5f2e14010f",
   "metadata": {},
   "outputs": [],
   "source": []
  }
 ],
 "metadata": {
  "kernelspec": {
   "display_name": "Python 3",
   "language": "python",
   "name": "python3"
  },
  "language_info": {
   "codemirror_mode": {
    "name": "ipython",
    "version": 3
   },
   "file_extension": ".py",
   "mimetype": "text/x-python",
   "name": "python",
   "nbconvert_exporter": "python",
   "pygments_lexer": "ipython3",
   "version": "3.8.8"
  }
 },
 "nbformat": 4,
 "nbformat_minor": 5
}
