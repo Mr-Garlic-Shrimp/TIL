{
 "cells": [
  {
   "cell_type": "markdown",
   "id": "cd1b4407-9da0-4c89-807a-bfa0bb736174",
   "metadata": {},
   "source": [
    "# Sympyを使ってみる\n",
    "人間が紙とペンで計算するように解析的な数式表現ができる  \n",
    "参考：https://python.atelierkobato.com/integrate/"
   ]
  },
  {
   "cell_type": "code",
   "execution_count": 1,
   "id": "cb87136c-9995-4fe2-949b-44b2ed2cd925",
   "metadata": {},
   "outputs": [],
   "source": [
    "import sympy as sym"
   ]
  },
  {
   "cell_type": "code",
   "execution_count": 12,
   "id": "1c7260b5-f7a9-423a-945a-fadf14d12fbf",
   "metadata": {},
   "outputs": [],
   "source": [
    "# 実行結果をTeXで表示する\n",
    "sym.init_printing()\n",
    "\n",
    "# 数式で使用する文字を定義\n",
    "# ここでもTeXっぽく文字を定義しておくとTeXとして表示される\n",
    "sym.var('x y', real=True)\n",
    "\n",
    "# fとgを関数として定義\n",
    "f = sym.Function('f')\n",
    "g = sym.Function('g')"
   ]
  },
  {
   "cell_type": "code",
   "execution_count": 13,
   "id": "3766ab69-2bf3-4022-a72a-11f72472503d",
   "metadata": {},
   "outputs": [
    {
     "data": {
      "image/png": "[encoded data removed]",
      "text/latex": [
       "$\\displaystyle \\frac{d}{d g{\\left(x \\right)}} f{\\left(g{\\left(x \\right)} \\right)} \\frac{d}{d x} g{\\left(x \\right)}$"
      ],
      "text/plain": [
       "  d            d       \n",
       "─────(f(g(x)))⋅──(g(x))\n",
       "dg(x)          dx      "
      ]
     },
     "execution_count": 13,
     "metadata": {},
     "output_type": "execute_result"
    }
   ],
   "source": [
    "# 合成関数の微分\n",
    "(f(g(x))).diff(x)"
   ]
  },
  {
   "cell_type": "code",
   "execution_count": 23,
   "id": "37ea5569-79d9-4980-bf13-548b5ea3523c",
   "metadata": {},
   "outputs": [],
   "source": [
    "# 損失関数を表現してみる\n",
    "sym.init_printing()\n",
    "\n",
    "# 数式で使用する文字を定義\n",
    "# ここでもTeXっぽく文字を定義しておくとTeXとして表示される\n",
    "sym.var('x_i y_i theta_0 theta_1 m sum i m', real=True)\n",
    "\n",
    "# Lを関数として定義\n",
    "L =  1/m* sym.Sum((y_i-(theta_0+theta_1*x_i))**2, (i, 1, m))"
   ]
  },
  {
   "cell_type": "code",
   "execution_count": 24,
   "id": "04210cb0-85e9-481d-87d0-2be56b154eef",
   "metadata": {},
   "outputs": [
    {
     "data": {
      "image/png": "[encoded data removed]",
      "text/latex": [
       "$\\displaystyle \\frac{\\sum_{i=1}^{m} \\left(2 \\theta_{0} + 2 \\theta_{1} x_{i} - 2 y_{i}\\right)}{m}$"
      ],
      "text/plain": [
       "  m                          \n",
       " ___                         \n",
       " ╲                           \n",
       "  ╲                          \n",
       "  ╱   (2⋅θ₀ + 2⋅θ₁⋅xᵢ - 2⋅yᵢ)\n",
       " ╱                           \n",
       " ‾‾‾                         \n",
       "i = 1                        \n",
       "─────────────────────────────\n",
       "              m              "
      ]
     },
     "execution_count": 24,
     "metadata": {},
     "output_type": "execute_result"
    }
   ],
   "source": [
    "L.diff(theta_0)"
   ]
  },
  {
   "cell_type": "markdown",
   "id": "52dc5674-1b6b-4bc8-b2b1-06292e704970",
   "metadata": {},
   "source": [
    "確かに計算できている。"
   ]
  },
  {
   "cell_type": "code",
   "execution_count": null,
   "id": "f596fb80-37b6-47a1-a74b-eb7102ec0e31",
   "metadata": {},
   "outputs": [],
   "source": []
  }
 ],
 "metadata": {
  "kernelspec": {
   "display_name": "Python 3 (ipykernel)",
   "language": "python",
   "name": "python3"
  },
  "language_info": {
   "codemirror_mode": {
    "name": "ipython",
    "version": 3
   },
   "file_extension": ".py",
   "mimetype": "text/x-python",
   "name": "python",
   "nbconvert_exporter": "python",
   "pygments_lexer": "ipython3",
   "version": "3.9.12"
  }
 },
 "nbformat": 4,
 "nbformat_minor": 5
}
