{
 "cells": [
  {
   "cell_type": "markdown",
   "id": "7240b8a3-dd38-489c-abbc-7cfeac3b0d1e",
   "metadata": {},
   "source": [
    "# <b>機械学習の基礎-3</b>\n",
    "アンサンブルや特徴量エンジニアリングについてメモしておく。"
   ]
  },
  {
   "cell_type": "markdown",
   "id": "6fe7a9ac-e946-4fb2-9667-14dec904f213",
   "metadata": {
    "tags": []
   },
   "source": [
    "## ○ アンサンブル"
   ]
  },
  {
   "cell_type": "markdown",
   "id": "c048ec3a-6057-4e68-89a2-02eb365051d8",
   "metadata": {},
   "source": [
    "## ○ XGBoost"
   ]
  },
  {
   "cell_type": "code",
   "execution_count": null,
   "id": "c4db1d5e-eafb-467f-b2cd-c5951719c542",
   "metadata": {},
   "outputs": [],
   "source": []
  }
 ],
 "metadata": {
  "kernelspec": {
   "display_name": "Python 3 (ipykernel)",
   "language": "python",
   "name": "python3"
  },
  "language_info": {
   "codemirror_mode": {
    "name": "ipython",
    "version": 3
   },
   "file_extension": ".py",
   "mimetype": "text/x-python",
   "name": "python",
   "nbconvert_exporter": "python",
   "pygments_lexer": "ipython3",
   "version": "3.9.12"
  }
 },
 "nbformat": 4,
 "nbformat_minor": 5
}
