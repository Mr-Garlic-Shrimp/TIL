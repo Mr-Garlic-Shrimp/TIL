{
 "cells": [
  {
   "cell_type": "markdown",
   "id": "7240b8a3-dd38-489c-abbc-7cfeac3b0d1e",
   "metadata": {},
   "source": [
    "# <b>機械学習の基礎-3</b>\n",
    "アンサンブルや特徴量エンジニアリングについてメモしておく。  \n",
    "\n",
    "参考：  \n",
    "https://datawokagaku.com/ensemble/\n",
    "\n",
    "\n"
   ]
  },
  {
   "cell_type": "markdown",
   "id": "6fe7a9ac-e946-4fb2-9667-14dec904f213",
   "metadata": {
    "tags": []
   },
   "source": [
    "## アンサンブル\n",
    "複数の機械学習モデルを組み合わせて予測する手法。  \n",
    "一般的に単一のモデルよりも精度が高く、実務での予測はアンサンブルが主流。  \n",
    "アンサンブルは主にバギング、ブースティング、スタッキングの3種類がある。\n",
    "\n",
    "組み合わせるモデルはそれぞれの相関が低い（似ていない）モデルが望ましく、できるだけ多種多様なモデルを用いる。  \n",
    "※弱学習器を使うのが良いようだが、KaggleではGBDTとニューラルネットの組み合わせを行っている例もあるので、  \n",
    "　必ずというわけではなさそう。"
   ]
  },
  {
   "cell_type": "markdown",
   "id": "de6d8a73-852a-421c-8791-d3c757a43946",
   "metadata": {},
   "source": [
    "### バギング(bagging: bootstrap aggregating)\n",
    "下記の流れで予測するのがバギング。\n",
    "1. 学習データを母集団として、重複を許してランダムに標本抽出する。\n",
    "2. モデルに学習させる。\n",
    "3. 学習させたいモデルの数だけ1.～2.を繰り返す。\n",
    "4. 全学習済みモデルの予測結果の多数決や確率の平均をとり、それをバギングによる予測結果とする。  \n",
    "\n",
    "学習データの一部しか使わずに学習させるため、high bias low variance気味になるので、  \n",
    "モデルには高varianceになりやすい決定木を用いることが多い。"
   ]
  },
  {
   "cell_type": "markdown",
   "id": "cbfd29af-68ef-495c-8f08-336ae07af285",
   "metadata": {},
   "source": [
    "### ランダムフォレスト(Random Forest)\n",
    "バギングにおいて学習モデルに決定木を採用し、さらに特徴量を選択して学習させるアンサンブル手法。  \n",
    "それぞれの学習モデルで一部の学習データと特徴量を使わないことで、少し異なる決定木を複数作る。  \n",
    "（相関が低いモデルを作ることが狙い。アンサンブルでは多種多様なモデルを用いることが望ましいため。）"
   ]
  },
  {
   "cell_type": "markdown",
   "id": "c048ec3a-6057-4e68-89a2-02eb365051d8",
   "metadata": {},
   "source": [
    "## ○ XGBoost"
   ]
  },
  {
   "cell_type": "code",
   "execution_count": null,
   "id": "c4db1d5e-eafb-467f-b2cd-c5951719c542",
   "metadata": {},
   "outputs": [],
   "source": []
  }
 ],
 "metadata": {
  "kernelspec": {
   "display_name": "Python 3 (ipykernel)",
   "language": "python",
   "name": "python3"
  },
  "language_info": {
   "codemirror_mode": {
    "name": "ipython",
    "version": 3
   },
   "file_extension": ".py",
   "mimetype": "text/x-python",
   "name": "python",
   "nbconvert_exporter": "python",
   "pygments_lexer": "ipython3",
   "version": "3.9.12"
  }
 },
 "nbformat": 4,
 "nbformat_minor": 5
}
