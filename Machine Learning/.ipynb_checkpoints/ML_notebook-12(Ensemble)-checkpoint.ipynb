{
 "cells": [
  {
   "cell_type": "markdown",
   "id": "2201bdbf-37fd-4023-91bf-64b9abab481c",
   "metadata": {},
   "source": [
    "# 機械学習をPythonで実践する-12　　～ Bagging ～"
   ]
  },
  {
   "cell_type": "code",
   "execution_count": 56,
   "id": "6fd738d0-badc-41b1-9adc-40ba2d00fb40",
   "metadata": {},
   "outputs": [
    {
     "name": "stdout",
     "output_type": "stream",
     "text": [
      "The autoreload extension is already loaded. To reload it, use:\n",
      "  %reload_ext autoreload\n"
     ]
    }
   ],
   "source": [
    "%load_ext autoreload\n",
    "%autoreload 2\n",
    "import polars as pl\n",
    "import pandas as pd\n",
    "import numpy as np\n",
    "import seaborn as sns\n",
    "from sklearn.preprocessing import StandardScaler, PolynomialFeatures, OrdinalEncoder\n",
    "# import statsmodels.api as sma\n",
    "from sklearn.model_selection import train_test_split ,cross_val_score, KFold, RepeatedKFold,StratifiedKFold\n",
    "from sklearn.metrics import mean_squared_error, mean_absolute_error, r2_score, log_loss, confusion_matrix,ConfusionMatrixDisplay, \\\n",
    "accuracy_score, precision_score, recall_score,precision_recall_curve,f1_score,roc_curve,auc,get_scorer_names,roc_auc_score\n",
    "from sklearn import tree\n",
    "from sklearn.ensemble import BaggingClassifier\n",
    "\n",
    "%matplotlib inline\n",
    "import matplotlib.pyplot as plt\n"
   ]
  },
  {
   "cell_type": "markdown",
   "id": "38ae0d6b-247e-4261-bfdb-891c5819f511",
   "metadata": {},
   "source": [
    "## Bagging（分類タスク）\n",
    "sklearn.ensemble.BaggingClassifierクラスを使う。\n",
    "\n",
    "1. インスタンス生成  \n",
    "    ・base_estimator: sklearnのモデルインスタンス(デフォルトは決定木)  \n",
    "    ・n_estimators: Baggingに使うモデルの数(デフォルト10)  \n",
    "2. .fit(X, y)で学習\n",
    "3. .predict(X)で予測（多数決）。.predict_probaは確率の平均。\n"
   ]
  },
  {
   "cell_type": "code",
   "execution_count": 7,
   "id": "21396cbd-2e76-4ada-824d-31a130bde5f3",
   "metadata": {
    "tags": []
   },
   "outputs": [],
   "source": [
    "# polarsでタイタニックデータを読み込み\n",
    "df = pl.from_pandas(sns.load_dataset('titanic'))"
   ]
  },
  {
   "cell_type": "code",
   "execution_count": 9,
   "id": "9d4ef762-978a-4065-8654-041c1ae5161c",
   "metadata": {
    "tags": []
   },
   "outputs": [
    {
     "data": {
      "text/html": [
       "<div>\n",
       "<style>\n",
       ".pl-dataframe > thead > tr > th {\n",
       "  text-align: right;\n",
       "}\n",
       "</style>\n",
       "\n",
       "<table border=\"1\" class=\"dataframe pl-dataframe\">\n",
       "<small>shape: (2, 15)</small>\n",
       "<thead>\n",
       "<tr>\n",
       "<th>\n",
       "survived\n",
       "</th>\n",
       "<th>\n",
       "pclass\n",
       "</th>\n",
       "<th>\n",
       "sex\n",
       "</th>\n",
       "<th>\n",
       "age\n",
       "</th>\n",
       "<th>\n",
       "sibsp\n",
       "</th>\n",
       "<th>\n",
       "parch\n",
       "</th>\n",
       "<th>\n",
       "fare\n",
       "</th>\n",
       "<th>\n",
       "embarked\n",
       "</th>\n",
       "<th>\n",
       "class\n",
       "</th>\n",
       "<th>\n",
       "who\n",
       "</th>\n",
       "<th>\n",
       "adult_male\n",
       "</th>\n",
       "<th>\n",
       "deck\n",
       "</th>\n",
       "<th>\n",
       "embark_town\n",
       "</th>\n",
       "<th>\n",
       "alive\n",
       "</th>\n",
       "<th>\n",
       "alone\n",
       "</th>\n",
       "</tr>\n",
       "<tr>\n",
       "<td>\n",
       "i64\n",
       "</td>\n",
       "<td>\n",
       "i64\n",
       "</td>\n",
       "<td>\n",
       "str\n",
       "</td>\n",
       "<td>\n",
       "f64\n",
       "</td>\n",
       "<td>\n",
       "i64\n",
       "</td>\n",
       "<td>\n",
       "i64\n",
       "</td>\n",
       "<td>\n",
       "f64\n",
       "</td>\n",
       "<td>\n",
       "str\n",
       "</td>\n",
       "<td>\n",
       "cat\n",
       "</td>\n",
       "<td>\n",
       "str\n",
       "</td>\n",
       "<td>\n",
       "bool\n",
       "</td>\n",
       "<td>\n",
       "cat\n",
       "</td>\n",
       "<td>\n",
       "str\n",
       "</td>\n",
       "<td>\n",
       "str\n",
       "</td>\n",
       "<td>\n",
       "bool\n",
       "</td>\n",
       "</tr>\n",
       "</thead>\n",
       "<tbody>\n",
       "<tr>\n",
       "<td>\n",
       "0\n",
       "</td>\n",
       "<td>\n",
       "3\n",
       "</td>\n",
       "<td>\n",
       "&quot;male&quot;\n",
       "</td>\n",
       "<td>\n",
       "22.0\n",
       "</td>\n",
       "<td>\n",
       "1\n",
       "</td>\n",
       "<td>\n",
       "0\n",
       "</td>\n",
       "<td>\n",
       "7.25\n",
       "</td>\n",
       "<td>\n",
       "&quot;S&quot;\n",
       "</td>\n",
       "<td>\n",
       "&quot;Third&quot;\n",
       "</td>\n",
       "<td>\n",
       "&quot;man&quot;\n",
       "</td>\n",
       "<td>\n",
       "true\n",
       "</td>\n",
       "<td>\n",
       "null\n",
       "</td>\n",
       "<td>\n",
       "&quot;Southampton&quot;\n",
       "</td>\n",
       "<td>\n",
       "&quot;no&quot;\n",
       "</td>\n",
       "<td>\n",
       "false\n",
       "</td>\n",
       "</tr>\n",
       "<tr>\n",
       "<td>\n",
       "1\n",
       "</td>\n",
       "<td>\n",
       "1\n",
       "</td>\n",
       "<td>\n",
       "&quot;female&quot;\n",
       "</td>\n",
       "<td>\n",
       "38.0\n",
       "</td>\n",
       "<td>\n",
       "1\n",
       "</td>\n",
       "<td>\n",
       "0\n",
       "</td>\n",
       "<td>\n",
       "71.2833\n",
       "</td>\n",
       "<td>\n",
       "&quot;C&quot;\n",
       "</td>\n",
       "<td>\n",
       "&quot;First&quot;\n",
       "</td>\n",
       "<td>\n",
       "&quot;woman&quot;\n",
       "</td>\n",
       "<td>\n",
       "false\n",
       "</td>\n",
       "<td>\n",
       "&quot;C&quot;\n",
       "</td>\n",
       "<td>\n",
       "&quot;Cherbourg&quot;\n",
       "</td>\n",
       "<td>\n",
       "&quot;yes&quot;\n",
       "</td>\n",
       "<td>\n",
       "false\n",
       "</td>\n",
       "</tr>\n",
       "</tbody>\n",
       "</table>\n",
       "</div>"
      ],
      "text/plain": [
       "shape: (2, 15)\n",
       "┌──────────┬────────┬────────┬──────┬─────┬──────┬─────────────┬───────┬───────┐\n",
       "│ survived ┆ pclass ┆ sex    ┆ age  ┆ ... ┆ deck ┆ embark_town ┆ alive ┆ alone │\n",
       "│ ---      ┆ ---    ┆ ---    ┆ ---  ┆     ┆ ---  ┆ ---         ┆ ---   ┆ ---   │\n",
       "│ i64      ┆ i64    ┆ str    ┆ f64  ┆     ┆ cat  ┆ str         ┆ str   ┆ bool  │\n",
       "╞══════════╪════════╪════════╪══════╪═════╪══════╪═════════════╪═══════╪═══════╡\n",
       "│ 0        ┆ 3      ┆ male   ┆ 22.0 ┆ ... ┆ null ┆ Southampton ┆ no    ┆ false │\n",
       "│ 1        ┆ 1      ┆ female ┆ 38.0 ┆ ... ┆ C    ┆ Cherbourg   ┆ yes   ┆ false │\n",
       "└──────────┴────────┴────────┴──────┴─────┴──────┴─────────────┴───────┴───────┘"
      ]
     },
     "execution_count": 9,
     "metadata": {},
     "output_type": "execute_result"
    }
   ],
   "source": [
    "df.head(2)"
   ]
  },
  {
   "cell_type": "code",
   "execution_count": 10,
   "id": "42182769-878e-4dc7-88ab-bc1fa1caddc8",
   "metadata": {
    "tags": []
   },
   "outputs": [
    {
     "data": {
      "text/html": [
       "<div>\n",
       "<style>\n",
       ".pl-dataframe > thead > tr > th {\n",
       "  text-align: right;\n",
       "}\n",
       "</style>\n",
       "\n",
       "<table border=\"1\" class=\"dataframe pl-dataframe\">\n",
       "<small>shape: (1, 15)</small>\n",
       "<thead>\n",
       "<tr>\n",
       "<th>\n",
       "survived\n",
       "</th>\n",
       "<th>\n",
       "pclass\n",
       "</th>\n",
       "<th>\n",
       "sex\n",
       "</th>\n",
       "<th>\n",
       "age\n",
       "</th>\n",
       "<th>\n",
       "sibsp\n",
       "</th>\n",
       "<th>\n",
       "parch\n",
       "</th>\n",
       "<th>\n",
       "fare\n",
       "</th>\n",
       "<th>\n",
       "embarked\n",
       "</th>\n",
       "<th>\n",
       "class\n",
       "</th>\n",
       "<th>\n",
       "who\n",
       "</th>\n",
       "<th>\n",
       "adult_male\n",
       "</th>\n",
       "<th>\n",
       "deck\n",
       "</th>\n",
       "<th>\n",
       "embark_town\n",
       "</th>\n",
       "<th>\n",
       "alive\n",
       "</th>\n",
       "<th>\n",
       "alone\n",
       "</th>\n",
       "</tr>\n",
       "<tr>\n",
       "<td>\n",
       "u32\n",
       "</td>\n",
       "<td>\n",
       "u32\n",
       "</td>\n",
       "<td>\n",
       "u32\n",
       "</td>\n",
       "<td>\n",
       "u32\n",
       "</td>\n",
       "<td>\n",
       "u32\n",
       "</td>\n",
       "<td>\n",
       "u32\n",
       "</td>\n",
       "<td>\n",
       "u32\n",
       "</td>\n",
       "<td>\n",
       "u32\n",
       "</td>\n",
       "<td>\n",
       "u32\n",
       "</td>\n",
       "<td>\n",
       "u32\n",
       "</td>\n",
       "<td>\n",
       "u32\n",
       "</td>\n",
       "<td>\n",
       "u32\n",
       "</td>\n",
       "<td>\n",
       "u32\n",
       "</td>\n",
       "<td>\n",
       "u32\n",
       "</td>\n",
       "<td>\n",
       "u32\n",
       "</td>\n",
       "</tr>\n",
       "</thead>\n",
       "<tbody>\n",
       "<tr>\n",
       "<td>\n",
       "0\n",
       "</td>\n",
       "<td>\n",
       "0\n",
       "</td>\n",
       "<td>\n",
       "0\n",
       "</td>\n",
       "<td>\n",
       "177\n",
       "</td>\n",
       "<td>\n",
       "0\n",
       "</td>\n",
       "<td>\n",
       "0\n",
       "</td>\n",
       "<td>\n",
       "0\n",
       "</td>\n",
       "<td>\n",
       "2\n",
       "</td>\n",
       "<td>\n",
       "0\n",
       "</td>\n",
       "<td>\n",
       "0\n",
       "</td>\n",
       "<td>\n",
       "0\n",
       "</td>\n",
       "<td>\n",
       "688\n",
       "</td>\n",
       "<td>\n",
       "2\n",
       "</td>\n",
       "<td>\n",
       "0\n",
       "</td>\n",
       "<td>\n",
       "0\n",
       "</td>\n",
       "</tr>\n",
       "</tbody>\n",
       "</table>\n",
       "</div>"
      ],
      "text/plain": [
       "shape: (1, 15)\n",
       "┌──────────┬────────┬─────┬─────┬─────┬──────┬─────────────┬───────┬───────┐\n",
       "│ survived ┆ pclass ┆ sex ┆ age ┆ ... ┆ deck ┆ embark_town ┆ alive ┆ alone │\n",
       "│ ---      ┆ ---    ┆ --- ┆ --- ┆     ┆ ---  ┆ ---         ┆ ---   ┆ ---   │\n",
       "│ u32      ┆ u32    ┆ u32 ┆ u32 ┆     ┆ u32  ┆ u32         ┆ u32   ┆ u32   │\n",
       "╞══════════╪════════╪═════╪═════╪═════╪══════╪═════════════╪═══════╪═══════╡\n",
       "│ 0        ┆ 0      ┆ 0   ┆ 177 ┆ ... ┆ 688  ┆ 2           ┆ 0     ┆ 0     │\n",
       "└──────────┴────────┴─────┴─────┴─────┴──────┴─────────────┴───────┴───────┘"
      ]
     },
     "execution_count": 10,
     "metadata": {},
     "output_type": "execute_result"
    }
   ],
   "source": [
    "df.null_count()"
   ]
  },
  {
   "cell_type": "code",
   "execution_count": 35,
   "id": "b6897243-5328-4cdc-9d19-163feaccfbe0",
   "metadata": {
    "tags": []
   },
   "outputs": [],
   "source": [
    "# 今回は単純に欠損値を落とす。\n",
    "df = df.drop_nulls()"
   ]
  },
  {
   "cell_type": "code",
   "execution_count": 36,
   "id": "b7874678-d23f-488b-b4ce-c2fab49782cf",
   "metadata": {
    "tags": []
   },
   "outputs": [],
   "source": [
    "# 学習データ、目的変数を定義\n",
    "X = df.drop(['survived', 'alive'])\n",
    "y = df.get_column('survived')"
   ]
  },
  {
   "cell_type": "code",
   "execution_count": 37,
   "id": "ab359e2e-f24d-44eb-9b01-5a317a865fe7",
   "metadata": {
    "tags": []
   },
   "outputs": [
    {
     "data": {
      "text/html": [
       "<div>\n",
       "<style>\n",
       ".pl-dataframe > thead > tr > th {\n",
       "  text-align: right;\n",
       "}\n",
       "</style>\n",
       "\n",
       "<table border=\"1\" class=\"dataframe pl-dataframe\">\n",
       "<small>shape: (1, 13)</small>\n",
       "<thead>\n",
       "<tr>\n",
       "<th>\n",
       "pclass\n",
       "</th>\n",
       "<th>\n",
       "sex\n",
       "</th>\n",
       "<th>\n",
       "age\n",
       "</th>\n",
       "<th>\n",
       "sibsp\n",
       "</th>\n",
       "<th>\n",
       "parch\n",
       "</th>\n",
       "<th>\n",
       "fare\n",
       "</th>\n",
       "<th>\n",
       "embarked\n",
       "</th>\n",
       "<th>\n",
       "class\n",
       "</th>\n",
       "<th>\n",
       "who\n",
       "</th>\n",
       "<th>\n",
       "adult_male\n",
       "</th>\n",
       "<th>\n",
       "deck\n",
       "</th>\n",
       "<th>\n",
       "embark_town\n",
       "</th>\n",
       "<th>\n",
       "alone\n",
       "</th>\n",
       "</tr>\n",
       "<tr>\n",
       "<td>\n",
       "i64\n",
       "</td>\n",
       "<td>\n",
       "str\n",
       "</td>\n",
       "<td>\n",
       "f64\n",
       "</td>\n",
       "<td>\n",
       "i64\n",
       "</td>\n",
       "<td>\n",
       "i64\n",
       "</td>\n",
       "<td>\n",
       "f64\n",
       "</td>\n",
       "<td>\n",
       "str\n",
       "</td>\n",
       "<td>\n",
       "cat\n",
       "</td>\n",
       "<td>\n",
       "str\n",
       "</td>\n",
       "<td>\n",
       "bool\n",
       "</td>\n",
       "<td>\n",
       "cat\n",
       "</td>\n",
       "<td>\n",
       "str\n",
       "</td>\n",
       "<td>\n",
       "bool\n",
       "</td>\n",
       "</tr>\n",
       "</thead>\n",
       "<tbody>\n",
       "<tr>\n",
       "<td>\n",
       "1\n",
       "</td>\n",
       "<td>\n",
       "&quot;female&quot;\n",
       "</td>\n",
       "<td>\n",
       "38.0\n",
       "</td>\n",
       "<td>\n",
       "1\n",
       "</td>\n",
       "<td>\n",
       "0\n",
       "</td>\n",
       "<td>\n",
       "71.2833\n",
       "</td>\n",
       "<td>\n",
       "&quot;C&quot;\n",
       "</td>\n",
       "<td>\n",
       "&quot;First&quot;\n",
       "</td>\n",
       "<td>\n",
       "&quot;woman&quot;\n",
       "</td>\n",
       "<td>\n",
       "false\n",
       "</td>\n",
       "<td>\n",
       "&quot;C&quot;\n",
       "</td>\n",
       "<td>\n",
       "&quot;Cherbourg&quot;\n",
       "</td>\n",
       "<td>\n",
       "false\n",
       "</td>\n",
       "</tr>\n",
       "</tbody>\n",
       "</table>\n",
       "</div>"
      ],
      "text/plain": [
       "shape: (1, 13)\n",
       "┌────────┬────────┬──────┬───────┬─────┬────────────┬──────┬─────────────┬───────┐\n",
       "│ pclass ┆ sex    ┆ age  ┆ sibsp ┆ ... ┆ adult_male ┆ deck ┆ embark_town ┆ alone │\n",
       "│ ---    ┆ ---    ┆ ---  ┆ ---   ┆     ┆ ---        ┆ ---  ┆ ---         ┆ ---   │\n",
       "│ i64    ┆ str    ┆ f64  ┆ i64   ┆     ┆ bool       ┆ cat  ┆ str         ┆ bool  │\n",
       "╞════════╪════════╪══════╪═══════╪═════╪════════════╪══════╪═════════════╪═══════╡\n",
       "│ 1      ┆ female ┆ 38.0 ┆ 1     ┆ ... ┆ false      ┆ C    ┆ Cherbourg   ┆ false │\n",
       "└────────┴────────┴──────┴───────┴─────┴────────────┴──────┴─────────────┴───────┘"
      ]
     },
     "execution_count": 37,
     "metadata": {},
     "output_type": "execute_result"
    }
   ],
   "source": [
    "X.head(1)"
   ]
  },
  {
   "cell_type": "code",
   "execution_count": 38,
   "id": "694868da-ae11-4f25-ba60-49bb7635103c",
   "metadata": {
    "tags": []
   },
   "outputs": [],
   "source": [
    "# ラベルエンコーディング（LabelEncoderではなく、OrdinalEncoderを使う）\n",
    "oe = OrdinalEncoder()\n",
    "# pandasで返ってくるように指定。polarsは指定できない模様\n",
    "oe.set_output(transform='pandas')\n",
    "# polars.DFはそのまま入れられないのでpandasに変換する。\n",
    "X = pl.from_pandas(oe.fit_transform(X.to_pandas()))"
   ]
  },
  {
   "cell_type": "code",
   "execution_count": 39,
   "id": "48413287-5a2a-450a-b941-a49b9ae9aabd",
   "metadata": {
    "tags": []
   },
   "outputs": [
    {
     "data": {
      "text/html": [
       "<div>\n",
       "<style>\n",
       ".pl-dataframe > thead > tr > th {\n",
       "  text-align: right;\n",
       "}\n",
       "</style>\n",
       "\n",
       "<table border=\"1\" class=\"dataframe pl-dataframe\">\n",
       "<small>shape: (1, 13)</small>\n",
       "<thead>\n",
       "<tr>\n",
       "<th>\n",
       "pclass\n",
       "</th>\n",
       "<th>\n",
       "sex\n",
       "</th>\n",
       "<th>\n",
       "age\n",
       "</th>\n",
       "<th>\n",
       "sibsp\n",
       "</th>\n",
       "<th>\n",
       "parch\n",
       "</th>\n",
       "<th>\n",
       "fare\n",
       "</th>\n",
       "<th>\n",
       "embarked\n",
       "</th>\n",
       "<th>\n",
       "class\n",
       "</th>\n",
       "<th>\n",
       "who\n",
       "</th>\n",
       "<th>\n",
       "adult_male\n",
       "</th>\n",
       "<th>\n",
       "deck\n",
       "</th>\n",
       "<th>\n",
       "embark_town\n",
       "</th>\n",
       "<th>\n",
       "alone\n",
       "</th>\n",
       "</tr>\n",
       "<tr>\n",
       "<td>\n",
       "f64\n",
       "</td>\n",
       "<td>\n",
       "f64\n",
       "</td>\n",
       "<td>\n",
       "f64\n",
       "</td>\n",
       "<td>\n",
       "f64\n",
       "</td>\n",
       "<td>\n",
       "f64\n",
       "</td>\n",
       "<td>\n",
       "f64\n",
       "</td>\n",
       "<td>\n",
       "f64\n",
       "</td>\n",
       "<td>\n",
       "f64\n",
       "</td>\n",
       "<td>\n",
       "f64\n",
       "</td>\n",
       "<td>\n",
       "f64\n",
       "</td>\n",
       "<td>\n",
       "f64\n",
       "</td>\n",
       "<td>\n",
       "f64\n",
       "</td>\n",
       "<td>\n",
       "f64\n",
       "</td>\n",
       "</tr>\n",
       "</thead>\n",
       "<tbody>\n",
       "<tr>\n",
       "<td>\n",
       "0.0\n",
       "</td>\n",
       "<td>\n",
       "0.0\n",
       "</td>\n",
       "<td>\n",
       "32.0\n",
       "</td>\n",
       "<td>\n",
       "1.0\n",
       "</td>\n",
       "<td>\n",
       "0.0\n",
       "</td>\n",
       "<td>\n",
       "57.0\n",
       "</td>\n",
       "<td>\n",
       "0.0\n",
       "</td>\n",
       "<td>\n",
       "0.0\n",
       "</td>\n",
       "<td>\n",
       "2.0\n",
       "</td>\n",
       "<td>\n",
       "0.0\n",
       "</td>\n",
       "<td>\n",
       "2.0\n",
       "</td>\n",
       "<td>\n",
       "0.0\n",
       "</td>\n",
       "<td>\n",
       "0.0\n",
       "</td>\n",
       "</tr>\n",
       "</tbody>\n",
       "</table>\n",
       "</div>"
      ],
      "text/plain": [
       "shape: (1, 13)\n",
       "┌────────┬─────┬──────┬───────┬─────┬────────────┬──────┬─────────────┬───────┐\n",
       "│ pclass ┆ sex ┆ age  ┆ sibsp ┆ ... ┆ adult_male ┆ deck ┆ embark_town ┆ alone │\n",
       "│ ---    ┆ --- ┆ ---  ┆ ---   ┆     ┆ ---        ┆ ---  ┆ ---         ┆ ---   │\n",
       "│ f64    ┆ f64 ┆ f64  ┆ f64   ┆     ┆ f64        ┆ f64  ┆ f64         ┆ f64   │\n",
       "╞════════╪═════╪══════╪═══════╪═════╪════════════╪══════╪═════════════╪═══════╡\n",
       "│ 0.0    ┆ 0.0 ┆ 32.0 ┆ 1.0   ┆ ... ┆ 0.0        ┆ 2.0  ┆ 0.0         ┆ 0.0   │\n",
       "└────────┴─────┴──────┴───────┴─────┴────────────┴──────┴─────────────┴───────┘"
      ]
     },
     "execution_count": 39,
     "metadata": {},
     "output_type": "execute_result"
    }
   ],
   "source": [
    "X.head(1)"
   ]
  },
  {
   "cell_type": "markdown",
   "id": "e34c1430-b202-4934-8cda-4175be0f9362",
   "metadata": {},
   "source": [
    "Ordinal Encoderを使用すると、量的変数も質的変数も全てf64にキャストされるっぽい。  \n",
    "両者を分ける必要がないのは楽だが、メモリの無駄遣い感がある・・・"
   ]
  },
  {
   "cell_type": "code",
   "execution_count": 40,
   "id": "1a711924-1ce8-460d-a3aa-a5d61ea6e919",
   "metadata": {
    "tags": []
   },
   "outputs": [],
   "source": [
    "# hold-out\n",
    "X_train, X_test, y_train, y_test = train_test_split(X.to_pandas(), y.to_pandas(), test_size=0.3, random_state=0)"
   ]
  },
  {
   "cell_type": "code",
   "execution_count": 41,
   "id": "c61c58ae-fabd-4552-ae3d-c7c30362f422",
   "metadata": {
    "tags": []
   },
   "outputs": [],
   "source": [
    "# Bagging\n",
    "clf = BaggingClassifier(random_state=0)\n",
    "clf.fit(X_train, y_train)\n",
    "y_pred = clf.predict_proba(X_test)"
   ]
  },
  {
   "cell_type": "code",
   "execution_count": 44,
   "id": "85229531-a87d-4be7-8f84-2241aad51220",
   "metadata": {
    "tags": []
   },
   "outputs": [
    {
     "data": {
      "text/plain": [
       "array([0, 1])"
      ]
     },
     "execution_count": 44,
     "metadata": {},
     "output_type": "execute_result"
    }
   ],
   "source": [
    "clf.classes_"
   ]
  },
  {
   "cell_type": "markdown",
   "id": "b8334e78-0fb7-45ea-951d-abeddfd601e2",
   "metadata": {},
   "source": [
    "1が生存"
   ]
  },
  {
   "cell_type": "code",
   "execution_count": 51,
   "id": "8603a79f-5710-45aa-82b2-06ad36e029d5",
   "metadata": {
    "tags": []
   },
   "outputs": [
    {
     "data": {
      "text/plain": [
       "array([[0.5, 0.5],\n",
       "       [0.8, 0.2],\n",
       "       [0.1, 0.9],\n",
       "       [0. , 1. ],\n",
       "       [0.3, 0.7],\n",
       "       [0.7, 0.3]])"
      ]
     },
     "execution_count": 51,
     "metadata": {},
     "output_type": "execute_result"
    }
   ],
   "source": [
    "y_pred[:6]"
   ]
  },
  {
   "cell_type": "code",
   "execution_count": 52,
   "id": "f4574b43-5c83-41a7-910c-47920bf9dfa8",
   "metadata": {
    "tags": []
   },
   "outputs": [
    {
     "data": {
      "text/plain": [
       "94     1\n",
       "18     0\n",
       "33     1\n",
       "98     1\n",
       "181    1\n",
       "168    0\n",
       "Name: survived, dtype: int64"
      ]
     },
     "execution_count": 52,
     "metadata": {},
     "output_type": "execute_result"
    }
   ],
   "source": [
    "y_test[:6]"
   ]
  },
  {
   "cell_type": "markdown",
   "id": "625d06ba-edf4-4df8-acb7-009c6e56f1d8",
   "metadata": {},
   "source": [
    "概ねあっていそう。"
   ]
  },
  {
   "cell_type": "code",
   "execution_count": 55,
   "id": "a8cd77f0-38ef-4c9e-a8af-59dc21d51d54",
   "metadata": {
    "tags": []
   },
   "outputs": [
    {
     "data": {
      "text/plain": [
       "0.8974358974358974"
      ]
     },
     "execution_count": 55,
     "metadata": {},
     "output_type": "execute_result"
    }
   ],
   "source": [
    "# AUCを計算\n",
    "roc_auc_score(y_test, y_pred[:,1])"
   ]
  },
  {
   "cell_type": "code",
   "execution_count": 86,
   "id": "6a721c67-9321-4d79-8ad2-9d59737eb185",
   "metadata": {
    "tags": []
   },
   "outputs": [
    {
     "data": {
      "text/plain": [
       "[DecisionTreeClassifier(random_state=2087557356),\n",
       " DecisionTreeClassifier(random_state=132990059),\n",
       " DecisionTreeClassifier(random_state=1109697837),\n",
       " DecisionTreeClassifier(random_state=123230084),\n",
       " DecisionTreeClassifier(random_state=633163265),\n",
       " DecisionTreeClassifier(random_state=998640145),\n",
       " DecisionTreeClassifier(random_state=1452413565),\n",
       " DecisionTreeClassifier(random_state=2006313316),\n",
       " DecisionTreeClassifier(random_state=45050103),\n",
       " DecisionTreeClassifier(random_state=395371042)]"
      ]
     },
     "execution_count": 86,
     "metadata": {},
     "output_type": "execute_result"
    }
   ],
   "source": [
    "clf.estimators_"
   ]
  },
  {
   "cell_type": "markdown",
   "id": "bc2ded36-5ced-4d51-bac6-e41c15a6555c",
   "metadata": {},
   "source": [
    "Baggingの中で使用したモデルを取得することができる。"
   ]
  },
  {
   "cell_type": "markdown",
   "id": "c32ec762-81d4-4ea3-8cac-c74d3325cb83",
   "metadata": {},
   "source": [
    "### ※決定木だけで予測した場合"
   ]
  },
  {
   "cell_type": "code",
   "execution_count": 106,
   "id": "3aca9fbc-b067-4571-a40d-aaa92ceb3a50",
   "metadata": {
    "tags": []
   },
   "outputs": [],
   "source": [
    "dtree = tree.DecisionTreeClassifier(random_state=0, max_depth=5).fit(X_train, y_train)\n",
    "y_pred_dtree = dtree.predict_proba(X_test)"
   ]
  },
  {
   "cell_type": "code",
   "execution_count": 107,
   "id": "879e668c-6238-4b01-82f0-2bfaa2fedf1d",
   "metadata": {
    "tags": []
   },
   "outputs": [
    {
     "data": {
      "text/plain": [
       "0.8317307692307693"
      ]
     },
     "execution_count": 107,
     "metadata": {},
     "output_type": "execute_result"
    }
   ],
   "source": [
    "roc_auc_score(y_test, y_pred_dtree[:,1])"
   ]
  },
  {
   "cell_type": "markdown",
   "id": "8e4ddf68-8998-439b-867f-18c6fe287c07",
   "metadata": {},
   "source": [
    "max_depthは適当だが、Baggingの結果の方が精度良さそう。"
   ]
  },
  {
   "cell_type": "code",
   "execution_count": null,
   "id": "5dabc854-30e1-4968-9072-2668bbe11746",
   "metadata": {},
   "outputs": [],
   "source": []
  }
 ],
 "metadata": {
  "kernelspec": {
   "display_name": "Python 3 (ipykernel)",
   "language": "python",
   "name": "python3"
  },
  "language_info": {
   "codemirror_mode": {
    "name": "ipython",
    "version": 3
   },
   "file_extension": ".py",
   "mimetype": "text/x-python",
   "name": "python",
   "nbconvert_exporter": "python",
   "pygments_lexer": "ipython3",
   "version": "3.9.12"
  }
 },
 "nbformat": 4,
 "nbformat_minor": 5
}
