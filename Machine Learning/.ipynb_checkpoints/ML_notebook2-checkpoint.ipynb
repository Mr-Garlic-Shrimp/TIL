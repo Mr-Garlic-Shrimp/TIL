{
 "cells": [
  {
   "cell_type": "markdown",
   "id": "996b59f7-5671-4068-b753-490507bfed35",
   "metadata": {},
   "source": [
    "# 機械学習をPythonで実践する-2"
   ]
  },
  {
   "cell_type": "code",
   "execution_count": 212,
   "id": "8bea4a07-7fa5-42c7-9520-a85bb49ea114",
   "metadata": {},
   "outputs": [
    {
     "name": "stdout",
     "output_type": "stream",
     "text": [
      "The autoreload extension is already loaded. To reload it, use:\n",
      "  %reload_ext autoreload\n"
     ]
    }
   ],
   "source": [
    "%load_ext autoreload\n",
    "%autoreload 2\n",
    "import pandas as pd\n",
    "import numpy as np\n",
    "import seaborn as sns\n",
    "from itertools import product\n",
    "from sklearn.linear_model import LinearRegression\n",
    "from sklearn.preprocessing import StandardScaler\n",
    "import statsmodels.api as sma\n",
    "from sklearn.model_selection import train_test_split ,LeaveOneOut, cross_val_score, KFold, RepeatedKFold\n",
    "from sklearn.metrics import mean_squared_error, mean_absolute_error, r2_score\n",
    "from sklearn.pipeline import Pipeline\n",
    "\n",
    "%matplotlib inline\n",
    "import matplotlib.pyplot as plt"
   ]
  },
  {
   "cell_type": "markdown",
   "id": "6581665b-f48b-4981-8dc5-179d6f0a9457",
   "metadata": {},
   "source": [
    "## ○ 質的変数のエンコーディングとダミー変数\n",
    "pandas.get_dummies(df, drop_first=True)で質的変数をエンコーディング＆ダミー変数に分割できる。  \n",
    "drop_first=Trueにすることで、質的変数が取りうる値の種類-1にダミー変数を分割する（ダミー変数トラップ対策）。  "
   ]
  },
  {
   "cell_type": "code",
   "execution_count": 7,
   "id": "8ba46aee-cd66-42f7-8c24-bfe6687b7d02",
   "metadata": {},
   "outputs": [
    {
     "data": {
      "text/html": [
       "<div>\n",
       "<style scoped>\n",
       "    .dataframe tbody tr th:only-of-type {\n",
       "        vertical-align: middle;\n",
       "    }\n",
       "\n",
       "    .dataframe tbody tr th {\n",
       "        vertical-align: top;\n",
       "    }\n",
       "\n",
       "    .dataframe thead th {\n",
       "        text-align: right;\n",
       "    }\n",
       "</style>\n",
       "<table border=\"1\" class=\"dataframe\">\n",
       "  <thead>\n",
       "    <tr style=\"text-align: right;\">\n",
       "      <th></th>\n",
       "      <th>space</th>\n",
       "      <th>rent</th>\n",
       "      <th>age</th>\n",
       "      <th>facing_direction</th>\n",
       "    </tr>\n",
       "  </thead>\n",
       "  <tbody>\n",
       "    <tr>\n",
       "      <th>0</th>\n",
       "      <td>20</td>\n",
       "      <td>13.958824</td>\n",
       "      <td>3</td>\n",
       "      <td>South</td>\n",
       "    </tr>\n",
       "    <tr>\n",
       "      <th>1</th>\n",
       "      <td>25</td>\n",
       "      <td>11.533805</td>\n",
       "      <td>13</td>\n",
       "      <td>South</td>\n",
       "    </tr>\n",
       "    <tr>\n",
       "      <th>2</th>\n",
       "      <td>28</td>\n",
       "      <td>14.269547</td>\n",
       "      <td>18</td>\n",
       "      <td>North</td>\n",
       "    </tr>\n",
       "    <tr>\n",
       "      <th>3</th>\n",
       "      <td>30</td>\n",
       "      <td>18.722680</td>\n",
       "      <td>10</td>\n",
       "      <td>West</td>\n",
       "    </tr>\n",
       "    <tr>\n",
       "      <th>4</th>\n",
       "      <td>36</td>\n",
       "      <td>19.602674</td>\n",
       "      <td>6</td>\n",
       "      <td>West</td>\n",
       "    </tr>\n",
       "    <tr>\n",
       "      <th>5</th>\n",
       "      <td>51</td>\n",
       "      <td>16.068166</td>\n",
       "      <td>1</td>\n",
       "      <td>South</td>\n",
       "    </tr>\n",
       "    <tr>\n",
       "      <th>6</th>\n",
       "      <td>55</td>\n",
       "      <td>23.183599</td>\n",
       "      <td>5</td>\n",
       "      <td>East</td>\n",
       "    </tr>\n",
       "    <tr>\n",
       "      <th>7</th>\n",
       "      <td>62</td>\n",
       "      <td>22.212595</td>\n",
       "      <td>2</td>\n",
       "      <td>North</td>\n",
       "    </tr>\n",
       "    <tr>\n",
       "      <th>8</th>\n",
       "      <td>83</td>\n",
       "      <td>29.357010</td>\n",
       "      <td>5</td>\n",
       "      <td>North</td>\n",
       "    </tr>\n",
       "    <tr>\n",
       "      <th>9</th>\n",
       "      <td>103</td>\n",
       "      <td>37.565129</td>\n",
       "      <td>23</td>\n",
       "      <td>West</td>\n",
       "    </tr>\n",
       "  </tbody>\n",
       "</table>\n",
       "</div>"
      ],
      "text/plain": [
       "   space       rent  age facing_direction\n",
       "0     20  13.958824    3            South\n",
       "1     25  11.533805   13            South\n",
       "2     28  14.269547   18            North\n",
       "3     30  18.722680   10             West\n",
       "4     36  19.602674    6             West\n",
       "5     51  16.068166    1            South\n",
       "6     55  23.183599    5             East\n",
       "7     62  22.212595    2            North\n",
       "8     83  29.357010    5            North\n",
       "9    103  37.565129   23             West"
      ]
     },
     "execution_count": 7,
     "metadata": {},
     "output_type": "execute_result"
    }
   ],
   "source": [
    "# サンプルデータ（賃貸の広さ、家賃、築年数、物件の向きデータ）を読み込む\n",
    "df = pd.read_csv('../Python/sample_data/ML_sample/sample_data3.csv')\n",
    "df"
   ]
  },
  {
   "cell_type": "code",
   "execution_count": 14,
   "id": "479b1719-65a9-4bb3-bcdc-55340b4ddc4d",
   "metadata": {},
   "outputs": [
    {
     "data": {
      "text/html": [
       "<div>\n",
       "<style scoped>\n",
       "    .dataframe tbody tr th:only-of-type {\n",
       "        vertical-align: middle;\n",
       "    }\n",
       "\n",
       "    .dataframe tbody tr th {\n",
       "        vertical-align: top;\n",
       "    }\n",
       "\n",
       "    .dataframe thead th {\n",
       "        text-align: right;\n",
       "    }\n",
       "</style>\n",
       "<table border=\"1\" class=\"dataframe\">\n",
       "  <thead>\n",
       "    <tr style=\"text-align: right;\">\n",
       "      <th></th>\n",
       "      <th>space</th>\n",
       "      <th>rent</th>\n",
       "      <th>age</th>\n",
       "      <th>facing_direction_North</th>\n",
       "      <th>facing_direction_South</th>\n",
       "      <th>facing_direction_West</th>\n",
       "    </tr>\n",
       "  </thead>\n",
       "  <tbody>\n",
       "    <tr>\n",
       "      <th>0</th>\n",
       "      <td>20</td>\n",
       "      <td>13.958824</td>\n",
       "      <td>3</td>\n",
       "      <td>0</td>\n",
       "      <td>1</td>\n",
       "      <td>0</td>\n",
       "    </tr>\n",
       "    <tr>\n",
       "      <th>1</th>\n",
       "      <td>25</td>\n",
       "      <td>11.533805</td>\n",
       "      <td>13</td>\n",
       "      <td>0</td>\n",
       "      <td>1</td>\n",
       "      <td>0</td>\n",
       "    </tr>\n",
       "    <tr>\n",
       "      <th>2</th>\n",
       "      <td>28</td>\n",
       "      <td>14.269547</td>\n",
       "      <td>18</td>\n",
       "      <td>1</td>\n",
       "      <td>0</td>\n",
       "      <td>0</td>\n",
       "    </tr>\n",
       "    <tr>\n",
       "      <th>3</th>\n",
       "      <td>30</td>\n",
       "      <td>18.722680</td>\n",
       "      <td>10</td>\n",
       "      <td>0</td>\n",
       "      <td>0</td>\n",
       "      <td>1</td>\n",
       "    </tr>\n",
       "    <tr>\n",
       "      <th>4</th>\n",
       "      <td>36</td>\n",
       "      <td>19.602674</td>\n",
       "      <td>6</td>\n",
       "      <td>0</td>\n",
       "      <td>0</td>\n",
       "      <td>1</td>\n",
       "    </tr>\n",
       "    <tr>\n",
       "      <th>5</th>\n",
       "      <td>51</td>\n",
       "      <td>16.068166</td>\n",
       "      <td>1</td>\n",
       "      <td>0</td>\n",
       "      <td>1</td>\n",
       "      <td>0</td>\n",
       "    </tr>\n",
       "    <tr>\n",
       "      <th>6</th>\n",
       "      <td>55</td>\n",
       "      <td>23.183599</td>\n",
       "      <td>5</td>\n",
       "      <td>0</td>\n",
       "      <td>0</td>\n",
       "      <td>0</td>\n",
       "    </tr>\n",
       "    <tr>\n",
       "      <th>7</th>\n",
       "      <td>62</td>\n",
       "      <td>22.212595</td>\n",
       "      <td>2</td>\n",
       "      <td>1</td>\n",
       "      <td>0</td>\n",
       "      <td>0</td>\n",
       "    </tr>\n",
       "    <tr>\n",
       "      <th>8</th>\n",
       "      <td>83</td>\n",
       "      <td>29.357010</td>\n",
       "      <td>5</td>\n",
       "      <td>1</td>\n",
       "      <td>0</td>\n",
       "      <td>0</td>\n",
       "    </tr>\n",
       "    <tr>\n",
       "      <th>9</th>\n",
       "      <td>103</td>\n",
       "      <td>37.565129</td>\n",
       "      <td>23</td>\n",
       "      <td>0</td>\n",
       "      <td>0</td>\n",
       "      <td>1</td>\n",
       "    </tr>\n",
       "  </tbody>\n",
       "</table>\n",
       "</div>"
      ],
      "text/plain": [
       "   space       rent  age  facing_direction_North  facing_direction_South  \\\n",
       "0     20  13.958824    3                       0                       1   \n",
       "1     25  11.533805   13                       0                       1   \n",
       "2     28  14.269547   18                       1                       0   \n",
       "3     30  18.722680   10                       0                       0   \n",
       "4     36  19.602674    6                       0                       0   \n",
       "5     51  16.068166    1                       0                       1   \n",
       "6     55  23.183599    5                       0                       0   \n",
       "7     62  22.212595    2                       1                       0   \n",
       "8     83  29.357010    5                       1                       0   \n",
       "9    103  37.565129   23                       0                       0   \n",
       "\n",
       "   facing_direction_West  \n",
       "0                      0  \n",
       "1                      0  \n",
       "2                      0  \n",
       "3                      1  \n",
       "4                      1  \n",
       "5                      0  \n",
       "6                      0  \n",
       "7                      0  \n",
       "8                      0  \n",
       "9                      1  "
      ]
     },
     "execution_count": 14,
     "metadata": {},
     "output_type": "execute_result"
    }
   ],
   "source": [
    "# 質的変数をエンコーディング＆ダミー変数へ分割する\n",
    "df = pd.get_dummies(df, drop_first=True)\n",
    "df"
   ]
  },
  {
   "cell_type": "markdown",
   "id": "eb7aa6d6-4654-4561-af22-3fdcf694600d",
   "metadata": {},
   "source": [
    "[0, 1, 0]のような一つだけ1で他の値が0のものをOne-hot Vectorという。  \n",
    "ダミー変数に対する標準化はしても良いが，やらないことが多い。本来0,1で表現することに意味があるのに値が変わってしまうため。  \n",
    "ライブラリではダミー変数トラップに対処されていることが多く，drop_firstをTrueにしなくても問題なくモデルを学習させることが可能だが、  \n",
    "念のため、Trueにすることを推奨。"
   ]
  },
  {
   "cell_type": "code",
   "execution_count": 16,
   "id": "ad371787-3b95-4c15-a724-024b223848a6",
   "metadata": {},
   "outputs": [
    {
     "data": {
      "text/html": [
       "<div>\n",
       "<style scoped>\n",
       "    .dataframe tbody tr th:only-of-type {\n",
       "        vertical-align: middle;\n",
       "    }\n",
       "\n",
       "    .dataframe tbody tr th {\n",
       "        vertical-align: top;\n",
       "    }\n",
       "\n",
       "    .dataframe thead th {\n",
       "        text-align: right;\n",
       "    }\n",
       "</style>\n",
       "<table border=\"1\" class=\"dataframe\">\n",
       "  <thead>\n",
       "    <tr style=\"text-align: right;\">\n",
       "      <th></th>\n",
       "      <th>const</th>\n",
       "      <th>space</th>\n",
       "      <th>age</th>\n",
       "      <th>facing_direction_North</th>\n",
       "      <th>facing_direction_South</th>\n",
       "      <th>facing_direction_West</th>\n",
       "    </tr>\n",
       "  </thead>\n",
       "  <tbody>\n",
       "    <tr>\n",
       "      <th>0</th>\n",
       "      <td>1.0</td>\n",
       "      <td>20</td>\n",
       "      <td>3</td>\n",
       "      <td>0</td>\n",
       "      <td>1</td>\n",
       "      <td>0</td>\n",
       "    </tr>\n",
       "    <tr>\n",
       "      <th>1</th>\n",
       "      <td>1.0</td>\n",
       "      <td>25</td>\n",
       "      <td>13</td>\n",
       "      <td>0</td>\n",
       "      <td>1</td>\n",
       "      <td>0</td>\n",
       "    </tr>\n",
       "    <tr>\n",
       "      <th>2</th>\n",
       "      <td>1.0</td>\n",
       "      <td>28</td>\n",
       "      <td>18</td>\n",
       "      <td>1</td>\n",
       "      <td>0</td>\n",
       "      <td>0</td>\n",
       "    </tr>\n",
       "    <tr>\n",
       "      <th>3</th>\n",
       "      <td>1.0</td>\n",
       "      <td>30</td>\n",
       "      <td>10</td>\n",
       "      <td>0</td>\n",
       "      <td>0</td>\n",
       "      <td>1</td>\n",
       "    </tr>\n",
       "    <tr>\n",
       "      <th>4</th>\n",
       "      <td>1.0</td>\n",
       "      <td>36</td>\n",
       "      <td>6</td>\n",
       "      <td>0</td>\n",
       "      <td>0</td>\n",
       "      <td>1</td>\n",
       "    </tr>\n",
       "    <tr>\n",
       "      <th>5</th>\n",
       "      <td>1.0</td>\n",
       "      <td>51</td>\n",
       "      <td>1</td>\n",
       "      <td>0</td>\n",
       "      <td>1</td>\n",
       "      <td>0</td>\n",
       "    </tr>\n",
       "    <tr>\n",
       "      <th>6</th>\n",
       "      <td>1.0</td>\n",
       "      <td>55</td>\n",
       "      <td>5</td>\n",
       "      <td>0</td>\n",
       "      <td>0</td>\n",
       "      <td>0</td>\n",
       "    </tr>\n",
       "    <tr>\n",
       "      <th>7</th>\n",
       "      <td>1.0</td>\n",
       "      <td>62</td>\n",
       "      <td>2</td>\n",
       "      <td>1</td>\n",
       "      <td>0</td>\n",
       "      <td>0</td>\n",
       "    </tr>\n",
       "    <tr>\n",
       "      <th>8</th>\n",
       "      <td>1.0</td>\n",
       "      <td>83</td>\n",
       "      <td>5</td>\n",
       "      <td>1</td>\n",
       "      <td>0</td>\n",
       "      <td>0</td>\n",
       "    </tr>\n",
       "    <tr>\n",
       "      <th>9</th>\n",
       "      <td>1.0</td>\n",
       "      <td>103</td>\n",
       "      <td>23</td>\n",
       "      <td>0</td>\n",
       "      <td>0</td>\n",
       "      <td>1</td>\n",
       "    </tr>\n",
       "  </tbody>\n",
       "</table>\n",
       "</div>"
      ],
      "text/plain": [
       "   const  space  age  facing_direction_North  facing_direction_South  \\\n",
       "0    1.0     20    3                       0                       1   \n",
       "1    1.0     25   13                       0                       1   \n",
       "2    1.0     28   18                       1                       0   \n",
       "3    1.0     30   10                       0                       0   \n",
       "4    1.0     36    6                       0                       0   \n",
       "5    1.0     51    1                       0                       1   \n",
       "6    1.0     55    5                       0                       0   \n",
       "7    1.0     62    2                       1                       0   \n",
       "8    1.0     83    5                       1                       0   \n",
       "9    1.0    103   23                       0                       0   \n",
       "\n",
       "   facing_direction_West  \n",
       "0                      0  \n",
       "1                      0  \n",
       "2                      0  \n",
       "3                      1  \n",
       "4                      1  \n",
       "5                      0  \n",
       "6                      0  \n",
       "7                      0  \n",
       "8                      0  \n",
       "9                      1  "
      ]
     },
     "execution_count": 16,
     "metadata": {},
     "output_type": "execute_result"
    }
   ],
   "source": [
    "# 質的変数を含めて学習してみる\n",
    "X = df.drop(columns=['rent'])\n",
    "X = sma.add_constant(X)\n",
    "y = df['rent']\n",
    "X"
   ]
  },
  {
   "cell_type": "code",
   "execution_count": 17,
   "id": "aa39250a-7c0d-47f0-aacb-50403e0dcb80",
   "metadata": {},
   "outputs": [
    {
     "name": "stdout",
     "output_type": "stream",
     "text": [
      "                            OLS Regression Results                            \n",
      "==============================================================================\n",
      "Dep. Variable:                   rent   R-squared:                       0.967\n",
      "Model:                            OLS   Adj. R-squared:                  0.925\n",
      "Method:                 Least Squares   F-statistic:                     23.26\n",
      "Date:                Tue, 25 Oct 2022   Prob (F-statistic):            0.00468\n",
      "Time:                        13:10:01   Log-Likelihood:                -17.344\n",
      "No. Observations:                  10   AIC:                             46.69\n",
      "Df Residuals:                       4   BIC:                             48.50\n",
      "Df Model:                           5                                         \n",
      "Covariance Type:            nonrobust                                         \n",
      "==========================================================================================\n",
      "                             coef    std err          t      P>|t|      [0.025      0.975]\n",
      "------------------------------------------------------------------------------------------\n",
      "const                      9.4581      2.732      3.462      0.026       1.873      17.043\n",
      "space                      0.2474      0.030      8.304      0.001       0.165       0.330\n",
      "age                        0.0238      0.111      0.214      0.841      -0.285       0.333\n",
      "facing_direction_North    -1.9763      2.530     -0.781      0.478      -9.001       5.048\n",
      "facing_direction_South    -3.6559      2.599     -1.407      0.232     -10.871       3.559\n",
      "facing_direction_West      1.5928      2.655      0.600      0.581      -5.779       8.965\n",
      "==============================================================================\n",
      "Omnibus:                        3.951   Durbin-Watson:                   1.570\n",
      "Prob(Omnibus):                  0.139   Jarque-Bera (JB):                1.071\n",
      "Skew:                           0.714   Prob(JB):                        0.585\n",
      "Kurtosis:                       3.728   Cond. No.                         380.\n",
      "==============================================================================\n",
      "\n",
      "Notes:\n",
      "[1] Standard Errors assume that the covariance matrix of the errors is correctly specified.\n"
     ]
    },
    {
     "name": "stderr",
     "output_type": "stream",
     "text": [
      "/opt/anaconda3/lib/python3.9/site-packages/scipy/stats/stats.py:1541: UserWarning: kurtosistest only valid for n>=20 ... continuing anyway, n=10\n",
      "  warnings.warn(\"kurtosistest only valid for n>=20 ... continuing \"\n"
     ]
    }
   ],
   "source": [
    "# OLSクラス生成\n",
    "est = sma.OLS(y, X)\n",
    "est_trained = est.fit()\n",
    "\n",
    "# 学習結果のサマリを出力\n",
    "print(est_trained.summary())"
   ]
  },
  {
   "cell_type": "code",
   "execution_count": 18,
   "id": "05027cb8-323d-4115-9038-6c94acf4826f",
   "metadata": {},
   "outputs": [
    {
     "data": {
      "text/plain": [
       "<seaborn.axisgrid.PairGrid at 0x7f7e46427460>"
      ]
     },
     "execution_count": 18,
     "metadata": {},
     "output_type": "execute_result"
    },
    {
     "data": {
      "image/png": "[encoded data removed]",
      "text/plain": [
       "<Figure size 1080x1080 with 42 Axes>"
      ]
     },
     "metadata": {
      "needs_background": "light"
     },
     "output_type": "display_data"
    }
   ],
   "source": [
    "sns.pairplot(df)"
   ]
  },
  {
   "cell_type": "markdown",
   "id": "faf10f32-9d0c-4a3a-aee4-bea0debccf7b",
   "metadata": {},
   "source": [
    "サンプルデータみると、方角はあまり家賃と関係なさそう。"
   ]
  },
  {
   "cell_type": "markdown",
   "id": "148d056a-b619-4442-badf-93433e063d94",
   "metadata": {},
   "source": [
    "## ○ hold-outでデータを分割して線形回帰を学習＆評価する  \n",
    "* hold-out（データ分割）\n",
    "    * sklearn.model_selecLon.train_test_split関数を使う\n",
    "    * train_test_split(X, y)\n",
    "    * X, yを引数にして渡すと，それぞれの学習データとテストデータを返す\n",
    "    * test_size引数にテストデータの割合を指定する(デフォルトでは0.25(25%))\n",
    "    * X_train, X_test, y_train, y_test = tran_test_split(X, y)のように受け取るのが通例\n",
    "* MSE（評価）\n",
    "    * sklearn.metrics.mean_squared_error\n",
    "    * mean_squared_error(y_true, y_pred)のように正解値と予測値のリストを渡す"
   ]
  },
  {
   "cell_type": "code",
   "execution_count": 21,
   "id": "f70557e7-0d70-405f-a354-5449b2545c26",
   "metadata": {},
   "outputs": [
    {
     "data": {
      "text/html": [
       "<div>\n",
       "<style scoped>\n",
       "    .dataframe tbody tr th:only-of-type {\n",
       "        vertical-align: middle;\n",
       "    }\n",
       "\n",
       "    .dataframe tbody tr th {\n",
       "        vertical-align: top;\n",
       "    }\n",
       "\n",
       "    .dataframe thead th {\n",
       "        text-align: right;\n",
       "    }\n",
       "</style>\n",
       "<table border=\"1\" class=\"dataframe\">\n",
       "  <thead>\n",
       "    <tr style=\"text-align: right;\">\n",
       "      <th></th>\n",
       "      <th>total_bill</th>\n",
       "      <th>tip</th>\n",
       "      <th>sex</th>\n",
       "      <th>smoker</th>\n",
       "      <th>day</th>\n",
       "      <th>time</th>\n",
       "      <th>size</th>\n",
       "    </tr>\n",
       "  </thead>\n",
       "  <tbody>\n",
       "    <tr>\n",
       "      <th>0</th>\n",
       "      <td>16.99</td>\n",
       "      <td>1.01</td>\n",
       "      <td>Female</td>\n",
       "      <td>No</td>\n",
       "      <td>Sun</td>\n",
       "      <td>Dinner</td>\n",
       "      <td>2</td>\n",
       "    </tr>\n",
       "    <tr>\n",
       "      <th>1</th>\n",
       "      <td>10.34</td>\n",
       "      <td>1.66</td>\n",
       "      <td>Male</td>\n",
       "      <td>No</td>\n",
       "      <td>Sun</td>\n",
       "      <td>Dinner</td>\n",
       "      <td>3</td>\n",
       "    </tr>\n",
       "    <tr>\n",
       "      <th>2</th>\n",
       "      <td>21.01</td>\n",
       "      <td>3.50</td>\n",
       "      <td>Male</td>\n",
       "      <td>No</td>\n",
       "      <td>Sun</td>\n",
       "      <td>Dinner</td>\n",
       "      <td>3</td>\n",
       "    </tr>\n",
       "    <tr>\n",
       "      <th>3</th>\n",
       "      <td>23.68</td>\n",
       "      <td>3.31</td>\n",
       "      <td>Male</td>\n",
       "      <td>No</td>\n",
       "      <td>Sun</td>\n",
       "      <td>Dinner</td>\n",
       "      <td>2</td>\n",
       "    </tr>\n",
       "    <tr>\n",
       "      <th>4</th>\n",
       "      <td>24.59</td>\n",
       "      <td>3.61</td>\n",
       "      <td>Female</td>\n",
       "      <td>No</td>\n",
       "      <td>Sun</td>\n",
       "      <td>Dinner</td>\n",
       "      <td>4</td>\n",
       "    </tr>\n",
       "    <tr>\n",
       "      <th>...</th>\n",
       "      <td>...</td>\n",
       "      <td>...</td>\n",
       "      <td>...</td>\n",
       "      <td>...</td>\n",
       "      <td>...</td>\n",
       "      <td>...</td>\n",
       "      <td>...</td>\n",
       "    </tr>\n",
       "    <tr>\n",
       "      <th>239</th>\n",
       "      <td>29.03</td>\n",
       "      <td>5.92</td>\n",
       "      <td>Male</td>\n",
       "      <td>No</td>\n",
       "      <td>Sat</td>\n",
       "      <td>Dinner</td>\n",
       "      <td>3</td>\n",
       "    </tr>\n",
       "    <tr>\n",
       "      <th>240</th>\n",
       "      <td>27.18</td>\n",
       "      <td>2.00</td>\n",
       "      <td>Female</td>\n",
       "      <td>Yes</td>\n",
       "      <td>Sat</td>\n",
       "      <td>Dinner</td>\n",
       "      <td>2</td>\n",
       "    </tr>\n",
       "    <tr>\n",
       "      <th>241</th>\n",
       "      <td>22.67</td>\n",
       "      <td>2.00</td>\n",
       "      <td>Male</td>\n",
       "      <td>Yes</td>\n",
       "      <td>Sat</td>\n",
       "      <td>Dinner</td>\n",
       "      <td>2</td>\n",
       "    </tr>\n",
       "    <tr>\n",
       "      <th>242</th>\n",
       "      <td>17.82</td>\n",
       "      <td>1.75</td>\n",
       "      <td>Male</td>\n",
       "      <td>No</td>\n",
       "      <td>Sat</td>\n",
       "      <td>Dinner</td>\n",
       "      <td>2</td>\n",
       "    </tr>\n",
       "    <tr>\n",
       "      <th>243</th>\n",
       "      <td>18.78</td>\n",
       "      <td>3.00</td>\n",
       "      <td>Female</td>\n",
       "      <td>No</td>\n",
       "      <td>Thur</td>\n",
       "      <td>Dinner</td>\n",
       "      <td>2</td>\n",
       "    </tr>\n",
       "  </tbody>\n",
       "</table>\n",
       "<p>244 rows × 7 columns</p>\n",
       "</div>"
      ],
      "text/plain": [
       "     total_bill   tip     sex smoker   day    time  size\n",
       "0         16.99  1.01  Female     No   Sun  Dinner     2\n",
       "1         10.34  1.66    Male     No   Sun  Dinner     3\n",
       "2         21.01  3.50    Male     No   Sun  Dinner     3\n",
       "3         23.68  3.31    Male     No   Sun  Dinner     2\n",
       "4         24.59  3.61  Female     No   Sun  Dinner     4\n",
       "..          ...   ...     ...    ...   ...     ...   ...\n",
       "239       29.03  5.92    Male     No   Sat  Dinner     3\n",
       "240       27.18  2.00  Female    Yes   Sat  Dinner     2\n",
       "241       22.67  2.00    Male    Yes   Sat  Dinner     2\n",
       "242       17.82  1.75    Male     No   Sat  Dinner     2\n",
       "243       18.78  3.00  Female     No  Thur  Dinner     2\n",
       "\n",
       "[244 rows x 7 columns]"
      ]
     },
     "execution_count": 21,
     "metadata": {},
     "output_type": "execute_result"
    }
   ],
   "source": [
    "# seabornのデータセットを使う\n",
    "# あるレストランでのtip額を予測するモデルを作る\n",
    "df = sns.load_dataset('tips')\n",
    "df"
   ]
  },
  {
   "cell_type": "code",
   "execution_count": 41,
   "id": "e6111249-dcd8-4bab-85f6-7bcea814bbab",
   "metadata": {},
   "outputs": [
    {
     "data": {
      "text/plain": [
       "['total_bill', 'size']"
      ]
     },
     "execution_count": 41,
     "metadata": {},
     "output_type": "execute_result"
    }
   ],
   "source": [
    "# tipを目的変数とする\n",
    "y_col = 'tip'\n",
    "X = df.drop(columns=[y_col])\n",
    "y = df[y_col]\n",
    "\n",
    "# 標準化のために量的変数のカラムだけ抽出。質的変数は基本的に標準化しない。\n",
    "# 下記のようにすると、dfの中でnumpyの数字のデータ型になっているカラム名のみリストで抽出できる。\n",
    "# 学習データとテストデータを分ける必要があるので、この段階ではまだ標準化しないことに注意！！\n",
    "numeric_cols = X.select_dtypes(include=np.number).columns.to_list()\n",
    "numeric_cols"
   ]
  },
  {
   "cell_type": "code",
   "execution_count": 42,
   "id": "6fe6b0c2-2c75-43c8-8a78-f205dbf47419",
   "metadata": {},
   "outputs": [
    {
     "data": {
      "text/plain": [
       "total_bill     float64\n",
       "sex           category\n",
       "smoker        category\n",
       "day           category\n",
       "time          category\n",
       "size             int64\n",
       "dtype: object"
      ]
     },
     "execution_count": 42,
     "metadata": {},
     "output_type": "execute_result"
    }
   ],
   "source": [
    "# 下記のようにすれば量的変数と質的変数が概ねわかる\n",
    "X.dtypes"
   ]
  },
  {
   "cell_type": "code",
   "execution_count": 43,
   "id": "ed7d4516-fab3-46af-98d2-0ffc69efcbc8",
   "metadata": {},
   "outputs": [
    {
     "data": {
      "text/html": [
       "<div>\n",
       "<style scoped>\n",
       "    .dataframe tbody tr th:only-of-type {\n",
       "        vertical-align: middle;\n",
       "    }\n",
       "\n",
       "    .dataframe tbody tr th {\n",
       "        vertical-align: top;\n",
       "    }\n",
       "\n",
       "    .dataframe thead th {\n",
       "        text-align: right;\n",
       "    }\n",
       "</style>\n",
       "<table border=\"1\" class=\"dataframe\">\n",
       "  <thead>\n",
       "    <tr style=\"text-align: right;\">\n",
       "      <th></th>\n",
       "      <th>total_bill</th>\n",
       "      <th>size</th>\n",
       "      <th>sex_Female</th>\n",
       "      <th>smoker_No</th>\n",
       "      <th>day_Fri</th>\n",
       "      <th>day_Sat</th>\n",
       "      <th>day_Sun</th>\n",
       "      <th>time_Dinner</th>\n",
       "    </tr>\n",
       "  </thead>\n",
       "  <tbody>\n",
       "    <tr>\n",
       "      <th>0</th>\n",
       "      <td>16.99</td>\n",
       "      <td>2</td>\n",
       "      <td>1</td>\n",
       "      <td>1</td>\n",
       "      <td>0</td>\n",
       "      <td>0</td>\n",
       "      <td>1</td>\n",
       "      <td>1</td>\n",
       "    </tr>\n",
       "    <tr>\n",
       "      <th>1</th>\n",
       "      <td>10.34</td>\n",
       "      <td>3</td>\n",
       "      <td>0</td>\n",
       "      <td>1</td>\n",
       "      <td>0</td>\n",
       "      <td>0</td>\n",
       "      <td>1</td>\n",
       "      <td>1</td>\n",
       "    </tr>\n",
       "    <tr>\n",
       "      <th>2</th>\n",
       "      <td>21.01</td>\n",
       "      <td>3</td>\n",
       "      <td>0</td>\n",
       "      <td>1</td>\n",
       "      <td>0</td>\n",
       "      <td>0</td>\n",
       "      <td>1</td>\n",
       "      <td>1</td>\n",
       "    </tr>\n",
       "    <tr>\n",
       "      <th>3</th>\n",
       "      <td>23.68</td>\n",
       "      <td>2</td>\n",
       "      <td>0</td>\n",
       "      <td>1</td>\n",
       "      <td>0</td>\n",
       "      <td>0</td>\n",
       "      <td>1</td>\n",
       "      <td>1</td>\n",
       "    </tr>\n",
       "    <tr>\n",
       "      <th>4</th>\n",
       "      <td>24.59</td>\n",
       "      <td>4</td>\n",
       "      <td>1</td>\n",
       "      <td>1</td>\n",
       "      <td>0</td>\n",
       "      <td>0</td>\n",
       "      <td>1</td>\n",
       "      <td>1</td>\n",
       "    </tr>\n",
       "    <tr>\n",
       "      <th>...</th>\n",
       "      <td>...</td>\n",
       "      <td>...</td>\n",
       "      <td>...</td>\n",
       "      <td>...</td>\n",
       "      <td>...</td>\n",
       "      <td>...</td>\n",
       "      <td>...</td>\n",
       "      <td>...</td>\n",
       "    </tr>\n",
       "    <tr>\n",
       "      <th>239</th>\n",
       "      <td>29.03</td>\n",
       "      <td>3</td>\n",
       "      <td>0</td>\n",
       "      <td>1</td>\n",
       "      <td>0</td>\n",
       "      <td>1</td>\n",
       "      <td>0</td>\n",
       "      <td>1</td>\n",
       "    </tr>\n",
       "    <tr>\n",
       "      <th>240</th>\n",
       "      <td>27.18</td>\n",
       "      <td>2</td>\n",
       "      <td>1</td>\n",
       "      <td>0</td>\n",
       "      <td>0</td>\n",
       "      <td>1</td>\n",
       "      <td>0</td>\n",
       "      <td>1</td>\n",
       "    </tr>\n",
       "    <tr>\n",
       "      <th>241</th>\n",
       "      <td>22.67</td>\n",
       "      <td>2</td>\n",
       "      <td>0</td>\n",
       "      <td>0</td>\n",
       "      <td>0</td>\n",
       "      <td>1</td>\n",
       "      <td>0</td>\n",
       "      <td>1</td>\n",
       "    </tr>\n",
       "    <tr>\n",
       "      <th>242</th>\n",
       "      <td>17.82</td>\n",
       "      <td>2</td>\n",
       "      <td>0</td>\n",
       "      <td>1</td>\n",
       "      <td>0</td>\n",
       "      <td>1</td>\n",
       "      <td>0</td>\n",
       "      <td>1</td>\n",
       "    </tr>\n",
       "    <tr>\n",
       "      <th>243</th>\n",
       "      <td>18.78</td>\n",
       "      <td>2</td>\n",
       "      <td>1</td>\n",
       "      <td>1</td>\n",
       "      <td>0</td>\n",
       "      <td>0</td>\n",
       "      <td>0</td>\n",
       "      <td>1</td>\n",
       "    </tr>\n",
       "  </tbody>\n",
       "</table>\n",
       "<p>244 rows × 8 columns</p>\n",
       "</div>"
      ],
      "text/plain": [
       "     total_bill  size  sex_Female  smoker_No  day_Fri  day_Sat  day_Sun  \\\n",
       "0         16.99     2           1          1        0        0        1   \n",
       "1         10.34     3           0          1        0        0        1   \n",
       "2         21.01     3           0          1        0        0        1   \n",
       "3         23.68     2           0          1        0        0        1   \n",
       "4         24.59     4           1          1        0        0        1   \n",
       "..          ...   ...         ...        ...      ...      ...      ...   \n",
       "239       29.03     3           0          1        0        1        0   \n",
       "240       27.18     2           1          0        0        1        0   \n",
       "241       22.67     2           0          0        0        1        0   \n",
       "242       17.82     2           0          1        0        1        0   \n",
       "243       18.78     2           1          1        0        0        0   \n",
       "\n",
       "     time_Dinner  \n",
       "0              1  \n",
       "1              1  \n",
       "2              1  \n",
       "3              1  \n",
       "4              1  \n",
       "..           ...  \n",
       "239            1  \n",
       "240            1  \n",
       "241            1  \n",
       "242            1  \n",
       "243            1  \n",
       "\n",
       "[244 rows x 8 columns]"
      ]
     },
     "execution_count": 43,
     "metadata": {},
     "output_type": "execute_result"
    }
   ],
   "source": [
    "# 質的変数をエンコーディング＆ダミー変数に分割する\n",
    "X = pd.get_dummies(X, drop_first=True)\n",
    "X"
   ]
  },
  {
   "cell_type": "code",
   "execution_count": 40,
   "id": "f472d267-122d-4da3-9225-0641193e013d",
   "metadata": {},
   "outputs": [
    {
     "data": {
      "text/plain": [
       "total_bill     float64\n",
       "size             int64\n",
       "sex_Female       uint8\n",
       "smoker_No        uint8\n",
       "day_Fri          uint8\n",
       "day_Sat          uint8\n",
       "day_Sun          uint8\n",
       "time_Dinner      uint8\n",
       "dtype: object"
      ]
     },
     "execution_count": 40,
     "metadata": {},
     "output_type": "execute_result"
    }
   ],
   "source": [
    "# one-hotエンコーディングすると、質的変数もintになるので、量的変数の区別を先にやっておくこと\n",
    "X.dtypes"
   ]
  },
  {
   "cell_type": "code",
   "execution_count": 45,
   "id": "562d0c18-9633-42ee-9402-1e5ff3e3c20c",
   "metadata": {},
   "outputs": [],
   "source": [
    "# hold-outで学習データとテストデータを分割。下記のようにアンパッキングして受け取るのが慣例。\n",
    "X_train, X_test, y_train, y_test = train_test_split(X, y, test_size=0.3, random_state=0)"
   ]
  },
  {
   "cell_type": "code",
   "execution_count": 49,
   "id": "0d7bf44e-f579-4e2e-b1c4-d0d24c257c1d",
   "metadata": {},
   "outputs": [
    {
     "data": {
      "text/plain": [
       "170"
      ]
     },
     "execution_count": 49,
     "metadata": {},
     "output_type": "execute_result"
    }
   ],
   "source": [
    "len(X_train)"
   ]
  },
  {
   "cell_type": "code",
   "execution_count": 50,
   "id": "9e480119-a232-466e-b451-eb1ec20543e8",
   "metadata": {},
   "outputs": [
    {
     "data": {
      "text/plain": [
       "74"
      ]
     },
     "execution_count": 50,
     "metadata": {},
     "output_type": "execute_result"
    }
   ],
   "source": [
    "len(X_test)"
   ]
  },
  {
   "cell_type": "code",
   "execution_count": 79,
   "id": "ba8bc683-12c6-427f-ad04-965873206558",
   "metadata": {},
   "outputs": [
    {
     "data": {
      "text/html": [
       "<div>\n",
       "<style scoped>\n",
       "    .dataframe tbody tr th:only-of-type {\n",
       "        vertical-align: middle;\n",
       "    }\n",
       "\n",
       "    .dataframe tbody tr th {\n",
       "        vertical-align: top;\n",
       "    }\n",
       "\n",
       "    .dataframe thead th {\n",
       "        text-align: right;\n",
       "    }\n",
       "</style>\n",
       "<table border=\"1\" class=\"dataframe\">\n",
       "  <thead>\n",
       "    <tr style=\"text-align: right;\">\n",
       "      <th></th>\n",
       "      <th>total_bill</th>\n",
       "      <th>size</th>\n",
       "      <th>sex_Female</th>\n",
       "      <th>smoker_No</th>\n",
       "      <th>day_Fri</th>\n",
       "      <th>day_Sat</th>\n",
       "      <th>day_Sun</th>\n",
       "      <th>time_Dinner</th>\n",
       "    </tr>\n",
       "  </thead>\n",
       "  <tbody>\n",
       "    <tr>\n",
       "      <th>61</th>\n",
       "      <td>-0.682321</td>\n",
       "      <td>-0.616436</td>\n",
       "      <td>0</td>\n",
       "      <td>0</td>\n",
       "      <td>0</td>\n",
       "      <td>1</td>\n",
       "      <td>0</td>\n",
       "      <td>1</td>\n",
       "    </tr>\n",
       "    <tr>\n",
       "      <th>146</th>\n",
       "      <td>-0.152575</td>\n",
       "      <td>0.463915</td>\n",
       "      <td>1</td>\n",
       "      <td>1</td>\n",
       "      <td>0</td>\n",
       "      <td>0</td>\n",
       "      <td>0</td>\n",
       "      <td>0</td>\n",
       "    </tr>\n",
       "    <tr>\n",
       "      <th>52</th>\n",
       "      <td>1.620922</td>\n",
       "      <td>1.544266</td>\n",
       "      <td>1</td>\n",
       "      <td>1</td>\n",
       "      <td>0</td>\n",
       "      <td>0</td>\n",
       "      <td>1</td>\n",
       "      <td>1</td>\n",
       "    </tr>\n",
       "    <tr>\n",
       "      <th>66</th>\n",
       "      <td>-0.392771</td>\n",
       "      <td>-0.616436</td>\n",
       "      <td>1</td>\n",
       "      <td>1</td>\n",
       "      <td>0</td>\n",
       "      <td>1</td>\n",
       "      <td>0</td>\n",
       "      <td>1</td>\n",
       "    </tr>\n",
       "    <tr>\n",
       "      <th>26</th>\n",
       "      <td>-0.730580</td>\n",
       "      <td>-0.616436</td>\n",
       "      <td>0</td>\n",
       "      <td>1</td>\n",
       "      <td>0</td>\n",
       "      <td>1</td>\n",
       "      <td>0</td>\n",
       "      <td>1</td>\n",
       "    </tr>\n",
       "    <tr>\n",
       "      <th>...</th>\n",
       "      <td>...</td>\n",
       "      <td>...</td>\n",
       "      <td>...</td>\n",
       "      <td>...</td>\n",
       "      <td>...</td>\n",
       "      <td>...</td>\n",
       "      <td>...</td>\n",
       "      <td>...</td>\n",
       "    </tr>\n",
       "    <tr>\n",
       "      <th>67</th>\n",
       "      <td>-1.860266</td>\n",
       "      <td>-1.696786</td>\n",
       "      <td>1</td>\n",
       "      <td>0</td>\n",
       "      <td>0</td>\n",
       "      <td>1</td>\n",
       "      <td>0</td>\n",
       "      <td>1</td>\n",
       "    </tr>\n",
       "    <tr>\n",
       "      <th>192</th>\n",
       "      <td>0.922272</td>\n",
       "      <td>-0.616436</td>\n",
       "      <td>0</td>\n",
       "      <td>0</td>\n",
       "      <td>0</td>\n",
       "      <td>0</td>\n",
       "      <td>0</td>\n",
       "      <td>0</td>\n",
       "    </tr>\n",
       "    <tr>\n",
       "      <th>117</th>\n",
       "      <td>-1.028905</td>\n",
       "      <td>-0.616436</td>\n",
       "      <td>1</td>\n",
       "      <td>1</td>\n",
       "      <td>0</td>\n",
       "      <td>0</td>\n",
       "      <td>0</td>\n",
       "      <td>0</td>\n",
       "    </tr>\n",
       "    <tr>\n",
       "      <th>47</th>\n",
       "      <td>1.356598</td>\n",
       "      <td>1.544266</td>\n",
       "      <td>0</td>\n",
       "      <td>1</td>\n",
       "      <td>0</td>\n",
       "      <td>0</td>\n",
       "      <td>1</td>\n",
       "      <td>1</td>\n",
       "    </tr>\n",
       "    <tr>\n",
       "      <th>172</th>\n",
       "      <td>-1.401811</td>\n",
       "      <td>-0.616436</td>\n",
       "      <td>0</td>\n",
       "      <td>0</td>\n",
       "      <td>0</td>\n",
       "      <td>0</td>\n",
       "      <td>1</td>\n",
       "      <td>1</td>\n",
       "    </tr>\n",
       "  </tbody>\n",
       "</table>\n",
       "<p>170 rows × 8 columns</p>\n",
       "</div>"
      ],
      "text/plain": [
       "     total_bill      size  sex_Female  smoker_No  day_Fri  day_Sat  day_Sun  \\\n",
       "61    -0.682321 -0.616436           0          0        0        1        0   \n",
       "146   -0.152575  0.463915           1          1        0        0        0   \n",
       "52     1.620922  1.544266           1          1        0        0        1   \n",
       "66    -0.392771 -0.616436           1          1        0        1        0   \n",
       "26    -0.730580 -0.616436           0          1        0        1        0   \n",
       "..          ...       ...         ...        ...      ...      ...      ...   \n",
       "67    -1.860266 -1.696786           1          0        0        1        0   \n",
       "192    0.922272 -0.616436           0          0        0        0        0   \n",
       "117   -1.028905 -0.616436           1          1        0        0        0   \n",
       "47     1.356598  1.544266           0          1        0        0        1   \n",
       "172   -1.401811 -0.616436           0          0        0        0        1   \n",
       "\n",
       "     time_Dinner  \n",
       "61             1  \n",
       "146            0  \n",
       "52             1  \n",
       "66             1  \n",
       "26             1  \n",
       "..           ...  \n",
       "67             1  \n",
       "192            0  \n",
       "117            0  \n",
       "47             1  \n",
       "172            1  \n",
       "\n",
       "[170 rows x 8 columns]"
      ]
     },
     "execution_count": 79,
     "metadata": {},
     "output_type": "execute_result"
    }
   ],
   "source": [
    "# 学習データを標準化する。必ずhold-outした後の学習データに対して行うこと！でないとテストデータを混ぜて標準化してしまう。  \n",
    "scaler = StandardScaler()\n",
    "# dfを複製しておく\n",
    "X_train_scaled = X_train.copy()\n",
    "# 学習データの量的変数のカラムのみ標準化する\n",
    "X_train_scaled[numeric_cols] = scaler.fit_transform(X_train[numeric_cols])\n",
    "X_train_scaled"
   ]
  },
  {
   "cell_type": "code",
   "execution_count": 80,
   "id": "16f7e67f-03b7-442d-8cc3-226ab7fb1c5f",
   "metadata": {},
   "outputs": [
    {
     "data": {
      "text/html": [
       "<div>\n",
       "<style scoped>\n",
       "    .dataframe tbody tr th:only-of-type {\n",
       "        vertical-align: middle;\n",
       "    }\n",
       "\n",
       "    .dataframe tbody tr th {\n",
       "        vertical-align: top;\n",
       "    }\n",
       "\n",
       "    .dataframe thead th {\n",
       "        text-align: right;\n",
       "    }\n",
       "</style>\n",
       "<table border=\"1\" class=\"dataframe\">\n",
       "  <thead>\n",
       "    <tr style=\"text-align: right;\">\n",
       "      <th></th>\n",
       "      <th>total_bill</th>\n",
       "      <th>size</th>\n",
       "      <th>sex_Female</th>\n",
       "      <th>smoker_No</th>\n",
       "      <th>day_Fri</th>\n",
       "      <th>day_Sat</th>\n",
       "      <th>day_Sun</th>\n",
       "      <th>time_Dinner</th>\n",
       "    </tr>\n",
       "  </thead>\n",
       "  <tbody>\n",
       "    <tr>\n",
       "      <th>64</th>\n",
       "      <td>-0.267738</td>\n",
       "      <td>0.463915</td>\n",
       "      <td>0</td>\n",
       "      <td>1</td>\n",
       "      <td>0</td>\n",
       "      <td>1</td>\n",
       "      <td>0</td>\n",
       "      <td>1</td>\n",
       "    </tr>\n",
       "    <tr>\n",
       "      <th>63</th>\n",
       "      <td>-0.190963</td>\n",
       "      <td>1.544266</td>\n",
       "      <td>0</td>\n",
       "      <td>0</td>\n",
       "      <td>0</td>\n",
       "      <td>1</td>\n",
       "      <td>0</td>\n",
       "      <td>1</td>\n",
       "    </tr>\n",
       "    <tr>\n",
       "      <th>55</th>\n",
       "      <td>-0.059349</td>\n",
       "      <td>-0.616436</td>\n",
       "      <td>0</td>\n",
       "      <td>1</td>\n",
       "      <td>0</td>\n",
       "      <td>0</td>\n",
       "      <td>1</td>\n",
       "      <td>1</td>\n",
       "    </tr>\n",
       "    <tr>\n",
       "      <th>111</th>\n",
       "      <td>-1.401811</td>\n",
       "      <td>-1.696786</td>\n",
       "      <td>1</td>\n",
       "      <td>1</td>\n",
       "      <td>0</td>\n",
       "      <td>1</td>\n",
       "      <td>0</td>\n",
       "      <td>1</td>\n",
       "    </tr>\n",
       "    <tr>\n",
       "      <th>225</th>\n",
       "      <td>-0.412513</td>\n",
       "      <td>-0.616436</td>\n",
       "      <td>1</td>\n",
       "      <td>0</td>\n",
       "      <td>1</td>\n",
       "      <td>0</td>\n",
       "      <td>0</td>\n",
       "      <td>0</td>\n",
       "    </tr>\n",
       "    <tr>\n",
       "      <th>...</th>\n",
       "      <td>...</td>\n",
       "      <td>...</td>\n",
       "      <td>...</td>\n",
       "      <td>...</td>\n",
       "      <td>...</td>\n",
       "      <td>...</td>\n",
       "      <td>...</td>\n",
       "      <td>...</td>\n",
       "    </tr>\n",
       "    <tr>\n",
       "      <th>90</th>\n",
       "      <td>0.980401</td>\n",
       "      <td>-0.616436</td>\n",
       "      <td>0</td>\n",
       "      <td>0</td>\n",
       "      <td>1</td>\n",
       "      <td>0</td>\n",
       "      <td>0</td>\n",
       "      <td>1</td>\n",
       "    </tr>\n",
       "    <tr>\n",
       "      <th>101</th>\n",
       "      <td>-0.510127</td>\n",
       "      <td>-0.616436</td>\n",
       "      <td>1</td>\n",
       "      <td>0</td>\n",
       "      <td>1</td>\n",
       "      <td>0</td>\n",
       "      <td>0</td>\n",
       "      <td>1</td>\n",
       "    </tr>\n",
       "    <tr>\n",
       "      <th>75</th>\n",
       "      <td>-1.044260</td>\n",
       "      <td>-0.616436</td>\n",
       "      <td>0</td>\n",
       "      <td>1</td>\n",
       "      <td>0</td>\n",
       "      <td>1</td>\n",
       "      <td>0</td>\n",
       "      <td>1</td>\n",
       "    </tr>\n",
       "    <tr>\n",
       "      <th>4</th>\n",
       "      <td>0.500010</td>\n",
       "      <td>1.544266</td>\n",
       "      <td>1</td>\n",
       "      <td>1</td>\n",
       "      <td>0</td>\n",
       "      <td>0</td>\n",
       "      <td>1</td>\n",
       "      <td>1</td>\n",
       "    </tr>\n",
       "    <tr>\n",
       "      <th>109</th>\n",
       "      <td>-0.627482</td>\n",
       "      <td>-0.616436</td>\n",
       "      <td>1</td>\n",
       "      <td>0</td>\n",
       "      <td>0</td>\n",
       "      <td>1</td>\n",
       "      <td>0</td>\n",
       "      <td>1</td>\n",
       "    </tr>\n",
       "  </tbody>\n",
       "</table>\n",
       "<p>74 rows × 8 columns</p>\n",
       "</div>"
      ],
      "text/plain": [
       "     total_bill      size  sex_Female  smoker_No  day_Fri  day_Sat  day_Sun  \\\n",
       "64    -0.267738  0.463915           0          1        0        1        0   \n",
       "63    -0.190963  1.544266           0          0        0        1        0   \n",
       "55    -0.059349 -0.616436           0          1        0        0        1   \n",
       "111   -1.401811 -1.696786           1          1        0        1        0   \n",
       "225   -0.412513 -0.616436           1          0        1        0        0   \n",
       "..          ...       ...         ...        ...      ...      ...      ...   \n",
       "90     0.980401 -0.616436           0          0        1        0        0   \n",
       "101   -0.510127 -0.616436           1          0        1        0        0   \n",
       "75    -1.044260 -0.616436           0          1        0        1        0   \n",
       "4      0.500010  1.544266           1          1        0        0        1   \n",
       "109   -0.627482 -0.616436           1          0        0        1        0   \n",
       "\n",
       "     time_Dinner  \n",
       "64             1  \n",
       "63             1  \n",
       "55             1  \n",
       "111            1  \n",
       "225            0  \n",
       "..           ...  \n",
       "90             1  \n",
       "101            1  \n",
       "75             1  \n",
       "4              1  \n",
       "109            1  \n",
       "\n",
       "[74 rows x 8 columns]"
      ]
     },
     "execution_count": 80,
     "metadata": {},
     "output_type": "execute_result"
    }
   ],
   "source": [
    "# テストデータも標準化する\n",
    "X_test_scaled = X_test.copy()\n",
    "# テストデータの量的変数のカラムのみ標準化する\n",
    "# .fit（標準化用の平均、標準偏差を求める）は上記学習データでやっているので、.transformのみ.\n",
    "# テストデータで.fitをするのは誤りなので注意。\n",
    "X_test_scaled[numeric_cols] = scaler.transform(X_test[numeric_cols])\n",
    "X_test_scaled"
   ]
  },
  {
   "cell_type": "code",
   "execution_count": 81,
   "id": "ad3ff6b3-9fad-4d38-b7ce-3453bf969755",
   "metadata": {},
   "outputs": [
    {
     "data": {
      "text/plain": [
       "total_bill    -0.088666\n",
       "size          -0.003263\n",
       "sex_Female     0.445946\n",
       "smoker_No      0.527027\n",
       "day_Fri        0.135135\n",
       "day_Sat        0.351351\n",
       "day_Sun        0.324324\n",
       "time_Dinner    0.756757\n",
       "dtype: float64"
      ]
     },
     "execution_count": 81,
     "metadata": {},
     "output_type": "execute_result"
    }
   ],
   "source": [
    "# テストデータの標準化結果は平均値0、標準偏差1にならないことに注意。\n",
    "# これは、学習データの平均と標準偏差を使用して標準化の式に当てはめているため。\n",
    "X_test_scaled.mean()"
   ]
  },
  {
   "cell_type": "code",
   "execution_count": 82,
   "id": "b1aca090-adaa-498b-ac60-2889c67933df",
   "metadata": {},
   "outputs": [
    {
     "data": {
      "text/plain": [
       "total_bill     0.916074\n",
       "size           1.088917\n",
       "sex_Female     0.500463\n",
       "smoker_No      0.502677\n",
       "day_Fri        0.344201\n",
       "day_Sat        0.480651\n",
       "day_Sun        0.471317\n",
       "time_Dinner    0.431969\n",
       "dtype: float64"
      ]
     },
     "execution_count": 82,
     "metadata": {},
     "output_type": "execute_result"
    }
   ],
   "source": [
    "X_test_scaled.std()"
   ]
  },
  {
   "cell_type": "code",
   "execution_count": 83,
   "id": "dec9ba67-56f0-4fe0-8435-a2d3d4644b26",
   "metadata": {},
   "outputs": [
    {
     "data": {
      "text/html": [
       "<style>#sk-container-id-4 {color: black;background-color: white;}#sk-container-id-4 pre{padding: 0;}#sk-container-id-4 div.sk-toggleable {background-color: white;}#sk-container-id-4 label.sk-toggleable__label {cursor: pointer;display: block;width: 100%;margin-bottom: 0;padding: 0.3em;box-sizing: border-box;text-align: center;}#sk-container-id-4 label.sk-toggleable__label-arrow:before {content: \"▸\";float: left;margin-right: 0.25em;color: #696969;}#sk-container-id-4 label.sk-toggleable__label-arrow:hover:before {color: black;}#sk-container-id-4 div.sk-estimator:hover label.sk-toggleable__label-arrow:before {color: black;}#sk-container-id-4 div.sk-toggleable__content {max-height: 0;max-width: 0;overflow: hidden;text-align: left;background-color: #f0f8ff;}#sk-container-id-4 div.sk-toggleable__content pre {margin: 0.2em;color: black;border-radius: 0.25em;background-color: #f0f8ff;}#sk-container-id-4 input.sk-toggleable__control:checked~div.sk-toggleable__content {max-height: 200px;max-width: 100%;overflow: auto;}#sk-container-id-4 input.sk-toggleable__control:checked~label.sk-toggleable__label-arrow:before {content: \"▾\";}#sk-container-id-4 div.sk-estimator input.sk-toggleable__control:checked~label.sk-toggleable__label {background-color: #d4ebff;}#sk-container-id-4 div.sk-label input.sk-toggleable__control:checked~label.sk-toggleable__label {background-color: #d4ebff;}#sk-container-id-4 input.sk-hidden--visually {border: 0;clip: rect(1px 1px 1px 1px);clip: rect(1px, 1px, 1px, 1px);height: 1px;margin: -1px;overflow: hidden;padding: 0;position: absolute;width: 1px;}#sk-container-id-4 div.sk-estimator {font-family: monospace;background-color: #f0f8ff;border: 1px dotted black;border-radius: 0.25em;box-sizing: border-box;margin-bottom: 0.5em;}#sk-container-id-4 div.sk-estimator:hover {background-color: #d4ebff;}#sk-container-id-4 div.sk-parallel-item::after {content: \"\";width: 100%;border-bottom: 1px solid gray;flex-grow: 1;}#sk-container-id-4 div.sk-label:hover label.sk-toggleable__label {background-color: #d4ebff;}#sk-container-id-4 div.sk-serial::before {content: \"\";position: absolute;border-left: 1px solid gray;box-sizing: border-box;top: 0;bottom: 0;left: 50%;z-index: 0;}#sk-container-id-4 div.sk-serial {display: flex;flex-direction: column;align-items: center;background-color: white;padding-right: 0.2em;padding-left: 0.2em;position: relative;}#sk-container-id-4 div.sk-item {position: relative;z-index: 1;}#sk-container-id-4 div.sk-parallel {display: flex;align-items: stretch;justify-content: center;background-color: white;position: relative;}#sk-container-id-4 div.sk-item::before, #sk-container-id-4 div.sk-parallel-item::before {content: \"\";position: absolute;border-left: 1px solid gray;box-sizing: border-box;top: 0;bottom: 0;left: 50%;z-index: -1;}#sk-container-id-4 div.sk-parallel-item {display: flex;flex-direction: column;z-index: 1;position: relative;background-color: white;}#sk-container-id-4 div.sk-parallel-item:first-child::after {align-self: flex-end;width: 50%;}#sk-container-id-4 div.sk-parallel-item:last-child::after {align-self: flex-start;width: 50%;}#sk-container-id-4 div.sk-parallel-item:only-child::after {width: 0;}#sk-container-id-4 div.sk-dashed-wrapped {border: 1px dashed gray;margin: 0 0.4em 0.5em 0.4em;box-sizing: border-box;padding-bottom: 0.4em;background-color: white;}#sk-container-id-4 div.sk-label label {font-family: monospace;font-weight: bold;display: inline-block;line-height: 1.2em;}#sk-container-id-4 div.sk-label-container {text-align: center;}#sk-container-id-4 div.sk-container {/* jupyter's `normalize.less` sets `[hidden] { display: none; }` but bootstrap.min.css set `[hidden] { display: none !important; }` so we also need the `!important` here to be able to override the default hidden behavior on the sphinx rendered scikit-learn.org. See: https://github.com/scikit-learn/scikit-learn/issues/21755 */display: inline-block !important;position: relative;}#sk-container-id-4 div.sk-text-repr-fallback {display: none;}</style><div id=\"sk-container-id-4\" class=\"sk-top-container\"><div class=\"sk-text-repr-fallback\"><pre>LinearRegression()</pre><b>In a Jupyter environment, please rerun this cell to show the HTML representation or trust the notebook. <br />On GitHub, the HTML representation is unable to render, please try loading this page with nbviewer.org.</b></div><div class=\"sk-container\" hidden><div class=\"sk-item\"><div class=\"sk-estimator sk-toggleable\"><input class=\"sk-toggleable__control sk-hidden--visually\" id=\"sk-estimator-id-4\" type=\"checkbox\" checked><label for=\"sk-estimator-id-4\" class=\"sk-toggleable__label sk-toggleable__label-arrow\">LinearRegression</label><div class=\"sk-toggleable__content\"><pre>LinearRegression()</pre></div></div></div></div></div>"
      ],
      "text/plain": [
       "LinearRegression()"
      ]
     },
     "execution_count": 83,
     "metadata": {},
     "output_type": "execute_result"
    }
   ],
   "source": [
    "# 線形回帰モデル学習\n",
    "model = LinearRegression()\n",
    "model.fit(X_train_scaled, y_train)"
   ]
  },
  {
   "cell_type": "code",
   "execution_count": 84,
   "id": "a423ae31-a724-42ea-9d26-ac37c37bcded",
   "metadata": {},
   "outputs": [
    {
     "data": {
      "text/plain": [
       "array([2.82249035, 2.97504474, 2.8260184 , 1.38113692, 3.15154584,\n",
       "       1.72121268, 2.48332645, 3.03579004, 2.75176346, 4.52560955,\n",
       "       3.1133346 , 3.14781575, 2.33198109, 2.11518372, 2.93262778,\n",
       "       4.27846609, 1.83157994, 2.26626275, 2.31085596, 3.24382161,\n",
       "       3.81889336, 2.85616455, 2.42949782, 2.42039736, 2.20253234,\n",
       "       2.42509643, 2.81777778, 4.70274951, 3.81268552, 2.38673795,\n",
       "       2.29194112, 2.20803273, 2.45503466, 1.7743294 , 2.71663745,\n",
       "       2.22913684, 2.72146912, 2.01205852, 5.85346207, 3.49435578,\n",
       "       2.26246168, 2.20347519, 2.50905642, 4.41646769, 1.97212663,\n",
       "       2.78445294, 2.65274212, 3.01652357, 2.73423023, 3.95761528,\n",
       "       3.9498931 , 2.53992971, 2.71758399, 6.35620823, 1.7434279 ,\n",
       "       2.33450139, 4.23562521, 3.29319236, 2.41114285, 2.20345847,\n",
       "       3.72455103, 2.29099827, 3.04008335, 3.74539008, 4.01431996,\n",
       "       2.26547605, 2.66047323, 3.84238482, 2.17921165, 3.87859588,\n",
       "       2.59899485, 1.94814647, 3.70801825, 2.11341037])"
      ]
     },
     "execution_count": 84,
     "metadata": {},
     "output_type": "execute_result"
    }
   ],
   "source": [
    "# 学習したモデルを使って、未知のデータ（テストデータ）の予測値を推測\n",
    "y_pred = model.predict(X_test_scaled)\n",
    "y_pred"
   ]
  },
  {
   "cell_type": "code",
   "execution_count": 94,
   "id": "075673f7-f2b7-4c9b-95b8-645099e1bf13",
   "metadata": {},
   "outputs": [
    {
     "data": {
      "text/plain": [
       "64     2.64\n",
       "63     3.76\n",
       "55     3.51\n",
       "111    1.00\n",
       "225    2.50\n",
       "       ... \n",
       "90     3.00\n",
       "101    3.00\n",
       "75     1.25\n",
       "4      3.61\n",
       "109    4.00\n",
       "Name: tip, Length: 74, dtype: float64"
      ]
     },
     "execution_count": 94,
     "metadata": {},
     "output_type": "execute_result"
    }
   ],
   "source": [
    "# 正解のy\n",
    "y_test"
   ]
  },
  {
   "cell_type": "code",
   "execution_count": 88,
   "id": "bf53800f-d26a-4ddd-8e1c-f5089c32a9f8",
   "metadata": {},
   "outputs": [
    {
     "data": {
      "text/plain": [
       "0.955080898861715"
      ]
     },
     "execution_count": 88,
     "metadata": {},
     "output_type": "execute_result"
    }
   ],
   "source": [
    "# MSEでテストデータに対するモデルの精度を評価\n",
    "mean_squared_error(y_test, y_pred)"
   ]
  },
  {
   "cell_type": "code",
   "execution_count": 87,
   "id": "39539dc2-db17-42d6-923d-2477407eaeb1",
   "metadata": {},
   "outputs": [
    {
     "data": {
      "text/plain": [
       "0.9550808988617153"
      ]
     },
     "execution_count": 87,
     "metadata": {},
     "output_type": "execute_result"
    }
   ],
   "source": [
    "# 検算\n",
    "np.mean(np.square(y_test - y_pred))"
   ]
  },
  {
   "cell_type": "markdown",
   "id": "a9503162-5f4d-4168-be7d-4c7543a468f0",
   "metadata": {},
   "source": [
    "## ○ LOOCVで線形回帰を学習＆評価する\n",
    "LOO（学習データとテストデータを全パターンで分割）とCV（学習、精度評価）はクラスが分かれている。  \n",
    "* LOO\n",
    "    * sklearn.model_selecLon.LeaveOneOut\n",
    "        1. インスタンス生成\n",
    "        2. .split(X)メソッドでイテレーション\n",
    "            * train_indexとtest_indexを生成  \n",
    "* Cross ValidaLon  \n",
    "    * sklearn.model_selecLon.cross_val_score\n",
    "    * cross_val_score(model, X, y, cv=cv)で交差検証(CV)\n",
    "        * cv引数にはLeaveOneOutなどのcvオブジェクトを渡す\n",
    "        * n_jobsには使用するCPUのコア数を指定する\n",
    "        * scoringには評価指標を指定"
   ]
  },
  {
   "cell_type": "code",
   "execution_count": 123,
   "id": "8d46639f-991e-43bf-a83e-c96fe6a3a586",
   "metadata": {},
   "outputs": [],
   "source": [
    "# total_billからtipを予測する\n",
    "# Seriesではなく２次元配列である必要あり。\n",
    "X = df['total_bill'].values.reshape(-1, 1)\n",
    "y = df['tip']"
   ]
  },
  {
   "cell_type": "code",
   "execution_count": 124,
   "id": "b46d21cf-6d18-48b3-8766-566a8c46eccf",
   "metadata": {},
   "outputs": [
    {
     "data": {
      "text/plain": [
       "(244, 1)"
      ]
     },
     "execution_count": 124,
     "metadata": {},
     "output_type": "execute_result"
    }
   ],
   "source": [
    "X.shape"
   ]
  },
  {
   "cell_type": "code",
   "execution_count": 137,
   "id": "6b5a0330-0c25-411a-b5e8-59490da7c9c4",
   "metadata": {},
   "outputs": [
    {
     "data": {
      "text/plain": [
       "(array([  1,   2,   3,   4,   5,   6,   7,   8,   9,  10,  11,  12,  13,\n",
       "         14,  15,  16,  17,  18,  19,  20,  21,  22,  23,  24,  25,  26,\n",
       "         27,  28,  29,  30,  31,  32,  33,  34,  35,  36,  37,  38,  39,\n",
       "         40,  41,  42,  43,  44,  45,  46,  47,  48,  49,  50,  51,  52,\n",
       "         53,  54,  55,  56,  57,  58,  59,  60,  61,  62,  63,  64,  65,\n",
       "         66,  67,  68,  69,  70,  71,  72,  73,  74,  75,  76,  77,  78,\n",
       "         79,  80,  81,  82,  83,  84,  85,  86,  87,  88,  89,  90,  91,\n",
       "         92,  93,  94,  95,  96,  97,  98,  99, 100, 101, 102, 103, 104,\n",
       "        105, 106, 107, 108, 109, 110, 111, 112, 113, 114, 115, 116, 117,\n",
       "        118, 119, 120, 121, 122, 123, 124, 125, 126, 127, 128, 129, 130,\n",
       "        131, 132, 133, 134, 135, 136, 137, 138, 139, 140, 141, 142, 143,\n",
       "        144, 145, 146, 147, 148, 149, 150, 151, 152, 153, 154, 155, 156,\n",
       "        157, 158, 159, 160, 161, 162, 163, 164, 165, 166, 167, 168, 169,\n",
       "        170, 171, 172, 173, 174, 175, 176, 177, 178, 179, 180, 181, 182,\n",
       "        183, 184, 185, 186, 187, 188, 189, 190, 191, 192, 193, 194, 195,\n",
       "        196, 197, 198, 199, 200, 201, 202, 203, 204, 205, 206, 207, 208,\n",
       "        209, 210, 211, 212, 213, 214, 215, 216, 217, 218, 219, 220, 221,\n",
       "        222, 223, 224, 225, 226, 227, 228, 229, 230, 231, 232, 233, 234,\n",
       "        235, 236, 237, 238, 239, 240, 241, 242, 243]),\n",
       " array([0]))"
      ]
     },
     "execution_count": 137,
     "metadata": {},
     "output_type": "execute_result"
    }
   ],
   "source": [
    "# LOOのインスタンス生成\n",
    "loo = LeaveOneOut()\n",
    "# 学習データとテストデータのインデックスの配列を取得\n",
    "# (学習データのインデックス配列,テストデータのインデックス配列)というタプルが全パターン分に対してリストで返される。（正確にはジェネレーター）\n",
    "# ※長くなるので最初のパターンだけ表示\n",
    "list(loo.split(X))[0]"
   ]
  },
  {
   "cell_type": "code",
   "execution_count": 139,
   "id": "827225d8-65ac-4bd5-a854-4b860fe7e169",
   "metadata": {},
   "outputs": [
    {
     "data": {
      "text/plain": [
       "array([10.34, 21.01, 23.68, 24.59, 25.29,  8.77, 26.88, 15.04, 14.78,\n",
       "       10.27, 35.26, 15.42, 18.43, 14.83, 21.58, 10.33, 16.29, 16.97,\n",
       "       20.65, 17.92, 20.29, 15.77, 39.42, 19.82, 17.81, 13.37, 12.69,\n",
       "       21.7 , 19.65,  9.55, 18.35, 15.06, 20.69, 17.78, 24.06, 16.31,\n",
       "       16.93, 18.69, 31.27, 16.04, 17.46, 13.94,  9.68, 30.4 , 18.29,\n",
       "       22.23, 32.4 , 28.55, 18.04, 12.54, 10.29, 34.81,  9.94, 25.56,\n",
       "       19.49, 38.01, 26.41, 11.24, 48.27, 20.29, 13.81, 11.02, 18.29,\n",
       "       17.59, 20.08, 16.45,  3.07, 20.23, 15.01, 12.02, 17.07, 26.86,\n",
       "       25.28, 14.73, 10.51, 17.92, 27.2 , 22.76, 17.29, 19.44, 16.66,\n",
       "       10.07, 32.68, 15.98, 34.83, 13.03, 18.28, 24.71, 21.16, 28.97,\n",
       "       22.49,  5.75, 16.32, 22.75, 40.17, 27.28, 12.03, 21.01, 12.46,\n",
       "       11.35, 15.38, 44.3 , 22.42, 20.92, 15.36, 20.49, 25.21, 18.24,\n",
       "       14.31, 14.  ,  7.25, 38.07, 23.95, 25.71, 17.31, 29.93, 10.65,\n",
       "       12.43, 24.08, 11.69, 13.42, 14.26, 15.95, 12.48, 29.8 ,  8.52,\n",
       "       14.52, 11.38, 22.82, 19.08, 20.27, 11.17, 12.26, 18.26,  8.51,\n",
       "       10.33, 14.15, 16.  , 13.16, 17.47, 34.3 , 41.19, 27.05, 16.43,\n",
       "        8.35, 18.64, 11.87,  9.78,  7.51, 14.07, 13.13, 17.26, 24.55,\n",
       "       19.77, 29.85, 48.17, 25.  , 13.39, 16.49, 21.5 , 12.66, 16.21,\n",
       "       13.81, 17.51, 24.52, 20.76, 31.71, 10.59, 10.63, 50.81, 15.81,\n",
       "        7.25, 31.85, 16.82, 32.9 , 17.89, 14.48,  9.6 , 34.63, 34.65,\n",
       "       23.33, 45.35, 23.17, 40.55, 20.69, 20.9 , 30.46, 18.15, 23.1 ,\n",
       "       15.69, 19.81, 28.44, 15.48, 16.58,  7.56, 10.34, 43.11, 13.  ,\n",
       "       13.51, 18.71, 12.74, 13.  , 16.4 , 20.53, 16.47, 26.59, 38.73,\n",
       "       24.27, 12.76, 30.06, 25.89, 48.33, 13.27, 28.17, 12.9 , 28.15,\n",
       "       11.59,  7.74, 30.14, 12.16, 13.42,  8.58, 15.98, 13.42, 16.27,\n",
       "       10.09, 20.45, 13.28, 22.12, 24.01, 15.69, 11.61, 10.77, 15.53,\n",
       "       10.07, 12.6 , 32.83, 35.83, 29.03, 27.18, 22.67, 17.82, 18.78])"
      ]
     },
     "execution_count": 139,
     "metadata": {},
     "output_type": "execute_result"
    }
   ],
   "source": [
    "# 復習：このようにインデックスの配列でスライシングできる\n",
    "X[list(loo.split(X))[0]]"
   ]
  },
  {
   "cell_type": "code",
   "execution_count": 149,
   "id": "1eeb5367-8ac8-4656-94a9-1f8d2b1df9bd",
   "metadata": {},
   "outputs": [],
   "source": [
    "# 線形回帰モデルを学習\n",
    "model = LinearRegression()\n",
    "mse_list = []\n",
    "\n",
    "# looの結果のインデックスリストから(train_index,test_index)のタプルを取り出していく。\n",
    "# 交差検証をスクラッチで実施してみる。\n",
    "for train_index, test_index in loo.split(X):\n",
    "    X_train, X_test = X[train_index], X[test_index]\n",
    "    y_train, y_test = y[train_index], y[test_index]\n",
    "    \n",
    "    # モデル学習\n",
    "    model.fit(X_train, y_train)\n",
    "    # テストデータの予測\n",
    "    y_pred = model.predict(X_test)\n",
    "    # MSE　※１つのテストデータに対してのみなので、この場合は単なる残差の二乗\n",
    "    mse = mean_squared_error(y_test, y_pred)\n",
    "    mse_list.append(mse)\n"
   ]
  },
  {
   "cell_type": "code",
   "execution_count": 148,
   "id": "7bd60a6c-e9ea-4906-a000-d8f7cc86c3cb",
   "metadata": {},
   "outputs": [
    {
     "data": {
      "text/plain": [
       "1.0675673489857438"
      ]
     },
     "execution_count": 148,
     "metadata": {},
     "output_type": "execute_result"
    }
   ],
   "source": [
    "# 全モデルの残渣の平均を算出（精度）\n",
    "np.mean(mse_list)"
   ]
  },
  {
   "cell_type": "code",
   "execution_count": 160,
   "id": "dfbe30fd-a1a3-4ebe-939d-08378c2d9240",
   "metadata": {},
   "outputs": [],
   "source": [
    "# 上記の交差検証を一発で実施する（実務ではこちらが主流）\n",
    "# modelにはLinearRegressionのインスタンスを入れる\n",
    "# X,yは特にいじらずDataFrameからとってきたままでOK\n",
    "# cvは交差検証方法のインスタンスを指定する。今回はLOOのインスタンス\n",
    "cv = LeaveOneOut()\n",
    "# MSEは高いほど精度が悪いということになるので、neg（負）をつけて正方向に大きいほど精度が高いようにしている\n",
    "# 全モデルに対して交差検証を行い、それぞれのMSEの結果が返ってくる。\n",
    "scores = cross_val_score(model, X, y, cv=cv, scoring='neg_mean_squared_error') \n"
   ]
  },
  {
   "cell_type": "code",
   "execution_count": 159,
   "id": "f5eba6f5-1e55-46bd-a9cb-15b8a20f8897",
   "metadata": {},
   "outputs": [
    {
     "data": {
      "text/plain": [
       "1.0675673489857438"
      ]
     },
     "execution_count": 159,
     "metadata": {},
     "output_type": "execute_result"
    }
   ],
   "source": [
    "# 全モデルの残渣の平均を算出（精度）\n",
    "-np.mean(scores)"
   ]
  },
  {
   "cell_type": "markdown",
   "id": "cd2b29a5-b127-47c8-aea6-487b30e99cd8",
   "metadata": {},
   "source": [
    "スクラッチでの結果と同じになった。"
   ]
  },
  {
   "cell_type": "markdown",
   "id": "080cf7aa-89ce-4dc2-aa0e-26d3172a053c",
   "metadata": {},
   "source": [
    "## ○ k-Fold CV\n",
    "基本的な流れはLOOCVと同様。　\n",
    "* k-Fold CV\n",
    "    * sklearn.model_selecLon.KFold\n",
    "        1. KFold(n_splits=5 , shuffle=True)インスタンス生成\n",
    "            * n_splits引数にkを指定(デフォルトはk=5)\n",
    "            * shuffle引数にTrueを指定すると事前にシャッフルする(デフォルトはFalse)  \n",
    "            (データが昇順で並んだりしている場合に備え、基本はシャッフルした方が良い。)\n",
    "        2. .split(X)メソッドでイテレーション\n",
    "            * train_indexとtest_indexを生成\n",
    "            * cross_val_score()を使って一発で実行可能\n",
    "* Repeated k-Fold CV \n",
    "    * sklearn.model_selecLon.RepeatedKFold\n",
    "    * グループの分割の仕方によって精度にばらつきが出るので、それを防ぐためにk-Fold CVを複数回実施する。\n",
    "    * n_repeats引数に回数を指定する\n",
    "    * 他の使い方はKFoldクラスと同様"
   ]
  },
  {
   "cell_type": "code",
   "execution_count": 166,
   "id": "01b12603-a115-4e4d-95d3-2271148b0101",
   "metadata": {},
   "outputs": [
    {
     "data": {
      "text/plain": [
       "(array([  0,   1,   2,   3,   4,   6,   7,   9,  10,  11,  13,  14,  16,\n",
       "         17,  19,  20,  21,  23,  24,  25,  26,  27,  28,  29,  30,  31,\n",
       "         32,  33,  34,  35,  36,  38,  39,  40,  41,  42,  43,  46,  47,\n",
       "         48,  49,  50,  51,  52,  53,  54,  56,  57,  58,  59,  60,  61,\n",
       "         62,  65,  66,  67,  68,  69,  70,  72,  75,  77,  78,  79,  80,\n",
       "         81,  82,  83,  84,  85,  86,  87,  88,  89,  90,  91,  93,  94,\n",
       "         95,  96,  97,  98,  99, 100, 101, 102, 103, 105, 106, 109, 112,\n",
       "        113, 114, 115, 116, 117, 119, 120, 121, 122, 123, 126, 127, 128,\n",
       "        129, 130, 131, 132, 133, 134, 135, 137, 139, 140, 141, 142, 143,\n",
       "        144, 146, 147, 148, 149, 151, 152, 153, 154, 156, 157, 159, 160,\n",
       "        161, 162, 163, 164, 165, 166, 167, 169, 170, 171, 172, 173, 174,\n",
       "        175, 176, 177, 178, 179, 182, 183, 184, 185, 186, 187, 190, 191,\n",
       "        192, 193, 194, 195, 196, 197, 200, 201, 202, 204, 205, 206, 207,\n",
       "        208, 211, 213, 214, 215, 216, 217, 218, 219, 221, 226, 227, 228,\n",
       "        229, 230, 232, 233, 234, 235, 236, 237, 238, 239, 240, 241, 242]),\n",
       " array([  5,   8,  12,  15,  18,  22,  37,  44,  45,  55,  63,  64,  71,\n",
       "         73,  74,  76,  92, 104, 107, 108, 110, 111, 118, 124, 125, 136,\n",
       "        138, 145, 150, 155, 158, 168, 180, 181, 188, 189, 198, 199, 203,\n",
       "        209, 210, 212, 220, 222, 223, 224, 225, 231, 243]))"
      ]
     },
     "execution_count": 166,
     "metadata": {},
     "output_type": "execute_result"
    }
   ],
   "source": [
    "# KFoldインスタンス生成\n",
    "k = 5\n",
    "cv = KFold(n_splits=k, shuffle=True, random_state=0)\n",
    "# .splitにより学習データグループとテストデータグループのタプルの配列が返される。\n",
    "list(cv.split(X))[0]"
   ]
  },
  {
   "cell_type": "code",
   "execution_count": 167,
   "id": "9c306c6b-74ba-4aef-a8b4-4b74c0b6aaee",
   "metadata": {},
   "outputs": [],
   "source": [
    "# スクラッチで交差検証\n",
    "model = LinearRegression()\n",
    "mse_list = []\n",
    "\n",
    "for train_index, test_index in cv.split(X):\n",
    "    X_train, X_test = X[train_index], X[test_index]\n",
    "    y_train, y_test = y[train_index], y[test_index]\n",
    "    \n",
    "    # モデル学習\n",
    "    model.fit(X_train, y_train)\n",
    "    # テストデータに対する予測値算出\n",
    "    y_pred = model.predict(X_test)\n",
    "    \n",
    "    # MSE ※LOOと違い、予測値・テストデータは複数の値\n",
    "    mse = mean_squared_error(y_test, y_pred)\n",
    "    mse_list.append(mse)"
   ]
  },
  {
   "cell_type": "code",
   "execution_count": 169,
   "id": "39c377d9-0d4a-4c24-91d9-5e0a0dea4057",
   "metadata": {},
   "outputs": [
    {
     "data": {
      "text/plain": [
       "[0.8213090642766285,\n",
       " 1.074584212592797,\n",
       " 1.0880123892600384,\n",
       " 1.3323867714930202,\n",
       " 1.0847630043494736]"
      ]
     },
     "execution_count": 169,
     "metadata": {},
     "output_type": "execute_result"
    }
   ],
   "source": [
    "# ５パターン分の精度指標（mse）を確認\n",
    "mse_list"
   ]
  },
  {
   "cell_type": "code",
   "execution_count": 170,
   "id": "5c8e4f5a-af1c-419f-817c-12cf2b16d95f",
   "metadata": {},
   "outputs": [
    {
     "name": "stdout",
     "output_type": "stream",
     "text": [
      "MSE(5-Fold CV): 1.0802110883943914\n"
     ]
    }
   ],
   "source": [
    "print(f\"MSE({k}-Fold CV): {np.mean(mse_list)}\")"
   ]
  },
  {
   "cell_type": "code",
   "execution_count": 174,
   "id": "1635171c-9ed9-47bc-9e7d-0f8eb6d4e547",
   "metadata": {},
   "outputs": [
    {
     "name": "stdout",
     "output_type": "stream",
     "text": [
      "MSE(5-Fold CV): 1.0802110883943914\n"
     ]
    }
   ],
   "source": [
    "# cross_val_scoreで一発で実施\n",
    "scores = cross_val_score(model, X, y, cv=cv, scoring='neg_mean_squared_error')\n",
    "print(f\"MSE({k}-Fold CV): {-np.mean(scores)}\")"
   ]
  },
  {
   "cell_type": "code",
   "execution_count": 175,
   "id": "911b32a3-6fe9-4adc-9aa3-3373f9856248",
   "metadata": {},
   "outputs": [],
   "source": [
    "# RepeatedKFoldで複数回実施（精度のばらつきを極力排除するため）\n",
    "n_repeats = 3\n",
    "# cvを繰り返す中でシャッフルするので、shuffle=Trueはいらない。\n",
    "cv = RepeatedKFold(n_splits=k, n_repeats=n_repeats, random_state=0)\n",
    "mse_list = []\n",
    "\n",
    "for train_index, test_index in cv.split(X):\n",
    "    X_train, X_test = X[train_index], X[test_index]\n",
    "    y_train, y_test = y[train_index], y[test_index]\n",
    "    \n",
    "    # モデル学習\n",
    "    model.fit(X_train, y_train)\n",
    "    # テストデータに対する予測値算出\n",
    "    y_pred = model.predict(X_test)\n",
    "    \n",
    "    # MSE ※LOOと違い、予測値・テストデータは複数の値\n",
    "    mse = mean_squared_error(y_test, y_pred)\n",
    "    mse_list.append(mse)"
   ]
  },
  {
   "cell_type": "code",
   "execution_count": 179,
   "id": "82a9bfbf-618e-437e-af9b-ac9e5232dbb5",
   "metadata": {},
   "outputs": [
    {
     "data": {
      "text/plain": [
       "[0.8213090642766285,\n",
       " 1.074584212592797,\n",
       " 1.0880123892600384,\n",
       " 1.3323867714930202,\n",
       " 1.0847630043494736,\n",
       " 1.1587839131131423,\n",
       " 1.6042084002514578,\n",
       " 1.0307086207441927,\n",
       " 0.7120290668798743,\n",
       " 0.8472985410140899,\n",
       " 0.8856103319481908,\n",
       " 1.5248521639391936,\n",
       " 0.6332659028150582,\n",
       " 1.2003542002626073,\n",
       " 1.121414266809207]"
      ]
     },
     "execution_count": 179,
     "metadata": {},
     "output_type": "execute_result"
    }
   ],
   "source": [
    "#　5回分割CV × 3セットで計15回分のMSEを計算\n",
    "mse_list"
   ]
  },
  {
   "cell_type": "code",
   "execution_count": 178,
   "id": "266cb2cf-6402-4796-9395-f58f4027f0bd",
   "metadata": {},
   "outputs": [
    {
     "data": {
      "text/plain": [
       "array([-0.82130906, -1.07458421, -1.08801239, -1.33238677, -1.084763  ,\n",
       "       -1.15878391, -1.6042084 , -1.03070862, -0.71202907, -0.84729854,\n",
       "       -0.88561033, -1.52485216, -0.6332659 , -1.2003542 , -1.12141427])"
      ]
     },
     "execution_count": 178,
     "metadata": {},
     "output_type": "execute_result"
    }
   ],
   "source": [
    "# こちらも同様\n",
    "scores = cross_val_score(model, X, y, cv=cv, scoring='neg_mean_squared_error')\n",
    "scores"
   ]
  },
  {
   "cell_type": "markdown",
   "id": "591df04a-f9ed-4101-b168-fccd1d148489",
   "metadata": {},
   "source": [
    "## ○Pipelineでk-Fold CVに標準化を組み込む\n",
    "Pipelineオブジェクトを使うことで，複数の処理をまとめることが可能。  \n",
    "例えば標準化した後にモデル学習＆評価といったことができる。\n",
    "\n",
    "* pipeline\n",
    "    * sklearn.pipeline.Pipeline\n",
    "    * インスタンス生成し，modelオブジェクトやStandardScalerのように.fitや.predictや.transformメソッドを利用できる\n",
    "    * steps引数に処理をリストで指定する\n",
    "        * [(‘処理名1’, クラス()), (‘処理名2’, クラス()), …]の形（タプルのリスト）で記述。\n",
    "            * それぞれのクラスは.fitなどのメソッドを持っている必要がある\n",
    "            * 処理名は任意\n",
    "    * pipelineオブジェクトをmodelオブジェクトのように使用できる\n",
    "        * 例えばcross_val_score()にmodelの代わりにpipelineを入れる"
   ]
  },
  {
   "cell_type": "code",
   "execution_count": 184,
   "id": "88c5777b-5ae3-49ac-ac6f-d288e40430ab",
   "metadata": {},
   "outputs": [],
   "source": [
    "# 標準化の後に線形回帰を実行するインスタンスを生成。\n",
    "pipeline = Pipeline(steps=[('scaler', StandardScaler()), ('model', LinearRegression())])"
   ]
  },
  {
   "cell_type": "code",
   "execution_count": 187,
   "id": "dc2b6eed-9702-4c59-a22e-99d47a7ce2d5",
   "metadata": {},
   "outputs": [
    {
     "data": {
      "text/html": [
       "<style>#sk-container-id-7 {color: black;background-color: white;}#sk-container-id-7 pre{padding: 0;}#sk-container-id-7 div.sk-toggleable {background-color: white;}#sk-container-id-7 label.sk-toggleable__label {cursor: pointer;display: block;width: 100%;margin-bottom: 0;padding: 0.3em;box-sizing: border-box;text-align: center;}#sk-container-id-7 label.sk-toggleable__label-arrow:before {content: \"▸\";float: left;margin-right: 0.25em;color: #696969;}#sk-container-id-7 label.sk-toggleable__label-arrow:hover:before {color: black;}#sk-container-id-7 div.sk-estimator:hover label.sk-toggleable__label-arrow:before {color: black;}#sk-container-id-7 div.sk-toggleable__content {max-height: 0;max-width: 0;overflow: hidden;text-align: left;background-color: #f0f8ff;}#sk-container-id-7 div.sk-toggleable__content pre {margin: 0.2em;color: black;border-radius: 0.25em;background-color: #f0f8ff;}#sk-container-id-7 input.sk-toggleable__control:checked~div.sk-toggleable__content {max-height: 200px;max-width: 100%;overflow: auto;}#sk-container-id-7 input.sk-toggleable__control:checked~label.sk-toggleable__label-arrow:before {content: \"▾\";}#sk-container-id-7 div.sk-estimator input.sk-toggleable__control:checked~label.sk-toggleable__label {background-color: #d4ebff;}#sk-container-id-7 div.sk-label input.sk-toggleable__control:checked~label.sk-toggleable__label {background-color: #d4ebff;}#sk-container-id-7 input.sk-hidden--visually {border: 0;clip: rect(1px 1px 1px 1px);clip: rect(1px, 1px, 1px, 1px);height: 1px;margin: -1px;overflow: hidden;padding: 0;position: absolute;width: 1px;}#sk-container-id-7 div.sk-estimator {font-family: monospace;background-color: #f0f8ff;border: 1px dotted black;border-radius: 0.25em;box-sizing: border-box;margin-bottom: 0.5em;}#sk-container-id-7 div.sk-estimator:hover {background-color: #d4ebff;}#sk-container-id-7 div.sk-parallel-item::after {content: \"\";width: 100%;border-bottom: 1px solid gray;flex-grow: 1;}#sk-container-id-7 div.sk-label:hover label.sk-toggleable__label {background-color: #d4ebff;}#sk-container-id-7 div.sk-serial::before {content: \"\";position: absolute;border-left: 1px solid gray;box-sizing: border-box;top: 0;bottom: 0;left: 50%;z-index: 0;}#sk-container-id-7 div.sk-serial {display: flex;flex-direction: column;align-items: center;background-color: white;padding-right: 0.2em;padding-left: 0.2em;position: relative;}#sk-container-id-7 div.sk-item {position: relative;z-index: 1;}#sk-container-id-7 div.sk-parallel {display: flex;align-items: stretch;justify-content: center;background-color: white;position: relative;}#sk-container-id-7 div.sk-item::before, #sk-container-id-7 div.sk-parallel-item::before {content: \"\";position: absolute;border-left: 1px solid gray;box-sizing: border-box;top: 0;bottom: 0;left: 50%;z-index: -1;}#sk-container-id-7 div.sk-parallel-item {display: flex;flex-direction: column;z-index: 1;position: relative;background-color: white;}#sk-container-id-7 div.sk-parallel-item:first-child::after {align-self: flex-end;width: 50%;}#sk-container-id-7 div.sk-parallel-item:last-child::after {align-self: flex-start;width: 50%;}#sk-container-id-7 div.sk-parallel-item:only-child::after {width: 0;}#sk-container-id-7 div.sk-dashed-wrapped {border: 1px dashed gray;margin: 0 0.4em 0.5em 0.4em;box-sizing: border-box;padding-bottom: 0.4em;background-color: white;}#sk-container-id-7 div.sk-label label {font-family: monospace;font-weight: bold;display: inline-block;line-height: 1.2em;}#sk-container-id-7 div.sk-label-container {text-align: center;}#sk-container-id-7 div.sk-container {/* jupyter's `normalize.less` sets `[hidden] { display: none; }` but bootstrap.min.css set `[hidden] { display: none !important; }` so we also need the `!important` here to be able to override the default hidden behavior on the sphinx rendered scikit-learn.org. See: https://github.com/scikit-learn/scikit-learn/issues/21755 */display: inline-block !important;position: relative;}#sk-container-id-7 div.sk-text-repr-fallback {display: none;}</style><div id=\"sk-container-id-7\" class=\"sk-top-container\"><div class=\"sk-text-repr-fallback\"><pre>Pipeline(steps=[(&#x27;scaler&#x27;, StandardScaler()), (&#x27;model&#x27;, LinearRegression())])</pre><b>In a Jupyter environment, please rerun this cell to show the HTML representation or trust the notebook. <br />On GitHub, the HTML representation is unable to render, please try loading this page with nbviewer.org.</b></div><div class=\"sk-container\" hidden><div class=\"sk-item sk-dashed-wrapped\"><div class=\"sk-label-container\"><div class=\"sk-label sk-toggleable\"><input class=\"sk-toggleable__control sk-hidden--visually\" id=\"sk-estimator-id-11\" type=\"checkbox\" ><label for=\"sk-estimator-id-11\" class=\"sk-toggleable__label sk-toggleable__label-arrow\">Pipeline</label><div class=\"sk-toggleable__content\"><pre>Pipeline(steps=[(&#x27;scaler&#x27;, StandardScaler()), (&#x27;model&#x27;, LinearRegression())])</pre></div></div></div><div class=\"sk-serial\"><div class=\"sk-item\"><div class=\"sk-estimator sk-toggleable\"><input class=\"sk-toggleable__control sk-hidden--visually\" id=\"sk-estimator-id-12\" type=\"checkbox\" ><label for=\"sk-estimator-id-12\" class=\"sk-toggleable__label sk-toggleable__label-arrow\">StandardScaler</label><div class=\"sk-toggleable__content\"><pre>StandardScaler()</pre></div></div></div><div class=\"sk-item\"><div class=\"sk-estimator sk-toggleable\"><input class=\"sk-toggleable__control sk-hidden--visually\" id=\"sk-estimator-id-13\" type=\"checkbox\" ><label for=\"sk-estimator-id-13\" class=\"sk-toggleable__label sk-toggleable__label-arrow\">LinearRegression</label><div class=\"sk-toggleable__content\"><pre>LinearRegression()</pre></div></div></div></div></div></div></div>"
      ],
      "text/plain": [
       "Pipeline(steps=[('scaler', StandardScaler()), ('model', LinearRegression())])"
      ]
     },
     "execution_count": 187,
     "metadata": {},
     "output_type": "execute_result"
    }
   ],
   "source": [
    "pipeline"
   ]
  },
  {
   "cell_type": "code",
   "execution_count": 188,
   "id": "2e917c77-b3bc-42bb-8350-7f634508cee3",
   "metadata": {},
   "outputs": [],
   "source": [
    "cv = KFold(n_splits=5, shuffle=True, random_state=0)\n",
    "# cross_val_scoreの引数modelにpipelineインスタンスを入れる。\n",
    "# これでX,yを引数として都度標準化しつつ学習できる。\n",
    "scores = cross_val_score(pipeline, X, y, scoring='neg_mean_squared_error', cv=cv)"
   ]
  },
  {
   "cell_type": "code",
   "execution_count": 186,
   "id": "40b4fdb2-2a51-4043-bad7-a95f60eb7037",
   "metadata": {},
   "outputs": [
    {
     "data": {
      "text/plain": [
       "array([-0.82130906, -1.07458421, -1.08801239, -1.33238677, -1.084763  ])"
      ]
     },
     "execution_count": 186,
     "metadata": {},
     "output_type": "execute_result"
    }
   ],
   "source": [
    "scores"
   ]
  },
  {
   "cell_type": "markdown",
   "id": "03c00ce4-deee-4577-9e4c-01e6a10d1a05",
   "metadata": {},
   "source": [
    "### - Pipelineなしの場合"
   ]
  },
  {
   "cell_type": "code",
   "execution_count": 191,
   "id": "9c4aea59-39df-48a3-bd8e-b0720ea34ed4",
   "metadata": {},
   "outputs": [
    {
     "data": {
      "text/plain": [
       "array([2.71486884, 2.78639251, 2.90900452, 1.65836207, 2.57999564,\n",
       "       1.50509707, 2.74858715, 3.30136293, 2.77208778, 4.45800284,\n",
       "       3.50060744, 3.49345507, 2.35520697, 2.24587793, 2.28879213,\n",
       "       4.02375199, 1.77075641, 2.3480546 , 2.83645908, 3.2778623 ,\n",
       "       3.98901192, 3.05511716, 2.55240794, 2.45431834, 2.29798803,\n",
       "       2.59327861, 2.16004953, 3.96244599, 3.50162921, 2.5289073 ,\n",
       "       2.42264357, 2.19274606, 2.49314547, 1.99963215, 2.78639251,\n",
       "       2.28572683, 2.64743224, 1.97306622, 5.85577969, 2.55036441,\n",
       "       1.79425705, 2.18763723, 2.52073317, 3.96755482, 2.22135553,\n",
       "       2.65151931, 2.78128368, 3.12255376, 2.66173698, 3.66409011,\n",
       "       4.2567148 , 2.74552185, 3.01118119, 5.83943142, 1.89847725,\n",
       "       2.14676656, 3.97572896, 3.03161652, 2.37462053, 2.21113786,\n",
       "       3.70496078, 2.53299437, 3.07963956, 3.47199797, 3.99718606,\n",
       "       2.5043849 , 2.60043097, 4.2720413 , 1.97306622, 3.87763935,\n",
       "       2.4890584 , 1.99145802, 3.43010554, 2.37972937])"
      ]
     },
     "execution_count": 191,
     "metadata": {},
     "output_type": "execute_result"
    }
   ],
   "source": [
    "# hold-outと線形回帰の例\n",
    "X_train, X_test, y_train, y_test = train_test_split(X, y, test_size=0.3, random_state=0)\n",
    "model = LinearRegression()\n",
    "scaler = StandardScaler()\n",
    "# 標準化\n",
    "X_train_scaled = scaler.fit_transform(X_train)\n",
    "X_test_scaled = scaler.transform(X_test)\n",
    "model.fit(X_train_scaled, y_train)\n",
    "y_pred = model.predict(X_test_scaled)\n",
    "y_pred"
   ]
  },
  {
   "cell_type": "markdown",
   "id": "cf319170-40c4-4b5e-ab91-28233d8b59e3",
   "metadata": {},
   "source": [
    "### - Pipelineありの場合"
   ]
  },
  {
   "cell_type": "code",
   "execution_count": 197,
   "id": "6181a266-1128-49bb-9cd0-b1cd7549b55f",
   "metadata": {},
   "outputs": [],
   "source": [
    "X_train, X_test, y_train, y_test = train_test_split(X, y, test_size=0.3, random_state=0)\n",
    "# 標準化→線形回帰\n",
    "pipeline = Pipeline(steps=[('scaler', StandardScaler()),('model', LinearRegression())])\n",
    "# それぞれ.fit（学習データの平均と標準偏差の算出と学習）されるイメージ。y_trainはスケーリングされないぽい。\n",
    "pipeline.fit(X_train, y_train)\n",
    "# 標準化用の平均と標準偏差、学習パラメタ情報を持つpipelineオブジェクトから真の値を予測\n",
    "# X_testも内部で標準化される。\n",
    "y_pred_p = pipeline.predict(X_test)"
   ]
  },
  {
   "cell_type": "code",
   "execution_count": 194,
   "id": "27054c85-99db-4cac-b16f-b69862c59af9",
   "metadata": {},
   "outputs": [
    {
     "data": {
      "text/plain": [
       "array([2.71486884, 2.78639251, 2.90900452, 1.65836207, 2.57999564,\n",
       "       1.50509707, 2.74858715, 3.30136293, 2.77208778, 4.45800284,\n",
       "       3.50060744, 3.49345507, 2.35520697, 2.24587793, 2.28879213,\n",
       "       4.02375199, 1.77075641, 2.3480546 , 2.83645908, 3.2778623 ,\n",
       "       3.98901192, 3.05511716, 2.55240794, 2.45431834, 2.29798803,\n",
       "       2.59327861, 2.16004953, 3.96244599, 3.50162921, 2.5289073 ,\n",
       "       2.42264357, 2.19274606, 2.49314547, 1.99963215, 2.78639251,\n",
       "       2.28572683, 2.64743224, 1.97306622, 5.85577969, 2.55036441,\n",
       "       1.79425705, 2.18763723, 2.52073317, 3.96755482, 2.22135553,\n",
       "       2.65151931, 2.78128368, 3.12255376, 2.66173698, 3.66409011,\n",
       "       4.2567148 , 2.74552185, 3.01118119, 5.83943142, 1.89847725,\n",
       "       2.14676656, 3.97572896, 3.03161652, 2.37462053, 2.21113786,\n",
       "       3.70496078, 2.53299437, 3.07963956, 3.47199797, 3.99718606,\n",
       "       2.5043849 , 2.60043097, 4.2720413 , 1.97306622, 3.87763935,\n",
       "       2.4890584 , 1.99145802, 3.43010554, 2.37972937])"
      ]
     },
     "execution_count": 194,
     "metadata": {},
     "output_type": "execute_result"
    }
   ],
   "source": [
    "y_pred_p"
   ]
  },
  {
   "cell_type": "markdown",
   "id": "039872eb-1500-4ebb-aa23-1d2b4b8aa549",
   "metadata": {},
   "source": [
    "このようにPipelineを使うことで、すっきり書くことができる。"
   ]
  },
  {
   "cell_type": "markdown",
   "id": "1f826da5-f736-457f-aabc-072c198b1fac",
   "metadata": {},
   "source": [
    "## ○ scikit-learnで評価指標の値を求める\n",
    "* MSEおよびRMSE\n",
    "    * sklearn.metrics.mean_squared_error\n",
    "    * mean_squared_error(y_true, y_pred)\n",
    "    * squared引数にFalseを渡すとRMSEを返す\n",
    "* MAE\n",
    "    * sklearn.metrics.mean_absolute_error\n",
    "* 決定係数（R-Squared）\n",
    "    * sklearn.metrics.r2_score\n",
    "    * r2_score(y_true, y_pred)"
   ]
  },
  {
   "cell_type": "code",
   "execution_count": 204,
   "id": "7c8fe741-1a36-4f7f-8c7a-7af59976fe82",
   "metadata": {},
   "outputs": [],
   "source": [
    "# データの準備\n",
    "df = sns.load_dataset('tips')\n",
    "X = df['total_bill'].values.reshape(-1,1)\n",
    "y = df['tip'].values\n",
    "\n",
    "# hold-out \n",
    "X_train, X_test, y_train, y_test = train_test_split(X, y, test_size=0.3, random_state=0)\n",
    "\n",
    "# train\n",
    "model = LinearRegression()\n",
    "model.fit(X_train, y_train)\n",
    "y_pred = model.predict(X_test)"
   ]
  },
  {
   "cell_type": "code",
   "execution_count": 205,
   "id": "db6dc2b9-391c-41fa-afcd-361461fd3613",
   "metadata": {},
   "outputs": [
    {
     "data": {
      "text/plain": [
       "array([2.71486884, 2.78639251, 2.90900452, 1.65836207, 2.57999564,\n",
       "       1.50509707, 2.74858715, 3.30136293, 2.77208778, 4.45800284,\n",
       "       3.50060744, 3.49345507, 2.35520697, 2.24587793, 2.28879213,\n",
       "       4.02375199, 1.77075641, 2.3480546 , 2.83645908, 3.2778623 ,\n",
       "       3.98901192, 3.05511716, 2.55240794, 2.45431834, 2.29798803,\n",
       "       2.59327861, 2.16004953, 3.96244599, 3.50162921, 2.5289073 ,\n",
       "       2.42264357, 2.19274606, 2.49314547, 1.99963215, 2.78639251,\n",
       "       2.28572683, 2.64743224, 1.97306622, 5.85577969, 2.55036441,\n",
       "       1.79425705, 2.18763723, 2.52073317, 3.96755482, 2.22135553,\n",
       "       2.65151931, 2.78128368, 3.12255376, 2.66173698, 3.66409011,\n",
       "       4.2567148 , 2.74552185, 3.01118119, 5.83943142, 1.89847725,\n",
       "       2.14676656, 3.97572896, 3.03161652, 2.37462053, 2.21113786,\n",
       "       3.70496078, 2.53299437, 3.07963956, 3.47199797, 3.99718606,\n",
       "       2.5043849 , 2.60043097, 4.2720413 , 1.97306622, 3.87763935,\n",
       "       2.4890584 , 1.99145802, 3.43010554, 2.37972937])"
      ]
     },
     "execution_count": 205,
     "metadata": {},
     "output_type": "execute_result"
    }
   ],
   "source": [
    "y_pred"
   ]
  },
  {
   "cell_type": "code",
   "execution_count": 208,
   "id": "e27598d0-1b98-433f-adbd-8f1a3f14d837",
   "metadata": {},
   "outputs": [
    {
     "data": {
      "text/plain": [
       "0.871184553753995"
      ]
     },
     "execution_count": 208,
     "metadata": {},
     "output_type": "execute_result"
    }
   ],
   "source": [
    "# MSE\n",
    "mean_squared_error(y_test, y_pred)"
   ]
  },
  {
   "cell_type": "code",
   "execution_count": 209,
   "id": "25de974e-f375-4053-8d40-a27df8e566d6",
   "metadata": {},
   "outputs": [
    {
     "data": {
      "text/plain": [
       "0.9333726767770711"
      ]
     },
     "execution_count": 209,
     "metadata": {},
     "output_type": "execute_result"
    }
   ],
   "source": [
    "# RMSE\n",
    "mean_squared_error(y_test, y_pred, squared=False)"
   ]
  },
  {
   "cell_type": "code",
   "execution_count": 211,
   "id": "fffc6ad5-7447-42be-85f8-aea3552f01c4",
   "metadata": {},
   "outputs": [
    {
     "data": {
      "text/plain": [
       "0.6903119067790221"
      ]
     },
     "execution_count": 211,
     "metadata": {},
     "output_type": "execute_result"
    }
   ],
   "source": [
    "# MAE\n",
    "mean_absolute_error(y_test, y_pred)"
   ]
  },
  {
   "cell_type": "markdown",
   "id": "94af4993-f0d3-481c-a15a-1a0e23d4a2ff",
   "metadata": {},
   "source": [
    "MAEより、上記のモデルは平均して0.69ドルの残差がある。"
   ]
  },
  {
   "cell_type": "code",
   "execution_count": 213,
   "id": "aa31c965-a59b-4cba-ba88-4d21453982c9",
   "metadata": {},
   "outputs": [
    {
     "data": {
      "text/plain": [
       "0.49515102188632765"
      ]
     },
     "execution_count": 213,
     "metadata": {},
     "output_type": "execute_result"
    }
   ],
   "source": [
    "# 決定係数R二乗値\n",
    "r2_score(y_test, y_pred)"
   ]
  },
  {
   "cell_type": "markdown",
   "id": "e5a345f9-2e90-4724-9e72-de8bf819783d",
   "metadata": {},
   "source": [
    "特徴量total_billでtipの分散の5割ぐらいは説明できているといえる。"
   ]
  },
  {
   "cell_type": "code",
   "execution_count": 214,
   "id": "441babba-137c-4d99-8a65-50188b548a31",
   "metadata": {},
   "outputs": [
    {
     "data": {
      "text/html": [
       "<div>\n",
       "<style scoped>\n",
       "    .dataframe tbody tr th:only-of-type {\n",
       "        vertical-align: middle;\n",
       "    }\n",
       "\n",
       "    .dataframe tbody tr th {\n",
       "        vertical-align: top;\n",
       "    }\n",
       "\n",
       "    .dataframe thead th {\n",
       "        text-align: right;\n",
       "    }\n",
       "</style>\n",
       "<table border=\"1\" class=\"dataframe\">\n",
       "  <thead>\n",
       "    <tr style=\"text-align: right;\">\n",
       "      <th></th>\n",
       "      <th>total_bill</th>\n",
       "      <th>tip</th>\n",
       "      <th>size</th>\n",
       "    </tr>\n",
       "  </thead>\n",
       "  <tbody>\n",
       "    <tr>\n",
       "      <th>total_bill</th>\n",
       "      <td>1.000000</td>\n",
       "      <td>0.675734</td>\n",
       "      <td>0.598315</td>\n",
       "    </tr>\n",
       "    <tr>\n",
       "      <th>tip</th>\n",
       "      <td>0.675734</td>\n",
       "      <td>1.000000</td>\n",
       "      <td>0.489299</td>\n",
       "    </tr>\n",
       "    <tr>\n",
       "      <th>size</th>\n",
       "      <td>0.598315</td>\n",
       "      <td>0.489299</td>\n",
       "      <td>1.000000</td>\n",
       "    </tr>\n",
       "  </tbody>\n",
       "</table>\n",
       "</div>"
      ],
      "text/plain": [
       "            total_bill       tip      size\n",
       "total_bill    1.000000  0.675734  0.598315\n",
       "tip           0.675734  1.000000  0.489299\n",
       "size          0.598315  0.489299  1.000000"
      ]
     },
     "execution_count": 214,
     "metadata": {},
     "output_type": "execute_result"
    }
   ],
   "source": [
    "# 相関係数を見てみる\n",
    "df.corr()"
   ]
  },
  {
   "cell_type": "code",
   "execution_count": null,
   "id": "7b5fd3f7-4ef2-48e0-a0cb-6870a41122d3",
   "metadata": {},
   "outputs": [],
   "source": []
  }
 ],
 "metadata": {
  "kernelspec": {
   "display_name": "Python 3 (ipykernel)",
   "language": "python",
   "name": "python3"
  },
  "language_info": {
   "codemirror_mode": {
    "name": "ipython",
    "version": 3
   },
   "file_extension": ".py",
   "mimetype": "text/x-python",
   "name": "python",
   "nbconvert_exporter": "python",
   "pygments_lexer": "ipython3",
   "version": "3.9.12"
  }
 },
 "nbformat": 4,
 "nbformat_minor": 5
}
