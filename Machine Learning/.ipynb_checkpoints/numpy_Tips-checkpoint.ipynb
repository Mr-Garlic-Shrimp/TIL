{
 "cells": [
  {
   "cell_type": "markdown",
   "id": "398d0ef3-b790-416f-9b65-fe6b330eceb4",
   "metadata": {},
   "source": [
    "# Numpyの計算Tips"
   ]
  },
  {
   "cell_type": "markdown",
   "id": "fa217788-359b-422e-821d-5bcba3db4ca3",
   "metadata": {},
   "source": [
    "## ○ 配列の結合"
   ]
  },
  {
   "cell_type": "code",
   "execution_count": 24,
   "id": "ae509822-5049-4700-91a8-fb7b974d7dc0",
   "metadata": {},
   "outputs": [],
   "source": [
    "# 配列の結合。行数が違くても列数が同じであれば結合可能。\n",
    "a = np.arange(1, 10)\n",
    "a = a.reshape(3, 3)\n",
    "b = np.arange(1, 13)\n",
    "b = b.reshape(4, 3)"
   ]
  },
  {
   "cell_type": "code",
   "execution_count": 11,
   "id": "eaad972e-ad4f-47e1-b80f-9b1833af4630",
   "metadata": {},
   "outputs": [
    {
     "data": {
      "text/plain": [
       "array([[1, 2, 3],\n",
       "       [4, 5, 6],\n",
       "       [7, 8, 9]])"
      ]
     },
     "execution_count": 11,
     "metadata": {},
     "output_type": "execute_result"
    }
   ],
   "source": [
    "a"
   ]
  },
  {
   "cell_type": "code",
   "execution_count": 22,
   "id": "09c733d8-7460-45a0-8b8a-1df93d29e2a6",
   "metadata": {},
   "outputs": [
    {
     "data": {
      "text/plain": [
       "array([[ 1,  2,  3],\n",
       "       [ 4,  5,  6],\n",
       "       [ 7,  8,  9],\n",
       "       [10, 11, 12]])"
      ]
     },
     "execution_count": 22,
     "metadata": {},
     "output_type": "execute_result"
    }
   ],
   "source": [
    "b"
   ]
  },
  {
   "cell_type": "code",
   "execution_count": 23,
   "id": "dbd6d91e-1927-497b-8236-a0a520aba75b",
   "metadata": {},
   "outputs": [
    {
     "data": {
      "text/plain": [
       "array([[ 1,  2,  3],\n",
       "       [ 4,  5,  6],\n",
       "       [ 7,  8,  9],\n",
       "       [ 1,  2,  3],\n",
       "       [ 4,  5,  6],\n",
       "       [ 7,  8,  9],\n",
       "       [10, 11, 12]])"
      ]
     },
     "execution_count": 23,
     "metadata": {},
     "output_type": "execute_result"
    }
   ],
   "source": [
    "np.concatenate([a, b])"
   ]
  },
  {
   "cell_type": "code",
   "execution_count": null,
   "id": "b983b392-d11e-4f7f-8f2e-1ba9f979a981",
   "metadata": {},
   "outputs": [],
   "source": []
  }
 ],
 "metadata": {
  "kernelspec": {
   "display_name": "Python 3 (ipykernel)",
   "language": "python",
   "name": "python3"
  },
  "language_info": {
   "codemirror_mode": {
    "name": "ipython",
    "version": 3
   },
   "file_extension": ".py",
   "mimetype": "text/x-python",
   "name": "python",
   "nbconvert_exporter": "python",
   "pygments_lexer": "ipython3",
   "version": "3.9.12"
  }
 },
 "nbformat": 4,
 "nbformat_minor": 5
}
