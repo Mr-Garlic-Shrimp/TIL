{
 "cells": [
  {
   "cell_type": "markdown",
   "id": "d21e61b5-25e8-4c13-ba20-4656c599b52f",
   "metadata": {},
   "source": [
    "# 機械学習をPythonで実践する-12　　～ Boosting ～"
   ]
  },
  {
   "cell_type": "code",
   "execution_count": null,
   "id": "aaa25f75-b11e-47bc-805c-0068618f171b",
   "metadata": {},
   "outputs": [],
   "source": []
  }
 ],
 "metadata": {
  "kernelspec": {
   "display_name": "Python 3 (ipykernel)",
   "language": "python",
   "name": "python3"
  },
  "language_info": {
   "codemirror_mode": {
    "name": "ipython",
    "version": 3
   },
   "file_extension": ".py",
   "mimetype": "text/x-python",
   "name": "python",
   "nbconvert_exporter": "python",
   "pygments_lexer": "ipython3",
   "version": "3.9.12"
  }
 },
 "nbformat": 4,
 "nbformat_minor": 5
}
