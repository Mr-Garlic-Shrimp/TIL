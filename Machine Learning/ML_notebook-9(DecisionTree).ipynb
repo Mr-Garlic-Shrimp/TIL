{
 "cells": [
  {
   "cell_type": "markdown",
   "id": "142df207-ecc7-4c72-b5c1-839e4f73d175",
   "metadata": {},
   "source": [
    "# 機械学習をPythonで実践する-9　　～ 決定木 ～"
   ]
  },
  {
   "cell_type": "code",
   "execution_count": 148,
   "id": "a25b0ae3-66ce-4e84-9a9b-fcb6ff1da9a1",
   "metadata": {},
   "outputs": [
    {
     "name": "stdout",
     "output_type": "stream",
     "text": [
      "The autoreload extension is already loaded. To reload it, use:\n",
      "  %reload_ext autoreload\n"
     ]
    }
   ],
   "source": [
    "%load_ext autoreload\n",
    "%autoreload 2\n",
    "import pandas as pd\n",
    "import numpy as np\n",
    "import polars as pl\n",
    "import seaborn as sns\n",
    "from itertools import product\n",
    "from sklearn.linear_model import LinearRegression, Ridge, Lasso, LogisticRegression\n",
    "from sklearn.preprocessing import StandardScaler, PolynomialFeatures, label_binarize\n",
    "# import statsmodels.api as sma\n",
    "from sklearn.model_selection import train_test_split ,LeaveOneOut, cross_val_score, KFold, RepeatedKFold\n",
    "from sklearn.metrics import mean_squared_error, mean_absolute_error, r2_score, log_loss, confusion_matrix,ConfusionMatrixDisplay, \\\n",
    "accuracy_score, precision_score, recall_score,precision_recall_curve,f1_score,roc_curve,auc\n",
    "from scipy.stats import hmean\n",
    "from sklearn.decomposition import PCA\n",
    "import plotly.express as px\n",
    "# from sklearn.pipeline import Pipeline\n",
    "# from sklearn.neighbors import KNeighborsRegressor\n",
    "from sklearn.datasets import fetch_openml\n",
    "import time\n",
    "from sklearn.cluster import KMeans\n",
    "from scipy.cluster.hierarchy import linkage,dendrogram,fcluster\n",
    "from sklearn import tree\n",
    "\n",
    "%matplotlib inline\n",
    "import matplotlib.pyplot as plt\n"
   ]
  },
  {
   "cell_type": "markdown",
   "id": "adeb6c80-c74b-43c1-b967-34fcaa2f2bed",
   "metadata": {},
   "source": [
    "## ○ 決定木\n",
    "* 決定木(回帰)\n",
    "    * sklearn.tree.DecisionTreeRegressor\n",
    "        * max_depth: 木の深さを指定\n",
    "        * min_samples_split: 最低限分割に必要なデータ数（分割対象の領域内データ数）を指定。\n",
    "        * ccp_alpha: cost complexity pruningのalphaの値を指定\n",
    "    * 使い方は他のsklearnのモデルと同じ\n",
    "    * パラメータを指定しないと最後まで分割し過学習するので注意\n",
    "* 決定木(分類)\n",
    "    * sklearn.tree.DecisionTreeClassifier\n",
    "    * 使い方はDecisionTreeClassifierと同じ"
   ]
  },
  {
   "cell_type": "code",
   "execution_count": 8,
   "id": "bc432a8e-dd77-42b5-813f-3b809155f87b",
   "metadata": {},
   "outputs": [],
   "source": [
    "# tipsデータセットをインポート\n",
    "df = sns.load_dataset('tips')\n",
    "# ダミー変数を作成\n",
    "df = pd.get_dummies(df, drop_first=True)\n",
    "\n",
    "# 目的変数はtipとする\n",
    "y_col = 'tip'\n",
    "X = df.drop(columns=[y_col])\n",
    "y = df[y_col]\n",
    "\n",
    "# hold-out\n",
    "X_train, X_test, y_train, y_test = train_test_split(X, y, test_size=0.3, random_state=0)"
   ]
  },
  {
   "cell_type": "markdown",
   "id": "a2399e67-351f-4340-b2e3-81b3314b84be",
   "metadata": {},
   "source": [
    "決定木のアルゴリズム上、質的変数もそのまま分岐の判断に使えるので理論的にはダミー変数は不要だが、  \n",
    "scikit-learnの仕様上はダミー変数化しておく必要がある。  \n",
    "また、決定木の分岐の際は学習データとテストデータで同じ特徴量同士の値の比較を行って分岐しているので、  \n",
    "標準化を行う必要はない。"
   ]
  },
  {
   "cell_type": "code",
   "execution_count": 9,
   "id": "4a8549c1-59c5-4c27-a52d-e5bb8dc1d540",
   "metadata": {},
   "outputs": [
    {
     "data": {
      "text/html": [
       "<style>#sk-container-id-2 {color: black;background-color: white;}#sk-container-id-2 pre{padding: 0;}#sk-container-id-2 div.sk-toggleable {background-color: white;}#sk-container-id-2 label.sk-toggleable__label {cursor: pointer;display: block;width: 100%;margin-bottom: 0;padding: 0.3em;box-sizing: border-box;text-align: center;}#sk-container-id-2 label.sk-toggleable__label-arrow:before {content: \"▸\";float: left;margin-right: 0.25em;color: #696969;}#sk-container-id-2 label.sk-toggleable__label-arrow:hover:before {color: black;}#sk-container-id-2 div.sk-estimator:hover label.sk-toggleable__label-arrow:before {color: black;}#sk-container-id-2 div.sk-toggleable__content {max-height: 0;max-width: 0;overflow: hidden;text-align: left;background-color: #f0f8ff;}#sk-container-id-2 div.sk-toggleable__content pre {margin: 0.2em;color: black;border-radius: 0.25em;background-color: #f0f8ff;}#sk-container-id-2 input.sk-toggleable__control:checked~div.sk-toggleable__content {max-height: 200px;max-width: 100%;overflow: auto;}#sk-container-id-2 input.sk-toggleable__control:checked~label.sk-toggleable__label-arrow:before {content: \"▾\";}#sk-container-id-2 div.sk-estimator input.sk-toggleable__control:checked~label.sk-toggleable__label {background-color: #d4ebff;}#sk-container-id-2 div.sk-label input.sk-toggleable__control:checked~label.sk-toggleable__label {background-color: #d4ebff;}#sk-container-id-2 input.sk-hidden--visually {border: 0;clip: rect(1px 1px 1px 1px);clip: rect(1px, 1px, 1px, 1px);height: 1px;margin: -1px;overflow: hidden;padding: 0;position: absolute;width: 1px;}#sk-container-id-2 div.sk-estimator {font-family: monospace;background-color: #f0f8ff;border: 1px dotted black;border-radius: 0.25em;box-sizing: border-box;margin-bottom: 0.5em;}#sk-container-id-2 div.sk-estimator:hover {background-color: #d4ebff;}#sk-container-id-2 div.sk-parallel-item::after {content: \"\";width: 100%;border-bottom: 1px solid gray;flex-grow: 1;}#sk-container-id-2 div.sk-label:hover label.sk-toggleable__label {background-color: #d4ebff;}#sk-container-id-2 div.sk-serial::before {content: \"\";position: absolute;border-left: 1px solid gray;box-sizing: border-box;top: 0;bottom: 0;left: 50%;z-index: 0;}#sk-container-id-2 div.sk-serial {display: flex;flex-direction: column;align-items: center;background-color: white;padding-right: 0.2em;padding-left: 0.2em;position: relative;}#sk-container-id-2 div.sk-item {position: relative;z-index: 1;}#sk-container-id-2 div.sk-parallel {display: flex;align-items: stretch;justify-content: center;background-color: white;position: relative;}#sk-container-id-2 div.sk-item::before, #sk-container-id-2 div.sk-parallel-item::before {content: \"\";position: absolute;border-left: 1px solid gray;box-sizing: border-box;top: 0;bottom: 0;left: 50%;z-index: -1;}#sk-container-id-2 div.sk-parallel-item {display: flex;flex-direction: column;z-index: 1;position: relative;background-color: white;}#sk-container-id-2 div.sk-parallel-item:first-child::after {align-self: flex-end;width: 50%;}#sk-container-id-2 div.sk-parallel-item:last-child::after {align-self: flex-start;width: 50%;}#sk-container-id-2 div.sk-parallel-item:only-child::after {width: 0;}#sk-container-id-2 div.sk-dashed-wrapped {border: 1px dashed gray;margin: 0 0.4em 0.5em 0.4em;box-sizing: border-box;padding-bottom: 0.4em;background-color: white;}#sk-container-id-2 div.sk-label label {font-family: monospace;font-weight: bold;display: inline-block;line-height: 1.2em;}#sk-container-id-2 div.sk-label-container {text-align: center;}#sk-container-id-2 div.sk-container {/* jupyter's `normalize.less` sets `[hidden] { display: none; }` but bootstrap.min.css set `[hidden] { display: none !important; }` so we also need the `!important` here to be able to override the default hidden behavior on the sphinx rendered scikit-learn.org. See: https://github.com/scikit-learn/scikit-learn/issues/21755 */display: inline-block !important;position: relative;}#sk-container-id-2 div.sk-text-repr-fallback {display: none;}</style><div id=\"sk-container-id-2\" class=\"sk-top-container\"><div class=\"sk-text-repr-fallback\"><pre>DecisionTreeRegressor(max_depth=4)</pre><b>In a Jupyter environment, please rerun this cell to show the HTML representation or trust the notebook. <br />On GitHub, the HTML representation is unable to render, please try loading this page with nbviewer.org.</b></div><div class=\"sk-container\" hidden><div class=\"sk-item\"><div class=\"sk-estimator sk-toggleable\"><input class=\"sk-toggleable__control sk-hidden--visually\" id=\"sk-estimator-id-2\" type=\"checkbox\" checked><label for=\"sk-estimator-id-2\" class=\"sk-toggleable__label sk-toggleable__label-arrow\">DecisionTreeRegressor</label><div class=\"sk-toggleable__content\"><pre>DecisionTreeRegressor(max_depth=4)</pre></div></div></div></div></div>"
      ],
      "text/plain": [
       "DecisionTreeRegressor(max_depth=4)"
      ]
     },
     "execution_count": 9,
     "metadata": {},
     "output_type": "execute_result"
    }
   ],
   "source": [
    "# 決定木で学習\n",
    "model = tree.DecisionTreeRegressor(max_depth=4)\n",
    "model.fit(X_train, y_train)"
   ]
  },
  {
   "cell_type": "code",
   "execution_count": 12,
   "id": "d130c482-c509-42a3-9735-1506617e4c69",
   "metadata": {},
   "outputs": [
    {
     "data": {
      "text/plain": [
       "array([2.65967742, 3.48      , 2.65967742, 3.075     , 4.1       ,\n",
       "       3.075     , 3.48      , 3.36428571, 3.48      , 4.73823529,\n",
       "       2.66625   , 2.66625   , 2.470625  , 1.8085    , 2.470625  ,\n",
       "       3.78791667, 1.8085    , 2.470625  , 2.65967742, 3.78791667,\n",
       "       3.78791667, 2.66625   , 1.91857143, 2.470625  , 2.470625  ,\n",
       "       4.1       , 1.8085    , 3.78791667, 3.78791667, 1.91857143,\n",
       "       2.470625  , 1.8085    , 1.91857143, 1.8085    , 2.65967742,\n",
       "       2.470625  , 2.65967742, 1.8085    , 6.73      , 1.91857143,\n",
       "       1.8085    , 1.8085    , 1.91857143, 3.78791667, 1.8085    ,\n",
       "       2.65967742, 2.65967742, 3.36428571, 2.65967742, 3.78791667,\n",
       "       3.36428571, 3.48      , 3.48      , 6.73      , 1.8085    ,\n",
       "       1.8085    , 3.78791667, 3.78791667, 2.470625  , 1.8085    ,\n",
       "       3.36428571, 1.91857143, 3.36428571, 3.78791667, 3.78791667,\n",
       "       1.91857143, 4.1       , 2.66625   , 1.8085    , 3.36428571,\n",
       "       1.91857143, 1.8085    , 3.78791667, 2.470625  ])"
      ]
     },
     "execution_count": 12,
     "metadata": {},
     "output_type": "execute_result"
    }
   ],
   "source": [
    "# 予測\n",
    "y_pred = model.predict(X_test)\n",
    "y_pred"
   ]
  },
  {
   "cell_type": "code",
   "execution_count": 17,
   "id": "f4653852-a91f-4a54-b22c-240fe9855894",
   "metadata": {},
   "outputs": [
    {
     "data": {
      "text/plain": [
       "64     2.64\n",
       "63     3.76\n",
       "55     3.51\n",
       "111    1.00\n",
       "225    2.50\n",
       "Name: tip, dtype: float64"
      ]
     },
     "execution_count": 17,
     "metadata": {},
     "output_type": "execute_result"
    }
   ],
   "source": [
    "y_test[:5]"
   ]
  },
  {
   "cell_type": "markdown",
   "id": "16d3d751-9901-44e8-9270-76aef73faf14",
   "metadata": {},
   "source": [
    "結構外してそう"
   ]
  },
  {
   "cell_type": "code",
   "execution_count": 18,
   "id": "daff2212-3f6e-4621-a4ac-e6d1d7635340",
   "metadata": {},
   "outputs": [
    {
     "data": {
      "text/plain": [
       "1.1060246260428703"
      ]
     },
     "execution_count": 18,
     "metadata": {},
     "output_type": "execute_result"
    }
   ],
   "source": [
    "# MSEで精度を評価\n",
    "mean_squared_error(y_test,y_pred)"
   ]
  },
  {
   "cell_type": "code",
   "execution_count": 21,
   "id": "3817acc1-f0e8-4259-a53b-fcaced13b28c",
   "metadata": {},
   "outputs": [
    {
     "data": {
      "text/plain": [
       "0.3590618660303134"
      ]
     },
     "execution_count": 21,
     "metadata": {},
     "output_type": "execute_result"
    }
   ],
   "source": [
    "# R-squared（決定係数）を算出\n",
    "model.score(X_test, y_test)"
   ]
  },
  {
   "cell_type": "markdown",
   "id": "c1ab1c49-e922-41a6-86b0-c3b9bdbb2531",
   "metadata": {},
   "source": [
    "1.0からかなり離れているので、残差が大きく、精度が良いとは言えない。"
   ]
  },
  {
   "cell_type": "markdown",
   "id": "272036f2-24c7-411e-9d57-0065c0132145",
   "metadata": {},
   "source": [
    "## ○ 決定木の可視化\n",
    "* 決定木の可視化(描画)\n",
    "    * sklearn.tree.plot_tree\n",
    "        * decision_tree: モデルインスタンス\n",
    "        * fontsize: フォントのサイズを指定\n",
    "        * feature_name: 特徴量の名前をリストで渡す(model.feature_names_in_が便利)\n",
    "    * sklearnのtreeモデルを引数にする\n",
    "    * 図の内容が戻り値で返ってくる\n",
    "<br></br>\n",
    "* 決定木の可視化(テキスト)\n",
    "    * sklearn.tree.export_text\n",
    "    * 使い方はplot_treeと同じ。plot_treeよりもよく使われるかも。\n",
    "    * print()関数に渡して表示することで綺麗に表示される"
   ]
  },
  {
   "cell_type": "code",
   "execution_count": 26,
   "id": "94ccbd37-36ab-40fe-8a9f-4913f765ec7e",
   "metadata": {},
   "outputs": [
    {
     "data": {
      "image/png": "[encoded data removed]",
      "text/plain": [
       "<Figure size 2880x1440 with 1 Axes>"
      ]
     },
     "metadata": {
      "needs_background": "light"
     },
     "output_type": "display_data"
    }
   ],
   "source": [
    "# 描画サイズを指定\n",
    "plt.figure(figsize=(40, 20))\n",
    "# model.feature_names_inで特徴量名のリストを取得可能。JupyterLabでそのまま表示すると余分な情報が含まれるので、戻り値を捨てる。\n",
    "_ = tree.plot_tree(model, fontsize=13, feature_names=model.feature_names_in_)"
   ]
  },
  {
   "cell_type": "markdown",
   "id": "27c01e3c-6014-468a-a5a9-b55fced0e840",
   "metadata": {},
   "source": [
    "ノードは4項目あり、上から分岐条件、損失(残差)、領域のデータ数(samples)、目的変数の平均値(value)を表す。  \n",
    "（葉の場合は分岐条件を除く）  \n",
    "あるノード（節）でのsquared_error（損失）は、その下にあるノードまたは葉の損失の合計よりも大きいことが分かる。  \n",
    "これが繰り返されて損失合計が小さくなるように葉が決定されている。  \n",
    "\n",
    "決定木は目的変数に大きく寄与する特徴量ほど決定木の上部で分岐される。  \n",
    "このケースではtotal_billやsizeが目的変数に大きく寄与していることがわかる。  \n",
    "条件が質的変数のときは0,1ではなく中間の0.5より大きいか否かで分岐を表現する。　　\n"
   ]
  },
  {
   "cell_type": "code",
   "execution_count": 28,
   "id": "9209fdf2-25ed-4090-b5ec-976eaa289928",
   "metadata": {},
   "outputs": [
    {
     "name": "stdout",
     "output_type": "stream",
     "text": [
      "|--- total_bill <= 20.49\n",
      "|   |--- total_bill <= 16.25\n",
      "|   |   |--- total_bill <= 13.14\n",
      "|   |   |   |--- total_bill <= 7.38\n",
      "|   |   |   |   |--- value: [3.08]\n",
      "|   |   |   |--- total_bill >  7.38\n",
      "|   |   |   |   |--- value: [1.81]\n",
      "|   |   |--- total_bill >  13.14\n",
      "|   |   |   |--- total_bill <= 15.21\n",
      "|   |   |   |   |--- value: [2.47]\n",
      "|   |   |   |--- total_bill >  15.21\n",
      "|   |   |   |   |--- value: [1.92]\n",
      "|   |--- total_bill >  16.25\n",
      "|   |   |--- smoker_No <= 0.50\n",
      "|   |   |   |--- total_bill <= 17.16\n",
      "|   |   |   |   |--- value: [4.10]\n",
      "|   |   |   |--- total_bill >  17.16\n",
      "|   |   |   |   |--- value: [3.48]\n",
      "|   |   |--- smoker_No >  0.50\n",
      "|   |   |   |--- total_bill <= 16.30\n",
      "|   |   |   |   |--- value: [3.71]\n",
      "|   |   |   |--- total_bill >  16.30\n",
      "|   |   |   |   |--- value: [2.66]\n",
      "|--- total_bill >  20.49\n",
      "|   |--- total_bill <= 46.81\n",
      "|   |   |--- size <= 2.50\n",
      "|   |   |   |--- day_Sat <= 0.50\n",
      "|   |   |   |   |--- value: [3.36]\n",
      "|   |   |   |--- day_Sat >  0.50\n",
      "|   |   |   |   |--- value: [2.67]\n",
      "|   |   |--- size >  2.50\n",
      "|   |   |   |--- total_bill <= 30.86\n",
      "|   |   |   |   |--- value: [3.79]\n",
      "|   |   |   |--- total_bill >  30.86\n",
      "|   |   |   |   |--- value: [4.74]\n",
      "|   |--- total_bill >  46.81\n",
      "|   |   |--- size <= 3.50\n",
      "|   |   |   |--- value: [10.00]\n",
      "|   |   |--- size >  3.50\n",
      "|   |   |   |--- value: [6.73]\n",
      "\n"
     ]
    }
   ],
   "source": [
    "# もう一方の書き方。feature_namesにはリスト化して入れる必要あり。\n",
    "print(tree.export_text(model, feature_names=list(model.feature_names_in_)))"
   ]
  },
  {
   "cell_type": "markdown",
   "id": "057aa1aa-7142-4086-a5da-193a63744bae",
   "metadata": {},
   "source": [
    "こちらの方がシンプルで見やすいかも。"
   ]
  },
  {
   "cell_type": "code",
   "execution_count": 38,
   "id": "f5e17471-cf42-4506-a631-2220415b81b8",
   "metadata": {},
   "outputs": [
    {
     "name": "stdout",
     "output_type": "stream",
     "text": [
      "データ数：65\n",
      "目的変数の平均：3.948\n"
     ]
    }
   ],
   "source": [
    "# 検算\n",
    "print(f\"データ数：{len(X_train[X_train['total_bill'] >= 20.49])}\")\n",
    "print(f\"目的変数の平均：{y_train.loc[X_train[X_train['total_bill'] >= 20.49].index].mean()}\")"
   ]
  },
  {
   "cell_type": "markdown",
   "id": "4af286dc-6d6f-4e13-ac15-07e69094a6d6",
   "metadata": {},
   "source": [
    "確かにデータ数と目的変数の平均は決定木と同じになる。"
   ]
  },
  {
   "cell_type": "markdown",
   "id": "6cc15640-e332-47ae-8f30-513da02cef66",
   "metadata": {},
   "source": [
    "## ○ 決定木の特徴量の重要度を描画\n",
    ".feature_importances_属性で特徴量の重要度をリストで取得できる"
   ]
  },
  {
   "cell_type": "code",
   "execution_count": 39,
   "id": "13912dc4-4154-4621-80dd-80fabe0882ca",
   "metadata": {},
   "outputs": [
    {
     "data": {
      "text/plain": [
       "array([0.85278323, 0.10370839, 0.        , 0.03169922, 0.        ,\n",
       "       0.01180916, 0.        , 0.        ])"
      ]
     },
     "execution_count": 39,
     "metadata": {},
     "output_type": "execute_result"
    }
   ],
   "source": [
    "# 特徴量の重要度を取得\n",
    "model.feature_importances_"
   ]
  },
  {
   "cell_type": "code",
   "execution_count": 51,
   "id": "1a553a30-d3fe-42a2-b950-4777acd7aac4",
   "metadata": {},
   "outputs": [
    {
     "data": {
      "text/plain": [
       "array(['total_bill', 'size', 'sex_Female', 'smoker_No', 'day_Fri',\n",
       "       'day_Sat', 'day_Sun', 'time_Dinner'], dtype=object)"
      ]
     },
     "execution_count": 51,
     "metadata": {},
     "output_type": "execute_result"
    }
   ],
   "source": [
    "model.feature_names_in_"
   ]
  },
  {
   "cell_type": "code",
   "execution_count": 54,
   "id": "e7d84a89-e5a8-4382-96a9-9742537985b7",
   "metadata": {},
   "outputs": [
    {
     "data": {
      "text/plain": [
       "Text(0, 0.5, 'features')"
      ]
     },
     "execution_count": 54,
     "metadata": {},
     "output_type": "execute_result"
    },
    {
     "data": {
      "image/png": "[encoded data removed]",
      "text/plain": [
       "<Figure size 432x288 with 1 Axes>"
      ]
     },
     "metadata": {
      "needs_background": "light"
     },
     "output_type": "display_data"
    }
   ],
   "source": [
    "# 重要度を描画\n",
    "sns.barplot(x=model.feature_importances_, y=model.feature_names_in_)\n",
    "plt.xlabel('importances')\n",
    "plt.ylabel('features')"
   ]
  },
  {
   "cell_type": "markdown",
   "id": "457b7a65-67d0-4320-a81a-93c0d8824b98",
   "metadata": {},
   "source": [
    "重要度は0～1.0の値をとる。total_billは8割以上の重要度になっている。  \n",
    "このように決定木からどの特徴量が重要そうか確認できる。  \n",
    "重要度の具体的な計算方法については講義を参考。"
   ]
  },
  {
   "cell_type": "markdown",
   "id": "5f9934df-5091-493b-87f0-b1142eb06a49",
   "metadata": {},
   "source": [
    "## ○ Minimal Cost Complexity Pruning（決定木の剪定）\n",
    ".cost_complexity_pruning_path(X, y)で、$\\alpha$と不純度をリストで取得する。X,yは学習データ。  \n",
    "$\\alpha$は葉の数に対する損失のペナルティ項（の係数）である。  \n",
    "ここでの不純度は回帰であればRSS、分類であればジニ不純度。  \n",
    "それぞれの$\\alpha$でのモデルの精度を計測し，最良の$\\alpha$を使用する。  \n"
   ]
  },
  {
   "cell_type": "code",
   "execution_count": 55,
   "id": "34cbf2f7-8435-439d-bfe3-a0e94efc2e97",
   "metadata": {},
   "outputs": [],
   "source": [
    "# 決定木のインスタンス生成。剪定するため、max_depthは指定せず最後まで学習させる。\n",
    "model = tree.DecisionTreeRegressor(random_state=0)\n",
    "path = model.cost_complexity_pruning_path(X_train, y_train)"
   ]
  },
  {
   "cell_type": "code",
   "execution_count": 62,
   "id": "fa22be2b-f7fb-4e0f-b465-8b791f995a1a",
   "metadata": {},
   "outputs": [],
   "source": [
    "# 不純度はいらないので、pathのうちccp_alphasだけ取得。ccpはCost Complexity Pruningの略。\n",
    "eff_alphas = path.ccp_alphas"
   ]
  },
  {
   "cell_type": "code",
   "execution_count": 73,
   "id": "5e437770-8d65-4cb3-bead-946bb97696b3",
   "metadata": {},
   "outputs": [
    {
     "data": {
      "text/plain": [
       "array([0.00000000e+00, 1.04491579e-17, 1.56737368e-17, 4.41176471e-07,\n",
       "       1.17647059e-06])"
      ]
     },
     "execution_count": 73,
     "metadata": {},
     "output_type": "execute_result"
    }
   ],
   "source": [
    "eff_alphas[:5]"
   ]
  },
  {
   "cell_type": "markdown",
   "id": "f8950b95-d6f1-4bdc-8db7-40ef63453009",
   "metadata": {},
   "source": [
    "各枝におけるalphaが計算される。CCPでは最も小さいalphaを持つ枝から剪定していくので、  \n",
    "まず1.04e-17の枝から切り落とされ、次は1.56e-17の枝・・・というようにalphaが増えるにつれて  \n",
    "切り落とされる枝が増えていく。切り落とすalphaの上限はtree.DecisionTreeXXXXでインスタンス生成時に指定する。\n"
   ]
  },
  {
   "cell_type": "code",
   "execution_count": 63,
   "id": "c677ce08-21a0-4324-95a9-96850084c5e5",
   "metadata": {},
   "outputs": [],
   "source": [
    "# 各alphaについてモデルを作成、学習\n",
    "models = []\n",
    "for eff_alpha in eff_alphas:\n",
    "    # ccp_alphaを指定することで、alphaに応じて剪定が行われる。\n",
    "    model = tree.DecisionTreeRegressor(random_state=0, ccp_alpha=eff_alpha)\n",
    "    model.fit(X_train, y_train)\n",
    "    models.append(model)"
   ]
  },
  {
   "cell_type": "code",
   "execution_count": 66,
   "id": "c819cfc0-255a-43b9-b89a-579d746a7727",
   "metadata": {},
   "outputs": [],
   "source": [
    "# 学習データとテストデータに対するMSEを算出。\n",
    "# 学習データに対するMSEを算出するのは過学習気味かどうか確認するため。\n",
    "train_scores = [mean_squared_error(y_train, model.predict(X_train)) for model in models]\n",
    "test_scores = [mean_squared_error(y_test, model.predict(X_test)) for model in models]"
   ]
  },
  {
   "cell_type": "code",
   "execution_count": 71,
   "id": "c6427bbf-b014-47b2-9c22-6ed358674e8f",
   "metadata": {},
   "outputs": [
    {
     "data": {
      "text/plain": [
       "Text(0, 0.5, 'MSE')"
      ]
     },
     "execution_count": 71,
     "metadata": {},
     "output_type": "execute_result"
    },
    {
     "data": {
      "image/png": "[encoded data removed]",
      "text/plain": [
       "<Figure size 432x288 with 1 Axes>"
      ]
     },
     "metadata": {
      "needs_background": "light"
     },
     "output_type": "display_data"
    }
   ],
   "source": [
    "# MSEとalphaの推移を描画\n",
    "plt.plot(eff_alphas, train_scores, marker='o', label='train', drawstyle='steps-post')\n",
    "plt.plot(eff_alphas, test_scores, marker='o', label='test', drawstyle='steps-post')\n",
    "plt.legend()\n",
    "plt.xlabel('alpha')\n",
    "plt.ylabel('MSE')"
   ]
  },
  {
   "cell_type": "markdown",
   "id": "e8af5644-17b0-4eb6-a3d8-4d40101c1015",
   "metadata": {},
   "source": [
    "alphaが0に近いときは学習データに対するMSEが小さいが、テストデータに対するMSEが大きいので、  \n",
    "過学習気味になっていることが分かる。alphaが0に近いということは剪定をほぼしないということなので、  \n",
    "varianceが高くなり過ぎてしまい汎化性能が落ちているということである。  \n",
    "alphaが0から大きくなり、0.1程度になるとテストデータに対するMSEは最も小さくなっているため、ここで汎化性能が最大になることがわかる。  \n",
    "0.1からさらに大きくなると、徐々に学習データ、テストデータともにMSEが大きくなっていく。  \n",
    "これは、alphaが大きくなって剪定が進むことでモデルが単純化されbiasが大きくなるためである。  \n",
    "このようにbias-varianceトレードオフは適切なモデルを採用する上で非常に重要な概念である。  \n",
    "\n",
    "モデル策定の際どのalphaを指定すべき検討するときは上記のような図を描くとよい。"
   ]
  },
  {
   "cell_type": "code",
   "execution_count": 75,
   "id": "0bb35e61-70d2-4a11-9070-a4cda06af232",
   "metadata": {},
   "outputs": [
    {
     "name": "stdout",
     "output_type": "stream",
     "text": [
      "|--- value: [2.96]\n",
      "\n"
     ]
    }
   ],
   "source": [
    "# 最もbiasが高いモデルを見てみる。\n",
    "print(tree.export_text(models[-1], feature_names=list(models[-1].feature_names_in_)))"
   ]
  },
  {
   "cell_type": "markdown",
   "id": "09f01331-eb85-400b-a305-4634acd16452",
   "metadata": {},
   "source": [
    "単純化されすぎて2.96という予測値しか返さないモデルになっている。"
   ]
  },
  {
   "cell_type": "markdown",
   "id": "137f62dd-6ca7-4ddf-a46a-1f2d3b4bd19e",
   "metadata": {},
   "source": [
    "## ○ 決定木（分類）\n",
    "参考：https://datawokagaku.com/decision_tree_classifier/\n",
    "* sklearn.tree.DecisionTreeClassifier\n",
    "    * max_depth: 木の深さを指定\n",
    "    * min_samples_split: 最低限分割に必要なデータ数（分割対象の領域内データ数）を指定。\n",
    "    * ccp_alpha: cost complexity pruningのalphaの値を指定\n",
    "* 使い方はRegressorと同じ  "
   ]
  },
  {
   "cell_type": "code",
   "execution_count": 2,
   "id": "25a1f7f2-41df-489e-aa28-450cf7577d02",
   "metadata": {},
   "outputs": [],
   "source": [
    "# seabornのtitanicデータセットをインポート\n",
    "df = sns.load_dataset('titanic')"
   ]
  },
  {
   "cell_type": "code",
   "execution_count": 56,
   "id": "59693ffb-c8e3-41a4-88ce-1c73e1fe0b30",
   "metadata": {},
   "outputs": [
    {
     "data": {
      "text/html": [
       "<div>\n",
       "<style scoped>\n",
       "    .dataframe tbody tr th:only-of-type {\n",
       "        vertical-align: middle;\n",
       "    }\n",
       "\n",
       "    .dataframe tbody tr th {\n",
       "        vertical-align: top;\n",
       "    }\n",
       "\n",
       "    .dataframe thead th {\n",
       "        text-align: right;\n",
       "    }\n",
       "</style>\n",
       "<table border=\"1\" class=\"dataframe\">\n",
       "  <thead>\n",
       "    <tr style=\"text-align: right;\">\n",
       "      <th></th>\n",
       "      <th>survived</th>\n",
       "      <th>pclass</th>\n",
       "      <th>sex</th>\n",
       "      <th>age</th>\n",
       "      <th>sibsp</th>\n",
       "      <th>parch</th>\n",
       "      <th>fare</th>\n",
       "      <th>embarked</th>\n",
       "      <th>class</th>\n",
       "      <th>who</th>\n",
       "      <th>adult_male</th>\n",
       "      <th>deck</th>\n",
       "      <th>embark_town</th>\n",
       "      <th>alive</th>\n",
       "      <th>alone</th>\n",
       "    </tr>\n",
       "  </thead>\n",
       "  <tbody>\n",
       "    <tr>\n",
       "      <th>1</th>\n",
       "      <td>1</td>\n",
       "      <td>1</td>\n",
       "      <td>female</td>\n",
       "      <td>38.0</td>\n",
       "      <td>1</td>\n",
       "      <td>0</td>\n",
       "      <td>71.2833</td>\n",
       "      <td>C</td>\n",
       "      <td>First</td>\n",
       "      <td>woman</td>\n",
       "      <td>False</td>\n",
       "      <td>C</td>\n",
       "      <td>Cherbourg</td>\n",
       "      <td>yes</td>\n",
       "      <td>False</td>\n",
       "    </tr>\n",
       "    <tr>\n",
       "      <th>3</th>\n",
       "      <td>1</td>\n",
       "      <td>1</td>\n",
       "      <td>female</td>\n",
       "      <td>35.0</td>\n",
       "      <td>1</td>\n",
       "      <td>0</td>\n",
       "      <td>53.1000</td>\n",
       "      <td>S</td>\n",
       "      <td>First</td>\n",
       "      <td>woman</td>\n",
       "      <td>False</td>\n",
       "      <td>C</td>\n",
       "      <td>Southampton</td>\n",
       "      <td>yes</td>\n",
       "      <td>False</td>\n",
       "    </tr>\n",
       "    <tr>\n",
       "      <th>6</th>\n",
       "      <td>0</td>\n",
       "      <td>1</td>\n",
       "      <td>male</td>\n",
       "      <td>54.0</td>\n",
       "      <td>0</td>\n",
       "      <td>0</td>\n",
       "      <td>51.8625</td>\n",
       "      <td>S</td>\n",
       "      <td>First</td>\n",
       "      <td>man</td>\n",
       "      <td>True</td>\n",
       "      <td>E</td>\n",
       "      <td>Southampton</td>\n",
       "      <td>no</td>\n",
       "      <td>True</td>\n",
       "    </tr>\n",
       "    <tr>\n",
       "      <th>10</th>\n",
       "      <td>1</td>\n",
       "      <td>3</td>\n",
       "      <td>female</td>\n",
       "      <td>4.0</td>\n",
       "      <td>1</td>\n",
       "      <td>1</td>\n",
       "      <td>16.7000</td>\n",
       "      <td>S</td>\n",
       "      <td>Third</td>\n",
       "      <td>child</td>\n",
       "      <td>False</td>\n",
       "      <td>G</td>\n",
       "      <td>Southampton</td>\n",
       "      <td>yes</td>\n",
       "      <td>False</td>\n",
       "    </tr>\n",
       "    <tr>\n",
       "      <th>11</th>\n",
       "      <td>1</td>\n",
       "      <td>1</td>\n",
       "      <td>female</td>\n",
       "      <td>58.0</td>\n",
       "      <td>0</td>\n",
       "      <td>0</td>\n",
       "      <td>26.5500</td>\n",
       "      <td>S</td>\n",
       "      <td>First</td>\n",
       "      <td>woman</td>\n",
       "      <td>False</td>\n",
       "      <td>C</td>\n",
       "      <td>Southampton</td>\n",
       "      <td>yes</td>\n",
       "      <td>True</td>\n",
       "    </tr>\n",
       "  </tbody>\n",
       "</table>\n",
       "</div>"
      ],
      "text/plain": [
       "    survived  pclass     sex   age  sibsp  parch     fare embarked  class  \\\n",
       "1          1       1  female  38.0      1      0  71.2833        C  First   \n",
       "3          1       1  female  35.0      1      0  53.1000        S  First   \n",
       "6          0       1    male  54.0      0      0  51.8625        S  First   \n",
       "10         1       3  female   4.0      1      1  16.7000        S  Third   \n",
       "11         1       1  female  58.0      0      0  26.5500        S  First   \n",
       "\n",
       "      who  adult_male deck  embark_town alive  alone  \n",
       "1   woman       False    C    Cherbourg   yes  False  \n",
       "3   woman       False    C  Southampton   yes  False  \n",
       "6     man        True    E  Southampton    no   True  \n",
       "10  child       False    G  Southampton   yes  False  \n",
       "11  woman       False    C  Southampton   yes   True  "
      ]
     },
     "execution_count": 56,
     "metadata": {},
     "output_type": "execute_result"
    }
   ],
   "source": [
    "df.head()"
   ]
  },
  {
   "cell_type": "code",
   "execution_count": 20,
   "id": "bee544cf-bd2d-4443-b7ab-a01b1ed67713",
   "metadata": {},
   "outputs": [],
   "source": [
    "# NaNを落とす。\n",
    "df = df.dropna()\n",
    "\n",
    "# survivedとalive以外を特徴量にする。df.drop(columns=['survived', 'alive']) →こっちの方がすっきりするかも。\n",
    "X = df.loc[:, (df.columns != 'survived') &  (df.columns != 'alive')]\n",
    "X = pd.get_dummies(X, drop_first=True)\n",
    "y = df['survived']\n",
    "X_train, X_test, y_train, y_test = train_test_split(X, y, test_size=0.3, random_state=0)"
   ]
  },
  {
   "cell_type": "code",
   "execution_count": 31,
   "id": "ac195025-64ef-4fd7-8db8-4ba532aa7904",
   "metadata": {},
   "outputs": [],
   "source": [
    "# 剪定するので、max_depthは指定せず最後まで学習\n",
    "model = tree.DecisionTreeClassifier(random_state=0)"
   ]
  },
  {
   "cell_type": "code",
   "execution_count": 32,
   "id": "a03e3a14-1767-45e2-8f1d-44d6d38c5276",
   "metadata": {},
   "outputs": [
    {
     "data": {
      "text/plain": [
       "{'ccp_alphas': array([0.        , 0.00656168, 0.00656168, 0.00699913, 0.00726832,\n",
       "        0.0077282 , 0.00787402, 0.01049869, 0.0111986 , 0.0118874 ,\n",
       "        0.01526093, 0.01880243, 0.02677358, 0.12717222]),\n",
       " 'impurities': array([0.        , 0.01312336, 0.02624672, 0.04024497, 0.05478161,\n",
       "        0.07023802, 0.07811203, 0.09910941, 0.11030801, 0.14597022,\n",
       "        0.2375358 , 0.2939431 , 0.32071667, 0.4478889 ])}"
      ]
     },
     "execution_count": 32,
     "metadata": {},
     "output_type": "execute_result"
    }
   ],
   "source": [
    "# effective alphaと不純度を取得。辞書で返ってくる\n",
    "path = model.cost_complexity_pruning_path(X_train, y_train)\n",
    "path"
   ]
  },
  {
   "cell_type": "code",
   "execution_count": 33,
   "id": "87c3581e-9ceb-44df-b634-e81c33723aba",
   "metadata": {},
   "outputs": [],
   "source": [
    "# それぞれ変数に格納。\n",
    "eff_alphas, impurities = path.ccp_alphas, path.impurities"
   ]
  },
  {
   "cell_type": "code",
   "execution_count": 34,
   "id": "49a9aa12-e855-4f35-801a-e8f83f9ef169",
   "metadata": {},
   "outputs": [],
   "source": [
    "# effective alphaごとにモデル出力。（eff_alphasごとに剪定する）\n",
    "models = []\n",
    "for alpha in eff_alphas:\n",
    "    model = tree.DecisionTreeClassifier(random_state=0, ccp_alpha=alpha)\n",
    "    model.fit(X_train, y_train)\n",
    "    models.append(model)"
   ]
  },
  {
   "cell_type": "code",
   "execution_count": null,
   "id": "3653f63a-f824-4a49-8afe-0e292d98c38a",
   "metadata": {},
   "outputs": [
    {
     "data": {
      "text/plain": [
       "[DecisionTreeClassifier(random_state=0),\n",
       " DecisionTreeClassifier(ccp_alpha=0.006561679790026247, random_state=0),\n",
       " DecisionTreeClassifier(ccp_alpha=0.006561679790026247, random_state=0),\n",
       " DecisionTreeClassifier(ccp_alpha=0.006999125109361329, random_state=0),\n",
       " DecisionTreeClassifier(ccp_alpha=0.007268322228952147, random_state=0),\n",
       " DecisionTreeClassifier(ccp_alpha=0.00772820064158646, random_state=0),\n",
       " DecisionTreeClassifier(ccp_alpha=0.007874015748031496, random_state=0),\n",
       " DecisionTreeClassifier(ccp_alpha=0.010498687664041995, random_state=0),\n",
       " DecisionTreeClassifier(ccp_alpha=0.011198600174978122, random_state=0),\n",
       " DecisionTreeClassifier(ccp_alpha=0.01188740296351846, random_state=0),\n",
       " DecisionTreeClassifier(ccp_alpha=0.015260930221560144, random_state=0),\n",
       " DecisionTreeClassifier(ccp_alpha=0.01880243307726162, random_state=0),\n",
       " DecisionTreeClassifier(ccp_alpha=0.02677357637987557, random_state=0),\n",
       " DecisionTreeClassifier(ccp_alpha=0.1271722235752164, random_state=0)]"
      ]
     },
     "execution_count": 35,
     "metadata": {},
     "output_type": "execute_result"
    }
   ],
   "source": [
    "models"
   ]
  },
  {
   "cell_type": "code",
   "execution_count": 44,
   "id": "fe503458-18e8-4338-b953-f8b725a9bf87",
   "metadata": {},
   "outputs": [
    {
     "data": {
      "text/plain": [
       "<matplotlib.legend.Legend at 0x7f2d7c01c550>"
      ]
     },
     "execution_count": 44,
     "metadata": {},
     "output_type": "execute_result"
    },
    {
     "data": {
      "image/png": "[encoded data removed]",
      "text/plain": [
       "<Figure size 432x288 with 1 Axes>"
      ]
     },
     "metadata": {
      "needs_background": "light"
     },
     "output_type": "display_data"
    }
   ],
   "source": [
    "# .scoreで精度（accuracy）を算出\n",
    "train_scores = [model.score(X_train, y_train) for model in models]\n",
    "test_scores = [model.score(X_test, y_test) for model in models]\n",
    "\n",
    "# 描画\n",
    "fig, ax = plt.subplots()\n",
    "ax.set_xlabel('effective alpha')\n",
    "ax.set_ylabel('accuracy')\n",
    "ax.plot(eff_alphas, train_scores, marker='o', drawstyle='steps-post', label='train')\n",
    "ax.plot(eff_alphas, test_scores, marker='o', drawstyle='steps-post', label='test')\n",
    "ax.legend()"
   ]
  },
  {
   "cell_type": "markdown",
   "id": "2a441a7f-2665-4db6-a008-cbd610d54c6a",
   "metadata": {},
   "source": [
    "alpha=0.011~0.015あたりが精度良さそう。"
   ]
  },
  {
   "cell_type": "code",
   "execution_count": 57,
   "id": "44a5e293-a1ea-4f85-bc33-c6095ed176e6",
   "metadata": {},
   "outputs": [
    {
     "data": {
      "text/html": [
       "<style>#sk-container-id-5 {color: black;background-color: white;}#sk-container-id-5 pre{padding: 0;}#sk-container-id-5 div.sk-toggleable {background-color: white;}#sk-container-id-5 label.sk-toggleable__label {cursor: pointer;display: block;width: 100%;margin-bottom: 0;padding: 0.3em;box-sizing: border-box;text-align: center;}#sk-container-id-5 label.sk-toggleable__label-arrow:before {content: \"▸\";float: left;margin-right: 0.25em;color: #696969;}#sk-container-id-5 label.sk-toggleable__label-arrow:hover:before {color: black;}#sk-container-id-5 div.sk-estimator:hover label.sk-toggleable__label-arrow:before {color: black;}#sk-container-id-5 div.sk-toggleable__content {max-height: 0;max-width: 0;overflow: hidden;text-align: left;background-color: #f0f8ff;}#sk-container-id-5 div.sk-toggleable__content pre {margin: 0.2em;color: black;border-radius: 0.25em;background-color: #f0f8ff;}#sk-container-id-5 input.sk-toggleable__control:checked~div.sk-toggleable__content {max-height: 200px;max-width: 100%;overflow: auto;}#sk-container-id-5 input.sk-toggleable__control:checked~label.sk-toggleable__label-arrow:before {content: \"▾\";}#sk-container-id-5 div.sk-estimator input.sk-toggleable__control:checked~label.sk-toggleable__label {background-color: #d4ebff;}#sk-container-id-5 div.sk-label input.sk-toggleable__control:checked~label.sk-toggleable__label {background-color: #d4ebff;}#sk-container-id-5 input.sk-hidden--visually {border: 0;clip: rect(1px 1px 1px 1px);clip: rect(1px, 1px, 1px, 1px);height: 1px;margin: -1px;overflow: hidden;padding: 0;position: absolute;width: 1px;}#sk-container-id-5 div.sk-estimator {font-family: monospace;background-color: #f0f8ff;border: 1px dotted black;border-radius: 0.25em;box-sizing: border-box;margin-bottom: 0.5em;}#sk-container-id-5 div.sk-estimator:hover {background-color: #d4ebff;}#sk-container-id-5 div.sk-parallel-item::after {content: \"\";width: 100%;border-bottom: 1px solid gray;flex-grow: 1;}#sk-container-id-5 div.sk-label:hover label.sk-toggleable__label {background-color: #d4ebff;}#sk-container-id-5 div.sk-serial::before {content: \"\";position: absolute;border-left: 1px solid gray;box-sizing: border-box;top: 0;bottom: 0;left: 50%;z-index: 0;}#sk-container-id-5 div.sk-serial {display: flex;flex-direction: column;align-items: center;background-color: white;padding-right: 0.2em;padding-left: 0.2em;position: relative;}#sk-container-id-5 div.sk-item {position: relative;z-index: 1;}#sk-container-id-5 div.sk-parallel {display: flex;align-items: stretch;justify-content: center;background-color: white;position: relative;}#sk-container-id-5 div.sk-item::before, #sk-container-id-5 div.sk-parallel-item::before {content: \"\";position: absolute;border-left: 1px solid gray;box-sizing: border-box;top: 0;bottom: 0;left: 50%;z-index: -1;}#sk-container-id-5 div.sk-parallel-item {display: flex;flex-direction: column;z-index: 1;position: relative;background-color: white;}#sk-container-id-5 div.sk-parallel-item:first-child::after {align-self: flex-end;width: 50%;}#sk-container-id-5 div.sk-parallel-item:last-child::after {align-self: flex-start;width: 50%;}#sk-container-id-5 div.sk-parallel-item:only-child::after {width: 0;}#sk-container-id-5 div.sk-dashed-wrapped {border: 1px dashed gray;margin: 0 0.4em 0.5em 0.4em;box-sizing: border-box;padding-bottom: 0.4em;background-color: white;}#sk-container-id-5 div.sk-label label {font-family: monospace;font-weight: bold;display: inline-block;line-height: 1.2em;}#sk-container-id-5 div.sk-label-container {text-align: center;}#sk-container-id-5 div.sk-container {/* jupyter's `normalize.less` sets `[hidden] { display: none; }` but bootstrap.min.css set `[hidden] { display: none !important; }` so we also need the `!important` here to be able to override the default hidden behavior on the sphinx rendered scikit-learn.org. See: https://github.com/scikit-learn/scikit-learn/issues/21755 */display: inline-block !important;position: relative;}#sk-container-id-5 div.sk-text-repr-fallback {display: none;}</style><div id=\"sk-container-id-5\" class=\"sk-top-container\"><div class=\"sk-text-repr-fallback\"><pre>DecisionTreeClassifier(ccp_alpha=0.015260930221560144, random_state=0)</pre><b>In a Jupyter environment, please rerun this cell to show the HTML representation or trust the notebook. <br />On GitHub, the HTML representation is unable to render, please try loading this page with nbviewer.org.</b></div><div class=\"sk-container\" hidden><div class=\"sk-item\"><div class=\"sk-estimator sk-toggleable\"><input class=\"sk-toggleable__control sk-hidden--visually\" id=\"sk-estimator-id-5\" type=\"checkbox\" checked><label for=\"sk-estimator-id-5\" class=\"sk-toggleable__label sk-toggleable__label-arrow\">DecisionTreeClassifier</label><div class=\"sk-toggleable__content\"><pre>DecisionTreeClassifier(ccp_alpha=0.015260930221560144, random_state=0)</pre></div></div></div></div></div>"
      ],
      "text/plain": [
       "DecisionTreeClassifier(ccp_alpha=0.015260930221560144, random_state=0)"
      ]
     },
     "execution_count": 57,
     "metadata": {},
     "output_type": "execute_result"
    }
   ],
   "source": [
    "models[10]"
   ]
  },
  {
   "cell_type": "code",
   "execution_count": 68,
   "id": "a4ec8579-7b18-4b6c-9bbb-8697fe0f740b",
   "metadata": {},
   "outputs": [
    {
     "data": {
      "image/png": "[encoded data removed]",
      "text/plain": [
       "<Figure size 1080x1080 with 1 Axes>"
      ]
     },
     "metadata": {
      "needs_background": "light"
     },
     "output_type": "display_data"
    }
   ],
   "source": [
    "# 精度良さそうなモデルの決定木を可視化してみる\n",
    "plt.figure(figsize=(15,15))\n",
    "_ = tree.plot_tree(models[10], fontsize=13, feature_names=model.feature_names_in_)"
   ]
  },
  {
   "cell_type": "code",
   "execution_count": 70,
   "id": "303dc21a-3dbd-4d96-afdc-34e8f93ecc45",
   "metadata": {},
   "outputs": [
    {
     "data": {
      "text/plain": [
       "array([0, 1])"
      ]
     },
     "execution_count": 70,
     "metadata": {},
     "output_type": "execute_result"
    }
   ],
   "source": [
    "models[10].classes_"
   ]
  },
  {
   "cell_type": "markdown",
   "id": "7029bfe1-c4bf-44a7-aca1-e21fa9ec088e",
   "metadata": {},
   "source": [
    "value = [a, b]はsurvivedのクラスごとの数を表している。  \n",
    "model.classes_より、左が死亡、右が生存の数。"
   ]
  },
  {
   "cell_type": "code",
   "execution_count": 118,
   "id": "04481a55-78fd-4472-b7f8-8bd261b8644c",
   "metadata": {},
   "outputs": [
    {
     "data": {
      "text/plain": [
       "0.8545454545454545"
      ]
     },
     "execution_count": 118,
     "metadata": {},
     "output_type": "execute_result"
    }
   ],
   "source": [
    "accuracy_score(y_test, models[10].predict(X_test))"
   ]
  },
  {
   "cell_type": "code",
   "execution_count": 114,
   "id": "dcf9b78f-35ca-4573-a775-699f8cb3ac56",
   "metadata": {},
   "outputs": [
    {
     "name": "stdout",
     "output_type": "stream",
     "text": [
      "成人男性でない数：65\n",
      "そのうちの死者数:6\n",
      "そのうちの生存者数:59\n"
     ]
    }
   ],
   "source": [
    "# 検算\n",
    "idx = X_train.loc[(X_train['adult_male'] == False),:].index\n",
    "print(f'成人男性でない数：{len(idx)}')\n",
    "print(f'そのうちの死者数:{y_train[idx].value_counts()[0]}')\n",
    "print(f'そのうちの生存者数:{y_train[idx].value_counts()[1]}')\n"
   ]
  },
  {
   "cell_type": "markdown",
   "id": "efeffe94-fa23-4603-8f57-f74809ede26a",
   "metadata": {},
   "source": [
    "確かに上記ツリーと同じ内訳になっている。  \n",
    "成人男性でない、かつfareが10.481よりも大きいと生存する確率が高いといえそう。"
   ]
  },
  {
   "cell_type": "code",
   "execution_count": 69,
   "id": "6a2a03e8-28f1-488c-a3af-a8c05c54e49c",
   "metadata": {},
   "outputs": [
    {
     "data": {
      "text/plain": [
       "array([0, 0, 1, 1, 0, 0, 0, 1, 1, 1, 0, 1, 1, 1, 0, 1, 0, 1, 1, 0, 1, 1,\n",
       "       1, 1, 1, 0, 0, 1, 0, 0, 0, 1, 1, 1, 1, 1, 1, 1, 0, 0, 0, 1, 0, 1,\n",
       "       0, 1, 1, 0, 0, 0, 0, 1, 0, 1, 1])"
      ]
     },
     "execution_count": 69,
     "metadata": {},
     "output_type": "execute_result"
    }
   ],
   "source": [
    "models[10].predict(X_test)"
   ]
  },
  {
   "cell_type": "code",
   "execution_count": 116,
   "id": "aac20dee-252b-41d4-8b33-907a4b2cd632",
   "metadata": {},
   "outputs": [
    {
     "data": {
      "text/html": [
       "<div>\n",
       "<style scoped>\n",
       "    .dataframe tbody tr th:only-of-type {\n",
       "        vertical-align: middle;\n",
       "    }\n",
       "\n",
       "    .dataframe tbody tr th {\n",
       "        vertical-align: top;\n",
       "    }\n",
       "\n",
       "    .dataframe thead th {\n",
       "        text-align: right;\n",
       "    }\n",
       "</style>\n",
       "<table border=\"1\" class=\"dataframe\">\n",
       "  <thead>\n",
       "    <tr style=\"text-align: right;\">\n",
       "      <th></th>\n",
       "      <th>pclass</th>\n",
       "      <th>age</th>\n",
       "      <th>sibsp</th>\n",
       "      <th>parch</th>\n",
       "      <th>fare</th>\n",
       "      <th>adult_male</th>\n",
       "      <th>alone</th>\n",
       "      <th>sex_male</th>\n",
       "      <th>embarked_Q</th>\n",
       "      <th>embarked_S</th>\n",
       "      <th>...</th>\n",
       "      <th>who_man</th>\n",
       "      <th>who_woman</th>\n",
       "      <th>deck_B</th>\n",
       "      <th>deck_C</th>\n",
       "      <th>deck_D</th>\n",
       "      <th>deck_E</th>\n",
       "      <th>deck_F</th>\n",
       "      <th>deck_G</th>\n",
       "      <th>embark_town_Queenstown</th>\n",
       "      <th>embark_town_Southampton</th>\n",
       "    </tr>\n",
       "  </thead>\n",
       "  <tbody>\n",
       "    <tr>\n",
       "      <th>484</th>\n",
       "      <td>1</td>\n",
       "      <td>25.0</td>\n",
       "      <td>1</td>\n",
       "      <td>0</td>\n",
       "      <td>91.0792</td>\n",
       "      <td>True</td>\n",
       "      <td>False</td>\n",
       "      <td>1</td>\n",
       "      <td>0</td>\n",
       "      <td>0</td>\n",
       "      <td>...</td>\n",
       "      <td>1</td>\n",
       "      <td>0</td>\n",
       "      <td>1</td>\n",
       "      <td>0</td>\n",
       "      <td>0</td>\n",
       "      <td>0</td>\n",
       "      <td>0</td>\n",
       "      <td>0</td>\n",
       "      <td>0</td>\n",
       "      <td>0</td>\n",
       "    </tr>\n",
       "    <tr>\n",
       "      <th>110</th>\n",
       "      <td>1</td>\n",
       "      <td>47.0</td>\n",
       "      <td>0</td>\n",
       "      <td>0</td>\n",
       "      <td>52.0000</td>\n",
       "      <td>True</td>\n",
       "      <td>True</td>\n",
       "      <td>1</td>\n",
       "      <td>0</td>\n",
       "      <td>1</td>\n",
       "      <td>...</td>\n",
       "      <td>1</td>\n",
       "      <td>0</td>\n",
       "      <td>0</td>\n",
       "      <td>1</td>\n",
       "      <td>0</td>\n",
       "      <td>0</td>\n",
       "      <td>0</td>\n",
       "      <td>0</td>\n",
       "      <td>0</td>\n",
       "      <td>1</td>\n",
       "    </tr>\n",
       "    <tr>\n",
       "      <th>195</th>\n",
       "      <td>1</td>\n",
       "      <td>58.0</td>\n",
       "      <td>0</td>\n",
       "      <td>0</td>\n",
       "      <td>146.5208</td>\n",
       "      <td>False</td>\n",
       "      <td>True</td>\n",
       "      <td>0</td>\n",
       "      <td>0</td>\n",
       "      <td>0</td>\n",
       "      <td>...</td>\n",
       "      <td>0</td>\n",
       "      <td>1</td>\n",
       "      <td>1</td>\n",
       "      <td>0</td>\n",
       "      <td>0</td>\n",
       "      <td>0</td>\n",
       "      <td>0</td>\n",
       "      <td>0</td>\n",
       "      <td>0</td>\n",
       "      <td>0</td>\n",
       "    </tr>\n",
       "    <tr>\n",
       "      <th>496</th>\n",
       "      <td>1</td>\n",
       "      <td>54.0</td>\n",
       "      <td>1</td>\n",
       "      <td>0</td>\n",
       "      <td>78.2667</td>\n",
       "      <td>False</td>\n",
       "      <td>False</td>\n",
       "      <td>0</td>\n",
       "      <td>0</td>\n",
       "      <td>0</td>\n",
       "      <td>...</td>\n",
       "      <td>0</td>\n",
       "      <td>1</td>\n",
       "      <td>0</td>\n",
       "      <td>0</td>\n",
       "      <td>1</td>\n",
       "      <td>0</td>\n",
       "      <td>0</td>\n",
       "      <td>0</td>\n",
       "      <td>0</td>\n",
       "      <td>0</td>\n",
       "    </tr>\n",
       "    <tr>\n",
       "      <th>889</th>\n",
       "      <td>1</td>\n",
       "      <td>26.0</td>\n",
       "      <td>0</td>\n",
       "      <td>0</td>\n",
       "      <td>30.0000</td>\n",
       "      <td>True</td>\n",
       "      <td>True</td>\n",
       "      <td>1</td>\n",
       "      <td>0</td>\n",
       "      <td>0</td>\n",
       "      <td>...</td>\n",
       "      <td>1</td>\n",
       "      <td>0</td>\n",
       "      <td>0</td>\n",
       "      <td>1</td>\n",
       "      <td>0</td>\n",
       "      <td>0</td>\n",
       "      <td>0</td>\n",
       "      <td>0</td>\n",
       "      <td>0</td>\n",
       "      <td>0</td>\n",
       "    </tr>\n",
       "  </tbody>\n",
       "</table>\n",
       "<p>5 rows × 22 columns</p>\n",
       "</div>"
      ],
      "text/plain": [
       "     pclass   age  sibsp  parch      fare  adult_male  alone  sex_male  \\\n",
       "484       1  25.0      1      0   91.0792        True  False         1   \n",
       "110       1  47.0      0      0   52.0000        True   True         1   \n",
       "195       1  58.0      0      0  146.5208       False   True         0   \n",
       "496       1  54.0      1      0   78.2667       False  False         0   \n",
       "889       1  26.0      0      0   30.0000        True   True         1   \n",
       "\n",
       "     embarked_Q  embarked_S  ...  who_man  who_woman  deck_B  deck_C  deck_D  \\\n",
       "484           0           0  ...        1          0       1       0       0   \n",
       "110           0           1  ...        1          0       0       1       0   \n",
       "195           0           0  ...        0          1       1       0       0   \n",
       "496           0           0  ...        0          1       0       0       1   \n",
       "889           0           0  ...        1          0       0       1       0   \n",
       "\n",
       "     deck_E  deck_F  deck_G  embark_town_Queenstown  embark_town_Southampton  \n",
       "484       0       0       0                       0                        0  \n",
       "110       0       0       0                       0                        1  \n",
       "195       0       0       0                       0                        0  \n",
       "496       0       0       0                       0                        0  \n",
       "889       0       0       0                       0                        0  \n",
       "\n",
       "[5 rows x 22 columns]"
      ]
     },
     "execution_count": 116,
     "metadata": {},
     "output_type": "execute_result"
    }
   ],
   "source": [
    "X_test.head()"
   ]
  },
  {
   "attachments": {},
   "cell_type": "markdown",
   "id": "d50f354d-f42a-4f61-b6cf-34c00d4b4977",
   "metadata": {},
   "source": [
    "## ○ 入力されたデータが決定木のどの葉にたどり着いたのか調べる方法\n",
    "決定木の出力結果を詳しく見たいときなどに使える。  "
   ]
  },
  {
   "cell_type": "code",
   "execution_count": 224,
   "id": "386e500f",
   "metadata": {},
   "outputs": [],
   "source": [
    "# tipsデータセットをインポート\n",
    "df = pl.from_pandas(sns.load_dataset('mpg'))\n",
    "\n",
    "# 今回は単純に欠損値を落とす。\n",
    "df = df.drop_nulls()\n",
    "\n",
    "# 学習データ、目的変数を定義\n",
    "X = df.drop(['mpg'])\n",
    "y = df.get_column('mpg')\n",
    "\n",
    "# カテゴリ変数のカラム名をリスト化\n",
    "category_cols = X.select(pl.col(pl.Utf8)).columns\n",
    "\n",
    "# ラベルエンコーディング（LabelEncoderではなく、OrdinalEncoderを使う）\n",
    "oe = OrdinalEncoder()\n",
    "# pandasで返ってくるように指定。polarsは指定できない模様\n",
    "oe.set_output(transform='pandas')\n",
    "# カテゴリ変数をエンコーディング。polars.DFはそのまま入れられないのでpandasに変換する。\n",
    "X = X.with_columns( pl.from_pandas(oe.fit_transform(X.select(category_cols).to_pandas())) )\n",
    "\n",
    "# hold-out\n",
    "X_train, X_test, y_train, y_test = train_test_split(X.to_pandas(), y.to_pandas(), test_size=0.3, random_state=0)\n"
   ]
  },
  {
   "cell_type": "code",
   "execution_count": 225,
   "id": "54f21ab5",
   "metadata": {},
   "outputs": [],
   "source": [
    "model = tree.DecisionTreeRegressor(max_depth=2, random_state=0).fit(X_train, y_train)"
   ]
  },
  {
   "attachments": {},
   "cell_type": "markdown",
   "id": "30e4f53c",
   "metadata": {},
   "source": [
    "model.applyによって、テストデータがどの葉(ID)にたどり着くのかが分かる。  \n",
    "下の例では最初のデータは決定木の一番左の葉（一番目の葉）にたどり着くことを表している。  \n",
    "また、np.count_nonzeroで葉にたどり着くテストデータの総数をカウントできる。"
   ]
  },
  {
   "cell_type": "code",
   "execution_count": 226,
   "id": "d0074d7c",
   "metadata": {},
   "outputs": [
    {
     "data": {
      "text/plain": [
       "array([2, 3, 6, 3, 3, 5, 3, 3, 5, 2, 2, 6, 2, 6, 6, 3, 2, 6, 2, 3, 5, 5,\n",
       "       2, 5, 3, 6, 3, 2, 5, 6, 5, 3, 2, 2, 5, 3, 2, 6, 6, 6, 6, 3, 3, 6,\n",
       "       2, 6, 3, 6, 6, 5, 2, 6, 6, 2, 3, 5, 5, 5, 2, 2, 5, 2, 2, 6, 2, 5,\n",
       "       6, 3, 2, 3, 2, 2, 5, 6, 5, 6, 2, 6, 2, 2, 5, 3, 5, 2, 6, 5, 2, 3,\n",
       "       3, 2, 2, 6, 2, 5, 5, 2, 3, 2, 2, 2, 6, 2, 2, 2, 3, 5, 2, 5, 3, 6,\n",
       "       6, 2, 2, 5, 3, 2, 3, 5])"
      ]
     },
     "execution_count": 226,
     "metadata": {},
     "output_type": "execute_result"
    }
   ],
   "source": [
    "model.apply(X_test)"
   ]
  },
  {
   "cell_type": "code",
   "execution_count": 227,
   "id": "428946b0",
   "metadata": {},
   "outputs": [
    {
     "data": {
      "text/plain": [
       "25"
      ]
     },
     "execution_count": 227,
     "metadata": {},
     "output_type": "execute_result"
    }
   ],
   "source": [
    "np.count_nonzero(model.apply(X_test) == 5)"
   ]
  },
  {
   "attachments": {},
   "cell_type": "markdown",
   "id": "bab61409",
   "metadata": {},
   "source": [
    "model.tree_.valueで決定木の各ノードおよび葉の値を取得できる。  "
   ]
  },
  {
   "cell_type": "code",
   "execution_count": 228,
   "id": "080c2ca5",
   "metadata": {},
   "outputs": [
    {
     "data": {
      "text/plain": [
       "array([[[23.1689781 ]],\n",
       "\n",
       "       [[29.12428571]],\n",
       "\n",
       "       [[26.36125   ]],\n",
       "\n",
       "       [[32.80833333]],\n",
       "\n",
       "       [[16.94701493]],\n",
       "\n",
       "       [[19.03636364]],\n",
       "\n",
       "       [[14.1245614 ]]])"
      ]
     },
     "execution_count": 228,
     "metadata": {},
     "output_type": "execute_result"
    }
   ],
   "source": [
    "model.tree_.value"
   ]
  },
  {
   "attachments": {},
   "cell_type": "markdown",
   "id": "42243f9a",
   "metadata": {},
   "source": [
    "決定木を可視化するとわかるように一番左の枝のノード→その下の葉という順に出力されている。  \n",
    "そして.applyのIDもこの順に対応している。"
   ]
  },
  {
   "cell_type": "code",
   "execution_count": 183,
   "id": "867ffc1b",
   "metadata": {},
   "outputs": [
    {
     "data": {
      "text/plain": [
       "[Text(0.5, 0.8333333333333334, 'x[0] <= 5.5\\nsquared_error = 60.184\\nsamples = 274\\nvalue = 23.169'),\n",
       " Text(0.25, 0.5, 'x[5] <= 78.5\\nsquared_error = 32.348\\nsamples = 140\\nvalue = 29.124'),\n",
       " Text(0.125, 0.16666666666666666, 'squared_error = 20.625\\nsamples = 80\\nvalue = 26.361'),\n",
       " Text(0.375, 0.16666666666666666, 'squared_error = 24.227\\nsamples = 60\\nvalue = 32.808'),\n",
       " Text(0.75, 0.5, 'x[2] <= 139.5\\nsquared_error = 13.5\\nsamples = 134\\nvalue = 16.947'),\n",
       " Text(0.625, 0.16666666666666666, 'squared_error = 10.081\\nsamples = 77\\nvalue = 19.036'),\n",
       " Text(0.875, 0.16666666666666666, 'squared_error = 4.254\\nsamples = 57\\nvalue = 14.125')]"
      ]
     },
     "execution_count": 183,
     "metadata": {},
     "output_type": "execute_result"
    },
    {
     "data": {
      "image/png": "[encoded data removed]",
      "text/plain": [
       "<Figure size 720x504 with 1 Axes>"
      ]
     },
     "metadata": {
      "needs_background": "light"
     },
     "output_type": "display_data"
    }
   ],
   "source": [
    "plt.figure(figsize=(10,7))\n",
    "tree.plot_tree(model, fontsize=10)"
   ]
  },
  {
   "cell_type": "code",
   "execution_count": 229,
   "id": "6adfbdbc",
   "metadata": {},
   "outputs": [
    {
     "data": {
      "text/plain": [
       "array([2, 3, 6, 3, 3, 5, 3, 3, 5, 2])"
      ]
     },
     "execution_count": 229,
     "metadata": {},
     "output_type": "execute_result"
    }
   ],
   "source": [
    "model.apply(X_test)[:10]"
   ]
  },
  {
   "cell_type": "code",
   "execution_count": 230,
   "id": "e9392db2",
   "metadata": {},
   "outputs": [
    {
     "data": {
      "text/plain": [
       "array([26.36125   , 32.80833333, 14.1245614 , 32.80833333, 32.80833333,\n",
       "       19.03636364, 32.80833333, 32.80833333, 19.03636364, 26.36125   ])"
      ]
     },
     "execution_count": 230,
     "metadata": {},
     "output_type": "execute_result"
    }
   ],
   "source": [
    "model.predict(X_test)[:10]"
   ]
  },
  {
   "attachments": {},
   "cell_type": "markdown",
   "id": "eed54fc0",
   "metadata": {},
   "source": [
    "下記のようにmodel.tree_.valueに値を代入することで葉の値を変更することも可能。  \n",
    "（GBDTを実装するときなどに使う）"
   ]
  },
  {
   "cell_type": "code",
   "execution_count": 200,
   "id": "5a6d14f7",
   "metadata": {},
   "outputs": [],
   "source": [
    "model.tree_.value[2, 0, 0] = 3"
   ]
  },
  {
   "cell_type": "code",
   "execution_count": 202,
   "id": "8ff4b258",
   "metadata": {},
   "outputs": [
    {
     "data": {
      "text/plain": [
       "3.0"
      ]
     },
     "execution_count": 202,
     "metadata": {},
     "output_type": "execute_result"
    }
   ],
   "source": [
    "model.tree_.value[2, 0, 0]"
   ]
  },
  {
   "cell_type": "code",
   "execution_count": 203,
   "id": "c73c93bc",
   "metadata": {},
   "outputs": [
    {
     "data": {
      "text/plain": [
       "[Text(0.5, 0.8333333333333334, 'x[0] <= 5.5\\nsquared_error = 60.184\\nsamples = 274\\nvalue = 23.169'),\n",
       " Text(0.25, 0.5, 'x[5] <= 78.5\\nsquared_error = 32.348\\nsamples = 140\\nvalue = 29.124'),\n",
       " Text(0.125, 0.16666666666666666, 'squared_error = 20.625\\nsamples = 80\\nvalue = 3.0'),\n",
       " Text(0.375, 0.16666666666666666, 'squared_error = 24.227\\nsamples = 60\\nvalue = 32.808'),\n",
       " Text(0.75, 0.5, 'x[2] <= 139.5\\nsquared_error = 13.5\\nsamples = 134\\nvalue = 16.947'),\n",
       " Text(0.625, 0.16666666666666666, 'squared_error = 10.081\\nsamples = 77\\nvalue = 19.036'),\n",
       " Text(0.875, 0.16666666666666666, 'squared_error = 4.254\\nsamples = 57\\nvalue = 14.125')]"
      ]
     },
     "execution_count": 203,
     "metadata": {},
     "output_type": "execute_result"
    },
    {
     "data": {
      "image/png": "[encoded data removed]",
      "text/plain": [
       "<Figure size 720x504 with 1 Axes>"
      ]
     },
     "metadata": {
      "needs_background": "light"
     },
     "output_type": "display_data"
    }
   ],
   "source": [
    "plt.figure(figsize=(10,7))\n",
    "tree.plot_tree(model, fontsize=10)"
   ]
  },
  {
   "cell_type": "code",
   "execution_count": 234,
   "id": "91da58ba",
   "metadata": {},
   "outputs": [],
   "source": [
    "p = model.predict(X_train)\n",
    "r = y_train - p"
   ]
  },
  {
   "cell_type": "code",
   "execution_count": 243,
   "id": "b5eca498",
   "metadata": {},
   "outputs": [
    {
     "name": "stdout",
     "output_type": "stream",
     "text": [
      "CPU times: user 3.17 ms, sys: 0 ns, total: 3.17 ms\n",
      "Wall time: 2.91 ms\n"
     ]
    },
    {
     "data": {
      "text/html": [
       "<div>\n",
       "<style>\n",
       ".pl-dataframe > thead > tr > th {\n",
       "  text-align: right;\n",
       "}\n",
       "</style>\n",
       "\n",
       "<table border=\"1\" class=\"dataframe pl-dataframe\">\n",
       "<small>shape: (5, 4)</small>\n",
       "<thead>\n",
       "<tr>\n",
       "<th>\n",
       "p\n",
       "</th>\n",
       "<th>\n",
       "leef\n",
       "</th>\n",
       "<th>\n",
       "r\n",
       "</th>\n",
       "<th>\n",
       "p(1-p)\n",
       "</th>\n",
       "</tr>\n",
       "<tr>\n",
       "<td>\n",
       "f64\n",
       "</td>\n",
       "<td>\n",
       "i64\n",
       "</td>\n",
       "<td>\n",
       "f64\n",
       "</td>\n",
       "<td>\n",
       "f64\n",
       "</td>\n",
       "</tr>\n",
       "</thead>\n",
       "<tbody>\n",
       "<tr>\n",
       "<td>\n",
       "32.808333\n",
       "</td>\n",
       "<td>\n",
       "3\n",
       "</td>\n",
       "<td>\n",
       "-1.808333\n",
       "</td>\n",
       "<td>\n",
       "-1043.578403\n",
       "</td>\n",
       "</tr>\n",
       "<tr>\n",
       "<td>\n",
       "19.036364\n",
       "</td>\n",
       "<td>\n",
       "5\n",
       "</td>\n",
       "<td>\n",
       "-2.036364\n",
       "</td>\n",
       "<td>\n",
       "-343.346777\n",
       "</td>\n",
       "</tr>\n",
       "<tr>\n",
       "<td>\n",
       "26.36125\n",
       "</td>\n",
       "<td>\n",
       "2\n",
       "</td>\n",
       "<td>\n",
       "-0.36125\n",
       "</td>\n",
       "<td>\n",
       "-668.554252\n",
       "</td>\n",
       "</tr>\n",
       "<tr>\n",
       "<td>\n",
       "32.808333\n",
       "</td>\n",
       "<td>\n",
       "3\n",
       "</td>\n",
       "<td>\n",
       "-0.508333\n",
       "</td>\n",
       "<td>\n",
       "-1043.578403\n",
       "</td>\n",
       "</tr>\n",
       "<tr>\n",
       "<td>\n",
       "14.124561\n",
       "</td>\n",
       "<td>\n",
       "6\n",
       "</td>\n",
       "<td>\n",
       "-3.124561\n",
       "</td>\n",
       "<td>\n",
       "-185.378673\n",
       "</td>\n",
       "</tr>\n",
       "</tbody>\n",
       "</table>\n",
       "</div>"
      ],
      "text/plain": [
       "shape: (5, 4)\n",
       "┌───────────┬──────┬───────────┬──────────────┐\n",
       "│ p         ┆ leef ┆ r         ┆ p(1-p)       │\n",
       "│ ---       ┆ ---  ┆ ---       ┆ ---          │\n",
       "│ f64       ┆ i64  ┆ f64       ┆ f64          │\n",
       "╞═══════════╪══════╪═══════════╪══════════════╡\n",
       "│ 32.808333 ┆ 3    ┆ -1.808333 ┆ -1043.578403 │\n",
       "│ 19.036364 ┆ 5    ┆ -2.036364 ┆ -343.346777  │\n",
       "│ 26.36125  ┆ 2    ┆ -0.36125  ┆ -668.554252  │\n",
       "│ 32.808333 ┆ 3    ┆ -0.508333 ┆ -1043.578403 │\n",
       "│ 14.124561 ┆ 6    ┆ -3.124561 ┆ -185.378673  │\n",
       "└───────────┴──────┴───────────┴──────────────┘"
      ]
     },
     "execution_count": 243,
     "metadata": {},
     "output_type": "execute_result"
    }
   ],
   "source": [
    "%%time\n",
    "df_test = pl.DataFrame({'p':p, 'leef':model.apply(X_train), 'r': y_train-p, 'p(1-p)': p * (1-p)})\n",
    "df_test.head()"
   ]
  },
  {
   "cell_type": "code",
   "execution_count": 245,
   "id": "d0d190bc",
   "metadata": {},
   "outputs": [
    {
     "data": {
      "text/html": [
       "<div>\n",
       "<style>\n",
       ".pl-dataframe > thead > tr > th {\n",
       "  text-align: right;\n",
       "}\n",
       "</style>\n",
       "\n",
       "<table border=\"1\" class=\"dataframe pl-dataframe\">\n",
       "<small>shape: (274, 4)</small>\n",
       "<thead>\n",
       "<tr>\n",
       "<th>\n",
       "p\n",
       "</th>\n",
       "<th>\n",
       "leef\n",
       "</th>\n",
       "<th>\n",
       "r\n",
       "</th>\n",
       "<th>\n",
       "p(1-p)\n",
       "</th>\n",
       "</tr>\n",
       "<tr>\n",
       "<td>\n",
       "f64\n",
       "</td>\n",
       "<td>\n",
       "i64\n",
       "</td>\n",
       "<td>\n",
       "f64\n",
       "</td>\n",
       "<td>\n",
       "f64\n",
       "</td>\n",
       "</tr>\n",
       "</thead>\n",
       "<tbody>\n",
       "<tr>\n",
       "<td>\n",
       "32.808333\n",
       "</td>\n",
       "<td>\n",
       "3\n",
       "</td>\n",
       "<td>\n",
       "-1.808333\n",
       "</td>\n",
       "<td>\n",
       "-1043.578403\n",
       "</td>\n",
       "</tr>\n",
       "<tr>\n",
       "<td>\n",
       "32.808333\n",
       "</td>\n",
       "<td>\n",
       "3\n",
       "</td>\n",
       "<td>\n",
       "-0.508333\n",
       "</td>\n",
       "<td>\n",
       "-1043.578403\n",
       "</td>\n",
       "</tr>\n",
       "<tr>\n",
       "<td>\n",
       "32.808333\n",
       "</td>\n",
       "<td>\n",
       "3\n",
       "</td>\n",
       "<td>\n",
       "0.691667\n",
       "</td>\n",
       "<td>\n",
       "-1043.578403\n",
       "</td>\n",
       "</tr>\n",
       "<tr>\n",
       "<td>\n",
       "32.808333\n",
       "</td>\n",
       "<td>\n",
       "3\n",
       "</td>\n",
       "<td>\n",
       "6.191667\n",
       "</td>\n",
       "<td>\n",
       "-1043.578403\n",
       "</td>\n",
       "</tr>\n",
       "<tr>\n",
       "<td>\n",
       "32.808333\n",
       "</td>\n",
       "<td>\n",
       "3\n",
       "</td>\n",
       "<td>\n",
       "-0.608333\n",
       "</td>\n",
       "<td>\n",
       "-1043.578403\n",
       "</td>\n",
       "</tr>\n",
       "<tr>\n",
       "<td>\n",
       "32.808333\n",
       "</td>\n",
       "<td>\n",
       "3\n",
       "</td>\n",
       "<td>\n",
       "-6.408333\n",
       "</td>\n",
       "<td>\n",
       "-1043.578403\n",
       "</td>\n",
       "</tr>\n",
       "<tr>\n",
       "<td>\n",
       "32.808333\n",
       "</td>\n",
       "<td>\n",
       "3\n",
       "</td>\n",
       "<td>\n",
       "-5.808333\n",
       "</td>\n",
       "<td>\n",
       "-1043.578403\n",
       "</td>\n",
       "</tr>\n",
       "<tr>\n",
       "<td>\n",
       "32.808333\n",
       "</td>\n",
       "<td>\n",
       "3\n",
       "</td>\n",
       "<td>\n",
       "-5.408333\n",
       "</td>\n",
       "<td>\n",
       "-1043.578403\n",
       "</td>\n",
       "</tr>\n",
       "<tr>\n",
       "<td>\n",
       "32.808333\n",
       "</td>\n",
       "<td>\n",
       "3\n",
       "</td>\n",
       "<td>\n",
       "2.891667\n",
       "</td>\n",
       "<td>\n",
       "-1043.578403\n",
       "</td>\n",
       "</tr>\n",
       "<tr>\n",
       "<td>\n",
       "32.808333\n",
       "</td>\n",
       "<td>\n",
       "3\n",
       "</td>\n",
       "<td>\n",
       "4.191667\n",
       "</td>\n",
       "<td>\n",
       "-1043.578403\n",
       "</td>\n",
       "</tr>\n",
       "<tr>\n",
       "<td>\n",
       "32.808333\n",
       "</td>\n",
       "<td>\n",
       "3\n",
       "</td>\n",
       "<td>\n",
       "3.191667\n",
       "</td>\n",
       "<td>\n",
       "-1043.578403\n",
       "</td>\n",
       "</tr>\n",
       "<tr>\n",
       "<td>\n",
       "32.808333\n",
       "</td>\n",
       "<td>\n",
       "3\n",
       "</td>\n",
       "<td>\n",
       "3.191667\n",
       "</td>\n",
       "<td>\n",
       "-1043.578403\n",
       "</td>\n",
       "</tr>\n",
       "<tr>\n",
       "<td>\n",
       "...\n",
       "</td>\n",
       "<td>\n",
       "...\n",
       "</td>\n",
       "<td>\n",
       "...\n",
       "</td>\n",
       "<td>\n",
       "...\n",
       "</td>\n",
       "</tr>\n",
       "<tr>\n",
       "<td>\n",
       "14.124561\n",
       "</td>\n",
       "<td>\n",
       "6\n",
       "</td>\n",
       "<td>\n",
       "-2.124561\n",
       "</td>\n",
       "<td>\n",
       "-185.378673\n",
       "</td>\n",
       "</tr>\n",
       "<tr>\n",
       "<td>\n",
       "14.124561\n",
       "</td>\n",
       "<td>\n",
       "6\n",
       "</td>\n",
       "<td>\n",
       "-0.124561\n",
       "</td>\n",
       "<td>\n",
       "-185.378673\n",
       "</td>\n",
       "</tr>\n",
       "<tr>\n",
       "<td>\n",
       "14.124561\n",
       "</td>\n",
       "<td>\n",
       "6\n",
       "</td>\n",
       "<td>\n",
       "4.375439\n",
       "</td>\n",
       "<td>\n",
       "-185.378673\n",
       "</td>\n",
       "</tr>\n",
       "<tr>\n",
       "<td>\n",
       "14.124561\n",
       "</td>\n",
       "<td>\n",
       "6\n",
       "</td>\n",
       "<td>\n",
       "-5.124561\n",
       "</td>\n",
       "<td>\n",
       "-185.378673\n",
       "</td>\n",
       "</tr>\n",
       "<tr>\n",
       "<td>\n",
       "14.124561\n",
       "</td>\n",
       "<td>\n",
       "6\n",
       "</td>\n",
       "<td>\n",
       "3.375439\n",
       "</td>\n",
       "<td>\n",
       "-185.378673\n",
       "</td>\n",
       "</tr>\n",
       "<tr>\n",
       "<td>\n",
       "14.124561\n",
       "</td>\n",
       "<td>\n",
       "6\n",
       "</td>\n",
       "<td>\n",
       "1.375439\n",
       "</td>\n",
       "<td>\n",
       "-185.378673\n",
       "</td>\n",
       "</tr>\n",
       "<tr>\n",
       "<td>\n",
       "14.124561\n",
       "</td>\n",
       "<td>\n",
       "6\n",
       "</td>\n",
       "<td>\n",
       "1.875439\n",
       "</td>\n",
       "<td>\n",
       "-185.378673\n",
       "</td>\n",
       "</tr>\n",
       "<tr>\n",
       "<td>\n",
       "14.124561\n",
       "</td>\n",
       "<td>\n",
       "6\n",
       "</td>\n",
       "<td>\n",
       "-4.124561\n",
       "</td>\n",
       "<td>\n",
       "-185.378673\n",
       "</td>\n",
       "</tr>\n",
       "<tr>\n",
       "<td>\n",
       "14.124561\n",
       "</td>\n",
       "<td>\n",
       "6\n",
       "</td>\n",
       "<td>\n",
       "-0.124561\n",
       "</td>\n",
       "<td>\n",
       "-185.378673\n",
       "</td>\n",
       "</tr>\n",
       "<tr>\n",
       "<td>\n",
       "14.124561\n",
       "</td>\n",
       "<td>\n",
       "6\n",
       "</td>\n",
       "<td>\n",
       "0.875439\n",
       "</td>\n",
       "<td>\n",
       "-185.378673\n",
       "</td>\n",
       "</tr>\n",
       "<tr>\n",
       "<td>\n",
       "14.124561\n",
       "</td>\n",
       "<td>\n",
       "6\n",
       "</td>\n",
       "<td>\n",
       "-1.124561\n",
       "</td>\n",
       "<td>\n",
       "-185.378673\n",
       "</td>\n",
       "</tr>\n",
       "<tr>\n",
       "<td>\n",
       "14.124561\n",
       "</td>\n",
       "<td>\n",
       "6\n",
       "</td>\n",
       "<td>\n",
       "0.875439\n",
       "</td>\n",
       "<td>\n",
       "-185.378673\n",
       "</td>\n",
       "</tr>\n",
       "</tbody>\n",
       "</table>\n",
       "</div>"
      ],
      "text/plain": [
       "shape: (274, 4)\n",
       "┌───────────┬──────┬───────────┬──────────────┐\n",
       "│ p         ┆ leef ┆ r         ┆ p(1-p)       │\n",
       "│ ---       ┆ ---  ┆ ---       ┆ ---          │\n",
       "│ f64       ┆ i64  ┆ f64       ┆ f64          │\n",
       "╞═══════════╪══════╪═══════════╪══════════════╡\n",
       "│ 32.808333 ┆ 3    ┆ -1.808333 ┆ -1043.578403 │\n",
       "│ 32.808333 ┆ 3    ┆ -0.508333 ┆ -1043.578403 │\n",
       "│ 32.808333 ┆ 3    ┆ 0.691667  ┆ -1043.578403 │\n",
       "│ 32.808333 ┆ 3    ┆ 6.191667  ┆ -1043.578403 │\n",
       "│ ...       ┆ ...  ┆ ...       ┆ ...          │\n",
       "│ 14.124561 ┆ 6    ┆ -0.124561 ┆ -185.378673  │\n",
       "│ 14.124561 ┆ 6    ┆ 0.875439  ┆ -185.378673  │\n",
       "│ 14.124561 ┆ 6    ┆ -1.124561 ┆ -185.378673  │\n",
       "│ 14.124561 ┆ 6    ┆ 0.875439  ┆ -185.378673  │\n",
       "└───────────┴──────┴───────────┴──────────────┘"
      ]
     },
     "execution_count": 245,
     "metadata": {},
     "output_type": "execute_result"
    }
   ],
   "source": [
    "df_test.sort('p(1-p)')"
   ]
  },
  {
   "cell_type": "code",
   "execution_count": 248,
   "id": "a1121429",
   "metadata": {},
   "outputs": [
    {
     "data": {
      "text/plain": [
       "-153103.3304958134"
      ]
     },
     "execution_count": 248,
     "metadata": {},
     "output_type": "execute_result"
    }
   ],
   "source": [
    "df_test.get_column('p(1-p)').sum()"
   ]
  },
  {
   "cell_type": "code",
   "execution_count": 249,
   "id": "acfc9902",
   "metadata": {},
   "outputs": [
    {
     "name": "stdout",
     "output_type": "stream",
     "text": [
      "CPU times: user 18.3 ms, sys: 1.2 ms, total: 19.5 ms\n",
      "Wall time: 5.04 ms\n"
     ]
    },
    {
     "data": {
      "text/html": [
       "<div>\n",
       "<style>\n",
       ".pl-dataframe > thead > tr > th {\n",
       "  text-align: right;\n",
       "}\n",
       "</style>\n",
       "\n",
       "<table border=\"1\" class=\"dataframe pl-dataframe\">\n",
       "<small>shape: (4, 2)</small>\n",
       "<thead>\n",
       "<tr>\n",
       "<th>\n",
       "leef\n",
       "</th>\n",
       "<th>\n",
       "r\n",
       "</th>\n",
       "</tr>\n",
       "<tr>\n",
       "<td>\n",
       "i64\n",
       "</td>\n",
       "<td>\n",
       "f64\n",
       "</td>\n",
       "</tr>\n",
       "</thead>\n",
       "<tbody>\n",
       "<tr>\n",
       "<td>\n",
       "2\n",
       "</td>\n",
       "<td>\n",
       "-4.3698e-13\n",
       "</td>\n",
       "</tr>\n",
       "<tr>\n",
       "<td>\n",
       "3\n",
       "</td>\n",
       "<td>\n",
       "1.9540e-13\n",
       "</td>\n",
       "</tr>\n",
       "<tr>\n",
       "<td>\n",
       "5\n",
       "</td>\n",
       "<td>\n",
       "-1.8119e-13\n",
       "</td>\n",
       "</tr>\n",
       "<tr>\n",
       "<td>\n",
       "6\n",
       "</td>\n",
       "<td>\n",
       "-6.2172e-14\n",
       "</td>\n",
       "</tr>\n",
       "</tbody>\n",
       "</table>\n",
       "</div>"
      ],
      "text/plain": [
       "shape: (4, 2)\n",
       "┌──────┬─────────────┐\n",
       "│ leef ┆ r           │\n",
       "│ ---  ┆ ---         │\n",
       "│ i64  ┆ f64         │\n",
       "╞══════╪═════════════╡\n",
       "│ 2    ┆ -4.3698e-13 │\n",
       "│ 3    ┆ 1.9540e-13  │\n",
       "│ 5    ┆ -1.8119e-13 │\n",
       "│ 6    ┆ -6.2172e-14 │\n",
       "└──────┴─────────────┘"
      ]
     },
     "execution_count": 249,
     "metadata": {},
     "output_type": "execute_result"
    }
   ],
   "source": [
    "%%time\n",
    "df_test.groupby('leef').agg(pl.col('r').sum()) #/ pl.col('p(1-p)').sum() )"
   ]
  },
  {
   "cell_type": "code",
   "execution_count": null,
   "id": "89497e8a",
   "metadata": {},
   "outputs": [],
   "source": []
  }
 ],
 "metadata": {
  "kernelspec": {
   "display_name": "Python 3 (ipykernel)",
   "language": "python",
   "name": "python3"
  },
  "language_info": {
   "codemirror_mode": {
    "name": "ipython",
    "version": 3
   },
   "file_extension": ".py",
   "mimetype": "text/x-python",
   "name": "python",
   "nbconvert_exporter": "python",
   "pygments_lexer": "ipython3",
   "version": "3.9.12"
  }
 },
 "nbformat": 4,
 "nbformat_minor": 5
}
