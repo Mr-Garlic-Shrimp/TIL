{
 "cells": [
  {
   "cell_type": "markdown",
   "id": "492a2e1d-b676-48e2-b484-d977f1ed7152",
   "metadata": {},
   "source": [
    "# <b>機械学習の基礎-2</b>"
   ]
  },
  {
   "cell_type": "code",
   "execution_count": null,
   "id": "90aef32f-5f2c-44e5-976d-0a16483eddf9",
   "metadata": {},
   "outputs": [],
   "source": []
  }
 ],
 "metadata": {
  "kernelspec": {
   "display_name": "Python 3 (ipykernel)",
   "language": "python",
   "name": "python3"
  },
  "language_info": {
   "codemirror_mode": {
    "name": "ipython",
    "version": 3
   },
   "file_extension": ".py",
   "mimetype": "text/x-python",
   "name": "python",
   "nbconvert_exporter": "python",
   "pygments_lexer": "ipython3",
   "version": "3.9.12"
  }
 },
 "nbformat": 4,
 "nbformat_minor": 5
}
