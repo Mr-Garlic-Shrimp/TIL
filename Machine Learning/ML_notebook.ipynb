{
 "cells": [
  {
   "cell_type": "markdown",
   "id": "d631fd88-6c9d-49b1-bbc0-124282c8121c",
   "metadata": {},
   "source": [
    "# 機械学習をPythonで実践する"
   ]
  },
  {
   "cell_type": "code",
   "execution_count": 247,
   "id": "d9eff296-94b2-4d17-9929-288b4a20a46d",
   "metadata": {},
   "outputs": [
    {
     "name": "stdout",
     "output_type": "stream",
     "text": [
      "The autoreload extension is already loaded. To reload it, use:\n",
      "  %reload_ext autoreload\n"
     ]
    }
   ],
   "source": [
    "%load_ext autoreload\n",
    "%autoreload 2\n",
    "import pandas as pd\n",
    "import numpy as np\n",
    "import seaborn as sns\n",
    "from itertools import product\n",
    "from cost_func import cost_func\n",
    "from grad_descent import grad_descent\n",
    "\n",
    "%matplotlib inline\n",
    "import matplotlib.pyplot as plt"
   ]
  },
  {
   "cell_type": "markdown",
   "id": "08ad0e28-5788-41d6-8d7c-cbb150640ef6",
   "metadata": {},
   "source": [
    "## ○ 最急降下法をスクラッチで実装する\n",
    "リソース：~/python-work/TIL/Python/sample_data/ML_sample/sample_data.csv"
   ]
  },
  {
   "cell_type": "code",
   "execution_count": 2,
   "id": "2ac1dd1d-2d65-4c64-8f05-d16cd1247f2e",
   "metadata": {},
   "outputs": [
    {
     "data": {
      "text/html": [
       "<div>\n",
       "<style scoped>\n",
       "    .dataframe tbody tr th:only-of-type {\n",
       "        vertical-align: middle;\n",
       "    }\n",
       "\n",
       "    .dataframe tbody tr th {\n",
       "        vertical-align: top;\n",
       "    }\n",
       "\n",
       "    .dataframe thead th {\n",
       "        text-align: right;\n",
       "    }\n",
       "</style>\n",
       "<table border=\"1\" class=\"dataframe\">\n",
       "  <thead>\n",
       "    <tr style=\"text-align: right;\">\n",
       "      <th></th>\n",
       "      <th>space</th>\n",
       "      <th>rent</th>\n",
       "    </tr>\n",
       "  </thead>\n",
       "  <tbody>\n",
       "    <tr>\n",
       "      <th>0</th>\n",
       "      <td>20</td>\n",
       "      <td>13.958824</td>\n",
       "    </tr>\n",
       "    <tr>\n",
       "      <th>1</th>\n",
       "      <td>25</td>\n",
       "      <td>11.533805</td>\n",
       "    </tr>\n",
       "    <tr>\n",
       "      <th>2</th>\n",
       "      <td>28</td>\n",
       "      <td>14.269547</td>\n",
       "    </tr>\n",
       "    <tr>\n",
       "      <th>3</th>\n",
       "      <td>30</td>\n",
       "      <td>18.722680</td>\n",
       "    </tr>\n",
       "    <tr>\n",
       "      <th>4</th>\n",
       "      <td>36</td>\n",
       "      <td>19.602674</td>\n",
       "    </tr>\n",
       "    <tr>\n",
       "      <th>5</th>\n",
       "      <td>51</td>\n",
       "      <td>16.068166</td>\n",
       "    </tr>\n",
       "    <tr>\n",
       "      <th>6</th>\n",
       "      <td>55</td>\n",
       "      <td>23.183599</td>\n",
       "    </tr>\n",
       "    <tr>\n",
       "      <th>7</th>\n",
       "      <td>62</td>\n",
       "      <td>22.212595</td>\n",
       "    </tr>\n",
       "    <tr>\n",
       "      <th>8</th>\n",
       "      <td>83</td>\n",
       "      <td>29.357010</td>\n",
       "    </tr>\n",
       "    <tr>\n",
       "      <th>9</th>\n",
       "      <td>103</td>\n",
       "      <td>37.565129</td>\n",
       "    </tr>\n",
       "  </tbody>\n",
       "</table>\n",
       "</div>"
      ],
      "text/plain": [
       "   space       rent\n",
       "0     20  13.958824\n",
       "1     25  11.533805\n",
       "2     28  14.269547\n",
       "3     30  18.722680\n",
       "4     36  19.602674\n",
       "5     51  16.068166\n",
       "6     55  23.183599\n",
       "7     62  22.212595\n",
       "8     83  29.357010\n",
       "9    103  37.565129"
      ]
     },
     "execution_count": 2,
     "metadata": {},
     "output_type": "execute_result"
    }
   ],
   "source": [
    "# サンプルデータ（賃貸の広さと家賃の関係データ）を読み込む\n",
    "df = pd.read_csv('../Python/sample_data/ML_sample/sample_data.csv')\n",
    "df"
   ]
  },
  {
   "cell_type": "code",
   "execution_count": 11,
   "id": "47b7585b-13bf-428a-9e18-e301d0eccc35",
   "metadata": {},
   "outputs": [
    {
     "data": {
      "text/plain": [
       "<AxesSubplot:xlabel='space', ylabel='rent'>"
      ]
     },
     "execution_count": 11,
     "metadata": {},
     "output_type": "execute_result"
    },
    {
     "data": {
      "image/png": "[encoded data removed]",
      "text/plain": [
       "<Figure size 432x288 with 1 Axes>"
      ]
     },
     "metadata": {
      "needs_background": "light"
     },
     "output_type": "display_data"
    }
   ],
   "source": [
    "# データを可視化\n",
    "sns.scatterplot(x=df['space'], y=df['rent'])"
   ]
  },
  {
   "cell_type": "markdown",
   "id": "691292e1-9c87-494a-95e1-3fbc30d3f848",
   "metadata": {},
   "source": [
    "### - 損失関数を定義"
   ]
  },
  {
   "cell_type": "code",
   "execution_count": 82,
   "id": "4dcaa198-6e46-447e-b4f3-761de995ce8f",
   "metadata": {},
   "outputs": [
    {
     "data": {
      "text/plain": [
       "array([1296.33604159])"
      ]
     },
     "execution_count": 82,
     "metadata": {},
     "output_type": "execute_result"
    }
   ],
   "source": [
    "# 損失関数cost_funcを呼び出し\n",
    "# thetaは線形回帰モデルのパラメタの初期値\n",
    "theta = np.array([[2.0] , [1.0]])\n",
    "# .valuesでnumpy arrayで値を取得\n",
    "target_var = df['rent'].values\n",
    "features = df['space'].values\n",
    "cost_func(theta, target_var=target_var, features=features)"
   ]
  },
  {
   "cell_type": "markdown",
   "id": "6d0443b5-1820-4b80-90ba-d760ca2cd015",
   "metadata": {},
   "source": [
    "### - 損失関数を可視化する\n",
    "講義のやり方では2パラメタ（と1つの特徴量）のみの対応だが、任意のパラメタ数に  \n",
    "対応できるように関数の拡張を目指す。"
   ]
  },
  {
   "cell_type": "code",
   "execution_count": 480,
   "id": "fa8f4d8d-3393-466d-8450-9269e22708a3",
   "metadata": {},
   "outputs": [
    {
     "data": {
      "text/plain": [
       "[array([[-20.        , -19.86622074, -19.73244147, ...,  19.73244147,\n",
       "          19.86622074,  20.        ],\n",
       "        [-20.        , -19.86622074, -19.73244147, ...,  19.73244147,\n",
       "          19.86622074,  20.        ],\n",
       "        [-20.        , -19.86622074, -19.73244147, ...,  19.73244147,\n",
       "          19.86622074,  20.        ],\n",
       "        ...,\n",
       "        [-20.        , -19.86622074, -19.73244147, ...,  19.73244147,\n",
       "          19.86622074,  20.        ],\n",
       "        [-20.        , -19.86622074, -19.73244147, ...,  19.73244147,\n",
       "          19.86622074,  20.        ],\n",
       "        [-20.        , -19.86622074, -19.73244147, ...,  19.73244147,\n",
       "          19.86622074,  20.        ]]),\n",
       " array([[-1.        , -1.        , -1.        , ..., -1.        ,\n",
       "         -1.        , -1.        ],\n",
       "        [-0.99331104, -0.99331104, -0.99331104, ..., -0.99331104,\n",
       "         -0.99331104, -0.99331104],\n",
       "        [-0.98662207, -0.98662207, -0.98662207, ..., -0.98662207,\n",
       "         -0.98662207, -0.98662207],\n",
       "        ...,\n",
       "        [ 0.98662207,  0.98662207,  0.98662207, ...,  0.98662207,\n",
       "          0.98662207,  0.98662207],\n",
       "        [ 0.99331104,  0.99331104,  0.99331104, ...,  0.99331104,\n",
       "          0.99331104,  0.99331104],\n",
       "        [ 1.        ,  1.        ,  1.        , ...,  1.        ,\n",
       "          1.        ,  1.        ]])]"
      ]
     },
     "execution_count": 480,
     "metadata": {},
     "output_type": "execute_result"
    }
   ],
   "source": [
    "# 3Dプロット用のデータを用意する。\n",
    "# x,y軸はtheta_0,theta_1\n",
    "# z軸は損失関数の戻り値（MSE）\n",
    "\n",
    "# サンプルデータより、theta_0の範囲（切片）は-20～20、theta_1（傾き）の範囲は -1 ～ 1と設定。\n",
    "n0 = n1 = 300\n",
    "min_0 = -20\n",
    "max_0 = 20\n",
    "min_1 = -1\n",
    "max_1 = 1\n",
    "\n",
    "theta_0 = np.linspace(min_0,max_0,n0)\n",
    "theta_1 = np.linspace(min_1,max_1,n1)\n",
    "theta_mesh = np.meshgrid(theta_0,theta_1)\n",
    "theta_mesh"
   ]
  },
  {
   "cell_type": "code",
   "execution_count": 470,
   "id": "6acb2ae3-b3ea-4656-901b-ad0d326c1b03",
   "metadata": {},
   "outputs": [],
   "source": [
    "# 10/8 thetaをリストで渡せるようにcost_funcを修正した。\n",
    "theta = [theta_0, theta_1]\n",
    "# パラメータの全組み合わせをリスト化し、配列に変換\n",
    "theta_array = np.array(list(product(*theta)))\n",
    "target_var = df['rent'].values\n",
    "features = df['space'].values\n",
    "mse = cost_func(theta_array, target_var=target_var, features=features)"
   ]
  },
  {
   "cell_type": "code",
   "execution_count": 471,
   "id": "80891d60-cf04-48f7-8d23-2485ff047648",
   "metadata": {},
   "outputs": [
    {
     "data": {
      "text/plain": [
       "array([[9180.43815951, 9109.88103261, 9039.60106593, ...,  407.8256952 ,\n",
       "         419.58515089,  431.6217668 ],\n",
       "       [9156.38986166, 9085.92096644, 9015.72923143, ...,  409.9822049 ,\n",
       "         421.82989227,  433.95473985],\n",
       "       [9132.37735759, 9061.99669405, 8991.89319072, ...,  412.17450839,\n",
       "         424.11042743,  436.32350669],\n",
       "       ...,\n",
       "       [3611.44522664, 3567.0929073 , 3523.01774817, ..., 2621.66060542,\n",
       "        2659.62486867, 2697.86629212],\n",
       "       [3598.02768236, 3553.7635947 , 3509.77666724, ..., 2634.44786869,\n",
       "        2672.50036362, 2710.83001875],\n",
       "       [3584.64593187, 3540.47007588, 3496.5713801 , ..., 2647.27092575,\n",
       "        2685.41165235, 2723.82953916]])"
      ]
     },
     "execution_count": 471,
     "metadata": {},
     "output_type": "execute_result"
    }
   ],
   "source": [
    "mse_reshape = mse.reshape(len(theta_0), len(theta_1))\n",
    "mse_reshape"
   ]
  },
  {
   "cell_type": "code",
   "execution_count": 472,
   "id": "31410cd3-c527-4ab2-9a0f-11905c39d008",
   "metadata": {},
   "outputs": [
    {
     "data": {
      "image/png": "[encoded data removed]",
      "text/plain": [
       "<Figure size 432x288 with 1 Axes>"
      ]
     },
     "metadata": {
      "needs_background": "light"
     },
     "output_type": "display_data"
    }
   ],
   "source": [
    "# グラフの描画\n",
    "# theta_mesh[0],theta_mesh[1]の配列がそのままではMSEの値と対応していないので、転置している。(これはmeshgridとproductの結果で判断)\n",
    "ax = plt.axes(projection='3d')\n",
    "ax.plot_surface(X=theta_mesh[0].T, Y=theta_mesh[1].T, Z=mse_reshape, cmap='jet', alpha=0.5)\n",
    "ax.set_xlabel(\"theta_0\", size = 10, color = \"b\")\n",
    "ax.set_ylabel(\"theta_1\", size = 10, color = \"b\")\n",
    "ax.set_zlabel(\"MSE\", size = 10, color = \"b\")\n",
    "# 見る角度を変える\n",
    "ax.view_init(elev=30, azim=10)"
   ]
  },
  {
   "cell_type": "code",
   "execution_count": 108,
   "id": "030e2c97-1447-4c66-aad8-a6e1c590d152",
   "metadata": {},
   "outputs": [
    {
     "data": {
      "text/plain": [
       "(1000,)"
      ]
     },
     "execution_count": 108,
     "metadata": {},
     "output_type": "execute_result"
    }
   ],
   "source": [
    "# パラメタ3つ、特徴量2つの場合のテスト。特徴量はいいのがなかったので'rent'を使っている。\n",
    "theta_0 = np.linspace(-2,2,10)\n",
    "theta_1 = np.linspace(3,6,10)\n",
    "theta_2 = np.linspace(9,2,10)\n",
    "theta = [theta_0, theta_1, theta_2]\n",
    "target_var = df['rent'].values\n",
    "features = df[['space','rent']].values\n",
    "mse = cost_func(theta, target_var=target_var, features=features)\n",
    "mse.shape"
   ]
  },
  {
   "cell_type": "markdown",
   "id": "820a8411-418d-4cdf-9281-eea37e5eee7e",
   "metadata": {},
   "source": [
    "### - 最急降下法のアルゴリズム実装\n",
    "学習率は$\\alpha=0.00005$、反復回数は10万回とする。"
   ]
  },
  {
   "cell_type": "code",
   "execution_count": 346,
   "id": "dc9d1ef3-8a77-4c4a-a856-ea596fe8791f",
   "metadata": {},
   "outputs": [],
   "source": [
    "# 学習率、反復回数(epochs)を設定。機械学習では反復１回１回をエポックと呼ぶことが多い。\n",
    "alpha = 0.00005\n",
    "epochs = 100000\n",
    "# パラメタの初期値を設定。\n",
    "# 本来の最急降下法ではパラメタの初期値はランダムに決める\n",
    "# theta_0_init = np.random.uniform(min_0,max_0)\n",
    "theta_0 = -5\n",
    "theta_1 = -0.5\n",
    "theta_init = np.array([theta_0, theta_1])"
   ]
  },
  {
   "cell_type": "code",
   "execution_count": 358,
   "id": "3f803b61-9f16-4bbc-a783-74c364280876",
   "metadata": {},
   "outputs": [],
   "source": [
    "# 最急降下法の関数テスト\n",
    "features = df['space'].values\n",
    "target_var = df['rent'].values\n",
    "optimized_theta, theta_history = grad_descent(theta_init, target_var, features, alpha, epochs)"
   ]
  },
  {
   "cell_type": "code",
   "execution_count": 360,
   "id": "942b09c7-2449-411a-b047-2e9177a0c127",
   "metadata": {},
   "outputs": [
    {
     "data": {
      "text/plain": [
       "(5.692313583745944, 0.2972194648547114)"
      ]
     },
     "execution_count": 360,
     "metadata": {},
     "output_type": "execute_result"
    }
   ],
   "source": [
    "# 最急降下法の結果得られた最適なパラメタ(theta_0,theta_1)の組み合わせ\n",
    "optimized_theta"
   ]
  },
  {
   "cell_type": "markdown",
   "id": "f4e33542-28a1-45ec-a849-dd49ba002a08",
   "metadata": {},
   "source": [
    "### - 最急降下法の推移を描画する\n",
    "* それぞれの$\\theta_0$と $\\theta_1$ における損失関数の推移を計算\n",
    "* $\\theta_0$と$\\theta_1$ の推移を損失関数に合わせて描画\n",
    "* $\\theta_0$と$\\theta_1$の推移を等高線で描画\n",
    "* 得られた$\\theta_0$と$\\theta_1$の解で回帰直線を描画"
   ]
  },
  {
   "cell_type": "code",
   "execution_count": 442,
   "id": "c8556866-45b5-497e-b658-b125a433e584",
   "metadata": {},
   "outputs": [],
   "source": [
    "# thetaの履歴の値に対応する損失関数の値を求める。\n",
    "params_and_mse = np.array(theta_history)\n",
    "mse_history = cost_func(params_and_mse, target_var, features)"
   ]
  },
  {
   "cell_type": "code",
   "execution_count": 443,
   "id": "9b01369d-4448-4e3d-bd35-07c1f889cbdf",
   "metadata": {},
   "outputs": [
    {
     "data": {
      "text/plain": [
       "(100001,)"
      ]
     },
     "execution_count": 443,
     "metadata": {},
     "output_type": "execute_result"
    }
   ],
   "source": [
    "mse_history.shape"
   ]
  },
  {
   "cell_type": "code",
   "execution_count": 444,
   "id": "6f2e532f-3921-4f1f-8b4a-c8ca604dbe28",
   "metadata": {},
   "outputs": [
    {
     "data": {
      "text/plain": [
       "(100001, 2)"
      ]
     },
     "execution_count": 444,
     "metadata": {},
     "output_type": "execute_result"
    }
   ],
   "source": [
    "params_and_mse.shape"
   ]
  },
  {
   "cell_type": "code",
   "execution_count": 445,
   "id": "1097ec98-f7d5-4b79-b2e5-7647a9f6cb6a",
   "metadata": {},
   "outputs": [
    {
     "data": {
      "text/plain": [
       "array([-5.00000000e+00, -5.00000000e-01,  2.93633698e+03])"
      ]
     },
     "execution_count": 445,
     "metadata": {},
     "output_type": "execute_result"
    }
   ],
   "source": [
    "# theta_historyとmse_historyを結合\n",
    "params_and_mse = np.concatenate((params_and_mse, mse_history.reshape(len(mse_history),1)), axis=1)\n",
    "params_and_mse[0]"
   ]
  },
  {
   "cell_type": "code",
   "execution_count": 446,
   "id": "d49bfe48-1803-430a-90fc-c4b40b07824d",
   "metadata": {},
   "outputs": [
    {
     "data": {
      "text/plain": [
       "array([-5.        , -4.99497026, -4.99141822, ...,  5.69225315,\n",
       "        5.69228337,  5.69231358])"
      ]
     },
     "execution_count": 446,
     "metadata": {},
     "output_type": "execute_result"
    }
   ],
   "source": [
    "params_and_mse[:,0]"
   ]
  },
  {
   "cell_type": "code",
   "execution_count": 481,
   "id": "29602737-71d4-4c00-a9ac-b1403e0ba15f",
   "metadata": {},
   "outputs": [
    {
     "ename": "IndexError",
     "evalue": "tuple index out of range",
     "output_type": "error",
     "traceback": [
      "\u001b[0;31m---------------------------------------------------------------------------\u001b[0m",
      "\u001b[0;31mIndexError\u001b[0m                                Traceback (most recent call last)",
      "Input \u001b[0;32mIn [481]\u001b[0m, in \u001b[0;36m<cell line: 23>\u001b[0;34m()\u001b[0m\n\u001b[1;32m     21\u001b[0m \u001b[38;5;66;03m# 図２：パラメタを2次元等高線で表わす。\u001b[39;00m\n\u001b[1;32m     22\u001b[0m ax2 \u001b[38;5;241m=\u001b[39m fig\u001b[38;5;241m.\u001b[39madd_subplot(\u001b[38;5;241m1\u001b[39m, \u001b[38;5;241m3\u001b[39m, \u001b[38;5;241m2\u001b[39m)\n\u001b[0;32m---> 23\u001b[0m \u001b[43max2\u001b[49m\u001b[38;5;241;43m.\u001b[39;49m\u001b[43mcontour\u001b[49m\u001b[43m(\u001b[49m\u001b[43mX\u001b[49m\u001b[38;5;241;43m=\u001b[39;49m\u001b[43mtheta_mesh\u001b[49m\u001b[43m[\u001b[49m\u001b[38;5;241;43m0\u001b[39;49m\u001b[43m]\u001b[49m\u001b[38;5;241;43m.\u001b[39;49m\u001b[43mT\u001b[49m\u001b[43m,\u001b[49m\u001b[43m \u001b[49m\u001b[43mY\u001b[49m\u001b[38;5;241;43m=\u001b[39;49m\u001b[43mtheta_mesh\u001b[49m\u001b[43m[\u001b[49m\u001b[38;5;241;43m1\u001b[39;49m\u001b[43m]\u001b[49m\u001b[38;5;241;43m.\u001b[39;49m\u001b[43mT\u001b[49m\u001b[43m,\u001b[49m\u001b[43m \u001b[49m\u001b[43mZ\u001b[49m\u001b[38;5;241;43m=\u001b[39;49m\u001b[43mmse_reshape\u001b[49m\u001b[43m)\u001b[49m\n",
      "File \u001b[0;32m/opt/anaconda3/lib/python3.9/site-packages/matplotlib/__init__.py:1412\u001b[0m, in \u001b[0;36m_preprocess_data.<locals>.inner\u001b[0;34m(ax, data, *args, **kwargs)\u001b[0m\n\u001b[1;32m   1409\u001b[0m \u001b[38;5;129m@functools\u001b[39m\u001b[38;5;241m.\u001b[39mwraps(func)\n\u001b[1;32m   1410\u001b[0m \u001b[38;5;28;01mdef\u001b[39;00m \u001b[38;5;21minner\u001b[39m(ax, \u001b[38;5;241m*\u001b[39margs, data\u001b[38;5;241m=\u001b[39m\u001b[38;5;28;01mNone\u001b[39;00m, \u001b[38;5;241m*\u001b[39m\u001b[38;5;241m*\u001b[39mkwargs):\n\u001b[1;32m   1411\u001b[0m     \u001b[38;5;28;01mif\u001b[39;00m data \u001b[38;5;129;01mis\u001b[39;00m \u001b[38;5;28;01mNone\u001b[39;00m:\n\u001b[0;32m-> 1412\u001b[0m         \u001b[38;5;28;01mreturn\u001b[39;00m \u001b[43mfunc\u001b[49m\u001b[43m(\u001b[49m\u001b[43max\u001b[49m\u001b[43m,\u001b[49m\u001b[43m \u001b[49m\u001b[38;5;241;43m*\u001b[39;49m\u001b[38;5;28;43mmap\u001b[39;49m\u001b[43m(\u001b[49m\u001b[43msanitize_sequence\u001b[49m\u001b[43m,\u001b[49m\u001b[43m \u001b[49m\u001b[43margs\u001b[49m\u001b[43m)\u001b[49m\u001b[43m,\u001b[49m\u001b[43m \u001b[49m\u001b[38;5;241;43m*\u001b[39;49m\u001b[38;5;241;43m*\u001b[39;49m\u001b[43mkwargs\u001b[49m\u001b[43m)\u001b[49m\n\u001b[1;32m   1414\u001b[0m     bound \u001b[38;5;241m=\u001b[39m new_sig\u001b[38;5;241m.\u001b[39mbind(ax, \u001b[38;5;241m*\u001b[39margs, \u001b[38;5;241m*\u001b[39m\u001b[38;5;241m*\u001b[39mkwargs)\n\u001b[1;32m   1415\u001b[0m     auto_label \u001b[38;5;241m=\u001b[39m (bound\u001b[38;5;241m.\u001b[39marguments\u001b[38;5;241m.\u001b[39mget(label_namer)\n\u001b[1;32m   1416\u001b[0m                   \u001b[38;5;129;01mor\u001b[39;00m bound\u001b[38;5;241m.\u001b[39mkwargs\u001b[38;5;241m.\u001b[39mget(label_namer))\n",
      "File \u001b[0;32m/opt/anaconda3/lib/python3.9/site-packages/matplotlib/axes/_axes.py:6301\u001b[0m, in \u001b[0;36mAxes.contour\u001b[0;34m(self, *args, **kwargs)\u001b[0m\n\u001b[1;32m   6292\u001b[0m \u001b[38;5;124;03m\"\"\"\u001b[39;00m\n\u001b[1;32m   6293\u001b[0m \u001b[38;5;124;03mPlot contour lines.\u001b[39;00m\n\u001b[1;32m   6294\u001b[0m \n\u001b[0;32m   (...)\u001b[0m\n\u001b[1;32m   6298\u001b[0m \u001b[38;5;124;03m%(contour_doc)s\u001b[39;00m\n\u001b[1;32m   6299\u001b[0m \u001b[38;5;124;03m\"\"\"\u001b[39;00m\n\u001b[1;32m   6300\u001b[0m kwargs[\u001b[38;5;124m'\u001b[39m\u001b[38;5;124mfilled\u001b[39m\u001b[38;5;124m'\u001b[39m] \u001b[38;5;241m=\u001b[39m \u001b[38;5;28;01mFalse\u001b[39;00m\n\u001b[0;32m-> 6301\u001b[0m contours \u001b[38;5;241m=\u001b[39m \u001b[43mmcontour\u001b[49m\u001b[38;5;241;43m.\u001b[39;49m\u001b[43mQuadContourSet\u001b[49m\u001b[43m(\u001b[49m\u001b[38;5;28;43mself\u001b[39;49m\u001b[43m,\u001b[49m\u001b[43m \u001b[49m\u001b[38;5;241;43m*\u001b[39;49m\u001b[43margs\u001b[49m\u001b[43m,\u001b[49m\u001b[43m \u001b[49m\u001b[38;5;241;43m*\u001b[39;49m\u001b[38;5;241;43m*\u001b[39;49m\u001b[43mkwargs\u001b[49m\u001b[43m)\u001b[49m\n\u001b[1;32m   6302\u001b[0m \u001b[38;5;28mself\u001b[39m\u001b[38;5;241m.\u001b[39m_request_autoscale_view()\n\u001b[1;32m   6303\u001b[0m \u001b[38;5;28;01mreturn\u001b[39;00m contours\n",
      "File \u001b[0;32m/opt/anaconda3/lib/python3.9/site-packages/matplotlib/contour.py:812\u001b[0m, in \u001b[0;36mContourSet.__init__\u001b[0;34m(self, ax, levels, filled, linewidths, linestyles, hatches, alpha, origin, extent, cmap, colors, norm, vmin, vmax, extend, antialiased, nchunk, locator, transform, *args, **kwargs)\u001b[0m\n\u001b[1;32m    808\u001b[0m     \u001b[38;5;28mself\u001b[39m\u001b[38;5;241m.\u001b[39morigin \u001b[38;5;241m=\u001b[39m mpl\u001b[38;5;241m.\u001b[39mrcParams[\u001b[38;5;124m'\u001b[39m\u001b[38;5;124mimage.origin\u001b[39m\u001b[38;5;124m'\u001b[39m]\n\u001b[1;32m    810\u001b[0m \u001b[38;5;28mself\u001b[39m\u001b[38;5;241m.\u001b[39m_transform \u001b[38;5;241m=\u001b[39m transform\n\u001b[0;32m--> 812\u001b[0m kwargs \u001b[38;5;241m=\u001b[39m \u001b[38;5;28;43mself\u001b[39;49m\u001b[38;5;241;43m.\u001b[39;49m\u001b[43m_process_args\u001b[49m\u001b[43m(\u001b[49m\u001b[38;5;241;43m*\u001b[39;49m\u001b[43margs\u001b[49m\u001b[43m,\u001b[49m\u001b[43m \u001b[49m\u001b[38;5;241;43m*\u001b[39;49m\u001b[38;5;241;43m*\u001b[39;49m\u001b[43mkwargs\u001b[49m\u001b[43m)\u001b[49m\n\u001b[1;32m    813\u001b[0m \u001b[38;5;28mself\u001b[39m\u001b[38;5;241m.\u001b[39m_process_levels()\n\u001b[1;32m    815\u001b[0m \u001b[38;5;28mself\u001b[39m\u001b[38;5;241m.\u001b[39m_extend_min \u001b[38;5;241m=\u001b[39m \u001b[38;5;28mself\u001b[39m\u001b[38;5;241m.\u001b[39mextend \u001b[38;5;129;01min\u001b[39;00m [\u001b[38;5;124m'\u001b[39m\u001b[38;5;124mmin\u001b[39m\u001b[38;5;124m'\u001b[39m, \u001b[38;5;124m'\u001b[39m\u001b[38;5;124mboth\u001b[39m\u001b[38;5;124m'\u001b[39m]\n",
      "File \u001b[0;32m/opt/anaconda3/lib/python3.9/site-packages/matplotlib/contour.py:1425\u001b[0m, in \u001b[0;36mQuadContourSet._process_args\u001b[0;34m(self, corner_mask, *args, **kwargs)\u001b[0m\n\u001b[1;32m   1421\u001b[0m \u001b[38;5;28;01mdef\u001b[39;00m \u001b[38;5;21m_process_args\u001b[39m(\u001b[38;5;28mself\u001b[39m, \u001b[38;5;241m*\u001b[39margs, corner_mask\u001b[38;5;241m=\u001b[39m\u001b[38;5;28;01mNone\u001b[39;00m, \u001b[38;5;241m*\u001b[39m\u001b[38;5;241m*\u001b[39mkwargs):\n\u001b[1;32m   1422\u001b[0m     \u001b[38;5;124;03m\"\"\"\u001b[39;00m\n\u001b[1;32m   1423\u001b[0m \u001b[38;5;124;03m    Process args and kwargs.\u001b[39;00m\n\u001b[1;32m   1424\u001b[0m \u001b[38;5;124;03m    \"\"\"\u001b[39;00m\n\u001b[0;32m-> 1425\u001b[0m     \u001b[38;5;28;01mif\u001b[39;00m \u001b[38;5;28misinstance\u001b[39m(\u001b[43margs\u001b[49m\u001b[43m[\u001b[49m\u001b[38;5;241;43m0\u001b[39;49m\u001b[43m]\u001b[49m, QuadContourSet):\n\u001b[1;32m   1426\u001b[0m         \u001b[38;5;28;01mif\u001b[39;00m \u001b[38;5;28mself\u001b[39m\u001b[38;5;241m.\u001b[39mlevels \u001b[38;5;129;01mis\u001b[39;00m \u001b[38;5;28;01mNone\u001b[39;00m:\n\u001b[1;32m   1427\u001b[0m             \u001b[38;5;28mself\u001b[39m\u001b[38;5;241m.\u001b[39mlevels \u001b[38;5;241m=\u001b[39m args[\u001b[38;5;241m0\u001b[39m]\u001b[38;5;241m.\u001b[39mlevels\n",
      "\u001b[0;31mIndexError\u001b[0m: tuple index out of range"
     ]
    },
    {
     "data": {
      "image/png": "[encoded data removed]",
      "text/plain": [
       "<Figure size 720x288 with 2 Axes>"
      ]
     },
     "metadata": {
      "needs_background": "light"
     },
     "output_type": "display_data"
    }
   ],
   "source": [
    "# グラフの描画\n",
    "\n",
    "fig = plt.figure(figsize=plt.figaspect(0.4))\n",
    "\n",
    "# 図１：損失関数とパラメタの点推移の描画\n",
    "\n",
    "ax1 = fig.add_subplot(1, 3, 1, projection='3d')\n",
    "#ax1 = plt.axes(projection='3d')\n",
    "# ax1は損失関数の概形を描画ずるものなので、theta_historyでplot_surfaceを書き直す必要はないことに注意。\n",
    "ax1.plot_surface(X=theta_mesh[0].T, Y=theta_mesh[1].T, Z=mse_reshape, cmap='jet', alpha=0.5)\n",
    "ax1.set_xlabel(\"theta_0\", size = 10, color = \"b\")\n",
    "ax1.set_ylabel(\"theta_1\", size = 10, color = \"b\")\n",
    "ax1.set_zlabel(\"MSE\", size = 10, color = \"b\")\n",
    "\n",
    "ax1.plot3D(xs=params_and_mse[:,0], ys=params_and_mse[:,1], zs=params_and_mse[:,2], marker='|')\n",
    "\n",
    "#ax.plot(xs=params_and_mse[0], ys=params_and_mse[1], zs=params_and_mse[2])\n",
    "# 見る角度を変える\n",
    "ax1.view_init(elev=20, azim=10)\n",
    "\n",
    "# 図２：パラメタを2次元等高線で表わす。\n",
    "ax2 = fig.add_subplot(1, 3, 2)\n",
    "ax2.contour(X=theta_mesh[0].T, Y=theta_mesh[1].T, Z=mse_reshape)\n"
   ]
  },
  {
   "cell_type": "code",
   "execution_count": 484,
   "id": "254a0ad4-cc8a-40d6-8689-dcc341518374",
   "metadata": {},
   "outputs": [
    {
     "data": {
      "text/plain": [
       "(300, 300)"
      ]
     },
     "execution_count": 484,
     "metadata": {},
     "output_type": "execute_result"
    }
   ],
   "source": [
    "mse_reshape.shape"
   ]
  },
  {
   "cell_type": "code",
   "execution_count": null,
   "id": "39143c29-9f23-4cd0-a812-ef9a80d31f26",
   "metadata": {},
   "outputs": [],
   "source": []
  }
 ],
 "metadata": {
  "kernelspec": {
   "display_name": "Python 3 (ipykernel)",
   "language": "python",
   "name": "python3"
  },
  "language_info": {
   "codemirror_mode": {
    "name": "ipython",
    "version": 3
   },
   "file_extension": ".py",
   "mimetype": "text/x-python",
   "name": "python",
   "nbconvert_exporter": "python",
   "pygments_lexer": "ipython3",
   "version": "3.9.12"
  }
 },
 "nbformat": 4,
 "nbformat_minor": 5
}
