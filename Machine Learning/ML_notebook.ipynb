{
 "cells": [
  {
   "cell_type": "markdown",
   "id": "d631fd88-6c9d-49b1-bbc0-124282c8121c",
   "metadata": {},
   "source": [
    "# 機械学習をPythonで実践する"
   ]
  },
  {
   "cell_type": "code",
   "execution_count": 45,
   "id": "d9eff296-94b2-4d17-9929-288b4a20a46d",
   "metadata": {},
   "outputs": [
    {
     "name": "stdout",
     "output_type": "stream",
     "text": [
      "The autoreload extension is already loaded. To reload it, use:\n",
      "  %reload_ext autoreload\n"
     ]
    }
   ],
   "source": [
    "%load_ext autoreload\n",
    "%autoreload 2\n",
    "import pandas as pd\n",
    "import numpy as np\n",
    "import seaborn as sns\n",
    "from cost_func import cost_func\n",
    "\n",
    "%matplotlib inline\n",
    "import matplotlib.pyplot as plt"
   ]
  },
  {
   "cell_type": "markdown",
   "id": "08ad0e28-5788-41d6-8d7c-cbb150640ef6",
   "metadata": {},
   "source": [
    "## ○ 最急降下法をスクラッチで実装する\n",
    "リソース：~/python-work/TIL/Python/sample_data/ML_sample/sample_data.csv"
   ]
  },
  {
   "cell_type": "code",
   "execution_count": 5,
   "id": "2ac1dd1d-2d65-4c64-8f05-d16cd1247f2e",
   "metadata": {},
   "outputs": [
    {
     "data": {
      "text/html": [
       "<div>\n",
       "<style scoped>\n",
       "    .dataframe tbody tr th:only-of-type {\n",
       "        vertical-align: middle;\n",
       "    }\n",
       "\n",
       "    .dataframe tbody tr th {\n",
       "        vertical-align: top;\n",
       "    }\n",
       "\n",
       "    .dataframe thead th {\n",
       "        text-align: right;\n",
       "    }\n",
       "</style>\n",
       "<table border=\"1\" class=\"dataframe\">\n",
       "  <thead>\n",
       "    <tr style=\"text-align: right;\">\n",
       "      <th></th>\n",
       "      <th>space</th>\n",
       "      <th>rent</th>\n",
       "    </tr>\n",
       "  </thead>\n",
       "  <tbody>\n",
       "    <tr>\n",
       "      <th>0</th>\n",
       "      <td>20</td>\n",
       "      <td>13.958824</td>\n",
       "    </tr>\n",
       "    <tr>\n",
       "      <th>1</th>\n",
       "      <td>25</td>\n",
       "      <td>11.533805</td>\n",
       "    </tr>\n",
       "    <tr>\n",
       "      <th>2</th>\n",
       "      <td>28</td>\n",
       "      <td>14.269547</td>\n",
       "    </tr>\n",
       "    <tr>\n",
       "      <th>3</th>\n",
       "      <td>30</td>\n",
       "      <td>18.722680</td>\n",
       "    </tr>\n",
       "    <tr>\n",
       "      <th>4</th>\n",
       "      <td>36</td>\n",
       "      <td>19.602674</td>\n",
       "    </tr>\n",
       "    <tr>\n",
       "      <th>5</th>\n",
       "      <td>51</td>\n",
       "      <td>16.068166</td>\n",
       "    </tr>\n",
       "    <tr>\n",
       "      <th>6</th>\n",
       "      <td>55</td>\n",
       "      <td>23.183599</td>\n",
       "    </tr>\n",
       "    <tr>\n",
       "      <th>7</th>\n",
       "      <td>62</td>\n",
       "      <td>22.212595</td>\n",
       "    </tr>\n",
       "    <tr>\n",
       "      <th>8</th>\n",
       "      <td>83</td>\n",
       "      <td>29.357010</td>\n",
       "    </tr>\n",
       "    <tr>\n",
       "      <th>9</th>\n",
       "      <td>103</td>\n",
       "      <td>37.565129</td>\n",
       "    </tr>\n",
       "  </tbody>\n",
       "</table>\n",
       "</div>"
      ],
      "text/plain": [
       "   space       rent\n",
       "0     20  13.958824\n",
       "1     25  11.533805\n",
       "2     28  14.269547\n",
       "3     30  18.722680\n",
       "4     36  19.602674\n",
       "5     51  16.068166\n",
       "6     55  23.183599\n",
       "7     62  22.212595\n",
       "8     83  29.357010\n",
       "9    103  37.565129"
      ]
     },
     "execution_count": 5,
     "metadata": {},
     "output_type": "execute_result"
    }
   ],
   "source": [
    "# サンプルデータ（賃貸の広さと家賃の関係データ）を読み込む\n",
    "df = pd.read_csv('../Python/sample_data/ML_sample/sample_data.csv')\n",
    "df"
   ]
  },
  {
   "cell_type": "code",
   "execution_count": 11,
   "id": "47b7585b-13bf-428a-9e18-e301d0eccc35",
   "metadata": {},
   "outputs": [
    {
     "data": {
      "text/plain": [
       "<AxesSubplot:xlabel='space', ylabel='rent'>"
      ]
     },
     "execution_count": 11,
     "metadata": {},
     "output_type": "execute_result"
    },
    {
     "data": {
      "image/png": "[encoded data removed]",
      "text/plain": [
       "<Figure size 432x288 with 1 Axes>"
      ]
     },
     "metadata": {
      "needs_background": "light"
     },
     "output_type": "display_data"
    }
   ],
   "source": [
    "# データを可視化\n",
    "sns.scatterplot(x=df['space'], y=df['rent'])"
   ]
  },
  {
   "cell_type": "code",
   "execution_count": null,
   "id": "1b1eb146-2cca-417b-8b03-6f54277d314d",
   "metadata": {},
   "outputs": [
    {
     "data": {
      "text/plain": [
       "array([ 20,  25,  28,  30,  36,  51,  55,  62,  83, 103])"
      ]
     },
     "execution_count": 17,
     "metadata": {},
     "output_type": "execute_result"
    }
   ],
   "source": [
    "df['space'].values"
   ]
  },
  {
   "cell_type": "code",
   "execution_count": null,
   "id": "f829c79e-4ba0-4079-a0f3-b633e833c027",
   "metadata": {},
   "outputs": [
    {
     "data": {
      "text/plain": [
       "array([13.9588237 , 11.53380496, 14.26954729, 18.7226796 , 19.60267397,\n",
       "       16.06816636, 23.18359859, 22.21259504, 29.35701011, 37.56512884])"
      ]
     },
     "execution_count": 18,
     "metadata": {},
     "output_type": "execute_result"
    }
   ],
   "source": [
    "df['rent'].values"
   ]
  },
  {
   "cell_type": "code",
   "execution_count": null,
   "id": "16f51c04-7052-4409-b171-df13f59c6d3c",
   "metadata": {},
   "outputs": [
    {
     "data": {
      "text/plain": [
       "array([  49.57816362,  209.27079898,  216.98623717,  150.73259626,\n",
       "        302.66695298, 1291.09666871, 1076.91620177, 1663.61240323,\n",
       "       2985.85634398, 4413.59210616])"
      ]
     },
     "execution_count": 33,
     "metadata": {},
     "output_type": "execute_result"
    }
   ],
   "source": [
    "np.power(r, 2)"
   ]
  },
  {
   "cell_type": "code",
   "execution_count": null,
   "id": "469df396-ca36-4c0d-8a07-6a5db40ad6a5",
   "metadata": {},
   "outputs": [
    {
     "data": {
      "text/plain": [
       "array([  4.95781636,  20.9270799 ,  21.69862372,  15.07325963,\n",
       "        30.2666953 , 129.10966687, 107.69162018, 166.36124032,\n",
       "       298.5856344 , 441.35921062])"
      ]
     },
     "execution_count": 50,
     "metadata": {},
     "output_type": "execute_result"
    }
   ],
   "source": [
    "theta = [1.0 , 1.0]\n",
    "cost_func(theta, df['rent'].values, df['space'].values)"
   ]
  },
  {
   "cell_type": "code",
   "execution_count": null,
   "id": "3422c296-85c1-40d6-b890-b0ce1be4c2a8",
   "metadata": {},
   "outputs": [
    {
     "data": {
      "text/plain": [
       "8224.12265092997"
      ]
     },
     "execution_count": 76,
     "metadata": {},
     "output_type": "execute_result"
    }
   ],
   "source": [
    "theta = [1.0 , 2.0]\n",
    "cost_func(theta, df['rent'].values, df['space'].values)"
   ]
  },
  {
   "cell_type": "code",
   "execution_count": null,
   "id": "60acd559-7bad-43b3-ae88-6364bc137535",
   "metadata": {},
   "outputs": [],
   "source": [
    "a = df['space'].values\n",
    "shape = (1, len(a))\n",
    "one = np.ones(shape)"
   ]
  },
  {
   "cell_type": "code",
   "execution_count": null,
   "id": "1c2b2eb2-9158-4207-aa79-90f46b6d9512",
   "metadata": {},
   "outputs": [],
   "source": [
    "a = a.reshape(1,10)"
   ]
  },
  {
   "cell_type": "code",
   "execution_count": null,
   "id": "2578368f-7011-4adc-a6ff-71b15a31b7fb",
   "metadata": {},
   "outputs": [],
   "source": [
    "b = np.concatenate([one,a])"
   ]
  },
  {
   "cell_type": "code",
   "execution_count": null,
   "id": "267c917c-6c8c-4c79-bf5a-1b6739e774da",
   "metadata": {},
   "outputs": [
    {
     "data": {
      "text/plain": [
       "(2, 10)"
      ]
     },
     "execution_count": 87,
     "metadata": {},
     "output_type": "execute_result"
    }
   ],
   "source": [
    "b.shape"
   ]
  },
  {
   "cell_type": "code",
   "execution_count": null,
   "id": "9e351063-43fe-4e45-b93d-534a64968e9f",
   "metadata": {},
   "outputs": [],
   "source": [
    "theta = np.array([theta])"
   ]
  },
  {
   "cell_type": "code",
   "execution_count": null,
   "id": "22d9ab1e-7fcd-4151-988b-0c3fe7221950",
   "metadata": {},
   "outputs": [
    {
     "data": {
      "text/plain": [
       "array([[1., 2.]])"
      ]
     },
     "execution_count": 78,
     "metadata": {},
     "output_type": "execute_result"
    }
   ],
   "source": [
    "theta"
   ]
  },
  {
   "cell_type": "code",
   "execution_count": null,
   "id": "eeaecb66-2425-4ad6-b8b2-7a0c0b3bfedf",
   "metadata": {},
   "outputs": [
    {
     "data": {
      "text/plain": [
       "array([[  1.,  40.],\n",
       "       [  1.,  50.],\n",
       "       [  1.,  56.],\n",
       "       [  1.,  60.],\n",
       "       [  1.,  72.],\n",
       "       [  1., 102.],\n",
       "       [  1., 110.],\n",
       "       [  1., 124.],\n",
       "       [  1., 166.],\n",
       "       [  1., 206.]])"
      ]
     },
     "execution_count": 91,
     "metadata": {},
     "output_type": "execute_result"
    }
   ],
   "source": [
    "theta * b.T"
   ]
  },
  {
   "cell_type": "code",
   "execution_count": null,
   "id": "cc3e2642-1e06-477e-b8a2-830a5a6834da",
   "metadata": {},
   "outputs": [
    {
     "data": {
      "text/plain": [
       "array([[ 41.],\n",
       "       [ 51.],\n",
       "       [ 57.],\n",
       "       [ 61.],\n",
       "       [ 73.],\n",
       "       [103.],\n",
       "       [111.],\n",
       "       [125.],\n",
       "       [167.],\n",
       "       [207.]])"
      ]
     },
     "execution_count": 94,
     "metadata": {},
     "output_type": "execute_result"
    }
   ],
   "source": [
    "np.dot(b.T, theta.T)"
   ]
  },
  {
   "cell_type": "code",
   "execution_count": null,
   "id": "adcb79ba-3fe4-4884-a251-9d0287d80983",
   "metadata": {},
   "outputs": [],
   "source": []
  }
 ],
 "metadata": {
  "kernelspec": {
   "display_name": "Python 3 (ipykernel)",
   "language": "python",
   "name": "python3"
  },
  "language_info": {
   "codemirror_mode": {
    "name": "ipython",
    "version": 3
   },
   "file_extension": ".py",
   "mimetype": "text/x-python",
   "name": "python",
   "nbconvert_exporter": "python",
   "pygments_lexer": "ipython3",
   "version": "3.9.12"
  }
 },
 "nbformat": 4,
 "nbformat_minor": 5
}
