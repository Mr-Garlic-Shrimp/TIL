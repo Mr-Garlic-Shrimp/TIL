{
 "cells": [
  {
   "cell_type": "markdown",
   "metadata": {},
   "source": [
    "# 統計学の基礎\n",
    "統計学はAIの最もベースの理論であり、データサイエンスにおける共通言語である。  \n",
    "AIに携わる人間には必須。  \n",
    "\n",
    "参考：Udemy「米国データサイエンティストが教える統計学超入門講座」"
   ]
  },
  {
   "cell_type": "markdown",
   "metadata": {},
   "source": [
    "## ・分布(distribution)\n",
    "分布とはどの値にどれくらいデータが存在するか(度数,frequency)を表したもの。  \n",
    "ヒストグラム：　連続的な値の分布を表すのに使う。  \n",
    "棒グラフ(bar chart)：　1つのカテゴリ変数（性別など）の分布を表すのに使う。  "
   ]
  },
  {
   "cell_type": "markdown",
   "metadata": {},
   "source": [
    "## ・記述統計と推測統計\n",
    "* 記述統計：　データの特徴を記述する（例：平均値、中央値）\n",
    "* 推測統計：　標本（Sample）から母集団（Population）を推測する \n",
    "    * 母集団とはある統計対象の全集合のこと。（例： 成人男性全員の年収）\n",
    "    * 標本は母集団から取得したいくつかのデータのこと。（例：　成人男性10人の年収）\n",
    "    \n",
    "アンケート結果から単に標本の統計量を求めるのは記述統計。結果から母集団を推測するのが推測統計。  \n",
    "統計学と言ったら推測統計。限られたデータから全体を推測したいというのがモチベーションでありゴール。"
   ]
  },
  {
   "cell_type": "code",
   "execution_count": null,
   "metadata": {},
   "outputs": [],
   "source": []
  }
 ],
 "metadata": {
  "kernelspec": {
   "display_name": "Python 3",
   "language": "python",
   "name": "python3"
  },
  "language_info": {
   "codemirror_mode": {
    "name": "ipython",
    "version": 3
   },
   "file_extension": ".py",
   "mimetype": "text/x-python",
   "name": "python",
   "nbconvert_exporter": "python",
   "pygments_lexer": "ipython3",
   "version": "3.8.8"
  }
 },
 "nbformat": 4,
 "nbformat_minor": 4
}
