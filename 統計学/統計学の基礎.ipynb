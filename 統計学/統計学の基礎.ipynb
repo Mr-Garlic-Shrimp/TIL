{
 "cells": [
  {
   "cell_type": "markdown",
   "metadata": {},
   "source": [
    "# 統計学の基礎\n",
    "統計学はAIの最もベースの理論であり、データサイエンスにおける共通言語である。  \n",
    "AIに携わる人間には必須。  \n",
    "\n",
    "参考：Udemy「米国データサイエンティストが教える統計学超入門講座」"
   ]
  },
  {
   "cell_type": "markdown",
   "metadata": {},
   "source": [
    "## ・分布(distribution)\n",
    "分布とはどの値にどれくらいデータが存在するか(度数,frequency)を表したもの。  \n",
    "ヒストグラム：　連続的な値の分布を表すのに使う。  \n",
    "棒グラフ(bar chart)：　1つのカテゴリ変数（性別など）の分布を表すのに使う。  "
   ]
  },
  {
   "cell_type": "code",
   "execution_count": null,
   "metadata": {},
   "outputs": [],
   "source": []
  }
 ],
 "metadata": {
  "kernelspec": {
   "display_name": "Python 3",
   "language": "python",
   "name": "python3"
  },
  "language_info": {
   "codemirror_mode": {
    "name": "ipython",
    "version": 3
   },
   "file_extension": ".py",
   "mimetype": "text/x-python",
   "name": "python",
   "nbconvert_exporter": "python",
   "pygments_lexer": "ipython3",
   "version": "3.8.8"
  }
 },
 "nbformat": 4,
 "nbformat_minor": 4
}
