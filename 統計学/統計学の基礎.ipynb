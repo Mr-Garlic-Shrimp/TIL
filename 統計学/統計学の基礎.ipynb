{
 "cells": [
  {
   "cell_type": "markdown",
   "metadata": {},
   "source": [
    "# 統計学の基礎\n",
    "統計学はAIの最もベースの理論であり、データサイエンスにおける共通言語である。  \n",
    "AIに携わる人間には必須。  \n",
    "\n",
    "参考：Udemy「米国データサイエンティストが教える統計学超入門講座」"
   ]
  },
  {
   "cell_type": "markdown",
   "metadata": {},
   "source": [
    "## 〇分布(distribution)\n",
    "分布とはどの値にどれくらいデータが存在するか(度数,frequency)を表したもの。  \n",
    "ヒストグラム：　連続的な値の分布を表すのに使う。  \n",
    "棒グラフ(bar chart)：　1つのカテゴリ変数（性別など）の分布を表すのに使う。  "
   ]
  },
  {
   "cell_type": "markdown",
   "metadata": {},
   "source": [
    "## 〇記述統計と推測統計\n",
    "* 記述統計：　データの特徴を記述する（例：平均値、中央値）\n",
    "* 推測統計：　標本（Sample）から母集団（Population）を推測する \n",
    "    * 母集団とはある統計対象の全集合のこと。（例： 成人男性全員の年収）\n",
    "    * 標本は母集団から取得したいくつかのデータのこと。（例：　成人男性10人の年収）\n",
    "    \n",
    "アンケート結果から単に標本の統計量を求めるのは記述統計。結果から母集団を推測するのが推測統計。  \n",
    "統計学と言ったら推測統計。限られたデータから全体を推測したいというのがモチベーションでありゴール。"
   ]
  },
  {
   "cell_type": "markdown",
   "metadata": {},
   "source": [
    "## 〇平均(mean,average)\n",
    "ここでは一般的な算術平均について扱う。  \n",
    "算術平均はデータの合計をデータの数で割った値である。  \n",
    "一般に標本平均を$\\bar{x}$, 母集団平均をμで表す。  \n",
    "\n",
    "算術平均の主な特徴は以下。\n",
    "* 平均と各値の差(偏差(deviation))の合計は0\n",
    "    * $\\sum_{i=1}^{n}(\\bar{x}-x_i)=0 \\quad$\n",
    "* 平均値は各値からの差の2乗の合計 (平方和) を最小にする\n",
    "    * →ある適当な値$X$と平均の算出に使った各値$x_i$との差の2乗の合計が最小になるのは、$X$が平均値の時ということ\n",
    "    * $\\sum_{i=1}^{n}(x_i-X)^2 \\quad$ は、$X=\\bar{x}$の時最小となる"
   ]
  },
  {
   "cell_type": "markdown",
   "metadata": {},
   "source": [
    "## 〇中央値(median)\n",
    "* データを大きさ順に並べた際の真ん中の値\n",
    "* 平均値より外れ値の影響を受けにくい\n",
    "* 真ん中の値がない場合は，真ん中の二つの中間を取る（中央値を求める対象のサンプル数が偶数のときなど）\n",
    "* 平均値の計算より時間がかかることに注意（昇順にソートする時間が必要なため）"
   ]
  },
  {
   "cell_type": "markdown",
   "metadata": {},
   "source": [
    "## 〇最頻値(mode)\n",
    "* データの中で最も多く観測される値(最も頻繁)\n",
    "* 極端に特定の値に集中している場合，最頻値を代表値として使う\n",
    "* 分布の山をモーダル(modal)と呼ぶ\n",
    "    * 山が一つ： unimodal\n",
    "    * 山が二つ： bimodal　→双峰性という\n",
    "    * 山が二つ以上： multimodal"
   ]
  },
  {
   "cell_type": "markdown",
   "metadata": {},
   "source": [
    "## 〇散布度\n",
    "データのばらつき具合を表す指標。\n",
    "\n",
    "### ・範囲:データの最小値から最大値\n"
   ]
  },
  {
   "cell_type": "code",
   "execution_count": null,
   "metadata": {},
   "outputs": [],
   "source": []
  }
 ],
 "metadata": {
  "kernelspec": {
   "display_name": "Python 3",
   "language": "python",
   "name": "python3"
  },
  "language_info": {
   "codemirror_mode": {
    "name": "ipython",
    "version": 3
   },
   "file_extension": ".py",
   "mimetype": "text/x-python",
   "name": "python",
   "nbconvert_exporter": "python",
   "pygments_lexer": "ipython3",
   "version": "3.8.8"
  }
 },
 "nbformat": 4,
 "nbformat_minor": 4
}
