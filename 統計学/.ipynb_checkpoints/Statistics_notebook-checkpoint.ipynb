{
 "cells": [
  {
   "cell_type": "markdown",
   "id": "d716b965-405d-4f69-8b2e-ee2758300f35",
   "metadata": {},
   "source": [
    "# 統計学をpythonで実践"
   ]
  },
  {
   "cell_type": "markdown",
   "id": "783f3915-da8c-4639-8c14-3fd738a13792",
   "metadata": {},
   "source": [
    "## ○サンプルデータの準備"
   ]
  },
  {
   "cell_type": "code",
   "execution_count": 148,
   "id": "0d735b4e-39ed-4d20-bd6b-5997d11a4c94",
   "metadata": {},
   "outputs": [
    {
     "name": "stdout",
     "output_type": "stream",
     "text": [
      "The autoreload extension is already loaded. To reload it, use:\n",
      "  %reload_ext autoreload\n"
     ]
    }
   ],
   "source": [
    "%load_ext autoreload\n",
    "%autoreload 2\n",
    "import seaborn as sns\n",
    "import numpy as np\n",
    "from scipy import stats\n",
    "import matplotlib.pyplot as plt\n",
    "import pandas as pd\n",
    "from cramersV import cramers_v\n",
    "%matplotlib inline"
   ]
  },
  {
   "cell_type": "code",
   "execution_count": 8,
   "id": "b9053d0b-fcf7-48bf-8db0-2e77aff69fcc",
   "metadata": {},
   "outputs": [
    {
     "data": {
      "text/html": [
       "<div>\n",
       "<style scoped>\n",
       "    .dataframe tbody tr th:only-of-type {\n",
       "        vertical-align: middle;\n",
       "    }\n",
       "\n",
       "    .dataframe tbody tr th {\n",
       "        vertical-align: top;\n",
       "    }\n",
       "\n",
       "    .dataframe thead th {\n",
       "        text-align: right;\n",
       "    }\n",
       "</style>\n",
       "<table border=\"1\" class=\"dataframe\">\n",
       "  <thead>\n",
       "    <tr style=\"text-align: right;\">\n",
       "      <th></th>\n",
       "      <th>total_bill</th>\n",
       "      <th>tip</th>\n",
       "      <th>sex</th>\n",
       "      <th>smoker</th>\n",
       "      <th>day</th>\n",
       "      <th>time</th>\n",
       "      <th>size</th>\n",
       "      <th>tip_rate</th>\n",
       "    </tr>\n",
       "  </thead>\n",
       "  <tbody>\n",
       "    <tr>\n",
       "      <th>0</th>\n",
       "      <td>16.99</td>\n",
       "      <td>1.01</td>\n",
       "      <td>Female</td>\n",
       "      <td>No</td>\n",
       "      <td>Sun</td>\n",
       "      <td>Dinner</td>\n",
       "      <td>2</td>\n",
       "      <td>0.059447</td>\n",
       "    </tr>\n",
       "    <tr>\n",
       "      <th>1</th>\n",
       "      <td>10.34</td>\n",
       "      <td>1.66</td>\n",
       "      <td>Male</td>\n",
       "      <td>No</td>\n",
       "      <td>Sun</td>\n",
       "      <td>Dinner</td>\n",
       "      <td>3</td>\n",
       "      <td>0.160542</td>\n",
       "    </tr>\n",
       "    <tr>\n",
       "      <th>2</th>\n",
       "      <td>21.01</td>\n",
       "      <td>3.50</td>\n",
       "      <td>Male</td>\n",
       "      <td>No</td>\n",
       "      <td>Sun</td>\n",
       "      <td>Dinner</td>\n",
       "      <td>3</td>\n",
       "      <td>0.166587</td>\n",
       "    </tr>\n",
       "    <tr>\n",
       "      <th>3</th>\n",
       "      <td>23.68</td>\n",
       "      <td>3.31</td>\n",
       "      <td>Male</td>\n",
       "      <td>No</td>\n",
       "      <td>Sun</td>\n",
       "      <td>Dinner</td>\n",
       "      <td>2</td>\n",
       "      <td>0.139780</td>\n",
       "    </tr>\n",
       "    <tr>\n",
       "      <th>4</th>\n",
       "      <td>24.59</td>\n",
       "      <td>3.61</td>\n",
       "      <td>Female</td>\n",
       "      <td>No</td>\n",
       "      <td>Sun</td>\n",
       "      <td>Dinner</td>\n",
       "      <td>4</td>\n",
       "      <td>0.146808</td>\n",
       "    </tr>\n",
       "    <tr>\n",
       "      <th>...</th>\n",
       "      <td>...</td>\n",
       "      <td>...</td>\n",
       "      <td>...</td>\n",
       "      <td>...</td>\n",
       "      <td>...</td>\n",
       "      <td>...</td>\n",
       "      <td>...</td>\n",
       "      <td>...</td>\n",
       "    </tr>\n",
       "    <tr>\n",
       "      <th>239</th>\n",
       "      <td>29.03</td>\n",
       "      <td>5.92</td>\n",
       "      <td>Male</td>\n",
       "      <td>No</td>\n",
       "      <td>Sat</td>\n",
       "      <td>Dinner</td>\n",
       "      <td>3</td>\n",
       "      <td>0.203927</td>\n",
       "    </tr>\n",
       "    <tr>\n",
       "      <th>240</th>\n",
       "      <td>27.18</td>\n",
       "      <td>2.00</td>\n",
       "      <td>Female</td>\n",
       "      <td>Yes</td>\n",
       "      <td>Sat</td>\n",
       "      <td>Dinner</td>\n",
       "      <td>2</td>\n",
       "      <td>0.073584</td>\n",
       "    </tr>\n",
       "    <tr>\n",
       "      <th>241</th>\n",
       "      <td>22.67</td>\n",
       "      <td>2.00</td>\n",
       "      <td>Male</td>\n",
       "      <td>Yes</td>\n",
       "      <td>Sat</td>\n",
       "      <td>Dinner</td>\n",
       "      <td>2</td>\n",
       "      <td>0.088222</td>\n",
       "    </tr>\n",
       "    <tr>\n",
       "      <th>242</th>\n",
       "      <td>17.82</td>\n",
       "      <td>1.75</td>\n",
       "      <td>Male</td>\n",
       "      <td>No</td>\n",
       "      <td>Sat</td>\n",
       "      <td>Dinner</td>\n",
       "      <td>2</td>\n",
       "      <td>0.098204</td>\n",
       "    </tr>\n",
       "    <tr>\n",
       "      <th>243</th>\n",
       "      <td>18.78</td>\n",
       "      <td>3.00</td>\n",
       "      <td>Female</td>\n",
       "      <td>No</td>\n",
       "      <td>Thur</td>\n",
       "      <td>Dinner</td>\n",
       "      <td>2</td>\n",
       "      <td>0.159744</td>\n",
       "    </tr>\n",
       "  </tbody>\n",
       "</table>\n",
       "<p>244 rows × 8 columns</p>\n",
       "</div>"
      ],
      "text/plain": [
       "     total_bill   tip     sex smoker   day    time  size  tip_rate\n",
       "0         16.99  1.01  Female     No   Sun  Dinner     2  0.059447\n",
       "1         10.34  1.66    Male     No   Sun  Dinner     3  0.160542\n",
       "2         21.01  3.50    Male     No   Sun  Dinner     3  0.166587\n",
       "3         23.68  3.31    Male     No   Sun  Dinner     2  0.139780\n",
       "4         24.59  3.61  Female     No   Sun  Dinner     4  0.146808\n",
       "..          ...   ...     ...    ...   ...     ...   ...       ...\n",
       "239       29.03  5.92    Male     No   Sat  Dinner     3  0.203927\n",
       "240       27.18  2.00  Female    Yes   Sat  Dinner     2  0.073584\n",
       "241       22.67  2.00    Male    Yes   Sat  Dinner     2  0.088222\n",
       "242       17.82  1.75    Male     No   Sat  Dinner     2  0.098204\n",
       "243       18.78  3.00  Female     No  Thur  Dinner     2  0.159744\n",
       "\n",
       "[244 rows x 8 columns]"
      ]
     },
     "execution_count": 8,
     "metadata": {},
     "output_type": "execute_result"
    }
   ],
   "source": [
    "# seabornのサンプルデータの準備。https://github.com/mwaskom/seaborn-data\n",
    "# githubのtips.csvをロード\n",
    "# あるレストランで支払われたチップに関するデータ\n",
    "df = sns.load_dataset('tips')\n",
    "\n",
    "# 支払額とチップの割合のカラムを追加\n",
    "df['tip_rate'] = df['tip'] / df['total_bill']\n",
    "df"
   ]
  },
  {
   "cell_type": "markdown",
   "id": "8b544c81-4d29-48fe-b8dd-66c378423008",
   "metadata": {},
   "source": [
    "## ○分布の描画"
   ]
  },
  {
   "cell_type": "code",
   "execution_count": 12,
   "id": "60325692-f0db-4c5d-ba51-c85ac43d4225",
   "metadata": {},
   "outputs": [
    {
     "data": {
      "text/plain": [
       "'0.11.1'"
      ]
     },
     "execution_count": 12,
     "metadata": {},
     "output_type": "execute_result"
    }
   ],
   "source": [
    "# seabornのバージョン確認。\n",
    "sns.__version__"
   ]
  },
  {
   "cell_type": "markdown",
   "id": "64cbeea5-99bf-47cd-9782-c2daf33a299d",
   "metadata": {},
   "source": [
    "上記のバージョンだとdistplotではなくdisplotが推奨"
   ]
  },
  {
   "cell_type": "code",
   "execution_count": 14,
   "id": "b95d1793-6059-4af3-8712-e49c07cfc7cd",
   "metadata": {},
   "outputs": [
    {
     "data": {
      "text/plain": [
       "<seaborn.axisgrid.FacetGrid at 0x7fecbb69efd0>"
      ]
     },
     "execution_count": 14,
     "metadata": {},
     "output_type": "execute_result"
    },
    {
     "data": {
      "image/png": "[encoded data removed]",
      "text/plain": [
       "<Figure size 360x360 with 1 Axes>"
      ]
     },
     "metadata": {
      "needs_background": "light"
     },
     "output_type": "display_data"
    }
   ],
   "source": [
    "# ヒストグラムの描画\n",
    "sns.displot(df['tip'])"
   ]
  },
  {
   "cell_type": "code",
   "execution_count": 15,
   "id": "e74f8fd8-a04a-4a0f-ac76-1592c1410404",
   "metadata": {},
   "outputs": [
    {
     "name": "stderr",
     "output_type": "stream",
     "text": [
      "/opt/anaconda3/lib/python3.8/site-packages/seaborn/_decorators.py:36: FutureWarning: Pass the following variable as a keyword arg: x. From version 0.12, the only valid positional argument will be `data`, and passing other arguments without an explicit keyword will result in an error or misinterpretation.\n",
      "  warnings.warn(\n"
     ]
    },
    {
     "data": {
      "text/plain": [
       "<seaborn.axisgrid.FacetGrid at 0x7fecb8d577c0>"
      ]
     },
     "execution_count": 15,
     "metadata": {},
     "output_type": "execute_result"
    },
    {
     "data": {
      "image/png": "[encoded data removed]",
      "text/plain": [
       "<Figure size 360x360 with 1 Axes>"
      ]
     },
     "metadata": {
      "needs_background": "light"
     },
     "output_type": "display_data"
    }
   ],
   "source": [
    "# 棒グラフの描画\n",
    "sns.catplot('time', data=df, kind='count')"
   ]
  },
  {
   "cell_type": "markdown",
   "id": "9823684a-74b5-43c2-bd14-bd7f5e67217f",
   "metadata": {},
   "source": [
    "## ○平均値"
   ]
  },
  {
   "cell_type": "code",
   "execution_count": 17,
   "id": "b65afe35-c0bd-413c-aa5a-a135967330f8",
   "metadata": {},
   "outputs": [
    {
     "data": {
      "text/plain": [
       "2.0"
      ]
     },
     "execution_count": 17,
     "metadata": {},
     "output_type": "execute_result"
    }
   ],
   "source": [
    "np.mean([1, 2, 3])"
   ]
  },
  {
   "cell_type": "code",
   "execution_count": 20,
   "id": "e7321143-47fb-432a-81c0-bf223a6e87b3",
   "metadata": {},
   "outputs": [
    {
     "data": {
      "text/plain": [
       "2.9982786885245902"
      ]
     },
     "execution_count": 20,
     "metadata": {},
     "output_type": "execute_result"
    }
   ],
   "source": [
    "# Seriesを渡すことも可能\n",
    "np.mean(df['tip'])"
   ]
  },
  {
   "cell_type": "code",
   "execution_count": 21,
   "id": "c0f3f43c-41a6-4566-836c-af07ae9dc55b",
   "metadata": {},
   "outputs": [
    {
     "data": {
      "text/plain": [
       "0.16080258172250478"
      ]
     },
     "execution_count": 21,
     "metadata": {},
     "output_type": "execute_result"
    }
   ],
   "source": [
    "np.mean(df['tip_rate']) "
   ]
  },
  {
   "cell_type": "code",
   "execution_count": 23,
   "id": "46b1c4a7-7b8a-421d-87c2-0eaf12b6320f",
   "metadata": {},
   "outputs": [
    {
     "data": {
      "text/plain": [
       "0.16080258172250478"
      ]
     },
     "execution_count": 23,
     "metadata": {},
     "output_type": "execute_result"
    }
   ],
   "source": [
    "df['tip_rate'].mean()"
   ]
  },
  {
   "cell_type": "code",
   "execution_count": 24,
   "id": "3f60d85d-32e5-4ae9-a099-01d0a2dcfdc4",
   "metadata": {},
   "outputs": [
    {
     "data": {
      "text/html": [
       "<div>\n",
       "<style scoped>\n",
       "    .dataframe tbody tr th:only-of-type {\n",
       "        vertical-align: middle;\n",
       "    }\n",
       "\n",
       "    .dataframe tbody tr th {\n",
       "        vertical-align: top;\n",
       "    }\n",
       "\n",
       "    .dataframe thead th {\n",
       "        text-align: right;\n",
       "    }\n",
       "</style>\n",
       "<table border=\"1\" class=\"dataframe\">\n",
       "  <thead>\n",
       "    <tr style=\"text-align: right;\">\n",
       "      <th></th>\n",
       "      <th>total_bill</th>\n",
       "      <th>tip</th>\n",
       "      <th>size</th>\n",
       "      <th>tip_rate</th>\n",
       "    </tr>\n",
       "    <tr>\n",
       "      <th>sex</th>\n",
       "      <th></th>\n",
       "      <th></th>\n",
       "      <th></th>\n",
       "      <th></th>\n",
       "    </tr>\n",
       "  </thead>\n",
       "  <tbody>\n",
       "    <tr>\n",
       "      <th>Male</th>\n",
       "      <td>20.744076</td>\n",
       "      <td>3.089618</td>\n",
       "      <td>2.630573</td>\n",
       "      <td>0.157651</td>\n",
       "    </tr>\n",
       "    <tr>\n",
       "      <th>Female</th>\n",
       "      <td>18.056897</td>\n",
       "      <td>2.833448</td>\n",
       "      <td>2.459770</td>\n",
       "      <td>0.166491</td>\n",
       "    </tr>\n",
       "  </tbody>\n",
       "</table>\n",
       "</div>"
      ],
      "text/plain": [
       "        total_bill       tip      size  tip_rate\n",
       "sex                                             \n",
       "Male     20.744076  3.089618  2.630573  0.157651\n",
       "Female   18.056897  2.833448  2.459770  0.166491"
      ]
     },
     "execution_count": 24,
     "metadata": {},
     "output_type": "execute_result"
    }
   ],
   "source": [
    "# 性別ごとに平均値を見る\n",
    "df.groupby(\"sex\").mean()"
   ]
  },
  {
   "cell_type": "code",
   "execution_count": 26,
   "id": "b3061521-ee64-4dbd-a316-de16f878d865",
   "metadata": {},
   "outputs": [
    {
     "data": {
      "text/plain": [
       "<AxesSubplot:xlabel='sex', ylabel='tip_rate'>"
      ]
     },
     "execution_count": 26,
     "metadata": {},
     "output_type": "execute_result"
    },
    {
     "data": {
      "image/png": "[encoded data removed]",
      "text/plain": [
       "<Figure size 432x288 with 1 Axes>"
      ]
     },
     "metadata": {
      "needs_background": "light"
     },
     "output_type": "display_data"
    }
   ],
   "source": [
    "# カテゴリプロット\n",
    "sns.barplot(x='sex', y='tip_rate', data=df)"
   ]
  },
  {
   "cell_type": "markdown",
   "id": "dd643c9f-1ad6-4032-b4b0-a4a063b585fb",
   "metadata": {},
   "source": [
    "何も指定しなくても平均が表示される。これはestimatorという引数のデフォルトがmean関数であるため。  \n",
    "また、黒の縦棒はエラーバーを示す。消す場合はci=Noneを指定する。"
   ]
  },
  {
   "cell_type": "code",
   "execution_count": 28,
   "id": "cebb355b-c14a-4968-88a9-f7af30fedd1b",
   "metadata": {},
   "outputs": [
    {
     "data": {
      "text/plain": [
       "<AxesSubplot:xlabel='sex'>"
      ]
     },
     "execution_count": 28,
     "metadata": {},
     "output_type": "execute_result"
    },
    {
     "data": {
      "image/png": "[encoded data removed]",
      "text/plain": [
       "<Figure size 432x288 with 1 Axes>"
      ]
     },
     "metadata": {
      "needs_background": "light"
     },
     "output_type": "display_data"
    }
   ],
   "source": [
    "# Seriesから棒グラフを書く\n",
    "df.groupby(\"sex\").mean().plot(kind='bar')"
   ]
  },
  {
   "cell_type": "markdown",
   "id": "a70571cd-4d72-4ee0-82d6-09b08e87a0d6",
   "metadata": {},
   "source": [
    "## ○中央値"
   ]
  },
  {
   "cell_type": "code",
   "execution_count": 30,
   "id": "eef6a2a1-ec31-476a-8381-df101bef4629",
   "metadata": {},
   "outputs": [
    {
     "data": {
      "text/plain": [
       "3.0"
      ]
     },
     "execution_count": 30,
     "metadata": {},
     "output_type": "execute_result"
    }
   ],
   "source": [
    "np.median([1, 3, 5])"
   ]
  },
  {
   "cell_type": "code",
   "execution_count": 33,
   "id": "e7dd167d-c2ee-41bf-b698-3bf637d8f665",
   "metadata": {},
   "outputs": [
    {
     "data": {
      "text/plain": [
       "0.15476977125802577"
      ]
     },
     "execution_count": 33,
     "metadata": {},
     "output_type": "execute_result"
    }
   ],
   "source": [
    "np.median(df['tip_rate'])"
   ]
  },
  {
   "cell_type": "markdown",
   "id": "cd983d58-0989-40f2-8424-33cf69364a7a",
   "metadata": {},
   "source": [
    "meanが16程度だったのに対してmedianが0.154なので、大きい方に外れ値があると予想される。"
   ]
  },
  {
   "cell_type": "code",
   "execution_count": 34,
   "id": "6716cf70-acab-437a-b772-b77e806c0dff",
   "metadata": {},
   "outputs": [
    {
     "data": {
      "text/plain": [
       "<seaborn.axisgrid.FacetGrid at 0x7fecb8b6fd60>"
      ]
     },
     "execution_count": 34,
     "metadata": {},
     "output_type": "execute_result"
    },
    {
     "data": {
      "image/png": "[encoded data removed]",
      "text/plain": [
       "<Figure size 360x360 with 1 Axes>"
      ]
     },
     "metadata": {
      "needs_background": "light"
     },
     "output_type": "display_data"
    }
   ],
   "source": [
    "# 分布で確認\n",
    "sns.displot(df['tip_rate'])"
   ]
  },
  {
   "cell_type": "markdown",
   "id": "5b5cc1ae-8013-43a4-b85d-d0031dab7fa4",
   "metadata": {},
   "source": [
    "tip_rate=0.7の外れ値がいるので、meanはmedianに対して大きくなってしまう。"
   ]
  },
  {
   "cell_type": "code",
   "execution_count": 58,
   "id": "7cc55655-cf67-4270-b177-61307725b682",
   "metadata": {},
   "outputs": [
    {
     "data": {
      "text/plain": [
       "0.15476977125802577"
      ]
     },
     "execution_count": 58,
     "metadata": {},
     "output_type": "execute_result"
    }
   ],
   "source": [
    "# DataFrame.median()でmedianを算出\n",
    "df['tip_rate'].median()"
   ]
  },
  {
   "cell_type": "code",
   "execution_count": 38,
   "id": "7f767bd3-4e3d-4eb0-819b-05064bfe8157",
   "metadata": {},
   "outputs": [
    {
     "data": {
      "text/html": [
       "<div>\n",
       "<style scoped>\n",
       "    .dataframe tbody tr th:only-of-type {\n",
       "        vertical-align: middle;\n",
       "    }\n",
       "\n",
       "    .dataframe tbody tr th {\n",
       "        vertical-align: top;\n",
       "    }\n",
       "\n",
       "    .dataframe thead th {\n",
       "        text-align: right;\n",
       "    }\n",
       "</style>\n",
       "<table border=\"1\" class=\"dataframe\">\n",
       "  <thead>\n",
       "    <tr style=\"text-align: right;\">\n",
       "      <th></th>\n",
       "      <th>total_bill</th>\n",
       "      <th>tip</th>\n",
       "      <th>size</th>\n",
       "      <th>tip_rate</th>\n",
       "    </tr>\n",
       "    <tr>\n",
       "      <th>sex</th>\n",
       "      <th></th>\n",
       "      <th></th>\n",
       "      <th></th>\n",
       "      <th></th>\n",
       "    </tr>\n",
       "  </thead>\n",
       "  <tbody>\n",
       "    <tr>\n",
       "      <th>Male</th>\n",
       "      <td>18.35</td>\n",
       "      <td>3.00</td>\n",
       "      <td>2</td>\n",
       "      <td>0.153492</td>\n",
       "    </tr>\n",
       "    <tr>\n",
       "      <th>Female</th>\n",
       "      <td>16.40</td>\n",
       "      <td>2.75</td>\n",
       "      <td>2</td>\n",
       "      <td>0.155581</td>\n",
       "    </tr>\n",
       "  </tbody>\n",
       "</table>\n",
       "</div>"
      ],
      "text/plain": [
       "        total_bill   tip  size  tip_rate\n",
       "sex                                     \n",
       "Male         18.35  3.00     2  0.153492\n",
       "Female       16.40  2.75     2  0.155581"
      ]
     },
     "execution_count": 38,
     "metadata": {},
     "output_type": "execute_result"
    }
   ],
   "source": [
    "df.groupby('sex').median()"
   ]
  },
  {
   "cell_type": "code",
   "execution_count": 40,
   "id": "1ffc8c44-e104-4877-ba19-13058ab413ba",
   "metadata": {},
   "outputs": [
    {
     "data": {
      "text/plain": [
       "<AxesSubplot:xlabel='sex', ylabel='tip_rate'>"
      ]
     },
     "execution_count": 40,
     "metadata": {},
     "output_type": "execute_result"
    },
    {
     "data": {
      "image/png": "[encoded data removed]",
      "text/plain": [
       "<Figure size 432x288 with 1 Axes>"
      ]
     },
     "metadata": {
      "needs_background": "light"
     },
     "output_type": "display_data"
    }
   ],
   "source": [
    "# medianを棒グラフで描画。estimatorにnp.medianを指定する\n",
    "sns.barplot(x='sex', y='tip_rate', data=df, estimator=np.median, ci=None)"
   ]
  },
  {
   "cell_type": "markdown",
   "id": "01e26758-35fa-40bf-8674-e4cb044d6ec8",
   "metadata": {},
   "source": [
    "meanの場合と比較すると、Femaleはmedianの方が2%程低く、Maleとほぼ変わらない。  \n",
    "これは、大きな外れ値があるため。"
   ]
  },
  {
   "cell_type": "code",
   "execution_count": 59,
   "id": "11fcf182-0d7e-453b-9800-0660d69ed0fd",
   "metadata": {},
   "outputs": [
    {
     "data": {
      "text/html": [
       "<div>\n",
       "<style scoped>\n",
       "    .dataframe tbody tr th:only-of-type {\n",
       "        vertical-align: middle;\n",
       "    }\n",
       "\n",
       "    .dataframe tbody tr th {\n",
       "        vertical-align: top;\n",
       "    }\n",
       "\n",
       "    .dataframe thead th {\n",
       "        text-align: right;\n",
       "    }\n",
       "</style>\n",
       "<table border=\"1\" class=\"dataframe\">\n",
       "  <thead>\n",
       "    <tr style=\"text-align: right;\">\n",
       "      <th></th>\n",
       "      <th>total_bill</th>\n",
       "      <th>tip</th>\n",
       "      <th>sex</th>\n",
       "      <th>smoker</th>\n",
       "      <th>day</th>\n",
       "      <th>time</th>\n",
       "      <th>size</th>\n",
       "      <th>tip_rate</th>\n",
       "    </tr>\n",
       "  </thead>\n",
       "  <tbody>\n",
       "    <tr>\n",
       "      <th>172</th>\n",
       "      <td>7.25</td>\n",
       "      <td>5.15</td>\n",
       "      <td>Male</td>\n",
       "      <td>Yes</td>\n",
       "      <td>Sun</td>\n",
       "      <td>Dinner</td>\n",
       "      <td>2</td>\n",
       "      <td>0.710345</td>\n",
       "    </tr>\n",
       "    <tr>\n",
       "      <th>178</th>\n",
       "      <td>9.60</td>\n",
       "      <td>4.00</td>\n",
       "      <td>Female</td>\n",
       "      <td>Yes</td>\n",
       "      <td>Sun</td>\n",
       "      <td>Dinner</td>\n",
       "      <td>2</td>\n",
       "      <td>0.416667</td>\n",
       "    </tr>\n",
       "    <tr>\n",
       "      <th>67</th>\n",
       "      <td>3.07</td>\n",
       "      <td>1.00</td>\n",
       "      <td>Female</td>\n",
       "      <td>Yes</td>\n",
       "      <td>Sat</td>\n",
       "      <td>Dinner</td>\n",
       "      <td>1</td>\n",
       "      <td>0.325733</td>\n",
       "    </tr>\n",
       "    <tr>\n",
       "      <th>232</th>\n",
       "      <td>11.61</td>\n",
       "      <td>3.39</td>\n",
       "      <td>Male</td>\n",
       "      <td>No</td>\n",
       "      <td>Sat</td>\n",
       "      <td>Dinner</td>\n",
       "      <td>2</td>\n",
       "      <td>0.291990</td>\n",
       "    </tr>\n",
       "    <tr>\n",
       "      <th>183</th>\n",
       "      <td>23.17</td>\n",
       "      <td>6.50</td>\n",
       "      <td>Male</td>\n",
       "      <td>Yes</td>\n",
       "      <td>Sun</td>\n",
       "      <td>Dinner</td>\n",
       "      <td>4</td>\n",
       "      <td>0.280535</td>\n",
       "    </tr>\n",
       "    <tr>\n",
       "      <th>...</th>\n",
       "      <td>...</td>\n",
       "      <td>...</td>\n",
       "      <td>...</td>\n",
       "      <td>...</td>\n",
       "      <td>...</td>\n",
       "      <td>...</td>\n",
       "      <td>...</td>\n",
       "      <td>...</td>\n",
       "    </tr>\n",
       "    <tr>\n",
       "      <th>187</th>\n",
       "      <td>30.46</td>\n",
       "      <td>2.00</td>\n",
       "      <td>Male</td>\n",
       "      <td>Yes</td>\n",
       "      <td>Sun</td>\n",
       "      <td>Dinner</td>\n",
       "      <td>5</td>\n",
       "      <td>0.065660</td>\n",
       "    </tr>\n",
       "    <tr>\n",
       "      <th>0</th>\n",
       "      <td>16.99</td>\n",
       "      <td>1.01</td>\n",
       "      <td>Female</td>\n",
       "      <td>No</td>\n",
       "      <td>Sun</td>\n",
       "      <td>Dinner</td>\n",
       "      <td>2</td>\n",
       "      <td>0.059447</td>\n",
       "    </tr>\n",
       "    <tr>\n",
       "      <th>57</th>\n",
       "      <td>26.41</td>\n",
       "      <td>1.50</td>\n",
       "      <td>Female</td>\n",
       "      <td>No</td>\n",
       "      <td>Sat</td>\n",
       "      <td>Dinner</td>\n",
       "      <td>2</td>\n",
       "      <td>0.056797</td>\n",
       "    </tr>\n",
       "    <tr>\n",
       "      <th>102</th>\n",
       "      <td>44.30</td>\n",
       "      <td>2.50</td>\n",
       "      <td>Female</td>\n",
       "      <td>Yes</td>\n",
       "      <td>Sat</td>\n",
       "      <td>Dinner</td>\n",
       "      <td>3</td>\n",
       "      <td>0.056433</td>\n",
       "    </tr>\n",
       "    <tr>\n",
       "      <th>237</th>\n",
       "      <td>32.83</td>\n",
       "      <td>1.17</td>\n",
       "      <td>Male</td>\n",
       "      <td>Yes</td>\n",
       "      <td>Sat</td>\n",
       "      <td>Dinner</td>\n",
       "      <td>2</td>\n",
       "      <td>0.035638</td>\n",
       "    </tr>\n",
       "  </tbody>\n",
       "</table>\n",
       "<p>244 rows × 8 columns</p>\n",
       "</div>"
      ],
      "text/plain": [
       "     total_bill   tip     sex smoker  day    time  size  tip_rate\n",
       "172        7.25  5.15    Male    Yes  Sun  Dinner     2  0.710345\n",
       "178        9.60  4.00  Female    Yes  Sun  Dinner     2  0.416667\n",
       "67         3.07  1.00  Female    Yes  Sat  Dinner     1  0.325733\n",
       "232       11.61  3.39    Male     No  Sat  Dinner     2  0.291990\n",
       "183       23.17  6.50    Male    Yes  Sun  Dinner     4  0.280535\n",
       "..          ...   ...     ...    ...  ...     ...   ...       ...\n",
       "187       30.46  2.00    Male    Yes  Sun  Dinner     5  0.065660\n",
       "0         16.99  1.01  Female     No  Sun  Dinner     2  0.059447\n",
       "57        26.41  1.50  Female     No  Sat  Dinner     2  0.056797\n",
       "102       44.30  2.50  Female    Yes  Sat  Dinner     3  0.056433\n",
       "237       32.83  1.17    Male    Yes  Sat  Dinner     2  0.035638\n",
       "\n",
       "[244 rows x 8 columns]"
      ]
     },
     "execution_count": 59,
     "metadata": {},
     "output_type": "execute_result"
    }
   ],
   "source": [
    "# 男性と女性ごとのtip_rateを降順に並べる。 \n",
    "df.sort_values('tip_rate', ascending=False)"
   ]
  },
  {
   "cell_type": "markdown",
   "id": "a070dcfc-7493-4c5e-8e40-518583e8f59f",
   "metadata": {},
   "source": [
    "## ○最頻値を求める\n",
    "最頻値は下記で求める。科学計算用モジュールのScipy(サイパイ)を使用する。\n",
    "* stats.mode() : 最頻値とカウントを返す。\n",
    "* df['column'].mode() : 最頻値をSeriesで返す"
   ]
  },
  {
   "cell_type": "code",
   "execution_count": 47,
   "id": "6b451617-54a6-4e5a-b8eb-1516c2145251",
   "metadata": {},
   "outputs": [
    {
     "data": {
      "text/plain": [
       "ModeResult(mode=array([2]), count=array([3]))"
      ]
     },
     "execution_count": 47,
     "metadata": {},
     "output_type": "execute_result"
    }
   ],
   "source": [
    "stats.mode([1, 2, 2, 2, 3, 4])"
   ]
  },
  {
   "cell_type": "code",
   "execution_count": 50,
   "id": "3539322e-b3db-4b09-9ffa-3c1a303a585e",
   "metadata": {},
   "outputs": [],
   "source": [
    "# mode,countがndarrayで返される。それぞれ引数に入れる\n",
    "mode, count = stats.mode([1, 2, 2, 2, 3, 4])"
   ]
  },
  {
   "cell_type": "code",
   "execution_count": 49,
   "id": "a7e787c1-6749-49f3-8356-0b8a78a8366f",
   "metadata": {},
   "outputs": [
    {
     "name": "stdout",
     "output_type": "stream",
     "text": [
      "[2] [3]\n"
     ]
    }
   ],
   "source": [
    "print(mode, count)"
   ]
  },
  {
   "cell_type": "code",
   "execution_count": 53,
   "id": "fb72ab14-c57b-48af-bf88-ec2d7525e736",
   "metadata": {},
   "outputs": [
    {
     "data": {
      "text/html": [
       "<div>\n",
       "<style scoped>\n",
       "    .dataframe tbody tr th:only-of-type {\n",
       "        vertical-align: middle;\n",
       "    }\n",
       "\n",
       "    .dataframe tbody tr th {\n",
       "        vertical-align: top;\n",
       "    }\n",
       "\n",
       "    .dataframe thead th {\n",
       "        text-align: right;\n",
       "    }\n",
       "</style>\n",
       "<table border=\"1\" class=\"dataframe\">\n",
       "  <thead>\n",
       "    <tr style=\"text-align: right;\">\n",
       "      <th></th>\n",
       "      <th>total_bill</th>\n",
       "      <th>tip</th>\n",
       "      <th>sex</th>\n",
       "      <th>smoker</th>\n",
       "      <th>day</th>\n",
       "      <th>time</th>\n",
       "      <th>size</th>\n",
       "      <th>tip_rate</th>\n",
       "    </tr>\n",
       "  </thead>\n",
       "  <tbody>\n",
       "    <tr>\n",
       "      <th>0</th>\n",
       "      <td>16.99</td>\n",
       "      <td>1.01</td>\n",
       "      <td>Female</td>\n",
       "      <td>No</td>\n",
       "      <td>Sun</td>\n",
       "      <td>Dinner</td>\n",
       "      <td>2</td>\n",
       "      <td>0.059447</td>\n",
       "    </tr>\n",
       "    <tr>\n",
       "      <th>1</th>\n",
       "      <td>10.34</td>\n",
       "      <td>1.66</td>\n",
       "      <td>Male</td>\n",
       "      <td>No</td>\n",
       "      <td>Sun</td>\n",
       "      <td>Dinner</td>\n",
       "      <td>3</td>\n",
       "      <td>0.160542</td>\n",
       "    </tr>\n",
       "    <tr>\n",
       "      <th>2</th>\n",
       "      <td>21.01</td>\n",
       "      <td>3.50</td>\n",
       "      <td>Male</td>\n",
       "      <td>No</td>\n",
       "      <td>Sun</td>\n",
       "      <td>Dinner</td>\n",
       "      <td>3</td>\n",
       "      <td>0.166587</td>\n",
       "    </tr>\n",
       "    <tr>\n",
       "      <th>3</th>\n",
       "      <td>23.68</td>\n",
       "      <td>3.31</td>\n",
       "      <td>Male</td>\n",
       "      <td>No</td>\n",
       "      <td>Sun</td>\n",
       "      <td>Dinner</td>\n",
       "      <td>2</td>\n",
       "      <td>0.139780</td>\n",
       "    </tr>\n",
       "    <tr>\n",
       "      <th>4</th>\n",
       "      <td>24.59</td>\n",
       "      <td>3.61</td>\n",
       "      <td>Female</td>\n",
       "      <td>No</td>\n",
       "      <td>Sun</td>\n",
       "      <td>Dinner</td>\n",
       "      <td>4</td>\n",
       "      <td>0.146808</td>\n",
       "    </tr>\n",
       "    <tr>\n",
       "      <th>...</th>\n",
       "      <td>...</td>\n",
       "      <td>...</td>\n",
       "      <td>...</td>\n",
       "      <td>...</td>\n",
       "      <td>...</td>\n",
       "      <td>...</td>\n",
       "      <td>...</td>\n",
       "      <td>...</td>\n",
       "    </tr>\n",
       "    <tr>\n",
       "      <th>239</th>\n",
       "      <td>29.03</td>\n",
       "      <td>5.92</td>\n",
       "      <td>Male</td>\n",
       "      <td>No</td>\n",
       "      <td>Sat</td>\n",
       "      <td>Dinner</td>\n",
       "      <td>3</td>\n",
       "      <td>0.203927</td>\n",
       "    </tr>\n",
       "    <tr>\n",
       "      <th>240</th>\n",
       "      <td>27.18</td>\n",
       "      <td>2.00</td>\n",
       "      <td>Female</td>\n",
       "      <td>Yes</td>\n",
       "      <td>Sat</td>\n",
       "      <td>Dinner</td>\n",
       "      <td>2</td>\n",
       "      <td>0.073584</td>\n",
       "    </tr>\n",
       "    <tr>\n",
       "      <th>241</th>\n",
       "      <td>22.67</td>\n",
       "      <td>2.00</td>\n",
       "      <td>Male</td>\n",
       "      <td>Yes</td>\n",
       "      <td>Sat</td>\n",
       "      <td>Dinner</td>\n",
       "      <td>2</td>\n",
       "      <td>0.088222</td>\n",
       "    </tr>\n",
       "    <tr>\n",
       "      <th>242</th>\n",
       "      <td>17.82</td>\n",
       "      <td>1.75</td>\n",
       "      <td>Male</td>\n",
       "      <td>No</td>\n",
       "      <td>Sat</td>\n",
       "      <td>Dinner</td>\n",
       "      <td>2</td>\n",
       "      <td>0.098204</td>\n",
       "    </tr>\n",
       "    <tr>\n",
       "      <th>243</th>\n",
       "      <td>18.78</td>\n",
       "      <td>3.00</td>\n",
       "      <td>Female</td>\n",
       "      <td>No</td>\n",
       "      <td>Thur</td>\n",
       "      <td>Dinner</td>\n",
       "      <td>2</td>\n",
       "      <td>0.159744</td>\n",
       "    </tr>\n",
       "  </tbody>\n",
       "</table>\n",
       "<p>244 rows × 8 columns</p>\n",
       "</div>"
      ],
      "text/plain": [
       "     total_bill   tip     sex smoker   day    time  size  tip_rate\n",
       "0         16.99  1.01  Female     No   Sun  Dinner     2  0.059447\n",
       "1         10.34  1.66    Male     No   Sun  Dinner     3  0.160542\n",
       "2         21.01  3.50    Male     No   Sun  Dinner     3  0.166587\n",
       "3         23.68  3.31    Male     No   Sun  Dinner     2  0.139780\n",
       "4         24.59  3.61  Female     No   Sun  Dinner     4  0.146808\n",
       "..          ...   ...     ...    ...   ...     ...   ...       ...\n",
       "239       29.03  5.92    Male     No   Sat  Dinner     3  0.203927\n",
       "240       27.18  2.00  Female    Yes   Sat  Dinner     2  0.073584\n",
       "241       22.67  2.00    Male    Yes   Sat  Dinner     2  0.088222\n",
       "242       17.82  1.75    Male     No   Sat  Dinner     2  0.098204\n",
       "243       18.78  3.00  Female     No  Thur  Dinner     2  0.159744\n",
       "\n",
       "[244 rows x 8 columns]"
      ]
     },
     "execution_count": 53,
     "metadata": {},
     "output_type": "execute_result"
    }
   ],
   "source": [
    "# DFを入れる\n",
    "mode, count = stats.mode(df)\n",
    "df"
   ]
  },
  {
   "cell_type": "code",
   "execution_count": 52,
   "id": "b7725266-e8d4-4b53-968d-d7a382bee29d",
   "metadata": {},
   "outputs": [
    {
     "name": "stdout",
     "output_type": "stream",
     "text": [
      "[[13.42 2.0 'Male' 'No' 'Sat' 'Dinner' 2 0.1448225923244026]]\n",
      "[[  3  33 157 151  87 176 156   2]]\n"
     ]
    }
   ],
   "source": [
    "print(mode)\n",
    "print(count)"
   ]
  },
  {
   "cell_type": "markdown",
   "id": "107bae68-9179-4072-a495-7c48d50e8291",
   "metadata": {},
   "source": [
    "DFの各カラムに対して、左から順にmode,countがarrayとして返される。  \n",
    "上記だと、total_billのmodeは13.42でcountは3という意味になる。"
   ]
  },
  {
   "cell_type": "code",
   "execution_count": 57,
   "id": "0501aa6f-5187-46f5-8f86-95e3c5c17ea9",
   "metadata": {},
   "outputs": [
    {
     "data": {
      "text/plain": [
       "0    0.144823\n",
       "1    0.153846\n",
       "dtype: float64"
      ]
     },
     "execution_count": 57,
     "metadata": {},
     "output_type": "execute_result"
    }
   ],
   "source": [
    "# tip_rateカラムの最頻値をSeriesで返す\n",
    "# 最頻値が複数ある（出てくる回数が同じ）場合のために、Seriesで帰ってくる\n",
    "df['tip_rate'].mode()"
   ]
  },
  {
   "cell_type": "code",
   "execution_count": 56,
   "id": "66bd9780-8536-4148-a85f-376906a8fba1",
   "metadata": {},
   "outputs": [
    {
     "name": "stdout",
     "output_type": "stream",
     "text": [
      "[2] [156]\n"
     ]
    }
   ],
   "source": [
    "mode, count = stats.mode(df['size'])\n",
    "print(mode, count)"
   ]
  },
  {
   "cell_type": "markdown",
   "id": "d662dfee-fa2d-4c86-a810-0a3fc7a60462",
   "metadata": {},
   "source": [
    "来客は二人組の場合が最も多く、156回ということが分かる"
   ]
  },
  {
   "cell_type": "markdown",
   "id": "94c6374c-811f-4050-b732-ccebdfdb6585",
   "metadata": {},
   "source": [
    "## ○範囲(range)"
   ]
  },
  {
   "cell_type": "code",
   "execution_count": 60,
   "id": "8c29554a-1577-4508-9024-3a36769f7fe8",
   "metadata": {},
   "outputs": [
    {
     "data": {
      "text/plain": [
       "1.0"
      ]
     },
     "execution_count": 60,
     "metadata": {},
     "output_type": "execute_result"
    }
   ],
   "source": [
    "# 最小値を求める\n",
    "np.min(df['tip'])"
   ]
  },
  {
   "cell_type": "code",
   "execution_count": 62,
   "id": "ea683f72-b7b8-436d-9415-b79326c5566c",
   "metadata": {},
   "outputs": [
    {
     "data": {
      "text/plain": [
       "1.0"
      ]
     },
     "execution_count": 62,
     "metadata": {},
     "output_type": "execute_result"
    }
   ],
   "source": [
    "df['tip'].min()"
   ]
  },
  {
   "cell_type": "code",
   "execution_count": 63,
   "id": "1cbc0dda-0a9c-4c14-bc6e-2050f0109257",
   "metadata": {},
   "outputs": [
    {
     "data": {
      "text/html": [
       "<div>\n",
       "<style scoped>\n",
       "    .dataframe tbody tr th:only-of-type {\n",
       "        vertical-align: middle;\n",
       "    }\n",
       "\n",
       "    .dataframe tbody tr th {\n",
       "        vertical-align: top;\n",
       "    }\n",
       "\n",
       "    .dataframe thead th {\n",
       "        text-align: right;\n",
       "    }\n",
       "</style>\n",
       "<table border=\"1\" class=\"dataframe\">\n",
       "  <thead>\n",
       "    <tr style=\"text-align: right;\">\n",
       "      <th></th>\n",
       "      <th>total_bill</th>\n",
       "      <th>tip</th>\n",
       "      <th>size</th>\n",
       "      <th>tip_rate</th>\n",
       "    </tr>\n",
       "    <tr>\n",
       "      <th>sex</th>\n",
       "      <th></th>\n",
       "      <th></th>\n",
       "      <th></th>\n",
       "      <th></th>\n",
       "    </tr>\n",
       "  </thead>\n",
       "  <tbody>\n",
       "    <tr>\n",
       "      <th>Male</th>\n",
       "      <td>7.25</td>\n",
       "      <td>1.0</td>\n",
       "      <td>1</td>\n",
       "      <td>0.035638</td>\n",
       "    </tr>\n",
       "    <tr>\n",
       "      <th>Female</th>\n",
       "      <td>3.07</td>\n",
       "      <td>1.0</td>\n",
       "      <td>1</td>\n",
       "      <td>0.056433</td>\n",
       "    </tr>\n",
       "  </tbody>\n",
       "</table>\n",
       "</div>"
      ],
      "text/plain": [
       "        total_bill  tip  size  tip_rate\n",
       "sex                                    \n",
       "Male          7.25  1.0     1  0.035638\n",
       "Female        3.07  1.0     1  0.056433"
      ]
     },
     "execution_count": 63,
     "metadata": {},
     "output_type": "execute_result"
    }
   ],
   "source": [
    "df.groupby('sex').min()"
   ]
  },
  {
   "cell_type": "code",
   "execution_count": 64,
   "id": "625e30a1-0f33-4be6-93eb-093d1d262419",
   "metadata": {},
   "outputs": [
    {
     "data": {
      "text/plain": [
       "10.0"
      ]
     },
     "execution_count": 64,
     "metadata": {},
     "output_type": "execute_result"
    }
   ],
   "source": [
    "# 最大値を求める\n",
    "np.max(df['tip'])"
   ]
  },
  {
   "cell_type": "code",
   "execution_count": 65,
   "id": "841809a4-3bdb-4b00-83a7-6dd041194884",
   "metadata": {},
   "outputs": [
    {
     "data": {
      "text/plain": [
       "10.0"
      ]
     },
     "execution_count": 65,
     "metadata": {},
     "output_type": "execute_result"
    }
   ],
   "source": [
    "df['tip'].max()"
   ]
  },
  {
   "cell_type": "code",
   "execution_count": 66,
   "id": "4d3776ad-6fb4-4215-a382-98fda71092d8",
   "metadata": {},
   "outputs": [
    {
     "data": {
      "text/html": [
       "<div>\n",
       "<style scoped>\n",
       "    .dataframe tbody tr th:only-of-type {\n",
       "        vertical-align: middle;\n",
       "    }\n",
       "\n",
       "    .dataframe tbody tr th {\n",
       "        vertical-align: top;\n",
       "    }\n",
       "\n",
       "    .dataframe thead th {\n",
       "        text-align: right;\n",
       "    }\n",
       "</style>\n",
       "<table border=\"1\" class=\"dataframe\">\n",
       "  <thead>\n",
       "    <tr style=\"text-align: right;\">\n",
       "      <th></th>\n",
       "      <th>total_bill</th>\n",
       "      <th>tip</th>\n",
       "      <th>size</th>\n",
       "      <th>tip_rate</th>\n",
       "    </tr>\n",
       "    <tr>\n",
       "      <th>sex</th>\n",
       "      <th></th>\n",
       "      <th></th>\n",
       "      <th></th>\n",
       "      <th></th>\n",
       "    </tr>\n",
       "  </thead>\n",
       "  <tbody>\n",
       "    <tr>\n",
       "      <th>Male</th>\n",
       "      <td>50.81</td>\n",
       "      <td>10.0</td>\n",
       "      <td>6</td>\n",
       "      <td>0.710345</td>\n",
       "    </tr>\n",
       "    <tr>\n",
       "      <th>Female</th>\n",
       "      <td>44.30</td>\n",
       "      <td>6.5</td>\n",
       "      <td>6</td>\n",
       "      <td>0.416667</td>\n",
       "    </tr>\n",
       "  </tbody>\n",
       "</table>\n",
       "</div>"
      ],
      "text/plain": [
       "        total_bill   tip  size  tip_rate\n",
       "sex                                     \n",
       "Male         50.81  10.0     6  0.710345\n",
       "Female       44.30   6.5     6  0.416667"
      ]
     },
     "execution_count": 66,
     "metadata": {},
     "output_type": "execute_result"
    }
   ],
   "source": [
    "df.groupby('sex').max()"
   ]
  },
  {
   "cell_type": "code",
   "execution_count": 69,
   "id": "9baecdd3-59bc-48b0-94ec-61e5c21e52bc",
   "metadata": {},
   "outputs": [
    {
     "data": {
      "text/plain": [
       "9.0"
      ]
     },
     "execution_count": 69,
     "metadata": {},
     "output_type": "execute_result"
    }
   ],
   "source": [
    "# 範囲を求める（あまり使うことはない）\n",
    "np.max(df['tip']) - np.min(df['tip'])"
   ]
  },
  {
   "cell_type": "markdown",
   "id": "557ce58e-789b-4bb7-b6f4-3554e4f9574f",
   "metadata": {},
   "source": [
    "## ○四分位数を求める "
   ]
  },
  {
   "cell_type": "code",
   "execution_count": 75,
   "id": "864514d3-aee3-4bb5-9293-34211b8c06df",
   "metadata": {},
   "outputs": [
    {
     "data": {
      "text/plain": [
       "array([0.12912736, 0.15476977, 0.19147549])"
      ]
     },
     "execution_count": 75,
     "metadata": {},
     "output_type": "execute_result"
    }
   ],
   "source": [
    "# np.quantileで求める。これは四分位数ではなく分位数なので、25%,50%,75%を指定する必要がある。\n",
    "# 任意の分位数を求めることができる\n",
    "np.quantile(df['tip_rate'], [0.25, 0.5, 0.75])"
   ]
  },
  {
   "cell_type": "code",
   "execution_count": 74,
   "id": "d0d7402f-5d41-4017-9dc5-9017740115d8",
   "metadata": {},
   "outputs": [
    {
     "data": {
      "text/plain": [
       "0.25    0.129127\n",
       "0.50    0.154770\n",
       "0.75    0.191475\n",
       "Name: tip_rate, dtype: float64"
      ]
     },
     "execution_count": 74,
     "metadata": {},
     "output_type": "execute_result"
    }
   ],
   "source": [
    "df['tip_rate'].quantile([0.25, 0.5, 0.75])"
   ]
  },
  {
   "cell_type": "code",
   "execution_count": 76,
   "id": "a8e294eb-7b11-4e16-8448-eb74fc67191b",
   "metadata": {},
   "outputs": [
    {
     "data": {
      "text/plain": [
       "0.06234812458689151"
      ]
     },
     "execution_count": 76,
     "metadata": {},
     "output_type": "execute_result"
    }
   ],
   "source": [
    "# 四分位範囲をもとめる\n",
    "stats.iqr(df['tip_rate'])"
   ]
  },
  {
   "cell_type": "code",
   "execution_count": 77,
   "id": "a5d00cf0-d48e-4db7-8ecc-2ab5ae1ec6d0",
   "metadata": {},
   "outputs": [
    {
     "data": {
      "text/plain": [
       "0.062348000000000015"
      ]
     },
     "execution_count": 77,
     "metadata": {},
     "output_type": "execute_result"
    }
   ],
   "source": [
    "0.191475 - 0.129127"
   ]
  },
  {
   "cell_type": "code",
   "execution_count": 79,
   "id": "efb8aebc-0211-4d5e-be1f-1bdef5635033",
   "metadata": {},
   "outputs": [
    {
     "data": {
      "text/plain": [
       "0.031174062293445756"
      ]
     },
     "execution_count": 79,
     "metadata": {},
     "output_type": "execute_result"
    }
   ],
   "source": [
    "# 四分位偏差を求める\n",
    "stats.iqr(df['tip_rate']) / 2"
   ]
  },
  {
   "cell_type": "code",
   "execution_count": 83,
   "id": "8074a1a1-c715-4ff7-b90d-d9be18c877d3",
   "metadata": {},
   "outputs": [
    {
     "data": {
      "image/png": "[encoded data removed]",
      "text/plain": [
       "<Figure size 432x288 with 1 Axes>"
      ]
     },
     "metadata": {
      "needs_background": "light"
     },
     "output_type": "display_data"
    }
   ],
   "source": [
    "# 箱ひげ図も見てみる\n",
    "plt.boxplot(df['tip_rate'])\n",
    "plt.show()"
   ]
  },
  {
   "cell_type": "markdown",
   "id": "84e7bd72-2e55-4377-93ef-a2f3ca0a4413",
   "metadata": {},
   "source": [
    "ひげをどの範囲で書くかはケースバイケース。whis引数で指定できる。デフォルトではIQRの1.5倍。"
   ]
  },
  {
   "cell_type": "code",
   "execution_count": 86,
   "id": "7377e99a-6c4b-4ff7-94cf-613b75fd539c",
   "metadata": {},
   "outputs": [
    {
     "data": {
      "text/plain": [
       "<AxesSubplot:xlabel='size', ylabel='tip_rate'>"
      ]
     },
     "execution_count": 86,
     "metadata": {},
     "output_type": "execute_result"
    },
    {
     "data": {
      "image/png": "[encoded data removed]",
      "text/plain": [
       "<Figure size 432x288 with 1 Axes>"
      ]
     },
     "metadata": {
      "needs_background": "light"
     },
     "output_type": "display_data"
    }
   ],
   "source": [
    "# seabornでboxplotを表示\n",
    "sns.boxplot(x='size', y='tip_rate', data=df )"
   ]
  },
  {
   "cell_type": "markdown",
   "id": "339ac911-5b5e-49ef-afeb-b9e3fae439cf",
   "metadata": {},
   "source": [
    "人数が多いほどtip_rateが下がる傾向にあることがわかる。  \n",
    "これは人数が多いとtotal_billが上がるため、少人数の時のtip_rateと同じだと支払うチップ額が大きくなってしまうためセーブするからだと考えられる。"
   ]
  },
  {
   "cell_type": "markdown",
   "id": "e3527416-cdb1-4c7a-941b-295703f7658a",
   "metadata": {},
   "source": [
    "## ○分散と標準偏差"
   ]
  },
  {
   "cell_type": "code",
   "execution_count": 87,
   "id": "eef67d81-ad62-494d-8d41-16cb15ffaba6",
   "metadata": {},
   "outputs": [
    {
     "data": {
      "text/plain": [
       "1.25"
      ]
     },
     "execution_count": 87,
     "metadata": {},
     "output_type": "execute_result"
    }
   ],
   "source": [
    "# np.var():分散を算出\n",
    "np.var([1, 2, 3, 4])"
   ]
  },
  {
   "cell_type": "code",
   "execution_count": 99,
   "id": "ea9a4902-6722-43b7-8e7b-f1ff8e11c780",
   "metadata": {},
   "outputs": [
    {
     "data": {
      "text/plain": [
       "1.9066085124966428"
      ]
     },
     "execution_count": 99,
     "metadata": {},
     "output_type": "execute_result"
    }
   ],
   "source": [
    "np.var(df['tip'])"
   ]
  },
  {
   "cell_type": "code",
   "execution_count": 88,
   "id": "d18e2830-9783-47fe-9458-2e376d3b7234",
   "metadata": {},
   "outputs": [
    {
     "data": {
      "text/plain": [
       "0.0037145280013546928"
      ]
     },
     "execution_count": 88,
     "metadata": {},
     "output_type": "execute_result"
    }
   ],
   "source": [
    "np.var(df['tip_rate'])"
   ]
  },
  {
   "cell_type": "code",
   "execution_count": 89,
   "id": "826f179d-c839-4a6f-8fbc-f0cec1b79649",
   "metadata": {},
   "outputs": [
    {
     "data": {
      "text/plain": [
       "1.3807999538298958"
      ]
     },
     "execution_count": 89,
     "metadata": {},
     "output_type": "execute_result"
    }
   ],
   "source": [
    "# np.std():標準偏差を算出\n",
    "np.std(df['tip'])"
   ]
  },
  {
   "cell_type": "code",
   "execution_count": 91,
   "id": "09001ccc-7fdc-4acd-af57-437f90035854",
   "metadata": {},
   "outputs": [
    {
     "data": {
      "text/plain": [
       "2.9982786885245902"
      ]
     },
     "execution_count": 91,
     "metadata": {},
     "output_type": "execute_result"
    }
   ],
   "source": [
    "np.mean(df['tip'])"
   ]
  },
  {
   "cell_type": "markdown",
   "id": "7f0d3551-2a3b-4506-9b12-267d580fb574",
   "metadata": {},
   "source": [
    "tip額の平均が約3,標準偏差が1.4ぐらいなので、仮に正規分布になっているなら  \n",
    "68-95-99.7則に従い、tip額が1.6-4.4の間に全データの68%が入っていると予想される。"
   ]
  },
  {
   "cell_type": "code",
   "execution_count": 90,
   "id": "008ec3b3-bce2-4104-9353-4f991d3d1297",
   "metadata": {},
   "outputs": [
    {
     "data": {
      "text/plain": [
       "1.3807999538298958"
      ]
     },
     "execution_count": 90,
     "metadata": {},
     "output_type": "execute_result"
    }
   ],
   "source": [
    "# varのルートをとると同じ。\n",
    "np.sqrt(np.var(df['tip']))"
   ]
  },
  {
   "cell_type": "markdown",
   "id": "f467dadd-86ae-48f8-9c12-e021d07f5285",
   "metadata": {},
   "source": [
    "## ○共分散"
   ]
  },
  {
   "cell_type": "code",
   "execution_count": 102,
   "id": "75311968-d176-48a4-b75f-8fd1a9cba024",
   "metadata": {},
   "outputs": [
    {
     "data": {
      "text/plain": [
       "array([[ 0.66666667,  3.33333333],\n",
       "       [ 3.33333333, 20.22222222]])"
      ]
     },
     "execution_count": 102,
     "metadata": {},
     "output_type": "execute_result"
    }
   ],
   "source": [
    "# x=[1, 2, 3],y=[-4, 5, 6]の共分散行列を求める\n",
    "# デフォルトではnではなく、n-1で割った不偏分散で計算される。\n",
    "# nで割るにはbias=Trueにする。\n",
    "np.cov([1, 2, 3], [-4, 5, 6], bias=True)"
   ]
  },
  {
   "cell_type": "code",
   "execution_count": 103,
   "id": "c99eb8ec-9eaf-4f0a-85f0-34da2141628e",
   "metadata": {},
   "outputs": [
    {
     "data": {
      "text/plain": [
       "array([[78.92813149,  8.28938892],\n",
       "       [ 8.28938892,  1.90660851]])"
      ]
     },
     "execution_count": 103,
     "metadata": {},
     "output_type": "execute_result"
    }
   ],
   "source": [
    "# x=df['total_bill'],y=df['tip']の共分散行列を求める\n",
    "np.cov(df['total_bill'], df['tip'], bias=True)"
   ]
  },
  {
   "cell_type": "code",
   "execution_count": 111,
   "id": "b0e3ea23-9dfa-44ea-b3f0-c3f0004f5b83",
   "metadata": {},
   "outputs": [
    {
     "data": {
      "text/plain": [
       "array([[16.99, 10.34, 21.01, 23.68, 24.59, 25.29,  8.77, 26.88, 15.04,\n",
       "        14.78, 10.27, 35.26, 15.42, 18.43, 14.83, 21.58, 10.33, 16.29,\n",
       "        16.97, 20.65, 17.92, 20.29, 15.77, 39.42, 19.82, 17.81, 13.37,\n",
       "        12.69, 21.7 , 19.65,  9.55, 18.35, 15.06, 20.69, 17.78, 24.06,\n",
       "        16.31, 16.93, 18.69, 31.27, 16.04, 17.46, 13.94,  9.68, 30.4 ,\n",
       "        18.29, 22.23, 32.4 , 28.55, 18.04, 12.54, 10.29, 34.81,  9.94,\n",
       "        25.56, 19.49, 38.01, 26.41, 11.24, 48.27, 20.29, 13.81, 11.02,\n",
       "        18.29, 17.59, 20.08, 16.45,  3.07, 20.23, 15.01, 12.02, 17.07,\n",
       "        26.86, 25.28, 14.73, 10.51, 17.92, 27.2 , 22.76, 17.29, 19.44,\n",
       "        16.66, 10.07, 32.68, 15.98, 34.83, 13.03, 18.28, 24.71, 21.16,\n",
       "        28.97, 22.49,  5.75, 16.32, 22.75, 40.17, 27.28, 12.03, 21.01,\n",
       "        12.46, 11.35, 15.38, 44.3 , 22.42, 20.92, 15.36, 20.49, 25.21,\n",
       "        18.24, 14.31, 14.  ,  7.25, 38.07, 23.95, 25.71, 17.31, 29.93,\n",
       "        10.65, 12.43, 24.08, 11.69, 13.42, 14.26, 15.95, 12.48, 29.8 ,\n",
       "         8.52, 14.52, 11.38, 22.82, 19.08, 20.27, 11.17, 12.26, 18.26,\n",
       "         8.51, 10.33, 14.15, 16.  , 13.16, 17.47, 34.3 , 41.19, 27.05,\n",
       "        16.43,  8.35, 18.64, 11.87,  9.78,  7.51, 14.07, 13.13, 17.26,\n",
       "        24.55, 19.77, 29.85, 48.17, 25.  , 13.39, 16.49, 21.5 , 12.66,\n",
       "        16.21, 13.81, 17.51, 24.52, 20.76, 31.71, 10.59, 10.63, 50.81,\n",
       "        15.81,  7.25, 31.85, 16.82, 32.9 , 17.89, 14.48,  9.6 , 34.63,\n",
       "        34.65, 23.33, 45.35, 23.17, 40.55, 20.69, 20.9 , 30.46, 18.15,\n",
       "        23.1 , 15.69, 19.81, 28.44, 15.48, 16.58,  7.56, 10.34, 43.11,\n",
       "        13.  , 13.51, 18.71, 12.74, 13.  , 16.4 , 20.53, 16.47, 26.59,\n",
       "        38.73, 24.27, 12.76, 30.06, 25.89, 48.33, 13.27, 28.17, 12.9 ,\n",
       "        28.15, 11.59,  7.74, 30.14, 12.16, 13.42,  8.58, 15.98, 13.42,\n",
       "        16.27, 10.09, 20.45, 13.28, 22.12, 24.01, 15.69, 11.61, 10.77,\n",
       "        15.53, 10.07, 12.6 , 32.83, 35.83, 29.03, 27.18, 22.67, 17.82,\n",
       "        18.78],\n",
       "       [ 1.01,  1.66,  3.5 ,  3.31,  3.61,  4.71,  2.  ,  3.12,  1.96,\n",
       "         3.23,  1.71,  5.  ,  1.57,  3.  ,  3.02,  3.92,  1.67,  3.71,\n",
       "         3.5 ,  3.35,  4.08,  2.75,  2.23,  7.58,  3.18,  2.34,  2.  ,\n",
       "         2.  ,  4.3 ,  3.  ,  1.45,  2.5 ,  3.  ,  2.45,  3.27,  3.6 ,\n",
       "         2.  ,  3.07,  2.31,  5.  ,  2.24,  2.54,  3.06,  1.32,  5.6 ,\n",
       "         3.  ,  5.  ,  6.  ,  2.05,  3.  ,  2.5 ,  2.6 ,  5.2 ,  1.56,\n",
       "         4.34,  3.51,  3.  ,  1.5 ,  1.76,  6.73,  3.21,  2.  ,  1.98,\n",
       "         3.76,  2.64,  3.15,  2.47,  1.  ,  2.01,  2.09,  1.97,  3.  ,\n",
       "         3.14,  5.  ,  2.2 ,  1.25,  3.08,  4.  ,  3.  ,  2.71,  3.  ,\n",
       "         3.4 ,  1.83,  5.  ,  2.03,  5.17,  2.  ,  4.  ,  5.85,  3.  ,\n",
       "         3.  ,  3.5 ,  1.  ,  4.3 ,  3.25,  4.73,  4.  ,  1.5 ,  3.  ,\n",
       "         1.5 ,  2.5 ,  3.  ,  2.5 ,  3.48,  4.08,  1.64,  4.06,  4.29,\n",
       "         3.76,  4.  ,  3.  ,  1.  ,  4.  ,  2.55,  4.  ,  3.5 ,  5.07,\n",
       "         1.5 ,  1.8 ,  2.92,  2.31,  1.68,  2.5 ,  2.  ,  2.52,  4.2 ,\n",
       "         1.48,  2.  ,  2.  ,  2.18,  1.5 ,  2.83,  1.5 ,  2.  ,  3.25,\n",
       "         1.25,  2.  ,  2.  ,  2.  ,  2.75,  3.5 ,  6.7 ,  5.  ,  5.  ,\n",
       "         2.3 ,  1.5 ,  1.36,  1.63,  1.73,  2.  ,  2.5 ,  2.  ,  2.74,\n",
       "         2.  ,  2.  ,  5.14,  5.  ,  3.75,  2.61,  2.  ,  3.5 ,  2.5 ,\n",
       "         2.  ,  2.  ,  3.  ,  3.48,  2.24,  4.5 ,  1.61,  2.  , 10.  ,\n",
       "         3.16,  5.15,  3.18,  4.  ,  3.11,  2.  ,  2.  ,  4.  ,  3.55,\n",
       "         3.68,  5.65,  3.5 ,  6.5 ,  3.  ,  5.  ,  3.5 ,  2.  ,  3.5 ,\n",
       "         4.  ,  1.5 ,  4.19,  2.56,  2.02,  4.  ,  1.44,  2.  ,  5.  ,\n",
       "         2.  ,  2.  ,  4.  ,  2.01,  2.  ,  2.5 ,  4.  ,  3.23,  3.41,\n",
       "         3.  ,  2.03,  2.23,  2.  ,  5.16,  9.  ,  2.5 ,  6.5 ,  1.1 ,\n",
       "         3.  ,  1.5 ,  1.44,  3.09,  2.2 ,  3.48,  1.92,  3.  ,  1.58,\n",
       "         2.5 ,  2.  ,  3.  ,  2.72,  2.88,  2.  ,  3.  ,  3.39,  1.47,\n",
       "         3.  ,  1.25,  1.  ,  1.17,  4.67,  5.92,  2.  ,  2.  ,  1.75,\n",
       "         3.  ],\n",
       "       [ 2.  ,  3.  ,  3.  ,  2.  ,  4.  ,  4.  ,  2.  ,  4.  ,  2.  ,\n",
       "         2.  ,  2.  ,  4.  ,  2.  ,  4.  ,  2.  ,  2.  ,  3.  ,  3.  ,\n",
       "         3.  ,  3.  ,  2.  ,  2.  ,  2.  ,  4.  ,  2.  ,  4.  ,  2.  ,\n",
       "         2.  ,  2.  ,  2.  ,  2.  ,  4.  ,  2.  ,  4.  ,  2.  ,  3.  ,\n",
       "         3.  ,  3.  ,  3.  ,  3.  ,  3.  ,  2.  ,  2.  ,  2.  ,  4.  ,\n",
       "         2.  ,  2.  ,  4.  ,  3.  ,  2.  ,  2.  ,  2.  ,  4.  ,  2.  ,\n",
       "         4.  ,  2.  ,  4.  ,  2.  ,  2.  ,  4.  ,  2.  ,  2.  ,  2.  ,\n",
       "         4.  ,  3.  ,  3.  ,  2.  ,  1.  ,  2.  ,  2.  ,  2.  ,  3.  ,\n",
       "         2.  ,  2.  ,  2.  ,  2.  ,  2.  ,  4.  ,  2.  ,  2.  ,  2.  ,\n",
       "         2.  ,  1.  ,  2.  ,  2.  ,  4.  ,  2.  ,  2.  ,  2.  ,  2.  ,\n",
       "         2.  ,  2.  ,  2.  ,  2.  ,  2.  ,  4.  ,  2.  ,  2.  ,  2.  ,\n",
       "         2.  ,  2.  ,  2.  ,  3.  ,  2.  ,  2.  ,  2.  ,  2.  ,  2.  ,\n",
       "         2.  ,  2.  ,  2.  ,  1.  ,  3.  ,  2.  ,  3.  ,  2.  ,  4.  ,\n",
       "         2.  ,  2.  ,  4.  ,  2.  ,  2.  ,  2.  ,  2.  ,  2.  ,  6.  ,\n",
       "         2.  ,  2.  ,  2.  ,  3.  ,  2.  ,  2.  ,  2.  ,  2.  ,  2.  ,\n",
       "         2.  ,  2.  ,  2.  ,  2.  ,  2.  ,  2.  ,  6.  ,  5.  ,  6.  ,\n",
       "         2.  ,  2.  ,  3.  ,  2.  ,  2.  ,  2.  ,  2.  ,  2.  ,  3.  ,\n",
       "         4.  ,  4.  ,  5.  ,  6.  ,  4.  ,  2.  ,  4.  ,  4.  ,  2.  ,\n",
       "         3.  ,  2.  ,  2.  ,  3.  ,  2.  ,  4.  ,  2.  ,  2.  ,  3.  ,\n",
       "         2.  ,  2.  ,  2.  ,  2.  ,  2.  ,  2.  ,  2.  ,  2.  ,  2.  ,\n",
       "         4.  ,  2.  ,  3.  ,  4.  ,  2.  ,  5.  ,  3.  ,  5.  ,  3.  ,\n",
       "         3.  ,  2.  ,  2.  ,  2.  ,  2.  ,  2.  ,  2.  ,  2.  ,  4.  ,\n",
       "         2.  ,  2.  ,  3.  ,  2.  ,  2.  ,  2.  ,  4.  ,  3.  ,  3.  ,\n",
       "         4.  ,  2.  ,  2.  ,  3.  ,  4.  ,  4.  ,  2.  ,  3.  ,  2.  ,\n",
       "         5.  ,  2.  ,  2.  ,  4.  ,  2.  ,  2.  ,  1.  ,  3.  ,  2.  ,\n",
       "         2.  ,  2.  ,  4.  ,  2.  ,  2.  ,  4.  ,  3.  ,  2.  ,  2.  ,\n",
       "         2.  ,  2.  ,  2.  ,  2.  ,  3.  ,  3.  ,  2.  ,  2.  ,  2.  ,\n",
       "         2.  ]])"
      ]
     },
     "execution_count": 111,
     "metadata": {},
     "output_type": "execute_result"
    }
   ],
   "source": [
    "# 3つ以上の変数を扱う場合はstackで結合する。\n",
    "# Seriesを3行に並べるならば、axis=0。Seriesは1次元配列。\n",
    "x = np.stack([df['total_bill'],df['tip'], df['size']], axis=0)\n",
    "x"
   ]
  },
  {
   "cell_type": "code",
   "execution_count": 113,
   "id": "2d0e282d-991c-4fcf-957b-2f26a846aad4",
   "metadata": {},
   "outputs": [
    {
     "data": {
      "text/plain": [
       "(3, 244)"
      ]
     },
     "execution_count": 113,
     "metadata": {},
     "output_type": "execute_result"
    }
   ],
   "source": [
    "x.shape"
   ]
  },
  {
   "cell_type": "code",
   "execution_count": 114,
   "id": "f7a39d7f-2689-40b2-a3a4-d569ba0c375c",
   "metadata": {},
   "outputs": [
    {
     "data": {
      "text/plain": [
       "array([[78.92813149,  8.28938892,  5.04522121],\n",
       "       [ 8.28938892,  1.90660851,  0.64126747],\n",
       "       [ 5.04522121,  0.64126747,  0.9008835 ]])"
      ]
     },
     "execution_count": 114,
     "metadata": {},
     "output_type": "execute_result"
    }
   ],
   "source": [
    "# 3つの変数なので、３×３になる。\n",
    "np.cov(x, bias=True)"
   ]
  },
  {
   "cell_type": "code",
   "execution_count": 115,
   "id": "de653ec6-3f4c-4a56-b53f-e7621002b2dd",
   "metadata": {},
   "outputs": [
    {
     "data": {
      "text/html": [
       "<div>\n",
       "<style scoped>\n",
       "    .dataframe tbody tr th:only-of-type {\n",
       "        vertical-align: middle;\n",
       "    }\n",
       "\n",
       "    .dataframe tbody tr th {\n",
       "        vertical-align: top;\n",
       "    }\n",
       "\n",
       "    .dataframe thead th {\n",
       "        text-align: right;\n",
       "    }\n",
       "</style>\n",
       "<table border=\"1\" class=\"dataframe\">\n",
       "  <thead>\n",
       "    <tr style=\"text-align: right;\">\n",
       "      <th></th>\n",
       "      <th>total_bill</th>\n",
       "      <th>tip</th>\n",
       "      <th>size</th>\n",
       "      <th>tip_rate</th>\n",
       "    </tr>\n",
       "  </thead>\n",
       "  <tbody>\n",
       "    <tr>\n",
       "      <th>total_bill</th>\n",
       "      <td>79.252939</td>\n",
       "      <td>8.323502</td>\n",
       "      <td>5.065983</td>\n",
       "      <td>-0.184107</td>\n",
       "    </tr>\n",
       "    <tr>\n",
       "      <th>tip</th>\n",
       "      <td>8.323502</td>\n",
       "      <td>1.914455</td>\n",
       "      <td>0.643906</td>\n",
       "      <td>0.028931</td>\n",
       "    </tr>\n",
       "    <tr>\n",
       "      <th>size</th>\n",
       "      <td>5.065983</td>\n",
       "      <td>0.643906</td>\n",
       "      <td>0.904591</td>\n",
       "      <td>-0.008298</td>\n",
       "    </tr>\n",
       "    <tr>\n",
       "      <th>tip_rate</th>\n",
       "      <td>-0.184107</td>\n",
       "      <td>0.028931</td>\n",
       "      <td>-0.008298</td>\n",
       "      <td>0.003730</td>\n",
       "    </tr>\n",
       "  </tbody>\n",
       "</table>\n",
       "</div>"
      ],
      "text/plain": [
       "            total_bill       tip      size  tip_rate\n",
       "total_bill   79.252939  8.323502  5.065983 -0.184107\n",
       "tip           8.323502  1.914455  0.643906  0.028931\n",
       "size          5.065983  0.643906  0.904591 -0.008298\n",
       "tip_rate     -0.184107  0.028931 -0.008298  0.003730"
      ]
     },
     "execution_count": 115,
     "metadata": {},
     "output_type": "execute_result"
    }
   ],
   "source": [
    "# dfの不偏共分散行列を求める。\n",
    "df.cov()"
   ]
  },
  {
   "cell_type": "markdown",
   "id": "0ccfbc20-a587-4f6f-8569-b8245146a694",
   "metadata": {},
   "source": [
    "## ○相関係数"
   ]
  },
  {
   "cell_type": "code",
   "execution_count": 117,
   "id": "c7e01720-191e-478d-a5df-ca16845a9734",
   "metadata": {},
   "outputs": [
    {
     "data": {
      "text/plain": [
       "array([[1.        , 0.67573411],\n",
       "       [0.67573411, 1.        ]])"
      ]
     },
     "execution_count": 117,
     "metadata": {},
     "output_type": "execute_result"
    }
   ],
   "source": [
    "# 相関行列を算出\n",
    "np.corrcoef(df['total_bill'],df['tip'])"
   ]
  },
  {
   "cell_type": "code",
   "execution_count": 118,
   "id": "31c7709c-e8bb-482d-99dc-aa97a0a77cd7",
   "metadata": {},
   "outputs": [
    {
     "data": {
      "text/plain": [
       "array([[1.        , 0.67573411, 0.59831513],\n",
       "       [0.67573411, 1.        , 0.48929878],\n",
       "       [0.59831513, 0.48929878, 1.        ]])"
      ]
     },
     "execution_count": 118,
     "metadata": {},
     "output_type": "execute_result"
    }
   ],
   "source": [
    "# 3つ以上の変数の場合は共分散と同様にstackしてから入れる\n",
    "x = np.stack([df['total_bill'],df['tip'], df['size']], axis=0)\n",
    "np.corrcoef(x)"
   ]
  },
  {
   "cell_type": "markdown",
   "id": "a971cdb7-a053-400a-bccd-16bc0b911a1c",
   "metadata": {},
   "source": [
    "共分散では各2変数間の比較ができなかったが、相関係数は標準化されているため、比較可能。  \n",
    "上記では、total_billとtipの相関が他の2変数との相関に比べて高いことがわかる。  \n",
    "また、全て正なので正の相関があることが分かる。"
   ]
  },
  {
   "cell_type": "code",
   "execution_count": 119,
   "id": "ece42569-2858-401c-8cde-3f0fb12a0654",
   "metadata": {},
   "outputs": [
    {
     "data": {
      "text/html": [
       "<div>\n",
       "<style scoped>\n",
       "    .dataframe tbody tr th:only-of-type {\n",
       "        vertical-align: middle;\n",
       "    }\n",
       "\n",
       "    .dataframe tbody tr th {\n",
       "        vertical-align: top;\n",
       "    }\n",
       "\n",
       "    .dataframe thead th {\n",
       "        text-align: right;\n",
       "    }\n",
       "</style>\n",
       "<table border=\"1\" class=\"dataframe\">\n",
       "  <thead>\n",
       "    <tr style=\"text-align: right;\">\n",
       "      <th></th>\n",
       "      <th>total_bill</th>\n",
       "      <th>tip</th>\n",
       "      <th>size</th>\n",
       "      <th>tip_rate</th>\n",
       "    </tr>\n",
       "  </thead>\n",
       "  <tbody>\n",
       "    <tr>\n",
       "      <th>total_bill</th>\n",
       "      <td>1.000000</td>\n",
       "      <td>0.675734</td>\n",
       "      <td>0.598315</td>\n",
       "      <td>-0.338624</td>\n",
       "    </tr>\n",
       "    <tr>\n",
       "      <th>tip</th>\n",
       "      <td>0.675734</td>\n",
       "      <td>1.000000</td>\n",
       "      <td>0.489299</td>\n",
       "      <td>0.342370</td>\n",
       "    </tr>\n",
       "    <tr>\n",
       "      <th>size</th>\n",
       "      <td>0.598315</td>\n",
       "      <td>0.489299</td>\n",
       "      <td>1.000000</td>\n",
       "      <td>-0.142860</td>\n",
       "    </tr>\n",
       "    <tr>\n",
       "      <th>tip_rate</th>\n",
       "      <td>-0.338624</td>\n",
       "      <td>0.342370</td>\n",
       "      <td>-0.142860</td>\n",
       "      <td>1.000000</td>\n",
       "    </tr>\n",
       "  </tbody>\n",
       "</table>\n",
       "</div>"
      ],
      "text/plain": [
       "            total_bill       tip      size  tip_rate\n",
       "total_bill    1.000000  0.675734  0.598315 -0.338624\n",
       "tip           0.675734  1.000000  0.489299  0.342370\n",
       "size          0.598315  0.489299  1.000000 -0.142860\n",
       "tip_rate     -0.338624  0.342370 -0.142860  1.000000"
      ]
     },
     "execution_count": 119,
     "metadata": {},
     "output_type": "execute_result"
    }
   ],
   "source": [
    "# dfの各カラムに対して相関係数を表示\n",
    "df.corr()"
   ]
  },
  {
   "cell_type": "markdown",
   "id": "62a3ac11-1ba8-4077-88c5-771e402a136c",
   "metadata": {},
   "source": [
    "total_billとtip_rateは負の相関になっている。  \n",
    "これはお会計が高くなるほど、tipとして支払う金額の割合が小さくなることを示している。"
   ]
  },
  {
   "cell_type": "code",
   "execution_count": 123,
   "id": "c93022b6-853a-4892-b4c5-6b1f8ba42591",
   "metadata": {},
   "outputs": [
    {
     "data": {
      "text/plain": [
       "<AxesSubplot:>"
      ]
     },
     "execution_count": 123,
     "metadata": {},
     "output_type": "execute_result"
    },
    {
     "data": {
      "image/png": "[encoded data removed]",
      "text/plain": [
       "<Figure size 432x288 with 2 Axes>"
      ]
     },
     "metadata": {
      "needs_background": "light"
     },
     "output_type": "display_data"
    }
   ],
   "source": [
    "# heatmapで表示\n",
    "sns.heatmap(df.corr(), cmap='coolwarm', annot=True)"
   ]
  },
  {
   "cell_type": "markdown",
   "id": "2eaf64ab-1374-4a93-98be-866f00d9d7f7",
   "metadata": {},
   "source": [
    "## ○連関"
   ]
  },
  {
   "cell_type": "code",
   "execution_count": 128,
   "id": "3835d79a-93f1-42ec-974c-23566b088b1c",
   "metadata": {},
   "outputs": [
    {
     "data": {
      "text/html": [
       "<div>\n",
       "<style scoped>\n",
       "    .dataframe tbody tr th:only-of-type {\n",
       "        vertical-align: middle;\n",
       "    }\n",
       "\n",
       "    .dataframe tbody tr th {\n",
       "        vertical-align: top;\n",
       "    }\n",
       "\n",
       "    .dataframe thead th {\n",
       "        text-align: right;\n",
       "    }\n",
       "</style>\n",
       "<table border=\"1\" class=\"dataframe\">\n",
       "  <thead>\n",
       "    <tr style=\"text-align: right;\">\n",
       "      <th>time</th>\n",
       "      <th>Lunch</th>\n",
       "      <th>Dinner</th>\n",
       "    </tr>\n",
       "    <tr>\n",
       "      <th>sex</th>\n",
       "      <th></th>\n",
       "      <th></th>\n",
       "    </tr>\n",
       "  </thead>\n",
       "  <tbody>\n",
       "    <tr>\n",
       "      <th>Male</th>\n",
       "      <td>33</td>\n",
       "      <td>124</td>\n",
       "    </tr>\n",
       "    <tr>\n",
       "      <th>Female</th>\n",
       "      <td>35</td>\n",
       "      <td>52</td>\n",
       "    </tr>\n",
       "  </tbody>\n",
       "</table>\n",
       "</div>"
      ],
      "text/plain": [
       "time    Lunch  Dinner\n",
       "sex                  \n",
       "Male       33     124\n",
       "Female     35      52"
      ]
     },
     "execution_count": 128,
     "metadata": {},
     "output_type": "execute_result"
    }
   ],
   "source": [
    "# pd.crosstab:2つのカテゴリ変数を渡し、クロス表（分割表）をDataFrameで返す\n",
    "# 第１引数はインデックス、第２引数はカラムになる\n",
    "pd.crosstab(df['sex'], df['time'])"
   ]
  },
  {
   "cell_type": "code",
   "execution_count": 130,
   "id": "2fdc7d4d-e101-40b2-a221-05f7834ab06a",
   "metadata": {},
   "outputs": [
    {
     "data": {
      "text/plain": [
       "(10.277251918677742,\n",
       " 0.0013468039268008766,\n",
       " 1,\n",
       " array([[ 43.75409836, 113.24590164],\n",
       "        [ 24.24590164,  62.75409836]]))"
      ]
     },
     "execution_count": 130,
     "metadata": {},
     "output_type": "execute_result"
    }
   ],
   "source": [
    "# カイ二乗値と期待度数を求める。\n",
    "cont_table = pd.crosstab(df['sex'], df['time'])\n",
    "stats.chi2_contingency(cont_table, correction=False)"
   ]
  },
  {
   "cell_type": "markdown",
   "id": "32bd01e9-525d-4eab-8f27-15b1623d52a5",
   "metadata": {},
   "source": [
    "第１戻り値がカイ二乗値、第４引数が期待度数の分割表になる。correction,第２，３引数については後述。"
   ]
  },
  {
   "cell_type": "markdown",
   "id": "6896933c-e65b-4fa5-b5f2-8d5786dd3431",
   "metadata": {},
   "source": [
    "## ○クラメールの連関係数\n",
    "主要なライブラリにはないので、自分で作る。"
   ]
  },
  {
   "cell_type": "code",
   "execution_count": 153,
   "id": "fdeb2ef9-904e-4830-ac57-33e897d54bb1",
   "metadata": {},
   "outputs": [
    {
     "data": {
      "text/plain": [
       "(2, 2)"
      ]
     },
     "execution_count": 153,
     "metadata": {},
     "output_type": "execute_result"
    }
   ],
   "source": [
    "# 事前確認\n",
    "# df.shapeで行数、列数がタプルで返される　\n",
    "cont_table.shape"
   ]
  },
  {
   "cell_type": "code",
   "execution_count": 156,
   "id": "7c138b7a-8fc5-4dea-8319-f0592b37dfdf",
   "metadata": {},
   "outputs": [
    {
     "data": {
      "text/plain": [
       "2"
      ]
     },
     "execution_count": 156,
     "metadata": {},
     "output_type": "execute_result"
    }
   ],
   "source": [
    "# minまたはnp.minで小さい方が返される。\n",
    "min(cont_table.shape)"
   ]
  },
  {
   "cell_type": "code",
   "execution_count": 157,
   "id": "4c768875-28b4-4ce3-a773-77149feb2938",
   "metadata": {},
   "outputs": [
    {
     "data": {
      "text/plain": [
       "0.20523129613344476"
      ]
     },
     "execution_count": 157,
     "metadata": {},
     "output_type": "execute_result"
    }
   ],
   "source": [
    "# クラメールの連関係数を算出\n",
    "cramers_v(df['sex'], df['time'])"
   ]
  },
  {
   "cell_type": "markdown",
   "id": "66f29ea3-bbb0-4e94-b186-ecff87a5c5cf",
   "metadata": {},
   "source": [
    "## ○確率分布\n",
    "scipyのstatsモジュールには様々な確率分布が含まれている。"
   ]
  },
  {
   "cell_type": "code",
   "execution_count": 169,
   "id": "0056be0a-2c70-4637-b6df-ce043c27bf4d",
   "metadata": {},
   "outputs": [
    {
     "data": {
      "text/plain": [
       "4"
      ]
     },
     "execution_count": 169,
     "metadata": {},
     "output_type": "execute_result"
    }
   ],
   "source": [
    "# 一様分布（整数）からランダムなデータを生成。とびとびの値をとる（離散型）\n",
    "# rvs: random variatesの略。確率変量（確率変数の実際の値。サイコロの目。１とか）\n",
    "# 1-6のランダムな整数を生成する。ちょうどサイコロと同じ。(1,7)はrandintでもrvsどっちに入れてもよい。\n",
    "stats.randint(1, 7).rvs()"
   ]
  },
  {
   "cell_type": "code",
   "execution_count": 167,
   "id": "089c08b7-9f22-4ac5-bd52-e5299c645a55",
   "metadata": {},
   "outputs": [
    {
     "data": {
      "text/plain": [
       "3.5"
      ]
     },
     "execution_count": 167,
     "metadata": {},
     "output_type": "execute_result"
    }
   ],
   "source": [
    "# 1-6が出る期待値を算出\n",
    "stats.randint(1, 7).mean()"
   ]
  },
  {
   "cell_type": "code",
   "execution_count": 170,
   "id": "2ed8527c-de86-418d-a734-e42a27f6ac82",
   "metadata": {},
   "outputs": [
    {
     "data": {
      "text/plain": [
       "0.25048700415745195"
      ]
     },
     "execution_count": 170,
     "metadata": {},
     "output_type": "execute_result"
    }
   ],
   "source": [
    "# 一様分布（実数の範囲で）からランダムなデータを生成。（連続型）\n",
    "stats.uniform.rvs(0, 1)"
   ]
  },
  {
   "cell_type": "markdown",
   "id": "a7c3d324-46bc-491b-8136-4c6076d18477",
   "metadata": {},
   "source": [
    "## ○確率分布の描画"
   ]
  },
  {
   "cell_type": "code",
   "execution_count": 174,
   "id": "e888ca6e-18ba-48d6-8b17-a56031b9c6dd",
   "metadata": {},
   "outputs": [
    {
     "data": {
      "text/plain": [
       "[<matplotlib.lines.Line2D at 0x7fecb65c8280>]"
      ]
     },
     "execution_count": 174,
     "metadata": {},
     "output_type": "execute_result"
    },
    {
     "data": {
      "image/png": "[encoded data removed]",
      "text/plain": [
       "<Figure size 432x288 with 1 Axes>"
      ]
     },
     "metadata": {
      "needs_background": "light"
     },
     "output_type": "display_data"
    }
   ],
   "source": [
    "# おさらい：普通の関数の描画\n",
    "\n",
    "# xの目盛を用意\n",
    "x = np.linspace(-3, 3, 100)\n",
    "\n",
    "# 関数を定義\n",
    "y = lambda x: x**2 + 3\n",
    "\n",
    "# 描画\n",
    "plt.plot(x, y(x))"
   ]
  },
  {
   "cell_type": "code",
   "execution_count": 185,
   "id": "ec1c06ab-3b0f-4c96-9733-cc9900c718d9",
   "metadata": {},
   "outputs": [
    {
     "data": {
      "text/plain": [
       "0.16666666666666666"
      ]
     },
     "execution_count": 185,
     "metadata": {},
     "output_type": "execute_result"
    }
   ],
   "source": [
    "# 離散型の一様分布に対し、pmf(1)で1が出る確率を求める。確率変数に1を入れて、そのとき確率を算出している。\n",
    "# .pmfはrandintで定義した確率分布の関数にアクセスするイメージ\n",
    "stats.randint(1, 7).pmf(1)"
   ]
  },
  {
   "cell_type": "code",
   "execution_count": 181,
   "id": "21f0c61c-846f-47ff-823a-efa773a0b1e9",
   "metadata": {},
   "outputs": [
    {
     "data": {
      "text/plain": [
       "[<matplotlib.lines.Line2D at 0x7fecb656c8b0>]"
      ]
     },
     "execution_count": 181,
     "metadata": {},
     "output_type": "execute_result"
    },
    {
     "data": {
      "image/png": "[encoded data removed]",
      "text/plain": [
       "<Figure size 432x288 with 1 Axes>"
      ]
     },
     "metadata": {
      "needs_background": "light"
     },
     "output_type": "display_data"
    }
   ],
   "source": [
    "# 離散型の場合はnp.arangeでxを用意\n",
    "x = np.arange(1, 7)\n",
    "\n",
    "# 縦軸を定義\n",
    "y = stats.randint(1, 7).pmf(x)\n",
    "\n",
    "plt.plot(x, y)"
   ]
  },
  {
   "cell_type": "code",
   "execution_count": 184,
   "id": "7f28474b-1dc5-4c75-a7c1-61bea36ecead",
   "metadata": {},
   "outputs": [
    {
     "data": {
      "text/plain": [
       "<matplotlib.collections.LineCollection at 0x7fecb6401a60>"
      ]
     },
     "execution_count": 184,
     "metadata": {},
     "output_type": "execute_result"
    },
    {
     "data": {
      "image/png": "[encoded data removed]",
      "text/plain": [
       "<Figure size 432x288 with 1 Axes>"
      ]
     },
     "metadata": {
      "needs_background": "light"
     },
     "output_type": "display_data"
    }
   ],
   "source": [
    "# 上記だと連続的に見えてしまうので、'o'を指定して離散的に表示する。\n",
    "plt.plot(x, y, 'o')\n",
    "\n",
    "# 縦線を描画\n",
    "plt.vlines(x, 0, y)"
   ]
  },
  {
   "cell_type": "code",
   "execution_count": 186,
   "id": "7b8a8aea-4893-437a-8a25-d8cafaa4af9e",
   "metadata": {},
   "outputs": [
    {
     "data": {
      "text/plain": [
       "[<matplotlib.lines.Line2D at 0x7fecb63e6310>]"
      ]
     },
     "execution_count": 186,
     "metadata": {},
     "output_type": "execute_result"
    },
    {
     "data": {
      "image/png": "[encoded data removed]",
      "text/plain": [
       "<Figure size 432x288 with 1 Axes>"
      ]
     },
     "metadata": {
      "needs_background": "light"
     },
     "output_type": "display_data"
    }
   ],
   "source": [
    "# 連続型の確率分布を描画\n",
    "x = np.linspace(-2, 2, 100)\n",
    "\n",
    "# 0-1の範囲で連続的な値を返す確率分布を定義し、pdfで関数に値を入れる。\n",
    "y = stats.uniform(loc=0, scale=1).pdf(x)\n",
    "plt.plot(x, y)"
   ]
  },
  {
   "cell_type": "markdown",
   "id": "cd2b4fd4-b9d0-474c-8a5a-475244ed0b9d",
   "metadata": {},
   "source": [
    "0-1で一様分布を定義したので、これ以外の範囲の値をとることはない（確率ゼロ）。  \n",
    "なぜ値をとるとき確率が1.0といえるのかは後述。"
   ]
  },
  {
   "cell_type": "code",
   "execution_count": null,
   "id": "5e6b0425-ece4-49bf-981d-03351e0d682b",
   "metadata": {},
   "outputs": [],
   "source": []
  }
 ],
 "metadata": {
  "kernelspec": {
   "display_name": "Python 3",
   "language": "python",
   "name": "python3"
  },
  "language_info": {
   "codemirror_mode": {
    "name": "ipython",
    "version": 3
   },
   "file_extension": ".py",
   "mimetype": "text/x-python",
   "name": "python",
   "nbconvert_exporter": "python",
   "pygments_lexer": "ipython3",
   "version": "3.8.8"
  }
 },
 "nbformat": 4,
 "nbformat_minor": 5
}
